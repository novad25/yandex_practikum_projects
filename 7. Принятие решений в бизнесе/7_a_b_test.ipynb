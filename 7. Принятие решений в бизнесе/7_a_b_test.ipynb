{
 "cells": [
  {
   "cell_type": "markdown",
   "metadata": {},
   "source": [
    "# Проект на тему: \"Принятие решений в бизнесе\""
   ]
  },
  {
   "cell_type": "markdown",
   "metadata": {},
   "source": [
    "# Описание проекта"
   ]
  },
  {
   "cell_type": "markdown",
   "metadata": {},
   "source": [
    "Вместе с отделом маркетинга крупного интернет-магазина, проведена подготовка списка гипотез для увеличения выручки.  \n",
    "\n",
    "Требуется провести приоритизацию гипотезы, провести A/B-тест и проанализиовать результаты."
   ]
  },
  {
   "cell_type": "markdown",
   "metadata": {},
   "source": [
    "# Описание данных"
   ]
  },
  {
   "cell_type": "markdown",
   "metadata": {},
   "source": [
    "Данные для первой части:  \n",
    "Файл /datasets/hypothesis.csv  \n",
    "Hypothesis — краткое описание гипотезы;  \n",
    "Reach — охват пользователей по 10-балльной шкале;  \n",
    "Impact — влияние на пользователей по 10-балльной шкале;  \n",
    "Confidence — уверенность в гипотезе по 10-балльной шкале;  \n",
    "Efforts — затраты ресурсов на проверку гипотезы по 10-балльной шкале. Чем больше значение Efforts, тем дороже проверка гипотезы.  \n",
    "\n",
    "Данные для второй части:    \n",
    "Файл /datasets/orders.csv.    \n",
    "transactionId — идентификатор заказа;  \n",
    "visitorId — идентификатор пользователя, совершившего заказ;  \n",
    "date — дата, когда был совершён заказ;  \n",
    "revenue — выручка заказа;  \n",
    "group — группа A/B-теста, в которую попал заказ.  \n",
    "\n",
    "Файл /datasets/visitors.csv.\n",
    "date — дата;  \n",
    "group — группа A/B-теста;  \n",
    "visitors — количество пользователей в указанную дату в указанной группе A/B-теста "
   ]
  },
  {
   "cell_type": "markdown",
   "metadata": {},
   "source": [
    "# Подготовка данных"
   ]
  },
  {
   "cell_type": "code",
   "execution_count": 1,
   "metadata": {},
   "outputs": [],
   "source": [
    "import pandas as pd\n",
    "import matplotlib.pyplot as plt\n",
    "import numpy as np\n",
    "import datetime as dt\n",
    "import scipy.stats as stats"
   ]
  },
  {
   "cell_type": "markdown",
   "metadata": {},
   "source": [
    "Загрузим исходные данные:"
   ]
  },
  {
   "cell_type": "markdown",
   "metadata": {},
   "source": [
    "В файле /datasets/hypothesis.csv 9 гипотез по увеличению выручки интернет-магазина"
   ]
  },
  {
   "cell_type": "code",
   "execution_count": 2,
   "metadata": {},
   "outputs": [],
   "source": [
    "hypothesis = pd.read_csv('/datasets/hypothesis.csv')"
   ]
  },
  {
   "cell_type": "code",
   "execution_count": 3,
   "metadata": {},
   "outputs": [
    {
     "data": {
      "text/html": [
       "<div>\n",
       "<style scoped>\n",
       "    .dataframe tbody tr th:only-of-type {\n",
       "        vertical-align: middle;\n",
       "    }\n",
       "\n",
       "    .dataframe tbody tr th {\n",
       "        vertical-align: top;\n",
       "    }\n",
       "\n",
       "    .dataframe thead th {\n",
       "        text-align: right;\n",
       "    }\n",
       "</style>\n",
       "<table border=\"1\" class=\"dataframe\">\n",
       "  <thead>\n",
       "    <tr style=\"text-align: right;\">\n",
       "      <th></th>\n",
       "      <th>Hypothesis</th>\n",
       "      <th>Reach</th>\n",
       "      <th>Impact</th>\n",
       "      <th>Confidence</th>\n",
       "      <th>Efforts</th>\n",
       "    </tr>\n",
       "  </thead>\n",
       "  <tbody>\n",
       "    <tr>\n",
       "      <th>0</th>\n",
       "      <td>Добавить два новых канала привлечения трафика,...</td>\n",
       "      <td>3</td>\n",
       "      <td>10</td>\n",
       "      <td>8</td>\n",
       "      <td>6</td>\n",
       "    </tr>\n",
       "    <tr>\n",
       "      <th>1</th>\n",
       "      <td>Запустить собственную службу доставки, что сок...</td>\n",
       "      <td>2</td>\n",
       "      <td>5</td>\n",
       "      <td>4</td>\n",
       "      <td>10</td>\n",
       "    </tr>\n",
       "    <tr>\n",
       "      <th>2</th>\n",
       "      <td>Добавить блоки рекомендаций товаров на сайт ин...</td>\n",
       "      <td>8</td>\n",
       "      <td>3</td>\n",
       "      <td>7</td>\n",
       "      <td>3</td>\n",
       "    </tr>\n",
       "    <tr>\n",
       "      <th>3</th>\n",
       "      <td>Изменить структура категорий, что увеличит кон...</td>\n",
       "      <td>8</td>\n",
       "      <td>3</td>\n",
       "      <td>3</td>\n",
       "      <td>8</td>\n",
       "    </tr>\n",
       "    <tr>\n",
       "      <th>4</th>\n",
       "      <td>Изменить цвет фона главной страницы, чтобы уве...</td>\n",
       "      <td>3</td>\n",
       "      <td>1</td>\n",
       "      <td>1</td>\n",
       "      <td>1</td>\n",
       "    </tr>\n",
       "  </tbody>\n",
       "</table>\n",
       "</div>"
      ],
      "text/plain": [
       "                                          Hypothesis  Reach  Impact  \\\n",
       "0  Добавить два новых канала привлечения трафика,...      3      10   \n",
       "1  Запустить собственную службу доставки, что сок...      2       5   \n",
       "2  Добавить блоки рекомендаций товаров на сайт ин...      8       3   \n",
       "3  Изменить структура категорий, что увеличит кон...      8       3   \n",
       "4  Изменить цвет фона главной страницы, чтобы уве...      3       1   \n",
       "\n",
       "   Confidence  Efforts  \n",
       "0           8        6  \n",
       "1           4       10  \n",
       "2           7        3  \n",
       "3           3        8  \n",
       "4           1        1  "
      ]
     },
     "execution_count": 3,
     "metadata": {},
     "output_type": "execute_result"
    }
   ],
   "source": [
    "hypothesis.head()"
   ]
  },
  {
   "cell_type": "code",
   "execution_count": 4,
   "metadata": {},
   "outputs": [
    {
     "name": "stdout",
     "output_type": "stream",
     "text": [
      "<class 'pandas.core.frame.DataFrame'>\n",
      "RangeIndex: 9 entries, 0 to 8\n",
      "Data columns (total 5 columns):\n",
      " #   Column      Non-Null Count  Dtype \n",
      "---  ------      --------------  ----- \n",
      " 0   Hypothesis  9 non-null      object\n",
      " 1   Reach       9 non-null      int64 \n",
      " 2   Impact      9 non-null      int64 \n",
      " 3   Confidence  9 non-null      int64 \n",
      " 4   Efforts     9 non-null      int64 \n",
      "dtypes: int64(4), object(1)\n",
      "memory usage: 488.0+ bytes\n"
     ]
    }
   ],
   "source": [
    "hypothesis.info()"
   ]
  },
  {
   "cell_type": "markdown",
   "metadata": {},
   "source": [
    "Переведём название столбцов в нижний регистр."
   ]
  },
  {
   "cell_type": "code",
   "execution_count": 5,
   "metadata": {},
   "outputs": [
    {
     "data": {
      "text/html": [
       "<div>\n",
       "<style scoped>\n",
       "    .dataframe tbody tr th:only-of-type {\n",
       "        vertical-align: middle;\n",
       "    }\n",
       "\n",
       "    .dataframe tbody tr th {\n",
       "        vertical-align: top;\n",
       "    }\n",
       "\n",
       "    .dataframe thead th {\n",
       "        text-align: right;\n",
       "    }\n",
       "</style>\n",
       "<table border=\"1\" class=\"dataframe\">\n",
       "  <thead>\n",
       "    <tr style=\"text-align: right;\">\n",
       "      <th></th>\n",
       "      <th>hypothesis</th>\n",
       "      <th>reach</th>\n",
       "      <th>impact</th>\n",
       "      <th>confidence</th>\n",
       "      <th>efforts</th>\n",
       "    </tr>\n",
       "  </thead>\n",
       "  <tbody>\n",
       "    <tr>\n",
       "      <th>0</th>\n",
       "      <td>Добавить два новых канала привлечения трафика,...</td>\n",
       "      <td>3</td>\n",
       "      <td>10</td>\n",
       "      <td>8</td>\n",
       "      <td>6</td>\n",
       "    </tr>\n",
       "    <tr>\n",
       "      <th>1</th>\n",
       "      <td>Запустить собственную службу доставки, что сок...</td>\n",
       "      <td>2</td>\n",
       "      <td>5</td>\n",
       "      <td>4</td>\n",
       "      <td>10</td>\n",
       "    </tr>\n",
       "    <tr>\n",
       "      <th>2</th>\n",
       "      <td>Добавить блоки рекомендаций товаров на сайт ин...</td>\n",
       "      <td>8</td>\n",
       "      <td>3</td>\n",
       "      <td>7</td>\n",
       "      <td>3</td>\n",
       "    </tr>\n",
       "    <tr>\n",
       "      <th>3</th>\n",
       "      <td>Изменить структура категорий, что увеличит кон...</td>\n",
       "      <td>8</td>\n",
       "      <td>3</td>\n",
       "      <td>3</td>\n",
       "      <td>8</td>\n",
       "    </tr>\n",
       "    <tr>\n",
       "      <th>4</th>\n",
       "      <td>Изменить цвет фона главной страницы, чтобы уве...</td>\n",
       "      <td>3</td>\n",
       "      <td>1</td>\n",
       "      <td>1</td>\n",
       "      <td>1</td>\n",
       "    </tr>\n",
       "    <tr>\n",
       "      <th>5</th>\n",
       "      <td>Добавить страницу отзывов клиентов о магазине,...</td>\n",
       "      <td>3</td>\n",
       "      <td>2</td>\n",
       "      <td>2</td>\n",
       "      <td>3</td>\n",
       "    </tr>\n",
       "    <tr>\n",
       "      <th>6</th>\n",
       "      <td>Показать на главной странице баннеры с актуаль...</td>\n",
       "      <td>5</td>\n",
       "      <td>3</td>\n",
       "      <td>8</td>\n",
       "      <td>3</td>\n",
       "    </tr>\n",
       "    <tr>\n",
       "      <th>7</th>\n",
       "      <td>Добавить форму подписки на все основные страни...</td>\n",
       "      <td>10</td>\n",
       "      <td>7</td>\n",
       "      <td>8</td>\n",
       "      <td>5</td>\n",
       "    </tr>\n",
       "    <tr>\n",
       "      <th>8</th>\n",
       "      <td>Запустить акцию, дающую скидку на товар в день...</td>\n",
       "      <td>1</td>\n",
       "      <td>9</td>\n",
       "      <td>9</td>\n",
       "      <td>5</td>\n",
       "    </tr>\n",
       "  </tbody>\n",
       "</table>\n",
       "</div>"
      ],
      "text/plain": [
       "                                          hypothesis  reach  impact  \\\n",
       "0  Добавить два новых канала привлечения трафика,...      3      10   \n",
       "1  Запустить собственную службу доставки, что сок...      2       5   \n",
       "2  Добавить блоки рекомендаций товаров на сайт ин...      8       3   \n",
       "3  Изменить структура категорий, что увеличит кон...      8       3   \n",
       "4  Изменить цвет фона главной страницы, чтобы уве...      3       1   \n",
       "5  Добавить страницу отзывов клиентов о магазине,...      3       2   \n",
       "6  Показать на главной странице баннеры с актуаль...      5       3   \n",
       "7  Добавить форму подписки на все основные страни...     10       7   \n",
       "8  Запустить акцию, дающую скидку на товар в день...      1       9   \n",
       "\n",
       "   confidence  efforts  \n",
       "0           8        6  \n",
       "1           4       10  \n",
       "2           7        3  \n",
       "3           3        8  \n",
       "4           1        1  \n",
       "5           2        3  \n",
       "6           8        3  \n",
       "7           8        5  \n",
       "8           9        5  "
      ]
     },
     "execution_count": 5,
     "metadata": {},
     "output_type": "execute_result"
    }
   ],
   "source": [
    "hypothesis.columns = hypothesis.columns.str.lower()\n",
    "hypothesis"
   ]
  },
  {
   "cell_type": "markdown",
   "metadata": {},
   "source": [
    "В датефреймах /datasets/orders.csv и /datasets/visitors.csv. результаты A/B-теста."
   ]
  },
  {
   "cell_type": "code",
   "execution_count": 6,
   "metadata": {},
   "outputs": [
    {
     "data": {
      "text/html": [
       "<div>\n",
       "<style scoped>\n",
       "    .dataframe tbody tr th:only-of-type {\n",
       "        vertical-align: middle;\n",
       "    }\n",
       "\n",
       "    .dataframe tbody tr th {\n",
       "        vertical-align: top;\n",
       "    }\n",
       "\n",
       "    .dataframe thead th {\n",
       "        text-align: right;\n",
       "    }\n",
       "</style>\n",
       "<table border=\"1\" class=\"dataframe\">\n",
       "  <thead>\n",
       "    <tr style=\"text-align: right;\">\n",
       "      <th></th>\n",
       "      <th>transactionId</th>\n",
       "      <th>visitorId</th>\n",
       "      <th>date</th>\n",
       "      <th>revenue</th>\n",
       "      <th>group</th>\n",
       "    </tr>\n",
       "  </thead>\n",
       "  <tbody>\n",
       "    <tr>\n",
       "      <th>0</th>\n",
       "      <td>3667963787</td>\n",
       "      <td>3312258926</td>\n",
       "      <td>2019-08-15</td>\n",
       "      <td>1650</td>\n",
       "      <td>B</td>\n",
       "    </tr>\n",
       "    <tr>\n",
       "      <th>1</th>\n",
       "      <td>2804400009</td>\n",
       "      <td>3642806036</td>\n",
       "      <td>2019-08-15</td>\n",
       "      <td>730</td>\n",
       "      <td>B</td>\n",
       "    </tr>\n",
       "    <tr>\n",
       "      <th>2</th>\n",
       "      <td>2961555356</td>\n",
       "      <td>4069496402</td>\n",
       "      <td>2019-08-15</td>\n",
       "      <td>400</td>\n",
       "      <td>A</td>\n",
       "    </tr>\n",
       "    <tr>\n",
       "      <th>3</th>\n",
       "      <td>3797467345</td>\n",
       "      <td>1196621759</td>\n",
       "      <td>2019-08-15</td>\n",
       "      <td>9759</td>\n",
       "      <td>B</td>\n",
       "    </tr>\n",
       "    <tr>\n",
       "      <th>4</th>\n",
       "      <td>2282983706</td>\n",
       "      <td>2322279887</td>\n",
       "      <td>2019-08-15</td>\n",
       "      <td>2308</td>\n",
       "      <td>B</td>\n",
       "    </tr>\n",
       "  </tbody>\n",
       "</table>\n",
       "</div>"
      ],
      "text/plain": [
       "   transactionId   visitorId        date  revenue group\n",
       "0     3667963787  3312258926  2019-08-15     1650     B\n",
       "1     2804400009  3642806036  2019-08-15      730     B\n",
       "2     2961555356  4069496402  2019-08-15      400     A\n",
       "3     3797467345  1196621759  2019-08-15     9759     B\n",
       "4     2282983706  2322279887  2019-08-15     2308     B"
      ]
     },
     "execution_count": 6,
     "metadata": {},
     "output_type": "execute_result"
    }
   ],
   "source": [
    "orders = pd.read_csv('/datasets/orders.csv')\n",
    "orders.head()"
   ]
  },
  {
   "cell_type": "code",
   "execution_count": 7,
   "metadata": {},
   "outputs": [
    {
     "name": "stdout",
     "output_type": "stream",
     "text": [
      "<class 'pandas.core.frame.DataFrame'>\n",
      "RangeIndex: 1197 entries, 0 to 1196\n",
      "Data columns (total 5 columns):\n",
      " #   Column         Non-Null Count  Dtype \n",
      "---  ------         --------------  ----- \n",
      " 0   transactionId  1197 non-null   int64 \n",
      " 1   visitorId      1197 non-null   int64 \n",
      " 2   date           1197 non-null   object\n",
      " 3   revenue        1197 non-null   int64 \n",
      " 4   group          1197 non-null   object\n",
      "dtypes: int64(3), object(2)\n",
      "memory usage: 46.9+ KB\n"
     ]
    }
   ],
   "source": [
    "orders.info()"
   ]
  },
  {
   "cell_type": "code",
   "execution_count": 8,
   "metadata": {},
   "outputs": [
    {
     "data": {
      "text/html": [
       "<div>\n",
       "<style scoped>\n",
       "    .dataframe tbody tr th:only-of-type {\n",
       "        vertical-align: middle;\n",
       "    }\n",
       "\n",
       "    .dataframe tbody tr th {\n",
       "        vertical-align: top;\n",
       "    }\n",
       "\n",
       "    .dataframe thead th {\n",
       "        text-align: right;\n",
       "    }\n",
       "</style>\n",
       "<table border=\"1\" class=\"dataframe\">\n",
       "  <thead>\n",
       "    <tr style=\"text-align: right;\">\n",
       "      <th></th>\n",
       "      <th>transactionId</th>\n",
       "      <th>visitorId</th>\n",
       "      <th>revenue</th>\n",
       "    </tr>\n",
       "  </thead>\n",
       "  <tbody>\n",
       "    <tr>\n",
       "      <th>count</th>\n",
       "      <td>1.197000e+03</td>\n",
       "      <td>1.197000e+03</td>\n",
       "      <td>1.197000e+03</td>\n",
       "    </tr>\n",
       "    <tr>\n",
       "      <th>mean</th>\n",
       "      <td>2.155621e+09</td>\n",
       "      <td>2.165960e+09</td>\n",
       "      <td>8.348006e+03</td>\n",
       "    </tr>\n",
       "    <tr>\n",
       "      <th>std</th>\n",
       "      <td>1.229085e+09</td>\n",
       "      <td>1.236014e+09</td>\n",
       "      <td>3.919113e+04</td>\n",
       "    </tr>\n",
       "    <tr>\n",
       "      <th>min</th>\n",
       "      <td>1.062393e+06</td>\n",
       "      <td>5.114589e+06</td>\n",
       "      <td>5.000000e+01</td>\n",
       "    </tr>\n",
       "    <tr>\n",
       "      <th>25%</th>\n",
       "      <td>1.166776e+09</td>\n",
       "      <td>1.111826e+09</td>\n",
       "      <td>1.220000e+03</td>\n",
       "    </tr>\n",
       "    <tr>\n",
       "      <th>50%</th>\n",
       "      <td>2.145194e+09</td>\n",
       "      <td>2.217985e+09</td>\n",
       "      <td>2.978000e+03</td>\n",
       "    </tr>\n",
       "    <tr>\n",
       "      <th>75%</th>\n",
       "      <td>3.237740e+09</td>\n",
       "      <td>3.177606e+09</td>\n",
       "      <td>8.290000e+03</td>\n",
       "    </tr>\n",
       "    <tr>\n",
       "      <th>max</th>\n",
       "      <td>4.293856e+09</td>\n",
       "      <td>4.283872e+09</td>\n",
       "      <td>1.294500e+06</td>\n",
       "    </tr>\n",
       "  </tbody>\n",
       "</table>\n",
       "</div>"
      ],
      "text/plain": [
       "       transactionId     visitorId       revenue\n",
       "count   1.197000e+03  1.197000e+03  1.197000e+03\n",
       "mean    2.155621e+09  2.165960e+09  8.348006e+03\n",
       "std     1.229085e+09  1.236014e+09  3.919113e+04\n",
       "min     1.062393e+06  5.114589e+06  5.000000e+01\n",
       "25%     1.166776e+09  1.111826e+09  1.220000e+03\n",
       "50%     2.145194e+09  2.217985e+09  2.978000e+03\n",
       "75%     3.237740e+09  3.177606e+09  8.290000e+03\n",
       "max     4.293856e+09  4.283872e+09  1.294500e+06"
      ]
     },
     "execution_count": 8,
     "metadata": {},
     "output_type": "execute_result"
    }
   ],
   "source": [
    "orders.describe()"
   ]
  },
  {
   "cell_type": "markdown",
   "metadata": {},
   "source": [
    "Приведем столбец date к типу datetime и проверим на дубликаты."
   ]
  },
  {
   "cell_type": "code",
   "execution_count": 9,
   "metadata": {},
   "outputs": [],
   "source": [
    "orders['date'] = orders['date'].map(\n",
    "    lambda x: dt.datetime.strptime(x, '%Y-%m-%d')\n",
    ")"
   ]
  },
  {
   "cell_type": "code",
   "execution_count": 10,
   "metadata": {},
   "outputs": [
    {
     "data": {
      "text/plain": [
       "0"
      ]
     },
     "execution_count": 10,
     "metadata": {},
     "output_type": "execute_result"
    }
   ],
   "source": [
    "orders.duplicated().sum()"
   ]
  },
  {
   "cell_type": "code",
   "execution_count": 11,
   "metadata": {},
   "outputs": [
    {
     "data": {
      "text/html": [
       "<div>\n",
       "<style scoped>\n",
       "    .dataframe tbody tr th:only-of-type {\n",
       "        vertical-align: middle;\n",
       "    }\n",
       "\n",
       "    .dataframe tbody tr th {\n",
       "        vertical-align: top;\n",
       "    }\n",
       "\n",
       "    .dataframe thead th {\n",
       "        text-align: right;\n",
       "    }\n",
       "</style>\n",
       "<table border=\"1\" class=\"dataframe\">\n",
       "  <thead>\n",
       "    <tr style=\"text-align: right;\">\n",
       "      <th></th>\n",
       "      <th>date</th>\n",
       "      <th>group</th>\n",
       "      <th>visitors</th>\n",
       "    </tr>\n",
       "  </thead>\n",
       "  <tbody>\n",
       "    <tr>\n",
       "      <th>0</th>\n",
       "      <td>2019-08-01</td>\n",
       "      <td>A</td>\n",
       "      <td>719</td>\n",
       "    </tr>\n",
       "    <tr>\n",
       "      <th>1</th>\n",
       "      <td>2019-08-02</td>\n",
       "      <td>A</td>\n",
       "      <td>619</td>\n",
       "    </tr>\n",
       "    <tr>\n",
       "      <th>2</th>\n",
       "      <td>2019-08-03</td>\n",
       "      <td>A</td>\n",
       "      <td>507</td>\n",
       "    </tr>\n",
       "    <tr>\n",
       "      <th>3</th>\n",
       "      <td>2019-08-04</td>\n",
       "      <td>A</td>\n",
       "      <td>717</td>\n",
       "    </tr>\n",
       "    <tr>\n",
       "      <th>4</th>\n",
       "      <td>2019-08-05</td>\n",
       "      <td>A</td>\n",
       "      <td>756</td>\n",
       "    </tr>\n",
       "  </tbody>\n",
       "</table>\n",
       "</div>"
      ],
      "text/plain": [
       "         date group  visitors\n",
       "0  2019-08-01     A       719\n",
       "1  2019-08-02     A       619\n",
       "2  2019-08-03     A       507\n",
       "3  2019-08-04     A       717\n",
       "4  2019-08-05     A       756"
      ]
     },
     "execution_count": 11,
     "metadata": {},
     "output_type": "execute_result"
    }
   ],
   "source": [
    "visitors = pd.read_csv('/datasets/visitors.csv')\n",
    "visitors.head()"
   ]
  },
  {
   "cell_type": "code",
   "execution_count": 12,
   "metadata": {},
   "outputs": [
    {
     "name": "stdout",
     "output_type": "stream",
     "text": [
      "<class 'pandas.core.frame.DataFrame'>\n",
      "RangeIndex: 62 entries, 0 to 61\n",
      "Data columns (total 3 columns):\n",
      " #   Column    Non-Null Count  Dtype \n",
      "---  ------    --------------  ----- \n",
      " 0   date      62 non-null     object\n",
      " 1   group     62 non-null     object\n",
      " 2   visitors  62 non-null     int64 \n",
      "dtypes: int64(1), object(2)\n",
      "memory usage: 1.6+ KB\n"
     ]
    }
   ],
   "source": [
    "visitors.info()"
   ]
  },
  {
   "cell_type": "code",
   "execution_count": 13,
   "metadata": {},
   "outputs": [
    {
     "data": {
      "text/html": [
       "<div>\n",
       "<style scoped>\n",
       "    .dataframe tbody tr th:only-of-type {\n",
       "        vertical-align: middle;\n",
       "    }\n",
       "\n",
       "    .dataframe tbody tr th {\n",
       "        vertical-align: top;\n",
       "    }\n",
       "\n",
       "    .dataframe thead th {\n",
       "        text-align: right;\n",
       "    }\n",
       "</style>\n",
       "<table border=\"1\" class=\"dataframe\">\n",
       "  <thead>\n",
       "    <tr style=\"text-align: right;\">\n",
       "      <th></th>\n",
       "      <th>visitors</th>\n",
       "    </tr>\n",
       "  </thead>\n",
       "  <tbody>\n",
       "    <tr>\n",
       "      <th>count</th>\n",
       "      <td>62.000000</td>\n",
       "    </tr>\n",
       "    <tr>\n",
       "      <th>mean</th>\n",
       "      <td>607.290323</td>\n",
       "    </tr>\n",
       "    <tr>\n",
       "      <th>std</th>\n",
       "      <td>114.400560</td>\n",
       "    </tr>\n",
       "    <tr>\n",
       "      <th>min</th>\n",
       "      <td>361.000000</td>\n",
       "    </tr>\n",
       "    <tr>\n",
       "      <th>25%</th>\n",
       "      <td>534.000000</td>\n",
       "    </tr>\n",
       "    <tr>\n",
       "      <th>50%</th>\n",
       "      <td>624.500000</td>\n",
       "    </tr>\n",
       "    <tr>\n",
       "      <th>75%</th>\n",
       "      <td>710.500000</td>\n",
       "    </tr>\n",
       "    <tr>\n",
       "      <th>max</th>\n",
       "      <td>770.000000</td>\n",
       "    </tr>\n",
       "  </tbody>\n",
       "</table>\n",
       "</div>"
      ],
      "text/plain": [
       "         visitors\n",
       "count   62.000000\n",
       "mean   607.290323\n",
       "std    114.400560\n",
       "min    361.000000\n",
       "25%    534.000000\n",
       "50%    624.500000\n",
       "75%    710.500000\n",
       "max    770.000000"
      ]
     },
     "execution_count": 13,
     "metadata": {},
     "output_type": "execute_result"
    }
   ],
   "source": [
    "visitors.describe()"
   ]
  },
  {
   "cell_type": "markdown",
   "metadata": {},
   "source": [
    "Приведем столбец date к типу datetime и проверим на дубликаты."
   ]
  },
  {
   "cell_type": "code",
   "execution_count": 14,
   "metadata": {},
   "outputs": [],
   "source": [
    "visitors['date'] = visitors['date'].map(\n",
    "    lambda x: dt.datetime.strptime(x, '%Y-%m-%d')\n",
    ")"
   ]
  },
  {
   "cell_type": "code",
   "execution_count": 15,
   "metadata": {},
   "outputs": [
    {
     "data": {
      "text/plain": [
       "0"
      ]
     },
     "execution_count": 15,
     "metadata": {},
     "output_type": "execute_result"
    }
   ],
   "source": [
    "visitors.duplicated().sum()"
   ]
  },
  {
   "cell_type": "markdown",
   "metadata": {},
   "source": [
    "## Вывод\n",
    "Проведена загрузка и предобработка данных трёх таблиц:  \n",
    "- Таблица hypothesis с гипотезами по увеличению выручки интернет-магазина. Состоит из 9 строк и 5 столбцов, название столбцов были переведены в нижний регистр.  \n",
    "Две таблицы с результатами  A/B-тестов.\n",
    "- Таблица orders с данными о заказах. Состоит из 1197 строк и 5 столбцов. Столбец data приведен к типу datetype, дубликаты отсутствуют.   \n",
    "- Таблица visitors с количеством пользователей. Состоит из 62 строк и 3 столбцов. Столбец data приведен к типу datetype, дубликаты отсутствуют.  "
   ]
  },
  {
   "cell_type": "markdown",
   "metadata": {},
   "source": [
    "# Приоритизация гипотез"
   ]
  },
  {
   "cell_type": "markdown",
   "metadata": {},
   "source": [
    "## Применим фреймворк ICE для приоритизации гипотез и отсортируем их по убыванию приоритета.  \n"
   ]
  },
  {
   "cell_type": "code",
   "execution_count": 16,
   "metadata": {},
   "outputs": [],
   "source": [
    "hypothesis['ICE'] = ((hypothesis['impact'] * hypothesis['confidence']) / hypothesis['efforts']).round(1)"
   ]
  },
  {
   "cell_type": "code",
   "execution_count": 17,
   "metadata": {},
   "outputs": [
    {
     "data": {
      "text/html": [
       "<div>\n",
       "<style scoped>\n",
       "    .dataframe tbody tr th:only-of-type {\n",
       "        vertical-align: middle;\n",
       "    }\n",
       "\n",
       "    .dataframe tbody tr th {\n",
       "        vertical-align: top;\n",
       "    }\n",
       "\n",
       "    .dataframe thead th {\n",
       "        text-align: right;\n",
       "    }\n",
       "</style>\n",
       "<table border=\"1\" class=\"dataframe\">\n",
       "  <thead>\n",
       "    <tr style=\"text-align: right;\">\n",
       "      <th></th>\n",
       "      <th>hypothesis</th>\n",
       "      <th>reach</th>\n",
       "      <th>impact</th>\n",
       "      <th>confidence</th>\n",
       "      <th>efforts</th>\n",
       "      <th>ICE</th>\n",
       "    </tr>\n",
       "  </thead>\n",
       "  <tbody>\n",
       "    <tr>\n",
       "      <th>8</th>\n",
       "      <td>Запустить акцию, дающую скидку на товар в день...</td>\n",
       "      <td>1</td>\n",
       "      <td>9</td>\n",
       "      <td>9</td>\n",
       "      <td>5</td>\n",
       "      <td>16.2</td>\n",
       "    </tr>\n",
       "    <tr>\n",
       "      <th>0</th>\n",
       "      <td>Добавить два новых канала привлечения трафика,...</td>\n",
       "      <td>3</td>\n",
       "      <td>10</td>\n",
       "      <td>8</td>\n",
       "      <td>6</td>\n",
       "      <td>13.3</td>\n",
       "    </tr>\n",
       "    <tr>\n",
       "      <th>7</th>\n",
       "      <td>Добавить форму подписки на все основные страни...</td>\n",
       "      <td>10</td>\n",
       "      <td>7</td>\n",
       "      <td>8</td>\n",
       "      <td>5</td>\n",
       "      <td>11.2</td>\n",
       "    </tr>\n",
       "    <tr>\n",
       "      <th>6</th>\n",
       "      <td>Показать на главной странице баннеры с актуаль...</td>\n",
       "      <td>5</td>\n",
       "      <td>3</td>\n",
       "      <td>8</td>\n",
       "      <td>3</td>\n",
       "      <td>8.0</td>\n",
       "    </tr>\n",
       "    <tr>\n",
       "      <th>2</th>\n",
       "      <td>Добавить блоки рекомендаций товаров на сайт ин...</td>\n",
       "      <td>8</td>\n",
       "      <td>3</td>\n",
       "      <td>7</td>\n",
       "      <td>3</td>\n",
       "      <td>7.0</td>\n",
       "    </tr>\n",
       "    <tr>\n",
       "      <th>1</th>\n",
       "      <td>Запустить собственную службу доставки, что сок...</td>\n",
       "      <td>2</td>\n",
       "      <td>5</td>\n",
       "      <td>4</td>\n",
       "      <td>10</td>\n",
       "      <td>2.0</td>\n",
       "    </tr>\n",
       "    <tr>\n",
       "      <th>5</th>\n",
       "      <td>Добавить страницу отзывов клиентов о магазине,...</td>\n",
       "      <td>3</td>\n",
       "      <td>2</td>\n",
       "      <td>2</td>\n",
       "      <td>3</td>\n",
       "      <td>1.3</td>\n",
       "    </tr>\n",
       "    <tr>\n",
       "      <th>3</th>\n",
       "      <td>Изменить структура категорий, что увеличит кон...</td>\n",
       "      <td>8</td>\n",
       "      <td>3</td>\n",
       "      <td>3</td>\n",
       "      <td>8</td>\n",
       "      <td>1.1</td>\n",
       "    </tr>\n",
       "    <tr>\n",
       "      <th>4</th>\n",
       "      <td>Изменить цвет фона главной страницы, чтобы уве...</td>\n",
       "      <td>3</td>\n",
       "      <td>1</td>\n",
       "      <td>1</td>\n",
       "      <td>1</td>\n",
       "      <td>1.0</td>\n",
       "    </tr>\n",
       "  </tbody>\n",
       "</table>\n",
       "</div>"
      ],
      "text/plain": [
       "                                          hypothesis  reach  impact  \\\n",
       "8  Запустить акцию, дающую скидку на товар в день...      1       9   \n",
       "0  Добавить два новых канала привлечения трафика,...      3      10   \n",
       "7  Добавить форму подписки на все основные страни...     10       7   \n",
       "6  Показать на главной странице баннеры с актуаль...      5       3   \n",
       "2  Добавить блоки рекомендаций товаров на сайт ин...      8       3   \n",
       "1  Запустить собственную службу доставки, что сок...      2       5   \n",
       "5  Добавить страницу отзывов клиентов о магазине,...      3       2   \n",
       "3  Изменить структура категорий, что увеличит кон...      8       3   \n",
       "4  Изменить цвет фона главной страницы, чтобы уве...      3       1   \n",
       "\n",
       "   confidence  efforts   ICE  \n",
       "8           9        5  16.2  \n",
       "0           8        6  13.3  \n",
       "7           8        5  11.2  \n",
       "6           8        3   8.0  \n",
       "2           7        3   7.0  \n",
       "1           4       10   2.0  \n",
       "5           2        3   1.3  \n",
       "3           3        8   1.1  \n",
       "4           1        1   1.0  "
      ]
     },
     "execution_count": 17,
     "metadata": {},
     "output_type": "execute_result"
    }
   ],
   "source": [
    "hypothesis.sort_values(by='ICE', ascending=False)"
   ]
  },
  {
   "cell_type": "markdown",
   "metadata": {},
   "source": [
    "## Применим фреймворк RICE для приоритизации гипотез и отсортируем их по убыванию приоритета."
   ]
  },
  {
   "cell_type": "code",
   "execution_count": 18,
   "metadata": {},
   "outputs": [],
   "source": [
    "hypothesis['RICE'] = ((hypothesis['reach'] * hypothesis['impact'] * hypothesis['confidence']) / hypothesis['efforts']).round(1)"
   ]
  },
  {
   "cell_type": "code",
   "execution_count": 19,
   "metadata": {},
   "outputs": [
    {
     "data": {
      "text/html": [
       "<div>\n",
       "<style scoped>\n",
       "    .dataframe tbody tr th:only-of-type {\n",
       "        vertical-align: middle;\n",
       "    }\n",
       "\n",
       "    .dataframe tbody tr th {\n",
       "        vertical-align: top;\n",
       "    }\n",
       "\n",
       "    .dataframe thead th {\n",
       "        text-align: right;\n",
       "    }\n",
       "</style>\n",
       "<table border=\"1\" class=\"dataframe\">\n",
       "  <thead>\n",
       "    <tr style=\"text-align: right;\">\n",
       "      <th></th>\n",
       "      <th>hypothesis</th>\n",
       "      <th>reach</th>\n",
       "      <th>impact</th>\n",
       "      <th>confidence</th>\n",
       "      <th>efforts</th>\n",
       "      <th>ICE</th>\n",
       "      <th>RICE</th>\n",
       "    </tr>\n",
       "  </thead>\n",
       "  <tbody>\n",
       "    <tr>\n",
       "      <th>7</th>\n",
       "      <td>Добавить форму подписки на все основные страни...</td>\n",
       "      <td>10</td>\n",
       "      <td>7</td>\n",
       "      <td>8</td>\n",
       "      <td>5</td>\n",
       "      <td>11.2</td>\n",
       "      <td>112.0</td>\n",
       "    </tr>\n",
       "    <tr>\n",
       "      <th>2</th>\n",
       "      <td>Добавить блоки рекомендаций товаров на сайт ин...</td>\n",
       "      <td>8</td>\n",
       "      <td>3</td>\n",
       "      <td>7</td>\n",
       "      <td>3</td>\n",
       "      <td>7.0</td>\n",
       "      <td>56.0</td>\n",
       "    </tr>\n",
       "    <tr>\n",
       "      <th>0</th>\n",
       "      <td>Добавить два новых канала привлечения трафика,...</td>\n",
       "      <td>3</td>\n",
       "      <td>10</td>\n",
       "      <td>8</td>\n",
       "      <td>6</td>\n",
       "      <td>13.3</td>\n",
       "      <td>40.0</td>\n",
       "    </tr>\n",
       "    <tr>\n",
       "      <th>6</th>\n",
       "      <td>Показать на главной странице баннеры с актуаль...</td>\n",
       "      <td>5</td>\n",
       "      <td>3</td>\n",
       "      <td>8</td>\n",
       "      <td>3</td>\n",
       "      <td>8.0</td>\n",
       "      <td>40.0</td>\n",
       "    </tr>\n",
       "    <tr>\n",
       "      <th>8</th>\n",
       "      <td>Запустить акцию, дающую скидку на товар в день...</td>\n",
       "      <td>1</td>\n",
       "      <td>9</td>\n",
       "      <td>9</td>\n",
       "      <td>5</td>\n",
       "      <td>16.2</td>\n",
       "      <td>16.2</td>\n",
       "    </tr>\n",
       "    <tr>\n",
       "      <th>3</th>\n",
       "      <td>Изменить структура категорий, что увеличит кон...</td>\n",
       "      <td>8</td>\n",
       "      <td>3</td>\n",
       "      <td>3</td>\n",
       "      <td>8</td>\n",
       "      <td>1.1</td>\n",
       "      <td>9.0</td>\n",
       "    </tr>\n",
       "    <tr>\n",
       "      <th>1</th>\n",
       "      <td>Запустить собственную службу доставки, что сок...</td>\n",
       "      <td>2</td>\n",
       "      <td>5</td>\n",
       "      <td>4</td>\n",
       "      <td>10</td>\n",
       "      <td>2.0</td>\n",
       "      <td>4.0</td>\n",
       "    </tr>\n",
       "    <tr>\n",
       "      <th>5</th>\n",
       "      <td>Добавить страницу отзывов клиентов о магазине,...</td>\n",
       "      <td>3</td>\n",
       "      <td>2</td>\n",
       "      <td>2</td>\n",
       "      <td>3</td>\n",
       "      <td>1.3</td>\n",
       "      <td>4.0</td>\n",
       "    </tr>\n",
       "    <tr>\n",
       "      <th>4</th>\n",
       "      <td>Изменить цвет фона главной страницы, чтобы уве...</td>\n",
       "      <td>3</td>\n",
       "      <td>1</td>\n",
       "      <td>1</td>\n",
       "      <td>1</td>\n",
       "      <td>1.0</td>\n",
       "      <td>3.0</td>\n",
       "    </tr>\n",
       "  </tbody>\n",
       "</table>\n",
       "</div>"
      ],
      "text/plain": [
       "                                          hypothesis  reach  impact  \\\n",
       "7  Добавить форму подписки на все основные страни...     10       7   \n",
       "2  Добавить блоки рекомендаций товаров на сайт ин...      8       3   \n",
       "0  Добавить два новых канала привлечения трафика,...      3      10   \n",
       "6  Показать на главной странице баннеры с актуаль...      5       3   \n",
       "8  Запустить акцию, дающую скидку на товар в день...      1       9   \n",
       "3  Изменить структура категорий, что увеличит кон...      8       3   \n",
       "1  Запустить собственную службу доставки, что сок...      2       5   \n",
       "5  Добавить страницу отзывов клиентов о магазине,...      3       2   \n",
       "4  Изменить цвет фона главной страницы, чтобы уве...      3       1   \n",
       "\n",
       "   confidence  efforts   ICE   RICE  \n",
       "7           8        5  11.2  112.0  \n",
       "2           7        3   7.0   56.0  \n",
       "0           8        6  13.3   40.0  \n",
       "6           8        3   8.0   40.0  \n",
       "8           9        5  16.2   16.2  \n",
       "3           3        8   1.1    9.0  \n",
       "1           4       10   2.0    4.0  \n",
       "5           2        3   1.3    4.0  \n",
       "4           1        1   1.0    3.0  "
      ]
     },
     "execution_count": 19,
     "metadata": {},
     "output_type": "execute_result"
    }
   ],
   "source": [
    "hypothesis.sort_values(by='RICE', ascending=False)"
   ]
  },
  {
   "cell_type": "markdown",
   "metadata": {},
   "source": [
    "## Вывод  \n",
    "При использовании фреймворка ICE в лидерах по приоритету гипотезы: 8, 0 и 7.  \n",
    "При использовании фреймворка RICE топ-3 по приоритету гипотезы: 7, 2 и 0.  \n",
    "Такие результаты можно объяснить  тем, что у 8-ой гипотезы минимальное reach (количество пользователей затронет изменение), равный 1. Поэтому по фреймворку RICE 8-ая гипотеза занимает только 5-ое место.   \n",
    "7-ая гипотеза имеет максимальное reach (10), поэтому она на первом месте по RICE.   \n",
    "У 2-ой гипотезы, занявшее 2-ое место по фреймворку RICE высокое reach, равное 8.  \n",
    "\n",
    "Исходя из полученных результатов, наиболее приоритетной является 7-ая гипотеза: 'Добавить форму подписки на все основные страницы, чтобы собрать базу клиентов для email-рассылок'."
   ]
  },
  {
   "cell_type": "markdown",
   "metadata": {},
   "source": [
    "# Анализ A/B-теста"
   ]
  },
  {
   "cell_type": "markdown",
   "metadata": {},
   "source": [
    "## Построение графика кумулятивной выручки по группам."
   ]
  },
  {
   "cell_type": "markdown",
   "metadata": {},
   "source": [
    "Создадим массив уникальных пар значений дат и групп теста"
   ]
  },
  {
   "cell_type": "code",
   "execution_count": 31,
   "metadata": {},
   "outputs": [
    {
     "data": {
      "text/html": [
       "<div>\n",
       "<style scoped>\n",
       "    .dataframe tbody tr th:only-of-type {\n",
       "        vertical-align: middle;\n",
       "    }\n",
       "\n",
       "    .dataframe tbody tr th {\n",
       "        vertical-align: top;\n",
       "    }\n",
       "\n",
       "    .dataframe thead th {\n",
       "        text-align: right;\n",
       "    }\n",
       "</style>\n",
       "<table border=\"1\" class=\"dataframe\">\n",
       "  <thead>\n",
       "    <tr style=\"text-align: right;\">\n",
       "      <th></th>\n",
       "      <th>date</th>\n",
       "      <th>group</th>\n",
       "    </tr>\n",
       "  </thead>\n",
       "  <tbody>\n",
       "    <tr>\n",
       "      <th>0</th>\n",
       "      <td>2019-08-15</td>\n",
       "      <td>B</td>\n",
       "    </tr>\n",
       "    <tr>\n",
       "      <th>2</th>\n",
       "      <td>2019-08-15</td>\n",
       "      <td>A</td>\n",
       "    </tr>\n",
       "    <tr>\n",
       "      <th>45</th>\n",
       "      <td>2019-08-16</td>\n",
       "      <td>A</td>\n",
       "    </tr>\n",
       "    <tr>\n",
       "      <th>47</th>\n",
       "      <td>2019-08-16</td>\n",
       "      <td>B</td>\n",
       "    </tr>\n",
       "    <tr>\n",
       "      <th>55</th>\n",
       "      <td>2019-08-01</td>\n",
       "      <td>A</td>\n",
       "    </tr>\n",
       "  </tbody>\n",
       "</table>\n",
       "</div>"
      ],
      "text/plain": [
       "         date group\n",
       "0  2019-08-15     B\n",
       "2  2019-08-15     A\n",
       "45 2019-08-16     A\n",
       "47 2019-08-16     B\n",
       "55 2019-08-01     A"
      ]
     },
     "execution_count": 31,
     "metadata": {},
     "output_type": "execute_result"
    }
   ],
   "source": [
    "datesGroups = orders[['date','group']].drop_duplicates() \n",
    "datesGroups.head()"
   ]
  },
  {
   "cell_type": "markdown",
   "metadata": {},
   "source": [
    "Получим агрегированные кумулятивные по дням данные о заказах."
   ]
  },
  {
   "cell_type": "code",
   "execution_count": 32,
   "metadata": {},
   "outputs": [],
   "source": [
    "ordersAggregated = datesGroups.apply(\n",
    "    lambda x: orders[np.logical_and(orders['date'] <= x['date'], orders['group'] == x['group'])]\\\n",
    ".agg({'date' : 'max', 'group' : 'max', 'transactionId' : 'nunique', 'visitorId' : 'nunique', 'revenue' : 'sum'}), axis=1\n",
    ").sort_values(\n",
    "    by=['date','group']\n",
    ")"
   ]
  },
  {
   "cell_type": "markdown",
   "metadata": {},
   "source": [
    "Получим агрегированные кумулятивные по дням данные о посетителях интернет-магазина:"
   ]
  },
  {
   "cell_type": "code",
   "execution_count": 33,
   "metadata": {},
   "outputs": [],
   "source": [
    "visitorsAggregated = datesGroups.apply(\n",
    "    lambda x: visitors[np.logical_and(visitors['date'] <= x['date'], visitors['group'] == x['group'])].agg({'date' : 'max', 'group' : 'max', 'visitors' : 'sum'}), axis=1\n",
    ").sort_values(\n",
    "    by=['date','group']\n",
    ")"
   ]
  },
  {
   "cell_type": "markdown",
   "metadata": {},
   "source": [
    "Объединяем кумулятивные данные в одной таблице и переименуем столбцам."
   ]
  },
  {
   "cell_type": "code",
   "execution_count": 34,
   "metadata": {},
   "outputs": [],
   "source": [
    "cumulativeData = ordersAggregated.merge(visitorsAggregated, left_on=['date', 'group'], right_on=['date', 'group'])\n",
    "cumulativeData.columns = ['date', 'group', 'orders', 'buyers', 'revenue', 'visitors']"
   ]
  },
  {
   "cell_type": "code",
   "execution_count": 35,
   "metadata": {},
   "outputs": [
    {
     "name": "stdout",
     "output_type": "stream",
     "text": [
      "        date group  orders  buyers  revenue  visitors\n",
      "0 2019-08-01     A      24      20   148579       719\n",
      "1 2019-08-01     B      21      20   101217       713\n",
      "2 2019-08-02     A      44      38   242401      1338\n",
      "3 2019-08-02     B      45      43   266748      1294\n",
      "4 2019-08-03     A      68      62   354874      1845\n"
     ]
    }
   ],
   "source": [
    "print(cumulativeData.head(5)) "
   ]
  },
  {
   "cell_type": "markdown",
   "metadata": {},
   "source": [
    "Построим графики кумулятивной выручки по дням и группам A/B-тестирования:\n",
    "Датафрейм с кумулятивным количеством заказов и кумулятивной выручкой по дням в группе А"
   ]
  },
  {
   "cell_type": "code",
   "execution_count": 36,
   "metadata": {},
   "outputs": [],
   "source": [
    "cumulativeRevenueA = cumulativeData[cumulativeData['group']=='A'][['date','revenue', 'orders']]"
   ]
  },
  {
   "cell_type": "markdown",
   "metadata": {},
   "source": [
    "Датафрейм с кумулятивным количеством заказов и кумулятивной выручкой по дням в группе B"
   ]
  },
  {
   "cell_type": "code",
   "execution_count": 37,
   "metadata": {},
   "outputs": [],
   "source": [
    "cumulativeRevenueB = cumulativeData[cumulativeData['group']=='B'][['date','revenue', 'orders']]"
   ]
  },
  {
   "cell_type": "markdown",
   "metadata": {},
   "source": [
    "Строим график выручки группы А и группы B"
   ]
  },
  {
   "cell_type": "code",
   "execution_count": 38,
   "metadata": {},
   "outputs": [
    {
     "data": {
      "image/png": "[encoded data removed]",
      "text/plain": [
       "<Figure size 1080x576 with 1 Axes>"
      ]
     },
     "metadata": {
      "needs_background": "light"
     },
     "output_type": "display_data"
    }
   ],
   "source": [
    "plt.figure(figsize=(15, 8))\n",
    "plt.plot(cumulativeRevenueA['date'], cumulativeRevenueA['revenue'], label='A')\n",
    "plt.plot(cumulativeRevenueB['date'], cumulativeRevenueB['revenue'], label='B')\n",
    "plt.grid()\n",
    "plt.minorticks_on()\n",
    "plt.grid(which='minor', \n",
    "        color = 'k', \n",
    "        linestyle = ':')\n",
    "plt.title('График кумулятивной выручки по группам')\n",
    "plt.ylabel('Кумулятивная выручка')\n",
    "plt.xlabel('Дата')\n",
    "plt.legend();"
   ]
  },
  {
   "cell_type": "markdown",
   "metadata": {},
   "source": [
    "До 5 августа выручка в обоих группах росла равномерно. С 5 по 13 августа в группе В рост выручки ускорился по сравнению с группой А, но 13 августа обе группы сравнялись. После чего группа А опять начала отставать. 19 августа в группе В произошёл резкий рост выручки, что может говорить о всплесках числа заказов, либо о появлении очень дорогих заказов в выборке."
   ]
  },
  {
   "cell_type": "markdown",
   "metadata": {},
   "source": [
    "## Построение графика кумулятивного среднего чека по группам."
   ]
  },
  {
   "cell_type": "markdown",
   "metadata": {},
   "source": [
    "Чтобы получить кумулятивный средний чек по группам разделим кумулятивную выручку на кумулятивное число заказов."
   ]
  },
  {
   "cell_type": "code",
   "execution_count": 39,
   "metadata": {},
   "outputs": [
    {
     "data": {
      "image/png": "[encoded data removed]",
      "text/plain": [
       "<Figure size 1080x576 with 1 Axes>"
      ]
     },
     "metadata": {
      "needs_background": "light"
     },
     "output_type": "display_data"
    }
   ],
   "source": [
    "plt.figure(figsize=(15, 8))\n",
    "plt.plot(cumulativeRevenueA['date'], cumulativeRevenueA['revenue']/cumulativeRevenueA['orders'], label='A')\n",
    "plt.plot(cumulativeRevenueB['date'], cumulativeRevenueB['revenue']/cumulativeRevenueB['orders'], label='B')\n",
    "plt.grid()\n",
    "plt.minorticks_on()\n",
    "plt.grid(which='minor', \n",
    "        color = 'k', \n",
    "        linestyle = ':')\n",
    "plt.title('График кумулятивного среднего чека по группам')\n",
    "plt.ylabel('Кумулятивный средний чек')\n",
    "plt.xlabel('Дата')\n",
    "plt.legend();"
   ]
  },
  {
   "cell_type": "markdown",
   "metadata": {},
   "source": [
    "До 18 августа наблюдается переменное лидерство групп А и В. 19 августа в группа В произошел резкий скачок среднего чека, после чего группа намного превышает группу А."
   ]
  },
  {
   "cell_type": "markdown",
   "metadata": {},
   "source": [
    "## Построение графика относительного изменения кумулятивного среднего чека группы B к группе A."
   ]
  },
  {
   "cell_type": "markdown",
   "metadata": {},
   "source": [
    "Cобираем данные в одном датафрейме."
   ]
  },
  {
   "cell_type": "code",
   "execution_count": 40,
   "metadata": {},
   "outputs": [],
   "source": [
    "mergedCumulativeRevenue = cumulativeRevenueA.merge(\n",
    "    cumulativeRevenueB, left_on='date', right_on='date', how='left', suffixes=['A', 'B']\n",
    ")"
   ]
  },
  {
   "cell_type": "markdown",
   "metadata": {},
   "source": [
    "Cтроим отношение средних чеков, с добавлением оси X."
   ]
  },
  {
   "cell_type": "code",
   "execution_count": 41,
   "metadata": {},
   "outputs": [
    {
     "data": {
      "text/plain": [
       "Text(0.5, 0, 'Дата')"
      ]
     },
     "execution_count": 41,
     "metadata": {},
     "output_type": "execute_result"
    },
    {
     "data": {
      "image/png": "[encoded data removed]",
      "text/plain": [
       "<Figure size 1080x576 with 1 Axes>"
      ]
     },
     "metadata": {
      "needs_background": "light"
     },
     "output_type": "display_data"
    }
   ],
   "source": [
    "plt.figure(figsize=(15, 8))\n",
    "plt.plot(\n",
    "    mergedCumulativeRevenue['date'], (mergedCumulativeRevenue['revenueB']/mergedCumulativeRevenue['ordersB'])/(mergedCumulativeRevenue['revenueA']/mergedCumulativeRevenue['ordersA'])-1\n",
    ")\n",
    "plt.axhline(y=0, color='black', linestyle='--')\n",
    "plt.grid()\n",
    "plt.minorticks_on()\n",
    "plt.grid(which='minor', \n",
    "        color = 'k', \n",
    "        linestyle = ':')\n",
    "plt.title('График относительного изменения кумулятивного среднего чека группы B к группе A')\n",
    "plt.ylabel('Oтношение средних чеков')\n",
    "plt.xlabel('Дата')"
   ]
  },
  {
   "cell_type": "markdown",
   "metadata": {},
   "source": [
    "Средний чек группы B превысил чек группу А уже 2 августа и рос до 7 августа. С 7 по 13 августа средний чек группы В относительно среднего чека группы А  начал снижаться. 13 августа произошло обратное движение до всплеска 19 августа, после чего началось медленное снижение чека группы В."
   ]
  },
  {
   "cell_type": "markdown",
   "metadata": {},
   "source": [
    "## Построение графика кумулятивной конверсии по группам."
   ]
  },
  {
   "cell_type": "markdown",
   "metadata": {},
   "source": [
    "Рассчитаем кумулятивную конверсию."
   ]
  },
  {
   "cell_type": "code",
   "execution_count": 42,
   "metadata": {},
   "outputs": [],
   "source": [
    "cumulativeData['conversion'] = cumulativeData['orders']/cumulativeData['visitors']"
   ]
  },
  {
   "cell_type": "markdown",
   "metadata": {},
   "source": [
    "Отделяем данные по группе A и по группе B"
   ]
  },
  {
   "cell_type": "code",
   "execution_count": 43,
   "metadata": {},
   "outputs": [],
   "source": [
    "cumulativeDataA = cumulativeData[cumulativeData['group']=='A']\n",
    "cumulativeDataB = cumulativeData[cumulativeData['group']=='B']"
   ]
  },
  {
   "cell_type": "markdown",
   "metadata": {},
   "source": [
    "Строим графики"
   ]
  },
  {
   "cell_type": "code",
   "execution_count": 44,
   "metadata": {},
   "outputs": [
    {
     "data": {
      "text/plain": [
       "<matplotlib.legend.Legend at 0x7ff4c9713d00>"
      ]
     },
     "execution_count": 44,
     "metadata": {},
     "output_type": "execute_result"
    },
    {
     "data": {
      "image/png": "[encoded data removed]",
      "text/plain": [
       "<Figure size 1080x576 with 1 Axes>"
      ]
     },
     "metadata": {
      "needs_background": "light"
     },
     "output_type": "display_data"
    }
   ],
   "source": [
    "plt.figure(figsize=(15, 8))\n",
    "plt.plot(cumulativeDataA['date'], cumulativeDataA['conversion'], label='A')\n",
    "plt.plot(cumulativeDataB['date'], cumulativeDataB['conversion'], label='B')\n",
    "plt.grid()\n",
    "plt.minorticks_on()\n",
    "plt.grid(which='minor', \n",
    "        color = 'k', \n",
    "        linestyle = ':')\n",
    "plt.title('График кумулятивной конверсии по группам')\n",
    "plt.ylabel('Кумулятивная конверсия')\n",
    "plt.xlabel('Дата')\n",
    "plt.legend()"
   ]
  },
  {
   "cell_type": "markdown",
   "metadata": {},
   "source": [
    "С 3 августа конверсия группы А превышала конверсию групп В, но 6 августа конверсия группы В вырвалась вперед и стабильно закрепилась в лидерах."
   ]
  },
  {
   "cell_type": "markdown",
   "metadata": {},
   "source": [
    "## Построение графика относительного изменения кумулятивной конверсии группы B к группе A."
   ]
  },
  {
   "cell_type": "code",
   "execution_count": 45,
   "metadata": {},
   "outputs": [
    {
     "data": {
      "text/plain": [
       "Text(0.5, 0, 'Дата')"
      ]
     },
     "execution_count": 45,
     "metadata": {},
     "output_type": "execute_result"
    },
    {
     "data": {
      "image/png": "[encoded data removed]",
      "text/plain": [
       "<Figure size 1080x576 with 1 Axes>"
      ]
     },
     "metadata": {
      "needs_background": "light"
     },
     "output_type": "display_data"
    }
   ],
   "source": [
    "mergedCumulativeConversions = cumulativeDataA[['date','conversion']].merge(cumulativeDataB[['date','conversion']], left_on='date', right_on='date', how='left', suffixes=['A', 'B'])\n",
    "plt.figure(figsize=(15, 8))\n",
    "plt.plot(mergedCumulativeConversions['date'], mergedCumulativeConversions['conversionB']/mergedCumulativeConversions['conversionA']-1, label=\"Относительный прирост конверсии группы B относительно группы A\")\n",
    "plt.legend()\n",
    "plt.grid()\n",
    "plt.minorticks_on()\n",
    "plt.grid(which='minor', \n",
    "        color = 'k', \n",
    "        linestyle = ':')\n",
    "plt.axhline(y=0, color='black', linestyle='--')\n",
    "plt.axis(xmin=cumulativeDataA['date'].min(), xmax=cumulativeDataA['date'].max())\n",
    "plt.axhline(y=0.10, color='grey', linestyle='--') \n",
    "plt.axhline(y=0.21, color='grey', linestyle='--') \n",
    "plt.title('График относительного изменения кумулятивной конверсии группы B к группе A')\n",
    "plt.ylabel('Отношение конверсий')\n",
    "plt.xlabel('Дата')"
   ]
  },
  {
   "cell_type": "markdown",
   "metadata": {},
   "source": [
    "Аналогичная картина на графике относительного изменения кумулятивной конверсии групп. С 6 августа конверсия группы В стально лидирует. 15 августа был пик, конверсия группы В превысила конверсию группы А на 21%."
   ]
  },
  {
   "cell_type": "markdown",
   "metadata": {},
   "source": [
    "## Построение точечного графика количества заказов по пользователям."
   ]
  },
  {
   "cell_type": "markdown",
   "metadata": {},
   "source": [
    "Определим количество заказов по пользователям."
   ]
  },
  {
   "cell_type": "code",
   "execution_count": 46,
   "metadata": {},
   "outputs": [
    {
     "name": "stdout",
     "output_type": "stream",
     "text": [
      "          userId  orders\n",
      "1023  4256040402      11\n",
      "591   2458001652      11\n",
      "569   2378935119       9\n",
      "487   2038680547       8\n",
      "44     199603092       5\n",
      "744   3062433592       5\n",
      "55     237748145       5\n",
      "917   3803269165       5\n",
      "299   1230306981       5\n",
      "897   3717692402       5\n"
     ]
    }
   ],
   "source": [
    "ordersByUsers = (\n",
    "    orders.groupby('visitorId', as_index=False)\n",
    "    .agg({'transactionId': 'nunique'})\n",
    ")\n",
    "\n",
    "ordersByUsers.columns = ['userId', 'orders']\n",
    "\n",
    "print(ordersByUsers.sort_values(by='orders', ascending=False).head(10)) "
   ]
  },
  {
   "cell_type": "markdown",
   "metadata": {},
   "source": [
    "Построим точечную диаграмму числа заказов на одного пользователя:"
   ]
  },
  {
   "cell_type": "code",
   "execution_count": 47,
   "metadata": {},
   "outputs": [
    {
     "data": {
      "text/plain": [
       "Text(0, 0.5, 'Количество заказов')"
      ]
     },
     "execution_count": 47,
     "metadata": {},
     "output_type": "execute_result"
    },
    {
     "data": {
      "image/png": "[encoded data removed]",
      "text/plain": [
       "<Figure size 1080x576 with 1 Axes>"
      ]
     },
     "metadata": {
      "needs_background": "light"
     },
     "output_type": "display_data"
    }
   ],
   "source": [
    "x_values = pd.Series(range(0,len(ordersByUsers)))\n",
    "plt.figure(figsize=(15, 8))\n",
    "plt.scatter(x_values, ordersByUsers['orders']) \n",
    "plt.grid()\n",
    "plt.title('Точечная диаграмма числа заказов на одного пользователя')\n",
    "plt.ylabel('Количество заказов')"
   ]
  },
  {
   "cell_type": "markdown",
   "metadata": {},
   "source": [
    "Большинство покупателей заказывали только один раз. Также значительное количество пользователей с двумя заказами, с тремя заказами и более, пользоветелей намного меньше."
   ]
  },
  {
   "cell_type": "markdown",
   "metadata": {},
   "source": [
    "## Расчёт 95-й и 99-й перцентилей количества заказов на пользователя. Выбор границы для определения аномальных пользователей."
   ]
  },
  {
   "cell_type": "markdown",
   "metadata": {},
   "source": [
    "Посчитаем 95-й и 99-й перцентили количества заказов на одного пользователя:"
   ]
  },
  {
   "cell_type": "code",
   "execution_count": 48,
   "metadata": {},
   "outputs": [
    {
     "name": "stdout",
     "output_type": "stream",
     "text": [
      "[2. 4.]\n"
     ]
    }
   ],
   "source": [
    "print(np.percentile(ordersByUsers['orders'], [95, 99]))"
   ]
  },
  {
   "cell_type": "markdown",
   "metadata": {},
   "source": [
    "Не более 5% пользователей оформляли больше чем 2 заказа и 1% пользователей заказывали более 4-ёх раз.\n",
    "Выбрем 2 заказа на одного пользователя за нижнюю границу числа заказов, и отсеем аномальных пользователей по ней."
   ]
  },
  {
   "cell_type": "markdown",
   "metadata": {},
   "source": [
    "## Построение точечного графика стоимостей заказов."
   ]
  },
  {
   "cell_type": "markdown",
   "metadata": {},
   "source": [
    "Построим точечный график стоимостей заказов."
   ]
  },
  {
   "cell_type": "code",
   "execution_count": 49,
   "metadata": {},
   "outputs": [
    {
     "data": {
      "text/plain": [
       "Text(0, 0.5, 'Стоимость заказа')"
      ]
     },
     "execution_count": 49,
     "metadata": {},
     "output_type": "execute_result"
    },
    {
     "data": {
      "image/png": "[encoded data removed]",
      "text/plain": [
       "<Figure size 1080x576 with 1 Axes>"
      ]
     },
     "metadata": {
      "needs_background": "light"
     },
     "output_type": "display_data"
    }
   ],
   "source": [
    "x_values = pd.Series(range(0,len(orders['revenue'])))\n",
    "plt.figure(figsize=(15, 8))\n",
    "plt.scatter(x_values, orders['revenue']) \n",
    "plt.grid()\n",
    "plt.title('Точечная диаграмма стоимости заказа на одного пользователя')\n",
    "plt.ylabel('Стоимость заказа')"
   ]
  },
  {
   "cell_type": "markdown",
   "metadata": {},
   "source": [
    "Практически все заказы ниже 100000. Имеются два выброса, в районе 200000 и более 1,2 млн."
   ]
  },
  {
   "cell_type": "code",
   "execution_count": 50,
   "metadata": {},
   "outputs": [],
   "source": [
    "orders_filtered = orders.query('revenue < 1200000')"
   ]
  },
  {
   "cell_type": "code",
   "execution_count": 51,
   "metadata": {},
   "outputs": [
    {
     "data": {
      "text/plain": [
       "Text(0, 0.5, 'Стоимость заказа')"
      ]
     },
     "execution_count": 51,
     "metadata": {},
     "output_type": "execute_result"
    },
    {
     "data": {
      "image/png": "[encoded data removed]",
      "text/plain": [
       "<Figure size 1080x576 with 1 Axes>"
      ]
     },
     "metadata": {
      "needs_background": "light"
     },
     "output_type": "display_data"
    }
   ],
   "source": [
    "x_values = pd.Series(range(0,len(orders_filtered['revenue'])))\n",
    "plt.figure(figsize=(15, 8))\n",
    "plt.scatter(x_values, orders_filtered['revenue']) \n",
    "plt.grid()\n",
    "plt.title('Точечная диаграмма стоимости заказа на одного пользователя')\n",
    "plt.ylabel('Стоимость заказа')"
   ]
  },
  {
   "cell_type": "markdown",
   "metadata": {},
   "source": [
    "Опрделим дату заказа с максимальной стоимостью"
   ]
  },
  {
   "cell_type": "code",
   "execution_count": 52,
   "metadata": {},
   "outputs": [],
   "source": [
    "max_orders = orders.query('revenue > 1200000')"
   ]
  },
  {
   "cell_type": "code",
   "execution_count": 53,
   "metadata": {},
   "outputs": [
    {
     "data": {
      "text/html": [
       "<div>\n",
       "<style scoped>\n",
       "    .dataframe tbody tr th:only-of-type {\n",
       "        vertical-align: middle;\n",
       "    }\n",
       "\n",
       "    .dataframe tbody tr th {\n",
       "        vertical-align: top;\n",
       "    }\n",
       "\n",
       "    .dataframe thead th {\n",
       "        text-align: right;\n",
       "    }\n",
       "</style>\n",
       "<table border=\"1\" class=\"dataframe\">\n",
       "  <thead>\n",
       "    <tr style=\"text-align: right;\">\n",
       "      <th></th>\n",
       "      <th>transactionId</th>\n",
       "      <th>visitorId</th>\n",
       "      <th>date</th>\n",
       "      <th>revenue</th>\n",
       "      <th>group</th>\n",
       "    </tr>\n",
       "  </thead>\n",
       "  <tbody>\n",
       "    <tr>\n",
       "      <th>425</th>\n",
       "      <td>590470918</td>\n",
       "      <td>1920142716</td>\n",
       "      <td>2019-08-19</td>\n",
       "      <td>1294500</td>\n",
       "      <td>B</td>\n",
       "    </tr>\n",
       "  </tbody>\n",
       "</table>\n",
       "</div>"
      ],
      "text/plain": [
       "     transactionId   visitorId       date  revenue group\n",
       "425      590470918  1920142716 2019-08-19  1294500     B"
      ]
     },
     "execution_count": 53,
     "metadata": {},
     "output_type": "execute_result"
    }
   ],
   "source": [
    "max_orders"
   ]
  },
  {
   "cell_type": "markdown",
   "metadata": {},
   "source": [
    "Дата заказа - 19 августа, в группе В. Именно в эту дату, в этой группе отмечаются всплески на графиках кумулятивной выручки и кумулятивного среднего чека."
   ]
  },
  {
   "cell_type": "markdown",
   "metadata": {},
   "source": [
    "## Рассчёт 95-й и 99-й перцентилей стоимости заказов. Выбор границы для определения аномальных заказов."
   ]
  },
  {
   "cell_type": "markdown",
   "metadata": {},
   "source": [
    "Посчитаем 95-й и 99-й перцентили стоимости заказов:"
   ]
  },
  {
   "cell_type": "code",
   "execution_count": 54,
   "metadata": {},
   "outputs": [
    {
     "name": "stdout",
     "output_type": "stream",
     "text": [
      "[28000.  58233.2]\n"
     ]
    }
   ],
   "source": [
    "print(np.percentile(orders['revenue'], [95, 99])) "
   ]
  },
  {
   "cell_type": "markdown",
   "metadata": {},
   "source": [
    "Не более 5% заказов дороже 28000 рублей и не более 1% дороже 58233 рублей. Выбрем 28000 рублей за нижнюю границу стоимости заказов, и отсеем аномальных пользователей по этой границе."
   ]
  },
  {
   "cell_type": "markdown",
   "metadata": {},
   "source": [
    "## Расчёт статистической значимости различий в конверсии между группами по «сырым» данным."
   ]
  },
  {
   "cell_type": "markdown",
   "metadata": {},
   "source": [
    "Посчитаем статистическую значимость различий в конверсии группами по «сырым» данным — без удаления аномальных пользователей. Проверка будет осуществляться с помощью критерия Манна-Уитни.  \n",
    "Сформулируем гипотезы.  \n",
    "Нулевая H0: различий в конверсии между группами нет.  \n",
    "Альтернативная H1: различия в конверсии между группами есть.  \n",
    "Пороговый уровень статистической значимости alpha примем 0,05."
   ]
  },
  {
   "cell_type": "markdown",
   "metadata": {},
   "source": [
    "Подготовка данных"
   ]
  },
  {
   "cell_type": "code",
   "execution_count": 55,
   "metadata": {},
   "outputs": [],
   "source": [
    "visitorsADaily = visitors[visitors['group'] == 'A'][['date', 'visitors']]\n",
    "visitorsADaily.columns = ['date', 'visitorsPerDateA']\n",
    "\n",
    "visitorsACummulative = visitorsADaily.apply(\n",
    "    lambda x: visitorsADaily[visitorsADaily['date'] <= x['date']].agg(\n",
    "        {'date': 'max', 'visitorsPerDateA': 'sum'}\n",
    "    ),\n",
    "    axis=1,\n",
    ")\n",
    "visitorsACummulative.columns = ['date', 'visitorsCummulativeA']\n",
    "\n",
    "visitorsBDaily = visitors[visitors['group'] == 'B'][['date', 'visitors']]\n",
    "visitorsBDaily.columns = ['date', 'visitorsPerDateB']\n",
    "\n",
    "visitorsBCummulative = visitorsBDaily.apply(\n",
    "    lambda x: visitorsBDaily[visitorsBDaily['date'] <= x['date']].agg(\n",
    "        {'date': 'max', 'visitorsPerDateB': 'sum'}\n",
    "    ),\n",
    "    axis=1,\n",
    ")\n",
    "visitorsBCummulative.columns = ['date', 'visitorsCummulativeB']\n",
    "\n",
    "ordersADaily = (\n",
    "    orders[orders['group'] == 'A'][['date', 'transactionId', 'visitorId', 'revenue']]\n",
    "    .groupby('date', as_index=False)\n",
    "    .agg({'transactionId': pd.Series.nunique, 'revenue': 'sum'})\n",
    ")\n",
    "ordersADaily.columns = ['date', 'ordersPerDateA', 'revenuePerDateA']\n",
    "\n",
    "ordersACummulative = ordersADaily.apply(\n",
    "    lambda x: ordersADaily[ordersADaily['date'] <= x['date']].agg(\n",
    "        {'date': 'max', 'ordersPerDateA': 'sum', 'revenuePerDateA': 'sum'}\n",
    "    ),\n",
    "    axis=1,\n",
    ").sort_values(by=['date'])\n",
    "ordersACummulative.columns = [\n",
    "    'date',\n",
    "    'ordersCummulativeA',\n",
    "    'revenueCummulativeA',\n",
    "]\n",
    "\n",
    "ordersBDaily = (\n",
    "    orders[orders['group'] == 'B'][['date', 'transactionId', 'visitorId', 'revenue']]\n",
    "    .groupby('date', as_index=False)\n",
    "    .agg({'transactionId': pd.Series.nunique, 'revenue': 'sum'})\n",
    ")\n",
    "ordersBDaily.columns = ['date', 'ordersPerDateB', 'revenuePerDateB']\n",
    "\n",
    "ordersBCummulative = ordersBDaily.apply(\n",
    "    lambda x: ordersBDaily[ordersBDaily['date'] <= x['date']].agg(\n",
    "        {'date': 'max', 'ordersPerDateB': 'sum', 'revenuePerDateB': 'sum'}\n",
    "    ),\n",
    "    axis=1,\n",
    ").sort_values(by=['date'])\n",
    "ordersBCummulative.columns = [\n",
    "    'date',\n",
    "    'ordersCummulativeB',\n",
    "    'revenueCummulativeB',\n",
    "]\n",
    "\n",
    "data = (\n",
    "    ordersADaily.merge(\n",
    "        ordersBDaily, left_on='date', right_on='date', how='left'\n",
    "    )\n",
    "    .merge(ordersACummulative, left_on='date', right_on='date', how='left')\n",
    "    .merge(ordersBCummulative, left_on='date', right_on='date', how='left')\n",
    "    .merge(visitorsADaily, left_on='date', right_on='date', how='left')\n",
    "    .merge(visitorsBDaily, left_on='date', right_on='date', how='left')\n",
    "    .merge(visitorsACummulative, left_on='date', right_on='date', how='left')\n",
    "    .merge(visitorsBCummulative, left_on='date', right_on='date', how='left')\n",
    ")"
   ]
  },
  {
   "cell_type": "markdown",
   "metadata": {},
   "source": [
    "Посчитаем статистическую значимость различия в конверсии между группами.  \n",
    "Создадим переменные ordersByUsersA и ordersByUsersB со столбцами ['userId', 'orders']. В них для пользователей, которые заказывали хотя бы 1 раз, укажем число совершённых заказ."
   ]
  },
  {
   "cell_type": "code",
   "execution_count": 56,
   "metadata": {},
   "outputs": [],
   "source": [
    "ordersByUsersA = (\n",
    "    orders[orders['group'] == 'A']\n",
    "    .groupby('visitorId', as_index=False)\n",
    "    .agg({'transactionId': pd.Series.nunique})\n",
    ")\n",
    "ordersByUsersA.columns = ['visitorId', 'orders']"
   ]
  },
  {
   "cell_type": "code",
   "execution_count": 57,
   "metadata": {},
   "outputs": [],
   "source": [
    "ordersByUsersB = (\n",
    "    orders[orders['group'] == 'B']\n",
    "    .groupby('visitorId', as_index=False)\n",
    "    .agg({'transactionId': pd.Series.nunique})\n",
    ")\n",
    "ordersByUsersB.columns = ['visitorId', 'orders']"
   ]
  },
  {
   "cell_type": "markdown",
   "metadata": {},
   "source": [
    "Объявим переменные sampleA и sampleB, в которых пользователям из разных групп будет соответствовать количество заказов."
   ]
  },
  {
   "cell_type": "code",
   "execution_count": 58,
   "metadata": {},
   "outputs": [],
   "source": [
    "sampleA = pd.concat([ordersByUsersA['orders'],pd.Series(\n",
    "    0, index=np.arange(data['visitorsPerDateA'].sum() - len(ordersByUsersA['orders'])), name='orders')],axis=0\n",
    "                   )"
   ]
  },
  {
   "cell_type": "code",
   "execution_count": 59,
   "metadata": {},
   "outputs": [],
   "source": [
    "sampleB = pd.concat([ordersByUsersB['orders'],pd.Series(\n",
    "    0, index=np.arange(data['visitorsPerDateB'].sum() - len(ordersByUsersB['orders'])), name='orders')],axis=0\n",
    "                   )"
   ]
  },
  {
   "cell_type": "markdown",
   "metadata": {},
   "source": [
    "Применим критерий Манна-Уитни, отформатируем p-value и выведем относительный прирост конверсии группы B, округлив оба значения до трёх знаков после запятой."
   ]
  },
  {
   "cell_type": "code",
   "execution_count": 60,
   "metadata": {},
   "outputs": [
    {
     "name": "stdout",
     "output_type": "stream",
     "text": [
      "0.017 - p-value\n",
      "0.138 - относительный прирост конверсии группы B\n"
     ]
    }
   ],
   "source": [
    "ordersByUsersA = (\n",
    "    orders[orders['group'] == 'A']\n",
    "    .groupby('visitorId', as_index=False)\n",
    "    .agg({'transactionId': pd.Series.nunique})\n",
    ")\n",
    "ordersByUsersA.columns = ['userId', 'orders']\n",
    "\n",
    "ordersByUsersB = (\n",
    "    orders[orders['group'] == 'B']\n",
    "    .groupby('visitorId', as_index=False)\n",
    "    .agg({'transactionId': pd.Series.nunique})\n",
    ")\n",
    "ordersByUsersB.columns = ['userId', 'orders']\n",
    "\n",
    "sampleA = pd.concat(\n",
    "    [\n",
    "        ordersByUsersA['orders'],\n",
    "        pd.Series(\n",
    "            0,\n",
    "            index=np.arange(\n",
    "                data['visitorsPerDateA'].sum() - len(ordersByUsersA['orders'])\n",
    "            ),\n",
    "            name='orders',\n",
    "        ),\n",
    "    ],\n",
    "    axis=0,\n",
    ")\n",
    "\n",
    "sampleB = pd.concat(\n",
    "    [\n",
    "        ordersByUsersB['orders'],\n",
    "        pd.Series(\n",
    "            0,\n",
    "            index=np.arange(\n",
    "                data['visitorsPerDateB'].sum() - len(ordersByUsersB['orders'])\n",
    "            ),\n",
    "            name='orders',\n",
    "        ),\n",
    "    ],\n",
    "    axis=0,\n",
    ")\n",
    "\n",
    "print('{0:.3f} - p-value'.format(stats.mannwhitneyu(sampleA, sampleB)[1]))\n",
    "print('{0:.3f} - относительный прирост конверсии группы B'.format(sampleB.mean() / sampleA.mean() - 1))"
   ]
  },
  {
   "cell_type": "markdown",
   "metadata": {},
   "source": [
    "p-value равно 0.017, что меньше порогового уровеня статистической значимости. Следовательно, нулевую гипотезу о том, что статистически значимых различий в конверсии между группами нет, отвергаем и принимаем альтернативную гипотезу, что различия в конверсии между группами есть.\n",
    "Относительный прирост конверсии группы B составил 13.8%."
   ]
  },
  {
   "cell_type": "markdown",
   "metadata": {},
   "source": [
    "## Расчёт статистической значимости различий в среднем чеке заказа между группами по «сырым» данным."
   ]
  },
  {
   "cell_type": "markdown",
   "metadata": {},
   "source": [
    "Посчитаем статистическую значимость различий в среднем чеке заказа между группами по «сырым» данным — без удаления аномальных пользователей.  \n",
    "Сформулируем гипотезы.  \n",
    "Нулевая H0: различий в среднем чеке между группами нет.  \n",
    "Альтернативная H1: различия в среднем чеке между группами есть.  \n",
    "Пороговый уровень статистической значимости alpha примем 0,05."
   ]
  },
  {
   "cell_type": "markdown",
   "metadata": {},
   "source": [
    "Чтобы рассчитать статистическую значимость различий в среднем чеке, передадим критерию mannwhitneyu() данные о выручке с заказов.\n",
    "И найдём относительные различия в среднем чеке между группами"
   ]
  },
  {
   "cell_type": "code",
   "execution_count": 61,
   "metadata": {},
   "outputs": [
    {
     "name": "stdout",
     "output_type": "stream",
     "text": [
      "0.729 - p-value\n",
      "0.259 - относительный прирост среднего чека группы B \n"
     ]
    }
   ],
   "source": [
    "print('{0:.3f} - p-value'.format(stats.mannwhitneyu(orders[orders['group']=='A']['revenue'], orders[orders['group']=='B']['revenue'])[1]))\n",
    "print('{0:.3f} - относительный прирост среднего чека группы B '.format(orders[orders['group']=='B']['revenue'].mean()/orders[orders['group']=='A']['revenue'].mean()-1))"
   ]
  },
  {
   "cell_type": "markdown",
   "metadata": {},
   "source": [
    "p-value равен 0.729, что больше 0.05. Следовательно, нулевую гипотезу, что различий в среднем чеке между группами нет, мы отвергнуть не можем.  \n",
    "Относительный прирост среднего чека группы B составил 25.9%."
   ]
  },
  {
   "cell_type": "markdown",
   "metadata": {},
   "source": [
    "## Расчёт статистической значимости различий в конверсии между группами по «очищенным» данным."
   ]
  },
  {
   "cell_type": "markdown",
   "metadata": {},
   "source": [
    "Как было определено выше за аномальных пользователей принимаем тех, кто совершил более 2 заказов или совершил заказ дороже 28000 рублей. Сделаем срезы пользователей с числом заказов больше 2 — usersWithManyOrders и пользователей, совершивших заказы дороже 28 000 — usersWithExpensiveOrders. Объединим их в таблице abnormalUsers."
   ]
  },
  {
   "cell_type": "code",
   "execution_count": 62,
   "metadata": {},
   "outputs": [
    {
     "name": "stdout",
     "output_type": "stream",
     "text": [
      "1099    148427295\n",
      "18      199603092\n",
      "928     204675465\n",
      "23      237748145\n",
      "37      249864742\n",
      "dtype: int64\n",
      "74\n"
     ]
    }
   ],
   "source": [
    "usersWithManyOrders = pd.concat(\n",
    "    [\n",
    "        ordersByUsersA[ordersByUsersA['orders'] > np.percentile(ordersByUsers['orders'], 95)]['userId'],\n",
    "        ordersByUsersB[ordersByUsersB['orders'] > np.percentile(ordersByUsers['orders'], 95)]['userId'],\n",
    "    ],\n",
    "    axis=0,\n",
    ")\n",
    "usersWithExpensiveOrders = orders[orders['revenue'] > np.percentile(orders['revenue'], 95)]['visitorId']\n",
    "\n",
    "abnormalUsers = (\n",
    "    pd.concat([usersWithManyOrders, usersWithExpensiveOrders], axis=0)\n",
    "    .drop_duplicates()\n",
    "    .sort_values()\n",
    ")\n",
    "print(abnormalUsers.head(5))\n",
    "print(abnormalUsers.shape[0])"
   ]
  },
  {
   "cell_type": "markdown",
   "metadata": {},
   "source": [
    "Всего аномальный пользователей - 74."
   ]
  },
  {
   "cell_type": "markdown",
   "metadata": {},
   "source": [
    "Посчитаем статистическую значимость различий в конверсии между группами теста по очищенным данным. Сначала подготовим выборки количества заказов по пользователям по группам теста."
   ]
  },
  {
   "cell_type": "code",
   "execution_count": 63,
   "metadata": {},
   "outputs": [],
   "source": [
    "sampleAFiltered = pd.concat(\n",
    "    [\n",
    "        ordersByUsersA[\n",
    "            np.logical_not(ordersByUsersA['userId'].isin(abnormalUsers))\n",
    "        ]['orders'],\n",
    "        pd.Series(\n",
    "            0,\n",
    "            index=np.arange(\n",
    "                data['visitorsPerDateA'].sum() - len(ordersByUsersA['orders'])\n",
    "            ),\n",
    "            name='orders',\n",
    "        ),\n",
    "    ],\n",
    "    axis=0,\n",
    ")\n",
    "\n",
    "sampleBFiltered = pd.concat(\n",
    "    [\n",
    "        ordersByUsersB[\n",
    "            np.logical_not(ordersByUsersB['userId'].isin(abnormalUsers))\n",
    "        ]['orders'],\n",
    "        pd.Series(\n",
    "            0,\n",
    "            index=np.arange(\n",
    "                data['visitorsPerDateB'].sum() - len(ordersByUsersB['orders'])\n",
    "            ),\n",
    "            name='orders',\n",
    "        ),\n",
    "    ],\n",
    "    axis=0,\n",
    ")"
   ]
  },
  {
   "cell_type": "markdown",
   "metadata": {},
   "source": [
    "Применим статистический критерий Манна-Уитни к полученным выборкам:"
   ]
  },
  {
   "cell_type": "code",
   "execution_count": 64,
   "metadata": {},
   "outputs": [
    {
     "name": "stdout",
     "output_type": "stream",
     "text": [
      "0.013 - p-value\n",
      "0.173 - относительный прирост среднего чека группы B\n"
     ]
    }
   ],
   "source": [
    "print('{0:.3f} - p-value'.format(stats.mannwhitneyu(sampleAFiltered, sampleBFiltered)[1]))\n",
    "print('{0:.3f} - относительный прирост среднего чека группы B'.format(sampleBFiltered.mean()/sampleAFiltered.mean()-1)) "
   ]
  },
  {
   "cell_type": "markdown",
   "metadata": {},
   "source": [
    "p-value равно 0.013, что меньше 0.05. Следовательно, нулевую гипотезу о том, что статистически значимых различий в конверсии между группами нет, отвергаем и принимаем альтернативную гипотезу, что различия в конверсии между группами есть.  \n",
    "Относительный прирост конверсии группы B составил 17.3%.  \n",
    "\n",
    "По сырым и по очищенным данным мы отвергаем нулевую гипотезу, что статистически значимых различий в конверсии между группами нет.   \n",
    "Также по обоим группам данных виден относительный прирост конверсии группы B (13,8% и 17.3%)."
   ]
  },
  {
   "cell_type": "markdown",
   "metadata": {},
   "source": [
    "## Расчёт статистической значимости различий в среднем чеке заказа между группами по «очищенным» данным."
   ]
  },
  {
   "cell_type": "markdown",
   "metadata": {},
   "source": [
    "Посчитаем статистическую значимость различий в среднем чеке заказа между группами теста по очищенным данным."
   ]
  },
  {
   "cell_type": "code",
   "execution_count": 65,
   "metadata": {},
   "outputs": [
    {
     "name": "stdout",
     "output_type": "stream",
     "text": [
      "0.738 - p-value\n",
      "-0.020 - относительный прирост среднего чека группы B\n"
     ]
    }
   ],
   "source": [
    "print(\n",
    "    '{0:.3f} - p-value'.format(\n",
    "        stats.mannwhitneyu(\n",
    "            orders[\n",
    "                np.logical_and(\n",
    "                    orders['group'] == 'A',\n",
    "                    np.logical_not(orders['visitorId'].isin(abnormalUsers)),\n",
    "                )\n",
    "            ]['revenue'],\n",
    "            orders[\n",
    "                np.logical_and(\n",
    "                    orders['group'] == 'B',\n",
    "                    np.logical_not(orders['visitorId'].isin(abnormalUsers)),\n",
    "                )\n",
    "            ]['revenue'],\n",
    "        )[1]\n",
    "    )\n",
    ")\n",
    "\n",
    "print(\n",
    "    '{0:.3f} - относительный прирост среднего чека группы B'.format(\n",
    "        orders[\n",
    "            np.logical_and(\n",
    "                orders['group'] == 'B',\n",
    "                np.logical_not(orders['visitorId'].isin(abnormalUsers)),\n",
    "            )\n",
    "        ]['revenue'].mean()\n",
    "        / orders[\n",
    "            np.logical_and(\n",
    "                orders['group'] == 'A',\n",
    "                np.logical_not(orders['visitorId'].isin(abnormalUsers)),\n",
    "            )\n",
    "        ]['revenue'].mean()\n",
    "        - 1\n",
    "    )\n",
    ")"
   ]
  },
  {
   "cell_type": "markdown",
   "metadata": {},
   "source": [
    "По очищенным данным p-value равен 0.738, что также больше 0.05. Следовательно, нулевую гипотезу, что различий в среднем чеке между группами нет, мы отвергнуть не можем. Как и в случае сырых данных.   \n",
    "Но в отличиние от сырых данных, по очищенным наблюдается снижение среднего чека группы В, которое составило 2%."
   ]
  },
  {
   "cell_type": "markdown",
   "metadata": {},
   "source": [
    "# Решение по результатам теста и его объяснение."
   ]
  },
  {
   "cell_type": "markdown",
   "metadata": {},
   "source": [
    "## Вывод:  \n",
    "- Обнаружена статистически значимое различие по конверсии между группами и по сырым и по очищенных данным;  \n",
    "Прирост конверсии группы B составил по сырым и по очищенным данным 13,8% и 17.3% соответственно.\n",
    "\n",
    "- Отсутствует статистически значимое различие по среднему чеку между группами ни по «сырым», ни по очищенных данным; \n",
    "Прирост среднего чека составил по сырым данным составил 25.9, по очищенным данным снижение среднего чека группы В на 2%.\n",
    "\n",
    "- График различия конверсии между группами сообщает, что результаты группы B превышают результаты группы A на 14%.  \n",
    "\n",
    "- По графику различия среднего чека видно, что результаты группы B превышают группу А на 28%.\n",
    "\n",
    "Исходя из этого рекомендуется остановить тест и зафиксировать победу группы В."
   ]
  }
 ],
 "metadata": {
  "ExecuteTimeLog": [
   {
    "duration": 403,
    "start_time": "2022-05-22T11:48:57.592Z"
   },
   {
    "duration": 68,
    "start_time": "2022-05-22T11:49:17.230Z"
   },
   {
    "duration": 14,
    "start_time": "2022-05-22T11:49:22.281Z"
   },
   {
    "duration": 7,
    "start_time": "2022-05-22T11:49:31.389Z"
   },
   {
    "duration": 12,
    "start_time": "2022-05-22T11:49:37.960Z"
   },
   {
    "duration": 19,
    "start_time": "2022-05-22T11:49:47.078Z"
   },
   {
    "duration": 21,
    "start_time": "2022-05-22T11:50:07.326Z"
   },
   {
    "duration": 6,
    "start_time": "2022-05-22T11:50:35.057Z"
   },
   {
    "duration": 51,
    "start_time": "2022-05-22T11:51:05.457Z"
   },
   {
    "duration": 8,
    "start_time": "2022-05-22T11:51:10.763Z"
   },
   {
    "duration": 14,
    "start_time": "2022-05-22T11:51:21.474Z"
   },
   {
    "duration": 16,
    "start_time": "2022-05-22T11:51:29.383Z"
   },
   {
    "duration": 53,
    "start_time": "2022-05-22T11:52:20.760Z"
   },
   {
    "duration": 69,
    "start_time": "2022-05-22T11:52:23.809Z"
   },
   {
    "duration": 11,
    "start_time": "2022-05-22T11:52:30.258Z"
   },
   {
    "duration": 21,
    "start_time": "2022-05-22T11:52:39.144Z"
   },
   {
    "duration": 7,
    "start_time": "2022-05-22T11:52:49.675Z"
   },
   {
    "duration": 7,
    "start_time": "2022-05-22T11:55:52.958Z"
   },
   {
    "duration": 11,
    "start_time": "2022-05-22T12:02:14.557Z"
   },
   {
    "duration": 621,
    "start_time": "2022-05-22T12:03:16.058Z"
   },
   {
    "duration": 4,
    "start_time": "2022-05-22T12:03:20.183Z"
   },
   {
    "duration": 3,
    "start_time": "2022-05-22T12:03:40.097Z"
   },
   {
    "duration": 6,
    "start_time": "2022-05-22T12:03:42.960Z"
   },
   {
    "duration": 3,
    "start_time": "2022-05-22T12:03:50.177Z"
   },
   {
    "duration": 5,
    "start_time": "2022-05-22T12:03:50.775Z"
   },
   {
    "duration": 4,
    "start_time": "2022-05-22T12:09:50.256Z"
   },
   {
    "duration": 6,
    "start_time": "2022-05-22T12:09:58.149Z"
   },
   {
    "duration": 98,
    "start_time": "2022-05-22T12:10:41.383Z"
   },
   {
    "duration": 14,
    "start_time": "2022-05-22T12:10:53.074Z"
   },
   {
    "duration": 9,
    "start_time": "2022-05-22T12:11:39.413Z"
   },
   {
    "duration": 8,
    "start_time": "2022-05-22T12:12:03.770Z"
   },
   {
    "duration": 4,
    "start_time": "2022-05-22T12:12:08.580Z"
   },
   {
    "duration": 5,
    "start_time": "2022-05-22T12:12:12.788Z"
   },
   {
    "duration": 6,
    "start_time": "2022-05-22T12:12:53.629Z"
   },
   {
    "duration": 8,
    "start_time": "2022-05-22T12:12:54.302Z"
   },
   {
    "duration": 3,
    "start_time": "2022-05-22T12:12:56.171Z"
   },
   {
    "duration": 7,
    "start_time": "2022-05-22T12:12:56.891Z"
   },
   {
    "duration": 5,
    "start_time": "2022-05-22T12:13:30.115Z"
   },
   {
    "duration": 11,
    "start_time": "2022-05-22T12:13:30.961Z"
   },
   {
    "duration": 4,
    "start_time": "2022-05-22T12:13:31.869Z"
   },
   {
    "duration": 13,
    "start_time": "2022-05-22T12:13:39.072Z"
   },
   {
    "duration": 4,
    "start_time": "2022-05-22T12:13:55.884Z"
   },
   {
    "duration": 10,
    "start_time": "2022-05-22T12:13:56.716Z"
   },
   {
    "duration": 12,
    "start_time": "2022-05-22T12:14:01.988Z"
   },
   {
    "duration": 11,
    "start_time": "2022-05-22T12:22:33.590Z"
   },
   {
    "duration": 19,
    "start_time": "2022-05-22T12:22:44.944Z"
   },
   {
    "duration": 5,
    "start_time": "2022-05-22T12:23:10.114Z"
   },
   {
    "duration": 11,
    "start_time": "2022-05-22T12:23:10.715Z"
   },
   {
    "duration": 15,
    "start_time": "2022-05-22T12:23:11.863Z"
   },
   {
    "duration": 9,
    "start_time": "2022-05-22T12:23:20.245Z"
   },
   {
    "duration": 15,
    "start_time": "2022-05-22T12:23:29.853Z"
   },
   {
    "duration": 4,
    "start_time": "2022-05-22T12:24:19.959Z"
   },
   {
    "duration": 11,
    "start_time": "2022-05-22T12:24:20.770Z"
   },
   {
    "duration": 4,
    "start_time": "2022-05-22T12:24:48.171Z"
   },
   {
    "duration": 13,
    "start_time": "2022-05-22T12:24:49.467Z"
   },
   {
    "duration": 432,
    "start_time": "2022-05-22T12:25:01.481Z"
   },
   {
    "duration": 29,
    "start_time": "2022-05-22T12:25:01.916Z"
   },
   {
    "duration": 48,
    "start_time": "2022-05-22T12:25:01.950Z"
   },
   {
    "duration": 41,
    "start_time": "2022-05-22T12:25:02.001Z"
   },
   {
    "duration": 0,
    "start_time": "2022-05-22T12:25:02.050Z"
   },
   {
    "duration": 0,
    "start_time": "2022-05-22T12:25:02.051Z"
   },
   {
    "duration": 0,
    "start_time": "2022-05-22T12:25:02.057Z"
   },
   {
    "duration": 0,
    "start_time": "2022-05-22T12:25:02.059Z"
   },
   {
    "duration": 0,
    "start_time": "2022-05-22T12:25:02.060Z"
   },
   {
    "duration": 0,
    "start_time": "2022-05-22T12:25:02.060Z"
   },
   {
    "duration": 0,
    "start_time": "2022-05-22T12:25:02.061Z"
   },
   {
    "duration": 0,
    "start_time": "2022-05-22T12:25:02.065Z"
   },
   {
    "duration": 0,
    "start_time": "2022-05-22T12:25:02.066Z"
   },
   {
    "duration": 0,
    "start_time": "2022-05-22T12:25:02.067Z"
   },
   {
    "duration": 0,
    "start_time": "2022-05-22T12:25:02.069Z"
   },
   {
    "duration": 0,
    "start_time": "2022-05-22T12:25:02.070Z"
   },
   {
    "duration": 0,
    "start_time": "2022-05-22T12:25:02.073Z"
   },
   {
    "duration": 0,
    "start_time": "2022-05-22T12:25:02.074Z"
   },
   {
    "duration": 0,
    "start_time": "2022-05-22T12:25:02.075Z"
   },
   {
    "duration": 474,
    "start_time": "2022-05-22T12:26:33.617Z"
   },
   {
    "duration": 16,
    "start_time": "2022-05-22T12:26:34.093Z"
   },
   {
    "duration": 20,
    "start_time": "2022-05-22T12:26:34.113Z"
   },
   {
    "duration": 31,
    "start_time": "2022-05-22T12:26:34.135Z"
   },
   {
    "duration": 0,
    "start_time": "2022-05-22T12:26:34.167Z"
   },
   {
    "duration": 0,
    "start_time": "2022-05-22T12:26:34.169Z"
   },
   {
    "duration": 0,
    "start_time": "2022-05-22T12:26:34.170Z"
   },
   {
    "duration": 0,
    "start_time": "2022-05-22T12:26:34.172Z"
   },
   {
    "duration": 0,
    "start_time": "2022-05-22T12:26:34.173Z"
   },
   {
    "duration": 0,
    "start_time": "2022-05-22T12:26:34.174Z"
   },
   {
    "duration": 0,
    "start_time": "2022-05-22T12:26:34.175Z"
   },
   {
    "duration": 0,
    "start_time": "2022-05-22T12:26:34.177Z"
   },
   {
    "duration": 0,
    "start_time": "2022-05-22T12:26:34.177Z"
   },
   {
    "duration": 0,
    "start_time": "2022-05-22T12:26:34.178Z"
   },
   {
    "duration": 0,
    "start_time": "2022-05-22T12:26:34.183Z"
   },
   {
    "duration": 0,
    "start_time": "2022-05-22T12:26:34.184Z"
   },
   {
    "duration": 0,
    "start_time": "2022-05-22T12:26:34.185Z"
   },
   {
    "duration": 0,
    "start_time": "2022-05-22T12:26:34.186Z"
   },
   {
    "duration": 1,
    "start_time": "2022-05-22T12:26:34.187Z"
   },
   {
    "duration": 18,
    "start_time": "2022-05-22T12:35:04.317Z"
   },
   {
    "duration": 21,
    "start_time": "2022-05-22T12:35:06.750Z"
   },
   {
    "duration": 5,
    "start_time": "2022-05-22T12:35:09.686Z"
   },
   {
    "duration": 51,
    "start_time": "2022-05-22T19:13:33.266Z"
   },
   {
    "duration": 52,
    "start_time": "2022-05-22T19:13:49.508Z"
   },
   {
    "duration": 495,
    "start_time": "2022-05-22T19:13:54.662Z"
   },
   {
    "duration": 77,
    "start_time": "2022-05-22T19:13:55.159Z"
   },
   {
    "duration": 18,
    "start_time": "2022-05-22T19:13:55.238Z"
   },
   {
    "duration": 12,
    "start_time": "2022-05-22T19:13:55.258Z"
   },
   {
    "duration": 31,
    "start_time": "2022-05-22T19:13:55.273Z"
   },
   {
    "duration": 112,
    "start_time": "2022-05-22T19:13:55.305Z"
   },
   {
    "duration": 10,
    "start_time": "2022-05-22T19:13:55.418Z"
   },
   {
    "duration": 20,
    "start_time": "2022-05-22T19:13:55.429Z"
   },
   {
    "duration": 28,
    "start_time": "2022-05-22T19:13:55.451Z"
   },
   {
    "duration": 75,
    "start_time": "2022-05-22T19:13:55.482Z"
   },
   {
    "duration": 9,
    "start_time": "2022-05-22T19:13:55.559Z"
   },
   {
    "duration": 16,
    "start_time": "2022-05-22T19:13:55.570Z"
   },
   {
    "duration": 25,
    "start_time": "2022-05-22T19:13:55.589Z"
   },
   {
    "duration": 8,
    "start_time": "2022-05-22T19:13:55.617Z"
   },
   {
    "duration": 12,
    "start_time": "2022-05-22T19:13:55.627Z"
   },
   {
    "duration": 13,
    "start_time": "2022-05-22T19:13:55.641Z"
   },
   {
    "duration": 6,
    "start_time": "2022-05-22T19:13:55.656Z"
   },
   {
    "duration": 16,
    "start_time": "2022-05-22T19:13:55.663Z"
   },
   {
    "duration": 251,
    "start_time": "2022-05-22T19:15:17.670Z"
   },
   {
    "duration": 4,
    "start_time": "2022-05-22T19:17:04.076Z"
   },
   {
    "duration": 10,
    "start_time": "2022-05-22T19:17:14.935Z"
   },
   {
    "duration": 6,
    "start_time": "2022-05-22T19:17:27.051Z"
   },
   {
    "duration": 26,
    "start_time": "2022-05-22T19:17:27.060Z"
   },
   {
    "duration": 9,
    "start_time": "2022-05-22T19:17:27.088Z"
   },
   {
    "duration": 35,
    "start_time": "2022-05-22T19:17:27.099Z"
   },
   {
    "duration": 18,
    "start_time": "2022-05-22T19:17:27.137Z"
   },
   {
    "duration": 4,
    "start_time": "2022-05-22T19:17:27.157Z"
   },
   {
    "duration": 19,
    "start_time": "2022-05-22T19:17:31.419Z"
   },
   {
    "duration": 3,
    "start_time": "2022-05-22T19:17:32.669Z"
   },
   {
    "duration": 8,
    "start_time": "2022-05-22T19:17:33.942Z"
   },
   {
    "duration": 34,
    "start_time": "2022-05-22T19:18:04.765Z"
   },
   {
    "duration": 22,
    "start_time": "2022-05-22T19:20:27.957Z"
   },
   {
    "duration": 9,
    "start_time": "2022-05-22T19:23:14.826Z"
   },
   {
    "duration": 7,
    "start_time": "2022-05-22T19:23:22.974Z"
   },
   {
    "duration": 66,
    "start_time": "2022-05-22T19:23:22.986Z"
   },
   {
    "duration": 10,
    "start_time": "2022-05-22T19:23:23.054Z"
   },
   {
    "duration": 15,
    "start_time": "2022-05-22T19:23:23.066Z"
   },
   {
    "duration": 37,
    "start_time": "2022-05-22T19:23:23.083Z"
   },
   {
    "duration": 12,
    "start_time": "2022-05-22T19:23:23.122Z"
   },
   {
    "duration": 10,
    "start_time": "2022-05-22T19:23:23.136Z"
   },
   {
    "duration": 36,
    "start_time": "2022-05-22T19:23:23.148Z"
   },
   {
    "duration": 15,
    "start_time": "2022-05-22T19:23:23.187Z"
   },
   {
    "duration": 35,
    "start_time": "2022-05-22T19:23:23.205Z"
   },
   {
    "duration": 26,
    "start_time": "2022-05-22T19:23:23.242Z"
   },
   {
    "duration": 15,
    "start_time": "2022-05-22T19:23:23.270Z"
   },
   {
    "duration": 9,
    "start_time": "2022-05-22T19:23:23.286Z"
   },
   {
    "duration": 43,
    "start_time": "2022-05-22T19:23:23.298Z"
   },
   {
    "duration": 14,
    "start_time": "2022-05-22T19:23:23.343Z"
   },
   {
    "duration": 670,
    "start_time": "2022-05-22T19:23:23.359Z"
   },
   {
    "duration": 5,
    "start_time": "2022-05-22T19:23:56.854Z"
   },
   {
    "duration": 18,
    "start_time": "2022-05-22T19:24:00.019Z"
   },
   {
    "duration": 5,
    "start_time": "2022-05-22T19:24:09.952Z"
   },
   {
    "duration": 13,
    "start_time": "2022-05-22T19:24:11.680Z"
   },
   {
    "duration": 3,
    "start_time": "2022-05-22T19:25:08.058Z"
   },
   {
    "duration": 14,
    "start_time": "2022-05-22T19:26:37.531Z"
   },
   {
    "duration": 13,
    "start_time": "2022-05-22T19:26:43.636Z"
   },
   {
    "duration": 315,
    "start_time": "2022-05-22T19:35:20.437Z"
   },
   {
    "duration": 286,
    "start_time": "2022-05-22T19:35:30.826Z"
   },
   {
    "duration": 4,
    "start_time": "2022-05-22T19:35:35.933Z"
   },
   {
    "duration": 11,
    "start_time": "2022-05-22T19:35:38.125Z"
   },
   {
    "duration": 17,
    "start_time": "2022-05-22T19:35:41.322Z"
   },
   {
    "duration": 13,
    "start_time": "2022-05-22T19:36:56.282Z"
   },
   {
    "duration": 18,
    "start_time": "2022-05-22T19:36:58.714Z"
   },
   {
    "duration": 21,
    "start_time": "2022-05-22T19:37:05.916Z"
   },
   {
    "duration": 12,
    "start_time": "2022-05-22T19:37:45.778Z"
   },
   {
    "duration": 2,
    "start_time": "2022-05-22T19:48:06.145Z"
   },
   {
    "duration": 652,
    "start_time": "2022-05-22T19:58:33.912Z"
   },
   {
    "duration": 6,
    "start_time": "2022-05-22T20:04:55.781Z"
   },
   {
    "duration": 9,
    "start_time": "2022-05-22T20:04:56.574Z"
   },
   {
    "duration": 12,
    "start_time": "2022-05-22T20:05:03.609Z"
   },
   {
    "duration": 11,
    "start_time": "2022-05-22T20:05:04.618Z"
   },
   {
    "duration": 5,
    "start_time": "2022-05-22T20:05:13.655Z"
   },
   {
    "duration": 12,
    "start_time": "2022-05-22T20:05:15.230Z"
   },
   {
    "duration": 41,
    "start_time": "2022-05-22T20:05:59.489Z"
   },
   {
    "duration": 3,
    "start_time": "2022-05-22T20:06:14.335Z"
   },
   {
    "duration": 12,
    "start_time": "2022-05-22T20:06:17.629Z"
   },
   {
    "duration": 24,
    "start_time": "2022-05-22T20:09:06.721Z"
   },
   {
    "duration": 195,
    "start_time": "2022-05-22T20:10:12.937Z"
   },
   {
    "duration": 13,
    "start_time": "2022-05-22T20:11:01.927Z"
   },
   {
    "duration": 17,
    "start_time": "2022-05-22T20:11:11.518Z"
   },
   {
    "duration": 128,
    "start_time": "2022-05-22T20:12:08.394Z"
   },
   {
    "duration": 10,
    "start_time": "2022-05-22T20:14:27.420Z"
   },
   {
    "duration": 8,
    "start_time": "2022-05-22T20:14:32.665Z"
   },
   {
    "duration": 6,
    "start_time": "2022-05-22T20:14:58.463Z"
   },
   {
    "duration": 6,
    "start_time": "2022-05-22T20:15:17.117Z"
   },
   {
    "duration": 329,
    "start_time": "2022-05-22T20:15:33.782Z"
   },
   {
    "duration": 296,
    "start_time": "2022-05-22T20:15:42.389Z"
   },
   {
    "duration": 9,
    "start_time": "2022-05-22T20:15:47.668Z"
   },
   {
    "duration": 11,
    "start_time": "2022-05-22T20:15:51.338Z"
   },
   {
    "duration": 121,
    "start_time": "2022-05-22T20:15:53.551Z"
   },
   {
    "duration": 324,
    "start_time": "2022-05-22T20:16:11.666Z"
   },
   {
    "duration": 307,
    "start_time": "2022-05-22T20:16:45.522Z"
   },
   {
    "duration": 202,
    "start_time": "2022-05-22T20:17:44.672Z"
   },
   {
    "duration": 3,
    "start_time": "2022-05-22T20:18:16.482Z"
   },
   {
    "duration": 22,
    "start_time": "2022-05-22T20:18:21.708Z"
   },
   {
    "duration": 20,
    "start_time": "2022-05-22T20:18:30.819Z"
   },
   {
    "duration": 172,
    "start_time": "2022-05-22T20:18:49.754Z"
   },
   {
    "duration": 418,
    "start_time": "2022-05-22T20:20:23.472Z"
   },
   {
    "duration": 160,
    "start_time": "2022-05-22T20:20:51.555Z"
   },
   {
    "duration": 12,
    "start_time": "2022-05-22T20:21:05.993Z"
   },
   {
    "duration": 10,
    "start_time": "2022-05-22T20:21:15.322Z"
   },
   {
    "duration": 13,
    "start_time": "2022-05-22T20:21:22.024Z"
   },
   {
    "duration": 295,
    "start_time": "2022-05-22T20:21:30.258Z"
   },
   {
    "duration": 3,
    "start_time": "2022-05-22T20:21:36.558Z"
   },
   {
    "duration": 53,
    "start_time": "2022-05-22T20:21:36.566Z"
   },
   {
    "duration": 9,
    "start_time": "2022-05-22T20:21:36.622Z"
   },
   {
    "duration": 14,
    "start_time": "2022-05-22T20:21:36.633Z"
   },
   {
    "duration": 26,
    "start_time": "2022-05-22T20:21:36.649Z"
   },
   {
    "duration": 4,
    "start_time": "2022-05-22T20:21:36.679Z"
   },
   {
    "duration": 27,
    "start_time": "2022-05-22T20:21:36.685Z"
   },
   {
    "duration": 37,
    "start_time": "2022-05-22T20:21:36.714Z"
   },
   {
    "duration": 10,
    "start_time": "2022-05-22T20:21:36.753Z"
   },
   {
    "duration": 14,
    "start_time": "2022-05-22T20:21:36.765Z"
   },
   {
    "duration": 24,
    "start_time": "2022-05-22T20:21:36.781Z"
   },
   {
    "duration": 16,
    "start_time": "2022-05-22T20:21:36.806Z"
   },
   {
    "duration": 14,
    "start_time": "2022-05-22T20:21:36.824Z"
   },
   {
    "duration": 9,
    "start_time": "2022-05-22T20:21:36.840Z"
   },
   {
    "duration": 10,
    "start_time": "2022-05-22T20:21:36.852Z"
   },
   {
    "duration": 48,
    "start_time": "2022-05-22T20:21:36.864Z"
   },
   {
    "duration": 5,
    "start_time": "2022-05-22T20:21:36.914Z"
   },
   {
    "duration": 9,
    "start_time": "2022-05-22T20:21:36.920Z"
   },
   {
    "duration": 13,
    "start_time": "2022-05-22T20:21:36.931Z"
   },
   {
    "duration": 14,
    "start_time": "2022-05-22T20:21:36.947Z"
   },
   {
    "duration": 8,
    "start_time": "2022-05-22T20:21:36.963Z"
   },
   {
    "duration": 34,
    "start_time": "2022-05-22T20:21:36.973Z"
   },
   {
    "duration": 6,
    "start_time": "2022-05-22T20:21:37.010Z"
   },
   {
    "duration": 9,
    "start_time": "2022-05-22T20:21:37.018Z"
   },
   {
    "duration": 20,
    "start_time": "2022-05-22T20:21:37.029Z"
   },
   {
    "duration": 200,
    "start_time": "2022-05-22T20:21:37.051Z"
   },
   {
    "duration": 14,
    "start_time": "2022-05-22T20:21:37.253Z"
   },
   {
    "duration": 220,
    "start_time": "2022-05-22T20:21:37.269Z"
   },
   {
    "duration": 14,
    "start_time": "2022-05-22T20:21:37.496Z"
   },
   {
    "duration": 20,
    "start_time": "2022-05-22T20:21:37.517Z"
   },
   {
    "duration": 13,
    "start_time": "2022-05-22T20:21:37.539Z"
   },
   {
    "duration": 16,
    "start_time": "2022-05-22T20:21:37.554Z"
   },
   {
    "duration": 443,
    "start_time": "2022-05-22T20:21:37.572Z"
   },
   {
    "duration": 214,
    "start_time": "2022-05-22T20:22:00.363Z"
   },
   {
    "duration": 192,
    "start_time": "2022-05-22T20:22:07.735Z"
   },
   {
    "duration": 203,
    "start_time": "2022-05-22T20:22:12.627Z"
   },
   {
    "duration": 13,
    "start_time": "2022-05-22T20:22:45.269Z"
   },
   {
    "duration": 188,
    "start_time": "2022-05-22T20:23:18.532Z"
   },
   {
    "duration": 267,
    "start_time": "2022-05-22T20:23:23.445Z"
   },
   {
    "duration": 231,
    "start_time": "2022-05-22T20:23:29.620Z"
   },
   {
    "duration": 229,
    "start_time": "2022-05-22T20:24:25.124Z"
   },
   {
    "duration": 282,
    "start_time": "2022-05-22T20:26:33.070Z"
   },
   {
    "duration": 323,
    "start_time": "2022-05-22T20:26:46.862Z"
   },
   {
    "duration": 280,
    "start_time": "2022-05-22T20:27:00.024Z"
   },
   {
    "duration": 245,
    "start_time": "2022-05-22T20:27:05.014Z"
   },
   {
    "duration": 350,
    "start_time": "2022-05-22T20:27:23.311Z"
   },
   {
    "duration": 243,
    "start_time": "2022-05-22T20:27:29.430Z"
   },
   {
    "duration": 7,
    "start_time": "2022-05-22T20:30:27.174Z"
   },
   {
    "duration": 173,
    "start_time": "2022-05-22T20:30:28.310Z"
   },
   {
    "duration": 23,
    "start_time": "2022-05-22T20:30:29.792Z"
   },
   {
    "duration": 22,
    "start_time": "2022-05-22T20:30:49.390Z"
   },
   {
    "duration": 6,
    "start_time": "2022-05-22T20:30:55.880Z"
   },
   {
    "duration": 179,
    "start_time": "2022-05-22T20:31:23.958Z"
   },
   {
    "duration": 43,
    "start_time": "2022-05-22T20:31:34.618Z"
   },
   {
    "duration": 117,
    "start_time": "2022-05-22T20:31:39.233Z"
   },
   {
    "duration": 360,
    "start_time": "2022-05-22T20:31:48.891Z"
   },
   {
    "duration": 371,
    "start_time": "2022-05-22T20:33:00.185Z"
   },
   {
    "duration": 218,
    "start_time": "2022-05-22T20:40:33.422Z"
   },
   {
    "duration": 315,
    "start_time": "2022-05-22T20:41:05.605Z"
   },
   {
    "duration": 324,
    "start_time": "2022-05-22T20:41:27.038Z"
   },
   {
    "duration": 265,
    "start_time": "2022-05-22T20:44:39.152Z"
   },
   {
    "duration": 266,
    "start_time": "2022-05-22T20:46:02.337Z"
   },
   {
    "duration": 379,
    "start_time": "2022-05-22T20:46:17.334Z"
   },
   {
    "duration": 332,
    "start_time": "2022-05-22T20:47:17.516Z"
   },
   {
    "duration": 268,
    "start_time": "2022-05-22T20:47:38.332Z"
   },
   {
    "duration": 3,
    "start_time": "2022-05-22T20:49:33.363Z"
   },
   {
    "duration": 435,
    "start_time": "2022-05-22T20:49:36.994Z"
   },
   {
    "duration": 4,
    "start_time": "2022-05-22T20:49:47.617Z"
   },
   {
    "duration": 262,
    "start_time": "2022-05-22T20:49:50.417Z"
   },
   {
    "duration": 303,
    "start_time": "2022-05-22T20:52:13.701Z"
   },
   {
    "duration": 247,
    "start_time": "2022-05-22T20:52:47.913Z"
   },
   {
    "duration": 232,
    "start_time": "2022-05-22T20:52:56.236Z"
   },
   {
    "duration": 219,
    "start_time": "2022-05-22T20:53:15.639Z"
   },
   {
    "duration": 308,
    "start_time": "2022-05-22T20:54:58.120Z"
   },
   {
    "duration": 324,
    "start_time": "2022-05-22T20:55:18.761Z"
   },
   {
    "duration": 344,
    "start_time": "2022-05-22T20:56:04.410Z"
   },
   {
    "duration": 314,
    "start_time": "2022-05-22T20:56:12.328Z"
   },
   {
    "duration": 366,
    "start_time": "2022-05-22T20:57:01.289Z"
   },
   {
    "duration": 8,
    "start_time": "2022-05-22T20:58:29.778Z"
   },
   {
    "duration": 8,
    "start_time": "2022-05-22T20:59:18.408Z"
   },
   {
    "duration": 133,
    "start_time": "2022-05-22T20:59:23.755Z"
   },
   {
    "duration": 144,
    "start_time": "2022-05-22T21:00:49.617Z"
   },
   {
    "duration": 10,
    "start_time": "2022-05-22T21:01:25.812Z"
   },
   {
    "duration": 41,
    "start_time": "2022-05-22T21:01:28.570Z"
   },
   {
    "duration": 10,
    "start_time": "2022-05-22T21:01:38.775Z"
   },
   {
    "duration": 11,
    "start_time": "2022-05-22T21:05:16.613Z"
   },
   {
    "duration": 109,
    "start_time": "2022-05-22T21:05:52.054Z"
   },
   {
    "duration": 134,
    "start_time": "2022-05-22T21:06:22.381Z"
   },
   {
    "duration": 742,
    "start_time": "2022-05-22T21:07:07.048Z"
   },
   {
    "duration": 25,
    "start_time": "2022-05-22T21:07:07.793Z"
   },
   {
    "duration": 11,
    "start_time": "2022-05-22T21:07:07.820Z"
   },
   {
    "duration": 11,
    "start_time": "2022-05-22T21:07:07.833Z"
   },
   {
    "duration": 21,
    "start_time": "2022-05-22T21:07:07.846Z"
   },
   {
    "duration": 4,
    "start_time": "2022-05-22T21:07:07.869Z"
   },
   {
    "duration": 22,
    "start_time": "2022-05-22T21:07:07.874Z"
   },
   {
    "duration": 37,
    "start_time": "2022-05-22T21:07:07.898Z"
   },
   {
    "duration": 8,
    "start_time": "2022-05-22T21:07:07.937Z"
   },
   {
    "duration": 13,
    "start_time": "2022-05-22T21:07:07.946Z"
   },
   {
    "duration": 19,
    "start_time": "2022-05-22T21:07:07.961Z"
   },
   {
    "duration": 86,
    "start_time": "2022-05-22T21:07:07.982Z"
   },
   {
    "duration": 0,
    "start_time": "2022-05-22T21:07:08.071Z"
   },
   {
    "duration": 0,
    "start_time": "2022-05-22T21:07:08.072Z"
   },
   {
    "duration": 0,
    "start_time": "2022-05-22T21:07:08.074Z"
   },
   {
    "duration": 0,
    "start_time": "2022-05-22T21:07:08.075Z"
   },
   {
    "duration": 0,
    "start_time": "2022-05-22T21:07:08.077Z"
   },
   {
    "duration": 0,
    "start_time": "2022-05-22T21:07:08.077Z"
   },
   {
    "duration": 0,
    "start_time": "2022-05-22T21:07:08.079Z"
   },
   {
    "duration": 0,
    "start_time": "2022-05-22T21:07:08.095Z"
   },
   {
    "duration": 0,
    "start_time": "2022-05-22T21:07:08.096Z"
   },
   {
    "duration": 0,
    "start_time": "2022-05-22T21:07:08.097Z"
   },
   {
    "duration": 0,
    "start_time": "2022-05-22T21:07:08.098Z"
   },
   {
    "duration": 0,
    "start_time": "2022-05-22T21:07:08.100Z"
   },
   {
    "duration": 0,
    "start_time": "2022-05-22T21:07:08.101Z"
   },
   {
    "duration": 0,
    "start_time": "2022-05-22T21:07:08.102Z"
   },
   {
    "duration": 0,
    "start_time": "2022-05-22T21:07:08.104Z"
   },
   {
    "duration": 0,
    "start_time": "2022-05-22T21:07:08.105Z"
   },
   {
    "duration": 0,
    "start_time": "2022-05-22T21:07:08.106Z"
   },
   {
    "duration": 0,
    "start_time": "2022-05-22T21:07:08.107Z"
   },
   {
    "duration": 0,
    "start_time": "2022-05-22T21:07:08.108Z"
   },
   {
    "duration": 0,
    "start_time": "2022-05-22T21:07:08.110Z"
   },
   {
    "duration": 0,
    "start_time": "2022-05-22T21:07:08.111Z"
   },
   {
    "duration": 0,
    "start_time": "2022-05-22T21:07:08.112Z"
   },
   {
    "duration": 0,
    "start_time": "2022-05-22T21:07:08.113Z"
   },
   {
    "duration": 0,
    "start_time": "2022-05-22T21:07:08.114Z"
   },
   {
    "duration": 0,
    "start_time": "2022-05-22T21:07:08.116Z"
   },
   {
    "duration": 0,
    "start_time": "2022-05-22T21:07:08.117Z"
   },
   {
    "duration": 0,
    "start_time": "2022-05-22T21:07:08.118Z"
   },
   {
    "duration": 0,
    "start_time": "2022-05-22T21:07:08.119Z"
   },
   {
    "duration": 709,
    "start_time": "2022-05-22T21:07:41.076Z"
   },
   {
    "duration": 25,
    "start_time": "2022-05-22T21:07:41.787Z"
   },
   {
    "duration": 12,
    "start_time": "2022-05-22T21:07:41.816Z"
   },
   {
    "duration": 11,
    "start_time": "2022-05-22T21:07:41.829Z"
   },
   {
    "duration": 25,
    "start_time": "2022-05-22T21:07:41.842Z"
   },
   {
    "duration": 7,
    "start_time": "2022-05-22T21:07:41.869Z"
   },
   {
    "duration": 19,
    "start_time": "2022-05-22T21:07:41.878Z"
   },
   {
    "duration": 40,
    "start_time": "2022-05-22T21:07:41.899Z"
   },
   {
    "duration": 8,
    "start_time": "2022-05-22T21:07:41.941Z"
   },
   {
    "duration": 16,
    "start_time": "2022-05-22T21:07:41.950Z"
   },
   {
    "duration": 24,
    "start_time": "2022-05-22T21:07:41.968Z"
   },
   {
    "duration": 12,
    "start_time": "2022-05-22T21:07:41.993Z"
   },
   {
    "duration": 20,
    "start_time": "2022-05-22T21:07:42.007Z"
   },
   {
    "duration": 8,
    "start_time": "2022-05-22T21:07:42.028Z"
   },
   {
    "duration": 14,
    "start_time": "2022-05-22T21:07:42.037Z"
   },
   {
    "duration": 14,
    "start_time": "2022-05-22T21:07:42.052Z"
   },
   {
    "duration": 8,
    "start_time": "2022-05-22T21:07:42.068Z"
   },
   {
    "duration": 9,
    "start_time": "2022-05-22T21:07:42.077Z"
   },
   {
    "duration": 9,
    "start_time": "2022-05-22T21:07:42.094Z"
   },
   {
    "duration": 13,
    "start_time": "2022-05-22T21:07:42.105Z"
   },
   {
    "duration": 6,
    "start_time": "2022-05-22T21:07:42.119Z"
   },
   {
    "duration": 14,
    "start_time": "2022-05-22T21:07:42.127Z"
   },
   {
    "duration": 7,
    "start_time": "2022-05-22T21:07:42.143Z"
   },
   {
    "duration": 14,
    "start_time": "2022-05-22T21:07:42.152Z"
   },
   {
    "duration": 184,
    "start_time": "2022-05-22T21:07:42.168Z"
   },
   {
    "duration": 11,
    "start_time": "2022-05-22T21:07:42.354Z"
   },
   {
    "duration": 138,
    "start_time": "2022-05-22T21:07:42.368Z"
   },
   {
    "duration": 11,
    "start_time": "2022-05-22T21:07:42.508Z"
   },
   {
    "duration": 13,
    "start_time": "2022-05-22T21:07:42.522Z"
   },
   {
    "duration": 9,
    "start_time": "2022-05-22T21:07:42.537Z"
   },
   {
    "duration": 7,
    "start_time": "2022-05-22T21:07:42.548Z"
   },
   {
    "duration": 348,
    "start_time": "2022-05-22T21:07:42.557Z"
   },
   {
    "duration": 220,
    "start_time": "2022-05-22T21:07:42.907Z"
   },
   {
    "duration": 6,
    "start_time": "2022-05-22T21:07:43.129Z"
   },
   {
    "duration": 294,
    "start_time": "2022-05-22T21:07:43.137Z"
   },
   {
    "duration": 227,
    "start_time": "2022-05-22T21:07:43.433Z"
   },
   {
    "duration": 373,
    "start_time": "2022-05-22T21:07:43.661Z"
   },
   {
    "duration": 10,
    "start_time": "2022-05-22T21:07:44.036Z"
   },
   {
    "duration": 115,
    "start_time": "2022-05-22T21:07:44.048Z"
   },
   {
    "duration": 137,
    "start_time": "2022-05-22T21:07:44.165Z"
   },
   {
    "duration": 5,
    "start_time": "2022-05-22T21:08:54.069Z"
   },
   {
    "duration": 4,
    "start_time": "2022-05-22T21:10:32.112Z"
   },
   {
    "duration": 3,
    "start_time": "2022-05-22T21:12:02.855Z"
   },
   {
    "duration": 79,
    "start_time": "2022-05-22T21:13:09.410Z"
   },
   {
    "duration": 8,
    "start_time": "2022-05-22T21:13:22.057Z"
   },
   {
    "duration": 240,
    "start_time": "2022-05-22T21:13:25.347Z"
   },
   {
    "duration": 134,
    "start_time": "2022-05-22T21:13:34.145Z"
   },
   {
    "duration": 727,
    "start_time": "2022-05-22T21:14:58.810Z"
   },
   {
    "duration": 25,
    "start_time": "2022-05-22T21:14:59.539Z"
   },
   {
    "duration": 12,
    "start_time": "2022-05-22T21:14:59.566Z"
   },
   {
    "duration": 11,
    "start_time": "2022-05-22T21:14:59.580Z"
   },
   {
    "duration": 37,
    "start_time": "2022-05-22T21:14:59.597Z"
   },
   {
    "duration": 3,
    "start_time": "2022-05-22T21:14:59.636Z"
   },
   {
    "duration": 10,
    "start_time": "2022-05-22T21:14:59.641Z"
   },
   {
    "duration": 39,
    "start_time": "2022-05-22T21:14:59.653Z"
   },
   {
    "duration": 15,
    "start_time": "2022-05-22T21:14:59.694Z"
   },
   {
    "duration": 20,
    "start_time": "2022-05-22T21:14:59.713Z"
   },
   {
    "duration": 20,
    "start_time": "2022-05-22T21:14:59.735Z"
   },
   {
    "duration": 12,
    "start_time": "2022-05-22T21:14:59.757Z"
   },
   {
    "duration": 14,
    "start_time": "2022-05-22T21:14:59.771Z"
   },
   {
    "duration": 13,
    "start_time": "2022-05-22T21:14:59.798Z"
   },
   {
    "duration": 14,
    "start_time": "2022-05-22T21:14:59.813Z"
   },
   {
    "duration": 13,
    "start_time": "2022-05-22T21:14:59.829Z"
   },
   {
    "duration": 4,
    "start_time": "2022-05-22T21:14:59.844Z"
   },
   {
    "duration": 8,
    "start_time": "2022-05-22T21:14:59.850Z"
   },
   {
    "duration": 9,
    "start_time": "2022-05-22T21:14:59.860Z"
   },
   {
    "duration": 40,
    "start_time": "2022-05-22T21:14:59.871Z"
   },
   {
    "duration": 10,
    "start_time": "2022-05-22T21:14:59.913Z"
   },
   {
    "duration": 21,
    "start_time": "2022-05-22T21:14:59.925Z"
   },
   {
    "duration": 7,
    "start_time": "2022-05-22T21:14:59.948Z"
   },
   {
    "duration": 14,
    "start_time": "2022-05-22T21:14:59.957Z"
   },
   {
    "duration": 183,
    "start_time": "2022-05-22T21:14:59.973Z"
   },
   {
    "duration": 10,
    "start_time": "2022-05-22T21:15:00.158Z"
   },
   {
    "duration": 144,
    "start_time": "2022-05-22T21:15:00.170Z"
   },
   {
    "duration": 7,
    "start_time": "2022-05-22T21:15:00.317Z"
   },
   {
    "duration": 10,
    "start_time": "2022-05-22T21:15:00.326Z"
   },
   {
    "duration": 20,
    "start_time": "2022-05-22T21:15:00.337Z"
   },
   {
    "duration": 17,
    "start_time": "2022-05-22T21:15:00.359Z"
   },
   {
    "duration": 385,
    "start_time": "2022-05-22T21:15:00.378Z"
   },
   {
    "duration": 239,
    "start_time": "2022-05-22T21:15:00.765Z"
   },
   {
    "duration": 7,
    "start_time": "2022-05-22T21:15:01.008Z"
   },
   {
    "duration": 327,
    "start_time": "2022-05-22T21:15:01.017Z"
   },
   {
    "duration": 231,
    "start_time": "2022-05-22T21:15:01.345Z"
   },
   {
    "duration": 370,
    "start_time": "2022-05-22T21:15:01.577Z"
   },
   {
    "duration": 11,
    "start_time": "2022-05-22T21:15:01.949Z"
   },
   {
    "duration": 158,
    "start_time": "2022-05-22T21:15:01.961Z"
   },
   {
    "duration": 141,
    "start_time": "2022-05-22T21:15:02.121Z"
   },
   {
    "duration": 5,
    "start_time": "2022-05-22T21:15:02.264Z"
   },
   {
    "duration": 217,
    "start_time": "2022-05-22T21:15:02.271Z"
   },
   {
    "duration": 149,
    "start_time": "2022-05-22T21:19:37.143Z"
   },
   {
    "duration": 122,
    "start_time": "2022-05-22T21:19:43.325Z"
   },
   {
    "duration": 53,
    "start_time": "2022-05-24T19:55:12.642Z"
   },
   {
    "duration": 835,
    "start_time": "2022-05-24T19:55:18.209Z"
   },
   {
    "duration": 67,
    "start_time": "2022-05-24T19:55:19.046Z"
   },
   {
    "duration": 12,
    "start_time": "2022-05-24T19:55:19.115Z"
   },
   {
    "duration": 12,
    "start_time": "2022-05-24T19:55:19.129Z"
   },
   {
    "duration": 23,
    "start_time": "2022-05-24T19:55:19.143Z"
   },
   {
    "duration": 16,
    "start_time": "2022-05-24T19:55:19.168Z"
   },
   {
    "duration": 16,
    "start_time": "2022-05-24T19:55:19.186Z"
   },
   {
    "duration": 107,
    "start_time": "2022-05-24T19:55:19.204Z"
   },
   {
    "duration": 8,
    "start_time": "2022-05-24T19:55:19.312Z"
   },
   {
    "duration": 30,
    "start_time": "2022-05-24T19:55:19.323Z"
   },
   {
    "duration": 23,
    "start_time": "2022-05-24T19:55:19.355Z"
   },
   {
    "duration": 16,
    "start_time": "2022-05-24T19:55:19.380Z"
   },
   {
    "duration": 65,
    "start_time": "2022-05-24T19:55:19.398Z"
   },
   {
    "duration": 7,
    "start_time": "2022-05-24T19:55:19.464Z"
   },
   {
    "duration": 24,
    "start_time": "2022-05-24T19:55:19.473Z"
   },
   {
    "duration": 17,
    "start_time": "2022-05-24T19:55:19.499Z"
   },
   {
    "duration": 9,
    "start_time": "2022-05-24T19:55:19.518Z"
   },
   {
    "duration": 15,
    "start_time": "2022-05-24T19:55:19.529Z"
   },
   {
    "duration": 18,
    "start_time": "2022-05-24T19:55:19.546Z"
   },
   {
    "duration": 12,
    "start_time": "2022-05-24T19:55:19.565Z"
   },
   {
    "duration": 28,
    "start_time": "2022-05-24T19:55:19.579Z"
   },
   {
    "duration": 28,
    "start_time": "2022-05-24T19:55:19.608Z"
   },
   {
    "duration": 25,
    "start_time": "2022-05-24T19:55:19.638Z"
   },
   {
    "duration": 187,
    "start_time": "2022-05-24T19:55:19.664Z"
   },
   {
    "duration": 12,
    "start_time": "2022-05-24T19:55:19.854Z"
   },
   {
    "duration": 148,
    "start_time": "2022-05-24T19:55:19.868Z"
   },
   {
    "duration": 7,
    "start_time": "2022-05-24T19:55:20.018Z"
   },
   {
    "duration": 11,
    "start_time": "2022-05-24T19:55:20.029Z"
   },
   {
    "duration": 9,
    "start_time": "2022-05-24T19:55:20.042Z"
   },
   {
    "duration": 11,
    "start_time": "2022-05-24T19:55:20.053Z"
   },
   {
    "duration": 330,
    "start_time": "2022-05-24T19:55:20.066Z"
   },
   {
    "duration": 207,
    "start_time": "2022-05-24T19:55:20.398Z"
   },
   {
    "duration": 7,
    "start_time": "2022-05-24T19:55:20.606Z"
   },
   {
    "duration": 339,
    "start_time": "2022-05-24T19:55:20.614Z"
   },
   {
    "duration": 216,
    "start_time": "2022-05-24T19:55:20.955Z"
   },
   {
    "duration": 340,
    "start_time": "2022-05-24T19:55:21.172Z"
   },
   {
    "duration": 10,
    "start_time": "2022-05-24T19:55:21.514Z"
   },
   {
    "duration": 122,
    "start_time": "2022-05-24T19:55:21.526Z"
   },
   {
    "duration": 124,
    "start_time": "2022-05-24T19:55:21.650Z"
   },
   {
    "duration": 19,
    "start_time": "2022-05-24T19:55:21.776Z"
   },
   {
    "duration": 203,
    "start_time": "2022-05-24T19:55:21.797Z"
   },
   {
    "duration": 11,
    "start_time": "2022-05-24T20:03:12.983Z"
   },
   {
    "duration": 10,
    "start_time": "2022-05-24T20:03:20.097Z"
   },
   {
    "duration": 55,
    "start_time": "2022-05-24T20:04:04.161Z"
   },
   {
    "duration": 12,
    "start_time": "2022-05-24T20:04:11.447Z"
   },
   {
    "duration": 10,
    "start_time": "2022-05-24T20:07:09.405Z"
   },
   {
    "duration": 10,
    "start_time": "2022-05-24T20:07:14.503Z"
   },
   {
    "duration": 11,
    "start_time": "2022-05-24T20:07:18.205Z"
   },
   {
    "duration": 40,
    "start_time": "2022-05-24T20:11:43.204Z"
   },
   {
    "duration": 191,
    "start_time": "2022-05-24T20:11:51.332Z"
   },
   {
    "duration": 680,
    "start_time": "2022-05-24T20:12:34.638Z"
   },
   {
    "duration": 26,
    "start_time": "2022-05-24T20:12:35.320Z"
   },
   {
    "duration": 11,
    "start_time": "2022-05-24T20:12:35.347Z"
   },
   {
    "duration": 30,
    "start_time": "2022-05-24T20:12:35.362Z"
   },
   {
    "duration": 29,
    "start_time": "2022-05-24T20:12:35.394Z"
   },
   {
    "duration": 56,
    "start_time": "2022-05-24T20:12:35.425Z"
   },
   {
    "duration": 14,
    "start_time": "2022-05-24T20:12:35.484Z"
   },
   {
    "duration": 51,
    "start_time": "2022-05-24T20:12:35.500Z"
   },
   {
    "duration": 12,
    "start_time": "2022-05-24T20:12:35.553Z"
   },
   {
    "duration": 14,
    "start_time": "2022-05-24T20:12:35.568Z"
   },
   {
    "duration": 28,
    "start_time": "2022-05-24T20:12:35.584Z"
   },
   {
    "duration": 7,
    "start_time": "2022-05-24T20:12:35.614Z"
   },
   {
    "duration": 17,
    "start_time": "2022-05-24T20:12:35.623Z"
   },
   {
    "duration": 15,
    "start_time": "2022-05-24T20:12:35.642Z"
   },
   {
    "duration": 6,
    "start_time": "2022-05-24T20:12:35.658Z"
   },
   {
    "duration": 7,
    "start_time": "2022-05-24T20:12:35.666Z"
   },
   {
    "duration": 11,
    "start_time": "2022-05-24T20:12:35.675Z"
   },
   {
    "duration": 16,
    "start_time": "2022-05-24T20:12:35.688Z"
   },
   {
    "duration": 26,
    "start_time": "2022-05-24T20:12:35.707Z"
   },
   {
    "duration": 17,
    "start_time": "2022-05-24T20:12:35.735Z"
   },
   {
    "duration": 12,
    "start_time": "2022-05-24T20:12:35.754Z"
   },
   {
    "duration": 171,
    "start_time": "2022-05-24T20:12:35.767Z"
   },
   {
    "duration": 10,
    "start_time": "2022-05-24T20:12:35.940Z"
   },
   {
    "duration": 125,
    "start_time": "2022-05-24T20:12:35.952Z"
   },
   {
    "duration": 29,
    "start_time": "2022-05-24T20:12:36.078Z"
   },
   {
    "duration": 23,
    "start_time": "2022-05-24T20:12:36.109Z"
   },
   {
    "duration": 7,
    "start_time": "2022-05-24T20:12:36.134Z"
   },
   {
    "duration": 8,
    "start_time": "2022-05-24T20:12:36.144Z"
   },
   {
    "duration": 353,
    "start_time": "2022-05-24T20:12:36.153Z"
   },
   {
    "duration": 230,
    "start_time": "2022-05-24T20:12:36.507Z"
   },
   {
    "duration": 6,
    "start_time": "2022-05-24T20:12:36.739Z"
   },
   {
    "duration": 328,
    "start_time": "2022-05-24T20:12:36.746Z"
   },
   {
    "duration": 244,
    "start_time": "2022-05-24T20:12:37.076Z"
   },
   {
    "duration": 341,
    "start_time": "2022-05-24T20:12:37.322Z"
   },
   {
    "duration": 10,
    "start_time": "2022-05-24T20:12:37.665Z"
   },
   {
    "duration": 114,
    "start_time": "2022-05-24T20:12:37.676Z"
   },
   {
    "duration": 126,
    "start_time": "2022-05-24T20:12:37.792Z"
   },
   {
    "duration": 5,
    "start_time": "2022-05-24T20:12:37.920Z"
   },
   {
    "duration": 233,
    "start_time": "2022-05-24T20:12:37.927Z"
   },
   {
    "duration": 96,
    "start_time": "2022-05-24T20:12:47.623Z"
   },
   {
    "duration": 3,
    "start_time": "2022-05-24T20:12:54.855Z"
   },
   {
    "duration": 29,
    "start_time": "2022-05-24T20:12:54.860Z"
   },
   {
    "duration": 9,
    "start_time": "2022-05-24T20:12:54.891Z"
   },
   {
    "duration": 27,
    "start_time": "2022-05-24T20:12:54.903Z"
   },
   {
    "duration": 14,
    "start_time": "2022-05-24T20:12:54.932Z"
   },
   {
    "duration": 44,
    "start_time": "2022-05-24T20:12:54.948Z"
   },
   {
    "duration": 14,
    "start_time": "2022-05-24T20:12:54.993Z"
   },
   {
    "duration": 21,
    "start_time": "2022-05-24T20:12:55.012Z"
   },
   {
    "duration": 11,
    "start_time": "2022-05-24T20:12:57.625Z"
   },
   {
    "duration": 11,
    "start_time": "2022-05-24T20:12:58.809Z"
   },
   {
    "duration": 4,
    "start_time": "2022-05-24T20:13:24.530Z"
   },
   {
    "duration": 5,
    "start_time": "2022-05-24T20:13:28.052Z"
   },
   {
    "duration": 5,
    "start_time": "2022-05-24T20:14:21.357Z"
   },
   {
    "duration": 10,
    "start_time": "2022-05-24T20:24:57.426Z"
   },
   {
    "duration": 30,
    "start_time": "2022-05-24T20:29:23.865Z"
   },
   {
    "duration": 7,
    "start_time": "2022-05-24T20:37:26.116Z"
   },
   {
    "duration": 151,
    "start_time": "2022-05-24T20:38:12.023Z"
   },
   {
    "duration": 11,
    "start_time": "2022-05-24T20:38:52.719Z"
   },
   {
    "duration": 158,
    "start_time": "2022-05-24T20:40:02.371Z"
   },
   {
    "duration": 285,
    "start_time": "2022-05-24T20:40:03.131Z"
   },
   {
    "duration": 3,
    "start_time": "2022-05-24T20:40:14.238Z"
   },
   {
    "duration": 29,
    "start_time": "2022-05-24T20:40:14.243Z"
   },
   {
    "duration": 7,
    "start_time": "2022-05-24T20:40:14.274Z"
   },
   {
    "duration": 18,
    "start_time": "2022-05-24T20:40:14.283Z"
   },
   {
    "duration": 14,
    "start_time": "2022-05-24T20:40:14.303Z"
   },
   {
    "duration": 41,
    "start_time": "2022-05-24T20:40:14.319Z"
   },
   {
    "duration": 11,
    "start_time": "2022-05-24T20:40:14.361Z"
   },
   {
    "duration": 19,
    "start_time": "2022-05-24T20:40:14.373Z"
   },
   {
    "duration": 10,
    "start_time": "2022-05-24T20:40:14.394Z"
   },
   {
    "duration": 11,
    "start_time": "2022-05-24T20:40:14.406Z"
   },
   {
    "duration": 19,
    "start_time": "2022-05-24T20:40:14.419Z"
   },
   {
    "duration": 10,
    "start_time": "2022-05-24T20:40:14.440Z"
   },
   {
    "duration": 18,
    "start_time": "2022-05-24T20:40:14.451Z"
   },
   {
    "duration": 7,
    "start_time": "2022-05-24T20:40:14.471Z"
   },
   {
    "duration": 17,
    "start_time": "2022-05-24T20:40:14.480Z"
   },
   {
    "duration": 4,
    "start_time": "2022-05-24T20:40:14.498Z"
   },
   {
    "duration": 11,
    "start_time": "2022-05-24T20:40:14.504Z"
   },
   {
    "duration": 6,
    "start_time": "2022-05-24T20:40:14.516Z"
   },
   {
    "duration": 14,
    "start_time": "2022-05-24T20:40:14.523Z"
   },
   {
    "duration": 14,
    "start_time": "2022-05-24T20:40:14.538Z"
   },
   {
    "duration": 189,
    "start_time": "2022-05-24T20:40:14.554Z"
   },
   {
    "duration": 113,
    "start_time": "2022-05-24T20:40:18.403Z"
   },
   {
    "duration": 8,
    "start_time": "2022-05-24T20:40:20.443Z"
   },
   {
    "duration": 6,
    "start_time": "2022-05-24T20:40:22.881Z"
   },
   {
    "duration": 215,
    "start_time": "2022-05-24T20:43:08.586Z"
   },
   {
    "duration": 188,
    "start_time": "2022-05-24T20:53:09.978Z"
   },
   {
    "duration": 196,
    "start_time": "2022-05-24T21:00:25.526Z"
   },
   {
    "duration": 4,
    "start_time": "2022-05-24T21:01:00.847Z"
   },
   {
    "duration": 198,
    "start_time": "2022-05-24T21:01:04.549Z"
   },
   {
    "duration": 196,
    "start_time": "2022-05-24T21:01:13.527Z"
   },
   {
    "duration": 33,
    "start_time": "2022-05-24T21:02:09.043Z"
   },
   {
    "duration": 307,
    "start_time": "2022-05-24T21:02:22.324Z"
   },
   {
    "duration": 31,
    "start_time": "2022-05-24T21:02:31.010Z"
   },
   {
    "duration": 302,
    "start_time": "2022-05-24T21:02:34.670Z"
   },
   {
    "duration": 4,
    "start_time": "2022-05-24T21:02:48.257Z"
   },
   {
    "duration": 5,
    "start_time": "2022-05-24T21:05:00.295Z"
   },
   {
    "duration": 4,
    "start_time": "2022-05-24T21:05:09.402Z"
   },
   {
    "duration": 183,
    "start_time": "2022-05-24T21:05:28.858Z"
   },
   {
    "duration": 178,
    "start_time": "2022-05-24T21:05:31.402Z"
   },
   {
    "duration": 268,
    "start_time": "2022-05-24T21:08:38.248Z"
   },
   {
    "duration": 3,
    "start_time": "2022-05-24T21:09:06.953Z"
   },
   {
    "duration": 180,
    "start_time": "2022-05-24T21:09:13.453Z"
   },
   {
    "duration": 190,
    "start_time": "2022-05-24T21:09:25.258Z"
   },
   {
    "duration": 200,
    "start_time": "2022-05-24T21:10:27.450Z"
   },
   {
    "duration": 210,
    "start_time": "2022-05-24T21:10:34.748Z"
   },
   {
    "duration": 33,
    "start_time": "2022-05-24T21:11:37.750Z"
   },
   {
    "duration": 205,
    "start_time": "2022-05-24T21:11:42.916Z"
   },
   {
    "duration": 34,
    "start_time": "2022-05-24T21:17:00.437Z"
   },
   {
    "duration": 206,
    "start_time": "2022-05-24T21:17:12.346Z"
   },
   {
    "duration": 202,
    "start_time": "2022-05-24T21:17:22.744Z"
   },
   {
    "duration": 190,
    "start_time": "2022-05-24T21:24:22.525Z"
   },
   {
    "duration": 420,
    "start_time": "2022-05-24T21:24:28.492Z"
   },
   {
    "duration": 380,
    "start_time": "2022-05-24T21:24:46.637Z"
   },
   {
    "duration": 338,
    "start_time": "2022-05-24T21:24:49.095Z"
   },
   {
    "duration": 217,
    "start_time": "2022-05-24T21:26:30.794Z"
   },
   {
    "duration": 368,
    "start_time": "2022-05-24T21:26:40.470Z"
   },
   {
    "duration": 851,
    "start_time": "2022-05-25T19:15:06.702Z"
   },
   {
    "duration": 64,
    "start_time": "2022-05-25T19:15:07.555Z"
   },
   {
    "duration": 11,
    "start_time": "2022-05-25T19:15:07.620Z"
   },
   {
    "duration": 11,
    "start_time": "2022-05-25T19:15:07.632Z"
   },
   {
    "duration": 10,
    "start_time": "2022-05-25T19:15:07.644Z"
   },
   {
    "duration": 72,
    "start_time": "2022-05-25T19:15:07.655Z"
   },
   {
    "duration": 10,
    "start_time": "2022-05-25T19:15:07.728Z"
   },
   {
    "duration": 23,
    "start_time": "2022-05-25T19:15:07.740Z"
   },
   {
    "duration": 16,
    "start_time": "2022-05-25T19:15:07.765Z"
   },
   {
    "duration": 21,
    "start_time": "2022-05-25T19:15:07.783Z"
   },
   {
    "duration": 56,
    "start_time": "2022-05-25T19:15:07.806Z"
   },
   {
    "duration": 9,
    "start_time": "2022-05-25T19:15:07.863Z"
   },
   {
    "duration": 14,
    "start_time": "2022-05-25T19:15:07.873Z"
   },
   {
    "duration": 6,
    "start_time": "2022-05-25T19:15:07.888Z"
   },
   {
    "duration": 7,
    "start_time": "2022-05-25T19:15:07.896Z"
   },
   {
    "duration": 7,
    "start_time": "2022-05-25T19:15:07.904Z"
   },
   {
    "duration": 11,
    "start_time": "2022-05-25T19:15:07.913Z"
   },
   {
    "duration": 7,
    "start_time": "2022-05-25T19:15:07.925Z"
   },
   {
    "duration": 18,
    "start_time": "2022-05-25T19:15:07.933Z"
   },
   {
    "duration": 11,
    "start_time": "2022-05-25T19:15:07.952Z"
   },
   {
    "duration": 162,
    "start_time": "2022-05-25T19:15:07.964Z"
   },
   {
    "duration": 125,
    "start_time": "2022-05-25T19:15:08.128Z"
   },
   {
    "duration": 5,
    "start_time": "2022-05-25T19:15:08.255Z"
   },
   {
    "duration": 8,
    "start_time": "2022-05-25T19:15:08.261Z"
   },
   {
    "duration": 7,
    "start_time": "2022-05-25T19:15:08.271Z"
   },
   {
    "duration": 9,
    "start_time": "2022-05-25T19:15:08.279Z"
   },
   {
    "duration": 555,
    "start_time": "2022-05-25T19:15:08.301Z"
   },
   {
    "duration": 348,
    "start_time": "2022-05-25T19:15:08.859Z"
   },
   {
    "duration": 6,
    "start_time": "2022-05-25T19:15:09.208Z"
   },
   {
    "duration": 338,
    "start_time": "2022-05-25T19:15:09.215Z"
   },
   {
    "duration": 213,
    "start_time": "2022-05-25T19:15:09.554Z"
   },
   {
    "duration": 364,
    "start_time": "2022-05-25T19:15:09.768Z"
   },
   {
    "duration": 8,
    "start_time": "2022-05-25T19:15:10.134Z"
   },
   {
    "duration": 183,
    "start_time": "2022-05-25T19:15:10.144Z"
   },
   {
    "duration": 110,
    "start_time": "2022-05-25T19:15:10.329Z"
   },
   {
    "duration": 4,
    "start_time": "2022-05-25T19:15:10.441Z"
   },
   {
    "duration": 136,
    "start_time": "2022-05-25T19:15:10.447Z"
   },
   {
    "duration": 5,
    "start_time": "2022-05-25T19:35:26.051Z"
   },
   {
    "duration": 5,
    "start_time": "2022-05-25T19:36:05.727Z"
   },
   {
    "duration": 236,
    "start_time": "2022-05-25T19:37:00.663Z"
   },
   {
    "duration": 340,
    "start_time": "2022-05-25T19:37:22.378Z"
   },
   {
    "duration": 252,
    "start_time": "2022-05-25T19:37:30.866Z"
   },
   {
    "duration": 301,
    "start_time": "2022-05-25T19:40:06.729Z"
   },
   {
    "duration": 319,
    "start_time": "2022-05-25T19:40:53.312Z"
   },
   {
    "duration": 358,
    "start_time": "2022-05-25T19:41:05.477Z"
   },
   {
    "duration": 331,
    "start_time": "2022-05-25T19:41:36.700Z"
   },
   {
    "duration": 419,
    "start_time": "2022-05-25T19:41:59.178Z"
   },
   {
    "duration": 354,
    "start_time": "2022-05-25T19:42:07.450Z"
   },
   {
    "duration": 521,
    "start_time": "2022-05-25T19:42:26.690Z"
   },
   {
    "duration": 408,
    "start_time": "2022-05-25T19:42:46.633Z"
   },
   {
    "duration": 458,
    "start_time": "2022-05-25T19:43:20.451Z"
   },
   {
    "duration": 87,
    "start_time": "2022-05-25T19:56:33.254Z"
   },
   {
    "duration": 102,
    "start_time": "2022-05-25T19:56:37.928Z"
   },
   {
    "duration": 126,
    "start_time": "2022-05-25T19:56:43.558Z"
   },
   {
    "duration": 106,
    "start_time": "2022-05-25T19:56:48.251Z"
   },
   {
    "duration": 192,
    "start_time": "2022-05-25T19:56:52.091Z"
   },
   {
    "duration": 119,
    "start_time": "2022-05-25T19:56:57.362Z"
   },
   {
    "duration": 104,
    "start_time": "2022-05-25T19:57:02.868Z"
   },
   {
    "duration": 112,
    "start_time": "2022-05-25T19:57:11.833Z"
   },
   {
    "duration": 44,
    "start_time": "2022-05-25T19:59:24.641Z"
   },
   {
    "duration": 50,
    "start_time": "2022-05-25T20:02:42.879Z"
   },
   {
    "duration": 140,
    "start_time": "2022-05-25T20:06:00.915Z"
   },
   {
    "duration": 138,
    "start_time": "2022-05-25T20:06:38.435Z"
   },
   {
    "duration": 27,
    "start_time": "2022-05-25T20:06:44.075Z"
   },
   {
    "duration": 130,
    "start_time": "2022-05-25T20:06:49.329Z"
   },
   {
    "duration": 254,
    "start_time": "2022-05-25T20:06:54.521Z"
   },
   {
    "duration": 134,
    "start_time": "2022-05-25T20:07:00.853Z"
   },
   {
    "duration": 143,
    "start_time": "2022-05-25T20:07:05.764Z"
   },
   {
    "duration": 127,
    "start_time": "2022-05-25T20:07:12.606Z"
   },
   {
    "duration": 230,
    "start_time": "2022-05-25T20:07:19.930Z"
   },
   {
    "duration": 113,
    "start_time": "2022-05-25T20:07:24.042Z"
   },
   {
    "duration": 128,
    "start_time": "2022-05-25T20:07:44.378Z"
   },
   {
    "duration": 6,
    "start_time": "2022-05-25T20:08:11.401Z"
   },
   {
    "duration": 7,
    "start_time": "2022-05-25T20:08:53.739Z"
   },
   {
    "duration": 135,
    "start_time": "2022-05-25T20:09:05.331Z"
   },
   {
    "duration": 138,
    "start_time": "2022-05-25T20:09:25.144Z"
   },
   {
    "duration": 131,
    "start_time": "2022-05-25T20:09:28.128Z"
   },
   {
    "duration": 151,
    "start_time": "2022-05-25T20:09:34.813Z"
   },
   {
    "duration": 134,
    "start_time": "2022-05-25T20:09:41.582Z"
   },
   {
    "duration": 136,
    "start_time": "2022-05-25T20:10:37.554Z"
   },
   {
    "duration": 167,
    "start_time": "2022-05-25T20:10:41.666Z"
   },
   {
    "duration": 162,
    "start_time": "2022-05-25T20:11:10.651Z"
   },
   {
    "duration": 39,
    "start_time": "2022-05-25T20:13:36.232Z"
   },
   {
    "duration": 8,
    "start_time": "2022-05-25T20:13:42.439Z"
   },
   {
    "duration": 8,
    "start_time": "2022-05-25T20:13:55.883Z"
   },
   {
    "duration": 5,
    "start_time": "2022-05-25T20:13:57.958Z"
   },
   {
    "duration": 84,
    "start_time": "2022-05-25T20:14:33.979Z"
   },
   {
    "duration": 233,
    "start_time": "2022-05-25T20:16:56.216Z"
   },
   {
    "duration": 158,
    "start_time": "2022-05-25T20:17:05.304Z"
   },
   {
    "duration": 269,
    "start_time": "2022-05-25T20:19:16.273Z"
   },
   {
    "duration": 5,
    "start_time": "2022-05-25T20:20:00.777Z"
   },
   {
    "duration": 31,
    "start_time": "2022-05-25T20:21:03.313Z"
   },
   {
    "duration": 169,
    "start_time": "2022-05-25T20:21:08.571Z"
   },
   {
    "duration": 5,
    "start_time": "2022-05-25T20:21:38.332Z"
   },
   {
    "duration": 34,
    "start_time": "2022-05-25T20:23:26.874Z"
   },
   {
    "duration": 31,
    "start_time": "2022-05-25T20:23:58.935Z"
   },
   {
    "duration": 5,
    "start_time": "2022-05-25T20:24:07.481Z"
   },
   {
    "duration": 173,
    "start_time": "2022-05-25T20:25:35.132Z"
   },
   {
    "duration": 4,
    "start_time": "2022-05-25T20:25:38.720Z"
   },
   {
    "duration": 5,
    "start_time": "2022-05-25T20:25:39.700Z"
   },
   {
    "duration": 110,
    "start_time": "2022-05-25T20:31:34.254Z"
   },
   {
    "duration": 47,
    "start_time": "2022-05-25T20:33:14.645Z"
   },
   {
    "duration": 216,
    "start_time": "2022-05-25T20:33:47.927Z"
   },
   {
    "duration": 233,
    "start_time": "2022-05-25T20:33:54.189Z"
   },
   {
    "duration": 237,
    "start_time": "2022-05-25T20:33:55.501Z"
   },
   {
    "duration": 14,
    "start_time": "2022-05-25T20:35:07.112Z"
   },
   {
    "duration": 23,
    "start_time": "2022-05-25T20:35:35.808Z"
   },
   {
    "duration": 76,
    "start_time": "2022-05-25T20:35:54.187Z"
   },
   {
    "duration": 96,
    "start_time": "2022-05-25T20:35:58.328Z"
   },
   {
    "duration": 5,
    "start_time": "2022-05-25T20:37:52.251Z"
   },
   {
    "duration": 5,
    "start_time": "2022-05-25T20:37:58.187Z"
   },
   {
    "duration": 5,
    "start_time": "2022-05-25T20:38:11.981Z"
   },
   {
    "duration": 5,
    "start_time": "2022-05-25T20:38:17.633Z"
   },
   {
    "duration": 5,
    "start_time": "2022-05-25T20:38:18.306Z"
   },
   {
    "duration": 14,
    "start_time": "2022-05-25T20:39:52.200Z"
   },
   {
    "duration": 152,
    "start_time": "2022-05-25T20:40:59.073Z"
   },
   {
    "duration": 676,
    "start_time": "2022-05-25T20:41:34.028Z"
   },
   {
    "duration": 190,
    "start_time": "2022-05-25T20:41:39.054Z"
   },
   {
    "duration": 196,
    "start_time": "2022-05-25T20:45:29.366Z"
   },
   {
    "duration": 189,
    "start_time": "2022-05-25T20:54:57.963Z"
   },
   {
    "duration": 161,
    "start_time": "2022-05-25T20:55:48.824Z"
   },
   {
    "duration": 37,
    "start_time": "2022-05-25T21:03:11.025Z"
   },
   {
    "duration": 11,
    "start_time": "2022-05-25T21:04:19.799Z"
   },
   {
    "duration": 180,
    "start_time": "2022-05-25T21:04:58.816Z"
   },
   {
    "duration": 14,
    "start_time": "2022-05-25T21:05:01.308Z"
   },
   {
    "duration": 15,
    "start_time": "2022-05-25T21:05:28.540Z"
   },
   {
    "duration": 11,
    "start_time": "2022-05-25T21:08:56.587Z"
   },
   {
    "duration": 500,
    "start_time": "2022-05-25T21:33:46.165Z"
   },
   {
    "duration": 536,
    "start_time": "2022-05-25T21:34:07.888Z"
   },
   {
    "duration": 443,
    "start_time": "2022-05-25T21:34:38.238Z"
   },
   {
    "duration": 35,
    "start_time": "2022-05-25T21:34:58.942Z"
   },
   {
    "duration": 326,
    "start_time": "2022-05-25T21:35:03.226Z"
   },
   {
    "duration": 5020,
    "start_time": "2022-05-25T21:35:05.664Z"
   },
   {
    "duration": 9,
    "start_time": "2022-05-25T21:35:21.558Z"
   },
   {
    "duration": 17,
    "start_time": "2022-05-25T21:35:51.913Z"
   },
   {
    "duration": 820,
    "start_time": "2022-05-25T21:36:05.218Z"
   },
   {
    "duration": 876,
    "start_time": "2022-05-25T21:36:41.258Z"
   },
   {
    "duration": 581,
    "start_time": "2022-05-25T21:37:18.076Z"
   },
   {
    "duration": 1248,
    "start_time": "2022-05-25T21:37:57.599Z"
   },
   {
    "duration": 65,
    "start_time": "2022-05-25T21:37:58.849Z"
   },
   {
    "duration": 13,
    "start_time": "2022-05-25T21:37:58.915Z"
   },
   {
    "duration": 18,
    "start_time": "2022-05-25T21:37:58.930Z"
   },
   {
    "duration": 17,
    "start_time": "2022-05-25T21:37:58.950Z"
   },
   {
    "duration": 88,
    "start_time": "2022-05-25T21:37:58.969Z"
   },
   {
    "duration": 12,
    "start_time": "2022-05-25T21:37:59.059Z"
   },
   {
    "duration": 37,
    "start_time": "2022-05-25T21:37:59.073Z"
   },
   {
    "duration": 14,
    "start_time": "2022-05-25T21:37:59.112Z"
   },
   {
    "duration": 40,
    "start_time": "2022-05-25T21:37:59.130Z"
   },
   {
    "duration": 66,
    "start_time": "2022-05-25T21:37:59.172Z"
   },
   {
    "duration": 11,
    "start_time": "2022-05-25T21:37:59.239Z"
   },
   {
    "duration": 36,
    "start_time": "2022-05-25T21:37:59.252Z"
   },
   {
    "duration": 22,
    "start_time": "2022-05-25T21:37:59.289Z"
   },
   {
    "duration": 9,
    "start_time": "2022-05-25T21:37:59.313Z"
   },
   {
    "duration": 17,
    "start_time": "2022-05-25T21:37:59.324Z"
   },
   {
    "duration": 15,
    "start_time": "2022-05-25T21:37:59.343Z"
   },
   {
    "duration": 14,
    "start_time": "2022-05-25T21:37:59.360Z"
   },
   {
    "duration": 24,
    "start_time": "2022-05-25T21:37:59.376Z"
   },
   {
    "duration": 38,
    "start_time": "2022-05-25T21:37:59.402Z"
   },
   {
    "duration": 181,
    "start_time": "2022-05-25T21:37:59.442Z"
   },
   {
    "duration": 137,
    "start_time": "2022-05-25T21:37:59.625Z"
   },
   {
    "duration": 8,
    "start_time": "2022-05-25T21:37:59.763Z"
   },
   {
    "duration": 25,
    "start_time": "2022-05-25T21:37:59.773Z"
   },
   {
    "duration": 16,
    "start_time": "2022-05-25T21:37:59.800Z"
   },
   {
    "duration": 23,
    "start_time": "2022-05-25T21:37:59.818Z"
   },
   {
    "duration": 570,
    "start_time": "2022-05-25T21:37:59.843Z"
   },
   {
    "duration": 478,
    "start_time": "2022-05-25T21:38:00.416Z"
   },
   {
    "duration": 7,
    "start_time": "2022-05-25T21:38:00.901Z"
   },
   {
    "duration": 589,
    "start_time": "2022-05-25T21:38:00.910Z"
   },
   {
    "duration": 5,
    "start_time": "2022-05-25T21:38:01.502Z"
   },
   {
    "duration": 17,
    "start_time": "2022-05-25T21:38:01.509Z"
   },
   {
    "duration": 496,
    "start_time": "2022-05-25T21:38:01.528Z"
   },
   {
    "duration": 528,
    "start_time": "2022-05-25T21:38:02.025Z"
   },
   {
    "duration": 10,
    "start_time": "2022-05-25T21:38:02.555Z"
   },
   {
    "duration": 171,
    "start_time": "2022-05-25T21:38:02.567Z"
   },
   {
    "duration": 5,
    "start_time": "2022-05-25T21:38:02.739Z"
   },
   {
    "duration": 193,
    "start_time": "2022-05-25T21:38:02.746Z"
   },
   {
    "duration": 4,
    "start_time": "2022-05-25T21:38:02.941Z"
   },
   {
    "duration": 261,
    "start_time": "2022-05-25T21:38:02.947Z"
   },
   {
    "duration": 94,
    "start_time": "2022-05-25T21:38:03.210Z"
   },
   {
    "duration": 78,
    "start_time": "2022-05-25T21:38:03.306Z"
   },
   {
    "duration": 6,
    "start_time": "2022-05-25T21:38:03.401Z"
   },
   {
    "duration": 25,
    "start_time": "2022-05-25T21:38:03.409Z"
   },
   {
    "duration": 170,
    "start_time": "2022-05-25T21:38:03.436Z"
   },
   {
    "duration": 12,
    "start_time": "2022-05-25T21:38:03.608Z"
   },
   {
    "duration": 148,
    "start_time": "2022-05-25T21:38:03.622Z"
   },
   {
    "duration": 0,
    "start_time": "2022-05-25T21:38:03.772Z"
   },
   {
    "duration": 0,
    "start_time": "2022-05-25T21:38:03.774Z"
   },
   {
    "duration": 10,
    "start_time": "2022-05-25T21:38:22.648Z"
   },
   {
    "duration": 9,
    "start_time": "2022-05-25T21:39:00.704Z"
   },
   {
    "duration": 188,
    "start_time": "2022-05-25T21:39:32.212Z"
   },
   {
    "duration": 11,
    "start_time": "2022-05-25T21:39:36.339Z"
   },
   {
    "duration": 10,
    "start_time": "2022-05-25T21:39:38.145Z"
   },
   {
    "duration": 9,
    "start_time": "2022-05-25T21:42:14.366Z"
   },
   {
    "duration": 25,
    "start_time": "2022-05-25T21:42:38.689Z"
   },
   {
    "duration": 459,
    "start_time": "2022-05-25T21:43:33.995Z"
   },
   {
    "duration": 14,
    "start_time": "2022-05-25T21:43:58.751Z"
   },
   {
    "duration": 72,
    "start_time": "2022-05-25T21:45:27.418Z"
   },
   {
    "duration": 18,
    "start_time": "2022-05-25T21:45:31.217Z"
   },
   {
    "duration": 17,
    "start_time": "2022-05-25T21:45:39.985Z"
   },
   {
    "duration": 20,
    "start_time": "2022-05-25T21:46:13.462Z"
   },
   {
    "duration": 36,
    "start_time": "2022-05-25T21:46:18.591Z"
   },
   {
    "duration": 54,
    "start_time": "2022-05-26T20:54:28.828Z"
   },
   {
    "duration": 1274,
    "start_time": "2022-05-26T20:54:34.641Z"
   },
   {
    "duration": 76,
    "start_time": "2022-05-26T20:54:35.918Z"
   },
   {
    "duration": 13,
    "start_time": "2022-05-26T20:54:35.999Z"
   },
   {
    "duration": 14,
    "start_time": "2022-05-26T20:54:36.014Z"
   },
   {
    "duration": 12,
    "start_time": "2022-05-26T20:54:36.030Z"
   },
   {
    "duration": 77,
    "start_time": "2022-05-26T20:54:36.044Z"
   },
   {
    "duration": 11,
    "start_time": "2022-05-26T20:54:36.122Z"
   },
   {
    "duration": 18,
    "start_time": "2022-05-26T20:54:36.134Z"
   },
   {
    "duration": 11,
    "start_time": "2022-05-26T20:54:36.154Z"
   },
   {
    "duration": 10,
    "start_time": "2022-05-26T20:54:36.167Z"
   },
   {
    "duration": 63,
    "start_time": "2022-05-26T20:54:36.179Z"
   },
   {
    "duration": 9,
    "start_time": "2022-05-26T20:54:36.244Z"
   },
   {
    "duration": 14,
    "start_time": "2022-05-26T20:54:36.254Z"
   },
   {
    "duration": 5,
    "start_time": "2022-05-26T20:54:36.269Z"
   },
   {
    "duration": 7,
    "start_time": "2022-05-26T20:54:36.276Z"
   },
   {
    "duration": 6,
    "start_time": "2022-05-26T20:54:36.284Z"
   },
   {
    "duration": 9,
    "start_time": "2022-05-26T20:54:36.291Z"
   },
   {
    "duration": 125,
    "start_time": "2022-05-26T20:54:36.301Z"
   },
   {
    "duration": 0,
    "start_time": "2022-05-26T20:54:36.429Z"
   },
   {
    "duration": 0,
    "start_time": "2022-05-26T20:54:36.430Z"
   },
   {
    "duration": 0,
    "start_time": "2022-05-26T20:54:36.432Z"
   },
   {
    "duration": 0,
    "start_time": "2022-05-26T20:54:36.433Z"
   },
   {
    "duration": 0,
    "start_time": "2022-05-26T20:54:36.435Z"
   },
   {
    "duration": 0,
    "start_time": "2022-05-26T20:54:36.437Z"
   },
   {
    "duration": 0,
    "start_time": "2022-05-26T20:54:36.438Z"
   },
   {
    "duration": 0,
    "start_time": "2022-05-26T20:54:36.439Z"
   },
   {
    "duration": 0,
    "start_time": "2022-05-26T20:54:36.440Z"
   },
   {
    "duration": 0,
    "start_time": "2022-05-26T20:54:36.442Z"
   },
   {
    "duration": 0,
    "start_time": "2022-05-26T20:54:36.442Z"
   },
   {
    "duration": 0,
    "start_time": "2022-05-26T20:54:36.444Z"
   },
   {
    "duration": 0,
    "start_time": "2022-05-26T20:54:36.445Z"
   },
   {
    "duration": 0,
    "start_time": "2022-05-26T20:54:36.446Z"
   },
   {
    "duration": 0,
    "start_time": "2022-05-26T20:54:36.447Z"
   },
   {
    "duration": 0,
    "start_time": "2022-05-26T20:54:36.448Z"
   },
   {
    "duration": 0,
    "start_time": "2022-05-26T20:54:36.449Z"
   },
   {
    "duration": 0,
    "start_time": "2022-05-26T20:54:36.450Z"
   },
   {
    "duration": 0,
    "start_time": "2022-05-26T20:54:36.451Z"
   },
   {
    "duration": 0,
    "start_time": "2022-05-26T20:54:36.452Z"
   },
   {
    "duration": 0,
    "start_time": "2022-05-26T20:54:36.453Z"
   },
   {
    "duration": 0,
    "start_time": "2022-05-26T20:54:36.454Z"
   },
   {
    "duration": 0,
    "start_time": "2022-05-26T20:54:36.455Z"
   },
   {
    "duration": 0,
    "start_time": "2022-05-26T20:54:36.456Z"
   },
   {
    "duration": 0,
    "start_time": "2022-05-26T20:54:36.457Z"
   },
   {
    "duration": 0,
    "start_time": "2022-05-26T20:54:36.458Z"
   },
   {
    "duration": 0,
    "start_time": "2022-05-26T20:54:36.459Z"
   },
   {
    "duration": 0,
    "start_time": "2022-05-26T20:54:36.502Z"
   },
   {
    "duration": 0,
    "start_time": "2022-05-26T20:54:36.503Z"
   },
   {
    "duration": 0,
    "start_time": "2022-05-26T20:54:36.504Z"
   },
   {
    "duration": 0,
    "start_time": "2022-05-26T20:54:36.505Z"
   },
   {
    "duration": 0,
    "start_time": "2022-05-26T20:54:36.506Z"
   },
   {
    "duration": 0,
    "start_time": "2022-05-26T20:54:36.507Z"
   },
   {
    "duration": 4,
    "start_time": "2022-05-26T20:55:05.747Z"
   },
   {
    "duration": 11,
    "start_time": "2022-05-26T20:55:57.775Z"
   },
   {
    "duration": 1115,
    "start_time": "2022-05-26T20:56:05.296Z"
   },
   {
    "duration": 29,
    "start_time": "2022-05-26T20:56:06.413Z"
   },
   {
    "duration": 12,
    "start_time": "2022-05-26T20:56:06.444Z"
   },
   {
    "duration": 13,
    "start_time": "2022-05-26T20:56:06.459Z"
   },
   {
    "duration": 14,
    "start_time": "2022-05-26T20:56:06.473Z"
   },
   {
    "duration": 46,
    "start_time": "2022-05-26T20:56:06.489Z"
   },
   {
    "duration": 11,
    "start_time": "2022-05-26T20:56:06.536Z"
   },
   {
    "duration": 22,
    "start_time": "2022-05-26T20:56:06.548Z"
   },
   {
    "duration": 11,
    "start_time": "2022-05-26T20:56:06.572Z"
   },
   {
    "duration": 8,
    "start_time": "2022-05-26T20:56:06.586Z"
   },
   {
    "duration": 22,
    "start_time": "2022-05-26T20:56:06.596Z"
   },
   {
    "duration": 10,
    "start_time": "2022-05-26T20:56:06.619Z"
   },
   {
    "duration": 11,
    "start_time": "2022-05-26T20:56:06.630Z"
   },
   {
    "duration": 5,
    "start_time": "2022-05-26T20:56:06.642Z"
   },
   {
    "duration": 7,
    "start_time": "2022-05-26T20:56:06.648Z"
   },
   {
    "duration": 7,
    "start_time": "2022-05-26T20:56:06.656Z"
   },
   {
    "duration": 11,
    "start_time": "2022-05-26T20:56:06.665Z"
   },
   {
    "duration": 26,
    "start_time": "2022-05-26T20:56:06.678Z"
   },
   {
    "duration": 15,
    "start_time": "2022-05-26T20:56:06.706Z"
   },
   {
    "duration": 15,
    "start_time": "2022-05-26T20:56:06.723Z"
   },
   {
    "duration": 172,
    "start_time": "2022-05-26T20:56:06.740Z"
   },
   {
    "duration": 162,
    "start_time": "2022-05-26T20:56:06.914Z"
   },
   {
    "duration": 7,
    "start_time": "2022-05-26T20:56:07.077Z"
   },
   {
    "duration": 23,
    "start_time": "2022-05-26T20:56:07.085Z"
   },
   {
    "duration": 7,
    "start_time": "2022-05-26T20:56:07.109Z"
   },
   {
    "duration": 8,
    "start_time": "2022-05-26T20:56:07.117Z"
   },
   {
    "duration": 518,
    "start_time": "2022-05-26T20:56:07.127Z"
   },
   {
    "duration": 452,
    "start_time": "2022-05-26T20:56:07.648Z"
   },
   {
    "duration": 6,
    "start_time": "2022-05-26T20:56:08.102Z"
   },
   {
    "duration": 537,
    "start_time": "2022-05-26T20:56:08.110Z"
   },
   {
    "duration": 4,
    "start_time": "2022-05-26T20:56:08.649Z"
   },
   {
    "duration": 7,
    "start_time": "2022-05-26T20:56:08.654Z"
   },
   {
    "duration": 425,
    "start_time": "2022-05-26T20:56:08.662Z"
   },
   {
    "duration": 505,
    "start_time": "2022-05-26T20:56:09.088Z"
   },
   {
    "duration": 13,
    "start_time": "2022-05-26T20:56:09.595Z"
   },
   {
    "duration": 157,
    "start_time": "2022-05-26T20:56:09.610Z"
   },
   {
    "duration": 5,
    "start_time": "2022-05-26T20:56:09.769Z"
   },
   {
    "duration": 190,
    "start_time": "2022-05-26T20:56:09.776Z"
   },
   {
    "duration": 4,
    "start_time": "2022-05-26T20:56:09.968Z"
   },
   {
    "duration": 262,
    "start_time": "2022-05-26T20:56:09.973Z"
   },
   {
    "duration": 78,
    "start_time": "2022-05-26T20:56:10.237Z"
   },
   {
    "duration": 97,
    "start_time": "2022-05-26T20:56:10.317Z"
   },
   {
    "duration": 5,
    "start_time": "2022-05-26T20:56:10.417Z"
   },
   {
    "duration": 8,
    "start_time": "2022-05-26T20:56:10.424Z"
   },
   {
    "duration": 170,
    "start_time": "2022-05-26T20:56:10.434Z"
   },
   {
    "duration": 10,
    "start_time": "2022-05-26T20:56:10.606Z"
   },
   {
    "duration": 8,
    "start_time": "2022-05-26T20:56:10.618Z"
   },
   {
    "duration": 8,
    "start_time": "2022-05-26T20:56:10.627Z"
   },
   {
    "duration": 25,
    "start_time": "2022-05-26T20:56:10.636Z"
   },
   {
    "duration": 46,
    "start_time": "2022-05-26T20:56:10.663Z"
   },
   {
    "duration": 1231,
    "start_time": "2022-05-29T19:58:52.622Z"
   },
   {
    "duration": 75,
    "start_time": "2022-05-29T19:58:53.855Z"
   },
   {
    "duration": 12,
    "start_time": "2022-05-29T19:58:53.931Z"
   },
   {
    "duration": 9,
    "start_time": "2022-05-29T19:58:53.946Z"
   },
   {
    "duration": 9,
    "start_time": "2022-05-29T19:58:53.957Z"
   },
   {
    "duration": 79,
    "start_time": "2022-05-29T19:58:53.967Z"
   },
   {
    "duration": 10,
    "start_time": "2022-05-29T19:58:54.047Z"
   },
   {
    "duration": 18,
    "start_time": "2022-05-29T19:58:54.058Z"
   },
   {
    "duration": 10,
    "start_time": "2022-05-29T19:58:54.077Z"
   },
   {
    "duration": 7,
    "start_time": "2022-05-29T19:58:54.089Z"
   },
   {
    "duration": 60,
    "start_time": "2022-05-29T19:58:54.097Z"
   },
   {
    "duration": 8,
    "start_time": "2022-05-29T19:58:54.159Z"
   },
   {
    "duration": 11,
    "start_time": "2022-05-29T19:58:54.169Z"
   },
   {
    "duration": 5,
    "start_time": "2022-05-29T19:58:54.181Z"
   },
   {
    "duration": 7,
    "start_time": "2022-05-29T19:58:54.187Z"
   },
   {
    "duration": 6,
    "start_time": "2022-05-29T19:58:54.196Z"
   },
   {
    "duration": 9,
    "start_time": "2022-05-29T19:58:54.203Z"
   },
   {
    "duration": 5,
    "start_time": "2022-05-29T19:58:54.213Z"
   },
   {
    "duration": 15,
    "start_time": "2022-05-29T19:58:54.219Z"
   },
   {
    "duration": 15,
    "start_time": "2022-05-29T19:58:54.235Z"
   },
   {
    "duration": 165,
    "start_time": "2022-05-29T19:58:54.252Z"
   },
   {
    "duration": 115,
    "start_time": "2022-05-29T19:58:54.419Z"
   },
   {
    "duration": 6,
    "start_time": "2022-05-29T19:58:54.535Z"
   },
   {
    "duration": 7,
    "start_time": "2022-05-29T19:58:54.542Z"
   },
   {
    "duration": 9,
    "start_time": "2022-05-29T19:58:54.550Z"
   },
   {
    "duration": 14,
    "start_time": "2022-05-29T19:58:54.561Z"
   },
   {
    "duration": 445,
    "start_time": "2022-05-29T19:58:54.576Z"
   },
   {
    "duration": 370,
    "start_time": "2022-05-29T19:58:55.024Z"
   },
   {
    "duration": 5,
    "start_time": "2022-05-29T19:58:55.396Z"
   },
   {
    "duration": 473,
    "start_time": "2022-05-29T19:58:55.402Z"
   },
   {
    "duration": 4,
    "start_time": "2022-05-29T19:58:55.876Z"
   },
   {
    "duration": 9,
    "start_time": "2022-05-29T19:58:55.881Z"
   },
   {
    "duration": 377,
    "start_time": "2022-05-29T19:58:55.892Z"
   },
   {
    "duration": 470,
    "start_time": "2022-05-29T19:58:56.270Z"
   },
   {
    "duration": 10,
    "start_time": "2022-05-29T19:58:56.742Z"
   },
   {
    "duration": 149,
    "start_time": "2022-05-29T19:58:56.754Z"
   },
   {
    "duration": 3,
    "start_time": "2022-05-29T19:58:56.905Z"
   },
   {
    "duration": 150,
    "start_time": "2022-05-29T19:58:56.910Z"
   },
   {
    "duration": 4,
    "start_time": "2022-05-29T19:58:57.061Z"
   },
   {
    "duration": 199,
    "start_time": "2022-05-29T19:58:57.066Z"
   },
   {
    "duration": 64,
    "start_time": "2022-05-29T19:58:57.266Z"
   },
   {
    "duration": 77,
    "start_time": "2022-05-29T19:58:57.332Z"
   },
   {
    "duration": 4,
    "start_time": "2022-05-29T19:58:57.411Z"
   },
   {
    "duration": 6,
    "start_time": "2022-05-29T19:58:57.416Z"
   },
   {
    "duration": 157,
    "start_time": "2022-05-29T19:58:57.423Z"
   },
   {
    "duration": 9,
    "start_time": "2022-05-29T19:58:57.582Z"
   },
   {
    "duration": 9,
    "start_time": "2022-05-29T19:58:57.592Z"
   },
   {
    "duration": 7,
    "start_time": "2022-05-29T19:58:57.602Z"
   },
   {
    "duration": 25,
    "start_time": "2022-05-29T19:58:57.610Z"
   },
   {
    "duration": 41,
    "start_time": "2022-05-29T19:58:57.637Z"
   },
   {
    "duration": 37,
    "start_time": "2022-05-29T20:06:11.685Z"
   },
   {
    "duration": 607,
    "start_time": "2022-05-29T20:39:19.472Z"
   },
   {
    "duration": 1062,
    "start_time": "2022-05-29T21:11:25.139Z"
   },
   {
    "duration": 30,
    "start_time": "2022-05-29T21:11:26.203Z"
   },
   {
    "duration": 13,
    "start_time": "2022-05-29T21:11:26.235Z"
   },
   {
    "duration": 11,
    "start_time": "2022-05-29T21:11:26.250Z"
   },
   {
    "duration": 10,
    "start_time": "2022-05-29T21:11:26.263Z"
   },
   {
    "duration": 45,
    "start_time": "2022-05-29T21:11:26.275Z"
   },
   {
    "duration": 10,
    "start_time": "2022-05-29T21:11:26.321Z"
   },
   {
    "duration": 19,
    "start_time": "2022-05-29T21:11:26.333Z"
   },
   {
    "duration": 11,
    "start_time": "2022-05-29T21:11:26.354Z"
   },
   {
    "duration": 6,
    "start_time": "2022-05-29T21:11:26.368Z"
   },
   {
    "duration": 19,
    "start_time": "2022-05-29T21:11:26.376Z"
   },
   {
    "duration": 9,
    "start_time": "2022-05-29T21:11:26.396Z"
   },
   {
    "duration": 11,
    "start_time": "2022-05-29T21:11:26.407Z"
   },
   {
    "duration": 4,
    "start_time": "2022-05-29T21:11:26.420Z"
   },
   {
    "duration": 7,
    "start_time": "2022-05-29T21:11:26.425Z"
   },
   {
    "duration": 6,
    "start_time": "2022-05-29T21:11:26.433Z"
   },
   {
    "duration": 9,
    "start_time": "2022-05-29T21:11:26.440Z"
   },
   {
    "duration": 28,
    "start_time": "2022-05-29T21:11:26.451Z"
   },
   {
    "duration": 12,
    "start_time": "2022-05-29T21:11:26.481Z"
   },
   {
    "duration": 14,
    "start_time": "2022-05-29T21:11:26.495Z"
   },
   {
    "duration": 168,
    "start_time": "2022-05-29T21:11:26.510Z"
   },
   {
    "duration": 136,
    "start_time": "2022-05-29T21:11:26.679Z"
   },
   {
    "duration": 5,
    "start_time": "2022-05-29T21:11:26.817Z"
   },
   {
    "duration": 6,
    "start_time": "2022-05-29T21:11:26.824Z"
   },
   {
    "duration": 5,
    "start_time": "2022-05-29T21:11:26.831Z"
   },
   {
    "duration": 5,
    "start_time": "2022-05-29T21:11:26.838Z"
   },
   {
    "duration": 468,
    "start_time": "2022-05-29T21:11:26.845Z"
   },
   {
    "duration": 404,
    "start_time": "2022-05-29T21:11:27.318Z"
   },
   {
    "duration": 6,
    "start_time": "2022-05-29T21:11:27.724Z"
   },
   {
    "duration": 428,
    "start_time": "2022-05-29T21:11:27.731Z"
   },
   {
    "duration": 3,
    "start_time": "2022-05-29T21:11:28.161Z"
   },
   {
    "duration": 9,
    "start_time": "2022-05-29T21:11:28.166Z"
   },
   {
    "duration": 384,
    "start_time": "2022-05-29T21:11:28.176Z"
   },
   {
    "duration": 471,
    "start_time": "2022-05-29T21:11:28.562Z"
   },
   {
    "duration": 8,
    "start_time": "2022-05-29T21:11:29.034Z"
   },
   {
    "duration": 136,
    "start_time": "2022-05-29T21:11:29.043Z"
   },
   {
    "duration": 4,
    "start_time": "2022-05-29T21:11:29.180Z"
   },
   {
    "duration": 165,
    "start_time": "2022-05-29T21:11:29.185Z"
   },
   {
    "duration": 4,
    "start_time": "2022-05-29T21:11:29.351Z"
   },
   {
    "duration": 214,
    "start_time": "2022-05-29T21:11:29.357Z"
   },
   {
    "duration": 59,
    "start_time": "2022-05-29T21:11:29.574Z"
   },
   {
    "duration": 87,
    "start_time": "2022-05-29T21:11:29.635Z"
   },
   {
    "duration": 4,
    "start_time": "2022-05-29T21:11:29.724Z"
   },
   {
    "duration": 11,
    "start_time": "2022-05-29T21:11:29.729Z"
   },
   {
    "duration": 165,
    "start_time": "2022-05-29T21:11:29.741Z"
   },
   {
    "duration": 12,
    "start_time": "2022-05-29T21:11:29.907Z"
   },
   {
    "duration": 8,
    "start_time": "2022-05-29T21:11:29.920Z"
   },
   {
    "duration": 9,
    "start_time": "2022-05-29T21:11:29.930Z"
   },
   {
    "duration": 49,
    "start_time": "2022-05-29T21:11:29.940Z"
   },
   {
    "duration": 13,
    "start_time": "2022-05-29T21:11:29.991Z"
   },
   {
    "duration": 976,
    "start_time": "2022-05-29T21:51:58.512Z"
   },
   {
    "duration": 28,
    "start_time": "2022-05-29T21:51:59.490Z"
   },
   {
    "duration": 11,
    "start_time": "2022-05-29T21:51:59.520Z"
   },
   {
    "duration": 9,
    "start_time": "2022-05-29T21:51:59.533Z"
   },
   {
    "duration": 8,
    "start_time": "2022-05-29T21:51:59.544Z"
   },
   {
    "duration": 44,
    "start_time": "2022-05-29T21:51:59.553Z"
   },
   {
    "duration": 9,
    "start_time": "2022-05-29T21:51:59.599Z"
   },
   {
    "duration": 17,
    "start_time": "2022-05-29T21:51:59.610Z"
   },
   {
    "duration": 11,
    "start_time": "2022-05-29T21:51:59.628Z"
   },
   {
    "duration": 6,
    "start_time": "2022-05-29T21:51:59.642Z"
   },
   {
    "duration": 19,
    "start_time": "2022-05-29T21:51:59.649Z"
   },
   {
    "duration": 11,
    "start_time": "2022-05-29T21:51:59.670Z"
   },
   {
    "duration": 11,
    "start_time": "2022-05-29T21:51:59.682Z"
   },
   {
    "duration": 4,
    "start_time": "2022-05-29T21:51:59.695Z"
   },
   {
    "duration": 6,
    "start_time": "2022-05-29T21:51:59.701Z"
   },
   {
    "duration": 5,
    "start_time": "2022-05-29T21:51:59.709Z"
   },
   {
    "duration": 10,
    "start_time": "2022-05-29T21:51:59.716Z"
   },
   {
    "duration": 4,
    "start_time": "2022-05-29T21:51:59.728Z"
   },
   {
    "duration": 41,
    "start_time": "2022-05-29T21:51:59.734Z"
   },
   {
    "duration": 10,
    "start_time": "2022-05-29T21:51:59.777Z"
   },
   {
    "duration": 174,
    "start_time": "2022-05-29T21:51:59.788Z"
   },
   {
    "duration": 119,
    "start_time": "2022-05-29T21:51:59.963Z"
   },
   {
    "duration": 7,
    "start_time": "2022-05-29T21:52:00.083Z"
   },
   {
    "duration": 6,
    "start_time": "2022-05-29T21:52:00.092Z"
   },
   {
    "duration": 5,
    "start_time": "2022-05-29T21:52:00.100Z"
   },
   {
    "duration": 7,
    "start_time": "2022-05-29T21:52:00.107Z"
   },
   {
    "duration": 510,
    "start_time": "2022-05-29T21:52:00.115Z"
   },
   {
    "duration": 410,
    "start_time": "2022-05-29T21:52:00.629Z"
   },
   {
    "duration": 5,
    "start_time": "2022-05-29T21:52:01.041Z"
   },
   {
    "duration": 467,
    "start_time": "2022-05-29T21:52:01.047Z"
   },
   {
    "duration": 4,
    "start_time": "2022-05-29T21:52:01.515Z"
   },
   {
    "duration": 11,
    "start_time": "2022-05-29T21:52:01.520Z"
   },
   {
    "duration": 392,
    "start_time": "2022-05-29T21:52:01.532Z"
   },
   {
    "duration": 449,
    "start_time": "2022-05-29T21:52:01.926Z"
   },
   {
    "duration": 9,
    "start_time": "2022-05-29T21:52:02.376Z"
   },
   {
    "duration": 145,
    "start_time": "2022-05-29T21:52:02.387Z"
   },
   {
    "duration": 5,
    "start_time": "2022-05-29T21:52:02.533Z"
   },
   {
    "duration": 157,
    "start_time": "2022-05-29T21:52:02.539Z"
   },
   {
    "duration": 5,
    "start_time": "2022-05-29T21:52:02.697Z"
   },
   {
    "duration": 249,
    "start_time": "2022-05-29T21:52:02.703Z"
   },
   {
    "duration": 66,
    "start_time": "2022-05-29T21:52:02.953Z"
   },
   {
    "duration": 80,
    "start_time": "2022-05-29T21:52:03.021Z"
   },
   {
    "duration": 3,
    "start_time": "2022-05-29T21:52:03.103Z"
   },
   {
    "duration": 6,
    "start_time": "2022-05-29T21:52:03.107Z"
   },
   {
    "duration": 155,
    "start_time": "2022-05-29T21:52:03.115Z"
   },
   {
    "duration": 9,
    "start_time": "2022-05-29T21:52:03.275Z"
   },
   {
    "duration": 9,
    "start_time": "2022-05-29T21:52:03.285Z"
   },
   {
    "duration": 7,
    "start_time": "2022-05-29T21:52:03.295Z"
   },
   {
    "duration": 31,
    "start_time": "2022-05-29T21:52:03.304Z"
   },
   {
    "duration": 12,
    "start_time": "2022-05-29T21:52:03.336Z"
   },
   {
    "duration": 1113,
    "start_time": "2022-05-30T20:45:11.658Z"
   },
   {
    "duration": 27,
    "start_time": "2022-05-30T20:45:12.773Z"
   },
   {
    "duration": 12,
    "start_time": "2022-05-30T20:45:12.802Z"
   },
   {
    "duration": 10,
    "start_time": "2022-05-30T20:45:12.817Z"
   },
   {
    "duration": 10,
    "start_time": "2022-05-30T20:45:12.829Z"
   },
   {
    "duration": 44,
    "start_time": "2022-05-30T20:45:12.841Z"
   },
   {
    "duration": 11,
    "start_time": "2022-05-30T20:45:12.887Z"
   },
   {
    "duration": 21,
    "start_time": "2022-05-30T20:45:12.900Z"
   },
   {
    "duration": 13,
    "start_time": "2022-05-30T20:45:12.923Z"
   },
   {
    "duration": 6,
    "start_time": "2022-05-30T20:45:12.939Z"
   },
   {
    "duration": 19,
    "start_time": "2022-05-30T20:45:12.965Z"
   },
   {
    "duration": 10,
    "start_time": "2022-05-30T20:45:12.985Z"
   },
   {
    "duration": 15,
    "start_time": "2022-05-30T20:45:12.997Z"
   },
   {
    "duration": 5,
    "start_time": "2022-05-30T20:45:13.014Z"
   },
   {
    "duration": 8,
    "start_time": "2022-05-30T20:45:13.020Z"
   },
   {
    "duration": 6,
    "start_time": "2022-05-30T20:45:13.029Z"
   },
   {
    "duration": 34,
    "start_time": "2022-05-30T20:45:13.036Z"
   },
   {
    "duration": 6,
    "start_time": "2022-05-30T20:45:13.072Z"
   },
   {
    "duration": 14,
    "start_time": "2022-05-30T20:45:13.079Z"
   },
   {
    "duration": 13,
    "start_time": "2022-05-30T20:45:13.094Z"
   },
   {
    "duration": 191,
    "start_time": "2022-05-30T20:45:13.109Z"
   },
   {
    "duration": 141,
    "start_time": "2022-05-30T20:45:13.302Z"
   },
   {
    "duration": 21,
    "start_time": "2022-05-30T20:45:13.445Z"
   },
   {
    "duration": 9,
    "start_time": "2022-05-30T20:45:13.468Z"
   },
   {
    "duration": 8,
    "start_time": "2022-05-30T20:45:13.478Z"
   },
   {
    "duration": 5,
    "start_time": "2022-05-30T20:45:13.488Z"
   },
   {
    "duration": 533,
    "start_time": "2022-05-30T20:45:13.495Z"
   },
   {
    "duration": 455,
    "start_time": "2022-05-30T20:45:14.032Z"
   },
   {
    "duration": 7,
    "start_time": "2022-05-30T20:45:14.488Z"
   },
   {
    "duration": 501,
    "start_time": "2022-05-30T20:45:14.496Z"
   },
   {
    "duration": 5,
    "start_time": "2022-05-30T20:45:14.999Z"
   },
   {
    "duration": 10,
    "start_time": "2022-05-30T20:45:15.006Z"
   },
   {
    "duration": 455,
    "start_time": "2022-05-30T20:45:15.018Z"
   },
   {
    "duration": 516,
    "start_time": "2022-05-30T20:45:15.475Z"
   },
   {
    "duration": 10,
    "start_time": "2022-05-30T20:45:15.992Z"
   },
   {
    "duration": 167,
    "start_time": "2022-05-30T20:45:16.003Z"
   },
   {
    "duration": 4,
    "start_time": "2022-05-30T20:45:16.172Z"
   },
   {
    "duration": 178,
    "start_time": "2022-05-30T20:45:16.177Z"
   },
   {
    "duration": 9,
    "start_time": "2022-05-30T20:45:16.356Z"
   },
   {
    "duration": 238,
    "start_time": "2022-05-30T20:45:16.367Z"
   },
   {
    "duration": 74,
    "start_time": "2022-05-30T20:45:16.606Z"
   },
   {
    "duration": 93,
    "start_time": "2022-05-30T20:45:16.682Z"
   },
   {
    "duration": 4,
    "start_time": "2022-05-30T20:45:16.777Z"
   },
   {
    "duration": 8,
    "start_time": "2022-05-30T20:45:16.783Z"
   },
   {
    "duration": 169,
    "start_time": "2022-05-30T20:45:16.792Z"
   },
   {
    "duration": 13,
    "start_time": "2022-05-30T20:45:16.962Z"
   },
   {
    "duration": 8,
    "start_time": "2022-05-30T20:45:16.977Z"
   },
   {
    "duration": 7,
    "start_time": "2022-05-30T20:45:16.987Z"
   },
   {
    "duration": 30,
    "start_time": "2022-05-30T20:45:16.996Z"
   },
   {
    "duration": 44,
    "start_time": "2022-05-30T20:45:17.028Z"
   },
   {
    "duration": 58,
    "start_time": "2022-05-30T21:00:39.738Z"
   },
   {
    "duration": 1338,
    "start_time": "2022-05-30T21:00:50.179Z"
   },
   {
    "duration": 73,
    "start_time": "2022-05-30T21:00:51.520Z"
   },
   {
    "duration": 17,
    "start_time": "2022-05-30T21:00:51.596Z"
   },
   {
    "duration": 30,
    "start_time": "2022-05-30T21:00:51.616Z"
   },
   {
    "duration": 30,
    "start_time": "2022-05-30T21:00:51.649Z"
   },
   {
    "duration": 106,
    "start_time": "2022-05-30T21:00:51.681Z"
   },
   {
    "duration": 15,
    "start_time": "2022-05-30T21:00:51.790Z"
   },
   {
    "duration": 35,
    "start_time": "2022-05-30T21:00:51.807Z"
   },
   {
    "duration": 21,
    "start_time": "2022-05-30T21:00:51.843Z"
   },
   {
    "duration": 14,
    "start_time": "2022-05-30T21:00:51.867Z"
   },
   {
    "duration": 65,
    "start_time": "2022-05-30T21:00:51.883Z"
   },
   {
    "duration": 15,
    "start_time": "2022-05-30T21:00:51.950Z"
   },
   {
    "duration": 15,
    "start_time": "2022-05-30T21:00:51.967Z"
   },
   {
    "duration": 8,
    "start_time": "2022-05-30T21:00:51.983Z"
   },
   {
    "duration": 8,
    "start_time": "2022-05-30T21:00:51.993Z"
   },
   {
    "duration": 25,
    "start_time": "2022-05-30T21:00:52.002Z"
   },
   {
    "duration": 15,
    "start_time": "2022-05-30T21:00:52.029Z"
   },
   {
    "duration": 7,
    "start_time": "2022-05-30T21:00:52.046Z"
   },
   {
    "duration": 15,
    "start_time": "2022-05-30T21:00:52.055Z"
   },
   {
    "duration": 12,
    "start_time": "2022-05-30T21:00:52.071Z"
   },
   {
    "duration": 215,
    "start_time": "2022-05-30T21:00:52.085Z"
   },
   {
    "duration": 118,
    "start_time": "2022-05-30T21:00:52.302Z"
   },
   {
    "duration": 7,
    "start_time": "2022-05-30T21:00:52.426Z"
   },
   {
    "duration": 20,
    "start_time": "2022-05-30T21:00:52.437Z"
   },
   {
    "duration": 9,
    "start_time": "2022-05-30T21:00:52.459Z"
   },
   {
    "duration": 9,
    "start_time": "2022-05-30T21:00:52.470Z"
   },
   {
    "duration": 536,
    "start_time": "2022-05-30T21:00:52.481Z"
   },
   {
    "duration": 475,
    "start_time": "2022-05-30T21:00:53.021Z"
   },
   {
    "duration": 6,
    "start_time": "2022-05-30T21:00:53.498Z"
   },
   {
    "duration": 556,
    "start_time": "2022-05-30T21:00:53.506Z"
   },
   {
    "duration": 4,
    "start_time": "2022-05-30T21:00:54.063Z"
   },
   {
    "duration": 8,
    "start_time": "2022-05-30T21:00:54.069Z"
   },
   {
    "duration": 464,
    "start_time": "2022-05-30T21:00:54.079Z"
   },
   {
    "duration": 511,
    "start_time": "2022-05-30T21:00:54.545Z"
   },
   {
    "duration": 10,
    "start_time": "2022-05-30T21:00:55.057Z"
   },
   {
    "duration": 176,
    "start_time": "2022-05-30T21:00:55.068Z"
   },
   {
    "duration": 4,
    "start_time": "2022-05-30T21:00:55.246Z"
   },
   {
    "duration": 198,
    "start_time": "2022-05-30T21:00:55.252Z"
   },
   {
    "duration": 5,
    "start_time": "2022-05-30T21:00:55.452Z"
   },
   {
    "duration": 251,
    "start_time": "2022-05-30T21:00:55.458Z"
   },
   {
    "duration": 101,
    "start_time": "2022-05-30T21:00:55.711Z"
   },
   {
    "duration": 88,
    "start_time": "2022-05-30T21:00:55.814Z"
   },
   {
    "duration": 5,
    "start_time": "2022-05-30T21:00:55.904Z"
   },
   {
    "duration": 38,
    "start_time": "2022-05-30T21:00:55.910Z"
   },
   {
    "duration": 168,
    "start_time": "2022-05-30T21:00:55.950Z"
   },
   {
    "duration": 22,
    "start_time": "2022-05-30T21:00:56.120Z"
   },
   {
    "duration": 12,
    "start_time": "2022-05-30T21:00:56.146Z"
   },
   {
    "duration": 11,
    "start_time": "2022-05-30T21:00:56.160Z"
   },
   {
    "duration": 67,
    "start_time": "2022-05-30T21:00:56.173Z"
   },
   {
    "duration": 16,
    "start_time": "2022-05-30T21:00:56.241Z"
   },
   {
    "duration": 4,
    "start_time": "2022-05-30T21:03:35.904Z"
   },
   {
    "duration": 4,
    "start_time": "2022-05-30T21:03:38.294Z"
   },
   {
    "duration": 11,
    "start_time": "2022-05-30T21:03:44.160Z"
   },
   {
    "duration": 23,
    "start_time": "2022-05-30T21:06:31.676Z"
   },
   {
    "duration": 40,
    "start_time": "2022-05-30T21:06:33.508Z"
   },
   {
    "duration": 5,
    "start_time": "2022-05-30T21:06:38.756Z"
   },
   {
    "duration": 154,
    "start_time": "2022-05-30T21:08:17.519Z"
   },
   {
    "duration": 5,
    "start_time": "2022-05-30T21:11:03.859Z"
   },
   {
    "duration": 5,
    "start_time": "2022-05-30T21:11:07.602Z"
   },
   {
    "duration": 9,
    "start_time": "2022-05-30T21:11:50.202Z"
   },
   {
    "duration": 27,
    "start_time": "2022-05-30T21:12:33.773Z"
   },
   {
    "duration": 8,
    "start_time": "2022-05-30T21:12:52.658Z"
   },
   {
    "duration": 24,
    "start_time": "2022-05-30T21:13:09.989Z"
   },
   {
    "duration": 12,
    "start_time": "2022-05-30T21:13:24.812Z"
   },
   {
    "duration": 36,
    "start_time": "2022-05-30T21:14:33.626Z"
   },
   {
    "duration": 37,
    "start_time": "2022-05-30T21:18:21.719Z"
   },
   {
    "duration": 11,
    "start_time": "2022-05-30T21:19:40.398Z"
   },
   {
    "duration": 261,
    "start_time": "2022-05-30T21:19:43.192Z"
   },
   {
    "duration": 10,
    "start_time": "2022-05-30T21:19:56.343Z"
   },
   {
    "duration": 175,
    "start_time": "2022-05-30T21:19:56.973Z"
   },
   {
    "duration": 175,
    "start_time": "2022-05-30T21:20:10.024Z"
   },
   {
    "duration": 5,
    "start_time": "2022-05-30T21:21:36.455Z"
   },
   {
    "duration": 145,
    "start_time": "2022-05-30T21:21:45.854Z"
   },
   {
    "duration": 13,
    "start_time": "2022-05-30T21:22:08.503Z"
   },
   {
    "duration": 9,
    "start_time": "2022-05-30T21:22:18.168Z"
   },
   {
    "duration": 150,
    "start_time": "2022-05-30T21:22:19.618Z"
   },
   {
    "duration": 147,
    "start_time": "2022-05-30T21:22:21.927Z"
   },
   {
    "duration": 8,
    "start_time": "2022-05-30T21:22:30.218Z"
   },
   {
    "duration": 13,
    "start_time": "2022-05-30T21:23:08.777Z"
   },
   {
    "duration": 1187,
    "start_time": "2022-05-30T21:24:23.101Z"
   },
   {
    "duration": 26,
    "start_time": "2022-05-30T21:24:24.290Z"
   },
   {
    "duration": 18,
    "start_time": "2022-05-30T21:24:24.318Z"
   },
   {
    "duration": 18,
    "start_time": "2022-05-30T21:24:24.338Z"
   },
   {
    "duration": 12,
    "start_time": "2022-05-30T21:24:24.358Z"
   },
   {
    "duration": 56,
    "start_time": "2022-05-30T21:24:24.374Z"
   },
   {
    "duration": 22,
    "start_time": "2022-05-30T21:24:24.432Z"
   },
   {
    "duration": 30,
    "start_time": "2022-05-30T21:24:24.456Z"
   },
   {
    "duration": 14,
    "start_time": "2022-05-30T21:24:24.489Z"
   },
   {
    "duration": 16,
    "start_time": "2022-05-30T21:24:24.505Z"
   },
   {
    "duration": 42,
    "start_time": "2022-05-30T21:24:24.523Z"
   },
   {
    "duration": 13,
    "start_time": "2022-05-30T21:24:24.567Z"
   },
   {
    "duration": 21,
    "start_time": "2022-05-30T21:24:24.582Z"
   },
   {
    "duration": 10,
    "start_time": "2022-05-30T21:24:24.605Z"
   },
   {
    "duration": 20,
    "start_time": "2022-05-30T21:24:24.618Z"
   },
   {
    "duration": 15,
    "start_time": "2022-05-30T21:24:24.640Z"
   },
   {
    "duration": 18,
    "start_time": "2022-05-30T21:24:24.658Z"
   },
   {
    "duration": 14,
    "start_time": "2022-05-30T21:24:24.678Z"
   },
   {
    "duration": 16,
    "start_time": "2022-05-30T21:24:24.694Z"
   },
   {
    "duration": 11,
    "start_time": "2022-05-30T21:24:24.712Z"
   },
   {
    "duration": 168,
    "start_time": "2022-05-30T21:24:24.725Z"
   },
   {
    "duration": 152,
    "start_time": "2022-05-30T21:24:24.895Z"
   },
   {
    "duration": 11,
    "start_time": "2022-05-30T21:24:25.052Z"
   },
   {
    "duration": 20,
    "start_time": "2022-05-30T21:24:25.064Z"
   },
   {
    "duration": 11,
    "start_time": "2022-05-30T21:24:25.086Z"
   },
   {
    "duration": 19,
    "start_time": "2022-05-30T21:24:25.098Z"
   },
   {
    "duration": 578,
    "start_time": "2022-05-30T21:24:25.119Z"
   },
   {
    "duration": 477,
    "start_time": "2022-05-30T21:24:25.701Z"
   },
   {
    "duration": 6,
    "start_time": "2022-05-30T21:24:26.182Z"
   },
   {
    "duration": 554,
    "start_time": "2022-05-30T21:24:26.190Z"
   },
   {
    "duration": 9,
    "start_time": "2022-05-30T21:24:26.748Z"
   },
   {
    "duration": 18,
    "start_time": "2022-05-30T21:24:26.760Z"
   },
   {
    "duration": 438,
    "start_time": "2022-05-30T21:24:26.779Z"
   },
   {
    "duration": 540,
    "start_time": "2022-05-30T21:24:27.219Z"
   },
   {
    "duration": 9,
    "start_time": "2022-05-30T21:24:27.760Z"
   },
   {
    "duration": 172,
    "start_time": "2022-05-30T21:24:27.771Z"
   },
   {
    "duration": 8,
    "start_time": "2022-05-30T21:24:27.945Z"
   },
   {
    "duration": 172,
    "start_time": "2022-05-30T21:24:27.954Z"
   },
   {
    "duration": 27,
    "start_time": "2022-05-30T21:24:28.128Z"
   },
   {
    "duration": 245,
    "start_time": "2022-05-30T21:24:28.157Z"
   },
   {
    "duration": 0,
    "start_time": "2022-05-30T21:24:28.404Z"
   },
   {
    "duration": 0,
    "start_time": "2022-05-30T21:24:28.405Z"
   },
   {
    "duration": 0,
    "start_time": "2022-05-30T21:24:28.406Z"
   },
   {
    "duration": 0,
    "start_time": "2022-05-30T21:24:28.407Z"
   },
   {
    "duration": 0,
    "start_time": "2022-05-30T21:24:28.408Z"
   },
   {
    "duration": 0,
    "start_time": "2022-05-30T21:24:28.410Z"
   },
   {
    "duration": 0,
    "start_time": "2022-05-30T21:24:28.411Z"
   },
   {
    "duration": 0,
    "start_time": "2022-05-30T21:24:28.426Z"
   },
   {
    "duration": 0,
    "start_time": "2022-05-30T21:24:28.427Z"
   },
   {
    "duration": 4,
    "start_time": "2022-05-30T21:24:28.427Z"
   },
   {
    "duration": 0,
    "start_time": "2022-05-30T21:24:28.432Z"
   },
   {
    "duration": 0,
    "start_time": "2022-05-30T21:24:28.433Z"
   },
   {
    "duration": 11,
    "start_time": "2022-05-30T21:25:21.383Z"
   },
   {
    "duration": 16,
    "start_time": "2022-05-30T21:25:30.206Z"
   },
   {
    "duration": 11,
    "start_time": "2022-05-30T21:25:36.831Z"
   },
   {
    "duration": 5,
    "start_time": "2022-05-30T21:25:53.186Z"
   },
   {
    "duration": 227,
    "start_time": "2022-05-30T21:25:55.789Z"
   },
   {
    "duration": 177,
    "start_time": "2022-05-30T21:26:12.282Z"
   },
   {
    "duration": 5,
    "start_time": "2022-05-30T21:26:27.132Z"
   },
   {
    "duration": 150,
    "start_time": "2022-05-30T21:26:27.869Z"
   },
   {
    "duration": 6,
    "start_time": "2022-05-30T21:26:46.690Z"
   },
   {
    "duration": 164,
    "start_time": "2022-05-30T21:26:47.363Z"
   },
   {
    "duration": 5,
    "start_time": "2022-05-30T21:27:56.486Z"
   },
   {
    "duration": 161,
    "start_time": "2022-05-30T21:27:57.816Z"
   },
   {
    "duration": 5,
    "start_time": "2022-05-30T21:28:27.885Z"
   },
   {
    "duration": 8,
    "start_time": "2022-05-30T21:28:33.192Z"
   },
   {
    "duration": 1207,
    "start_time": "2022-05-31T18:52:47.634Z"
   },
   {
    "duration": 58,
    "start_time": "2022-05-31T18:52:48.843Z"
   },
   {
    "duration": 12,
    "start_time": "2022-05-31T18:52:48.902Z"
   },
   {
    "duration": 12,
    "start_time": "2022-05-31T18:52:48.916Z"
   },
   {
    "duration": 10,
    "start_time": "2022-05-31T18:52:48.929Z"
   },
   {
    "duration": 85,
    "start_time": "2022-05-31T18:52:48.940Z"
   },
   {
    "duration": 9,
    "start_time": "2022-05-31T18:52:49.027Z"
   },
   {
    "duration": 16,
    "start_time": "2022-05-31T18:52:49.038Z"
   },
   {
    "duration": 11,
    "start_time": "2022-05-31T18:52:49.056Z"
   },
   {
    "duration": 7,
    "start_time": "2022-05-31T18:52:49.070Z"
   },
   {
    "duration": 56,
    "start_time": "2022-05-31T18:52:49.078Z"
   },
   {
    "duration": 9,
    "start_time": "2022-05-31T18:52:49.136Z"
   },
   {
    "duration": 14,
    "start_time": "2022-05-31T18:52:49.146Z"
   },
   {
    "duration": 7,
    "start_time": "2022-05-31T18:52:49.161Z"
   },
   {
    "duration": 8,
    "start_time": "2022-05-31T18:52:49.170Z"
   },
   {
    "duration": 6,
    "start_time": "2022-05-31T18:52:49.179Z"
   },
   {
    "duration": 11,
    "start_time": "2022-05-31T18:52:49.187Z"
   },
   {
    "duration": 5,
    "start_time": "2022-05-31T18:52:49.199Z"
   },
   {
    "duration": 12,
    "start_time": "2022-05-31T18:52:49.206Z"
   },
   {
    "duration": 9,
    "start_time": "2022-05-31T18:52:49.219Z"
   },
   {
    "duration": 170,
    "start_time": "2022-05-31T18:52:49.230Z"
   },
   {
    "duration": 123,
    "start_time": "2022-05-31T18:52:49.402Z"
   },
   {
    "duration": 6,
    "start_time": "2022-05-31T18:52:49.526Z"
   },
   {
    "duration": 8,
    "start_time": "2022-05-31T18:52:49.533Z"
   },
   {
    "duration": 6,
    "start_time": "2022-05-31T18:52:49.543Z"
   },
   {
    "duration": 6,
    "start_time": "2022-05-31T18:52:49.551Z"
   },
   {
    "duration": 473,
    "start_time": "2022-05-31T18:52:49.558Z"
   },
   {
    "duration": 379,
    "start_time": "2022-05-31T18:52:50.036Z"
   },
   {
    "duration": 6,
    "start_time": "2022-05-31T18:52:50.417Z"
   },
   {
    "duration": 472,
    "start_time": "2022-05-31T18:52:50.425Z"
   },
   {
    "duration": 4,
    "start_time": "2022-05-31T18:52:50.899Z"
   },
   {
    "duration": 7,
    "start_time": "2022-05-31T18:52:50.905Z"
   },
   {
    "duration": 425,
    "start_time": "2022-05-31T18:52:50.913Z"
   },
   {
    "duration": 441,
    "start_time": "2022-05-31T18:52:51.340Z"
   },
   {
    "duration": 15,
    "start_time": "2022-05-31T18:52:51.782Z"
   },
   {
    "duration": 150,
    "start_time": "2022-05-31T18:52:51.799Z"
   },
   {
    "duration": 5,
    "start_time": "2022-05-31T18:52:51.951Z"
   },
   {
    "duration": 167,
    "start_time": "2022-05-31T18:52:51.957Z"
   },
   {
    "duration": 5,
    "start_time": "2022-05-31T18:52:52.127Z"
   },
   {
    "duration": 167,
    "start_time": "2022-05-31T18:52:52.134Z"
   },
   {
    "duration": 5,
    "start_time": "2022-05-31T18:52:52.303Z"
   },
   {
    "duration": 5,
    "start_time": "2022-05-31T18:52:52.310Z"
   },
   {
    "duration": 280,
    "start_time": "2022-05-31T18:52:52.317Z"
   },
   {
    "duration": 60,
    "start_time": "2022-05-31T18:52:52.599Z"
   },
   {
    "duration": 89,
    "start_time": "2022-05-31T18:52:52.660Z"
   },
   {
    "duration": 5,
    "start_time": "2022-05-31T18:52:52.751Z"
   },
   {
    "duration": 5,
    "start_time": "2022-05-31T18:52:52.757Z"
   },
   {
    "duration": 171,
    "start_time": "2022-05-31T18:52:52.764Z"
   },
   {
    "duration": 9,
    "start_time": "2022-05-31T18:52:52.936Z"
   },
   {
    "duration": 9,
    "start_time": "2022-05-31T18:52:52.947Z"
   },
   {
    "duration": 7,
    "start_time": "2022-05-31T18:52:52.957Z"
   },
   {
    "duration": 45,
    "start_time": "2022-05-31T18:52:52.966Z"
   },
   {
    "duration": 13,
    "start_time": "2022-05-31T18:52:53.013Z"
   },
   {
    "duration": 9,
    "start_time": "2022-05-31T19:06:11.267Z"
   },
   {
    "duration": 8,
    "start_time": "2022-05-31T19:06:32.641Z"
   },
   {
    "duration": 4,
    "start_time": "2022-05-31T19:06:52.719Z"
   },
   {
    "duration": 4,
    "start_time": "2022-05-31T19:07:03.974Z"
   },
   {
    "duration": 4,
    "start_time": "2022-05-31T19:07:22.696Z"
   },
   {
    "duration": 3,
    "start_time": "2022-05-31T19:07:28.397Z"
   },
   {
    "duration": 7,
    "start_time": "2022-05-31T19:11:44.160Z"
   },
   {
    "duration": 9,
    "start_time": "2022-05-31T19:12:06.716Z"
   },
   {
    "duration": 10,
    "start_time": "2022-05-31T19:19:51.398Z"
   },
   {
    "duration": 3,
    "start_time": "2022-05-31T19:22:23.339Z"
   },
   {
    "duration": 4,
    "start_time": "2022-05-31T19:22:31.381Z"
   },
   {
    "duration": 11,
    "start_time": "2022-05-31T19:25:45.181Z"
   },
   {
    "duration": 10,
    "start_time": "2022-05-31T19:25:51.204Z"
   },
   {
    "duration": 9,
    "start_time": "2022-05-31T19:25:58.176Z"
   },
   {
    "duration": 9,
    "start_time": "2022-05-31T19:26:16.216Z"
   },
   {
    "duration": 18,
    "start_time": "2022-05-31T19:38:11.086Z"
   },
   {
    "duration": 17,
    "start_time": "2022-05-31T19:38:14.722Z"
   },
   {
    "duration": 352,
    "start_time": "2022-05-31T19:42:31.733Z"
   },
   {
    "duration": 330,
    "start_time": "2022-05-31T19:42:42.020Z"
   },
   {
    "duration": 329,
    "start_time": "2022-05-31T19:43:58.562Z"
   },
   {
    "duration": 4,
    "start_time": "2022-05-31T19:51:18.601Z"
   },
   {
    "duration": 8,
    "start_time": "2022-05-31T19:51:23.226Z"
   },
   {
    "duration": 449,
    "start_time": "2022-05-31T19:52:12.857Z"
   },
   {
    "duration": 410,
    "start_time": "2022-05-31T19:52:59.245Z"
   },
   {
    "duration": 561,
    "start_time": "2022-05-31T19:53:46.187Z"
   },
   {
    "duration": 358,
    "start_time": "2022-05-31T19:54:22.915Z"
   },
   {
    "duration": 336,
    "start_time": "2022-05-31T19:55:01.739Z"
   },
   {
    "duration": 345,
    "start_time": "2022-05-31T19:55:41.647Z"
   },
   {
    "duration": 346,
    "start_time": "2022-05-31T19:55:59.838Z"
   },
   {
    "duration": 385,
    "start_time": "2022-05-31T19:56:21.992Z"
   },
   {
    "duration": 471,
    "start_time": "2022-05-31T19:57:29.395Z"
   },
   {
    "duration": 543,
    "start_time": "2022-05-31T19:58:21.125Z"
   },
   {
    "duration": 473,
    "start_time": "2022-05-31T19:58:33.465Z"
   },
   {
    "duration": 697,
    "start_time": "2022-05-31T19:58:43.931Z"
   },
   {
    "duration": 444,
    "start_time": "2022-05-31T19:59:30.145Z"
   },
   {
    "duration": 142,
    "start_time": "2022-05-31T20:01:24.546Z"
   },
   {
    "duration": 147,
    "start_time": "2022-05-31T20:08:20.976Z"
   },
   {
    "duration": 166,
    "start_time": "2022-05-31T20:09:32.864Z"
   },
   {
    "duration": 158,
    "start_time": "2022-05-31T20:10:41.775Z"
   },
   {
    "duration": 139,
    "start_time": "2022-05-31T20:11:39.554Z"
   },
   {
    "duration": 155,
    "start_time": "2022-05-31T20:12:09.343Z"
   },
   {
    "duration": 162,
    "start_time": "2022-05-31T20:12:15.483Z"
   },
   {
    "duration": 181,
    "start_time": "2022-05-31T20:12:42.909Z"
   },
   {
    "duration": 5,
    "start_time": "2022-05-31T20:13:38.768Z"
   },
   {
    "duration": 8,
    "start_time": "2022-05-31T20:13:49.036Z"
   },
   {
    "duration": 4,
    "start_time": "2022-05-31T20:15:25.569Z"
   },
   {
    "duration": 7,
    "start_time": "2022-05-31T20:15:26.340Z"
   },
   {
    "duration": 25,
    "start_time": "2022-05-31T20:16:52.307Z"
   },
   {
    "duration": 444,
    "start_time": "2022-05-31T20:18:58.843Z"
   },
   {
    "duration": 24,
    "start_time": "2022-05-31T20:29:25.335Z"
   },
   {
    "duration": 8,
    "start_time": "2022-05-31T20:32:14.134Z"
   },
   {
    "duration": 251,
    "start_time": "2022-05-31T20:32:50.985Z"
   },
   {
    "duration": 68,
    "start_time": "2022-05-31T20:32:53.839Z"
   },
   {
    "duration": 63,
    "start_time": "2022-05-31T20:32:54.712Z"
   },
   {
    "duration": 4,
    "start_time": "2022-05-31T20:32:56.131Z"
   },
   {
    "duration": 4,
    "start_time": "2022-05-31T20:32:56.837Z"
   },
   {
    "duration": 4,
    "start_time": "2022-05-31T20:34:49.239Z"
   },
   {
    "duration": 1010,
    "start_time": "2022-05-31T20:37:13.854Z"
   },
   {
    "duration": 26,
    "start_time": "2022-05-31T20:37:14.866Z"
   },
   {
    "duration": 17,
    "start_time": "2022-05-31T20:37:14.894Z"
   },
   {
    "duration": 10,
    "start_time": "2022-05-31T20:37:14.913Z"
   },
   {
    "duration": 16,
    "start_time": "2022-05-31T20:37:14.924Z"
   },
   {
    "duration": 45,
    "start_time": "2022-05-31T20:37:14.942Z"
   },
   {
    "duration": 15,
    "start_time": "2022-05-31T20:37:14.988Z"
   },
   {
    "duration": 29,
    "start_time": "2022-05-31T20:37:15.005Z"
   },
   {
    "duration": 14,
    "start_time": "2022-05-31T20:37:15.037Z"
   },
   {
    "duration": 8,
    "start_time": "2022-05-31T20:37:15.053Z"
   },
   {
    "duration": 23,
    "start_time": "2022-05-31T20:37:15.062Z"
   },
   {
    "duration": 12,
    "start_time": "2022-05-31T20:37:15.086Z"
   },
   {
    "duration": 25,
    "start_time": "2022-05-31T20:37:15.101Z"
   },
   {
    "duration": 6,
    "start_time": "2022-05-31T20:37:15.128Z"
   },
   {
    "duration": 6,
    "start_time": "2022-05-31T20:37:15.135Z"
   },
   {
    "duration": 5,
    "start_time": "2022-05-31T20:37:15.143Z"
   },
   {
    "duration": 12,
    "start_time": "2022-05-31T20:37:15.150Z"
   },
   {
    "duration": 7,
    "start_time": "2022-05-31T20:37:15.164Z"
   },
   {
    "duration": 43,
    "start_time": "2022-05-31T20:37:15.172Z"
   },
   {
    "duration": 10,
    "start_time": "2022-05-31T20:37:15.218Z"
   },
   {
    "duration": 23,
    "start_time": "2022-05-31T20:37:15.229Z"
   },
   {
    "duration": 6,
    "start_time": "2022-05-31T20:37:15.253Z"
   },
   {
    "duration": 7,
    "start_time": "2022-05-31T20:37:15.261Z"
   },
   {
    "duration": 6,
    "start_time": "2022-05-31T20:37:15.269Z"
   },
   {
    "duration": 6,
    "start_time": "2022-05-31T20:37:15.276Z"
   },
   {
    "duration": 18,
    "start_time": "2022-05-31T20:37:15.283Z"
   },
   {
    "duration": 23,
    "start_time": "2022-05-31T20:37:15.303Z"
   },
   {
    "duration": 11,
    "start_time": "2022-05-31T20:37:15.330Z"
   },
   {
    "duration": 8,
    "start_time": "2022-05-31T20:37:15.343Z"
   },
   {
    "duration": 18,
    "start_time": "2022-05-31T20:37:15.352Z"
   },
   {
    "duration": 27,
    "start_time": "2022-05-31T20:37:15.371Z"
   },
   {
    "duration": 175,
    "start_time": "2022-05-31T20:37:15.401Z"
   },
   {
    "duration": 137,
    "start_time": "2022-05-31T20:37:15.577Z"
   },
   {
    "duration": 6,
    "start_time": "2022-05-31T20:37:15.716Z"
   },
   {
    "duration": 8,
    "start_time": "2022-05-31T20:37:15.723Z"
   },
   {
    "duration": 9,
    "start_time": "2022-05-31T20:37:15.732Z"
   },
   {
    "duration": 9,
    "start_time": "2022-05-31T20:37:15.742Z"
   },
   {
    "duration": 524,
    "start_time": "2022-05-31T20:37:15.752Z"
   },
   {
    "duration": 449,
    "start_time": "2022-05-31T20:37:16.278Z"
   },
   {
    "duration": 5,
    "start_time": "2022-05-31T20:37:16.729Z"
   },
   {
    "duration": 469,
    "start_time": "2022-05-31T20:37:16.736Z"
   },
   {
    "duration": 4,
    "start_time": "2022-05-31T20:37:17.206Z"
   },
   {
    "duration": 13,
    "start_time": "2022-05-31T20:37:17.212Z"
   },
   {
    "duration": 392,
    "start_time": "2022-05-31T20:37:17.226Z"
   },
   {
    "duration": 486,
    "start_time": "2022-05-31T20:37:17.620Z"
   },
   {
    "duration": 9,
    "start_time": "2022-05-31T20:37:18.108Z"
   },
   {
    "duration": 184,
    "start_time": "2022-05-31T20:37:18.118Z"
   },
   {
    "duration": 4,
    "start_time": "2022-05-31T20:37:18.304Z"
   },
   {
    "duration": 176,
    "start_time": "2022-05-31T20:37:18.310Z"
   },
   {
    "duration": 5,
    "start_time": "2022-05-31T20:37:18.491Z"
   },
   {
    "duration": 227,
    "start_time": "2022-05-31T20:37:18.498Z"
   },
   {
    "duration": 4,
    "start_time": "2022-05-31T20:37:18.727Z"
   },
   {
    "duration": 8,
    "start_time": "2022-05-31T20:37:18.733Z"
   },
   {
    "duration": 5,
    "start_time": "2022-05-31T20:37:18.742Z"
   },
   {
    "duration": 4,
    "start_time": "2022-05-31T20:37:18.748Z"
   },
   {
    "duration": 88,
    "start_time": "2022-05-31T20:37:18.753Z"
   },
   {
    "duration": 89,
    "start_time": "2022-05-31T20:37:18.842Z"
   },
   {
    "duration": 116,
    "start_time": "2022-05-31T20:37:18.932Z"
   },
   {
    "duration": 0,
    "start_time": "2022-05-31T20:37:19.049Z"
   },
   {
    "duration": 0,
    "start_time": "2022-05-31T20:37:19.050Z"
   },
   {
    "duration": 0,
    "start_time": "2022-05-31T20:37:19.052Z"
   },
   {
    "duration": 0,
    "start_time": "2022-05-31T20:37:19.053Z"
   },
   {
    "duration": 0,
    "start_time": "2022-05-31T20:37:19.054Z"
   },
   {
    "duration": 0,
    "start_time": "2022-05-31T20:37:19.141Z"
   },
   {
    "duration": 0,
    "start_time": "2022-05-31T20:37:19.143Z"
   },
   {
    "duration": 15,
    "start_time": "2022-05-31T20:38:00.791Z"
   },
   {
    "duration": 1086,
    "start_time": "2022-05-31T20:40:48.673Z"
   },
   {
    "duration": 27,
    "start_time": "2022-05-31T20:40:49.761Z"
   },
   {
    "duration": 14,
    "start_time": "2022-05-31T20:40:49.790Z"
   },
   {
    "duration": 15,
    "start_time": "2022-05-31T20:40:49.806Z"
   },
   {
    "duration": 10,
    "start_time": "2022-05-31T20:40:49.822Z"
   },
   {
    "duration": 41,
    "start_time": "2022-05-31T20:40:49.833Z"
   },
   {
    "duration": 9,
    "start_time": "2022-05-31T20:40:49.875Z"
   },
   {
    "duration": 28,
    "start_time": "2022-05-31T20:40:49.886Z"
   },
   {
    "duration": 13,
    "start_time": "2022-05-31T20:40:49.916Z"
   },
   {
    "duration": 10,
    "start_time": "2022-05-31T20:40:49.931Z"
   },
   {
    "duration": 24,
    "start_time": "2022-05-31T20:40:49.942Z"
   },
   {
    "duration": 9,
    "start_time": "2022-05-31T20:40:49.967Z"
   },
   {
    "duration": 17,
    "start_time": "2022-05-31T20:40:49.978Z"
   },
   {
    "duration": 22,
    "start_time": "2022-05-31T20:40:49.997Z"
   },
   {
    "duration": 19,
    "start_time": "2022-05-31T20:40:50.021Z"
   },
   {
    "duration": 17,
    "start_time": "2022-05-31T20:40:50.041Z"
   },
   {
    "duration": 27,
    "start_time": "2022-05-31T20:40:50.059Z"
   },
   {
    "duration": 11,
    "start_time": "2022-05-31T20:40:50.087Z"
   },
   {
    "duration": 19,
    "start_time": "2022-05-31T20:40:50.100Z"
   },
   {
    "duration": 34,
    "start_time": "2022-05-31T20:40:50.120Z"
   },
   {
    "duration": 22,
    "start_time": "2022-05-31T20:40:50.156Z"
   },
   {
    "duration": 13,
    "start_time": "2022-05-31T20:40:50.180Z"
   },
   {
    "duration": 9,
    "start_time": "2022-05-31T20:40:50.195Z"
   },
   {
    "duration": 10,
    "start_time": "2022-05-31T20:40:50.206Z"
   },
   {
    "duration": 19,
    "start_time": "2022-05-31T20:40:50.218Z"
   },
   {
    "duration": 15,
    "start_time": "2022-05-31T20:40:50.238Z"
   },
   {
    "duration": 15,
    "start_time": "2022-05-31T20:40:50.254Z"
   },
   {
    "duration": 11,
    "start_time": "2022-05-31T20:40:50.272Z"
   },
   {
    "duration": 20,
    "start_time": "2022-05-31T20:40:50.285Z"
   },
   {
    "duration": 27,
    "start_time": "2022-05-31T20:40:50.307Z"
   },
   {
    "duration": 8,
    "start_time": "2022-05-31T20:40:50.336Z"
   },
   {
    "duration": 163,
    "start_time": "2022-05-31T20:40:50.345Z"
   },
   {
    "duration": 130,
    "start_time": "2022-05-31T20:40:50.510Z"
   },
   {
    "duration": 8,
    "start_time": "2022-05-31T20:40:50.641Z"
   },
   {
    "duration": 16,
    "start_time": "2022-05-31T20:40:50.650Z"
   },
   {
    "duration": 6,
    "start_time": "2022-05-31T20:40:50.667Z"
   },
   {
    "duration": 19,
    "start_time": "2022-05-31T20:40:50.674Z"
   },
   {
    "duration": 529,
    "start_time": "2022-05-31T20:40:50.694Z"
   },
   {
    "duration": 422,
    "start_time": "2022-05-31T20:40:51.225Z"
   },
   {
    "duration": 6,
    "start_time": "2022-05-31T20:40:51.649Z"
   },
   {
    "duration": 458,
    "start_time": "2022-05-31T20:40:51.656Z"
   },
   {
    "duration": 3,
    "start_time": "2022-05-31T20:40:52.116Z"
   },
   {
    "duration": 7,
    "start_time": "2022-05-31T20:40:52.121Z"
   },
   {
    "duration": 413,
    "start_time": "2022-05-31T20:40:52.129Z"
   },
   {
    "duration": 490,
    "start_time": "2022-05-31T20:40:52.544Z"
   },
   {
    "duration": 8,
    "start_time": "2022-05-31T20:40:53.036Z"
   },
   {
    "duration": 175,
    "start_time": "2022-05-31T20:40:53.045Z"
   },
   {
    "duration": 4,
    "start_time": "2022-05-31T20:40:53.222Z"
   },
   {
    "duration": 185,
    "start_time": "2022-05-31T20:40:53.227Z"
   },
   {
    "duration": 6,
    "start_time": "2022-05-31T20:40:53.414Z"
   },
   {
    "duration": 198,
    "start_time": "2022-05-31T20:40:53.421Z"
   },
   {
    "duration": 5,
    "start_time": "2022-05-31T20:40:53.620Z"
   },
   {
    "duration": 10,
    "start_time": "2022-05-31T20:40:53.626Z"
   },
   {
    "duration": 8,
    "start_time": "2022-05-31T20:40:53.637Z"
   },
   {
    "duration": 314,
    "start_time": "2022-05-31T20:40:53.646Z"
   },
   {
    "duration": 78,
    "start_time": "2022-05-31T20:40:53.962Z"
   },
   {
    "duration": 78,
    "start_time": "2022-05-31T20:40:54.042Z"
   },
   {
    "duration": 4,
    "start_time": "2022-05-31T20:40:54.122Z"
   },
   {
    "duration": 5,
    "start_time": "2022-05-31T20:40:54.128Z"
   },
   {
    "duration": 155,
    "start_time": "2022-05-31T20:40:54.135Z"
   },
   {
    "duration": 12,
    "start_time": "2022-05-31T20:40:54.292Z"
   },
   {
    "duration": 11,
    "start_time": "2022-05-31T20:40:54.306Z"
   },
   {
    "duration": 7,
    "start_time": "2022-05-31T20:40:54.318Z"
   },
   {
    "duration": 27,
    "start_time": "2022-05-31T20:40:54.326Z"
   },
   {
    "duration": 43,
    "start_time": "2022-05-31T20:40:54.354Z"
   },
   {
    "duration": 36,
    "start_time": "2022-05-31T20:43:17.626Z"
   },
   {
    "duration": 104,
    "start_time": "2022-05-31T21:01:27.370Z"
   },
   {
    "duration": 5,
    "start_time": "2022-05-31T21:01:45.179Z"
   },
   {
    "duration": 6,
    "start_time": "2022-05-31T21:01:47.665Z"
   },
   {
    "duration": 6,
    "start_time": "2022-05-31T21:02:06.443Z"
   },
   {
    "duration": 6,
    "start_time": "2022-05-31T21:02:07.570Z"
   }
  ],
  "kernelspec": {
   "display_name": "Python 3",
   "language": "python",
   "name": "python3"
  },
  "language_info": {
   "codemirror_mode": {
    "name": "ipython",
    "version": 3
   },
   "file_extension": ".py",
   "mimetype": "text/x-python",
   "name": "python",
   "nbconvert_exporter": "python",
   "pygments_lexer": "ipython3",
   "version": "3.8.5"
  },
  "toc": {
   "base_numbering": 1,
   "nav_menu": {},
   "number_sections": false,
   "sideBar": true,
   "skip_h1_title": false,
   "title_cell": "Table of Contents",
   "title_sidebar": "Contents",
   "toc_cell": true,
   "toc_position": {
    "height": "calc(100% - 180px)",
    "left": "10px",
    "top": "150px",
    "width": "358.391px"
   },
   "toc_section_display": true,
   "toc_window_display": true
  }
 },
 "nbformat": 4,
 "nbformat_minor": 2
}
