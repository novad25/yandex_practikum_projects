{
 "cells": [
  {
   "cell_type": "markdown",
   "metadata": {},
   "source": [
    "# Проектная работа на тему: \"Как рассказать историю с помощью данных\""
   ]
  },
  {
   "cell_type": "markdown",
   "metadata": {},
   "source": [
    "## Описание проекта"
   ]
  },
  {
   "cell_type": "markdown",
   "metadata": {},
   "source": [
    "Для анализа перспективности открытия кафе, с обслуживающим персоналом-роботами, требуется подготовить исследование рынка кафе в Москве. В наличии есть открытые данные о заведениях общественного питания в Москве."
   ]
  },
  {
   "cell_type": "markdown",
   "metadata": {},
   "source": [
    "## Описание данных\n",
    "Таблица rest_data:  \n",
    "\n",
    "id — идентификатор объекта;  \n",
    "object_name — название объекта общественного питания;  \n",
    "chain — сетевой ресторан;  \n",
    "object_type — тип объекта общественного питания;  \n",
    "address — адрес;  \n",
    "number — количество посадочных мест.  "
   ]
  },
  {
   "cell_type": "markdown",
   "metadata": {},
   "source": [
    "## Шаг №1. Загрузка данных и подготовка их к анализу"
   ]
  },
  {
   "cell_type": "markdown",
   "metadata": {},
   "source": [
    "Загрузим необходимые библиотеки и данные."
   ]
  },
  {
   "cell_type": "code",
   "execution_count": 1,
   "metadata": {},
   "outputs": [],
   "source": [
    "import pandas as pd\n",
    "import seaborn as sns\n",
    "import math\n",
    "import warnings\n",
    "import matplotlib.pyplot as plt\n",
    "warnings.filterwarnings(\"ignore\")"
   ]
  },
  {
   "cell_type": "code",
   "execution_count": 2,
   "metadata": {},
   "outputs": [],
   "source": [
    "rest_data = pd.read_csv('/datasets/rest_data.csv')"
   ]
  },
  {
   "cell_type": "code",
   "execution_count": 3,
   "metadata": {},
   "outputs": [
    {
     "data": {
      "text/html": [
       "<div>\n",
       "<style scoped>\n",
       "    .dataframe tbody tr th:only-of-type {\n",
       "        vertical-align: middle;\n",
       "    }\n",
       "\n",
       "    .dataframe tbody tr th {\n",
       "        vertical-align: top;\n",
       "    }\n",
       "\n",
       "    .dataframe thead th {\n",
       "        text-align: right;\n",
       "    }\n",
       "</style>\n",
       "<table border=\"1\" class=\"dataframe\">\n",
       "  <thead>\n",
       "    <tr style=\"text-align: right;\">\n",
       "      <th></th>\n",
       "      <th>id</th>\n",
       "      <th>object_name</th>\n",
       "      <th>chain</th>\n",
       "      <th>object_type</th>\n",
       "      <th>address</th>\n",
       "      <th>number</th>\n",
       "    </tr>\n",
       "  </thead>\n",
       "  <tbody>\n",
       "    <tr>\n",
       "      <th>0</th>\n",
       "      <td>151635</td>\n",
       "      <td>СМЕТАНА</td>\n",
       "      <td>нет</td>\n",
       "      <td>кафе</td>\n",
       "      <td>город Москва, улица Егора Абакумова, дом 9</td>\n",
       "      <td>48</td>\n",
       "    </tr>\n",
       "    <tr>\n",
       "      <th>1</th>\n",
       "      <td>77874</td>\n",
       "      <td>Родник</td>\n",
       "      <td>нет</td>\n",
       "      <td>кафе</td>\n",
       "      <td>город Москва, улица Талалихина, дом 2/1, корпус 1</td>\n",
       "      <td>35</td>\n",
       "    </tr>\n",
       "    <tr>\n",
       "      <th>2</th>\n",
       "      <td>24309</td>\n",
       "      <td>Кафе «Академия»</td>\n",
       "      <td>нет</td>\n",
       "      <td>кафе</td>\n",
       "      <td>город Москва, Абельмановская улица, дом 6</td>\n",
       "      <td>95</td>\n",
       "    </tr>\n",
       "    <tr>\n",
       "      <th>3</th>\n",
       "      <td>21894</td>\n",
       "      <td>ПИЦЦЕТОРИЯ</td>\n",
       "      <td>да</td>\n",
       "      <td>кафе</td>\n",
       "      <td>город Москва, Абрамцевская улица, дом 1</td>\n",
       "      <td>40</td>\n",
       "    </tr>\n",
       "    <tr>\n",
       "      <th>4</th>\n",
       "      <td>119365</td>\n",
       "      <td>Кафе «Вишневая метель»</td>\n",
       "      <td>нет</td>\n",
       "      <td>кафе</td>\n",
       "      <td>город Москва, Абрамцевская улица, дом 9, корпус 1</td>\n",
       "      <td>50</td>\n",
       "    </tr>\n",
       "  </tbody>\n",
       "</table>\n",
       "</div>"
      ],
      "text/plain": [
       "       id             object_name chain object_type  \\\n",
       "0  151635                 СМЕТАНА   нет        кафе   \n",
       "1   77874                  Родник   нет        кафе   \n",
       "2   24309         Кафе «Академия»   нет        кафе   \n",
       "3   21894              ПИЦЦЕТОРИЯ    да        кафе   \n",
       "4  119365  Кафе «Вишневая метель»   нет        кафе   \n",
       "\n",
       "                                             address  number  \n",
       "0         город Москва, улица Егора Абакумова, дом 9      48  \n",
       "1  город Москва, улица Талалихина, дом 2/1, корпус 1      35  \n",
       "2          город Москва, Абельмановская улица, дом 6      95  \n",
       "3            город Москва, Абрамцевская улица, дом 1      40  \n",
       "4  город Москва, Абрамцевская улица, дом 9, корпус 1      50  "
      ]
     },
     "execution_count": 3,
     "metadata": {},
     "output_type": "execute_result"
    }
   ],
   "source": [
    "rest_data.head()"
   ]
  },
  {
   "cell_type": "code",
   "execution_count": 4,
   "metadata": {},
   "outputs": [
    {
     "name": "stdout",
     "output_type": "stream",
     "text": [
      "<class 'pandas.core.frame.DataFrame'>\n",
      "RangeIndex: 15366 entries, 0 to 15365\n",
      "Data columns (total 6 columns):\n",
      " #   Column       Non-Null Count  Dtype \n",
      "---  ------       --------------  ----- \n",
      " 0   id           15366 non-null  int64 \n",
      " 1   object_name  15366 non-null  object\n",
      " 2   chain        15366 non-null  object\n",
      " 3   object_type  15366 non-null  object\n",
      " 4   address      15366 non-null  object\n",
      " 5   number       15366 non-null  int64 \n",
      "dtypes: int64(2), object(4)\n",
      "memory usage: 720.4+ KB\n"
     ]
    }
   ],
   "source": [
    "rest_data.info()"
   ]
  },
  {
   "cell_type": "markdown",
   "metadata": {},
   "source": [
    "В датафрейме rest_data 6 столбцов и 15366 строк, без пропущенных значений."
   ]
  },
  {
   "cell_type": "markdown",
   "metadata": {},
   "source": [
    "Проверим столбец id"
   ]
  },
  {
   "cell_type": "code",
   "execution_count": 5,
   "metadata": {},
   "outputs": [
    {
     "data": {
      "text/plain": [
       "15366"
      ]
     },
     "execution_count": 5,
     "metadata": {},
     "output_type": "execute_result"
    }
   ],
   "source": [
    "rest_data['id'].nunique()"
   ]
  },
  {
   "cell_type": "markdown",
   "metadata": {},
   "source": [
    "Количество уникальных записей соответствует количеству не нулевых записей из rest_data.info(). Значит каждый объект имеет свой уникальный номер.  \n",
    "Проверим столбец object_name на неявные дубликаты."
   ]
  },
  {
   "cell_type": "code",
   "execution_count": 6,
   "metadata": {},
   "outputs": [
    {
     "data": {
      "text/plain": [
       "10393"
      ]
     },
     "execution_count": 6,
     "metadata": {},
     "output_type": "execute_result"
    }
   ],
   "source": [
    "rest_data['object_name'].nunique()"
   ]
  },
  {
   "cell_type": "markdown",
   "metadata": {},
   "source": [
    "10393 уникальных названий заведений."
   ]
  },
  {
   "cell_type": "code",
   "execution_count": 7,
   "metadata": {},
   "outputs": [
    {
     "data": {
      "text/plain": [
       "Столовая                    267\n",
       "Кафе                        236\n",
       "Шаурма                      234\n",
       "KFC                         155\n",
       "Шоколадница                 142\n",
       "Бургер Кинг                 122\n",
       "Макдоналдс                  122\n",
       "Домино'с Пицца               86\n",
       "Теремок                      84\n",
       "Крошка Картошка              82\n",
       "Пекарня                      76\n",
       "Милти                        65\n",
       "Суши Wok                     61\n",
       "Буфет                        59\n",
       "СТОЛОВАЯ                     52\n",
       "Папа Джонс                   50\n",
       "Кофе с собой                 44\n",
       "Школьно-базовая столовая     44\n",
       "Чайхона №1                   42\n",
       "КАФЕ                         41\n",
       "Выпечка                      36\n",
       "Хинкальная                   35\n",
       "Кафетерий                    35\n",
       "Якитория                     33\n",
       "Додо Пицца                   31\n",
       "Кофе Хаус                    31\n",
       "Starbucks                    30\n",
       "МАКДОНАЛДС                   29\n",
       "Кофейня                      29\n",
       "Subway                       29\n",
       "Name: object_name, dtype: int64"
      ]
     },
     "execution_count": 7,
     "metadata": {},
     "output_type": "execute_result"
    }
   ],
   "source": [
    "rest_data['object_name'].value_counts().head(30)"
   ]
  },
  {
   "cell_type": "markdown",
   "metadata": {},
   "source": [
    "Встречаются одинаковые названия объектов, но в разном регистре. Приведем все названия к нижнему регистру."
   ]
  },
  {
   "cell_type": "code",
   "execution_count": 8,
   "metadata": {},
   "outputs": [],
   "source": [
    "rest_data['object_name'] = rest_data['object_name'].str.lower()"
   ]
  },
  {
   "cell_type": "code",
   "execution_count": 9,
   "metadata": {},
   "outputs": [
    {
     "data": {
      "text/plain": [
       "9924"
      ]
     },
     "execution_count": 9,
     "metadata": {},
     "output_type": "execute_result"
    }
   ],
   "source": [
    "rest_data['object_name'].nunique()"
   ]
  },
  {
   "cell_type": "markdown",
   "metadata": {},
   "source": [
    "Количество уникальных названий заведений снизилось до 9924 шт."
   ]
  },
  {
   "cell_type": "markdown",
   "metadata": {},
   "source": [
    "Также проверим, на примере Шоколадницы, различные варианты записи названия этого заведения."
   ]
  },
  {
   "cell_type": "code",
   "execution_count": 10,
   "metadata": {},
   "outputs": [
    {
     "name": "stdout",
     "output_type": "stream",
     "text": [
      "['шоколадница', 'шоколадница', 'шоколадница', 'шоколадница', 'шоколадница', 'шоколадница кофе хаус', 'шоколадница', 'шоколадница', 'шоколадница', 'шоколадница', 'шоколадница', 'шоколадница', 'шоколадница', 'шоколадница', 'шоколадница', 'шоколадница', 'шоколадница', 'шоколадница', 'шоколадница', 'шоколадница', 'шоколадница', 'шоколадница', 'шоколадница', 'кофейня «шоколадница»', 'шоколадница', 'шоколадница', 'шоколадница', 'шоколадница', 'шоколадница', 'шоколадница', 'шоколадница', 'шоколадница', 'шоколадница', 'шоколадница', 'шоколадница', 'кафе «шоколадница»', 'шоколадница', 'шоколадница', 'шоколадница', 'шоколадница', 'шоколадница', 'шоколадница', 'шоколадница', 'шоколадница', 'шоколадница', 'шоколадница', 'шоколадница', 'шоколадница', 'шоколадница', 'шоколадница', 'шоколадное ателье', 'шоколадница', 'шоколадница', 'шоколадница', 'шоколадница', 'шоколадница', 'шоколадница', 'шоколадница', 'шоколадница', 'шоколадница', 'кафе «шоколадница»', 'шоколадница', 'шоколадница', 'кафе «шоколадница»', 'шоколадница', 'шоколадница', 'шоколадница', 'шоколадница', 'шоколадница', 'шоколадница', 'шоколадница', 'шоколадница', 'шоколадница', 'шоколадница', 'шоколадница', 'шоколадница', 'шоколадница', 'шоколадница', 'шоколадница', 'кафе «шоколадница»', 'шоколадница', 'шоколадница', 'кафе «шоколадница»', 'шоколадница', 'шоколадница', 'кафе «шоколадница»', 'шоколадница', 'шоколадница', 'шоколадница', 'шоколадница', 'шоколадница', 'шоколадница', 'кофейня шоколадница', 'шоколадница', 'шоколадница', 'кофейня шоколадница', 'кофейня шоколадница', 'шоколадница', 'шоколадница', 'кафе «шоколадница»', 'кафе «шоколадница»', 'шоколадница', 'шоколадница', 'шоколадница', 'шоколадница', 'кофейня шоколадница', 'шоколадница', 'шоколадница', 'шоколадница', 'шоколадница', 'кафе «шоколадница»', 'шоколадница', 'кафе «шоколадница»', 'кафе «шоколадница»', 'шоколадница', 'шоколадница', 'шоколадница', 'шоколадница', 'шоколадница', 'шоколадница', 'шоколадница экспресс', 'шоколадница', 'шоколадница', 'кафе «шоколадница»', 'кофейня «шоколадница»', 'кофейня «шоколадница»', 'шоколадница', 'шоколадница', 'шоколадница', 'шоколадница', 'шоколадница', 'шоколадница', 'кафе «шоколадница»', 'кофейня «шоколадница»', 'кофейня «шоколадница»', 'шоколадница', 'шоколадница', 'кафе «шоколадница»', 'кафе «шоколадница»', 'шоколадница', 'шоколадница', 'шоколадница', 'шоколадница', 'шоколадница', 'шоколадница кофемания', 'шоколадница', 'шоколадница', 'шоколадница', 'шоколадница', 'шоколадница', 'кафе «шоколадница»', 'шоколадница', 'шоколадница', 'шоколадница', 'шоколадница', 'шоколадница', 'шоколадница', 'шоколадница', 'шоколадница', 'шоколадница', 'шоколадница', 'шоколадница', 'шоколадница', 'шоколадница', 'шоколадница', 'шоколадница', 'кафе «шоколадница»', 'шоколадница', 'шоколадница', 'шоколадница', 'кафе «шоколадница»', 'шоколадница', 'шоколадница', 'шоколадница', 'шоколадница', 'шоколадница', 'шоколадница', 'шоколадница', 'шоколадница', 'шоколадница', 'шоколадница', 'шоколадница', 'шоколадница', 'кофейня «шоколадница»', 'шоколадница', 'шоколадница', 'шоколадница', 'шоколадница', 'шоколадница', 'шоколадница']\n"
     ]
    }
   ],
   "source": [
    "list = []\n",
    "for item in rest_data['object_name']:\n",
    "    if 'шоколадн' in item:\n",
    "        list.append(item)\n",
    "print(list)"
   ]
  },
  {
   "cell_type": "markdown",
   "metadata": {},
   "source": [
    "Есть варианты: кафе «шоколадница», кофейня «шоколадница», шоколадница экспресс. Чтобы избавиться от данных дубликатов, наиболее популярных заведений, составим словарь синонимов стандартных названий."
   ]
  },
  {
   "cell_type": "code",
   "execution_count": 11,
   "metadata": {},
   "outputs": [],
   "source": [
    "synonyms = {\n",
    "    'kfc': ['fridays kfc', 'kfc волгоградский', 'kfc.', 'закусочная kfc', 'закусочная «kfc»',\n",
    "            'кафе kfc', 'кафе «kfc»', 'кфс амрест', 'пбо «kfc покрышкина»', 'пбо «kfc»',\n",
    "            'предприятие быстрого обслуживания «kfc»', 'ресторан kfc', 'ресторан «kfc»',\n",
    "            'ресторан быстрого питания kfc', 'ресторан кфс', 'ростикс kfc'],\n",
    "    'burger king': ['burgerking', 'бурген кинг', 'бургер кинг', 'бургер кинг burger king',\n",
    "                    'закусочная «бургер кинг»', 'кафе «бургер кинг»', 'кафе бургер кинг',\n",
    "                    'кафе-закусочная «бургер кинг»',\n",
    "                    'предприятие быстрого обслуживания «бургер кинг»', 'ресторан «бургер кинг»'],\n",
    "    'mcdonalds': ['кафе «макдоналдс»', 'кафе макдоналдс', 'макдоналдс', 'москва - макдоналдс',\n",
    "                  'предприятие быстрого обслуживания «макдоналдс»', 'ресторан «макдоналдс»', 'ресторан«макдоналдс»'],\n",
    "    'bb&burgers': ['bb & burgers', 'bb энд burger', 'бб энд бургерс в&в бургер'],\n",
    "    'burger club': ['бургер клаб'],\n",
    "    'coffeeshop company': ['кофешоп coffeeshop company'],\n",
    "    'cofix': ['кофикс'],\n",
    "    'costa coffee': ['кафе «costa coffee»', 'кафе коста', 'коста кофе', 'кофейня «costa coffee»', 'кофейня кофе коста'],\n",
    "    'dunkin donuts': ['dunkin donuts (азия box - бургер box)', 'данкин донатс', 'кафе dunkin donuts',\n",
    "                      'кафе «данкин донатс»'],\n",
    "    'florentini': ['ресторан «florentini»', 'флорентини'],\n",
    "    'fridays': ['фрайдис'],\n",
    "    'glowsubs sandwiches': ['glow sabs', 'глоу сабс'],\n",
    "    'goodman': ['goodman гудман', 'гудман', 'гудман гудвин', 'ресторан «goodman»', 'ресторан гудман',\n",
    "                'стейк хаус гудман', 'стейк-хаус гудман'],\n",
    "    'grand урюк': ['гранд урюк'],\n",
    "    'healthy food': ['кафе «healthy food»'],\n",
    "    'il forno': ['il forno иль форно', 'альфорно', 'иль форно'],\n",
    "    'jeffreys coffee': ['джеффрис кофе'],\n",
    "    'krispy kreme': ['krispy creme', 'krispy krem'],\n",
    "    'lavkalavka': ['кафе «лавкалавка»', 'лавкалавка'],\n",
    "    'maki maki': ['маки-маки', 'ресторан маки-маки', 'ресторан японской кухни «маки-маки»',\n",
    "                  'суши «маки-маки»', 'суши бар «маки-маки»'],\n",
    "    'moskalyan': ['анти-кафе кальянная «moskalyan»', 'кальян-бар moskalyan',\n",
    "                  'кальянная «москальян»', 'кафе «кальянная москальян»', 'москальян'],\n",
    "    'movenpick': ['coffee & waffles & movenpick', 'коктейли movenpick', 'мороженное movenpick'],\n",
    "    'osteria mario': ['bq cafe & osteria mario', 'osteria mario+швили', 'osteriamario', 'остериа марио',\n",
    "                      'остерия марио', 'ресторан «osteria mario»'],\n",
    "    'paul': ['paul cafe', 'paul поль',\n",
    "             'кафе «поль бейкери»', 'кафе-пекарня paul',\n",
    "             'поль бейкери', 'ресторан paul'],\n",
    "    'prime star': ['prime star прайм стар', 'prime прайм стар',\n",
    "                   'prime прайм стар прайм-кафе', 'кафе prime прайм стар', 'кафе prime прайм стар прайм-кафе',\n",
    "                   'кафе «prime star»', 'кафе «prime» (прайм стар)', 'кафе «prime» прайм стар', 'кафе «прайм стар»',\n",
    "                   'кафе прайм стар',\n",
    "                   'прайм стар', 'прайм стар кафе', 'прайм-кафе прайм стар', 'праймкафе прайм стар'],\n",
    "    'starbucks': ['starbucks coffee', 'starbucks кофе', 'starbucks старбакс', 'starbucks',\n",
    "                  'старбакс кофе', 'кафе starbucks',\n",
    "                  'кафе «starbucks»', 'кафе «кофейня старбакс»',\n",
    "                  'кафе «сабвей» старбакс', 'кафе «старбакс»', 'кофейня «старбакс кофе»', 'кофейня «старбакс»',\n",
    "                  'кофемания starbucks', 'старбакс', 'старбакс starbucks', 'старбакс кофе'],\n",
    "    'subway': ['кафе «subway»', 'кафе «сабвэй»', 'кафе сабвей', 'сабвей', 'сабвей subway', 'сабвей сушивок', 'сабвэй'],\n",
    "    'tgi fridays': ['ресторан tgi friday s', 'ресторан «tgi fridays»'],\n",
    "    'torro grill': ['torro gril & wine bar',\n",
    "                    'torro grill & wine bar', 'torro grill торро гриль',\n",
    "                    'ресторан торро гриль', 'торро гриль'],\n",
    "    'travelers coffee': ['travelers coffe', \"кафе «traveler's coffee»\", 'кафе «travelers coffee»',\n",
    "                         'кофейня тревеллерс'],\n",
    "    'tutti frutti': ['tutti frutti frozen yogurt', 'кафе мороженного «tutti frutti»', 'тутти фрутти'],\n",
    "    'upside down cake': ['upside down', 'upside down cake (udcкафе)', 'upside down cake кафе'],\n",
    "    'vanwok': ['van wok', 'van wok ванвок', 'vanwok ванвок', 'ванвок'],\n",
    "    'wokker': ['вокер', 'воккер', 'кафе воккер', 'каффе «wokker»'],\n",
    "    'кулинарная лавка братьев караваевых': ['«кафе «кулинарная лавка братьев караваевых»',\n",
    "                                            '«кафе «кулинарная лавка братьев караваевых»»',\n",
    "                                            'братья караваевы', 'братья караваевых',\n",
    "                                            'кафе «кулинарная лавка братьев караваевых»',\n",
    "                                            'кулинарная лавка братьев караваевых братья караваевы'],\n",
    "    'алло пицца': ['алло-пицца', 'пиццерия «алло пицца»'],\n",
    "    'баскин роббинс': ['закусочная «баскин роббинс & стардогс»', 'кафе «баскин роббинс»'],\n",
    "    'додо пицца': ['додопицца', 'пицца «додо»', 'пиццерия «додо пицца»', 'пиццерия «додо»',\n",
    "                   'предприятие быстрого обслуживания «додо пицца»'],\n",
    "    \"domino's pizza\": ['domino-s pizza', 'dominos pizza', \"домино'с пицца\", \"домино'с пицца domino,s pizza\",\n",
    "                       'доминос пицца',\n",
    "                       \"кафе «домино'с пицца»\", \"пиццерия «домино'с пицца»\",\n",
    "                       \"предприятие быстрого обслуживания «домино'с пицца»\", \"ресторан «домино'с пицца»\",\n",
    "                       'ресторан доминос'],\n",
    "    'крошка картошка': ['закусочная «крошка картошка»', 'кафе «крошка картошка»', 'кафе «крошка-картошка»',\n",
    "                        'крошка крем', 'крошка-картошка', 'крошкакартошка',\n",
    "                        'предприятие быстрого обслуживания «крошка картошка»',\n",
    "                        'предприятие быстрого питания «крошка картошка»',\n",
    "                        'ресторан быстрого питания «крошка картошка»'],\n",
    "    'шоколадница': ['кафе «шоколадница»', 'кофейня «шоколадница»', 'кофейня шоколадница', 'шоколадница кофе хаус',\n",
    "                    'шоколадница кофемания', 'шоколадница экспресс'],\n",
    "    'теремок': ['закусочная «теремок»', 'кафе «теремок»', 'кафе теремок', 'пбо «теремок»',\n",
    "                'предприятие быстрого обслуживания «теремок»', 'ресторан «теремок»',\n",
    "                'ресторан теремок'],\n",
    "    'суши wok': ['бар «суши wok»', 'кафе «суши wok»', 'кафе суши wok', 'сеть магазинов «суши wok»'],\n",
    "    'милти': ['готовые блюда милти', 'магазин готовой еды «милти»', 'милти готовые блюда для здорового питания',\n",
    "              'предприятие быстрого обслуживания «милти»', 'точка продажи готовой еды милти'],\n",
    "    'папа джонс': ['кафе «папа джонс»', 'папа джойс', 'папа джонс пицца', 'пицерия «папа джонс»',\n",
    "                   'пицерия папа джонс', 'пиццерия «папа джонс»', 'пиццерия папа джонс'],\n",
    "    'чайхона №1': ['вlack burger чайхона №1', 'кафе чайхона №1',\n",
    "                   'павлин мавлин чайхона №1', 'ресторан «чайхона №1»', 'чайхона №1 бутово'],\n",
    "    'якитория': ['кафе «якитория»', 'кафе якитория', 'ресторан «якитория»', 'якитория и спорт бар',\n",
    "                 'якитория и ян примус'],\n",
    "    'кофе хаус': ['кафе «кофе хаус»', 'кофе хаус,экспресс', 'кофе хаус. экспрессо и капучино бар',\n",
    "                  'кофейня «кофе хаус»'],\n",
    "    'хлеб насущный': ['кафе «хлеб насущный»', 'кафе хлеб насущный'],\n",
    "    'тануки': ['кафе «тануки»', 'ресторан «тануки»', 'ресторан тануки'],\n",
    "    'мята lounge': ['бар мята lounge', 'кальян- бар «мята lounge»', 'кальян-бар «мята lounge»',\n",
    "                    'кальян-бар мята lounge', 'кальянная «мята lounge»', 'кальянная мята lounge',\n",
    "                    'кафе «мята lounge» кальянный клуб', 'лаундж-бар «мята lounge»', 'мята lounge автозаводская',\n",
    "                    'мята lounge октябрьская', 'мята lounge шаболовка'],\n",
    "    'му-му': ['кафе «му-му»', 'кафе быстрого питания му-му', 'кафе му-му'],\n",
    "    'pizza hut': [ 'закусочная «пицца хат»', 'кафе «пицца хат»', 'пицца хат',\n",
    "                  'пиццерия «пицца хат»', 'ресторан «пицца хат»']\n",
    "}"
   ]
  },
  {
   "cell_type": "markdown",
   "metadata": {},
   "source": [
    "И составим функцию по замене синонимов названий заведений на стандартное название."
   ]
  },
  {
   "cell_type": "code",
   "execution_count": 12,
   "metadata": {},
   "outputs": [],
   "source": [
    "def check_synonyms(cell):\n",
    "    for name, syn in synonyms.items():\n",
    "        if cell in syn: return name\n",
    "    return cell"
   ]
  },
  {
   "cell_type": "markdown",
   "metadata": {},
   "source": [
    "После этого запишем стандартное название в новую колонку object_name_new."
   ]
  },
  {
   "cell_type": "code",
   "execution_count": 13,
   "metadata": {},
   "outputs": [],
   "source": [
    "rest_data['object_name_new'] =  rest_data['object_name'].apply(check_synonyms)"
   ]
  },
  {
   "cell_type": "code",
   "execution_count": 14,
   "metadata": {},
   "outputs": [
    {
     "data": {
      "text/plain": [
       "9673"
      ]
     },
     "execution_count": 14,
     "metadata": {},
     "output_type": "execute_result"
    }
   ],
   "source": [
    "rest_data['object_name_new'].nunique()"
   ]
  },
  {
   "cell_type": "markdown",
   "metadata": {},
   "source": [
    "После всех преобразований количество уникальных названий заведений снизилось с 10393 до 9673 шт."
   ]
  },
  {
   "cell_type": "markdown",
   "metadata": {},
   "source": [
    "Проверим столбец chain"
   ]
  },
  {
   "cell_type": "code",
   "execution_count": 15,
   "metadata": {},
   "outputs": [
    {
     "data": {
      "text/plain": [
       "нет    12398\n",
       "да      2968\n",
       "Name: chain, dtype: int64"
      ]
     },
     "execution_count": 15,
     "metadata": {},
     "output_type": "execute_result"
    }
   ],
   "source": [
    "rest_data['chain'].value_counts()"
   ]
  },
  {
   "cell_type": "markdown",
   "metadata": {},
   "source": [
    "В столбце 2 значений 'да' и 'нет'. Сетевых заведений намного больше."
   ]
  },
  {
   "cell_type": "markdown",
   "metadata": {},
   "source": [
    "Проверим столбец object_type."
   ]
  },
  {
   "cell_type": "code",
   "execution_count": 16,
   "metadata": {},
   "outputs": [
    {
     "data": {
      "text/plain": [
       "кафе                                 6099\n",
       "столовая                             2587\n",
       "ресторан                             2285\n",
       "предприятие быстрого обслуживания    1923\n",
       "бар                                   856\n",
       "буфет                                 585\n",
       "кафетерий                             398\n",
       "закусочная                            360\n",
       "магазин (отдел кулинарии)             273\n",
       "Name: object_type, dtype: int64"
      ]
     },
     "execution_count": 16,
     "metadata": {},
     "output_type": "execute_result"
    }
   ],
   "source": [
    "rest_data['object_type'].value_counts()"
   ]
  },
  {
   "cell_type": "markdown",
   "metadata": {},
   "source": [
    "Преобладают кафе."
   ]
  },
  {
   "cell_type": "markdown",
   "metadata": {},
   "source": [
    "Проверим столбец address."
   ]
  },
  {
   "cell_type": "code",
   "execution_count": 17,
   "metadata": {},
   "outputs": [
    {
     "data": {
      "text/plain": [
       "город Москва, Ходынский бульвар, дом 4                         95\n",
       "город Москва, Пресненская набережная, дом 2                    63\n",
       "город Москва, проспект Мира, дом 211, корпус 2                 60\n",
       "город Москва, Кировоградская улица, дом 13А                    53\n",
       "город Москва, площадь Киевского Вокзала, дом 2                 48\n",
       "                                                               ..\n",
       "город Москва, улица Большая Якиманка, дом 33/13, строение 1     1\n",
       "город Москва, улица Красная Пресня, дом 31                      1\n",
       "город Москва, бульвар Яна Райниса, дом 49                       1\n",
       "город Москва, Широкая улица, дом 9А                             1\n",
       "город Москва, проспект 60-летия Октября, дом 27                 1\n",
       "Name: address, Length: 9108, dtype: int64"
      ]
     },
     "execution_count": 17,
     "metadata": {},
     "output_type": "execute_result"
    }
   ],
   "source": [
    "rest_data['address'].value_counts()"
   ]
  },
  {
   "cell_type": "markdown",
   "metadata": {},
   "source": [
    "По адресам в верху списка, находятся крупные торгово-развлекательные комплексы, с большим количеством заведений общественного питания."
   ]
  },
  {
   "cell_type": "markdown",
   "metadata": {},
   "source": [
    "Проверим столбец number."
   ]
  },
  {
   "cell_type": "code",
   "execution_count": 18,
   "metadata": {},
   "outputs": [
    {
     "data": {
      "text/plain": [
       "count    15366.000000\n",
       "mean        59.547182\n",
       "std         74.736833\n",
       "min          0.000000\n",
       "25%         12.000000\n",
       "50%         40.000000\n",
       "75%         80.000000\n",
       "max       1700.000000\n",
       "Name: number, dtype: float64"
      ]
     },
     "execution_count": 18,
     "metadata": {},
     "output_type": "execute_result"
    }
   ],
   "source": [
    "rest_data['number'].describe()"
   ]
  },
  {
   "cell_type": "markdown",
   "metadata": {},
   "source": [
    "Минимальное количество посадочных мест - 0, максимальное - 1700. Проверим заведения с таким количеством мест."
   ]
  },
  {
   "cell_type": "code",
   "execution_count": 19,
   "metadata": {},
   "outputs": [
    {
     "data": {
      "text/plain": [
       "шаурма             205\n",
       "милти               57\n",
       "пекарня             42\n",
       "кофе с собой        35\n",
       "донер кебаб         28\n",
       "выпечка             24\n",
       "донер               17\n",
       "крошка картошка     16\n",
       "шаурма, выпечка     13\n",
       "буфет               13\n",
       "Name: object_name, dtype: int64"
      ]
     },
     "execution_count": 19,
     "metadata": {},
     "output_type": "execute_result"
    }
   ],
   "source": [
    "rest_data.query('number == 0')['object_name'].value_counts().head(10)"
   ]
  },
  {
   "cell_type": "markdown",
   "metadata": {},
   "source": [
    "Нулевое количество посадочных мест у заведений бысторго питания."
   ]
  },
  {
   "cell_type": "code",
   "execution_count": 20,
   "metadata": {},
   "outputs": [
    {
     "data": {
      "text/plain": [
       "object_name_new                             address                                                          number\n",
       "arena by soho family                        город Москва, Кутузовский проспект, дом 36, строение 11          1700      1\n",
       "банкетный зал шелк                          город Москва, Большой Саввинский переулок, дом 12, строение 10Г  1500      1\n",
       "комбинат питания «управление академсервис»  город Москва, проспект Вернадского, дом 84, строение 1           1288      1\n",
       "ресторан «альфа»                            город Москва, Измайловское шоссе, дом 71, корпус А               1040      1\n",
       "рум сервис                                  город Москва, Кутузовский проспект, дом 2/1, строение 1          1200      1\n",
       "                                            город Москва, площадь Европы, дом 2                              1200      1\n",
       "столовая-буфет                              город Москва, улица Волхонка, дом 15                             1400      1\n",
       "dtype: int64"
      ]
     },
     "execution_count": 20,
     "metadata": {},
     "output_type": "execute_result"
    }
   ],
   "source": [
    "rest_data.query('number >= 1000')[['object_name_new', 'address', 'number']].value_counts()"
   ]
  },
  {
   "cell_type": "markdown",
   "metadata": {},
   "source": [
    "Заведения с таким большим количеством посадочных мест действительно существуют."
   ]
  },
  {
   "cell_type": "markdown",
   "metadata": {},
   "source": [
    "Также проверим данных на дубликаты"
   ]
  },
  {
   "cell_type": "code",
   "execution_count": 21,
   "metadata": {},
   "outputs": [
    {
     "data": {
      "text/plain": [
       "0"
      ]
     },
     "execution_count": 21,
     "metadata": {},
     "output_type": "execute_result"
    }
   ],
   "source": [
    "rest_data.duplicated().sum()"
   ]
  },
  {
   "cell_type": "markdown",
   "metadata": {},
   "source": [
    "Дубликаты отсутствуют."
   ]
  },
  {
   "cell_type": "markdown",
   "metadata": {},
   "source": [
    "Заменим слишком длинные названия типов заведений, на более короткие."
   ]
  },
  {
   "cell_type": "code",
   "execution_count": 22,
   "metadata": {},
   "outputs": [],
   "source": [
    "rest_data['object_type'] = rest_data['object_type'].str.replace('предприятие быстрого обслуживания', 'фаст-фуд')\n",
    "rest_data['object_type'] = rest_data['object_type'].str.replace('магазин \\(отдел кулинарии\\)', 'кулинария')"
   ]
  },
  {
   "cell_type": "markdown",
   "metadata": {},
   "source": [
    "Заменим значения в столбце, о том сетевое или нет заведение."
   ]
  },
  {
   "cell_type": "code",
   "execution_count": 23,
   "metadata": {},
   "outputs": [],
   "source": [
    "rest_data['chain'] = rest_data['chain'].str.replace('да', 'сетевое')\n",
    "rest_data['chain'] = rest_data['chain'].str.replace('нет', 'несетевое')"
   ]
  },
  {
   "cell_type": "markdown",
   "metadata": {},
   "source": [
    "Найдём дубликаты по столбцам: имя заведения, его адрес и тип."
   ]
  },
  {
   "cell_type": "code",
   "execution_count": 24,
   "metadata": {},
   "outputs": [
    {
     "data": {
      "text/plain": [
       "184"
      ]
     },
     "execution_count": 24,
     "metadata": {},
     "output_type": "execute_result"
    }
   ],
   "source": [
    "rest_data[['object_name' , 'address', 'object_type']].duplicated().sum()"
   ]
  },
  {
   "cell_type": "code",
   "execution_count": 25,
   "metadata": {},
   "outputs": [],
   "source": [
    "rest_data = rest_data.drop_duplicates(subset=['object_name' , 'address', 'object_type'])"
   ]
  },
  {
   "cell_type": "code",
   "execution_count": 26,
   "metadata": {},
   "outputs": [
    {
     "data": {
      "text/plain": [
       "0"
      ]
     },
     "execution_count": 26,
     "metadata": {},
     "output_type": "execute_result"
    }
   ],
   "source": [
    "rest_data[['object_name' , 'address', 'object_type']].duplicated().sum()"
   ]
  },
  {
   "cell_type": "markdown",
   "metadata": {},
   "source": [
    "###  Вывод\n",
    "Исходный датафрейм состоит из 6 столбцов и 15366 строк. Пропущенных значений выявлено не было. Были определены и обработаны явные (184 шт.) дубликаты и неявные дубликаты в названиях наиболее популярных заведений. Заменены значения столбцов object_type и chain на более удобные."
   ]
  },
  {
   "cell_type": "markdown",
   "metadata": {},
   "source": [
    "## Шаг №2. Анализ данных"
   ]
  },
  {
   "cell_type": "markdown",
   "metadata": {},
   "source": [
    "### Исследование соотношения видов объектов общественного питания по количеству"
   ]
  },
  {
   "cell_type": "markdown",
   "metadata": {},
   "source": [
    "Определим какую долю занимают разные типы заведений и поcтроим график этого распределения в виде столбчатой диаграммы."
   ]
  },
  {
   "cell_type": "code",
   "execution_count": 27,
   "metadata": {},
   "outputs": [],
   "source": [
    "rest_group_type = rest_data.groupby('object_type').agg({'id': 'count'}) / rest_data['id'].count()"
   ]
  },
  {
   "cell_type": "code",
   "execution_count": 28,
   "metadata": {},
   "outputs": [],
   "source": [
    "rest_group_type = rest_group_type.rename(columns={'id': 'count'}).sort_values(by='count', ascending=False)"
   ]
  },
  {
   "cell_type": "code",
   "execution_count": 29,
   "metadata": {},
   "outputs": [
    {
     "data": {
      "text/html": [
       "<div>\n",
       "<style scoped>\n",
       "    .dataframe tbody tr th:only-of-type {\n",
       "        vertical-align: middle;\n",
       "    }\n",
       "\n",
       "    .dataframe tbody tr th {\n",
       "        vertical-align: top;\n",
       "    }\n",
       "\n",
       "    .dataframe thead th {\n",
       "        text-align: right;\n",
       "    }\n",
       "</style>\n",
       "<table border=\"1\" class=\"dataframe\">\n",
       "  <thead>\n",
       "    <tr style=\"text-align: right;\">\n",
       "      <th></th>\n",
       "      <th>count</th>\n",
       "    </tr>\n",
       "    <tr>\n",
       "      <th>object_type</th>\n",
       "      <th></th>\n",
       "    </tr>\n",
       "  </thead>\n",
       "  <tbody>\n",
       "    <tr>\n",
       "      <th>кафе</th>\n",
       "      <td>0.395732</td>\n",
       "    </tr>\n",
       "    <tr>\n",
       "      <th>столовая</th>\n",
       "      <td>0.169609</td>\n",
       "    </tr>\n",
       "    <tr>\n",
       "      <th>ресторан</th>\n",
       "      <td>0.149783</td>\n",
       "    </tr>\n",
       "    <tr>\n",
       "      <th>фаст-фуд</th>\n",
       "      <td>0.124490</td>\n",
       "    </tr>\n",
       "    <tr>\n",
       "      <th>бар</th>\n",
       "      <td>0.056185</td>\n",
       "    </tr>\n",
       "    <tr>\n",
       "      <th>буфет</th>\n",
       "      <td>0.037544</td>\n",
       "    </tr>\n",
       "    <tr>\n",
       "      <th>кафетерий</th>\n",
       "      <td>0.025886</td>\n",
       "    </tr>\n",
       "    <tr>\n",
       "      <th>закусочная</th>\n",
       "      <td>0.022856</td>\n",
       "    </tr>\n",
       "    <tr>\n",
       "      <th>кулинария</th>\n",
       "      <td>0.017916</td>\n",
       "    </tr>\n",
       "  </tbody>\n",
       "</table>\n",
       "</div>"
      ],
      "text/plain": [
       "                count\n",
       "object_type          \n",
       "кафе         0.395732\n",
       "столовая     0.169609\n",
       "ресторан     0.149783\n",
       "фаст-фуд     0.124490\n",
       "бар          0.056185\n",
       "буфет        0.037544\n",
       "кафетерий    0.025886\n",
       "закусочная   0.022856\n",
       "кулинария    0.017916"
      ]
     },
     "execution_count": 29,
     "metadata": {},
     "output_type": "execute_result"
    }
   ],
   "source": [
    "rest_group_type"
   ]
  },
  {
   "cell_type": "code",
   "execution_count": 30,
   "metadata": {},
   "outputs": [
    {
     "data": {
      "image/png": "[encoded data removed]",
      "text/plain": [
       "<Figure size 1080x576 with 1 Axes>"
      ]
     },
     "metadata": {
      "needs_background": "light"
     },
     "output_type": "display_data"
    }
   ],
   "source": [
    "plt.figure(figsize=(15,8))\n",
    "sns.barplot(x='count', y=rest_group_type.index, data=rest_group_type, color='cornflowerblue')\n",
    "plt.xlabel(\"Тип объекта\", size=14)\n",
    "plt.ylabel(\"Доля объектов\", size=14)\n",
    "plt.title(\"Соотношения видов объектов общественного питания по количеству\", size=20)\n",
    "plt.show()"
   ]
  },
  {
   "cell_type": "markdown",
   "metadata": {},
   "source": [
    "Около 40% от общего количетсва занимают кафе."
   ]
  },
  {
   "cell_type": "markdown",
   "metadata": {},
   "source": [
    "### Исследование соотношения сетевых и несетевых заведений по количеству."
   ]
  },
  {
   "cell_type": "markdown",
   "metadata": {},
   "source": [
    "Определим какую долю занимают сетевые и несетевые заведения и поcтроим столбчатую диаграмму этого распределения."
   ]
  },
  {
   "cell_type": "code",
   "execution_count": 31,
   "metadata": {},
   "outputs": [],
   "source": [
    "rest_group_chain = rest_data.groupby('chain').agg({'id': 'count'}) / rest_data['id'].count()"
   ]
  },
  {
   "cell_type": "code",
   "execution_count": 32,
   "metadata": {},
   "outputs": [],
   "source": [
    "rest_group_chain = rest_group_chain.rename(columns={'id': 'count'}).sort_values(by='count')"
   ]
  },
  {
   "cell_type": "code",
   "execution_count": 33,
   "metadata": {},
   "outputs": [
    {
     "data": {
      "text/html": [
       "<div>\n",
       "<style scoped>\n",
       "    .dataframe tbody tr th:only-of-type {\n",
       "        vertical-align: middle;\n",
       "    }\n",
       "\n",
       "    .dataframe tbody tr th {\n",
       "        vertical-align: top;\n",
       "    }\n",
       "\n",
       "    .dataframe thead th {\n",
       "        text-align: right;\n",
       "    }\n",
       "</style>\n",
       "<table border=\"1\" class=\"dataframe\">\n",
       "  <thead>\n",
       "    <tr style=\"text-align: right;\">\n",
       "      <th></th>\n",
       "      <th>count</th>\n",
       "    </tr>\n",
       "    <tr>\n",
       "      <th>chain</th>\n",
       "      <th></th>\n",
       "    </tr>\n",
       "  </thead>\n",
       "  <tbody>\n",
       "    <tr>\n",
       "      <th>сетевое</th>\n",
       "      <td>0.194177</td>\n",
       "    </tr>\n",
       "    <tr>\n",
       "      <th>несетевое</th>\n",
       "      <td>0.805823</td>\n",
       "    </tr>\n",
       "  </tbody>\n",
       "</table>\n",
       "</div>"
      ],
      "text/plain": [
       "              count\n",
       "chain              \n",
       "сетевое    0.194177\n",
       "несетевое  0.805823"
      ]
     },
     "execution_count": 33,
     "metadata": {},
     "output_type": "execute_result"
    }
   ],
   "source": [
    "rest_group_chain "
   ]
  },
  {
   "cell_type": "code",
   "execution_count": 34,
   "metadata": {},
   "outputs": [
    {
     "data": {
      "image/png": "[encoded data removed]",
      "text/plain": [
       "<Figure size 1080x576 with 1 Axes>"
      ]
     },
     "metadata": {
      "needs_background": "light"
     },
     "output_type": "display_data"
    }
   ],
   "source": [
    "plt.figure(figsize=(15,8))\n",
    "sns.barplot(x=rest_group_chain.index, y='count', data=rest_group_chain, color='cornflowerblue')\n",
    "plt.xlabel(\"Тип объекта\", size=14)\n",
    "plt.ylabel(\"Доля объектов\", size=14)\n",
    "plt.title(\"Соотношения сетевых и несетевых заведений по количеству\", size=20)\n",
    "plt.show()"
   ]
  },
  {
   "cell_type": "markdown",
   "metadata": {},
   "source": [
    "Преобладают несетевые заведения, на их долю приходится более 80%."
   ]
  },
  {
   "cell_type": "markdown",
   "metadata": {},
   "source": [
    "### Для какого вида объекта общественного питания характерно сетевое распространение?"
   ]
  },
  {
   "cell_type": "markdown",
   "metadata": {},
   "source": [
    "Построим сводную таблицу количества сетевых/несетевых заведений  по типу объектов."
   ]
  },
  {
   "cell_type": "code",
   "execution_count": 35,
   "metadata": {},
   "outputs": [],
   "source": [
    "report = rest_data.pivot_table(index='object_type',columns='chain',values='id', aggfunc='count')"
   ]
  },
  {
   "cell_type": "code",
   "execution_count": 36,
   "metadata": {},
   "outputs": [
    {
     "data": {
      "text/html": [
       "<div>\n",
       "<style scoped>\n",
       "    .dataframe tbody tr th:only-of-type {\n",
       "        vertical-align: middle;\n",
       "    }\n",
       "\n",
       "    .dataframe tbody tr th {\n",
       "        vertical-align: top;\n",
       "    }\n",
       "\n",
       "    .dataframe thead th {\n",
       "        text-align: right;\n",
       "    }\n",
       "</style>\n",
       "<table border=\"1\" class=\"dataframe\">\n",
       "  <thead>\n",
       "    <tr style=\"text-align: right;\">\n",
       "      <th>chain</th>\n",
       "      <th>несетевое</th>\n",
       "      <th>сетевое</th>\n",
       "    </tr>\n",
       "    <tr>\n",
       "      <th>object_type</th>\n",
       "      <th></th>\n",
       "      <th></th>\n",
       "    </tr>\n",
       "  </thead>\n",
       "  <tbody>\n",
       "    <tr>\n",
       "      <th>бар</th>\n",
       "      <td>816</td>\n",
       "      <td>37</td>\n",
       "    </tr>\n",
       "    <tr>\n",
       "      <th>буфет</th>\n",
       "      <td>559</td>\n",
       "      <td>11</td>\n",
       "    </tr>\n",
       "    <tr>\n",
       "      <th>закусочная</th>\n",
       "      <td>291</td>\n",
       "      <td>56</td>\n",
       "    </tr>\n",
       "    <tr>\n",
       "      <th>кафе</th>\n",
       "      <td>4621</td>\n",
       "      <td>1387</td>\n",
       "    </tr>\n",
       "    <tr>\n",
       "      <th>кафетерий</th>\n",
       "      <td>342</td>\n",
       "      <td>51</td>\n",
       "    </tr>\n",
       "    <tr>\n",
       "      <th>кулинария</th>\n",
       "      <td>194</td>\n",
       "      <td>78</td>\n",
       "    </tr>\n",
       "    <tr>\n",
       "      <th>ресторан</th>\n",
       "      <td>1733</td>\n",
       "      <td>541</td>\n",
       "    </tr>\n",
       "    <tr>\n",
       "      <th>столовая</th>\n",
       "      <td>2572</td>\n",
       "      <td>3</td>\n",
       "    </tr>\n",
       "    <tr>\n",
       "      <th>фаст-фуд</th>\n",
       "      <td>1106</td>\n",
       "      <td>784</td>\n",
       "    </tr>\n",
       "  </tbody>\n",
       "</table>\n",
       "</div>"
      ],
      "text/plain": [
       "chain        несетевое  сетевое\n",
       "object_type                    \n",
       "бар                816       37\n",
       "буфет              559       11\n",
       "закусочная         291       56\n",
       "кафе              4621     1387\n",
       "кафетерий          342       51\n",
       "кулинария          194       78\n",
       "ресторан          1733      541\n",
       "столовая          2572        3\n",
       "фаст-фуд          1106      784"
      ]
     },
     "execution_count": 36,
     "metadata": {},
     "output_type": "execute_result"
    }
   ],
   "source": [
    "report"
   ]
  },
  {
   "cell_type": "markdown",
   "metadata": {},
   "source": [
    "Найдём суммарное количество заведений и определим долю сетевых. После этого построим столбчатую диаграмму доли сетевых заведений по типу объекта."
   ]
  },
  {
   "cell_type": "code",
   "execution_count": 37,
   "metadata": {},
   "outputs": [],
   "source": [
    "report['суммарное кол-во'] = report['несетевое'] + report['сетевое']"
   ]
  },
  {
   "cell_type": "code",
   "execution_count": 38,
   "metadata": {},
   "outputs": [],
   "source": [
    "report['%_сетевых'] = report['сетевое'] / report['суммарное кол-во']"
   ]
  },
  {
   "cell_type": "code",
   "execution_count": 39,
   "metadata": {},
   "outputs": [],
   "source": [
    "report = report.sort_values(by='%_сетевых', ascending=False)"
   ]
  },
  {
   "cell_type": "code",
   "execution_count": 40,
   "metadata": {},
   "outputs": [
    {
     "data": {
      "text/html": [
       "<div>\n",
       "<style scoped>\n",
       "    .dataframe tbody tr th:only-of-type {\n",
       "        vertical-align: middle;\n",
       "    }\n",
       "\n",
       "    .dataframe tbody tr th {\n",
       "        vertical-align: top;\n",
       "    }\n",
       "\n",
       "    .dataframe thead th {\n",
       "        text-align: right;\n",
       "    }\n",
       "</style>\n",
       "<table border=\"1\" class=\"dataframe\">\n",
       "  <thead>\n",
       "    <tr style=\"text-align: right;\">\n",
       "      <th>chain</th>\n",
       "      <th>несетевое</th>\n",
       "      <th>сетевое</th>\n",
       "      <th>суммарное кол-во</th>\n",
       "      <th>%_сетевых</th>\n",
       "    </tr>\n",
       "    <tr>\n",
       "      <th>object_type</th>\n",
       "      <th></th>\n",
       "      <th></th>\n",
       "      <th></th>\n",
       "      <th></th>\n",
       "    </tr>\n",
       "  </thead>\n",
       "  <tbody>\n",
       "    <tr>\n",
       "      <th>фаст-фуд</th>\n",
       "      <td>1106</td>\n",
       "      <td>784</td>\n",
       "      <td>1890</td>\n",
       "      <td>0.414815</td>\n",
       "    </tr>\n",
       "    <tr>\n",
       "      <th>кулинария</th>\n",
       "      <td>194</td>\n",
       "      <td>78</td>\n",
       "      <td>272</td>\n",
       "      <td>0.286765</td>\n",
       "    </tr>\n",
       "    <tr>\n",
       "      <th>ресторан</th>\n",
       "      <td>1733</td>\n",
       "      <td>541</td>\n",
       "      <td>2274</td>\n",
       "      <td>0.237907</td>\n",
       "    </tr>\n",
       "    <tr>\n",
       "      <th>кафе</th>\n",
       "      <td>4621</td>\n",
       "      <td>1387</td>\n",
       "      <td>6008</td>\n",
       "      <td>0.230859</td>\n",
       "    </tr>\n",
       "    <tr>\n",
       "      <th>закусочная</th>\n",
       "      <td>291</td>\n",
       "      <td>56</td>\n",
       "      <td>347</td>\n",
       "      <td>0.161383</td>\n",
       "    </tr>\n",
       "    <tr>\n",
       "      <th>кафетерий</th>\n",
       "      <td>342</td>\n",
       "      <td>51</td>\n",
       "      <td>393</td>\n",
       "      <td>0.129771</td>\n",
       "    </tr>\n",
       "    <tr>\n",
       "      <th>бар</th>\n",
       "      <td>816</td>\n",
       "      <td>37</td>\n",
       "      <td>853</td>\n",
       "      <td>0.043376</td>\n",
       "    </tr>\n",
       "    <tr>\n",
       "      <th>буфет</th>\n",
       "      <td>559</td>\n",
       "      <td>11</td>\n",
       "      <td>570</td>\n",
       "      <td>0.019298</td>\n",
       "    </tr>\n",
       "    <tr>\n",
       "      <th>столовая</th>\n",
       "      <td>2572</td>\n",
       "      <td>3</td>\n",
       "      <td>2575</td>\n",
       "      <td>0.001165</td>\n",
       "    </tr>\n",
       "  </tbody>\n",
       "</table>\n",
       "</div>"
      ],
      "text/plain": [
       "chain        несетевое  сетевое  суммарное кол-во  %_сетевых\n",
       "object_type                                                 \n",
       "фаст-фуд          1106      784              1890   0.414815\n",
       "кулинария          194       78               272   0.286765\n",
       "ресторан          1733      541              2274   0.237907\n",
       "кафе              4621     1387              6008   0.230859\n",
       "закусочная         291       56               347   0.161383\n",
       "кафетерий          342       51               393   0.129771\n",
       "бар                816       37               853   0.043376\n",
       "буфет              559       11               570   0.019298\n",
       "столовая          2572        3              2575   0.001165"
      ]
     },
     "execution_count": 40,
     "metadata": {},
     "output_type": "execute_result"
    }
   ],
   "source": [
    "report"
   ]
  },
  {
   "cell_type": "code",
   "execution_count": 41,
   "metadata": {},
   "outputs": [
    {
     "data": {
      "image/png": "[encoded data removed]",
      "text/plain": [
       "<Figure size 1080x576 with 1 Axes>"
      ]
     },
     "metadata": {
      "needs_background": "light"
     },
     "output_type": "display_data"
    }
   ],
   "source": [
    "plt.figure(figsize=(15,8))\n",
    "sns.barplot(x='%_сетевых', y=report.index, data=report, color='cornflowerblue')\n",
    "plt.xlabel(\"Тип объекта\", size=14)\n",
    "plt.ylabel(\"Доля объектов\", size=14)\n",
    "plt.title(\"Доля сетевых заведений по типу объекта\", size=20)\n",
    "plt.show()"
   ]
  },
  {
   "cell_type": "markdown",
   "metadata": {},
   "source": [
    "Наиболее характерное сетевое распространение для фаст-фуда, более 40%."
   ]
  },
  {
   "cell_type": "markdown",
   "metadata": {},
   "source": [
    "### Что характерно для сетевых заведений: много заведений с небольшим числом посадочных мест в каждом или мало заведений с большим количеством посадочных мест?"
   ]
  },
  {
   "cell_type": "markdown",
   "metadata": {},
   "source": [
    "Отфильтруем все сетевые заведения."
   ]
  },
  {
   "cell_type": "code",
   "execution_count": 42,
   "metadata": {},
   "outputs": [],
   "source": [
    "chain_rest = rest_data.query('chain ==\"сетевое\"')"
   ]
  },
  {
   "cell_type": "markdown",
   "metadata": {},
   "source": [
    "Для каждой сети посчитаем число заведений и среднее число посадочных мест."
   ]
  },
  {
   "cell_type": "code",
   "execution_count": 43,
   "metadata": {},
   "outputs": [],
   "source": [
    "fast_food_rest = chain_rest.query('object_type == \"фаст-фуд\"')"
   ]
  },
  {
   "cell_type": "code",
   "execution_count": 44,
   "metadata": {},
   "outputs": [
    {
     "data": {
      "text/html": [
       "<div>\n",
       "<style scoped>\n",
       "    .dataframe tbody tr th:only-of-type {\n",
       "        vertical-align: middle;\n",
       "    }\n",
       "\n",
       "    .dataframe tbody tr th {\n",
       "        vertical-align: top;\n",
       "    }\n",
       "\n",
       "    .dataframe thead th {\n",
       "        text-align: right;\n",
       "    }\n",
       "</style>\n",
       "<table border=\"1\" class=\"dataframe\">\n",
       "  <thead>\n",
       "    <tr style=\"text-align: right;\">\n",
       "      <th></th>\n",
       "      <th>id</th>\n",
       "      <th>number</th>\n",
       "    </tr>\n",
       "  </thead>\n",
       "  <tbody>\n",
       "    <tr>\n",
       "      <th>count</th>\n",
       "      <td>784.000000</td>\n",
       "      <td>784.00000</td>\n",
       "    </tr>\n",
       "    <tr>\n",
       "      <th>mean</th>\n",
       "      <td>126876.488520</td>\n",
       "      <td>40.31250</td>\n",
       "    </tr>\n",
       "    <tr>\n",
       "      <th>std</th>\n",
       "      <td>63817.770017</td>\n",
       "      <td>50.79177</td>\n",
       "    </tr>\n",
       "    <tr>\n",
       "      <th>min</th>\n",
       "      <td>19675.000000</td>\n",
       "      <td>0.00000</td>\n",
       "    </tr>\n",
       "    <tr>\n",
       "      <th>25%</th>\n",
       "      <td>79908.750000</td>\n",
       "      <td>8.00000</td>\n",
       "    </tr>\n",
       "    <tr>\n",
       "      <th>50%</th>\n",
       "      <td>142842.000000</td>\n",
       "      <td>25.00000</td>\n",
       "    </tr>\n",
       "    <tr>\n",
       "      <th>75%</th>\n",
       "      <td>178200.250000</td>\n",
       "      <td>52.00000</td>\n",
       "    </tr>\n",
       "    <tr>\n",
       "      <th>max</th>\n",
       "      <td>223228.000000</td>\n",
       "      <td>580.00000</td>\n",
       "    </tr>\n",
       "  </tbody>\n",
       "</table>\n",
       "</div>"
      ],
      "text/plain": [
       "                  id     number\n",
       "count     784.000000  784.00000\n",
       "mean   126876.488520   40.31250\n",
       "std     63817.770017   50.79177\n",
       "min     19675.000000    0.00000\n",
       "25%     79908.750000    8.00000\n",
       "50%    142842.000000   25.00000\n",
       "75%    178200.250000   52.00000\n",
       "max    223228.000000  580.00000"
      ]
     },
     "execution_count": 44,
     "metadata": {},
     "output_type": "execute_result"
    }
   ],
   "source": [
    "fast_food_rest.describe()"
   ]
  },
  {
   "cell_type": "code",
   "execution_count": 45,
   "metadata": {},
   "outputs": [
    {
     "data": {
      "text/plain": [
       "40"
      ]
     },
     "execution_count": 45,
     "metadata": {},
     "output_type": "execute_result"
    }
   ],
   "source": [
    "limit_to_number = int(fast_food_rest['number'].mean())\n",
    "limit_to_number"
   ]
  },
  {
   "cell_type": "code",
   "execution_count": 46,
   "metadata": {},
   "outputs": [
    {
     "data": {
      "text/plain": [
       "10"
      ]
     },
     "execution_count": 46,
     "metadata": {},
     "output_type": "execute_result"
    }
   ],
   "source": [
    "limit_to_rest = math.floor(fast_food_rest.groupby('object_name_new')['id'].count().mean())\n",
    "limit_to_rest "
   ]
  },
  {
   "cell_type": "markdown",
   "metadata": {},
   "source": [
    "Зададим границу по количеству заведений в сети 10 объектов, а по количеству посадочных мест в 40 мест.  \n",
    "Добавим новый столбец, с категорией количества заведений в сгруппированный датафрейм."
   ]
  },
  {
   "cell_type": "code",
   "execution_count": 47,
   "metadata": {},
   "outputs": [],
   "source": [
    "chain_rest_grouped= chain_rest.groupby('object_name_new').agg({'id': 'count', 'number': 'mean'})"
   ]
  },
  {
   "cell_type": "code",
   "execution_count": 48,
   "metadata": {},
   "outputs": [],
   "source": [
    "chain_rest_grouped['num_rest'] = 'Мало объектов'"
   ]
  },
  {
   "cell_type": "code",
   "execution_count": 49,
   "metadata": {},
   "outputs": [],
   "source": [
    "chain_rest_grouped.loc[chain_rest_grouped['id'] > limit_to_rest, 'num_rest'] = 'Много объектов'"
   ]
  },
  {
   "cell_type": "markdown",
   "metadata": {},
   "source": [
    "И добавим новый столбец, с категорией количества посадочных мест. И построим диаграмму рассеяния в зависимости от количества заведений и количества мест."
   ]
  },
  {
   "cell_type": "code",
   "execution_count": 50,
   "metadata": {},
   "outputs": [],
   "source": [
    "chain_rest_grouped['num_seats'] = 'Мало мест'"
   ]
  },
  {
   "cell_type": "code",
   "execution_count": 51,
   "metadata": {},
   "outputs": [],
   "source": [
    "chain_rest_grouped.loc[chain_rest_grouped['number'] > limit_to_number, 'num_seats'] = 'Много мест'"
   ]
  },
  {
   "cell_type": "code",
   "execution_count": 52,
   "metadata": {},
   "outputs": [],
   "source": [
    "chain_rest_grouped['category'] = chain_rest_grouped['num_seats'] + ' - ' + chain_rest_grouped['num_rest']"
   ]
  },
  {
   "cell_type": "code",
   "execution_count": 53,
   "metadata": {},
   "outputs": [
    {
     "data": {
      "text/html": [
       "<div>\n",
       "<style scoped>\n",
       "    .dataframe tbody tr th:only-of-type {\n",
       "        vertical-align: middle;\n",
       "    }\n",
       "\n",
       "    .dataframe tbody tr th {\n",
       "        vertical-align: top;\n",
       "    }\n",
       "\n",
       "    .dataframe thead th {\n",
       "        text-align: right;\n",
       "    }\n",
       "</style>\n",
       "<table border=\"1\" class=\"dataframe\">\n",
       "  <thead>\n",
       "    <tr style=\"text-align: right;\">\n",
       "      <th></th>\n",
       "      <th>id</th>\n",
       "      <th>number</th>\n",
       "      <th>num_rest</th>\n",
       "      <th>num_seats</th>\n",
       "      <th>category</th>\n",
       "    </tr>\n",
       "    <tr>\n",
       "      <th>object_name_new</th>\n",
       "      <th></th>\n",
       "      <th></th>\n",
       "      <th></th>\n",
       "      <th></th>\n",
       "      <th></th>\n",
       "    </tr>\n",
       "  </thead>\n",
       "  <tbody>\n",
       "    <tr>\n",
       "      <th>bb&amp;burgers</th>\n",
       "      <td>1</td>\n",
       "      <td>35.000000</td>\n",
       "      <td>Мало объектов</td>\n",
       "      <td>Мало мест</td>\n",
       "      <td>Мало мест - Мало объектов</td>\n",
       "    </tr>\n",
       "    <tr>\n",
       "      <th>beverly hills diner</th>\n",
       "      <td>1</td>\n",
       "      <td>88.000000</td>\n",
       "      <td>Мало объектов</td>\n",
       "      <td>Много мест</td>\n",
       "      <td>Много мест - Мало объектов</td>\n",
       "    </tr>\n",
       "    <tr>\n",
       "      <th>bierloga</th>\n",
       "      <td>1</td>\n",
       "      <td>75.000000</td>\n",
       "      <td>Мало объектов</td>\n",
       "      <td>Много мест</td>\n",
       "      <td>Много мест - Мало объектов</td>\n",
       "    </tr>\n",
       "    <tr>\n",
       "      <th>black &amp; white</th>\n",
       "      <td>1</td>\n",
       "      <td>40.000000</td>\n",
       "      <td>Мало объектов</td>\n",
       "      <td>Мало мест</td>\n",
       "      <td>Мало мест - Мало объектов</td>\n",
       "    </tr>\n",
       "    <tr>\n",
       "      <th>bocconcino</th>\n",
       "      <td>3</td>\n",
       "      <td>66.666667</td>\n",
       "      <td>Мало объектов</td>\n",
       "      <td>Много мест</td>\n",
       "      <td>Много мест - Мало объектов</td>\n",
       "    </tr>\n",
       "  </tbody>\n",
       "</table>\n",
       "</div>"
      ],
      "text/plain": [
       "                     id     number       num_rest   num_seats  \\\n",
       "object_name_new                                                 \n",
       "bb&burgers            1  35.000000  Мало объектов   Мало мест   \n",
       "beverly hills diner   1  88.000000  Мало объектов  Много мест   \n",
       "bierloga              1  75.000000  Мало объектов  Много мест   \n",
       "black & white         1  40.000000  Мало объектов   Мало мест   \n",
       "bocconcino            3  66.666667  Мало объектов  Много мест   \n",
       "\n",
       "                                       category  \n",
       "object_name_new                                  \n",
       "bb&burgers            Мало мест - Мало объектов  \n",
       "beverly hills diner  Много мест - Мало объектов  \n",
       "bierloga             Много мест - Мало объектов  \n",
       "black & white         Мало мест - Мало объектов  \n",
       "bocconcino           Много мест - Мало объектов  "
      ]
     },
     "execution_count": 53,
     "metadata": {},
     "output_type": "execute_result"
    }
   ],
   "source": [
    "chain_rest_grouped.head()"
   ]
  },
  {
   "cell_type": "code",
   "execution_count": 54,
   "metadata": {},
   "outputs": [
    {
     "data": {
      "text/plain": [
       "Text(0.5, 1.0, 'Диаграмма рассеяния в зависимости от количества заведений и количества мест в сетевых заведениях')"
      ]
     },
     "execution_count": 54,
     "metadata": {},
     "output_type": "execute_result"
    },
    {
     "data": {
      "image/png": "[encoded data removed]",
      "text/plain": [
       "<Figure size 1080x720 with 1 Axes>"
      ]
     },
     "metadata": {
      "needs_background": "light"
     },
     "output_type": "display_data"
    }
   ],
   "source": [
    "plt.figure(figsize=(15,10))\n",
    "sns.scatterplot(data=chain_rest_grouped, x='id', y='number', hue='category')\n",
    "plt.xlim(0,30)\n",
    "plt.ylim(0,200)\n",
    "plt.ylabel(\"Cреднее число посадочных мест\", size=14)\n",
    "plt.xlabel(\"Число заведений \", size=14)\n",
    "plt.title(\"Диаграмма рассеяния в зависимости от количества заведений и количества мест в сетевых заведениях\", size=20)"
   ]
  },
  {
   "cell_type": "markdown",
   "metadata": {},
   "source": [
    "Из диаграммы рассеяния видно, что для сетевых заведений, характерно много посадочных мест и мало заведений."
   ]
  },
  {
   "cell_type": "markdown",
   "metadata": {},
   "source": [
    "### Определение среднего количества посадочных мест для каждого вида объекта общественного питания  Какой вид предоставляет в среднем самое большое количество посадочных мест?"
   ]
  },
  {
   "cell_type": "markdown",
   "metadata": {},
   "source": [
    "Сгруппируем тип заведения по медианному количеству посадочных мест, отсортируем по убыванию количества мест и построим столбчатую диаграмму. "
   ]
  },
  {
   "cell_type": "code",
   "execution_count": 55,
   "metadata": {},
   "outputs": [],
   "source": [
    "rest_median_number = rest_data.groupby('object_type').agg({'number': 'median'})"
   ]
  },
  {
   "cell_type": "code",
   "execution_count": 56,
   "metadata": {},
   "outputs": [],
   "source": [
    "rest_median_number = rest_median_number.rename(columns={'number': 'median'}).sort_values(by='median', ascending=False)"
   ]
  },
  {
   "cell_type": "code",
   "execution_count": 57,
   "metadata": {},
   "outputs": [
    {
     "data": {
      "text/html": [
       "<div>\n",
       "<style scoped>\n",
       "    .dataframe tbody tr th:only-of-type {\n",
       "        vertical-align: middle;\n",
       "    }\n",
       "\n",
       "    .dataframe tbody tr th {\n",
       "        vertical-align: top;\n",
       "    }\n",
       "\n",
       "    .dataframe thead th {\n",
       "        text-align: right;\n",
       "    }\n",
       "</style>\n",
       "<table border=\"1\" class=\"dataframe\">\n",
       "  <thead>\n",
       "    <tr style=\"text-align: right;\">\n",
       "      <th></th>\n",
       "      <th>median</th>\n",
       "    </tr>\n",
       "    <tr>\n",
       "      <th>object_type</th>\n",
       "      <th></th>\n",
       "    </tr>\n",
       "  </thead>\n",
       "  <tbody>\n",
       "    <tr>\n",
       "      <th>столовая</th>\n",
       "      <td>103</td>\n",
       "    </tr>\n",
       "    <tr>\n",
       "      <th>ресторан</th>\n",
       "      <td>80</td>\n",
       "    </tr>\n",
       "    <tr>\n",
       "      <th>бар</th>\n",
       "      <td>35</td>\n",
       "    </tr>\n",
       "    <tr>\n",
       "      <th>буфет</th>\n",
       "      <td>32</td>\n",
       "    </tr>\n",
       "    <tr>\n",
       "      <th>кафе</th>\n",
       "      <td>32</td>\n",
       "    </tr>\n",
       "    <tr>\n",
       "      <th>кафетерий</th>\n",
       "      <td>6</td>\n",
       "    </tr>\n",
       "    <tr>\n",
       "      <th>фаст-фуд</th>\n",
       "      <td>6</td>\n",
       "    </tr>\n",
       "    <tr>\n",
       "      <th>закусочная</th>\n",
       "      <td>0</td>\n",
       "    </tr>\n",
       "    <tr>\n",
       "      <th>кулинария</th>\n",
       "      <td>0</td>\n",
       "    </tr>\n",
       "  </tbody>\n",
       "</table>\n",
       "</div>"
      ],
      "text/plain": [
       "             median\n",
       "object_type        \n",
       "столовая        103\n",
       "ресторан         80\n",
       "бар              35\n",
       "буфет            32\n",
       "кафе             32\n",
       "кафетерий         6\n",
       "фаст-фуд          6\n",
       "закусочная        0\n",
       "кулинария         0"
      ]
     },
     "execution_count": 57,
     "metadata": {},
     "output_type": "execute_result"
    }
   ],
   "source": [
    "rest_median_number"
   ]
  },
  {
   "cell_type": "code",
   "execution_count": 58,
   "metadata": {},
   "outputs": [
    {
     "data": {
      "image/png": "[encoded data removed]",
      "text/plain": [
       "<Figure size 1080x576 with 1 Axes>"
      ]
     },
     "metadata": {
      "needs_background": "light"
     },
     "output_type": "display_data"
    }
   ],
   "source": [
    "plt.figure(figsize=(15,8))\n",
    "sns.barplot(data=rest_median_number, x='median', y=rest_median_number.index, color='cornflowerblue' )\n",
    "plt.xlabel(\"Тип объекта\", size=14)\n",
    "plt.ylabel(\"Cреднее количество посадочных мест\", size=14)\n",
    "plt.title(\"Cреднее количество посадочных мест от типа объекта\", size=20)\n",
    "plt.show()"
   ]
  },
  {
   "cell_type": "markdown",
   "metadata": {},
   "source": [
    "Наибольшее среднее количество посадочных мест, ожидаемо, у столовых."
   ]
  },
  {
   "cell_type": "markdown",
   "metadata": {},
   "source": [
    "### Выделите в отдельный столбец информацию об улице из столбца address"
   ]
  },
  {
   "cell_type": "markdown",
   "metadata": {},
   "source": [
    "Создадим функцию для выделения информации об улице нахождения заведения."
   ]
  },
  {
   "cell_type": "code",
   "execution_count": 59,
   "metadata": {},
   "outputs": [],
   "source": [
    "def get_streetname(cell):\n",
    "    # разбиваем адрес на части и для каждой части проверяем есть ли в ней тип улицы\n",
    "    for addr_part in cell.split(','):\n",
    "        for s_type in ['улица', 'бульвар',]:\n",
    "            if s_type in addr_part: return addr_part\n",
    "    # если ничего не нашли - возвращаем второй элемент\n",
    "    return cell.split(',')[1]\n",
    "\n",
    "rest_data['streetname'] = rest_data['address'].apply(get_streetname).str.strip()"
   ]
  },
  {
   "cell_type": "code",
   "execution_count": 60,
   "metadata": {},
   "outputs": [
    {
     "data": {
      "text/html": [
       "<div>\n",
       "<style scoped>\n",
       "    .dataframe tbody tr th:only-of-type {\n",
       "        vertical-align: middle;\n",
       "    }\n",
       "\n",
       "    .dataframe tbody tr th {\n",
       "        vertical-align: top;\n",
       "    }\n",
       "\n",
       "    .dataframe thead th {\n",
       "        text-align: right;\n",
       "    }\n",
       "</style>\n",
       "<table border=\"1\" class=\"dataframe\">\n",
       "  <thead>\n",
       "    <tr style=\"text-align: right;\">\n",
       "      <th></th>\n",
       "      <th>id</th>\n",
       "      <th>object_name</th>\n",
       "      <th>chain</th>\n",
       "      <th>object_type</th>\n",
       "      <th>address</th>\n",
       "      <th>number</th>\n",
       "      <th>object_name_new</th>\n",
       "      <th>streetname</th>\n",
       "    </tr>\n",
       "  </thead>\n",
       "  <tbody>\n",
       "    <tr>\n",
       "      <th>0</th>\n",
       "      <td>151635</td>\n",
       "      <td>сметана</td>\n",
       "      <td>несетевое</td>\n",
       "      <td>кафе</td>\n",
       "      <td>город Москва, улица Егора Абакумова, дом 9</td>\n",
       "      <td>48</td>\n",
       "      <td>сметана</td>\n",
       "      <td>улица Егора Абакумова</td>\n",
       "    </tr>\n",
       "    <tr>\n",
       "      <th>1</th>\n",
       "      <td>77874</td>\n",
       "      <td>родник</td>\n",
       "      <td>несетевое</td>\n",
       "      <td>кафе</td>\n",
       "      <td>город Москва, улица Талалихина, дом 2/1, корпус 1</td>\n",
       "      <td>35</td>\n",
       "      <td>родник</td>\n",
       "      <td>улица Талалихина</td>\n",
       "    </tr>\n",
       "    <tr>\n",
       "      <th>2</th>\n",
       "      <td>24309</td>\n",
       "      <td>кафе «академия»</td>\n",
       "      <td>несетевое</td>\n",
       "      <td>кафе</td>\n",
       "      <td>город Москва, Абельмановская улица, дом 6</td>\n",
       "      <td>95</td>\n",
       "      <td>кафе «академия»</td>\n",
       "      <td>Абельмановская улица</td>\n",
       "    </tr>\n",
       "    <tr>\n",
       "      <th>3</th>\n",
       "      <td>21894</td>\n",
       "      <td>пиццетория</td>\n",
       "      <td>сетевое</td>\n",
       "      <td>кафе</td>\n",
       "      <td>город Москва, Абрамцевская улица, дом 1</td>\n",
       "      <td>40</td>\n",
       "      <td>пиццетория</td>\n",
       "      <td>Абрамцевская улица</td>\n",
       "    </tr>\n",
       "    <tr>\n",
       "      <th>4</th>\n",
       "      <td>119365</td>\n",
       "      <td>кафе «вишневая метель»</td>\n",
       "      <td>несетевое</td>\n",
       "      <td>кафе</td>\n",
       "      <td>город Москва, Абрамцевская улица, дом 9, корпус 1</td>\n",
       "      <td>50</td>\n",
       "      <td>кафе «вишневая метель»</td>\n",
       "      <td>Абрамцевская улица</td>\n",
       "    </tr>\n",
       "    <tr>\n",
       "      <th>...</th>\n",
       "      <td>...</td>\n",
       "      <td>...</td>\n",
       "      <td>...</td>\n",
       "      <td>...</td>\n",
       "      <td>...</td>\n",
       "      <td>...</td>\n",
       "      <td>...</td>\n",
       "      <td>...</td>\n",
       "    </tr>\n",
       "    <tr>\n",
       "      <th>15359</th>\n",
       "      <td>222077</td>\n",
       "      <td>кофейня «шоколадница»</td>\n",
       "      <td>сетевое</td>\n",
       "      <td>кафе</td>\n",
       "      <td>город Москва, Кантемировская улица, дом 47</td>\n",
       "      <td>72</td>\n",
       "      <td>шоколадница</td>\n",
       "      <td>Кантемировская улица</td>\n",
       "    </tr>\n",
       "    <tr>\n",
       "      <th>15360</th>\n",
       "      <td>219759</td>\n",
       "      <td>шоколадница</td>\n",
       "      <td>сетевое</td>\n",
       "      <td>кафе</td>\n",
       "      <td>город Москва, улица Вавилова, дом 3</td>\n",
       "      <td>36</td>\n",
       "      <td>шоколадница</td>\n",
       "      <td>улица Вавилова</td>\n",
       "    </tr>\n",
       "    <tr>\n",
       "      <th>15361</th>\n",
       "      <td>208537</td>\n",
       "      <td>шоколадница</td>\n",
       "      <td>сетевое</td>\n",
       "      <td>кафе</td>\n",
       "      <td>город Москва, 3-й Крутицкий переулок, дом 18</td>\n",
       "      <td>50</td>\n",
       "      <td>шоколадница</td>\n",
       "      <td>3-й Крутицкий переулок</td>\n",
       "    </tr>\n",
       "    <tr>\n",
       "      <th>15362</th>\n",
       "      <td>209264</td>\n",
       "      <td>шоколадница</td>\n",
       "      <td>сетевое</td>\n",
       "      <td>кафе</td>\n",
       "      <td>город Москва, улица Земляной Вал, дом 33</td>\n",
       "      <td>10</td>\n",
       "      <td>шоколадница</td>\n",
       "      <td>улица Земляной Вал</td>\n",
       "    </tr>\n",
       "    <tr>\n",
       "      <th>15364</th>\n",
       "      <td>221900</td>\n",
       "      <td>шоколадница</td>\n",
       "      <td>сетевое</td>\n",
       "      <td>кафе</td>\n",
       "      <td>город Москва, поселение Московский, Киевское ш...</td>\n",
       "      <td>36</td>\n",
       "      <td>шоколадница</td>\n",
       "      <td>поселение Московский</td>\n",
       "    </tr>\n",
       "  </tbody>\n",
       "</table>\n",
       "<p>15182 rows × 8 columns</p>\n",
       "</div>"
      ],
      "text/plain": [
       "           id             object_name      chain object_type  \\\n",
       "0      151635                 сметана  несетевое        кафе   \n",
       "1       77874                  родник  несетевое        кафе   \n",
       "2       24309         кафе «академия»  несетевое        кафе   \n",
       "3       21894              пиццетория    сетевое        кафе   \n",
       "4      119365  кафе «вишневая метель»  несетевое        кафе   \n",
       "...       ...                     ...        ...         ...   \n",
       "15359  222077   кофейня «шоколадница»    сетевое        кафе   \n",
       "15360  219759             шоколадница    сетевое        кафе   \n",
       "15361  208537             шоколадница    сетевое        кафе   \n",
       "15362  209264             шоколадница    сетевое        кафе   \n",
       "15364  221900             шоколадница    сетевое        кафе   \n",
       "\n",
       "                                                 address  number  \\\n",
       "0             город Москва, улица Егора Абакумова, дом 9      48   \n",
       "1      город Москва, улица Талалихина, дом 2/1, корпус 1      35   \n",
       "2              город Москва, Абельмановская улица, дом 6      95   \n",
       "3                город Москва, Абрамцевская улица, дом 1      40   \n",
       "4      город Москва, Абрамцевская улица, дом 9, корпус 1      50   \n",
       "...                                                  ...     ...   \n",
       "15359         город Москва, Кантемировская улица, дом 47      72   \n",
       "15360                город Москва, улица Вавилова, дом 3      36   \n",
       "15361       город Москва, 3-й Крутицкий переулок, дом 18      50   \n",
       "15362           город Москва, улица Земляной Вал, дом 33      10   \n",
       "15364  город Москва, поселение Московский, Киевское ш...      36   \n",
       "\n",
       "              object_name_new              streetname  \n",
       "0                     сметана   улица Егора Абакумова  \n",
       "1                      родник        улица Талалихина  \n",
       "2             кафе «академия»    Абельмановская улица  \n",
       "3                  пиццетория      Абрамцевская улица  \n",
       "4      кафе «вишневая метель»      Абрамцевская улица  \n",
       "...                       ...                     ...  \n",
       "15359             шоколадница    Кантемировская улица  \n",
       "15360             шоколадница          улица Вавилова  \n",
       "15361             шоколадница  3-й Крутицкий переулок  \n",
       "15362             шоколадница      улица Земляной Вал  \n",
       "15364             шоколадница    поселение Московский  \n",
       "\n",
       "[15182 rows x 8 columns]"
      ]
     },
     "execution_count": 60,
     "metadata": {},
     "output_type": "execute_result"
    }
   ],
   "source": [
    "rest_data"
   ]
  },
  {
   "cell_type": "markdown",
   "metadata": {},
   "source": [
    "### Постройте график топ-10 улиц по количеству объектов общественного питания. Воспользуйтесь внешней информацией и ответьте на вопрос — в каких районах Москвы находятся эти улицы?"
   ]
  },
  {
   "cell_type": "markdown",
   "metadata": {},
   "source": [
    "Определим топ-10 улиц по количеству объектов общественного питания и постоим график."
   ]
  },
  {
   "cell_type": "code",
   "execution_count": 61,
   "metadata": {},
   "outputs": [],
   "source": [
    "top_10_street = rest_data.groupby('streetname').agg({'id': 'count'}).sort_values(by='id', ascending=False).head(10)"
   ]
  },
  {
   "cell_type": "code",
   "execution_count": 62,
   "metadata": {},
   "outputs": [],
   "source": [
    "top_10_street = top_10_street.rename(columns={'id': 'count'}).reset_index()"
   ]
  },
  {
   "cell_type": "code",
   "execution_count": 63,
   "metadata": {},
   "outputs": [
    {
     "data": {
      "text/html": [
       "<div>\n",
       "<style scoped>\n",
       "    .dataframe tbody tr th:only-of-type {\n",
       "        vertical-align: middle;\n",
       "    }\n",
       "\n",
       "    .dataframe tbody tr th {\n",
       "        vertical-align: top;\n",
       "    }\n",
       "\n",
       "    .dataframe thead th {\n",
       "        text-align: right;\n",
       "    }\n",
       "</style>\n",
       "<table border=\"1\" class=\"dataframe\">\n",
       "  <thead>\n",
       "    <tr style=\"text-align: right;\">\n",
       "      <th></th>\n",
       "      <th>streetname</th>\n",
       "      <th>count</th>\n",
       "    </tr>\n",
       "  </thead>\n",
       "  <tbody>\n",
       "    <tr>\n",
       "      <th>0</th>\n",
       "      <td>город Зеленоград</td>\n",
       "      <td>211</td>\n",
       "    </tr>\n",
       "    <tr>\n",
       "      <th>1</th>\n",
       "      <td>проспект Мира</td>\n",
       "      <td>196</td>\n",
       "    </tr>\n",
       "    <tr>\n",
       "      <th>2</th>\n",
       "      <td>Профсоюзная улица</td>\n",
       "      <td>181</td>\n",
       "    </tr>\n",
       "    <tr>\n",
       "      <th>3</th>\n",
       "      <td>Ленинградский проспект</td>\n",
       "      <td>170</td>\n",
       "    </tr>\n",
       "    <tr>\n",
       "      <th>4</th>\n",
       "      <td>Пресненская набережная</td>\n",
       "      <td>165</td>\n",
       "    </tr>\n",
       "    <tr>\n",
       "      <th>5</th>\n",
       "      <td>Варшавское шоссе</td>\n",
       "      <td>159</td>\n",
       "    </tr>\n",
       "    <tr>\n",
       "      <th>6</th>\n",
       "      <td>Ленинский проспект</td>\n",
       "      <td>147</td>\n",
       "    </tr>\n",
       "    <tr>\n",
       "      <th>7</th>\n",
       "      <td>проспект Вернадского</td>\n",
       "      <td>126</td>\n",
       "    </tr>\n",
       "    <tr>\n",
       "      <th>8</th>\n",
       "      <td>Кутузовский проспект</td>\n",
       "      <td>114</td>\n",
       "    </tr>\n",
       "    <tr>\n",
       "      <th>9</th>\n",
       "      <td>Каширское шоссе</td>\n",
       "      <td>110</td>\n",
       "    </tr>\n",
       "  </tbody>\n",
       "</table>\n",
       "</div>"
      ],
      "text/plain": [
       "               streetname  count\n",
       "0        город Зеленоград    211\n",
       "1           проспект Мира    196\n",
       "2       Профсоюзная улица    181\n",
       "3  Ленинградский проспект    170\n",
       "4  Пресненская набережная    165\n",
       "5        Варшавское шоссе    159\n",
       "6      Ленинский проспект    147\n",
       "7    проспект Вернадского    126\n",
       "8    Кутузовский проспект    114\n",
       "9         Каширское шоссе    110"
      ]
     },
     "execution_count": 63,
     "metadata": {},
     "output_type": "execute_result"
    }
   ],
   "source": [
    "top_10_street"
   ]
  },
  {
   "cell_type": "code",
   "execution_count": 64,
   "metadata": {},
   "outputs": [
    {
     "data": {
      "image/png": "[encoded data removed]",
      "text/plain": [
       "<Figure size 1080x576 with 1 Axes>"
      ]
     },
     "metadata": {
      "needs_background": "light"
     },
     "output_type": "display_data"
    }
   ],
   "source": [
    "plt.figure(figsize=(15,8))\n",
    "sns.barplot(data=top_10_street, x='streetname', y='count', color='cornflowerblue')\n",
    "plt.xlabel(\"Название улицы\", size=16)\n",
    "plt.xticks(rotation=45)\n",
    "plt.ylabel(\"Количество объектов общественного питания\", size=14)\n",
    "plt.title(\"Топ-10 улиц по количеству объектов общественного питания\", size=20)\n",
    "plt.show()"
   ]
  },
  {
   "cell_type": "markdown",
   "metadata": {},
   "source": [
    "На первом месте по количеству объектов общественного питания город Зеленоград, который географически не входит в состав Москвы .Так что, первое место по количеству объектов общественного питания, можно засчитать проспекту Мира.  \n",
    "Для определения районов Москвы, где находятся улицы из топ-10, воспользуемся справочником улиц Мосгаза."
   ]
  },
  {
   "cell_type": "code",
   "execution_count": 65,
   "metadata": {},
   "outputs": [
    {
     "data": {
      "text/html": [
       "<div>\n",
       "<style scoped>\n",
       "    .dataframe tbody tr th:only-of-type {\n",
       "        vertical-align: middle;\n",
       "    }\n",
       "\n",
       "    .dataframe tbody tr th {\n",
       "        vertical-align: top;\n",
       "    }\n",
       "\n",
       "    .dataframe thead th {\n",
       "        text-align: right;\n",
       "    }\n",
       "</style>\n",
       "<table border=\"1\" class=\"dataframe\">\n",
       "  <thead>\n",
       "    <tr style=\"text-align: right;\">\n",
       "      <th></th>\n",
       "      <th>streetname</th>\n",
       "      <th>areaid</th>\n",
       "      <th>okrug</th>\n",
       "      <th>area</th>\n",
       "    </tr>\n",
       "  </thead>\n",
       "  <tbody>\n",
       "    <tr>\n",
       "      <th>0</th>\n",
       "      <td>Выставочный переулок</td>\n",
       "      <td>17</td>\n",
       "      <td>ЦАО</td>\n",
       "      <td>Пресненский район</td>\n",
       "    </tr>\n",
       "    <tr>\n",
       "      <th>1</th>\n",
       "      <td>улица Гашека</td>\n",
       "      <td>17</td>\n",
       "      <td>ЦАО</td>\n",
       "      <td>Пресненский район</td>\n",
       "    </tr>\n",
       "    <tr>\n",
       "      <th>2</th>\n",
       "      <td>Большая Никитская улица</td>\n",
       "      <td>17</td>\n",
       "      <td>ЦАО</td>\n",
       "      <td>Пресненский район</td>\n",
       "    </tr>\n",
       "    <tr>\n",
       "      <th>3</th>\n",
       "      <td>Глубокий переулок</td>\n",
       "      <td>17</td>\n",
       "      <td>ЦАО</td>\n",
       "      <td>Пресненский район</td>\n",
       "    </tr>\n",
       "    <tr>\n",
       "      <th>4</th>\n",
       "      <td>Большой Гнездниковский переулок</td>\n",
       "      <td>17</td>\n",
       "      <td>ЦАО</td>\n",
       "      <td>Пресненский район</td>\n",
       "    </tr>\n",
       "  </tbody>\n",
       "</table>\n",
       "</div>"
      ],
      "text/plain": [
       "                        streetname  areaid okrug               area\n",
       "0             Выставочный переулок      17   ЦАО  Пресненский район\n",
       "1                     улица Гашека      17   ЦАО  Пресненский район\n",
       "2          Большая Никитская улица      17   ЦАО  Пресненский район\n",
       "3                Глубокий переулок      17   ЦАО  Пресненский район\n",
       "4  Большой Гнездниковский переулок      17   ЦАО  Пресненский район"
      ]
     },
     "execution_count": 65,
     "metadata": {},
     "output_type": "execute_result"
    }
   ],
   "source": [
    "from io import BytesIO\n",
    "import requests\n",
    "spreadsheet_id = '1VguPzdGjZb3EfOyM0d1j7Y-wfA9rszPa5gALn_OcuQc'\n",
    "file_name = 'https://docs.google.com/spreadsheets/d/{}/export?format=csv'.format(spreadsheet_id)\n",
    "r = requests.get(file_name)\n",
    "street_df = pd.read_csv(BytesIO(r.content))\n",
    "street_df.head()"
   ]
  },
  {
   "cell_type": "markdown",
   "metadata": {},
   "source": [
    "Объединим датафрейм top_10_street со справочником улиц."
   ]
  },
  {
   "cell_type": "code",
   "execution_count": 66,
   "metadata": {},
   "outputs": [],
   "source": [
    "rest_data_merged = top_10_street.merge(street_df, on='streetname')"
   ]
  },
  {
   "cell_type": "code",
   "execution_count": 67,
   "metadata": {},
   "outputs": [
    {
     "data": {
      "text/html": [
       "<div>\n",
       "<style scoped>\n",
       "    .dataframe tbody tr th:only-of-type {\n",
       "        vertical-align: middle;\n",
       "    }\n",
       "\n",
       "    .dataframe tbody tr th {\n",
       "        vertical-align: top;\n",
       "    }\n",
       "\n",
       "    .dataframe thead th {\n",
       "        text-align: right;\n",
       "    }\n",
       "</style>\n",
       "<table border=\"1\" class=\"dataframe\">\n",
       "  <thead>\n",
       "    <tr style=\"text-align: right;\">\n",
       "      <th></th>\n",
       "      <th>streetname</th>\n",
       "      <th>count</th>\n",
       "      <th>areaid</th>\n",
       "      <th>okrug</th>\n",
       "      <th>area</th>\n",
       "    </tr>\n",
       "  </thead>\n",
       "  <tbody>\n",
       "    <tr>\n",
       "      <th>0</th>\n",
       "      <td>город Зеленоград</td>\n",
       "      <td>211</td>\n",
       "      <td>51</td>\n",
       "      <td>Зеленоград</td>\n",
       "      <td>Район Крюково</td>\n",
       "    </tr>\n",
       "    <tr>\n",
       "      <th>1</th>\n",
       "      <td>город Зеленоград</td>\n",
       "      <td>211</td>\n",
       "      <td>52</td>\n",
       "      <td>Зеленоград</td>\n",
       "      <td>Район Матушкино-Савелки</td>\n",
       "    </tr>\n",
       "    <tr>\n",
       "      <th>2</th>\n",
       "      <td>город Зеленоград</td>\n",
       "      <td>211</td>\n",
       "      <td>53</td>\n",
       "      <td>Зеленоград</td>\n",
       "      <td>Панфиловский район</td>\n",
       "    </tr>\n",
       "    <tr>\n",
       "      <th>3</th>\n",
       "      <td>проспект Мира</td>\n",
       "      <td>196</td>\n",
       "      <td>70</td>\n",
       "      <td>СВАО</td>\n",
       "      <td>Алексеевский район</td>\n",
       "    </tr>\n",
       "    <tr>\n",
       "      <th>4</th>\n",
       "      <td>проспект Мира</td>\n",
       "      <td>196</td>\n",
       "      <td>86</td>\n",
       "      <td>СВАО</td>\n",
       "      <td>Ярославский Район</td>\n",
       "    </tr>\n",
       "    <tr>\n",
       "      <th>5</th>\n",
       "      <td>проспект Мира</td>\n",
       "      <td>196</td>\n",
       "      <td>78</td>\n",
       "      <td>СВАО</td>\n",
       "      <td>Район Марьина роща</td>\n",
       "    </tr>\n",
       "    <tr>\n",
       "      <th>6</th>\n",
       "      <td>проспект Мира</td>\n",
       "      <td>196</td>\n",
       "      <td>79</td>\n",
       "      <td>СВАО</td>\n",
       "      <td>Останкинский район</td>\n",
       "    </tr>\n",
       "    <tr>\n",
       "      <th>7</th>\n",
       "      <td>проспект Мира</td>\n",
       "      <td>196</td>\n",
       "      <td>81</td>\n",
       "      <td>СВАО</td>\n",
       "      <td>Район Ростокино</td>\n",
       "    </tr>\n",
       "    <tr>\n",
       "      <th>8</th>\n",
       "      <td>проспект Мира</td>\n",
       "      <td>196</td>\n",
       "      <td>82</td>\n",
       "      <td>СВАО</td>\n",
       "      <td>Район Свиблово</td>\n",
       "    </tr>\n",
       "    <tr>\n",
       "      <th>9</th>\n",
       "      <td>проспект Мира</td>\n",
       "      <td>196</td>\n",
       "      <td>16</td>\n",
       "      <td>ЦАО</td>\n",
       "      <td>Мещанский район</td>\n",
       "    </tr>\n",
       "    <tr>\n",
       "      <th>10</th>\n",
       "      <td>Профсоюзная улица</td>\n",
       "      <td>181</td>\n",
       "      <td>123</td>\n",
       "      <td>ЮЗАО</td>\n",
       "      <td>Академический район</td>\n",
       "    </tr>\n",
       "    <tr>\n",
       "      <th>11</th>\n",
       "      <td>Профсоюзная улица</td>\n",
       "      <td>181</td>\n",
       "      <td>132</td>\n",
       "      <td>ЮЗАО</td>\n",
       "      <td>Район Черемушки</td>\n",
       "    </tr>\n",
       "    <tr>\n",
       "      <th>12</th>\n",
       "      <td>Профсоюзная улица</td>\n",
       "      <td>181</td>\n",
       "      <td>134</td>\n",
       "      <td>ЮЗАО</td>\n",
       "      <td>Район Ясенево</td>\n",
       "    </tr>\n",
       "    <tr>\n",
       "      <th>13</th>\n",
       "      <td>Профсоюзная улица</td>\n",
       "      <td>181</td>\n",
       "      <td>126</td>\n",
       "      <td>ЮЗАО</td>\n",
       "      <td>Район Коньково</td>\n",
       "    </tr>\n",
       "    <tr>\n",
       "      <th>14</th>\n",
       "      <td>Профсоюзная улица</td>\n",
       "      <td>181</td>\n",
       "      <td>129</td>\n",
       "      <td>ЮЗАО</td>\n",
       "      <td>Обручевский район</td>\n",
       "    </tr>\n",
       "    <tr>\n",
       "      <th>15</th>\n",
       "      <td>Профсоюзная улица</td>\n",
       "      <td>181</td>\n",
       "      <td>131</td>\n",
       "      <td>ЮЗАО</td>\n",
       "      <td>Район Теплый Стан</td>\n",
       "    </tr>\n",
       "    <tr>\n",
       "      <th>16</th>\n",
       "      <td>Ленинградский проспект</td>\n",
       "      <td>170</td>\n",
       "      <td>54</td>\n",
       "      <td>САО</td>\n",
       "      <td>Район Аэропорт</td>\n",
       "    </tr>\n",
       "    <tr>\n",
       "      <th>17</th>\n",
       "      <td>Ленинградский проспект</td>\n",
       "      <td>170</td>\n",
       "      <td>55</td>\n",
       "      <td>САО</td>\n",
       "      <td>Район Беговой</td>\n",
       "    </tr>\n",
       "    <tr>\n",
       "      <th>18</th>\n",
       "      <td>Ленинградский проспект</td>\n",
       "      <td>170</td>\n",
       "      <td>69</td>\n",
       "      <td>САО</td>\n",
       "      <td>Хорошевский район</td>\n",
       "    </tr>\n",
       "    <tr>\n",
       "      <th>19</th>\n",
       "      <td>Ленинградский проспект</td>\n",
       "      <td>170</td>\n",
       "      <td>66</td>\n",
       "      <td>САО</td>\n",
       "      <td>Район Сокол</td>\n",
       "    </tr>\n",
       "    <tr>\n",
       "      <th>20</th>\n",
       "      <td>Пресненская набережная</td>\n",
       "      <td>165</td>\n",
       "      <td>17</td>\n",
       "      <td>ЦАО</td>\n",
       "      <td>Пресненский район</td>\n",
       "    </tr>\n",
       "    <tr>\n",
       "      <th>21</th>\n",
       "      <td>Варшавское шоссе</td>\n",
       "      <td>159</td>\n",
       "      <td>109</td>\n",
       "      <td>ЮАО</td>\n",
       "      <td>Район Чертаново Центральное</td>\n",
       "    </tr>\n",
       "    <tr>\n",
       "      <th>22</th>\n",
       "      <td>Варшавское шоссе</td>\n",
       "      <td>159</td>\n",
       "      <td>108</td>\n",
       "      <td>ЮАО</td>\n",
       "      <td>Район Чертаново Северное</td>\n",
       "    </tr>\n",
       "    <tr>\n",
       "      <th>23</th>\n",
       "      <td>Варшавское шоссе</td>\n",
       "      <td>159</td>\n",
       "      <td>110</td>\n",
       "      <td>ЮАО</td>\n",
       "      <td>Район Чертаново Южное</td>\n",
       "    </tr>\n",
       "    <tr>\n",
       "      <th>24</th>\n",
       "      <td>Варшавское шоссе</td>\n",
       "      <td>159</td>\n",
       "      <td>99</td>\n",
       "      <td>ЮАО</td>\n",
       "      <td>Донской район</td>\n",
       "    </tr>\n",
       "    <tr>\n",
       "      <th>25</th>\n",
       "      <td>Варшавское шоссе</td>\n",
       "      <td>159</td>\n",
       "      <td>102</td>\n",
       "      <td>ЮАО</td>\n",
       "      <td>Район Нагатино-Садовники</td>\n",
       "    </tr>\n",
       "    <tr>\n",
       "      <th>26</th>\n",
       "      <td>Варшавское шоссе</td>\n",
       "      <td>159</td>\n",
       "      <td>104</td>\n",
       "      <td>ЮАО</td>\n",
       "      <td>Нагорный район</td>\n",
       "    </tr>\n",
       "    <tr>\n",
       "      <th>27</th>\n",
       "      <td>Варшавское шоссе</td>\n",
       "      <td>159</td>\n",
       "      <td>130</td>\n",
       "      <td>ЮЗАО</td>\n",
       "      <td>Район Северное Бутово</td>\n",
       "    </tr>\n",
       "    <tr>\n",
       "      <th>28</th>\n",
       "      <td>Варшавское шоссе</td>\n",
       "      <td>159</td>\n",
       "      <td>133</td>\n",
       "      <td>ЮЗАО</td>\n",
       "      <td>Район Южное Бутово</td>\n",
       "    </tr>\n",
       "    <tr>\n",
       "      <th>29</th>\n",
       "      <td>Ленинский проспект</td>\n",
       "      <td>147</td>\n",
       "      <td>44</td>\n",
       "      <td>ЗАО</td>\n",
       "      <td>Район Проспект Вернадского</td>\n",
       "    </tr>\n",
       "    <tr>\n",
       "      <th>30</th>\n",
       "      <td>Ленинский проспект</td>\n",
       "      <td>147</td>\n",
       "      <td>47</td>\n",
       "      <td>ЗАО</td>\n",
       "      <td>Район Тропарево-Никулино</td>\n",
       "    </tr>\n",
       "    <tr>\n",
       "      <th>31</th>\n",
       "      <td>Ленинский проспект</td>\n",
       "      <td>147</td>\n",
       "      <td>99</td>\n",
       "      <td>ЮАО</td>\n",
       "      <td>Донской район</td>\n",
       "    </tr>\n",
       "    <tr>\n",
       "      <th>32</th>\n",
       "      <td>Ленинский проспект</td>\n",
       "      <td>147</td>\n",
       "      <td>124</td>\n",
       "      <td>ЮЗАО</td>\n",
       "      <td>Район Гагаринский</td>\n",
       "    </tr>\n",
       "    <tr>\n",
       "      <th>33</th>\n",
       "      <td>Ленинский проспект</td>\n",
       "      <td>147</td>\n",
       "      <td>128</td>\n",
       "      <td>ЮЗАО</td>\n",
       "      <td>Ломоносовский район</td>\n",
       "    </tr>\n",
       "    <tr>\n",
       "      <th>34</th>\n",
       "      <td>Ленинский проспект</td>\n",
       "      <td>147</td>\n",
       "      <td>129</td>\n",
       "      <td>ЮЗАО</td>\n",
       "      <td>Обручевский район</td>\n",
       "    </tr>\n",
       "    <tr>\n",
       "      <th>35</th>\n",
       "      <td>Ленинский проспект</td>\n",
       "      <td>147</td>\n",
       "      <td>131</td>\n",
       "      <td>ЮЗАО</td>\n",
       "      <td>Район Теплый Стан</td>\n",
       "    </tr>\n",
       "    <tr>\n",
       "      <th>36</th>\n",
       "      <td>Ленинский проспект</td>\n",
       "      <td>147</td>\n",
       "      <td>21</td>\n",
       "      <td>ЦАО</td>\n",
       "      <td>Район Якиманка</td>\n",
       "    </tr>\n",
       "    <tr>\n",
       "      <th>37</th>\n",
       "      <td>проспект Вернадского</td>\n",
       "      <td>126</td>\n",
       "      <td>44</td>\n",
       "      <td>ЗАО</td>\n",
       "      <td>Район Проспект Вернадского</td>\n",
       "    </tr>\n",
       "    <tr>\n",
       "      <th>38</th>\n",
       "      <td>проспект Вернадского</td>\n",
       "      <td>126</td>\n",
       "      <td>45</td>\n",
       "      <td>ЗАО</td>\n",
       "      <td>Район Раменки</td>\n",
       "    </tr>\n",
       "    <tr>\n",
       "      <th>39</th>\n",
       "      <td>проспект Вернадского</td>\n",
       "      <td>126</td>\n",
       "      <td>47</td>\n",
       "      <td>ЗАО</td>\n",
       "      <td>Район Тропарево-Никулино</td>\n",
       "    </tr>\n",
       "    <tr>\n",
       "      <th>40</th>\n",
       "      <td>проспект Вернадского</td>\n",
       "      <td>126</td>\n",
       "      <td>124</td>\n",
       "      <td>ЮЗАО</td>\n",
       "      <td>Район Гагаринский</td>\n",
       "    </tr>\n",
       "    <tr>\n",
       "      <th>41</th>\n",
       "      <td>проспект Вернадского</td>\n",
       "      <td>126</td>\n",
       "      <td>128</td>\n",
       "      <td>ЮЗАО</td>\n",
       "      <td>Ломоносовский район</td>\n",
       "    </tr>\n",
       "    <tr>\n",
       "      <th>42</th>\n",
       "      <td>Кутузовский проспект</td>\n",
       "      <td>114</td>\n",
       "      <td>38</td>\n",
       "      <td>ЗАО</td>\n",
       "      <td>Район Дорогомилово</td>\n",
       "    </tr>\n",
       "    <tr>\n",
       "      <th>43</th>\n",
       "      <td>Кутузовский проспект</td>\n",
       "      <td>114</td>\n",
       "      <td>49</td>\n",
       "      <td>ЗАО</td>\n",
       "      <td>Район Фили-Давыдково</td>\n",
       "    </tr>\n",
       "    <tr>\n",
       "      <th>44</th>\n",
       "      <td>Каширское шоссе</td>\n",
       "      <td>110</td>\n",
       "      <td>101</td>\n",
       "      <td>ЮАО</td>\n",
       "      <td>Район Москворечье-Сабурово</td>\n",
       "    </tr>\n",
       "    <tr>\n",
       "      <th>45</th>\n",
       "      <td>Каширское шоссе</td>\n",
       "      <td>110</td>\n",
       "      <td>102</td>\n",
       "      <td>ЮАО</td>\n",
       "      <td>Район Нагатино-Садовники</td>\n",
       "    </tr>\n",
       "    <tr>\n",
       "      <th>46</th>\n",
       "      <td>Каширское шоссе</td>\n",
       "      <td>110</td>\n",
       "      <td>106</td>\n",
       "      <td>ЮАО</td>\n",
       "      <td>Район Орехово-Борисово Южное</td>\n",
       "    </tr>\n",
       "    <tr>\n",
       "      <th>47</th>\n",
       "      <td>Каширское шоссе</td>\n",
       "      <td>110</td>\n",
       "      <td>105</td>\n",
       "      <td>ЮАО</td>\n",
       "      <td>Район Орехово-Борисово Северное</td>\n",
       "    </tr>\n",
       "  </tbody>\n",
       "</table>\n",
       "</div>"
      ],
      "text/plain": [
       "                streetname  count  areaid       okrug  \\\n",
       "0         город Зеленоград    211      51  Зеленоград   \n",
       "1         город Зеленоград    211      52  Зеленоград   \n",
       "2         город Зеленоград    211      53  Зеленоград   \n",
       "3            проспект Мира    196      70        СВАО   \n",
       "4            проспект Мира    196      86        СВАО   \n",
       "5            проспект Мира    196      78        СВАО   \n",
       "6            проспект Мира    196      79        СВАО   \n",
       "7            проспект Мира    196      81        СВАО   \n",
       "8            проспект Мира    196      82        СВАО   \n",
       "9            проспект Мира    196      16         ЦАО   \n",
       "10       Профсоюзная улица    181     123        ЮЗАО   \n",
       "11       Профсоюзная улица    181     132        ЮЗАО   \n",
       "12       Профсоюзная улица    181     134        ЮЗАО   \n",
       "13       Профсоюзная улица    181     126        ЮЗАО   \n",
       "14       Профсоюзная улица    181     129        ЮЗАО   \n",
       "15       Профсоюзная улица    181     131        ЮЗАО   \n",
       "16  Ленинградский проспект    170      54         САО   \n",
       "17  Ленинградский проспект    170      55         САО   \n",
       "18  Ленинградский проспект    170      69         САО   \n",
       "19  Ленинградский проспект    170      66         САО   \n",
       "20  Пресненская набережная    165      17         ЦАО   \n",
       "21        Варшавское шоссе    159     109         ЮАО   \n",
       "22        Варшавское шоссе    159     108         ЮАО   \n",
       "23        Варшавское шоссе    159     110         ЮАО   \n",
       "24        Варшавское шоссе    159      99         ЮАО   \n",
       "25        Варшавское шоссе    159     102         ЮАО   \n",
       "26        Варшавское шоссе    159     104         ЮАО   \n",
       "27        Варшавское шоссе    159     130        ЮЗАО   \n",
       "28        Варшавское шоссе    159     133        ЮЗАО   \n",
       "29      Ленинский проспект    147      44         ЗАО   \n",
       "30      Ленинский проспект    147      47         ЗАО   \n",
       "31      Ленинский проспект    147      99         ЮАО   \n",
       "32      Ленинский проспект    147     124        ЮЗАО   \n",
       "33      Ленинский проспект    147     128        ЮЗАО   \n",
       "34      Ленинский проспект    147     129        ЮЗАО   \n",
       "35      Ленинский проспект    147     131        ЮЗАО   \n",
       "36      Ленинский проспект    147      21         ЦАО   \n",
       "37    проспект Вернадского    126      44         ЗАО   \n",
       "38    проспект Вернадского    126      45         ЗАО   \n",
       "39    проспект Вернадского    126      47         ЗАО   \n",
       "40    проспект Вернадского    126     124        ЮЗАО   \n",
       "41    проспект Вернадского    126     128        ЮЗАО   \n",
       "42    Кутузовский проспект    114      38         ЗАО   \n",
       "43    Кутузовский проспект    114      49         ЗАО   \n",
       "44         Каширское шоссе    110     101         ЮАО   \n",
       "45         Каширское шоссе    110     102         ЮАО   \n",
       "46         Каширское шоссе    110     106         ЮАО   \n",
       "47         Каширское шоссе    110     105         ЮАО   \n",
       "\n",
       "                               area  \n",
       "0                     Район Крюково  \n",
       "1           Район Матушкино-Савелки  \n",
       "2                Панфиловский район  \n",
       "3                Алексеевский район  \n",
       "4                 Ярославский Район  \n",
       "5                Район Марьина роща  \n",
       "6                Останкинский район  \n",
       "7                   Район Ростокино  \n",
       "8                    Район Свиблово  \n",
       "9                   Мещанский район  \n",
       "10              Академический район  \n",
       "11                  Район Черемушки  \n",
       "12                    Район Ясенево  \n",
       "13                   Район Коньково  \n",
       "14                Обручевский район  \n",
       "15                Район Теплый Стан  \n",
       "16                   Район Аэропорт  \n",
       "17                    Район Беговой  \n",
       "18                Хорошевский район  \n",
       "19                      Район Сокол  \n",
       "20                Пресненский район  \n",
       "21      Район Чертаново Центральное  \n",
       "22         Район Чертаново Северное  \n",
       "23            Район Чертаново Южное  \n",
       "24                    Донской район  \n",
       "25         Район Нагатино-Садовники  \n",
       "26                   Нагорный район  \n",
       "27            Район Северное Бутово  \n",
       "28               Район Южное Бутово  \n",
       "29       Район Проспект Вернадского  \n",
       "30         Район Тропарево-Никулино  \n",
       "31                    Донской район  \n",
       "32                Район Гагаринский  \n",
       "33              Ломоносовский район  \n",
       "34                Обручевский район  \n",
       "35                Район Теплый Стан  \n",
       "36                   Район Якиманка  \n",
       "37       Район Проспект Вернадского  \n",
       "38                    Район Раменки  \n",
       "39         Район Тропарево-Никулино  \n",
       "40                Район Гагаринский  \n",
       "41              Ломоносовский район  \n",
       "42               Район Дорогомилово  \n",
       "43             Район Фили-Давыдково  \n",
       "44       Район Москворечье-Сабурово  \n",
       "45         Район Нагатино-Садовники  \n",
       "46     Район Орехово-Борисово Южное  \n",
       "47  Район Орехово-Борисово Северное  "
      ]
     },
     "execution_count": 67,
     "metadata": {},
     "output_type": "execute_result"
    }
   ],
   "source": [
    "rest_data_merged"
   ]
  },
  {
   "cell_type": "markdown",
   "metadata": {},
   "source": [
    "Найдем количество районов и округов, через которые проходят данные улицы."
   ]
  },
  {
   "cell_type": "code",
   "execution_count": 68,
   "metadata": {},
   "outputs": [
    {
     "data": {
      "text/html": [
       "<div>\n",
       "<style scoped>\n",
       "    .dataframe tbody tr th:only-of-type {\n",
       "        vertical-align: middle;\n",
       "    }\n",
       "\n",
       "    .dataframe tbody tr th {\n",
       "        vertical-align: top;\n",
       "    }\n",
       "\n",
       "    .dataframe thead th {\n",
       "        text-align: right;\n",
       "    }\n",
       "</style>\n",
       "<table border=\"1\" class=\"dataframe\">\n",
       "  <thead>\n",
       "    <tr style=\"text-align: right;\">\n",
       "      <th></th>\n",
       "      <th>area</th>\n",
       "      <th>okrug</th>\n",
       "    </tr>\n",
       "    <tr>\n",
       "      <th>streetname</th>\n",
       "      <th></th>\n",
       "      <th></th>\n",
       "    </tr>\n",
       "  </thead>\n",
       "  <tbody>\n",
       "    <tr>\n",
       "      <th>Ленинский проспект</th>\n",
       "      <td>8</td>\n",
       "      <td>4</td>\n",
       "    </tr>\n",
       "    <tr>\n",
       "      <th>Варшавское шоссе</th>\n",
       "      <td>8</td>\n",
       "      <td>2</td>\n",
       "    </tr>\n",
       "    <tr>\n",
       "      <th>проспект Мира</th>\n",
       "      <td>7</td>\n",
       "      <td>2</td>\n",
       "    </tr>\n",
       "    <tr>\n",
       "      <th>Профсоюзная улица</th>\n",
       "      <td>6</td>\n",
       "      <td>1</td>\n",
       "    </tr>\n",
       "    <tr>\n",
       "      <th>проспект Вернадского</th>\n",
       "      <td>5</td>\n",
       "      <td>2</td>\n",
       "    </tr>\n",
       "    <tr>\n",
       "      <th>Каширское шоссе</th>\n",
       "      <td>4</td>\n",
       "      <td>1</td>\n",
       "    </tr>\n",
       "    <tr>\n",
       "      <th>Ленинградский проспект</th>\n",
       "      <td>4</td>\n",
       "      <td>1</td>\n",
       "    </tr>\n",
       "    <tr>\n",
       "      <th>город Зеленоград</th>\n",
       "      <td>3</td>\n",
       "      <td>1</td>\n",
       "    </tr>\n",
       "    <tr>\n",
       "      <th>Кутузовский проспект</th>\n",
       "      <td>2</td>\n",
       "      <td>1</td>\n",
       "    </tr>\n",
       "    <tr>\n",
       "      <th>Пресненская набережная</th>\n",
       "      <td>1</td>\n",
       "      <td>1</td>\n",
       "    </tr>\n",
       "  </tbody>\n",
       "</table>\n",
       "</div>"
      ],
      "text/plain": [
       "                        area  okrug\n",
       "streetname                         \n",
       "Ленинский проспект         8      4\n",
       "Варшавское шоссе           8      2\n",
       "проспект Мира              7      2\n",
       "Профсоюзная улица          6      1\n",
       "проспект Вернадского       5      2\n",
       "Каширское шоссе            4      1\n",
       "Ленинградский проспект     4      1\n",
       "город Зеленоград           3      1\n",
       "Кутузовский проспект       2      1\n",
       "Пресненская набережная     1      1"
      ]
     },
     "execution_count": 68,
     "metadata": {},
     "output_type": "execute_result"
    }
   ],
   "source": [
    "pivot_street = pd.pivot_table(rest_data_merged, index='streetname', values=['area', 'okrug'],\n",
    "               aggfunc={'area':'nunique', 'okrug': 'nunique'}).sort_values(['area', 'okrug'], ascending=False)\n",
    "pivot_street"
   ]
  },
  {
   "cell_type": "markdown",
   "metadata": {},
   "source": [
    "Ленинский проспект проходит через 8 районов в 4 округах."
   ]
  },
  {
   "cell_type": "code",
   "execution_count": 69,
   "metadata": {},
   "outputs": [
    {
     "data": {
      "text/html": [
       "<div>\n",
       "<style scoped>\n",
       "    .dataframe tbody tr th:only-of-type {\n",
       "        vertical-align: middle;\n",
       "    }\n",
       "\n",
       "    .dataframe tbody tr th {\n",
       "        vertical-align: top;\n",
       "    }\n",
       "\n",
       "    .dataframe thead th {\n",
       "        text-align: right;\n",
       "    }\n",
       "</style>\n",
       "<table border=\"1\" class=\"dataframe\">\n",
       "  <thead>\n",
       "    <tr style=\"text-align: right;\">\n",
       "      <th></th>\n",
       "      <th>streetname</th>\n",
       "      <th>count</th>\n",
       "      <th>area</th>\n",
       "      <th>okrug</th>\n",
       "    </tr>\n",
       "  </thead>\n",
       "  <tbody>\n",
       "    <tr>\n",
       "      <th>0</th>\n",
       "      <td>город Зеленоград</td>\n",
       "      <td>211</td>\n",
       "      <td>3</td>\n",
       "      <td>1</td>\n",
       "    </tr>\n",
       "    <tr>\n",
       "      <th>1</th>\n",
       "      <td>проспект Мира</td>\n",
       "      <td>196</td>\n",
       "      <td>7</td>\n",
       "      <td>2</td>\n",
       "    </tr>\n",
       "    <tr>\n",
       "      <th>2</th>\n",
       "      <td>Профсоюзная улица</td>\n",
       "      <td>181</td>\n",
       "      <td>6</td>\n",
       "      <td>1</td>\n",
       "    </tr>\n",
       "    <tr>\n",
       "      <th>3</th>\n",
       "      <td>Ленинградский проспект</td>\n",
       "      <td>170</td>\n",
       "      <td>4</td>\n",
       "      <td>1</td>\n",
       "    </tr>\n",
       "    <tr>\n",
       "      <th>4</th>\n",
       "      <td>Пресненская набережная</td>\n",
       "      <td>165</td>\n",
       "      <td>1</td>\n",
       "      <td>1</td>\n",
       "    </tr>\n",
       "    <tr>\n",
       "      <th>5</th>\n",
       "      <td>Варшавское шоссе</td>\n",
       "      <td>159</td>\n",
       "      <td>8</td>\n",
       "      <td>2</td>\n",
       "    </tr>\n",
       "    <tr>\n",
       "      <th>6</th>\n",
       "      <td>Ленинский проспект</td>\n",
       "      <td>147</td>\n",
       "      <td>8</td>\n",
       "      <td>4</td>\n",
       "    </tr>\n",
       "    <tr>\n",
       "      <th>7</th>\n",
       "      <td>проспект Вернадского</td>\n",
       "      <td>126</td>\n",
       "      <td>5</td>\n",
       "      <td>2</td>\n",
       "    </tr>\n",
       "    <tr>\n",
       "      <th>8</th>\n",
       "      <td>Кутузовский проспект</td>\n",
       "      <td>114</td>\n",
       "      <td>2</td>\n",
       "      <td>1</td>\n",
       "    </tr>\n",
       "    <tr>\n",
       "      <th>9</th>\n",
       "      <td>Каширское шоссе</td>\n",
       "      <td>110</td>\n",
       "      <td>4</td>\n",
       "      <td>1</td>\n",
       "    </tr>\n",
       "  </tbody>\n",
       "</table>\n",
       "</div>"
      ],
      "text/plain": [
       "               streetname  count  area  okrug\n",
       "0        город Зеленоград    211     3      1\n",
       "1           проспект Мира    196     7      2\n",
       "2       Профсоюзная улица    181     6      1\n",
       "3  Ленинградский проспект    170     4      1\n",
       "4  Пресненская набережная    165     1      1\n",
       "5        Варшавское шоссе    159     8      2\n",
       "6      Ленинский проспект    147     8      4\n",
       "7    проспект Вернадского    126     5      2\n",
       "8    Кутузовский проспект    114     2      1\n",
       "9         Каширское шоссе    110     4      1"
      ]
     },
     "execution_count": 69,
     "metadata": {},
     "output_type": "execute_result"
    }
   ],
   "source": [
    "merged_street = top_10_street.merge(pivot_street, on='streetname')\n",
    "merged_street "
   ]
  },
  {
   "cell_type": "markdown",
   "metadata": {},
   "source": [
    "Если мы принимаем протяженность улиц как количество районов через которые проходит улица, то лидер по количеству заведений - проспект Мира, также входит в топ-3 по протяженности. В общем, улицы с высоким количеством заведений общепита, проходят через большое количество районов (от 4 и больше), т.е. довольно протяженные. Кроме Пресненской набережной и Кутузовского проспекта."
   ]
  },
  {
   "cell_type": "markdown",
   "metadata": {},
   "source": [
    "### Найдите число улиц с одним объектом общественного питания. Воспользуйтесь внешней информацией и ответьте на вопрос — в каких районах Москвы находятся эти улицы?"
   ]
  },
  {
   "cell_type": "code",
   "execution_count": 70,
   "metadata": {},
   "outputs": [],
   "source": [
    "street_count_rest = rest_data.groupby('streetname').agg({'id': 'count'})"
   ]
  },
  {
   "cell_type": "code",
   "execution_count": 71,
   "metadata": {},
   "outputs": [
    {
     "data": {
      "text/plain": [
       "582"
      ]
     },
     "execution_count": 71,
     "metadata": {},
     "output_type": "execute_result"
    }
   ],
   "source": [
    "len(street_count_rest.query('id == 1'))"
   ]
  },
  {
   "cell_type": "markdown",
   "metadata": {},
   "source": [
    "Число улиц с одним объектом общественного питания равно 582 шт."
   ]
  },
  {
   "cell_type": "code",
   "execution_count": 72,
   "metadata": {},
   "outputs": [],
   "source": [
    "street_with_one_rest = street_count_rest.query('id == 1')"
   ]
  },
  {
   "cell_type": "code",
   "execution_count": 73,
   "metadata": {},
   "outputs": [
    {
     "data": {
      "text/html": [
       "<div>\n",
       "<style scoped>\n",
       "    .dataframe tbody tr th:only-of-type {\n",
       "        vertical-align: middle;\n",
       "    }\n",
       "\n",
       "    .dataframe tbody tr th {\n",
       "        vertical-align: top;\n",
       "    }\n",
       "\n",
       "    .dataframe thead th {\n",
       "        text-align: right;\n",
       "    }\n",
       "</style>\n",
       "<table border=\"1\" class=\"dataframe\">\n",
       "  <thead>\n",
       "    <tr style=\"text-align: right;\">\n",
       "      <th></th>\n",
       "      <th>id</th>\n",
       "    </tr>\n",
       "    <tr>\n",
       "      <th>streetname</th>\n",
       "      <th></th>\n",
       "    </tr>\n",
       "  </thead>\n",
       "  <tbody>\n",
       "    <tr>\n",
       "      <th>1-й Балтийский переулок</th>\n",
       "      <td>1</td>\n",
       "    </tr>\n",
       "    <tr>\n",
       "      <th>1-й Басманный переулок</th>\n",
       "      <td>1</td>\n",
       "    </tr>\n",
       "    <tr>\n",
       "      <th>1-й Ботанический проезд</th>\n",
       "      <td>1</td>\n",
       "    </tr>\n",
       "    <tr>\n",
       "      <th>1-й Вешняковский проезд</th>\n",
       "      <td>1</td>\n",
       "    </tr>\n",
       "    <tr>\n",
       "      <th>1-й Голутвинский переулок</th>\n",
       "      <td>1</td>\n",
       "    </tr>\n",
       "    <tr>\n",
       "      <th>...</th>\n",
       "      <td>...</td>\n",
       "    </tr>\n",
       "    <tr>\n",
       "      <th>улица Шумилова</th>\n",
       "      <td>1</td>\n",
       "    </tr>\n",
       "    <tr>\n",
       "      <th>улица Шумкина</th>\n",
       "      <td>1</td>\n",
       "    </tr>\n",
       "    <tr>\n",
       "      <th>улица Щорса</th>\n",
       "      <td>1</td>\n",
       "    </tr>\n",
       "    <tr>\n",
       "      <th>улица Энгельса</th>\n",
       "      <td>1</td>\n",
       "    </tr>\n",
       "    <tr>\n",
       "      <th>шоссе Фрезер</th>\n",
       "      <td>1</td>\n",
       "    </tr>\n",
       "  </tbody>\n",
       "</table>\n",
       "<p>582 rows × 1 columns</p>\n",
       "</div>"
      ],
      "text/plain": [
       "                           id\n",
       "streetname                   \n",
       "1-й Балтийский переулок     1\n",
       "1-й Басманный переулок      1\n",
       "1-й Ботанический проезд     1\n",
       "1-й Вешняковский проезд     1\n",
       "1-й Голутвинский переулок   1\n",
       "...                        ..\n",
       "улица Шумилова              1\n",
       "улица Шумкина               1\n",
       "улица Щорса                 1\n",
       "улица Энгельса              1\n",
       "шоссе Фрезер                1\n",
       "\n",
       "[582 rows x 1 columns]"
      ]
     },
     "execution_count": 73,
     "metadata": {},
     "output_type": "execute_result"
    }
   ],
   "source": [
    "street_with_one_rest"
   ]
  },
  {
   "cell_type": "markdown",
   "metadata": {},
   "source": [
    "Для определения районов Москвы, где находятся улицы с одним объектом общественного питания, также воспользуемся справочником улиц Мосгаза. "
   ]
  },
  {
   "cell_type": "code",
   "execution_count": 74,
   "metadata": {},
   "outputs": [],
   "source": [
    "area_with_one_rest = street_with_one_rest.merge(street_df, on='streetname')"
   ]
  },
  {
   "cell_type": "code",
   "execution_count": 75,
   "metadata": {},
   "outputs": [
    {
     "data": {
      "text/html": [
       "<div>\n",
       "<style scoped>\n",
       "    .dataframe tbody tr th:only-of-type {\n",
       "        vertical-align: middle;\n",
       "    }\n",
       "\n",
       "    .dataframe tbody tr th {\n",
       "        vertical-align: top;\n",
       "    }\n",
       "\n",
       "    .dataframe thead th {\n",
       "        text-align: right;\n",
       "    }\n",
       "</style>\n",
       "<table border=\"1\" class=\"dataframe\">\n",
       "  <thead>\n",
       "    <tr style=\"text-align: right;\">\n",
       "      <th></th>\n",
       "      <th>streetname</th>\n",
       "      <th>id</th>\n",
       "      <th>areaid</th>\n",
       "      <th>okrug</th>\n",
       "      <th>area</th>\n",
       "    </tr>\n",
       "  </thead>\n",
       "  <tbody>\n",
       "    <tr>\n",
       "      <th>0</th>\n",
       "      <td>1-й Балтийский переулок</td>\n",
       "      <td>1</td>\n",
       "      <td>54</td>\n",
       "      <td>САО</td>\n",
       "      <td>Район Аэропорт</td>\n",
       "    </tr>\n",
       "    <tr>\n",
       "      <th>1</th>\n",
       "      <td>1-й Басманный переулок</td>\n",
       "      <td>1</td>\n",
       "      <td>13</td>\n",
       "      <td>ЦАО</td>\n",
       "      <td>Басманный район</td>\n",
       "    </tr>\n",
       "    <tr>\n",
       "      <th>2</th>\n",
       "      <td>1-й Басманный переулок</td>\n",
       "      <td>1</td>\n",
       "      <td>15</td>\n",
       "      <td>ЦАО</td>\n",
       "      <td>Красносельский район</td>\n",
       "    </tr>\n",
       "    <tr>\n",
       "      <th>3</th>\n",
       "      <td>1-й Ботанический проезд</td>\n",
       "      <td>1</td>\n",
       "      <td>82</td>\n",
       "      <td>СВАО</td>\n",
       "      <td>Район Свиблово</td>\n",
       "    </tr>\n",
       "    <tr>\n",
       "      <th>4</th>\n",
       "      <td>1-й Вешняковский проезд</td>\n",
       "      <td>1</td>\n",
       "      <td>120</td>\n",
       "      <td>ЮВАО</td>\n",
       "      <td>Рязанский район</td>\n",
       "    </tr>\n",
       "    <tr>\n",
       "      <th>...</th>\n",
       "      <td>...</td>\n",
       "      <td>...</td>\n",
       "      <td>...</td>\n",
       "      <td>...</td>\n",
       "      <td>...</td>\n",
       "    </tr>\n",
       "    <tr>\n",
       "      <th>559</th>\n",
       "      <td>улица Шеногина</td>\n",
       "      <td>1</td>\n",
       "      <td>92</td>\n",
       "      <td>СЗАО</td>\n",
       "      <td>Район Хорошево-Мневники</td>\n",
       "    </tr>\n",
       "    <tr>\n",
       "      <th>560</th>\n",
       "      <td>улица Шумилова</td>\n",
       "      <td>1</td>\n",
       "      <td>113</td>\n",
       "      <td>ЮВАО</td>\n",
       "      <td>Район Кузьминки</td>\n",
       "    </tr>\n",
       "    <tr>\n",
       "      <th>561</th>\n",
       "      <td>улица Шумкина</td>\n",
       "      <td>1</td>\n",
       "      <td>26</td>\n",
       "      <td>ВАО</td>\n",
       "      <td>Район Сокольники</td>\n",
       "    </tr>\n",
       "    <tr>\n",
       "      <th>562</th>\n",
       "      <td>улица Щорса</td>\n",
       "      <td>1</td>\n",
       "      <td>46</td>\n",
       "      <td>ЗАО</td>\n",
       "      <td>Район Солнцево</td>\n",
       "    </tr>\n",
       "    <tr>\n",
       "      <th>563</th>\n",
       "      <td>шоссе Фрезер</td>\n",
       "      <td>1</td>\n",
       "      <td>117</td>\n",
       "      <td>ЮВАО</td>\n",
       "      <td>Нижегородский район</td>\n",
       "    </tr>\n",
       "  </tbody>\n",
       "</table>\n",
       "<p>564 rows × 5 columns</p>\n",
       "</div>"
      ],
      "text/plain": [
       "                  streetname  id  areaid okrug                     area\n",
       "0    1-й Балтийский переулок   1      54   САО           Район Аэропорт\n",
       "1     1-й Басманный переулок   1      13   ЦАО          Басманный район\n",
       "2     1-й Басманный переулок   1      15   ЦАО     Красносельский район\n",
       "3    1-й Ботанический проезд   1      82  СВАО           Район Свиблово\n",
       "4    1-й Вешняковский проезд   1     120  ЮВАО          Рязанский район\n",
       "..                       ...  ..     ...   ...                      ...\n",
       "559           улица Шеногина   1      92  СЗАО  Район Хорошево-Мневники\n",
       "560           улица Шумилова   1     113  ЮВАО          Район Кузьминки\n",
       "561            улица Шумкина   1      26   ВАО         Район Сокольники\n",
       "562              улица Щорса   1      46   ЗАО           Район Солнцево\n",
       "563             шоссе Фрезер   1     117  ЮВАО      Нижегородский район\n",
       "\n",
       "[564 rows x 5 columns]"
      ]
     },
     "execution_count": 75,
     "metadata": {},
     "output_type": "execute_result"
    }
   ],
   "source": [
    "area_with_one_rest"
   ]
  },
  {
   "cell_type": "code",
   "execution_count": 76,
   "metadata": {},
   "outputs": [],
   "source": [
    "count_area_with_one_rest = area_with_one_rest.groupby(['area', 'okrug']).agg({'id': 'count'}).sort_values(by='id', ascending=False).head(10).reset_index()"
   ]
  },
  {
   "cell_type": "code",
   "execution_count": 77,
   "metadata": {},
   "outputs": [
    {
     "data": {
      "text/html": [
       "<div>\n",
       "<style scoped>\n",
       "    .dataframe tbody tr th:only-of-type {\n",
       "        vertical-align: middle;\n",
       "    }\n",
       "\n",
       "    .dataframe tbody tr th {\n",
       "        vertical-align: top;\n",
       "    }\n",
       "\n",
       "    .dataframe thead th {\n",
       "        text-align: right;\n",
       "    }\n",
       "</style>\n",
       "<table border=\"1\" class=\"dataframe\">\n",
       "  <thead>\n",
       "    <tr style=\"text-align: right;\">\n",
       "      <th></th>\n",
       "      <th>area</th>\n",
       "      <th>okrug</th>\n",
       "      <th>id</th>\n",
       "    </tr>\n",
       "  </thead>\n",
       "  <tbody>\n",
       "    <tr>\n",
       "      <th>0</th>\n",
       "      <td>Таганский район</td>\n",
       "      <td>ЦАО</td>\n",
       "      <td>27</td>\n",
       "    </tr>\n",
       "    <tr>\n",
       "      <th>1</th>\n",
       "      <td>Район Хамовники</td>\n",
       "      <td>ЦАО</td>\n",
       "      <td>26</td>\n",
       "    </tr>\n",
       "    <tr>\n",
       "      <th>2</th>\n",
       "      <td>Басманный район</td>\n",
       "      <td>ЦАО</td>\n",
       "      <td>25</td>\n",
       "    </tr>\n",
       "    <tr>\n",
       "      <th>3</th>\n",
       "      <td>Тверской район</td>\n",
       "      <td>ЦАО</td>\n",
       "      <td>20</td>\n",
       "    </tr>\n",
       "    <tr>\n",
       "      <th>4</th>\n",
       "      <td>Пресненский район</td>\n",
       "      <td>ЦАО</td>\n",
       "      <td>19</td>\n",
       "    </tr>\n",
       "    <tr>\n",
       "      <th>5</th>\n",
       "      <td>Район Марьина роща</td>\n",
       "      <td>СВАО</td>\n",
       "      <td>18</td>\n",
       "    </tr>\n",
       "    <tr>\n",
       "      <th>6</th>\n",
       "      <td>Район Арбат</td>\n",
       "      <td>ЦАО</td>\n",
       "      <td>17</td>\n",
       "    </tr>\n",
       "    <tr>\n",
       "      <th>7</th>\n",
       "      <td>Мещанский район</td>\n",
       "      <td>ЦАО</td>\n",
       "      <td>16</td>\n",
       "    </tr>\n",
       "    <tr>\n",
       "      <th>8</th>\n",
       "      <td>Район Сокольники</td>\n",
       "      <td>ВАО</td>\n",
       "      <td>15</td>\n",
       "    </tr>\n",
       "    <tr>\n",
       "      <th>9</th>\n",
       "      <td>Район Замоскворечье</td>\n",
       "      <td>ЦАО</td>\n",
       "      <td>14</td>\n",
       "    </tr>\n",
       "  </tbody>\n",
       "</table>\n",
       "</div>"
      ],
      "text/plain": [
       "                  area okrug  id\n",
       "0      Таганский район   ЦАО  27\n",
       "1      Район Хамовники   ЦАО  26\n",
       "2      Басманный район   ЦАО  25\n",
       "3       Тверской район   ЦАО  20\n",
       "4    Пресненский район   ЦАО  19\n",
       "5   Район Марьина роща  СВАО  18\n",
       "6          Район Арбат   ЦАО  17\n",
       "7      Мещанский район   ЦАО  16\n",
       "8     Район Сокольники   ВАО  15\n",
       "9  Район Замоскворечье   ЦАО  14"
      ]
     },
     "execution_count": 77,
     "metadata": {},
     "output_type": "execute_result"
    }
   ],
   "source": [
    "count_area_with_one_rest"
   ]
  },
  {
   "cell_type": "markdown",
   "metadata": {},
   "source": [
    "Топ 10 районов с одним заведением общественного питания находятся в центральном округе Москвы или в районах, примыкающих к нему.\n",
    "В Центральном административном округе Москвы много небольших улиц, что может объяснить лидерство районов из этого округа. "
   ]
  },
  {
   "cell_type": "code",
   "execution_count": 78,
   "metadata": {},
   "outputs": [
    {
     "data": {
      "image/png": "[encoded data removed]",
      "text/plain": [
       "<Figure size 1080x576 with 1 Axes>"
      ]
     },
     "metadata": {
      "needs_background": "light"
     },
     "output_type": "display_data"
    }
   ],
   "source": [
    "plt.figure(figsize=(15,8))\n",
    "sns.barplot(data=count_area_with_one_rest, x='area', y='id', color='cornflowerblue')\n",
    "plt.xlabel(\"Название района\", size=16)\n",
    "plt.xticks(rotation=45)\n",
    "plt.ylabel(\"Число улиц с одним объектом общественного питания.\", size=14)\n",
    "plt.title(\"Топ-10 районов с одним объектом общественного питания\", size=20)\n",
    "plt.show()"
   ]
  },
  {
   "cell_type": "markdown",
   "metadata": {},
   "source": [
    "## Общий вывод, рекомендации о виде заведения, количестве посадочных мест, а также районе расположения."
   ]
  },
  {
   "cell_type": "markdown",
   "metadata": {},
   "source": [
    "В ходе работы были подготовлены и проанализированы данные о заведениях общественного питания города Москвы. \n",
    "\n",
    "Анализ данных состоял из следующих этапов:  \n",
    "\n",
    "- Исследование соотношения видов объектов общественного питания по количеству  \n",
    "Наибольшее (около 40%) от общего количества объектов приходится на кафе. \n",
    "\n",
    "\n",
    "- Исследование соотношения сетевых и несетевых заведений по количеству  \n",
    "Преобладают (более 80%) несетевые заведения.  \n",
    "\n",
    "\n",
    "- Определение вида объекта общественного питания характерного для сетевого распространения  \n",
    "Наиболее характерное сетевое распространение для фаст-фуда, более 40%.\n",
    "\n",
    "\n",
    "- Определение характерного для сетевых заведений распределения количества посадочных мест и количества заведений  \n",
    "Для сетевых заведений, характерно много посадочных мест и мало заведений.\n",
    "\n",
    "\n",
    "- Определение среднего количества посадочных мест для каждого вида объекта общественного питания и определение вида объекта с наибольшиме количеством посадочных мест  \n",
    "Наибольшее среднее количество посадочных мест, у столовых (примерно 130 мест)\n",
    "\n",
    "\n",
    "- Определение топ-10 улиц по количеству объектов общественного питания и определения районов нахождения этих улиц.   \n",
    "город Зеленоград, проспект Мира, Ленинградский проспект, Пресненская набережная, Варшавское шоссе, Ленинский проспект, проспект Вернадского, Кутузовский проспект, Каширское шоссе. \n",
    "\n",
    "\n",
    "- Определение числа улиц с одним объектом общественного питания и нахождение районов Москвы, где находятся эти улицы.   \n",
    "Наибольшее число таких улиц находятся в районах: Таганский, Хамовники и Басманный.\n",
    "\n",
    "\n",
    "Рекомендации:\n",
    "- Вид заведения - следует выбрать кафе, самый популярный вид заведений.\n",
    "- Количество посадочных мест - около 40, характерное количество мест для кафе.\n",
    "- Район расположения - один из топ-3 районов с максимальным количеством улиц с одним объектом питания, т.е. Таганский, Хамовники или Басманный. Если на улице только одно заведение, ему будет легче навязать конкуренцию, за счёт оригинальности роботов-официантов. При большом количестве заведений на улице, эта оринальность может быть не всегда замечена."
   ]
  }
 ],
 "metadata": {
  "ExecuteTimeLog": [
   {
    "duration": 7,
    "start_time": "2022-06-01T19:12:44.662Z"
   },
   {
    "duration": 1613,
    "start_time": "2022-06-01T19:13:03.569Z"
   },
   {
    "duration": 281,
    "start_time": "2022-06-01T19:13:25.581Z"
   },
   {
    "duration": 15,
    "start_time": "2022-06-01T19:13:30.484Z"
   },
   {
    "duration": 4,
    "start_time": "2022-06-01T19:13:47.600Z"
   },
   {
    "duration": 16,
    "start_time": "2022-06-01T19:13:58.324Z"
   },
   {
    "duration": 22,
    "start_time": "2022-06-01T19:15:39.975Z"
   },
   {
    "duration": 7,
    "start_time": "2022-06-01T19:15:48.130Z"
   },
   {
    "duration": 12,
    "start_time": "2022-06-01T19:15:55.327Z"
   },
   {
    "duration": 5,
    "start_time": "2022-06-01T19:16:12.385Z"
   },
   {
    "duration": 130,
    "start_time": "2022-06-01T19:16:23.520Z"
   },
   {
    "duration": 7,
    "start_time": "2022-06-01T19:16:27.303Z"
   },
   {
    "duration": 8,
    "start_time": "2022-06-01T19:16:53.136Z"
   },
   {
    "duration": 18,
    "start_time": "2022-06-01T19:19:54.508Z"
   },
   {
    "duration": 6,
    "start_time": "2022-06-01T19:34:51.310Z"
   },
   {
    "duration": 21,
    "start_time": "2022-06-01T19:37:12.580Z"
   },
   {
    "duration": 33,
    "start_time": "2022-06-01T19:37:20.034Z"
   },
   {
    "duration": 32,
    "start_time": "2022-06-01T19:38:08.576Z"
   },
   {
    "duration": 28,
    "start_time": "2022-06-01T19:38:37.174Z"
   },
   {
    "duration": 7,
    "start_time": "2022-06-01T19:39:55.219Z"
   },
   {
    "duration": 28,
    "start_time": "2022-06-01T19:42:51.672Z"
   },
   {
    "duration": 57,
    "start_time": "2022-06-01T19:47:46.114Z"
   },
   {
    "duration": 8,
    "start_time": "2022-06-01T19:48:06.593Z"
   },
   {
    "duration": 15,
    "start_time": "2022-06-01T19:48:50.099Z"
   },
   {
    "duration": 19,
    "start_time": "2022-06-01T19:49:09.243Z"
   },
   {
    "duration": 1110,
    "start_time": "2022-06-01T20:03:34.077Z"
   },
   {
    "duration": 82,
    "start_time": "2022-06-01T20:03:35.191Z"
   },
   {
    "duration": 14,
    "start_time": "2022-06-01T20:03:35.278Z"
   },
   {
    "duration": 19,
    "start_time": "2022-06-01T20:03:35.294Z"
   },
   {
    "duration": 19,
    "start_time": "2022-06-01T20:03:35.317Z"
   },
   {
    "duration": 13,
    "start_time": "2022-06-01T20:03:35.338Z"
   },
   {
    "duration": 38,
    "start_time": "2022-06-01T20:03:35.357Z"
   },
   {
    "duration": 19,
    "start_time": "2022-06-01T20:03:35.398Z"
   },
   {
    "duration": 22,
    "start_time": "2022-06-01T20:03:35.419Z"
   },
   {
    "duration": 22,
    "start_time": "2022-06-01T20:03:35.443Z"
   },
   {
    "duration": 7,
    "start_time": "2022-06-01T20:03:42.880Z"
   },
   {
    "duration": 4,
    "start_time": "2022-06-01T20:04:00.430Z"
   },
   {
    "duration": 11,
    "start_time": "2022-06-01T20:04:27.982Z"
   },
   {
    "duration": 10,
    "start_time": "2022-06-01T20:04:32.641Z"
   },
   {
    "duration": 12,
    "start_time": "2022-06-01T20:04:37.635Z"
   },
   {
    "duration": 12,
    "start_time": "2022-06-01T20:04:56.387Z"
   },
   {
    "duration": 3,
    "start_time": "2022-06-01T20:07:36.299Z"
   },
   {
    "duration": 4,
    "start_time": "2022-06-01T20:07:38.423Z"
   },
   {
    "duration": 2,
    "start_time": "2022-06-01T20:07:42.035Z"
   },
   {
    "duration": 3,
    "start_time": "2022-06-01T20:07:44.942Z"
   },
   {
    "duration": 22,
    "start_time": "2022-06-01T20:08:27.598Z"
   },
   {
    "duration": 5,
    "start_time": "2022-06-01T20:09:10.343Z"
   },
   {
    "duration": 61,
    "start_time": "2022-06-01T20:09:16.878Z"
   },
   {
    "duration": 6,
    "start_time": "2022-06-01T20:09:25.566Z"
   },
   {
    "duration": 112,
    "start_time": "2022-06-01T20:09:42.184Z"
   },
   {
    "duration": 12,
    "start_time": "2022-06-01T20:09:59.820Z"
   },
   {
    "duration": 11,
    "start_time": "2022-06-01T20:10:09.486Z"
   },
   {
    "duration": 6,
    "start_time": "2022-06-01T20:12:01.898Z"
   },
   {
    "duration": 6,
    "start_time": "2022-06-01T20:13:19.692Z"
   },
   {
    "duration": 6,
    "start_time": "2022-06-01T20:13:31.482Z"
   },
   {
    "duration": 6,
    "start_time": "2022-06-01T20:13:39.431Z"
   },
   {
    "duration": 6,
    "start_time": "2022-06-01T20:13:42.432Z"
   },
   {
    "duration": 5,
    "start_time": "2022-06-01T20:14:04.034Z"
   },
   {
    "duration": 25,
    "start_time": "2022-06-01T20:15:39.764Z"
   },
   {
    "duration": 43,
    "start_time": "2022-06-01T20:15:47.186Z"
   },
   {
    "duration": 26,
    "start_time": "2022-06-01T20:15:54.435Z"
   },
   {
    "duration": 38,
    "start_time": "2022-06-01T20:16:01.955Z"
   },
   {
    "duration": 366,
    "start_time": "2022-06-01T20:16:07.690Z"
   },
   {
    "duration": 14,
    "start_time": "2022-06-01T20:16:17.276Z"
   },
   {
    "duration": 7,
    "start_time": "2022-06-01T20:16:31.083Z"
   },
   {
    "duration": 9,
    "start_time": "2022-06-01T20:17:03.003Z"
   },
   {
    "duration": 16,
    "start_time": "2022-06-01T20:17:31.301Z"
   },
   {
    "duration": 15,
    "start_time": "2022-06-01T20:18:44.397Z"
   },
   {
    "duration": 35,
    "start_time": "2022-06-01T20:21:24.859Z"
   },
   {
    "duration": 3,
    "start_time": "2022-06-01T20:21:46.014Z"
   },
   {
    "duration": 155,
    "start_time": "2022-06-01T20:23:09.801Z"
   },
   {
    "duration": 3,
    "start_time": "2022-06-01T20:23:28.888Z"
   },
   {
    "duration": 92,
    "start_time": "2022-06-01T20:23:30.094Z"
   },
   {
    "duration": 3,
    "start_time": "2022-06-01T20:24:02.317Z"
   },
   {
    "duration": 161,
    "start_time": "2022-06-01T20:24:03.255Z"
   },
   {
    "duration": 3,
    "start_time": "2022-06-01T20:24:18.957Z"
   },
   {
    "duration": 117,
    "start_time": "2022-06-01T20:24:20.054Z"
   },
   {
    "duration": 13,
    "start_time": "2022-06-01T20:25:18.925Z"
   },
   {
    "duration": 3,
    "start_time": "2022-06-01T20:25:20.104Z"
   },
   {
    "duration": 129,
    "start_time": "2022-06-01T20:25:21.212Z"
   },
   {
    "duration": 10,
    "start_time": "2022-06-01T20:26:43.494Z"
   },
   {
    "duration": 116,
    "start_time": "2022-06-01T20:30:09.857Z"
   },
   {
    "duration": 85,
    "start_time": "2022-06-01T20:30:20.076Z"
   },
   {
    "duration": 143,
    "start_time": "2022-06-01T20:30:23.611Z"
   },
   {
    "duration": 21,
    "start_time": "2022-06-01T20:31:03.956Z"
   },
   {
    "duration": 115,
    "start_time": "2022-06-01T20:31:09.342Z"
   },
   {
    "duration": 9,
    "start_time": "2022-06-01T20:32:02.349Z"
   },
   {
    "duration": 3,
    "start_time": "2022-06-01T20:33:12.423Z"
   },
   {
    "duration": 9,
    "start_time": "2022-06-01T20:33:14.085Z"
   },
   {
    "duration": 3,
    "start_time": "2022-06-01T20:33:15.648Z"
   },
   {
    "duration": 9,
    "start_time": "2022-06-01T20:33:16.541Z"
   },
   {
    "duration": 68,
    "start_time": "2022-06-01T20:33:20.060Z"
   },
   {
    "duration": 16,
    "start_time": "2022-06-01T20:33:24.179Z"
   },
   {
    "duration": 6,
    "start_time": "2022-06-01T20:33:38.335Z"
   },
   {
    "duration": 1213,
    "start_time": "2022-06-01T20:34:22.541Z"
   },
   {
    "duration": 244,
    "start_time": "2022-06-01T20:34:23.764Z"
   },
   {
    "duration": 12,
    "start_time": "2022-06-01T20:34:24.010Z"
   },
   {
    "duration": 12,
    "start_time": "2022-06-01T20:34:24.024Z"
   },
   {
    "duration": 30,
    "start_time": "2022-06-01T20:34:24.038Z"
   },
   {
    "duration": 14,
    "start_time": "2022-06-01T20:34:24.071Z"
   },
   {
    "duration": 13,
    "start_time": "2022-06-01T20:34:24.086Z"
   },
   {
    "duration": 10,
    "start_time": "2022-06-01T20:34:24.101Z"
   },
   {
    "duration": 10,
    "start_time": "2022-06-01T20:34:24.113Z"
   },
   {
    "duration": 13,
    "start_time": "2022-06-01T20:34:24.125Z"
   },
   {
    "duration": 30,
    "start_time": "2022-06-01T20:34:24.139Z"
   },
   {
    "duration": 0,
    "start_time": "2022-06-01T20:34:24.171Z"
   },
   {
    "duration": 0,
    "start_time": "2022-06-01T20:34:24.172Z"
   },
   {
    "duration": 0,
    "start_time": "2022-06-01T20:34:24.175Z"
   },
   {
    "duration": 0,
    "start_time": "2022-06-01T20:34:24.176Z"
   },
   {
    "duration": 0,
    "start_time": "2022-06-01T20:34:24.177Z"
   },
   {
    "duration": 0,
    "start_time": "2022-06-01T20:34:24.178Z"
   },
   {
    "duration": 0,
    "start_time": "2022-06-01T20:34:24.179Z"
   },
   {
    "duration": 0,
    "start_time": "2022-06-01T20:34:24.180Z"
   },
   {
    "duration": 1121,
    "start_time": "2022-06-01T20:34:37.478Z"
   },
   {
    "duration": 70,
    "start_time": "2022-06-01T20:34:38.600Z"
   },
   {
    "duration": 12,
    "start_time": "2022-06-01T20:34:38.673Z"
   },
   {
    "duration": 11,
    "start_time": "2022-06-01T20:34:38.687Z"
   },
   {
    "duration": 16,
    "start_time": "2022-06-01T20:34:38.700Z"
   },
   {
    "duration": 5,
    "start_time": "2022-06-01T20:34:38.717Z"
   },
   {
    "duration": 45,
    "start_time": "2022-06-01T20:34:38.723Z"
   },
   {
    "duration": 12,
    "start_time": "2022-06-01T20:34:38.769Z"
   },
   {
    "duration": 9,
    "start_time": "2022-06-01T20:34:38.782Z"
   },
   {
    "duration": 10,
    "start_time": "2022-06-01T20:34:38.793Z"
   },
   {
    "duration": 5,
    "start_time": "2022-06-01T20:34:38.805Z"
   },
   {
    "duration": 18,
    "start_time": "2022-06-01T20:34:38.812Z"
   },
   {
    "duration": 18,
    "start_time": "2022-06-01T20:34:38.855Z"
   },
   {
    "duration": 8,
    "start_time": "2022-06-01T20:34:38.875Z"
   },
   {
    "duration": 82,
    "start_time": "2022-06-01T20:34:38.884Z"
   },
   {
    "duration": 16,
    "start_time": "2022-06-01T20:34:38.967Z"
   },
   {
    "duration": 10,
    "start_time": "2022-06-01T20:34:38.985Z"
   },
   {
    "duration": 22,
    "start_time": "2022-06-01T20:34:38.996Z"
   },
   {
    "duration": 10,
    "start_time": "2022-06-01T20:35:00.455Z"
   },
   {
    "duration": 116,
    "start_time": "2022-06-01T20:35:16.375Z"
   },
   {
    "duration": 12,
    "start_time": "2022-06-01T20:35:19.389Z"
   },
   {
    "duration": 8,
    "start_time": "2022-06-01T20:35:44.670Z"
   },
   {
    "duration": 21,
    "start_time": "2022-06-01T20:37:36.591Z"
   },
   {
    "duration": 42,
    "start_time": "2022-06-01T20:38:06.690Z"
   },
   {
    "duration": 12,
    "start_time": "2022-06-01T20:38:16.729Z"
   },
   {
    "duration": 14,
    "start_time": "2022-06-01T20:38:26.750Z"
   },
   {
    "duration": 12,
    "start_time": "2022-06-01T20:38:37.987Z"
   },
   {
    "duration": 68,
    "start_time": "2022-06-01T20:40:55.773Z"
   },
   {
    "duration": 3,
    "start_time": "2022-06-01T20:41:00.690Z"
   },
   {
    "duration": 74,
    "start_time": "2022-06-01T20:41:02.530Z"
   },
   {
    "duration": 14,
    "start_time": "2022-06-01T20:41:04.030Z"
   },
   {
    "duration": 11,
    "start_time": "2022-06-01T20:41:07.565Z"
   },
   {
    "duration": 8,
    "start_time": "2022-06-01T20:41:14.930Z"
   },
   {
    "duration": 20,
    "start_time": "2022-06-01T20:43:34.646Z"
   },
   {
    "duration": 12,
    "start_time": "2022-06-01T20:43:41.004Z"
   },
   {
    "duration": 7,
    "start_time": "2022-06-01T20:43:43.585Z"
   },
   {
    "duration": 36,
    "start_time": "2022-06-01T20:44:34.138Z"
   },
   {
    "duration": 29,
    "start_time": "2022-06-01T20:44:42.142Z"
   },
   {
    "duration": 426,
    "start_time": "2022-06-01T20:45:07.727Z"
   },
   {
    "duration": 10,
    "start_time": "2022-06-01T20:45:16.365Z"
   },
   {
    "duration": 18,
    "start_time": "2022-06-01T20:45:21.880Z"
   },
   {
    "duration": 1155,
    "start_time": "2022-06-01T20:46:42.338Z"
   },
   {
    "duration": 65,
    "start_time": "2022-06-01T20:46:43.495Z"
   },
   {
    "duration": 13,
    "start_time": "2022-06-01T20:46:43.561Z"
   },
   {
    "duration": 14,
    "start_time": "2022-06-01T20:46:43.576Z"
   },
   {
    "duration": 17,
    "start_time": "2022-06-01T20:46:43.592Z"
   },
   {
    "duration": 5,
    "start_time": "2022-06-01T20:46:43.611Z"
   },
   {
    "duration": 7,
    "start_time": "2022-06-01T20:46:43.618Z"
   },
   {
    "duration": 10,
    "start_time": "2022-06-01T20:46:43.652Z"
   },
   {
    "duration": 10,
    "start_time": "2022-06-01T20:46:43.664Z"
   },
   {
    "duration": 11,
    "start_time": "2022-06-01T20:46:43.675Z"
   },
   {
    "duration": 14,
    "start_time": "2022-06-01T20:46:43.688Z"
   },
   {
    "duration": 9,
    "start_time": "2022-06-01T20:46:43.704Z"
   },
   {
    "duration": 98,
    "start_time": "2022-06-01T20:46:43.714Z"
   },
   {
    "duration": 16,
    "start_time": "2022-06-01T20:46:43.815Z"
   },
   {
    "duration": 20,
    "start_time": "2022-06-01T20:46:43.833Z"
   },
   {
    "duration": 23,
    "start_time": "2022-06-01T20:46:43.855Z"
   },
   {
    "duration": 6,
    "start_time": "2022-06-01T20:50:06.065Z"
   },
   {
    "duration": 7,
    "start_time": "2022-06-01T20:52:12.501Z"
   },
   {
    "duration": 6,
    "start_time": "2022-06-01T20:52:53.820Z"
   },
   {
    "duration": 104,
    "start_time": "2022-06-01T20:53:02.044Z"
   },
   {
    "duration": 9,
    "start_time": "2022-06-01T20:54:12.997Z"
   },
   {
    "duration": 10,
    "start_time": "2022-06-01T20:54:13.684Z"
   },
   {
    "duration": 8,
    "start_time": "2022-06-01T20:54:58.613Z"
   },
   {
    "duration": 9,
    "start_time": "2022-06-01T20:55:04.093Z"
   },
   {
    "duration": 9,
    "start_time": "2022-06-01T20:55:21.375Z"
   },
   {
    "duration": 9,
    "start_time": "2022-06-01T20:56:22.778Z"
   },
   {
    "duration": 10,
    "start_time": "2022-06-01T20:57:28.111Z"
   },
   {
    "duration": 6,
    "start_time": "2022-06-01T20:57:37.494Z"
   },
   {
    "duration": 9,
    "start_time": "2022-06-01T21:00:15.781Z"
   },
   {
    "duration": 11,
    "start_time": "2022-06-01T21:00:18.472Z"
   },
   {
    "duration": 11,
    "start_time": "2022-06-01T21:00:21.367Z"
   },
   {
    "duration": 7,
    "start_time": "2022-06-01T21:01:27.075Z"
   },
   {
    "duration": 4,
    "start_time": "2022-06-01T21:01:36.969Z"
   },
   {
    "duration": 54,
    "start_time": "2022-06-01T21:03:03.019Z"
   },
   {
    "duration": 21,
    "start_time": "2022-06-01T21:03:22.686Z"
   },
   {
    "duration": 7,
    "start_time": "2022-06-01T21:03:32.004Z"
   },
   {
    "duration": 20,
    "start_time": "2022-06-01T21:04:58.013Z"
   },
   {
    "duration": 11,
    "start_time": "2022-06-01T21:05:34.331Z"
   },
   {
    "duration": 10,
    "start_time": "2022-06-01T21:06:27.419Z"
   },
   {
    "duration": 11,
    "start_time": "2022-06-01T21:06:31.607Z"
   },
   {
    "duration": 10,
    "start_time": "2022-06-01T21:06:49.039Z"
   },
   {
    "duration": 9,
    "start_time": "2022-06-01T21:11:41.583Z"
   },
   {
    "duration": 8,
    "start_time": "2022-06-01T21:11:59.199Z"
   },
   {
    "duration": 9,
    "start_time": "2022-06-01T21:12:08.582Z"
   },
   {
    "duration": 24,
    "start_time": "2022-06-01T21:13:31.995Z"
   },
   {
    "duration": 10,
    "start_time": "2022-06-01T21:13:55.410Z"
   },
   {
    "duration": 278,
    "start_time": "2022-06-01T21:13:59.971Z"
   },
   {
    "duration": 7,
    "start_time": "2022-06-01T21:14:17.927Z"
   },
   {
    "duration": 477,
    "start_time": "2022-06-01T21:18:23.463Z"
   },
   {
    "duration": 14,
    "start_time": "2022-06-01T21:18:37.183Z"
   },
   {
    "duration": 11,
    "start_time": "2022-06-01T21:18:43.891Z"
   },
   {
    "duration": 8,
    "start_time": "2022-06-01T21:18:47.728Z"
   },
   {
    "duration": 7,
    "start_time": "2022-06-01T21:19:10.936Z"
   },
   {
    "duration": 62,
    "start_time": "2022-06-01T21:19:50.123Z"
   },
   {
    "duration": 8,
    "start_time": "2022-06-01T21:19:54.080Z"
   },
   {
    "duration": 3,
    "start_time": "2022-06-01T21:21:11.284Z"
   },
   {
    "duration": 45,
    "start_time": "2022-06-01T21:21:15.773Z"
   },
   {
    "duration": 47,
    "start_time": "2022-06-01T21:21:29.008Z"
   },
   {
    "duration": 30,
    "start_time": "2022-06-01T21:21:30.940Z"
   },
   {
    "duration": 42,
    "start_time": "2022-06-01T21:21:32.324Z"
   },
   {
    "duration": 83,
    "start_time": "2022-06-01T21:21:39.636Z"
   },
   {
    "duration": 9,
    "start_time": "2022-06-01T21:22:04.197Z"
   },
   {
    "duration": 8,
    "start_time": "2022-06-01T21:22:37.839Z"
   },
   {
    "duration": 10,
    "start_time": "2022-06-01T21:23:40.631Z"
   },
   {
    "duration": 16,
    "start_time": "2022-06-01T21:24:35.853Z"
   },
   {
    "duration": 11,
    "start_time": "2022-06-01T21:24:56.192Z"
   },
   {
    "duration": 13,
    "start_time": "2022-06-01T21:24:58.886Z"
   },
   {
    "duration": 5,
    "start_time": "2022-06-01T21:25:58.877Z"
   },
   {
    "duration": 14,
    "start_time": "2022-06-01T21:26:16.672Z"
   },
   {
    "duration": 13,
    "start_time": "2022-06-01T21:26:59.138Z"
   },
   {
    "duration": 11,
    "start_time": "2022-06-01T21:27:03.310Z"
   },
   {
    "duration": 11,
    "start_time": "2022-06-01T21:28:47.410Z"
   },
   {
    "duration": 13,
    "start_time": "2022-06-01T21:28:57.620Z"
   },
   {
    "duration": 12,
    "start_time": "2022-06-01T21:29:01.903Z"
   },
   {
    "duration": 64,
    "start_time": "2022-06-01T21:30:20.123Z"
   },
   {
    "duration": 10,
    "start_time": "2022-06-01T21:30:40.293Z"
   },
   {
    "duration": 9,
    "start_time": "2022-06-01T21:30:56.138Z"
   },
   {
    "duration": 17,
    "start_time": "2022-06-01T21:30:57.747Z"
   },
   {
    "duration": 10,
    "start_time": "2022-06-01T21:31:01.696Z"
   },
   {
    "duration": 9,
    "start_time": "2022-06-01T21:31:07.478Z"
   },
   {
    "duration": 9,
    "start_time": "2022-06-01T21:31:09.417Z"
   },
   {
    "duration": 12,
    "start_time": "2022-06-01T21:31:16.035Z"
   },
   {
    "duration": 17,
    "start_time": "2022-06-01T21:31:22.785Z"
   },
   {
    "duration": 15,
    "start_time": "2022-06-01T21:31:41.452Z"
   },
   {
    "duration": 42,
    "start_time": "2022-06-01T21:31:56.196Z"
   },
   {
    "duration": 16,
    "start_time": "2022-06-01T21:32:02.109Z"
   },
   {
    "duration": 18,
    "start_time": "2022-06-01T21:32:05.596Z"
   },
   {
    "duration": 20,
    "start_time": "2022-06-01T21:32:11.900Z"
   },
   {
    "duration": 10,
    "start_time": "2022-06-01T21:32:20.724Z"
   },
   {
    "duration": 16,
    "start_time": "2022-06-01T21:32:35.384Z"
   },
   {
    "duration": 19,
    "start_time": "2022-06-01T21:32:43.766Z"
   },
   {
    "duration": 13,
    "start_time": "2022-06-01T21:32:48.108Z"
   },
   {
    "duration": 12,
    "start_time": "2022-06-01T21:33:19.437Z"
   },
   {
    "duration": 11,
    "start_time": "2022-06-01T21:33:35.623Z"
   },
   {
    "duration": 12,
    "start_time": "2022-06-01T21:33:44.253Z"
   },
   {
    "duration": 11,
    "start_time": "2022-06-01T21:37:11.232Z"
   },
   {
    "duration": 12,
    "start_time": "2022-06-01T21:37:19.575Z"
   },
   {
    "duration": 11,
    "start_time": "2022-06-01T21:37:46.095Z"
   },
   {
    "duration": 62,
    "start_time": "2022-06-01T21:38:47.847Z"
   },
   {
    "duration": 18,
    "start_time": "2022-06-01T21:39:40.979Z"
   },
   {
    "duration": 17,
    "start_time": "2022-06-01T21:40:43.975Z"
   },
   {
    "duration": 38,
    "start_time": "2022-06-01T21:41:00.090Z"
   },
   {
    "duration": 2,
    "start_time": "2022-06-01T21:41:49.822Z"
   },
   {
    "duration": 39,
    "start_time": "2022-06-01T21:48:35.038Z"
   },
   {
    "duration": 10,
    "start_time": "2022-06-01T21:48:50.186Z"
   },
   {
    "duration": 13,
    "start_time": "2022-06-01T21:49:49.111Z"
   },
   {
    "duration": 39,
    "start_time": "2022-06-01T21:49:52.247Z"
   },
   {
    "duration": 9,
    "start_time": "2022-06-01T21:50:06.842Z"
   },
   {
    "duration": 30,
    "start_time": "2022-06-01T21:50:31.033Z"
   },
   {
    "duration": 31,
    "start_time": "2022-06-01T21:51:05.402Z"
   },
   {
    "duration": 180,
    "start_time": "2022-06-01T21:52:40.115Z"
   },
   {
    "duration": 166,
    "start_time": "2022-06-01T21:53:40.633Z"
   },
   {
    "duration": 57,
    "start_time": "2022-06-02T06:04:07.903Z"
   },
   {
    "duration": 1286,
    "start_time": "2022-06-02T06:08:48.534Z"
   },
   {
    "duration": 227,
    "start_time": "2022-06-02T06:08:49.822Z"
   },
   {
    "duration": 12,
    "start_time": "2022-06-02T06:08:50.052Z"
   },
   {
    "duration": 17,
    "start_time": "2022-06-02T06:08:50.066Z"
   },
   {
    "duration": 19,
    "start_time": "2022-06-02T06:08:50.084Z"
   },
   {
    "duration": 13,
    "start_time": "2022-06-02T06:08:50.105Z"
   },
   {
    "duration": 13,
    "start_time": "2022-06-02T06:08:50.119Z"
   },
   {
    "duration": 11,
    "start_time": "2022-06-02T06:08:50.133Z"
   },
   {
    "duration": 10,
    "start_time": "2022-06-02T06:08:50.146Z"
   },
   {
    "duration": 15,
    "start_time": "2022-06-02T06:08:50.158Z"
   },
   {
    "duration": 8,
    "start_time": "2022-06-02T06:08:50.174Z"
   },
   {
    "duration": 45,
    "start_time": "2022-06-02T06:08:50.184Z"
   },
   {
    "duration": 15,
    "start_time": "2022-06-02T06:08:50.231Z"
   },
   {
    "duration": 86,
    "start_time": "2022-06-02T06:08:50.248Z"
   },
   {
    "duration": 122,
    "start_time": "2022-06-02T06:08:50.336Z"
   },
   {
    "duration": 0,
    "start_time": "2022-06-02T06:08:50.460Z"
   },
   {
    "duration": 0,
    "start_time": "2022-06-02T06:08:50.461Z"
   },
   {
    "duration": 0,
    "start_time": "2022-06-02T06:08:50.462Z"
   },
   {
    "duration": 0,
    "start_time": "2022-06-02T06:08:50.464Z"
   },
   {
    "duration": 0,
    "start_time": "2022-06-02T06:08:50.465Z"
   },
   {
    "duration": 0,
    "start_time": "2022-06-02T06:08:50.465Z"
   },
   {
    "duration": 0,
    "start_time": "2022-06-02T06:08:50.466Z"
   },
   {
    "duration": 0,
    "start_time": "2022-06-02T06:08:50.467Z"
   },
   {
    "duration": 202,
    "start_time": "2022-06-02T06:09:05.989Z"
   },
   {
    "duration": 1440,
    "start_time": "2022-06-02T08:23:57.507Z"
   },
   {
    "duration": 359,
    "start_time": "2022-06-02T08:23:58.950Z"
   },
   {
    "duration": 16,
    "start_time": "2022-06-02T08:23:59.311Z"
   },
   {
    "duration": 18,
    "start_time": "2022-06-02T08:23:59.330Z"
   },
   {
    "duration": 47,
    "start_time": "2022-06-02T08:23:59.350Z"
   },
   {
    "duration": 12,
    "start_time": "2022-06-02T08:23:59.403Z"
   },
   {
    "duration": 15,
    "start_time": "2022-06-02T08:23:59.417Z"
   },
   {
    "duration": 19,
    "start_time": "2022-06-02T08:23:59.434Z"
   },
   {
    "duration": 17,
    "start_time": "2022-06-02T08:23:59.454Z"
   },
   {
    "duration": 33,
    "start_time": "2022-06-02T08:23:59.474Z"
   },
   {
    "duration": 27,
    "start_time": "2022-06-02T08:23:59.509Z"
   },
   {
    "duration": 24,
    "start_time": "2022-06-02T08:23:59.538Z"
   },
   {
    "duration": 51,
    "start_time": "2022-06-02T08:23:59.564Z"
   },
   {
    "duration": 110,
    "start_time": "2022-06-02T08:23:59.617Z"
   },
   {
    "duration": 143,
    "start_time": "2022-06-02T08:23:59.728Z"
   },
   {
    "duration": 0,
    "start_time": "2022-06-02T08:23:59.873Z"
   },
   {
    "duration": 0,
    "start_time": "2022-06-02T08:23:59.875Z"
   },
   {
    "duration": 0,
    "start_time": "2022-06-02T08:23:59.876Z"
   },
   {
    "duration": 0,
    "start_time": "2022-06-02T08:23:59.877Z"
   },
   {
    "duration": 0,
    "start_time": "2022-06-02T08:23:59.879Z"
   },
   {
    "duration": 0,
    "start_time": "2022-06-02T08:23:59.880Z"
   },
   {
    "duration": 0,
    "start_time": "2022-06-02T08:23:59.881Z"
   },
   {
    "duration": 0,
    "start_time": "2022-06-02T08:23:59.882Z"
   },
   {
    "duration": 12,
    "start_time": "2022-06-02T08:28:03.505Z"
   },
   {
    "duration": 343,
    "start_time": "2022-06-02T08:29:35.123Z"
   },
   {
    "duration": 80,
    "start_time": "2022-06-02T08:35:46.391Z"
   },
   {
    "duration": 21,
    "start_time": "2022-06-02T08:35:56.417Z"
   },
   {
    "duration": 33,
    "start_time": "2022-06-02T08:36:06.557Z"
   },
   {
    "duration": 70,
    "start_time": "2022-06-02T08:36:31.059Z"
   },
   {
    "duration": 46,
    "start_time": "2022-06-02T08:36:47.278Z"
   },
   {
    "duration": 26,
    "start_time": "2022-06-02T08:36:54.045Z"
   },
   {
    "duration": 44,
    "start_time": "2022-06-02T08:37:36.142Z"
   },
   {
    "duration": 52,
    "start_time": "2022-06-02T08:38:25.865Z"
   },
   {
    "duration": 65,
    "start_time": "2022-06-02T18:50:20.076Z"
   },
   {
    "duration": 1514,
    "start_time": "2022-06-02T18:50:24.850Z"
   },
   {
    "duration": 288,
    "start_time": "2022-06-02T18:50:26.367Z"
   },
   {
    "duration": 18,
    "start_time": "2022-06-02T18:50:26.657Z"
   },
   {
    "duration": 40,
    "start_time": "2022-06-02T18:50:26.678Z"
   },
   {
    "duration": 40,
    "start_time": "2022-06-02T18:50:26.720Z"
   },
   {
    "duration": 35,
    "start_time": "2022-06-02T18:50:26.765Z"
   },
   {
    "duration": 17,
    "start_time": "2022-06-02T18:50:26.802Z"
   },
   {
    "duration": 30,
    "start_time": "2022-06-02T18:50:26.821Z"
   },
   {
    "duration": 34,
    "start_time": "2022-06-02T18:50:26.854Z"
   },
   {
    "duration": 37,
    "start_time": "2022-06-02T18:50:26.891Z"
   },
   {
    "duration": 34,
    "start_time": "2022-06-02T18:50:26.940Z"
   },
   {
    "duration": 26,
    "start_time": "2022-06-02T18:50:26.977Z"
   },
   {
    "duration": 50,
    "start_time": "2022-06-02T18:50:27.005Z"
   },
   {
    "duration": 165,
    "start_time": "2022-06-02T18:50:27.057Z"
   },
   {
    "duration": 15,
    "start_time": "2022-06-02T18:50:27.224Z"
   },
   {
    "duration": 44,
    "start_time": "2022-06-02T18:50:27.241Z"
   },
   {
    "duration": 30,
    "start_time": "2022-06-02T18:50:27.286Z"
   },
   {
    "duration": 42,
    "start_time": "2022-06-02T18:50:27.317Z"
   },
   {
    "duration": 30,
    "start_time": "2022-06-02T18:50:27.362Z"
   },
   {
    "duration": 19,
    "start_time": "2022-06-02T18:50:27.394Z"
   },
   {
    "duration": 70,
    "start_time": "2022-06-02T18:50:27.414Z"
   },
   {
    "duration": 313,
    "start_time": "2022-06-02T18:50:27.486Z"
   },
   {
    "duration": 0,
    "start_time": "2022-06-02T18:50:27.801Z"
   },
   {
    "duration": 0,
    "start_time": "2022-06-02T18:50:27.802Z"
   },
   {
    "duration": 0,
    "start_time": "2022-06-02T18:50:27.803Z"
   },
   {
    "duration": 11,
    "start_time": "2022-06-02T18:50:42.598Z"
   },
   {
    "duration": 9,
    "start_time": "2022-06-02T18:50:45.151Z"
   },
   {
    "duration": 15,
    "start_time": "2022-06-02T18:50:45.844Z"
   },
   {
    "duration": 319,
    "start_time": "2022-06-02T18:50:51.384Z"
   },
   {
    "duration": 10,
    "start_time": "2022-06-02T18:50:53.466Z"
   },
   {
    "duration": 22,
    "start_time": "2022-06-02T18:51:34.325Z"
   },
   {
    "duration": 324,
    "start_time": "2022-06-02T18:51:38.048Z"
   },
   {
    "duration": 8,
    "start_time": "2022-06-02T18:51:40.905Z"
   },
   {
    "duration": 18,
    "start_time": "2022-06-02T18:51:51.518Z"
   },
   {
    "duration": 11,
    "start_time": "2022-06-02T18:51:56.446Z"
   },
   {
    "duration": 8,
    "start_time": "2022-06-02T18:51:57.196Z"
   },
   {
    "duration": 7,
    "start_time": "2022-06-02T18:51:58.911Z"
   },
   {
    "duration": 14,
    "start_time": "2022-06-02T18:52:03.448Z"
   },
   {
    "duration": 10,
    "start_time": "2022-06-02T18:52:23.679Z"
   },
   {
    "duration": 7,
    "start_time": "2022-06-02T18:52:24.997Z"
   },
   {
    "duration": 16,
    "start_time": "2022-06-02T18:52:37.347Z"
   },
   {
    "duration": 7,
    "start_time": "2022-06-02T18:52:38.262Z"
   },
   {
    "duration": 9,
    "start_time": "2022-06-02T18:52:53.069Z"
   },
   {
    "duration": 13,
    "start_time": "2022-06-02T18:53:09.622Z"
   },
   {
    "duration": 7,
    "start_time": "2022-06-02T18:53:10.448Z"
   },
   {
    "duration": 9,
    "start_time": "2022-06-02T18:53:22.667Z"
   },
   {
    "duration": 13,
    "start_time": "2022-06-02T18:53:24.021Z"
   },
   {
    "duration": 12,
    "start_time": "2022-06-02T18:53:27.656Z"
   },
   {
    "duration": 10,
    "start_time": "2022-06-02T18:53:28.551Z"
   },
   {
    "duration": 13,
    "start_time": "2022-06-02T18:53:33.059Z"
   },
   {
    "duration": 17,
    "start_time": "2022-06-02T18:53:35.754Z"
   },
   {
    "duration": 9,
    "start_time": "2022-06-02T18:53:41.810Z"
   },
   {
    "duration": 10,
    "start_time": "2022-06-02T18:53:43.486Z"
   },
   {
    "duration": 8,
    "start_time": "2022-06-02T18:54:42.397Z"
   },
   {
    "duration": 6,
    "start_time": "2022-06-02T18:54:42.991Z"
   },
   {
    "duration": 20,
    "start_time": "2022-06-02T18:55:14.459Z"
   },
   {
    "duration": 84,
    "start_time": "2022-06-02T18:56:07.765Z"
   },
   {
    "duration": 22,
    "start_time": "2022-06-02T18:56:36.650Z"
   },
   {
    "duration": 8,
    "start_time": "2022-06-02T18:57:12.080Z"
   },
   {
    "duration": 19,
    "start_time": "2022-06-02T18:57:16.946Z"
   },
   {
    "duration": 11,
    "start_time": "2022-06-02T18:57:17.689Z"
   },
   {
    "duration": 22,
    "start_time": "2022-06-02T18:57:35.180Z"
   },
   {
    "duration": 27,
    "start_time": "2022-06-02T18:57:51.534Z"
   },
   {
    "duration": 23,
    "start_time": "2022-06-02T18:57:59.372Z"
   },
   {
    "duration": 25,
    "start_time": "2022-06-02T18:58:01.125Z"
   },
   {
    "duration": 12,
    "start_time": "2022-06-02T18:58:10.562Z"
   },
   {
    "duration": 31,
    "start_time": "2022-06-02T18:58:25.112Z"
   },
   {
    "duration": 16,
    "start_time": "2022-06-02T18:58:31.669Z"
   },
   {
    "duration": 9,
    "start_time": "2022-06-02T18:58:32.857Z"
   },
   {
    "duration": 27,
    "start_time": "2022-06-02T18:59:04.521Z"
   },
   {
    "duration": 19,
    "start_time": "2022-06-02T18:59:05.266Z"
   },
   {
    "duration": 10,
    "start_time": "2022-06-02T18:59:07.591Z"
   },
   {
    "duration": 19,
    "start_time": "2022-06-02T18:59:10.155Z"
   },
   {
    "duration": 227,
    "start_time": "2022-06-02T18:59:13.093Z"
   },
   {
    "duration": 303,
    "start_time": "2022-06-02T18:59:32.943Z"
   },
   {
    "duration": 285,
    "start_time": "2022-06-02T19:00:42.666Z"
   },
   {
    "duration": 302,
    "start_time": "2022-06-02T19:00:47.819Z"
   },
   {
    "duration": 299,
    "start_time": "2022-06-02T19:01:01.222Z"
   },
   {
    "duration": 1413,
    "start_time": "2022-06-02T19:02:08.337Z"
   },
   {
    "duration": 99,
    "start_time": "2022-06-02T19:02:09.765Z"
   },
   {
    "duration": 18,
    "start_time": "2022-06-02T19:02:09.871Z"
   },
   {
    "duration": 21,
    "start_time": "2022-06-02T19:02:09.890Z"
   },
   {
    "duration": 28,
    "start_time": "2022-06-02T19:02:09.913Z"
   },
   {
    "duration": 34,
    "start_time": "2022-06-02T19:02:09.942Z"
   },
   {
    "duration": 11,
    "start_time": "2022-06-02T19:02:09.977Z"
   },
   {
    "duration": 15,
    "start_time": "2022-06-02T19:02:09.990Z"
   },
   {
    "duration": 22,
    "start_time": "2022-06-02T19:02:10.007Z"
   },
   {
    "duration": 56,
    "start_time": "2022-06-02T19:02:10.031Z"
   },
   {
    "duration": 10,
    "start_time": "2022-06-02T19:02:10.089Z"
   },
   {
    "duration": 17,
    "start_time": "2022-06-02T19:02:10.101Z"
   },
   {
    "duration": 47,
    "start_time": "2022-06-02T19:02:10.119Z"
   },
   {
    "duration": 112,
    "start_time": "2022-06-02T19:02:10.169Z"
   },
   {
    "duration": 8,
    "start_time": "2022-06-02T19:02:10.282Z"
   },
   {
    "duration": 11,
    "start_time": "2022-06-02T19:02:10.292Z"
   },
   {
    "duration": 32,
    "start_time": "2022-06-02T19:02:10.305Z"
   },
   {
    "duration": 12,
    "start_time": "2022-06-02T19:02:10.339Z"
   },
   {
    "duration": 39,
    "start_time": "2022-06-02T19:02:10.354Z"
   },
   {
    "duration": 12,
    "start_time": "2022-06-02T19:02:10.395Z"
   },
   {
    "duration": 35,
    "start_time": "2022-06-02T19:02:10.409Z"
   },
   {
    "duration": 428,
    "start_time": "2022-06-02T19:02:10.446Z"
   },
   {
    "duration": 0,
    "start_time": "2022-06-02T19:02:10.879Z"
   },
   {
    "duration": 0,
    "start_time": "2022-06-02T19:02:10.881Z"
   },
   {
    "duration": 0,
    "start_time": "2022-06-02T19:02:10.883Z"
   },
   {
    "duration": 0,
    "start_time": "2022-06-02T19:02:10.885Z"
   },
   {
    "duration": 1264,
    "start_time": "2022-06-02T19:02:29.650Z"
   },
   {
    "duration": 95,
    "start_time": "2022-06-02T19:02:30.916Z"
   },
   {
    "duration": 29,
    "start_time": "2022-06-02T19:02:31.013Z"
   },
   {
    "duration": 44,
    "start_time": "2022-06-02T19:02:31.053Z"
   },
   {
    "duration": 56,
    "start_time": "2022-06-02T19:02:31.100Z"
   },
   {
    "duration": 28,
    "start_time": "2022-06-02T19:02:31.159Z"
   },
   {
    "duration": 30,
    "start_time": "2022-06-02T19:02:31.189Z"
   },
   {
    "duration": 54,
    "start_time": "2022-06-02T19:02:31.220Z"
   },
   {
    "duration": 42,
    "start_time": "2022-06-02T19:02:31.277Z"
   },
   {
    "duration": 58,
    "start_time": "2022-06-02T19:02:31.323Z"
   },
   {
    "duration": 21,
    "start_time": "2022-06-02T19:02:31.383Z"
   },
   {
    "duration": 62,
    "start_time": "2022-06-02T19:02:31.406Z"
   },
   {
    "duration": 41,
    "start_time": "2022-06-02T19:02:31.470Z"
   },
   {
    "duration": 174,
    "start_time": "2022-06-02T19:02:31.513Z"
   },
   {
    "duration": 14,
    "start_time": "2022-06-02T19:02:31.693Z"
   },
   {
    "duration": 65,
    "start_time": "2022-06-02T19:02:31.710Z"
   },
   {
    "duration": 54,
    "start_time": "2022-06-02T19:02:31.780Z"
   },
   {
    "duration": 60,
    "start_time": "2022-06-02T19:02:31.835Z"
   },
   {
    "duration": 105,
    "start_time": "2022-06-02T19:02:31.898Z"
   },
   {
    "duration": 32,
    "start_time": "2022-06-02T19:02:32.005Z"
   },
   {
    "duration": 110,
    "start_time": "2022-06-02T19:02:32.039Z"
   },
   {
    "duration": 40,
    "start_time": "2022-06-02T19:02:32.151Z"
   },
   {
    "duration": 27,
    "start_time": "2022-06-02T19:02:32.193Z"
   },
   {
    "duration": 67,
    "start_time": "2022-06-02T19:02:32.223Z"
   },
   {
    "duration": 452,
    "start_time": "2022-06-02T19:02:32.292Z"
   },
   {
    "duration": 318,
    "start_time": "2022-06-02T19:02:57.437Z"
   },
   {
    "duration": 243,
    "start_time": "2022-06-02T19:03:14.359Z"
   },
   {
    "duration": 265,
    "start_time": "2022-06-02T19:03:17.740Z"
   },
   {
    "duration": 241,
    "start_time": "2022-06-02T19:03:23.797Z"
   },
   {
    "duration": 214,
    "start_time": "2022-06-02T19:03:27.111Z"
   },
   {
    "duration": 239,
    "start_time": "2022-06-02T19:04:07.854Z"
   },
   {
    "duration": 12,
    "start_time": "2022-06-02T19:04:24.519Z"
   },
   {
    "duration": 17,
    "start_time": "2022-06-02T19:04:25.179Z"
   },
   {
    "duration": 315,
    "start_time": "2022-06-02T19:04:26.157Z"
   },
   {
    "duration": 252,
    "start_time": "2022-06-02T19:04:50.504Z"
   },
   {
    "duration": 120,
    "start_time": "2022-06-02T19:06:55.814Z"
   },
   {
    "duration": 8,
    "start_time": "2022-06-02T19:06:59.806Z"
   },
   {
    "duration": 18,
    "start_time": "2022-06-02T19:33:05.183Z"
   },
   {
    "duration": 261,
    "start_time": "2022-06-02T19:33:25.306Z"
   },
   {
    "duration": 18,
    "start_time": "2022-06-02T19:35:22.644Z"
   },
   {
    "duration": 26,
    "start_time": "2022-06-02T19:35:37.632Z"
   },
   {
    "duration": 8,
    "start_time": "2022-06-02T19:36:15.420Z"
   },
   {
    "duration": 9,
    "start_time": "2022-06-02T19:36:16.270Z"
   },
   {
    "duration": 185,
    "start_time": "2022-06-02T19:36:20.413Z"
   },
   {
    "duration": 286,
    "start_time": "2022-06-02T19:38:57.336Z"
   },
   {
    "duration": 223,
    "start_time": "2022-06-02T19:39:41.701Z"
   },
   {
    "duration": 10,
    "start_time": "2022-06-02T19:40:32.327Z"
   },
   {
    "duration": 7,
    "start_time": "2022-06-02T19:40:36.699Z"
   },
   {
    "duration": 12,
    "start_time": "2022-06-02T19:40:48.090Z"
   },
   {
    "duration": 8,
    "start_time": "2022-06-02T19:40:57.478Z"
   },
   {
    "duration": 9,
    "start_time": "2022-06-02T19:41:00.353Z"
   },
   {
    "duration": 3,
    "start_time": "2022-06-02T19:41:07.490Z"
   },
   {
    "duration": 8,
    "start_time": "2022-06-02T19:41:08.934Z"
   },
   {
    "duration": 268,
    "start_time": "2022-06-02T19:41:10.600Z"
   },
   {
    "duration": 216,
    "start_time": "2022-06-02T19:41:19.122Z"
   },
   {
    "duration": 204,
    "start_time": "2022-06-02T19:42:13.721Z"
   },
   {
    "duration": 201,
    "start_time": "2022-06-02T19:42:32.105Z"
   },
   {
    "duration": 6,
    "start_time": "2022-06-02T19:42:36.101Z"
   },
   {
    "duration": 3,
    "start_time": "2022-06-02T19:42:36.803Z"
   },
   {
    "duration": 7,
    "start_time": "2022-06-02T19:42:37.433Z"
   },
   {
    "duration": 178,
    "start_time": "2022-06-02T19:42:38.505Z"
   },
   {
    "duration": 169,
    "start_time": "2022-06-02T19:43:33.760Z"
   },
   {
    "duration": 212,
    "start_time": "2022-06-02T19:44:31.792Z"
   },
   {
    "duration": 216,
    "start_time": "2022-06-02T19:45:39.491Z"
   },
   {
    "duration": 179,
    "start_time": "2022-06-02T19:45:46.179Z"
   },
   {
    "duration": 260,
    "start_time": "2022-06-02T19:47:15.915Z"
   },
   {
    "duration": 182,
    "start_time": "2022-06-02T19:47:53.613Z"
   },
   {
    "duration": 192,
    "start_time": "2022-06-02T19:49:27.822Z"
   },
   {
    "duration": 210,
    "start_time": "2022-06-02T19:49:51.530Z"
   },
   {
    "duration": 223,
    "start_time": "2022-06-02T19:49:55.114Z"
   },
   {
    "duration": 41,
    "start_time": "2022-06-02T19:50:12.653Z"
   },
   {
    "duration": 20,
    "start_time": "2022-06-02T19:50:37.400Z"
   },
   {
    "duration": 221,
    "start_time": "2022-06-02T19:50:39.336Z"
   },
   {
    "duration": 4,
    "start_time": "2022-06-02T19:50:43.558Z"
   },
   {
    "duration": 156,
    "start_time": "2022-06-02T19:50:44.726Z"
   },
   {
    "duration": 177,
    "start_time": "2022-06-02T19:51:57.354Z"
   },
   {
    "duration": 181,
    "start_time": "2022-06-02T19:52:02.453Z"
   },
   {
    "duration": 165,
    "start_time": "2022-06-02T19:52:04.461Z"
   },
   {
    "duration": 11,
    "start_time": "2022-06-02T19:55:22.950Z"
   },
   {
    "duration": 255,
    "start_time": "2022-06-02T19:55:31.575Z"
   },
   {
    "duration": 4,
    "start_time": "2022-06-02T19:56:06.736Z"
   },
   {
    "duration": 7,
    "start_time": "2022-06-02T19:56:07.667Z"
   },
   {
    "duration": 349,
    "start_time": "2022-06-02T19:56:09.301Z"
   },
   {
    "duration": 188,
    "start_time": "2022-06-02T20:00:52.213Z"
   },
   {
    "duration": 190,
    "start_time": "2022-06-02T20:00:57.532Z"
   },
   {
    "duration": 215,
    "start_time": "2022-06-02T20:01:05.502Z"
   },
   {
    "duration": 218,
    "start_time": "2022-06-02T20:01:39.406Z"
   },
   {
    "duration": 145,
    "start_time": "2022-06-02T20:02:18.608Z"
   },
   {
    "duration": 139,
    "start_time": "2022-06-02T20:02:28.658Z"
   },
   {
    "duration": 140,
    "start_time": "2022-06-02T20:02:34.854Z"
   },
   {
    "duration": 11,
    "start_time": "2022-06-02T20:02:55.202Z"
   },
   {
    "duration": 86,
    "start_time": "2022-06-02T20:03:02.755Z"
   },
   {
    "duration": 200,
    "start_time": "2022-06-02T20:03:24.611Z"
   },
   {
    "duration": 205,
    "start_time": "2022-06-02T20:03:49.914Z"
   },
   {
    "duration": 287,
    "start_time": "2022-06-02T20:03:59.858Z"
   },
   {
    "duration": 10,
    "start_time": "2022-06-02T20:04:10.563Z"
   },
   {
    "duration": 186,
    "start_time": "2022-06-02T20:04:14.314Z"
   },
   {
    "duration": 184,
    "start_time": "2022-06-02T20:04:20.256Z"
   },
   {
    "duration": 177,
    "start_time": "2022-06-02T20:04:52.388Z"
   },
   {
    "duration": 182,
    "start_time": "2022-06-02T20:04:53.828Z"
   },
   {
    "duration": 208,
    "start_time": "2022-06-02T20:05:01.133Z"
   },
   {
    "duration": 217,
    "start_time": "2022-06-02T20:05:30.069Z"
   },
   {
    "duration": 208,
    "start_time": "2022-06-02T20:05:35.277Z"
   },
   {
    "duration": 216,
    "start_time": "2022-06-02T20:05:56.890Z"
   },
   {
    "duration": 12,
    "start_time": "2022-06-02T20:07:20.404Z"
   },
   {
    "duration": 164,
    "start_time": "2022-06-02T20:07:35.364Z"
   },
   {
    "duration": 318,
    "start_time": "2022-06-02T20:07:44.391Z"
   },
   {
    "duration": 194,
    "start_time": "2022-06-02T20:08:18.971Z"
   },
   {
    "duration": 220,
    "start_time": "2022-06-02T20:08:57.357Z"
   },
   {
    "duration": 211,
    "start_time": "2022-06-02T20:09:02.146Z"
   },
   {
    "duration": 217,
    "start_time": "2022-06-02T20:09:32.420Z"
   },
   {
    "duration": 227,
    "start_time": "2022-06-02T20:09:36.745Z"
   },
   {
    "duration": 209,
    "start_time": "2022-06-02T20:09:39.676Z"
   },
   {
    "duration": 231,
    "start_time": "2022-06-02T20:10:05.466Z"
   },
   {
    "duration": 220,
    "start_time": "2022-06-02T20:10:06.804Z"
   },
   {
    "duration": 261,
    "start_time": "2022-06-02T20:10:08.713Z"
   },
   {
    "duration": 244,
    "start_time": "2022-06-02T20:10:18.490Z"
   },
   {
    "duration": 315,
    "start_time": "2022-06-02T20:10:53.168Z"
   },
   {
    "duration": 444,
    "start_time": "2022-06-02T20:11:58.404Z"
   },
   {
    "duration": 5,
    "start_time": "2022-06-02T20:12:15.963Z"
   },
   {
    "duration": 6,
    "start_time": "2022-06-02T20:12:21.391Z"
   },
   {
    "duration": 9,
    "start_time": "2022-06-02T20:12:30.080Z"
   },
   {
    "duration": 10,
    "start_time": "2022-06-02T20:12:44.504Z"
   },
   {
    "duration": 9,
    "start_time": "2022-06-02T20:12:45.524Z"
   },
   {
    "duration": 9,
    "start_time": "2022-06-02T20:12:50.708Z"
   },
   {
    "duration": 6,
    "start_time": "2022-06-02T20:12:53.340Z"
   },
   {
    "duration": 4,
    "start_time": "2022-06-02T20:12:54.014Z"
   },
   {
    "duration": 11,
    "start_time": "2022-06-02T20:12:55.047Z"
   },
   {
    "duration": 216,
    "start_time": "2022-06-02T20:13:00.840Z"
   },
   {
    "duration": 18,
    "start_time": "2022-06-02T20:14:25.536Z"
   },
   {
    "duration": 7,
    "start_time": "2022-06-02T20:17:48.868Z"
   },
   {
    "duration": 8,
    "start_time": "2022-06-02T20:17:52.818Z"
   },
   {
    "duration": 5,
    "start_time": "2022-06-02T20:18:08.667Z"
   },
   {
    "duration": 8,
    "start_time": "2022-06-02T20:18:09.386Z"
   },
   {
    "duration": 8,
    "start_time": "2022-06-02T20:18:11.733Z"
   },
   {
    "duration": 5,
    "start_time": "2022-06-02T20:18:12.410Z"
   },
   {
    "duration": 8,
    "start_time": "2022-06-02T20:18:13.116Z"
   },
   {
    "duration": 5,
    "start_time": "2022-06-02T20:18:20.085Z"
   },
   {
    "duration": 8,
    "start_time": "2022-06-02T20:18:20.604Z"
   },
   {
    "duration": 8,
    "start_time": "2022-06-02T20:18:29.370Z"
   },
   {
    "duration": 8,
    "start_time": "2022-06-02T20:18:33.809Z"
   },
   {
    "duration": 8,
    "start_time": "2022-06-02T20:18:42.430Z"
   },
   {
    "duration": 5,
    "start_time": "2022-06-02T20:18:42.971Z"
   },
   {
    "duration": 6,
    "start_time": "2022-06-02T20:18:43.530Z"
   },
   {
    "duration": 25,
    "start_time": "2022-06-02T20:18:53.900Z"
   },
   {
    "duration": 161,
    "start_time": "2022-06-02T20:18:58.187Z"
   },
   {
    "duration": 186,
    "start_time": "2022-06-02T20:19:33.872Z"
   },
   {
    "duration": 38,
    "start_time": "2022-06-02T20:21:33.664Z"
   },
   {
    "duration": 20,
    "start_time": "2022-06-02T20:21:40.455Z"
   },
   {
    "duration": 7,
    "start_time": "2022-06-02T20:21:46.013Z"
   },
   {
    "duration": 4,
    "start_time": "2022-06-02T20:21:46.715Z"
   },
   {
    "duration": 7,
    "start_time": "2022-06-02T20:21:47.396Z"
   },
   {
    "duration": 188,
    "start_time": "2022-06-02T20:21:49.181Z"
   },
   {
    "duration": 158,
    "start_time": "2022-06-02T20:22:45.865Z"
   },
   {
    "duration": 151,
    "start_time": "2022-06-02T20:22:58.079Z"
   },
   {
    "duration": 14,
    "start_time": "2022-06-02T20:25:37.046Z"
   },
   {
    "duration": 18,
    "start_time": "2022-06-02T20:27:59.618Z"
   },
   {
    "duration": 17,
    "start_time": "2022-06-02T20:28:14.557Z"
   },
   {
    "duration": 5,
    "start_time": "2022-06-02T20:30:39.911Z"
   },
   {
    "duration": 21,
    "start_time": "2022-06-02T20:30:48.428Z"
   },
   {
    "duration": 44,
    "start_time": "2022-06-02T20:32:51.758Z"
   },
   {
    "duration": 14,
    "start_time": "2022-06-02T20:33:03.218Z"
   },
   {
    "duration": 17,
    "start_time": "2022-06-02T20:33:10.897Z"
   },
   {
    "duration": 11,
    "start_time": "2022-06-02T20:36:05.078Z"
   },
   {
    "duration": 13,
    "start_time": "2022-06-02T20:36:15.344Z"
   },
   {
    "duration": 14,
    "start_time": "2022-06-02T20:36:56.487Z"
   },
   {
    "duration": 15,
    "start_time": "2022-06-02T20:38:06.457Z"
   },
   {
    "duration": 18,
    "start_time": "2022-06-02T20:38:09.529Z"
   },
   {
    "duration": 14,
    "start_time": "2022-06-02T20:38:38.361Z"
   },
   {
    "duration": 20,
    "start_time": "2022-06-02T20:39:03.330Z"
   },
   {
    "duration": 18,
    "start_time": "2022-06-02T20:39:40.430Z"
   },
   {
    "duration": 20,
    "start_time": "2022-06-02T20:39:44.978Z"
   },
   {
    "duration": 10,
    "start_time": "2022-06-02T20:40:06.715Z"
   },
   {
    "duration": 9,
    "start_time": "2022-06-02T20:40:11.309Z"
   },
   {
    "duration": 17,
    "start_time": "2022-06-02T20:40:14.459Z"
   },
   {
    "duration": 17,
    "start_time": "2022-06-02T20:40:42.964Z"
   },
   {
    "duration": 11,
    "start_time": "2022-06-02T20:40:45.735Z"
   },
   {
    "duration": 5,
    "start_time": "2022-06-02T20:41:12.760Z"
   },
   {
    "duration": 9,
    "start_time": "2022-06-02T20:41:15.595Z"
   },
   {
    "duration": 4,
    "start_time": "2022-06-02T20:42:41.313Z"
   },
   {
    "duration": 8,
    "start_time": "2022-06-02T20:42:44.403Z"
   },
   {
    "duration": 10,
    "start_time": "2022-06-02T20:43:04.843Z"
   },
   {
    "duration": 9,
    "start_time": "2022-06-02T20:43:16.224Z"
   },
   {
    "duration": 13,
    "start_time": "2022-06-02T20:46:18.973Z"
   },
   {
    "duration": 4,
    "start_time": "2022-06-02T20:46:49.981Z"
   },
   {
    "duration": 7,
    "start_time": "2022-06-02T20:46:54.612Z"
   },
   {
    "duration": 495,
    "start_time": "2022-06-02T20:47:04.670Z"
   },
   {
    "duration": 4,
    "start_time": "2022-06-02T20:47:16.370Z"
   },
   {
    "duration": 14,
    "start_time": "2022-06-02T20:47:17.904Z"
   },
   {
    "duration": 12,
    "start_time": "2022-06-02T20:47:24.150Z"
   },
   {
    "duration": 12,
    "start_time": "2022-06-02T20:47:25.962Z"
   },
   {
    "duration": 519,
    "start_time": "2022-06-02T20:48:03.095Z"
   },
   {
    "duration": 9,
    "start_time": "2022-06-02T20:48:07.445Z"
   },
   {
    "duration": 8,
    "start_time": "2022-06-02T20:48:08.583Z"
   },
   {
    "duration": 8,
    "start_time": "2022-06-02T20:48:12.487Z"
   },
   {
    "duration": 15,
    "start_time": "2022-06-02T20:48:16.231Z"
   },
   {
    "duration": 10,
    "start_time": "2022-06-02T20:48:17.047Z"
   },
   {
    "duration": 5,
    "start_time": "2022-06-02T20:48:19.133Z"
   },
   {
    "duration": 9,
    "start_time": "2022-06-02T20:48:19.929Z"
   },
   {
    "duration": 5,
    "start_time": "2022-06-02T20:48:24.230Z"
   },
   {
    "duration": 9,
    "start_time": "2022-06-02T20:48:41.312Z"
   },
   {
    "duration": 8,
    "start_time": "2022-06-02T20:48:43.487Z"
   },
   {
    "duration": 11,
    "start_time": "2022-06-02T20:51:43.399Z"
   },
   {
    "duration": 4,
    "start_time": "2022-06-02T20:51:50.499Z"
   },
   {
    "duration": 12,
    "start_time": "2022-06-02T20:51:51.967Z"
   },
   {
    "duration": 21,
    "start_time": "2022-06-02T20:52:23.632Z"
   },
   {
    "duration": 226,
    "start_time": "2022-06-02T20:52:45.370Z"
   },
   {
    "duration": 4,
    "start_time": "2022-06-02T20:52:58.426Z"
   },
   {
    "duration": 8,
    "start_time": "2022-06-02T20:52:59.080Z"
   },
   {
    "duration": 221,
    "start_time": "2022-06-02T20:53:00.136Z"
   },
   {
    "duration": 39,
    "start_time": "2022-06-02T20:55:08.577Z"
   },
   {
    "duration": 222,
    "start_time": "2022-06-02T20:56:44.858Z"
   },
   {
    "duration": 332,
    "start_time": "2022-06-02T20:57:02.515Z"
   },
   {
    "duration": 16,
    "start_time": "2022-06-02T20:58:55.817Z"
   },
   {
    "duration": 14,
    "start_time": "2022-06-02T21:01:59.432Z"
   },
   {
    "duration": 15,
    "start_time": "2022-06-02T21:02:04.531Z"
   },
   {
    "duration": 15,
    "start_time": "2022-06-02T21:02:15.825Z"
   },
   {
    "duration": 17,
    "start_time": "2022-06-02T21:02:40.316Z"
   },
   {
    "duration": 17,
    "start_time": "2022-06-02T21:02:56.325Z"
   },
   {
    "duration": 17,
    "start_time": "2022-06-02T21:03:01.695Z"
   },
   {
    "duration": 13,
    "start_time": "2022-06-02T21:03:19.888Z"
   },
   {
    "duration": 21,
    "start_time": "2022-06-02T21:03:50.434Z"
   },
   {
    "duration": 22,
    "start_time": "2022-06-02T21:03:58.845Z"
   },
   {
    "duration": 27,
    "start_time": "2022-06-02T21:04:05.073Z"
   },
   {
    "duration": 16,
    "start_time": "2022-06-02T21:05:14.155Z"
   },
   {
    "duration": 6,
    "start_time": "2022-06-02T21:05:58.364Z"
   },
   {
    "duration": 12,
    "start_time": "2022-06-02T21:06:01.770Z"
   },
   {
    "duration": 21,
    "start_time": "2022-06-02T21:06:12.434Z"
   },
   {
    "duration": 9,
    "start_time": "2022-06-02T21:06:26.250Z"
   },
   {
    "duration": 13,
    "start_time": "2022-06-02T21:06:42.868Z"
   },
   {
    "duration": 10,
    "start_time": "2022-06-02T21:06:48.242Z"
   },
   {
    "duration": 11,
    "start_time": "2022-06-02T21:07:03.689Z"
   },
   {
    "duration": 8,
    "start_time": "2022-06-02T21:07:08.262Z"
   },
   {
    "duration": 8,
    "start_time": "2022-06-02T21:07:29.073Z"
   },
   {
    "duration": 9,
    "start_time": "2022-06-02T21:07:38.907Z"
   },
   {
    "duration": 9,
    "start_time": "2022-06-02T21:08:40.965Z"
   },
   {
    "duration": 21,
    "start_time": "2022-06-02T21:09:56.841Z"
   },
   {
    "duration": 4,
    "start_time": "2022-06-02T21:10:57.365Z"
   },
   {
    "duration": 13,
    "start_time": "2022-06-02T21:14:20.567Z"
   },
   {
    "duration": 13,
    "start_time": "2022-06-02T21:14:21.391Z"
   },
   {
    "duration": 13,
    "start_time": "2022-06-02T21:14:24.391Z"
   },
   {
    "duration": 13,
    "start_time": "2022-06-02T21:15:20.405Z"
   },
   {
    "duration": 5,
    "start_time": "2022-06-02T21:17:17.047Z"
   },
   {
    "duration": 8,
    "start_time": "2022-06-02T21:18:19.079Z"
   },
   {
    "duration": 10,
    "start_time": "2022-06-02T21:18:22.710Z"
   },
   {
    "duration": 4,
    "start_time": "2022-06-02T21:24:50.555Z"
   },
   {
    "duration": 12,
    "start_time": "2022-06-02T21:24:58.611Z"
   },
   {
    "duration": 3,
    "start_time": "2022-06-02T21:25:42.382Z"
   },
   {
    "duration": 11,
    "start_time": "2022-06-02T21:25:43.148Z"
   },
   {
    "duration": 10,
    "start_time": "2022-06-02T21:26:35.722Z"
   },
   {
    "duration": 5,
    "start_time": "2022-06-02T21:27:07.363Z"
   },
   {
    "duration": 12,
    "start_time": "2022-06-02T21:27:11.308Z"
   },
   {
    "duration": 10,
    "start_time": "2022-06-02T21:27:22.365Z"
   },
   {
    "duration": 4,
    "start_time": "2022-06-02T21:31:08.488Z"
   },
   {
    "duration": 4,
    "start_time": "2022-06-02T21:31:09.246Z"
   },
   {
    "duration": 12,
    "start_time": "2022-06-02T21:31:26.242Z"
   },
   {
    "duration": 2,
    "start_time": "2022-06-02T21:32:00.979Z"
   },
   {
    "duration": 4,
    "start_time": "2022-06-02T21:32:02.790Z"
   },
   {
    "duration": 12,
    "start_time": "2022-06-02T21:32:04.542Z"
   },
   {
    "duration": 5,
    "start_time": "2022-06-02T21:33:57.563Z"
   },
   {
    "duration": 19,
    "start_time": "2022-06-02T21:34:01.103Z"
   },
   {
    "duration": 11,
    "start_time": "2022-06-02T21:34:09.171Z"
   },
   {
    "duration": 4,
    "start_time": "2022-06-02T21:34:28.020Z"
   },
   {
    "duration": 12,
    "start_time": "2022-06-02T21:34:28.881Z"
   },
   {
    "duration": 16,
    "start_time": "2022-06-02T21:34:37.749Z"
   },
   {
    "duration": 188,
    "start_time": "2022-06-02T21:36:38.720Z"
   },
   {
    "duration": 267,
    "start_time": "2022-06-02T21:36:59.708Z"
   },
   {
    "duration": 304,
    "start_time": "2022-06-02T21:37:33.666Z"
   },
   {
    "duration": 347,
    "start_time": "2022-06-02T21:38:36.074Z"
   },
   {
    "duration": 4,
    "start_time": "2022-06-02T21:39:43.377Z"
   },
   {
    "duration": 5,
    "start_time": "2022-06-02T21:39:43.810Z"
   },
   {
    "duration": 3,
    "start_time": "2022-06-02T21:39:44.727Z"
   },
   {
    "duration": 4,
    "start_time": "2022-06-02T21:39:45.081Z"
   },
   {
    "duration": 5,
    "start_time": "2022-06-02T21:39:45.569Z"
   },
   {
    "duration": 12,
    "start_time": "2022-06-02T21:39:46.589Z"
   },
   {
    "duration": 13,
    "start_time": "2022-06-02T21:39:47.468Z"
   },
   {
    "duration": 321,
    "start_time": "2022-06-02T21:39:48.330Z"
   },
   {
    "duration": 4,
    "start_time": "2022-06-02T21:40:47.439Z"
   },
   {
    "duration": 10,
    "start_time": "2022-06-02T21:40:58.363Z"
   },
   {
    "duration": 17,
    "start_time": "2022-06-02T21:41:54.421Z"
   },
   {
    "duration": 5,
    "start_time": "2022-06-02T21:42:11.582Z"
   },
   {
    "duration": 5,
    "start_time": "2022-06-02T21:42:11.988Z"
   },
   {
    "duration": 3,
    "start_time": "2022-06-02T21:42:12.738Z"
   },
   {
    "duration": 4,
    "start_time": "2022-06-02T21:42:13.158Z"
   },
   {
    "duration": 4,
    "start_time": "2022-06-02T21:42:13.532Z"
   },
   {
    "duration": 13,
    "start_time": "2022-06-02T21:42:13.968Z"
   },
   {
    "duration": 14,
    "start_time": "2022-06-02T21:42:14.884Z"
   },
   {
    "duration": 336,
    "start_time": "2022-06-02T21:42:15.812Z"
   },
   {
    "duration": 16,
    "start_time": "2022-06-02T21:42:18.068Z"
   },
   {
    "duration": 5,
    "start_time": "2022-06-02T21:43:05.987Z"
   },
   {
    "duration": 4,
    "start_time": "2022-06-02T21:43:06.756Z"
   },
   {
    "duration": 11,
    "start_time": "2022-06-02T21:43:07.353Z"
   },
   {
    "duration": 15,
    "start_time": "2022-06-02T21:43:08.144Z"
   },
   {
    "duration": 321,
    "start_time": "2022-06-02T21:43:09.109Z"
   },
   {
    "duration": 8,
    "start_time": "2022-06-02T21:43:10.350Z"
   },
   {
    "duration": 8,
    "start_time": "2022-06-02T21:43:17.037Z"
   },
   {
    "duration": 16,
    "start_time": "2022-06-02T21:43:21.773Z"
   },
   {
    "duration": 1182,
    "start_time": "2022-06-02T21:43:36.964Z"
   },
   {
    "duration": 69,
    "start_time": "2022-06-02T21:43:38.150Z"
   },
   {
    "duration": 13,
    "start_time": "2022-06-02T21:43:38.221Z"
   },
   {
    "duration": 24,
    "start_time": "2022-06-02T21:43:38.236Z"
   },
   {
    "duration": 29,
    "start_time": "2022-06-02T21:43:38.262Z"
   },
   {
    "duration": 6,
    "start_time": "2022-06-02T21:43:38.292Z"
   },
   {
    "duration": 20,
    "start_time": "2022-06-02T21:43:38.299Z"
   },
   {
    "duration": 26,
    "start_time": "2022-06-02T21:43:38.321Z"
   },
   {
    "duration": 17,
    "start_time": "2022-06-02T21:43:38.350Z"
   },
   {
    "duration": 31,
    "start_time": "2022-06-02T21:43:38.369Z"
   },
   {
    "duration": 16,
    "start_time": "2022-06-02T21:43:38.402Z"
   },
   {
    "duration": 26,
    "start_time": "2022-06-02T21:43:38.420Z"
   },
   {
    "duration": 25,
    "start_time": "2022-06-02T21:43:38.448Z"
   },
   {
    "duration": 120,
    "start_time": "2022-06-02T21:43:38.476Z"
   },
   {
    "duration": 7,
    "start_time": "2022-06-02T21:43:38.597Z"
   },
   {
    "duration": 23,
    "start_time": "2022-06-02T21:43:38.607Z"
   },
   {
    "duration": 29,
    "start_time": "2022-06-02T21:43:38.633Z"
   },
   {
    "duration": 22,
    "start_time": "2022-06-02T21:43:38.663Z"
   },
   {
    "duration": 23,
    "start_time": "2022-06-02T21:43:38.687Z"
   },
   {
    "duration": 28,
    "start_time": "2022-06-02T21:43:38.712Z"
   },
   {
    "duration": 64,
    "start_time": "2022-06-02T21:43:38.742Z"
   },
   {
    "duration": 18,
    "start_time": "2022-06-02T21:43:38.807Z"
   },
   {
    "duration": 36,
    "start_time": "2022-06-02T21:43:38.827Z"
   },
   {
    "duration": 17,
    "start_time": "2022-06-02T21:43:38.865Z"
   },
   {
    "duration": 20,
    "start_time": "2022-06-02T21:43:38.884Z"
   },
   {
    "duration": 35,
    "start_time": "2022-06-02T21:43:38.906Z"
   },
   {
    "duration": 303,
    "start_time": "2022-06-02T21:43:38.945Z"
   },
   {
    "duration": 7,
    "start_time": "2022-06-02T21:43:39.250Z"
   },
   {
    "duration": 20,
    "start_time": "2022-06-02T21:43:39.258Z"
   },
   {
    "duration": 26,
    "start_time": "2022-06-02T21:43:39.279Z"
   },
   {
    "duration": 180,
    "start_time": "2022-06-02T21:43:39.307Z"
   },
   {
    "duration": 14,
    "start_time": "2022-06-02T21:43:39.489Z"
   },
   {
    "duration": 25,
    "start_time": "2022-06-02T21:43:39.505Z"
   },
   {
    "duration": 34,
    "start_time": "2022-06-02T21:43:39.532Z"
   },
   {
    "duration": 22,
    "start_time": "2022-06-02T21:43:39.568Z"
   },
   {
    "duration": 27,
    "start_time": "2022-06-02T21:43:39.592Z"
   },
   {
    "duration": 28,
    "start_time": "2022-06-02T21:43:39.621Z"
   },
   {
    "duration": 206,
    "start_time": "2022-06-02T21:43:39.650Z"
   },
   {
    "duration": 6,
    "start_time": "2022-06-02T21:43:39.857Z"
   },
   {
    "duration": 19,
    "start_time": "2022-06-02T21:43:39.865Z"
   },
   {
    "duration": 18,
    "start_time": "2022-06-02T21:43:39.885Z"
   },
   {
    "duration": 27,
    "start_time": "2022-06-02T21:43:39.904Z"
   },
   {
    "duration": 24,
    "start_time": "2022-06-02T21:43:39.933Z"
   },
   {
    "duration": 10,
    "start_time": "2022-06-02T21:43:39.959Z"
   },
   {
    "duration": 22,
    "start_time": "2022-06-02T21:43:39.970Z"
   },
   {
    "duration": 35,
    "start_time": "2022-06-02T21:43:39.993Z"
   },
   {
    "duration": 36,
    "start_time": "2022-06-02T21:43:40.029Z"
   },
   {
    "duration": 34,
    "start_time": "2022-06-02T21:43:40.067Z"
   },
   {
    "duration": 342,
    "start_time": "2022-06-02T21:43:40.103Z"
   },
   {
    "duration": 9,
    "start_time": "2022-06-02T21:43:40.447Z"
   },
   {
    "duration": 1144,
    "start_time": "2022-06-02T21:44:20.174Z"
   },
   {
    "duration": 70,
    "start_time": "2022-06-02T21:44:21.320Z"
   },
   {
    "duration": 13,
    "start_time": "2022-06-02T21:44:21.391Z"
   },
   {
    "duration": 27,
    "start_time": "2022-06-02T21:44:21.406Z"
   },
   {
    "duration": 24,
    "start_time": "2022-06-02T21:44:21.435Z"
   },
   {
    "duration": 8,
    "start_time": "2022-06-02T21:44:21.461Z"
   },
   {
    "duration": 58,
    "start_time": "2022-06-02T21:44:21.470Z"
   },
   {
    "duration": 31,
    "start_time": "2022-06-02T21:44:21.530Z"
   },
   {
    "duration": 36,
    "start_time": "2022-06-02T21:44:21.563Z"
   },
   {
    "duration": 21,
    "start_time": "2022-06-02T21:44:21.603Z"
   },
   {
    "duration": 24,
    "start_time": "2022-06-02T21:44:21.626Z"
   },
   {
    "duration": 18,
    "start_time": "2022-06-02T21:44:21.652Z"
   },
   {
    "duration": 11,
    "start_time": "2022-06-02T21:44:21.673Z"
   },
   {
    "duration": 128,
    "start_time": "2022-06-02T21:44:21.686Z"
   },
   {
    "duration": 14,
    "start_time": "2022-06-02T21:44:21.816Z"
   },
   {
    "duration": 12,
    "start_time": "2022-06-02T21:44:21.832Z"
   },
   {
    "duration": 14,
    "start_time": "2022-06-02T21:44:21.845Z"
   },
   {
    "duration": 9,
    "start_time": "2022-06-02T21:44:21.860Z"
   },
   {
    "duration": 14,
    "start_time": "2022-06-02T21:44:21.871Z"
   },
   {
    "duration": 11,
    "start_time": "2022-06-02T21:44:21.887Z"
   },
   {
    "duration": 23,
    "start_time": "2022-06-02T21:44:21.927Z"
   },
   {
    "duration": 19,
    "start_time": "2022-06-02T21:44:21.952Z"
   },
   {
    "duration": 19,
    "start_time": "2022-06-02T21:44:21.973Z"
   },
   {
    "duration": 34,
    "start_time": "2022-06-02T21:44:21.994Z"
   },
   {
    "duration": 4,
    "start_time": "2022-06-02T21:44:22.030Z"
   },
   {
    "duration": 10,
    "start_time": "2022-06-02T21:44:22.036Z"
   },
   {
    "duration": 303,
    "start_time": "2022-06-02T21:44:22.047Z"
   },
   {
    "duration": 7,
    "start_time": "2022-06-02T21:44:22.353Z"
   },
   {
    "duration": 5,
    "start_time": "2022-06-02T21:44:22.361Z"
   },
   {
    "duration": 9,
    "start_time": "2022-06-02T21:44:22.367Z"
   },
   {
    "duration": 189,
    "start_time": "2022-06-02T21:44:22.378Z"
   },
   {
    "duration": 19,
    "start_time": "2022-06-02T21:44:22.569Z"
   },
   {
    "duration": 12,
    "start_time": "2022-06-02T21:44:22.591Z"
   },
   {
    "duration": 14,
    "start_time": "2022-06-02T21:44:22.605Z"
   },
   {
    "duration": 10,
    "start_time": "2022-06-02T21:44:22.621Z"
   },
   {
    "duration": 10,
    "start_time": "2022-06-02T21:44:22.632Z"
   },
   {
    "duration": 14,
    "start_time": "2022-06-02T21:44:22.644Z"
   },
   {
    "duration": 225,
    "start_time": "2022-06-02T21:44:22.661Z"
   },
   {
    "duration": 5,
    "start_time": "2022-06-02T21:44:22.888Z"
   },
   {
    "duration": 10,
    "start_time": "2022-06-02T21:44:22.895Z"
   },
   {
    "duration": 25,
    "start_time": "2022-06-02T21:44:22.906Z"
   },
   {
    "duration": 6,
    "start_time": "2022-06-02T21:44:22.933Z"
   },
   {
    "duration": 7,
    "start_time": "2022-06-02T21:44:22.941Z"
   },
   {
    "duration": 7,
    "start_time": "2022-06-02T21:44:22.950Z"
   },
   {
    "duration": 19,
    "start_time": "2022-06-02T21:44:22.959Z"
   },
   {
    "duration": 15,
    "start_time": "2022-06-02T21:44:22.979Z"
   },
   {
    "duration": 16,
    "start_time": "2022-06-02T21:44:22.996Z"
   },
   {
    "duration": 18,
    "start_time": "2022-06-02T21:44:23.014Z"
   },
   {
    "duration": 343,
    "start_time": "2022-06-02T21:44:23.034Z"
   },
   {
    "duration": 15,
    "start_time": "2022-06-02T21:44:23.379Z"
   },
   {
    "duration": 9,
    "start_time": "2022-06-02T21:44:32.749Z"
   },
   {
    "duration": 17,
    "start_time": "2022-06-02T21:44:44.785Z"
   },
   {
    "duration": 11,
    "start_time": "2022-06-02T21:45:13.831Z"
   },
   {
    "duration": 359,
    "start_time": "2022-06-02T21:50:15.177Z"
   },
   {
    "duration": 342,
    "start_time": "2022-06-02T21:59:48.649Z"
   },
   {
    "duration": 339,
    "start_time": "2022-06-02T22:00:39.128Z"
   },
   {
    "duration": 1212,
    "start_time": "2022-06-02T22:01:39.504Z"
   },
   {
    "duration": 76,
    "start_time": "2022-06-02T22:01:40.718Z"
   },
   {
    "duration": 13,
    "start_time": "2022-06-02T22:01:40.798Z"
   },
   {
    "duration": 13,
    "start_time": "2022-06-02T22:01:40.812Z"
   },
   {
    "duration": 26,
    "start_time": "2022-06-02T22:01:40.827Z"
   },
   {
    "duration": 7,
    "start_time": "2022-06-02T22:01:40.854Z"
   },
   {
    "duration": 10,
    "start_time": "2022-06-02T22:01:40.862Z"
   },
   {
    "duration": 14,
    "start_time": "2022-06-02T22:01:40.873Z"
   },
   {
    "duration": 16,
    "start_time": "2022-06-02T22:01:40.889Z"
   },
   {
    "duration": 35,
    "start_time": "2022-06-02T22:01:40.906Z"
   },
   {
    "duration": 8,
    "start_time": "2022-06-02T22:01:40.944Z"
   },
   {
    "duration": 16,
    "start_time": "2022-06-02T22:01:40.954Z"
   },
   {
    "duration": 8,
    "start_time": "2022-06-02T22:01:40.972Z"
   },
   {
    "duration": 110,
    "start_time": "2022-06-02T22:01:40.982Z"
   },
   {
    "duration": 7,
    "start_time": "2022-06-02T22:01:41.094Z"
   },
   {
    "duration": 13,
    "start_time": "2022-06-02T22:01:41.102Z"
   },
   {
    "duration": 37,
    "start_time": "2022-06-02T22:01:41.116Z"
   },
   {
    "duration": 9,
    "start_time": "2022-06-02T22:01:41.154Z"
   },
   {
    "duration": 13,
    "start_time": "2022-06-02T22:01:41.164Z"
   },
   {
    "duration": 10,
    "start_time": "2022-06-02T22:01:41.179Z"
   },
   {
    "duration": 41,
    "start_time": "2022-06-02T22:01:41.190Z"
   },
   {
    "duration": 19,
    "start_time": "2022-06-02T22:01:41.239Z"
   },
   {
    "duration": 20,
    "start_time": "2022-06-02T22:01:41.260Z"
   },
   {
    "duration": 15,
    "start_time": "2022-06-02T22:01:41.281Z"
   },
   {
    "duration": 9,
    "start_time": "2022-06-02T22:01:41.298Z"
   },
   {
    "duration": 11,
    "start_time": "2022-06-02T22:01:41.309Z"
   },
   {
    "duration": 343,
    "start_time": "2022-06-02T22:01:41.328Z"
   },
   {
    "duration": 8,
    "start_time": "2022-06-02T22:01:41.675Z"
   },
   {
    "duration": 16,
    "start_time": "2022-06-02T22:01:41.685Z"
   },
   {
    "duration": 19,
    "start_time": "2022-06-02T22:01:41.703Z"
   },
   {
    "duration": 219,
    "start_time": "2022-06-02T22:01:41.724Z"
   },
   {
    "duration": 15,
    "start_time": "2022-06-02T22:01:41.945Z"
   },
   {
    "duration": 8,
    "start_time": "2022-06-02T22:01:41.962Z"
   },
   {
    "duration": 7,
    "start_time": "2022-06-02T22:01:41.971Z"
   },
   {
    "duration": 6,
    "start_time": "2022-06-02T22:01:41.980Z"
   },
   {
    "duration": 14,
    "start_time": "2022-06-02T22:01:41.988Z"
   },
   {
    "duration": 26,
    "start_time": "2022-06-02T22:01:42.004Z"
   },
   {
    "duration": 221,
    "start_time": "2022-06-02T22:01:42.032Z"
   },
   {
    "duration": 6,
    "start_time": "2022-06-02T22:01:42.255Z"
   },
   {
    "duration": 9,
    "start_time": "2022-06-02T22:01:42.262Z"
   },
   {
    "duration": 5,
    "start_time": "2022-06-02T22:01:42.273Z"
   },
   {
    "duration": 7,
    "start_time": "2022-06-02T22:01:42.279Z"
   },
   {
    "duration": 8,
    "start_time": "2022-06-02T22:01:42.288Z"
   },
   {
    "duration": 9,
    "start_time": "2022-06-02T22:01:42.297Z"
   },
   {
    "duration": 30,
    "start_time": "2022-06-02T22:01:42.307Z"
   },
   {
    "duration": 14,
    "start_time": "2022-06-02T22:01:42.338Z"
   },
   {
    "duration": 20,
    "start_time": "2022-06-02T22:01:42.354Z"
   },
   {
    "duration": 366,
    "start_time": "2022-06-02T22:01:42.375Z"
   },
   {
    "duration": 3,
    "start_time": "2022-06-02T22:11:54.377Z"
   },
   {
    "duration": 4,
    "start_time": "2022-06-02T22:11:55.862Z"
   },
   {
    "duration": 822,
    "start_time": "2022-06-02T22:11:56.542Z"
   },
   {
    "duration": 0,
    "start_time": "2022-06-02T22:11:57.366Z"
   },
   {
    "duration": 4,
    "start_time": "2022-06-02T22:12:03.056Z"
   },
   {
    "duration": 10,
    "start_time": "2022-06-02T22:12:04.255Z"
   },
   {
    "duration": 13,
    "start_time": "2022-06-02T22:12:05.246Z"
   },
   {
    "duration": 318,
    "start_time": "2022-06-02T22:12:06.188Z"
   },
   {
    "duration": 340,
    "start_time": "2022-06-02T22:15:13.475Z"
   },
   {
    "duration": 326,
    "start_time": "2022-06-02T22:15:25.794Z"
   },
   {
    "duration": 321,
    "start_time": "2022-06-02T22:15:42.668Z"
   },
   {
    "duration": 14,
    "start_time": "2022-06-02T22:22:38.606Z"
   },
   {
    "duration": 33,
    "start_time": "2022-06-02T22:22:55.244Z"
   },
   {
    "duration": 17,
    "start_time": "2022-06-02T22:22:59.550Z"
   },
   {
    "duration": 19,
    "start_time": "2022-06-02T22:24:12.078Z"
   },
   {
    "duration": 24,
    "start_time": "2022-06-02T22:24:22.718Z"
   },
   {
    "duration": 11,
    "start_time": "2022-06-02T22:26:10.288Z"
   },
   {
    "duration": 295,
    "start_time": "2022-06-02T22:44:14.243Z"
   },
   {
    "duration": 298,
    "start_time": "2022-06-02T22:44:26.665Z"
   },
   {
    "duration": 303,
    "start_time": "2022-06-02T22:44:37.323Z"
   },
   {
    "duration": 297,
    "start_time": "2022-06-02T22:45:46.888Z"
   },
   {
    "duration": 415,
    "start_time": "2022-06-02T22:46:00.424Z"
   },
   {
    "duration": 302,
    "start_time": "2022-06-02T22:46:08.698Z"
   },
   {
    "duration": 1519,
    "start_time": "2022-06-02T22:51:00.899Z"
   },
   {
    "duration": 71,
    "start_time": "2022-06-02T22:51:02.420Z"
   },
   {
    "duration": 12,
    "start_time": "2022-06-02T22:51:02.493Z"
   },
   {
    "duration": 50,
    "start_time": "2022-06-02T22:51:02.506Z"
   },
   {
    "duration": 46,
    "start_time": "2022-06-02T22:51:02.558Z"
   },
   {
    "duration": 15,
    "start_time": "2022-06-02T22:51:02.605Z"
   },
   {
    "duration": 51,
    "start_time": "2022-06-02T22:51:02.621Z"
   },
   {
    "duration": 39,
    "start_time": "2022-06-02T22:51:02.674Z"
   },
   {
    "duration": 39,
    "start_time": "2022-06-02T22:51:02.715Z"
   },
   {
    "duration": 36,
    "start_time": "2022-06-02T22:51:02.756Z"
   },
   {
    "duration": 20,
    "start_time": "2022-06-02T22:51:02.794Z"
   },
   {
    "duration": 38,
    "start_time": "2022-06-02T22:51:02.816Z"
   },
   {
    "duration": 53,
    "start_time": "2022-06-02T22:51:02.855Z"
   },
   {
    "duration": 102,
    "start_time": "2022-06-02T22:51:02.912Z"
   },
   {
    "duration": 6,
    "start_time": "2022-06-02T22:51:03.016Z"
   },
   {
    "duration": 26,
    "start_time": "2022-06-02T22:51:03.023Z"
   },
   {
    "duration": 28,
    "start_time": "2022-06-02T22:51:03.051Z"
   },
   {
    "duration": 19,
    "start_time": "2022-06-02T22:51:03.080Z"
   },
   {
    "duration": 24,
    "start_time": "2022-06-02T22:51:03.100Z"
   },
   {
    "duration": 23,
    "start_time": "2022-06-02T22:51:03.125Z"
   },
   {
    "duration": 30,
    "start_time": "2022-06-02T22:51:03.149Z"
   },
   {
    "duration": 20,
    "start_time": "2022-06-02T22:51:03.181Z"
   },
   {
    "duration": 27,
    "start_time": "2022-06-02T22:51:03.203Z"
   },
   {
    "duration": 8,
    "start_time": "2022-06-02T22:51:03.232Z"
   },
   {
    "duration": 4,
    "start_time": "2022-06-02T22:51:03.242Z"
   },
   {
    "duration": 13,
    "start_time": "2022-06-02T22:51:03.248Z"
   },
   {
    "duration": 290,
    "start_time": "2022-06-02T22:51:03.262Z"
   },
   {
    "duration": 8,
    "start_time": "2022-06-02T22:51:03.556Z"
   },
   {
    "duration": 26,
    "start_time": "2022-06-02T22:51:03.566Z"
   },
   {
    "duration": 18,
    "start_time": "2022-06-02T22:51:03.594Z"
   },
   {
    "duration": 165,
    "start_time": "2022-06-02T22:51:03.614Z"
   },
   {
    "duration": 13,
    "start_time": "2022-06-02T22:51:03.781Z"
   },
   {
    "duration": 6,
    "start_time": "2022-06-02T22:51:03.796Z"
   },
   {
    "duration": 9,
    "start_time": "2022-06-02T22:51:03.803Z"
   },
   {
    "duration": 28,
    "start_time": "2022-06-02T22:51:03.813Z"
   },
   {
    "duration": 21,
    "start_time": "2022-06-02T22:51:03.842Z"
   },
   {
    "duration": 13,
    "start_time": "2022-06-02T22:51:03.864Z"
   },
   {
    "duration": 207,
    "start_time": "2022-06-02T22:51:03.879Z"
   },
   {
    "duration": 7,
    "start_time": "2022-06-02T22:51:04.087Z"
   },
   {
    "duration": 14,
    "start_time": "2022-06-02T22:51:04.095Z"
   },
   {
    "duration": 3,
    "start_time": "2022-06-02T22:51:04.113Z"
   },
   {
    "duration": 11,
    "start_time": "2022-06-02T22:51:04.126Z"
   },
   {
    "duration": 6,
    "start_time": "2022-06-02T22:51:04.138Z"
   },
   {
    "duration": 15,
    "start_time": "2022-06-02T22:51:04.145Z"
   },
   {
    "duration": 16,
    "start_time": "2022-06-02T22:51:04.161Z"
   },
   {
    "duration": 20,
    "start_time": "2022-06-02T22:51:04.178Z"
   },
   {
    "duration": 14,
    "start_time": "2022-06-02T22:51:04.199Z"
   },
   {
    "duration": 343,
    "start_time": "2022-06-02T22:51:04.214Z"
   },
   {
    "duration": 20,
    "start_time": "2022-06-02T22:51:04.559Z"
   },
   {
    "duration": 22,
    "start_time": "2022-06-02T22:51:04.580Z"
   },
   {
    "duration": 1592,
    "start_time": "2022-06-03T18:23:44.920Z"
   },
   {
    "duration": 380,
    "start_time": "2022-06-03T18:23:46.515Z"
   },
   {
    "duration": 17,
    "start_time": "2022-06-03T18:23:46.897Z"
   },
   {
    "duration": 30,
    "start_time": "2022-06-03T18:23:46.916Z"
   },
   {
    "duration": 58,
    "start_time": "2022-06-03T18:23:46.949Z"
   },
   {
    "duration": 6,
    "start_time": "2022-06-03T18:23:47.009Z"
   },
   {
    "duration": 26,
    "start_time": "2022-06-03T18:23:47.016Z"
   },
   {
    "duration": 57,
    "start_time": "2022-06-03T18:23:47.043Z"
   },
   {
    "duration": 16,
    "start_time": "2022-06-03T18:23:47.103Z"
   },
   {
    "duration": 62,
    "start_time": "2022-06-03T18:23:47.122Z"
   },
   {
    "duration": 10,
    "start_time": "2022-06-03T18:23:47.186Z"
   },
   {
    "duration": 15,
    "start_time": "2022-06-03T18:23:47.198Z"
   },
   {
    "duration": 25,
    "start_time": "2022-06-03T18:23:47.215Z"
   },
   {
    "duration": 164,
    "start_time": "2022-06-03T18:23:47.250Z"
   },
   {
    "duration": 7,
    "start_time": "2022-06-03T18:23:47.416Z"
   },
   {
    "duration": 54,
    "start_time": "2022-06-03T18:23:47.429Z"
   },
   {
    "duration": 11,
    "start_time": "2022-06-03T18:23:47.485Z"
   },
   {
    "duration": 8,
    "start_time": "2022-06-03T18:23:47.498Z"
   },
   {
    "duration": 12,
    "start_time": "2022-06-03T18:23:47.508Z"
   },
   {
    "duration": 22,
    "start_time": "2022-06-03T18:23:47.522Z"
   },
   {
    "duration": 70,
    "start_time": "2022-06-03T18:23:47.551Z"
   },
   {
    "duration": 55,
    "start_time": "2022-06-03T18:23:47.623Z"
   },
   {
    "duration": 29,
    "start_time": "2022-06-03T18:23:47.680Z"
   },
   {
    "duration": 7,
    "start_time": "2022-06-03T18:23:47.711Z"
   },
   {
    "duration": 5,
    "start_time": "2022-06-03T18:23:47.719Z"
   },
   {
    "duration": 72,
    "start_time": "2022-06-03T18:23:47.725Z"
   },
   {
    "duration": 374,
    "start_time": "2022-06-03T18:23:47.799Z"
   },
   {
    "duration": 8,
    "start_time": "2022-06-03T18:23:48.177Z"
   },
   {
    "duration": 6,
    "start_time": "2022-06-03T18:23:48.187Z"
   },
   {
    "duration": 10,
    "start_time": "2022-06-03T18:23:48.195Z"
   },
   {
    "duration": 196,
    "start_time": "2022-06-03T18:23:48.206Z"
   },
   {
    "duration": 14,
    "start_time": "2022-06-03T18:23:48.404Z"
   },
   {
    "duration": 26,
    "start_time": "2022-06-03T18:23:48.419Z"
   },
   {
    "duration": 44,
    "start_time": "2022-06-03T18:23:48.446Z"
   },
   {
    "duration": 6,
    "start_time": "2022-06-03T18:23:48.492Z"
   },
   {
    "duration": 6,
    "start_time": "2022-06-03T18:23:48.499Z"
   },
   {
    "duration": 13,
    "start_time": "2022-06-03T18:23:48.507Z"
   },
   {
    "duration": 277,
    "start_time": "2022-06-03T18:23:48.521Z"
   },
   {
    "duration": 6,
    "start_time": "2022-06-03T18:23:48.800Z"
   },
   {
    "duration": 35,
    "start_time": "2022-06-03T18:23:48.807Z"
   },
   {
    "duration": 14,
    "start_time": "2022-06-03T18:23:48.850Z"
   },
   {
    "duration": 18,
    "start_time": "2022-06-03T18:23:48.875Z"
   },
   {
    "duration": 8,
    "start_time": "2022-06-03T18:23:48.895Z"
   },
   {
    "duration": 9,
    "start_time": "2022-06-03T18:23:48.905Z"
   },
   {
    "duration": 67,
    "start_time": "2022-06-03T18:23:48.915Z"
   },
   {
    "duration": 18,
    "start_time": "2022-06-03T18:23:48.986Z"
   },
   {
    "duration": 12,
    "start_time": "2022-06-03T18:23:49.005Z"
   },
   {
    "duration": 460,
    "start_time": "2022-06-03T18:23:49.020Z"
   },
   {
    "duration": 130,
    "start_time": "2022-06-03T18:23:49.482Z"
   },
   {
    "duration": 0,
    "start_time": "2022-06-03T18:23:49.613Z"
   },
   {
    "duration": 0,
    "start_time": "2022-06-03T18:23:49.614Z"
   },
   {
    "duration": 133,
    "start_time": "2022-06-03T18:24:50.370Z"
   },
   {
    "duration": 10,
    "start_time": "2022-06-03T18:25:05.271Z"
   },
   {
    "duration": 11,
    "start_time": "2022-06-03T18:25:19.588Z"
   },
   {
    "duration": 16,
    "start_time": "2022-06-03T18:25:42.777Z"
   },
   {
    "duration": 15,
    "start_time": "2022-06-03T18:25:49.996Z"
   },
   {
    "duration": 27,
    "start_time": "2022-06-03T18:26:07.957Z"
   },
   {
    "duration": 20,
    "start_time": "2022-06-03T18:26:54.115Z"
   },
   {
    "duration": 38,
    "start_time": "2022-06-03T18:27:30.327Z"
   },
   {
    "duration": 14,
    "start_time": "2022-06-03T18:28:42.899Z"
   },
   {
    "duration": 10,
    "start_time": "2022-06-03T18:29:31.555Z"
   },
   {
    "duration": 9,
    "start_time": "2022-06-03T18:30:13.669Z"
   },
   {
    "duration": 8,
    "start_time": "2022-06-03T18:30:18.670Z"
   },
   {
    "duration": 15,
    "start_time": "2022-06-03T18:30:39.545Z"
   },
   {
    "duration": 16,
    "start_time": "2022-06-03T18:30:53.166Z"
   },
   {
    "duration": 15,
    "start_time": "2022-06-03T18:31:03.400Z"
   },
   {
    "duration": 7,
    "start_time": "2022-06-03T18:31:16.393Z"
   },
   {
    "duration": 8,
    "start_time": "2022-06-03T18:31:17.068Z"
   },
   {
    "duration": 9,
    "start_time": "2022-06-03T18:31:19.975Z"
   },
   {
    "duration": 28,
    "start_time": "2022-06-03T18:31:21.727Z"
   },
   {
    "duration": 15,
    "start_time": "2022-06-03T18:31:50.969Z"
   },
   {
    "duration": 10,
    "start_time": "2022-06-03T18:32:10.739Z"
   },
   {
    "duration": 43,
    "start_time": "2022-06-03T18:45:37.332Z"
   },
   {
    "duration": 18,
    "start_time": "2022-06-03T18:45:40.504Z"
   },
   {
    "duration": 16,
    "start_time": "2022-06-03T18:47:46.760Z"
   },
   {
    "duration": 20,
    "start_time": "2022-06-03T18:47:54.601Z"
   },
   {
    "duration": 9,
    "start_time": "2022-06-03T18:48:12.444Z"
   },
   {
    "duration": 19,
    "start_time": "2022-06-03T18:48:20.067Z"
   },
   {
    "duration": 1208,
    "start_time": "2022-06-03T18:49:04.314Z"
   },
   {
    "duration": 82,
    "start_time": "2022-06-03T18:49:05.532Z"
   },
   {
    "duration": 27,
    "start_time": "2022-06-03T18:49:05.615Z"
   },
   {
    "duration": 31,
    "start_time": "2022-06-03T18:49:05.655Z"
   },
   {
    "duration": 22,
    "start_time": "2022-06-03T18:49:05.688Z"
   },
   {
    "duration": 22,
    "start_time": "2022-06-03T18:49:05.712Z"
   },
   {
    "duration": 49,
    "start_time": "2022-06-03T18:49:05.738Z"
   },
   {
    "duration": 14,
    "start_time": "2022-06-03T18:49:05.789Z"
   },
   {
    "duration": 12,
    "start_time": "2022-06-03T18:49:05.805Z"
   },
   {
    "duration": 44,
    "start_time": "2022-06-03T18:49:05.821Z"
   },
   {
    "duration": 19,
    "start_time": "2022-06-03T18:49:05.869Z"
   },
   {
    "duration": 14,
    "start_time": "2022-06-03T18:49:05.890Z"
   },
   {
    "duration": 9,
    "start_time": "2022-06-03T18:49:05.905Z"
   },
   {
    "duration": 102,
    "start_time": "2022-06-03T18:49:05.916Z"
   },
   {
    "duration": 16,
    "start_time": "2022-06-03T18:49:06.020Z"
   },
   {
    "duration": 44,
    "start_time": "2022-06-03T18:49:06.038Z"
   },
   {
    "duration": 14,
    "start_time": "2022-06-03T18:49:06.083Z"
   },
   {
    "duration": 11,
    "start_time": "2022-06-03T18:49:06.098Z"
   },
   {
    "duration": 19,
    "start_time": "2022-06-03T18:49:06.111Z"
   },
   {
    "duration": 11,
    "start_time": "2022-06-03T18:49:06.132Z"
   },
   {
    "duration": 43,
    "start_time": "2022-06-03T18:49:06.146Z"
   },
   {
    "duration": 17,
    "start_time": "2022-06-03T18:49:06.191Z"
   },
   {
    "duration": 57,
    "start_time": "2022-06-03T18:49:06.210Z"
   },
   {
    "duration": 15,
    "start_time": "2022-06-03T18:49:06.269Z"
   },
   {
    "duration": 7,
    "start_time": "2022-06-03T18:49:06.285Z"
   },
   {
    "duration": 12,
    "start_time": "2022-06-03T18:49:06.293Z"
   },
   {
    "duration": 327,
    "start_time": "2022-06-03T18:49:06.306Z"
   },
   {
    "duration": 7,
    "start_time": "2022-06-03T18:49:06.639Z"
   },
   {
    "duration": 19,
    "start_time": "2022-06-03T18:49:06.650Z"
   },
   {
    "duration": 13,
    "start_time": "2022-06-03T18:49:06.670Z"
   },
   {
    "duration": 174,
    "start_time": "2022-06-03T18:49:06.685Z"
   },
   {
    "duration": 15,
    "start_time": "2022-06-03T18:49:06.863Z"
   },
   {
    "duration": 8,
    "start_time": "2022-06-03T18:49:06.879Z"
   },
   {
    "duration": 10,
    "start_time": "2022-06-03T18:49:06.889Z"
   },
   {
    "duration": 6,
    "start_time": "2022-06-03T18:49:06.901Z"
   },
   {
    "duration": 8,
    "start_time": "2022-06-03T18:49:06.908Z"
   },
   {
    "duration": 41,
    "start_time": "2022-06-03T18:49:06.926Z"
   },
   {
    "duration": 238,
    "start_time": "2022-06-03T18:49:06.969Z"
   },
   {
    "duration": 17,
    "start_time": "2022-06-03T18:49:07.208Z"
   },
   {
    "duration": 44,
    "start_time": "2022-06-03T18:49:07.229Z"
   },
   {
    "duration": 16,
    "start_time": "2022-06-03T18:49:07.275Z"
   },
   {
    "duration": 15,
    "start_time": "2022-06-03T18:49:07.292Z"
   },
   {
    "duration": 12,
    "start_time": "2022-06-03T18:49:07.308Z"
   },
   {
    "duration": 57,
    "start_time": "2022-06-03T18:49:07.322Z"
   },
   {
    "duration": 14,
    "start_time": "2022-06-03T18:49:07.384Z"
   },
   {
    "duration": 17,
    "start_time": "2022-06-03T18:49:07.399Z"
   },
   {
    "duration": 20,
    "start_time": "2022-06-03T18:49:07.417Z"
   },
   {
    "duration": 390,
    "start_time": "2022-06-03T18:49:07.443Z"
   },
   {
    "duration": 10,
    "start_time": "2022-06-03T18:49:07.843Z"
   },
   {
    "duration": 15,
    "start_time": "2022-06-03T18:49:07.859Z"
   },
   {
    "duration": 5,
    "start_time": "2022-06-03T18:49:07.876Z"
   },
   {
    "duration": 6,
    "start_time": "2022-06-03T18:49:07.883Z"
   },
   {
    "duration": 140,
    "start_time": "2022-06-03T18:49:07.890Z"
   },
   {
    "duration": 0,
    "start_time": "2022-06-03T18:49:08.040Z"
   },
   {
    "duration": 0,
    "start_time": "2022-06-03T18:49:08.041Z"
   },
   {
    "duration": 7,
    "start_time": "2022-06-03T18:49:30.485Z"
   },
   {
    "duration": 18,
    "start_time": "2022-06-03T18:49:31.250Z"
   },
   {
    "duration": 6,
    "start_time": "2022-06-03T18:49:32.387Z"
   },
   {
    "duration": 6,
    "start_time": "2022-06-03T18:49:33.543Z"
   },
   {
    "duration": 20,
    "start_time": "2022-06-03T18:49:35.272Z"
   },
   {
    "duration": 30,
    "start_time": "2022-06-03T18:49:57.586Z"
   },
   {
    "duration": 10,
    "start_time": "2022-06-03T18:56:04.320Z"
   },
   {
    "duration": 7,
    "start_time": "2022-06-03T18:56:04.959Z"
   },
   {
    "duration": 19,
    "start_time": "2022-06-03T18:56:08.855Z"
   },
   {
    "duration": 23,
    "start_time": "2022-06-03T18:56:29.807Z"
   },
   {
    "duration": 29,
    "start_time": "2022-06-03T18:56:49.319Z"
   },
   {
    "duration": 33,
    "start_time": "2022-06-03T18:57:02.120Z"
   },
   {
    "duration": 35,
    "start_time": "2022-06-03T18:57:05.618Z"
   },
   {
    "duration": 25,
    "start_time": "2022-06-03T18:57:08.261Z"
   },
   {
    "duration": 18,
    "start_time": "2022-06-03T18:57:18.872Z"
   },
   {
    "duration": 18,
    "start_time": "2022-06-03T18:57:56.193Z"
   },
   {
    "duration": 5,
    "start_time": "2022-06-03T18:58:08.393Z"
   },
   {
    "duration": 6,
    "start_time": "2022-06-03T18:58:11.886Z"
   },
   {
    "duration": 4,
    "start_time": "2022-06-03T18:58:16.990Z"
   },
   {
    "duration": 25,
    "start_time": "2022-06-03T18:58:49.070Z"
   },
   {
    "duration": 22,
    "start_time": "2022-06-03T18:58:52.890Z"
   },
   {
    "duration": 7,
    "start_time": "2022-06-03T19:00:22.468Z"
   },
   {
    "duration": 9,
    "start_time": "2022-06-03T19:00:23.116Z"
   },
   {
    "duration": 4,
    "start_time": "2022-06-03T19:00:27.890Z"
   },
   {
    "duration": 11,
    "start_time": "2022-06-03T19:00:32.758Z"
   },
   {
    "duration": 14,
    "start_time": "2022-06-03T19:00:54.574Z"
   },
   {
    "duration": 1417,
    "start_time": "2022-06-03T19:01:08.727Z"
   },
   {
    "duration": 122,
    "start_time": "2022-06-03T19:01:10.151Z"
   },
   {
    "duration": 16,
    "start_time": "2022-06-03T19:01:10.275Z"
   },
   {
    "duration": 15,
    "start_time": "2022-06-03T19:01:10.293Z"
   },
   {
    "duration": 21,
    "start_time": "2022-06-03T19:01:10.310Z"
   },
   {
    "duration": 60,
    "start_time": "2022-06-03T19:01:10.333Z"
   },
   {
    "duration": 27,
    "start_time": "2022-06-03T19:01:10.395Z"
   },
   {
    "duration": 69,
    "start_time": "2022-06-03T19:01:10.424Z"
   },
   {
    "duration": 34,
    "start_time": "2022-06-03T19:01:10.497Z"
   },
   {
    "duration": 70,
    "start_time": "2022-06-03T19:01:10.538Z"
   },
   {
    "duration": 6,
    "start_time": "2022-06-03T19:01:10.611Z"
   },
   {
    "duration": 46,
    "start_time": "2022-06-03T19:01:10.619Z"
   },
   {
    "duration": 27,
    "start_time": "2022-06-03T19:01:10.667Z"
   },
   {
    "duration": 144,
    "start_time": "2022-06-03T19:01:10.697Z"
   },
   {
    "duration": 13,
    "start_time": "2022-06-03T19:01:10.844Z"
   },
   {
    "duration": 57,
    "start_time": "2022-06-03T19:01:10.858Z"
   },
   {
    "duration": 29,
    "start_time": "2022-06-03T19:01:10.917Z"
   },
   {
    "duration": 30,
    "start_time": "2022-06-03T19:01:10.955Z"
   },
   {
    "duration": 16,
    "start_time": "2022-06-03T19:01:10.988Z"
   },
   {
    "duration": 11,
    "start_time": "2022-06-03T19:01:11.006Z"
   },
   {
    "duration": 55,
    "start_time": "2022-06-03T19:01:11.019Z"
   },
   {
    "duration": 36,
    "start_time": "2022-06-03T19:01:11.076Z"
   },
   {
    "duration": 34,
    "start_time": "2022-06-03T19:01:11.115Z"
   },
   {
    "duration": 38,
    "start_time": "2022-06-03T19:01:11.151Z"
   },
   {
    "duration": 5,
    "start_time": "2022-06-03T19:01:11.192Z"
   },
   {
    "duration": 12,
    "start_time": "2022-06-03T19:01:11.199Z"
   },
   {
    "duration": 363,
    "start_time": "2022-06-03T19:01:11.213Z"
   },
   {
    "duration": 10,
    "start_time": "2022-06-03T19:01:11.581Z"
   },
   {
    "duration": 6,
    "start_time": "2022-06-03T19:01:11.593Z"
   },
   {
    "duration": 12,
    "start_time": "2022-06-03T19:01:11.601Z"
   },
   {
    "duration": 257,
    "start_time": "2022-06-03T19:01:11.615Z"
   },
   {
    "duration": 15,
    "start_time": "2022-06-03T19:01:11.879Z"
   },
   {
    "duration": 6,
    "start_time": "2022-06-03T19:01:11.896Z"
   },
   {
    "duration": 6,
    "start_time": "2022-06-03T19:01:11.905Z"
   },
   {
    "duration": 5,
    "start_time": "2022-06-03T19:01:11.913Z"
   },
   {
    "duration": 63,
    "start_time": "2022-06-03T19:01:11.920Z"
   },
   {
    "duration": 14,
    "start_time": "2022-06-03T19:01:11.985Z"
   },
   {
    "duration": 312,
    "start_time": "2022-06-03T19:01:12.002Z"
   },
   {
    "duration": 18,
    "start_time": "2022-06-03T19:01:12.316Z"
   },
   {
    "duration": 40,
    "start_time": "2022-06-03T19:01:12.343Z"
   },
   {
    "duration": 5,
    "start_time": "2022-06-03T19:01:12.385Z"
   },
   {
    "duration": 6,
    "start_time": "2022-06-03T19:01:12.392Z"
   },
   {
    "duration": 8,
    "start_time": "2022-06-03T19:01:12.400Z"
   },
   {
    "duration": 7,
    "start_time": "2022-06-03T19:01:12.410Z"
   },
   {
    "duration": 57,
    "start_time": "2022-06-03T19:01:12.419Z"
   },
   {
    "duration": 31,
    "start_time": "2022-06-03T19:01:12.478Z"
   },
   {
    "duration": 16,
    "start_time": "2022-06-03T19:01:12.511Z"
   },
   {
    "duration": 604,
    "start_time": "2022-06-03T19:01:12.529Z"
   },
   {
    "duration": 16,
    "start_time": "2022-06-03T19:01:13.135Z"
   },
   {
    "duration": 66,
    "start_time": "2022-06-03T19:01:13.153Z"
   },
   {
    "duration": 73,
    "start_time": "2022-06-03T19:01:13.221Z"
   },
   {
    "duration": 18,
    "start_time": "2022-06-03T19:01:13.296Z"
   },
   {
    "duration": 202,
    "start_time": "2022-06-03T19:01:13.315Z"
   },
   {
    "duration": 0,
    "start_time": "2022-06-03T19:01:13.527Z"
   },
   {
    "duration": 0,
    "start_time": "2022-06-03T19:01:13.528Z"
   },
   {
    "duration": 229,
    "start_time": "2022-06-03T19:01:37.042Z"
   },
   {
    "duration": 151,
    "start_time": "2022-06-03T19:04:16.053Z"
   },
   {
    "duration": 178,
    "start_time": "2022-06-03T19:05:00.996Z"
   },
   {
    "duration": 206,
    "start_time": "2022-06-03T19:05:08.290Z"
   },
   {
    "duration": 20,
    "start_time": "2022-06-03T19:05:20.213Z"
   },
   {
    "duration": 8,
    "start_time": "2022-06-03T19:06:05.903Z"
   },
   {
    "duration": 5,
    "start_time": "2022-06-03T19:06:06.471Z"
   },
   {
    "duration": 7,
    "start_time": "2022-06-03T19:06:07.008Z"
   },
   {
    "duration": 26,
    "start_time": "2022-06-03T19:06:11.315Z"
   },
   {
    "duration": 24,
    "start_time": "2022-06-03T19:06:18.847Z"
   },
   {
    "duration": 18,
    "start_time": "2022-06-03T19:06:43.663Z"
   },
   {
    "duration": 17,
    "start_time": "2022-06-03T19:06:47.678Z"
   },
   {
    "duration": 25,
    "start_time": "2022-06-03T19:06:50.853Z"
   },
   {
    "duration": 33,
    "start_time": "2022-06-03T19:06:58.641Z"
   },
   {
    "duration": 17,
    "start_time": "2022-06-03T19:07:00.276Z"
   },
   {
    "duration": 21,
    "start_time": "2022-06-03T19:07:06.509Z"
   },
   {
    "duration": 12,
    "start_time": "2022-06-03T19:07:13.662Z"
   },
   {
    "duration": 17,
    "start_time": "2022-06-03T19:07:17.877Z"
   },
   {
    "duration": 15,
    "start_time": "2022-06-03T19:07:30.118Z"
   },
   {
    "duration": 34,
    "start_time": "2022-06-03T19:07:42.813Z"
   },
   {
    "duration": 7,
    "start_time": "2022-06-03T19:09:34.392Z"
   },
   {
    "duration": 4,
    "start_time": "2022-06-03T19:09:35.210Z"
   },
   {
    "duration": 8,
    "start_time": "2022-06-03T19:09:35.576Z"
   },
   {
    "duration": 168,
    "start_time": "2022-06-03T19:09:36.788Z"
   },
   {
    "duration": 4,
    "start_time": "2022-06-03T19:09:47.662Z"
   },
   {
    "duration": 8,
    "start_time": "2022-06-03T19:09:48.581Z"
   },
   {
    "duration": 150,
    "start_time": "2022-06-03T19:09:49.714Z"
   },
   {
    "duration": 5,
    "start_time": "2022-06-03T19:10:43.859Z"
   },
   {
    "duration": 8,
    "start_time": "2022-06-03T19:10:44.760Z"
   },
   {
    "duration": 5,
    "start_time": "2022-06-03T19:10:45.310Z"
   },
   {
    "duration": 8,
    "start_time": "2022-06-03T19:10:45.857Z"
   },
   {
    "duration": 142,
    "start_time": "2022-06-03T19:10:55.303Z"
   },
   {
    "duration": 15,
    "start_time": "2022-06-03T19:11:06.755Z"
   },
   {
    "duration": 4,
    "start_time": "2022-06-03T19:11:41.564Z"
   },
   {
    "duration": 9,
    "start_time": "2022-06-03T19:11:42.696Z"
   },
   {
    "duration": 5,
    "start_time": "2022-06-03T19:11:43.389Z"
   },
   {
    "duration": 7,
    "start_time": "2022-06-03T19:11:44.086Z"
   },
   {
    "duration": 15,
    "start_time": "2022-06-03T19:11:54.993Z"
   },
   {
    "duration": 15,
    "start_time": "2022-06-03T19:12:10.856Z"
   },
   {
    "duration": 39,
    "start_time": "2022-06-03T19:13:32.882Z"
   },
   {
    "duration": 22,
    "start_time": "2022-06-03T19:13:42.986Z"
   },
   {
    "duration": 34,
    "start_time": "2022-06-03T19:13:44.650Z"
   },
   {
    "duration": 17,
    "start_time": "2022-06-03T19:13:49.741Z"
   },
   {
    "duration": 82,
    "start_time": "2022-06-03T19:14:12.114Z"
   },
   {
    "duration": 18,
    "start_time": "2022-06-03T19:14:33.499Z"
   },
   {
    "duration": 12,
    "start_time": "2022-06-03T19:14:36.362Z"
   },
   {
    "duration": 20,
    "start_time": "2022-06-03T19:14:46.744Z"
   },
   {
    "duration": 36,
    "start_time": "2022-06-03T19:14:54.313Z"
   },
   {
    "duration": 19,
    "start_time": "2022-06-03T19:15:09.975Z"
   },
   {
    "duration": 7,
    "start_time": "2022-06-03T19:15:18.609Z"
   },
   {
    "duration": 5,
    "start_time": "2022-06-03T19:15:19.315Z"
   },
   {
    "duration": 7,
    "start_time": "2022-06-03T19:15:19.789Z"
   },
   {
    "duration": 19,
    "start_time": "2022-06-03T19:15:20.255Z"
   },
   {
    "duration": 37,
    "start_time": "2022-06-03T19:15:52.843Z"
   },
   {
    "duration": 20,
    "start_time": "2022-06-03T19:15:59.741Z"
   },
   {
    "duration": 164,
    "start_time": "2022-06-03T19:16:02.976Z"
   },
   {
    "duration": 231,
    "start_time": "2022-06-03T19:16:25.948Z"
   },
   {
    "duration": 7,
    "start_time": "2022-06-03T19:16:42.401Z"
   },
   {
    "duration": 4,
    "start_time": "2022-06-03T19:16:43.012Z"
   },
   {
    "duration": 7,
    "start_time": "2022-06-03T19:16:43.664Z"
   },
   {
    "duration": 326,
    "start_time": "2022-06-03T19:16:51.040Z"
   },
   {
    "duration": 211,
    "start_time": "2022-06-03T19:17:27.516Z"
   },
   {
    "duration": 212,
    "start_time": "2022-06-03T19:17:47.966Z"
   },
   {
    "duration": 1148,
    "start_time": "2022-06-03T19:34:35.993Z"
   },
   {
    "duration": 1303,
    "start_time": "2022-06-03T19:35:32.478Z"
   },
   {
    "duration": 11,
    "start_time": "2022-06-03T19:36:25.205Z"
   },
   {
    "duration": 20,
    "start_time": "2022-06-03T19:36:57.478Z"
   },
   {
    "duration": 11,
    "start_time": "2022-06-03T19:36:58.074Z"
   },
   {
    "duration": 19,
    "start_time": "2022-06-03T19:38:12.087Z"
   },
   {
    "duration": 40,
    "start_time": "2022-06-03T19:38:16.822Z"
   },
   {
    "duration": 28,
    "start_time": "2022-06-03T19:38:56.950Z"
   },
   {
    "duration": 15,
    "start_time": "2022-06-03T19:41:17.346Z"
   },
   {
    "duration": 10,
    "start_time": "2022-06-03T19:41:50.762Z"
   },
   {
    "duration": 15,
    "start_time": "2022-06-03T19:41:55.544Z"
   },
   {
    "duration": 11,
    "start_time": "2022-06-03T19:45:54.551Z"
   },
   {
    "duration": 11,
    "start_time": "2022-06-03T19:46:02.611Z"
   },
   {
    "duration": 13,
    "start_time": "2022-06-03T19:46:09.429Z"
   },
   {
    "duration": 24,
    "start_time": "2022-06-03T19:46:11.019Z"
   },
   {
    "duration": 16,
    "start_time": "2022-06-03T19:46:24.167Z"
   },
   {
    "duration": 16,
    "start_time": "2022-06-03T19:47:02.447Z"
   },
   {
    "duration": 19,
    "start_time": "2022-06-03T19:47:21.316Z"
   },
   {
    "duration": 6,
    "start_time": "2022-06-03T19:49:26.879Z"
   },
   {
    "duration": 19,
    "start_time": "2022-06-03T19:49:29.056Z"
   },
   {
    "duration": 9,
    "start_time": "2022-06-03T19:49:31.000Z"
   },
   {
    "duration": 25,
    "start_time": "2022-06-03T19:49:31.962Z"
   },
   {
    "duration": 13,
    "start_time": "2022-06-03T19:49:47.348Z"
   },
   {
    "duration": 10,
    "start_time": "2022-06-03T19:49:49.072Z"
   },
   {
    "duration": 19,
    "start_time": "2022-06-03T19:49:50.100Z"
   },
   {
    "duration": 13,
    "start_time": "2022-06-03T19:53:03.556Z"
   },
   {
    "duration": 8,
    "start_time": "2022-06-03T19:53:06.879Z"
   },
   {
    "duration": 17,
    "start_time": "2022-06-03T19:53:42.288Z"
   },
   {
    "duration": 8,
    "start_time": "2022-06-03T19:53:51.063Z"
   },
   {
    "duration": 15,
    "start_time": "2022-06-03T19:53:59.766Z"
   },
   {
    "duration": 8,
    "start_time": "2022-06-03T19:54:02.369Z"
   },
   {
    "duration": 8,
    "start_time": "2022-06-03T19:54:04.686Z"
   },
   {
    "duration": 16,
    "start_time": "2022-06-03T19:54:16.521Z"
   },
   {
    "duration": 8,
    "start_time": "2022-06-03T19:54:17.454Z"
   },
   {
    "duration": 7,
    "start_time": "2022-06-03T19:55:17.612Z"
   },
   {
    "duration": 8,
    "start_time": "2022-06-03T19:55:48.255Z"
   },
   {
    "duration": 3,
    "start_time": "2022-06-03T19:55:53.875Z"
   },
   {
    "duration": 7,
    "start_time": "2022-06-03T19:55:55.074Z"
   },
   {
    "duration": 14,
    "start_time": "2022-06-03T19:57:29.202Z"
   },
   {
    "duration": 195,
    "start_time": "2022-06-03T19:57:33.698Z"
   },
   {
    "duration": 12,
    "start_time": "2022-06-03T19:57:59.334Z"
   },
   {
    "duration": 25,
    "start_time": "2022-06-03T19:57:59.929Z"
   },
   {
    "duration": 216,
    "start_time": "2022-06-03T19:58:00.675Z"
   },
   {
    "duration": 4,
    "start_time": "2022-06-03T19:58:14.411Z"
   },
   {
    "duration": 8,
    "start_time": "2022-06-03T19:58:14.505Z"
   },
   {
    "duration": 220,
    "start_time": "2022-06-03T19:58:15.263Z"
   },
   {
    "duration": 295,
    "start_time": "2022-06-03T19:58:32.665Z"
   },
   {
    "duration": 307,
    "start_time": "2022-06-03T19:59:08.883Z"
   },
   {
    "duration": 244,
    "start_time": "2022-06-03T19:59:27.649Z"
   },
   {
    "duration": 246,
    "start_time": "2022-06-03T19:59:44.466Z"
   },
   {
    "duration": 445,
    "start_time": "2022-06-03T20:01:02.582Z"
   },
   {
    "duration": 287,
    "start_time": "2022-06-03T20:01:17.805Z"
   },
   {
    "duration": 272,
    "start_time": "2022-06-03T20:01:30.559Z"
   },
   {
    "duration": 8,
    "start_time": "2022-06-03T20:02:38.686Z"
   },
   {
    "duration": 6,
    "start_time": "2022-06-03T20:02:40.066Z"
   },
   {
    "duration": 12,
    "start_time": "2022-06-03T20:04:18.148Z"
   },
   {
    "duration": 10,
    "start_time": "2022-06-03T20:04:49.097Z"
   },
   {
    "duration": 10,
    "start_time": "2022-06-03T20:05:28.680Z"
   },
   {
    "duration": 19,
    "start_time": "2022-06-03T20:06:09.315Z"
   },
   {
    "duration": 11,
    "start_time": "2022-06-03T20:06:11.770Z"
   },
   {
    "duration": 1119,
    "start_time": "2022-06-03T20:08:29.757Z"
   },
   {
    "duration": 11,
    "start_time": "2022-06-03T20:08:33.086Z"
   },
   {
    "duration": 16,
    "start_time": "2022-06-03T20:08:35.032Z"
   },
   {
    "duration": 6,
    "start_time": "2022-06-03T20:08:35.772Z"
   },
   {
    "duration": 8,
    "start_time": "2022-06-03T20:09:05.778Z"
   },
   {
    "duration": 13,
    "start_time": "2022-06-03T20:09:06.826Z"
   },
   {
    "duration": 22,
    "start_time": "2022-06-03T20:09:58.255Z"
   },
   {
    "duration": 5,
    "start_time": "2022-06-03T20:10:03.411Z"
   },
   {
    "duration": 7,
    "start_time": "2022-06-03T20:10:04.507Z"
   },
   {
    "duration": 7,
    "start_time": "2022-06-03T20:10:12.468Z"
   },
   {
    "duration": 10,
    "start_time": "2022-06-03T20:10:13.152Z"
   },
   {
    "duration": 35,
    "start_time": "2022-06-03T20:10:29.451Z"
   },
   {
    "duration": 12,
    "start_time": "2022-06-03T20:10:32.445Z"
   },
   {
    "duration": 8,
    "start_time": "2022-06-03T20:10:39.892Z"
   },
   {
    "duration": 12,
    "start_time": "2022-06-03T20:10:43.447Z"
   },
   {
    "duration": 7,
    "start_time": "2022-06-03T20:11:27.761Z"
   },
   {
    "duration": 17,
    "start_time": "2022-06-03T20:11:30.345Z"
   },
   {
    "duration": 46,
    "start_time": "2022-06-03T20:13:12.518Z"
   },
   {
    "duration": 25,
    "start_time": "2022-06-03T20:13:14.142Z"
   },
   {
    "duration": 10,
    "start_time": "2022-06-03T20:13:22.989Z"
   },
   {
    "duration": 8,
    "start_time": "2022-06-03T20:13:24.861Z"
   },
   {
    "duration": 24,
    "start_time": "2022-06-03T20:13:28.470Z"
   },
   {
    "duration": 15,
    "start_time": "2022-06-03T20:13:29.806Z"
   },
   {
    "duration": 16,
    "start_time": "2022-06-03T20:13:32.140Z"
   },
   {
    "duration": 5,
    "start_time": "2022-06-03T20:13:32.998Z"
   },
   {
    "duration": 7,
    "start_time": "2022-06-03T20:13:33.902Z"
   },
   {
    "duration": 227,
    "start_time": "2022-06-03T20:13:37.574Z"
   },
   {
    "duration": 9,
    "start_time": "2022-06-03T20:13:39.567Z"
   },
   {
    "duration": 7,
    "start_time": "2022-06-03T20:13:45.500Z"
   },
   {
    "duration": 1217,
    "start_time": "2022-06-03T20:13:53.947Z"
   },
   {
    "duration": 72,
    "start_time": "2022-06-03T20:13:55.165Z"
   },
   {
    "duration": 15,
    "start_time": "2022-06-03T20:13:55.239Z"
   },
   {
    "duration": 29,
    "start_time": "2022-06-03T20:13:55.255Z"
   },
   {
    "duration": 18,
    "start_time": "2022-06-03T20:13:55.287Z"
   },
   {
    "duration": 6,
    "start_time": "2022-06-03T20:13:55.306Z"
   },
   {
    "duration": 34,
    "start_time": "2022-06-03T20:13:55.314Z"
   },
   {
    "duration": 18,
    "start_time": "2022-06-03T20:13:55.354Z"
   },
   {
    "duration": 10,
    "start_time": "2022-06-03T20:13:55.373Z"
   },
   {
    "duration": 13,
    "start_time": "2022-06-03T20:13:55.385Z"
   },
   {
    "duration": 5,
    "start_time": "2022-06-03T20:13:55.399Z"
   },
   {
    "duration": 14,
    "start_time": "2022-06-03T20:13:55.406Z"
   },
   {
    "duration": 49,
    "start_time": "2022-06-03T20:13:55.421Z"
   },
   {
    "duration": 98,
    "start_time": "2022-06-03T20:13:55.473Z"
   },
   {
    "duration": 6,
    "start_time": "2022-06-03T20:13:55.573Z"
   },
   {
    "duration": 10,
    "start_time": "2022-06-03T20:13:55.580Z"
   },
   {
    "duration": 12,
    "start_time": "2022-06-03T20:13:55.592Z"
   },
   {
    "duration": 19,
    "start_time": "2022-06-03T20:13:55.606Z"
   },
   {
    "duration": 38,
    "start_time": "2022-06-03T20:13:55.626Z"
   },
   {
    "duration": 13,
    "start_time": "2022-06-03T20:13:55.666Z"
   },
   {
    "duration": 19,
    "start_time": "2022-06-03T20:13:55.680Z"
   },
   {
    "duration": 18,
    "start_time": "2022-06-03T20:13:55.701Z"
   },
   {
    "duration": 60,
    "start_time": "2022-06-03T20:13:55.720Z"
   },
   {
    "duration": 8,
    "start_time": "2022-06-03T20:13:55.782Z"
   },
   {
    "duration": 5,
    "start_time": "2022-06-03T20:13:55.792Z"
   },
   {
    "duration": 9,
    "start_time": "2022-06-03T20:13:55.799Z"
   },
   {
    "duration": 308,
    "start_time": "2022-06-03T20:13:55.809Z"
   },
   {
    "duration": 20,
    "start_time": "2022-06-03T20:13:56.119Z"
   },
   {
    "duration": 25,
    "start_time": "2022-06-03T20:13:56.144Z"
   },
   {
    "duration": 8,
    "start_time": "2022-06-03T20:13:56.171Z"
   },
   {
    "duration": 169,
    "start_time": "2022-06-03T20:13:56.180Z"
   },
   {
    "duration": 17,
    "start_time": "2022-06-03T20:13:56.359Z"
   },
   {
    "duration": 6,
    "start_time": "2022-06-03T20:13:56.378Z"
   },
   {
    "duration": 7,
    "start_time": "2022-06-03T20:13:56.385Z"
   },
   {
    "duration": 8,
    "start_time": "2022-06-03T20:13:56.393Z"
   },
   {
    "duration": 8,
    "start_time": "2022-06-03T20:13:56.403Z"
   },
   {
    "duration": 13,
    "start_time": "2022-06-03T20:13:56.413Z"
   },
   {
    "duration": 267,
    "start_time": "2022-06-03T20:13:56.427Z"
   },
   {
    "duration": 6,
    "start_time": "2022-06-03T20:13:56.695Z"
   },
   {
    "duration": 11,
    "start_time": "2022-06-03T20:13:56.703Z"
   },
   {
    "duration": 6,
    "start_time": "2022-06-03T20:13:56.726Z"
   },
   {
    "duration": 37,
    "start_time": "2022-06-03T20:13:56.733Z"
   },
   {
    "duration": 7,
    "start_time": "2022-06-03T20:13:56.772Z"
   },
   {
    "duration": 6,
    "start_time": "2022-06-03T20:13:56.780Z"
   },
   {
    "duration": 7,
    "start_time": "2022-06-03T20:13:56.788Z"
   },
   {
    "duration": 14,
    "start_time": "2022-06-03T20:13:56.796Z"
   },
   {
    "duration": 13,
    "start_time": "2022-06-03T20:13:56.811Z"
   },
   {
    "duration": 417,
    "start_time": "2022-06-03T20:13:56.832Z"
   },
   {
    "duration": 9,
    "start_time": "2022-06-03T20:13:57.251Z"
   },
   {
    "duration": 9,
    "start_time": "2022-06-03T20:13:57.262Z"
   },
   {
    "duration": 10,
    "start_time": "2022-06-03T20:13:57.272Z"
   },
   {
    "duration": 216,
    "start_time": "2022-06-03T20:13:57.283Z"
   },
   {
    "duration": 43,
    "start_time": "2022-06-03T20:13:57.501Z"
   },
   {
    "duration": 35,
    "start_time": "2022-06-03T20:13:57.547Z"
   },
   {
    "duration": 13,
    "start_time": "2022-06-03T20:13:57.584Z"
   },
   {
    "duration": 8,
    "start_time": "2022-06-03T20:13:57.599Z"
   },
   {
    "duration": 10,
    "start_time": "2022-06-03T20:13:57.608Z"
   },
   {
    "duration": 266,
    "start_time": "2022-06-03T20:13:57.620Z"
   },
   {
    "duration": 9,
    "start_time": "2022-06-03T20:13:57.887Z"
   },
   {
    "duration": 977,
    "start_time": "2022-06-03T20:13:57.898Z"
   },
   {
    "duration": 3,
    "start_time": "2022-06-03T20:13:58.876Z"
   },
   {
    "duration": 14,
    "start_time": "2022-06-03T20:13:58.881Z"
   },
   {
    "duration": 13,
    "start_time": "2022-06-03T20:13:58.897Z"
   },
   {
    "duration": 27,
    "start_time": "2022-06-03T20:13:58.911Z"
   },
   {
    "duration": 11,
    "start_time": "2022-06-03T20:14:26.454Z"
   },
   {
    "duration": 15,
    "start_time": "2022-06-03T20:14:27.755Z"
   },
   {
    "duration": 126,
    "start_time": "2022-06-03T20:14:34.279Z"
   },
   {
    "duration": 12,
    "start_time": "2022-06-03T20:14:39.051Z"
   },
   {
    "duration": 8,
    "start_time": "2022-06-03T20:14:41.197Z"
   },
   {
    "duration": 16,
    "start_time": "2022-06-03T20:15:38.451Z"
   },
   {
    "duration": 685,
    "start_time": "2022-06-03T20:18:34.888Z"
   },
   {
    "duration": 11,
    "start_time": "2022-06-03T20:19:43.299Z"
   },
   {
    "duration": 23,
    "start_time": "2022-06-03T20:21:04.948Z"
   },
   {
    "duration": 43,
    "start_time": "2022-06-03T20:21:20.603Z"
   },
   {
    "duration": 30,
    "start_time": "2022-06-03T20:23:03.241Z"
   },
   {
    "duration": 17,
    "start_time": "2022-06-03T20:23:24.195Z"
   },
   {
    "duration": 38,
    "start_time": "2022-06-03T20:24:30.051Z"
   },
   {
    "duration": 30,
    "start_time": "2022-06-03T20:24:35.648Z"
   },
   {
    "duration": 32,
    "start_time": "2022-06-03T20:24:39.115Z"
   },
   {
    "duration": 18,
    "start_time": "2022-06-03T20:25:00.556Z"
   },
   {
    "duration": 32,
    "start_time": "2022-06-03T20:25:15.167Z"
   },
   {
    "duration": 21,
    "start_time": "2022-06-03T20:25:23.042Z"
   },
   {
    "duration": 32,
    "start_time": "2022-06-03T20:26:47.270Z"
   },
   {
    "duration": 50,
    "start_time": "2022-06-03T20:26:55.019Z"
   },
   {
    "duration": 23,
    "start_time": "2022-06-03T20:26:56.988Z"
   },
   {
    "duration": 49,
    "start_time": "2022-06-03T20:27:47.727Z"
   },
   {
    "duration": 169,
    "start_time": "2022-06-03T20:29:08.555Z"
   },
   {
    "duration": 221,
    "start_time": "2022-06-03T20:29:18.167Z"
   },
   {
    "duration": 13,
    "start_time": "2022-06-03T20:29:36.605Z"
   },
   {
    "duration": 15,
    "start_time": "2022-06-03T20:29:39.611Z"
   },
   {
    "duration": 12,
    "start_time": "2022-06-03T20:29:55.662Z"
   },
   {
    "duration": 27,
    "start_time": "2022-06-03T20:31:03.743Z"
   },
   {
    "duration": 19,
    "start_time": "2022-06-03T20:32:14.790Z"
   },
   {
    "duration": 7,
    "start_time": "2022-06-03T20:32:31.555Z"
   },
   {
    "duration": 30,
    "start_time": "2022-06-03T20:32:39.152Z"
   },
   {
    "duration": 749,
    "start_time": "2022-06-03T20:33:00.705Z"
   },
   {
    "duration": 797,
    "start_time": "2022-06-03T20:33:22.299Z"
   },
   {
    "duration": 411,
    "start_time": "2022-06-03T20:34:44.272Z"
   },
   {
    "duration": 29,
    "start_time": "2022-06-03T20:34:53.616Z"
   },
   {
    "duration": 35,
    "start_time": "2022-06-03T20:37:39.415Z"
   },
   {
    "duration": 21,
    "start_time": "2022-06-03T20:37:46.552Z"
   },
   {
    "duration": 28,
    "start_time": "2022-06-03T20:38:04.217Z"
   },
   {
    "duration": 15,
    "start_time": "2022-06-03T20:38:43.872Z"
   },
   {
    "duration": 19,
    "start_time": "2022-06-03T20:41:29.702Z"
   },
   {
    "duration": 13,
    "start_time": "2022-06-03T20:41:35.068Z"
   },
   {
    "duration": 15,
    "start_time": "2022-06-03T20:42:42.020Z"
   },
   {
    "duration": 10,
    "start_time": "2022-06-03T20:42:46.194Z"
   },
   {
    "duration": 14,
    "start_time": "2022-06-03T20:42:48.362Z"
   },
   {
    "duration": 16,
    "start_time": "2022-06-03T20:43:12.821Z"
   },
   {
    "duration": 27,
    "start_time": "2022-06-03T20:43:27.350Z"
   },
   {
    "duration": 10,
    "start_time": "2022-06-03T20:43:37.884Z"
   },
   {
    "duration": 27,
    "start_time": "2022-06-03T20:43:49.759Z"
   },
   {
    "duration": 39,
    "start_time": "2022-06-03T20:44:42.976Z"
   },
   {
    "duration": 10,
    "start_time": "2022-06-03T20:47:39.639Z"
   },
   {
    "duration": 14,
    "start_time": "2022-06-03T20:47:42.416Z"
   },
   {
    "duration": 15,
    "start_time": "2022-06-03T20:48:20.591Z"
   },
   {
    "duration": 17,
    "start_time": "2022-06-03T20:48:30.102Z"
   },
   {
    "duration": 28,
    "start_time": "2022-06-03T20:49:06.941Z"
   },
   {
    "duration": 28,
    "start_time": "2022-06-03T20:49:08.813Z"
   },
   {
    "duration": 10,
    "start_time": "2022-06-03T20:49:49.214Z"
   },
   {
    "duration": 17,
    "start_time": "2022-06-03T20:49:49.917Z"
   },
   {
    "duration": 20,
    "start_time": "2022-06-03T20:50:19.548Z"
   },
   {
    "duration": 12,
    "start_time": "2022-06-03T20:50:30.749Z"
   },
   {
    "duration": 18,
    "start_time": "2022-06-03T20:50:32.038Z"
   },
   {
    "duration": 11,
    "start_time": "2022-06-03T20:51:01.103Z"
   },
   {
    "duration": 9,
    "start_time": "2022-06-03T20:52:15.478Z"
   },
   {
    "duration": 12,
    "start_time": "2022-06-03T20:52:15.855Z"
   },
   {
    "duration": 10,
    "start_time": "2022-06-03T20:52:16.253Z"
   },
   {
    "duration": 246,
    "start_time": "2022-06-03T20:52:16.695Z"
   },
   {
    "duration": 241,
    "start_time": "2022-06-03T20:52:30.450Z"
   },
   {
    "duration": 225,
    "start_time": "2022-06-03T20:52:33.266Z"
   },
   {
    "duration": 470,
    "start_time": "2022-06-03T20:53:03.472Z"
   },
   {
    "duration": 11,
    "start_time": "2022-06-03T20:55:59.909Z"
   },
   {
    "duration": 26,
    "start_time": "2022-06-03T20:56:04.440Z"
   },
   {
    "duration": 28,
    "start_time": "2022-06-03T20:57:20.075Z"
   },
   {
    "duration": 24,
    "start_time": "2022-06-03T20:57:30.044Z"
   },
   {
    "duration": 20,
    "start_time": "2022-06-03T20:58:05.011Z"
   },
   {
    "duration": 11,
    "start_time": "2022-06-03T20:58:15.670Z"
   },
   {
    "duration": 30,
    "start_time": "2022-06-03T20:59:01.816Z"
   },
   {
    "duration": 8,
    "start_time": "2022-06-03T21:03:06.658Z"
   },
   {
    "duration": 8,
    "start_time": "2022-06-03T21:03:11.185Z"
   },
   {
    "duration": 18,
    "start_time": "2022-06-03T21:03:35.274Z"
   },
   {
    "duration": 7,
    "start_time": "2022-06-03T21:03:42.289Z"
   },
   {
    "duration": 14,
    "start_time": "2022-06-03T21:04:04.457Z"
   },
   {
    "duration": 38,
    "start_time": "2022-06-03T21:04:10.750Z"
   },
   {
    "duration": 9,
    "start_time": "2022-06-03T21:04:28.675Z"
   },
   {
    "duration": 9,
    "start_time": "2022-06-03T21:04:29.308Z"
   },
   {
    "duration": 274,
    "start_time": "2022-06-03T21:04:45.622Z"
   },
   {
    "duration": 230,
    "start_time": "2022-06-03T21:05:07.365Z"
   },
   {
    "duration": 267,
    "start_time": "2022-06-03T21:05:10.548Z"
   },
   {
    "duration": 253,
    "start_time": "2022-06-03T21:05:27.450Z"
   },
   {
    "duration": 263,
    "start_time": "2022-06-03T21:05:55.455Z"
   },
   {
    "duration": 297,
    "start_time": "2022-06-03T21:07:04.174Z"
   },
   {
    "duration": 1156,
    "start_time": "2022-06-03T21:47:29.261Z"
   },
   {
    "duration": 75,
    "start_time": "2022-06-03T21:47:30.419Z"
   },
   {
    "duration": 11,
    "start_time": "2022-06-03T21:47:30.495Z"
   },
   {
    "duration": 29,
    "start_time": "2022-06-03T21:47:30.508Z"
   },
   {
    "duration": 37,
    "start_time": "2022-06-03T21:47:30.539Z"
   },
   {
    "duration": 9,
    "start_time": "2022-06-03T21:47:30.578Z"
   },
   {
    "duration": 19,
    "start_time": "2022-06-03T21:47:30.589Z"
   },
   {
    "duration": 40,
    "start_time": "2022-06-03T21:47:30.609Z"
   },
   {
    "duration": 31,
    "start_time": "2022-06-03T21:47:30.651Z"
   },
   {
    "duration": 16,
    "start_time": "2022-06-03T21:47:30.685Z"
   },
   {
    "duration": 18,
    "start_time": "2022-06-03T21:47:30.703Z"
   },
   {
    "duration": 38,
    "start_time": "2022-06-03T21:47:30.723Z"
   },
   {
    "duration": 28,
    "start_time": "2022-06-03T21:47:30.763Z"
   },
   {
    "duration": 114,
    "start_time": "2022-06-03T21:47:30.792Z"
   },
   {
    "duration": 6,
    "start_time": "2022-06-03T21:47:30.908Z"
   },
   {
    "duration": 41,
    "start_time": "2022-06-03T21:47:30.916Z"
   },
   {
    "duration": 20,
    "start_time": "2022-06-03T21:47:30.958Z"
   },
   {
    "duration": 14,
    "start_time": "2022-06-03T21:47:30.980Z"
   },
   {
    "duration": 15,
    "start_time": "2022-06-03T21:47:30.996Z"
   },
   {
    "duration": 15,
    "start_time": "2022-06-03T21:47:31.014Z"
   },
   {
    "duration": 58,
    "start_time": "2022-06-03T21:47:31.037Z"
   },
   {
    "duration": 26,
    "start_time": "2022-06-03T21:47:31.096Z"
   },
   {
    "duration": 25,
    "start_time": "2022-06-03T21:47:31.134Z"
   },
   {
    "duration": 22,
    "start_time": "2022-06-03T21:47:31.161Z"
   },
   {
    "duration": 16,
    "start_time": "2022-06-03T21:47:31.184Z"
   },
   {
    "duration": 33,
    "start_time": "2022-06-03T21:47:31.202Z"
   },
   {
    "duration": 331,
    "start_time": "2022-06-03T21:47:31.237Z"
   },
   {
    "duration": 7,
    "start_time": "2022-06-03T21:47:31.572Z"
   },
   {
    "duration": 17,
    "start_time": "2022-06-03T21:47:31.580Z"
   },
   {
    "duration": 12,
    "start_time": "2022-06-03T21:47:31.599Z"
   },
   {
    "duration": 188,
    "start_time": "2022-06-03T21:47:31.612Z"
   },
   {
    "duration": 13,
    "start_time": "2022-06-03T21:47:31.802Z"
   },
   {
    "duration": 37,
    "start_time": "2022-06-03T21:47:31.816Z"
   },
   {
    "duration": 23,
    "start_time": "2022-06-03T21:47:31.854Z"
   },
   {
    "duration": 21,
    "start_time": "2022-06-03T21:47:31.878Z"
   },
   {
    "duration": 32,
    "start_time": "2022-06-03T21:47:31.900Z"
   },
   {
    "duration": 32,
    "start_time": "2022-06-03T21:47:31.933Z"
   },
   {
    "duration": 229,
    "start_time": "2022-06-03T21:47:31.967Z"
   },
   {
    "duration": 6,
    "start_time": "2022-06-03T21:47:32.198Z"
   },
   {
    "duration": 48,
    "start_time": "2022-06-03T21:47:32.206Z"
   },
   {
    "duration": 11,
    "start_time": "2022-06-03T21:47:32.256Z"
   },
   {
    "duration": 8,
    "start_time": "2022-06-03T21:47:32.268Z"
   },
   {
    "duration": 16,
    "start_time": "2022-06-03T21:47:32.278Z"
   },
   {
    "duration": 8,
    "start_time": "2022-06-03T21:47:32.296Z"
   },
   {
    "duration": 13,
    "start_time": "2022-06-03T21:47:32.305Z"
   },
   {
    "duration": 58,
    "start_time": "2022-06-03T21:47:32.319Z"
   },
   {
    "duration": 14,
    "start_time": "2022-06-03T21:47:32.379Z"
   },
   {
    "duration": 393,
    "start_time": "2022-06-03T21:47:32.394Z"
   },
   {
    "duration": 9,
    "start_time": "2022-06-03T21:47:32.790Z"
   },
   {
    "duration": 16,
    "start_time": "2022-06-03T21:47:32.801Z"
   },
   {
    "duration": 51,
    "start_time": "2022-06-03T21:47:32.819Z"
   },
   {
    "duration": 253,
    "start_time": "2022-06-03T21:47:32.874Z"
   },
   {
    "duration": 34,
    "start_time": "2022-06-03T21:47:33.135Z"
   },
   {
    "duration": 19,
    "start_time": "2022-06-03T21:47:33.171Z"
   },
   {
    "duration": 22,
    "start_time": "2022-06-03T21:47:33.192Z"
   },
   {
    "duration": 11,
    "start_time": "2022-06-03T21:47:33.215Z"
   },
   {
    "duration": 41,
    "start_time": "2022-06-03T21:47:33.230Z"
   },
   {
    "duration": 249,
    "start_time": "2022-06-03T21:47:33.272Z"
   },
   {
    "duration": 1033,
    "start_time": "2022-06-03T21:47:33.522Z"
   },
   {
    "duration": 10,
    "start_time": "2022-06-03T21:47:34.557Z"
   },
   {
    "duration": 8,
    "start_time": "2022-06-03T21:47:34.568Z"
   },
   {
    "duration": 8,
    "start_time": "2022-06-03T21:47:34.577Z"
   },
   {
    "duration": 14,
    "start_time": "2022-06-03T21:47:34.586Z"
   },
   {
    "duration": 33,
    "start_time": "2022-06-03T21:47:34.601Z"
   },
   {
    "duration": 10,
    "start_time": "2022-06-03T21:47:34.635Z"
   },
   {
    "duration": 8,
    "start_time": "2022-06-03T21:47:34.650Z"
   },
   {
    "duration": 9,
    "start_time": "2022-06-03T21:47:34.660Z"
   },
   {
    "duration": 8,
    "start_time": "2022-06-03T21:47:34.670Z"
   },
   {
    "duration": 11,
    "start_time": "2022-06-03T21:47:34.680Z"
   },
   {
    "duration": 9,
    "start_time": "2022-06-03T21:47:34.693Z"
   },
   {
    "duration": 8,
    "start_time": "2022-06-03T21:47:34.703Z"
   },
   {
    "duration": 254,
    "start_time": "2022-06-03T21:47:34.723Z"
   },
   {
    "duration": 3,
    "start_time": "2022-06-03T21:49:26.764Z"
   },
   {
    "duration": 67,
    "start_time": "2022-06-03T21:49:27.759Z"
   },
   {
    "duration": 13,
    "start_time": "2022-06-03T21:49:28.639Z"
   },
   {
    "duration": 14,
    "start_time": "2022-06-03T21:49:30.746Z"
   },
   {
    "duration": 13,
    "start_time": "2022-06-03T21:54:19.752Z"
   },
   {
    "duration": 43,
    "start_time": "2022-06-03T21:55:09.925Z"
   },
   {
    "duration": 738,
    "start_time": "2022-06-03T21:55:14.467Z"
   },
   {
    "duration": 87,
    "start_time": "2022-06-03T21:55:26.152Z"
   },
   {
    "duration": 9,
    "start_time": "2022-06-03T21:55:27.556Z"
   },
   {
    "duration": 3,
    "start_time": "2022-06-03T21:55:36.651Z"
   },
   {
    "duration": 77,
    "start_time": "2022-06-03T21:55:36.656Z"
   },
   {
    "duration": 20,
    "start_time": "2022-06-03T21:55:36.735Z"
   },
   {
    "duration": 17,
    "start_time": "2022-06-03T21:55:36.759Z"
   },
   {
    "duration": 5,
    "start_time": "2022-06-03T21:55:36.777Z"
   },
   {
    "duration": 14,
    "start_time": "2022-06-03T21:55:36.784Z"
   },
   {
    "duration": 10,
    "start_time": "2022-06-03T21:55:36.800Z"
   },
   {
    "duration": 28,
    "start_time": "2022-06-03T21:55:36.812Z"
   },
   {
    "duration": 22,
    "start_time": "2022-06-03T21:55:36.845Z"
   },
   {
    "duration": 5,
    "start_time": "2022-06-03T21:55:36.869Z"
   },
   {
    "duration": 17,
    "start_time": "2022-06-03T21:55:36.876Z"
   },
   {
    "duration": 7,
    "start_time": "2022-06-03T21:55:36.895Z"
   },
   {
    "duration": 95,
    "start_time": "2022-06-03T21:55:36.903Z"
   },
   {
    "duration": 8,
    "start_time": "2022-06-03T21:55:37.000Z"
   },
   {
    "duration": 12,
    "start_time": "2022-06-03T21:58:16.963Z"
   },
   {
    "duration": 19,
    "start_time": "2022-06-03T21:58:35.490Z"
   },
   {
    "duration": 17,
    "start_time": "2022-06-03T21:58:43.156Z"
   },
   {
    "duration": 64,
    "start_time": "2022-06-03T22:00:08.936Z"
   },
   {
    "duration": 30,
    "start_time": "2022-06-03T22:00:13.637Z"
   },
   {
    "duration": 8,
    "start_time": "2022-06-03T22:03:04.747Z"
   },
   {
    "duration": 7,
    "start_time": "2022-06-03T22:03:05.708Z"
   },
   {
    "duration": 235,
    "start_time": "2022-06-03T22:03:07.078Z"
   },
   {
    "duration": 64,
    "start_time": "2022-06-03T22:04:02.323Z"
   },
   {
    "duration": 10,
    "start_time": "2022-06-03T22:04:13.144Z"
   },
   {
    "duration": 8,
    "start_time": "2022-06-03T22:04:13.653Z"
   },
   {
    "duration": 10,
    "start_time": "2022-06-03T22:04:14.745Z"
   },
   {
    "duration": 233,
    "start_time": "2022-06-03T22:06:07.848Z"
   },
   {
    "duration": 34,
    "start_time": "2022-06-03T22:07:34.261Z"
   },
   {
    "duration": 12,
    "start_time": "2022-06-03T22:07:39.143Z"
   },
   {
    "duration": 5,
    "start_time": "2022-06-03T22:07:39.865Z"
   },
   {
    "duration": 9,
    "start_time": "2022-06-03T22:07:40.658Z"
   },
   {
    "duration": 260,
    "start_time": "2022-06-03T22:07:42.143Z"
   },
   {
    "duration": 50,
    "start_time": "2022-06-03T22:08:12.438Z"
   },
   {
    "duration": 36,
    "start_time": "2022-06-03T22:11:27.044Z"
   },
   {
    "duration": 49,
    "start_time": "2022-06-03T22:11:29.998Z"
   },
   {
    "duration": 8,
    "start_time": "2022-06-03T22:13:21.151Z"
   },
   {
    "duration": 5,
    "start_time": "2022-06-03T22:13:32.344Z"
   },
   {
    "duration": 5,
    "start_time": "2022-06-03T22:13:36.312Z"
   },
   {
    "duration": 7,
    "start_time": "2022-06-03T22:13:39.722Z"
   },
   {
    "duration": 6,
    "start_time": "2022-06-03T22:13:41.051Z"
   },
   {
    "duration": 5,
    "start_time": "2022-06-03T22:13:42.155Z"
   },
   {
    "duration": 15,
    "start_time": "2022-06-03T22:13:44.123Z"
   },
   {
    "duration": 10,
    "start_time": "2022-06-03T22:13:46.202Z"
   },
   {
    "duration": 312,
    "start_time": "2022-06-03T22:14:07.093Z"
   },
   {
    "duration": 11,
    "start_time": "2022-06-03T22:15:43.551Z"
   },
   {
    "duration": 370,
    "start_time": "2022-06-03T22:15:48.195Z"
   },
   {
    "duration": 368,
    "start_time": "2022-06-03T22:17:54.599Z"
   },
   {
    "duration": 380,
    "start_time": "2022-06-03T22:18:00.502Z"
   },
   {
    "duration": 354,
    "start_time": "2022-06-03T22:18:16.204Z"
   },
   {
    "duration": 418,
    "start_time": "2022-06-03T22:18:23.787Z"
   },
   {
    "duration": 396,
    "start_time": "2022-06-03T22:18:36.270Z"
   },
   {
    "duration": 56,
    "start_time": "2022-06-03T22:20:56.208Z"
   },
   {
    "duration": 10,
    "start_time": "2022-06-03T22:20:59.609Z"
   },
   {
    "duration": 31,
    "start_time": "2022-06-03T22:21:49.033Z"
   },
   {
    "duration": 50,
    "start_time": "2022-06-03T22:23:30.668Z"
   },
   {
    "duration": 9,
    "start_time": "2022-06-03T22:23:51.772Z"
   },
   {
    "duration": 7,
    "start_time": "2022-06-03T22:23:52.224Z"
   },
   {
    "duration": 9,
    "start_time": "2022-06-03T22:23:52.659Z"
   },
   {
    "duration": 212,
    "start_time": "2022-06-03T22:23:56.691Z"
   },
   {
    "duration": 28,
    "start_time": "2022-06-03T22:26:03.491Z"
   },
   {
    "duration": 14,
    "start_time": "2022-06-03T22:26:17.894Z"
   },
   {
    "duration": 5,
    "start_time": "2022-06-03T22:26:18.347Z"
   },
   {
    "duration": 13,
    "start_time": "2022-06-03T22:26:24.000Z"
   },
   {
    "duration": 2,
    "start_time": "2022-06-03T22:26:38.353Z"
   },
   {
    "duration": 73,
    "start_time": "2022-06-03T22:26:38.359Z"
   },
   {
    "duration": 17,
    "start_time": "2022-06-03T22:26:38.435Z"
   },
   {
    "duration": 15,
    "start_time": "2022-06-03T22:26:38.453Z"
   },
   {
    "duration": 6,
    "start_time": "2022-06-03T22:26:38.470Z"
   },
   {
    "duration": 9,
    "start_time": "2022-06-03T22:26:38.477Z"
   },
   {
    "duration": 11,
    "start_time": "2022-06-03T22:26:38.488Z"
   },
   {
    "duration": 45,
    "start_time": "2022-06-03T22:26:38.501Z"
   },
   {
    "duration": 17,
    "start_time": "2022-06-03T22:26:38.547Z"
   },
   {
    "duration": 6,
    "start_time": "2022-06-03T22:26:38.566Z"
   },
   {
    "duration": 14,
    "start_time": "2022-06-03T22:26:38.574Z"
   },
   {
    "duration": 15,
    "start_time": "2022-06-03T22:26:38.590Z"
   },
   {
    "duration": 94,
    "start_time": "2022-06-03T22:26:38.606Z"
   },
   {
    "duration": 26,
    "start_time": "2022-06-03T22:26:38.702Z"
   },
   {
    "duration": 19,
    "start_time": "2022-06-03T22:26:38.732Z"
   },
   {
    "duration": 7,
    "start_time": "2022-06-03T22:26:38.752Z"
   },
   {
    "duration": 13,
    "start_time": "2022-06-03T22:26:38.760Z"
   },
   {
    "duration": 8,
    "start_time": "2022-06-03T22:26:38.774Z"
   },
   {
    "duration": 10,
    "start_time": "2022-06-03T22:26:38.783Z"
   },
   {
    "duration": 10,
    "start_time": "2022-06-03T22:26:38.794Z"
   },
   {
    "duration": 31,
    "start_time": "2022-06-03T22:26:38.827Z"
   },
   {
    "duration": 19,
    "start_time": "2022-06-03T22:26:38.859Z"
   },
   {
    "duration": 19,
    "start_time": "2022-06-03T22:26:38.880Z"
   },
   {
    "duration": 22,
    "start_time": "2022-06-03T22:26:38.901Z"
   },
   {
    "duration": 11,
    "start_time": "2022-06-03T22:26:38.925Z"
   },
   {
    "duration": 38,
    "start_time": "2022-06-03T22:26:38.938Z"
   },
   {
    "duration": 221,
    "start_time": "2022-06-03T22:26:38.977Z"
   },
   {
    "duration": 8,
    "start_time": "2022-06-03T22:26:39.200Z"
   },
   {
    "duration": 17,
    "start_time": "2022-06-03T22:26:39.212Z"
   },
   {
    "duration": 35,
    "start_time": "2022-06-03T22:26:39.230Z"
   },
   {
    "duration": 155,
    "start_time": "2022-06-03T22:26:39.266Z"
   },
   {
    "duration": 23,
    "start_time": "2022-06-03T22:26:39.423Z"
   },
   {
    "duration": 9,
    "start_time": "2022-06-03T22:26:39.450Z"
   },
   {
    "duration": 6,
    "start_time": "2022-06-03T22:26:39.460Z"
   },
   {
    "duration": 6,
    "start_time": "2022-06-03T22:26:39.467Z"
   },
   {
    "duration": 8,
    "start_time": "2022-06-03T22:26:39.475Z"
   },
   {
    "duration": 12,
    "start_time": "2022-06-03T22:26:39.484Z"
   },
   {
    "duration": 306,
    "start_time": "2022-06-03T22:26:39.497Z"
   },
   {
    "duration": 6,
    "start_time": "2022-06-03T22:26:39.805Z"
   },
   {
    "duration": 25,
    "start_time": "2022-06-03T22:26:39.812Z"
   },
   {
    "duration": 17,
    "start_time": "2022-06-03T22:26:39.842Z"
   },
   {
    "duration": 10,
    "start_time": "2022-06-03T22:26:39.861Z"
   },
   {
    "duration": 6,
    "start_time": "2022-06-03T22:26:39.872Z"
   },
   {
    "duration": 9,
    "start_time": "2022-06-03T22:26:39.879Z"
   },
   {
    "duration": 7,
    "start_time": "2022-06-03T22:26:39.889Z"
   },
   {
    "duration": 15,
    "start_time": "2022-06-03T22:26:39.897Z"
   },
   {
    "duration": 386,
    "start_time": "2022-06-03T22:26:39.913Z"
   },
   {
    "duration": 7,
    "start_time": "2022-06-03T22:26:40.301Z"
   },
   {
    "duration": 16,
    "start_time": "2022-06-03T22:26:40.310Z"
   },
   {
    "duration": 26,
    "start_time": "2022-06-03T22:26:40.332Z"
   },
   {
    "duration": 221,
    "start_time": "2022-06-03T22:26:40.360Z"
   },
   {
    "duration": 26,
    "start_time": "2022-06-03T22:26:40.583Z"
   },
   {
    "duration": 25,
    "start_time": "2022-06-03T22:26:40.627Z"
   },
   {
    "duration": 11,
    "start_time": "2022-06-03T22:26:43.575Z"
   },
   {
    "duration": 5,
    "start_time": "2022-06-03T22:26:45.068Z"
   },
   {
    "duration": 14,
    "start_time": "2022-06-03T22:26:45.821Z"
   },
   {
    "duration": 238,
    "start_time": "2022-06-03T22:26:47.367Z"
   },
   {
    "duration": 7,
    "start_time": "2022-06-03T22:29:17.102Z"
   },
   {
    "duration": 10,
    "start_time": "2022-06-03T22:29:17.778Z"
   },
   {
    "duration": 29,
    "start_time": "2022-06-03T22:30:15.747Z"
   },
   {
    "duration": 13,
    "start_time": "2022-06-03T22:34:08.899Z"
   },
   {
    "duration": 50,
    "start_time": "2022-06-03T22:36:26.302Z"
   },
   {
    "duration": 15,
    "start_time": "2022-06-03T22:38:27.569Z"
   },
   {
    "duration": 19,
    "start_time": "2022-06-03T22:38:39.842Z"
   },
   {
    "duration": 14,
    "start_time": "2022-06-03T22:38:42.049Z"
   },
   {
    "duration": 21,
    "start_time": "2022-06-03T22:40:14.899Z"
   },
   {
    "duration": 57,
    "start_time": "2022-06-03T22:43:39.825Z"
   },
   {
    "duration": 4,
    "start_time": "2022-06-03T22:43:47.498Z"
   },
   {
    "duration": 9,
    "start_time": "2022-06-03T22:43:52.007Z"
   },
   {
    "duration": 9,
    "start_time": "2022-06-03T22:44:02.976Z"
   },
   {
    "duration": 13,
    "start_time": "2022-06-03T22:44:13.521Z"
   },
   {
    "duration": 4,
    "start_time": "2022-06-03T22:44:19.750Z"
   },
   {
    "duration": 8,
    "start_time": "2022-06-03T22:44:26.679Z"
   },
   {
    "duration": 8,
    "start_time": "2022-06-03T22:44:27.811Z"
   },
   {
    "duration": 232,
    "start_time": "2022-06-03T22:45:46.733Z"
   },
   {
    "duration": 33,
    "start_time": "2022-06-03T22:57:54.563Z"
   },
   {
    "duration": 1160,
    "start_time": "2022-06-03T23:40:43.883Z"
   },
   {
    "duration": 67,
    "start_time": "2022-06-03T23:40:45.045Z"
   },
   {
    "duration": 20,
    "start_time": "2022-06-03T23:40:45.114Z"
   },
   {
    "duration": 19,
    "start_time": "2022-06-03T23:40:45.148Z"
   },
   {
    "duration": 5,
    "start_time": "2022-06-03T23:40:45.169Z"
   },
   {
    "duration": 7,
    "start_time": "2022-06-03T23:40:45.176Z"
   },
   {
    "duration": 10,
    "start_time": "2022-06-03T23:40:45.185Z"
   },
   {
    "duration": 10,
    "start_time": "2022-06-03T23:40:45.197Z"
   },
   {
    "duration": 26,
    "start_time": "2022-06-03T23:40:45.208Z"
   },
   {
    "duration": 6,
    "start_time": "2022-06-03T23:40:45.237Z"
   },
   {
    "duration": 15,
    "start_time": "2022-06-03T23:40:45.245Z"
   },
   {
    "duration": 9,
    "start_time": "2022-06-03T23:40:45.262Z"
   },
   {
    "duration": 90,
    "start_time": "2022-06-03T23:40:45.272Z"
   },
   {
    "duration": 8,
    "start_time": "2022-06-03T23:40:45.364Z"
   },
   {
    "duration": 6,
    "start_time": "2022-06-03T23:40:45.374Z"
   },
   {
    "duration": 9,
    "start_time": "2022-06-03T23:40:45.382Z"
   },
   {
    "duration": 12,
    "start_time": "2022-06-03T23:40:45.392Z"
   },
   {
    "duration": 19,
    "start_time": "2022-06-03T23:40:45.424Z"
   },
   {
    "duration": 13,
    "start_time": "2022-06-03T23:40:45.445Z"
   },
   {
    "duration": 11,
    "start_time": "2022-06-03T23:40:45.459Z"
   },
   {
    "duration": 29,
    "start_time": "2022-06-03T23:40:45.471Z"
   },
   {
    "duration": 37,
    "start_time": "2022-06-03T23:40:45.502Z"
   },
   {
    "duration": 18,
    "start_time": "2022-06-03T23:40:45.541Z"
   },
   {
    "duration": 9,
    "start_time": "2022-06-03T23:40:45.561Z"
   },
   {
    "duration": 3,
    "start_time": "2022-06-03T23:40:45.572Z"
   },
   {
    "duration": 10,
    "start_time": "2022-06-03T23:40:45.577Z"
   },
   {
    "duration": 310,
    "start_time": "2022-06-03T23:40:45.588Z"
   },
   {
    "duration": 7,
    "start_time": "2022-06-03T23:40:45.901Z"
   },
   {
    "duration": 12,
    "start_time": "2022-06-03T23:40:45.909Z"
   },
   {
    "duration": 17,
    "start_time": "2022-06-03T23:40:45.932Z"
   },
   {
    "duration": 166,
    "start_time": "2022-06-03T23:40:45.950Z"
   },
   {
    "duration": 21,
    "start_time": "2022-06-03T23:40:46.118Z"
   },
   {
    "duration": 10,
    "start_time": "2022-06-03T23:40:46.141Z"
   },
   {
    "duration": 6,
    "start_time": "2022-06-03T23:40:46.153Z"
   },
   {
    "duration": 7,
    "start_time": "2022-06-03T23:40:46.161Z"
   },
   {
    "duration": 13,
    "start_time": "2022-06-03T23:40:46.170Z"
   },
   {
    "duration": 12,
    "start_time": "2022-06-03T23:40:46.185Z"
   },
   {
    "duration": 209,
    "start_time": "2022-06-03T23:40:46.199Z"
   },
   {
    "duration": 17,
    "start_time": "2022-06-03T23:40:46.410Z"
   },
   {
    "duration": 22,
    "start_time": "2022-06-03T23:40:46.429Z"
   },
   {
    "duration": 4,
    "start_time": "2022-06-03T23:40:46.453Z"
   },
   {
    "duration": 10,
    "start_time": "2022-06-03T23:40:46.458Z"
   },
   {
    "duration": 11,
    "start_time": "2022-06-03T23:40:46.469Z"
   },
   {
    "duration": 7,
    "start_time": "2022-06-03T23:40:46.481Z"
   },
   {
    "duration": 8,
    "start_time": "2022-06-03T23:40:46.490Z"
   },
   {
    "duration": 11,
    "start_time": "2022-06-03T23:40:46.500Z"
   },
   {
    "duration": 386,
    "start_time": "2022-06-03T23:40:46.513Z"
   },
   {
    "duration": 6,
    "start_time": "2022-06-03T23:40:46.901Z"
   },
   {
    "duration": 7,
    "start_time": "2022-06-03T23:40:46.909Z"
   },
   {
    "duration": 21,
    "start_time": "2022-06-03T23:40:46.917Z"
   },
   {
    "duration": 205,
    "start_time": "2022-06-03T23:40:46.940Z"
   },
   {
    "duration": 25,
    "start_time": "2022-06-03T23:40:47.147Z"
   },
   {
    "duration": 18,
    "start_time": "2022-06-03T23:40:47.174Z"
   },
   {
    "duration": 17,
    "start_time": "2022-06-03T23:40:47.194Z"
   },
   {
    "duration": 5,
    "start_time": "2022-06-03T23:40:47.235Z"
   },
   {
    "duration": 13,
    "start_time": "2022-06-03T23:40:47.242Z"
   },
   {
    "duration": 248,
    "start_time": "2022-06-03T23:40:47.256Z"
   },
   {
    "duration": 1191,
    "start_time": "2022-06-03T23:40:47.506Z"
   },
   {
    "duration": 7,
    "start_time": "2022-06-03T23:40:48.699Z"
   },
   {
    "duration": 15,
    "start_time": "2022-06-03T23:40:48.707Z"
   },
   {
    "duration": 31,
    "start_time": "2022-06-03T23:40:48.724Z"
   },
   {
    "duration": 14,
    "start_time": "2022-06-03T23:40:48.756Z"
   },
   {
    "duration": 6,
    "start_time": "2022-06-03T23:40:48.772Z"
   },
   {
    "duration": 8,
    "start_time": "2022-06-03T23:40:48.779Z"
   },
   {
    "duration": 12,
    "start_time": "2022-06-03T23:40:48.788Z"
   },
   {
    "duration": 10,
    "start_time": "2022-06-03T23:40:48.801Z"
   },
   {
    "duration": 27,
    "start_time": "2022-06-03T23:40:48.813Z"
   },
   {
    "duration": 8,
    "start_time": "2022-06-03T23:40:48.841Z"
   },
   {
    "duration": 7,
    "start_time": "2022-06-03T23:40:48.851Z"
   },
   {
    "duration": 277,
    "start_time": "2022-06-03T23:40:48.860Z"
   },
   {
    "duration": 1214,
    "start_time": "2022-06-04T00:02:11.566Z"
   },
   {
    "duration": 69,
    "start_time": "2022-06-04T00:02:12.782Z"
   },
   {
    "duration": 13,
    "start_time": "2022-06-04T00:02:12.853Z"
   },
   {
    "duration": 16,
    "start_time": "2022-06-04T00:02:12.868Z"
   },
   {
    "duration": 5,
    "start_time": "2022-06-04T00:02:12.885Z"
   },
   {
    "duration": 32,
    "start_time": "2022-06-04T00:02:12.892Z"
   },
   {
    "duration": 12,
    "start_time": "2022-06-04T00:02:12.926Z"
   },
   {
    "duration": 13,
    "start_time": "2022-06-04T00:02:12.940Z"
   },
   {
    "duration": 15,
    "start_time": "2022-06-04T00:02:12.954Z"
   },
   {
    "duration": 7,
    "start_time": "2022-06-04T00:02:12.972Z"
   },
   {
    "duration": 15,
    "start_time": "2022-06-04T00:02:12.981Z"
   },
   {
    "duration": 25,
    "start_time": "2022-06-04T00:02:12.998Z"
   },
   {
    "duration": 75,
    "start_time": "2022-06-04T00:02:13.025Z"
   },
   {
    "duration": 6,
    "start_time": "2022-06-04T00:02:13.102Z"
   },
   {
    "duration": 6,
    "start_time": "2022-06-04T00:02:13.123Z"
   },
   {
    "duration": 13,
    "start_time": "2022-06-04T00:02:13.131Z"
   },
   {
    "duration": 14,
    "start_time": "2022-06-04T00:02:13.146Z"
   },
   {
    "duration": 10,
    "start_time": "2022-06-04T00:02:13.162Z"
   },
   {
    "duration": 12,
    "start_time": "2022-06-04T00:02:13.174Z"
   },
   {
    "duration": 9,
    "start_time": "2022-06-04T00:02:13.187Z"
   },
   {
    "duration": 25,
    "start_time": "2022-06-04T00:02:13.222Z"
   },
   {
    "duration": 17,
    "start_time": "2022-06-04T00:02:13.249Z"
   },
   {
    "duration": 21,
    "start_time": "2022-06-04T00:02:13.268Z"
   },
   {
    "duration": 10,
    "start_time": "2022-06-04T00:02:13.290Z"
   },
   {
    "duration": 21,
    "start_time": "2022-06-04T00:02:13.302Z"
   },
   {
    "duration": 11,
    "start_time": "2022-06-04T00:02:13.325Z"
   },
   {
    "duration": 292,
    "start_time": "2022-06-04T00:02:13.337Z"
   },
   {
    "duration": 7,
    "start_time": "2022-06-04T00:02:13.633Z"
   },
   {
    "duration": 5,
    "start_time": "2022-06-04T00:02:13.641Z"
   },
   {
    "duration": 9,
    "start_time": "2022-06-04T00:02:13.647Z"
   },
   {
    "duration": 168,
    "start_time": "2022-06-04T00:02:13.657Z"
   },
   {
    "duration": 14,
    "start_time": "2022-06-04T00:02:13.826Z"
   },
   {
    "duration": 7,
    "start_time": "2022-06-04T00:02:13.841Z"
   },
   {
    "duration": 6,
    "start_time": "2022-06-04T00:02:13.849Z"
   },
   {
    "duration": 11,
    "start_time": "2022-06-04T00:02:13.857Z"
   },
   {
    "duration": 10,
    "start_time": "2022-06-04T00:02:13.869Z"
   },
   {
    "duration": 10,
    "start_time": "2022-06-04T00:02:13.881Z"
   },
   {
    "duration": 213,
    "start_time": "2022-06-04T00:02:13.893Z"
   },
   {
    "duration": 6,
    "start_time": "2022-06-04T00:02:14.108Z"
   },
   {
    "duration": 13,
    "start_time": "2022-06-04T00:02:14.115Z"
   },
   {
    "duration": 4,
    "start_time": "2022-06-04T00:02:14.129Z"
   },
   {
    "duration": 8,
    "start_time": "2022-06-04T00:02:14.134Z"
   },
   {
    "duration": 6,
    "start_time": "2022-06-04T00:02:14.143Z"
   },
   {
    "duration": 7,
    "start_time": "2022-06-04T00:02:14.150Z"
   },
   {
    "duration": 6,
    "start_time": "2022-06-04T00:02:14.158Z"
   },
   {
    "duration": 10,
    "start_time": "2022-06-04T00:02:14.166Z"
   },
   {
    "duration": 397,
    "start_time": "2022-06-04T00:02:14.178Z"
   },
   {
    "duration": 7,
    "start_time": "2022-06-04T00:02:14.577Z"
   },
   {
    "duration": 3,
    "start_time": "2022-06-04T00:02:14.586Z"
   },
   {
    "duration": 9,
    "start_time": "2022-06-04T00:02:14.591Z"
   },
   {
    "duration": 197,
    "start_time": "2022-06-04T00:02:14.601Z"
   },
   {
    "duration": 31,
    "start_time": "2022-06-04T00:02:14.800Z"
   },
   {
    "duration": 21,
    "start_time": "2022-06-04T00:02:14.833Z"
   },
   {
    "duration": 13,
    "start_time": "2022-06-04T00:02:14.855Z"
   },
   {
    "duration": 5,
    "start_time": "2022-06-04T00:02:14.870Z"
   },
   {
    "duration": 11,
    "start_time": "2022-06-04T00:02:14.876Z"
   },
   {
    "duration": 266,
    "start_time": "2022-06-04T00:02:14.888Z"
   },
   {
    "duration": 1111,
    "start_time": "2022-06-04T00:02:15.155Z"
   },
   {
    "duration": 7,
    "start_time": "2022-06-04T00:02:16.268Z"
   },
   {
    "duration": 16,
    "start_time": "2022-06-04T00:02:16.277Z"
   },
   {
    "duration": 22,
    "start_time": "2022-06-04T00:02:16.294Z"
   },
   {
    "duration": 16,
    "start_time": "2022-06-04T00:02:16.317Z"
   },
   {
    "duration": 24,
    "start_time": "2022-06-04T00:02:16.335Z"
   },
   {
    "duration": 13,
    "start_time": "2022-06-04T00:02:16.360Z"
   },
   {
    "duration": 19,
    "start_time": "2022-06-04T00:02:16.374Z"
   },
   {
    "duration": 18,
    "start_time": "2022-06-04T00:02:16.394Z"
   },
   {
    "duration": 18,
    "start_time": "2022-06-04T00:02:16.413Z"
   },
   {
    "duration": 20,
    "start_time": "2022-06-04T00:02:16.433Z"
   },
   {
    "duration": 12,
    "start_time": "2022-06-04T00:02:16.455Z"
   },
   {
    "duration": 237,
    "start_time": "2022-06-04T00:02:16.468Z"
   },
   {
    "duration": 1270,
    "start_time": "2022-06-04T13:56:57.645Z"
   },
   {
    "duration": 1163,
    "start_time": "2022-06-04T13:57:03.905Z"
   },
   {
    "duration": 114,
    "start_time": "2022-06-04T13:57:05.071Z"
   },
   {
    "duration": 11,
    "start_time": "2022-06-04T13:57:05.187Z"
   },
   {
    "duration": 13,
    "start_time": "2022-06-04T13:57:05.200Z"
   },
   {
    "duration": 4,
    "start_time": "2022-06-04T13:57:05.215Z"
   },
   {
    "duration": 8,
    "start_time": "2022-06-04T13:57:05.221Z"
   },
   {
    "duration": 15,
    "start_time": "2022-06-04T13:57:05.230Z"
   },
   {
    "duration": 11,
    "start_time": "2022-06-04T13:57:05.247Z"
   },
   {
    "duration": 12,
    "start_time": "2022-06-04T13:57:05.260Z"
   },
   {
    "duration": 7,
    "start_time": "2022-06-04T13:57:05.273Z"
   },
   {
    "duration": 15,
    "start_time": "2022-06-04T13:57:05.281Z"
   },
   {
    "duration": 6,
    "start_time": "2022-06-04T13:57:05.298Z"
   },
   {
    "duration": 113,
    "start_time": "2022-06-04T13:57:05.306Z"
   },
   {
    "duration": 7,
    "start_time": "2022-06-04T13:57:05.423Z"
   },
   {
    "duration": 7,
    "start_time": "2022-06-04T13:57:05.441Z"
   },
   {
    "duration": 8,
    "start_time": "2022-06-04T13:57:05.449Z"
   },
   {
    "duration": 13,
    "start_time": "2022-06-04T13:57:05.458Z"
   },
   {
    "duration": 9,
    "start_time": "2022-06-04T13:57:05.472Z"
   },
   {
    "duration": 12,
    "start_time": "2022-06-04T13:57:05.482Z"
   },
   {
    "duration": 11,
    "start_time": "2022-06-04T13:57:05.495Z"
   },
   {
    "duration": 56,
    "start_time": "2022-06-04T13:57:05.507Z"
   },
   {
    "duration": 18,
    "start_time": "2022-06-04T13:57:05.564Z"
   },
   {
    "duration": 20,
    "start_time": "2022-06-04T13:57:05.583Z"
   },
   {
    "duration": 6,
    "start_time": "2022-06-04T13:57:05.605Z"
   },
   {
    "duration": 4,
    "start_time": "2022-06-04T13:57:05.613Z"
   },
   {
    "duration": 26,
    "start_time": "2022-06-04T13:57:05.618Z"
   },
   {
    "duration": 298,
    "start_time": "2022-06-04T13:57:05.646Z"
   },
   {
    "duration": 6,
    "start_time": "2022-06-04T13:57:05.946Z"
   },
   {
    "duration": 4,
    "start_time": "2022-06-04T13:57:05.954Z"
   },
   {
    "duration": 10,
    "start_time": "2022-06-04T13:57:05.959Z"
   },
   {
    "duration": 185,
    "start_time": "2022-06-04T13:57:05.970Z"
   },
   {
    "duration": 14,
    "start_time": "2022-06-04T13:57:06.156Z"
   },
   {
    "duration": 7,
    "start_time": "2022-06-04T13:57:06.171Z"
   },
   {
    "duration": 8,
    "start_time": "2022-06-04T13:57:06.179Z"
   },
   {
    "duration": 11,
    "start_time": "2022-06-04T13:57:06.189Z"
   },
   {
    "duration": 14,
    "start_time": "2022-06-04T13:57:06.202Z"
   },
   {
    "duration": 11,
    "start_time": "2022-06-04T13:57:06.217Z"
   },
   {
    "duration": 229,
    "start_time": "2022-06-04T13:57:06.230Z"
   },
   {
    "duration": 6,
    "start_time": "2022-06-04T13:57:06.461Z"
   },
   {
    "duration": 9,
    "start_time": "2022-06-04T13:57:06.469Z"
   },
   {
    "duration": 8,
    "start_time": "2022-06-04T13:57:06.483Z"
   },
   {
    "duration": 9,
    "start_time": "2022-06-04T13:57:06.493Z"
   },
   {
    "duration": 11,
    "start_time": "2022-06-04T13:57:06.504Z"
   },
   {
    "duration": 8,
    "start_time": "2022-06-04T13:57:06.517Z"
   },
   {
    "duration": 21,
    "start_time": "2022-06-04T13:57:06.527Z"
   },
   {
    "duration": 14,
    "start_time": "2022-06-04T13:57:06.550Z"
   },
   {
    "duration": 403,
    "start_time": "2022-06-04T13:57:06.566Z"
   },
   {
    "duration": 6,
    "start_time": "2022-06-04T13:57:06.971Z"
   },
   {
    "duration": 6,
    "start_time": "2022-06-04T13:57:06.979Z"
   },
   {
    "duration": 10,
    "start_time": "2022-06-04T13:57:06.987Z"
   },
   {
    "duration": 218,
    "start_time": "2022-06-04T13:57:06.999Z"
   },
   {
    "duration": 31,
    "start_time": "2022-06-04T13:57:07.219Z"
   },
   {
    "duration": 21,
    "start_time": "2022-06-04T13:57:07.252Z"
   },
   {
    "duration": 14,
    "start_time": "2022-06-04T13:57:07.275Z"
   },
   {
    "duration": 4,
    "start_time": "2022-06-04T13:57:07.291Z"
   },
   {
    "duration": 10,
    "start_time": "2022-06-04T13:57:07.296Z"
   },
   {
    "duration": 282,
    "start_time": "2022-06-04T13:57:07.308Z"
   },
   {
    "duration": 1109,
    "start_time": "2022-06-04T13:57:07.592Z"
   },
   {
    "duration": 7,
    "start_time": "2022-06-04T13:57:08.703Z"
   },
   {
    "duration": 15,
    "start_time": "2022-06-04T13:57:08.711Z"
   },
   {
    "duration": 19,
    "start_time": "2022-06-04T13:57:08.728Z"
   },
   {
    "duration": 9,
    "start_time": "2022-06-04T13:57:08.749Z"
   },
   {
    "duration": 6,
    "start_time": "2022-06-04T13:57:08.760Z"
   },
   {
    "duration": 8,
    "start_time": "2022-06-04T13:57:08.767Z"
   },
   {
    "duration": 12,
    "start_time": "2022-06-04T13:57:08.776Z"
   },
   {
    "duration": 8,
    "start_time": "2022-06-04T13:57:08.790Z"
   },
   {
    "duration": 11,
    "start_time": "2022-06-04T13:57:08.800Z"
   },
   {
    "duration": 32,
    "start_time": "2022-06-04T13:57:08.813Z"
   },
   {
    "duration": 7,
    "start_time": "2022-06-04T13:57:08.847Z"
   },
   {
    "duration": 249,
    "start_time": "2022-06-04T13:57:08.855Z"
   },
   {
    "duration": 36,
    "start_time": "2022-06-04T13:59:16.138Z"
   },
   {
    "duration": 17,
    "start_time": "2022-06-04T14:01:39.985Z"
   },
   {
    "duration": 15,
    "start_time": "2022-06-04T14:01:51.701Z"
   },
   {
    "duration": 15,
    "start_time": "2022-06-04T14:01:55.289Z"
   },
   {
    "duration": 25,
    "start_time": "2022-06-04T14:02:16.160Z"
   },
   {
    "duration": 14,
    "start_time": "2022-06-04T14:02:55.251Z"
   },
   {
    "duration": 16,
    "start_time": "2022-06-04T14:02:59.117Z"
   },
   {
    "duration": 759,
    "start_time": "2022-06-04T14:03:24.221Z"
   },
   {
    "duration": 512,
    "start_time": "2022-06-04T14:03:31.221Z"
   },
   {
    "duration": 499,
    "start_time": "2022-06-04T14:03:42.805Z"
   },
   {
    "duration": 45,
    "start_time": "2022-06-04T14:04:25.023Z"
   },
   {
    "duration": 12,
    "start_time": "2022-06-04T14:04:31.989Z"
   },
   {
    "duration": 509,
    "start_time": "2022-06-04T14:04:56.940Z"
   },
   {
    "duration": 16,
    "start_time": "2022-06-04T14:05:03.377Z"
   },
   {
    "duration": 16,
    "start_time": "2022-06-04T14:06:09.346Z"
   },
   {
    "duration": 15,
    "start_time": "2022-06-04T14:06:10.101Z"
   },
   {
    "duration": 17,
    "start_time": "2022-06-04T14:06:10.897Z"
   },
   {
    "duration": 15,
    "start_time": "2022-06-04T14:06:12.604Z"
   },
   {
    "duration": 13,
    "start_time": "2022-06-04T14:08:33.348Z"
   },
   {
    "duration": 5,
    "start_time": "2022-06-04T14:08:45.109Z"
   },
   {
    "duration": 14,
    "start_time": "2022-06-04T14:09:31.893Z"
   },
   {
    "duration": 5,
    "start_time": "2022-06-04T14:10:05.317Z"
   },
   {
    "duration": 5,
    "start_time": "2022-06-04T14:10:49.546Z"
   },
   {
    "duration": 13,
    "start_time": "2022-06-04T14:10:56.981Z"
   },
   {
    "duration": 14,
    "start_time": "2022-06-04T14:11:02.852Z"
   },
   {
    "duration": 13,
    "start_time": "2022-06-04T14:11:29.716Z"
   },
   {
    "duration": 15,
    "start_time": "2022-06-04T14:11:30.497Z"
   },
   {
    "duration": 11,
    "start_time": "2022-06-04T14:11:53.304Z"
   },
   {
    "duration": 14,
    "start_time": "2022-06-04T14:13:41.185Z"
   },
   {
    "duration": 16,
    "start_time": "2022-06-04T14:14:02.597Z"
   },
   {
    "duration": 13,
    "start_time": "2022-06-04T14:14:50.927Z"
   },
   {
    "duration": 15,
    "start_time": "2022-06-04T14:17:35.458Z"
   },
   {
    "duration": 13,
    "start_time": "2022-06-04T14:17:59.386Z"
   },
   {
    "duration": 21,
    "start_time": "2022-06-04T14:18:19.541Z"
   },
   {
    "duration": 15,
    "start_time": "2022-06-04T14:18:31.316Z"
   },
   {
    "duration": 14,
    "start_time": "2022-06-04T14:18:48.517Z"
   },
   {
    "duration": 15,
    "start_time": "2022-06-04T14:18:50.329Z"
   },
   {
    "duration": 11,
    "start_time": "2022-06-04T14:18:55.016Z"
   },
   {
    "duration": 20,
    "start_time": "2022-06-04T14:22:45.110Z"
   },
   {
    "duration": 15,
    "start_time": "2022-06-04T14:22:48.944Z"
   },
   {
    "duration": 10,
    "start_time": "2022-06-04T14:22:50.135Z"
   },
   {
    "duration": 39,
    "start_time": "2022-06-04T14:23:01.815Z"
   },
   {
    "duration": 14,
    "start_time": "2022-06-04T14:23:07.528Z"
   },
   {
    "duration": 10,
    "start_time": "2022-06-04T14:23:08.594Z"
   },
   {
    "duration": 15,
    "start_time": "2022-06-04T14:27:32.650Z"
   },
   {
    "duration": 1167,
    "start_time": "2022-06-04T14:27:39.602Z"
   },
   {
    "duration": 69,
    "start_time": "2022-06-04T14:27:40.771Z"
   },
   {
    "duration": 12,
    "start_time": "2022-06-04T14:27:40.842Z"
   },
   {
    "duration": 36,
    "start_time": "2022-06-04T14:27:40.857Z"
   },
   {
    "duration": 25,
    "start_time": "2022-06-04T14:27:40.895Z"
   },
   {
    "duration": 36,
    "start_time": "2022-06-04T14:27:40.921Z"
   },
   {
    "duration": 36,
    "start_time": "2022-06-04T14:27:40.959Z"
   },
   {
    "duration": 38,
    "start_time": "2022-06-04T14:27:40.997Z"
   },
   {
    "duration": 34,
    "start_time": "2022-06-04T14:27:41.037Z"
   },
   {
    "duration": 32,
    "start_time": "2022-06-04T14:27:41.075Z"
   },
   {
    "duration": 33,
    "start_time": "2022-06-04T14:27:41.110Z"
   },
   {
    "duration": 51,
    "start_time": "2022-06-04T14:27:41.145Z"
   },
   {
    "duration": 118,
    "start_time": "2022-06-04T14:27:41.198Z"
   },
   {
    "duration": 9,
    "start_time": "2022-06-04T14:27:41.317Z"
   },
   {
    "duration": 37,
    "start_time": "2022-06-04T14:27:41.328Z"
   },
   {
    "duration": 18,
    "start_time": "2022-06-04T14:27:41.367Z"
   },
   {
    "duration": 51,
    "start_time": "2022-06-04T14:27:41.386Z"
   },
   {
    "duration": 28,
    "start_time": "2022-06-04T14:27:41.439Z"
   },
   {
    "duration": 33,
    "start_time": "2022-06-04T14:27:41.469Z"
   },
   {
    "duration": 18,
    "start_time": "2022-06-04T14:27:41.503Z"
   },
   {
    "duration": 30,
    "start_time": "2022-06-04T14:27:41.522Z"
   },
   {
    "duration": 23,
    "start_time": "2022-06-04T14:27:41.553Z"
   },
   {
    "duration": 27,
    "start_time": "2022-06-04T14:27:41.577Z"
   },
   {
    "duration": 30,
    "start_time": "2022-06-04T14:27:41.606Z"
   },
   {
    "duration": 26,
    "start_time": "2022-06-04T14:27:41.638Z"
   },
   {
    "duration": 37,
    "start_time": "2022-06-04T14:27:41.665Z"
   },
   {
    "duration": 13,
    "start_time": "2022-06-04T14:27:41.704Z"
   },
   {
    "duration": 34,
    "start_time": "2022-06-04T14:27:41.721Z"
   },
   {
    "duration": 131,
    "start_time": "2022-06-04T14:27:41.756Z"
   },
   {
    "duration": 0,
    "start_time": "2022-06-04T14:27:41.889Z"
   },
   {
    "duration": 0,
    "start_time": "2022-06-04T14:27:41.891Z"
   },
   {
    "duration": 0,
    "start_time": "2022-06-04T14:27:41.892Z"
   },
   {
    "duration": 0,
    "start_time": "2022-06-04T14:27:41.893Z"
   },
   {
    "duration": 0,
    "start_time": "2022-06-04T14:27:41.894Z"
   },
   {
    "duration": 0,
    "start_time": "2022-06-04T14:27:41.895Z"
   },
   {
    "duration": 0,
    "start_time": "2022-06-04T14:27:41.896Z"
   },
   {
    "duration": 0,
    "start_time": "2022-06-04T14:27:41.897Z"
   },
   {
    "duration": 0,
    "start_time": "2022-06-04T14:27:41.898Z"
   },
   {
    "duration": 0,
    "start_time": "2022-06-04T14:27:41.899Z"
   },
   {
    "duration": 0,
    "start_time": "2022-06-04T14:27:41.900Z"
   },
   {
    "duration": 0,
    "start_time": "2022-06-04T14:27:41.901Z"
   },
   {
    "duration": 0,
    "start_time": "2022-06-04T14:27:41.901Z"
   },
   {
    "duration": 0,
    "start_time": "2022-06-04T14:27:41.902Z"
   },
   {
    "duration": 0,
    "start_time": "2022-06-04T14:27:41.903Z"
   },
   {
    "duration": 0,
    "start_time": "2022-06-04T14:27:41.904Z"
   },
   {
    "duration": 0,
    "start_time": "2022-06-04T14:27:41.905Z"
   },
   {
    "duration": 0,
    "start_time": "2022-06-04T14:27:41.906Z"
   },
   {
    "duration": 0,
    "start_time": "2022-06-04T14:27:41.908Z"
   },
   {
    "duration": 0,
    "start_time": "2022-06-04T14:27:41.942Z"
   },
   {
    "duration": 0,
    "start_time": "2022-06-04T14:27:41.943Z"
   },
   {
    "duration": 0,
    "start_time": "2022-06-04T14:27:41.944Z"
   },
   {
    "duration": 0,
    "start_time": "2022-06-04T14:27:41.945Z"
   },
   {
    "duration": 0,
    "start_time": "2022-06-04T14:27:41.946Z"
   },
   {
    "duration": 0,
    "start_time": "2022-06-04T14:27:41.947Z"
   },
   {
    "duration": 0,
    "start_time": "2022-06-04T14:27:41.948Z"
   },
   {
    "duration": 0,
    "start_time": "2022-06-04T14:27:41.949Z"
   },
   {
    "duration": 0,
    "start_time": "2022-06-04T14:27:41.950Z"
   },
   {
    "duration": 0,
    "start_time": "2022-06-04T14:27:41.951Z"
   },
   {
    "duration": 0,
    "start_time": "2022-06-04T14:27:41.951Z"
   },
   {
    "duration": 0,
    "start_time": "2022-06-04T14:27:41.952Z"
   },
   {
    "duration": 0,
    "start_time": "2022-06-04T14:27:41.953Z"
   },
   {
    "duration": 0,
    "start_time": "2022-06-04T14:27:41.954Z"
   },
   {
    "duration": 0,
    "start_time": "2022-06-04T14:27:41.955Z"
   },
   {
    "duration": 0,
    "start_time": "2022-06-04T14:27:41.956Z"
   },
   {
    "duration": 0,
    "start_time": "2022-06-04T14:27:41.957Z"
   },
   {
    "duration": 0,
    "start_time": "2022-06-04T14:27:41.958Z"
   },
   {
    "duration": 0,
    "start_time": "2022-06-04T14:27:41.958Z"
   },
   {
    "duration": 0,
    "start_time": "2022-06-04T14:27:41.959Z"
   },
   {
    "duration": 0,
    "start_time": "2022-06-04T14:27:41.961Z"
   },
   {
    "duration": 0,
    "start_time": "2022-06-04T14:27:41.961Z"
   },
   {
    "duration": 0,
    "start_time": "2022-06-04T14:27:41.963Z"
   },
   {
    "duration": 0,
    "start_time": "2022-06-04T14:27:41.964Z"
   },
   {
    "duration": 0,
    "start_time": "2022-06-04T14:27:41.964Z"
   },
   {
    "duration": 0,
    "start_time": "2022-06-04T14:27:41.966Z"
   },
   {
    "duration": 0,
    "start_time": "2022-06-04T14:27:41.967Z"
   },
   {
    "duration": 3,
    "start_time": "2022-06-04T14:28:30.398Z"
   },
   {
    "duration": 90,
    "start_time": "2022-06-04T14:28:30.402Z"
   },
   {
    "duration": 9,
    "start_time": "2022-06-04T14:28:30.494Z"
   },
   {
    "duration": 25,
    "start_time": "2022-06-04T14:28:30.505Z"
   },
   {
    "duration": 30,
    "start_time": "2022-06-04T14:28:30.532Z"
   },
   {
    "duration": 24,
    "start_time": "2022-06-04T14:28:30.563Z"
   },
   {
    "duration": 16,
    "start_time": "2022-06-04T14:28:30.589Z"
   },
   {
    "duration": 20,
    "start_time": "2022-06-04T14:28:30.607Z"
   },
   {
    "duration": 18,
    "start_time": "2022-06-04T14:28:30.629Z"
   },
   {
    "duration": 20,
    "start_time": "2022-06-04T14:28:30.648Z"
   },
   {
    "duration": 14,
    "start_time": "2022-06-04T14:28:30.671Z"
   },
   {
    "duration": 14,
    "start_time": "2022-06-04T14:28:30.687Z"
   },
   {
    "duration": 93,
    "start_time": "2022-06-04T14:28:30.703Z"
   },
   {
    "duration": 7,
    "start_time": "2022-06-04T14:28:30.798Z"
   },
   {
    "duration": 20,
    "start_time": "2022-06-04T14:28:30.806Z"
   },
   {
    "duration": 19,
    "start_time": "2022-06-04T14:28:30.827Z"
   },
   {
    "duration": 20,
    "start_time": "2022-06-04T14:28:30.848Z"
   },
   {
    "duration": 13,
    "start_time": "2022-06-04T14:28:30.869Z"
   },
   {
    "duration": 18,
    "start_time": "2022-06-04T14:28:30.884Z"
   },
   {
    "duration": 11,
    "start_time": "2022-06-04T14:28:30.903Z"
   },
   {
    "duration": 30,
    "start_time": "2022-06-04T14:28:30.916Z"
   },
   {
    "duration": 18,
    "start_time": "2022-06-04T14:28:30.948Z"
   },
   {
    "duration": 21,
    "start_time": "2022-06-04T14:28:30.968Z"
   },
   {
    "duration": 14,
    "start_time": "2022-06-04T14:28:47.711Z"
   },
   {
    "duration": 20,
    "start_time": "2022-06-04T14:28:48.841Z"
   },
   {
    "duration": 25,
    "start_time": "2022-06-04T14:28:57.894Z"
   },
   {
    "duration": 13,
    "start_time": "2022-06-04T14:29:01.582Z"
   },
   {
    "duration": 58,
    "start_time": "2022-06-04T14:30:11.905Z"
   },
   {
    "duration": 19,
    "start_time": "2022-06-04T14:30:20.654Z"
   },
   {
    "duration": 15,
    "start_time": "2022-06-04T14:30:30.524Z"
   },
   {
    "duration": 21,
    "start_time": "2022-06-04T14:30:32.037Z"
   },
   {
    "duration": 3,
    "start_time": "2022-06-04T14:30:40.151Z"
   },
   {
    "duration": 73,
    "start_time": "2022-06-04T14:30:40.156Z"
   },
   {
    "duration": 9,
    "start_time": "2022-06-04T14:30:40.232Z"
   },
   {
    "duration": 15,
    "start_time": "2022-06-04T14:30:40.243Z"
   },
   {
    "duration": 8,
    "start_time": "2022-06-04T14:30:40.261Z"
   },
   {
    "duration": 13,
    "start_time": "2022-06-04T14:30:40.271Z"
   },
   {
    "duration": 11,
    "start_time": "2022-06-04T14:30:40.285Z"
   },
   {
    "duration": 18,
    "start_time": "2022-06-04T14:30:40.297Z"
   },
   {
    "duration": 10,
    "start_time": "2022-06-04T14:30:40.342Z"
   },
   {
    "duration": 8,
    "start_time": "2022-06-04T14:30:40.353Z"
   },
   {
    "duration": 96,
    "start_time": "2022-06-04T14:30:40.364Z"
   },
   {
    "duration": 10,
    "start_time": "2022-06-04T14:30:40.462Z"
   },
   {
    "duration": 92,
    "start_time": "2022-06-04T14:30:40.473Z"
   },
   {
    "duration": 7,
    "start_time": "2022-06-04T14:30:40.567Z"
   },
   {
    "duration": 17,
    "start_time": "2022-06-04T14:30:40.576Z"
   },
   {
    "duration": 19,
    "start_time": "2022-06-04T14:30:40.595Z"
   },
   {
    "duration": 24,
    "start_time": "2022-06-04T14:30:40.616Z"
   },
   {
    "duration": 9,
    "start_time": "2022-06-04T14:30:40.641Z"
   },
   {
    "duration": 11,
    "start_time": "2022-06-04T14:30:40.652Z"
   },
   {
    "duration": 10,
    "start_time": "2022-06-04T14:30:40.665Z"
   },
   {
    "duration": 26,
    "start_time": "2022-06-04T14:30:40.677Z"
   },
   {
    "duration": 51,
    "start_time": "2022-06-04T14:30:40.705Z"
   },
   {
    "duration": 20,
    "start_time": "2022-06-04T14:30:40.757Z"
   },
   {
    "duration": 15,
    "start_time": "2022-06-04T14:30:43.078Z"
   },
   {
    "duration": 21,
    "start_time": "2022-06-04T14:30:44.102Z"
   },
   {
    "duration": 16,
    "start_time": "2022-06-04T14:30:48.557Z"
   },
   {
    "duration": 15,
    "start_time": "2022-06-04T14:30:51.106Z"
   },
   {
    "duration": 42,
    "start_time": "2022-06-04T14:34:53.110Z"
   },
   {
    "duration": 9,
    "start_time": "2022-06-04T14:34:56.139Z"
   },
   {
    "duration": 9,
    "start_time": "2022-06-04T14:35:02.857Z"
   },
   {
    "duration": 15,
    "start_time": "2022-06-04T14:36:02.863Z"
   },
   {
    "duration": 14,
    "start_time": "2022-06-04T14:36:04.502Z"
   },
   {
    "duration": 14,
    "start_time": "2022-06-04T14:36:18.939Z"
   },
   {
    "duration": 14,
    "start_time": "2022-06-04T14:36:19.958Z"
   },
   {
    "duration": 738,
    "start_time": "2022-06-04T14:36:31.516Z"
   },
   {
    "duration": 17,
    "start_time": "2022-06-04T14:36:53.398Z"
   },
   {
    "duration": 8,
    "start_time": "2022-06-04T14:37:17.066Z"
   },
   {
    "duration": 14,
    "start_time": "2022-06-04T14:37:20.528Z"
   },
   {
    "duration": 14,
    "start_time": "2022-06-04T14:37:23.061Z"
   },
   {
    "duration": 5,
    "start_time": "2022-06-04T14:37:31.002Z"
   },
   {
    "duration": 25,
    "start_time": "2022-06-04T14:37:41.302Z"
   },
   {
    "duration": 14,
    "start_time": "2022-06-04T14:40:29.110Z"
   },
   {
    "duration": 14,
    "start_time": "2022-06-04T14:40:31.920Z"
   },
   {
    "duration": 13,
    "start_time": "2022-06-04T14:44:37.052Z"
   },
   {
    "duration": 17,
    "start_time": "2022-06-04T14:44:38.421Z"
   },
   {
    "duration": 16,
    "start_time": "2022-06-04T14:44:50.701Z"
   },
   {
    "duration": 15,
    "start_time": "2022-06-04T14:45:33.908Z"
   },
   {
    "duration": 26,
    "start_time": "2022-06-04T14:46:30.014Z"
   },
   {
    "duration": 3,
    "start_time": "2022-06-04T14:47:06.117Z"
   },
   {
    "duration": 24,
    "start_time": "2022-06-04T14:47:40.202Z"
   },
   {
    "duration": 3,
    "start_time": "2022-06-04T14:47:45.402Z"
   },
   {
    "duration": 16,
    "start_time": "2022-06-04T14:47:52.998Z"
   },
   {
    "duration": 15,
    "start_time": "2022-06-04T14:48:04.110Z"
   },
   {
    "duration": 25,
    "start_time": "2022-06-04T14:48:09.706Z"
   },
   {
    "duration": 16,
    "start_time": "2022-06-04T14:48:11.806Z"
   },
   {
    "duration": 15,
    "start_time": "2022-06-04T14:48:16.653Z"
   },
   {
    "duration": 16,
    "start_time": "2022-06-04T14:48:18.602Z"
   },
   {
    "duration": 2,
    "start_time": "2022-06-04T14:48:22.615Z"
   },
   {
    "duration": 73,
    "start_time": "2022-06-04T14:48:22.619Z"
   },
   {
    "duration": 9,
    "start_time": "2022-06-04T14:48:22.693Z"
   },
   {
    "duration": 14,
    "start_time": "2022-06-04T14:48:22.704Z"
   },
   {
    "duration": 6,
    "start_time": "2022-06-04T14:48:22.720Z"
   },
   {
    "duration": 8,
    "start_time": "2022-06-04T14:48:22.741Z"
   },
   {
    "duration": 11,
    "start_time": "2022-06-04T14:48:22.751Z"
   },
   {
    "duration": 11,
    "start_time": "2022-06-04T14:48:22.764Z"
   },
   {
    "duration": 8,
    "start_time": "2022-06-04T14:48:22.777Z"
   },
   {
    "duration": 6,
    "start_time": "2022-06-04T14:48:22.786Z"
   },
   {
    "duration": 48,
    "start_time": "2022-06-04T14:48:22.794Z"
   },
   {
    "duration": 8,
    "start_time": "2022-06-04T14:48:22.843Z"
   },
   {
    "duration": 88,
    "start_time": "2022-06-04T14:48:22.853Z"
   },
   {
    "duration": 7,
    "start_time": "2022-06-04T14:48:22.942Z"
   },
   {
    "duration": 9,
    "start_time": "2022-06-04T14:48:22.951Z"
   },
   {
    "duration": 11,
    "start_time": "2022-06-04T14:48:22.962Z"
   },
   {
    "duration": 16,
    "start_time": "2022-06-04T14:48:22.975Z"
   },
   {
    "duration": 8,
    "start_time": "2022-06-04T14:48:22.992Z"
   },
   {
    "duration": 9,
    "start_time": "2022-06-04T14:48:23.002Z"
   },
   {
    "duration": 10,
    "start_time": "2022-06-04T14:48:23.041Z"
   },
   {
    "duration": 30,
    "start_time": "2022-06-04T14:48:23.053Z"
   },
   {
    "duration": 18,
    "start_time": "2022-06-04T14:48:23.085Z"
   },
   {
    "duration": 18,
    "start_time": "2022-06-04T14:48:23.104Z"
   },
   {
    "duration": 17,
    "start_time": "2022-06-04T14:48:26.994Z"
   },
   {
    "duration": 13,
    "start_time": "2022-06-04T14:48:27.661Z"
   },
   {
    "duration": 16,
    "start_time": "2022-06-04T14:48:28.221Z"
   },
   {
    "duration": 33,
    "start_time": "2022-06-04T14:53:11.762Z"
   },
   {
    "duration": 1100,
    "start_time": "2022-06-04T14:53:48.872Z"
   },
   {
    "duration": 72,
    "start_time": "2022-06-04T14:53:49.973Z"
   },
   {
    "duration": 13,
    "start_time": "2022-06-04T14:53:50.046Z"
   },
   {
    "duration": 13,
    "start_time": "2022-06-04T14:53:50.061Z"
   },
   {
    "duration": 6,
    "start_time": "2022-06-04T14:53:50.076Z"
   },
   {
    "duration": 9,
    "start_time": "2022-06-04T14:53:50.084Z"
   },
   {
    "duration": 12,
    "start_time": "2022-06-04T14:53:50.095Z"
   },
   {
    "duration": 42,
    "start_time": "2022-06-04T14:53:50.108Z"
   },
   {
    "duration": 13,
    "start_time": "2022-06-04T14:53:50.152Z"
   },
   {
    "duration": 5,
    "start_time": "2022-06-04T14:53:50.168Z"
   },
   {
    "duration": 15,
    "start_time": "2022-06-04T14:53:50.175Z"
   },
   {
    "duration": 7,
    "start_time": "2022-06-04T14:53:50.191Z"
   },
   {
    "duration": 101,
    "start_time": "2022-06-04T14:53:50.200Z"
   },
   {
    "duration": 6,
    "start_time": "2022-06-04T14:53:50.303Z"
   },
   {
    "duration": 6,
    "start_time": "2022-06-04T14:53:50.311Z"
   },
   {
    "duration": 22,
    "start_time": "2022-06-04T14:53:50.319Z"
   },
   {
    "duration": 10,
    "start_time": "2022-06-04T14:53:50.343Z"
   },
   {
    "duration": 10,
    "start_time": "2022-06-04T14:53:50.355Z"
   },
   {
    "duration": 11,
    "start_time": "2022-06-04T14:53:50.367Z"
   },
   {
    "duration": 10,
    "start_time": "2022-06-04T14:53:50.379Z"
   },
   {
    "duration": 23,
    "start_time": "2022-06-04T14:53:50.391Z"
   },
   {
    "duration": 21,
    "start_time": "2022-06-04T14:53:50.441Z"
   },
   {
    "duration": 21,
    "start_time": "2022-06-04T14:53:50.463Z"
   },
   {
    "duration": 14,
    "start_time": "2022-06-04T14:53:50.486Z"
   },
   {
    "duration": 13,
    "start_time": "2022-06-04T14:53:50.502Z"
   },
   {
    "duration": 36,
    "start_time": "2022-06-04T14:53:50.517Z"
   },
   {
    "duration": 7,
    "start_time": "2022-06-04T14:53:50.554Z"
   },
   {
    "duration": 4,
    "start_time": "2022-06-04T14:53:50.565Z"
   },
   {
    "duration": 9,
    "start_time": "2022-06-04T14:53:50.570Z"
   },
   {
    "duration": 312,
    "start_time": "2022-06-04T14:53:50.581Z"
   },
   {
    "duration": 7,
    "start_time": "2022-06-04T14:53:50.895Z"
   },
   {
    "duration": 10,
    "start_time": "2022-06-04T14:53:50.903Z"
   },
   {
    "duration": 15,
    "start_time": "2022-06-04T14:53:50.915Z"
   },
   {
    "duration": 173,
    "start_time": "2022-06-04T14:53:50.932Z"
   },
   {
    "duration": 14,
    "start_time": "2022-06-04T14:53:51.107Z"
   },
   {
    "duration": 7,
    "start_time": "2022-06-04T14:53:51.122Z"
   },
   {
    "duration": 10,
    "start_time": "2022-06-04T14:53:51.131Z"
   },
   {
    "duration": 7,
    "start_time": "2022-06-04T14:53:51.143Z"
   },
   {
    "duration": 6,
    "start_time": "2022-06-04T14:53:51.151Z"
   },
   {
    "duration": 10,
    "start_time": "2022-06-04T14:53:51.158Z"
   },
   {
    "duration": 232,
    "start_time": "2022-06-04T14:53:51.170Z"
   },
   {
    "duration": 7,
    "start_time": "2022-06-04T14:53:51.404Z"
   },
   {
    "duration": 9,
    "start_time": "2022-06-04T14:53:51.413Z"
   },
   {
    "duration": 18,
    "start_time": "2022-06-04T14:53:51.423Z"
   },
   {
    "duration": 4,
    "start_time": "2022-06-04T14:53:51.443Z"
   },
   {
    "duration": 13,
    "start_time": "2022-06-04T14:53:51.448Z"
   },
   {
    "duration": 6,
    "start_time": "2022-06-04T14:53:51.462Z"
   },
   {
    "duration": 5,
    "start_time": "2022-06-04T14:53:51.470Z"
   },
   {
    "duration": 12,
    "start_time": "2022-06-04T14:53:51.477Z"
   },
   {
    "duration": 399,
    "start_time": "2022-06-04T14:53:51.491Z"
   },
   {
    "duration": 6,
    "start_time": "2022-06-04T14:53:51.892Z"
   },
   {
    "duration": 5,
    "start_time": "2022-06-04T14:53:51.899Z"
   },
   {
    "duration": 10,
    "start_time": "2022-06-04T14:53:51.905Z"
   },
   {
    "duration": 204,
    "start_time": "2022-06-04T14:53:51.916Z"
   },
   {
    "duration": 29,
    "start_time": "2022-06-04T14:53:52.122Z"
   },
   {
    "duration": 17,
    "start_time": "2022-06-04T14:53:52.153Z"
   },
   {
    "duration": 12,
    "start_time": "2022-06-04T14:53:52.171Z"
   },
   {
    "duration": 3,
    "start_time": "2022-06-04T14:53:52.185Z"
   },
   {
    "duration": 9,
    "start_time": "2022-06-04T14:53:52.189Z"
   },
   {
    "duration": 256,
    "start_time": "2022-06-04T14:53:52.199Z"
   },
   {
    "duration": 1090,
    "start_time": "2022-06-04T14:53:52.457Z"
   },
   {
    "duration": 7,
    "start_time": "2022-06-04T14:53:53.548Z"
   },
   {
    "duration": 19,
    "start_time": "2022-06-04T14:53:53.556Z"
   },
   {
    "duration": 14,
    "start_time": "2022-06-04T14:53:53.577Z"
   },
   {
    "duration": 8,
    "start_time": "2022-06-04T14:53:53.593Z"
   },
   {
    "duration": 5,
    "start_time": "2022-06-04T14:53:53.603Z"
   },
   {
    "duration": 6,
    "start_time": "2022-06-04T14:53:53.610Z"
   },
   {
    "duration": 30,
    "start_time": "2022-06-04T14:53:53.618Z"
   },
   {
    "duration": 10,
    "start_time": "2022-06-04T14:53:53.649Z"
   },
   {
    "duration": 12,
    "start_time": "2022-06-04T14:53:53.660Z"
   },
   {
    "duration": 9,
    "start_time": "2022-06-04T14:53:53.674Z"
   },
   {
    "duration": 7,
    "start_time": "2022-06-04T14:53:53.684Z"
   },
   {
    "duration": 252,
    "start_time": "2022-06-04T14:53:53.692Z"
   },
   {
    "duration": 72,
    "start_time": "2022-06-04T14:55:07.926Z"
   },
   {
    "duration": 208,
    "start_time": "2022-06-04T14:55:13.917Z"
   },
   {
    "duration": 227,
    "start_time": "2022-06-04T14:59:31.065Z"
   },
   {
    "duration": 222,
    "start_time": "2022-06-04T14:59:38.540Z"
   },
   {
    "duration": 297,
    "start_time": "2022-06-04T14:59:46.005Z"
   },
   {
    "duration": 209,
    "start_time": "2022-06-04T15:01:57.169Z"
   },
   {
    "duration": 5,
    "start_time": "2022-06-04T15:02:30.021Z"
   },
   {
    "duration": 127,
    "start_time": "2022-06-04T15:03:28.555Z"
   },
   {
    "duration": 39,
    "start_time": "2022-06-04T15:03:47.059Z"
   },
   {
    "duration": 28,
    "start_time": "2022-06-04T15:03:49.457Z"
   },
   {
    "duration": 215,
    "start_time": "2022-06-04T15:03:53.351Z"
   },
   {
    "duration": 226,
    "start_time": "2022-06-04T15:03:54.921Z"
   },
   {
    "duration": 212,
    "start_time": "2022-06-04T15:04:02.709Z"
   },
   {
    "duration": 162,
    "start_time": "2022-06-04T15:06:49.618Z"
   },
   {
    "duration": 228,
    "start_time": "2022-06-04T15:06:56.501Z"
   },
   {
    "duration": 151,
    "start_time": "2022-06-04T15:07:13.323Z"
   },
   {
    "duration": 228,
    "start_time": "2022-06-04T15:07:19.829Z"
   },
   {
    "duration": 7,
    "start_time": "2022-06-04T15:08:54.709Z"
   },
   {
    "duration": 4,
    "start_time": "2022-06-04T15:08:55.613Z"
   },
   {
    "duration": 6,
    "start_time": "2022-06-04T15:08:57.325Z"
   },
   {
    "duration": 201,
    "start_time": "2022-06-04T15:09:03.960Z"
   },
   {
    "duration": 305,
    "start_time": "2022-06-04T15:09:23.405Z"
   },
   {
    "duration": 208,
    "start_time": "2022-06-04T15:09:40.793Z"
   },
   {
    "duration": 33,
    "start_time": "2022-06-04T15:10:49.101Z"
   },
   {
    "duration": 7,
    "start_time": "2022-06-04T15:11:42.642Z"
   },
   {
    "duration": 4,
    "start_time": "2022-06-04T15:11:43.317Z"
   },
   {
    "duration": 6,
    "start_time": "2022-06-04T15:11:44.016Z"
   },
   {
    "duration": 210,
    "start_time": "2022-06-04T15:11:46.648Z"
   },
   {
    "duration": 16,
    "start_time": "2022-06-04T15:12:18.642Z"
   },
   {
    "duration": 7,
    "start_time": "2022-06-04T15:12:27.546Z"
   },
   {
    "duration": 15,
    "start_time": "2022-06-04T15:12:53.754Z"
   },
   {
    "duration": 7,
    "start_time": "2022-06-04T15:13:02.715Z"
   },
   {
    "duration": 7,
    "start_time": "2022-06-04T15:13:46.310Z"
   },
   {
    "duration": 4,
    "start_time": "2022-06-04T15:13:47.012Z"
   },
   {
    "duration": 6,
    "start_time": "2022-06-04T15:13:47.753Z"
   },
   {
    "duration": 217,
    "start_time": "2022-06-04T15:13:48.705Z"
   },
   {
    "duration": 34,
    "start_time": "2022-06-04T15:14:46.797Z"
   },
   {
    "duration": 2,
    "start_time": "2022-06-04T15:15:49.550Z"
   },
   {
    "duration": 3,
    "start_time": "2022-06-04T15:16:08.421Z"
   },
   {
    "duration": 1128,
    "start_time": "2022-06-04T15:18:03.586Z"
   },
   {
    "duration": 73,
    "start_time": "2022-06-04T15:18:04.716Z"
   },
   {
    "duration": 13,
    "start_time": "2022-06-04T15:18:04.790Z"
   },
   {
    "duration": 15,
    "start_time": "2022-06-04T15:18:04.805Z"
   },
   {
    "duration": 23,
    "start_time": "2022-06-04T15:18:04.822Z"
   },
   {
    "duration": 9,
    "start_time": "2022-06-04T15:18:04.847Z"
   },
   {
    "duration": 10,
    "start_time": "2022-06-04T15:18:04.857Z"
   },
   {
    "duration": 10,
    "start_time": "2022-06-04T15:18:04.869Z"
   },
   {
    "duration": 11,
    "start_time": "2022-06-04T15:18:04.881Z"
   },
   {
    "duration": 5,
    "start_time": "2022-06-04T15:18:04.894Z"
   },
   {
    "duration": 17,
    "start_time": "2022-06-04T15:18:04.942Z"
   },
   {
    "duration": 12,
    "start_time": "2022-06-04T15:18:04.960Z"
   },
   {
    "duration": 109,
    "start_time": "2022-06-04T15:18:04.974Z"
   },
   {
    "duration": 7,
    "start_time": "2022-06-04T15:18:05.086Z"
   },
   {
    "duration": 7,
    "start_time": "2022-06-04T15:18:05.095Z"
   },
   {
    "duration": 6,
    "start_time": "2022-06-04T15:18:05.104Z"
   },
   {
    "duration": 39,
    "start_time": "2022-06-04T15:18:05.112Z"
   },
   {
    "duration": 8,
    "start_time": "2022-06-04T15:18:05.153Z"
   },
   {
    "duration": 12,
    "start_time": "2022-06-04T15:18:05.162Z"
   },
   {
    "duration": 11,
    "start_time": "2022-06-04T15:18:05.176Z"
   },
   {
    "duration": 54,
    "start_time": "2022-06-04T15:18:05.188Z"
   },
   {
    "duration": 19,
    "start_time": "2022-06-04T15:18:05.245Z"
   },
   {
    "duration": 21,
    "start_time": "2022-06-04T15:18:05.266Z"
   },
   {
    "duration": 17,
    "start_time": "2022-06-04T15:18:05.288Z"
   },
   {
    "duration": 38,
    "start_time": "2022-06-04T15:18:05.306Z"
   },
   {
    "duration": 13,
    "start_time": "2022-06-04T15:18:05.347Z"
   },
   {
    "duration": 6,
    "start_time": "2022-06-04T15:18:05.362Z"
   },
   {
    "duration": 5,
    "start_time": "2022-06-04T15:18:05.369Z"
   },
   {
    "duration": 11,
    "start_time": "2022-06-04T15:18:05.375Z"
   },
   {
    "duration": 310,
    "start_time": "2022-06-04T15:18:05.387Z"
   },
   {
    "duration": 6,
    "start_time": "2022-06-04T15:18:05.698Z"
   },
   {
    "duration": 7,
    "start_time": "2022-06-04T15:18:05.706Z"
   },
   {
    "duration": 9,
    "start_time": "2022-06-04T15:18:05.714Z"
   },
   {
    "duration": 164,
    "start_time": "2022-06-04T15:18:05.724Z"
   },
   {
    "duration": 14,
    "start_time": "2022-06-04T15:18:05.889Z"
   },
   {
    "duration": 6,
    "start_time": "2022-06-04T15:18:05.905Z"
   },
   {
    "duration": 7,
    "start_time": "2022-06-04T15:18:05.912Z"
   },
   {
    "duration": 21,
    "start_time": "2022-06-04T15:18:05.920Z"
   },
   {
    "duration": 5,
    "start_time": "2022-06-04T15:18:05.943Z"
   },
   {
    "duration": 11,
    "start_time": "2022-06-04T15:18:05.950Z"
   },
   {
    "duration": 227,
    "start_time": "2022-06-04T15:18:05.966Z"
   },
   {
    "duration": 6,
    "start_time": "2022-06-04T15:18:06.194Z"
   },
   {
    "duration": 11,
    "start_time": "2022-06-04T15:18:06.202Z"
   },
   {
    "duration": 4,
    "start_time": "2022-06-04T15:18:06.214Z"
   },
   {
    "duration": 6,
    "start_time": "2022-06-04T15:18:06.219Z"
   },
   {
    "duration": 14,
    "start_time": "2022-06-04T15:18:06.227Z"
   },
   {
    "duration": 6,
    "start_time": "2022-06-04T15:18:06.243Z"
   },
   {
    "duration": 6,
    "start_time": "2022-06-04T15:18:06.250Z"
   },
   {
    "duration": 12,
    "start_time": "2022-06-04T15:18:06.257Z"
   },
   {
    "duration": 399,
    "start_time": "2022-06-04T15:18:06.270Z"
   },
   {
    "duration": 7,
    "start_time": "2022-06-04T15:18:06.670Z"
   },
   {
    "duration": 4,
    "start_time": "2022-06-04T15:18:06.679Z"
   },
   {
    "duration": 8,
    "start_time": "2022-06-04T15:18:06.684Z"
   },
   {
    "duration": 106,
    "start_time": "2022-06-04T15:18:06.694Z"
   },
   {
    "duration": 0,
    "start_time": "2022-06-04T15:18:06.802Z"
   },
   {
    "duration": 0,
    "start_time": "2022-06-04T15:18:06.803Z"
   },
   {
    "duration": 0,
    "start_time": "2022-06-04T15:18:06.804Z"
   },
   {
    "duration": 0,
    "start_time": "2022-06-04T15:18:06.805Z"
   },
   {
    "duration": 0,
    "start_time": "2022-06-04T15:18:06.806Z"
   },
   {
    "duration": 0,
    "start_time": "2022-06-04T15:18:06.807Z"
   },
   {
    "duration": 0,
    "start_time": "2022-06-04T15:18:06.808Z"
   },
   {
    "duration": 0,
    "start_time": "2022-06-04T15:18:06.809Z"
   },
   {
    "duration": 0,
    "start_time": "2022-06-04T15:18:06.810Z"
   },
   {
    "duration": 0,
    "start_time": "2022-06-04T15:18:06.811Z"
   },
   {
    "duration": 0,
    "start_time": "2022-06-04T15:18:06.812Z"
   },
   {
    "duration": 0,
    "start_time": "2022-06-04T15:18:06.814Z"
   },
   {
    "duration": 0,
    "start_time": "2022-06-04T15:18:06.814Z"
   },
   {
    "duration": 0,
    "start_time": "2022-06-04T15:18:06.841Z"
   },
   {
    "duration": 0,
    "start_time": "2022-06-04T15:18:06.842Z"
   },
   {
    "duration": 0,
    "start_time": "2022-06-04T15:18:06.843Z"
   },
   {
    "duration": 0,
    "start_time": "2022-06-04T15:18:06.844Z"
   },
   {
    "duration": 0,
    "start_time": "2022-06-04T15:18:06.845Z"
   },
   {
    "duration": 0,
    "start_time": "2022-06-04T15:18:06.846Z"
   },
   {
    "duration": 12,
    "start_time": "2022-06-04T15:18:30.382Z"
   },
   {
    "duration": 204,
    "start_time": "2022-06-04T15:18:37.621Z"
   },
   {
    "duration": 1234,
    "start_time": "2022-06-04T15:18:43.245Z"
   },
   {
    "duration": 69,
    "start_time": "2022-06-04T15:18:44.481Z"
   },
   {
    "duration": 12,
    "start_time": "2022-06-04T15:18:44.551Z"
   },
   {
    "duration": 15,
    "start_time": "2022-06-04T15:18:44.565Z"
   },
   {
    "duration": 10,
    "start_time": "2022-06-04T15:18:44.582Z"
   },
   {
    "duration": 10,
    "start_time": "2022-06-04T15:18:44.594Z"
   },
   {
    "duration": 10,
    "start_time": "2022-06-04T15:18:44.606Z"
   },
   {
    "duration": 33,
    "start_time": "2022-06-04T15:18:44.617Z"
   },
   {
    "duration": 11,
    "start_time": "2022-06-04T15:18:44.652Z"
   },
   {
    "duration": 5,
    "start_time": "2022-06-04T15:18:44.666Z"
   },
   {
    "duration": 16,
    "start_time": "2022-06-04T15:18:44.673Z"
   },
   {
    "duration": 8,
    "start_time": "2022-06-04T15:18:44.690Z"
   },
   {
    "duration": 105,
    "start_time": "2022-06-04T15:18:44.700Z"
   },
   {
    "duration": 7,
    "start_time": "2022-06-04T15:18:44.807Z"
   },
   {
    "duration": 8,
    "start_time": "2022-06-04T15:18:44.816Z"
   },
   {
    "duration": 21,
    "start_time": "2022-06-04T15:18:44.825Z"
   },
   {
    "duration": 17,
    "start_time": "2022-06-04T15:18:44.848Z"
   },
   {
    "duration": 9,
    "start_time": "2022-06-04T15:18:44.867Z"
   },
   {
    "duration": 13,
    "start_time": "2022-06-04T15:18:44.877Z"
   },
   {
    "duration": 11,
    "start_time": "2022-06-04T15:18:44.891Z"
   },
   {
    "duration": 49,
    "start_time": "2022-06-04T15:18:44.904Z"
   },
   {
    "duration": 20,
    "start_time": "2022-06-04T15:18:44.954Z"
   },
   {
    "duration": 20,
    "start_time": "2022-06-04T15:18:44.976Z"
   },
   {
    "duration": 17,
    "start_time": "2022-06-04T15:18:44.998Z"
   },
   {
    "duration": 37,
    "start_time": "2022-06-04T15:18:45.017Z"
   },
   {
    "duration": 14,
    "start_time": "2022-06-04T15:18:45.056Z"
   },
   {
    "duration": 6,
    "start_time": "2022-06-04T15:18:45.072Z"
   },
   {
    "duration": 4,
    "start_time": "2022-06-04T15:18:45.082Z"
   },
   {
    "duration": 8,
    "start_time": "2022-06-04T15:18:45.088Z"
   },
   {
    "duration": 317,
    "start_time": "2022-06-04T15:18:45.098Z"
   },
   {
    "duration": 8,
    "start_time": "2022-06-04T15:18:45.417Z"
   },
   {
    "duration": 16,
    "start_time": "2022-06-04T15:18:45.427Z"
   },
   {
    "duration": 9,
    "start_time": "2022-06-04T15:18:45.444Z"
   },
   {
    "duration": 172,
    "start_time": "2022-06-04T15:18:45.455Z"
   },
   {
    "duration": 21,
    "start_time": "2022-06-04T15:18:45.629Z"
   },
   {
    "duration": 7,
    "start_time": "2022-06-04T15:18:45.651Z"
   },
   {
    "duration": 5,
    "start_time": "2022-06-04T15:18:45.660Z"
   },
   {
    "duration": 6,
    "start_time": "2022-06-04T15:18:45.667Z"
   },
   {
    "duration": 10,
    "start_time": "2022-06-04T15:18:45.674Z"
   },
   {
    "duration": 10,
    "start_time": "2022-06-04T15:18:45.685Z"
   },
   {
    "duration": 241,
    "start_time": "2022-06-04T15:18:45.697Z"
   },
   {
    "duration": 5,
    "start_time": "2022-06-04T15:18:45.941Z"
   },
   {
    "duration": 9,
    "start_time": "2022-06-04T15:18:45.948Z"
   },
   {
    "duration": 3,
    "start_time": "2022-06-04T15:18:45.959Z"
   },
   {
    "duration": 6,
    "start_time": "2022-06-04T15:18:45.963Z"
   },
   {
    "duration": 6,
    "start_time": "2022-06-04T15:18:45.970Z"
   },
   {
    "duration": 9,
    "start_time": "2022-06-04T15:18:45.978Z"
   },
   {
    "duration": 6,
    "start_time": "2022-06-04T15:18:45.988Z"
   },
   {
    "duration": 12,
    "start_time": "2022-06-04T15:18:45.996Z"
   },
   {
    "duration": 424,
    "start_time": "2022-06-04T15:18:46.009Z"
   },
   {
    "duration": 8,
    "start_time": "2022-06-04T15:18:46.435Z"
   },
   {
    "duration": 7,
    "start_time": "2022-06-04T15:18:46.444Z"
   },
   {
    "duration": 12,
    "start_time": "2022-06-04T15:18:46.452Z"
   },
   {
    "duration": 233,
    "start_time": "2022-06-04T15:18:46.465Z"
   },
   {
    "duration": 27,
    "start_time": "2022-06-04T15:18:46.699Z"
   },
   {
    "duration": 26,
    "start_time": "2022-06-04T15:18:46.728Z"
   },
   {
    "duration": 12,
    "start_time": "2022-06-04T15:18:46.756Z"
   },
   {
    "duration": 4,
    "start_time": "2022-06-04T15:18:46.769Z"
   },
   {
    "duration": 9,
    "start_time": "2022-06-04T15:18:46.775Z"
   },
   {
    "duration": 265,
    "start_time": "2022-06-04T15:18:46.785Z"
   },
   {
    "duration": 1182,
    "start_time": "2022-06-04T15:18:47.052Z"
   },
   {
    "duration": 6,
    "start_time": "2022-06-04T15:18:48.236Z"
   },
   {
    "duration": 13,
    "start_time": "2022-06-04T15:18:48.244Z"
   },
   {
    "duration": 16,
    "start_time": "2022-06-04T15:18:48.258Z"
   },
   {
    "duration": 8,
    "start_time": "2022-06-04T15:18:48.276Z"
   },
   {
    "duration": 6,
    "start_time": "2022-06-04T15:18:48.285Z"
   },
   {
    "duration": 8,
    "start_time": "2022-06-04T15:18:48.292Z"
   },
   {
    "duration": 11,
    "start_time": "2022-06-04T15:18:48.302Z"
   },
   {
    "duration": 34,
    "start_time": "2022-06-04T15:18:48.315Z"
   },
   {
    "duration": 14,
    "start_time": "2022-06-04T15:18:48.351Z"
   },
   {
    "duration": 9,
    "start_time": "2022-06-04T15:18:48.366Z"
   },
   {
    "duration": 7,
    "start_time": "2022-06-04T15:18:48.377Z"
   },
   {
    "duration": 271,
    "start_time": "2022-06-04T15:18:48.385Z"
   },
   {
    "duration": 235,
    "start_time": "2022-06-04T15:19:14.345Z"
   },
   {
    "duration": 248,
    "start_time": "2022-06-04T15:20:58.982Z"
   },
   {
    "duration": 8,
    "start_time": "2022-06-04T15:37:49.508Z"
   },
   {
    "duration": 16,
    "start_time": "2022-06-04T15:37:58.087Z"
   },
   {
    "duration": 16,
    "start_time": "2022-06-04T15:38:10.191Z"
   },
   {
    "duration": 13,
    "start_time": "2022-06-04T15:39:10.843Z"
   },
   {
    "duration": 15,
    "start_time": "2022-06-04T15:58:40.404Z"
   },
   {
    "duration": 15,
    "start_time": "2022-06-04T15:58:50.813Z"
   },
   {
    "duration": 16,
    "start_time": "2022-06-04T15:58:53.799Z"
   },
   {
    "duration": 19,
    "start_time": "2022-06-04T15:59:49.624Z"
   },
   {
    "duration": 31,
    "start_time": "2022-06-04T16:01:18.998Z"
   },
   {
    "duration": 6,
    "start_time": "2022-06-04T16:01:22.494Z"
   },
   {
    "duration": 15,
    "start_time": "2022-06-04T16:01:26.534Z"
   },
   {
    "duration": 5,
    "start_time": "2022-06-04T16:02:37.304Z"
   },
   {
    "duration": 4,
    "start_time": "2022-06-04T16:02:43.608Z"
   },
   {
    "duration": 5,
    "start_time": "2022-06-04T16:03:09.807Z"
   },
   {
    "duration": 4,
    "start_time": "2022-06-04T16:03:19.505Z"
   },
   {
    "duration": 114,
    "start_time": "2022-06-04T16:03:32.428Z"
   },
   {
    "duration": 4,
    "start_time": "2022-06-04T16:03:41.971Z"
   },
   {
    "duration": 29,
    "start_time": "2022-06-04T16:04:26.390Z"
   },
   {
    "duration": 9,
    "start_time": "2022-06-04T16:04:48.628Z"
   },
   {
    "duration": 19,
    "start_time": "2022-06-04T16:04:53.694Z"
   },
   {
    "duration": 30,
    "start_time": "2022-06-04T16:05:32.193Z"
   },
   {
    "duration": 14,
    "start_time": "2022-06-04T16:06:43.267Z"
   },
   {
    "duration": 11,
    "start_time": "2022-06-04T16:07:25.803Z"
   },
   {
    "duration": 8,
    "start_time": "2022-06-04T16:07:31.090Z"
   },
   {
    "duration": 8,
    "start_time": "2022-06-04T16:07:49.070Z"
   },
   {
    "duration": 8,
    "start_time": "2022-06-04T16:08:08.019Z"
   },
   {
    "duration": 5,
    "start_time": "2022-06-04T16:08:21.301Z"
   },
   {
    "duration": 5,
    "start_time": "2022-06-04T16:08:27.029Z"
   },
   {
    "duration": 10,
    "start_time": "2022-06-04T16:08:32.027Z"
   },
   {
    "duration": 5,
    "start_time": "2022-06-04T16:08:35.411Z"
   },
   {
    "duration": 5,
    "start_time": "2022-06-04T16:08:43.321Z"
   },
   {
    "duration": 8,
    "start_time": "2022-06-04T16:08:47.806Z"
   },
   {
    "duration": 8,
    "start_time": "2022-06-04T16:09:03.503Z"
   },
   {
    "duration": 5,
    "start_time": "2022-06-04T16:10:07.218Z"
   },
   {
    "duration": 15,
    "start_time": "2022-06-04T16:11:59.718Z"
   },
   {
    "duration": 107,
    "start_time": "2022-06-04T16:15:39.120Z"
   },
   {
    "duration": 5,
    "start_time": "2022-06-04T16:19:45.186Z"
   },
   {
    "duration": 16,
    "start_time": "2022-06-04T16:19:57.138Z"
   },
   {
    "duration": 6,
    "start_time": "2022-06-04T16:21:00.902Z"
   },
   {
    "duration": 7,
    "start_time": "2022-06-04T16:21:09.598Z"
   },
   {
    "duration": 6,
    "start_time": "2022-06-04T16:21:28.042Z"
   },
   {
    "duration": 4,
    "start_time": "2022-06-04T16:21:29.130Z"
   },
   {
    "duration": 4,
    "start_time": "2022-06-04T16:21:52.527Z"
   },
   {
    "duration": 4,
    "start_time": "2022-06-04T16:21:55.763Z"
   },
   {
    "duration": 6,
    "start_time": "2022-06-04T16:25:08.810Z"
   },
   {
    "duration": 14,
    "start_time": "2022-06-04T16:25:24.314Z"
   },
   {
    "duration": 7,
    "start_time": "2022-06-04T16:25:56.855Z"
   },
   {
    "duration": 7,
    "start_time": "2022-06-04T16:26:13.432Z"
   },
   {
    "duration": 4,
    "start_time": "2022-06-04T16:26:42.509Z"
   },
   {
    "duration": 8,
    "start_time": "2022-06-04T16:26:52.046Z"
   },
   {
    "duration": 5,
    "start_time": "2022-06-04T16:27:12.305Z"
   },
   {
    "duration": 8,
    "start_time": "2022-06-04T16:27:13.021Z"
   },
   {
    "duration": 6,
    "start_time": "2022-06-04T16:27:43.598Z"
   },
   {
    "duration": 9,
    "start_time": "2022-06-04T16:27:45.256Z"
   },
   {
    "duration": 6,
    "start_time": "2022-06-04T16:28:04.046Z"
   },
   {
    "duration": 15,
    "start_time": "2022-06-04T16:28:04.625Z"
   },
   {
    "duration": 9,
    "start_time": "2022-06-04T16:28:05.210Z"
   },
   {
    "duration": 343,
    "start_time": "2022-06-04T16:28:05.902Z"
   },
   {
    "duration": 5,
    "start_time": "2022-06-04T16:29:07.659Z"
   },
   {
    "duration": 15,
    "start_time": "2022-06-04T16:29:14.214Z"
   },
   {
    "duration": 5,
    "start_time": "2022-06-04T16:29:24.640Z"
   },
   {
    "duration": 5,
    "start_time": "2022-06-04T16:33:05.923Z"
   },
   {
    "duration": 4,
    "start_time": "2022-06-04T16:33:11.756Z"
   },
   {
    "duration": 6,
    "start_time": "2022-06-04T16:33:46.435Z"
   },
   {
    "duration": 6,
    "start_time": "2022-06-04T16:33:53.709Z"
   },
   {
    "duration": 6,
    "start_time": "2022-06-04T16:33:59.058Z"
   },
   {
    "duration": 11,
    "start_time": "2022-06-04T16:34:34.049Z"
   },
   {
    "duration": 3,
    "start_time": "2022-06-04T16:34:48.309Z"
   },
   {
    "duration": 14,
    "start_time": "2022-06-04T16:34:57.066Z"
   },
   {
    "duration": 12,
    "start_time": "2022-06-04T16:35:02.018Z"
   },
   {
    "duration": 12,
    "start_time": "2022-06-04T16:35:06.670Z"
   },
   {
    "duration": 11,
    "start_time": "2022-06-04T16:35:11.266Z"
   },
   {
    "duration": 7,
    "start_time": "2022-06-04T16:36:07.702Z"
   },
   {
    "duration": 11,
    "start_time": "2022-06-04T16:36:40.555Z"
   },
   {
    "duration": 6,
    "start_time": "2022-06-04T16:37:41.637Z"
   },
   {
    "duration": 40,
    "start_time": "2022-06-04T16:39:00.732Z"
   },
   {
    "duration": 2,
    "start_time": "2022-06-04T16:39:35.406Z"
   },
   {
    "duration": 6,
    "start_time": "2022-06-04T16:40:14.509Z"
   },
   {
    "duration": 6,
    "start_time": "2022-06-04T16:40:34.124Z"
   },
   {
    "duration": 4,
    "start_time": "2022-06-04T16:40:48.743Z"
   },
   {
    "duration": 3,
    "start_time": "2022-06-04T16:42:03.408Z"
   },
   {
    "duration": 4,
    "start_time": "2022-06-04T16:42:09.368Z"
   },
   {
    "duration": 5,
    "start_time": "2022-06-04T16:42:50.427Z"
   },
   {
    "duration": 7,
    "start_time": "2022-06-04T16:43:02.350Z"
   },
   {
    "duration": 9,
    "start_time": "2022-06-04T16:43:19.923Z"
   },
   {
    "duration": 4,
    "start_time": "2022-06-04T16:43:38.558Z"
   },
   {
    "duration": 3,
    "start_time": "2022-06-04T16:44:15.104Z"
   },
   {
    "duration": 4,
    "start_time": "2022-06-04T16:44:15.630Z"
   },
   {
    "duration": 2,
    "start_time": "2022-06-04T16:44:17.343Z"
   },
   {
    "duration": 5,
    "start_time": "2022-06-04T16:44:17.847Z"
   },
   {
    "duration": 5,
    "start_time": "2022-06-04T16:44:18.309Z"
   },
   {
    "duration": 10,
    "start_time": "2022-06-04T16:44:19.110Z"
   },
   {
    "duration": 1207,
    "start_time": "2022-06-04T16:46:36.508Z"
   },
   {
    "duration": 72,
    "start_time": "2022-06-04T16:46:37.717Z"
   },
   {
    "duration": 17,
    "start_time": "2022-06-04T16:46:37.791Z"
   },
   {
    "duration": 36,
    "start_time": "2022-06-04T16:46:37.811Z"
   },
   {
    "duration": 7,
    "start_time": "2022-06-04T16:46:37.849Z"
   },
   {
    "duration": 17,
    "start_time": "2022-06-04T16:46:37.858Z"
   },
   {
    "duration": 20,
    "start_time": "2022-06-04T16:46:37.877Z"
   },
   {
    "duration": 17,
    "start_time": "2022-06-04T16:46:37.898Z"
   },
   {
    "duration": 25,
    "start_time": "2022-06-04T16:46:37.917Z"
   },
   {
    "duration": 8,
    "start_time": "2022-06-04T16:46:37.945Z"
   },
   {
    "duration": 16,
    "start_time": "2022-06-04T16:46:37.955Z"
   },
   {
    "duration": 8,
    "start_time": "2022-06-04T16:46:37.972Z"
   },
   {
    "duration": 107,
    "start_time": "2022-06-04T16:46:37.981Z"
   },
   {
    "duration": 7,
    "start_time": "2022-06-04T16:46:38.090Z"
   },
   {
    "duration": 8,
    "start_time": "2022-06-04T16:46:38.099Z"
   },
   {
    "duration": 14,
    "start_time": "2022-06-04T16:46:38.109Z"
   },
   {
    "duration": 24,
    "start_time": "2022-06-04T16:46:38.124Z"
   },
   {
    "duration": 8,
    "start_time": "2022-06-04T16:46:38.150Z"
   },
   {
    "duration": 12,
    "start_time": "2022-06-04T16:46:38.159Z"
   },
   {
    "duration": 10,
    "start_time": "2022-06-04T16:46:38.173Z"
   },
   {
    "duration": 24,
    "start_time": "2022-06-04T16:46:38.185Z"
   },
   {
    "duration": 49,
    "start_time": "2022-06-04T16:46:38.210Z"
   },
   {
    "duration": 21,
    "start_time": "2022-06-04T16:46:38.261Z"
   },
   {
    "duration": 14,
    "start_time": "2022-06-04T16:46:38.283Z"
   },
   {
    "duration": 13,
    "start_time": "2022-06-04T16:46:38.299Z"
   },
   {
    "duration": 40,
    "start_time": "2022-06-04T16:46:38.314Z"
   },
   {
    "duration": 7,
    "start_time": "2022-06-04T16:46:38.355Z"
   },
   {
    "duration": 4,
    "start_time": "2022-06-04T16:46:38.366Z"
   },
   {
    "duration": 13,
    "start_time": "2022-06-04T16:46:38.371Z"
   },
   {
    "duration": 313,
    "start_time": "2022-06-04T16:46:38.385Z"
   },
   {
    "duration": 6,
    "start_time": "2022-06-04T16:46:38.700Z"
   },
   {
    "duration": 6,
    "start_time": "2022-06-04T16:46:38.708Z"
   },
   {
    "duration": 9,
    "start_time": "2022-06-04T16:46:38.716Z"
   },
   {
    "duration": 169,
    "start_time": "2022-06-04T16:46:38.726Z"
   },
   {
    "duration": 13,
    "start_time": "2022-06-04T16:46:38.897Z"
   },
   {
    "duration": 6,
    "start_time": "2022-06-04T16:46:38.912Z"
   },
   {
    "duration": 24,
    "start_time": "2022-06-04T16:46:38.919Z"
   },
   {
    "duration": 7,
    "start_time": "2022-06-04T16:46:38.944Z"
   },
   {
    "duration": 6,
    "start_time": "2022-06-04T16:46:38.952Z"
   },
   {
    "duration": 17,
    "start_time": "2022-06-04T16:46:38.959Z"
   },
   {
    "duration": 224,
    "start_time": "2022-06-04T16:46:38.977Z"
   },
   {
    "duration": 6,
    "start_time": "2022-06-04T16:46:39.203Z"
   },
   {
    "duration": 117,
    "start_time": "2022-06-04T16:46:39.211Z"
   },
   {
    "duration": 0,
    "start_time": "2022-06-04T16:46:39.329Z"
   },
   {
    "duration": 0,
    "start_time": "2022-06-04T16:46:39.330Z"
   },
   {
    "duration": 0,
    "start_time": "2022-06-04T16:46:39.341Z"
   },
   {
    "duration": 0,
    "start_time": "2022-06-04T16:46:39.342Z"
   },
   {
    "duration": 0,
    "start_time": "2022-06-04T16:46:39.342Z"
   },
   {
    "duration": 0,
    "start_time": "2022-06-04T16:46:39.343Z"
   },
   {
    "duration": 0,
    "start_time": "2022-06-04T16:46:39.344Z"
   },
   {
    "duration": 0,
    "start_time": "2022-06-04T16:46:39.346Z"
   },
   {
    "duration": 0,
    "start_time": "2022-06-04T16:46:39.347Z"
   },
   {
    "duration": 0,
    "start_time": "2022-06-04T16:46:39.348Z"
   },
   {
    "duration": 0,
    "start_time": "2022-06-04T16:46:39.349Z"
   },
   {
    "duration": 0,
    "start_time": "2022-06-04T16:46:39.349Z"
   },
   {
    "duration": 0,
    "start_time": "2022-06-04T16:46:39.350Z"
   },
   {
    "duration": 0,
    "start_time": "2022-06-04T16:46:39.351Z"
   },
   {
    "duration": 0,
    "start_time": "2022-06-04T16:46:39.352Z"
   },
   {
    "duration": 0,
    "start_time": "2022-06-04T16:46:39.354Z"
   },
   {
    "duration": 0,
    "start_time": "2022-06-04T16:46:39.355Z"
   },
   {
    "duration": 0,
    "start_time": "2022-06-04T16:46:39.356Z"
   },
   {
    "duration": 0,
    "start_time": "2022-06-04T16:46:39.357Z"
   },
   {
    "duration": 0,
    "start_time": "2022-06-04T16:46:39.358Z"
   },
   {
    "duration": 0,
    "start_time": "2022-06-04T16:46:39.359Z"
   },
   {
    "duration": 1,
    "start_time": "2022-06-04T16:46:39.359Z"
   },
   {
    "duration": 0,
    "start_time": "2022-06-04T16:46:39.361Z"
   },
   {
    "duration": 0,
    "start_time": "2022-06-04T16:46:39.361Z"
   },
   {
    "duration": 0,
    "start_time": "2022-06-04T16:46:39.363Z"
   },
   {
    "duration": 0,
    "start_time": "2022-06-04T16:46:39.364Z"
   },
   {
    "duration": 0,
    "start_time": "2022-06-04T16:46:39.365Z"
   },
   {
    "duration": 0,
    "start_time": "2022-06-04T16:46:39.366Z"
   },
   {
    "duration": 0,
    "start_time": "2022-06-04T16:46:39.366Z"
   },
   {
    "duration": 0,
    "start_time": "2022-06-04T16:46:39.367Z"
   },
   {
    "duration": 0,
    "start_time": "2022-06-04T16:46:39.368Z"
   },
   {
    "duration": 0,
    "start_time": "2022-06-04T16:46:39.369Z"
   },
   {
    "duration": 0,
    "start_time": "2022-06-04T16:46:39.371Z"
   },
   {
    "duration": 1208,
    "start_time": "2022-06-04T16:49:39.305Z"
   },
   {
    "duration": 73,
    "start_time": "2022-06-04T16:49:40.515Z"
   },
   {
    "duration": 14,
    "start_time": "2022-06-04T16:49:40.589Z"
   },
   {
    "duration": 14,
    "start_time": "2022-06-04T16:49:40.605Z"
   },
   {
    "duration": 21,
    "start_time": "2022-06-04T16:49:40.621Z"
   },
   {
    "duration": 9,
    "start_time": "2022-06-04T16:49:40.644Z"
   },
   {
    "duration": 11,
    "start_time": "2022-06-04T16:49:40.655Z"
   },
   {
    "duration": 11,
    "start_time": "2022-06-04T16:49:40.668Z"
   },
   {
    "duration": 11,
    "start_time": "2022-06-04T16:49:40.681Z"
   },
   {
    "duration": 6,
    "start_time": "2022-06-04T16:49:40.694Z"
   },
   {
    "duration": 46,
    "start_time": "2022-06-04T16:49:40.701Z"
   },
   {
    "duration": 8,
    "start_time": "2022-06-04T16:49:40.751Z"
   },
   {
    "duration": 94,
    "start_time": "2022-06-04T16:49:40.761Z"
   },
   {
    "duration": 8,
    "start_time": "2022-06-04T16:49:40.858Z"
   },
   {
    "duration": 8,
    "start_time": "2022-06-04T16:49:40.868Z"
   },
   {
    "duration": 9,
    "start_time": "2022-06-04T16:49:40.878Z"
   },
   {
    "duration": 13,
    "start_time": "2022-06-04T16:49:40.889Z"
   },
   {
    "duration": 37,
    "start_time": "2022-06-04T16:49:40.904Z"
   },
   {
    "duration": 13,
    "start_time": "2022-06-04T16:49:40.943Z"
   },
   {
    "duration": 11,
    "start_time": "2022-06-04T16:49:40.958Z"
   },
   {
    "duration": 21,
    "start_time": "2022-06-04T16:49:40.971Z"
   },
   {
    "duration": 20,
    "start_time": "2022-06-04T16:49:40.994Z"
   },
   {
    "duration": 20,
    "start_time": "2022-06-04T16:49:41.042Z"
   },
   {
    "duration": 15,
    "start_time": "2022-06-04T16:49:41.063Z"
   },
   {
    "duration": 12,
    "start_time": "2022-06-04T16:49:41.080Z"
   },
   {
    "duration": 14,
    "start_time": "2022-06-04T16:49:41.094Z"
   },
   {
    "duration": 37,
    "start_time": "2022-06-04T16:49:41.109Z"
   },
   {
    "duration": 4,
    "start_time": "2022-06-04T16:49:41.147Z"
   },
   {
    "duration": 9,
    "start_time": "2022-06-04T16:49:41.153Z"
   },
   {
    "duration": 311,
    "start_time": "2022-06-04T16:49:41.164Z"
   },
   {
    "duration": 7,
    "start_time": "2022-06-04T16:49:41.477Z"
   },
   {
    "duration": 5,
    "start_time": "2022-06-04T16:49:41.485Z"
   },
   {
    "duration": 9,
    "start_time": "2022-06-04T16:49:41.491Z"
   },
   {
    "duration": 174,
    "start_time": "2022-06-04T16:49:41.502Z"
   },
   {
    "duration": 14,
    "start_time": "2022-06-04T16:49:41.677Z"
   },
   {
    "duration": 6,
    "start_time": "2022-06-04T16:49:41.693Z"
   },
   {
    "duration": 6,
    "start_time": "2022-06-04T16:49:41.701Z"
   },
   {
    "duration": 6,
    "start_time": "2022-06-04T16:49:41.709Z"
   },
   {
    "duration": 24,
    "start_time": "2022-06-04T16:49:41.717Z"
   },
   {
    "duration": 8,
    "start_time": "2022-06-04T16:49:41.743Z"
   },
   {
    "duration": 219,
    "start_time": "2022-06-04T16:49:41.755Z"
   },
   {
    "duration": 5,
    "start_time": "2022-06-04T16:49:41.976Z"
   },
   {
    "duration": 115,
    "start_time": "2022-06-04T16:49:41.983Z"
   },
   {
    "duration": 0,
    "start_time": "2022-06-04T16:49:42.100Z"
   },
   {
    "duration": 0,
    "start_time": "2022-06-04T16:49:42.100Z"
   },
   {
    "duration": 0,
    "start_time": "2022-06-04T16:49:42.101Z"
   },
   {
    "duration": 0,
    "start_time": "2022-06-04T16:49:42.102Z"
   },
   {
    "duration": 0,
    "start_time": "2022-06-04T16:49:42.103Z"
   },
   {
    "duration": 0,
    "start_time": "2022-06-04T16:49:42.104Z"
   },
   {
    "duration": 0,
    "start_time": "2022-06-04T16:49:42.105Z"
   },
   {
    "duration": 0,
    "start_time": "2022-06-04T16:49:42.106Z"
   },
   {
    "duration": 0,
    "start_time": "2022-06-04T16:49:42.107Z"
   },
   {
    "duration": 0,
    "start_time": "2022-06-04T16:49:42.108Z"
   },
   {
    "duration": 0,
    "start_time": "2022-06-04T16:49:42.109Z"
   },
   {
    "duration": 0,
    "start_time": "2022-06-04T16:49:42.110Z"
   },
   {
    "duration": 0,
    "start_time": "2022-06-04T16:49:42.111Z"
   },
   {
    "duration": 0,
    "start_time": "2022-06-04T16:49:42.111Z"
   },
   {
    "duration": 0,
    "start_time": "2022-06-04T16:49:42.112Z"
   },
   {
    "duration": 0,
    "start_time": "2022-06-04T16:49:42.141Z"
   },
   {
    "duration": 0,
    "start_time": "2022-06-04T16:49:42.142Z"
   },
   {
    "duration": 0,
    "start_time": "2022-06-04T16:49:42.143Z"
   },
   {
    "duration": 0,
    "start_time": "2022-06-04T16:49:42.144Z"
   },
   {
    "duration": 0,
    "start_time": "2022-06-04T16:49:42.145Z"
   },
   {
    "duration": 0,
    "start_time": "2022-06-04T16:49:42.146Z"
   },
   {
    "duration": 0,
    "start_time": "2022-06-04T16:49:42.147Z"
   },
   {
    "duration": 0,
    "start_time": "2022-06-04T16:49:42.148Z"
   },
   {
    "duration": 0,
    "start_time": "2022-06-04T16:49:42.149Z"
   },
   {
    "duration": 0,
    "start_time": "2022-06-04T16:49:42.149Z"
   },
   {
    "duration": 0,
    "start_time": "2022-06-04T16:49:42.150Z"
   },
   {
    "duration": 0,
    "start_time": "2022-06-04T16:49:42.151Z"
   },
   {
    "duration": 0,
    "start_time": "2022-06-04T16:49:42.152Z"
   },
   {
    "duration": 0,
    "start_time": "2022-06-04T16:49:42.153Z"
   },
   {
    "duration": 0,
    "start_time": "2022-06-04T16:49:42.154Z"
   },
   {
    "duration": 0,
    "start_time": "2022-06-04T16:49:42.155Z"
   },
   {
    "duration": 0,
    "start_time": "2022-06-04T16:49:42.156Z"
   },
   {
    "duration": 0,
    "start_time": "2022-06-04T16:49:42.157Z"
   },
   {
    "duration": 9,
    "start_time": "2022-06-04T16:53:08.466Z"
   },
   {
    "duration": 7,
    "start_time": "2022-06-04T16:53:19.507Z"
   },
   {
    "duration": 3,
    "start_time": "2022-06-04T16:53:21.017Z"
   },
   {
    "duration": 9,
    "start_time": "2022-06-04T16:53:22.644Z"
   },
   {
    "duration": 5,
    "start_time": "2022-06-04T16:54:09.993Z"
   },
   {
    "duration": 6,
    "start_time": "2022-06-04T16:54:11.368Z"
   },
   {
    "duration": 15,
    "start_time": "2022-06-04T16:54:12.647Z"
   },
   {
    "duration": 4,
    "start_time": "2022-06-04T16:54:13.826Z"
   },
   {
    "duration": 6,
    "start_time": "2022-06-04T16:54:14.804Z"
   },
   {
    "duration": 7,
    "start_time": "2022-06-04T16:54:19.153Z"
   },
   {
    "duration": 3,
    "start_time": "2022-06-04T16:54:19.841Z"
   },
   {
    "duration": 5,
    "start_time": "2022-06-04T16:54:20.850Z"
   },
   {
    "duration": 3,
    "start_time": "2022-06-04T16:54:22.418Z"
   },
   {
    "duration": 4,
    "start_time": "2022-06-04T16:54:22.968Z"
   },
   {
    "duration": 4,
    "start_time": "2022-06-04T16:54:23.515Z"
   },
   {
    "duration": 9,
    "start_time": "2022-06-04T16:54:24.093Z"
   },
   {
    "duration": 400,
    "start_time": "2022-06-04T16:54:34.925Z"
   },
   {
    "duration": 1219,
    "start_time": "2022-06-04T16:55:19.944Z"
   },
   {
    "duration": 78,
    "start_time": "2022-06-04T16:55:21.165Z"
   },
   {
    "duration": 12,
    "start_time": "2022-06-04T16:55:21.245Z"
   },
   {
    "duration": 13,
    "start_time": "2022-06-04T16:55:21.259Z"
   },
   {
    "duration": 5,
    "start_time": "2022-06-04T16:55:21.274Z"
   },
   {
    "duration": 8,
    "start_time": "2022-06-04T16:55:21.281Z"
   },
   {
    "duration": 10,
    "start_time": "2022-06-04T16:55:21.290Z"
   },
   {
    "duration": 40,
    "start_time": "2022-06-04T16:55:21.301Z"
   },
   {
    "duration": 12,
    "start_time": "2022-06-04T16:55:21.343Z"
   },
   {
    "duration": 6,
    "start_time": "2022-06-04T16:55:21.356Z"
   },
   {
    "duration": 15,
    "start_time": "2022-06-04T16:55:21.363Z"
   },
   {
    "duration": 7,
    "start_time": "2022-06-04T16:55:21.379Z"
   },
   {
    "duration": 103,
    "start_time": "2022-06-04T16:55:21.388Z"
   },
   {
    "duration": 7,
    "start_time": "2022-06-04T16:55:21.494Z"
   },
   {
    "duration": 8,
    "start_time": "2022-06-04T16:55:21.503Z"
   },
   {
    "duration": 10,
    "start_time": "2022-06-04T16:55:21.513Z"
   },
   {
    "duration": 24,
    "start_time": "2022-06-04T16:55:21.525Z"
   },
   {
    "duration": 8,
    "start_time": "2022-06-04T16:55:21.551Z"
   },
   {
    "duration": 11,
    "start_time": "2022-06-04T16:55:21.561Z"
   },
   {
    "duration": 10,
    "start_time": "2022-06-04T16:55:21.574Z"
   },
   {
    "duration": 35,
    "start_time": "2022-06-04T16:55:21.585Z"
   },
   {
    "duration": 36,
    "start_time": "2022-06-04T16:55:21.621Z"
   },
   {
    "duration": 22,
    "start_time": "2022-06-04T16:55:21.659Z"
   },
   {
    "duration": 15,
    "start_time": "2022-06-04T16:55:21.682Z"
   },
   {
    "duration": 13,
    "start_time": "2022-06-04T16:55:21.699Z"
   },
   {
    "duration": 42,
    "start_time": "2022-06-04T16:55:21.713Z"
   },
   {
    "duration": 6,
    "start_time": "2022-06-04T16:55:21.757Z"
   },
   {
    "duration": 4,
    "start_time": "2022-06-04T16:55:21.764Z"
   },
   {
    "duration": 12,
    "start_time": "2022-06-04T16:55:21.769Z"
   },
   {
    "duration": 315,
    "start_time": "2022-06-04T16:55:21.782Z"
   },
   {
    "duration": 6,
    "start_time": "2022-06-04T16:55:22.099Z"
   },
   {
    "duration": 6,
    "start_time": "2022-06-04T16:55:22.107Z"
   },
   {
    "duration": 9,
    "start_time": "2022-06-04T16:55:22.115Z"
   },
   {
    "duration": 164,
    "start_time": "2022-06-04T16:55:22.141Z"
   },
   {
    "duration": 14,
    "start_time": "2022-06-04T16:55:22.307Z"
   },
   {
    "duration": 7,
    "start_time": "2022-06-04T16:55:22.322Z"
   },
   {
    "duration": 14,
    "start_time": "2022-06-04T16:55:22.330Z"
   },
   {
    "duration": 7,
    "start_time": "2022-06-04T16:55:22.345Z"
   },
   {
    "duration": 6,
    "start_time": "2022-06-04T16:55:22.353Z"
   },
   {
    "duration": 10,
    "start_time": "2022-06-04T16:55:22.361Z"
   },
   {
    "duration": 241,
    "start_time": "2022-06-04T16:55:22.375Z"
   },
   {
    "duration": 6,
    "start_time": "2022-06-04T16:55:22.618Z"
   },
   {
    "duration": 18,
    "start_time": "2022-06-04T16:55:22.625Z"
   },
   {
    "duration": 17,
    "start_time": "2022-06-04T16:55:22.644Z"
   },
   {
    "duration": 4,
    "start_time": "2022-06-04T16:55:22.663Z"
   },
   {
    "duration": 7,
    "start_time": "2022-06-04T16:55:22.668Z"
   },
   {
    "duration": 7,
    "start_time": "2022-06-04T16:55:22.676Z"
   },
   {
    "duration": 4,
    "start_time": "2022-06-04T16:55:22.684Z"
   },
   {
    "duration": 6,
    "start_time": "2022-06-04T16:55:22.689Z"
   },
   {
    "duration": 5,
    "start_time": "2022-06-04T16:55:22.696Z"
   },
   {
    "duration": 5,
    "start_time": "2022-06-04T16:55:22.703Z"
   },
   {
    "duration": 32,
    "start_time": "2022-06-04T16:55:22.709Z"
   },
   {
    "duration": 9,
    "start_time": "2022-06-04T16:55:22.743Z"
   },
   {
    "duration": 379,
    "start_time": "2022-06-04T16:55:22.754Z"
   },
   {
    "duration": 7,
    "start_time": "2022-06-04T16:55:23.134Z"
   },
   {
    "duration": 4,
    "start_time": "2022-06-04T16:55:23.143Z"
   },
   {
    "duration": 9,
    "start_time": "2022-06-04T16:55:23.148Z"
   },
   {
    "duration": 208,
    "start_time": "2022-06-04T16:55:23.159Z"
   },
   {
    "duration": 25,
    "start_time": "2022-06-04T16:55:23.369Z"
   },
   {
    "duration": 17,
    "start_time": "2022-06-04T16:55:23.396Z"
   },
   {
    "duration": 30,
    "start_time": "2022-06-04T16:55:23.414Z"
   },
   {
    "duration": 4,
    "start_time": "2022-06-04T16:55:23.446Z"
   },
   {
    "duration": 10,
    "start_time": "2022-06-04T16:55:23.451Z"
   },
   {
    "duration": 269,
    "start_time": "2022-06-04T16:55:23.462Z"
   },
   {
    "duration": 1203,
    "start_time": "2022-06-04T16:55:23.733Z"
   },
   {
    "duration": 8,
    "start_time": "2022-06-04T16:55:24.938Z"
   },
   {
    "duration": 15,
    "start_time": "2022-06-04T16:55:24.947Z"
   },
   {
    "duration": 20,
    "start_time": "2022-06-04T16:55:24.964Z"
   },
   {
    "duration": 14,
    "start_time": "2022-06-04T16:55:24.985Z"
   },
   {
    "duration": 12,
    "start_time": "2022-06-04T16:55:25.002Z"
   },
   {
    "duration": 25,
    "start_time": "2022-06-04T16:55:25.017Z"
   },
   {
    "duration": 8,
    "start_time": "2022-06-04T16:55:25.044Z"
   },
   {
    "duration": 9,
    "start_time": "2022-06-04T16:55:25.054Z"
   },
   {
    "duration": 13,
    "start_time": "2022-06-04T16:55:25.065Z"
   },
   {
    "duration": 11,
    "start_time": "2022-06-04T16:55:25.079Z"
   },
   {
    "duration": 8,
    "start_time": "2022-06-04T16:55:25.091Z"
   },
   {
    "duration": 278,
    "start_time": "2022-06-04T16:55:25.101Z"
   },
   {
    "duration": 15,
    "start_time": "2022-06-04T17:06:08.710Z"
   },
   {
    "duration": 9,
    "start_time": "2022-06-04T17:06:28.252Z"
   },
   {
    "duration": 10,
    "start_time": "2022-06-04T17:08:20.514Z"
   },
   {
    "duration": 9,
    "start_time": "2022-06-04T17:09:04.563Z"
   },
   {
    "duration": 116,
    "start_time": "2022-06-04T17:09:39.350Z"
   },
   {
    "duration": 170,
    "start_time": "2022-06-04T17:09:49.006Z"
   },
   {
    "duration": 131,
    "start_time": "2022-06-04T17:09:57.962Z"
   },
   {
    "duration": 133,
    "start_time": "2022-06-04T17:10:44.210Z"
   },
   {
    "duration": 24,
    "start_time": "2022-06-04T17:11:18.510Z"
   },
   {
    "duration": 32,
    "start_time": "2022-06-04T17:33:18.062Z"
   },
   {
    "duration": 1249,
    "start_time": "2022-06-04T17:38:41.521Z"
   },
   {
    "duration": 72,
    "start_time": "2022-06-04T17:38:42.772Z"
   },
   {
    "duration": 14,
    "start_time": "2022-06-04T17:38:42.845Z"
   },
   {
    "duration": 14,
    "start_time": "2022-06-04T17:38:42.861Z"
   },
   {
    "duration": 7,
    "start_time": "2022-06-04T17:38:42.877Z"
   },
   {
    "duration": 9,
    "start_time": "2022-06-04T17:38:42.885Z"
   },
   {
    "duration": 11,
    "start_time": "2022-06-04T17:38:42.895Z"
   },
   {
    "duration": 43,
    "start_time": "2022-06-04T17:38:42.908Z"
   },
   {
    "duration": 16,
    "start_time": "2022-06-04T17:38:42.953Z"
   },
   {
    "duration": 9,
    "start_time": "2022-06-04T17:38:42.973Z"
   },
   {
    "duration": 16,
    "start_time": "2022-06-04T17:38:42.984Z"
   },
   {
    "duration": 8,
    "start_time": "2022-06-04T17:38:43.001Z"
   },
   {
    "duration": 100,
    "start_time": "2022-06-04T17:38:43.011Z"
   },
   {
    "duration": 7,
    "start_time": "2022-06-04T17:38:43.113Z"
   },
   {
    "duration": 21,
    "start_time": "2022-06-04T17:38:43.122Z"
   },
   {
    "duration": 14,
    "start_time": "2022-06-04T17:38:43.145Z"
   },
   {
    "duration": 14,
    "start_time": "2022-06-04T17:38:43.161Z"
   },
   {
    "duration": 10,
    "start_time": "2022-06-04T17:38:43.176Z"
   },
   {
    "duration": 12,
    "start_time": "2022-06-04T17:38:43.187Z"
   },
   {
    "duration": 9,
    "start_time": "2022-06-04T17:38:43.201Z"
   },
   {
    "duration": 48,
    "start_time": "2022-06-04T17:38:43.212Z"
   },
   {
    "duration": 21,
    "start_time": "2022-06-04T17:38:43.262Z"
   },
   {
    "duration": 20,
    "start_time": "2022-06-04T17:38:43.285Z"
   },
   {
    "duration": 40,
    "start_time": "2022-06-04T17:38:43.307Z"
   },
   {
    "duration": 14,
    "start_time": "2022-06-04T17:38:43.349Z"
   },
   {
    "duration": 14,
    "start_time": "2022-06-04T17:38:43.365Z"
   },
   {
    "duration": 7,
    "start_time": "2022-06-04T17:38:43.381Z"
   },
   {
    "duration": 4,
    "start_time": "2022-06-04T17:38:43.394Z"
   },
   {
    "duration": 12,
    "start_time": "2022-06-04T17:38:43.400Z"
   },
   {
    "duration": 351,
    "start_time": "2022-06-04T17:38:43.413Z"
   },
   {
    "duration": 8,
    "start_time": "2022-06-04T17:38:43.766Z"
   },
   {
    "duration": 5,
    "start_time": "2022-06-04T17:38:43.776Z"
   },
   {
    "duration": 10,
    "start_time": "2022-06-04T17:38:43.782Z"
   },
   {
    "duration": 186,
    "start_time": "2022-06-04T17:38:43.794Z"
   },
   {
    "duration": 17,
    "start_time": "2022-06-04T17:38:43.982Z"
   },
   {
    "duration": 8,
    "start_time": "2022-06-04T17:38:44.000Z"
   },
   {
    "duration": 7,
    "start_time": "2022-06-04T17:38:44.009Z"
   },
   {
    "duration": 24,
    "start_time": "2022-06-04T17:38:44.018Z"
   },
   {
    "duration": 7,
    "start_time": "2022-06-04T17:38:44.043Z"
   },
   {
    "duration": 12,
    "start_time": "2022-06-04T17:38:44.051Z"
   },
   {
    "duration": 226,
    "start_time": "2022-06-04T17:38:44.064Z"
   },
   {
    "duration": 6,
    "start_time": "2022-06-04T17:38:44.292Z"
   },
   {
    "duration": 7,
    "start_time": "2022-06-04T17:38:44.300Z"
   },
   {
    "duration": 34,
    "start_time": "2022-06-04T17:38:44.308Z"
   },
   {
    "duration": 4,
    "start_time": "2022-06-04T17:38:44.344Z"
   },
   {
    "duration": 13,
    "start_time": "2022-06-04T17:38:44.350Z"
   },
   {
    "duration": 22,
    "start_time": "2022-06-04T17:38:44.365Z"
   },
   {
    "duration": 5,
    "start_time": "2022-06-04T17:38:44.389Z"
   },
   {
    "duration": 6,
    "start_time": "2022-06-04T17:38:44.396Z"
   },
   {
    "duration": 12,
    "start_time": "2022-06-04T17:38:44.403Z"
   },
   {
    "duration": 6,
    "start_time": "2022-06-04T17:38:44.417Z"
   },
   {
    "duration": 7,
    "start_time": "2022-06-04T17:38:44.424Z"
   },
   {
    "duration": 11,
    "start_time": "2022-06-04T17:38:44.432Z"
   },
   {
    "duration": 417,
    "start_time": "2022-06-04T17:38:44.444Z"
   },
   {
    "duration": 7,
    "start_time": "2022-06-04T17:38:44.863Z"
   },
   {
    "duration": 4,
    "start_time": "2022-06-04T17:38:44.871Z"
   },
   {
    "duration": 9,
    "start_time": "2022-06-04T17:38:44.876Z"
   },
   {
    "duration": 228,
    "start_time": "2022-06-04T17:38:44.886Z"
   },
   {
    "duration": 32,
    "start_time": "2022-06-04T17:38:45.116Z"
   },
   {
    "duration": 17,
    "start_time": "2022-06-04T17:38:45.150Z"
   },
   {
    "duration": 16,
    "start_time": "2022-06-04T17:38:45.169Z"
   },
   {
    "duration": 5,
    "start_time": "2022-06-04T17:38:45.186Z"
   },
   {
    "duration": 9,
    "start_time": "2022-06-04T17:38:45.193Z"
   },
   {
    "duration": 297,
    "start_time": "2022-06-04T17:38:45.204Z"
   },
   {
    "duration": 1156,
    "start_time": "2022-06-04T17:38:45.503Z"
   },
   {
    "duration": 7,
    "start_time": "2022-06-04T17:38:46.661Z"
   },
   {
    "duration": 23,
    "start_time": "2022-06-04T17:38:46.670Z"
   },
   {
    "duration": 19,
    "start_time": "2022-06-04T17:38:46.695Z"
   },
   {
    "duration": 28,
    "start_time": "2022-06-04T17:38:46.715Z"
   },
   {
    "duration": 9,
    "start_time": "2022-06-04T17:38:46.744Z"
   },
   {
    "duration": 7,
    "start_time": "2022-06-04T17:38:46.754Z"
   },
   {
    "duration": 8,
    "start_time": "2022-06-04T17:38:46.763Z"
   },
   {
    "duration": 12,
    "start_time": "2022-06-04T17:38:46.773Z"
   },
   {
    "duration": 15,
    "start_time": "2022-06-04T17:38:46.787Z"
   },
   {
    "duration": 38,
    "start_time": "2022-06-04T17:38:46.803Z"
   },
   {
    "duration": 9,
    "start_time": "2022-06-04T17:38:46.843Z"
   },
   {
    "duration": 9,
    "start_time": "2022-06-04T17:38:46.854Z"
   },
   {
    "duration": 269,
    "start_time": "2022-06-04T17:38:46.865Z"
   },
   {
    "duration": 32,
    "start_time": "2022-06-04T17:47:41.403Z"
   },
   {
    "duration": 1120,
    "start_time": "2022-06-04T17:48:47.761Z"
   },
   {
    "duration": 69,
    "start_time": "2022-06-04T17:48:48.883Z"
   },
   {
    "duration": 13,
    "start_time": "2022-06-04T17:48:48.953Z"
   },
   {
    "duration": 14,
    "start_time": "2022-06-04T17:48:48.967Z"
   },
   {
    "duration": 7,
    "start_time": "2022-06-04T17:48:48.982Z"
   },
   {
    "duration": 9,
    "start_time": "2022-06-04T17:48:48.991Z"
   },
   {
    "duration": 10,
    "start_time": "2022-06-04T17:48:49.001Z"
   },
   {
    "duration": 36,
    "start_time": "2022-06-04T17:48:49.012Z"
   },
   {
    "duration": 8,
    "start_time": "2022-06-04T17:48:49.049Z"
   },
   {
    "duration": 6,
    "start_time": "2022-06-04T17:48:49.060Z"
   },
   {
    "duration": 15,
    "start_time": "2022-06-04T17:48:49.068Z"
   },
   {
    "duration": 8,
    "start_time": "2022-06-04T17:48:49.085Z"
   },
   {
    "duration": 100,
    "start_time": "2022-06-04T17:48:49.094Z"
   },
   {
    "duration": 6,
    "start_time": "2022-06-04T17:48:49.196Z"
   },
   {
    "duration": 7,
    "start_time": "2022-06-04T17:48:49.204Z"
   },
   {
    "duration": 9,
    "start_time": "2022-06-04T17:48:49.213Z"
   },
   {
    "duration": 11,
    "start_time": "2022-06-04T17:48:49.241Z"
   },
   {
    "duration": 8,
    "start_time": "2022-06-04T17:48:49.254Z"
   },
   {
    "duration": 13,
    "start_time": "2022-06-04T17:48:49.264Z"
   },
   {
    "duration": 11,
    "start_time": "2022-06-04T17:48:49.279Z"
   },
   {
    "duration": 53,
    "start_time": "2022-06-04T17:48:49.292Z"
   },
   {
    "duration": 17,
    "start_time": "2022-06-04T17:48:49.347Z"
   },
   {
    "duration": 18,
    "start_time": "2022-06-04T17:48:49.366Z"
   },
   {
    "duration": 15,
    "start_time": "2022-06-04T17:48:49.386Z"
   },
   {
    "duration": 13,
    "start_time": "2022-06-04T17:48:49.403Z"
   },
   {
    "duration": 15,
    "start_time": "2022-06-04T17:48:49.442Z"
   },
   {
    "duration": 6,
    "start_time": "2022-06-04T17:48:49.459Z"
   },
   {
    "duration": 4,
    "start_time": "2022-06-04T17:48:49.469Z"
   },
   {
    "duration": 9,
    "start_time": "2022-06-04T17:48:49.474Z"
   },
   {
    "duration": 310,
    "start_time": "2022-06-04T17:48:49.485Z"
   },
   {
    "duration": 6,
    "start_time": "2022-06-04T17:48:49.797Z"
   },
   {
    "duration": 16,
    "start_time": "2022-06-04T17:48:49.805Z"
   },
   {
    "duration": 19,
    "start_time": "2022-06-04T17:48:49.823Z"
   },
   {
    "duration": 168,
    "start_time": "2022-06-04T17:48:49.844Z"
   },
   {
    "duration": 15,
    "start_time": "2022-06-04T17:48:50.014Z"
   },
   {
    "duration": 14,
    "start_time": "2022-06-04T17:48:50.030Z"
   },
   {
    "duration": 14,
    "start_time": "2022-06-04T17:48:50.045Z"
   },
   {
    "duration": 15,
    "start_time": "2022-06-04T17:48:50.061Z"
   },
   {
    "duration": 12,
    "start_time": "2022-06-04T17:48:50.078Z"
   },
   {
    "duration": 22,
    "start_time": "2022-06-04T17:48:50.091Z"
   },
   {
    "duration": 206,
    "start_time": "2022-06-04T17:48:50.115Z"
   },
   {
    "duration": 6,
    "start_time": "2022-06-04T17:48:50.322Z"
   },
   {
    "duration": 20,
    "start_time": "2022-06-04T17:48:50.330Z"
   },
   {
    "duration": 22,
    "start_time": "2022-06-04T17:48:50.352Z"
   },
   {
    "duration": 11,
    "start_time": "2022-06-04T17:48:50.376Z"
   },
   {
    "duration": 11,
    "start_time": "2022-06-04T17:48:50.388Z"
   },
   {
    "duration": 22,
    "start_time": "2022-06-04T17:48:50.401Z"
   },
   {
    "duration": 8,
    "start_time": "2022-06-04T17:48:50.425Z"
   },
   {
    "duration": 19,
    "start_time": "2022-06-04T17:48:50.434Z"
   },
   {
    "duration": 15,
    "start_time": "2022-06-04T17:48:50.454Z"
   },
   {
    "duration": 21,
    "start_time": "2022-06-04T17:48:50.471Z"
   },
   {
    "duration": 19,
    "start_time": "2022-06-04T17:48:50.493Z"
   },
   {
    "duration": 21,
    "start_time": "2022-06-04T17:48:50.514Z"
   },
   {
    "duration": 404,
    "start_time": "2022-06-04T17:48:50.537Z"
   },
   {
    "duration": 7,
    "start_time": "2022-06-04T17:48:50.943Z"
   },
   {
    "duration": 22,
    "start_time": "2022-06-04T17:48:50.951Z"
   },
   {
    "duration": 23,
    "start_time": "2022-06-04T17:48:50.974Z"
   },
   {
    "duration": 212,
    "start_time": "2022-06-04T17:48:50.998Z"
   },
   {
    "duration": 30,
    "start_time": "2022-06-04T17:48:51.211Z"
   },
   {
    "duration": 23,
    "start_time": "2022-06-04T17:48:51.243Z"
   },
   {
    "duration": 31,
    "start_time": "2022-06-04T17:48:51.267Z"
   },
   {
    "duration": 9,
    "start_time": "2022-06-04T17:48:51.300Z"
   },
   {
    "duration": 29,
    "start_time": "2022-06-04T17:48:51.310Z"
   },
   {
    "duration": 265,
    "start_time": "2022-06-04T17:48:51.341Z"
   },
   {
    "duration": 1034,
    "start_time": "2022-06-04T17:48:51.608Z"
   },
   {
    "duration": 7,
    "start_time": "2022-06-04T17:48:52.644Z"
   },
   {
    "duration": 15,
    "start_time": "2022-06-04T17:48:52.652Z"
   },
   {
    "duration": 18,
    "start_time": "2022-06-04T17:48:52.668Z"
   },
   {
    "duration": 10,
    "start_time": "2022-06-04T17:48:52.688Z"
   },
   {
    "duration": 13,
    "start_time": "2022-06-04T17:48:52.700Z"
   },
   {
    "duration": 27,
    "start_time": "2022-06-04T17:48:52.715Z"
   },
   {
    "duration": 7,
    "start_time": "2022-06-04T17:48:52.744Z"
   },
   {
    "duration": 13,
    "start_time": "2022-06-04T17:48:52.753Z"
   },
   {
    "duration": 9,
    "start_time": "2022-06-04T17:48:52.767Z"
   },
   {
    "duration": 11,
    "start_time": "2022-06-04T17:48:52.778Z"
   },
   {
    "duration": 9,
    "start_time": "2022-06-04T17:48:52.791Z"
   },
   {
    "duration": 6,
    "start_time": "2022-06-04T17:48:52.802Z"
   },
   {
    "duration": 266,
    "start_time": "2022-06-04T17:48:52.810Z"
   },
   {
    "duration": 1166,
    "start_time": "2022-06-04T17:57:35.911Z"
   },
   {
    "duration": 73,
    "start_time": "2022-06-04T17:57:37.079Z"
   },
   {
    "duration": 13,
    "start_time": "2022-06-04T17:57:37.154Z"
   },
   {
    "duration": 25,
    "start_time": "2022-06-04T17:57:37.169Z"
   },
   {
    "duration": 13,
    "start_time": "2022-06-04T17:57:37.195Z"
   },
   {
    "duration": 18,
    "start_time": "2022-06-04T17:57:37.210Z"
   },
   {
    "duration": 19,
    "start_time": "2022-06-04T17:57:37.230Z"
   },
   {
    "duration": 13,
    "start_time": "2022-06-04T17:57:37.251Z"
   },
   {
    "duration": 18,
    "start_time": "2022-06-04T17:57:37.266Z"
   },
   {
    "duration": 6,
    "start_time": "2022-06-04T17:57:37.286Z"
   },
   {
    "duration": 17,
    "start_time": "2022-06-04T17:57:37.294Z"
   },
   {
    "duration": 11,
    "start_time": "2022-06-04T17:57:37.313Z"
   },
   {
    "duration": 89,
    "start_time": "2022-06-04T17:57:37.326Z"
   },
   {
    "duration": 7,
    "start_time": "2022-06-04T17:57:37.417Z"
   },
   {
    "duration": 23,
    "start_time": "2022-06-04T17:57:37.426Z"
   },
   {
    "duration": 13,
    "start_time": "2022-06-04T17:57:37.450Z"
   },
   {
    "duration": 13,
    "start_time": "2022-06-04T17:57:37.465Z"
   },
   {
    "duration": 22,
    "start_time": "2022-06-04T17:57:37.480Z"
   },
   {
    "duration": 13,
    "start_time": "2022-06-04T17:57:37.504Z"
   },
   {
    "duration": 14,
    "start_time": "2022-06-04T17:57:37.519Z"
   },
   {
    "duration": 40,
    "start_time": "2022-06-04T17:57:37.535Z"
   },
   {
    "duration": 18,
    "start_time": "2022-06-04T17:57:37.577Z"
   },
   {
    "duration": 24,
    "start_time": "2022-06-04T17:57:37.597Z"
   },
   {
    "duration": 15,
    "start_time": "2022-06-04T17:57:37.622Z"
   },
   {
    "duration": 14,
    "start_time": "2022-06-04T17:57:37.638Z"
   },
   {
    "duration": 14,
    "start_time": "2022-06-04T17:57:37.654Z"
   },
   {
    "duration": 6,
    "start_time": "2022-06-04T17:57:37.670Z"
   },
   {
    "duration": 4,
    "start_time": "2022-06-04T17:57:37.681Z"
   },
   {
    "duration": 10,
    "start_time": "2022-06-04T17:57:37.686Z"
   },
   {
    "duration": 346,
    "start_time": "2022-06-04T17:57:37.697Z"
   },
   {
    "duration": 7,
    "start_time": "2022-06-04T17:57:38.044Z"
   },
   {
    "duration": 5,
    "start_time": "2022-06-04T17:57:38.052Z"
   },
   {
    "duration": 10,
    "start_time": "2022-06-04T17:57:38.059Z"
   },
   {
    "duration": 178,
    "start_time": "2022-06-04T17:57:38.070Z"
   },
   {
    "duration": 13,
    "start_time": "2022-06-04T17:57:38.250Z"
   },
   {
    "duration": 6,
    "start_time": "2022-06-04T17:57:38.265Z"
   },
   {
    "duration": 8,
    "start_time": "2022-06-04T17:57:38.272Z"
   },
   {
    "duration": 7,
    "start_time": "2022-06-04T17:57:38.281Z"
   },
   {
    "duration": 7,
    "start_time": "2022-06-04T17:57:38.289Z"
   },
   {
    "duration": 10,
    "start_time": "2022-06-04T17:57:38.297Z"
   },
   {
    "duration": 227,
    "start_time": "2022-06-04T17:57:38.309Z"
   },
   {
    "duration": 8,
    "start_time": "2022-06-04T17:57:38.537Z"
   },
   {
    "duration": 16,
    "start_time": "2022-06-04T17:57:38.546Z"
   },
   {
    "duration": 19,
    "start_time": "2022-06-04T17:57:38.564Z"
   },
   {
    "duration": 14,
    "start_time": "2022-06-04T17:57:38.585Z"
   },
   {
    "duration": 8,
    "start_time": "2022-06-04T17:57:38.601Z"
   },
   {
    "duration": 12,
    "start_time": "2022-06-04T17:57:38.610Z"
   },
   {
    "duration": 19,
    "start_time": "2022-06-04T17:57:38.624Z"
   },
   {
    "duration": 7,
    "start_time": "2022-06-04T17:57:38.645Z"
   },
   {
    "duration": 13,
    "start_time": "2022-06-04T17:57:38.653Z"
   },
   {
    "duration": 6,
    "start_time": "2022-06-04T17:57:38.667Z"
   },
   {
    "duration": 9,
    "start_time": "2022-06-04T17:57:38.674Z"
   },
   {
    "duration": 15,
    "start_time": "2022-06-04T17:57:38.684Z"
   },
   {
    "duration": 368,
    "start_time": "2022-06-04T17:57:38.701Z"
   },
   {
    "duration": 7,
    "start_time": "2022-06-04T17:57:39.071Z"
   },
   {
    "duration": 11,
    "start_time": "2022-06-04T17:57:39.079Z"
   },
   {
    "duration": 11,
    "start_time": "2022-06-04T17:57:39.092Z"
   },
   {
    "duration": 206,
    "start_time": "2022-06-04T17:57:39.105Z"
   },
   {
    "duration": 31,
    "start_time": "2022-06-04T17:57:39.312Z"
   },
   {
    "duration": 17,
    "start_time": "2022-06-04T17:57:39.344Z"
   },
   {
    "duration": 11,
    "start_time": "2022-06-04T17:57:39.363Z"
   },
   {
    "duration": 11,
    "start_time": "2022-06-04T17:57:39.376Z"
   },
   {
    "duration": 9,
    "start_time": "2022-06-04T17:57:39.388Z"
   },
   {
    "duration": 262,
    "start_time": "2022-06-04T17:57:39.399Z"
   },
   {
    "duration": 978,
    "start_time": "2022-06-04T17:57:39.662Z"
   },
   {
    "duration": 7,
    "start_time": "2022-06-04T17:57:40.641Z"
   },
   {
    "duration": 13,
    "start_time": "2022-06-04T17:57:40.649Z"
   },
   {
    "duration": 18,
    "start_time": "2022-06-04T17:57:40.663Z"
   },
   {
    "duration": 8,
    "start_time": "2022-06-04T17:57:40.683Z"
   },
   {
    "duration": 10,
    "start_time": "2022-06-04T17:57:40.692Z"
   },
   {
    "duration": 6,
    "start_time": "2022-06-04T17:57:40.703Z"
   },
   {
    "duration": 33,
    "start_time": "2022-06-04T17:57:40.711Z"
   },
   {
    "duration": 14,
    "start_time": "2022-06-04T17:57:40.746Z"
   },
   {
    "duration": 11,
    "start_time": "2022-06-04T17:57:40.762Z"
   },
   {
    "duration": 14,
    "start_time": "2022-06-04T17:57:40.774Z"
   },
   {
    "duration": 10,
    "start_time": "2022-06-04T17:57:40.789Z"
   },
   {
    "duration": 16,
    "start_time": "2022-06-04T17:57:40.801Z"
   },
   {
    "duration": 253,
    "start_time": "2022-06-04T17:57:40.819Z"
   }
  ],
  "kernelspec": {
   "display_name": "Python 3 (ipykernel)",
   "language": "python",
   "name": "python3"
  },
  "language_info": {
   "codemirror_mode": {
    "name": "ipython",
    "version": 3
   },
   "file_extension": ".py",
   "mimetype": "text/x-python",
   "name": "python",
   "nbconvert_exporter": "python",
   "pygments_lexer": "ipython3",
   "version": "3.9.5"
  },
  "toc": {
   "base_numbering": 1,
   "nav_menu": {},
   "number_sections": true,
   "sideBar": true,
   "skip_h1_title": true,
   "title_cell": "Table of Contents",
   "title_sidebar": "Contents",
   "toc_cell": true,
   "toc_position": {
    "height": "calc(100% - 180px)",
    "left": "10px",
    "top": "150px",
    "width": "358.391px"
   },
   "toc_section_display": true,
   "toc_window_display": true
  }
 },
 "nbformat": 4,
 "nbformat_minor": 2
}
