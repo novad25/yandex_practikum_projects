{
 "cells": [
  {
   "cell_type": "markdown",
   "id": "4ca5fc82",
   "metadata": {},
   "source": [
    "# Исследование надежности заемщиков."
   ]
  },
  {
   "cell_type": "markdown",
   "id": "830a8cba",
   "metadata": {},
   "source": [
    "## Описание проекта\n",
    "Заказчик — кредитный отдел банка. Нужно разобраться, влияет ли семейное положение и количество детей клиента на факт погашения кредита в срок. Входные данные от банка — статистика о платёжеспособности клиентов.\n",
    "Результаты исследования будут учтены при построении модели кредитного скоринга — специальной системы, которая оценивает способность потенциального заёмщика вернуть кредит банку."
   ]
  },
  {
   "cell_type": "markdown",
   "id": "701f6ff6",
   "metadata": {},
   "source": [
    "## Описание данных\n",
    "- children — количество детей в семье\n",
    "- days_employed — общий трудовой стаж в днях\n",
    "- dob_years — возраст клиента в годах\n",
    "- education — уровень образования клиента\n",
    "- education_id — идентификатор уровня образования\n",
    "- family_status — семейное положение\n",
    "- family_status_id — идентификатор семейного положения\n",
    "- gender — пол клиента\n",
    "- income_type — тип занятости\n",
    "- debt — имел ли задолженность по возврату кредитов\n",
    "- total_income — ежемесячный доход\n",
    "- purpose — цель получения кредита"
   ]
  },
  {
   "cell_type": "markdown",
   "id": "571e2256",
   "metadata": {},
   "source": [
    "### Шаг 1. Обзор данных"
   ]
  },
  {
   "cell_type": "code",
   "execution_count": 1,
   "id": "e5a38300",
   "metadata": {},
   "outputs": [],
   "source": [
    "import pandas as pd"
   ]
  },
  {
   "cell_type": "code",
   "execution_count": 2,
   "id": "ec03c15a",
   "metadata": {},
   "outputs": [],
   "source": [
    "import seaborn as sns"
   ]
  },
  {
   "cell_type": "code",
   "execution_count": 3,
   "id": "f1d9893d",
   "metadata": {},
   "outputs": [],
   "source": [
    "data = pd.read_csv('/datasets/data.csv')"
   ]
  },
  {
   "cell_type": "code",
   "execution_count": 4,
   "id": "2fa77ce1",
   "metadata": {},
   "outputs": [
    {
     "name": "stdout",
     "output_type": "stream",
     "text": [
      "<class 'pandas.core.frame.DataFrame'>\n",
      "RangeIndex: 21525 entries, 0 to 21524\n",
      "Data columns (total 12 columns):\n",
      "children            21525 non-null int64\n",
      "days_employed       19351 non-null float64\n",
      "dob_years           21525 non-null int64\n",
      "education           21525 non-null object\n",
      "education_id        21525 non-null int64\n",
      "family_status       21525 non-null object\n",
      "family_status_id    21525 non-null int64\n",
      "gender              21525 non-null object\n",
      "income_type         21525 non-null object\n",
      "debt                21525 non-null int64\n",
      "total_income        19351 non-null float64\n",
      "purpose             21525 non-null object\n",
      "dtypes: float64(2), int64(5), object(5)\n",
      "memory usage: 2.0+ MB\n"
     ]
    }
   ],
   "source": [
    "data.info()"
   ]
  },
  {
   "cell_type": "code",
   "execution_count": 5,
   "id": "7af72e18",
   "metadata": {},
   "outputs": [
    {
     "data": {
      "text/html": [
       "<div>\n",
       "<style scoped>\n",
       "    .dataframe tbody tr th:only-of-type {\n",
       "        vertical-align: middle;\n",
       "    }\n",
       "\n",
       "    .dataframe tbody tr th {\n",
       "        vertical-align: top;\n",
       "    }\n",
       "\n",
       "    .dataframe thead th {\n",
       "        text-align: right;\n",
       "    }\n",
       "</style>\n",
       "<table border=\"1\" class=\"dataframe\">\n",
       "  <thead>\n",
       "    <tr style=\"text-align: right;\">\n",
       "      <th></th>\n",
       "      <th>children</th>\n",
       "      <th>days_employed</th>\n",
       "      <th>dob_years</th>\n",
       "      <th>education</th>\n",
       "      <th>education_id</th>\n",
       "      <th>family_status</th>\n",
       "      <th>family_status_id</th>\n",
       "      <th>gender</th>\n",
       "      <th>income_type</th>\n",
       "      <th>debt</th>\n",
       "      <th>total_income</th>\n",
       "      <th>purpose</th>\n",
       "    </tr>\n",
       "  </thead>\n",
       "  <tbody>\n",
       "    <tr>\n",
       "      <td>0</td>\n",
       "      <td>1</td>\n",
       "      <td>-8437.673028</td>\n",
       "      <td>42</td>\n",
       "      <td>высшее</td>\n",
       "      <td>0</td>\n",
       "      <td>женат / замужем</td>\n",
       "      <td>0</td>\n",
       "      <td>F</td>\n",
       "      <td>сотрудник</td>\n",
       "      <td>0</td>\n",
       "      <td>253875.639453</td>\n",
       "      <td>покупка жилья</td>\n",
       "    </tr>\n",
       "    <tr>\n",
       "      <td>1</td>\n",
       "      <td>1</td>\n",
       "      <td>-4024.803754</td>\n",
       "      <td>36</td>\n",
       "      <td>среднее</td>\n",
       "      <td>1</td>\n",
       "      <td>женат / замужем</td>\n",
       "      <td>0</td>\n",
       "      <td>F</td>\n",
       "      <td>сотрудник</td>\n",
       "      <td>0</td>\n",
       "      <td>112080.014102</td>\n",
       "      <td>приобретение автомобиля</td>\n",
       "    </tr>\n",
       "    <tr>\n",
       "      <td>2</td>\n",
       "      <td>0</td>\n",
       "      <td>-5623.422610</td>\n",
       "      <td>33</td>\n",
       "      <td>Среднее</td>\n",
       "      <td>1</td>\n",
       "      <td>женат / замужем</td>\n",
       "      <td>0</td>\n",
       "      <td>M</td>\n",
       "      <td>сотрудник</td>\n",
       "      <td>0</td>\n",
       "      <td>145885.952297</td>\n",
       "      <td>покупка жилья</td>\n",
       "    </tr>\n",
       "    <tr>\n",
       "      <td>3</td>\n",
       "      <td>3</td>\n",
       "      <td>-4124.747207</td>\n",
       "      <td>32</td>\n",
       "      <td>среднее</td>\n",
       "      <td>1</td>\n",
       "      <td>женат / замужем</td>\n",
       "      <td>0</td>\n",
       "      <td>M</td>\n",
       "      <td>сотрудник</td>\n",
       "      <td>0</td>\n",
       "      <td>267628.550329</td>\n",
       "      <td>дополнительное образование</td>\n",
       "    </tr>\n",
       "    <tr>\n",
       "      <td>4</td>\n",
       "      <td>0</td>\n",
       "      <td>340266.072047</td>\n",
       "      <td>53</td>\n",
       "      <td>среднее</td>\n",
       "      <td>1</td>\n",
       "      <td>гражданский брак</td>\n",
       "      <td>1</td>\n",
       "      <td>F</td>\n",
       "      <td>пенсионер</td>\n",
       "      <td>0</td>\n",
       "      <td>158616.077870</td>\n",
       "      <td>сыграть свадьбу</td>\n",
       "    </tr>\n",
       "  </tbody>\n",
       "</table>\n",
       "</div>"
      ],
      "text/plain": [
       "   children  days_employed  dob_years education  education_id  \\\n",
       "0         1   -8437.673028         42    высшее             0   \n",
       "1         1   -4024.803754         36   среднее             1   \n",
       "2         0   -5623.422610         33   Среднее             1   \n",
       "3         3   -4124.747207         32   среднее             1   \n",
       "4         0  340266.072047         53   среднее             1   \n",
       "\n",
       "      family_status  family_status_id gender income_type  debt   total_income  \\\n",
       "0   женат / замужем                 0      F   сотрудник     0  253875.639453   \n",
       "1   женат / замужем                 0      F   сотрудник     0  112080.014102   \n",
       "2   женат / замужем                 0      M   сотрудник     0  145885.952297   \n",
       "3   женат / замужем                 0      M   сотрудник     0  267628.550329   \n",
       "4  гражданский брак                 1      F   пенсионер     0  158616.077870   \n",
       "\n",
       "                      purpose  \n",
       "0               покупка жилья  \n",
       "1     приобретение автомобиля  \n",
       "2               покупка жилья  \n",
       "3  дополнительное образование  \n",
       "4             сыграть свадьбу  "
      ]
     },
     "execution_count": 5,
     "metadata": {},
     "output_type": "execute_result"
    }
   ],
   "source": [
    "data.head()"
   ]
  },
  {
   "cell_type": "markdown",
   "id": "16f92bac",
   "metadata": {},
   "source": [
    "### Шаг 2.1 Заполнение пропусков"
   ]
  },
  {
   "cell_type": "markdown",
   "id": "3dddc05c",
   "metadata": {},
   "source": [
    "В столбцах days_employed и total_income есть пропущенные значения."
   ]
  },
  {
   "cell_type": "markdown",
   "id": "cc44291d",
   "metadata": {},
   "source": [
    "Определяем общее количество пропусов по столбцам."
   ]
  },
  {
   "cell_type": "code",
   "execution_count": 6,
   "id": "264fc783",
   "metadata": {},
   "outputs": [],
   "source": [
    "sum_nan_days_employed = data['days_employed'].isna().sum()"
   ]
  },
  {
   "cell_type": "code",
   "execution_count": 7,
   "id": "cc1603e2",
   "metadata": {},
   "outputs": [
    {
     "data": {
      "text/plain": [
       "2174"
      ]
     },
     "execution_count": 7,
     "metadata": {},
     "output_type": "execute_result"
    }
   ],
   "source": [
    "sum_nan_days_employed"
   ]
  },
  {
   "cell_type": "code",
   "execution_count": 8,
   "id": "fa830659",
   "metadata": {},
   "outputs": [],
   "source": [
    "sum_nan_total_income = data['total_income'].isna().sum()"
   ]
  },
  {
   "cell_type": "code",
   "execution_count": 9,
   "id": "e58bde0b",
   "metadata": {},
   "outputs": [
    {
     "data": {
      "text/plain": [
       "2174"
      ]
     },
     "execution_count": 9,
     "metadata": {},
     "output_type": "execute_result"
    }
   ],
   "source": [
    "sum_nan_total_income"
   ]
  },
  {
   "cell_type": "markdown",
   "id": "a1d1faff",
   "metadata": {},
   "source": [
    "Определяем какую долю составляют пропущенные значения в каждом из столбцов с пропусками."
   ]
  },
  {
   "cell_type": "code",
   "execution_count": 10,
   "id": "6b30d1a5",
   "metadata": {},
   "outputs": [],
   "source": [
    "ratio_nan_days_employed = sum_nan_days_employed / data.shape[0]"
   ]
  },
  {
   "cell_type": "code",
   "execution_count": 11,
   "id": "a3ac3bce",
   "metadata": {},
   "outputs": [
    {
     "data": {
      "text/plain": [
       "0.10099883855981417"
      ]
     },
     "execution_count": 11,
     "metadata": {},
     "output_type": "execute_result"
    }
   ],
   "source": [
    "ratio_nan_days_employed"
   ]
  },
  {
   "cell_type": "code",
   "execution_count": 12,
   "id": "1248d768",
   "metadata": {},
   "outputs": [],
   "source": [
    "ratio_nan_total_income = sum_nan_total_income / data.shape[0]"
   ]
  },
  {
   "cell_type": "code",
   "execution_count": 13,
   "id": "7b4668d9",
   "metadata": {},
   "outputs": [
    {
     "data": {
      "text/plain": [
       "0.10099883855981417"
      ]
     },
     "execution_count": 13,
     "metadata": {},
     "output_type": "execute_result"
    }
   ],
   "source": [
    "ratio_nan_days_employed"
   ]
  },
  {
   "cell_type": "markdown",
   "id": "5d7e0afb",
   "metadata": {},
   "source": [
    "Пропущенные значения составляют 0,1 долю от общего количества значений в столбцах"
   ]
  },
  {
   "cell_type": "markdown",
   "id": "6bed1213",
   "metadata": {},
   "source": [
    "Заполняем пропущенные значения медианой с группировкой по типам занятости. Медиана больше подходит для оценки среднего значения, потому что снижает влияние выбросов."
   ]
  },
  {
   "cell_type": "code",
   "execution_count": 14,
   "id": "a85af28c",
   "metadata": {},
   "outputs": [],
   "source": [
    "for income_type in data['income_type'].unique():\n",
    "    median_days_employed = data.loc[data['income_type'] == income_type, 'days_employed'].median()\n",
    "    data.loc[(data['days_employed'].isna()) & (data['income_type'] == income_type), 'days_employed'] = median_days_employed"
   ]
  },
  {
   "cell_type": "code",
   "execution_count": 15,
   "id": "506514a5",
   "metadata": {},
   "outputs": [],
   "source": [
    "for income_type in data['income_type'].unique():\n",
    "    median_total_income = data.loc[data['income_type'] == income_type, 'total_income'].median()\n",
    "    data.loc[(data['total_income'].isna()) & (data['income_type'] == income_type), 'total_income'] = median_total_income"
   ]
  },
  {
   "cell_type": "markdown",
   "id": "e98e47dc",
   "metadata": {},
   "source": [
    "Проверка выполнения замены:"
   ]
  },
  {
   "cell_type": "code",
   "execution_count": 16,
   "id": "1ec3cbf3",
   "metadata": {},
   "outputs": [
    {
     "data": {
      "text/plain": [
       "0"
      ]
     },
     "execution_count": 16,
     "metadata": {},
     "output_type": "execute_result"
    }
   ],
   "source": [
    "data['total_income'].isna().sum()"
   ]
  },
  {
   "cell_type": "code",
   "execution_count": 17,
   "id": "dc305b81",
   "metadata": {},
   "outputs": [
    {
     "data": {
      "text/plain": [
       "0"
      ]
     },
     "execution_count": 17,
     "metadata": {},
     "output_type": "execute_result"
    }
   ],
   "source": [
    "data['total_income'].isna().sum()"
   ]
  },
  {
   "cell_type": "code",
   "execution_count": 18,
   "id": "565c3711",
   "metadata": {},
   "outputs": [
    {
     "name": "stdout",
     "output_type": "stream",
     "text": [
      "<class 'pandas.core.frame.DataFrame'>\n",
      "RangeIndex: 21525 entries, 0 to 21524\n",
      "Data columns (total 12 columns):\n",
      "children            21525 non-null int64\n",
      "days_employed       21525 non-null float64\n",
      "dob_years           21525 non-null int64\n",
      "education           21525 non-null object\n",
      "education_id        21525 non-null int64\n",
      "family_status       21525 non-null object\n",
      "family_status_id    21525 non-null int64\n",
      "gender              21525 non-null object\n",
      "income_type         21525 non-null object\n",
      "debt                21525 non-null int64\n",
      "total_income        21525 non-null float64\n",
      "purpose             21525 non-null object\n",
      "dtypes: float64(2), int64(5), object(5)\n",
      "memory usage: 2.0+ MB\n"
     ]
    }
   ],
   "source": [
    "data.info()"
   ]
  },
  {
   "cell_type": "markdown",
   "id": "ad7b50fc",
   "metadata": {},
   "source": [
    "Пустые значения отсутствуют."
   ]
  },
  {
   "cell_type": "markdown",
   "id": "c416aa5a",
   "metadata": {},
   "source": [
    "### Шаг 2.2 Проверка данных на аномалии и исправления."
   ]
  },
  {
   "cell_type": "markdown",
   "id": "d9097c6b",
   "metadata": {},
   "source": [
    "#### Определяем аномалии в столбце 'children':"
   ]
  },
  {
   "cell_type": "code",
   "execution_count": 19,
   "id": "e1f9571f",
   "metadata": {},
   "outputs": [
    {
     "data": {
      "text/plain": [
       " 0     14149\n",
       " 1      4818\n",
       " 2      2055\n",
       " 3       330\n",
       " 20       76\n",
       "-1        47\n",
       " 4        41\n",
       " 5         9\n",
       "Name: children, dtype: int64"
      ]
     },
     "execution_count": 19,
     "metadata": {},
     "output_type": "execute_result"
    }
   ],
   "source": [
    "data['children'].value_counts()"
   ]
  },
  {
   "cell_type": "markdown",
   "id": "b4871659",
   "metadata": {},
   "source": [
    "Значения '-1'и '20' предпожительно, появились из-за опечатки. Преведем замену на значения '1' и '2' соответственно."
   ]
  },
  {
   "cell_type": "code",
   "execution_count": 20,
   "id": "f31adef9",
   "metadata": {},
   "outputs": [],
   "source": [
    "data['children'] = data['children'].replace(-1, 1)"
   ]
  },
  {
   "cell_type": "code",
   "execution_count": 21,
   "id": "e628cfb9",
   "metadata": {},
   "outputs": [],
   "source": [
    "data['children'] = data['children'].replace(20, 2)"
   ]
  },
  {
   "cell_type": "markdown",
   "id": "87753c3d",
   "metadata": {},
   "source": [
    "Проверка проведенной замены"
   ]
  },
  {
   "cell_type": "code",
   "execution_count": 22,
   "id": "bdc99eb2",
   "metadata": {},
   "outputs": [
    {
     "data": {
      "text/plain": [
       "0    14149\n",
       "1     4865\n",
       "2     2131\n",
       "3      330\n",
       "4       41\n",
       "5        9\n",
       "Name: children, dtype: int64"
      ]
     },
     "execution_count": 22,
     "metadata": {},
     "output_type": "execute_result"
    }
   ],
   "source": [
    "data['children'].value_counts()"
   ]
  },
  {
   "cell_type": "markdown",
   "id": "05c5470a",
   "metadata": {},
   "source": [
    "#### Определяем аномалии в столбце 'days_employed'. "
   ]
  },
  {
   "cell_type": "code",
   "execution_count": 23,
   "id": "d72bb4c5",
   "metadata": {},
   "outputs": [
    {
     "data": {
      "text/plain": [
       "0         -8437.673028\n",
       "1         -4024.803754\n",
       "2         -5623.422610\n",
       "3         -4124.747207\n",
       "4        340266.072047\n",
       "             ...      \n",
       "21520     -4529.316663\n",
       "21521    343937.404131\n",
       "21522     -2113.346888\n",
       "21523     -3112.481705\n",
       "21524     -1984.507589\n",
       "Name: days_employed, Length: 21525, dtype: float64"
      ]
     },
     "execution_count": 23,
     "metadata": {},
     "output_type": "execute_result"
    }
   ],
   "source": [
    "data['days_employed']"
   ]
  },
  {
   "cell_type": "code",
   "execution_count": 24,
   "id": "714b84d0",
   "metadata": {},
   "outputs": [
    {
     "data": {
      "text/plain": [
       "(401755.40047533, -18388.949900568383)"
      ]
     },
     "execution_count": 24,
     "metadata": {},
     "output_type": "execute_result"
    }
   ],
   "source": [
    "data['days_employed'].max(), data['days_employed'].min()"
   ]
  },
  {
   "cell_type": "markdown",
   "id": "c4d50c29",
   "metadata": {},
   "source": [
    "Присутствуют отрицательные значения и аномально большие значения количества дней трудового стажа. Скорее всего, потому что применялось две различные системы сбора данных. "
   ]
  },
  {
   "cell_type": "markdown",
   "id": "4de9fd3c",
   "metadata": {},
   "source": [
    "Избавляемся от отрицательных значения, применяя функцию abs(), для получения модуля каждого значения в столбце."
   ]
  },
  {
   "cell_type": "code",
   "execution_count": 25,
   "id": "9647be91",
   "metadata": {},
   "outputs": [],
   "source": [
    "data['days_employed'] = data['days_employed'].abs()"
   ]
  },
  {
   "cell_type": "code",
   "execution_count": 26,
   "id": "b088d116",
   "metadata": {},
   "outputs": [
    {
     "data": {
      "text/plain": [
       "0          8437.673028\n",
       "1          4024.803754\n",
       "2          5623.422610\n",
       "3          4124.747207\n",
       "4        340266.072047\n",
       "             ...      \n",
       "21520      4529.316663\n",
       "21521    343937.404131\n",
       "21522      2113.346888\n",
       "21523      3112.481705\n",
       "21524      1984.507589\n",
       "Name: days_employed, Length: 21525, dtype: float64"
      ]
     },
     "execution_count": 26,
     "metadata": {},
     "output_type": "execute_result"
    }
   ],
   "source": [
    "data['days_employed']"
   ]
  },
  {
   "cell_type": "markdown",
   "id": "3abef014",
   "metadata": {},
   "source": [
    "Для наглядности переведём значения столбца из типа данных float64 в тип данных int64."
   ]
  },
  {
   "cell_type": "code",
   "execution_count": 27,
   "id": "1f810c9a",
   "metadata": {},
   "outputs": [],
   "source": [
    "data['days_employed'] = data['days_employed'].astype('int')"
   ]
  },
  {
   "cell_type": "code",
   "execution_count": 28,
   "id": "adbc5057",
   "metadata": {},
   "outputs": [
    {
     "data": {
      "text/plain": [
       "(401755, 24)"
      ]
     },
     "execution_count": 28,
     "metadata": {},
     "output_type": "execute_result"
    }
   ],
   "source": [
    "data['days_employed'].max(), data['days_employed'].min()"
   ]
  },
  {
   "cell_type": "markdown",
   "id": "9cac2599",
   "metadata": {},
   "source": [
    "С помощью библиотеки seaborn, построим диаграмму рассеяния для отсортированных значений days_employed."
   ]
  },
  {
   "cell_type": "code",
   "execution_count": 29,
   "id": "91aef4af",
   "metadata": {},
   "outputs": [
    {
     "data": {
      "text/plain": [
       "<matplotlib.axes._subplots.AxesSubplot at 0x7f52c9682b90>"
      ]
     },
     "execution_count": 29,
     "metadata": {},
     "output_type": "execute_result"
    },
    {
     "data": {
      "image/png": "[encoded data removed]",
      "text/plain": [
       "<Figure size 432x288 with 1 Axes>"
      ]
     },
     "metadata": {
      "needs_background": "light"
     },
     "output_type": "display_data"
    }
   ],
   "source": [
    "sns.scatterplot(data=data, x=range(len(data)), y=data['days_employed'].sort_values())"
   ]
  },
  {
   "cell_type": "markdown",
   "id": "e46a256e",
   "metadata": {},
   "source": [
    "На диаграмме видно, что значения days_employed разделены на две группы, с нормальными значениям и аномально высокими. Разделим значения days_employed по этому принципу. Пограничным значением возьмем days_employed = 50000."
   ]
  },
  {
   "cell_type": "code",
   "execution_count": 30,
   "id": "e533d2a7",
   "metadata": {},
   "outputs": [],
   "source": [
    "abnormal_days_employed = data[data['days_employed'] > 50000]['days_employed']"
   ]
  },
  {
   "cell_type": "markdown",
   "id": "6ca89009",
   "metadata": {},
   "source": [
    "Аномально высокие значения, скорее всего указаны в часах, а не днях.  Переведем эти значения в дни."
   ]
  },
  {
   "cell_type": "code",
   "execution_count": 31,
   "id": "60f87ea5",
   "metadata": {},
   "outputs": [],
   "source": [
    "normalized_days_employed = abnormal_days_employed / 24"
   ]
  },
  {
   "cell_type": "markdown",
   "id": "c41a3123",
   "metadata": {},
   "source": [
    "Добавим исправленные обработанные значения в исходный датафрейм."
   ]
  },
  {
   "cell_type": "code",
   "execution_count": 32,
   "id": "2a1a85a2",
   "metadata": {},
   "outputs": [],
   "source": [
    "data.loc[(data['days_employed'] > 50000), 'days_employed'] = normalized_days_employed.astype(int)"
   ]
  },
  {
   "cell_type": "code",
   "execution_count": 33,
   "id": "396c7a59",
   "metadata": {},
   "outputs": [
    {
     "data": {
      "text/html": [
       "<div>\n",
       "<style scoped>\n",
       "    .dataframe tbody tr th:only-of-type {\n",
       "        vertical-align: middle;\n",
       "    }\n",
       "\n",
       "    .dataframe tbody tr th {\n",
       "        vertical-align: top;\n",
       "    }\n",
       "\n",
       "    .dataframe thead th {\n",
       "        text-align: right;\n",
       "    }\n",
       "</style>\n",
       "<table border=\"1\" class=\"dataframe\">\n",
       "  <thead>\n",
       "    <tr style=\"text-align: right;\">\n",
       "      <th></th>\n",
       "      <th>children</th>\n",
       "      <th>days_employed</th>\n",
       "      <th>dob_years</th>\n",
       "      <th>education</th>\n",
       "      <th>education_id</th>\n",
       "      <th>family_status</th>\n",
       "      <th>family_status_id</th>\n",
       "      <th>gender</th>\n",
       "      <th>income_type</th>\n",
       "      <th>debt</th>\n",
       "      <th>total_income</th>\n",
       "      <th>purpose</th>\n",
       "    </tr>\n",
       "  </thead>\n",
       "  <tbody>\n",
       "    <tr>\n",
       "      <td>0</td>\n",
       "      <td>1</td>\n",
       "      <td>8437</td>\n",
       "      <td>42</td>\n",
       "      <td>высшее</td>\n",
       "      <td>0</td>\n",
       "      <td>женат / замужем</td>\n",
       "      <td>0</td>\n",
       "      <td>F</td>\n",
       "      <td>сотрудник</td>\n",
       "      <td>0</td>\n",
       "      <td>253875.639453</td>\n",
       "      <td>покупка жилья</td>\n",
       "    </tr>\n",
       "    <tr>\n",
       "      <td>1</td>\n",
       "      <td>1</td>\n",
       "      <td>4024</td>\n",
       "      <td>36</td>\n",
       "      <td>среднее</td>\n",
       "      <td>1</td>\n",
       "      <td>женат / замужем</td>\n",
       "      <td>0</td>\n",
       "      <td>F</td>\n",
       "      <td>сотрудник</td>\n",
       "      <td>0</td>\n",
       "      <td>112080.014102</td>\n",
       "      <td>приобретение автомобиля</td>\n",
       "    </tr>\n",
       "    <tr>\n",
       "      <td>2</td>\n",
       "      <td>0</td>\n",
       "      <td>5623</td>\n",
       "      <td>33</td>\n",
       "      <td>Среднее</td>\n",
       "      <td>1</td>\n",
       "      <td>женат / замужем</td>\n",
       "      <td>0</td>\n",
       "      <td>M</td>\n",
       "      <td>сотрудник</td>\n",
       "      <td>0</td>\n",
       "      <td>145885.952297</td>\n",
       "      <td>покупка жилья</td>\n",
       "    </tr>\n",
       "    <tr>\n",
       "      <td>3</td>\n",
       "      <td>3</td>\n",
       "      <td>4124</td>\n",
       "      <td>32</td>\n",
       "      <td>среднее</td>\n",
       "      <td>1</td>\n",
       "      <td>женат / замужем</td>\n",
       "      <td>0</td>\n",
       "      <td>M</td>\n",
       "      <td>сотрудник</td>\n",
       "      <td>0</td>\n",
       "      <td>267628.550329</td>\n",
       "      <td>дополнительное образование</td>\n",
       "    </tr>\n",
       "    <tr>\n",
       "      <td>4</td>\n",
       "      <td>0</td>\n",
       "      <td>14177</td>\n",
       "      <td>53</td>\n",
       "      <td>среднее</td>\n",
       "      <td>1</td>\n",
       "      <td>гражданский брак</td>\n",
       "      <td>1</td>\n",
       "      <td>F</td>\n",
       "      <td>пенсионер</td>\n",
       "      <td>0</td>\n",
       "      <td>158616.077870</td>\n",
       "      <td>сыграть свадьбу</td>\n",
       "    </tr>\n",
       "    <tr>\n",
       "      <td>...</td>\n",
       "      <td>...</td>\n",
       "      <td>...</td>\n",
       "      <td>...</td>\n",
       "      <td>...</td>\n",
       "      <td>...</td>\n",
       "      <td>...</td>\n",
       "      <td>...</td>\n",
       "      <td>...</td>\n",
       "      <td>...</td>\n",
       "      <td>...</td>\n",
       "      <td>...</td>\n",
       "      <td>...</td>\n",
       "    </tr>\n",
       "    <tr>\n",
       "      <td>21520</td>\n",
       "      <td>1</td>\n",
       "      <td>4529</td>\n",
       "      <td>43</td>\n",
       "      <td>среднее</td>\n",
       "      <td>1</td>\n",
       "      <td>гражданский брак</td>\n",
       "      <td>1</td>\n",
       "      <td>F</td>\n",
       "      <td>компаньон</td>\n",
       "      <td>0</td>\n",
       "      <td>224791.862382</td>\n",
       "      <td>операции с жильем</td>\n",
       "    </tr>\n",
       "    <tr>\n",
       "      <td>21521</td>\n",
       "      <td>0</td>\n",
       "      <td>14330</td>\n",
       "      <td>67</td>\n",
       "      <td>среднее</td>\n",
       "      <td>1</td>\n",
       "      <td>женат / замужем</td>\n",
       "      <td>0</td>\n",
       "      <td>F</td>\n",
       "      <td>пенсионер</td>\n",
       "      <td>0</td>\n",
       "      <td>155999.806512</td>\n",
       "      <td>сделка с автомобилем</td>\n",
       "    </tr>\n",
       "    <tr>\n",
       "      <td>21522</td>\n",
       "      <td>1</td>\n",
       "      <td>2113</td>\n",
       "      <td>38</td>\n",
       "      <td>среднее</td>\n",
       "      <td>1</td>\n",
       "      <td>гражданский брак</td>\n",
       "      <td>1</td>\n",
       "      <td>M</td>\n",
       "      <td>сотрудник</td>\n",
       "      <td>1</td>\n",
       "      <td>89672.561153</td>\n",
       "      <td>недвижимость</td>\n",
       "    </tr>\n",
       "    <tr>\n",
       "      <td>21523</td>\n",
       "      <td>3</td>\n",
       "      <td>3112</td>\n",
       "      <td>38</td>\n",
       "      <td>среднее</td>\n",
       "      <td>1</td>\n",
       "      <td>женат / замужем</td>\n",
       "      <td>0</td>\n",
       "      <td>M</td>\n",
       "      <td>сотрудник</td>\n",
       "      <td>1</td>\n",
       "      <td>244093.050500</td>\n",
       "      <td>на покупку своего автомобиля</td>\n",
       "    </tr>\n",
       "    <tr>\n",
       "      <td>21524</td>\n",
       "      <td>2</td>\n",
       "      <td>1984</td>\n",
       "      <td>40</td>\n",
       "      <td>среднее</td>\n",
       "      <td>1</td>\n",
       "      <td>женат / замужем</td>\n",
       "      <td>0</td>\n",
       "      <td>F</td>\n",
       "      <td>сотрудник</td>\n",
       "      <td>0</td>\n",
       "      <td>82047.418899</td>\n",
       "      <td>на покупку автомобиля</td>\n",
       "    </tr>\n",
       "  </tbody>\n",
       "</table>\n",
       "<p>21525 rows × 12 columns</p>\n",
       "</div>"
      ],
      "text/plain": [
       "       children  days_employed  dob_years education  education_id  \\\n",
       "0             1           8437         42    высшее             0   \n",
       "1             1           4024         36   среднее             1   \n",
       "2             0           5623         33   Среднее             1   \n",
       "3             3           4124         32   среднее             1   \n",
       "4             0          14177         53   среднее             1   \n",
       "...         ...            ...        ...       ...           ...   \n",
       "21520         1           4529         43   среднее             1   \n",
       "21521         0          14330         67   среднее             1   \n",
       "21522         1           2113         38   среднее             1   \n",
       "21523         3           3112         38   среднее             1   \n",
       "21524         2           1984         40   среднее             1   \n",
       "\n",
       "          family_status  family_status_id gender income_type  debt  \\\n",
       "0       женат / замужем                 0      F   сотрудник     0   \n",
       "1       женат / замужем                 0      F   сотрудник     0   \n",
       "2       женат / замужем                 0      M   сотрудник     0   \n",
       "3       женат / замужем                 0      M   сотрудник     0   \n",
       "4      гражданский брак                 1      F   пенсионер     0   \n",
       "...                 ...               ...    ...         ...   ...   \n",
       "21520  гражданский брак                 1      F   компаньон     0   \n",
       "21521   женат / замужем                 0      F   пенсионер     0   \n",
       "21522  гражданский брак                 1      M   сотрудник     1   \n",
       "21523   женат / замужем                 0      M   сотрудник     1   \n",
       "21524   женат / замужем                 0      F   сотрудник     0   \n",
       "\n",
       "        total_income                       purpose  \n",
       "0      253875.639453                 покупка жилья  \n",
       "1      112080.014102       приобретение автомобиля  \n",
       "2      145885.952297                 покупка жилья  \n",
       "3      267628.550329    дополнительное образование  \n",
       "4      158616.077870               сыграть свадьбу  \n",
       "...              ...                           ...  \n",
       "21520  224791.862382             операции с жильем  \n",
       "21521  155999.806512          сделка с автомобилем  \n",
       "21522   89672.561153                  недвижимость  \n",
       "21523  244093.050500  на покупку своего автомобиля  \n",
       "21524   82047.418899         на покупку автомобиля  \n",
       "\n",
       "[21525 rows x 12 columns]"
      ]
     },
     "execution_count": 33,
     "metadata": {},
     "output_type": "execute_result"
    }
   ],
   "source": [
    "data"
   ]
  },
  {
   "cell_type": "code",
   "execution_count": 34,
   "id": "1f67d803",
   "metadata": {},
   "outputs": [
    {
     "data": {
      "text/plain": [
       "(18388, 24)"
      ]
     },
     "execution_count": 34,
     "metadata": {},
     "output_type": "execute_result"
    }
   ],
   "source": [
    "data['days_employed'].max() , data['days_employed'].min()"
   ]
  },
  {
   "cell_type": "markdown",
   "id": "bd2ccbd7",
   "metadata": {},
   "source": [
    "Переводим максимальное значение days_employed в года, для проверки реальности данных"
   ]
  },
  {
   "cell_type": "code",
   "execution_count": 35,
   "id": "87ae0a13",
   "metadata": {},
   "outputs": [
    {
     "data": {
      "text/plain": [
       "50.37808219178082"
      ]
     },
     "execution_count": 35,
     "metadata": {},
     "output_type": "execute_result"
    }
   ],
   "source": [
    "data['days_employed'].max() / 365"
   ]
  },
  {
   "cell_type": "markdown",
   "id": "361cace9",
   "metadata": {},
   "source": [
    "Трудовой стаж в 50,4 года вполне возможен."
   ]
  },
  {
   "cell_type": "markdown",
   "id": "9c83b8a5",
   "metadata": {},
   "source": [
    "#### Определяем аномалии в столбце 'dob_years'."
   ]
  },
  {
   "cell_type": "code",
   "execution_count": 36,
   "id": "43b18eab",
   "metadata": {},
   "outputs": [
    {
     "data": {
      "text/plain": [
       "35    617\n",
       "40    609\n",
       "41    607\n",
       "34    603\n",
       "38    598\n",
       "42    597\n",
       "33    581\n",
       "39    573\n",
       "31    560\n",
       "36    555\n",
       "44    547\n",
       "29    545\n",
       "30    540\n",
       "48    538\n",
       "37    537\n",
       "50    514\n",
       "43    513\n",
       "32    510\n",
       "49    508\n",
       "28    503\n",
       "45    497\n",
       "27    493\n",
       "56    487\n",
       "52    484\n",
       "47    480\n",
       "54    479\n",
       "46    475\n",
       "58    461\n",
       "57    460\n",
       "53    459\n",
       "51    448\n",
       "59    444\n",
       "55    443\n",
       "26    408\n",
       "60    377\n",
       "25    357\n",
       "61    355\n",
       "62    352\n",
       "63    269\n",
       "64    265\n",
       "24    264\n",
       "23    254\n",
       "65    194\n",
       "66    183\n",
       "22    183\n",
       "67    167\n",
       "21    111\n",
       "0     101\n",
       "68     99\n",
       "69     85\n",
       "70     65\n",
       "71     58\n",
       "20     51\n",
       "72     33\n",
       "19     14\n",
       "73      8\n",
       "74      6\n",
       "75      1\n",
       "Name: dob_years, dtype: int64"
      ]
     },
     "execution_count": 36,
     "metadata": {},
     "output_type": "execute_result"
    }
   ],
   "source": [
    "data['dob_years'].value_counts()"
   ]
  },
  {
   "cell_type": "markdown",
   "id": "7cbebda4",
   "metadata": {},
   "source": [
    "Возраст клиента со значением \"0\" встречается 101 раз."
   ]
  },
  {
   "cell_type": "markdown",
   "id": "8b7093be",
   "metadata": {},
   "source": [
    "Заполняем нулевые значения медианой с группировкой по типам занятости."
   ]
  },
  {
   "cell_type": "code",
   "execution_count": 37,
   "id": "7db9cf25",
   "metadata": {},
   "outputs": [],
   "source": [
    "for income_type in data['income_type'].unique():\n",
    "    median_dob_years = data.loc[data['income_type'] == income_type, 'dob_years'].median()\n",
    "    data.loc[(data['dob_years'] == 0) & (data['income_type'] == income_type), 'dob_years'] = median_dob_years"
   ]
  },
  {
   "cell_type": "code",
   "execution_count": 38,
   "id": "8996c28f",
   "metadata": {},
   "outputs": [],
   "source": [
    "data['dob_years'] = data['dob_years'].astype('int')"
   ]
  },
  {
   "cell_type": "markdown",
   "id": "5d0faf3b",
   "metadata": {},
   "source": [
    "#### Определяем аномалия в столбце 'gender'."
   ]
  },
  {
   "cell_type": "code",
   "execution_count": 39,
   "id": "15b80c61",
   "metadata": {},
   "outputs": [
    {
     "data": {
      "text/plain": [
       "F      14236\n",
       "M       7288\n",
       "XNA        1\n",
       "Name: gender, dtype: int64"
      ]
     },
     "execution_count": 39,
     "metadata": {},
     "output_type": "execute_result"
    }
   ],
   "source": [
    "data['gender'].value_counts()"
   ]
  },
  {
   "cell_type": "markdown",
   "id": "4ffafcb0",
   "metadata": {},
   "source": [
    "Одно неопределенное значение XNA. Удаляем данную строку."
   ]
  },
  {
   "cell_type": "code",
   "execution_count": 40,
   "id": "3f2bfc78",
   "metadata": {},
   "outputs": [],
   "source": [
    "data = data.loc[data['gender'] != 'XNA'].reset_index(drop=True)"
   ]
  },
  {
   "cell_type": "code",
   "execution_count": 41,
   "id": "785a5c89",
   "metadata": {},
   "outputs": [
    {
     "data": {
      "text/plain": [
       "F    14236\n",
       "M     7288\n",
       "Name: gender, dtype: int64"
      ]
     },
     "execution_count": 41,
     "metadata": {},
     "output_type": "execute_result"
    }
   ],
   "source": [
    "data['gender'].value_counts()"
   ]
  },
  {
   "cell_type": "markdown",
   "id": "0acd8608",
   "metadata": {},
   "source": [
    "### Шаг 2.3. Изменение типов данных."
   ]
  },
  {
   "cell_type": "markdown",
   "id": "4855ef9a",
   "metadata": {},
   "source": [
    "Замена вещественного типа данных в столбце total_income на целочисленный:"
   ]
  },
  {
   "cell_type": "code",
   "execution_count": 42,
   "id": "a0c79509",
   "metadata": {},
   "outputs": [],
   "source": [
    "data['total_income'] = data['total_income'].astype('int') "
   ]
  },
  {
   "cell_type": "code",
   "execution_count": 43,
   "id": "a5b72ab8",
   "metadata": {},
   "outputs": [
    {
     "data": {
      "text/plain": [
       "dtype('int64')"
      ]
     },
     "execution_count": 43,
     "metadata": {},
     "output_type": "execute_result"
    }
   ],
   "source": [
    "data['total_income'].dtypes"
   ]
  },
  {
   "cell_type": "markdown",
   "id": "88bbdeb4",
   "metadata": {},
   "source": [
    "Замена вещественного типа данных в столбце стаж days_employed на целочисленный:"
   ]
  },
  {
   "cell_type": "code",
   "execution_count": 44,
   "id": "6d6224c3",
   "metadata": {},
   "outputs": [],
   "source": [
    " data['days_employed'] = data['days_employed'].astype('int') "
   ]
  },
  {
   "cell_type": "code",
   "execution_count": 45,
   "id": "e898cd33",
   "metadata": {},
   "outputs": [
    {
     "data": {
      "text/plain": [
       "dtype('int64')"
      ]
     },
     "execution_count": 45,
     "metadata": {},
     "output_type": "execute_result"
    }
   ],
   "source": [
    "data['days_employed'].dtypes"
   ]
  },
  {
   "cell_type": "markdown",
   "id": "9efb927a",
   "metadata": {},
   "source": [
    "Замена целочисленного типа данных в столбце debt на булевое:"
   ]
  },
  {
   "cell_type": "code",
   "execution_count": 46,
   "id": "0b033c79",
   "metadata": {},
   "outputs": [],
   "source": [
    " data['debt'] = data['debt'].astype('bool') "
   ]
  },
  {
   "cell_type": "code",
   "execution_count": 47,
   "id": "dada09a6",
   "metadata": {},
   "outputs": [
    {
     "data": {
      "text/plain": [
       "dtype('bool')"
      ]
     },
     "execution_count": 47,
     "metadata": {},
     "output_type": "execute_result"
    }
   ],
   "source": [
    "data['debt'].dtypes"
   ]
  },
  {
   "cell_type": "markdown",
   "id": "51caf3ed",
   "metadata": {},
   "source": [
    "### Шаг 2.4. Удаление дубликатов."
   ]
  },
  {
   "cell_type": "markdown",
   "id": "36040923",
   "metadata": {},
   "source": [
    "Удаление явных строк-дубликатов"
   ]
  },
  {
   "cell_type": "code",
   "execution_count": 48,
   "id": "41f93769",
   "metadata": {},
   "outputs": [
    {
     "data": {
      "text/plain": [
       "54"
      ]
     },
     "execution_count": 48,
     "metadata": {},
     "output_type": "execute_result"
    }
   ],
   "source": [
    "data.duplicated().sum()"
   ]
  },
  {
   "cell_type": "code",
   "execution_count": 49,
   "id": "5ba32305",
   "metadata": {},
   "outputs": [],
   "source": [
    "#data = data.drop_duplicates().reset_index(drop=True)"
   ]
  },
  {
   "cell_type": "code",
   "execution_count": 50,
   "id": "40fea937",
   "metadata": {},
   "outputs": [],
   "source": [
    "#data.duplicated().sum()"
   ]
  },
  {
   "cell_type": "markdown",
   "id": "83d99d80",
   "metadata": {},
   "source": [
    "Удаление неявных дубликатов. "
   ]
  },
  {
   "cell_type": "markdown",
   "id": "30efc147",
   "metadata": {},
   "source": [
    "В столбце education:"
   ]
  },
  {
   "cell_type": "code",
   "execution_count": 51,
   "id": "456dd479",
   "metadata": {},
   "outputs": [
    {
     "data": {
      "text/plain": [
       "среднее                13750\n",
       "высшее                  4718\n",
       "СРЕДНЕЕ                  772\n",
       "Среднее                  711\n",
       "неоконченное высшее      667\n",
       "ВЫСШЕЕ                   274\n",
       "Высшее                   268\n",
       "начальное                250\n",
       "Неоконченное высшее       47\n",
       "НЕОКОНЧЕННОЕ ВЫСШЕЕ       29\n",
       "НАЧАЛЬНОЕ                 17\n",
       "Начальное                 15\n",
       "ученая степень             4\n",
       "Ученая степень             1\n",
       "УЧЕНАЯ СТЕПЕНЬ             1\n",
       "Name: education, dtype: int64"
      ]
     },
     "execution_count": 51,
     "metadata": {},
     "output_type": "execute_result"
    }
   ],
   "source": [
    "data['education'].value_counts()"
   ]
  },
  {
   "cell_type": "code",
   "execution_count": 52,
   "id": "8c1adb9f",
   "metadata": {},
   "outputs": [],
   "source": [
    "data['education'] = data['education'].str.lower()"
   ]
  },
  {
   "cell_type": "code",
   "execution_count": 53,
   "id": "cdbbbc54",
   "metadata": {},
   "outputs": [
    {
     "data": {
      "text/plain": [
       "среднее                15233\n",
       "высшее                  5260\n",
       "неоконченное высшее      743\n",
       "начальное                282\n",
       "ученая степень             6\n",
       "Name: education, dtype: int64"
      ]
     },
     "execution_count": 53,
     "metadata": {},
     "output_type": "execute_result"
    }
   ],
   "source": [
    "data['education'].value_counts()"
   ]
  },
  {
   "cell_type": "markdown",
   "id": "f6d76793",
   "metadata": {},
   "source": [
    "### Шаг 2.5. Формирование дополнительных датафреймов словарей, декомпозиция исходного датафрейма."
   ]
  },
  {
   "cell_type": "code",
   "execution_count": 54,
   "id": "f5d17edc",
   "metadata": {},
   "outputs": [],
   "source": [
    "df_education = data[['education_id', 'education']]"
   ]
  },
  {
   "cell_type": "code",
   "execution_count": 55,
   "id": "46e95f49",
   "metadata": {},
   "outputs": [
    {
     "data": {
      "text/plain": [
       "среднее                15233\n",
       "высшее                  5260\n",
       "неоконченное высшее      743\n",
       "начальное                282\n",
       "ученая степень             6\n",
       "Name: education, dtype: int64"
      ]
     },
     "execution_count": 55,
     "metadata": {},
     "output_type": "execute_result"
    }
   ],
   "source": [
    "df_education['education'].value_counts()"
   ]
  },
  {
   "cell_type": "code",
   "execution_count": 56,
   "id": "bb2e65a2",
   "metadata": {},
   "outputs": [],
   "source": [
    "df_family_status = data[['family_status_id', 'family_status']]"
   ]
  },
  {
   "cell_type": "code",
   "execution_count": 57,
   "id": "e8c358d8",
   "metadata": {},
   "outputs": [
    {
     "data": {
      "text/plain": [
       "женат / замужем          12380\n",
       "гражданский брак          4176\n",
       "Не женат / не замужем     2813\n",
       "в разводе                 1195\n",
       "вдовец / вдова             960\n",
       "Name: family_status, dtype: int64"
      ]
     },
     "execution_count": 57,
     "metadata": {},
     "output_type": "execute_result"
    }
   ],
   "source": [
    "df_family_status['family_status'].value_counts()"
   ]
  },
  {
   "cell_type": "markdown",
   "id": "a8909977",
   "metadata": {},
   "source": [
    "Удаление из исходного датафрейма столбцов: education и family_status."
   ]
  },
  {
   "cell_type": "code",
   "execution_count": 58,
   "id": "0f767335",
   "metadata": {},
   "outputs": [
    {
     "data": {
      "text/plain": [
       "71"
      ]
     },
     "execution_count": 58,
     "metadata": {},
     "output_type": "execute_result"
    }
   ],
   "source": [
    "data.duplicated().sum()"
   ]
  },
  {
   "cell_type": "code",
   "execution_count": 59,
   "id": "54fe5c9b",
   "metadata": {},
   "outputs": [],
   "source": [
    "data = data.drop(['education', 'family_status'], axis=1)"
   ]
  },
  {
   "cell_type": "markdown",
   "id": "fab6c5a1",
   "metadata": {},
   "source": [
    "### Шаг 2.6. Категоризация дохода."
   ]
  },
  {
   "cell_type": "markdown",
   "id": "6418fbb8",
   "metadata": {},
   "source": [
    "Создание столбца total_income_category с категориями по доходам."
   ]
  },
  {
   "cell_type": "markdown",
   "id": "d452a37f",
   "metadata": {},
   "source": [
    "Создаем функцию group_total_income для определения категорий:"
   ]
  },
  {
   "cell_type": "code",
   "execution_count": 60,
   "id": "c2417d8b",
   "metadata": {},
   "outputs": [],
   "source": [
    "def group_total_income(income):\n",
    "    group = ''\n",
    "    if 0 < income < 30000:\n",
    "        group = 'E'\n",
    "    elif 30001 < income < 50000:\n",
    "        group = 'D'\n",
    "    elif 50001 < income < 200000:\n",
    "        group = 'C'\n",
    "    elif 200001 < income < 1000000:\n",
    "        group = 'B'\n",
    "    else:\n",
    "        group = 'A'\n",
    "    return group"
   ]
  },
  {
   "cell_type": "markdown",
   "id": "8ffc3b26",
   "metadata": {},
   "source": [
    "Для добавления нового столбца применяем метод apply() с аргументом в виде функции group_total_income."
   ]
  },
  {
   "cell_type": "code",
   "execution_count": 61,
   "id": "c379baca",
   "metadata": {},
   "outputs": [],
   "source": [
    "data['total_income_category'] = data['total_income'].apply(group_total_income)"
   ]
  },
  {
   "cell_type": "code",
   "execution_count": 62,
   "id": "b3187920",
   "metadata": {},
   "outputs": [
    {
     "data": {
      "text/html": [
       "<div>\n",
       "<style scoped>\n",
       "    .dataframe tbody tr th:only-of-type {\n",
       "        vertical-align: middle;\n",
       "    }\n",
       "\n",
       "    .dataframe tbody tr th {\n",
       "        vertical-align: top;\n",
       "    }\n",
       "\n",
       "    .dataframe thead th {\n",
       "        text-align: right;\n",
       "    }\n",
       "</style>\n",
       "<table border=\"1\" class=\"dataframe\">\n",
       "  <thead>\n",
       "    <tr style=\"text-align: right;\">\n",
       "      <th></th>\n",
       "      <th>children</th>\n",
       "      <th>days_employed</th>\n",
       "      <th>dob_years</th>\n",
       "      <th>education_id</th>\n",
       "      <th>family_status_id</th>\n",
       "      <th>gender</th>\n",
       "      <th>income_type</th>\n",
       "      <th>debt</th>\n",
       "      <th>total_income</th>\n",
       "      <th>purpose</th>\n",
       "      <th>total_income_category</th>\n",
       "    </tr>\n",
       "  </thead>\n",
       "  <tbody>\n",
       "    <tr>\n",
       "      <td>0</td>\n",
       "      <td>1</td>\n",
       "      <td>8437</td>\n",
       "      <td>42</td>\n",
       "      <td>0</td>\n",
       "      <td>0</td>\n",
       "      <td>F</td>\n",
       "      <td>сотрудник</td>\n",
       "      <td>False</td>\n",
       "      <td>253875</td>\n",
       "      <td>покупка жилья</td>\n",
       "      <td>B</td>\n",
       "    </tr>\n",
       "    <tr>\n",
       "      <td>1</td>\n",
       "      <td>1</td>\n",
       "      <td>4024</td>\n",
       "      <td>36</td>\n",
       "      <td>1</td>\n",
       "      <td>0</td>\n",
       "      <td>F</td>\n",
       "      <td>сотрудник</td>\n",
       "      <td>False</td>\n",
       "      <td>112080</td>\n",
       "      <td>приобретение автомобиля</td>\n",
       "      <td>C</td>\n",
       "    </tr>\n",
       "    <tr>\n",
       "      <td>2</td>\n",
       "      <td>0</td>\n",
       "      <td>5623</td>\n",
       "      <td>33</td>\n",
       "      <td>1</td>\n",
       "      <td>0</td>\n",
       "      <td>M</td>\n",
       "      <td>сотрудник</td>\n",
       "      <td>False</td>\n",
       "      <td>145885</td>\n",
       "      <td>покупка жилья</td>\n",
       "      <td>C</td>\n",
       "    </tr>\n",
       "    <tr>\n",
       "      <td>3</td>\n",
       "      <td>3</td>\n",
       "      <td>4124</td>\n",
       "      <td>32</td>\n",
       "      <td>1</td>\n",
       "      <td>0</td>\n",
       "      <td>M</td>\n",
       "      <td>сотрудник</td>\n",
       "      <td>False</td>\n",
       "      <td>267628</td>\n",
       "      <td>дополнительное образование</td>\n",
       "      <td>B</td>\n",
       "    </tr>\n",
       "    <tr>\n",
       "      <td>4</td>\n",
       "      <td>0</td>\n",
       "      <td>14177</td>\n",
       "      <td>53</td>\n",
       "      <td>1</td>\n",
       "      <td>1</td>\n",
       "      <td>F</td>\n",
       "      <td>пенсионер</td>\n",
       "      <td>False</td>\n",
       "      <td>158616</td>\n",
       "      <td>сыграть свадьбу</td>\n",
       "      <td>C</td>\n",
       "    </tr>\n",
       "  </tbody>\n",
       "</table>\n",
       "</div>"
      ],
      "text/plain": [
       "   children  days_employed  dob_years  education_id  family_status_id gender  \\\n",
       "0         1           8437         42             0                 0      F   \n",
       "1         1           4024         36             1                 0      F   \n",
       "2         0           5623         33             1                 0      M   \n",
       "3         3           4124         32             1                 0      M   \n",
       "4         0          14177         53             1                 1      F   \n",
       "\n",
       "  income_type   debt  total_income                     purpose  \\\n",
       "0   сотрудник  False        253875               покупка жилья   \n",
       "1   сотрудник  False        112080     приобретение автомобиля   \n",
       "2   сотрудник  False        145885               покупка жилья   \n",
       "3   сотрудник  False        267628  дополнительное образование   \n",
       "4   пенсионер  False        158616             сыграть свадьбу   \n",
       "\n",
       "  total_income_category  \n",
       "0                     B  \n",
       "1                     C  \n",
       "2                     C  \n",
       "3                     B  \n",
       "4                     C  "
      ]
     },
     "execution_count": 62,
     "metadata": {},
     "output_type": "execute_result"
    }
   ],
   "source": [
    "data.head()"
   ]
  },
  {
   "cell_type": "code",
   "execution_count": 63,
   "id": "aebb6cbf",
   "metadata": {},
   "outputs": [
    {
     "data": {
      "text/plain": [
       "C    16086\n",
       "B     5040\n",
       "D      350\n",
       "A       26\n",
       "E       22\n",
       "Name: total_income_category, dtype: int64"
      ]
     },
     "execution_count": 63,
     "metadata": {},
     "output_type": "execute_result"
    }
   ],
   "source": [
    "data['total_income_category'].value_counts()"
   ]
  },
  {
   "cell_type": "markdown",
   "id": "5d874a1e",
   "metadata": {},
   "source": [
    "### Шаг 2.7. Категоризация целей кредита."
   ]
  },
  {
   "cell_type": "code",
   "execution_count": 64,
   "id": "6109c8e1",
   "metadata": {},
   "outputs": [
    {
     "data": {
      "text/plain": [
       "свадьба                                   797\n",
       "на проведение свадьбы                     777\n",
       "сыграть свадьбу                           774\n",
       "операции с недвижимостью                  676\n",
       "покупка коммерческой недвижимости         664\n",
       "покупка жилья для сдачи                   653\n",
       "операции с жильем                         653\n",
       "операции с коммерческой недвижимостью     651\n",
       "покупка жилья                             647\n",
       "жилье                                     647\n",
       "покупка жилья для семьи                   641\n",
       "строительство собственной недвижимости    635\n",
       "недвижимость                              634\n",
       "операции со своей недвижимостью           630\n",
       "строительство жилой недвижимости          626\n",
       "покупка недвижимости                      623\n",
       "строительство недвижимости                620\n",
       "покупка своего жилья                      620\n",
       "ремонт жилью                              612\n",
       "покупка жилой недвижимости                607\n",
       "на покупку своего автомобиля              505\n",
       "заняться высшим образованием              496\n",
       "автомобиль                                495\n",
       "сделка с подержанным автомобилем          489\n",
       "свой автомобиль                           480\n",
       "на покупку подержанного автомобиля        479\n",
       "автомобили                                478\n",
       "на покупку автомобиля                     472\n",
       "дополнительное образование                462\n",
       "приобретение автомобиля                   462\n",
       "сделка с автомобилем                      455\n",
       "высшее образование                        453\n",
       "получение дополнительного образования     447\n",
       "образование                               447\n",
       "получение образования                     443\n",
       "профильное образование                    436\n",
       "получение высшего образования             426\n",
       "заняться образованием                     412\n",
       "Name: purpose, dtype: int64"
      ]
     },
     "execution_count": 64,
     "metadata": {},
     "output_type": "execute_result"
    }
   ],
   "source": [
    "data['purpose'].value_counts()"
   ]
  },
  {
   "cell_type": "code",
   "execution_count": 65,
   "id": "1f36fc1a",
   "metadata": {},
   "outputs": [],
   "source": [
    "def group_purpose(purpose):\n",
    "    group = ''\n",
    "    if 'авто' in purpose:\n",
    "        group = 'операции с автомобилем'\n",
    "    elif 'недвижим' in purpose:\n",
    "        group = 'операции с недвижимостью'\n",
    "    elif 'свадьб' in purpose:\n",
    "        group = 'проведение свадьбы'\n",
    "    else:\n",
    "        group = 'получение образования'\n",
    "    return group   "
   ]
  },
  {
   "cell_type": "code",
   "execution_count": 66,
   "id": "fce4fb74",
   "metadata": {},
   "outputs": [],
   "source": [
    "data['purpose_category'] = data['purpose'].apply(group_purpose)"
   ]
  },
  {
   "cell_type": "code",
   "execution_count": 67,
   "id": "a6debf05",
   "metadata": {},
   "outputs": [
    {
     "data": {
      "text/html": [
       "<div>\n",
       "<style scoped>\n",
       "    .dataframe tbody tr th:only-of-type {\n",
       "        vertical-align: middle;\n",
       "    }\n",
       "\n",
       "    .dataframe tbody tr th {\n",
       "        vertical-align: top;\n",
       "    }\n",
       "\n",
       "    .dataframe thead th {\n",
       "        text-align: right;\n",
       "    }\n",
       "</style>\n",
       "<table border=\"1\" class=\"dataframe\">\n",
       "  <thead>\n",
       "    <tr style=\"text-align: right;\">\n",
       "      <th></th>\n",
       "      <th>children</th>\n",
       "      <th>days_employed</th>\n",
       "      <th>dob_years</th>\n",
       "      <th>education_id</th>\n",
       "      <th>family_status_id</th>\n",
       "      <th>gender</th>\n",
       "      <th>income_type</th>\n",
       "      <th>debt</th>\n",
       "      <th>total_income</th>\n",
       "      <th>purpose</th>\n",
       "      <th>total_income_category</th>\n",
       "      <th>purpose_category</th>\n",
       "    </tr>\n",
       "  </thead>\n",
       "  <tbody>\n",
       "    <tr>\n",
       "      <td>0</td>\n",
       "      <td>1</td>\n",
       "      <td>8437</td>\n",
       "      <td>42</td>\n",
       "      <td>0</td>\n",
       "      <td>0</td>\n",
       "      <td>F</td>\n",
       "      <td>сотрудник</td>\n",
       "      <td>False</td>\n",
       "      <td>253875</td>\n",
       "      <td>покупка жилья</td>\n",
       "      <td>B</td>\n",
       "      <td>получение образования</td>\n",
       "    </tr>\n",
       "    <tr>\n",
       "      <td>1</td>\n",
       "      <td>1</td>\n",
       "      <td>4024</td>\n",
       "      <td>36</td>\n",
       "      <td>1</td>\n",
       "      <td>0</td>\n",
       "      <td>F</td>\n",
       "      <td>сотрудник</td>\n",
       "      <td>False</td>\n",
       "      <td>112080</td>\n",
       "      <td>приобретение автомобиля</td>\n",
       "      <td>C</td>\n",
       "      <td>операции с автомобилем</td>\n",
       "    </tr>\n",
       "    <tr>\n",
       "      <td>2</td>\n",
       "      <td>0</td>\n",
       "      <td>5623</td>\n",
       "      <td>33</td>\n",
       "      <td>1</td>\n",
       "      <td>0</td>\n",
       "      <td>M</td>\n",
       "      <td>сотрудник</td>\n",
       "      <td>False</td>\n",
       "      <td>145885</td>\n",
       "      <td>покупка жилья</td>\n",
       "      <td>C</td>\n",
       "      <td>получение образования</td>\n",
       "    </tr>\n",
       "    <tr>\n",
       "      <td>3</td>\n",
       "      <td>3</td>\n",
       "      <td>4124</td>\n",
       "      <td>32</td>\n",
       "      <td>1</td>\n",
       "      <td>0</td>\n",
       "      <td>M</td>\n",
       "      <td>сотрудник</td>\n",
       "      <td>False</td>\n",
       "      <td>267628</td>\n",
       "      <td>дополнительное образование</td>\n",
       "      <td>B</td>\n",
       "      <td>получение образования</td>\n",
       "    </tr>\n",
       "    <tr>\n",
       "      <td>4</td>\n",
       "      <td>0</td>\n",
       "      <td>14177</td>\n",
       "      <td>53</td>\n",
       "      <td>1</td>\n",
       "      <td>1</td>\n",
       "      <td>F</td>\n",
       "      <td>пенсионер</td>\n",
       "      <td>False</td>\n",
       "      <td>158616</td>\n",
       "      <td>сыграть свадьбу</td>\n",
       "      <td>C</td>\n",
       "      <td>проведение свадьбы</td>\n",
       "    </tr>\n",
       "  </tbody>\n",
       "</table>\n",
       "</div>"
      ],
      "text/plain": [
       "   children  days_employed  dob_years  education_id  family_status_id gender  \\\n",
       "0         1           8437         42             0                 0      F   \n",
       "1         1           4024         36             1                 0      F   \n",
       "2         0           5623         33             1                 0      M   \n",
       "3         3           4124         32             1                 0      M   \n",
       "4         0          14177         53             1                 1      F   \n",
       "\n",
       "  income_type   debt  total_income                     purpose  \\\n",
       "0   сотрудник  False        253875               покупка жилья   \n",
       "1   сотрудник  False        112080     приобретение автомобиля   \n",
       "2   сотрудник  False        145885               покупка жилья   \n",
       "3   сотрудник  False        267628  дополнительное образование   \n",
       "4   пенсионер  False        158616             сыграть свадьбу   \n",
       "\n",
       "  total_income_category        purpose_category  \n",
       "0                     B   получение образования  \n",
       "1                     C  операции с автомобилем  \n",
       "2                     C   получение образования  \n",
       "3                     B   получение образования  \n",
       "4                     C      проведение свадьбы  "
      ]
     },
     "execution_count": 67,
     "metadata": {},
     "output_type": "execute_result"
    }
   ],
   "source": [
    "data.head()"
   ]
  },
  {
   "cell_type": "code",
   "execution_count": 68,
   "id": "ce3df020",
   "metadata": {},
   "outputs": [],
   "source": [
    "def group_children(children):\n",
    "    group = ''\n",
    "    if children == 0:\n",
    "        group = 'нет детей'\n",
    "    elif 1 <= children < 3:\n",
    "        group = '1 или 2 ребенка'\n",
    "    else:\n",
    "        group = '3 и более детей'\n",
    "    return group  "
   ]
  },
  {
   "cell_type": "code",
   "execution_count": 69,
   "id": "3106e58c",
   "metadata": {},
   "outputs": [],
   "source": [
    "data['children_category'] = data['children'].apply(group_children)"
   ]
  },
  {
   "cell_type": "code",
   "execution_count": 70,
   "id": "cde818df",
   "metadata": {},
   "outputs": [
    {
     "data": {
      "text/plain": [
       "нет детей          14148\n",
       "1 или 2 ребенка     6996\n",
       "3 и более детей      380\n",
       "Name: children_category, dtype: int64"
      ]
     },
     "execution_count": 70,
     "metadata": {},
     "output_type": "execute_result"
    }
   ],
   "source": [
    "data['children_category'].value_counts()"
   ]
  },
  {
   "cell_type": "code",
   "execution_count": 71,
   "id": "96da4635",
   "metadata": {},
   "outputs": [
    {
     "data": {
      "text/plain": [
       "71"
      ]
     },
     "execution_count": 71,
     "metadata": {},
     "output_type": "execute_result"
    }
   ],
   "source": [
    "data.duplicated().sum()"
   ]
  },
  {
   "cell_type": "code",
   "execution_count": 72,
   "id": "fa73e636",
   "metadata": {},
   "outputs": [],
   "source": [
    "data = data.drop_duplicates().reset_index(drop=True)"
   ]
  },
  {
   "cell_type": "code",
   "execution_count": 73,
   "id": "fd655a45",
   "metadata": {},
   "outputs": [
    {
     "data": {
      "text/plain": [
       "0"
      ]
     },
     "execution_count": 73,
     "metadata": {},
     "output_type": "execute_result"
    }
   ],
   "source": [
    "data.duplicated().sum()"
   ]
  },
  {
   "cell_type": "markdown",
   "id": "1e0a3f75",
   "metadata": {},
   "source": [
    "#### Сводная таблица для определения зависимости между количеством детей и возвратом кредита в срок."
   ]
  },
  {
   "cell_type": "code",
   "execution_count": 74,
   "id": "71c26609",
   "metadata": {},
   "outputs": [],
   "source": [
    "children_pivot_table = data.pivot_table(index='children_category', values='purpose', columns='debt', aggfunc='count').fillna(0)"
   ]
  },
  {
   "cell_type": "code",
   "execution_count": 75,
   "id": "3b4e6699",
   "metadata": {},
   "outputs": [],
   "source": [
    "children_pivot_table.columns = ['Нет задолженности', 'Задолженность']"
   ]
  },
  {
   "cell_type": "code",
   "execution_count": 76,
   "id": "a3be621d",
   "metadata": {},
   "outputs": [],
   "source": [
    "children_pivot_table['% задолженности'] = children_pivot_table['Задолженность'] / (children_pivot_table['Задолженность'] + \n",
    "                                                                                   children_pivot_table['Нет задолженности'])"
   ]
  },
  {
   "cell_type": "code",
   "execution_count": 77,
   "id": "91642712",
   "metadata": {},
   "outputs": [
    {
     "data": {
      "text/html": [
       "<style  type=\"text/css\" >\n",
       "</style><table id=\"T_e1a72ee2_99a1_11ec_b704_02420a39ee08\" ><thead>    <tr>        <th class=\"blank level0\" ></th>        <th class=\"col_heading level0 col0\" >Нет задолженности</th>        <th class=\"col_heading level0 col1\" >Задолженность</th>        <th class=\"col_heading level0 col2\" >% задолженности</th>    </tr>    <tr>        <th class=\"index_name level0\" >children_category</th>        <th class=\"blank\" ></th>        <th class=\"blank\" ></th>        <th class=\"blank\" ></th>    </tr></thead><tbody>\n",
       "                <tr>\n",
       "                        <th id=\"T_e1a72ee2_99a1_11ec_b704_02420a39ee08level0_row0\" class=\"row_heading level0 row0\" >1 или 2 ребенка</th>\n",
       "                        <td id=\"T_e1a72ee2_99a1_11ec_b704_02420a39ee08row0_col0\" class=\"data row0 col0\" >6336</td>\n",
       "                        <td id=\"T_e1a72ee2_99a1_11ec_b704_02420a39ee08row0_col1\" class=\"data row0 col1\" >647</td>\n",
       "                        <td id=\"T_e1a72ee2_99a1_11ec_b704_02420a39ee08row0_col2\" class=\"data row0 col2\" >9.27%</td>\n",
       "            </tr>\n",
       "            <tr>\n",
       "                        <th id=\"T_e1a72ee2_99a1_11ec_b704_02420a39ee08level0_row1\" class=\"row_heading level0 row1\" >3 и более детей</th>\n",
       "                        <td id=\"T_e1a72ee2_99a1_11ec_b704_02420a39ee08row1_col0\" class=\"data row1 col0\" >349</td>\n",
       "                        <td id=\"T_e1a72ee2_99a1_11ec_b704_02420a39ee08row1_col1\" class=\"data row1 col1\" >31</td>\n",
       "                        <td id=\"T_e1a72ee2_99a1_11ec_b704_02420a39ee08row1_col2\" class=\"data row1 col2\" >8.16%</td>\n",
       "            </tr>\n",
       "            <tr>\n",
       "                        <th id=\"T_e1a72ee2_99a1_11ec_b704_02420a39ee08level0_row2\" class=\"row_heading level0 row2\" >нет детей</th>\n",
       "                        <td id=\"T_e1a72ee2_99a1_11ec_b704_02420a39ee08row2_col0\" class=\"data row2 col0\" >13027</td>\n",
       "                        <td id=\"T_e1a72ee2_99a1_11ec_b704_02420a39ee08row2_col1\" class=\"data row2 col1\" >1063</td>\n",
       "                        <td id=\"T_e1a72ee2_99a1_11ec_b704_02420a39ee08row2_col2\" class=\"data row2 col2\" >7.54%</td>\n",
       "            </tr>\n",
       "    </tbody></table>"
      ],
      "text/plain": [
       "<pandas.io.formats.style.Styler at 0x7f52c9692f90>"
      ]
     },
     "metadata": {},
     "output_type": "display_data"
    }
   ],
   "source": [
    "display(children_pivot_table.style.format({'Нет задолженности' : \n",
    "                                           '{:.0f}', 'Задолженность' : '{:.0f}', '% задолженности' : '{:.2%}' }))"
   ]
  },
  {
   "cell_type": "markdown",
   "id": "98a3b165",
   "metadata": {},
   "source": [
    "#### Сводная таблица для определения зависимости между семейным положением и возвратом кредита в срок."
   ]
  },
  {
   "cell_type": "code",
   "execution_count": 78,
   "id": "3870939e",
   "metadata": {},
   "outputs": [],
   "source": [
    "df_family_status = df_family_status.drop_duplicates()"
   ]
  },
  {
   "cell_type": "code",
   "execution_count": 79,
   "id": "b4741c74",
   "metadata": {},
   "outputs": [],
   "source": [
    "family_status_pivot_table = data.pivot_table(index='family_status_id', values='purpose', columns='debt', aggfunc='count')"
   ]
  },
  {
   "cell_type": "code",
   "execution_count": 80,
   "id": "3b5c9fb5",
   "metadata": {},
   "outputs": [],
   "source": [
    "family_status_pivot_table.columns = ['Нет задолженности', 'Задолженность']"
   ]
  },
  {
   "cell_type": "code",
   "execution_count": 81,
   "id": "054998d6",
   "metadata": {},
   "outputs": [],
   "source": [
    "family_status_pivot_table['% задолженности'] = family_status_pivot_table['Задолженность'] / (family_status_pivot_table['Задолженность'] + \n",
    "                                                                                             family_status_pivot_table['Нет задолженности'])"
   ]
  },
  {
   "cell_type": "code",
   "execution_count": 82,
   "id": "00d8180d",
   "metadata": {},
   "outputs": [],
   "source": [
    "family_status_pivot_table = df_family_status.merge(family_status_pivot_table, on='family_status_id')"
   ]
  },
  {
   "cell_type": "code",
   "execution_count": 83,
   "id": "459471b0",
   "metadata": {},
   "outputs": [
    {
     "data": {
      "text/html": [
       "<style  type=\"text/css\" >\n",
       "</style><table id=\"T_e1b8ef7e_99a1_11ec_b704_02420a39ee08\" ><thead>    <tr>        <th class=\"blank level0\" ></th>        <th class=\"col_heading level0 col0\" >family_status_id</th>        <th class=\"col_heading level0 col1\" >family_status</th>        <th class=\"col_heading level0 col2\" >Нет задолженности</th>        <th class=\"col_heading level0 col3\" >Задолженность</th>        <th class=\"col_heading level0 col4\" >% задолженности</th>    </tr></thead><tbody>\n",
       "                <tr>\n",
       "                        <th id=\"T_e1b8ef7e_99a1_11ec_b704_02420a39ee08level0_row0\" class=\"row_heading level0 row0\" >0</th>\n",
       "                        <td id=\"T_e1b8ef7e_99a1_11ec_b704_02420a39ee08row0_col0\" class=\"data row0 col0\" >0</td>\n",
       "                        <td id=\"T_e1b8ef7e_99a1_11ec_b704_02420a39ee08row0_col1\" class=\"data row0 col1\" >женат / замужем</td>\n",
       "                        <td id=\"T_e1b8ef7e_99a1_11ec_b704_02420a39ee08row0_col2\" class=\"data row0 col2\" >11408</td>\n",
       "                        <td id=\"T_e1b8ef7e_99a1_11ec_b704_02420a39ee08row0_col3\" class=\"data row0 col3\" >931</td>\n",
       "                        <td id=\"T_e1b8ef7e_99a1_11ec_b704_02420a39ee08row0_col4\" class=\"data row0 col4\" >7.55%</td>\n",
       "            </tr>\n",
       "            <tr>\n",
       "                        <th id=\"T_e1b8ef7e_99a1_11ec_b704_02420a39ee08level0_row1\" class=\"row_heading level0 row1\" >1</th>\n",
       "                        <td id=\"T_e1b8ef7e_99a1_11ec_b704_02420a39ee08row1_col0\" class=\"data row1 col0\" >1</td>\n",
       "                        <td id=\"T_e1b8ef7e_99a1_11ec_b704_02420a39ee08row1_col1\" class=\"data row1 col1\" >гражданский брак</td>\n",
       "                        <td id=\"T_e1b8ef7e_99a1_11ec_b704_02420a39ee08row1_col2\" class=\"data row1 col2\" >3762</td>\n",
       "                        <td id=\"T_e1b8ef7e_99a1_11ec_b704_02420a39ee08row1_col3\" class=\"data row1 col3\" >388</td>\n",
       "                        <td id=\"T_e1b8ef7e_99a1_11ec_b704_02420a39ee08row1_col4\" class=\"data row1 col4\" >9.35%</td>\n",
       "            </tr>\n",
       "            <tr>\n",
       "                        <th id=\"T_e1b8ef7e_99a1_11ec_b704_02420a39ee08level0_row2\" class=\"row_heading level0 row2\" >2</th>\n",
       "                        <td id=\"T_e1b8ef7e_99a1_11ec_b704_02420a39ee08row2_col0\" class=\"data row2 col0\" >2</td>\n",
       "                        <td id=\"T_e1b8ef7e_99a1_11ec_b704_02420a39ee08row2_col1\" class=\"data row2 col1\" >вдовец / вдова</td>\n",
       "                        <td id=\"T_e1b8ef7e_99a1_11ec_b704_02420a39ee08row2_col2\" class=\"data row2 col2\" >896</td>\n",
       "                        <td id=\"T_e1b8ef7e_99a1_11ec_b704_02420a39ee08row2_col3\" class=\"data row2 col3\" >63</td>\n",
       "                        <td id=\"T_e1b8ef7e_99a1_11ec_b704_02420a39ee08row2_col4\" class=\"data row2 col4\" >6.57%</td>\n",
       "            </tr>\n",
       "            <tr>\n",
       "                        <th id=\"T_e1b8ef7e_99a1_11ec_b704_02420a39ee08level0_row3\" class=\"row_heading level0 row3\" >3</th>\n",
       "                        <td id=\"T_e1b8ef7e_99a1_11ec_b704_02420a39ee08row3_col0\" class=\"data row3 col0\" >3</td>\n",
       "                        <td id=\"T_e1b8ef7e_99a1_11ec_b704_02420a39ee08row3_col1\" class=\"data row3 col1\" >в разводе</td>\n",
       "                        <td id=\"T_e1b8ef7e_99a1_11ec_b704_02420a39ee08row3_col2\" class=\"data row3 col2\" >1110</td>\n",
       "                        <td id=\"T_e1b8ef7e_99a1_11ec_b704_02420a39ee08row3_col3\" class=\"data row3 col3\" >85</td>\n",
       "                        <td id=\"T_e1b8ef7e_99a1_11ec_b704_02420a39ee08row3_col4\" class=\"data row3 col4\" >7.11%</td>\n",
       "            </tr>\n",
       "            <tr>\n",
       "                        <th id=\"T_e1b8ef7e_99a1_11ec_b704_02420a39ee08level0_row4\" class=\"row_heading level0 row4\" >4</th>\n",
       "                        <td id=\"T_e1b8ef7e_99a1_11ec_b704_02420a39ee08row4_col0\" class=\"data row4 col0\" >4</td>\n",
       "                        <td id=\"T_e1b8ef7e_99a1_11ec_b704_02420a39ee08row4_col1\" class=\"data row4 col1\" >Не женат / не замужем</td>\n",
       "                        <td id=\"T_e1b8ef7e_99a1_11ec_b704_02420a39ee08row4_col2\" class=\"data row4 col2\" >2536</td>\n",
       "                        <td id=\"T_e1b8ef7e_99a1_11ec_b704_02420a39ee08row4_col3\" class=\"data row4 col3\" >274</td>\n",
       "                        <td id=\"T_e1b8ef7e_99a1_11ec_b704_02420a39ee08row4_col4\" class=\"data row4 col4\" >9.75%</td>\n",
       "            </tr>\n",
       "    </tbody></table>"
      ],
      "text/plain": [
       "<pandas.io.formats.style.Styler at 0x7f52c08e1f10>"
      ]
     },
     "metadata": {},
     "output_type": "display_data"
    }
   ],
   "source": [
    "display(family_status_pivot_table.style.format({'Нет задолженности' : \n",
    "                                                '{:.0f}', 'Задолженность' : '{:.0f}', '% задолженности' : '{:.2%}' }))"
   ]
  },
  {
   "cell_type": "markdown",
   "id": "9f249cb0",
   "metadata": {},
   "source": [
    "#### Сводная таблица для определения зависимости между уровнем дохода и возвратом кредита в срок."
   ]
  },
  {
   "cell_type": "code",
   "execution_count": 84,
   "id": "39b161d6",
   "metadata": {},
   "outputs": [],
   "source": [
    "income_pivot_table = data.pivot_table(index='total_income_category', values='purpose', columns='debt', aggfunc='count')"
   ]
  },
  {
   "cell_type": "code",
   "execution_count": 85,
   "id": "805ec3e8",
   "metadata": {},
   "outputs": [],
   "source": [
    "income_pivot_table.columns = ['Нет задолженности', 'Задолженность']"
   ]
  },
  {
   "cell_type": "code",
   "execution_count": 86,
   "id": "61155120",
   "metadata": {},
   "outputs": [],
   "source": [
    "income_pivot_table['% задолженности'] = income_pivot_table['Задолженность'] / (income_pivot_table['Задолженность'] + \n",
    "                                                                               income_pivot_table['Нет задолженности'])"
   ]
  },
  {
   "cell_type": "code",
   "execution_count": 87,
   "id": "4b11907f",
   "metadata": {},
   "outputs": [
    {
     "data": {
      "text/html": [
       "<style  type=\"text/css\" >\n",
       "</style><table id=\"T_e1c7998e_99a1_11ec_b704_02420a39ee08\" ><thead>    <tr>        <th class=\"blank level0\" ></th>        <th class=\"col_heading level0 col0\" >Нет задолженности</th>        <th class=\"col_heading level0 col1\" >Задолженность</th>        <th class=\"col_heading level0 col2\" >% задолженности</th>    </tr>    <tr>        <th class=\"index_name level0\" >total_income_category</th>        <th class=\"blank\" ></th>        <th class=\"blank\" ></th>        <th class=\"blank\" ></th>    </tr></thead><tbody>\n",
       "                <tr>\n",
       "                        <th id=\"T_e1c7998e_99a1_11ec_b704_02420a39ee08level0_row0\" class=\"row_heading level0 row0\" >A</th>\n",
       "                        <td id=\"T_e1c7998e_99a1_11ec_b704_02420a39ee08row0_col0\" class=\"data row0 col0\" >24</td>\n",
       "                        <td id=\"T_e1c7998e_99a1_11ec_b704_02420a39ee08row0_col1\" class=\"data row0 col1\" >2</td>\n",
       "                        <td id=\"T_e1c7998e_99a1_11ec_b704_02420a39ee08row0_col2\" class=\"data row0 col2\" >7.69%</td>\n",
       "            </tr>\n",
       "            <tr>\n",
       "                        <th id=\"T_e1c7998e_99a1_11ec_b704_02420a39ee08level0_row1\" class=\"row_heading level0 row1\" >B</th>\n",
       "                        <td id=\"T_e1c7998e_99a1_11ec_b704_02420a39ee08row1_col0\" class=\"data row1 col0\" >4684</td>\n",
       "                        <td id=\"T_e1c7998e_99a1_11ec_b704_02420a39ee08row1_col1\" class=\"data row1 col1\" >356</td>\n",
       "                        <td id=\"T_e1c7998e_99a1_11ec_b704_02420a39ee08row1_col2\" class=\"data row1 col2\" >7.06%</td>\n",
       "            </tr>\n",
       "            <tr>\n",
       "                        <th id=\"T_e1c7998e_99a1_11ec_b704_02420a39ee08level0_row2\" class=\"row_heading level0 row2\" >C</th>\n",
       "                        <td id=\"T_e1c7998e_99a1_11ec_b704_02420a39ee08row2_col0\" class=\"data row2 col0\" >14655</td>\n",
       "                        <td id=\"T_e1c7998e_99a1_11ec_b704_02420a39ee08row2_col1\" class=\"data row2 col1\" >1360</td>\n",
       "                        <td id=\"T_e1c7998e_99a1_11ec_b704_02420a39ee08row2_col2\" class=\"data row2 col2\" >8.49%</td>\n",
       "            </tr>\n",
       "            <tr>\n",
       "                        <th id=\"T_e1c7998e_99a1_11ec_b704_02420a39ee08level0_row3\" class=\"row_heading level0 row3\" >D</th>\n",
       "                        <td id=\"T_e1c7998e_99a1_11ec_b704_02420a39ee08row3_col0\" class=\"data row3 col0\" >329</td>\n",
       "                        <td id=\"T_e1c7998e_99a1_11ec_b704_02420a39ee08row3_col1\" class=\"data row3 col1\" >21</td>\n",
       "                        <td id=\"T_e1c7998e_99a1_11ec_b704_02420a39ee08row3_col2\" class=\"data row3 col2\" >6.00%</td>\n",
       "            </tr>\n",
       "            <tr>\n",
       "                        <th id=\"T_e1c7998e_99a1_11ec_b704_02420a39ee08level0_row4\" class=\"row_heading level0 row4\" >E</th>\n",
       "                        <td id=\"T_e1c7998e_99a1_11ec_b704_02420a39ee08row4_col0\" class=\"data row4 col0\" >20</td>\n",
       "                        <td id=\"T_e1c7998e_99a1_11ec_b704_02420a39ee08row4_col1\" class=\"data row4 col1\" >2</td>\n",
       "                        <td id=\"T_e1c7998e_99a1_11ec_b704_02420a39ee08row4_col2\" class=\"data row4 col2\" >9.09%</td>\n",
       "            </tr>\n",
       "    </tbody></table>"
      ],
      "text/plain": [
       "<pandas.io.formats.style.Styler at 0x7f52c9613350>"
      ]
     },
     "metadata": {},
     "output_type": "display_data"
    }
   ],
   "source": [
    "display(income_pivot_table.style.format({'Нет задолженности' : \n",
    "                                         '{:.0f}', 'Задолженность' : '{:.0f}', '% задолженности' : '{:.2%}' }))"
   ]
  },
  {
   "cell_type": "markdown",
   "id": "9f3014fb",
   "metadata": {},
   "source": [
    "#### Сводная таблица для определения зависимости между целью кредита и его возвратом в срок."
   ]
  },
  {
   "cell_type": "code",
   "execution_count": 88,
   "id": "45f35557",
   "metadata": {},
   "outputs": [],
   "source": [
    "purpose_pivot_table = data.pivot_table(index='purpose_category', values='purpose', columns='debt', aggfunc='count')"
   ]
  },
  {
   "cell_type": "code",
   "execution_count": 89,
   "id": "53979157",
   "metadata": {},
   "outputs": [],
   "source": [
    "purpose_pivot_table.columns = ['Нет задолженности', 'Задолженность']"
   ]
  },
  {
   "cell_type": "code",
   "execution_count": 90,
   "id": "bd881ffb",
   "metadata": {},
   "outputs": [],
   "source": [
    "purpose_pivot_table['% задолженности'] = purpose_pivot_table['Задолженность'] / (purpose_pivot_table['Задолженность'] +\n",
    "                                                                                 purpose_pivot_table['Нет задолженности'])"
   ]
  },
  {
   "cell_type": "code",
   "execution_count": 91,
   "id": "8ecc4afb",
   "metadata": {},
   "outputs": [
    {
     "data": {
      "text/html": [
       "<style  type=\"text/css\" >\n",
       "</style><table id=\"T_e1d1f758_99a1_11ec_b704_02420a39ee08\" ><thead>    <tr>        <th class=\"blank level0\" ></th>        <th class=\"col_heading level0 col0\" >Нет задолженности</th>        <th class=\"col_heading level0 col1\" >Задолженность</th>        <th class=\"col_heading level0 col2\" >% задолженности</th>    </tr>    <tr>        <th class=\"index_name level0\" >purpose_category</th>        <th class=\"blank\" ></th>        <th class=\"blank\" ></th>        <th class=\"blank\" ></th>    </tr></thead><tbody>\n",
       "                <tr>\n",
       "                        <th id=\"T_e1d1f758_99a1_11ec_b704_02420a39ee08level0_row0\" class=\"row_heading level0 row0\" >операции с автомобилем</th>\n",
       "                        <td id=\"T_e1d1f758_99a1_11ec_b704_02420a39ee08row0_col0\" class=\"data row0 col0\" >3903</td>\n",
       "                        <td id=\"T_e1d1f758_99a1_11ec_b704_02420a39ee08row0_col1\" class=\"data row0 col1\" >403</td>\n",
       "                        <td id=\"T_e1d1f758_99a1_11ec_b704_02420a39ee08row0_col2\" class=\"data row0 col2\" >9.36%</td>\n",
       "            </tr>\n",
       "            <tr>\n",
       "                        <th id=\"T_e1d1f758_99a1_11ec_b704_02420a39ee08level0_row1\" class=\"row_heading level0 row1\" >операции с недвижимостью</th>\n",
       "                        <td id=\"T_e1d1f758_99a1_11ec_b704_02420a39ee08row1_col0\" class=\"data row1 col0\" >5876</td>\n",
       "                        <td id=\"T_e1d1f758_99a1_11ec_b704_02420a39ee08row1_col1\" class=\"data row1 col1\" >474</td>\n",
       "                        <td id=\"T_e1d1f758_99a1_11ec_b704_02420a39ee08row1_col2\" class=\"data row1 col2\" >7.46%</td>\n",
       "            </tr>\n",
       "            <tr>\n",
       "                        <th id=\"T_e1d1f758_99a1_11ec_b704_02420a39ee08level0_row2\" class=\"row_heading level0 row2\" >получение образования</th>\n",
       "                        <td id=\"T_e1d1f758_99a1_11ec_b704_02420a39ee08row2_col0\" class=\"data row2 col0\" >7795</td>\n",
       "                        <td id=\"T_e1d1f758_99a1_11ec_b704_02420a39ee08row2_col1\" class=\"data row2 col1\" >678</td>\n",
       "                        <td id=\"T_e1d1f758_99a1_11ec_b704_02420a39ee08row2_col2\" class=\"data row2 col2\" >8.00%</td>\n",
       "            </tr>\n",
       "            <tr>\n",
       "                        <th id=\"T_e1d1f758_99a1_11ec_b704_02420a39ee08level0_row3\" class=\"row_heading level0 row3\" >проведение свадьбы</th>\n",
       "                        <td id=\"T_e1d1f758_99a1_11ec_b704_02420a39ee08row3_col0\" class=\"data row3 col0\" >2138</td>\n",
       "                        <td id=\"T_e1d1f758_99a1_11ec_b704_02420a39ee08row3_col1\" class=\"data row3 col1\" >186</td>\n",
       "                        <td id=\"T_e1d1f758_99a1_11ec_b704_02420a39ee08row3_col2\" class=\"data row3 col2\" >8.00%</td>\n",
       "            </tr>\n",
       "    </tbody></table>"
      ],
      "text/plain": [
       "<pandas.io.formats.style.Styler at 0x7f52c088be10>"
      ]
     },
     "metadata": {},
     "output_type": "display_data"
    }
   ],
   "source": [
    "display(purpose_pivot_table.style.format({'Нет задолженности' : \n",
    "                                          '{:.0f}', 'Задолженность' : '{:.0f}', '% задолженности' : '{:.2%}' }))"
   ]
  },
  {
   "cell_type": "markdown",
   "id": "153d0e4b",
   "metadata": {},
   "source": [
    "### Ответы на вопросы."
   ]
  },
  {
   "cell_type": "markdown",
   "id": "083bc36b",
   "metadata": {},
   "source": [
    "##### Вопрос 1:"
   ]
  },
  {
   "cell_type": "markdown",
   "id": "32762c3c",
   "metadata": {},
   "source": [
    "Есть ли зависимость между количеством детей и возвратом кредита в срок?"
   ]
  },
  {
   "cell_type": "markdown",
   "id": "b6a66835",
   "metadata": {},
   "source": [
    "##### Вывод 1:"
   ]
  },
  {
   "cell_type": "markdown",
   "id": "d770f509",
   "metadata": {},
   "source": [
    "Минимальное процент задолженности у людей, у которых отсутствуют дети (отсутствует дополнительная нагрузка на бюджет). С увеличением количества детей, т.к. увеличиваются траты на содержание детей, процент невозвратов растет. "
   ]
  },
  {
   "cell_type": "markdown",
   "id": "1f591400",
   "metadata": {},
   "source": [
    "##### Вопрос 2:"
   ]
  },
  {
   "cell_type": "markdown",
   "id": "bfd458af",
   "metadata": {},
   "source": [
    "Есть ли зависимость между семейным положением и возвратом кредита в срок?"
   ]
  },
  {
   "cell_type": "markdown",
   "id": "8e1fafd5",
   "metadata": {},
   "source": [
    "##### Вывод 2:"
   ]
  },
  {
   "cell_type": "markdown",
   "id": "691a2cee",
   "metadata": {},
   "source": [
    "Минимальныцй процент задолженности у категорий: \"вдовец / вдова\", \"в разводе\" и \"женат / замужем\", т.е. у людей которые состоят или состояли официально в браке более высокий уровень надёжности."
   ]
  },
  {
   "cell_type": "markdown",
   "id": "5497463f",
   "metadata": {},
   "source": [
    "##### Вопрос 3:"
   ]
  },
  {
   "cell_type": "markdown",
   "id": "fadf8b42",
   "metadata": {},
   "source": [
    "Есть ли зависимость между уровнем дохода и возвратом кредита в срок?"
   ]
  },
  {
   "cell_type": "markdown",
   "id": "15fa106a",
   "metadata": {},
   "source": [
    "##### Вывод 3:"
   ]
  },
  {
   "cell_type": "markdown",
   "id": "4a4ae222",
   "metadata": {},
   "source": [
    "Минимальныцй процент задолженности у категории \"D\" с доходом ниже среднего (от 30000 до 50000). Потому что, они заранее расчитывают бюджет и закладывают выплаты по кредиту в предстаящие расходы, из-за небольшого количества свободных средств. Максимальный процент - с низним доходом категория \"E\" (менее 30000). У данной категории людей, возможно, не до конца продумана стратегия выплаты кредита и бывает не хватает средств для погашения из-за непревиденных расходов."
   ]
  },
  {
   "cell_type": "markdown",
   "id": "fa01f2f8",
   "metadata": {},
   "source": [
    "##### Вопрос 4:"
   ]
  },
  {
   "cell_type": "markdown",
   "id": "f75faddb",
   "metadata": {},
   "source": [
    "Как разные цели кредита влияют на его возврат в срок?"
   ]
  },
  {
   "cell_type": "markdown",
   "id": "0bf01fc0",
   "metadata": {},
   "source": [
    "##### Вывод 4:"
   ]
  },
  {
   "cell_type": "markdown",
   "id": "c39de962",
   "metadata": {},
   "source": [
    "Больше всего задолженностей при возврате кредита, происходит при операциях с автомобилем, меньше всего при операциях с недвижимостью. На получение образования и на проведение свадьбы приходится примерно одиноковое количество невозвратов. Кредиты на недвижимость имеют большую стоимость и  большую продолжительность. Поэтому, при приобретении такого кредита, люди более тщательно рассчитывают свои возможности и более ответственно относятся к выплате."
   ]
  },
  {
   "cell_type": "markdown",
   "id": "a4a55f02",
   "metadata": {},
   "source": [
    "## Общий вывод:"
   ]
  },
  {
   "cell_type": "markdown",
   "id": "14f40810",
   "metadata": {},
   "source": [
    "Исходя из полученных результатов, можно сделать вывод, что наиболее надежными заёмщиками являются люди у которых нет детей, которые состоят или состояли официально в браке, имеют высокие или ниже среднего уровня доходы и используют кредит для операций с недвижимостью."
   ]
  }
 ],
 "metadata": {
  "ExecuteTimeLog": [
   {
    "duration": 939,
    "start_time": "2022-02-10T20:42:09.631Z"
   },
   {
    "duration": 287,
    "start_time": "2022-02-10T20:42:14.977Z"
   },
   {
    "duration": 60,
    "start_time": "2022-02-10T20:42:26.128Z"
   },
   {
    "duration": 20,
    "start_time": "2022-02-10T20:42:54.766Z"
   },
   {
    "duration": 17,
    "start_time": "2022-02-10T20:48:06.066Z"
   },
   {
    "duration": 89,
    "start_time": "2022-02-10T20:52:47.484Z"
   },
   {
    "duration": 245,
    "start_time": "2022-02-10T20:52:51.051Z"
   },
   {
    "duration": 8,
    "start_time": "2022-02-10T20:52:57.171Z"
   },
   {
    "duration": 8,
    "start_time": "2022-02-10T20:53:32.476Z"
   },
   {
    "duration": 7,
    "start_time": "2022-02-10T20:53:59.916Z"
   },
   {
    "duration": 7,
    "start_time": "2022-02-10T20:57:58.497Z"
   },
   {
    "duration": 8,
    "start_time": "2022-02-10T21:03:27.836Z"
   },
   {
    "duration": 8,
    "start_time": "2022-02-10T21:05:37.861Z"
   },
   {
    "duration": 7,
    "start_time": "2022-02-10T21:05:55.316Z"
   },
   {
    "duration": 9,
    "start_time": "2022-02-10T21:06:01.822Z"
   },
   {
    "duration": 9,
    "start_time": "2022-02-10T21:19:18.126Z"
   },
   {
    "duration": 75,
    "start_time": "2022-02-10T21:19:48.189Z"
   },
   {
    "duration": 5,
    "start_time": "2022-02-10T21:19:51.972Z"
   },
   {
    "duration": 5,
    "start_time": "2022-02-10T21:20:13.996Z"
   },
   {
    "duration": 5,
    "start_time": "2022-02-10T21:22:22.215Z"
   },
   {
    "duration": 265,
    "start_time": "2022-02-10T21:22:46.422Z"
   },
   {
    "duration": 87,
    "start_time": "2022-02-10T21:23:09.854Z"
   },
   {
    "duration": 7,
    "start_time": "2022-02-10T21:23:21.823Z"
   },
   {
    "duration": 11605,
    "start_time": "2022-02-10T21:24:54.009Z"
   },
   {
    "duration": 8,
    "start_time": "2022-02-10T21:25:08.351Z"
   },
   {
    "duration": 4,
    "start_time": "2022-02-10T21:25:23.308Z"
   },
   {
    "duration": 7,
    "start_time": "2022-02-10T21:29:13.708Z"
   },
   {
    "duration": 12,
    "start_time": "2022-02-10T21:29:50.680Z"
   },
   {
    "duration": 9,
    "start_time": "2022-02-10T21:29:58.246Z"
   },
   {
    "duration": 6,
    "start_time": "2022-02-10T21:30:55.544Z"
   },
   {
    "duration": 6,
    "start_time": "2022-02-10T21:31:07.027Z"
   },
   {
    "duration": 5,
    "start_time": "2022-02-10T21:31:12.218Z"
   },
   {
    "duration": 251,
    "start_time": "2022-02-10T21:31:32.372Z"
   },
   {
    "duration": 10,
    "start_time": "2022-02-10T21:31:41.292Z"
   },
   {
    "duration": 5,
    "start_time": "2022-02-10T21:32:57.304Z"
   },
   {
    "duration": 5,
    "start_time": "2022-02-10T21:33:05.836Z"
   },
   {
    "duration": 329,
    "start_time": "2022-02-13T15:13:06.575Z"
   },
   {
    "duration": 823,
    "start_time": "2022-02-13T15:13:17.633Z"
   },
   {
    "duration": 30,
    "start_time": "2022-02-13T15:13:18.459Z"
   },
   {
    "duration": 5,
    "start_time": "2022-02-13T15:13:18.492Z"
   },
   {
    "duration": 13,
    "start_time": "2022-02-13T15:13:18.500Z"
   },
   {
    "duration": 40,
    "start_time": "2022-02-13T15:13:18.515Z"
   },
   {
    "duration": 8,
    "start_time": "2022-02-13T15:13:18.558Z"
   },
   {
    "duration": 11,
    "start_time": "2022-02-13T15:13:18.568Z"
   },
   {
    "duration": 6,
    "start_time": "2022-02-13T15:13:18.582Z"
   },
   {
    "duration": 34,
    "start_time": "2022-02-13T15:13:26.300Z"
   },
   {
    "duration": 23,
    "start_time": "2022-02-13T15:13:48.822Z"
   },
   {
    "duration": 7,
    "start_time": "2022-02-13T15:14:08.684Z"
   },
   {
    "duration": 6,
    "start_time": "2022-02-13T15:15:52.942Z"
   },
   {
    "duration": 7,
    "start_time": "2022-02-13T15:15:53.591Z"
   },
   {
    "duration": 22,
    "start_time": "2022-02-13T15:16:04.316Z"
   },
   {
    "duration": 22,
    "start_time": "2022-02-13T15:16:21.683Z"
   },
   {
    "duration": 746,
    "start_time": "2022-02-13T15:16:34.382Z"
   },
   {
    "duration": 36,
    "start_time": "2022-02-13T15:16:35.131Z"
   },
   {
    "duration": 5,
    "start_time": "2022-02-13T15:16:35.170Z"
   },
   {
    "duration": 28,
    "start_time": "2022-02-13T15:16:35.177Z"
   },
   {
    "duration": 8,
    "start_time": "2022-02-13T15:16:35.208Z"
   },
   {
    "duration": 48,
    "start_time": "2022-02-13T15:16:35.218Z"
   },
   {
    "duration": 18,
    "start_time": "2022-02-13T15:16:35.268Z"
   },
   {
    "duration": 16,
    "start_time": "2022-02-13T15:16:35.289Z"
   },
   {
    "duration": 17,
    "start_time": "2022-02-13T15:16:35.308Z"
   },
   {
    "duration": 11,
    "start_time": "2022-02-13T15:16:35.327Z"
   },
   {
    "duration": 23,
    "start_time": "2022-02-13T15:16:35.349Z"
   },
   {
    "duration": 5,
    "start_time": "2022-02-13T15:19:07.437Z"
   },
   {
    "duration": 5,
    "start_time": "2022-02-13T15:19:08.339Z"
   },
   {
    "duration": 24,
    "start_time": "2022-02-13T15:19:11.077Z"
   },
   {
    "duration": 7,
    "start_time": "2022-02-13T15:19:30.244Z"
   },
   {
    "duration": 6,
    "start_time": "2022-02-13T15:20:46.287Z"
   },
   {
    "duration": 5,
    "start_time": "2022-02-13T15:20:52.389Z"
   },
   {
    "duration": 5,
    "start_time": "2022-02-13T15:21:32.127Z"
   },
   {
    "duration": 21,
    "start_time": "2022-02-13T15:21:38.045Z"
   },
   {
    "duration": 22,
    "start_time": "2022-02-13T15:22:25.441Z"
   },
   {
    "duration": 8,
    "start_time": "2022-02-13T15:22:45.991Z"
   },
   {
    "duration": 6,
    "start_time": "2022-02-13T15:22:51.458Z"
   },
   {
    "duration": 6,
    "start_time": "2022-02-13T15:22:57.720Z"
   },
   {
    "duration": 6,
    "start_time": "2022-02-13T15:23:18.074Z"
   },
   {
    "duration": 6,
    "start_time": "2022-02-13T15:25:24.232Z"
   },
   {
    "duration": 7,
    "start_time": "2022-02-13T15:25:51.481Z"
   },
   {
    "duration": 154,
    "start_time": "2022-02-13T15:26:00.199Z"
   },
   {
    "duration": 97,
    "start_time": "2022-02-13T15:26:12.168Z"
   },
   {
    "duration": 8,
    "start_time": "2022-02-13T15:26:22.112Z"
   },
   {
    "duration": 7,
    "start_time": "2022-02-13T15:27:03.537Z"
   },
   {
    "duration": 20,
    "start_time": "2022-02-13T15:27:09.536Z"
   },
   {
    "duration": 7,
    "start_time": "2022-02-13T15:27:11.174Z"
   },
   {
    "duration": 821,
    "start_time": "2022-02-13T15:27:21.974Z"
   },
   {
    "duration": 31,
    "start_time": "2022-02-13T15:27:22.797Z"
   },
   {
    "duration": 22,
    "start_time": "2022-02-13T15:27:22.832Z"
   },
   {
    "duration": 7,
    "start_time": "2022-02-13T15:27:22.858Z"
   },
   {
    "duration": 7,
    "start_time": "2022-02-13T15:27:22.867Z"
   },
   {
    "duration": 11,
    "start_time": "2022-02-13T15:27:22.877Z"
   },
   {
    "duration": 9,
    "start_time": "2022-02-13T15:27:22.890Z"
   },
   {
    "duration": 7,
    "start_time": "2022-02-13T15:27:22.901Z"
   },
   {
    "duration": 49,
    "start_time": "2022-02-13T15:27:22.911Z"
   },
   {
    "duration": 8,
    "start_time": "2022-02-13T15:27:22.962Z"
   },
   {
    "duration": 11,
    "start_time": "2022-02-13T15:27:22.973Z"
   },
   {
    "duration": 23,
    "start_time": "2022-02-13T15:27:22.987Z"
   },
   {
    "duration": 12,
    "start_time": "2022-02-13T15:27:23.012Z"
   },
   {
    "duration": 7,
    "start_time": "2022-02-13T15:27:23.048Z"
   },
   {
    "duration": 10,
    "start_time": "2022-02-13T15:27:23.057Z"
   },
   {
    "duration": 9,
    "start_time": "2022-02-13T15:27:23.070Z"
   },
   {
    "duration": 7,
    "start_time": "2022-02-13T15:27:31.737Z"
   },
   {
    "duration": 1006,
    "start_time": "2022-02-13T15:27:37.372Z"
   },
   {
    "duration": 33,
    "start_time": "2022-02-13T15:27:38.380Z"
   },
   {
    "duration": 11,
    "start_time": "2022-02-13T15:27:38.416Z"
   },
   {
    "duration": 24,
    "start_time": "2022-02-13T15:27:38.430Z"
   },
   {
    "duration": 6,
    "start_time": "2022-02-13T15:27:38.456Z"
   },
   {
    "duration": 12,
    "start_time": "2022-02-13T15:27:38.464Z"
   },
   {
    "duration": 9,
    "start_time": "2022-02-13T15:27:38.479Z"
   },
   {
    "duration": 6,
    "start_time": "2022-02-13T15:27:38.493Z"
   },
   {
    "duration": 7,
    "start_time": "2022-02-13T15:27:38.502Z"
   },
   {
    "duration": 56,
    "start_time": "2022-02-13T15:27:38.512Z"
   },
   {
    "duration": 10,
    "start_time": "2022-02-13T15:27:38.571Z"
   },
   {
    "duration": 10,
    "start_time": "2022-02-13T15:27:38.583Z"
   },
   {
    "duration": 13,
    "start_time": "2022-02-13T15:27:38.595Z"
   },
   {
    "duration": 44,
    "start_time": "2022-02-13T15:27:38.610Z"
   },
   {
    "duration": 10,
    "start_time": "2022-02-13T15:27:38.657Z"
   },
   {
    "duration": 13,
    "start_time": "2022-02-13T15:27:38.669Z"
   },
   {
    "duration": 6,
    "start_time": "2022-02-13T15:27:38.684Z"
   },
   {
    "duration": 9,
    "start_time": "2022-02-13T15:33:11.917Z"
   },
   {
    "duration": 11,
    "start_time": "2022-02-13T15:33:50.334Z"
   },
   {
    "duration": 10,
    "start_time": "2022-02-13T15:34:22.000Z"
   },
   {
    "duration": 377,
    "start_time": "2022-02-13T15:34:50.246Z"
   },
   {
    "duration": 14,
    "start_time": "2022-02-13T15:34:58.861Z"
   },
   {
    "duration": 10,
    "start_time": "2022-02-13T15:35:40.623Z"
   },
   {
    "duration": 10,
    "start_time": "2022-02-13T15:35:58.193Z"
   },
   {
    "duration": 12,
    "start_time": "2022-02-13T15:36:10.274Z"
   },
   {
    "duration": 13,
    "start_time": "2022-02-13T15:36:14.788Z"
   },
   {
    "duration": 11,
    "start_time": "2022-02-13T15:36:32.449Z"
   },
   {
    "duration": 12,
    "start_time": "2022-02-13T15:36:38.245Z"
   },
   {
    "duration": 7,
    "start_time": "2022-02-13T15:37:05.631Z"
   },
   {
    "duration": 14,
    "start_time": "2022-02-13T15:39:58.329Z"
   },
   {
    "duration": 7,
    "start_time": "2022-02-13T15:41:45.859Z"
   },
   {
    "duration": 24,
    "start_time": "2022-02-13T15:44:12.692Z"
   },
   {
    "duration": 12,
    "start_time": "2022-02-13T15:44:26.014Z"
   },
   {
    "duration": 13,
    "start_time": "2022-02-13T15:44:33.410Z"
   },
   {
    "duration": 13,
    "start_time": "2022-02-13T15:44:36.525Z"
   },
   {
    "duration": 14,
    "start_time": "2022-02-13T15:44:39.623Z"
   },
   {
    "duration": 12,
    "start_time": "2022-02-13T15:44:42.324Z"
   },
   {
    "duration": 13,
    "start_time": "2022-02-13T15:44:51.821Z"
   },
   {
    "duration": 14,
    "start_time": "2022-02-13T15:44:54.884Z"
   },
   {
    "duration": 13,
    "start_time": "2022-02-13T15:44:59.105Z"
   },
   {
    "duration": 14,
    "start_time": "2022-02-13T15:45:02.207Z"
   },
   {
    "duration": 12,
    "start_time": "2022-02-13T15:45:08.797Z"
   },
   {
    "duration": 12,
    "start_time": "2022-02-13T15:45:12.293Z"
   },
   {
    "duration": 12,
    "start_time": "2022-02-13T15:45:15.533Z"
   },
   {
    "duration": 13,
    "start_time": "2022-02-13T15:45:18.469Z"
   },
   {
    "duration": 13,
    "start_time": "2022-02-13T15:45:21.157Z"
   },
   {
    "duration": 13,
    "start_time": "2022-02-13T15:45:25.424Z"
   },
   {
    "duration": 11,
    "start_time": "2022-02-13T15:45:28.638Z"
   },
   {
    "duration": 14,
    "start_time": "2022-02-13T15:45:31.373Z"
   },
   {
    "duration": 14,
    "start_time": "2022-02-13T15:45:35.150Z"
   },
   {
    "duration": 12,
    "start_time": "2022-02-13T15:45:38.326Z"
   },
   {
    "duration": 13,
    "start_time": "2022-02-13T15:45:43.590Z"
   },
   {
    "duration": 13,
    "start_time": "2022-02-13T15:45:48.251Z"
   },
   {
    "duration": 13,
    "start_time": "2022-02-13T15:45:53.606Z"
   },
   {
    "duration": 15,
    "start_time": "2022-02-13T15:45:57.260Z"
   },
   {
    "duration": 13,
    "start_time": "2022-02-13T15:46:00.044Z"
   },
   {
    "duration": 16,
    "start_time": "2022-02-13T15:46:04.053Z"
   },
   {
    "duration": 12,
    "start_time": "2022-02-13T15:46:06.765Z"
   },
   {
    "duration": 15,
    "start_time": "2022-02-13T15:46:09.476Z"
   },
   {
    "duration": 12,
    "start_time": "2022-02-13T15:46:11.999Z"
   },
   {
    "duration": 12,
    "start_time": "2022-02-13T15:46:16.070Z"
   },
   {
    "duration": 12,
    "start_time": "2022-02-13T15:46:19.268Z"
   },
   {
    "duration": 18,
    "start_time": "2022-02-13T15:48:03.815Z"
   },
   {
    "duration": 111,
    "start_time": "2022-02-13T15:49:19.497Z"
   },
   {
    "duration": 13,
    "start_time": "2022-02-13T15:49:28.632Z"
   },
   {
    "duration": 12,
    "start_time": "2022-02-13T15:49:39.408Z"
   },
   {
    "duration": 887,
    "start_time": "2022-02-13T15:51:04.416Z"
   },
   {
    "duration": 8,
    "start_time": "2022-02-13T15:51:07.996Z"
   },
   {
    "duration": 5,
    "start_time": "2022-02-13T15:52:26.177Z"
   },
   {
    "duration": 6,
    "start_time": "2022-02-13T15:52:45.425Z"
   },
   {
    "duration": 9,
    "start_time": "2022-02-13T15:52:55.905Z"
   },
   {
    "duration": 5,
    "start_time": "2022-02-13T15:53:08.236Z"
   },
   {
    "duration": 7,
    "start_time": "2022-02-13T15:53:30.033Z"
   },
   {
    "duration": 9,
    "start_time": "2022-02-13T16:05:08.994Z"
   },
   {
    "duration": 29,
    "start_time": "2022-02-13T16:05:46.258Z"
   },
   {
    "duration": 9,
    "start_time": "2022-02-13T16:05:53.195Z"
   },
   {
    "duration": 29,
    "start_time": "2022-02-13T16:06:46.571Z"
   },
   {
    "duration": 11,
    "start_time": "2022-02-13T16:06:47.577Z"
   },
   {
    "duration": 24,
    "start_time": "2022-02-13T16:06:49.025Z"
   },
   {
    "duration": 21,
    "start_time": "2022-02-13T16:11:00.797Z"
   },
   {
    "duration": 38,
    "start_time": "2022-02-13T16:16:31.656Z"
   },
   {
    "duration": 17,
    "start_time": "2022-02-13T16:16:37.726Z"
   },
   {
    "duration": 37,
    "start_time": "2022-02-13T16:16:49.336Z"
   },
   {
    "duration": 48,
    "start_time": "2022-02-13T16:17:12.315Z"
   },
   {
    "duration": 36,
    "start_time": "2022-02-13T16:17:16.856Z"
   },
   {
    "duration": 13,
    "start_time": "2022-02-13T16:17:45.393Z"
   },
   {
    "duration": 33,
    "start_time": "2022-02-13T16:17:55.490Z"
   },
   {
    "duration": 36,
    "start_time": "2022-02-13T16:17:58.500Z"
   },
   {
    "duration": 30,
    "start_time": "2022-02-13T16:18:00.681Z"
   },
   {
    "duration": 8,
    "start_time": "2022-02-13T16:18:17.962Z"
   },
   {
    "duration": 24,
    "start_time": "2022-02-13T16:18:26.047Z"
   },
   {
    "duration": 967,
    "start_time": "2022-02-13T16:18:33.588Z"
   },
   {
    "duration": 42,
    "start_time": "2022-02-13T16:18:34.558Z"
   },
   {
    "duration": 8,
    "start_time": "2022-02-13T16:18:34.604Z"
   },
   {
    "duration": 37,
    "start_time": "2022-02-13T16:18:34.616Z"
   },
   {
    "duration": 5,
    "start_time": "2022-02-13T16:18:34.657Z"
   },
   {
    "duration": 8,
    "start_time": "2022-02-13T16:18:34.665Z"
   },
   {
    "duration": 6,
    "start_time": "2022-02-13T16:18:34.676Z"
   },
   {
    "duration": 6,
    "start_time": "2022-02-13T16:18:34.687Z"
   },
   {
    "duration": 57,
    "start_time": "2022-02-13T16:18:34.696Z"
   },
   {
    "duration": 30,
    "start_time": "2022-02-13T16:18:34.756Z"
   },
   {
    "duration": 14,
    "start_time": "2022-02-13T16:18:34.789Z"
   },
   {
    "duration": 10,
    "start_time": "2022-02-13T16:18:34.806Z"
   },
   {
    "duration": 45,
    "start_time": "2022-02-13T16:18:34.818Z"
   },
   {
    "duration": 280,
    "start_time": "2022-02-13T16:18:34.866Z"
   },
   {
    "duration": 1891,
    "start_time": "2022-02-13T16:18:33.258Z"
   },
   {
    "duration": 1877,
    "start_time": "2022-02-13T16:18:33.274Z"
   },
   {
    "duration": 1862,
    "start_time": "2022-02-13T16:18:33.292Z"
   },
   {
    "duration": 1847,
    "start_time": "2022-02-13T16:18:33.309Z"
   },
   {
    "duration": 1844,
    "start_time": "2022-02-13T16:18:33.314Z"
   },
   {
    "duration": 1830,
    "start_time": "2022-02-13T16:18:33.330Z"
   },
   {
    "duration": 1826,
    "start_time": "2022-02-13T16:18:33.336Z"
   },
   {
    "duration": 1820,
    "start_time": "2022-02-13T16:18:33.344Z"
   },
   {
    "duration": 1819,
    "start_time": "2022-02-13T16:18:33.348Z"
   },
   {
    "duration": 9,
    "start_time": "2022-02-13T16:18:50.302Z"
   },
   {
    "duration": 34,
    "start_time": "2022-02-13T16:18:54.836Z"
   },
   {
    "duration": 7,
    "start_time": "2022-02-13T16:20:11.406Z"
   },
   {
    "duration": 10,
    "start_time": "2022-02-13T16:26:15.178Z"
   },
   {
    "duration": 6,
    "start_time": "2022-02-13T16:27:24.251Z"
   },
   {
    "duration": 11,
    "start_time": "2022-02-13T16:27:27.833Z"
   },
   {
    "duration": 754,
    "start_time": "2022-02-13T16:27:49.261Z"
   },
   {
    "duration": 12,
    "start_time": "2022-02-13T16:27:57.939Z"
   },
   {
    "duration": 10,
    "start_time": "2022-02-13T16:28:53.786Z"
   },
   {
    "duration": 19,
    "start_time": "2022-02-13T16:29:02.110Z"
   },
   {
    "duration": 7,
    "start_time": "2022-02-13T16:29:24.648Z"
   },
   {
    "duration": 302,
    "start_time": "2022-02-13T16:29:29.756Z"
   },
   {
    "duration": 305,
    "start_time": "2022-02-13T16:29:36.557Z"
   },
   {
    "duration": 2443,
    "start_time": "2022-02-13T16:30:11.660Z"
   },
   {
    "duration": 2460,
    "start_time": "2022-02-13T16:30:24.343Z"
   },
   {
    "duration": 2456,
    "start_time": "2022-02-13T16:30:27.224Z"
   },
   {
    "duration": 2246,
    "start_time": "2022-02-13T16:30:30.683Z"
   },
   {
    "duration": 12,
    "start_time": "2022-02-13T16:31:37.021Z"
   },
   {
    "duration": 18,
    "start_time": "2022-02-13T16:31:46.903Z"
   },
   {
    "duration": 10,
    "start_time": "2022-02-13T16:31:49.847Z"
   },
   {
    "duration": 1209,
    "start_time": "2022-02-13T16:31:58.584Z"
   },
   {
    "duration": 57,
    "start_time": "2022-02-13T16:31:59.798Z"
   },
   {
    "duration": 10,
    "start_time": "2022-02-13T16:31:59.858Z"
   },
   {
    "duration": 10,
    "start_time": "2022-02-13T16:31:59.872Z"
   },
   {
    "duration": 30,
    "start_time": "2022-02-13T16:31:59.885Z"
   },
   {
    "duration": 20,
    "start_time": "2022-02-13T16:31:59.921Z"
   },
   {
    "duration": 31,
    "start_time": "2022-02-13T16:31:59.944Z"
   },
   {
    "duration": 29,
    "start_time": "2022-02-13T16:31:59.986Z"
   },
   {
    "duration": 13,
    "start_time": "2022-02-13T16:32:00.020Z"
   },
   {
    "duration": 51,
    "start_time": "2022-02-13T16:32:00.036Z"
   },
   {
    "duration": 10,
    "start_time": "2022-02-13T16:32:00.091Z"
   },
   {
    "duration": 24,
    "start_time": "2022-02-13T16:32:00.105Z"
   },
   {
    "duration": 41,
    "start_time": "2022-02-13T16:32:00.132Z"
   },
   {
    "duration": 36,
    "start_time": "2022-02-13T16:32:00.176Z"
   },
   {
    "duration": 27,
    "start_time": "2022-02-13T16:32:00.216Z"
   },
   {
    "duration": 52,
    "start_time": "2022-02-13T16:32:00.251Z"
   },
   {
    "duration": 36,
    "start_time": "2022-02-13T16:32:00.307Z"
   },
   {
    "duration": 46,
    "start_time": "2022-02-13T16:32:00.347Z"
   },
   {
    "duration": 48,
    "start_time": "2022-02-13T16:32:00.398Z"
   },
   {
    "duration": 95,
    "start_time": "2022-02-13T16:32:00.450Z"
   },
   {
    "duration": 14,
    "start_time": "2022-02-13T16:32:00.556Z"
   },
   {
    "duration": 49,
    "start_time": "2022-02-13T16:32:00.573Z"
   },
   {
    "duration": 30,
    "start_time": "2022-02-13T16:32:00.628Z"
   },
   {
    "duration": 35,
    "start_time": "2022-02-13T16:32:00.662Z"
   },
   {
    "duration": 960,
    "start_time": "2022-02-13T16:32:00.705Z"
   },
   {
    "duration": 19,
    "start_time": "2022-02-13T16:32:31.679Z"
   },
   {
    "duration": 13,
    "start_time": "2022-02-13T16:32:36.708Z"
   },
   {
    "duration": 13,
    "start_time": "2022-02-13T16:33:08.852Z"
   },
   {
    "duration": 11,
    "start_time": "2022-02-13T16:33:13.910Z"
   },
   {
    "duration": 1157,
    "start_time": "2022-02-13T16:33:27.285Z"
   },
   {
    "duration": 54,
    "start_time": "2022-02-13T16:33:28.446Z"
   },
   {
    "duration": 13,
    "start_time": "2022-02-13T16:33:28.505Z"
   },
   {
    "duration": 36,
    "start_time": "2022-02-13T16:33:28.522Z"
   },
   {
    "duration": 7,
    "start_time": "2022-02-13T16:33:28.562Z"
   },
   {
    "duration": 15,
    "start_time": "2022-02-13T16:33:28.573Z"
   },
   {
    "duration": 13,
    "start_time": "2022-02-13T16:33:28.591Z"
   },
   {
    "duration": 41,
    "start_time": "2022-02-13T16:33:28.611Z"
   },
   {
    "duration": 7,
    "start_time": "2022-02-13T16:33:28.657Z"
   },
   {
    "duration": 42,
    "start_time": "2022-02-13T16:33:28.668Z"
   },
   {
    "duration": 37,
    "start_time": "2022-02-13T16:33:28.714Z"
   },
   {
    "duration": 10,
    "start_time": "2022-02-13T16:33:28.754Z"
   },
   {
    "duration": 27,
    "start_time": "2022-02-13T16:33:28.768Z"
   },
   {
    "duration": 51,
    "start_time": "2022-02-13T16:33:28.798Z"
   },
   {
    "duration": 7,
    "start_time": "2022-02-13T16:33:28.853Z"
   },
   {
    "duration": 17,
    "start_time": "2022-02-13T16:33:28.864Z"
   },
   {
    "duration": 6,
    "start_time": "2022-02-13T16:33:28.885Z"
   },
   {
    "duration": 57,
    "start_time": "2022-02-13T16:33:28.895Z"
   },
   {
    "duration": 15,
    "start_time": "2022-02-13T16:33:28.956Z"
   },
   {
    "duration": 83,
    "start_time": "2022-02-13T16:33:28.974Z"
   },
   {
    "duration": 10,
    "start_time": "2022-02-13T16:33:29.061Z"
   },
   {
    "duration": 15,
    "start_time": "2022-02-13T16:33:29.074Z"
   },
   {
    "duration": 17,
    "start_time": "2022-02-13T16:33:29.096Z"
   },
   {
    "duration": 6,
    "start_time": "2022-02-13T16:33:56.498Z"
   },
   {
    "duration": 9,
    "start_time": "2022-02-13T16:34:08.789Z"
   },
   {
    "duration": 12,
    "start_time": "2022-02-13T16:34:22.480Z"
   },
   {
    "duration": 13,
    "start_time": "2022-02-13T16:34:48.700Z"
   },
   {
    "duration": 5,
    "start_time": "2022-02-13T16:35:47.743Z"
   },
   {
    "duration": 7,
    "start_time": "2022-02-13T16:35:56.221Z"
   },
   {
    "duration": 7,
    "start_time": "2022-02-13T16:37:47.287Z"
   },
   {
    "duration": 11,
    "start_time": "2022-02-13T16:37:53.893Z"
   },
   {
    "duration": 11,
    "start_time": "2022-02-13T16:38:56.367Z"
   },
   {
    "duration": 71,
    "start_time": "2022-02-13T16:39:22.086Z"
   },
   {
    "duration": 21,
    "start_time": "2022-02-13T16:39:22.160Z"
   },
   {
    "duration": 8,
    "start_time": "2022-02-13T16:39:22.184Z"
   },
   {
    "duration": 9,
    "start_time": "2022-02-13T16:39:22.195Z"
   },
   {
    "duration": 60,
    "start_time": "2022-02-13T16:39:22.207Z"
   },
   {
    "duration": 8,
    "start_time": "2022-02-13T16:39:22.270Z"
   },
   {
    "duration": 10,
    "start_time": "2022-02-13T16:39:22.281Z"
   },
   {
    "duration": 8,
    "start_time": "2022-02-13T16:39:22.294Z"
   },
   {
    "duration": 7,
    "start_time": "2022-02-13T16:39:22.306Z"
   },
   {
    "duration": 24,
    "start_time": "2022-02-13T16:39:22.350Z"
   },
   {
    "duration": 11,
    "start_time": "2022-02-13T16:39:22.377Z"
   },
   {
    "duration": 59,
    "start_time": "2022-02-13T16:39:22.391Z"
   },
   {
    "duration": 25,
    "start_time": "2022-02-13T16:39:22.453Z"
   },
   {
    "duration": 9,
    "start_time": "2022-02-13T16:39:22.481Z"
   },
   {
    "duration": 17,
    "start_time": "2022-02-13T16:39:22.493Z"
   },
   {
    "duration": 44,
    "start_time": "2022-02-13T16:39:22.513Z"
   },
   {
    "duration": 5,
    "start_time": "2022-02-13T16:39:22.559Z"
   },
   {
    "duration": 12,
    "start_time": "2022-02-13T16:39:22.567Z"
   },
   {
    "duration": 103,
    "start_time": "2022-02-13T16:39:29.329Z"
   },
   {
    "duration": 30,
    "start_time": "2022-02-13T16:39:29.448Z"
   },
   {
    "duration": 9,
    "start_time": "2022-02-13T16:39:29.482Z"
   },
   {
    "duration": 9,
    "start_time": "2022-02-13T16:39:29.494Z"
   },
   {
    "duration": 49,
    "start_time": "2022-02-13T16:39:29.505Z"
   },
   {
    "duration": 14,
    "start_time": "2022-02-13T16:39:29.557Z"
   },
   {
    "duration": 9,
    "start_time": "2022-02-13T16:39:29.574Z"
   },
   {
    "duration": 9,
    "start_time": "2022-02-13T16:39:29.586Z"
   },
   {
    "duration": 6,
    "start_time": "2022-02-13T16:39:29.649Z"
   },
   {
    "duration": 41,
    "start_time": "2022-02-13T16:39:29.659Z"
   },
   {
    "duration": 9,
    "start_time": "2022-02-13T16:39:29.703Z"
   },
   {
    "duration": 36,
    "start_time": "2022-02-13T16:39:29.715Z"
   },
   {
    "duration": 18,
    "start_time": "2022-02-13T16:39:29.754Z"
   },
   {
    "duration": 9,
    "start_time": "2022-02-13T16:39:29.776Z"
   },
   {
    "duration": 63,
    "start_time": "2022-02-13T16:39:29.788Z"
   },
   {
    "duration": 16,
    "start_time": "2022-02-13T16:39:29.854Z"
   },
   {
    "duration": 6,
    "start_time": "2022-02-13T16:39:29.874Z"
   },
   {
    "duration": 16,
    "start_time": "2022-02-13T16:39:29.883Z"
   },
   {
    "duration": 56,
    "start_time": "2022-02-13T16:39:29.902Z"
   },
   {
    "duration": 31,
    "start_time": "2022-02-13T16:43:21.265Z"
   },
   {
    "duration": 12,
    "start_time": "2022-02-13T17:03:06.543Z"
   },
   {
    "duration": 10,
    "start_time": "2022-02-13T17:03:25.420Z"
   },
   {
    "duration": 13,
    "start_time": "2022-02-13T17:03:35.639Z"
   },
   {
    "duration": 5,
    "start_time": "2022-02-13T17:04:13.076Z"
   },
   {
    "duration": 24,
    "start_time": "2022-02-13T17:04:20.903Z"
   },
   {
    "duration": 819,
    "start_time": "2022-02-13T17:04:27.405Z"
   },
   {
    "duration": 34,
    "start_time": "2022-02-13T17:04:28.227Z"
   },
   {
    "duration": 8,
    "start_time": "2022-02-13T17:04:28.264Z"
   },
   {
    "duration": 9,
    "start_time": "2022-02-13T17:04:28.276Z"
   },
   {
    "duration": 11,
    "start_time": "2022-02-13T17:04:28.288Z"
   },
   {
    "duration": 7,
    "start_time": "2022-02-13T17:04:28.301Z"
   },
   {
    "duration": 42,
    "start_time": "2022-02-13T17:04:28.311Z"
   },
   {
    "duration": 5,
    "start_time": "2022-02-13T17:04:28.356Z"
   },
   {
    "duration": 22,
    "start_time": "2022-02-13T17:04:28.365Z"
   },
   {
    "duration": 7,
    "start_time": "2022-02-13T17:04:28.390Z"
   },
   {
    "duration": 51,
    "start_time": "2022-02-13T17:04:28.400Z"
   },
   {
    "duration": 31,
    "start_time": "2022-02-13T17:04:28.453Z"
   },
   {
    "duration": 19,
    "start_time": "2022-02-13T17:04:28.486Z"
   },
   {
    "duration": 6,
    "start_time": "2022-02-13T17:04:28.508Z"
   },
   {
    "duration": 39,
    "start_time": "2022-02-13T17:04:28.517Z"
   },
   {
    "duration": 101,
    "start_time": "2022-02-13T17:04:28.559Z"
   },
   {
    "duration": 3657,
    "start_time": "2022-02-13T17:04:25.007Z"
   },
   {
    "duration": 3653,
    "start_time": "2022-02-13T17:04:25.013Z"
   },
   {
    "duration": 3650,
    "start_time": "2022-02-13T17:04:25.018Z"
   },
   {
    "duration": 3646,
    "start_time": "2022-02-13T17:04:25.024Z"
   },
   {
    "duration": 3643,
    "start_time": "2022-02-13T17:04:25.028Z"
   },
   {
    "duration": 3641,
    "start_time": "2022-02-13T17:04:25.032Z"
   },
   {
    "duration": 3638,
    "start_time": "2022-02-13T17:04:25.036Z"
   },
   {
    "duration": 8,
    "start_time": "2022-02-13T17:06:38.005Z"
   },
   {
    "duration": 8,
    "start_time": "2022-02-13T17:06:50.764Z"
   },
   {
    "duration": 10,
    "start_time": "2022-02-13T17:06:50.776Z"
   },
   {
    "duration": 6,
    "start_time": "2022-02-13T17:06:50.790Z"
   },
   {
    "duration": 11,
    "start_time": "2022-02-13T17:06:50.800Z"
   },
   {
    "duration": 35,
    "start_time": "2022-02-13T17:06:50.813Z"
   },
   {
    "duration": 7,
    "start_time": "2022-02-13T17:06:50.851Z"
   },
   {
    "duration": 24,
    "start_time": "2022-02-13T17:06:50.861Z"
   },
   {
    "duration": 35,
    "start_time": "2022-02-13T17:06:50.887Z"
   },
   {
    "duration": 22,
    "start_time": "2022-02-13T17:06:50.928Z"
   },
   {
    "duration": 9,
    "start_time": "2022-02-13T17:06:50.953Z"
   },
   {
    "duration": 27,
    "start_time": "2022-02-13T17:06:50.965Z"
   },
   {
    "duration": 96,
    "start_time": "2022-02-13T17:06:50.996Z"
   },
   {
    "duration": 3816,
    "start_time": "2022-02-13T17:06:47.278Z"
   },
   {
    "duration": 3813,
    "start_time": "2022-02-13T17:06:47.283Z"
   },
   {
    "duration": 3810,
    "start_time": "2022-02-13T17:06:47.287Z"
   },
   {
    "duration": 3808,
    "start_time": "2022-02-13T17:06:47.290Z"
   },
   {
    "duration": 3806,
    "start_time": "2022-02-13T17:06:47.294Z"
   },
   {
    "duration": 3797,
    "start_time": "2022-02-13T17:06:47.304Z"
   },
   {
    "duration": 3794,
    "start_time": "2022-02-13T17:06:47.308Z"
   },
   {
    "duration": 67,
    "start_time": "2022-02-13T17:06:59.486Z"
   },
   {
    "duration": 31,
    "start_time": "2022-02-13T17:06:59.556Z"
   },
   {
    "duration": 9,
    "start_time": "2022-02-13T17:06:59.591Z"
   },
   {
    "duration": 75,
    "start_time": "2022-02-13T17:07:05.855Z"
   },
   {
    "duration": 28,
    "start_time": "2022-02-13T17:07:05.933Z"
   },
   {
    "duration": 25,
    "start_time": "2022-02-13T17:07:05.965Z"
   },
   {
    "duration": 30,
    "start_time": "2022-02-13T17:07:05.993Z"
   },
   {
    "duration": 11,
    "start_time": "2022-02-13T17:07:39.286Z"
   },
   {
    "duration": 12,
    "start_time": "2022-02-13T17:07:40.506Z"
   },
   {
    "duration": 7,
    "start_time": "2022-02-13T17:09:33.013Z"
   },
   {
    "duration": 113,
    "start_time": "2022-02-13T17:09:44.961Z"
   },
   {
    "duration": 6,
    "start_time": "2022-02-13T17:09:48.951Z"
   },
   {
    "duration": 8,
    "start_time": "2022-02-13T17:09:54.022Z"
   },
   {
    "duration": 9,
    "start_time": "2022-02-13T17:09:56.497Z"
   },
   {
    "duration": 9,
    "start_time": "2022-02-13T17:09:58.154Z"
   },
   {
    "duration": 353,
    "start_time": "2022-02-13T17:10:17.388Z"
   },
   {
    "duration": 12,
    "start_time": "2022-02-13T17:10:20.720Z"
   },
   {
    "duration": 856,
    "start_time": "2022-02-13T17:10:47.501Z"
   },
   {
    "duration": 31,
    "start_time": "2022-02-13T17:10:48.360Z"
   },
   {
    "duration": 9,
    "start_time": "2022-02-13T17:10:48.394Z"
   },
   {
    "duration": 46,
    "start_time": "2022-02-13T17:10:48.407Z"
   },
   {
    "duration": 7,
    "start_time": "2022-02-13T17:10:48.455Z"
   },
   {
    "duration": 9,
    "start_time": "2022-02-13T17:10:48.465Z"
   },
   {
    "duration": 7,
    "start_time": "2022-02-13T17:10:48.477Z"
   },
   {
    "duration": 6,
    "start_time": "2022-02-13T17:10:48.488Z"
   },
   {
    "duration": 57,
    "start_time": "2022-02-13T17:10:48.497Z"
   },
   {
    "duration": 8,
    "start_time": "2022-02-13T17:10:48.556Z"
   },
   {
    "duration": 19,
    "start_time": "2022-02-13T17:10:48.567Z"
   },
   {
    "duration": 36,
    "start_time": "2022-02-13T17:10:48.589Z"
   },
   {
    "duration": 26,
    "start_time": "2022-02-13T17:10:48.627Z"
   },
   {
    "duration": 23,
    "start_time": "2022-02-13T17:10:48.655Z"
   },
   {
    "duration": 276,
    "start_time": "2022-02-13T17:10:48.681Z"
   },
   {
    "duration": 4126,
    "start_time": "2022-02-13T17:10:44.835Z"
   },
   {
    "duration": 4108,
    "start_time": "2022-02-13T17:10:44.857Z"
   },
   {
    "duration": 4103,
    "start_time": "2022-02-13T17:10:44.863Z"
   },
   {
    "duration": 4099,
    "start_time": "2022-02-13T17:10:44.870Z"
   },
   {
    "duration": 4097,
    "start_time": "2022-02-13T17:10:44.874Z"
   },
   {
    "duration": 4094,
    "start_time": "2022-02-13T17:10:44.878Z"
   },
   {
    "duration": 4090,
    "start_time": "2022-02-13T17:10:44.883Z"
   },
   {
    "duration": 4088,
    "start_time": "2022-02-13T17:10:44.886Z"
   },
   {
    "duration": 4084,
    "start_time": "2022-02-13T17:10:44.892Z"
   },
   {
    "duration": 4082,
    "start_time": "2022-02-13T17:10:44.895Z"
   },
   {
    "duration": 12,
    "start_time": "2022-02-13T17:10:52.880Z"
   },
   {
    "duration": 14,
    "start_time": "2022-02-13T17:10:57.356Z"
   },
   {
    "duration": 10,
    "start_time": "2022-02-13T17:11:00.316Z"
   },
   {
    "duration": 10,
    "start_time": "2022-02-13T17:11:02.026Z"
   },
   {
    "duration": 11,
    "start_time": "2022-02-13T17:11:03.082Z"
   },
   {
    "duration": 8,
    "start_time": "2022-02-13T17:11:03.856Z"
   },
   {
    "duration": 5,
    "start_time": "2022-02-13T17:11:05.966Z"
   },
   {
    "duration": 8,
    "start_time": "2022-02-13T17:11:06.917Z"
   },
   {
    "duration": 12,
    "start_time": "2022-02-13T17:11:08.252Z"
   },
   {
    "duration": 10,
    "start_time": "2022-02-13T17:11:09.148Z"
   },
   {
    "duration": 12,
    "start_time": "2022-02-13T17:11:10.674Z"
   },
   {
    "duration": 8,
    "start_time": "2022-02-13T17:12:05.429Z"
   },
   {
    "duration": 10,
    "start_time": "2022-02-13T17:12:55.006Z"
   },
   {
    "duration": 10,
    "start_time": "2022-02-13T17:14:53.279Z"
   },
   {
    "duration": 34,
    "start_time": "2022-02-13T17:16:33.473Z"
   },
   {
    "duration": 12,
    "start_time": "2022-02-13T17:16:42.360Z"
   },
   {
    "duration": 70,
    "start_time": "2022-02-13T17:16:47.563Z"
   },
   {
    "duration": 35,
    "start_time": "2022-02-13T17:17:35.458Z"
   },
   {
    "duration": 139,
    "start_time": "2022-02-13T17:18:21.401Z"
   },
   {
    "duration": 9,
    "start_time": "2022-02-13T17:18:27.577Z"
   },
   {
    "duration": 6,
    "start_time": "2022-02-13T17:18:28.577Z"
   },
   {
    "duration": 574,
    "start_time": "2022-02-13T17:18:46.136Z"
   },
   {
    "duration": 73,
    "start_time": "2022-02-13T17:18:58.554Z"
   },
   {
    "duration": 14,
    "start_time": "2022-02-13T17:19:04.392Z"
   },
   {
    "duration": 506,
    "start_time": "2022-02-13T17:19:26.395Z"
   },
   {
    "duration": 13,
    "start_time": "2022-02-13T17:19:38.050Z"
   },
   {
    "duration": 12,
    "start_time": "2022-02-13T17:19:54.228Z"
   },
   {
    "duration": 11,
    "start_time": "2022-02-13T17:20:44.213Z"
   },
   {
    "duration": 14,
    "start_time": "2022-02-13T17:20:48.172Z"
   },
   {
    "duration": 5,
    "start_time": "2022-02-13T17:20:53.866Z"
   },
   {
    "duration": 11,
    "start_time": "2022-02-13T17:21:23.634Z"
   },
   {
    "duration": 11,
    "start_time": "2022-02-13T17:21:43.027Z"
   },
   {
    "duration": 14,
    "start_time": "2022-02-13T17:22:04.670Z"
   },
   {
    "duration": 9,
    "start_time": "2022-02-13T17:22:09.954Z"
   },
   {
    "duration": 9,
    "start_time": "2022-02-13T17:22:40.849Z"
   },
   {
    "duration": 9,
    "start_time": "2022-02-13T17:22:47.907Z"
   },
   {
    "duration": 10,
    "start_time": "2022-02-13T17:23:05.023Z"
   },
   {
    "duration": 9,
    "start_time": "2022-02-13T17:23:11.028Z"
   },
   {
    "duration": 9,
    "start_time": "2022-02-13T17:23:26.274Z"
   },
   {
    "duration": 9,
    "start_time": "2022-02-13T17:23:26.716Z"
   },
   {
    "duration": 8,
    "start_time": "2022-02-13T17:24:14.253Z"
   },
   {
    "duration": 8,
    "start_time": "2022-02-13T17:24:18.157Z"
   },
   {
    "duration": 10,
    "start_time": "2022-02-13T17:24:26.633Z"
   },
   {
    "duration": 753,
    "start_time": "2022-02-13T17:24:58.656Z"
   },
   {
    "duration": 327,
    "start_time": "2022-02-13T17:28:06.197Z"
   },
   {
    "duration": 372,
    "start_time": "2022-02-13T17:28:20.537Z"
   },
   {
    "duration": 96,
    "start_time": "2022-02-13T17:28:35.090Z"
   },
   {
    "duration": 105,
    "start_time": "2022-02-13T17:31:00.489Z"
   },
   {
    "duration": 327,
    "start_time": "2022-02-13T17:31:10.199Z"
   },
   {
    "duration": 302,
    "start_time": "2022-02-13T17:31:28.486Z"
   },
   {
    "duration": 310,
    "start_time": "2022-02-13T17:31:44.602Z"
   },
   {
    "duration": 3525,
    "start_time": "2022-02-13T17:31:50.690Z"
   },
   {
    "duration": 6,
    "start_time": "2022-02-13T17:32:15.048Z"
   },
   {
    "duration": 282,
    "start_time": "2022-02-13T17:33:43.904Z"
   },
   {
    "duration": 4014,
    "start_time": "2022-02-13T17:33:51.974Z"
   },
   {
    "duration": 751,
    "start_time": "2022-02-13T17:38:30.038Z"
   },
   {
    "duration": 7,
    "start_time": "2022-02-13T17:39:47.740Z"
   },
   {
    "duration": 7,
    "start_time": "2022-02-13T17:39:59.432Z"
   },
   {
    "duration": 320,
    "start_time": "2022-02-13T17:42:31.391Z"
   },
   {
    "duration": 302,
    "start_time": "2022-02-13T17:42:47.754Z"
   },
   {
    "duration": 302,
    "start_time": "2022-02-13T17:43:17.647Z"
   },
   {
    "duration": 456,
    "start_time": "2022-02-13T17:43:36.551Z"
   },
   {
    "duration": 4099,
    "start_time": "2022-02-13T17:43:54.962Z"
   },
   {
    "duration": 10,
    "start_time": "2022-02-13T17:44:05.176Z"
   },
   {
    "duration": 310,
    "start_time": "2022-02-13T17:44:23.360Z"
   },
   {
    "duration": 398,
    "start_time": "2022-02-13T17:44:39.298Z"
   },
   {
    "duration": 286,
    "start_time": "2022-02-13T17:44:53.816Z"
   },
   {
    "duration": 345,
    "start_time": "2022-02-13T17:47:28.626Z"
   },
   {
    "duration": 435,
    "start_time": "2022-02-13T17:48:03.802Z"
   },
   {
    "duration": 798,
    "start_time": "2022-02-13T17:49:06.771Z"
   },
   {
    "duration": 439,
    "start_time": "2022-02-13T17:49:13.835Z"
   },
   {
    "duration": 95,
    "start_time": "2022-02-13T17:49:20.770Z"
   },
   {
    "duration": 273,
    "start_time": "2022-02-13T17:49:57.308Z"
   },
   {
    "duration": 295,
    "start_time": "2022-02-13T17:50:08.988Z"
   },
   {
    "duration": 1321,
    "start_time": "2022-02-13T17:50:28.557Z"
   },
   {
    "duration": 1206,
    "start_time": "2022-02-13T17:51:19.137Z"
   },
   {
    "duration": 6958,
    "start_time": "2022-02-13T17:51:33.822Z"
   },
   {
    "duration": 4475,
    "start_time": "2022-02-13T17:52:07.622Z"
   },
   {
    "duration": 2017,
    "start_time": "2022-02-13T17:52:28.821Z"
   },
   {
    "duration": 1048,
    "start_time": "2022-02-13T17:52:38.361Z"
   },
   {
    "duration": 776,
    "start_time": "2022-02-13T17:54:24.509Z"
   },
   {
    "duration": 3511,
    "start_time": "2022-02-13T17:55:17.084Z"
   },
   {
    "duration": 382,
    "start_time": "2022-02-13T17:56:39.031Z"
   },
   {
    "duration": 710,
    "start_time": "2022-02-13T17:56:50.240Z"
   },
   {
    "duration": 7,
    "start_time": "2022-02-13T17:57:35.549Z"
   },
   {
    "duration": 9,
    "start_time": "2022-02-13T17:57:43.357Z"
   },
   {
    "duration": 104,
    "start_time": "2022-02-13T17:58:02.014Z"
   },
   {
    "duration": 3680,
    "start_time": "2022-02-13T17:58:06.096Z"
   },
   {
    "duration": 9,
    "start_time": "2022-02-13T17:58:23.815Z"
   },
   {
    "duration": 4428,
    "start_time": "2022-02-13T17:58:37.648Z"
   },
   {
    "duration": 13,
    "start_time": "2022-02-13T17:58:52.994Z"
   },
   {
    "duration": 14,
    "start_time": "2022-02-13T17:59:12.177Z"
   },
   {
    "duration": 9,
    "start_time": "2022-02-13T17:59:20.625Z"
   },
   {
    "duration": 11,
    "start_time": "2022-02-13T17:59:43.156Z"
   },
   {
    "duration": 11,
    "start_time": "2022-02-13T17:59:55.226Z"
   },
   {
    "duration": 10,
    "start_time": "2022-02-13T18:00:19.160Z"
   },
   {
    "duration": 10,
    "start_time": "2022-02-13T19:02:17.629Z"
   },
   {
    "duration": 10,
    "start_time": "2022-02-13T19:02:42.152Z"
   },
   {
    "duration": 10,
    "start_time": "2022-02-13T19:02:47.885Z"
   },
   {
    "duration": 9,
    "start_time": "2022-02-13T19:02:58.327Z"
   },
   {
    "duration": 9,
    "start_time": "2022-02-13T19:03:48.167Z"
   },
   {
    "duration": 10,
    "start_time": "2022-02-13T19:03:49.413Z"
   },
   {
    "duration": 9,
    "start_time": "2022-02-13T19:03:50.468Z"
   },
   {
    "duration": 475,
    "start_time": "2022-02-13T19:05:05.186Z"
   },
   {
    "duration": 6,
    "start_time": "2022-02-13T19:05:15.649Z"
   },
   {
    "duration": 9,
    "start_time": "2022-02-13T19:05:24.639Z"
   },
   {
    "duration": 305,
    "start_time": "2022-02-13T19:05:38.822Z"
   },
   {
    "duration": 299,
    "start_time": "2022-02-13T19:05:40.920Z"
   },
   {
    "duration": 6,
    "start_time": "2022-02-13T19:05:56.440Z"
   },
   {
    "duration": 8,
    "start_time": "2022-02-13T19:06:02.424Z"
   },
   {
    "duration": 8,
    "start_time": "2022-02-13T19:07:06.888Z"
   },
   {
    "duration": 8,
    "start_time": "2022-02-13T19:07:09.033Z"
   },
   {
    "duration": 5,
    "start_time": "2022-02-13T19:07:25.726Z"
   },
   {
    "duration": 94,
    "start_time": "2022-02-13T19:07:29.054Z"
   },
   {
    "duration": 7,
    "start_time": "2022-02-13T19:07:33.513Z"
   },
   {
    "duration": 5,
    "start_time": "2022-02-13T19:08:50.249Z"
   },
   {
    "duration": 6,
    "start_time": "2022-02-13T19:09:05.928Z"
   },
   {
    "duration": 11,
    "start_time": "2022-02-13T19:10:51.859Z"
   },
   {
    "duration": 5,
    "start_time": "2022-02-13T19:11:06.444Z"
   },
   {
    "duration": 8,
    "start_time": "2022-02-13T19:11:38.562Z"
   },
   {
    "duration": 8,
    "start_time": "2022-02-13T19:12:24.568Z"
   },
   {
    "duration": 8,
    "start_time": "2022-02-13T19:12:39.748Z"
   },
   {
    "duration": 6,
    "start_time": "2022-02-13T19:13:27.375Z"
   },
   {
    "duration": 7,
    "start_time": "2022-02-13T19:13:30.873Z"
   },
   {
    "duration": 7,
    "start_time": "2022-02-13T19:13:43.749Z"
   },
   {
    "duration": 10,
    "start_time": "2022-02-13T19:14:35.367Z"
   },
   {
    "duration": 9,
    "start_time": "2022-02-13T19:15:00.432Z"
   },
   {
    "duration": 9,
    "start_time": "2022-02-13T19:15:05.792Z"
   },
   {
    "duration": 6,
    "start_time": "2022-02-13T19:15:35.534Z"
   },
   {
    "duration": 11,
    "start_time": "2022-02-13T19:15:51.611Z"
   },
   {
    "duration": 11,
    "start_time": "2022-02-13T19:15:52.630Z"
   },
   {
    "duration": 10,
    "start_time": "2022-02-13T19:16:00.943Z"
   },
   {
    "duration": 12,
    "start_time": "2022-02-13T19:16:02.191Z"
   },
   {
    "duration": 9,
    "start_time": "2022-02-13T19:16:06.040Z"
   },
   {
    "duration": 7,
    "start_time": "2022-02-13T19:16:12.026Z"
   },
   {
    "duration": 756,
    "start_time": "2022-02-13T19:16:56.808Z"
   },
   {
    "duration": 8,
    "start_time": "2022-02-13T19:17:12.710Z"
   },
   {
    "duration": 8,
    "start_time": "2022-02-13T19:17:39.536Z"
   },
   {
    "duration": 5,
    "start_time": "2022-02-13T19:17:49.816Z"
   },
   {
    "duration": 707,
    "start_time": "2022-02-13T19:18:47.767Z"
   },
   {
    "duration": 7,
    "start_time": "2022-02-13T19:18:50.820Z"
   },
   {
    "duration": 9,
    "start_time": "2022-02-13T19:18:52.488Z"
   },
   {
    "duration": 844,
    "start_time": "2022-02-13T19:19:04.640Z"
   },
   {
    "duration": 754,
    "start_time": "2022-02-13T19:19:12.922Z"
   },
   {
    "duration": 36,
    "start_time": "2022-02-13T19:20:04.319Z"
   },
   {
    "duration": 299,
    "start_time": "2022-02-13T19:20:19.692Z"
   },
   {
    "duration": 298,
    "start_time": "2022-02-13T19:20:39.688Z"
   },
   {
    "duration": 3,
    "start_time": "2022-02-13T19:22:07.048Z"
   },
   {
    "duration": 4,
    "start_time": "2022-02-13T19:22:09.106Z"
   },
   {
    "duration": 8,
    "start_time": "2022-02-13T19:22:10.165Z"
   },
   {
    "duration": 8,
    "start_time": "2022-02-13T19:22:23.985Z"
   },
   {
    "duration": 8,
    "start_time": "2022-02-13T19:22:25.306Z"
   },
   {
    "duration": 7,
    "start_time": "2022-02-13T19:22:26.346Z"
   },
   {
    "duration": 298,
    "start_time": "2022-02-13T19:22:54.743Z"
   },
   {
    "duration": 15,
    "start_time": "2022-02-13T19:23:02.307Z"
   },
   {
    "duration": 13,
    "start_time": "2022-02-13T19:23:21.355Z"
   },
   {
    "duration": 310,
    "start_time": "2022-02-13T19:24:04.623Z"
   },
   {
    "duration": 6,
    "start_time": "2022-02-13T19:24:08.631Z"
   },
   {
    "duration": 6,
    "start_time": "2022-02-13T19:31:43.934Z"
   },
   {
    "duration": 5,
    "start_time": "2022-02-13T19:31:54.187Z"
   },
   {
    "duration": 8,
    "start_time": "2022-02-13T19:32:21.394Z"
   },
   {
    "duration": 10,
    "start_time": "2022-02-13T19:32:23.436Z"
   },
   {
    "duration": 11,
    "start_time": "2022-02-13T19:32:25.496Z"
   },
   {
    "duration": 7,
    "start_time": "2022-02-13T19:32:35.066Z"
   },
   {
    "duration": 7,
    "start_time": "2022-02-13T19:32:36.568Z"
   },
   {
    "duration": 682,
    "start_time": "2022-02-13T19:32:45.104Z"
   },
   {
    "duration": 8,
    "start_time": "2022-02-13T19:32:47.702Z"
   },
   {
    "duration": 8,
    "start_time": "2022-02-13T19:32:48.775Z"
   },
   {
    "duration": 10,
    "start_time": "2022-02-13T19:33:41.280Z"
   },
   {
    "duration": 9,
    "start_time": "2022-02-13T19:34:01.377Z"
   },
   {
    "duration": 101,
    "start_time": "2022-02-13T19:36:17.059Z"
   },
   {
    "duration": 148,
    "start_time": "2022-02-13T19:37:13.972Z"
   },
   {
    "duration": 9,
    "start_time": "2022-02-13T19:37:57.598Z"
   },
   {
    "duration": 10,
    "start_time": "2022-02-13T19:37:58.379Z"
   },
   {
    "duration": 7,
    "start_time": "2022-02-13T19:38:15.436Z"
   },
   {
    "duration": 5,
    "start_time": "2022-02-13T19:38:50.027Z"
   },
   {
    "duration": 8,
    "start_time": "2022-02-13T19:38:55.013Z"
   },
   {
    "duration": 7,
    "start_time": "2022-02-13T19:39:09.221Z"
   },
   {
    "duration": 6,
    "start_time": "2022-02-13T19:39:19.723Z"
   },
   {
    "duration": 99,
    "start_time": "2022-02-13T19:40:03.956Z"
   },
   {
    "duration": 292,
    "start_time": "2022-02-13T19:41:12.949Z"
   },
   {
    "duration": 7,
    "start_time": "2022-02-13T19:41:54.680Z"
   },
   {
    "duration": 8,
    "start_time": "2022-02-13T19:42:05.335Z"
   },
   {
    "duration": 7,
    "start_time": "2022-02-13T19:42:21.254Z"
   },
   {
    "duration": 41,
    "start_time": "2022-02-13T19:42:36.895Z"
   },
   {
    "duration": 8,
    "start_time": "2022-02-13T19:43:17.886Z"
   },
   {
    "duration": 291,
    "start_time": "2022-02-13T19:44:25.695Z"
   },
   {
    "duration": 6,
    "start_time": "2022-02-13T19:45:02.879Z"
   },
   {
    "duration": 9,
    "start_time": "2022-02-13T19:45:03.856Z"
   },
   {
    "duration": 16,
    "start_time": "2022-02-13T19:46:20.522Z"
   },
   {
    "duration": 14,
    "start_time": "2022-02-13T19:46:21.898Z"
   },
   {
    "duration": 35,
    "start_time": "2022-02-13T19:46:35.882Z"
   },
   {
    "duration": 16,
    "start_time": "2022-02-13T19:46:52.197Z"
   },
   {
    "duration": 36,
    "start_time": "2022-02-13T19:46:53.138Z"
   },
   {
    "duration": 6,
    "start_time": "2022-02-13T19:47:08.930Z"
   },
   {
    "duration": 18,
    "start_time": "2022-02-13T19:47:09.898Z"
   },
   {
    "duration": 8,
    "start_time": "2022-02-13T19:47:34.404Z"
   },
   {
    "duration": 7,
    "start_time": "2022-02-13T19:47:36.536Z"
   },
   {
    "duration": 15,
    "start_time": "2022-02-13T19:47:53.399Z"
   },
   {
    "duration": 34,
    "start_time": "2022-02-13T19:47:54.633Z"
   },
   {
    "duration": 56,
    "start_time": "2022-02-13T19:48:09.367Z"
   },
   {
    "duration": 33,
    "start_time": "2022-02-13T19:48:10.861Z"
   },
   {
    "duration": 33,
    "start_time": "2022-02-13T19:48:12.317Z"
   },
   {
    "duration": 15,
    "start_time": "2022-02-13T19:48:27.779Z"
   },
   {
    "duration": 16,
    "start_time": "2022-02-13T19:48:29.586Z"
   },
   {
    "duration": 36,
    "start_time": "2022-02-13T19:48:30.666Z"
   },
   {
    "duration": 17,
    "start_time": "2022-02-13T19:49:04.619Z"
   },
   {
    "duration": 35,
    "start_time": "2022-02-13T19:49:05.648Z"
   },
   {
    "duration": 880,
    "start_time": "2022-02-13T19:49:11.311Z"
   },
   {
    "duration": 33,
    "start_time": "2022-02-13T19:49:12.195Z"
   },
   {
    "duration": 9,
    "start_time": "2022-02-13T19:49:12.250Z"
   },
   {
    "duration": 8,
    "start_time": "2022-02-13T19:49:12.261Z"
   },
   {
    "duration": 5,
    "start_time": "2022-02-13T19:49:12.272Z"
   },
   {
    "duration": 5,
    "start_time": "2022-02-13T19:49:12.279Z"
   },
   {
    "duration": 7,
    "start_time": "2022-02-13T19:49:12.286Z"
   },
   {
    "duration": 55,
    "start_time": "2022-02-13T19:49:12.299Z"
   },
   {
    "duration": 10,
    "start_time": "2022-02-13T19:49:12.357Z"
   },
   {
    "duration": 7,
    "start_time": "2022-02-13T19:49:12.369Z"
   },
   {
    "duration": 18,
    "start_time": "2022-02-13T19:49:12.379Z"
   },
   {
    "duration": 7,
    "start_time": "2022-02-13T19:49:12.400Z"
   },
   {
    "duration": 6,
    "start_time": "2022-02-13T19:49:12.450Z"
   },
   {
    "duration": 9,
    "start_time": "2022-02-13T19:49:12.458Z"
   },
   {
    "duration": 10,
    "start_time": "2022-02-13T19:49:12.469Z"
   },
   {
    "duration": 98,
    "start_time": "2022-02-13T19:49:12.481Z"
   },
   {
    "duration": 9202,
    "start_time": "2022-02-13T19:49:03.380Z"
   },
   {
    "duration": 9199,
    "start_time": "2022-02-13T19:49:03.384Z"
   },
   {
    "duration": 9197,
    "start_time": "2022-02-13T19:49:03.388Z"
   },
   {
    "duration": 9194,
    "start_time": "2022-02-13T19:49:03.393Z"
   },
   {
    "duration": 9192,
    "start_time": "2022-02-13T19:49:03.397Z"
   },
   {
    "duration": 9190,
    "start_time": "2022-02-13T19:49:03.401Z"
   },
   {
    "duration": 9188,
    "start_time": "2022-02-13T19:49:03.404Z"
   },
   {
    "duration": 9186,
    "start_time": "2022-02-13T19:49:03.408Z"
   },
   {
    "duration": 9184,
    "start_time": "2022-02-13T19:49:03.412Z"
   },
   {
    "duration": 9182,
    "start_time": "2022-02-13T19:49:03.416Z"
   },
   {
    "duration": 9179,
    "start_time": "2022-02-13T19:49:03.420Z"
   },
   {
    "duration": 9177,
    "start_time": "2022-02-13T19:49:03.424Z"
   },
   {
    "duration": 9176,
    "start_time": "2022-02-13T19:49:03.427Z"
   },
   {
    "duration": 9174,
    "start_time": "2022-02-13T19:49:03.431Z"
   },
   {
    "duration": 9170,
    "start_time": "2022-02-13T19:49:03.436Z"
   },
   {
    "duration": 37,
    "start_time": "2022-02-13T19:49:22.145Z"
   },
   {
    "duration": 880,
    "start_time": "2022-02-13T19:49:56.728Z"
   },
   {
    "duration": 39,
    "start_time": "2022-02-13T19:49:57.611Z"
   },
   {
    "duration": 10,
    "start_time": "2022-02-13T19:49:57.654Z"
   },
   {
    "duration": 10,
    "start_time": "2022-02-13T19:49:57.668Z"
   },
   {
    "duration": 7,
    "start_time": "2022-02-13T19:49:57.680Z"
   },
   {
    "duration": 6,
    "start_time": "2022-02-13T19:49:57.690Z"
   },
   {
    "duration": 51,
    "start_time": "2022-02-13T19:49:57.699Z"
   },
   {
    "duration": 7,
    "start_time": "2022-02-13T19:49:57.754Z"
   },
   {
    "duration": 10,
    "start_time": "2022-02-13T19:49:57.765Z"
   },
   {
    "duration": 9,
    "start_time": "2022-02-13T19:49:57.777Z"
   },
   {
    "duration": 15,
    "start_time": "2022-02-13T19:49:57.788Z"
   },
   {
    "duration": 45,
    "start_time": "2022-02-13T19:49:57.806Z"
   },
   {
    "duration": 9,
    "start_time": "2022-02-13T19:49:57.853Z"
   },
   {
    "duration": 9,
    "start_time": "2022-02-13T19:49:57.864Z"
   },
   {
    "duration": 9,
    "start_time": "2022-02-13T19:49:57.875Z"
   },
   {
    "duration": 94,
    "start_time": "2022-02-13T19:49:57.887Z"
   },
   {
    "duration": 9328,
    "start_time": "2022-02-13T19:49:48.656Z"
   },
   {
    "duration": 9324,
    "start_time": "2022-02-13T19:49:48.661Z"
   },
   {
    "duration": 9315,
    "start_time": "2022-02-13T19:49:48.672Z"
   },
   {
    "duration": 9312,
    "start_time": "2022-02-13T19:49:48.677Z"
   },
   {
    "duration": 9309,
    "start_time": "2022-02-13T19:49:48.681Z"
   },
   {
    "duration": 9306,
    "start_time": "2022-02-13T19:49:48.685Z"
   },
   {
    "duration": 9304,
    "start_time": "2022-02-13T19:49:48.689Z"
   },
   {
    "duration": 9301,
    "start_time": "2022-02-13T19:49:48.693Z"
   },
   {
    "duration": 9288,
    "start_time": "2022-02-13T19:49:48.707Z"
   },
   {
    "duration": 9284,
    "start_time": "2022-02-13T19:49:48.713Z"
   },
   {
    "duration": 9280,
    "start_time": "2022-02-13T19:49:48.718Z"
   },
   {
    "duration": 9278,
    "start_time": "2022-02-13T19:49:48.721Z"
   },
   {
    "duration": 9275,
    "start_time": "2022-02-13T19:49:48.726Z"
   },
   {
    "duration": 9269,
    "start_time": "2022-02-13T19:49:48.733Z"
   },
   {
    "duration": 9263,
    "start_time": "2022-02-13T19:49:48.740Z"
   },
   {
    "duration": 33,
    "start_time": "2022-02-13T19:50:09.918Z"
   },
   {
    "duration": 788,
    "start_time": "2022-02-13T19:50:38.469Z"
   },
   {
    "duration": 31,
    "start_time": "2022-02-13T19:50:39.260Z"
   },
   {
    "duration": 7,
    "start_time": "2022-02-13T19:50:39.294Z"
   },
   {
    "duration": 7,
    "start_time": "2022-02-13T19:50:39.304Z"
   },
   {
    "duration": 6,
    "start_time": "2022-02-13T19:50:39.349Z"
   },
   {
    "duration": 6,
    "start_time": "2022-02-13T19:50:39.358Z"
   },
   {
    "duration": 6,
    "start_time": "2022-02-13T19:50:39.367Z"
   },
   {
    "duration": 5,
    "start_time": "2022-02-13T19:50:39.378Z"
   },
   {
    "duration": 8,
    "start_time": "2022-02-13T19:50:39.387Z"
   },
   {
    "duration": 57,
    "start_time": "2022-02-13T19:50:39.397Z"
   },
   {
    "duration": 16,
    "start_time": "2022-02-13T19:50:39.456Z"
   },
   {
    "duration": 8,
    "start_time": "2022-02-13T19:50:39.475Z"
   },
   {
    "duration": 6,
    "start_time": "2022-02-13T19:50:39.486Z"
   },
   {
    "duration": 53,
    "start_time": "2022-02-13T19:50:39.495Z"
   },
   {
    "duration": 7,
    "start_time": "2022-02-13T19:50:39.551Z"
   },
   {
    "duration": 7,
    "start_time": "2022-02-13T19:50:39.561Z"
   },
   {
    "duration": 9,
    "start_time": "2022-02-13T19:50:39.570Z"
   },
   {
    "duration": 7,
    "start_time": "2022-02-13T19:50:39.581Z"
   },
   {
    "duration": 9,
    "start_time": "2022-02-13T19:50:39.590Z"
   },
   {
    "duration": 49,
    "start_time": "2022-02-13T19:50:39.601Z"
   },
   {
    "duration": 11,
    "start_time": "2022-02-13T19:50:39.652Z"
   },
   {
    "duration": 9,
    "start_time": "2022-02-13T19:50:39.666Z"
   },
   {
    "duration": 6,
    "start_time": "2022-02-13T19:50:39.679Z"
   },
   {
    "duration": 9,
    "start_time": "2022-02-13T19:50:39.688Z"
   },
   {
    "duration": 20,
    "start_time": "2022-02-13T19:50:39.700Z"
   },
   {
    "duration": 30,
    "start_time": "2022-02-13T19:50:39.722Z"
   },
   {
    "duration": 8,
    "start_time": "2022-02-13T19:50:39.755Z"
   },
   {
    "duration": 118,
    "start_time": "2022-02-13T19:50:39.765Z"
   },
   {
    "duration": 9379,
    "start_time": "2022-02-13T19:50:30.506Z"
   },
   {
    "duration": 9373,
    "start_time": "2022-02-13T19:50:30.513Z"
   },
   {
    "duration": 928,
    "start_time": "2022-02-13T19:50:56.653Z"
   },
   {
    "duration": 31,
    "start_time": "2022-02-13T19:50:57.584Z"
   },
   {
    "duration": 31,
    "start_time": "2022-02-13T19:50:57.618Z"
   },
   {
    "duration": 9,
    "start_time": "2022-02-13T19:50:57.652Z"
   },
   {
    "duration": 7,
    "start_time": "2022-02-13T19:50:57.663Z"
   },
   {
    "duration": 8,
    "start_time": "2022-02-13T19:50:57.672Z"
   },
   {
    "duration": 13,
    "start_time": "2022-02-13T19:50:57.683Z"
   },
   {
    "duration": 5,
    "start_time": "2022-02-13T19:50:57.700Z"
   },
   {
    "duration": 42,
    "start_time": "2022-02-13T19:50:57.708Z"
   },
   {
    "duration": 8,
    "start_time": "2022-02-13T19:50:57.752Z"
   },
   {
    "duration": 15,
    "start_time": "2022-02-13T19:50:57.763Z"
   },
   {
    "duration": 8,
    "start_time": "2022-02-13T19:50:57.781Z"
   },
   {
    "duration": 9,
    "start_time": "2022-02-13T19:50:57.792Z"
   },
   {
    "duration": 46,
    "start_time": "2022-02-13T19:50:57.803Z"
   },
   {
    "duration": 9,
    "start_time": "2022-02-13T19:50:57.851Z"
   },
   {
    "duration": 8,
    "start_time": "2022-02-13T19:50:57.862Z"
   },
   {
    "duration": 14,
    "start_time": "2022-02-13T19:50:57.872Z"
   },
   {
    "duration": 9,
    "start_time": "2022-02-13T19:50:57.889Z"
   },
   {
    "duration": 8,
    "start_time": "2022-02-13T19:50:57.901Z"
   },
   {
    "duration": 40,
    "start_time": "2022-02-13T19:50:57.912Z"
   },
   {
    "duration": 12,
    "start_time": "2022-02-13T19:50:57.954Z"
   },
   {
    "duration": 6,
    "start_time": "2022-02-13T19:50:57.968Z"
   },
   {
    "duration": 5,
    "start_time": "2022-02-13T19:50:57.979Z"
   },
   {
    "duration": 11,
    "start_time": "2022-02-13T19:50:57.987Z"
   },
   {
    "duration": 54,
    "start_time": "2022-02-13T19:50:58.001Z"
   },
   {
    "duration": 6,
    "start_time": "2022-02-13T19:50:58.058Z"
   },
   {
    "duration": 7,
    "start_time": "2022-02-13T19:50:58.066Z"
   },
   {
    "duration": 23,
    "start_time": "2022-02-13T19:50:58.075Z"
   },
   {
    "duration": 58,
    "start_time": "2022-02-13T19:50:58.100Z"
   },
   {
    "duration": 16,
    "start_time": "2022-02-13T19:51:17.894Z"
   },
   {
    "duration": 35,
    "start_time": "2022-02-13T19:51:22.040Z"
   },
   {
    "duration": 7,
    "start_time": "2022-02-13T19:51:35.376Z"
   },
   {
    "duration": 7,
    "start_time": "2022-02-13T19:52:33.807Z"
   },
   {
    "duration": 17,
    "start_time": "2022-02-13T19:57:04.498Z"
   },
   {
    "duration": 18,
    "start_time": "2022-02-13T19:57:05.900Z"
   },
   {
    "duration": 36,
    "start_time": "2022-02-13T19:57:06.833Z"
   },
   {
    "duration": 40,
    "start_time": "2022-02-13T19:57:39.661Z"
   },
   {
    "duration": 34,
    "start_time": "2022-02-13T19:57:41.787Z"
   },
   {
    "duration": 40,
    "start_time": "2022-02-13T19:57:44.237Z"
   },
   {
    "duration": 33,
    "start_time": "2022-02-13T19:57:45.265Z"
   },
   {
    "duration": 20,
    "start_time": "2022-02-13T20:00:50.431Z"
   },
   {
    "duration": 34,
    "start_time": "2022-02-13T20:00:51.894Z"
   },
   {
    "duration": 374,
    "start_time": "2022-02-13T20:03:54.920Z"
   },
   {
    "duration": 314,
    "start_time": "2022-02-13T20:04:45.842Z"
   },
   {
    "duration": 8,
    "start_time": "2022-02-13T20:05:58.923Z"
   },
   {
    "duration": 32,
    "start_time": "2022-02-13T20:06:00.868Z"
   },
   {
    "duration": 8,
    "start_time": "2022-02-13T20:06:02.856Z"
   },
   {
    "duration": 36,
    "start_time": "2022-02-13T20:06:03.749Z"
   },
   {
    "duration": 7,
    "start_time": "2022-02-13T20:06:06.908Z"
   },
   {
    "duration": 30,
    "start_time": "2022-02-13T20:06:07.911Z"
   },
   {
    "duration": 7,
    "start_time": "2022-02-13T20:07:40.065Z"
   },
   {
    "duration": 8,
    "start_time": "2022-02-13T20:07:41.536Z"
   },
   {
    "duration": 32,
    "start_time": "2022-02-13T20:07:42.316Z"
   },
   {
    "duration": 281,
    "start_time": "2022-02-13T20:07:57.297Z"
   },
   {
    "duration": 284,
    "start_time": "2022-02-13T20:08:06.865Z"
   },
   {
    "duration": 282,
    "start_time": "2022-02-13T20:08:08.662Z"
   },
   {
    "duration": 290,
    "start_time": "2022-02-13T20:08:29.025Z"
   },
   {
    "duration": 7,
    "start_time": "2022-02-13T20:08:51.473Z"
   },
   {
    "duration": 5,
    "start_time": "2022-02-13T20:08:53.730Z"
   },
   {
    "duration": 303,
    "start_time": "2022-02-13T20:08:55.056Z"
   },
   {
    "duration": 291,
    "start_time": "2022-02-13T20:09:02.586Z"
   },
   {
    "duration": 6,
    "start_time": "2022-02-13T20:09:03.928Z"
   },
   {
    "duration": 277,
    "start_time": "2022-02-13T20:09:46.501Z"
   },
   {
    "duration": 808,
    "start_time": "2022-02-13T20:09:51.881Z"
   },
   {
    "duration": 34,
    "start_time": "2022-02-13T20:09:52.692Z"
   },
   {
    "duration": 26,
    "start_time": "2022-02-13T20:09:52.730Z"
   },
   {
    "duration": 15,
    "start_time": "2022-02-13T20:09:52.759Z"
   },
   {
    "duration": 8,
    "start_time": "2022-02-13T20:09:52.777Z"
   },
   {
    "duration": 18,
    "start_time": "2022-02-13T20:09:52.788Z"
   },
   {
    "duration": 19,
    "start_time": "2022-02-13T20:09:52.808Z"
   },
   {
    "duration": 18,
    "start_time": "2022-02-13T20:09:52.830Z"
   },
   {
    "duration": 6,
    "start_time": "2022-02-13T20:09:52.851Z"
   },
   {
    "duration": 13,
    "start_time": "2022-02-13T20:09:52.859Z"
   },
   {
    "duration": 24,
    "start_time": "2022-02-13T20:09:52.875Z"
   },
   {
    "duration": 16,
    "start_time": "2022-02-13T20:09:52.902Z"
   },
   {
    "duration": 14,
    "start_time": "2022-02-13T20:09:52.920Z"
   },
   {
    "duration": 18,
    "start_time": "2022-02-13T20:09:52.936Z"
   },
   {
    "duration": 11,
    "start_time": "2022-02-13T20:09:52.957Z"
   },
   {
    "duration": 5,
    "start_time": "2022-02-13T20:09:52.971Z"
   },
   {
    "duration": 24,
    "start_time": "2022-02-13T20:09:52.978Z"
   },
   {
    "duration": 8,
    "start_time": "2022-02-13T20:09:53.005Z"
   },
   {
    "duration": 9,
    "start_time": "2022-02-13T20:09:53.016Z"
   },
   {
    "duration": 24,
    "start_time": "2022-02-13T20:09:53.028Z"
   },
   {
    "duration": 13,
    "start_time": "2022-02-13T20:09:53.055Z"
   },
   {
    "duration": 12,
    "start_time": "2022-02-13T20:09:53.071Z"
   },
   {
    "duration": 11,
    "start_time": "2022-02-13T20:09:53.087Z"
   },
   {
    "duration": 17,
    "start_time": "2022-02-13T20:09:53.101Z"
   },
   {
    "duration": 28,
    "start_time": "2022-02-13T20:09:53.121Z"
   },
   {
    "duration": 8,
    "start_time": "2022-02-13T20:09:53.152Z"
   },
   {
    "duration": 23,
    "start_time": "2022-02-13T20:09:53.162Z"
   },
   {
    "duration": 23,
    "start_time": "2022-02-13T20:09:53.187Z"
   },
   {
    "duration": 18,
    "start_time": "2022-02-13T20:09:53.212Z"
   },
   {
    "duration": 19,
    "start_time": "2022-02-13T20:09:53.232Z"
   },
   {
    "duration": 37,
    "start_time": "2022-02-13T20:09:53.254Z"
   },
   {
    "duration": 8,
    "start_time": "2022-02-13T20:10:04.508Z"
   },
   {
    "duration": 33,
    "start_time": "2022-02-13T20:10:05.334Z"
   },
   {
    "duration": 7,
    "start_time": "2022-02-13T20:10:06.804Z"
   },
   {
    "duration": 31,
    "start_time": "2022-02-13T20:10:07.642Z"
   },
   {
    "duration": 799,
    "start_time": "2022-02-13T20:10:20.890Z"
   },
   {
    "duration": 31,
    "start_time": "2022-02-13T20:10:21.692Z"
   },
   {
    "duration": 10,
    "start_time": "2022-02-13T20:10:21.751Z"
   },
   {
    "duration": 9,
    "start_time": "2022-02-13T20:10:21.764Z"
   },
   {
    "duration": 6,
    "start_time": "2022-02-13T20:10:21.776Z"
   },
   {
    "duration": 7,
    "start_time": "2022-02-13T20:10:21.785Z"
   },
   {
    "duration": 52,
    "start_time": "2022-02-13T20:10:21.796Z"
   },
   {
    "duration": 5,
    "start_time": "2022-02-13T20:10:21.852Z"
   },
   {
    "duration": 8,
    "start_time": "2022-02-13T20:10:21.859Z"
   },
   {
    "duration": 10,
    "start_time": "2022-02-13T20:10:21.870Z"
   },
   {
    "duration": 20,
    "start_time": "2022-02-13T20:10:21.883Z"
   },
   {
    "duration": 42,
    "start_time": "2022-02-13T20:10:21.906Z"
   },
   {
    "duration": 4,
    "start_time": "2022-02-13T20:10:21.951Z"
   },
   {
    "duration": 6,
    "start_time": "2022-02-13T20:10:21.957Z"
   },
   {
    "duration": 14,
    "start_time": "2022-02-13T20:10:21.966Z"
   },
   {
    "duration": 13,
    "start_time": "2022-02-13T20:10:21.982Z"
   },
   {
    "duration": 11,
    "start_time": "2022-02-13T20:10:21.998Z"
   },
   {
    "duration": 13,
    "start_time": "2022-02-13T20:10:22.011Z"
   },
   {
    "duration": 8,
    "start_time": "2022-02-13T20:10:22.050Z"
   },
   {
    "duration": 8,
    "start_time": "2022-02-13T20:10:22.061Z"
   },
   {
    "duration": 13,
    "start_time": "2022-02-13T20:10:22.071Z"
   },
   {
    "duration": 10,
    "start_time": "2022-02-13T20:10:22.088Z"
   },
   {
    "duration": 49,
    "start_time": "2022-02-13T20:10:22.101Z"
   },
   {
    "duration": 12,
    "start_time": "2022-02-13T20:10:22.153Z"
   },
   {
    "duration": 11,
    "start_time": "2022-02-13T20:10:22.168Z"
   },
   {
    "duration": 7,
    "start_time": "2022-02-13T20:10:22.183Z"
   },
   {
    "duration": 12,
    "start_time": "2022-02-13T20:10:22.192Z"
   },
   {
    "duration": 11,
    "start_time": "2022-02-13T20:10:22.207Z"
   },
   {
    "duration": 7,
    "start_time": "2022-02-13T20:10:22.250Z"
   },
   {
    "duration": 8,
    "start_time": "2022-02-13T20:10:22.260Z"
   },
   {
    "duration": 40,
    "start_time": "2022-02-13T20:10:22.270Z"
   },
   {
    "duration": 398,
    "start_time": "2022-02-13T20:10:36.970Z"
   },
   {
    "duration": 545,
    "start_time": "2022-02-13T20:10:45.146Z"
   },
   {
    "duration": 33,
    "start_time": "2022-02-13T20:10:47.719Z"
   },
   {
    "duration": 289,
    "start_time": "2022-02-13T20:10:49.304Z"
   },
   {
    "duration": 809,
    "start_time": "2022-02-13T20:10:57.638Z"
   },
   {
    "duration": 30,
    "start_time": "2022-02-13T20:10:58.450Z"
   },
   {
    "duration": 10,
    "start_time": "2022-02-13T20:10:58.483Z"
   },
   {
    "duration": 10,
    "start_time": "2022-02-13T20:10:58.496Z"
   },
   {
    "duration": 7,
    "start_time": "2022-02-13T20:10:58.508Z"
   },
   {
    "duration": 36,
    "start_time": "2022-02-13T20:10:58.517Z"
   },
   {
    "duration": 6,
    "start_time": "2022-02-13T20:10:58.555Z"
   },
   {
    "duration": 5,
    "start_time": "2022-02-13T20:10:58.565Z"
   },
   {
    "duration": 11,
    "start_time": "2022-02-13T20:10:58.573Z"
   },
   {
    "duration": 6,
    "start_time": "2022-02-13T20:10:58.587Z"
   },
   {
    "duration": 16,
    "start_time": "2022-02-13T20:10:58.596Z"
   },
   {
    "duration": 8,
    "start_time": "2022-02-13T20:10:58.649Z"
   },
   {
    "duration": 10,
    "start_time": "2022-02-13T20:10:58.660Z"
   },
   {
    "duration": 6,
    "start_time": "2022-02-13T20:10:58.673Z"
   },
   {
    "duration": 11,
    "start_time": "2022-02-13T20:10:58.682Z"
   },
   {
    "duration": 5,
    "start_time": "2022-02-13T20:10:58.696Z"
   },
   {
    "duration": 46,
    "start_time": "2022-02-13T20:10:58.704Z"
   },
   {
    "duration": 9,
    "start_time": "2022-02-13T20:10:58.753Z"
   },
   {
    "duration": 12,
    "start_time": "2022-02-13T20:10:58.765Z"
   },
   {
    "duration": 13,
    "start_time": "2022-02-13T20:10:58.780Z"
   },
   {
    "duration": 13,
    "start_time": "2022-02-13T20:10:58.795Z"
   },
   {
    "duration": 39,
    "start_time": "2022-02-13T20:10:58.810Z"
   },
   {
    "duration": 6,
    "start_time": "2022-02-13T20:10:58.854Z"
   },
   {
    "duration": 12,
    "start_time": "2022-02-13T20:10:58.862Z"
   },
   {
    "duration": 10,
    "start_time": "2022-02-13T20:10:58.877Z"
   },
   {
    "duration": 5,
    "start_time": "2022-02-13T20:10:58.889Z"
   },
   {
    "duration": 6,
    "start_time": "2022-02-13T20:10:58.896Z"
   },
   {
    "duration": 46,
    "start_time": "2022-02-13T20:10:58.904Z"
   },
   {
    "duration": 21,
    "start_time": "2022-02-13T20:10:58.953Z"
   },
   {
    "duration": 21,
    "start_time": "2022-02-13T20:10:58.977Z"
   },
   {
    "duration": 41,
    "start_time": "2022-02-13T20:10:59.000Z"
   },
   {
    "duration": 6,
    "start_time": "2022-02-13T20:11:41.093Z"
   },
   {
    "duration": 7,
    "start_time": "2022-02-13T20:11:45.840Z"
   },
   {
    "duration": 15,
    "start_time": "2022-02-13T20:11:55.828Z"
   },
   {
    "duration": 35,
    "start_time": "2022-02-13T20:12:35.852Z"
   },
   {
    "duration": 20,
    "start_time": "2022-02-13T20:13:27.066Z"
   },
   {
    "duration": 22,
    "start_time": "2022-02-13T20:13:37.070Z"
   },
   {
    "duration": 9,
    "start_time": "2022-02-13T20:15:26.853Z"
   },
   {
    "duration": 372,
    "start_time": "2022-02-13T20:16:06.285Z"
   },
   {
    "duration": 9,
    "start_time": "2022-02-13T20:16:10.552Z"
   },
   {
    "duration": 8,
    "start_time": "2022-02-13T20:18:33.575Z"
   },
   {
    "duration": 9,
    "start_time": "2022-02-13T20:18:38.071Z"
   },
   {
    "duration": 32,
    "start_time": "2022-02-13T20:19:39.676Z"
   },
   {
    "duration": 33,
    "start_time": "2022-02-13T20:19:55.506Z"
   },
   {
    "duration": 33,
    "start_time": "2022-02-13T20:20:06.298Z"
   },
   {
    "duration": 34,
    "start_time": "2022-02-13T20:20:07.414Z"
   },
   {
    "duration": 32,
    "start_time": "2022-02-13T20:20:18.457Z"
   },
   {
    "duration": 285,
    "start_time": "2022-02-13T20:21:05.065Z"
   },
   {
    "duration": 36,
    "start_time": "2022-02-13T20:21:11.322Z"
   },
   {
    "duration": 9,
    "start_time": "2022-02-13T20:21:16.938Z"
   },
   {
    "duration": 6,
    "start_time": "2022-02-13T20:21:25.536Z"
   },
   {
    "duration": 286,
    "start_time": "2022-02-13T20:21:40.585Z"
   },
   {
    "duration": 291,
    "start_time": "2022-02-13T20:22:05.009Z"
   },
   {
    "duration": 9,
    "start_time": "2022-02-13T20:22:14.801Z"
   },
   {
    "duration": 9,
    "start_time": "2022-02-13T20:23:45.853Z"
   },
   {
    "duration": 11,
    "start_time": "2022-02-13T20:24:06.640Z"
   },
   {
    "duration": 11,
    "start_time": "2022-02-13T20:24:08.901Z"
   },
   {
    "duration": 10,
    "start_time": "2022-02-13T20:24:12.780Z"
   },
   {
    "duration": 6,
    "start_time": "2022-02-13T20:24:29.011Z"
   },
   {
    "duration": 25,
    "start_time": "2022-02-13T20:24:34.010Z"
   },
   {
    "duration": 25,
    "start_time": "2022-02-13T20:24:55.627Z"
   },
   {
    "duration": 281,
    "start_time": "2022-02-13T20:25:41.322Z"
   },
   {
    "duration": 287,
    "start_time": "2022-02-13T20:25:45.387Z"
   },
   {
    "duration": 90,
    "start_time": "2022-02-13T20:27:28.971Z"
   },
   {
    "duration": 132,
    "start_time": "2022-02-13T20:27:31.509Z"
   },
   {
    "duration": 7,
    "start_time": "2022-02-13T20:27:36.703Z"
   },
   {
    "duration": 40,
    "start_time": "2022-02-13T20:27:47.858Z"
   },
   {
    "duration": 53,
    "start_time": "2022-02-13T20:28:22.931Z"
   },
   {
    "duration": 49,
    "start_time": "2022-02-13T20:29:00.724Z"
   },
   {
    "duration": 39,
    "start_time": "2022-02-13T20:29:49.597Z"
   },
   {
    "duration": 40,
    "start_time": "2022-02-13T20:29:52.366Z"
   },
   {
    "duration": 276,
    "start_time": "2022-02-13T20:29:54.644Z"
   },
   {
    "duration": 291,
    "start_time": "2022-02-13T20:30:01.853Z"
   },
   {
    "duration": 39,
    "start_time": "2022-02-13T20:30:14.024Z"
   },
   {
    "duration": 6,
    "start_time": "2022-02-13T20:31:33.494Z"
   },
   {
    "duration": 271,
    "start_time": "2022-02-13T20:32:57.473Z"
   },
   {
    "duration": 283,
    "start_time": "2022-02-13T20:33:01.393Z"
   },
   {
    "duration": 11,
    "start_time": "2022-02-13T20:33:20.016Z"
   },
   {
    "duration": 10,
    "start_time": "2022-02-13T20:33:44.239Z"
   },
   {
    "duration": 13,
    "start_time": "2022-02-13T20:33:56.438Z"
   },
   {
    "duration": 35,
    "start_time": "2022-02-13T20:34:55.892Z"
   },
   {
    "duration": 10,
    "start_time": "2022-02-13T20:36:25.248Z"
   },
   {
    "duration": 11,
    "start_time": "2022-02-13T20:36:46.113Z"
   },
   {
    "duration": 10,
    "start_time": "2022-02-13T20:37:19.061Z"
   },
   {
    "duration": 8,
    "start_time": "2022-02-13T20:37:36.852Z"
   },
   {
    "duration": 9,
    "start_time": "2022-02-13T20:37:50.615Z"
   },
   {
    "duration": 12,
    "start_time": "2022-02-13T20:38:54.979Z"
   },
   {
    "duration": 9,
    "start_time": "2022-02-13T20:39:07.986Z"
   },
   {
    "duration": 12,
    "start_time": "2022-02-13T20:39:22.092Z"
   },
   {
    "duration": 12,
    "start_time": "2022-02-13T20:39:41.645Z"
   },
   {
    "duration": 21,
    "start_time": "2022-02-13T21:04:17.320Z"
   },
   {
    "duration": 339,
    "start_time": "2022-02-14T06:42:35.583Z"
   },
   {
    "duration": 858,
    "start_time": "2022-02-14T06:42:50.103Z"
   },
   {
    "duration": 32,
    "start_time": "2022-02-14T06:42:50.964Z"
   },
   {
    "duration": 30,
    "start_time": "2022-02-14T06:42:50.999Z"
   },
   {
    "duration": 10,
    "start_time": "2022-02-14T06:42:51.032Z"
   },
   {
    "duration": 5,
    "start_time": "2022-02-14T06:42:51.044Z"
   },
   {
    "duration": 5,
    "start_time": "2022-02-14T06:42:51.052Z"
   },
   {
    "duration": 5,
    "start_time": "2022-02-14T06:42:51.060Z"
   },
   {
    "duration": 59,
    "start_time": "2022-02-14T06:42:51.067Z"
   },
   {
    "duration": 7,
    "start_time": "2022-02-14T06:42:51.130Z"
   },
   {
    "duration": 7,
    "start_time": "2022-02-14T06:42:51.141Z"
   },
   {
    "duration": 73,
    "start_time": "2022-02-14T06:42:51.150Z"
   },
   {
    "duration": 8,
    "start_time": "2022-02-14T06:42:51.226Z"
   },
   {
    "duration": 5,
    "start_time": "2022-02-14T06:42:51.236Z"
   },
   {
    "duration": 7,
    "start_time": "2022-02-14T06:42:51.244Z"
   },
   {
    "duration": 9,
    "start_time": "2022-02-14T06:42:51.253Z"
   },
   {
    "duration": 58,
    "start_time": "2022-02-14T06:42:51.265Z"
   },
   {
    "duration": 10,
    "start_time": "2022-02-14T06:42:51.327Z"
   },
   {
    "duration": 7,
    "start_time": "2022-02-14T06:42:51.340Z"
   },
   {
    "duration": 6,
    "start_time": "2022-02-14T06:42:51.351Z"
   },
   {
    "duration": 8,
    "start_time": "2022-02-14T06:42:51.360Z"
   },
   {
    "duration": 12,
    "start_time": "2022-02-14T06:42:51.425Z"
   },
   {
    "duration": 7,
    "start_time": "2022-02-14T06:42:51.440Z"
   },
   {
    "duration": 6,
    "start_time": "2022-02-14T06:42:51.450Z"
   },
   {
    "duration": 10,
    "start_time": "2022-02-14T06:42:51.459Z"
   },
   {
    "duration": 6,
    "start_time": "2022-02-14T06:42:51.471Z"
   },
   {
    "duration": 53,
    "start_time": "2022-02-14T06:42:51.479Z"
   },
   {
    "duration": 41,
    "start_time": "2022-02-14T06:42:51.538Z"
   },
   {
    "duration": 12,
    "start_time": "2022-02-14T06:42:51.582Z"
   },
   {
    "duration": 101,
    "start_time": "2022-02-14T06:42:51.624Z"
   },
   {
    "duration": -590,
    "start_time": "2022-02-14T06:42:52.317Z"
   },
   {
    "duration": -599,
    "start_time": "2022-02-14T06:42:52.328Z"
   },
   {
    "duration": -606,
    "start_time": "2022-02-14T06:42:52.337Z"
   },
   {
    "duration": -613,
    "start_time": "2022-02-14T06:42:52.346Z"
   },
   {
    "duration": 15,
    "start_time": "2022-02-14T06:43:23.798Z"
   },
   {
    "duration": 96,
    "start_time": "2022-02-14T06:49:33.738Z"
   },
   {
    "duration": 5,
    "start_time": "2022-02-14T06:51:07.382Z"
   },
   {
    "duration": 17,
    "start_time": "2022-02-14T06:51:34.017Z"
   },
   {
    "duration": 24,
    "start_time": "2022-02-14T06:57:38.584Z"
   },
   {
    "duration": 221,
    "start_time": "2022-02-14T19:02:31.673Z"
   },
   {
    "duration": 654,
    "start_time": "2022-02-14T19:02:39.375Z"
   },
   {
    "duration": 28,
    "start_time": "2022-02-14T19:02:40.031Z"
   },
   {
    "duration": 6,
    "start_time": "2022-02-14T19:02:40.063Z"
   },
   {
    "duration": 7,
    "start_time": "2022-02-14T19:02:40.070Z"
   },
   {
    "duration": 4,
    "start_time": "2022-02-14T19:02:40.078Z"
   },
   {
    "duration": 6,
    "start_time": "2022-02-14T19:02:40.084Z"
   },
   {
    "duration": 6,
    "start_time": "2022-02-14T19:02:40.092Z"
   },
   {
    "duration": 4,
    "start_time": "2022-02-14T19:02:40.100Z"
   },
   {
    "duration": 8,
    "start_time": "2022-02-14T19:02:40.105Z"
   },
   {
    "duration": 46,
    "start_time": "2022-02-14T19:02:40.114Z"
   },
   {
    "duration": 13,
    "start_time": "2022-02-14T19:02:40.162Z"
   },
   {
    "duration": 6,
    "start_time": "2022-02-14T19:02:40.177Z"
   },
   {
    "duration": 4,
    "start_time": "2022-02-14T19:02:40.185Z"
   },
   {
    "duration": 6,
    "start_time": "2022-02-14T19:02:40.191Z"
   },
   {
    "duration": 7,
    "start_time": "2022-02-14T19:02:40.199Z"
   },
   {
    "duration": 4,
    "start_time": "2022-02-14T19:02:40.207Z"
   },
   {
    "duration": 48,
    "start_time": "2022-02-14T19:02:40.213Z"
   },
   {
    "duration": 6,
    "start_time": "2022-02-14T19:02:40.263Z"
   },
   {
    "duration": 10,
    "start_time": "2022-02-14T19:02:40.271Z"
   },
   {
    "duration": 7,
    "start_time": "2022-02-14T19:02:40.282Z"
   },
   {
    "duration": 9,
    "start_time": "2022-02-14T19:02:40.291Z"
   },
   {
    "duration": 4,
    "start_time": "2022-02-14T19:02:40.303Z"
   },
   {
    "duration": 11,
    "start_time": "2022-02-14T19:02:40.309Z"
   },
   {
    "duration": 40,
    "start_time": "2022-02-14T19:02:40.321Z"
   },
   {
    "duration": 4,
    "start_time": "2022-02-14T19:02:40.362Z"
   },
   {
    "duration": 7,
    "start_time": "2022-02-14T19:02:40.368Z"
   },
   {
    "duration": 21,
    "start_time": "2022-02-14T19:02:40.377Z"
   },
   {
    "duration": 6,
    "start_time": "2022-02-14T19:02:40.400Z"
   },
   {
    "duration": 59,
    "start_time": "2022-02-14T19:02:40.408Z"
   },
   {
    "duration": -2966,
    "start_time": "2022-02-14T19:02:43.435Z"
   },
   {
    "duration": -2969,
    "start_time": "2022-02-14T19:02:43.440Z"
   },
   {
    "duration": -2973,
    "start_time": "2022-02-14T19:02:43.445Z"
   },
   {
    "duration": -2977,
    "start_time": "2022-02-14T19:02:43.450Z"
   },
   {
    "duration": -2982,
    "start_time": "2022-02-14T19:02:43.456Z"
   },
   {
    "duration": -2987,
    "start_time": "2022-02-14T19:02:43.462Z"
   },
   {
    "duration": -2991,
    "start_time": "2022-02-14T19:02:43.467Z"
   },
   {
    "duration": 6,
    "start_time": "2022-02-14T19:02:52.741Z"
   },
   {
    "duration": 236,
    "start_time": "2022-02-14T19:03:26.023Z"
   },
   {
    "duration": 13,
    "start_time": "2022-02-14T19:03:36.966Z"
   },
   {
    "duration": 9,
    "start_time": "2022-02-14T19:03:48.728Z"
   },
   {
    "duration": 6,
    "start_time": "2022-02-14T19:04:56.399Z"
   },
   {
    "duration": 8,
    "start_time": "2022-02-14T19:05:32.370Z"
   },
   {
    "duration": 7,
    "start_time": "2022-02-14T19:05:34.438Z"
   },
   {
    "duration": 190,
    "start_time": "2022-02-14T19:06:04.077Z"
   },
   {
    "duration": 11,
    "start_time": "2022-02-14T19:06:20.387Z"
   },
   {
    "duration": 6,
    "start_time": "2022-02-14T19:06:21.735Z"
   },
   {
    "duration": 5,
    "start_time": "2022-02-14T19:06:22.476Z"
   },
   {
    "duration": 7,
    "start_time": "2022-02-14T19:06:23.253Z"
   },
   {
    "duration": 8,
    "start_time": "2022-02-14T19:06:26.887Z"
   },
   {
    "duration": 7,
    "start_time": "2022-02-14T19:06:28.964Z"
   },
   {
    "duration": 576,
    "start_time": "2022-02-14T19:06:53.819Z"
   },
   {
    "duration": 19,
    "start_time": "2022-02-14T19:06:54.397Z"
   },
   {
    "duration": 6,
    "start_time": "2022-02-14T19:06:54.418Z"
   },
   {
    "duration": 6,
    "start_time": "2022-02-14T19:06:54.425Z"
   },
   {
    "duration": 28,
    "start_time": "2022-02-14T19:06:54.433Z"
   },
   {
    "duration": 10,
    "start_time": "2022-02-14T19:06:54.462Z"
   },
   {
    "duration": 16,
    "start_time": "2022-02-14T19:06:54.473Z"
   },
   {
    "duration": 4,
    "start_time": "2022-02-14T19:06:54.492Z"
   },
   {
    "duration": 7,
    "start_time": "2022-02-14T19:06:54.498Z"
   },
   {
    "duration": 6,
    "start_time": "2022-02-14T19:06:54.507Z"
   },
   {
    "duration": 14,
    "start_time": "2022-02-14T19:06:54.515Z"
   },
   {
    "duration": 29,
    "start_time": "2022-02-14T19:06:54.531Z"
   },
   {
    "duration": 5,
    "start_time": "2022-02-14T19:06:54.562Z"
   },
   {
    "duration": 4,
    "start_time": "2022-02-14T19:06:54.569Z"
   },
   {
    "duration": 9,
    "start_time": "2022-02-14T19:06:54.574Z"
   },
   {
    "duration": 3,
    "start_time": "2022-02-14T19:06:54.585Z"
   },
   {
    "duration": 8,
    "start_time": "2022-02-14T19:06:54.590Z"
   },
   {
    "duration": 6,
    "start_time": "2022-02-14T19:06:54.599Z"
   },
   {
    "duration": 7,
    "start_time": "2022-02-14T19:06:54.607Z"
   },
   {
    "duration": 64,
    "start_time": "2022-02-14T19:06:54.615Z"
   },
   {
    "duration": 14,
    "start_time": "2022-02-14T19:06:54.681Z"
   },
   {
    "duration": 4,
    "start_time": "2022-02-14T19:06:54.697Z"
   },
   {
    "duration": 26,
    "start_time": "2022-02-14T19:06:54.704Z"
   },
   {
    "duration": 27,
    "start_time": "2022-02-14T19:06:54.732Z"
   },
   {
    "duration": 31,
    "start_time": "2022-02-14T19:06:54.760Z"
   },
   {
    "duration": 22,
    "start_time": "2022-02-14T19:06:54.793Z"
   },
   {
    "duration": 37,
    "start_time": "2022-02-14T19:06:54.818Z"
   },
   {
    "duration": 6,
    "start_time": "2022-02-14T19:06:54.857Z"
   },
   {
    "duration": 7,
    "start_time": "2022-02-14T19:06:54.864Z"
   },
   {
    "duration": 18,
    "start_time": "2022-02-14T19:06:54.872Z"
   },
   {
    "duration": 31,
    "start_time": "2022-02-14T19:06:54.892Z"
   },
   {
    "duration": 12,
    "start_time": "2022-02-14T19:06:54.925Z"
   },
   {
    "duration": 17,
    "start_time": "2022-02-14T19:06:54.939Z"
   },
   {
    "duration": 28,
    "start_time": "2022-02-14T19:06:54.958Z"
   },
   {
    "duration": 37,
    "start_time": "2022-02-14T19:06:54.988Z"
   },
   {
    "duration": 5,
    "start_time": "2022-02-14T19:06:55.027Z"
   },
   {
    "duration": 15,
    "start_time": "2022-02-14T19:06:55.033Z"
   },
   {
    "duration": 22,
    "start_time": "2022-02-14T19:06:55.050Z"
   },
   {
    "duration": 6,
    "start_time": "2022-02-14T19:07:04.885Z"
   },
   {
    "duration": 5,
    "start_time": "2022-02-14T19:07:05.693Z"
   },
   {
    "duration": 11,
    "start_time": "2022-02-14T19:07:08.082Z"
   },
   {
    "duration": 8,
    "start_time": "2022-02-14T19:07:11.402Z"
   },
   {
    "duration": 8,
    "start_time": "2022-02-14T19:07:14.882Z"
   },
   {
    "duration": 7,
    "start_time": "2022-02-14T19:12:00.880Z"
   },
   {
    "duration": 7,
    "start_time": "2022-02-14T19:12:15.336Z"
   },
   {
    "duration": 6,
    "start_time": "2022-02-14T19:12:26.526Z"
   },
   {
    "duration": 253,
    "start_time": "2022-02-14T19:12:30.224Z"
   },
   {
    "duration": 7,
    "start_time": "2022-02-14T19:12:32.976Z"
   },
   {
    "duration": 8,
    "start_time": "2022-02-14T19:13:17.239Z"
   },
   {
    "duration": 7,
    "start_time": "2022-02-14T19:13:41.199Z"
   },
   {
    "duration": 62,
    "start_time": "2022-02-14T19:15:51.880Z"
   },
   {
    "duration": 4505,
    "start_time": "2022-02-14T19:15:55.424Z"
   },
   {
    "duration": 4356,
    "start_time": "2022-02-14T19:16:15.713Z"
   },
   {
    "duration": 12,
    "start_time": "2022-02-14T19:17:52.794Z"
   },
   {
    "duration": 177,
    "start_time": "2022-02-14T19:19:17.418Z"
   },
   {
    "duration": 57,
    "start_time": "2022-02-14T19:20:12.117Z"
   },
   {
    "duration": 61,
    "start_time": "2022-02-14T19:20:16.921Z"
   },
   {
    "duration": 56,
    "start_time": "2022-02-14T19:20:19.859Z"
   },
   {
    "duration": 66,
    "start_time": "2022-02-14T19:22:29.373Z"
   },
   {
    "duration": 251,
    "start_time": "2022-02-14T19:22:34.588Z"
   },
   {
    "duration": 12,
    "start_time": "2022-02-14T19:22:53.084Z"
   },
   {
    "duration": 182,
    "start_time": "2022-02-14T19:25:25.455Z"
   },
   {
    "duration": 12,
    "start_time": "2022-02-14T19:25:31.564Z"
   },
   {
    "duration": 185,
    "start_time": "2022-02-14T19:27:13.617Z"
   },
   {
    "duration": 189,
    "start_time": "2022-02-14T19:27:55.058Z"
   },
   {
    "duration": 230,
    "start_time": "2022-02-14T19:27:59.584Z"
   },
   {
    "duration": 23,
    "start_time": "2022-02-14T19:28:33.241Z"
   },
   {
    "duration": 15,
    "start_time": "2022-02-14T19:28:49.477Z"
   },
   {
    "duration": 6,
    "start_time": "2022-02-14T19:28:56.744Z"
   },
   {
    "duration": 9,
    "start_time": "2022-02-14T19:29:04.377Z"
   },
   {
    "duration": 19,
    "start_time": "2022-02-14T19:29:11.835Z"
   },
   {
    "duration": 9,
    "start_time": "2022-02-14T19:29:36.999Z"
   },
   {
    "duration": 180,
    "start_time": "2022-02-14T19:29:55.529Z"
   },
   {
    "duration": 230,
    "start_time": "2022-02-14T19:30:01.819Z"
   },
   {
    "duration": 7,
    "start_time": "2022-02-14T19:31:23.372Z"
   },
   {
    "duration": 178,
    "start_time": "2022-02-14T19:31:31.146Z"
   },
   {
    "duration": 7,
    "start_time": "2022-02-14T19:31:37.161Z"
   },
   {
    "duration": 7,
    "start_time": "2022-02-14T19:36:52.583Z"
   },
   {
    "duration": 7,
    "start_time": "2022-02-14T19:36:56.626Z"
   },
   {
    "duration": 9,
    "start_time": "2022-02-14T19:37:07.790Z"
   },
   {
    "duration": 9,
    "start_time": "2022-02-14T19:37:50.148Z"
   },
   {
    "duration": 49,
    "start_time": "2022-02-14T19:38:04.861Z"
   },
   {
    "duration": 13,
    "start_time": "2022-02-14T19:38:04.912Z"
   },
   {
    "duration": 9,
    "start_time": "2022-02-14T19:38:04.926Z"
   },
   {
    "duration": 5,
    "start_time": "2022-02-14T19:38:04.936Z"
   },
   {
    "duration": 3,
    "start_time": "2022-02-14T19:38:04.959Z"
   },
   {
    "duration": 5,
    "start_time": "2022-02-14T19:38:04.964Z"
   },
   {
    "duration": 6,
    "start_time": "2022-02-14T19:38:04.971Z"
   },
   {
    "duration": 4,
    "start_time": "2022-02-14T19:38:04.979Z"
   },
   {
    "duration": 9,
    "start_time": "2022-02-14T19:38:04.984Z"
   },
   {
    "duration": 6,
    "start_time": "2022-02-14T19:38:04.994Z"
   },
   {
    "duration": 12,
    "start_time": "2022-02-14T19:38:05.001Z"
   },
   {
    "duration": 5,
    "start_time": "2022-02-14T19:38:05.015Z"
   },
   {
    "duration": 3,
    "start_time": "2022-02-14T19:38:05.060Z"
   },
   {
    "duration": 11,
    "start_time": "2022-02-14T19:38:05.065Z"
   },
   {
    "duration": 10,
    "start_time": "2022-02-14T19:38:05.078Z"
   },
   {
    "duration": 5,
    "start_time": "2022-02-14T19:38:05.090Z"
   },
   {
    "duration": 7,
    "start_time": "2022-02-14T19:38:05.097Z"
   },
   {
    "duration": 7,
    "start_time": "2022-02-14T19:38:05.105Z"
   },
   {
    "duration": 6,
    "start_time": "2022-02-14T19:38:05.114Z"
   },
   {
    "duration": 6,
    "start_time": "2022-02-14T19:38:05.122Z"
   },
   {
    "duration": 34,
    "start_time": "2022-02-14T19:38:05.130Z"
   },
   {
    "duration": 4,
    "start_time": "2022-02-14T19:38:05.167Z"
   },
   {
    "duration": 9,
    "start_time": "2022-02-14T19:38:05.173Z"
   },
   {
    "duration": 11,
    "start_time": "2022-02-14T19:38:05.184Z"
   },
   {
    "duration": 3,
    "start_time": "2022-02-14T19:38:05.196Z"
   },
   {
    "duration": 8,
    "start_time": "2022-02-14T19:38:05.201Z"
   },
   {
    "duration": 25,
    "start_time": "2022-02-14T19:38:05.211Z"
   },
   {
    "duration": 80,
    "start_time": "2022-02-14T19:38:05.238Z"
   },
   {
    "duration": -1879,
    "start_time": "2022-02-14T19:38:07.199Z"
   },
   {
    "duration": -1884,
    "start_time": "2022-02-14T19:38:07.205Z"
   },
   {
    "duration": -1889,
    "start_time": "2022-02-14T19:38:07.211Z"
   },
   {
    "duration": -1894,
    "start_time": "2022-02-14T19:38:07.217Z"
   },
   {
    "duration": 8,
    "start_time": "2022-02-14T19:38:16.272Z"
   },
   {
    "duration": 12,
    "start_time": "2022-02-14T19:38:18.076Z"
   },
   {
    "duration": 7,
    "start_time": "2022-02-14T19:38:26.988Z"
   },
   {
    "duration": 7,
    "start_time": "2022-02-14T19:38:27.910Z"
   },
   {
    "duration": 1180,
    "start_time": "2022-02-14T19:38:59.026Z"
   },
   {
    "duration": 5,
    "start_time": "2022-02-14T19:39:05.062Z"
   },
   {
    "duration": 9,
    "start_time": "2022-02-14T19:39:51.528Z"
   },
   {
    "duration": 7,
    "start_time": "2022-02-14T19:39:52.592Z"
   },
   {
    "duration": 5,
    "start_time": "2022-02-14T19:39:53.616Z"
   },
   {
    "duration": 11,
    "start_time": "2022-02-14T19:40:14.268Z"
   },
   {
    "duration": 8,
    "start_time": "2022-02-14T19:40:39.880Z"
   },
   {
    "duration": 7,
    "start_time": "2022-02-14T19:41:10.265Z"
   },
   {
    "duration": 8,
    "start_time": "2022-02-14T19:41:28.055Z"
   },
   {
    "duration": 7,
    "start_time": "2022-02-14T19:41:41.516Z"
   },
   {
    "duration": 7,
    "start_time": "2022-02-14T19:41:45.330Z"
   },
   {
    "duration": 5,
    "start_time": "2022-02-14T19:42:01.521Z"
   },
   {
    "duration": 4,
    "start_time": "2022-02-14T19:42:05.665Z"
   },
   {
    "duration": 4,
    "start_time": "2022-02-14T19:50:11.855Z"
   },
   {
    "duration": 11,
    "start_time": "2022-02-14T19:50:12.646Z"
   },
   {
    "duration": 4,
    "start_time": "2022-02-14T19:50:37.853Z"
   },
   {
    "duration": 222,
    "start_time": "2022-02-14T19:51:42.751Z"
   },
   {
    "duration": 169,
    "start_time": "2022-02-14T19:52:06.988Z"
   },
   {
    "duration": 5,
    "start_time": "2022-02-14T19:52:13.288Z"
   },
   {
    "duration": 4,
    "start_time": "2022-02-14T19:52:25.328Z"
   },
   {
    "duration": 31,
    "start_time": "2022-02-14T19:54:45.930Z"
   },
   {
    "duration": 26,
    "start_time": "2022-02-14T19:56:31.035Z"
   },
   {
    "duration": 16,
    "start_time": "2022-02-14T19:56:56.615Z"
   },
   {
    "duration": 8,
    "start_time": "2022-02-14T19:59:08.467Z"
   },
   {
    "duration": 175,
    "start_time": "2022-02-14T20:00:10.663Z"
   },
   {
    "duration": 13,
    "start_time": "2022-02-14T20:00:14.899Z"
   },
   {
    "duration": 12,
    "start_time": "2022-02-14T20:00:28.377Z"
   },
   {
    "duration": 12,
    "start_time": "2022-02-14T20:00:40.077Z"
   },
   {
    "duration": 12,
    "start_time": "2022-02-14T20:00:47.260Z"
   },
   {
    "duration": 31,
    "start_time": "2022-02-14T20:03:30.941Z"
   },
   {
    "duration": 7,
    "start_time": "2022-02-14T20:04:37.528Z"
   },
   {
    "duration": 16,
    "start_time": "2022-02-14T20:11:17.705Z"
   },
   {
    "duration": 21,
    "start_time": "2022-02-14T20:12:23.482Z"
   },
   {
    "duration": 30,
    "start_time": "2022-02-14T20:15:29.054Z"
   },
   {
    "duration": 33,
    "start_time": "2022-02-14T20:15:30.630Z"
   },
   {
    "duration": 32,
    "start_time": "2022-02-14T20:15:32.854Z"
   },
   {
    "duration": 29,
    "start_time": "2022-02-14T20:15:40.606Z"
   },
   {
    "duration": 20,
    "start_time": "2022-02-14T20:16:11.680Z"
   },
   {
    "duration": 17,
    "start_time": "2022-02-14T20:16:21.053Z"
   },
   {
    "duration": 5,
    "start_time": "2022-02-14T20:19:16.212Z"
   },
   {
    "duration": 5,
    "start_time": "2022-02-14T20:19:20.170Z"
   },
   {
    "duration": 167,
    "start_time": "2022-02-14T20:21:45.696Z"
   },
   {
    "duration": 13,
    "start_time": "2022-02-14T20:21:50.697Z"
   },
   {
    "duration": 6,
    "start_time": "2022-02-14T20:22:04.809Z"
   },
   {
    "duration": 4,
    "start_time": "2022-02-14T20:23:06.532Z"
   },
   {
    "duration": 4,
    "start_time": "2022-02-14T20:23:09.992Z"
   },
   {
    "duration": 256,
    "start_time": "2022-02-14T20:23:19.503Z"
   },
   {
    "duration": 172,
    "start_time": "2022-02-14T20:23:52.505Z"
   },
   {
    "duration": 4,
    "start_time": "2022-02-14T20:24:14.898Z"
   },
   {
    "duration": -340,
    "start_time": "2022-02-14T20:24:18.268Z"
   },
   {
    "duration": 4,
    "start_time": "2022-02-14T20:24:24.624Z"
   },
   {
    "duration": 188,
    "start_time": "2022-02-14T20:24:26.362Z"
   },
   {
    "duration": 4,
    "start_time": "2022-02-14T20:25:52.624Z"
   },
   {
    "duration": 171,
    "start_time": "2022-02-14T20:28:41.555Z"
   },
   {
    "duration": 190,
    "start_time": "2022-02-14T20:28:44.764Z"
   },
   {
    "duration": 4,
    "start_time": "2022-02-14T20:28:53.091Z"
   },
   {
    "duration": 54,
    "start_time": "2022-02-14T20:29:19.935Z"
   },
   {
    "duration": 55,
    "start_time": "2022-02-14T20:29:27.800Z"
   },
   {
    "duration": 58,
    "start_time": "2022-02-14T20:31:01.368Z"
   },
   {
    "duration": 177,
    "start_time": "2022-02-14T20:31:10.910Z"
   },
   {
    "duration": 5,
    "start_time": "2022-02-14T20:31:56.441Z"
   },
   {
    "duration": 5,
    "start_time": "2022-02-14T20:31:57.965Z"
   },
   {
    "duration": 5,
    "start_time": "2022-02-14T20:32:02.239Z"
   },
   {
    "duration": 4,
    "start_time": "2022-02-14T20:32:04.224Z"
   },
   {
    "duration": 2,
    "start_time": "2022-02-14T20:32:13.862Z"
   },
   {
    "duration": 3,
    "start_time": "2022-02-14T20:32:17.240Z"
   },
   {
    "duration": 4,
    "start_time": "2022-02-14T20:32:18.405Z"
   },
   {
    "duration": 3,
    "start_time": "2022-02-14T20:32:21.402Z"
   },
   {
    "duration": 169,
    "start_time": "2022-02-14T20:32:44.857Z"
   },
   {
    "duration": 172,
    "start_time": "2022-02-14T20:33:46.471Z"
   },
   {
    "duration": 608,
    "start_time": "2022-02-14T20:33:52.674Z"
   },
   {
    "duration": 20,
    "start_time": "2022-02-14T20:33:53.284Z"
   },
   {
    "duration": 12,
    "start_time": "2022-02-14T20:33:53.307Z"
   },
   {
    "duration": 13,
    "start_time": "2022-02-14T20:33:53.321Z"
   },
   {
    "duration": 23,
    "start_time": "2022-02-14T20:33:53.336Z"
   },
   {
    "duration": 12,
    "start_time": "2022-02-14T20:33:53.361Z"
   },
   {
    "duration": 14,
    "start_time": "2022-02-14T20:33:53.374Z"
   },
   {
    "duration": 30,
    "start_time": "2022-02-14T20:33:53.391Z"
   },
   {
    "duration": 11,
    "start_time": "2022-02-14T20:33:53.423Z"
   },
   {
    "duration": 7,
    "start_time": "2022-02-14T20:33:53.436Z"
   },
   {
    "duration": 12,
    "start_time": "2022-02-14T20:33:53.444Z"
   },
   {
    "duration": 6,
    "start_time": "2022-02-14T20:33:53.457Z"
   },
   {
    "duration": 5,
    "start_time": "2022-02-14T20:33:53.465Z"
   },
   {
    "duration": 4,
    "start_time": "2022-02-14T20:33:53.471Z"
   },
   {
    "duration": 6,
    "start_time": "2022-02-14T20:33:53.476Z"
   },
   {
    "duration": 4,
    "start_time": "2022-02-14T20:33:53.484Z"
   },
   {
    "duration": 7,
    "start_time": "2022-02-14T20:33:53.489Z"
   },
   {
    "duration": 7,
    "start_time": "2022-02-14T20:33:53.497Z"
   },
   {
    "duration": 4,
    "start_time": "2022-02-14T20:33:53.506Z"
   },
   {
    "duration": 48,
    "start_time": "2022-02-14T20:33:53.512Z"
   },
   {
    "duration": 9,
    "start_time": "2022-02-14T20:33:53.562Z"
   },
   {
    "duration": 5,
    "start_time": "2022-02-14T20:33:53.572Z"
   },
   {
    "duration": 4,
    "start_time": "2022-02-14T20:33:53.580Z"
   },
   {
    "duration": 7,
    "start_time": "2022-02-14T20:33:53.586Z"
   },
   {
    "duration": 6,
    "start_time": "2022-02-14T20:33:53.594Z"
   },
   {
    "duration": 6,
    "start_time": "2022-02-14T20:33:53.602Z"
   },
   {
    "duration": 59,
    "start_time": "2022-02-14T20:33:53.609Z"
   },
   {
    "duration": 66,
    "start_time": "2022-02-14T20:33:53.670Z"
   },
   {
    "duration": -503,
    "start_time": "2022-02-14T20:33:54.240Z"
   },
   {
    "duration": -509,
    "start_time": "2022-02-14T20:33:54.247Z"
   },
   {
    "duration": -514,
    "start_time": "2022-02-14T20:33:54.253Z"
   },
   {
    "duration": -519,
    "start_time": "2022-02-14T20:33:54.259Z"
   },
   {
    "duration": -524,
    "start_time": "2022-02-14T20:33:54.265Z"
   },
   {
    "duration": -528,
    "start_time": "2022-02-14T20:33:54.270Z"
   },
   {
    "duration": -532,
    "start_time": "2022-02-14T20:33:54.275Z"
   },
   {
    "duration": -536,
    "start_time": "2022-02-14T20:33:54.279Z"
   },
   {
    "duration": -541,
    "start_time": "2022-02-14T20:33:54.285Z"
   },
   {
    "duration": -546,
    "start_time": "2022-02-14T20:33:54.291Z"
   },
   {
    "duration": -551,
    "start_time": "2022-02-14T20:33:54.297Z"
   },
   {
    "duration": -555,
    "start_time": "2022-02-14T20:33:54.302Z"
   },
   {
    "duration": -559,
    "start_time": "2022-02-14T20:33:54.307Z"
   },
   {
    "duration": -562,
    "start_time": "2022-02-14T20:33:54.311Z"
   },
   {
    "duration": -575,
    "start_time": "2022-02-14T20:33:54.325Z"
   },
   {
    "duration": -582,
    "start_time": "2022-02-14T20:33:54.333Z"
   },
   {
    "duration": -586,
    "start_time": "2022-02-14T20:33:54.338Z"
   },
   {
    "duration": 13,
    "start_time": "2022-02-14T20:34:00.280Z"
   },
   {
    "duration": 4,
    "start_time": "2022-02-14T20:34:02.048Z"
   },
   {
    "duration": 4,
    "start_time": "2022-02-14T20:34:07.395Z"
   },
   {
    "duration": 3,
    "start_time": "2022-02-14T20:34:08.259Z"
   },
   {
    "duration": 4,
    "start_time": "2022-02-14T20:34:09.179Z"
   },
   {
    "duration": 5,
    "start_time": "2022-02-14T20:34:11.221Z"
   },
   {
    "duration": 233,
    "start_time": "2022-02-14T20:34:12.602Z"
   },
   {
    "duration": 176,
    "start_time": "2022-02-14T20:34:44.035Z"
   },
   {
    "duration": 184,
    "start_time": "2022-02-14T20:34:50.437Z"
   },
   {
    "duration": 245,
    "start_time": "2022-02-14T20:34:52.427Z"
   },
   {
    "duration": 185,
    "start_time": "2022-02-14T20:34:57.235Z"
   },
   {
    "duration": 181,
    "start_time": "2022-02-14T20:34:59.164Z"
   },
   {
    "duration": 171,
    "start_time": "2022-02-14T20:35:03.243Z"
   },
   {
    "duration": 189,
    "start_time": "2022-02-14T20:35:11.573Z"
   },
   {
    "duration": 3,
    "start_time": "2022-02-14T20:36:26.749Z"
   },
   {
    "duration": 5,
    "start_time": "2022-02-14T20:36:31.631Z"
   },
   {
    "duration": 15,
    "start_time": "2022-02-14T20:36:52.731Z"
   },
   {
    "duration": 3,
    "start_time": "2022-02-14T20:37:50.140Z"
   },
   {
    "duration": 4,
    "start_time": "2022-02-14T20:37:54.967Z"
   },
   {
    "duration": 4,
    "start_time": "2022-02-14T20:38:13.807Z"
   },
   {
    "duration": 5,
    "start_time": "2022-02-14T20:38:18.007Z"
   },
   {
    "duration": 6,
    "start_time": "2022-02-14T20:38:40.361Z"
   },
   {
    "duration": 8,
    "start_time": "2022-02-14T20:38:53.511Z"
   },
   {
    "duration": 3,
    "start_time": "2022-02-14T20:39:17.777Z"
   },
   {
    "duration": 4,
    "start_time": "2022-02-14T20:39:23.249Z"
   },
   {
    "duration": 6,
    "start_time": "2022-02-14T20:40:43.663Z"
   },
   {
    "duration": 6,
    "start_time": "2022-02-14T20:40:59.014Z"
   },
   {
    "duration": 182,
    "start_time": "2022-02-14T20:48:34.633Z"
   },
   {
    "duration": 60,
    "start_time": "2022-02-14T20:48:39.608Z"
   },
   {
    "duration": 41,
    "start_time": "2022-02-14T20:48:56.984Z"
   },
   {
    "duration": 1257,
    "start_time": "2022-02-14T20:49:24.045Z"
   },
   {
    "duration": 20,
    "start_time": "2022-02-14T20:49:25.304Z"
   },
   {
    "duration": 5,
    "start_time": "2022-02-14T20:49:25.326Z"
   },
   {
    "duration": 29,
    "start_time": "2022-02-14T20:49:25.333Z"
   },
   {
    "duration": 4,
    "start_time": "2022-02-14T20:49:25.363Z"
   },
   {
    "duration": 7,
    "start_time": "2022-02-14T20:49:25.368Z"
   },
   {
    "duration": 6,
    "start_time": "2022-02-14T20:49:25.376Z"
   },
   {
    "duration": 5,
    "start_time": "2022-02-14T20:49:25.384Z"
   },
   {
    "duration": 5,
    "start_time": "2022-02-14T20:49:25.392Z"
   },
   {
    "duration": 6,
    "start_time": "2022-02-14T20:49:25.399Z"
   },
   {
    "duration": 17,
    "start_time": "2022-02-14T20:49:25.406Z"
   },
   {
    "duration": 6,
    "start_time": "2022-02-14T20:49:25.460Z"
   },
   {
    "duration": 8,
    "start_time": "2022-02-14T20:49:25.468Z"
   },
   {
    "duration": 5,
    "start_time": "2022-02-14T20:49:25.478Z"
   },
   {
    "duration": 9,
    "start_time": "2022-02-14T20:49:25.484Z"
   },
   {
    "duration": 5,
    "start_time": "2022-02-14T20:49:25.495Z"
   },
   {
    "duration": 8,
    "start_time": "2022-02-14T20:49:25.501Z"
   },
   {
    "duration": 5,
    "start_time": "2022-02-14T20:49:25.510Z"
   },
   {
    "duration": 43,
    "start_time": "2022-02-14T20:49:25.517Z"
   },
   {
    "duration": 5,
    "start_time": "2022-02-14T20:49:25.562Z"
   },
   {
    "duration": 9,
    "start_time": "2022-02-14T20:49:25.568Z"
   },
   {
    "duration": 4,
    "start_time": "2022-02-14T20:49:25.578Z"
   },
   {
    "duration": 5,
    "start_time": "2022-02-14T20:49:25.584Z"
   },
   {
    "duration": 6,
    "start_time": "2022-02-14T20:49:25.590Z"
   },
   {
    "duration": 4,
    "start_time": "2022-02-14T20:49:25.598Z"
   },
   {
    "duration": 8,
    "start_time": "2022-02-14T20:49:25.603Z"
   },
   {
    "duration": 22,
    "start_time": "2022-02-14T20:49:25.658Z"
   },
   {
    "duration": 57,
    "start_time": "2022-02-14T20:49:25.682Z"
   },
   {
    "duration": -139,
    "start_time": "2022-02-14T20:49:25.880Z"
   },
   {
    "duration": -145,
    "start_time": "2022-02-14T20:49:25.886Z"
   },
   {
    "duration": -150,
    "start_time": "2022-02-14T20:49:25.892Z"
   },
   {
    "duration": -153,
    "start_time": "2022-02-14T20:49:25.896Z"
   },
   {
    "duration": -158,
    "start_time": "2022-02-14T20:49:25.902Z"
   },
   {
    "duration": -162,
    "start_time": "2022-02-14T20:49:25.907Z"
   },
   {
    "duration": -166,
    "start_time": "2022-02-14T20:49:25.912Z"
   },
   {
    "duration": -170,
    "start_time": "2022-02-14T20:49:25.917Z"
   },
   {
    "duration": -174,
    "start_time": "2022-02-14T20:49:25.922Z"
   },
   {
    "duration": -178,
    "start_time": "2022-02-14T20:49:25.927Z"
   },
   {
    "duration": -201,
    "start_time": "2022-02-14T20:49:25.951Z"
   },
   {
    "duration": -205,
    "start_time": "2022-02-14T20:49:25.956Z"
   },
   {
    "duration": -210,
    "start_time": "2022-02-14T20:49:25.962Z"
   },
   {
    "duration": -216,
    "start_time": "2022-02-14T20:49:25.968Z"
   },
   {
    "duration": -220,
    "start_time": "2022-02-14T20:49:25.973Z"
   },
   {
    "duration": -224,
    "start_time": "2022-02-14T20:49:25.978Z"
   },
   {
    "duration": -250,
    "start_time": "2022-02-14T20:49:26.005Z"
   },
   {
    "duration": 41,
    "start_time": "2022-02-14T20:49:30.064Z"
   },
   {
    "duration": 40,
    "start_time": "2022-02-14T20:49:39.098Z"
   },
   {
    "duration": 8,
    "start_time": "2022-02-14T20:49:40.601Z"
   },
   {
    "duration": 39,
    "start_time": "2022-02-14T20:49:41.913Z"
   },
   {
    "duration": 23,
    "start_time": "2022-02-14T20:50:03.203Z"
   },
   {
    "duration": 22,
    "start_time": "2022-02-14T20:50:08.130Z"
   },
   {
    "duration": 3,
    "start_time": "2022-02-14T20:52:24.677Z"
   },
   {
    "duration": 19329,
    "start_time": "2022-02-14T20:52:35.049Z"
   },
   {
    "duration": 3,
    "start_time": "2022-02-14T20:53:11.204Z"
   },
   {
    "duration": 2582,
    "start_time": "2022-02-14T20:53:13.542Z"
   },
   {
    "duration": 3,
    "start_time": "2022-02-14T20:53:28.583Z"
   },
   {
    "duration": 2643,
    "start_time": "2022-02-14T20:53:29.640Z"
   },
   {
    "duration": 3,
    "start_time": "2022-02-14T20:54:49.286Z"
   },
   {
    "duration": 4,
    "start_time": "2022-02-14T20:54:52.358Z"
   },
   {
    "duration": 2582,
    "start_time": "2022-02-14T20:54:54.082Z"
   },
   {
    "duration": 56,
    "start_time": "2022-02-14T20:55:34.925Z"
   },
   {
    "duration": 3,
    "start_time": "2022-02-14T20:55:42.933Z"
   },
   {
    "duration": 4559,
    "start_time": "2022-02-14T20:55:45.300Z"
   },
   {
    "duration": 3,
    "start_time": "2022-02-14T20:56:10.882Z"
   },
   {
    "duration": 165,
    "start_time": "2022-02-14T20:56:13.145Z"
   },
   {
    "duration": 4575,
    "start_time": "2022-02-14T20:56:15.728Z"
   },
   {
    "duration": 353,
    "start_time": "2022-02-14T20:56:28.426Z"
   },
   {
    "duration": 330,
    "start_time": "2022-02-14T20:56:28.450Z"
   },
   {
    "duration": 3,
    "start_time": "2022-02-14T20:56:31.438Z"
   },
   {
    "duration": 8,
    "start_time": "2022-02-14T20:56:32.142Z"
   },
   {
    "duration": 3,
    "start_time": "2022-02-14T20:56:39.643Z"
   },
   {
    "duration": 26,
    "start_time": "2022-02-14T20:56:40.670Z"
   },
   {
    "duration": 3,
    "start_time": "2022-02-14T20:57:06.735Z"
   },
   {
    "duration": 8,
    "start_time": "2022-02-14T20:57:08.652Z"
   },
   {
    "duration": 4,
    "start_time": "2022-02-14T20:58:20.611Z"
   },
   {
    "duration": 26,
    "start_time": "2022-02-14T20:58:21.180Z"
   },
   {
    "duration": 25,
    "start_time": "2022-02-14T20:58:49.039Z"
   },
   {
    "duration": 8,
    "start_time": "2022-02-14T20:59:04.974Z"
   },
   {
    "duration": 3,
    "start_time": "2022-02-14T21:00:47.918Z"
   },
   {
    "duration": 2576,
    "start_time": "2022-02-14T21:00:48.901Z"
   },
   {
    "duration": 4,
    "start_time": "2022-02-14T21:01:45.034Z"
   },
   {
    "duration": 3,
    "start_time": "2022-02-14T21:01:49.835Z"
   },
   {
    "duration": 5601,
    "start_time": "2022-02-14T21:01:50.780Z"
   },
   {
    "duration": 614,
    "start_time": "2022-02-14T21:02:44.892Z"
   },
   {
    "duration": 19,
    "start_time": "2022-02-14T21:02:45.508Z"
   },
   {
    "duration": 6,
    "start_time": "2022-02-14T21:02:45.529Z"
   },
   {
    "duration": 24,
    "start_time": "2022-02-14T21:02:45.536Z"
   },
   {
    "duration": 3,
    "start_time": "2022-02-14T21:02:45.562Z"
   },
   {
    "duration": 6,
    "start_time": "2022-02-14T21:02:45.567Z"
   },
   {
    "duration": 8,
    "start_time": "2022-02-14T21:02:45.574Z"
   },
   {
    "duration": 9,
    "start_time": "2022-02-14T21:02:45.584Z"
   },
   {
    "duration": 8,
    "start_time": "2022-02-14T21:02:45.594Z"
   },
   {
    "duration": 6,
    "start_time": "2022-02-14T21:02:45.604Z"
   },
   {
    "duration": 12,
    "start_time": "2022-02-14T21:02:45.612Z"
   },
   {
    "duration": 7,
    "start_time": "2022-02-14T21:02:45.660Z"
   },
   {
    "duration": 4,
    "start_time": "2022-02-14T21:02:45.669Z"
   },
   {
    "duration": 6,
    "start_time": "2022-02-14T21:02:45.675Z"
   },
   {
    "duration": 7,
    "start_time": "2022-02-14T21:02:45.683Z"
   },
   {
    "duration": 4,
    "start_time": "2022-02-14T21:02:45.692Z"
   },
   {
    "duration": 7,
    "start_time": "2022-02-14T21:02:45.698Z"
   },
   {
    "duration": 52,
    "start_time": "2022-02-14T21:02:45.707Z"
   },
   {
    "duration": 5,
    "start_time": "2022-02-14T21:02:45.762Z"
   },
   {
    "duration": 6,
    "start_time": "2022-02-14T21:02:45.769Z"
   },
   {
    "duration": 10,
    "start_time": "2022-02-14T21:02:45.777Z"
   },
   {
    "duration": 5,
    "start_time": "2022-02-14T21:02:45.789Z"
   },
   {
    "duration": 4,
    "start_time": "2022-02-14T21:02:45.799Z"
   },
   {
    "duration": 7,
    "start_time": "2022-02-14T21:02:45.860Z"
   },
   {
    "duration": 6,
    "start_time": "2022-02-14T21:02:45.869Z"
   },
   {
    "duration": 9,
    "start_time": "2022-02-14T21:02:45.877Z"
   },
   {
    "duration": 21,
    "start_time": "2022-02-14T21:02:45.888Z"
   },
   {
    "duration": 61,
    "start_time": "2022-02-14T21:02:45.911Z"
   },
   {
    "duration": 90,
    "start_time": "2022-02-14T21:02:45.885Z"
   },
   {
    "duration": 65,
    "start_time": "2022-02-14T21:02:45.911Z"
   },
   {
    "duration": 60,
    "start_time": "2022-02-14T21:02:45.917Z"
   },
   {
    "duration": 55,
    "start_time": "2022-02-14T21:02:45.924Z"
   },
   {
    "duration": 51,
    "start_time": "2022-02-14T21:02:45.929Z"
   },
   {
    "duration": 46,
    "start_time": "2022-02-14T21:02:45.935Z"
   },
   {
    "duration": 42,
    "start_time": "2022-02-14T21:02:45.941Z"
   },
   {
    "duration": 21,
    "start_time": "2022-02-14T21:02:45.963Z"
   },
   {
    "duration": 18,
    "start_time": "2022-02-14T21:02:45.968Z"
   },
   {
    "duration": 11,
    "start_time": "2022-02-14T21:02:45.976Z"
   },
   {
    "duration": -3,
    "start_time": "2022-02-14T21:02:45.991Z"
   },
   {
    "duration": -19,
    "start_time": "2022-02-14T21:02:46.009Z"
   },
   {
    "duration": -66,
    "start_time": "2022-02-14T21:02:46.057Z"
   },
   {
    "duration": -85,
    "start_time": "2022-02-14T21:02:46.078Z"
   },
   {
    "duration": -95,
    "start_time": "2022-02-14T21:02:46.089Z"
   },
   {
    "duration": 233,
    "start_time": "2022-02-14T21:02:49.120Z"
   },
   {
    "duration": 3,
    "start_time": "2022-02-14T21:02:53.718Z"
   },
   {
    "duration": 5688,
    "start_time": "2022-02-14T21:02:54.672Z"
   },
   {
    "duration": 3,
    "start_time": "2022-02-14T21:03:12.863Z"
   },
   {
    "duration": 3,
    "start_time": "2022-02-14T21:03:36.661Z"
   },
   {
    "duration": 4,
    "start_time": "2022-02-14T21:04:16.489Z"
   },
   {
    "duration": 236,
    "start_time": "2022-02-14T21:04:16.494Z"
   },
   {
    "duration": 676,
    "start_time": "2022-02-14T21:04:16.836Z"
   },
   {
    "duration": 23,
    "start_time": "2022-02-14T21:04:17.514Z"
   },
   {
    "duration": 20,
    "start_time": "2022-02-14T21:04:17.542Z"
   },
   {
    "duration": 6,
    "start_time": "2022-02-14T21:04:17.565Z"
   },
   {
    "duration": 5,
    "start_time": "2022-02-14T21:04:17.573Z"
   },
   {
    "duration": 7,
    "start_time": "2022-02-14T21:04:17.580Z"
   },
   {
    "duration": 6,
    "start_time": "2022-02-14T21:04:17.591Z"
   },
   {
    "duration": 6,
    "start_time": "2022-02-14T21:04:17.599Z"
   },
   {
    "duration": 54,
    "start_time": "2022-02-14T21:04:17.607Z"
   },
   {
    "duration": 6,
    "start_time": "2022-02-14T21:04:17.663Z"
   },
   {
    "duration": 17,
    "start_time": "2022-02-14T21:04:17.671Z"
   },
   {
    "duration": 7,
    "start_time": "2022-02-14T21:04:17.691Z"
   },
   {
    "duration": 4,
    "start_time": "2022-02-14T21:04:17.700Z"
   },
   {
    "duration": 6,
    "start_time": "2022-02-14T21:04:17.706Z"
   },
   {
    "duration": 46,
    "start_time": "2022-02-14T21:04:17.714Z"
   },
   {
    "duration": 5,
    "start_time": "2022-02-14T21:04:17.762Z"
   },
   {
    "duration": 10,
    "start_time": "2022-02-14T21:04:17.769Z"
   },
   {
    "duration": 10,
    "start_time": "2022-02-14T21:04:17.781Z"
   },
   {
    "duration": 7,
    "start_time": "2022-02-14T21:04:17.793Z"
   },
   {
    "duration": 7,
    "start_time": "2022-02-14T21:04:17.802Z"
   },
   {
    "duration": 49,
    "start_time": "2022-02-14T21:04:17.811Z"
   },
   {
    "duration": 5,
    "start_time": "2022-02-14T21:04:17.865Z"
   },
   {
    "duration": 7,
    "start_time": "2022-02-14T21:04:17.873Z"
   },
   {
    "duration": 9,
    "start_time": "2022-02-14T21:04:17.882Z"
   },
   {
    "duration": 5,
    "start_time": "2022-02-14T21:04:17.893Z"
   },
   {
    "duration": 7,
    "start_time": "2022-02-14T21:04:17.899Z"
   },
   {
    "duration": 67,
    "start_time": "2022-02-14T21:04:17.908Z"
   },
   {
    "duration": 64,
    "start_time": "2022-02-14T21:04:17.978Z"
   },
   {
    "duration": 241,
    "start_time": "2022-02-14T21:04:17.803Z"
   },
   {
    "duration": 236,
    "start_time": "2022-02-14T21:04:17.809Z"
   },
   {
    "duration": 233,
    "start_time": "2022-02-14T21:04:17.814Z"
   },
   {
    "duration": 229,
    "start_time": "2022-02-14T21:04:17.819Z"
   },
   {
    "duration": 226,
    "start_time": "2022-02-14T21:04:17.824Z"
   },
   {
    "duration": 221,
    "start_time": "2022-02-14T21:04:17.830Z"
   },
   {
    "duration": 217,
    "start_time": "2022-02-14T21:04:17.835Z"
   },
   {
    "duration": 214,
    "start_time": "2022-02-14T21:04:17.840Z"
   },
   {
    "duration": 209,
    "start_time": "2022-02-14T21:04:17.846Z"
   },
   {
    "duration": 178,
    "start_time": "2022-02-14T21:04:17.878Z"
   },
   {
    "duration": 172,
    "start_time": "2022-02-14T21:04:17.886Z"
   },
   {
    "duration": 167,
    "start_time": "2022-02-14T21:04:17.892Z"
   },
   {
    "duration": 164,
    "start_time": "2022-02-14T21:04:17.897Z"
   },
   {
    "duration": 159,
    "start_time": "2022-02-14T21:04:17.903Z"
   },
   {
    "duration": 155,
    "start_time": "2022-02-14T21:04:17.908Z"
   },
   {
    "duration": 3,
    "start_time": "2022-02-14T21:04:20.163Z"
   },
   {
    "duration": 2989,
    "start_time": "2022-02-14T21:04:21.224Z"
   },
   {
    "duration": 2943,
    "start_time": "2022-02-14T21:04:26.728Z"
   },
   {
    "duration": 3,
    "start_time": "2022-02-14T21:04:29.673Z"
   },
   {
    "duration": 19636,
    "start_time": "2022-02-14T21:04:30.187Z"
   },
   {
    "duration": 4,
    "start_time": "2022-02-14T21:05:23.836Z"
   },
   {
    "duration": 671,
    "start_time": "2022-02-14T21:05:56.030Z"
   },
   {
    "duration": 666,
    "start_time": "2022-02-14T21:05:56.036Z"
   },
   {
    "duration": 646,
    "start_time": "2022-02-14T21:06:02.663Z"
   },
   {
    "duration": 19,
    "start_time": "2022-02-14T21:06:03.312Z"
   },
   {
    "duration": 10,
    "start_time": "2022-02-14T21:06:03.333Z"
   },
   {
    "duration": 15,
    "start_time": "2022-02-14T21:06:03.345Z"
   },
   {
    "duration": 9,
    "start_time": "2022-02-14T21:06:03.361Z"
   },
   {
    "duration": 14,
    "start_time": "2022-02-14T21:06:03.371Z"
   },
   {
    "duration": 9,
    "start_time": "2022-02-14T21:06:03.386Z"
   },
   {
    "duration": 6,
    "start_time": "2022-02-14T21:06:03.398Z"
   },
   {
    "duration": 7,
    "start_time": "2022-02-14T21:06:03.406Z"
   },
   {
    "duration": 6,
    "start_time": "2022-02-14T21:06:03.414Z"
   },
   {
    "duration": 21,
    "start_time": "2022-02-14T21:06:03.422Z"
   },
   {
    "duration": 19,
    "start_time": "2022-02-14T21:06:03.444Z"
   },
   {
    "duration": 4,
    "start_time": "2022-02-14T21:06:03.464Z"
   },
   {
    "duration": 7,
    "start_time": "2022-02-14T21:06:03.470Z"
   },
   {
    "duration": 9,
    "start_time": "2022-02-14T21:06:03.478Z"
   },
   {
    "duration": 8,
    "start_time": "2022-02-14T21:06:03.489Z"
   },
   {
    "duration": 10,
    "start_time": "2022-02-14T21:06:03.499Z"
   },
   {
    "duration": 5,
    "start_time": "2022-02-14T21:06:03.511Z"
   },
   {
    "duration": 5,
    "start_time": "2022-02-14T21:06:03.518Z"
   },
   {
    "duration": 37,
    "start_time": "2022-02-14T21:06:03.525Z"
   },
   {
    "duration": 22,
    "start_time": "2022-02-14T21:06:03.563Z"
   },
   {
    "duration": 4,
    "start_time": "2022-02-14T21:06:03.587Z"
   },
   {
    "duration": 4,
    "start_time": "2022-02-14T21:06:03.595Z"
   },
   {
    "duration": 15,
    "start_time": "2022-02-14T21:06:03.600Z"
   },
   {
    "duration": 7,
    "start_time": "2022-02-14T21:06:03.616Z"
   },
   {
    "duration": 10,
    "start_time": "2022-02-14T21:06:03.624Z"
   },
   {
    "duration": 39,
    "start_time": "2022-02-14T21:06:03.635Z"
   },
   {
    "duration": 64,
    "start_time": "2022-02-14T21:06:03.676Z"
   },
   {
    "duration": 371,
    "start_time": "2022-02-14T21:06:03.370Z"
   },
   {
    "duration": 338,
    "start_time": "2022-02-14T21:06:03.404Z"
   },
   {
    "duration": 319,
    "start_time": "2022-02-14T21:06:03.424Z"
   },
   {
    "duration": 301,
    "start_time": "2022-02-14T21:06:03.443Z"
   },
   {
    "duration": 259,
    "start_time": "2022-02-14T21:06:03.486Z"
   },
   {
    "duration": 166,
    "start_time": "2022-02-14T21:06:03.580Z"
   },
   {
    "duration": 160,
    "start_time": "2022-02-14T21:06:03.587Z"
   },
   {
    "duration": 126,
    "start_time": "2022-02-14T21:06:03.622Z"
   },
   {
    "duration": 121,
    "start_time": "2022-02-14T21:06:03.628Z"
   },
   {
    "duration": 115,
    "start_time": "2022-02-14T21:06:03.635Z"
   },
   {
    "duration": 111,
    "start_time": "2022-02-14T21:06:03.640Z"
   },
   {
    "duration": 107,
    "start_time": "2022-02-14T21:06:03.645Z"
   },
   {
    "duration": 103,
    "start_time": "2022-02-14T21:06:03.650Z"
   },
   {
    "duration": 99,
    "start_time": "2022-02-14T21:06:03.655Z"
   },
   {
    "duration": 95,
    "start_time": "2022-02-14T21:06:03.660Z"
   },
   {
    "duration": 3,
    "start_time": "2022-02-14T21:06:06.912Z"
   },
   {
    "duration": 408,
    "start_time": "2022-02-14T21:06:08.618Z"
   },
   {
    "duration": 3,
    "start_time": "2022-02-14T21:06:21.536Z"
   },
   {
    "duration": 584,
    "start_time": "2022-02-14T21:06:49.010Z"
   },
   {
    "duration": 19,
    "start_time": "2022-02-14T21:06:49.596Z"
   },
   {
    "duration": 6,
    "start_time": "2022-02-14T21:06:49.617Z"
   },
   {
    "duration": 12,
    "start_time": "2022-02-14T21:06:49.625Z"
   },
   {
    "duration": 25,
    "start_time": "2022-02-14T21:06:49.639Z"
   },
   {
    "duration": 7,
    "start_time": "2022-02-14T21:06:49.665Z"
   },
   {
    "duration": 8,
    "start_time": "2022-02-14T21:06:49.673Z"
   },
   {
    "duration": 7,
    "start_time": "2022-02-14T21:06:49.682Z"
   },
   {
    "duration": 7,
    "start_time": "2022-02-14T21:06:49.692Z"
   },
   {
    "duration": 7,
    "start_time": "2022-02-14T21:06:49.701Z"
   },
   {
    "duration": 22,
    "start_time": "2022-02-14T21:06:49.710Z"
   },
   {
    "duration": 29,
    "start_time": "2022-02-14T21:06:49.734Z"
   },
   {
    "duration": 7,
    "start_time": "2022-02-14T21:06:49.765Z"
   },
   {
    "duration": 18,
    "start_time": "2022-02-14T21:06:49.773Z"
   },
   {
    "duration": 8,
    "start_time": "2022-02-14T21:06:49.792Z"
   },
   {
    "duration": 5,
    "start_time": "2022-02-14T21:06:49.802Z"
   },
   {
    "duration": 8,
    "start_time": "2022-02-14T21:06:49.809Z"
   },
   {
    "duration": 15,
    "start_time": "2022-02-14T21:06:49.820Z"
   },
   {
    "duration": 24,
    "start_time": "2022-02-14T21:06:49.836Z"
   },
   {
    "duration": 7,
    "start_time": "2022-02-14T21:06:49.862Z"
   },
   {
    "duration": 10,
    "start_time": "2022-02-14T21:06:49.871Z"
   },
   {
    "duration": 5,
    "start_time": "2022-02-14T21:06:49.883Z"
   },
   {
    "duration": 7,
    "start_time": "2022-02-14T21:06:49.889Z"
   },
   {
    "duration": 10,
    "start_time": "2022-02-14T21:06:49.898Z"
   },
   {
    "duration": 5,
    "start_time": "2022-02-14T21:06:49.909Z"
   },
   {
    "duration": 47,
    "start_time": "2022-02-14T21:06:49.916Z"
   },
   {
    "duration": 25,
    "start_time": "2022-02-14T21:06:49.966Z"
   },
   {
    "duration": 57,
    "start_time": "2022-02-14T21:06:49.993Z"
   },
   {
    "duration": 395,
    "start_time": "2022-02-14T21:06:49.657Z"
   },
   {
    "duration": 390,
    "start_time": "2022-02-14T21:06:49.663Z"
   },
   {
    "duration": 386,
    "start_time": "2022-02-14T21:06:49.668Z"
   },
   {
    "duration": 381,
    "start_time": "2022-02-14T21:06:49.673Z"
   },
   {
    "duration": 377,
    "start_time": "2022-02-14T21:06:49.678Z"
   },
   {
    "duration": 373,
    "start_time": "2022-02-14T21:06:49.683Z"
   },
   {
    "duration": 369,
    "start_time": "2022-02-14T21:06:49.688Z"
   },
   {
    "duration": 365,
    "start_time": "2022-02-14T21:06:49.693Z"
   },
   {
    "duration": 361,
    "start_time": "2022-02-14T21:06:49.698Z"
   },
   {
    "duration": 357,
    "start_time": "2022-02-14T21:06:49.703Z"
   },
   {
    "duration": 352,
    "start_time": "2022-02-14T21:06:49.708Z"
   },
   {
    "duration": 348,
    "start_time": "2022-02-14T21:06:49.713Z"
   },
   {
    "duration": 344,
    "start_time": "2022-02-14T21:06:49.718Z"
   },
   {
    "duration": 339,
    "start_time": "2022-02-14T21:06:49.723Z"
   },
   {
    "duration": 336,
    "start_time": "2022-02-14T21:06:49.728Z"
   },
   {
    "duration": 3,
    "start_time": "2022-02-14T21:06:53.523Z"
   },
   {
    "duration": 406,
    "start_time": "2022-02-14T21:06:54.451Z"
   },
   {
    "duration": 3,
    "start_time": "2022-02-14T21:07:41.785Z"
   },
   {
    "duration": 748,
    "start_time": "2022-02-14T21:08:11.517Z"
   },
   {
    "duration": 742,
    "start_time": "2022-02-14T21:08:11.526Z"
   },
   {
    "duration": 653,
    "start_time": "2022-02-14T21:08:14.764Z"
   },
   {
    "duration": 21,
    "start_time": "2022-02-14T21:08:15.419Z"
   },
   {
    "duration": 19,
    "start_time": "2022-02-14T21:08:15.441Z"
   },
   {
    "duration": 6,
    "start_time": "2022-02-14T21:08:15.462Z"
   },
   {
    "duration": 5,
    "start_time": "2022-02-14T21:08:15.470Z"
   },
   {
    "duration": 5,
    "start_time": "2022-02-14T21:08:15.476Z"
   },
   {
    "duration": 6,
    "start_time": "2022-02-14T21:08:15.482Z"
   },
   {
    "duration": 5,
    "start_time": "2022-02-14T21:08:15.490Z"
   },
   {
    "duration": 6,
    "start_time": "2022-02-14T21:08:15.497Z"
   },
   {
    "duration": 6,
    "start_time": "2022-02-14T21:08:15.505Z"
   },
   {
    "duration": 56,
    "start_time": "2022-02-14T21:08:15.513Z"
   },
   {
    "duration": 6,
    "start_time": "2022-02-14T21:08:15.571Z"
   },
   {
    "duration": 4,
    "start_time": "2022-02-14T21:08:15.579Z"
   },
   {
    "duration": 5,
    "start_time": "2022-02-14T21:08:15.585Z"
   },
   {
    "duration": 8,
    "start_time": "2022-02-14T21:08:15.592Z"
   },
   {
    "duration": 5,
    "start_time": "2022-02-14T21:08:15.602Z"
   },
   {
    "duration": 51,
    "start_time": "2022-02-14T21:08:15.609Z"
   },
   {
    "duration": 6,
    "start_time": "2022-02-14T21:08:15.662Z"
   },
   {
    "duration": 5,
    "start_time": "2022-02-14T21:08:15.670Z"
   },
   {
    "duration": 5,
    "start_time": "2022-02-14T21:08:15.677Z"
   },
   {
    "duration": 11,
    "start_time": "2022-02-14T21:08:15.684Z"
   },
   {
    "duration": 5,
    "start_time": "2022-02-14T21:08:15.697Z"
   },
   {
    "duration": 8,
    "start_time": "2022-02-14T21:08:15.704Z"
   },
   {
    "duration": 7,
    "start_time": "2022-02-14T21:08:15.760Z"
   },
   {
    "duration": 6,
    "start_time": "2022-02-14T21:08:15.769Z"
   },
   {
    "duration": 9,
    "start_time": "2022-02-14T21:08:15.776Z"
   },
   {
    "duration": 24,
    "start_time": "2022-02-14T21:08:15.786Z"
   },
   {
    "duration": 59,
    "start_time": "2022-02-14T21:08:15.811Z"
   },
   {
    "duration": 498,
    "start_time": "2022-02-14T21:08:15.374Z"
   },
   {
    "duration": 493,
    "start_time": "2022-02-14T21:08:15.380Z"
   },
   {
    "duration": 489,
    "start_time": "2022-02-14T21:08:15.385Z"
   },
   {
    "duration": 480,
    "start_time": "2022-02-14T21:08:15.395Z"
   },
   {
    "duration": 473,
    "start_time": "2022-02-14T21:08:15.403Z"
   },
   {
    "duration": 467,
    "start_time": "2022-02-14T21:08:15.409Z"
   },
   {
    "duration": 462,
    "start_time": "2022-02-14T21:08:15.415Z"
   },
   {
    "duration": 459,
    "start_time": "2022-02-14T21:08:15.420Z"
   },
   {
    "duration": 455,
    "start_time": "2022-02-14T21:08:15.425Z"
   },
   {
    "duration": 451,
    "start_time": "2022-02-14T21:08:15.430Z"
   },
   {
    "duration": 448,
    "start_time": "2022-02-14T21:08:15.434Z"
   },
   {
    "duration": 443,
    "start_time": "2022-02-14T21:08:15.440Z"
   },
   {
    "duration": 440,
    "start_time": "2022-02-14T21:08:15.444Z"
   },
   {
    "duration": 436,
    "start_time": "2022-02-14T21:08:15.449Z"
   },
   {
    "duration": 432,
    "start_time": "2022-02-14T21:08:15.454Z"
   },
   {
    "duration": 3,
    "start_time": "2022-02-14T21:08:19.056Z"
   },
   {
    "duration": 410,
    "start_time": "2022-02-14T21:08:20.134Z"
   },
   {
    "duration": 3,
    "start_time": "2022-02-14T21:08:27.232Z"
   },
   {
    "duration": 793,
    "start_time": "2022-02-14T21:11:28.136Z"
   },
   {
    "duration": 783,
    "start_time": "2022-02-14T21:11:28.147Z"
   },
   {
    "duration": 769,
    "start_time": "2022-02-14T21:11:28.162Z"
   },
   {
    "duration": 730,
    "start_time": "2022-02-14T21:11:28.202Z"
   },
   {
    "duration": 724,
    "start_time": "2022-02-14T21:11:28.209Z"
   },
   {
    "duration": 717,
    "start_time": "2022-02-14T21:11:28.217Z"
   },
   {
    "duration": 711,
    "start_time": "2022-02-14T21:11:28.224Z"
   },
   {
    "duration": 707,
    "start_time": "2022-02-14T21:11:28.229Z"
   },
   {
    "duration": 697,
    "start_time": "2022-02-14T21:11:28.241Z"
   },
   {
    "duration": 688,
    "start_time": "2022-02-14T21:11:28.251Z"
   },
   {
    "duration": 679,
    "start_time": "2022-02-14T21:11:28.261Z"
   },
   {
    "duration": 674,
    "start_time": "2022-02-14T21:11:28.267Z"
   },
   {
    "duration": 667,
    "start_time": "2022-02-14T21:11:28.274Z"
   },
   {
    "duration": 663,
    "start_time": "2022-02-14T21:11:28.279Z"
   },
   {
    "duration": 657,
    "start_time": "2022-02-14T21:11:28.287Z"
   },
   {
    "duration": 653,
    "start_time": "2022-02-14T21:11:28.292Z"
   },
   {
    "duration": 637,
    "start_time": "2022-02-14T21:11:28.309Z"
   },
   {
    "duration": 633,
    "start_time": "2022-02-14T21:11:28.314Z"
   },
   {
    "duration": 626,
    "start_time": "2022-02-14T21:11:28.322Z"
   },
   {
    "duration": 621,
    "start_time": "2022-02-14T21:11:28.328Z"
   },
   {
    "duration": 616,
    "start_time": "2022-02-14T21:11:28.334Z"
   },
   {
    "duration": 614,
    "start_time": "2022-02-14T21:11:28.338Z"
   },
   {
    "duration": 610,
    "start_time": "2022-02-14T21:11:28.343Z"
   },
   {
    "duration": 606,
    "start_time": "2022-02-14T21:11:28.348Z"
   },
   {
    "duration": 601,
    "start_time": "2022-02-14T21:11:28.354Z"
   },
   {
    "duration": 598,
    "start_time": "2022-02-14T21:11:28.358Z"
   },
   {
    "duration": 591,
    "start_time": "2022-02-14T21:11:28.365Z"
   },
   {
    "duration": 587,
    "start_time": "2022-02-14T21:11:28.370Z"
   },
   {
    "duration": 583,
    "start_time": "2022-02-14T21:11:28.375Z"
   },
   {
    "duration": 580,
    "start_time": "2022-02-14T21:11:28.379Z"
   },
   {
    "duration": 575,
    "start_time": "2022-02-14T21:11:28.385Z"
   },
   {
    "duration": 572,
    "start_time": "2022-02-14T21:11:28.389Z"
   },
   {
    "duration": 558,
    "start_time": "2022-02-14T21:11:28.404Z"
   },
   {
    "duration": 544,
    "start_time": "2022-02-14T21:11:28.419Z"
   },
   {
    "duration": 539,
    "start_time": "2022-02-14T21:11:28.425Z"
   },
   {
    "duration": 535,
    "start_time": "2022-02-14T21:11:28.430Z"
   },
   {
    "duration": 530,
    "start_time": "2022-02-14T21:11:28.436Z"
   },
   {
    "duration": 527,
    "start_time": "2022-02-14T21:11:28.440Z"
   },
   {
    "duration": 522,
    "start_time": "2022-02-14T21:11:28.445Z"
   },
   {
    "duration": 518,
    "start_time": "2022-02-14T21:11:28.450Z"
   },
   {
    "duration": 515,
    "start_time": "2022-02-14T21:11:28.456Z"
   },
   {
    "duration": 511,
    "start_time": "2022-02-14T21:11:28.462Z"
   },
   {
    "duration": 506,
    "start_time": "2022-02-14T21:11:28.468Z"
   },
   {
    "duration": 3,
    "start_time": "2022-02-14T21:11:55.576Z"
   },
   {
    "duration": 39221,
    "start_time": "2022-02-14T21:11:56.845Z"
   },
   {
    "duration": 12402,
    "start_time": "2022-02-14T21:12:49.377Z"
   },
   {
    "duration": 620,
    "start_time": "2022-02-14T21:13:06.098Z"
   },
   {
    "duration": 21,
    "start_time": "2022-02-14T21:13:06.720Z"
   },
   {
    "duration": 20,
    "start_time": "2022-02-14T21:13:06.743Z"
   },
   {
    "duration": 6,
    "start_time": "2022-02-14T21:13:06.765Z"
   },
   {
    "duration": 4,
    "start_time": "2022-02-14T21:13:06.773Z"
   },
   {
    "duration": 7,
    "start_time": "2022-02-14T21:13:06.779Z"
   },
   {
    "duration": 6,
    "start_time": "2022-02-14T21:13:06.787Z"
   },
   {
    "duration": 4,
    "start_time": "2022-02-14T21:13:06.795Z"
   },
   {
    "duration": 6,
    "start_time": "2022-02-14T21:13:06.801Z"
   },
   {
    "duration": 52,
    "start_time": "2022-02-14T21:13:06.808Z"
   },
   {
    "duration": 13,
    "start_time": "2022-02-14T21:13:06.862Z"
   },
   {
    "duration": 6,
    "start_time": "2022-02-14T21:13:06.877Z"
   },
   {
    "duration": 6,
    "start_time": "2022-02-14T21:13:06.885Z"
   },
   {
    "duration": 8,
    "start_time": "2022-02-14T21:13:06.893Z"
   },
   {
    "duration": 8,
    "start_time": "2022-02-14T21:13:06.903Z"
   },
   {
    "duration": 5,
    "start_time": "2022-02-14T21:13:06.913Z"
   },
   {
    "duration": 6,
    "start_time": "2022-02-14T21:13:06.959Z"
   },
   {
    "duration": 9,
    "start_time": "2022-02-14T21:13:06.967Z"
   },
   {
    "duration": 8,
    "start_time": "2022-02-14T21:13:06.977Z"
   },
   {
    "duration": 7,
    "start_time": "2022-02-14T21:13:06.987Z"
   },
   {
    "duration": 12,
    "start_time": "2022-02-14T21:13:06.995Z"
   },
   {
    "duration": 4,
    "start_time": "2022-02-14T21:13:07.009Z"
   },
   {
    "duration": 44,
    "start_time": "2022-02-14T21:13:07.016Z"
   },
   {
    "duration": 9,
    "start_time": "2022-02-14T21:13:07.062Z"
   },
   {
    "duration": 5,
    "start_time": "2022-02-14T21:13:07.073Z"
   },
   {
    "duration": 14,
    "start_time": "2022-02-14T21:13:07.080Z"
   },
   {
    "duration": 24,
    "start_time": "2022-02-14T21:13:07.096Z"
   },
   {
    "duration": 63,
    "start_time": "2022-02-14T21:13:07.121Z"
   },
   {
    "duration": 585,
    "start_time": "2022-02-14T21:13:06.601Z"
   },
   {
    "duration": 580,
    "start_time": "2022-02-14T21:13:06.606Z"
   },
   {
    "duration": 577,
    "start_time": "2022-02-14T21:13:06.610Z"
   },
   {
    "duration": 572,
    "start_time": "2022-02-14T21:13:06.616Z"
   },
   {
    "duration": 569,
    "start_time": "2022-02-14T21:13:06.621Z"
   },
   {
    "duration": 565,
    "start_time": "2022-02-14T21:13:06.626Z"
   },
   {
    "duration": 561,
    "start_time": "2022-02-14T21:13:06.631Z"
   },
   {
    "duration": 556,
    "start_time": "2022-02-14T21:13:06.637Z"
   },
   {
    "duration": 552,
    "start_time": "2022-02-14T21:13:06.642Z"
   },
   {
    "duration": 548,
    "start_time": "2022-02-14T21:13:06.647Z"
   },
   {
    "duration": 523,
    "start_time": "2022-02-14T21:13:06.673Z"
   },
   {
    "duration": 518,
    "start_time": "2022-02-14T21:13:06.679Z"
   },
   {
    "duration": 513,
    "start_time": "2022-02-14T21:13:06.685Z"
   },
   {
    "duration": 509,
    "start_time": "2022-02-14T21:13:06.690Z"
   },
   {
    "duration": 506,
    "start_time": "2022-02-14T21:13:06.694Z"
   },
   {
    "duration": 9,
    "start_time": "2022-02-14T21:13:11.789Z"
   },
   {
    "duration": 4,
    "start_time": "2022-02-14T21:13:13.686Z"
   },
   {
    "duration": 63370,
    "start_time": "2022-02-14T21:13:15.038Z"
   },
   {
    "duration": 835,
    "start_time": "2022-02-14T21:14:17.575Z"
   },
   {
    "duration": 880,
    "start_time": "2022-02-14T21:14:41.618Z"
   },
   {
    "duration": 875,
    "start_time": "2022-02-14T21:14:41.625Z"
   },
   {
    "duration": 7583,
    "start_time": "2022-02-14T21:15:04.529Z"
   },
   {
    "duration": 617,
    "start_time": "2022-02-14T21:15:16.316Z"
   },
   {
    "duration": 22,
    "start_time": "2022-02-14T21:15:16.935Z"
   },
   {
    "duration": 7,
    "start_time": "2022-02-14T21:15:16.960Z"
   },
   {
    "duration": 8,
    "start_time": "2022-02-14T21:15:16.970Z"
   },
   {
    "duration": 9,
    "start_time": "2022-02-14T21:15:16.979Z"
   },
   {
    "duration": 9,
    "start_time": "2022-02-14T21:15:16.990Z"
   },
   {
    "duration": 10,
    "start_time": "2022-02-14T21:15:17.001Z"
   },
   {
    "duration": 47,
    "start_time": "2022-02-14T21:15:17.013Z"
   },
   {
    "duration": 15,
    "start_time": "2022-02-14T21:15:17.063Z"
   },
   {
    "duration": 6,
    "start_time": "2022-02-14T21:15:17.080Z"
   },
   {
    "duration": 14,
    "start_time": "2022-02-14T21:15:17.088Z"
   },
   {
    "duration": 8,
    "start_time": "2022-02-14T21:15:17.104Z"
   },
   {
    "duration": 8,
    "start_time": "2022-02-14T21:15:17.115Z"
   },
   {
    "duration": 8,
    "start_time": "2022-02-14T21:15:17.125Z"
   },
   {
    "duration": 28,
    "start_time": "2022-02-14T21:15:17.136Z"
   },
   {
    "duration": 5,
    "start_time": "2022-02-14T21:15:17.166Z"
   },
   {
    "duration": 8,
    "start_time": "2022-02-14T21:15:17.173Z"
   },
   {
    "duration": 7,
    "start_time": "2022-02-14T21:15:17.183Z"
   },
   {
    "duration": 15,
    "start_time": "2022-02-14T21:15:17.192Z"
   },
   {
    "duration": 10,
    "start_time": "2022-02-14T21:15:17.209Z"
   },
   {
    "duration": 45,
    "start_time": "2022-02-14T21:15:17.221Z"
   },
   {
    "duration": 6,
    "start_time": "2022-02-14T21:15:17.268Z"
   },
   {
    "duration": 7,
    "start_time": "2022-02-14T21:15:17.277Z"
   },
   {
    "duration": 14,
    "start_time": "2022-02-14T21:15:17.286Z"
   },
   {
    "duration": 5,
    "start_time": "2022-02-14T21:15:17.302Z"
   },
   {
    "duration": 9,
    "start_time": "2022-02-14T21:15:17.309Z"
   },
   {
    "duration": 59,
    "start_time": "2022-02-14T21:15:17.320Z"
   },
   {
    "duration": 66,
    "start_time": "2022-02-14T21:15:17.381Z"
   },
   {
    "duration": 652,
    "start_time": "2022-02-14T21:15:16.798Z"
   },
   {
    "duration": 649,
    "start_time": "2022-02-14T21:15:16.803Z"
   },
   {
    "duration": 627,
    "start_time": "2022-02-14T21:15:16.826Z"
   },
   {
    "duration": 623,
    "start_time": "2022-02-14T21:15:16.832Z"
   },
   {
    "duration": 617,
    "start_time": "2022-02-14T21:15:16.839Z"
   },
   {
    "duration": 609,
    "start_time": "2022-02-14T21:15:16.849Z"
   },
   {
    "duration": 604,
    "start_time": "2022-02-14T21:15:16.855Z"
   },
   {
    "duration": 589,
    "start_time": "2022-02-14T21:15:16.872Z"
   },
   {
    "duration": 585,
    "start_time": "2022-02-14T21:15:16.877Z"
   },
   {
    "duration": 582,
    "start_time": "2022-02-14T21:15:16.882Z"
   },
   {
    "duration": 579,
    "start_time": "2022-02-14T21:15:16.886Z"
   },
   {
    "duration": 576,
    "start_time": "2022-02-14T21:15:16.891Z"
   },
   {
    "duration": 572,
    "start_time": "2022-02-14T21:15:16.896Z"
   },
   {
    "duration": 568,
    "start_time": "2022-02-14T21:15:16.901Z"
   },
   {
    "duration": 566,
    "start_time": "2022-02-14T21:15:16.905Z"
   },
   {
    "duration": 9,
    "start_time": "2022-02-14T21:15:23.936Z"
   },
   {
    "duration": 937,
    "start_time": "2022-02-14T21:16:18.990Z"
   },
   {
    "duration": 929,
    "start_time": "2022-02-14T21:16:18.999Z"
   },
   {
    "duration": 925,
    "start_time": "2022-02-14T21:16:19.004Z"
   },
   {
    "duration": 11,
    "start_time": "2022-02-14T21:16:31.783Z"
   },
   {
    "duration": 653,
    "start_time": "2022-02-14T21:16:52.735Z"
   },
   {
    "duration": 21,
    "start_time": "2022-02-14T21:16:53.391Z"
   },
   {
    "duration": 6,
    "start_time": "2022-02-14T21:16:53.414Z"
   },
   {
    "duration": 11,
    "start_time": "2022-02-14T21:16:53.422Z"
   },
   {
    "duration": 29,
    "start_time": "2022-02-14T21:16:53.434Z"
   },
   {
    "duration": 7,
    "start_time": "2022-02-14T21:16:53.464Z"
   },
   {
    "duration": 5,
    "start_time": "2022-02-14T21:16:53.472Z"
   },
   {
    "duration": 3,
    "start_time": "2022-02-14T21:16:53.480Z"
   },
   {
    "duration": 7,
    "start_time": "2022-02-14T21:16:53.485Z"
   },
   {
    "duration": 9,
    "start_time": "2022-02-14T21:16:53.494Z"
   },
   {
    "duration": 13,
    "start_time": "2022-02-14T21:16:53.504Z"
   },
   {
    "duration": 42,
    "start_time": "2022-02-14T21:16:53.519Z"
   },
   {
    "duration": 5,
    "start_time": "2022-02-14T21:16:53.563Z"
   },
   {
    "duration": 7,
    "start_time": "2022-02-14T21:16:53.569Z"
   },
   {
    "duration": 8,
    "start_time": "2022-02-14T21:16:53.578Z"
   },
   {
    "duration": 4,
    "start_time": "2022-02-14T21:16:53.587Z"
   },
   {
    "duration": 7,
    "start_time": "2022-02-14T21:16:53.593Z"
   },
   {
    "duration": 6,
    "start_time": "2022-02-14T21:16:53.602Z"
   },
   {
    "duration": 6,
    "start_time": "2022-02-14T21:16:53.609Z"
   },
   {
    "duration": 46,
    "start_time": "2022-02-14T21:16:53.617Z"
   },
   {
    "duration": 10,
    "start_time": "2022-02-14T21:16:53.665Z"
   },
   {
    "duration": 4,
    "start_time": "2022-02-14T21:16:53.677Z"
   },
   {
    "duration": 6,
    "start_time": "2022-02-14T21:16:53.685Z"
   },
   {
    "duration": 7,
    "start_time": "2022-02-14T21:16:53.693Z"
   },
   {
    "duration": 6,
    "start_time": "2022-02-14T21:16:53.702Z"
   },
   {
    "duration": 6,
    "start_time": "2022-02-14T21:16:53.710Z"
   },
   {
    "duration": 60,
    "start_time": "2022-02-14T21:16:53.718Z"
   },
   {
    "duration": 66,
    "start_time": "2022-02-14T21:16:53.780Z"
   },
   {
    "duration": 457,
    "start_time": "2022-02-14T21:16:53.391Z"
   },
   {
    "duration": 449,
    "start_time": "2022-02-14T21:16:53.400Z"
   },
   {
    "duration": 445,
    "start_time": "2022-02-14T21:16:53.405Z"
   },
   {
    "duration": 442,
    "start_time": "2022-02-14T21:16:53.409Z"
   },
   {
    "duration": 435,
    "start_time": "2022-02-14T21:16:53.416Z"
   },
   {
    "duration": 431,
    "start_time": "2022-02-14T21:16:53.421Z"
   },
   {
    "duration": 426,
    "start_time": "2022-02-14T21:16:53.427Z"
   },
   {
    "duration": 423,
    "start_time": "2022-02-14T21:16:53.431Z"
   },
   {
    "duration": 418,
    "start_time": "2022-02-14T21:16:53.437Z"
   },
   {
    "duration": 414,
    "start_time": "2022-02-14T21:16:53.441Z"
   },
   {
    "duration": 409,
    "start_time": "2022-02-14T21:16:53.447Z"
   },
   {
    "duration": 406,
    "start_time": "2022-02-14T21:16:53.451Z"
   },
   {
    "duration": 402,
    "start_time": "2022-02-14T21:16:53.456Z"
   },
   {
    "duration": 392,
    "start_time": "2022-02-14T21:16:53.467Z"
   },
   {
    "duration": 388,
    "start_time": "2022-02-14T21:16:53.472Z"
   },
   {
    "duration": 8,
    "start_time": "2022-02-14T21:16:56.576Z"
   },
   {
    "duration": 8,
    "start_time": "2022-02-14T21:16:58.822Z"
   },
   {
    "duration": 116770,
    "start_time": "2022-02-14T21:17:07.997Z"
   },
   {
    "duration": 942,
    "start_time": "2022-02-14T21:19:03.827Z"
   },
   {
    "duration": 11,
    "start_time": "2022-02-14T21:19:12.817Z"
   },
   {
    "duration": 204,
    "start_time": "2022-02-14T21:19:48.631Z"
   },
   {
    "duration": 197,
    "start_time": "2022-02-14T21:19:56.241Z"
   },
   {
    "duration": 206,
    "start_time": "2022-02-14T21:19:57.338Z"
   },
   {
    "duration": 15,
    "start_time": "2022-02-14T21:20:13.857Z"
   },
   {
    "duration": 15,
    "start_time": "2022-02-14T21:20:15.418Z"
   },
   {
    "duration": 11,
    "start_time": "2022-02-14T21:20:16.424Z"
   },
   {
    "duration": 599,
    "start_time": "2022-02-14T21:20:30.313Z"
   },
   {
    "duration": 21,
    "start_time": "2022-02-14T21:20:30.914Z"
   },
   {
    "duration": 22,
    "start_time": "2022-02-14T21:20:30.937Z"
   },
   {
    "duration": 18,
    "start_time": "2022-02-14T21:20:30.961Z"
   },
   {
    "duration": 12,
    "start_time": "2022-02-14T21:20:30.980Z"
   },
   {
    "duration": 15,
    "start_time": "2022-02-14T21:20:30.994Z"
   },
   {
    "duration": 13,
    "start_time": "2022-02-14T21:20:31.011Z"
   },
   {
    "duration": 10,
    "start_time": "2022-02-14T21:20:31.027Z"
   },
   {
    "duration": 18,
    "start_time": "2022-02-14T21:20:31.039Z"
   },
   {
    "duration": 9,
    "start_time": "2022-02-14T21:20:31.059Z"
   },
   {
    "duration": 15,
    "start_time": "2022-02-14T21:20:31.070Z"
   },
   {
    "duration": 14,
    "start_time": "2022-02-14T21:20:31.087Z"
   },
   {
    "duration": 9,
    "start_time": "2022-02-14T21:20:31.103Z"
   },
   {
    "duration": 8,
    "start_time": "2022-02-14T21:20:31.114Z"
   },
   {
    "duration": 13,
    "start_time": "2022-02-14T21:20:31.123Z"
   },
   {
    "duration": 22,
    "start_time": "2022-02-14T21:20:31.139Z"
   },
   {
    "duration": 10,
    "start_time": "2022-02-14T21:20:31.163Z"
   },
   {
    "duration": 11,
    "start_time": "2022-02-14T21:20:31.175Z"
   },
   {
    "duration": 20,
    "start_time": "2022-02-14T21:20:31.188Z"
   },
   {
    "duration": 14,
    "start_time": "2022-02-14T21:20:31.210Z"
   },
   {
    "duration": 15,
    "start_time": "2022-02-14T21:20:31.226Z"
   },
   {
    "duration": 16,
    "start_time": "2022-02-14T21:20:31.243Z"
   },
   {
    "duration": 7,
    "start_time": "2022-02-14T21:20:31.262Z"
   },
   {
    "duration": 19,
    "start_time": "2022-02-14T21:20:31.271Z"
   },
   {
    "duration": 16,
    "start_time": "2022-02-14T21:20:31.292Z"
   },
   {
    "duration": 21,
    "start_time": "2022-02-14T21:20:31.310Z"
   },
   {
    "duration": 27,
    "start_time": "2022-02-14T21:20:31.333Z"
   },
   {
    "duration": 63,
    "start_time": "2022-02-14T21:20:31.362Z"
   },
   {
    "duration": 855,
    "start_time": "2022-02-14T21:20:30.572Z"
   },
   {
    "duration": 850,
    "start_time": "2022-02-14T21:20:30.578Z"
   },
   {
    "duration": 816,
    "start_time": "2022-02-14T21:20:30.612Z"
   },
   {
    "duration": 796,
    "start_time": "2022-02-14T21:20:30.633Z"
   },
   {
    "duration": 764,
    "start_time": "2022-02-14T21:20:30.666Z"
   },
   {
    "duration": 742,
    "start_time": "2022-02-14T21:20:30.689Z"
   },
   {
    "duration": 712,
    "start_time": "2022-02-14T21:20:30.719Z"
   },
   {
    "duration": 674,
    "start_time": "2022-02-14T21:20:30.758Z"
   },
   {
    "duration": 644,
    "start_time": "2022-02-14T21:20:30.789Z"
   },
   {
    "duration": 639,
    "start_time": "2022-02-14T21:20:30.795Z"
   },
   {
    "duration": 605,
    "start_time": "2022-02-14T21:20:30.831Z"
   },
   {
    "duration": 599,
    "start_time": "2022-02-14T21:20:30.838Z"
   },
   {
    "duration": 594,
    "start_time": "2022-02-14T21:20:30.843Z"
   },
   {
    "duration": 590,
    "start_time": "2022-02-14T21:20:30.848Z"
   },
   {
    "duration": 8,
    "start_time": "2022-02-14T21:20:36.822Z"
   },
   {
    "duration": 12,
    "start_time": "2022-02-14T21:20:38.568Z"
   },
   {
    "duration": 11,
    "start_time": "2022-02-14T21:20:39.609Z"
   },
   {
    "duration": 8,
    "start_time": "2022-02-14T21:20:45.049Z"
   },
   {
    "duration": 21,
    "start_time": "2022-02-14T21:21:04.392Z"
   },
   {
    "duration": 29,
    "start_time": "2022-02-14T21:21:15.383Z"
   },
   {
    "duration": 9,
    "start_time": "2022-02-14T21:22:15.737Z"
   },
   {
    "duration": 9,
    "start_time": "2022-02-14T21:23:01.760Z"
   },
   {
    "duration": 9,
    "start_time": "2022-02-14T21:23:25.022Z"
   },
   {
    "duration": 9,
    "start_time": "2022-02-14T21:23:41.035Z"
   },
   {
    "duration": 54,
    "start_time": "2022-02-14T21:26:55.542Z"
   },
   {
    "duration": 341,
    "start_time": "2022-02-15T19:03:42.956Z"
   },
   {
    "duration": 707,
    "start_time": "2022-02-15T19:03:49.715Z"
   },
   {
    "duration": 26,
    "start_time": "2022-02-15T19:03:50.424Z"
   },
   {
    "duration": 11,
    "start_time": "2022-02-15T19:03:50.453Z"
   },
   {
    "duration": 12,
    "start_time": "2022-02-15T19:03:50.467Z"
   },
   {
    "duration": 9,
    "start_time": "2022-02-15T19:03:50.480Z"
   },
   {
    "duration": 28,
    "start_time": "2022-02-15T19:03:50.491Z"
   },
   {
    "duration": 10,
    "start_time": "2022-02-15T19:03:50.521Z"
   },
   {
    "duration": 8,
    "start_time": "2022-02-15T19:03:50.534Z"
   },
   {
    "duration": 10,
    "start_time": "2022-02-15T19:03:50.544Z"
   },
   {
    "duration": 8,
    "start_time": "2022-02-15T19:03:50.555Z"
   },
   {
    "duration": 20,
    "start_time": "2022-02-15T19:03:50.565Z"
   },
   {
    "duration": 28,
    "start_time": "2022-02-15T19:03:50.587Z"
   },
   {
    "duration": 33,
    "start_time": "2022-02-15T19:03:50.617Z"
   },
   {
    "duration": 8,
    "start_time": "2022-02-15T19:03:50.651Z"
   },
   {
    "duration": 11,
    "start_time": "2022-02-15T19:03:50.661Z"
   },
   {
    "duration": 7,
    "start_time": "2022-02-15T19:03:50.674Z"
   },
   {
    "duration": 13,
    "start_time": "2022-02-15T19:03:50.682Z"
   },
   {
    "duration": 27,
    "start_time": "2022-02-15T19:03:50.697Z"
   },
   {
    "duration": 36,
    "start_time": "2022-02-15T19:03:50.726Z"
   },
   {
    "duration": 6,
    "start_time": "2022-02-15T19:03:50.764Z"
   },
   {
    "duration": 18,
    "start_time": "2022-02-15T19:03:50.772Z"
   },
   {
    "duration": 7,
    "start_time": "2022-02-15T19:03:50.791Z"
   },
   {
    "duration": 12,
    "start_time": "2022-02-15T19:03:50.802Z"
   },
   {
    "duration": 12,
    "start_time": "2022-02-15T19:03:50.816Z"
   },
   {
    "duration": 10,
    "start_time": "2022-02-15T19:03:50.830Z"
   },
   {
    "duration": 6,
    "start_time": "2022-02-15T19:03:50.842Z"
   },
   {
    "duration": 29,
    "start_time": "2022-02-15T19:03:50.850Z"
   },
   {
    "duration": 142,
    "start_time": "2022-02-15T19:03:50.880Z"
   },
   {
    "duration": -4092,
    "start_time": "2022-02-15T19:03:55.116Z"
   },
   {
    "duration": -4109,
    "start_time": "2022-02-15T19:03:55.135Z"
   },
   {
    "duration": -4115,
    "start_time": "2022-02-15T19:03:55.142Z"
   },
   {
    "duration": -4149,
    "start_time": "2022-02-15T19:03:55.178Z"
   },
   {
    "duration": -4185,
    "start_time": "2022-02-15T19:03:55.215Z"
   },
   {
    "duration": -4192,
    "start_time": "2022-02-15T19:03:55.224Z"
   },
   {
    "duration": -4199,
    "start_time": "2022-02-15T19:03:55.232Z"
   },
   {
    "duration": -4202,
    "start_time": "2022-02-15T19:03:55.237Z"
   },
   {
    "duration": -4206,
    "start_time": "2022-02-15T19:03:55.242Z"
   },
   {
    "duration": -4211,
    "start_time": "2022-02-15T19:03:55.248Z"
   },
   {
    "duration": -4214,
    "start_time": "2022-02-15T19:03:55.253Z"
   },
   {
    "duration": -4217,
    "start_time": "2022-02-15T19:03:55.257Z"
   },
   {
    "duration": -4221,
    "start_time": "2022-02-15T19:03:55.263Z"
   },
   {
    "duration": -4224,
    "start_time": "2022-02-15T19:03:55.268Z"
   },
   {
    "duration": -4227,
    "start_time": "2022-02-15T19:03:55.273Z"
   },
   {
    "duration": -4241,
    "start_time": "2022-02-15T19:03:55.288Z"
   },
   {
    "duration": -4243,
    "start_time": "2022-02-15T19:03:55.294Z"
   },
   {
    "duration": 6849,
    "start_time": "2022-02-15T19:03:52.352Z"
   },
   {
    "duration": -3898,
    "start_time": "2022-02-15T19:04:03.101Z"
   },
   {
    "duration": 4,
    "start_time": "2022-02-15T19:04:35.619Z"
   },
   {
    "duration": 9,
    "start_time": "2022-02-15T19:04:36.967Z"
   },
   {
    "duration": 9,
    "start_time": "2022-02-15T19:04:51.462Z"
   },
   {
    "duration": 8,
    "start_time": "2022-02-15T19:05:16.817Z"
   },
   {
    "duration": 13,
    "start_time": "2022-02-15T19:05:18.329Z"
   },
   {
    "duration": 9,
    "start_time": "2022-02-15T19:05:19.257Z"
   },
   {
    "duration": 52,
    "start_time": "2022-02-15T19:05:28.318Z"
   },
   {
    "duration": 15,
    "start_time": "2022-02-15T19:05:28.372Z"
   },
   {
    "duration": 30,
    "start_time": "2022-02-15T19:05:28.389Z"
   },
   {
    "duration": 5,
    "start_time": "2022-02-15T19:05:28.421Z"
   },
   {
    "duration": 6,
    "start_time": "2022-02-15T19:05:28.428Z"
   },
   {
    "duration": 12,
    "start_time": "2022-02-15T19:05:28.436Z"
   },
   {
    "duration": 8,
    "start_time": "2022-02-15T19:05:28.450Z"
   },
   {
    "duration": 5,
    "start_time": "2022-02-15T19:05:28.460Z"
   },
   {
    "duration": 7,
    "start_time": "2022-02-15T19:05:28.467Z"
   },
   {
    "duration": 10,
    "start_time": "2022-02-15T19:05:28.476Z"
   },
   {
    "duration": 41,
    "start_time": "2022-02-15T19:05:28.487Z"
   },
   {
    "duration": 6,
    "start_time": "2022-02-15T19:05:28.530Z"
   },
   {
    "duration": 4,
    "start_time": "2022-02-15T19:05:28.537Z"
   },
   {
    "duration": 8,
    "start_time": "2022-02-15T19:05:28.543Z"
   },
   {
    "duration": 13,
    "start_time": "2022-02-15T19:05:28.553Z"
   },
   {
    "duration": 8,
    "start_time": "2022-02-15T19:05:28.567Z"
   },
   {
    "duration": 14,
    "start_time": "2022-02-15T19:05:28.577Z"
   },
   {
    "duration": 28,
    "start_time": "2022-02-15T19:05:28.593Z"
   },
   {
    "duration": 6,
    "start_time": "2022-02-15T19:05:28.624Z"
   },
   {
    "duration": 6,
    "start_time": "2022-02-15T19:05:28.632Z"
   },
   {
    "duration": 15,
    "start_time": "2022-02-15T19:05:28.640Z"
   },
   {
    "duration": 5,
    "start_time": "2022-02-15T19:05:28.656Z"
   },
   {
    "duration": 6,
    "start_time": "2022-02-15T19:05:28.665Z"
   },
   {
    "duration": 7,
    "start_time": "2022-02-15T19:05:28.673Z"
   },
   {
    "duration": 3,
    "start_time": "2022-02-15T19:05:28.718Z"
   },
   {
    "duration": 7,
    "start_time": "2022-02-15T19:05:28.723Z"
   },
   {
    "duration": 21,
    "start_time": "2022-02-15T19:05:28.732Z"
   },
   {
    "duration": 86,
    "start_time": "2022-02-15T19:05:28.754Z"
   },
   {
    "duration": -4127,
    "start_time": "2022-02-15T19:05:32.969Z"
   },
   {
    "duration": -4138,
    "start_time": "2022-02-15T19:05:32.981Z"
   },
   {
    "duration": -4166,
    "start_time": "2022-02-15T19:05:33.010Z"
   },
   {
    "duration": -4173,
    "start_time": "2022-02-15T19:05:33.018Z"
   },
   {
    "duration": -4182,
    "start_time": "2022-02-15T19:05:33.028Z"
   },
   {
    "duration": -4189,
    "start_time": "2022-02-15T19:05:33.035Z"
   },
   {
    "duration": -4193,
    "start_time": "2022-02-15T19:05:33.040Z"
   },
   {
    "duration": -4197,
    "start_time": "2022-02-15T19:05:33.045Z"
   },
   {
    "duration": -4202,
    "start_time": "2022-02-15T19:05:33.051Z"
   },
   {
    "duration": -4221,
    "start_time": "2022-02-15T19:05:33.071Z"
   },
   {
    "duration": -4226,
    "start_time": "2022-02-15T19:05:33.076Z"
   },
   {
    "duration": -4230,
    "start_time": "2022-02-15T19:05:33.081Z"
   },
   {
    "duration": -4234,
    "start_time": "2022-02-15T19:05:33.086Z"
   },
   {
    "duration": -4238,
    "start_time": "2022-02-15T19:05:33.091Z"
   },
   {
    "duration": -4243,
    "start_time": "2022-02-15T19:05:33.096Z"
   },
   {
    "duration": -4247,
    "start_time": "2022-02-15T19:05:33.101Z"
   },
   {
    "duration": -4263,
    "start_time": "2022-02-15T19:05:33.118Z"
   },
   {
    "duration": 7,
    "start_time": "2022-02-15T19:05:34.698Z"
   },
   {
    "duration": 8,
    "start_time": "2022-02-15T19:05:37.447Z"
   },
   {
    "duration": 12,
    "start_time": "2022-02-15T19:05:38.253Z"
   },
   {
    "duration": 9,
    "start_time": "2022-02-15T19:05:39.786Z"
   },
   {
    "duration": 13,
    "start_time": "2022-02-15T19:05:40.967Z"
   },
   {
    "duration": 9,
    "start_time": "2022-02-15T19:05:41.602Z"
   },
   {
    "duration": 4,
    "start_time": "2022-02-15T19:05:43.464Z"
   },
   {
    "duration": 6,
    "start_time": "2022-02-15T19:05:44.138Z"
   },
   {
    "duration": 5,
    "start_time": "2022-02-15T19:05:46.344Z"
   },
   {
    "duration": 4,
    "start_time": "2022-02-15T19:06:12.091Z"
   },
   {
    "duration": 7,
    "start_time": "2022-02-15T19:06:20.987Z"
   },
   {
    "duration": 23,
    "start_time": "2022-02-15T19:08:28.835Z"
   },
   {
    "duration": 253,
    "start_time": "2022-02-15T19:10:17.853Z"
   },
   {
    "duration": 7,
    "start_time": "2022-02-15T19:10:30.307Z"
   },
   {
    "duration": 18,
    "start_time": "2022-02-15T19:10:35.637Z"
   },
   {
    "duration": 81,
    "start_time": "2022-02-15T19:26:54.054Z"
   },
   {
    "duration": 3,
    "start_time": "2022-02-15T19:27:01.927Z"
   },
   {
    "duration": 502,
    "start_time": "2022-02-15T19:27:06.111Z"
   },
   {
    "duration": 4,
    "start_time": "2022-02-15T19:27:47.343Z"
   },
   {
    "duration": 1261,
    "start_time": "2022-02-15T19:27:48.689Z"
   },
   {
    "duration": 310,
    "start_time": "2022-02-15T19:28:14.410Z"
   },
   {
    "duration": 10,
    "start_time": "2022-02-15T19:28:17.559Z"
   },
   {
    "duration": 4,
    "start_time": "2022-02-15T19:29:35.104Z"
   },
   {
    "duration": 1341,
    "start_time": "2022-02-15T19:29:40.802Z"
   },
   {
    "duration": 4,
    "start_time": "2022-02-15T19:29:43.905Z"
   },
   {
    "duration": 4,
    "start_time": "2022-02-15T19:29:45.175Z"
   },
   {
    "duration": 3,
    "start_time": "2022-02-15T19:29:47.064Z"
   },
   {
    "duration": 987,
    "start_time": "2022-02-15T19:30:26.525Z"
   },
   {
    "duration": 15,
    "start_time": "2022-02-15T19:30:38.720Z"
   },
   {
    "duration": 20,
    "start_time": "2022-02-15T19:30:42.704Z"
   },
   {
    "duration": 4,
    "start_time": "2022-02-15T19:30:58.199Z"
   },
   {
    "duration": 3,
    "start_time": "2022-02-15T19:31:01.745Z"
   },
   {
    "duration": 4,
    "start_time": "2022-02-15T19:31:08.955Z"
   },
   {
    "duration": 12,
    "start_time": "2022-02-15T19:31:21.403Z"
   },
   {
    "duration": 4,
    "start_time": "2022-02-15T19:32:33.936Z"
   },
   {
    "duration": 11,
    "start_time": "2022-02-15T19:32:35.419Z"
   },
   {
    "duration": 14,
    "start_time": "2022-02-15T19:32:36.394Z"
   },
   {
    "duration": 8,
    "start_time": "2022-02-15T19:50:34.261Z"
   },
   {
    "duration": 249,
    "start_time": "2022-02-15T19:50:46.278Z"
   },
   {
    "duration": 8,
    "start_time": "2022-02-15T19:50:52.014Z"
   },
   {
    "duration": 4,
    "start_time": "2022-02-15T20:54:42.556Z"
   },
   {
    "duration": 4,
    "start_time": "2022-02-15T20:55:00.283Z"
   },
   {
    "duration": 4,
    "start_time": "2022-02-15T20:55:08.258Z"
   },
   {
    "duration": 3,
    "start_time": "2022-02-15T20:55:19.601Z"
   },
   {
    "duration": 8,
    "start_time": "2022-02-15T20:56:21.956Z"
   },
   {
    "duration": 19,
    "start_time": "2022-02-15T20:56:26.036Z"
   },
   {
    "duration": -2226,
    "start_time": "2022-02-15T20:57:06.807Z"
   },
   {
    "duration": 6588,
    "start_time": "2022-02-15T20:57:13.859Z"
   },
   {
    "duration": 6089,
    "start_time": "2022-02-15T20:57:27.103Z"
   },
   {
    "duration": 8,
    "start_time": "2022-02-15T20:57:47.815Z"
   },
   {
    "duration": 8,
    "start_time": "2022-02-15T20:57:54.613Z"
   },
   {
    "duration": 60,
    "start_time": "2022-02-15T20:58:37.984Z"
   },
   {
    "duration": 15,
    "start_time": "2022-02-15T20:58:38.046Z"
   },
   {
    "duration": 26,
    "start_time": "2022-02-15T20:58:38.063Z"
   },
   {
    "duration": 32,
    "start_time": "2022-02-15T20:58:38.091Z"
   },
   {
    "duration": 15,
    "start_time": "2022-02-15T20:58:38.125Z"
   },
   {
    "duration": 6,
    "start_time": "2022-02-15T20:58:38.141Z"
   },
   {
    "duration": 10,
    "start_time": "2022-02-15T20:58:38.149Z"
   },
   {
    "duration": 5,
    "start_time": "2022-02-15T20:58:38.162Z"
   },
   {
    "duration": 7,
    "start_time": "2022-02-15T20:58:38.169Z"
   },
   {
    "duration": 7,
    "start_time": "2022-02-15T20:58:38.178Z"
   },
   {
    "duration": 12,
    "start_time": "2022-02-15T20:58:38.187Z"
   },
   {
    "duration": 18,
    "start_time": "2022-02-15T20:58:38.201Z"
   },
   {
    "duration": 6,
    "start_time": "2022-02-15T20:58:38.221Z"
   },
   {
    "duration": 7,
    "start_time": "2022-02-15T20:58:38.229Z"
   },
   {
    "duration": 13,
    "start_time": "2022-02-15T20:58:38.238Z"
   },
   {
    "duration": 6,
    "start_time": "2022-02-15T20:58:38.253Z"
   },
   {
    "duration": 9,
    "start_time": "2022-02-15T20:58:38.261Z"
   },
   {
    "duration": 20,
    "start_time": "2022-02-15T20:58:38.272Z"
   },
   {
    "duration": 25,
    "start_time": "2022-02-15T20:58:38.293Z"
   },
   {
    "duration": 41,
    "start_time": "2022-02-15T20:58:38.320Z"
   },
   {
    "duration": 33,
    "start_time": "2022-02-15T20:58:38.362Z"
   },
   {
    "duration": 24,
    "start_time": "2022-02-15T20:58:38.396Z"
   },
   {
    "duration": 9,
    "start_time": "2022-02-15T20:58:38.424Z"
   },
   {
    "duration": 9,
    "start_time": "2022-02-15T20:58:38.435Z"
   },
   {
    "duration": 4,
    "start_time": "2022-02-15T20:58:38.446Z"
   },
   {
    "duration": 14,
    "start_time": "2022-02-15T20:58:38.452Z"
   },
   {
    "duration": 25,
    "start_time": "2022-02-15T20:58:38.468Z"
   },
   {
    "duration": 84,
    "start_time": "2022-02-15T20:58:38.494Z"
   },
   {
    "duration": -2554,
    "start_time": "2022-02-15T20:58:41.133Z"
   },
   {
    "duration": -2559,
    "start_time": "2022-02-15T20:58:41.140Z"
   },
   {
    "duration": -2563,
    "start_time": "2022-02-15T20:58:41.145Z"
   },
   {
    "duration": -2571,
    "start_time": "2022-02-15T20:58:41.153Z"
   },
   {
    "duration": -2575,
    "start_time": "2022-02-15T20:58:41.158Z"
   },
   {
    "duration": -2608,
    "start_time": "2022-02-15T20:58:41.192Z"
   },
   {
    "duration": -2613,
    "start_time": "2022-02-15T20:58:41.198Z"
   },
   {
    "duration": -2619,
    "start_time": "2022-02-15T20:58:41.205Z"
   },
   {
    "duration": -2623,
    "start_time": "2022-02-15T20:58:41.210Z"
   },
   {
    "duration": -2628,
    "start_time": "2022-02-15T20:58:41.216Z"
   },
   {
    "duration": -2633,
    "start_time": "2022-02-15T20:58:41.222Z"
   },
   {
    "duration": -2638,
    "start_time": "2022-02-15T20:58:41.228Z"
   },
   {
    "duration": -2656,
    "start_time": "2022-02-15T20:58:41.247Z"
   },
   {
    "duration": -2661,
    "start_time": "2022-02-15T20:58:41.253Z"
   },
   {
    "duration": -2665,
    "start_time": "2022-02-15T20:58:41.258Z"
   },
   {
    "duration": -2679,
    "start_time": "2022-02-15T20:58:41.273Z"
   },
   {
    "duration": -2694,
    "start_time": "2022-02-15T20:58:41.289Z"
   },
   {
    "duration": -2730,
    "start_time": "2022-02-15T20:58:41.326Z"
   },
   {
    "duration": -2737,
    "start_time": "2022-02-15T20:58:41.334Z"
   },
   {
    "duration": -2745,
    "start_time": "2022-02-15T20:58:41.343Z"
   },
   {
    "duration": -2751,
    "start_time": "2022-02-15T20:58:41.350Z"
   },
   {
    "duration": -2759,
    "start_time": "2022-02-15T20:58:41.358Z"
   },
   {
    "duration": -2765,
    "start_time": "2022-02-15T20:58:41.365Z"
   },
   {
    "duration": -2772,
    "start_time": "2022-02-15T20:58:41.373Z"
   },
   {
    "duration": -2778,
    "start_time": "2022-02-15T20:58:41.380Z"
   },
   {
    "duration": -2790,
    "start_time": "2022-02-15T20:58:41.393Z"
   },
   {
    "duration": -2795,
    "start_time": "2022-02-15T20:58:41.399Z"
   },
   {
    "duration": -2810,
    "start_time": "2022-02-15T20:58:41.415Z"
   },
   {
    "duration": 6130,
    "start_time": "2022-02-15T20:58:41.210Z"
   },
   {
    "duration": 10,
    "start_time": "2022-02-15T20:58:53.365Z"
   },
   {
    "duration": 7,
    "start_time": "2022-02-15T20:58:56.045Z"
   },
   {
    "duration": 8,
    "start_time": "2022-02-15T20:58:57.797Z"
   },
   {
    "duration": 4,
    "start_time": "2022-02-15T20:58:59.501Z"
   },
   {
    "duration": 14,
    "start_time": "2022-02-15T20:59:16.314Z"
   },
   {
    "duration": 646,
    "start_time": "2022-02-15T20:59:22.437Z"
   },
   {
    "duration": 19,
    "start_time": "2022-02-15T20:59:23.085Z"
   },
   {
    "duration": 14,
    "start_time": "2022-02-15T20:59:23.108Z"
   },
   {
    "duration": 9,
    "start_time": "2022-02-15T20:59:23.124Z"
   },
   {
    "duration": 7,
    "start_time": "2022-02-15T20:59:23.135Z"
   },
   {
    "duration": 7,
    "start_time": "2022-02-15T20:59:23.144Z"
   },
   {
    "duration": 7,
    "start_time": "2022-02-15T20:59:23.153Z"
   },
   {
    "duration": 7,
    "start_time": "2022-02-15T20:59:23.162Z"
   },
   {
    "duration": 8,
    "start_time": "2022-02-15T20:59:23.171Z"
   },
   {
    "duration": 7,
    "start_time": "2022-02-15T20:59:23.180Z"
   },
   {
    "duration": 17,
    "start_time": "2022-02-15T20:59:23.189Z"
   },
   {
    "duration": 14,
    "start_time": "2022-02-15T20:59:23.208Z"
   },
   {
    "duration": 3,
    "start_time": "2022-02-15T20:59:23.224Z"
   },
   {
    "duration": 7,
    "start_time": "2022-02-15T20:59:23.229Z"
   },
   {
    "duration": 10,
    "start_time": "2022-02-15T20:59:23.237Z"
   },
   {
    "duration": 5,
    "start_time": "2022-02-15T20:59:23.249Z"
   },
   {
    "duration": 9,
    "start_time": "2022-02-15T20:59:23.256Z"
   },
   {
    "duration": 7,
    "start_time": "2022-02-15T20:59:23.266Z"
   },
   {
    "duration": 9,
    "start_time": "2022-02-15T20:59:23.274Z"
   },
   {
    "duration": 6,
    "start_time": "2022-02-15T20:59:23.285Z"
   },
   {
    "duration": 31,
    "start_time": "2022-02-15T20:59:23.292Z"
   },
   {
    "duration": 5,
    "start_time": "2022-02-15T20:59:23.326Z"
   },
   {
    "duration": 8,
    "start_time": "2022-02-15T20:59:23.333Z"
   },
   {
    "duration": 11,
    "start_time": "2022-02-15T20:59:23.342Z"
   },
   {
    "duration": 5,
    "start_time": "2022-02-15T20:59:23.355Z"
   },
   {
    "duration": 14,
    "start_time": "2022-02-15T20:59:23.361Z"
   },
   {
    "duration": 25,
    "start_time": "2022-02-15T20:59:23.377Z"
   },
   {
    "duration": 91,
    "start_time": "2022-02-15T20:59:23.403Z"
   },
   {
    "duration": -2601,
    "start_time": "2022-02-15T20:59:26.097Z"
   },
   {
    "duration": -2607,
    "start_time": "2022-02-15T20:59:26.104Z"
   },
   {
    "duration": -2613,
    "start_time": "2022-02-15T20:59:26.111Z"
   },
   {
    "duration": -2623,
    "start_time": "2022-02-15T20:59:26.122Z"
   },
   {
    "duration": -2629,
    "start_time": "2022-02-15T20:59:26.128Z"
   },
   {
    "duration": -2633,
    "start_time": "2022-02-15T20:59:26.133Z"
   },
   {
    "duration": -2641,
    "start_time": "2022-02-15T20:59:26.142Z"
   },
   {
    "duration": -2645,
    "start_time": "2022-02-15T20:59:26.147Z"
   },
   {
    "duration": -2753,
    "start_time": "2022-02-15T20:59:26.256Z"
   },
   {
    "duration": -2758,
    "start_time": "2022-02-15T20:59:26.261Z"
   },
   {
    "duration": -2762,
    "start_time": "2022-02-15T20:59:26.266Z"
   },
   {
    "duration": -2766,
    "start_time": "2022-02-15T20:59:26.271Z"
   },
   {
    "duration": -2771,
    "start_time": "2022-02-15T20:59:26.277Z"
   },
   {
    "duration": -2774,
    "start_time": "2022-02-15T20:59:26.281Z"
   },
   {
    "duration": -2778,
    "start_time": "2022-02-15T20:59:26.287Z"
   },
   {
    "duration": -2782,
    "start_time": "2022-02-15T20:59:26.292Z"
   },
   {
    "duration": -2797,
    "start_time": "2022-02-15T20:59:26.307Z"
   },
   {
    "duration": -2801,
    "start_time": "2022-02-15T20:59:26.312Z"
   },
   {
    "duration": -2806,
    "start_time": "2022-02-15T20:59:26.318Z"
   },
   {
    "duration": -2810,
    "start_time": "2022-02-15T20:59:26.323Z"
   },
   {
    "duration": -2814,
    "start_time": "2022-02-15T20:59:26.328Z"
   },
   {
    "duration": -2818,
    "start_time": "2022-02-15T20:59:26.333Z"
   },
   {
    "duration": -2823,
    "start_time": "2022-02-15T20:59:26.339Z"
   },
   {
    "duration": -2827,
    "start_time": "2022-02-15T20:59:26.344Z"
   },
   {
    "duration": -2832,
    "start_time": "2022-02-15T20:59:26.350Z"
   },
   {
    "duration": -2835,
    "start_time": "2022-02-15T20:59:26.354Z"
   },
   {
    "duration": 670,
    "start_time": "2022-02-15T20:59:40.305Z"
   },
   {
    "duration": 21,
    "start_time": "2022-02-15T20:59:40.978Z"
   },
   {
    "duration": 21,
    "start_time": "2022-02-15T20:59:41.002Z"
   },
   {
    "duration": 26,
    "start_time": "2022-02-15T20:59:41.026Z"
   },
   {
    "duration": 4,
    "start_time": "2022-02-15T20:59:41.054Z"
   },
   {
    "duration": 7,
    "start_time": "2022-02-15T20:59:41.059Z"
   },
   {
    "duration": 12,
    "start_time": "2022-02-15T20:59:41.067Z"
   },
   {
    "duration": 26,
    "start_time": "2022-02-15T20:59:41.082Z"
   },
   {
    "duration": 10,
    "start_time": "2022-02-15T20:59:41.110Z"
   },
   {
    "duration": 7,
    "start_time": "2022-02-15T20:59:41.121Z"
   },
   {
    "duration": 13,
    "start_time": "2022-02-15T20:59:41.130Z"
   },
   {
    "duration": 10,
    "start_time": "2022-02-15T20:59:41.144Z"
   },
   {
    "duration": 5,
    "start_time": "2022-02-15T20:59:41.156Z"
   },
   {
    "duration": 8,
    "start_time": "2022-02-15T20:59:41.162Z"
   },
   {
    "duration": 9,
    "start_time": "2022-02-15T20:59:41.171Z"
   },
   {
    "duration": 5,
    "start_time": "2022-02-15T20:59:41.182Z"
   },
   {
    "duration": 13,
    "start_time": "2022-02-15T20:59:41.188Z"
   },
   {
    "duration": 18,
    "start_time": "2022-02-15T20:59:41.203Z"
   },
   {
    "duration": 10,
    "start_time": "2022-02-15T20:59:41.223Z"
   },
   {
    "duration": 10,
    "start_time": "2022-02-15T20:59:41.235Z"
   },
   {
    "duration": 14,
    "start_time": "2022-02-15T20:59:41.247Z"
   },
   {
    "duration": 4,
    "start_time": "2022-02-15T20:59:41.262Z"
   },
   {
    "duration": 5,
    "start_time": "2022-02-15T20:59:41.270Z"
   },
   {
    "duration": 18,
    "start_time": "2022-02-15T20:59:41.277Z"
   },
   {
    "duration": 22,
    "start_time": "2022-02-15T20:59:41.296Z"
   },
   {
    "duration": 5,
    "start_time": "2022-02-15T20:59:41.320Z"
   },
   {
    "duration": 22,
    "start_time": "2022-02-15T20:59:41.327Z"
   },
   {
    "duration": 138,
    "start_time": "2022-02-15T20:59:41.351Z"
   },
   {
    "duration": -2531,
    "start_time": "2022-02-15T20:59:44.022Z"
   },
   {
    "duration": -2536,
    "start_time": "2022-02-15T20:59:44.027Z"
   },
   {
    "duration": -2540,
    "start_time": "2022-02-15T20:59:44.032Z"
   },
   {
    "duration": -2543,
    "start_time": "2022-02-15T20:59:44.037Z"
   },
   {
    "duration": -2548,
    "start_time": "2022-02-15T20:59:44.042Z"
   },
   {
    "duration": -2552,
    "start_time": "2022-02-15T20:59:44.047Z"
   },
   {
    "duration": -2557,
    "start_time": "2022-02-15T20:59:44.053Z"
   },
   {
    "duration": -2561,
    "start_time": "2022-02-15T20:59:44.058Z"
   },
   {
    "duration": -2590,
    "start_time": "2022-02-15T20:59:44.088Z"
   },
   {
    "duration": -2596,
    "start_time": "2022-02-15T20:59:44.095Z"
   },
   {
    "duration": -2614,
    "start_time": "2022-02-15T20:59:44.114Z"
   },
   {
    "duration": -2620,
    "start_time": "2022-02-15T20:59:44.120Z"
   },
   {
    "duration": -2625,
    "start_time": "2022-02-15T20:59:44.126Z"
   },
   {
    "duration": -2629,
    "start_time": "2022-02-15T20:59:44.131Z"
   },
   {
    "duration": -2633,
    "start_time": "2022-02-15T20:59:44.136Z"
   },
   {
    "duration": -2638,
    "start_time": "2022-02-15T20:59:44.142Z"
   },
   {
    "duration": -2643,
    "start_time": "2022-02-15T20:59:44.147Z"
   },
   {
    "duration": -2647,
    "start_time": "2022-02-15T20:59:44.152Z"
   },
   {
    "duration": -2651,
    "start_time": "2022-02-15T20:59:44.157Z"
   },
   {
    "duration": -2654,
    "start_time": "2022-02-15T20:59:44.162Z"
   },
   {
    "duration": -2658,
    "start_time": "2022-02-15T20:59:44.167Z"
   },
   {
    "duration": -2663,
    "start_time": "2022-02-15T20:59:44.173Z"
   },
   {
    "duration": -2667,
    "start_time": "2022-02-15T20:59:44.178Z"
   },
   {
    "duration": -2671,
    "start_time": "2022-02-15T20:59:44.183Z"
   },
   {
    "duration": -2688,
    "start_time": "2022-02-15T20:59:44.201Z"
   },
   {
    "duration": -2695,
    "start_time": "2022-02-15T20:59:44.209Z"
   },
   {
    "duration": 3,
    "start_time": "2022-02-15T21:00:10.120Z"
   },
   {
    "duration": 53,
    "start_time": "2022-02-15T21:00:14.286Z"
   },
   {
    "duration": 14,
    "start_time": "2022-02-15T21:00:14.341Z"
   },
   {
    "duration": 16,
    "start_time": "2022-02-15T21:00:14.357Z"
   },
   {
    "duration": 8,
    "start_time": "2022-02-15T21:00:14.375Z"
   },
   {
    "duration": 5,
    "start_time": "2022-02-15T21:00:14.385Z"
   },
   {
    "duration": 8,
    "start_time": "2022-02-15T21:00:14.391Z"
   },
   {
    "duration": 20,
    "start_time": "2022-02-15T21:00:14.400Z"
   },
   {
    "duration": 7,
    "start_time": "2022-02-15T21:00:14.422Z"
   },
   {
    "duration": 10,
    "start_time": "2022-02-15T21:00:14.432Z"
   },
   {
    "duration": 14,
    "start_time": "2022-02-15T21:00:14.444Z"
   },
   {
    "duration": 31,
    "start_time": "2022-02-15T21:00:14.460Z"
   },
   {
    "duration": 14,
    "start_time": "2022-02-15T21:00:14.492Z"
   },
   {
    "duration": 9,
    "start_time": "2022-02-15T21:00:14.508Z"
   },
   {
    "duration": 15,
    "start_time": "2022-02-15T21:00:14.519Z"
   },
   {
    "duration": 13,
    "start_time": "2022-02-15T21:00:14.535Z"
   },
   {
    "duration": 21,
    "start_time": "2022-02-15T21:00:14.550Z"
   },
   {
    "duration": 15,
    "start_time": "2022-02-15T21:00:14.573Z"
   },
   {
    "duration": 17,
    "start_time": "2022-02-15T21:00:14.590Z"
   },
   {
    "duration": 9,
    "start_time": "2022-02-15T21:00:14.609Z"
   },
   {
    "duration": 8,
    "start_time": "2022-02-15T21:00:14.620Z"
   },
   {
    "duration": 9,
    "start_time": "2022-02-15T21:00:14.630Z"
   },
   {
    "duration": 6,
    "start_time": "2022-02-15T21:00:14.641Z"
   },
   {
    "duration": 15,
    "start_time": "2022-02-15T21:00:14.649Z"
   },
   {
    "duration": 12,
    "start_time": "2022-02-15T21:00:14.666Z"
   },
   {
    "duration": 9,
    "start_time": "2022-02-15T21:00:14.680Z"
   },
   {
    "duration": 19,
    "start_time": "2022-02-15T21:00:14.690Z"
   },
   {
    "duration": 28,
    "start_time": "2022-02-15T21:00:14.718Z"
   },
   {
    "duration": 94,
    "start_time": "2022-02-15T21:00:14.749Z"
   },
   {
    "duration": -2416,
    "start_time": "2022-02-15T21:00:17.261Z"
   },
   {
    "duration": -2439,
    "start_time": "2022-02-15T21:00:17.285Z"
   },
   {
    "duration": -2467,
    "start_time": "2022-02-15T21:00:17.314Z"
   },
   {
    "duration": -2496,
    "start_time": "2022-02-15T21:00:17.344Z"
   },
   {
    "duration": -2500,
    "start_time": "2022-02-15T21:00:17.350Z"
   },
   {
    "duration": -2504,
    "start_time": "2022-02-15T21:00:17.355Z"
   },
   {
    "duration": -2508,
    "start_time": "2022-02-15T21:00:17.360Z"
   },
   {
    "duration": -2513,
    "start_time": "2022-02-15T21:00:17.366Z"
   },
   {
    "duration": -2517,
    "start_time": "2022-02-15T21:00:17.371Z"
   },
   {
    "duration": -2522,
    "start_time": "2022-02-15T21:00:17.377Z"
   },
   {
    "duration": -2525,
    "start_time": "2022-02-15T21:00:17.381Z"
   },
   {
    "duration": -2531,
    "start_time": "2022-02-15T21:00:17.388Z"
   },
   {
    "duration": -2536,
    "start_time": "2022-02-15T21:00:17.394Z"
   },
   {
    "duration": -2567,
    "start_time": "2022-02-15T21:00:17.426Z"
   },
   {
    "duration": -2571,
    "start_time": "2022-02-15T21:00:17.431Z"
   },
   {
    "duration": -2577,
    "start_time": "2022-02-15T21:00:17.439Z"
   },
   {
    "duration": -2597,
    "start_time": "2022-02-15T21:00:17.460Z"
   },
   {
    "duration": -2602,
    "start_time": "2022-02-15T21:00:17.466Z"
   },
   {
    "duration": -2607,
    "start_time": "2022-02-15T21:00:17.472Z"
   },
   {
    "duration": -2613,
    "start_time": "2022-02-15T21:00:17.479Z"
   },
   {
    "duration": -2618,
    "start_time": "2022-02-15T21:00:17.485Z"
   },
   {
    "duration": -2622,
    "start_time": "2022-02-15T21:00:17.491Z"
   },
   {
    "duration": -2626,
    "start_time": "2022-02-15T21:00:17.496Z"
   },
   {
    "duration": -2633,
    "start_time": "2022-02-15T21:00:17.503Z"
   },
   {
    "duration": -2637,
    "start_time": "2022-02-15T21:00:17.508Z"
   },
   {
    "duration": -2642,
    "start_time": "2022-02-15T21:00:17.514Z"
   },
   {
    "duration": -2128,
    "start_time": "2022-02-15T21:00:26.417Z"
   },
   {
    "duration": -2127,
    "start_time": "2022-02-15T21:00:26.417Z"
   },
   {
    "duration": 9,
    "start_time": "2022-02-15T21:00:45.629Z"
   },
   {
    "duration": 4,
    "start_time": "2022-02-15T21:00:49.586Z"
   },
   {
    "duration": 10,
    "start_time": "2022-02-15T21:00:50.797Z"
   },
   {
    "duration": 7,
    "start_time": "2022-02-15T21:00:51.392Z"
   },
   {
    "duration": 56,
    "start_time": "2022-02-15T21:01:28.952Z"
   },
   {
    "duration": 16,
    "start_time": "2022-02-15T21:01:29.011Z"
   },
   {
    "duration": 13,
    "start_time": "2022-02-15T21:01:29.029Z"
   },
   {
    "duration": 8,
    "start_time": "2022-02-15T21:01:29.044Z"
   },
   {
    "duration": 5,
    "start_time": "2022-02-15T21:01:29.053Z"
   },
   {
    "duration": 6,
    "start_time": "2022-02-15T21:01:29.059Z"
   },
   {
    "duration": 9,
    "start_time": "2022-02-15T21:01:29.067Z"
   },
   {
    "duration": 5,
    "start_time": "2022-02-15T21:01:29.079Z"
   },
   {
    "duration": 6,
    "start_time": "2022-02-15T21:01:29.120Z"
   },
   {
    "duration": 12,
    "start_time": "2022-02-15T21:01:29.127Z"
   },
   {
    "duration": 13,
    "start_time": "2022-02-15T21:01:29.140Z"
   },
   {
    "duration": 6,
    "start_time": "2022-02-15T21:01:29.155Z"
   },
   {
    "duration": 9,
    "start_time": "2022-02-15T21:01:29.163Z"
   },
   {
    "duration": 4,
    "start_time": "2022-02-15T21:01:29.175Z"
   },
   {
    "duration": 45,
    "start_time": "2022-02-15T21:01:29.181Z"
   },
   {
    "duration": 4,
    "start_time": "2022-02-15T21:01:29.228Z"
   },
   {
    "duration": 8,
    "start_time": "2022-02-15T21:01:29.235Z"
   },
   {
    "duration": 6,
    "start_time": "2022-02-15T21:01:29.245Z"
   },
   {
    "duration": 8,
    "start_time": "2022-02-15T21:01:29.253Z"
   },
   {
    "duration": 5,
    "start_time": "2022-02-15T21:01:29.263Z"
   },
   {
    "duration": 10,
    "start_time": "2022-02-15T21:01:29.271Z"
   },
   {
    "duration": 6,
    "start_time": "2022-02-15T21:01:29.318Z"
   },
   {
    "duration": 6,
    "start_time": "2022-02-15T21:01:29.329Z"
   },
   {
    "duration": 7,
    "start_time": "2022-02-15T21:01:29.338Z"
   },
   {
    "duration": 3,
    "start_time": "2022-02-15T21:01:29.347Z"
   },
   {
    "duration": 11,
    "start_time": "2022-02-15T21:01:29.352Z"
   },
   {
    "duration": 60,
    "start_time": "2022-02-15T21:01:29.365Z"
   },
   {
    "duration": 9,
    "start_time": "2022-02-15T21:01:29.427Z"
   },
   {
    "duration": 6,
    "start_time": "2022-02-15T21:01:29.438Z"
   },
   {
    "duration": 10,
    "start_time": "2022-02-15T21:01:29.446Z"
   },
   {
    "duration": 11,
    "start_time": "2022-02-15T21:01:29.458Z"
   },
   {
    "duration": 11,
    "start_time": "2022-02-15T21:01:29.471Z"
   },
   {
    "duration": 36,
    "start_time": "2022-02-15T21:01:29.484Z"
   },
   {
    "duration": 6,
    "start_time": "2022-02-15T21:01:29.522Z"
   },
   {
    "duration": 7,
    "start_time": "2022-02-15T21:01:29.529Z"
   },
   {
    "duration": 24,
    "start_time": "2022-02-15T21:01:29.538Z"
   },
   {
    "duration": 22,
    "start_time": "2022-02-15T21:01:29.564Z"
   },
   {
    "duration": 46,
    "start_time": "2022-02-15T21:01:29.588Z"
   },
   {
    "duration": 9,
    "start_time": "2022-02-15T21:01:29.636Z"
   },
   {
    "duration": 16,
    "start_time": "2022-02-15T21:01:29.646Z"
   },
   {
    "duration": 13,
    "start_time": "2022-02-15T21:01:29.664Z"
   },
   {
    "duration": 7,
    "start_time": "2022-02-15T21:01:29.679Z"
   },
   {
    "duration": 7,
    "start_time": "2022-02-15T21:01:29.718Z"
   },
   {
    "duration": 7,
    "start_time": "2022-02-15T21:01:29.727Z"
   },
   {
    "duration": 10,
    "start_time": "2022-02-15T21:01:29.736Z"
   },
   {
    "duration": 7,
    "start_time": "2022-02-15T21:01:29.748Z"
   },
   {
    "duration": 8,
    "start_time": "2022-02-15T21:01:29.757Z"
   },
   {
    "duration": 18,
    "start_time": "2022-02-15T21:01:29.767Z"
   },
   {
    "duration": 33,
    "start_time": "2022-02-15T21:01:29.787Z"
   },
   {
    "duration": 9,
    "start_time": "2022-02-15T21:01:29.821Z"
   },
   {
    "duration": 19,
    "start_time": "2022-02-15T21:01:29.831Z"
   },
   {
    "duration": 15,
    "start_time": "2022-02-15T21:01:29.852Z"
   },
   {
    "duration": 11,
    "start_time": "2022-02-15T21:01:29.870Z"
   },
   {
    "duration": 14,
    "start_time": "2022-02-15T21:02:56.551Z"
   },
   {
    "duration": 4,
    "start_time": "2022-02-15T21:06:58.728Z"
   },
   {
    "duration": 5,
    "start_time": "2022-02-15T21:07:19.646Z"
   },
   {
    "duration": 5,
    "start_time": "2022-02-15T21:07:20.318Z"
   },
   {
    "duration": 4,
    "start_time": "2022-02-15T21:08:44.023Z"
   },
   {
    "duration": 4,
    "start_time": "2022-02-15T21:08:44.735Z"
   },
   {
    "duration": 8,
    "start_time": "2022-02-15T21:09:14.122Z"
   },
   {
    "duration": 6,
    "start_time": "2022-02-15T21:09:25.888Z"
   },
   {
    "duration": 6,
    "start_time": "2022-02-15T21:09:27.776Z"
   },
   {
    "duration": 5,
    "start_time": "2022-02-15T21:09:28.897Z"
   },
   {
    "duration": 12,
    "start_time": "2022-02-15T21:10:08.107Z"
   },
   {
    "duration": 3,
    "start_time": "2022-02-15T21:12:52.224Z"
   },
   {
    "duration": 3,
    "start_time": "2022-02-15T21:12:55.736Z"
   },
   {
    "duration": 3,
    "start_time": "2022-02-15T21:13:00.402Z"
   },
   {
    "duration": 246,
    "start_time": "2022-02-15T21:15:55.652Z"
   },
   {
    "duration": 9,
    "start_time": "2022-02-15T21:16:03.850Z"
   },
   {
    "duration": 268,
    "start_time": "2022-02-15T21:16:33.373Z"
   },
   {
    "duration": 7,
    "start_time": "2022-02-15T21:16:45.539Z"
   },
   {
    "duration": 8,
    "start_time": "2022-02-15T21:17:37.670Z"
   },
   {
    "duration": 8,
    "start_time": "2022-02-15T21:18:01.398Z"
   },
   {
    "duration": 61,
    "start_time": "2022-02-15T21:18:05.441Z"
   },
   {
    "duration": 12,
    "start_time": "2022-02-15T21:18:05.504Z"
   },
   {
    "duration": 59,
    "start_time": "2022-02-15T21:18:15.423Z"
   },
   {
    "duration": 11,
    "start_time": "2022-02-15T21:18:15.485Z"
   },
   {
    "duration": 9,
    "start_time": "2022-02-15T21:18:15.498Z"
   },
   {
    "duration": 264,
    "start_time": "2022-02-15T21:19:49.567Z"
   },
   {
    "duration": 373,
    "start_time": "2022-02-15T21:20:00.125Z"
   },
   {
    "duration": 14,
    "start_time": "2022-02-15T21:20:06.440Z"
   },
   {
    "duration": 10,
    "start_time": "2022-02-15T21:20:15.312Z"
   },
   {
    "duration": 7,
    "start_time": "2022-02-15T21:22:48.951Z"
   },
   {
    "duration": 5,
    "start_time": "2022-02-15T21:24:55.368Z"
   },
   {
    "duration": 4,
    "start_time": "2022-02-15T21:25:05.489Z"
   },
   {
    "duration": 5,
    "start_time": "2022-02-15T21:25:08.346Z"
   },
   {
    "duration": 7,
    "start_time": "2022-02-15T21:26:07.976Z"
   },
   {
    "duration": 8,
    "start_time": "2022-02-15T21:33:58.718Z"
   },
   {
    "duration": 24,
    "start_time": "2022-02-15T21:37:56.585Z"
   },
   {
    "duration": 56,
    "start_time": "2022-02-15T21:38:04.456Z"
   },
   {
    "duration": 13,
    "start_time": "2022-02-15T21:38:04.514Z"
   },
   {
    "duration": 4,
    "start_time": "2022-02-15T21:38:04.559Z"
   },
   {
    "duration": 8,
    "start_time": "2022-02-15T21:38:04.564Z"
   },
   {
    "duration": 6,
    "start_time": "2022-02-15T21:38:04.574Z"
   },
   {
    "duration": 5,
    "start_time": "2022-02-15T21:38:04.582Z"
   },
   {
    "duration": 6,
    "start_time": "2022-02-15T21:38:04.589Z"
   },
   {
    "duration": 10,
    "start_time": "2022-02-15T21:38:04.597Z"
   },
   {
    "duration": 12,
    "start_time": "2022-02-15T21:38:04.609Z"
   },
   {
    "duration": 5,
    "start_time": "2022-02-15T21:38:04.622Z"
   },
   {
    "duration": 12,
    "start_time": "2022-02-15T21:38:04.629Z"
   },
   {
    "duration": 4,
    "start_time": "2022-02-15T21:38:04.644Z"
   },
   {
    "duration": 8,
    "start_time": "2022-02-15T21:38:04.650Z"
   },
   {
    "duration": 5,
    "start_time": "2022-02-15T21:38:04.660Z"
   },
   {
    "duration": 3,
    "start_time": "2022-02-15T21:38:04.668Z"
   },
   {
    "duration": 50,
    "start_time": "2022-02-15T21:38:04.674Z"
   },
   {
    "duration": 3,
    "start_time": "2022-02-15T21:38:04.726Z"
   },
   {
    "duration": 10,
    "start_time": "2022-02-15T21:38:04.731Z"
   },
   {
    "duration": 17,
    "start_time": "2022-02-15T21:38:04.743Z"
   },
   {
    "duration": 9,
    "start_time": "2022-02-15T21:38:04.762Z"
   },
   {
    "duration": 8,
    "start_time": "2022-02-15T21:38:04.773Z"
   },
   {
    "duration": 39,
    "start_time": "2022-02-15T21:38:04.783Z"
   },
   {
    "duration": 16,
    "start_time": "2022-02-15T21:38:04.824Z"
   },
   {
    "duration": 16,
    "start_time": "2022-02-15T21:38:04.842Z"
   },
   {
    "duration": 12,
    "start_time": "2022-02-15T21:38:04.859Z"
   },
   {
    "duration": 7,
    "start_time": "2022-02-15T21:38:04.873Z"
   },
   {
    "duration": 16,
    "start_time": "2022-02-15T21:38:04.881Z"
   },
   {
    "duration": 6,
    "start_time": "2022-02-15T21:38:04.899Z"
   },
   {
    "duration": 5,
    "start_time": "2022-02-15T21:38:04.919Z"
   },
   {
    "duration": 6,
    "start_time": "2022-02-15T21:38:04.925Z"
   },
   {
    "duration": 8,
    "start_time": "2022-02-15T21:38:04.933Z"
   },
   {
    "duration": 8,
    "start_time": "2022-02-15T21:38:04.943Z"
   },
   {
    "duration": 83,
    "start_time": "2022-02-15T21:38:04.952Z"
   },
   {
    "duration": -1416,
    "start_time": "2022-02-15T21:38:06.454Z"
   },
   {
    "duration": -1419,
    "start_time": "2022-02-15T21:38:06.458Z"
   },
   {
    "duration": -1423,
    "start_time": "2022-02-15T21:38:06.463Z"
   },
   {
    "duration": -1427,
    "start_time": "2022-02-15T21:38:06.468Z"
   },
   {
    "duration": -1430,
    "start_time": "2022-02-15T21:38:06.472Z"
   },
   {
    "duration": -1435,
    "start_time": "2022-02-15T21:38:06.478Z"
   },
   {
    "duration": -1438,
    "start_time": "2022-02-15T21:38:06.482Z"
   },
   {
    "duration": -1442,
    "start_time": "2022-02-15T21:38:06.487Z"
   },
   {
    "duration": -1446,
    "start_time": "2022-02-15T21:38:06.492Z"
   },
   {
    "duration": -1451,
    "start_time": "2022-02-15T21:38:06.498Z"
   },
   {
    "duration": -1476,
    "start_time": "2022-02-15T21:38:06.524Z"
   },
   {
    "duration": -1481,
    "start_time": "2022-02-15T21:38:06.530Z"
   },
   {
    "duration": -1486,
    "start_time": "2022-02-15T21:38:06.536Z"
   },
   {
    "duration": -1491,
    "start_time": "2022-02-15T21:38:06.542Z"
   },
   {
    "duration": -1497,
    "start_time": "2022-02-15T21:38:06.549Z"
   },
   {
    "duration": -1501,
    "start_time": "2022-02-15T21:38:06.554Z"
   },
   {
    "duration": -1504,
    "start_time": "2022-02-15T21:38:06.559Z"
   },
   {
    "duration": -1509,
    "start_time": "2022-02-15T21:38:06.565Z"
   },
   {
    "duration": -1514,
    "start_time": "2022-02-15T21:38:06.571Z"
   },
   {
    "duration": -1518,
    "start_time": "2022-02-15T21:38:06.576Z"
   },
   {
    "duration": 3,
    "start_time": "2022-02-15T21:38:41.614Z"
   },
   {
    "duration": 25,
    "start_time": "2022-02-15T21:38:48.847Z"
   },
   {
    "duration": 6,
    "start_time": "2022-02-15T21:39:48.627Z"
   },
   {
    "duration": 93,
    "start_time": "2022-02-16T20:05:35.443Z"
   },
   {
    "duration": 407,
    "start_time": "2022-02-16T20:05:48.899Z"
   },
   {
    "duration": 990,
    "start_time": "2022-02-16T20:05:57.610Z"
   },
   {
    "duration": 27,
    "start_time": "2022-02-16T20:05:58.607Z"
   },
   {
    "duration": 10,
    "start_time": "2022-02-16T20:05:58.637Z"
   },
   {
    "duration": 10,
    "start_time": "2022-02-16T20:05:58.650Z"
   },
   {
    "duration": 6,
    "start_time": "2022-02-16T20:05:58.663Z"
   },
   {
    "duration": 7,
    "start_time": "2022-02-16T20:05:58.671Z"
   },
   {
    "duration": 13,
    "start_time": "2022-02-16T20:05:58.725Z"
   },
   {
    "duration": 7,
    "start_time": "2022-02-16T20:05:58.741Z"
   },
   {
    "duration": 8,
    "start_time": "2022-02-16T20:05:58.750Z"
   },
   {
    "duration": 10,
    "start_time": "2022-02-16T20:05:58.760Z"
   },
   {
    "duration": 5,
    "start_time": "2022-02-16T20:05:58.773Z"
   },
   {
    "duration": 8,
    "start_time": "2022-02-16T20:05:58.824Z"
   },
   {
    "duration": 5,
    "start_time": "2022-02-16T20:05:58.835Z"
   },
   {
    "duration": 8,
    "start_time": "2022-02-16T20:05:58.842Z"
   },
   {
    "duration": 11,
    "start_time": "2022-02-16T20:05:58.853Z"
   },
   {
    "duration": 4,
    "start_time": "2022-02-16T20:05:58.867Z"
   },
   {
    "duration": 62,
    "start_time": "2022-02-16T20:05:58.874Z"
   },
   {
    "duration": 17,
    "start_time": "2022-02-16T20:05:58.939Z"
   },
   {
    "duration": 10,
    "start_time": "2022-02-16T20:05:58.959Z"
   },
   {
    "duration": 9,
    "start_time": "2022-02-16T20:05:58.972Z"
   },
   {
    "duration": 41,
    "start_time": "2022-02-16T20:05:58.984Z"
   },
   {
    "duration": 5,
    "start_time": "2022-02-16T20:05:59.030Z"
   },
   {
    "duration": 6,
    "start_time": "2022-02-16T20:05:59.040Z"
   },
   {
    "duration": 6,
    "start_time": "2022-02-16T20:05:59.048Z"
   },
   {
    "duration": 6,
    "start_time": "2022-02-16T20:05:59.056Z"
   },
   {
    "duration": 17,
    "start_time": "2022-02-16T20:05:59.064Z"
   },
   {
    "duration": 10,
    "start_time": "2022-02-16T20:05:59.124Z"
   },
   {
    "duration": 6,
    "start_time": "2022-02-16T20:05:59.137Z"
   },
   {
    "duration": 5,
    "start_time": "2022-02-16T20:05:59.146Z"
   },
   {
    "duration": 16,
    "start_time": "2022-02-16T20:05:59.154Z"
   },
   {
    "duration": 7,
    "start_time": "2022-02-16T20:05:59.173Z"
   },
   {
    "duration": 5,
    "start_time": "2022-02-16T20:05:59.224Z"
   },
   {
    "duration": 8,
    "start_time": "2022-02-16T20:05:59.232Z"
   },
   {
    "duration": 27,
    "start_time": "2022-02-16T20:05:59.243Z"
   },
   {
    "duration": 66,
    "start_time": "2022-02-16T20:05:59.272Z"
   },
   {
    "duration": 24,
    "start_time": "2022-02-16T20:05:59.340Z"
   },
   {
    "duration": 10,
    "start_time": "2022-02-16T20:05:59.366Z"
   },
   {
    "duration": 46,
    "start_time": "2022-02-16T20:05:59.378Z"
   },
   {
    "duration": 12,
    "start_time": "2022-02-16T20:05:59.426Z"
   },
   {
    "duration": 7,
    "start_time": "2022-02-16T20:05:59.440Z"
   },
   {
    "duration": 16,
    "start_time": "2022-02-16T20:05:59.450Z"
   },
   {
    "duration": 6,
    "start_time": "2022-02-16T20:05:59.469Z"
   },
   {
    "duration": 52,
    "start_time": "2022-02-16T20:05:59.478Z"
   },
   {
    "duration": 7,
    "start_time": "2022-02-16T20:05:59.532Z"
   },
   {
    "duration": 10,
    "start_time": "2022-02-16T20:05:59.541Z"
   },
   {
    "duration": 29,
    "start_time": "2022-02-16T20:05:59.554Z"
   },
   {
    "duration": 38,
    "start_time": "2022-02-16T20:05:59.585Z"
   },
   {
    "duration": 11,
    "start_time": "2022-02-16T20:05:59.625Z"
   },
   {
    "duration": 7,
    "start_time": "2022-02-16T20:05:59.638Z"
   },
   {
    "duration": 20,
    "start_time": "2022-02-16T20:05:59.648Z"
   },
   {
    "duration": 57,
    "start_time": "2022-02-16T20:05:59.671Z"
   },
   {
    "duration": 363,
    "start_time": "2022-02-16T20:05:59.731Z"
   },
   {
    "duration": 266,
    "start_time": "2022-02-16T20:06:17.090Z"
   },
   {
    "duration": 574,
    "start_time": "2022-02-16T20:06:25.266Z"
   },
   {
    "duration": 8,
    "start_time": "2022-02-16T20:07:34.548Z"
   },
   {
    "duration": 6,
    "start_time": "2022-02-16T20:07:35.479Z"
   },
   {
    "duration": 9,
    "start_time": "2022-02-16T20:08:45.104Z"
   },
   {
    "duration": 6,
    "start_time": "2022-02-16T20:09:05.307Z"
   },
   {
    "duration": 9,
    "start_time": "2022-02-16T20:09:27.679Z"
   },
   {
    "duration": 6,
    "start_time": "2022-02-16T20:09:28.897Z"
   },
   {
    "duration": 5,
    "start_time": "2022-02-16T20:10:09.175Z"
   },
   {
    "duration": 9,
    "start_time": "2022-02-16T20:16:19.696Z"
   },
   {
    "duration": 10,
    "start_time": "2022-02-16T20:16:32.900Z"
   },
   {
    "duration": 13,
    "start_time": "2022-02-16T20:16:48.264Z"
   },
   {
    "duration": 16,
    "start_time": "2022-02-16T20:16:58.763Z"
   },
   {
    "duration": 11,
    "start_time": "2022-02-16T20:16:59.577Z"
   },
   {
    "duration": 830,
    "start_time": "2022-02-16T20:17:26.358Z"
   },
   {
    "duration": 35,
    "start_time": "2022-02-16T20:17:27.191Z"
   },
   {
    "duration": 8,
    "start_time": "2022-02-16T20:17:27.230Z"
   },
   {
    "duration": 9,
    "start_time": "2022-02-16T20:17:27.241Z"
   },
   {
    "duration": 5,
    "start_time": "2022-02-16T20:17:27.253Z"
   },
   {
    "duration": 5,
    "start_time": "2022-02-16T20:17:27.260Z"
   },
   {
    "duration": 5,
    "start_time": "2022-02-16T20:17:27.267Z"
   },
   {
    "duration": 50,
    "start_time": "2022-02-16T20:17:27.276Z"
   },
   {
    "duration": 22,
    "start_time": "2022-02-16T20:17:27.331Z"
   },
   {
    "duration": 10,
    "start_time": "2022-02-16T20:17:27.357Z"
   },
   {
    "duration": 8,
    "start_time": "2022-02-16T20:17:27.370Z"
   },
   {
    "duration": 44,
    "start_time": "2022-02-16T20:17:27.380Z"
   },
   {
    "duration": 11,
    "start_time": "2022-02-16T20:17:27.426Z"
   },
   {
    "duration": 9,
    "start_time": "2022-02-16T20:17:27.439Z"
   },
   {
    "duration": 8,
    "start_time": "2022-02-16T20:17:27.451Z"
   },
   {
    "duration": 14,
    "start_time": "2022-02-16T20:17:27.461Z"
   },
   {
    "duration": 46,
    "start_time": "2022-02-16T20:17:27.478Z"
   },
   {
    "duration": 7,
    "start_time": "2022-02-16T20:17:27.526Z"
   },
   {
    "duration": 14,
    "start_time": "2022-02-16T20:17:27.535Z"
   },
   {
    "duration": 17,
    "start_time": "2022-02-16T20:17:27.552Z"
   },
   {
    "duration": 17,
    "start_time": "2022-02-16T20:17:27.572Z"
   },
   {
    "duration": 9,
    "start_time": "2022-02-16T20:17:27.591Z"
   },
   {
    "duration": 26,
    "start_time": "2022-02-16T20:17:27.605Z"
   },
   {
    "duration": 10,
    "start_time": "2022-02-16T20:17:27.635Z"
   },
   {
    "duration": 16,
    "start_time": "2022-02-16T20:17:27.648Z"
   },
   {
    "duration": 10,
    "start_time": "2022-02-16T20:17:27.666Z"
   },
   {
    "duration": 49,
    "start_time": "2022-02-16T20:17:27.679Z"
   },
   {
    "duration": 5,
    "start_time": "2022-02-16T20:17:27.731Z"
   },
   {
    "duration": 26,
    "start_time": "2022-02-16T20:17:27.739Z"
   },
   {
    "duration": 56,
    "start_time": "2022-02-16T20:17:27.767Z"
   },
   {
    "duration": 24,
    "start_time": "2022-02-16T20:17:27.826Z"
   },
   {
    "duration": 10,
    "start_time": "2022-02-16T20:17:27.852Z"
   },
   {
    "duration": 21,
    "start_time": "2022-02-16T20:17:27.864Z"
   },
   {
    "duration": 37,
    "start_time": "2022-02-16T20:17:27.887Z"
   },
   {
    "duration": 8,
    "start_time": "2022-02-16T20:17:27.927Z"
   },
   {
    "duration": 15,
    "start_time": "2022-02-16T20:17:27.938Z"
   },
   {
    "duration": 6,
    "start_time": "2022-02-16T20:17:27.956Z"
   },
   {
    "duration": 15,
    "start_time": "2022-02-16T20:17:27.964Z"
   },
   {
    "duration": 8,
    "start_time": "2022-02-16T20:17:27.981Z"
   },
   {
    "duration": 33,
    "start_time": "2022-02-16T20:17:27.991Z"
   },
   {
    "duration": 16,
    "start_time": "2022-02-16T20:17:28.027Z"
   },
   {
    "duration": 16,
    "start_time": "2022-02-16T20:17:28.046Z"
   },
   {
    "duration": 10,
    "start_time": "2022-02-16T20:17:28.064Z"
   },
   {
    "duration": 5,
    "start_time": "2022-02-16T20:17:28.076Z"
   },
   {
    "duration": 46,
    "start_time": "2022-02-16T20:17:28.084Z"
   },
   {
    "duration": 32,
    "start_time": "2022-02-16T20:17:28.133Z"
   },
   {
    "duration": 470,
    "start_time": "2022-02-16T20:17:28.168Z"
   },
   {
    "duration": 68,
    "start_time": "2022-02-16T20:18:27.004Z"
   },
   {
    "duration": 17,
    "start_time": "2022-02-16T20:18:27.075Z"
   },
   {
    "duration": 30,
    "start_time": "2022-02-16T20:18:27.095Z"
   },
   {
    "duration": 8,
    "start_time": "2022-02-16T20:18:27.128Z"
   },
   {
    "duration": 5,
    "start_time": "2022-02-16T20:18:27.138Z"
   },
   {
    "duration": 6,
    "start_time": "2022-02-16T20:18:27.145Z"
   },
   {
    "duration": 6,
    "start_time": "2022-02-16T20:18:27.153Z"
   },
   {
    "duration": 5,
    "start_time": "2022-02-16T20:18:27.163Z"
   },
   {
    "duration": 66,
    "start_time": "2022-02-16T20:18:45.358Z"
   },
   {
    "duration": 18,
    "start_time": "2022-02-16T20:18:45.426Z"
   },
   {
    "duration": 7,
    "start_time": "2022-02-16T20:18:45.447Z"
   },
   {
    "duration": 7,
    "start_time": "2022-02-16T20:18:45.457Z"
   },
   {
    "duration": 7,
    "start_time": "2022-02-16T20:18:45.467Z"
   },
   {
    "duration": 46,
    "start_time": "2022-02-16T20:18:45.477Z"
   },
   {
    "duration": 5,
    "start_time": "2022-02-16T20:18:45.526Z"
   },
   {
    "duration": 9,
    "start_time": "2022-02-16T20:18:45.534Z"
   },
   {
    "duration": 17,
    "start_time": "2022-02-16T20:18:45.545Z"
   },
   {
    "duration": 9,
    "start_time": "2022-02-16T20:18:47.766Z"
   },
   {
    "duration": 5,
    "start_time": "2022-02-16T20:18:50.538Z"
   },
   {
    "duration": 6,
    "start_time": "2022-02-16T20:18:51.478Z"
   },
   {
    "duration": 9,
    "start_time": "2022-02-16T20:18:52.952Z"
   },
   {
    "duration": 8,
    "start_time": "2022-02-16T20:19:03.944Z"
   },
   {
    "duration": 7,
    "start_time": "2022-02-16T20:19:11.921Z"
   },
   {
    "duration": 7,
    "start_time": "2022-02-16T20:19:13.167Z"
   },
   {
    "duration": 12,
    "start_time": "2022-02-16T20:19:33.264Z"
   },
   {
    "duration": 7,
    "start_time": "2022-02-16T20:19:46.776Z"
   },
   {
    "duration": 7,
    "start_time": "2022-02-16T20:19:48.664Z"
   },
   {
    "duration": 9,
    "start_time": "2022-02-16T20:19:56.265Z"
   },
   {
    "duration": 5,
    "start_time": "2022-02-16T20:20:01.490Z"
   },
   {
    "duration": 8,
    "start_time": "2022-02-16T20:20:04.842Z"
   },
   {
    "duration": 7,
    "start_time": "2022-02-16T20:20:21.331Z"
   },
   {
    "duration": 101,
    "start_time": "2022-02-16T20:21:45.826Z"
   },
   {
    "duration": 271,
    "start_time": "2022-02-16T20:21:56.447Z"
   },
   {
    "duration": 298,
    "start_time": "2022-02-16T20:22:55.947Z"
   },
   {
    "duration": 11,
    "start_time": "2022-02-16T20:23:01.513Z"
   },
   {
    "duration": 1052,
    "start_time": "2022-02-16T20:23:04.654Z"
   },
   {
    "duration": 1225,
    "start_time": "2022-02-16T20:23:19.071Z"
   },
   {
    "duration": 1077,
    "start_time": "2022-02-16T20:23:51.974Z"
   },
   {
    "duration": 1053,
    "start_time": "2022-02-16T20:24:25.845Z"
   },
   {
    "duration": 1007,
    "start_time": "2022-02-16T20:26:33.736Z"
   },
   {
    "duration": 1062,
    "start_time": "2022-02-16T20:26:37.845Z"
   },
   {
    "duration": 137,
    "start_time": "2022-02-16T20:27:34.951Z"
   },
   {
    "duration": 7,
    "start_time": "2022-02-16T20:27:39.783Z"
   },
   {
    "duration": 140,
    "start_time": "2022-02-16T20:27:41.958Z"
   },
   {
    "duration": 18,
    "start_time": "2022-02-16T20:27:48.397Z"
   },
   {
    "duration": 9,
    "start_time": "2022-02-16T20:27:52.182Z"
   },
   {
    "duration": 5,
    "start_time": "2022-02-16T20:27:54.431Z"
   },
   {
    "duration": 5,
    "start_time": "2022-02-16T20:27:55.219Z"
   },
   {
    "duration": 9,
    "start_time": "2022-02-16T20:27:56.522Z"
   },
   {
    "duration": 141,
    "start_time": "2022-02-16T20:27:58.255Z"
   },
   {
    "duration": 67,
    "start_time": "2022-02-16T20:28:08.043Z"
   },
   {
    "duration": 16,
    "start_time": "2022-02-16T20:28:08.113Z"
   },
   {
    "duration": 7,
    "start_time": "2022-02-16T20:28:08.132Z"
   },
   {
    "duration": 16,
    "start_time": "2022-02-16T20:28:08.142Z"
   },
   {
    "duration": 6,
    "start_time": "2022-02-16T20:28:08.161Z"
   },
   {
    "duration": 8,
    "start_time": "2022-02-16T20:28:08.170Z"
   },
   {
    "duration": 42,
    "start_time": "2022-02-16T20:28:08.181Z"
   },
   {
    "duration": 5,
    "start_time": "2022-02-16T20:28:08.228Z"
   },
   {
    "duration": 20,
    "start_time": "2022-02-16T20:28:08.236Z"
   },
   {
    "duration": 8,
    "start_time": "2022-02-16T20:28:08.258Z"
   },
   {
    "duration": 5,
    "start_time": "2022-02-16T20:28:08.268Z"
   },
   {
    "duration": 7,
    "start_time": "2022-02-16T20:28:08.276Z"
   },
   {
    "duration": 8,
    "start_time": "2022-02-16T20:28:08.324Z"
   },
   {
    "duration": 7,
    "start_time": "2022-02-16T20:28:08.334Z"
   },
   {
    "duration": 7,
    "start_time": "2022-02-16T20:28:12.046Z"
   },
   {
    "duration": 36,
    "start_time": "2022-02-16T20:28:13.912Z"
   },
   {
    "duration": 277,
    "start_time": "2022-02-16T20:28:33.320Z"
   },
   {
    "duration": 36,
    "start_time": "2022-02-16T20:28:42.672Z"
   },
   {
    "duration": 10,
    "start_time": "2022-02-16T20:29:07.259Z"
   },
   {
    "duration": 10,
    "start_time": "2022-02-16T20:29:15.904Z"
   },
   {
    "duration": 11,
    "start_time": "2022-02-16T20:29:20.859Z"
   },
   {
    "duration": 7,
    "start_time": "2022-02-16T20:29:58.571Z"
   },
   {
    "duration": 8,
    "start_time": "2022-02-16T20:29:59.289Z"
   },
   {
    "duration": 8,
    "start_time": "2022-02-16T20:30:34.254Z"
   },
   {
    "duration": 9,
    "start_time": "2022-02-16T20:30:35.581Z"
   },
   {
    "duration": 8,
    "start_time": "2022-02-16T20:30:40.224Z"
   },
   {
    "duration": 8,
    "start_time": "2022-02-16T20:30:42.808Z"
   },
   {
    "duration": 70,
    "start_time": "2022-02-16T20:30:51.295Z"
   },
   {
    "duration": 19,
    "start_time": "2022-02-16T20:30:51.367Z"
   },
   {
    "duration": 32,
    "start_time": "2022-02-16T20:30:51.391Z"
   },
   {
    "duration": 11,
    "start_time": "2022-02-16T20:30:51.426Z"
   },
   {
    "duration": 6,
    "start_time": "2022-02-16T20:30:51.440Z"
   },
   {
    "duration": 8,
    "start_time": "2022-02-16T20:30:51.449Z"
   },
   {
    "duration": 6,
    "start_time": "2022-02-16T20:30:51.459Z"
   },
   {
    "duration": 8,
    "start_time": "2022-02-16T20:30:51.467Z"
   },
   {
    "duration": 14,
    "start_time": "2022-02-16T20:30:51.523Z"
   },
   {
    "duration": 8,
    "start_time": "2022-02-16T20:30:51.540Z"
   },
   {
    "duration": 4,
    "start_time": "2022-02-16T20:30:51.551Z"
   },
   {
    "duration": 5,
    "start_time": "2022-02-16T20:30:51.558Z"
   },
   {
    "duration": 12,
    "start_time": "2022-02-16T20:30:51.565Z"
   },
   {
    "duration": 49,
    "start_time": "2022-02-16T20:30:51.580Z"
   },
   {
    "duration": 7,
    "start_time": "2022-02-16T20:30:56.672Z"
   },
   {
    "duration": 12,
    "start_time": "2022-02-16T20:30:58.294Z"
   },
   {
    "duration": 298,
    "start_time": "2022-02-16T20:31:31.273Z"
   },
   {
    "duration": 8,
    "start_time": "2022-02-16T20:31:39.416Z"
   },
   {
    "duration": 8,
    "start_time": "2022-02-16T20:31:42.321Z"
   },
   {
    "duration": 8,
    "start_time": "2022-02-16T20:31:44.124Z"
   },
   {
    "duration": 8,
    "start_time": "2022-02-16T20:31:49.793Z"
   },
   {
    "duration": 5,
    "start_time": "2022-02-16T20:31:56.817Z"
   },
   {
    "duration": 7,
    "start_time": "2022-02-16T20:31:58.321Z"
   },
   {
    "duration": 6,
    "start_time": "2022-02-16T20:32:22.026Z"
   },
   {
    "duration": 6,
    "start_time": "2022-02-16T20:32:22.936Z"
   },
   {
    "duration": 11,
    "start_time": "2022-02-16T20:32:25.858Z"
   },
   {
    "duration": 7,
    "start_time": "2022-02-16T20:32:28.142Z"
   },
   {
    "duration": 6,
    "start_time": "2022-02-16T20:32:29.022Z"
   },
   {
    "duration": 10,
    "start_time": "2022-02-16T20:32:31.272Z"
   },
   {
    "duration": 4,
    "start_time": "2022-02-16T20:32:32.768Z"
   },
   {
    "duration": 8,
    "start_time": "2022-02-16T20:32:33.984Z"
   },
   {
    "duration": 7,
    "start_time": "2022-02-16T20:32:34.808Z"
   },
   {
    "duration": 9,
    "start_time": "2022-02-16T20:32:37.763Z"
   },
   {
    "duration": 70,
    "start_time": "2022-02-16T20:32:56.758Z"
   },
   {
    "duration": 18,
    "start_time": "2022-02-16T20:32:56.830Z"
   },
   {
    "duration": 8,
    "start_time": "2022-02-16T20:32:56.851Z"
   },
   {
    "duration": 8,
    "start_time": "2022-02-16T20:32:56.862Z"
   },
   {
    "duration": 4,
    "start_time": "2022-02-16T20:32:56.873Z"
   },
   {
    "duration": 5,
    "start_time": "2022-02-16T20:32:56.923Z"
   },
   {
    "duration": 7,
    "start_time": "2022-02-16T20:32:56.931Z"
   },
   {
    "duration": 5,
    "start_time": "2022-02-16T20:32:56.941Z"
   },
   {
    "duration": 16,
    "start_time": "2022-02-16T20:32:56.949Z"
   },
   {
    "duration": 55,
    "start_time": "2022-02-16T20:32:56.968Z"
   },
   {
    "duration": 5,
    "start_time": "2022-02-16T20:32:57.026Z"
   },
   {
    "duration": 5,
    "start_time": "2022-02-16T20:32:57.034Z"
   },
   {
    "duration": 10,
    "start_time": "2022-02-16T20:32:57.042Z"
   },
   {
    "duration": 8,
    "start_time": "2022-02-16T20:32:57.055Z"
   },
   {
    "duration": 5,
    "start_time": "2022-02-16T20:32:57.066Z"
   },
   {
    "duration": 9,
    "start_time": "2022-02-16T20:32:57.125Z"
   },
   {
    "duration": 8,
    "start_time": "2022-02-16T20:32:57.136Z"
   },
   {
    "duration": 9,
    "start_time": "2022-02-16T20:32:57.146Z"
   },
   {
    "duration": 11,
    "start_time": "2022-02-16T20:32:57.158Z"
   },
   {
    "duration": 53,
    "start_time": "2022-02-16T20:32:57.171Z"
   },
   {
    "duration": 6,
    "start_time": "2022-02-16T20:32:57.226Z"
   },
   {
    "duration": 14,
    "start_time": "2022-02-16T20:32:57.235Z"
   },
   {
    "duration": 9,
    "start_time": "2022-02-16T20:32:57.254Z"
   },
   {
    "duration": 9,
    "start_time": "2022-02-16T20:32:57.266Z"
   },
   {
    "duration": 7,
    "start_time": "2022-02-16T20:32:57.277Z"
   },
   {
    "duration": 42,
    "start_time": "2022-02-16T20:32:57.287Z"
   },
   {
    "duration": 10,
    "start_time": "2022-02-16T20:32:57.331Z"
   },
   {
    "duration": 13,
    "start_time": "2022-02-16T20:32:57.343Z"
   },
   {
    "duration": 9,
    "start_time": "2022-02-16T20:32:57.359Z"
   },
   {
    "duration": 6,
    "start_time": "2022-02-16T20:32:57.370Z"
   },
   {
    "duration": 49,
    "start_time": "2022-02-16T20:32:57.378Z"
   },
   {
    "duration": 26,
    "start_time": "2022-02-16T20:32:57.429Z"
   },
   {
    "duration": 27,
    "start_time": "2022-02-16T20:32:57.458Z"
   },
   {
    "duration": 58,
    "start_time": "2022-02-16T20:32:57.487Z"
   },
   {
    "duration": 9,
    "start_time": "2022-02-16T20:32:57.548Z"
   },
   {
    "duration": 20,
    "start_time": "2022-02-16T20:32:57.560Z"
   },
   {
    "duration": 42,
    "start_time": "2022-02-16T20:32:57.583Z"
   },
   {
    "duration": 5,
    "start_time": "2022-02-16T20:32:57.628Z"
   },
   {
    "duration": 12,
    "start_time": "2022-02-16T20:32:57.636Z"
   },
   {
    "duration": 9,
    "start_time": "2022-02-16T20:32:57.651Z"
   },
   {
    "duration": 15,
    "start_time": "2022-02-16T20:32:57.663Z"
   },
   {
    "duration": 9,
    "start_time": "2022-02-16T20:32:57.681Z"
   },
   {
    "duration": 4,
    "start_time": "2022-02-16T20:32:57.724Z"
   },
   {
    "duration": 21,
    "start_time": "2022-02-16T20:32:57.731Z"
   },
   {
    "duration": 17,
    "start_time": "2022-02-16T20:32:57.754Z"
   },
   {
    "duration": 12,
    "start_time": "2022-02-16T20:32:57.774Z"
   },
   {
    "duration": 37,
    "start_time": "2022-02-16T20:32:57.788Z"
   },
   {
    "duration": 19,
    "start_time": "2022-02-16T20:32:57.828Z"
   },
   {
    "duration": 35,
    "start_time": "2022-02-16T20:32:57.849Z"
   },
   {
    "duration": 285,
    "start_time": "2022-02-16T20:33:01.720Z"
   },
   {
    "duration": 258,
    "start_time": "2022-02-16T20:37:33.365Z"
   },
   {
    "duration": 285,
    "start_time": "2022-02-16T20:37:44.681Z"
   },
   {
    "duration": 288,
    "start_time": "2022-02-16T20:40:13.797Z"
   },
   {
    "duration": 22,
    "start_time": "2022-02-16T20:40:19.503Z"
   },
   {
    "duration": 10,
    "start_time": "2022-02-16T20:40:22.757Z"
   },
   {
    "duration": 346,
    "start_time": "2022-02-16T20:41:39.869Z"
   },
   {
    "duration": 21,
    "start_time": "2022-02-16T20:41:42.304Z"
   },
   {
    "duration": 10,
    "start_time": "2022-02-16T20:41:43.128Z"
   },
   {
    "duration": 20,
    "start_time": "2022-02-16T20:42:56.255Z"
   },
   {
    "duration": 9,
    "start_time": "2022-02-16T20:42:58.770Z"
   },
   {
    "duration": 261,
    "start_time": "2022-02-16T20:43:56.991Z"
   },
   {
    "duration": 10,
    "start_time": "2022-02-16T20:43:57.498Z"
   },
   {
    "duration": 281,
    "start_time": "2022-02-16T20:44:04.407Z"
   },
   {
    "duration": 22,
    "start_time": "2022-02-16T20:44:47.796Z"
   },
   {
    "duration": 9,
    "start_time": "2022-02-16T20:44:49.004Z"
   },
   {
    "duration": 29,
    "start_time": "2022-02-16T20:45:22.889Z"
   },
   {
    "duration": 10,
    "start_time": "2022-02-16T20:45:24.120Z"
   },
   {
    "duration": 22,
    "start_time": "2022-02-16T20:45:27.737Z"
   },
   {
    "duration": 8,
    "start_time": "2022-02-16T20:45:28.777Z"
   },
   {
    "duration": 20,
    "start_time": "2022-02-16T20:45:38.801Z"
   },
   {
    "duration": 10,
    "start_time": "2022-02-16T20:45:40.705Z"
   },
   {
    "duration": 29,
    "start_time": "2022-02-16T20:45:48.401Z"
   },
   {
    "duration": 11,
    "start_time": "2022-02-16T20:45:50.049Z"
   },
   {
    "duration": 22,
    "start_time": "2022-02-16T20:45:51.495Z"
   },
   {
    "duration": 30,
    "start_time": "2022-02-16T20:49:41.192Z"
   },
   {
    "duration": 37,
    "start_time": "2022-02-16T20:49:44.229Z"
   },
   {
    "duration": 268,
    "start_time": "2022-02-16T20:50:13.452Z"
   },
   {
    "duration": 280,
    "start_time": "2022-02-16T20:50:22.820Z"
   },
   {
    "duration": 124,
    "start_time": "2022-02-16T20:50:33.614Z"
   },
   {
    "duration": 20,
    "start_time": "2022-02-16T20:50:40.658Z"
   },
   {
    "duration": 11,
    "start_time": "2022-02-16T20:50:41.919Z"
   },
   {
    "duration": 7031,
    "start_time": "2022-02-16T20:51:39.914Z"
   },
   {
    "duration": 21,
    "start_time": "2022-02-16T20:51:55.244Z"
   },
   {
    "duration": 6,
    "start_time": "2022-02-16T20:55:37.126Z"
   },
   {
    "duration": 10,
    "start_time": "2022-02-16T20:55:50.188Z"
   },
   {
    "duration": 5,
    "start_time": "2022-02-16T20:55:57.584Z"
   },
   {
    "duration": 13,
    "start_time": "2022-02-16T20:55:57.592Z"
   },
   {
    "duration": 5,
    "start_time": "2022-02-16T21:00:02.793Z"
   },
   {
    "duration": 11,
    "start_time": "2022-02-16T21:00:03.952Z"
   },
   {
    "duration": 21,
    "start_time": "2022-02-16T21:00:11.996Z"
   },
   {
    "duration": 11,
    "start_time": "2022-02-16T21:00:14.161Z"
   },
   {
    "duration": 6,
    "start_time": "2022-02-16T21:00:15.723Z"
   },
   {
    "duration": 10,
    "start_time": "2022-02-16T21:00:16.328Z"
   },
   {
    "duration": 6,
    "start_time": "2022-02-16T21:05:50.238Z"
   },
   {
    "duration": 13,
    "start_time": "2022-02-16T21:05:50.989Z"
   },
   {
    "duration": 20,
    "start_time": "2022-02-16T21:05:54.486Z"
   },
   {
    "duration": 7,
    "start_time": "2022-02-16T21:05:55.438Z"
   },
   {
    "duration": 16,
    "start_time": "2022-02-16T21:05:57.379Z"
   },
   {
    "duration": 5,
    "start_time": "2022-02-16T21:06:09.440Z"
   },
   {
    "duration": 11,
    "start_time": "2022-02-16T21:06:10.790Z"
   },
   {
    "duration": 21,
    "start_time": "2022-02-16T21:09:13.470Z"
   },
   {
    "duration": 363,
    "start_time": "2022-02-16T21:10:31.343Z"
   },
   {
    "duration": 5,
    "start_time": "2022-02-16T21:10:31.865Z"
   },
   {
    "duration": 20,
    "start_time": "2022-02-16T21:10:48.992Z"
   },
   {
    "duration": 252,
    "start_time": "2022-02-16T21:10:49.712Z"
   },
   {
    "duration": 4,
    "start_time": "2022-02-16T21:11:17.583Z"
   },
   {
    "duration": 6,
    "start_time": "2022-02-16T21:11:50.409Z"
   },
   {
    "duration": 12,
    "start_time": "2022-02-16T21:11:58.048Z"
   },
   {
    "duration": 12,
    "start_time": "2022-02-16T21:12:57.810Z"
   },
   {
    "duration": 905,
    "start_time": "2022-02-16T21:20:06.835Z"
   },
   {
    "duration": 24,
    "start_time": "2022-02-16T21:22:05.526Z"
   },
   {
    "duration": 9,
    "start_time": "2022-02-16T21:22:20.807Z"
   },
   {
    "duration": 300,
    "start_time": "2022-02-16T21:26:20.908Z"
   },
   {
    "duration": 823,
    "start_time": "2022-02-16T21:26:30.670Z"
   },
   {
    "duration": 37,
    "start_time": "2022-02-16T21:26:31.496Z"
   },
   {
    "duration": 8,
    "start_time": "2022-02-16T21:26:31.535Z"
   },
   {
    "duration": 14,
    "start_time": "2022-02-16T21:26:31.546Z"
   },
   {
    "duration": 5,
    "start_time": "2022-02-16T21:26:31.563Z"
   },
   {
    "duration": 4,
    "start_time": "2022-02-16T21:26:31.570Z"
   },
   {
    "duration": 11,
    "start_time": "2022-02-16T21:26:31.577Z"
   },
   {
    "duration": 5,
    "start_time": "2022-02-16T21:26:31.626Z"
   },
   {
    "duration": 19,
    "start_time": "2022-02-16T21:26:31.634Z"
   },
   {
    "duration": 7,
    "start_time": "2022-02-16T21:26:31.656Z"
   },
   {
    "duration": 5,
    "start_time": "2022-02-16T21:26:31.666Z"
   },
   {
    "duration": 5,
    "start_time": "2022-02-16T21:26:31.673Z"
   },
   {
    "duration": 45,
    "start_time": "2022-02-16T21:26:31.680Z"
   },
   {
    "duration": 11,
    "start_time": "2022-02-16T21:26:31.727Z"
   },
   {
    "duration": 9,
    "start_time": "2022-02-16T21:26:31.741Z"
   },
   {
    "duration": 7,
    "start_time": "2022-02-16T21:26:31.752Z"
   },
   {
    "duration": 9,
    "start_time": "2022-02-16T21:26:31.762Z"
   },
   {
    "duration": 5,
    "start_time": "2022-02-16T21:26:31.773Z"
   },
   {
    "duration": 49,
    "start_time": "2022-02-16T21:26:31.780Z"
   },
   {
    "duration": 5,
    "start_time": "2022-02-16T21:26:31.832Z"
   },
   {
    "duration": 6,
    "start_time": "2022-02-16T21:26:31.839Z"
   },
   {
    "duration": 8,
    "start_time": "2022-02-16T21:26:31.848Z"
   },
   {
    "duration": 9,
    "start_time": "2022-02-16T21:26:31.862Z"
   },
   {
    "duration": 50,
    "start_time": "2022-02-16T21:26:31.874Z"
   },
   {
    "duration": 8,
    "start_time": "2022-02-16T21:26:31.926Z"
   },
   {
    "duration": 9,
    "start_time": "2022-02-16T21:26:31.937Z"
   },
   {
    "duration": 9,
    "start_time": "2022-02-16T21:26:31.949Z"
   },
   {
    "duration": 14,
    "start_time": "2022-02-16T21:26:31.961Z"
   },
   {
    "duration": 48,
    "start_time": "2022-02-16T21:26:31.977Z"
   },
   {
    "duration": 8,
    "start_time": "2022-02-16T21:26:32.028Z"
   },
   {
    "duration": 10,
    "start_time": "2022-02-16T21:26:32.038Z"
   },
   {
    "duration": 35,
    "start_time": "2022-02-16T21:26:32.050Z"
   },
   {
    "duration": 57,
    "start_time": "2022-02-16T21:26:32.088Z"
   },
   {
    "duration": 25,
    "start_time": "2022-02-16T21:26:32.148Z"
   },
   {
    "duration": 10,
    "start_time": "2022-02-16T21:26:32.176Z"
   },
   {
    "duration": 48,
    "start_time": "2022-02-16T21:26:32.188Z"
   },
   {
    "duration": 13,
    "start_time": "2022-02-16T21:26:32.238Z"
   },
   {
    "duration": 6,
    "start_time": "2022-02-16T21:26:32.253Z"
   },
   {
    "duration": 12,
    "start_time": "2022-02-16T21:26:32.262Z"
   },
   {
    "duration": 9,
    "start_time": "2022-02-16T21:26:32.276Z"
   },
   {
    "duration": 42,
    "start_time": "2022-02-16T21:26:32.288Z"
   },
   {
    "duration": 14,
    "start_time": "2022-02-16T21:26:32.333Z"
   },
   {
    "duration": 10,
    "start_time": "2022-02-16T21:26:32.349Z"
   },
   {
    "duration": 21,
    "start_time": "2022-02-16T21:26:32.361Z"
   },
   {
    "duration": 43,
    "start_time": "2022-02-16T21:26:32.384Z"
   },
   {
    "duration": 10,
    "start_time": "2022-02-16T21:26:32.430Z"
   },
   {
    "duration": 5,
    "start_time": "2022-02-16T21:26:32.443Z"
   },
   {
    "duration": 20,
    "start_time": "2022-02-16T21:26:32.450Z"
   },
   {
    "duration": 64,
    "start_time": "2022-02-16T21:26:32.473Z"
   },
   {
    "duration": 32,
    "start_time": "2022-02-16T21:26:32.540Z"
   },
   {
    "duration": 4,
    "start_time": "2022-02-16T21:26:32.575Z"
   },
   {
    "duration": 8,
    "start_time": "2022-02-16T21:26:32.582Z"
   },
   {
    "duration": 774,
    "start_time": "2022-02-16T21:26:32.592Z"
   },
   {
    "duration": 24,
    "start_time": "2022-02-16T21:26:33.369Z"
   },
   {
    "duration": 9,
    "start_time": "2022-02-16T21:26:33.395Z"
   },
   {
    "duration": 6623,
    "start_time": "2022-02-16T21:27:10.566Z"
   },
   {
    "duration": -1834,
    "start_time": "2022-02-16T21:27:19.028Z"
   },
   {
    "duration": -1810,
    "start_time": "2022-02-16T21:27:32.402Z"
   },
   {
    "duration": 7012,
    "start_time": "2022-02-16T21:27:32.610Z"
   },
   {
    "duration": 8,
    "start_time": "2022-02-16T21:27:53.389Z"
   },
   {
    "duration": 5,
    "start_time": "2022-02-16T21:27:57.836Z"
   },
   {
    "duration": 25,
    "start_time": "2022-02-16T21:28:01.108Z"
   },
   {
    "duration": 25,
    "start_time": "2022-02-16T21:28:03.786Z"
   },
   {
    "duration": 34,
    "start_time": "2022-02-16T21:28:04.890Z"
   },
   {
    "duration": 24,
    "start_time": "2022-02-16T21:28:05.932Z"
   },
   {
    "duration": 6607,
    "start_time": "2022-02-16T21:28:07.571Z"
   },
   {
    "duration": 9,
    "start_time": "2022-02-16T21:28:38.660Z"
   },
   {
    "duration": 10,
    "start_time": "2022-02-16T21:28:40.755Z"
   },
   {
    "duration": 12,
    "start_time": "2022-02-16T21:28:42.693Z"
   },
   {
    "duration": 10,
    "start_time": "2022-02-16T21:28:43.819Z"
   },
   {
    "duration": 7022,
    "start_time": "2022-02-16T21:28:47.348Z"
   },
   {
    "duration": 29,
    "start_time": "2022-02-16T21:29:42.684Z"
   },
   {
    "duration": 72,
    "start_time": "2022-02-16T21:29:59.357Z"
   },
   {
    "duration": 18,
    "start_time": "2022-02-16T21:29:59.432Z"
   },
   {
    "duration": 8,
    "start_time": "2022-02-16T21:29:59.452Z"
   },
   {
    "duration": 8,
    "start_time": "2022-02-16T21:29:59.464Z"
   },
   {
    "duration": 49,
    "start_time": "2022-02-16T21:29:59.475Z"
   },
   {
    "duration": 6,
    "start_time": "2022-02-16T21:29:59.527Z"
   },
   {
    "duration": 6,
    "start_time": "2022-02-16T21:29:59.536Z"
   },
   {
    "duration": 4,
    "start_time": "2022-02-16T21:29:59.545Z"
   },
   {
    "duration": 19,
    "start_time": "2022-02-16T21:29:59.553Z"
   },
   {
    "duration": 14,
    "start_time": "2022-02-16T21:29:59.577Z"
   },
   {
    "duration": 34,
    "start_time": "2022-02-16T21:29:59.594Z"
   },
   {
    "duration": 16,
    "start_time": "2022-02-16T21:29:59.631Z"
   },
   {
    "duration": 13,
    "start_time": "2022-02-16T21:29:59.649Z"
   },
   {
    "duration": 8,
    "start_time": "2022-02-16T21:29:59.666Z"
   },
   {
    "duration": 7,
    "start_time": "2022-02-16T21:29:59.677Z"
   },
   {
    "duration": 38,
    "start_time": "2022-02-16T21:29:59.687Z"
   },
   {
    "duration": 9,
    "start_time": "2022-02-16T21:29:59.728Z"
   },
   {
    "duration": 7,
    "start_time": "2022-02-16T21:29:59.739Z"
   },
   {
    "duration": 12,
    "start_time": "2022-02-16T21:29:59.748Z"
   },
   {
    "duration": 6,
    "start_time": "2022-02-16T21:29:59.763Z"
   },
   {
    "duration": 6,
    "start_time": "2022-02-16T21:29:59.771Z"
   },
   {
    "duration": 103,
    "start_time": "2022-02-16T21:29:59.779Z"
   },
   {
    "duration": 3,
    "start_time": "2022-02-16T21:29:59.885Z"
   },
   {
    "duration": 40,
    "start_time": "2022-02-16T21:29:59.891Z"
   },
   {
    "duration": 15,
    "start_time": "2022-02-16T21:29:59.933Z"
   },
   {
    "duration": 11,
    "start_time": "2022-02-16T21:29:59.951Z"
   },
   {
    "duration": 15,
    "start_time": "2022-02-16T21:29:59.966Z"
   },
   {
    "duration": 23,
    "start_time": "2022-02-16T21:29:59.984Z"
   },
   {
    "duration": 23,
    "start_time": "2022-02-16T21:30:00.009Z"
   },
   {
    "duration": 13,
    "start_time": "2022-02-16T21:30:00.034Z"
   },
   {
    "duration": 6,
    "start_time": "2022-02-16T21:30:00.050Z"
   },
   {
    "duration": 35,
    "start_time": "2022-02-16T21:30:00.059Z"
   },
   {
    "duration": 44,
    "start_time": "2022-02-16T21:30:00.096Z"
   },
   {
    "duration": 24,
    "start_time": "2022-02-16T21:30:00.143Z"
   },
   {
    "duration": 10,
    "start_time": "2022-02-16T21:30:02.824Z"
   },
   {
    "duration": 17,
    "start_time": "2022-02-16T21:30:07.989Z"
   },
   {
    "duration": 13,
    "start_time": "2022-02-16T21:30:09.587Z"
   },
   {
    "duration": 6,
    "start_time": "2022-02-16T21:30:12.284Z"
   },
   {
    "duration": 9,
    "start_time": "2022-02-16T21:30:13.093Z"
   },
   {
    "duration": 10,
    "start_time": "2022-02-16T21:30:20.417Z"
   },
   {
    "duration": 6,
    "start_time": "2022-02-16T21:30:21.754Z"
   },
   {
    "duration": 10,
    "start_time": "2022-02-16T21:30:28.000Z"
   },
   {
    "duration": 6,
    "start_time": "2022-02-16T21:30:29.707Z"
   },
   {
    "duration": 10,
    "start_time": "2022-02-16T21:30:30.853Z"
   },
   {
    "duration": 10,
    "start_time": "2022-02-16T21:30:34.228Z"
   },
   {
    "duration": 11,
    "start_time": "2022-02-16T21:30:48.651Z"
   },
   {
    "duration": 6,
    "start_time": "2022-02-16T21:30:51.774Z"
   },
   {
    "duration": 10,
    "start_time": "2022-02-16T21:30:52.564Z"
   },
   {
    "duration": 6,
    "start_time": "2022-02-16T21:30:54.456Z"
   },
   {
    "duration": 11,
    "start_time": "2022-02-16T21:30:55.188Z"
   },
   {
    "duration": 8,
    "start_time": "2022-02-16T21:30:58.450Z"
   },
   {
    "duration": 68,
    "start_time": "2022-02-16T21:31:55.123Z"
   },
   {
    "duration": 35,
    "start_time": "2022-02-16T21:31:55.194Z"
   },
   {
    "duration": 9,
    "start_time": "2022-02-16T21:31:55.233Z"
   },
   {
    "duration": 8,
    "start_time": "2022-02-16T21:31:55.245Z"
   },
   {
    "duration": 6,
    "start_time": "2022-02-16T21:31:55.256Z"
   },
   {
    "duration": 58,
    "start_time": "2022-02-16T21:31:55.265Z"
   },
   {
    "duration": 7,
    "start_time": "2022-02-16T21:31:55.326Z"
   },
   {
    "duration": 10,
    "start_time": "2022-02-16T21:31:55.337Z"
   },
   {
    "duration": 15,
    "start_time": "2022-02-16T21:31:55.350Z"
   },
   {
    "duration": 7,
    "start_time": "2022-02-16T21:31:55.367Z"
   },
   {
    "duration": 6,
    "start_time": "2022-02-16T21:31:55.377Z"
   },
   {
    "duration": 43,
    "start_time": "2022-02-16T21:31:55.385Z"
   },
   {
    "duration": 23,
    "start_time": "2022-02-16T21:31:55.430Z"
   },
   {
    "duration": 10,
    "start_time": "2022-02-16T21:31:55.455Z"
   },
   {
    "duration": 6,
    "start_time": "2022-02-16T21:31:55.467Z"
   },
   {
    "duration": 13,
    "start_time": "2022-02-16T21:31:55.476Z"
   },
   {
    "duration": 31,
    "start_time": "2022-02-16T21:31:55.492Z"
   },
   {
    "duration": 6,
    "start_time": "2022-02-16T21:31:55.526Z"
   },
   {
    "duration": 11,
    "start_time": "2022-02-16T21:31:55.535Z"
   },
   {
    "duration": 5,
    "start_time": "2022-02-16T21:31:55.549Z"
   },
   {
    "duration": 5,
    "start_time": "2022-02-16T21:31:55.557Z"
   },
   {
    "duration": 8,
    "start_time": "2022-02-16T21:31:55.565Z"
   },
   {
    "duration": 4,
    "start_time": "2022-02-16T21:31:55.625Z"
   },
   {
    "duration": 8,
    "start_time": "2022-02-16T21:31:55.632Z"
   },
   {
    "duration": 11,
    "start_time": "2022-02-16T21:31:55.642Z"
   },
   {
    "duration": 12,
    "start_time": "2022-02-16T21:31:55.656Z"
   },
   {
    "duration": 10,
    "start_time": "2022-02-16T21:31:55.670Z"
   },
   {
    "duration": 49,
    "start_time": "2022-02-16T21:31:55.683Z"
   },
   {
    "duration": 10,
    "start_time": "2022-02-16T21:31:55.734Z"
   },
   {
    "duration": 8,
    "start_time": "2022-02-16T21:31:55.746Z"
   },
   {
    "duration": 6,
    "start_time": "2022-02-16T21:31:55.756Z"
   },
   {
    "duration": 58,
    "start_time": "2022-02-16T21:31:55.765Z"
   },
   {
    "duration": 31,
    "start_time": "2022-02-16T21:31:55.825Z"
   },
   {
    "duration": 24,
    "start_time": "2022-02-16T21:31:55.859Z"
   },
   {
    "duration": 40,
    "start_time": "2022-02-16T21:31:55.885Z"
   },
   {
    "duration": 18,
    "start_time": "2022-02-16T21:31:55.927Z"
   },
   {
    "duration": 18,
    "start_time": "2022-02-16T21:31:59.123Z"
   },
   {
    "duration": 12,
    "start_time": "2022-02-16T21:32:02.846Z"
   },
   {
    "duration": 29,
    "start_time": "2022-02-16T21:32:21.556Z"
   },
   {
    "duration": 10,
    "start_time": "2022-02-16T21:32:43.278Z"
   },
   {
    "duration": 6,
    "start_time": "2022-02-16T21:32:48.742Z"
   },
   {
    "duration": 11,
    "start_time": "2022-02-16T21:32:49.525Z"
   },
   {
    "duration": 6,
    "start_time": "2022-02-16T21:32:54.003Z"
   },
   {
    "duration": 10,
    "start_time": "2022-02-16T21:32:54.880Z"
   },
   {
    "duration": 81,
    "start_time": "2022-02-17T18:33:29.542Z"
   },
   {
    "duration": 308,
    "start_time": "2022-02-17T18:33:36.522Z"
   },
   {
    "duration": 684,
    "start_time": "2022-02-17T18:33:40.794Z"
   },
   {
    "duration": 20,
    "start_time": "2022-02-17T18:33:42.777Z"
   },
   {
    "duration": 343,
    "start_time": "2022-02-17T18:33:46.124Z"
   },
   {
    "duration": 5,
    "start_time": "2022-02-17T18:34:05.428Z"
   },
   {
    "duration": 6,
    "start_time": "2022-02-17T18:34:17.826Z"
   },
   {
    "duration": 98,
    "start_time": "2022-02-17T18:39:38.573Z"
   },
   {
    "duration": 6,
    "start_time": "2022-02-17T18:39:45.506Z"
   },
   {
    "duration": 24,
    "start_time": "2022-02-17T18:41:16.392Z"
   },
   {
    "duration": 55,
    "start_time": "2022-02-17T18:43:33.126Z"
   },
   {
    "duration": 50,
    "start_time": "2022-02-17T18:44:09.729Z"
   },
   {
    "duration": 50,
    "start_time": "2022-02-17T18:44:19.623Z"
   },
   {
    "duration": 49,
    "start_time": "2022-02-17T18:44:21.194Z"
   },
   {
    "duration": 59,
    "start_time": "2022-02-17T18:44:34.714Z"
   },
   {
    "duration": 12,
    "start_time": "2022-02-17T18:44:34.775Z"
   },
   {
    "duration": 7,
    "start_time": "2022-02-17T18:44:34.790Z"
   },
   {
    "duration": 15,
    "start_time": "2022-02-17T18:44:34.799Z"
   },
   {
    "duration": 15,
    "start_time": "2022-02-17T18:44:34.816Z"
   },
   {
    "duration": 52,
    "start_time": "2022-02-17T18:44:34.833Z"
   },
   {
    "duration": 56,
    "start_time": "2022-02-17T18:44:56.496Z"
   },
   {
    "duration": 55,
    "start_time": "2022-02-17T18:45:18.019Z"
   },
   {
    "duration": 5,
    "start_time": "2022-02-17T18:45:22.617Z"
   },
   {
    "duration": 5,
    "start_time": "2022-02-17T18:45:26.649Z"
   },
   {
    "duration": 8,
    "start_time": "2022-02-17T18:45:57.052Z"
   },
   {
    "duration": 16,
    "start_time": "2022-02-17T18:46:06.550Z"
   },
   {
    "duration": 62,
    "start_time": "2022-02-17T18:46:14.704Z"
   },
   {
    "duration": 14,
    "start_time": "2022-02-17T18:46:14.768Z"
   },
   {
    "duration": 5,
    "start_time": "2022-02-17T18:46:41.673Z"
   },
   {
    "duration": 46,
    "start_time": "2022-02-17T18:46:49.685Z"
   },
   {
    "duration": 6,
    "start_time": "2022-02-17T18:46:51.474Z"
   },
   {
    "duration": 6,
    "start_time": "2022-02-17T18:46:54.754Z"
   },
   {
    "duration": 4,
    "start_time": "2022-02-17T18:47:17.331Z"
   },
   {
    "duration": 50,
    "start_time": "2022-02-17T18:47:44.884Z"
   },
   {
    "duration": 271,
    "start_time": "2022-02-17T18:50:08.603Z"
   },
   {
    "duration": 44,
    "start_time": "2022-02-17T18:50:12.886Z"
   },
   {
    "duration": 43,
    "start_time": "2022-02-17T18:50:38.029Z"
   },
   {
    "duration": 42,
    "start_time": "2022-02-17T18:50:39.287Z"
   },
   {
    "duration": 49,
    "start_time": "2022-02-17T18:51:11.328Z"
   },
   {
    "duration": 47,
    "start_time": "2022-02-17T18:51:14.222Z"
   },
   {
    "duration": 5,
    "start_time": "2022-02-17T18:51:40.294Z"
   },
   {
    "duration": 5,
    "start_time": "2022-02-17T18:51:44.654Z"
   },
   {
    "duration": 15,
    "start_time": "2022-02-17T18:51:54.124Z"
   },
   {
    "duration": 57,
    "start_time": "2022-02-17T18:53:30.358Z"
   },
   {
    "duration": 43,
    "start_time": "2022-02-17T18:53:31.574Z"
   },
   {
    "duration": 5,
    "start_time": "2022-02-17T18:56:35.044Z"
   },
   {
    "duration": 3,
    "start_time": "2022-02-17T18:56:36.512Z"
   },
   {
    "duration": 3,
    "start_time": "2022-02-17T18:56:37.785Z"
   },
   {
    "duration": 4,
    "start_time": "2022-02-17T18:56:47.486Z"
   },
   {
    "duration": 81,
    "start_time": "2022-02-17T18:56:54.810Z"
   },
   {
    "duration": 16,
    "start_time": "2022-02-17T18:56:54.892Z"
   },
   {
    "duration": 5,
    "start_time": "2022-02-17T18:56:54.910Z"
   },
   {
    "duration": 4,
    "start_time": "2022-02-17T18:56:58.425Z"
   },
   {
    "duration": 4,
    "start_time": "2022-02-17T18:57:02.979Z"
   },
   {
    "duration": 58,
    "start_time": "2022-02-17T18:57:06.494Z"
   },
   {
    "duration": 15,
    "start_time": "2022-02-17T18:57:06.554Z"
   },
   {
    "duration": 10,
    "start_time": "2022-02-17T18:57:06.571Z"
   },
   {
    "duration": 9,
    "start_time": "2022-02-17T18:57:06.583Z"
   },
   {
    "duration": 5,
    "start_time": "2022-02-17T18:57:06.594Z"
   },
   {
    "duration": 4,
    "start_time": "2022-02-17T18:57:08.091Z"
   },
   {
    "duration": 295,
    "start_time": "2022-02-17T18:58:37.984Z"
   },
   {
    "duration": 3,
    "start_time": "2022-02-17T18:58:46.171Z"
   },
   {
    "duration": 4,
    "start_time": "2022-02-17T18:58:47.082Z"
   },
   {
    "duration": 5,
    "start_time": "2022-02-17T18:58:49.266Z"
   },
   {
    "duration": 4,
    "start_time": "2022-02-17T18:58:50.074Z"
   },
   {
    "duration": 4,
    "start_time": "2022-02-17T18:58:59.187Z"
   },
   {
    "duration": 2,
    "start_time": "2022-02-17T18:58:59.825Z"
   },
   {
    "duration": 5,
    "start_time": "2022-02-17T18:59:04.835Z"
   },
   {
    "duration": 279,
    "start_time": "2022-02-17T18:59:21.557Z"
   },
   {
    "duration": 267,
    "start_time": "2022-02-17T18:59:33.427Z"
   },
   {
    "duration": 276,
    "start_time": "2022-02-17T18:59:39.019Z"
   },
   {
    "duration": 4,
    "start_time": "2022-02-17T18:59:47.754Z"
   },
   {
    "duration": 4,
    "start_time": "2022-02-17T18:59:48.388Z"
   },
   {
    "duration": 3,
    "start_time": "2022-02-17T18:59:50.556Z"
   },
   {
    "duration": 4,
    "start_time": "2022-02-17T18:59:51.914Z"
   },
   {
    "duration": 12,
    "start_time": "2022-02-17T19:03:34.215Z"
   },
   {
    "duration": 75,
    "start_time": "2022-02-17T19:03:39.894Z"
   },
   {
    "duration": 17,
    "start_time": "2022-02-17T19:03:39.971Z"
   },
   {
    "duration": 9,
    "start_time": "2022-02-17T19:03:39.991Z"
   },
   {
    "duration": 8,
    "start_time": "2022-02-17T19:03:40.002Z"
   },
   {
    "duration": 12,
    "start_time": "2022-02-17T19:03:40.012Z"
   },
   {
    "duration": 10,
    "start_time": "2022-02-17T19:03:40.027Z"
   },
   {
    "duration": 6,
    "start_time": "2022-02-17T19:03:40.039Z"
   },
   {
    "duration": 22,
    "start_time": "2022-02-17T19:03:40.048Z"
   },
   {
    "duration": 5,
    "start_time": "2022-02-17T19:03:40.072Z"
   },
   {
    "duration": 7,
    "start_time": "2022-02-17T19:03:40.078Z"
   },
   {
    "duration": 50,
    "start_time": "2022-02-17T19:03:40.087Z"
   },
   {
    "duration": 65,
    "start_time": "2022-02-17T19:03:40.139Z"
   },
   {
    "duration": 5,
    "start_time": "2022-02-17T19:03:40.206Z"
   },
   {
    "duration": 12,
    "start_time": "2022-02-17T19:03:40.212Z"
   },
   {
    "duration": 16,
    "start_time": "2022-02-17T19:03:40.226Z"
   },
   {
    "duration": 260,
    "start_time": "2022-02-17T19:13:11.827Z"
   },
   {
    "duration": 39,
    "start_time": "2022-02-17T19:13:20.976Z"
   },
   {
    "duration": 5,
    "start_time": "2022-02-17T19:13:27.594Z"
   },
   {
    "duration": 5,
    "start_time": "2022-02-17T19:13:35.827Z"
   },
   {
    "duration": 6,
    "start_time": "2022-02-17T19:17:03.741Z"
   },
   {
    "duration": 3,
    "start_time": "2022-02-17T19:17:06.081Z"
   },
   {
    "duration": 5,
    "start_time": "2022-02-17T19:17:08.399Z"
   },
   {
    "duration": 4,
    "start_time": "2022-02-17T19:17:10.527Z"
   },
   {
    "duration": 5,
    "start_time": "2022-02-17T19:17:17.145Z"
   },
   {
    "duration": 11,
    "start_time": "2022-02-17T19:18:52.323Z"
   },
   {
    "duration": 4,
    "start_time": "2022-02-17T19:20:48.515Z"
   },
   {
    "duration": 12,
    "start_time": "2022-02-17T19:20:52.906Z"
   },
   {
    "duration": 5,
    "start_time": "2022-02-17T19:21:00.913Z"
   },
   {
    "duration": 6,
    "start_time": "2022-02-17T19:21:17.412Z"
   },
   {
    "duration": 5,
    "start_time": "2022-02-17T19:27:47.832Z"
   },
   {
    "duration": 4,
    "start_time": "2022-02-17T19:27:54.879Z"
   },
   {
    "duration": 5,
    "start_time": "2022-02-17T19:27:55.445Z"
   },
   {
    "duration": 3,
    "start_time": "2022-02-17T19:28:07.737Z"
   },
   {
    "duration": 3,
    "start_time": "2022-02-17T19:28:23.866Z"
   },
   {
    "duration": 21,
    "start_time": "2022-02-17T19:29:07.302Z"
   },
   {
    "duration": 618,
    "start_time": "2022-02-17T19:29:51.150Z"
   },
   {
    "duration": 3,
    "start_time": "2022-02-17T19:29:56.204Z"
   },
   {
    "duration": 3,
    "start_time": "2022-02-17T19:30:44.297Z"
   },
   {
    "duration": 93,
    "start_time": "2022-02-17T19:32:29.185Z"
   },
   {
    "duration": 561,
    "start_time": "2022-02-17T19:32:33.937Z"
   },
   {
    "duration": 591,
    "start_time": "2022-02-17T19:33:01.115Z"
   },
   {
    "duration": 9,
    "start_time": "2022-02-17T19:33:16.042Z"
   },
   {
    "duration": 574,
    "start_time": "2022-02-17T19:34:21.911Z"
   },
   {
    "duration": 582,
    "start_time": "2022-02-17T19:35:33.874Z"
   },
   {
    "duration": 8,
    "start_time": "2022-02-17T19:38:10.094Z"
   },
   {
    "duration": 8,
    "start_time": "2022-02-17T19:38:12.237Z"
   },
   {
    "duration": 9,
    "start_time": "2022-02-17T19:38:20.869Z"
   },
   {
    "duration": 6,
    "start_time": "2022-02-17T19:38:57.080Z"
   },
   {
    "duration": 5,
    "start_time": "2022-02-17T19:39:06.124Z"
   },
   {
    "duration": 5,
    "start_time": "2022-02-17T19:39:09.038Z"
   },
   {
    "duration": 6,
    "start_time": "2022-02-17T19:39:56.388Z"
   },
   {
    "duration": 6,
    "start_time": "2022-02-17T19:39:59.547Z"
   },
   {
    "duration": 4,
    "start_time": "2022-02-17T19:40:09.023Z"
   },
   {
    "duration": 80,
    "start_time": "2022-02-17T19:44:53.792Z"
   },
   {
    "duration": 570,
    "start_time": "2022-02-17T19:45:02.464Z"
   },
   {
    "duration": 592,
    "start_time": "2022-02-17T19:45:48.690Z"
   },
   {
    "duration": 5,
    "start_time": "2022-02-17T20:01:09.316Z"
   },
   {
    "duration": 5,
    "start_time": "2022-02-17T20:02:15.437Z"
   },
   {
    "duration": 5,
    "start_time": "2022-02-17T20:05:10.544Z"
   },
   {
    "duration": 6,
    "start_time": "2022-02-17T20:08:25.049Z"
   },
   {
    "duration": 6,
    "start_time": "2022-02-17T20:08:45.430Z"
   },
   {
    "duration": 24,
    "start_time": "2022-02-17T20:09:12.593Z"
   },
   {
    "duration": 88,
    "start_time": "2022-02-17T20:11:27.208Z"
   },
   {
    "duration": 4,
    "start_time": "2022-02-17T20:11:53.547Z"
   },
   {
    "duration": 5,
    "start_time": "2022-02-17T20:12:00.497Z"
   },
   {
    "duration": 4,
    "start_time": "2022-02-17T20:14:08.808Z"
   },
   {
    "duration": 6,
    "start_time": "2022-02-17T20:14:09.675Z"
   },
   {
    "duration": 3,
    "start_time": "2022-02-17T20:14:11.832Z"
   },
   {
    "duration": 7,
    "start_time": "2022-02-17T20:14:12.562Z"
   },
   {
    "duration": 4,
    "start_time": "2022-02-17T20:14:20.103Z"
   },
   {
    "duration": 6,
    "start_time": "2022-02-17T20:14:21.852Z"
   },
   {
    "duration": 5,
    "start_time": "2022-02-17T20:14:25.977Z"
   },
   {
    "duration": 3,
    "start_time": "2022-02-17T20:14:27.529Z"
   },
   {
    "duration": 7,
    "start_time": "2022-02-17T20:14:28.537Z"
   },
   {
    "duration": 71,
    "start_time": "2022-02-17T20:15:35.676Z"
   },
   {
    "duration": 23,
    "start_time": "2022-02-17T20:15:53.733Z"
   },
   {
    "duration": 63,
    "start_time": "2022-02-17T20:16:31.831Z"
   },
   {
    "duration": 15,
    "start_time": "2022-02-17T20:16:31.897Z"
   },
   {
    "duration": 17,
    "start_time": "2022-02-17T20:16:31.914Z"
   },
   {
    "duration": 32,
    "start_time": "2022-02-17T20:16:31.933Z"
   },
   {
    "duration": 20,
    "start_time": "2022-02-17T20:16:31.967Z"
   },
   {
    "duration": 27,
    "start_time": "2022-02-17T20:16:31.989Z"
   },
   {
    "duration": 24,
    "start_time": "2022-02-17T20:16:32.018Z"
   },
   {
    "duration": 21,
    "start_time": "2022-02-17T20:16:32.045Z"
   },
   {
    "duration": 16,
    "start_time": "2022-02-17T20:16:32.069Z"
   },
   {
    "duration": 20,
    "start_time": "2022-02-17T20:16:32.087Z"
   },
   {
    "duration": 64,
    "start_time": "2022-02-17T20:16:32.109Z"
   },
   {
    "duration": 47,
    "start_time": "2022-02-17T20:16:32.174Z"
   },
   {
    "duration": 6,
    "start_time": "2022-02-17T20:16:32.222Z"
   },
   {
    "duration": 22,
    "start_time": "2022-02-17T20:16:32.229Z"
   },
   {
    "duration": 30,
    "start_time": "2022-02-17T20:16:32.253Z"
   },
   {
    "duration": 12,
    "start_time": "2022-02-17T20:16:32.285Z"
   },
   {
    "duration": 29,
    "start_time": "2022-02-17T20:16:32.299Z"
   },
   {
    "duration": 15,
    "start_time": "2022-02-17T20:16:32.330Z"
   },
   {
    "duration": 23,
    "start_time": "2022-02-17T20:16:32.347Z"
   },
   {
    "duration": 27,
    "start_time": "2022-02-17T20:16:32.372Z"
   },
   {
    "duration": 16,
    "start_time": "2022-02-17T20:16:32.401Z"
   },
   {
    "duration": 16,
    "start_time": "2022-02-17T20:16:32.420Z"
   },
   {
    "duration": 23,
    "start_time": "2022-02-17T20:16:32.441Z"
   },
   {
    "duration": 24,
    "start_time": "2022-02-17T20:16:32.467Z"
   },
   {
    "duration": 20,
    "start_time": "2022-02-17T20:16:32.494Z"
   },
   {
    "duration": 600,
    "start_time": "2022-02-17T20:16:32.516Z"
   },
   {
    "duration": 9,
    "start_time": "2022-02-17T20:16:33.119Z"
   },
   {
    "duration": 21,
    "start_time": "2022-02-17T20:16:33.131Z"
   },
   {
    "duration": 27,
    "start_time": "2022-02-17T20:16:33.155Z"
   },
   {
    "duration": 45,
    "start_time": "2022-02-17T20:16:33.185Z"
   },
   {
    "duration": 43,
    "start_time": "2022-02-17T20:16:33.232Z"
   },
   {
    "duration": 30,
    "start_time": "2022-02-17T20:16:33.277Z"
   },
   {
    "duration": 48,
    "start_time": "2022-02-17T20:16:33.309Z"
   },
   {
    "duration": 8,
    "start_time": "2022-02-17T20:16:37.113Z"
   },
   {
    "duration": 7,
    "start_time": "2022-02-17T20:17:07.004Z"
   },
   {
    "duration": 28,
    "start_time": "2022-02-17T20:17:20.781Z"
   },
   {
    "duration": 6,
    "start_time": "2022-02-17T20:19:06.837Z"
   },
   {
    "duration": 297,
    "start_time": "2022-02-17T20:19:09.525Z"
   },
   {
    "duration": 291,
    "start_time": "2022-02-17T20:19:28.135Z"
   },
   {
    "duration": 6,
    "start_time": "2022-02-17T20:19:50.927Z"
   },
   {
    "duration": 6,
    "start_time": "2022-02-17T20:19:57.796Z"
   },
   {
    "duration": 287,
    "start_time": "2022-02-17T20:20:00.265Z"
   },
   {
    "duration": 66,
    "start_time": "2022-02-17T20:20:16.673Z"
   },
   {
    "duration": 17,
    "start_time": "2022-02-17T20:20:16.742Z"
   },
   {
    "duration": 5,
    "start_time": "2022-02-17T20:20:16.771Z"
   },
   {
    "duration": 8,
    "start_time": "2022-02-17T20:20:16.778Z"
   },
   {
    "duration": 5,
    "start_time": "2022-02-17T20:20:16.789Z"
   },
   {
    "duration": 9,
    "start_time": "2022-02-17T20:20:16.796Z"
   },
   {
    "duration": 5,
    "start_time": "2022-02-17T20:20:16.807Z"
   },
   {
    "duration": 55,
    "start_time": "2022-02-17T20:20:16.816Z"
   },
   {
    "duration": 4,
    "start_time": "2022-02-17T20:20:16.875Z"
   },
   {
    "duration": 11,
    "start_time": "2022-02-17T20:20:16.881Z"
   },
   {
    "duration": 87,
    "start_time": "2022-02-17T20:20:16.895Z"
   },
   {
    "duration": 63,
    "start_time": "2022-02-17T20:20:16.984Z"
   },
   {
    "duration": 5,
    "start_time": "2022-02-17T20:20:17.049Z"
   },
   {
    "duration": 6,
    "start_time": "2022-02-17T20:20:17.069Z"
   },
   {
    "duration": 22,
    "start_time": "2022-02-17T20:20:17.078Z"
   },
   {
    "duration": 9,
    "start_time": "2022-02-17T20:20:17.103Z"
   },
   {
    "duration": 6,
    "start_time": "2022-02-17T20:20:17.115Z"
   },
   {
    "duration": 44,
    "start_time": "2022-02-17T20:20:17.124Z"
   },
   {
    "duration": 8,
    "start_time": "2022-02-17T20:20:17.170Z"
   },
   {
    "duration": 26,
    "start_time": "2022-02-17T20:20:17.181Z"
   },
   {
    "duration": 10,
    "start_time": "2022-02-17T20:20:17.209Z"
   },
   {
    "duration": 5,
    "start_time": "2022-02-17T20:20:17.221Z"
   },
   {
    "duration": 10,
    "start_time": "2022-02-17T20:20:17.230Z"
   },
   {
    "duration": 26,
    "start_time": "2022-02-17T20:20:17.243Z"
   },
   {
    "duration": 6,
    "start_time": "2022-02-17T20:20:17.276Z"
   },
   {
    "duration": 655,
    "start_time": "2022-02-17T20:20:17.285Z"
   },
   {
    "duration": 10,
    "start_time": "2022-02-17T20:20:17.942Z"
   },
   {
    "duration": 19,
    "start_time": "2022-02-17T20:20:17.954Z"
   },
   {
    "duration": 6,
    "start_time": "2022-02-17T20:20:17.976Z"
   },
   {
    "duration": 14,
    "start_time": "2022-02-17T20:20:17.985Z"
   },
   {
    "duration": 10,
    "start_time": "2022-02-17T20:20:18.002Z"
   },
   {
    "duration": 8,
    "start_time": "2022-02-17T20:20:18.014Z"
   },
   {
    "duration": 66,
    "start_time": "2022-02-17T20:20:18.024Z"
   },
   {
    "duration": 6,
    "start_time": "2022-02-17T20:20:18.093Z"
   },
   {
    "duration": 675,
    "start_time": "2022-02-17T20:20:23.838Z"
   },
   {
    "duration": 265,
    "start_time": "2022-02-17T20:20:45.368Z"
   },
   {
    "duration": 4,
    "start_time": "2022-02-17T20:21:39.303Z"
   },
   {
    "duration": 8,
    "start_time": "2022-02-17T20:21:40.214Z"
   },
   {
    "duration": 8,
    "start_time": "2022-02-17T20:21:48.277Z"
   },
   {
    "duration": 1384,
    "start_time": "2022-02-17T20:21:58.508Z"
   },
   {
    "duration": 21,
    "start_time": "2022-02-17T20:21:59.894Z"
   },
   {
    "duration": 4,
    "start_time": "2022-02-17T20:21:59.921Z"
   },
   {
    "duration": 7,
    "start_time": "2022-02-17T20:21:59.927Z"
   },
   {
    "duration": 49,
    "start_time": "2022-02-17T20:21:59.936Z"
   },
   {
    "duration": 11,
    "start_time": "2022-02-17T20:21:59.987Z"
   },
   {
    "duration": 12,
    "start_time": "2022-02-17T20:22:00.002Z"
   },
   {
    "duration": 18,
    "start_time": "2022-02-17T20:22:00.017Z"
   },
   {
    "duration": 15,
    "start_time": "2022-02-17T20:22:00.037Z"
   },
   {
    "duration": 21,
    "start_time": "2022-02-17T20:22:00.054Z"
   },
   {
    "duration": 65,
    "start_time": "2022-02-17T20:22:00.077Z"
   },
   {
    "duration": 48,
    "start_time": "2022-02-17T20:22:00.145Z"
   },
   {
    "duration": 6,
    "start_time": "2022-02-17T20:22:00.196Z"
   },
   {
    "duration": 25,
    "start_time": "2022-02-17T20:22:00.204Z"
   },
   {
    "duration": 38,
    "start_time": "2022-02-17T20:22:00.231Z"
   },
   {
    "duration": 16,
    "start_time": "2022-02-17T20:22:00.272Z"
   },
   {
    "duration": 9,
    "start_time": "2022-02-17T20:22:00.290Z"
   },
   {
    "duration": 17,
    "start_time": "2022-02-17T20:22:00.301Z"
   },
   {
    "duration": 25,
    "start_time": "2022-02-17T20:22:00.320Z"
   },
   {
    "duration": 18,
    "start_time": "2022-02-17T20:22:00.347Z"
   },
   {
    "duration": 8,
    "start_time": "2022-02-17T20:22:00.367Z"
   },
   {
    "duration": 18,
    "start_time": "2022-02-17T20:22:00.380Z"
   },
   {
    "duration": 28,
    "start_time": "2022-02-17T20:22:00.402Z"
   },
   {
    "duration": 12,
    "start_time": "2022-02-17T20:22:00.432Z"
   },
   {
    "duration": 24,
    "start_time": "2022-02-17T20:22:00.447Z"
   },
   {
    "duration": 609,
    "start_time": "2022-02-17T20:22:00.473Z"
   },
   {
    "duration": 8,
    "start_time": "2022-02-17T20:22:01.084Z"
   },
   {
    "duration": 32,
    "start_time": "2022-02-17T20:22:01.094Z"
   },
   {
    "duration": 15,
    "start_time": "2022-02-17T20:22:01.129Z"
   },
   {
    "duration": 23,
    "start_time": "2022-02-17T20:22:01.146Z"
   },
   {
    "duration": 24,
    "start_time": "2022-02-17T20:22:01.171Z"
   },
   {
    "duration": 29,
    "start_time": "2022-02-17T20:22:01.197Z"
   },
   {
    "duration": 31,
    "start_time": "2022-02-17T20:22:01.229Z"
   },
   {
    "duration": 11,
    "start_time": "2022-02-17T20:22:01.262Z"
   },
   {
    "duration": 8,
    "start_time": "2022-02-17T20:22:01.275Z"
   },
   {
    "duration": 13,
    "start_time": "2022-02-17T20:22:01.285Z"
   },
   {
    "duration": 20,
    "start_time": "2022-02-17T20:22:01.300Z"
   },
   {
    "duration": 8,
    "start_time": "2022-02-17T20:22:01.322Z"
   },
   {
    "duration": 8,
    "start_time": "2022-02-17T20:22:01.332Z"
   },
   {
    "duration": 28,
    "start_time": "2022-02-17T20:22:01.343Z"
   },
   {
    "duration": 19,
    "start_time": "2022-02-17T20:22:01.373Z"
   },
   {
    "duration": 21,
    "start_time": "2022-02-17T20:22:01.394Z"
   },
   {
    "duration": 54,
    "start_time": "2022-02-17T20:22:01.417Z"
   },
   {
    "duration": 8,
    "start_time": "2022-02-17T20:22:01.473Z"
   },
   {
    "duration": 24,
    "start_time": "2022-02-17T20:22:01.483Z"
   },
   {
    "duration": 27,
    "start_time": "2022-02-17T20:22:01.509Z"
   },
   {
    "duration": 8,
    "start_time": "2022-02-17T20:22:01.538Z"
   },
   {
    "duration": 23,
    "start_time": "2022-02-17T20:22:01.548Z"
   },
   {
    "duration": 10,
    "start_time": "2022-02-17T20:22:01.573Z"
   },
   {
    "duration": 22,
    "start_time": "2022-02-17T20:22:01.585Z"
   },
   {
    "duration": 9,
    "start_time": "2022-02-17T20:22:01.609Z"
   },
   {
    "duration": 7,
    "start_time": "2022-02-17T20:22:01.621Z"
   },
   {
    "duration": 44,
    "start_time": "2022-02-17T20:22:01.630Z"
   },
   {
    "duration": 22,
    "start_time": "2022-02-17T20:22:01.676Z"
   },
   {
    "duration": 14,
    "start_time": "2022-02-17T20:22:01.700Z"
   },
   {
    "duration": 11,
    "start_time": "2022-02-17T20:22:01.717Z"
   },
   {
    "duration": 23,
    "start_time": "2022-02-17T20:22:01.730Z"
   },
   {
    "duration": 44,
    "start_time": "2022-02-17T20:22:01.755Z"
   },
   {
    "duration": 23,
    "start_time": "2022-02-17T20:22:01.801Z"
   },
   {
    "duration": 4,
    "start_time": "2022-02-17T20:22:01.826Z"
   },
   {
    "duration": 13,
    "start_time": "2022-02-17T20:22:01.832Z"
   },
   {
    "duration": 431,
    "start_time": "2022-02-17T20:22:01.848Z"
   },
   {
    "duration": 20,
    "start_time": "2022-02-17T20:22:02.281Z"
   },
   {
    "duration": 9,
    "start_time": "2022-02-17T20:22:02.303Z"
   },
   {
    "duration": 375,
    "start_time": "2022-02-17T20:22:18.622Z"
   },
   {
    "duration": 26,
    "start_time": "2022-02-17T20:22:26.486Z"
   },
   {
    "duration": 78,
    "start_time": "2022-02-17T20:23:40.444Z"
   },
   {
    "duration": 16,
    "start_time": "2022-02-17T20:23:40.524Z"
   },
   {
    "duration": 25,
    "start_time": "2022-02-17T20:23:40.544Z"
   },
   {
    "duration": 5,
    "start_time": "2022-02-17T20:23:40.572Z"
   },
   {
    "duration": 8,
    "start_time": "2022-02-17T20:23:40.579Z"
   },
   {
    "duration": 12,
    "start_time": "2022-02-17T20:23:40.589Z"
   },
   {
    "duration": 7,
    "start_time": "2022-02-17T20:23:40.604Z"
   },
   {
    "duration": 7,
    "start_time": "2022-02-17T20:23:40.616Z"
   },
   {
    "duration": 7,
    "start_time": "2022-02-17T20:23:40.626Z"
   },
   {
    "duration": 35,
    "start_time": "2022-02-17T20:23:40.635Z"
   },
   {
    "duration": 46,
    "start_time": "2022-02-17T20:23:40.672Z"
   },
   {
    "duration": 64,
    "start_time": "2022-02-17T20:23:40.720Z"
   },
   {
    "duration": 5,
    "start_time": "2022-02-17T20:23:40.787Z"
   },
   {
    "duration": 10,
    "start_time": "2022-02-17T20:23:40.794Z"
   },
   {
    "duration": 16,
    "start_time": "2022-02-17T20:23:40.805Z"
   },
   {
    "duration": 8,
    "start_time": "2022-02-17T20:23:40.823Z"
   },
   {
    "duration": 38,
    "start_time": "2022-02-17T20:23:40.832Z"
   },
   {
    "duration": 5,
    "start_time": "2022-02-17T20:23:40.872Z"
   },
   {
    "duration": 11,
    "start_time": "2022-02-17T20:23:40.880Z"
   },
   {
    "duration": 9,
    "start_time": "2022-02-17T20:23:40.893Z"
   },
   {
    "duration": 7,
    "start_time": "2022-02-17T20:23:40.904Z"
   },
   {
    "duration": 8,
    "start_time": "2022-02-17T20:23:40.913Z"
   },
   {
    "duration": 8,
    "start_time": "2022-02-17T20:23:40.926Z"
   },
   {
    "duration": 36,
    "start_time": "2022-02-17T20:23:40.936Z"
   },
   {
    "duration": 6,
    "start_time": "2022-02-17T20:23:40.975Z"
   },
   {
    "duration": 741,
    "start_time": "2022-02-17T20:23:40.983Z"
   },
   {
    "duration": 8,
    "start_time": "2022-02-17T20:23:41.726Z"
   },
   {
    "duration": 6,
    "start_time": "2022-02-17T20:23:41.736Z"
   },
   {
    "duration": 26,
    "start_time": "2022-02-17T20:23:41.744Z"
   },
   {
    "duration": 7,
    "start_time": "2022-02-17T20:23:41.772Z"
   },
   {
    "duration": 10,
    "start_time": "2022-02-17T20:23:41.782Z"
   },
   {
    "duration": 25,
    "start_time": "2022-02-17T20:23:51.217Z"
   },
   {
    "duration": 6,
    "start_time": "2022-02-17T20:23:51.244Z"
   },
   {
    "duration": 13,
    "start_time": "2022-02-17T20:23:51.252Z"
   },
   {
    "duration": 13,
    "start_time": "2022-02-17T20:23:51.267Z"
   },
   {
    "duration": 15,
    "start_time": "2022-02-17T20:23:51.283Z"
   },
   {
    "duration": 9,
    "start_time": "2022-02-17T20:23:51.300Z"
   },
   {
    "duration": 8,
    "start_time": "2022-02-17T20:23:51.311Z"
   },
   {
    "duration": 11,
    "start_time": "2022-02-17T20:23:51.321Z"
   },
   {
    "duration": 47,
    "start_time": "2022-02-17T20:23:51.337Z"
   },
   {
    "duration": 22,
    "start_time": "2022-02-17T20:23:51.387Z"
   },
   {
    "duration": 21,
    "start_time": "2022-02-17T20:23:51.411Z"
   },
   {
    "duration": 38,
    "start_time": "2022-02-17T20:23:51.434Z"
   },
   {
    "duration": 15,
    "start_time": "2022-02-17T20:23:51.474Z"
   },
   {
    "duration": 13,
    "start_time": "2022-02-17T20:23:51.492Z"
   },
   {
    "duration": 8,
    "start_time": "2022-02-17T20:23:51.507Z"
   },
   {
    "duration": 10,
    "start_time": "2022-02-17T20:23:51.517Z"
   },
   {
    "duration": 40,
    "start_time": "2022-02-17T20:23:51.529Z"
   },
   {
    "duration": 9,
    "start_time": "2022-02-17T20:23:51.571Z"
   },
   {
    "duration": 8,
    "start_time": "2022-02-17T20:23:51.582Z"
   },
   {
    "duration": 10,
    "start_time": "2022-02-17T20:23:51.592Z"
   },
   {
    "duration": 18,
    "start_time": "2022-02-17T20:23:51.604Z"
   },
   {
    "duration": 16,
    "start_time": "2022-02-17T20:23:51.624Z"
   },
   {
    "duration": 28,
    "start_time": "2022-02-17T20:23:51.642Z"
   },
   {
    "duration": 5,
    "start_time": "2022-02-17T20:23:51.673Z"
   },
   {
    "duration": 14,
    "start_time": "2022-02-17T20:23:51.680Z"
   },
   {
    "duration": 27,
    "start_time": "2022-02-17T20:23:51.696Z"
   },
   {
    "duration": 41,
    "start_time": "2022-02-17T20:23:51.728Z"
   },
   {
    "duration": 3,
    "start_time": "2022-02-17T20:23:51.771Z"
   },
   {
    "duration": 7,
    "start_time": "2022-02-17T20:23:51.776Z"
   },
   {
    "duration": 11,
    "start_time": "2022-02-17T20:23:51.785Z"
   },
   {
    "duration": 19,
    "start_time": "2022-02-17T20:23:51.798Z"
   },
   {
    "duration": 7,
    "start_time": "2022-02-17T20:23:51.819Z"
   },
   {
    "duration": 9,
    "start_time": "2022-02-17T20:24:15.928Z"
   },
   {
    "duration": 282,
    "start_time": "2022-02-17T20:24:18.511Z"
   },
   {
    "duration": 271,
    "start_time": "2022-02-17T20:24:20.922Z"
   },
   {
    "duration": 29,
    "start_time": "2022-02-17T20:24:23.953Z"
   },
   {
    "duration": 13,
    "start_time": "2022-02-17T20:24:50.128Z"
   },
   {
    "duration": 21,
    "start_time": "2022-02-17T20:24:54.943Z"
   },
   {
    "duration": 6,
    "start_time": "2022-02-17T20:25:10.502Z"
   },
   {
    "duration": 5,
    "start_time": "2022-02-17T20:25:11.591Z"
   },
   {
    "duration": 13,
    "start_time": "2022-02-17T20:25:14.889Z"
   },
   {
    "duration": 1408,
    "start_time": "2022-02-17T20:25:38.195Z"
   },
   {
    "duration": 30,
    "start_time": "2022-02-17T20:25:39.605Z"
   },
   {
    "duration": 5,
    "start_time": "2022-02-17T20:25:39.637Z"
   },
   {
    "duration": 27,
    "start_time": "2022-02-17T20:25:39.644Z"
   },
   {
    "duration": 3,
    "start_time": "2022-02-17T20:25:39.673Z"
   },
   {
    "duration": 10,
    "start_time": "2022-02-17T20:25:39.678Z"
   },
   {
    "duration": 11,
    "start_time": "2022-02-17T20:25:39.690Z"
   },
   {
    "duration": 12,
    "start_time": "2022-02-17T20:25:39.705Z"
   },
   {
    "duration": 9,
    "start_time": "2022-02-17T20:25:39.720Z"
   },
   {
    "duration": 13,
    "start_time": "2022-02-17T20:25:39.731Z"
   },
   {
    "duration": 70,
    "start_time": "2022-02-17T20:25:39.746Z"
   },
   {
    "duration": 64,
    "start_time": "2022-02-17T20:25:39.818Z"
   },
   {
    "duration": 5,
    "start_time": "2022-02-17T20:25:39.884Z"
   },
   {
    "duration": 11,
    "start_time": "2022-02-17T20:25:39.891Z"
   },
   {
    "duration": 24,
    "start_time": "2022-02-17T20:25:39.904Z"
   },
   {
    "duration": 7,
    "start_time": "2022-02-17T20:25:39.930Z"
   },
   {
    "duration": 34,
    "start_time": "2022-02-17T20:25:39.939Z"
   },
   {
    "duration": 8,
    "start_time": "2022-02-17T20:25:39.975Z"
   },
   {
    "duration": 16,
    "start_time": "2022-02-17T20:25:39.985Z"
   },
   {
    "duration": 9,
    "start_time": "2022-02-17T20:25:40.004Z"
   },
   {
    "duration": 17,
    "start_time": "2022-02-17T20:25:40.015Z"
   },
   {
    "duration": 11,
    "start_time": "2022-02-17T20:25:40.034Z"
   },
   {
    "duration": 30,
    "start_time": "2022-02-17T20:25:40.049Z"
   },
   {
    "duration": 11,
    "start_time": "2022-02-17T20:25:40.082Z"
   },
   {
    "duration": 20,
    "start_time": "2022-02-17T20:25:40.095Z"
   },
   {
    "duration": 604,
    "start_time": "2022-02-17T20:25:40.117Z"
   },
   {
    "duration": 6,
    "start_time": "2022-02-17T20:25:40.723Z"
   },
   {
    "duration": 11,
    "start_time": "2022-02-17T20:25:40.731Z"
   },
   {
    "duration": 7,
    "start_time": "2022-02-17T20:25:40.744Z"
   },
   {
    "duration": 17,
    "start_time": "2022-02-17T20:25:40.753Z"
   },
   {
    "duration": 12,
    "start_time": "2022-02-17T20:25:40.773Z"
   },
   {
    "duration": 18,
    "start_time": "2022-02-17T20:25:40.787Z"
   },
   {
    "duration": 36,
    "start_time": "2022-02-17T20:25:40.807Z"
   },
   {
    "duration": 13,
    "start_time": "2022-02-17T20:25:40.845Z"
   },
   {
    "duration": 9,
    "start_time": "2022-02-17T20:25:40.870Z"
   },
   {
    "duration": 11,
    "start_time": "2022-02-17T20:25:40.881Z"
   },
   {
    "duration": 26,
    "start_time": "2022-02-17T20:25:40.894Z"
   },
   {
    "duration": 11,
    "start_time": "2022-02-17T20:25:40.922Z"
   },
   {
    "duration": 10,
    "start_time": "2022-02-17T20:25:40.935Z"
   },
   {
    "duration": 8,
    "start_time": "2022-02-17T20:25:40.970Z"
   },
   {
    "duration": 28,
    "start_time": "2022-02-17T20:25:40.980Z"
   },
   {
    "duration": 22,
    "start_time": "2022-02-17T20:25:41.010Z"
   },
   {
    "duration": 46,
    "start_time": "2022-02-17T20:25:41.034Z"
   },
   {
    "duration": 12,
    "start_time": "2022-02-17T20:25:41.086Z"
   },
   {
    "duration": 19,
    "start_time": "2022-02-17T20:25:41.100Z"
   },
   {
    "duration": 13,
    "start_time": "2022-02-17T20:25:41.121Z"
   },
   {
    "duration": 12,
    "start_time": "2022-02-17T20:25:41.137Z"
   },
   {
    "duration": 26,
    "start_time": "2022-02-17T20:25:41.151Z"
   },
   {
    "duration": 6,
    "start_time": "2022-02-17T20:25:41.179Z"
   },
   {
    "duration": 12,
    "start_time": "2022-02-17T20:25:41.187Z"
   },
   {
    "duration": 8,
    "start_time": "2022-02-17T20:25:41.201Z"
   },
   {
    "duration": 6,
    "start_time": "2022-02-17T20:25:41.211Z"
   },
   {
    "duration": 17,
    "start_time": "2022-02-17T20:25:41.218Z"
   },
   {
    "duration": 45,
    "start_time": "2022-02-17T20:25:41.237Z"
   },
   {
    "duration": 9,
    "start_time": "2022-02-17T20:25:41.284Z"
   },
   {
    "duration": 6,
    "start_time": "2022-02-17T20:25:41.295Z"
   },
   {
    "duration": 13,
    "start_time": "2022-02-17T20:25:41.303Z"
   },
   {
    "duration": 54,
    "start_time": "2022-02-17T20:25:41.317Z"
   },
   {
    "duration": 18,
    "start_time": "2022-02-17T20:25:41.373Z"
   },
   {
    "duration": 4,
    "start_time": "2022-02-17T20:25:41.393Z"
   },
   {
    "duration": 10,
    "start_time": "2022-02-17T20:25:41.399Z"
   },
   {
    "duration": 373,
    "start_time": "2022-02-17T20:25:41.411Z"
   },
   {
    "duration": 25,
    "start_time": "2022-02-17T20:25:41.787Z"
   },
   {
    "duration": 9,
    "start_time": "2022-02-17T20:25:41.814Z"
   },
   {
    "duration": 14,
    "start_time": "2022-02-17T20:25:56.067Z"
   },
   {
    "duration": 358,
    "start_time": "2022-02-17T20:26:43.224Z"
   },
   {
    "duration": 7,
    "start_time": "2022-02-17T20:27:22.320Z"
   },
   {
    "duration": 255,
    "start_time": "2022-02-17T20:29:06.540Z"
   },
   {
    "duration": 4,
    "start_time": "2022-02-17T20:29:11.693Z"
   },
   {
    "duration": 7,
    "start_time": "2022-02-17T20:29:12.595Z"
   },
   {
    "duration": 65,
    "start_time": "2022-02-17T20:29:26.388Z"
   },
   {
    "duration": 31,
    "start_time": "2022-02-17T20:29:26.455Z"
   },
   {
    "duration": 9,
    "start_time": "2022-02-17T20:29:26.490Z"
   },
   {
    "duration": 6,
    "start_time": "2022-02-17T20:29:26.504Z"
   },
   {
    "duration": 12,
    "start_time": "2022-02-17T20:29:26.512Z"
   },
   {
    "duration": 8,
    "start_time": "2022-02-17T20:29:26.526Z"
   },
   {
    "duration": 3,
    "start_time": "2022-02-17T20:29:26.569Z"
   },
   {
    "duration": 10,
    "start_time": "2022-02-17T20:29:26.575Z"
   },
   {
    "duration": 9,
    "start_time": "2022-02-17T20:29:26.588Z"
   },
   {
    "duration": 14,
    "start_time": "2022-02-17T20:29:26.599Z"
   },
   {
    "duration": 77,
    "start_time": "2022-02-17T20:29:26.614Z"
   },
   {
    "duration": 53,
    "start_time": "2022-02-17T20:29:26.693Z"
   },
   {
    "duration": 23,
    "start_time": "2022-02-17T20:29:26.748Z"
   },
   {
    "duration": 15,
    "start_time": "2022-02-17T20:29:26.773Z"
   },
   {
    "duration": 13,
    "start_time": "2022-02-17T20:29:26.791Z"
   },
   {
    "duration": 7,
    "start_time": "2022-02-17T20:29:26.806Z"
   },
   {
    "duration": 6,
    "start_time": "2022-02-17T20:29:26.815Z"
   },
   {
    "duration": 7,
    "start_time": "2022-02-17T20:29:26.824Z"
   },
   {
    "duration": 40,
    "start_time": "2022-02-17T20:29:26.833Z"
   },
   {
    "duration": 8,
    "start_time": "2022-02-17T20:29:26.876Z"
   },
   {
    "duration": 9,
    "start_time": "2022-02-17T20:29:26.886Z"
   },
   {
    "duration": 9,
    "start_time": "2022-02-17T20:29:26.897Z"
   },
   {
    "duration": 17,
    "start_time": "2022-02-17T20:29:26.910Z"
   },
   {
    "duration": 5,
    "start_time": "2022-02-17T20:29:26.930Z"
   },
   {
    "duration": 8,
    "start_time": "2022-02-17T20:29:26.970Z"
   },
   {
    "duration": 643,
    "start_time": "2022-02-17T20:29:26.980Z"
   },
   {
    "duration": 10,
    "start_time": "2022-02-17T20:29:27.625Z"
   },
   {
    "duration": 7,
    "start_time": "2022-02-17T20:29:27.637Z"
   },
   {
    "duration": 24,
    "start_time": "2022-02-17T20:29:27.646Z"
   },
   {
    "duration": 5,
    "start_time": "2022-02-17T20:29:30.116Z"
   },
   {
    "duration": 6,
    "start_time": "2022-02-17T20:29:31.110Z"
   },
   {
    "duration": 7,
    "start_time": "2022-02-17T20:29:48.780Z"
   },
   {
    "duration": 274,
    "start_time": "2022-02-17T20:29:52.776Z"
   },
   {
    "duration": 25,
    "start_time": "2022-02-17T20:30:09.676Z"
   },
   {
    "duration": 60,
    "start_time": "2022-02-17T20:30:26.890Z"
   },
   {
    "duration": 22,
    "start_time": "2022-02-17T20:30:26.952Z"
   },
   {
    "duration": 7,
    "start_time": "2022-02-17T20:30:26.976Z"
   },
   {
    "duration": 9,
    "start_time": "2022-02-17T20:30:26.986Z"
   },
   {
    "duration": 8,
    "start_time": "2022-02-17T20:30:26.997Z"
   },
   {
    "duration": 8,
    "start_time": "2022-02-17T20:30:27.007Z"
   },
   {
    "duration": 5,
    "start_time": "2022-02-17T20:30:27.017Z"
   },
   {
    "duration": 6,
    "start_time": "2022-02-17T20:30:27.025Z"
   },
   {
    "duration": 4,
    "start_time": "2022-02-17T20:30:27.034Z"
   },
   {
    "duration": 4,
    "start_time": "2022-02-17T20:30:27.069Z"
   },
   {
    "duration": 51,
    "start_time": "2022-02-17T20:30:27.075Z"
   },
   {
    "duration": 67,
    "start_time": "2022-02-17T20:30:27.128Z"
   },
   {
    "duration": 4,
    "start_time": "2022-02-17T20:30:27.197Z"
   },
   {
    "duration": 7,
    "start_time": "2022-02-17T20:30:27.203Z"
   },
   {
    "duration": 13,
    "start_time": "2022-02-17T20:30:27.212Z"
   },
   {
    "duration": 6,
    "start_time": "2022-02-17T20:30:27.227Z"
   },
   {
    "duration": 35,
    "start_time": "2022-02-17T20:30:27.234Z"
   },
   {
    "duration": 7,
    "start_time": "2022-02-17T20:30:27.271Z"
   },
   {
    "duration": 9,
    "start_time": "2022-02-17T20:30:27.280Z"
   },
   {
    "duration": 7,
    "start_time": "2022-02-17T20:30:27.291Z"
   },
   {
    "duration": 7,
    "start_time": "2022-02-17T20:30:27.300Z"
   },
   {
    "duration": 5,
    "start_time": "2022-02-17T20:30:27.309Z"
   },
   {
    "duration": 52,
    "start_time": "2022-02-17T20:30:27.318Z"
   },
   {
    "duration": 7,
    "start_time": "2022-02-17T20:30:27.373Z"
   },
   {
    "duration": 6,
    "start_time": "2022-02-17T20:30:27.382Z"
   },
   {
    "duration": 604,
    "start_time": "2022-02-17T20:30:27.390Z"
   },
   {
    "duration": 7,
    "start_time": "2022-02-17T20:30:27.996Z"
   },
   {
    "duration": 11,
    "start_time": "2022-02-17T20:30:28.005Z"
   },
   {
    "duration": 5,
    "start_time": "2022-02-17T20:30:28.018Z"
   },
   {
    "duration": 4,
    "start_time": "2022-02-17T20:30:30.949Z"
   },
   {
    "duration": 4,
    "start_time": "2022-02-17T20:30:33.980Z"
   },
   {
    "duration": 7,
    "start_time": "2022-02-17T20:30:36.400Z"
   },
   {
    "duration": 27,
    "start_time": "2022-02-17T20:30:39.413Z"
   },
   {
    "duration": 6,
    "start_time": "2022-02-17T20:30:42.501Z"
   },
   {
    "duration": 5,
    "start_time": "2022-02-17T20:32:11.184Z"
   },
   {
    "duration": 6382,
    "start_time": "2022-02-17T20:33:17.126Z"
   },
   {
    "duration": 7,
    "start_time": "2022-02-17T20:33:25.414Z"
   },
   {
    "duration": 25,
    "start_time": "2022-02-17T20:33:38.827Z"
   },
   {
    "duration": 278,
    "start_time": "2022-02-17T20:34:14.769Z"
   },
   {
    "duration": 260,
    "start_time": "2022-02-17T20:34:20.828Z"
   },
   {
    "duration": 71,
    "start_time": "2022-02-17T20:34:50.210Z"
   },
   {
    "duration": 115,
    "start_time": "2022-02-17T20:34:50.284Z"
   },
   {
    "duration": 3,
    "start_time": "2022-02-17T20:34:50.401Z"
   },
   {
    "duration": 25,
    "start_time": "2022-02-17T20:34:50.406Z"
   },
   {
    "duration": 9,
    "start_time": "2022-02-17T20:34:50.433Z"
   },
   {
    "duration": 15,
    "start_time": "2022-02-17T20:34:50.444Z"
   },
   {
    "duration": 5,
    "start_time": "2022-02-17T20:34:50.461Z"
   },
   {
    "duration": 24,
    "start_time": "2022-02-17T20:34:50.468Z"
   },
   {
    "duration": 3,
    "start_time": "2022-02-17T20:34:50.495Z"
   },
   {
    "duration": 6,
    "start_time": "2022-02-17T20:34:50.501Z"
   },
   {
    "duration": 50,
    "start_time": "2022-02-17T20:34:50.509Z"
   },
   {
    "duration": 60,
    "start_time": "2022-02-17T20:34:50.561Z"
   },
   {
    "duration": 5,
    "start_time": "2022-02-17T20:34:50.623Z"
   },
   {
    "duration": 14,
    "start_time": "2022-02-17T20:34:50.630Z"
   },
   {
    "duration": 16,
    "start_time": "2022-02-17T20:34:50.646Z"
   },
   {
    "duration": 8,
    "start_time": "2022-02-17T20:34:50.669Z"
   },
   {
    "duration": 16,
    "start_time": "2022-02-17T20:34:50.680Z"
   },
   {
    "duration": 7,
    "start_time": "2022-02-17T20:34:50.698Z"
   },
   {
    "duration": 11,
    "start_time": "2022-02-17T20:34:50.706Z"
   },
   {
    "duration": 6,
    "start_time": "2022-02-17T20:34:50.719Z"
   },
   {
    "duration": 5,
    "start_time": "2022-02-17T20:34:50.727Z"
   },
   {
    "duration": 6,
    "start_time": "2022-02-17T20:34:50.733Z"
   },
   {
    "duration": 36,
    "start_time": "2022-02-17T20:34:50.740Z"
   },
   {
    "duration": 7,
    "start_time": "2022-02-17T20:34:50.780Z"
   },
   {
    "duration": 9,
    "start_time": "2022-02-17T20:34:50.789Z"
   },
   {
    "duration": 618,
    "start_time": "2022-02-17T20:34:50.799Z"
   },
   {
    "duration": 6,
    "start_time": "2022-02-17T20:34:51.421Z"
   },
   {
    "duration": 6,
    "start_time": "2022-02-17T20:34:51.429Z"
   },
   {
    "duration": 9,
    "start_time": "2022-02-17T20:34:51.436Z"
   },
   {
    "duration": 31,
    "start_time": "2022-02-17T20:34:51.446Z"
   },
   {
    "duration": 8,
    "start_time": "2022-02-17T20:34:53.566Z"
   },
   {
    "duration": 28,
    "start_time": "2022-02-17T20:34:55.159Z"
   },
   {
    "duration": 6,
    "start_time": "2022-02-17T20:35:02.264Z"
   },
   {
    "duration": 5,
    "start_time": "2022-02-17T20:35:03.740Z"
   },
   {
    "duration": 5,
    "start_time": "2022-02-17T20:35:05.898Z"
   },
   {
    "duration": 87,
    "start_time": "2022-02-17T20:36:38.150Z"
   },
   {
    "duration": 7,
    "start_time": "2022-02-17T20:38:26.633Z"
   },
   {
    "duration": 10,
    "start_time": "2022-02-17T20:40:06.243Z"
   },
   {
    "duration": 7,
    "start_time": "2022-02-17T20:40:29.182Z"
   },
   {
    "duration": 50,
    "start_time": "2022-02-17T20:45:53.469Z"
   },
   {
    "duration": 51,
    "start_time": "2022-02-17T20:45:57.672Z"
   },
   {
    "duration": 8,
    "start_time": "2022-02-17T20:46:07.424Z"
   },
   {
    "duration": 50,
    "start_time": "2022-02-17T20:47:04.415Z"
   },
   {
    "duration": 7,
    "start_time": "2022-02-17T20:47:06.608Z"
   },
   {
    "duration": 62,
    "start_time": "2022-02-17T20:47:08.945Z"
   },
   {
    "duration": 9,
    "start_time": "2022-02-17T20:47:10.810Z"
   },
   {
    "duration": 47,
    "start_time": "2022-02-17T20:48:14.616Z"
   },
   {
    "duration": 9,
    "start_time": "2022-02-17T20:48:45.590Z"
   },
   {
    "duration": 59,
    "start_time": "2022-02-17T20:48:58.188Z"
   },
   {
    "duration": 23,
    "start_time": "2022-02-17T20:48:58.249Z"
   },
   {
    "duration": 3,
    "start_time": "2022-02-17T20:48:58.275Z"
   },
   {
    "duration": 6,
    "start_time": "2022-02-17T20:48:58.280Z"
   },
   {
    "duration": 4,
    "start_time": "2022-02-17T20:48:58.288Z"
   },
   {
    "duration": 5,
    "start_time": "2022-02-17T20:48:58.294Z"
   },
   {
    "duration": 7,
    "start_time": "2022-02-17T20:48:58.300Z"
   },
   {
    "duration": 7,
    "start_time": "2022-02-17T20:48:58.309Z"
   },
   {
    "duration": 8,
    "start_time": "2022-02-17T20:48:58.318Z"
   },
   {
    "duration": 42,
    "start_time": "2022-02-17T20:48:58.328Z"
   },
   {
    "duration": 47,
    "start_time": "2022-02-17T20:48:58.373Z"
   },
   {
    "duration": 68,
    "start_time": "2022-02-17T20:48:58.421Z"
   },
   {
    "duration": 5,
    "start_time": "2022-02-17T20:48:58.491Z"
   },
   {
    "duration": 7,
    "start_time": "2022-02-17T20:48:58.498Z"
   },
   {
    "duration": 16,
    "start_time": "2022-02-17T20:48:58.506Z"
   },
   {
    "duration": 6,
    "start_time": "2022-02-17T20:48:58.524Z"
   },
   {
    "duration": 38,
    "start_time": "2022-02-17T20:48:58.531Z"
   },
   {
    "duration": 5,
    "start_time": "2022-02-17T20:48:58.571Z"
   },
   {
    "duration": 7,
    "start_time": "2022-02-17T20:48:58.580Z"
   },
   {
    "duration": 7,
    "start_time": "2022-02-17T20:48:58.589Z"
   },
   {
    "duration": 6,
    "start_time": "2022-02-17T20:48:58.598Z"
   },
   {
    "duration": 4,
    "start_time": "2022-02-17T20:48:58.606Z"
   },
   {
    "duration": 7,
    "start_time": "2022-02-17T20:48:58.612Z"
   },
   {
    "duration": 48,
    "start_time": "2022-02-17T20:48:58.621Z"
   },
   {
    "duration": 5,
    "start_time": "2022-02-17T20:48:58.672Z"
   },
   {
    "duration": 607,
    "start_time": "2022-02-17T20:48:58.679Z"
   },
   {
    "duration": 7,
    "start_time": "2022-02-17T20:48:59.288Z"
   },
   {
    "duration": 30,
    "start_time": "2022-02-17T20:48:59.297Z"
   },
   {
    "duration": 21,
    "start_time": "2022-02-17T20:48:59.329Z"
   },
   {
    "duration": 13,
    "start_time": "2022-02-17T20:48:59.352Z"
   },
   {
    "duration": 27,
    "start_time": "2022-02-17T20:48:59.366Z"
   },
   {
    "duration": 39,
    "start_time": "2022-02-17T20:48:59.396Z"
   },
   {
    "duration": 9,
    "start_time": "2022-02-17T20:48:59.438Z"
   },
   {
    "duration": 6,
    "start_time": "2022-02-17T20:48:59.449Z"
   },
   {
    "duration": 8,
    "start_time": "2022-02-17T20:48:59.457Z"
   },
   {
    "duration": 23,
    "start_time": "2022-02-17T20:48:59.468Z"
   },
   {
    "duration": 51,
    "start_time": "2022-02-17T20:49:15.736Z"
   },
   {
    "duration": 9,
    "start_time": "2022-02-17T20:49:24.849Z"
   },
   {
    "duration": 23,
    "start_time": "2022-02-17T20:49:45.295Z"
   },
   {
    "duration": 46,
    "start_time": "2022-02-17T20:50:16.422Z"
   },
   {
    "duration": 8,
    "start_time": "2022-02-17T20:50:18.641Z"
   },
   {
    "duration": 712,
    "start_time": "2022-02-17T20:50:47.364Z"
   },
   {
    "duration": 7,
    "start_time": "2022-02-17T20:50:49.329Z"
   },
   {
    "duration": 651,
    "start_time": "2022-02-17T20:50:57.928Z"
   },
   {
    "duration": 7,
    "start_time": "2022-02-17T20:50:59.677Z"
   },
   {
    "duration": 46,
    "start_time": "2022-02-17T20:51:09.580Z"
   },
   {
    "duration": 8,
    "start_time": "2022-02-17T20:51:11.937Z"
   },
   {
    "duration": 7,
    "start_time": "2022-02-17T20:51:31.641Z"
   },
   {
    "duration": 8,
    "start_time": "2022-02-17T20:51:33.197Z"
   },
   {
    "duration": 8,
    "start_time": "2022-02-17T20:51:41.599Z"
   },
   {
    "duration": 47,
    "start_time": "2022-02-17T20:52:01.420Z"
   },
   {
    "duration": 6,
    "start_time": "2022-02-17T20:52:02.530Z"
   },
   {
    "duration": 6,
    "start_time": "2022-02-17T20:52:05.428Z"
   },
   {
    "duration": 8,
    "start_time": "2022-02-17T20:52:07.211Z"
   },
   {
    "duration": 7,
    "start_time": "2022-02-17T20:52:16.996Z"
   },
   {
    "duration": 9,
    "start_time": "2022-02-17T20:52:18.724Z"
   },
   {
    "duration": 6,
    "start_time": "2022-02-17T20:52:22.597Z"
   },
   {
    "duration": 8,
    "start_time": "2022-02-17T20:52:24.581Z"
   },
   {
    "duration": 24,
    "start_time": "2022-02-17T20:52:31.022Z"
   },
   {
    "duration": 686,
    "start_time": "2022-02-17T20:52:39.095Z"
   },
   {
    "duration": 678,
    "start_time": "2022-02-17T20:52:40.199Z"
   },
   {
    "duration": 49,
    "start_time": "2022-02-17T20:53:05.284Z"
   },
   {
    "duration": 6,
    "start_time": "2022-02-17T20:53:06.675Z"
   },
   {
    "duration": 8,
    "start_time": "2022-02-17T20:53:08.621Z"
   },
   {
    "duration": 8,
    "start_time": "2022-02-17T20:53:12.779Z"
   },
   {
    "duration": 50,
    "start_time": "2022-02-17T20:53:15.012Z"
   },
   {
    "duration": 8,
    "start_time": "2022-02-17T20:53:16.259Z"
   },
   {
    "duration": 8,
    "start_time": "2022-02-17T20:53:41.118Z"
   },
   {
    "duration": 7,
    "start_time": "2022-02-17T20:54:01.911Z"
   },
   {
    "duration": 254,
    "start_time": "2022-02-17T20:54:04.594Z"
   },
   {
    "duration": 9,
    "start_time": "2022-02-17T20:54:14.602Z"
   },
   {
    "duration": 4,
    "start_time": "2022-02-17T20:55:31.087Z"
   },
   {
    "duration": 8,
    "start_time": "2022-02-17T20:55:32.200Z"
   },
   {
    "duration": 25,
    "start_time": "2022-02-17T20:55:33.758Z"
   },
   {
    "duration": 49,
    "start_time": "2022-02-17T20:55:42.735Z"
   },
   {
    "duration": 5,
    "start_time": "2022-02-17T20:55:43.550Z"
   },
   {
    "duration": 8,
    "start_time": "2022-02-17T20:55:44.228Z"
   },
   {
    "duration": 21,
    "start_time": "2022-02-17T20:55:46.281Z"
   },
   {
    "duration": 10,
    "start_time": "2022-02-17T20:57:40.272Z"
   },
   {
    "duration": 8,
    "start_time": "2022-02-17T20:57:41.043Z"
   },
   {
    "duration": 20,
    "start_time": "2022-02-17T20:59:34.115Z"
   },
   {
    "duration": 71,
    "start_time": "2022-02-17T20:59:45.904Z"
   },
   {
    "duration": 25,
    "start_time": "2022-02-17T20:59:45.977Z"
   },
   {
    "duration": 16,
    "start_time": "2022-02-17T20:59:46.004Z"
   },
   {
    "duration": 7,
    "start_time": "2022-02-17T20:59:46.022Z"
   },
   {
    "duration": 10,
    "start_time": "2022-02-17T20:59:46.031Z"
   },
   {
    "duration": 7,
    "start_time": "2022-02-17T20:59:46.043Z"
   },
   {
    "duration": 19,
    "start_time": "2022-02-17T20:59:46.052Z"
   },
   {
    "duration": 6,
    "start_time": "2022-02-17T20:59:46.074Z"
   },
   {
    "duration": 9,
    "start_time": "2022-02-17T20:59:46.082Z"
   },
   {
    "duration": 6,
    "start_time": "2022-02-17T20:59:46.093Z"
   },
   {
    "duration": 80,
    "start_time": "2022-02-17T20:59:46.101Z"
   },
   {
    "duration": 46,
    "start_time": "2022-02-17T20:59:46.183Z"
   },
   {
    "duration": 5,
    "start_time": "2022-02-17T20:59:46.231Z"
   },
   {
    "duration": 32,
    "start_time": "2022-02-17T20:59:46.238Z"
   },
   {
    "duration": 11,
    "start_time": "2022-02-17T20:59:46.272Z"
   },
   {
    "duration": 6,
    "start_time": "2022-02-17T20:59:46.284Z"
   },
   {
    "duration": 5,
    "start_time": "2022-02-17T20:59:46.292Z"
   },
   {
    "duration": 6,
    "start_time": "2022-02-17T20:59:46.299Z"
   },
   {
    "duration": 9,
    "start_time": "2022-02-17T20:59:46.307Z"
   },
   {
    "duration": 8,
    "start_time": "2022-02-17T20:59:46.318Z"
   },
   {
    "duration": 42,
    "start_time": "2022-02-17T20:59:46.328Z"
   },
   {
    "duration": 4,
    "start_time": "2022-02-17T20:59:46.373Z"
   },
   {
    "duration": 9,
    "start_time": "2022-02-17T20:59:46.381Z"
   },
   {
    "duration": 6,
    "start_time": "2022-02-17T20:59:46.393Z"
   },
   {
    "duration": 16,
    "start_time": "2022-02-17T20:59:46.401Z"
   },
   {
    "duration": 564,
    "start_time": "2022-02-17T20:59:46.420Z"
   },
   {
    "duration": 7,
    "start_time": "2022-02-17T20:59:46.986Z"
   },
   {
    "duration": 7,
    "start_time": "2022-02-17T20:59:46.995Z"
   },
   {
    "duration": 5,
    "start_time": "2022-02-17T20:59:47.003Z"
   },
   {
    "duration": 4,
    "start_time": "2022-02-17T20:59:47.010Z"
   },
   {
    "duration": 7,
    "start_time": "2022-02-17T20:59:47.016Z"
   },
   {
    "duration": 56,
    "start_time": "2022-02-17T20:59:47.025Z"
   },
   {
    "duration": 6,
    "start_time": "2022-02-17T20:59:47.083Z"
   },
   {
    "duration": 7,
    "start_time": "2022-02-17T20:59:47.090Z"
   },
   {
    "duration": 12,
    "start_time": "2022-02-17T20:59:47.099Z"
   },
   {
    "duration": 102,
    "start_time": "2022-02-17T20:59:47.114Z"
   },
   {
    "duration": 4,
    "start_time": "2022-02-17T20:59:47.218Z"
   },
   {
    "duration": 13,
    "start_time": "2022-02-17T20:59:47.225Z"
   },
   {
    "duration": 93,
    "start_time": "2022-02-17T20:59:47.241Z"
   },
   {
    "duration": -387,
    "start_time": "2022-02-17T20:59:47.724Z"
   },
   {
    "duration": -392,
    "start_time": "2022-02-17T20:59:47.731Z"
   },
   {
    "duration": -395,
    "start_time": "2022-02-17T20:59:47.736Z"
   },
   {
    "duration": -401,
    "start_time": "2022-02-17T20:59:47.743Z"
   },
   {
    "duration": -407,
    "start_time": "2022-02-17T20:59:47.751Z"
   },
   {
    "duration": -437,
    "start_time": "2022-02-17T20:59:47.783Z"
   },
   {
    "duration": -445,
    "start_time": "2022-02-17T20:59:47.793Z"
   },
   {
    "duration": -450,
    "start_time": "2022-02-17T20:59:47.800Z"
   },
   {
    "duration": -456,
    "start_time": "2022-02-17T20:59:47.807Z"
   },
   {
    "duration": -461,
    "start_time": "2022-02-17T20:59:47.814Z"
   },
   {
    "duration": -465,
    "start_time": "2022-02-17T20:59:47.820Z"
   },
   {
    "duration": -470,
    "start_time": "2022-02-17T20:59:47.827Z"
   },
   {
    "duration": -475,
    "start_time": "2022-02-17T20:59:47.833Z"
   },
   {
    "duration": -479,
    "start_time": "2022-02-17T20:59:47.839Z"
   },
   {
    "duration": -484,
    "start_time": "2022-02-17T20:59:47.846Z"
   },
   {
    "duration": -489,
    "start_time": "2022-02-17T20:59:47.852Z"
   },
   {
    "duration": -493,
    "start_time": "2022-02-17T20:59:47.858Z"
   },
   {
    "duration": -499,
    "start_time": "2022-02-17T20:59:47.866Z"
   },
   {
    "duration": -503,
    "start_time": "2022-02-17T20:59:47.872Z"
   },
   {
    "duration": -508,
    "start_time": "2022-02-17T20:59:47.878Z"
   },
   {
    "duration": -527,
    "start_time": "2022-02-17T20:59:47.899Z"
   },
   {
    "duration": -534,
    "start_time": "2022-02-17T20:59:47.908Z"
   },
   {
    "duration": 24,
    "start_time": "2022-02-17T20:59:51.850Z"
   },
   {
    "duration": 10,
    "start_time": "2022-02-17T21:00:03.172Z"
   },
   {
    "duration": 23,
    "start_time": "2022-02-17T21:00:04.450Z"
   },
   {
    "duration": 18,
    "start_time": "2022-02-17T21:10:28.579Z"
   },
   {
    "duration": 348,
    "start_time": "2022-02-19T10:44:46.646Z"
   },
   {
    "duration": 276,
    "start_time": "2022-02-19T10:44:48.733Z"
   },
   {
    "duration": 1335,
    "start_time": "2022-02-19T10:44:54.994Z"
   },
   {
    "duration": 26,
    "start_time": "2022-02-19T10:44:56.331Z"
   },
   {
    "duration": 4,
    "start_time": "2022-02-19T10:44:56.359Z"
   },
   {
    "duration": 29,
    "start_time": "2022-02-19T10:44:56.365Z"
   },
   {
    "duration": 11,
    "start_time": "2022-02-19T10:44:56.396Z"
   },
   {
    "duration": 21,
    "start_time": "2022-02-19T10:44:56.409Z"
   },
   {
    "duration": 9,
    "start_time": "2022-02-19T10:44:56.432Z"
   },
   {
    "duration": 8,
    "start_time": "2022-02-19T10:44:56.444Z"
   },
   {
    "duration": 4,
    "start_time": "2022-02-19T10:44:56.455Z"
   },
   {
    "duration": 12,
    "start_time": "2022-02-19T10:44:56.462Z"
   },
   {
    "duration": 54,
    "start_time": "2022-02-19T10:44:56.476Z"
   },
   {
    "duration": 46,
    "start_time": "2022-02-19T10:44:56.532Z"
   },
   {
    "duration": 4,
    "start_time": "2022-02-19T10:44:56.580Z"
   },
   {
    "duration": 22,
    "start_time": "2022-02-19T10:44:56.586Z"
   },
   {
    "duration": 22,
    "start_time": "2022-02-19T10:44:56.610Z"
   },
   {
    "duration": 12,
    "start_time": "2022-02-19T10:44:56.634Z"
   },
   {
    "duration": 6,
    "start_time": "2022-02-19T10:44:56.648Z"
   },
   {
    "duration": 20,
    "start_time": "2022-02-19T10:44:56.656Z"
   },
   {
    "duration": 21,
    "start_time": "2022-02-19T10:44:56.678Z"
   },
   {
    "duration": 19,
    "start_time": "2022-02-19T10:44:56.701Z"
   },
   {
    "duration": 17,
    "start_time": "2022-02-19T10:44:56.721Z"
   },
   {
    "duration": 15,
    "start_time": "2022-02-19T10:44:56.740Z"
   },
   {
    "duration": 15,
    "start_time": "2022-02-19T10:44:56.760Z"
   },
   {
    "duration": 7,
    "start_time": "2022-02-19T10:44:56.777Z"
   },
   {
    "duration": 11,
    "start_time": "2022-02-19T10:44:56.786Z"
   },
   {
    "duration": 547,
    "start_time": "2022-02-19T10:44:56.799Z"
   },
   {
    "duration": 6,
    "start_time": "2022-02-19T10:44:57.348Z"
   },
   {
    "duration": 10,
    "start_time": "2022-02-19T10:44:57.355Z"
   },
   {
    "duration": 6,
    "start_time": "2022-02-19T10:44:57.367Z"
   },
   {
    "duration": 38,
    "start_time": "2022-02-19T10:44:57.375Z"
   },
   {
    "duration": 5,
    "start_time": "2022-02-19T10:44:57.416Z"
   },
   {
    "duration": 6,
    "start_time": "2022-02-19T10:44:57.423Z"
   },
   {
    "duration": 14,
    "start_time": "2022-02-19T10:44:57.430Z"
   },
   {
    "duration": 71,
    "start_time": "2022-02-19T10:44:57.446Z"
   },
   {
    "duration": 4,
    "start_time": "2022-02-19T10:44:57.519Z"
   },
   {
    "duration": 12,
    "start_time": "2022-02-19T10:44:57.525Z"
   },
   {
    "duration": 12,
    "start_time": "2022-02-19T10:44:57.539Z"
   },
   {
    "duration": 8,
    "start_time": "2022-02-19T10:44:57.552Z"
   },
   {
    "duration": 9,
    "start_time": "2022-02-19T10:44:57.562Z"
   },
   {
    "duration": 7,
    "start_time": "2022-02-19T10:44:57.574Z"
   },
   {
    "duration": 18,
    "start_time": "2022-02-19T10:44:57.607Z"
   },
   {
    "duration": 19,
    "start_time": "2022-02-19T10:44:57.627Z"
   },
   {
    "duration": 16,
    "start_time": "2022-02-19T10:44:57.648Z"
   },
   {
    "duration": 41,
    "start_time": "2022-02-19T10:44:57.666Z"
   },
   {
    "duration": 17,
    "start_time": "2022-02-19T10:44:57.709Z"
   },
   {
    "duration": 18,
    "start_time": "2022-02-19T10:44:57.728Z"
   },
   {
    "duration": 8,
    "start_time": "2022-02-19T10:44:57.748Z"
   },
   {
    "duration": 13,
    "start_time": "2022-02-19T10:44:57.758Z"
   },
   {
    "duration": 10,
    "start_time": "2022-02-19T10:44:57.773Z"
   },
   {
    "duration": 24,
    "start_time": "2022-02-19T10:44:57.784Z"
   },
   {
    "duration": 5,
    "start_time": "2022-02-19T10:44:57.810Z"
   },
   {
    "duration": 12,
    "start_time": "2022-02-19T10:44:57.817Z"
   },
   {
    "duration": 19,
    "start_time": "2022-02-19T10:44:57.831Z"
   },
   {
    "duration": 16,
    "start_time": "2022-02-19T10:44:57.852Z"
   },
   {
    "duration": 17,
    "start_time": "2022-02-19T10:44:57.869Z"
   },
   {
    "duration": 8,
    "start_time": "2022-02-19T10:44:57.889Z"
   },
   {
    "duration": 19,
    "start_time": "2022-02-19T10:44:57.900Z"
   },
   {
    "duration": 38,
    "start_time": "2022-02-19T10:44:57.921Z"
   },
   {
    "duration": 34,
    "start_time": "2022-02-19T10:44:57.961Z"
   },
   {
    "duration": 20,
    "start_time": "2022-02-19T10:44:57.997Z"
   },
   {
    "duration": 36,
    "start_time": "2022-02-19T10:44:58.019Z"
   },
   {
    "duration": 553,
    "start_time": "2022-02-19T10:44:58.056Z"
   },
   {
    "duration": 16,
    "start_time": "2022-02-19T10:44:58.611Z"
   },
   {
    "duration": 19,
    "start_time": "2022-02-19T10:44:58.629Z"
   },
   {
    "duration": 406,
    "start_time": "2022-02-19T10:49:23.019Z"
   },
   {
    "duration": 277,
    "start_time": "2022-02-19T10:49:23.825Z"
   },
   {
    "duration": 319,
    "start_time": "2022-02-19T10:49:25.436Z"
   },
   {
    "duration": 1341,
    "start_time": "2022-02-19T10:49:49.733Z"
   },
   {
    "duration": 43,
    "start_time": "2022-02-19T10:49:51.077Z"
   },
   {
    "duration": 11,
    "start_time": "2022-02-19T10:49:51.123Z"
   },
   {
    "duration": 13,
    "start_time": "2022-02-19T10:49:51.137Z"
   },
   {
    "duration": 16,
    "start_time": "2022-02-19T10:49:51.152Z"
   },
   {
    "duration": 16,
    "start_time": "2022-02-19T10:49:51.172Z"
   },
   {
    "duration": 9,
    "start_time": "2022-02-19T10:49:51.191Z"
   },
   {
    "duration": 10,
    "start_time": "2022-02-19T10:49:51.204Z"
   },
   {
    "duration": 8,
    "start_time": "2022-02-19T10:49:51.217Z"
   },
   {
    "duration": 13,
    "start_time": "2022-02-19T10:49:51.227Z"
   },
   {
    "duration": 59,
    "start_time": "2022-02-19T10:49:51.243Z"
   },
   {
    "duration": 60,
    "start_time": "2022-02-19T10:49:51.307Z"
   },
   {
    "duration": 6,
    "start_time": "2022-02-19T10:49:51.370Z"
   },
   {
    "duration": 9,
    "start_time": "2022-02-19T10:49:51.378Z"
   },
   {
    "duration": 34,
    "start_time": "2022-02-19T10:49:51.389Z"
   },
   {
    "duration": 7,
    "start_time": "2022-02-19T10:49:51.425Z"
   },
   {
    "duration": 8,
    "start_time": "2022-02-19T10:49:51.434Z"
   },
   {
    "duration": 10,
    "start_time": "2022-02-19T10:49:51.444Z"
   },
   {
    "duration": 16,
    "start_time": "2022-02-19T10:49:51.456Z"
   },
   {
    "duration": 17,
    "start_time": "2022-02-19T10:49:51.474Z"
   },
   {
    "duration": 7,
    "start_time": "2022-02-19T10:49:51.508Z"
   },
   {
    "duration": 8,
    "start_time": "2022-02-19T10:49:51.517Z"
   },
   {
    "duration": 17,
    "start_time": "2022-02-19T10:49:51.531Z"
   },
   {
    "duration": 15,
    "start_time": "2022-02-19T10:49:51.550Z"
   },
   {
    "duration": 10,
    "start_time": "2022-02-19T10:49:51.567Z"
   },
   {
    "duration": 576,
    "start_time": "2022-02-19T10:49:51.579Z"
   },
   {
    "duration": 8,
    "start_time": "2022-02-19T10:49:52.157Z"
   },
   {
    "duration": 9,
    "start_time": "2022-02-19T10:49:52.168Z"
   },
   {
    "duration": 8,
    "start_time": "2022-02-19T10:49:52.179Z"
   },
   {
    "duration": 48,
    "start_time": "2022-02-19T10:49:52.188Z"
   },
   {
    "duration": 12,
    "start_time": "2022-02-19T10:49:52.238Z"
   },
   {
    "duration": 6,
    "start_time": "2022-02-19T10:49:52.252Z"
   },
   {
    "duration": 16,
    "start_time": "2022-02-19T10:49:52.260Z"
   },
   {
    "duration": 73,
    "start_time": "2022-02-19T10:49:52.278Z"
   },
   {
    "duration": 5,
    "start_time": "2022-02-19T10:49:52.353Z"
   },
   {
    "duration": 23,
    "start_time": "2022-02-19T10:49:52.360Z"
   },
   {
    "duration": 12,
    "start_time": "2022-02-19T10:49:52.385Z"
   },
   {
    "duration": 17,
    "start_time": "2022-02-19T10:49:52.399Z"
   },
   {
    "duration": 14,
    "start_time": "2022-02-19T10:49:52.418Z"
   },
   {
    "duration": 7,
    "start_time": "2022-02-19T10:49:52.434Z"
   },
   {
    "duration": 27,
    "start_time": "2022-02-19T10:49:52.443Z"
   },
   {
    "duration": 38,
    "start_time": "2022-02-19T10:49:52.472Z"
   },
   {
    "duration": 18,
    "start_time": "2022-02-19T10:49:52.512Z"
   },
   {
    "duration": 10,
    "start_time": "2022-02-19T10:49:52.532Z"
   },
   {
    "duration": 26,
    "start_time": "2022-02-19T10:49:52.544Z"
   },
   {
    "duration": 12,
    "start_time": "2022-02-19T10:49:52.572Z"
   },
   {
    "duration": 6,
    "start_time": "2022-02-19T10:49:52.609Z"
   },
   {
    "duration": 17,
    "start_time": "2022-02-19T10:49:52.617Z"
   },
   {
    "duration": 9,
    "start_time": "2022-02-19T10:49:52.636Z"
   },
   {
    "duration": 19,
    "start_time": "2022-02-19T10:49:52.648Z"
   },
   {
    "duration": 11,
    "start_time": "2022-02-19T10:49:52.669Z"
   },
   {
    "duration": 25,
    "start_time": "2022-02-19T10:49:52.682Z"
   },
   {
    "duration": 19,
    "start_time": "2022-02-19T10:49:52.709Z"
   },
   {
    "duration": 21,
    "start_time": "2022-02-19T10:49:52.730Z"
   },
   {
    "duration": 22,
    "start_time": "2022-02-19T10:49:52.753Z"
   },
   {
    "duration": 10,
    "start_time": "2022-02-19T10:49:52.778Z"
   },
   {
    "duration": 19,
    "start_time": "2022-02-19T10:49:52.790Z"
   },
   {
    "duration": 27,
    "start_time": "2022-02-19T10:49:52.812Z"
   },
   {
    "duration": 19,
    "start_time": "2022-02-19T10:49:52.841Z"
   },
   {
    "duration": 3,
    "start_time": "2022-02-19T10:49:52.863Z"
   },
   {
    "duration": 17,
    "start_time": "2022-02-19T10:49:52.867Z"
   },
   {
    "duration": 590,
    "start_time": "2022-02-19T10:49:52.886Z"
   },
   {
    "duration": 28,
    "start_time": "2022-02-19T10:49:53.479Z"
   },
   {
    "duration": 18,
    "start_time": "2022-02-19T10:49:53.510Z"
   },
   {
    "duration": 414,
    "start_time": "2022-02-19T10:50:44.419Z"
   },
   {
    "duration": 64,
    "start_time": "2022-02-19T10:50:56.515Z"
   },
   {
    "duration": 38,
    "start_time": "2022-02-19T10:50:56.582Z"
   },
   {
    "duration": 5,
    "start_time": "2022-02-19T10:50:56.623Z"
   },
   {
    "duration": 8,
    "start_time": "2022-02-19T10:50:56.631Z"
   },
   {
    "duration": 11,
    "start_time": "2022-02-19T10:50:56.641Z"
   },
   {
    "duration": 11,
    "start_time": "2022-02-19T10:50:56.654Z"
   },
   {
    "duration": 12,
    "start_time": "2022-02-19T10:50:56.667Z"
   },
   {
    "duration": 5,
    "start_time": "2022-02-19T10:50:56.707Z"
   },
   {
    "duration": 10,
    "start_time": "2022-02-19T10:50:56.716Z"
   },
   {
    "duration": 11,
    "start_time": "2022-02-19T10:50:56.728Z"
   },
   {
    "duration": 79,
    "start_time": "2022-02-19T10:50:56.741Z"
   },
   {
    "duration": 50,
    "start_time": "2022-02-19T10:50:56.822Z"
   },
   {
    "duration": 6,
    "start_time": "2022-02-19T10:50:56.874Z"
   },
   {
    "duration": 28,
    "start_time": "2022-02-19T10:50:56.881Z"
   },
   {
    "duration": 25,
    "start_time": "2022-02-19T10:50:56.912Z"
   },
   {
    "duration": 13,
    "start_time": "2022-02-19T10:50:56.939Z"
   },
   {
    "duration": 7,
    "start_time": "2022-02-19T10:50:56.954Z"
   },
   {
    "duration": 8,
    "start_time": "2022-02-19T10:50:56.963Z"
   },
   {
    "duration": 13,
    "start_time": "2022-02-19T10:50:56.973Z"
   },
   {
    "duration": 25,
    "start_time": "2022-02-19T10:50:56.988Z"
   },
   {
    "duration": 11,
    "start_time": "2022-02-19T10:50:57.015Z"
   },
   {
    "duration": 7,
    "start_time": "2022-02-19T10:50:57.028Z"
   },
   {
    "duration": 13,
    "start_time": "2022-02-19T10:50:57.036Z"
   },
   {
    "duration": 10,
    "start_time": "2022-02-19T10:50:57.051Z"
   },
   {
    "duration": 9,
    "start_time": "2022-02-19T10:50:57.063Z"
   },
   {
    "duration": 672,
    "start_time": "2022-02-19T10:50:57.074Z"
   },
   {
    "duration": 7,
    "start_time": "2022-02-19T10:50:57.751Z"
   },
   {
    "duration": 4,
    "start_time": "2022-02-19T10:50:57.761Z"
   },
   {
    "duration": 11,
    "start_time": "2022-02-19T10:50:57.767Z"
   },
   {
    "duration": 46,
    "start_time": "2022-02-19T10:50:57.780Z"
   },
   {
    "duration": 6,
    "start_time": "2022-02-19T10:50:57.828Z"
   },
   {
    "duration": 28,
    "start_time": "2022-02-19T10:50:57.836Z"
   },
   {
    "duration": 24,
    "start_time": "2022-02-19T10:50:57.866Z"
   },
   {
    "duration": 57,
    "start_time": "2022-02-19T10:50:57.892Z"
   },
   {
    "duration": 4,
    "start_time": "2022-02-19T10:50:57.952Z"
   },
   {
    "duration": 29,
    "start_time": "2022-02-19T10:50:57.958Z"
   },
   {
    "duration": 14,
    "start_time": "2022-02-19T10:50:57.989Z"
   },
   {
    "duration": 8,
    "start_time": "2022-02-19T10:50:58.005Z"
   },
   {
    "duration": 13,
    "start_time": "2022-02-19T10:50:58.014Z"
   },
   {
    "duration": 7,
    "start_time": "2022-02-19T10:50:58.029Z"
   },
   {
    "duration": 24,
    "start_time": "2022-02-19T10:50:58.038Z"
   },
   {
    "duration": 46,
    "start_time": "2022-02-19T10:50:58.064Z"
   },
   {
    "duration": 18,
    "start_time": "2022-02-19T10:50:58.112Z"
   },
   {
    "duration": 8,
    "start_time": "2022-02-19T10:50:58.132Z"
   },
   {
    "duration": 25,
    "start_time": "2022-02-19T10:50:58.143Z"
   },
   {
    "duration": 17,
    "start_time": "2022-02-19T10:50:58.170Z"
   },
   {
    "duration": 21,
    "start_time": "2022-02-19T10:50:58.189Z"
   },
   {
    "duration": 277,
    "start_time": "2022-02-19T10:50:58.213Z"
   },
   {
    "duration": 10,
    "start_time": "2022-02-19T10:51:13.357Z"
   },
   {
    "duration": 9,
    "start_time": "2022-02-19T10:51:34.619Z"
   },
   {
    "duration": 16,
    "start_time": "2022-02-19T11:01:15.653Z"
   },
   {
    "duration": 16,
    "start_time": "2022-02-19T11:02:30.849Z"
   },
   {
    "duration": 19,
    "start_time": "2022-02-19T11:02:31.461Z"
   },
   {
    "duration": 17,
    "start_time": "2022-02-19T11:03:05.208Z"
   },
   {
    "duration": 16,
    "start_time": "2022-02-19T11:03:06.192Z"
   },
   {
    "duration": 315,
    "start_time": "2022-02-19T11:04:45.682Z"
   },
   {
    "duration": 8,
    "start_time": "2022-02-19T11:05:19.853Z"
   },
   {
    "duration": 5,
    "start_time": "2022-02-19T11:05:21.563Z"
   },
   {
    "duration": 12,
    "start_time": "2022-02-19T11:05:22.405Z"
   },
   {
    "duration": 5,
    "start_time": "2022-02-19T11:05:48.433Z"
   },
   {
    "duration": 19,
    "start_time": "2022-02-19T11:05:49.307Z"
   },
   {
    "duration": 12,
    "start_time": "2022-02-19T11:05:50.243Z"
   },
   {
    "duration": 4,
    "start_time": "2022-02-19T11:06:51.863Z"
   },
   {
    "duration": 11,
    "start_time": "2022-02-19T11:06:52.611Z"
   },
   {
    "duration": 101,
    "start_time": "2022-02-19T11:07:27.625Z"
   },
   {
    "duration": 4,
    "start_time": "2022-02-19T11:07:31.579Z"
   },
   {
    "duration": 11,
    "start_time": "2022-02-19T11:07:33.379Z"
   },
   {
    "duration": 6,
    "start_time": "2022-02-19T11:08:48.453Z"
   },
   {
    "duration": 9,
    "start_time": "2022-02-19T11:08:52.751Z"
   },
   {
    "duration": 7,
    "start_time": "2022-02-19T11:09:18.589Z"
   },
   {
    "duration": 281,
    "start_time": "2022-02-19T11:13:37.096Z"
   },
   {
    "duration": 280,
    "start_time": "2022-02-19T11:14:34.462Z"
   },
   {
    "duration": 20,
    "start_time": "2022-02-19T11:17:02.296Z"
   },
   {
    "duration": 19,
    "start_time": "2022-02-19T11:17:04.762Z"
   },
   {
    "duration": 12,
    "start_time": "2022-02-19T11:17:08.516Z"
   },
   {
    "duration": 296,
    "start_time": "2022-02-19T11:17:30.818Z"
   },
   {
    "duration": 13,
    "start_time": "2022-02-19T11:17:39.399Z"
   },
   {
    "duration": 20,
    "start_time": "2022-02-19T11:17:47.146Z"
   },
   {
    "duration": 21,
    "start_time": "2022-02-19T11:17:59.468Z"
   },
   {
    "duration": 1347,
    "start_time": "2022-02-19T11:18:11.692Z"
   },
   {
    "duration": 28,
    "start_time": "2022-02-19T11:18:13.042Z"
   },
   {
    "duration": 4,
    "start_time": "2022-02-19T11:18:13.072Z"
   },
   {
    "duration": 10,
    "start_time": "2022-02-19T11:18:13.078Z"
   },
   {
    "duration": 17,
    "start_time": "2022-02-19T11:18:13.090Z"
   },
   {
    "duration": 6,
    "start_time": "2022-02-19T11:18:13.110Z"
   },
   {
    "duration": 9,
    "start_time": "2022-02-19T11:18:13.118Z"
   },
   {
    "duration": 11,
    "start_time": "2022-02-19T11:18:13.130Z"
   },
   {
    "duration": 7,
    "start_time": "2022-02-19T11:18:13.143Z"
   },
   {
    "duration": 10,
    "start_time": "2022-02-19T11:18:13.152Z"
   },
   {
    "duration": 68,
    "start_time": "2022-02-19T11:18:13.164Z"
   },
   {
    "duration": 48,
    "start_time": "2022-02-19T11:18:13.234Z"
   },
   {
    "duration": 4,
    "start_time": "2022-02-19T11:18:13.285Z"
   },
   {
    "duration": 21,
    "start_time": "2022-02-19T11:18:13.291Z"
   },
   {
    "duration": 16,
    "start_time": "2022-02-19T11:18:13.313Z"
   },
   {
    "duration": 8,
    "start_time": "2022-02-19T11:18:13.332Z"
   },
   {
    "duration": 6,
    "start_time": "2022-02-19T11:18:13.343Z"
   },
   {
    "duration": 6,
    "start_time": "2022-02-19T11:18:13.351Z"
   },
   {
    "duration": 12,
    "start_time": "2022-02-19T11:18:13.359Z"
   },
   {
    "duration": 37,
    "start_time": "2022-02-19T11:18:13.373Z"
   },
   {
    "duration": 7,
    "start_time": "2022-02-19T11:18:13.412Z"
   },
   {
    "duration": 10,
    "start_time": "2022-02-19T11:18:13.421Z"
   },
   {
    "duration": 10,
    "start_time": "2022-02-19T11:18:13.436Z"
   },
   {
    "duration": 10,
    "start_time": "2022-02-19T11:18:13.449Z"
   },
   {
    "duration": 13,
    "start_time": "2022-02-19T11:18:13.461Z"
   },
   {
    "duration": 574,
    "start_time": "2022-02-19T11:18:13.476Z"
   },
   {
    "duration": 7,
    "start_time": "2022-02-19T11:18:14.052Z"
   },
   {
    "duration": 13,
    "start_time": "2022-02-19T11:18:14.061Z"
   },
   {
    "duration": 7,
    "start_time": "2022-02-19T11:18:14.076Z"
   },
   {
    "duration": 38,
    "start_time": "2022-02-19T11:18:14.085Z"
   },
   {
    "duration": 5,
    "start_time": "2022-02-19T11:18:14.126Z"
   },
   {
    "duration": 7,
    "start_time": "2022-02-19T11:18:14.132Z"
   },
   {
    "duration": 9,
    "start_time": "2022-02-19T11:18:14.141Z"
   },
   {
    "duration": 73,
    "start_time": "2022-02-19T11:18:14.152Z"
   },
   {
    "duration": 4,
    "start_time": "2022-02-19T11:18:14.227Z"
   },
   {
    "duration": 11,
    "start_time": "2022-02-19T11:18:14.233Z"
   },
   {
    "duration": 25,
    "start_time": "2022-02-19T11:18:14.246Z"
   },
   {
    "duration": 10,
    "start_time": "2022-02-19T11:18:14.273Z"
   },
   {
    "duration": 23,
    "start_time": "2022-02-19T11:18:14.284Z"
   },
   {
    "duration": 4,
    "start_time": "2022-02-19T11:18:14.309Z"
   },
   {
    "duration": 33,
    "start_time": "2022-02-19T11:18:14.315Z"
   },
   {
    "duration": 20,
    "start_time": "2022-02-19T11:18:14.350Z"
   },
   {
    "duration": 17,
    "start_time": "2022-02-19T11:18:14.372Z"
   },
   {
    "duration": 21,
    "start_time": "2022-02-19T11:18:14.391Z"
   },
   {
    "duration": 19,
    "start_time": "2022-02-19T11:18:14.414Z"
   },
   {
    "duration": 16,
    "start_time": "2022-02-19T11:18:14.436Z"
   },
   {
    "duration": 9,
    "start_time": "2022-02-19T11:18:14.454Z"
   },
   {
    "duration": 17,
    "start_time": "2022-02-19T11:18:14.465Z"
   },
   {
    "duration": 25,
    "start_time": "2022-02-19T11:18:14.484Z"
   },
   {
    "duration": 18,
    "start_time": "2022-02-19T11:18:14.511Z"
   },
   {
    "duration": 12,
    "start_time": "2022-02-19T11:18:14.532Z"
   },
   {
    "duration": 13,
    "start_time": "2022-02-19T11:18:14.546Z"
   },
   {
    "duration": 16,
    "start_time": "2022-02-19T11:18:14.561Z"
   },
   {
    "duration": 19,
    "start_time": "2022-02-19T11:18:14.579Z"
   },
   {
    "duration": 16,
    "start_time": "2022-02-19T11:18:14.601Z"
   },
   {
    "duration": 10,
    "start_time": "2022-02-19T11:18:14.619Z"
   },
   {
    "duration": 21,
    "start_time": "2022-02-19T11:18:14.631Z"
   },
   {
    "duration": 25,
    "start_time": "2022-02-19T11:18:14.654Z"
   },
   {
    "duration": 127,
    "start_time": "2022-02-19T11:18:14.682Z"
   },
   {
    "duration": 4,
    "start_time": "2022-02-19T11:18:14.812Z"
   },
   {
    "duration": 8,
    "start_time": "2022-02-19T11:18:14.818Z"
   },
   {
    "duration": 725,
    "start_time": "2022-02-19T11:18:14.828Z"
   },
   {
    "duration": 9,
    "start_time": "2022-02-19T11:18:15.555Z"
   },
   {
    "duration": 31,
    "start_time": "2022-02-19T11:18:15.567Z"
   },
   {
    "duration": 3,
    "start_time": "2022-02-19T11:18:15.607Z"
   },
   {
    "duration": 18,
    "start_time": "2022-02-19T11:18:15.613Z"
   },
   {
    "duration": 15,
    "start_time": "2022-02-19T11:18:15.633Z"
   },
   {
    "duration": 8,
    "start_time": "2022-02-19T11:18:15.653Z"
   },
   {
    "duration": 24,
    "start_time": "2022-02-19T11:18:15.663Z"
   },
   {
    "duration": 37,
    "start_time": "2022-02-19T11:18:15.689Z"
   },
   {
    "duration": 13,
    "start_time": "2022-02-19T11:18:15.728Z"
   },
   {
    "duration": 1361,
    "start_time": "2022-02-19T11:26:41.455Z"
   },
   {
    "duration": 28,
    "start_time": "2022-02-19T11:26:42.819Z"
   },
   {
    "duration": 6,
    "start_time": "2022-02-19T11:26:42.850Z"
   },
   {
    "duration": 15,
    "start_time": "2022-02-19T11:26:42.858Z"
   },
   {
    "duration": 6,
    "start_time": "2022-02-19T11:26:42.875Z"
   },
   {
    "duration": 26,
    "start_time": "2022-02-19T11:26:42.883Z"
   },
   {
    "duration": 7,
    "start_time": "2022-02-19T11:26:42.911Z"
   },
   {
    "duration": 15,
    "start_time": "2022-02-19T11:26:42.921Z"
   },
   {
    "duration": 6,
    "start_time": "2022-02-19T11:26:42.938Z"
   },
   {
    "duration": 12,
    "start_time": "2022-02-19T11:26:42.946Z"
   },
   {
    "duration": 67,
    "start_time": "2022-02-19T11:26:42.960Z"
   },
   {
    "duration": 50,
    "start_time": "2022-02-19T11:26:43.029Z"
   },
   {
    "duration": 6,
    "start_time": "2022-02-19T11:26:43.081Z"
   },
   {
    "duration": 29,
    "start_time": "2022-02-19T11:26:43.089Z"
   },
   {
    "duration": 15,
    "start_time": "2022-02-19T11:26:43.120Z"
   },
   {
    "duration": 7,
    "start_time": "2022-02-19T11:26:43.137Z"
   },
   {
    "duration": 11,
    "start_time": "2022-02-19T11:26:43.146Z"
   },
   {
    "duration": 8,
    "start_time": "2022-02-19T11:26:43.159Z"
   },
   {
    "duration": 14,
    "start_time": "2022-02-19T11:26:43.170Z"
   },
   {
    "duration": 6,
    "start_time": "2022-02-19T11:26:43.208Z"
   },
   {
    "duration": 12,
    "start_time": "2022-02-19T11:26:43.216Z"
   },
   {
    "duration": 7,
    "start_time": "2022-02-19T11:26:43.230Z"
   },
   {
    "duration": 12,
    "start_time": "2022-02-19T11:26:43.242Z"
   },
   {
    "duration": 9,
    "start_time": "2022-02-19T11:26:43.257Z"
   },
   {
    "duration": 12,
    "start_time": "2022-02-19T11:26:43.268Z"
   },
   {
    "duration": 574,
    "start_time": "2022-02-19T11:26:43.282Z"
   },
   {
    "duration": 6,
    "start_time": "2022-02-19T11:26:43.859Z"
   },
   {
    "duration": 11,
    "start_time": "2022-02-19T11:26:43.867Z"
   },
   {
    "duration": 7,
    "start_time": "2022-02-19T11:26:43.881Z"
   },
   {
    "duration": 37,
    "start_time": "2022-02-19T11:26:43.890Z"
   },
   {
    "duration": 6,
    "start_time": "2022-02-19T11:26:43.929Z"
   },
   {
    "duration": 15,
    "start_time": "2022-02-19T11:26:43.937Z"
   },
   {
    "duration": 14,
    "start_time": "2022-02-19T11:26:43.954Z"
   },
   {
    "duration": 68,
    "start_time": "2022-02-19T11:26:43.969Z"
   },
   {
    "duration": 7,
    "start_time": "2022-02-19T11:26:44.039Z"
   },
   {
    "duration": 9,
    "start_time": "2022-02-19T11:26:44.048Z"
   },
   {
    "duration": 10,
    "start_time": "2022-02-19T11:26:44.059Z"
   },
   {
    "duration": 8,
    "start_time": "2022-02-19T11:26:44.072Z"
   },
   {
    "duration": 28,
    "start_time": "2022-02-19T11:26:44.082Z"
   },
   {
    "duration": 9,
    "start_time": "2022-02-19T11:26:44.112Z"
   },
   {
    "duration": 28,
    "start_time": "2022-02-19T11:26:44.123Z"
   },
   {
    "duration": 20,
    "start_time": "2022-02-19T11:26:44.152Z"
   },
   {
    "duration": 33,
    "start_time": "2022-02-19T11:26:44.174Z"
   },
   {
    "duration": 10,
    "start_time": "2022-02-19T11:26:44.210Z"
   },
   {
    "duration": 17,
    "start_time": "2022-02-19T11:26:44.223Z"
   },
   {
    "duration": 12,
    "start_time": "2022-02-19T11:26:44.242Z"
   },
   {
    "duration": 7,
    "start_time": "2022-02-19T11:26:44.257Z"
   },
   {
    "duration": 14,
    "start_time": "2022-02-19T11:26:44.265Z"
   },
   {
    "duration": 31,
    "start_time": "2022-02-19T11:26:44.280Z"
   },
   {
    "duration": 12,
    "start_time": "2022-02-19T11:26:44.313Z"
   },
   {
    "duration": 12,
    "start_time": "2022-02-19T11:26:44.327Z"
   },
   {
    "duration": 14,
    "start_time": "2022-02-19T11:26:44.341Z"
   },
   {
    "duration": 16,
    "start_time": "2022-02-19T11:26:44.358Z"
   },
   {
    "duration": 13,
    "start_time": "2022-02-19T11:26:44.376Z"
   },
   {
    "duration": 9,
    "start_time": "2022-02-19T11:26:44.408Z"
   },
   {
    "duration": 8,
    "start_time": "2022-02-19T11:26:44.419Z"
   },
   {
    "duration": 18,
    "start_time": "2022-02-19T11:26:44.429Z"
   },
   {
    "duration": 23,
    "start_time": "2022-02-19T11:26:44.450Z"
   },
   {
    "duration": 39,
    "start_time": "2022-02-19T11:26:44.475Z"
   },
   {
    "duration": 3,
    "start_time": "2022-02-19T11:26:44.516Z"
   },
   {
    "duration": 9,
    "start_time": "2022-02-19T11:26:44.521Z"
   },
   {
    "duration": 537,
    "start_time": "2022-02-19T11:26:44.532Z"
   },
   {
    "duration": 9,
    "start_time": "2022-02-19T11:26:45.072Z"
   },
   {
    "duration": 33,
    "start_time": "2022-02-19T11:26:45.083Z"
   },
   {
    "duration": 22,
    "start_time": "2022-02-19T11:26:45.118Z"
   },
   {
    "duration": 18,
    "start_time": "2022-02-19T11:26:45.142Z"
   },
   {
    "duration": 9,
    "start_time": "2022-02-19T11:26:45.162Z"
   },
   {
    "duration": 7,
    "start_time": "2022-02-19T11:26:45.177Z"
   },
   {
    "duration": 20,
    "start_time": "2022-02-19T11:26:45.186Z"
   },
   {
    "duration": 19,
    "start_time": "2022-02-19T11:26:45.209Z"
   },
   {
    "duration": 8,
    "start_time": "2022-02-19T11:26:45.229Z"
   },
   {
    "duration": 18,
    "start_time": "2022-02-19T11:27:13.396Z"
   },
   {
    "duration": 4,
    "start_time": "2022-02-19T11:27:15.931Z"
   },
   {
    "duration": 5,
    "start_time": "2022-02-19T11:27:16.850Z"
   },
   {
    "duration": 11,
    "start_time": "2022-02-19T11:27:17.810Z"
   },
   {
    "duration": 4,
    "start_time": "2022-02-19T11:27:58.776Z"
   },
   {
    "duration": 26,
    "start_time": "2022-02-19T11:28:22.928Z"
   },
   {
    "duration": 4,
    "start_time": "2022-02-19T11:28:23.789Z"
   },
   {
    "duration": 6,
    "start_time": "2022-02-19T11:28:24.951Z"
   },
   {
    "duration": 9,
    "start_time": "2022-02-19T11:28:26.370Z"
   },
   {
    "duration": 7,
    "start_time": "2022-02-19T11:28:43.972Z"
   },
   {
    "duration": 17,
    "start_time": "2022-02-19T11:30:14.414Z"
   },
   {
    "duration": 17,
    "start_time": "2022-02-19T11:30:26.283Z"
   },
   {
    "duration": 7,
    "start_time": "2022-02-19T11:30:29.203Z"
   },
   {
    "duration": 3,
    "start_time": "2022-02-19T11:30:59.038Z"
   },
   {
    "duration": 8,
    "start_time": "2022-02-19T11:30:59.643Z"
   },
   {
    "duration": 5,
    "start_time": "2022-02-19T11:31:17.403Z"
   },
   {
    "duration": 9,
    "start_time": "2022-02-19T11:31:18.114Z"
   },
   {
    "duration": 7,
    "start_time": "2022-02-19T11:31:27.205Z"
   },
   {
    "duration": 7,
    "start_time": "2022-02-19T11:33:57.649Z"
   },
   {
    "duration": 4,
    "start_time": "2022-02-19T11:34:23.846Z"
   },
   {
    "duration": 6,
    "start_time": "2022-02-19T11:34:24.718Z"
   },
   {
    "duration": 5,
    "start_time": "2022-02-19T11:34:38.247Z"
   },
   {
    "duration": 8,
    "start_time": "2022-02-19T11:34:42.820Z"
   },
   {
    "duration": 7,
    "start_time": "2022-02-19T11:34:47.606Z"
   },
   {
    "duration": 5,
    "start_time": "2022-02-19T11:34:52.863Z"
   },
   {
    "duration": 6,
    "start_time": "2022-02-19T11:34:58.695Z"
   },
   {
    "duration": 7,
    "start_time": "2022-02-19T11:34:59.782Z"
   },
   {
    "duration": 20,
    "start_time": "2022-02-19T11:36:14.474Z"
   },
   {
    "duration": 1409,
    "start_time": "2022-02-19T11:36:20.828Z"
   },
   {
    "duration": 28,
    "start_time": "2022-02-19T11:36:22.240Z"
   },
   {
    "duration": 4,
    "start_time": "2022-02-19T11:36:22.271Z"
   },
   {
    "duration": 11,
    "start_time": "2022-02-19T11:36:22.277Z"
   },
   {
    "duration": 4,
    "start_time": "2022-02-19T11:36:22.308Z"
   },
   {
    "duration": 7,
    "start_time": "2022-02-19T11:36:22.315Z"
   },
   {
    "duration": 5,
    "start_time": "2022-02-19T11:36:22.325Z"
   },
   {
    "duration": 7,
    "start_time": "2022-02-19T11:36:22.332Z"
   },
   {
    "duration": 4,
    "start_time": "2022-02-19T11:36:22.343Z"
   },
   {
    "duration": 10,
    "start_time": "2022-02-19T11:36:22.349Z"
   },
   {
    "duration": 87,
    "start_time": "2022-02-19T11:36:22.360Z"
   },
   {
    "duration": 58,
    "start_time": "2022-02-19T11:36:22.449Z"
   },
   {
    "duration": 6,
    "start_time": "2022-02-19T11:36:22.510Z"
   },
   {
    "duration": 15,
    "start_time": "2022-02-19T11:36:22.518Z"
   },
   {
    "duration": 21,
    "start_time": "2022-02-19T11:36:22.535Z"
   },
   {
    "duration": 12,
    "start_time": "2022-02-19T11:36:22.558Z"
   },
   {
    "duration": 24,
    "start_time": "2022-02-19T11:36:22.572Z"
   },
   {
    "duration": 9,
    "start_time": "2022-02-19T11:36:22.598Z"
   },
   {
    "duration": 7,
    "start_time": "2022-02-19T11:36:22.609Z"
   },
   {
    "duration": 10,
    "start_time": "2022-02-19T11:36:22.618Z"
   },
   {
    "duration": 8,
    "start_time": "2022-02-19T11:36:22.630Z"
   },
   {
    "duration": 8,
    "start_time": "2022-02-19T11:36:22.640Z"
   },
   {
    "duration": 9,
    "start_time": "2022-02-19T11:36:22.651Z"
   },
   {
    "duration": 46,
    "start_time": "2022-02-19T11:36:22.663Z"
   },
   {
    "duration": 6,
    "start_time": "2022-02-19T11:36:22.712Z"
   },
   {
    "duration": 789,
    "start_time": "2022-02-19T11:36:22.721Z"
   },
   {
    "duration": 9,
    "start_time": "2022-02-19T11:36:23.517Z"
   },
   {
    "duration": 12,
    "start_time": "2022-02-19T11:36:23.529Z"
   },
   {
    "duration": 8,
    "start_time": "2022-02-19T11:36:23.543Z"
   },
   {
    "duration": 26,
    "start_time": "2022-02-19T11:36:23.553Z"
   },
   {
    "duration": 33,
    "start_time": "2022-02-19T11:36:23.581Z"
   },
   {
    "duration": 35,
    "start_time": "2022-02-19T11:36:23.616Z"
   },
   {
    "duration": 16,
    "start_time": "2022-02-19T11:36:23.653Z"
   },
   {
    "duration": 56,
    "start_time": "2022-02-19T11:36:23.671Z"
   },
   {
    "duration": 6,
    "start_time": "2022-02-19T11:36:23.729Z"
   },
   {
    "duration": 17,
    "start_time": "2022-02-19T11:36:23.737Z"
   },
   {
    "duration": 23,
    "start_time": "2022-02-19T11:36:23.757Z"
   },
   {
    "duration": 25,
    "start_time": "2022-02-19T11:36:23.783Z"
   },
   {
    "duration": 12,
    "start_time": "2022-02-19T11:36:23.810Z"
   },
   {
    "duration": 11,
    "start_time": "2022-02-19T11:36:23.824Z"
   },
   {
    "duration": 32,
    "start_time": "2022-02-19T11:36:23.837Z"
   },
   {
    "duration": 43,
    "start_time": "2022-02-19T11:36:23.872Z"
   },
   {
    "duration": 20,
    "start_time": "2022-02-19T11:36:23.917Z"
   },
   {
    "duration": 26,
    "start_time": "2022-02-19T11:36:23.939Z"
   },
   {
    "duration": 20,
    "start_time": "2022-02-19T11:36:23.967Z"
   },
   {
    "duration": 21,
    "start_time": "2022-02-19T11:36:23.990Z"
   },
   {
    "duration": 15,
    "start_time": "2022-02-19T11:36:24.013Z"
   },
   {
    "duration": 28,
    "start_time": "2022-02-19T11:36:24.031Z"
   },
   {
    "duration": 18,
    "start_time": "2022-02-19T11:36:24.061Z"
   },
   {
    "duration": 19,
    "start_time": "2022-02-19T11:36:24.081Z"
   },
   {
    "duration": 16,
    "start_time": "2022-02-19T11:36:24.103Z"
   },
   {
    "duration": 18,
    "start_time": "2022-02-19T11:36:24.121Z"
   },
   {
    "duration": 22,
    "start_time": "2022-02-19T11:36:24.142Z"
   },
   {
    "duration": 20,
    "start_time": "2022-02-19T11:36:24.167Z"
   },
   {
    "duration": 11,
    "start_time": "2022-02-19T11:36:24.189Z"
   },
   {
    "duration": 12,
    "start_time": "2022-02-19T11:36:24.202Z"
   },
   {
    "duration": 22,
    "start_time": "2022-02-19T11:36:24.217Z"
   },
   {
    "duration": 28,
    "start_time": "2022-02-19T11:36:24.242Z"
   },
   {
    "duration": 27,
    "start_time": "2022-02-19T11:36:24.272Z"
   },
   {
    "duration": 3,
    "start_time": "2022-02-19T11:36:24.301Z"
   },
   {
    "duration": 24,
    "start_time": "2022-02-19T11:36:24.307Z"
   },
   {
    "duration": 585,
    "start_time": "2022-02-19T11:36:24.333Z"
   },
   {
    "duration": 11,
    "start_time": "2022-02-19T11:36:24.920Z"
   },
   {
    "duration": 26,
    "start_time": "2022-02-19T11:36:24.933Z"
   },
   {
    "duration": 3,
    "start_time": "2022-02-19T11:36:24.962Z"
   },
   {
    "duration": 14,
    "start_time": "2022-02-19T11:36:24.967Z"
   },
   {
    "duration": 36,
    "start_time": "2022-02-19T11:36:24.984Z"
   },
   {
    "duration": 20,
    "start_time": "2022-02-19T11:36:25.023Z"
   },
   {
    "duration": 29,
    "start_time": "2022-02-19T11:36:25.046Z"
   },
   {
    "duration": 15,
    "start_time": "2022-02-19T11:36:25.078Z"
   },
   {
    "duration": 19,
    "start_time": "2022-02-19T11:36:25.095Z"
   },
   {
    "duration": 31,
    "start_time": "2022-02-19T11:36:25.117Z"
   },
   {
    "duration": 37,
    "start_time": "2022-02-19T11:36:25.151Z"
   },
   {
    "duration": 4,
    "start_time": "2022-02-19T11:36:25.191Z"
   },
   {
    "duration": 30,
    "start_time": "2022-02-19T11:36:25.197Z"
   },
   {
    "duration": 27,
    "start_time": "2022-02-19T11:36:25.230Z"
   },
   {
    "duration": 10,
    "start_time": "2022-02-19T11:38:41.173Z"
   },
   {
    "duration": 4,
    "start_time": "2022-02-19T13:30:38.061Z"
   },
   {
    "duration": 3,
    "start_time": "2022-02-19T13:31:27.826Z"
   },
   {
    "duration": 16,
    "start_time": "2022-02-19T14:20:52.408Z"
   },
   {
    "duration": 6,
    "start_time": "2022-02-19T14:21:55.965Z"
   },
   {
    "duration": 8,
    "start_time": "2022-02-19T14:22:02.740Z"
   },
   {
    "duration": 9,
    "start_time": "2022-02-19T14:22:12.589Z"
   },
   {
    "duration": 7,
    "start_time": "2022-02-19T14:22:21.585Z"
   },
   {
    "duration": 9,
    "start_time": "2022-02-19T14:22:28.576Z"
   },
   {
    "duration": 393,
    "start_time": "2022-02-19T14:23:15.228Z"
   },
   {
    "duration": 8,
    "start_time": "2022-02-19T14:23:31.383Z"
   },
   {
    "duration": 8,
    "start_time": "2022-02-19T14:23:55.927Z"
   },
   {
    "duration": 280,
    "start_time": "2022-02-19T14:23:59.162Z"
   },
   {
    "duration": 8,
    "start_time": "2022-02-19T14:24:07.138Z"
   },
   {
    "duration": 256,
    "start_time": "2022-02-19T14:24:56.452Z"
   },
   {
    "duration": 15,
    "start_time": "2022-02-19T14:27:23.766Z"
   },
   {
    "duration": 301,
    "start_time": "2022-02-19T14:28:01.461Z"
   },
   {
    "duration": 8,
    "start_time": "2022-02-19T14:28:22.429Z"
   },
   {
    "duration": 10,
    "start_time": "2022-02-19T14:28:49.199Z"
   },
   {
    "duration": 9,
    "start_time": "2022-02-19T14:29:16.512Z"
   },
   {
    "duration": 8,
    "start_time": "2022-02-19T14:29:51.676Z"
   },
   {
    "duration": 8,
    "start_time": "2022-02-19T14:30:02.926Z"
   },
   {
    "duration": 10,
    "start_time": "2022-02-19T15:41:02.804Z"
   },
   {
    "duration": 5,
    "start_time": "2022-02-19T15:53:21.079Z"
   },
   {
    "duration": 14,
    "start_time": "2022-02-19T16:15:24.841Z"
   },
   {
    "duration": 15,
    "start_time": "2022-02-19T16:21:33.872Z"
   },
   {
    "duration": 302,
    "start_time": "2022-02-19T17:06:12.154Z"
   },
   {
    "duration": 21,
    "start_time": "2022-02-19T17:06:24.303Z"
   },
   {
    "duration": 275,
    "start_time": "2022-02-19T17:06:47.284Z"
   },
   {
    "duration": 9,
    "start_time": "2022-02-19T17:07:02.801Z"
   },
   {
    "duration": 1381,
    "start_time": "2022-02-19T17:12:41.403Z"
   },
   {
    "duration": 19,
    "start_time": "2022-02-19T17:12:42.787Z"
   },
   {
    "duration": 9,
    "start_time": "2022-02-19T17:12:42.809Z"
   },
   {
    "duration": 9,
    "start_time": "2022-02-19T17:12:42.820Z"
   },
   {
    "duration": 8,
    "start_time": "2022-02-19T17:12:42.831Z"
   },
   {
    "duration": 11,
    "start_time": "2022-02-19T17:12:42.841Z"
   },
   {
    "duration": 9,
    "start_time": "2022-02-19T17:12:42.854Z"
   },
   {
    "duration": 8,
    "start_time": "2022-02-19T17:12:42.867Z"
   },
   {
    "duration": 30,
    "start_time": "2022-02-19T17:12:42.878Z"
   },
   {
    "duration": 16,
    "start_time": "2022-02-19T17:12:42.911Z"
   },
   {
    "duration": 74,
    "start_time": "2022-02-19T17:12:42.930Z"
   },
   {
    "duration": 52,
    "start_time": "2022-02-19T17:12:43.006Z"
   },
   {
    "duration": 5,
    "start_time": "2022-02-19T17:12:43.061Z"
   },
   {
    "duration": 8,
    "start_time": "2022-02-19T17:12:43.068Z"
   },
   {
    "duration": 37,
    "start_time": "2022-02-19T17:12:43.077Z"
   },
   {
    "duration": 13,
    "start_time": "2022-02-19T17:12:43.117Z"
   },
   {
    "duration": 12,
    "start_time": "2022-02-19T17:12:43.132Z"
   },
   {
    "duration": 7,
    "start_time": "2022-02-19T17:12:43.146Z"
   },
   {
    "duration": 9,
    "start_time": "2022-02-19T17:12:43.155Z"
   },
   {
    "duration": 16,
    "start_time": "2022-02-19T17:12:43.166Z"
   },
   {
    "duration": 32,
    "start_time": "2022-02-19T17:12:43.183Z"
   },
   {
    "duration": 6,
    "start_time": "2022-02-19T17:12:43.216Z"
   },
   {
    "duration": 9,
    "start_time": "2022-02-19T17:12:43.227Z"
   },
   {
    "duration": 9,
    "start_time": "2022-02-19T17:12:43.239Z"
   },
   {
    "duration": 13,
    "start_time": "2022-02-19T17:12:43.250Z"
   },
   {
    "duration": 567,
    "start_time": "2022-02-19T17:12:43.265Z"
   },
   {
    "duration": 8,
    "start_time": "2022-02-19T17:12:43.835Z"
   },
   {
    "duration": 27,
    "start_time": "2022-02-19T17:12:43.846Z"
   },
   {
    "duration": 24,
    "start_time": "2022-02-19T17:12:43.875Z"
   },
   {
    "duration": 26,
    "start_time": "2022-02-19T17:12:43.901Z"
   },
   {
    "duration": 6,
    "start_time": "2022-02-19T17:12:43.929Z"
   },
   {
    "duration": 13,
    "start_time": "2022-02-19T17:12:43.937Z"
   },
   {
    "duration": 12,
    "start_time": "2022-02-19T17:12:43.952Z"
   },
   {
    "duration": 109,
    "start_time": "2022-02-19T17:12:43.966Z"
   },
   {
    "duration": 5,
    "start_time": "2022-02-19T17:12:44.078Z"
   },
   {
    "duration": 27,
    "start_time": "2022-02-19T17:12:44.085Z"
   },
   {
    "duration": 14,
    "start_time": "2022-02-19T17:12:44.114Z"
   },
   {
    "duration": 10,
    "start_time": "2022-02-19T17:12:44.130Z"
   },
   {
    "duration": 11,
    "start_time": "2022-02-19T17:12:44.142Z"
   },
   {
    "duration": 19,
    "start_time": "2022-02-19T17:12:44.155Z"
   },
   {
    "duration": 41,
    "start_time": "2022-02-19T17:12:44.176Z"
   },
   {
    "duration": 29,
    "start_time": "2022-02-19T17:12:44.219Z"
   },
   {
    "duration": 18,
    "start_time": "2022-02-19T17:12:44.250Z"
   },
   {
    "duration": 13,
    "start_time": "2022-02-19T17:12:44.269Z"
   },
   {
    "duration": 13,
    "start_time": "2022-02-19T17:12:44.309Z"
   },
   {
    "duration": 31,
    "start_time": "2022-02-19T17:12:44.324Z"
   },
   {
    "duration": 6,
    "start_time": "2022-02-19T17:12:44.358Z"
   },
   {
    "duration": 14,
    "start_time": "2022-02-19T17:12:44.366Z"
   },
   {
    "duration": 26,
    "start_time": "2022-02-19T17:12:44.383Z"
   },
   {
    "duration": 10,
    "start_time": "2022-02-19T17:12:44.411Z"
   },
   {
    "duration": 10,
    "start_time": "2022-02-19T17:12:44.423Z"
   },
   {
    "duration": 7,
    "start_time": "2022-02-19T17:12:44.435Z"
   },
   {
    "duration": 22,
    "start_time": "2022-02-19T17:12:44.444Z"
   },
   {
    "duration": 45,
    "start_time": "2022-02-19T17:12:44.468Z"
   },
   {
    "duration": 30,
    "start_time": "2022-02-19T17:12:44.515Z"
   },
   {
    "duration": 12,
    "start_time": "2022-02-19T17:12:44.547Z"
   },
   {
    "duration": 16,
    "start_time": "2022-02-19T17:12:44.561Z"
   },
   {
    "duration": 18,
    "start_time": "2022-02-19T17:12:44.579Z"
   },
   {
    "duration": 25,
    "start_time": "2022-02-19T17:12:44.600Z"
   },
   {
    "duration": 3,
    "start_time": "2022-02-19T17:12:44.627Z"
   },
   {
    "duration": 15,
    "start_time": "2022-02-19T17:12:44.632Z"
   },
   {
    "duration": 556,
    "start_time": "2022-02-19T17:12:44.649Z"
   },
   {
    "duration": 10,
    "start_time": "2022-02-19T17:12:45.208Z"
   },
   {
    "duration": 21,
    "start_time": "2022-02-19T17:12:45.220Z"
   },
   {
    "duration": 4,
    "start_time": "2022-02-19T17:12:45.244Z"
   },
   {
    "duration": 9,
    "start_time": "2022-02-19T17:12:45.250Z"
   },
   {
    "duration": 47,
    "start_time": "2022-02-19T17:12:45.261Z"
   },
   {
    "duration": 8,
    "start_time": "2022-02-19T17:12:45.314Z"
   },
   {
    "duration": 18,
    "start_time": "2022-02-19T17:12:45.324Z"
   },
   {
    "duration": 3,
    "start_time": "2022-02-19T17:12:45.344Z"
   },
   {
    "duration": 9,
    "start_time": "2022-02-19T17:12:45.349Z"
   },
   {
    "duration": 12,
    "start_time": "2022-02-19T17:12:45.360Z"
   },
   {
    "duration": 57,
    "start_time": "2022-02-19T17:12:45.374Z"
   },
   {
    "duration": 4,
    "start_time": "2022-02-19T17:12:45.433Z"
   },
   {
    "duration": 8,
    "start_time": "2022-02-19T17:12:45.440Z"
   },
   {
    "duration": 13,
    "start_time": "2022-02-19T17:12:45.451Z"
   },
   {
    "duration": 382,
    "start_time": "2022-03-01T19:29:51.807Z"
   },
   {
    "duration": 1534,
    "start_time": "2022-03-01T19:30:00.590Z"
   },
   {
    "duration": 28,
    "start_time": "2022-03-01T19:30:02.128Z"
   },
   {
    "duration": 5,
    "start_time": "2022-03-01T19:30:02.159Z"
   },
   {
    "duration": 9,
    "start_time": "2022-03-01T19:30:02.167Z"
   },
   {
    "duration": 5,
    "start_time": "2022-03-01T19:30:02.178Z"
   },
   {
    "duration": 8,
    "start_time": "2022-03-01T19:30:02.185Z"
   },
   {
    "duration": 37,
    "start_time": "2022-03-01T19:30:02.195Z"
   },
   {
    "duration": 6,
    "start_time": "2022-03-01T19:30:02.235Z"
   },
   {
    "duration": 13,
    "start_time": "2022-03-01T19:30:02.243Z"
   },
   {
    "duration": 10,
    "start_time": "2022-03-01T19:30:02.259Z"
   },
   {
    "duration": 18,
    "start_time": "2022-03-01T19:30:06.608Z"
   },
   {
    "duration": 23,
    "start_time": "2022-03-01T19:38:30.944Z"
   },
   {
    "duration": 10,
    "start_time": "2022-03-01T19:38:45.952Z"
   },
   {
    "duration": 15,
    "start_time": "2022-03-01T19:38:50.719Z"
   },
   {
    "duration": 11,
    "start_time": "2022-03-01T19:38:52.919Z"
   },
   {
    "duration": 5,
    "start_time": "2022-03-01T19:45:03.597Z"
   },
   {
    "duration": 12,
    "start_time": "2022-03-01T19:45:37.844Z"
   },
   {
    "duration": 361,
    "start_time": "2022-03-01T19:46:11.638Z"
   },
   {
    "duration": 18,
    "start_time": "2022-03-01T19:46:18.756Z"
   },
   {
    "duration": 4,
    "start_time": "2022-03-01T19:47:03.957Z"
   },
   {
    "duration": 17,
    "start_time": "2022-03-01T19:47:04.765Z"
   },
   {
    "duration": 20,
    "start_time": "2022-03-01T19:47:05.473Z"
   },
   {
    "duration": 4,
    "start_time": "2022-03-01T19:47:29.809Z"
   },
   {
    "duration": 14,
    "start_time": "2022-03-01T19:47:30.731Z"
   },
   {
    "duration": 18,
    "start_time": "2022-03-01T19:47:31.473Z"
   },
   {
    "duration": 73,
    "start_time": "2022-03-01T19:48:35.363Z"
   },
   {
    "duration": 16,
    "start_time": "2022-03-01T19:48:35.439Z"
   },
   {
    "duration": 5,
    "start_time": "2022-03-01T19:48:35.458Z"
   },
   {
    "duration": 7,
    "start_time": "2022-03-01T19:48:35.465Z"
   },
   {
    "duration": 7,
    "start_time": "2022-03-01T19:48:35.474Z"
   },
   {
    "duration": 7,
    "start_time": "2022-03-01T19:48:35.483Z"
   },
   {
    "duration": 4,
    "start_time": "2022-03-01T19:48:35.532Z"
   },
   {
    "duration": 5,
    "start_time": "2022-03-01T19:48:35.539Z"
   },
   {
    "duration": 4,
    "start_time": "2022-03-01T19:48:35.547Z"
   },
   {
    "duration": 7,
    "start_time": "2022-03-01T19:48:35.553Z"
   },
   {
    "duration": 106,
    "start_time": "2022-03-01T19:48:35.562Z"
   },
   {
    "duration": 78,
    "start_time": "2022-03-01T19:48:35.670Z"
   },
   {
    "duration": 6,
    "start_time": "2022-03-01T19:48:35.750Z"
   },
   {
    "duration": 7,
    "start_time": "2022-03-01T19:48:35.758Z"
   },
   {
    "duration": 15,
    "start_time": "2022-03-01T19:48:35.767Z"
   },
   {
    "duration": 7,
    "start_time": "2022-03-01T19:48:35.784Z"
   },
   {
    "duration": 5,
    "start_time": "2022-03-01T19:48:35.833Z"
   },
   {
    "duration": 6,
    "start_time": "2022-03-01T19:48:35.840Z"
   },
   {
    "duration": 8,
    "start_time": "2022-03-01T19:48:35.849Z"
   },
   {
    "duration": 6,
    "start_time": "2022-03-01T19:48:35.859Z"
   },
   {
    "duration": 8,
    "start_time": "2022-03-01T19:48:35.867Z"
   },
   {
    "duration": 4,
    "start_time": "2022-03-01T19:48:35.877Z"
   },
   {
    "duration": 7,
    "start_time": "2022-03-01T19:48:35.931Z"
   },
   {
    "duration": 4,
    "start_time": "2022-03-01T19:48:35.942Z"
   },
   {
    "duration": 7,
    "start_time": "2022-03-01T19:48:35.948Z"
   },
   {
    "duration": 714,
    "start_time": "2022-03-01T19:48:35.957Z"
   },
   {
    "duration": 8,
    "start_time": "2022-03-01T19:48:36.673Z"
   },
   {
    "duration": 4,
    "start_time": "2022-03-01T19:48:36.683Z"
   },
   {
    "duration": 10,
    "start_time": "2022-03-01T19:48:36.689Z"
   },
   {
    "duration": 54,
    "start_time": "2022-03-01T19:48:36.701Z"
   },
   {
    "duration": 6,
    "start_time": "2022-03-01T19:48:36.757Z"
   },
   {
    "duration": 6,
    "start_time": "2022-03-01T19:48:36.765Z"
   },
   {
    "duration": 9,
    "start_time": "2022-03-01T19:48:36.773Z"
   },
   {
    "duration": 99,
    "start_time": "2022-03-01T19:48:36.784Z"
   },
   {
    "duration": 4,
    "start_time": "2022-03-01T19:48:36.886Z"
   },
   {
    "duration": 15,
    "start_time": "2022-03-01T19:48:36.892Z"
   },
   {
    "duration": 33,
    "start_time": "2022-03-01T19:48:36.909Z"
   },
   {
    "duration": 10,
    "start_time": "2022-03-01T19:48:36.944Z"
   },
   {
    "duration": 11,
    "start_time": "2022-03-01T19:48:36.956Z"
   },
   {
    "duration": 7,
    "start_time": "2022-03-01T19:48:36.970Z"
   },
   {
    "duration": 55,
    "start_time": "2022-03-01T19:48:36.979Z"
   },
   {
    "duration": 3,
    "start_time": "2022-03-01T19:48:37.036Z"
   },
   {
    "duration": 5,
    "start_time": "2022-03-01T19:48:37.041Z"
   },
   {
    "duration": 12,
    "start_time": "2022-03-01T19:48:37.048Z"
   },
   {
    "duration": 17,
    "start_time": "2022-03-01T19:48:37.062Z"
   },
   {
    "duration": 13,
    "start_time": "2022-03-01T19:48:37.081Z"
   },
   {
    "duration": 8,
    "start_time": "2022-03-01T19:48:37.132Z"
   },
   {
    "duration": 10,
    "start_time": "2022-03-01T19:48:37.143Z"
   },
   {
    "duration": 6,
    "start_time": "2022-03-01T19:48:37.155Z"
   },
   {
    "duration": 10,
    "start_time": "2022-03-01T19:48:37.163Z"
   },
   {
    "duration": 7,
    "start_time": "2022-03-01T19:48:37.175Z"
   },
   {
    "duration": 49,
    "start_time": "2022-03-01T19:48:37.184Z"
   },
   {
    "duration": 18,
    "start_time": "2022-03-01T19:48:37.235Z"
   },
   {
    "duration": 21,
    "start_time": "2022-03-01T19:48:37.256Z"
   },
   {
    "duration": 10,
    "start_time": "2022-03-01T19:48:37.279Z"
   },
   {
    "duration": 4,
    "start_time": "2022-03-01T19:48:37.291Z"
   },
   {
    "duration": 43,
    "start_time": "2022-03-01T19:48:37.297Z"
   },
   {
    "duration": 17,
    "start_time": "2022-03-01T19:48:37.342Z"
   },
   {
    "duration": 4,
    "start_time": "2022-03-01T19:48:37.361Z"
   },
   {
    "duration": 14,
    "start_time": "2022-03-01T19:48:37.367Z"
   },
   {
    "duration": 19,
    "start_time": "2022-03-01T19:48:40.728Z"
   },
   {
    "duration": 114,
    "start_time": "2022-03-01T19:49:24.464Z"
   },
   {
    "duration": 10,
    "start_time": "2022-03-01T19:49:31.172Z"
   },
   {
    "duration": 25,
    "start_time": "2022-03-01T19:50:06.137Z"
   },
   {
    "duration": 4,
    "start_time": "2022-03-01T19:50:07.375Z"
   },
   {
    "duration": 6,
    "start_time": "2022-03-01T19:50:08.771Z"
   },
   {
    "duration": 493,
    "start_time": "2022-03-01T19:50:09.764Z"
   },
   {
    "duration": 32,
    "start_time": "2022-03-01T19:51:31.967Z"
   },
   {
    "duration": 4,
    "start_time": "2022-03-01T19:51:32.749Z"
   },
   {
    "duration": 6,
    "start_time": "2022-03-01T19:51:36.188Z"
   },
   {
    "duration": 9,
    "start_time": "2022-03-01T19:51:36.986Z"
   },
   {
    "duration": 26,
    "start_time": "2022-03-01T19:56:43.543Z"
   },
   {
    "duration": 25,
    "start_time": "2022-03-01T20:00:18.850Z"
   },
   {
    "duration": 86,
    "start_time": "2022-03-01T20:00:25.909Z"
   },
   {
    "duration": 39,
    "start_time": "2022-03-01T20:00:25.997Z"
   },
   {
    "duration": 8,
    "start_time": "2022-03-01T20:00:26.040Z"
   },
   {
    "duration": 23,
    "start_time": "2022-03-01T20:00:26.051Z"
   },
   {
    "duration": 15,
    "start_time": "2022-03-01T20:00:26.076Z"
   },
   {
    "duration": 16,
    "start_time": "2022-03-01T20:00:26.093Z"
   },
   {
    "duration": 21,
    "start_time": "2022-03-01T20:00:26.111Z"
   },
   {
    "duration": 7,
    "start_time": "2022-03-01T20:00:26.137Z"
   },
   {
    "duration": 5,
    "start_time": "2022-03-01T20:00:26.146Z"
   },
   {
    "duration": 7,
    "start_time": "2022-03-01T20:00:26.153Z"
   },
   {
    "duration": 96,
    "start_time": "2022-03-01T20:00:26.162Z"
   },
   {
    "duration": 57,
    "start_time": "2022-03-01T20:00:26.260Z"
   },
   {
    "duration": 16,
    "start_time": "2022-03-01T20:00:26.319Z"
   },
   {
    "duration": 6,
    "start_time": "2022-03-01T20:00:26.337Z"
   },
   {
    "duration": 14,
    "start_time": "2022-03-01T20:00:26.345Z"
   },
   {
    "duration": 7,
    "start_time": "2022-03-01T20:00:26.362Z"
   },
   {
    "duration": 5,
    "start_time": "2022-03-01T20:00:26.371Z"
   },
   {
    "duration": 54,
    "start_time": "2022-03-01T20:00:26.378Z"
   },
   {
    "duration": 7,
    "start_time": "2022-03-01T20:00:26.435Z"
   },
   {
    "duration": 9,
    "start_time": "2022-03-01T20:00:26.444Z"
   },
   {
    "duration": 6,
    "start_time": "2022-03-01T20:00:26.455Z"
   },
   {
    "duration": 6,
    "start_time": "2022-03-01T20:00:26.464Z"
   },
   {
    "duration": 15,
    "start_time": "2022-03-01T20:00:26.476Z"
   },
   {
    "duration": 41,
    "start_time": "2022-03-01T20:00:26.494Z"
   },
   {
    "duration": 16,
    "start_time": "2022-03-01T20:00:26.537Z"
   },
   {
    "duration": 742,
    "start_time": "2022-03-01T20:00:26.556Z"
   },
   {
    "duration": 8,
    "start_time": "2022-03-01T20:00:27.300Z"
   },
   {
    "duration": 22,
    "start_time": "2022-03-01T20:00:27.310Z"
   },
   {
    "duration": 15,
    "start_time": "2022-03-01T20:00:27.335Z"
   },
   {
    "duration": 33,
    "start_time": "2022-03-01T20:00:27.352Z"
   },
   {
    "duration": 23,
    "start_time": "2022-03-01T20:00:27.388Z"
   },
   {
    "duration": 13,
    "start_time": "2022-03-01T20:00:27.413Z"
   },
   {
    "duration": 21,
    "start_time": "2022-03-01T20:00:27.428Z"
   },
   {
    "duration": 66,
    "start_time": "2022-03-01T20:00:27.452Z"
   },
   {
    "duration": 11,
    "start_time": "2022-03-01T20:00:27.521Z"
   },
   {
    "duration": 19,
    "start_time": "2022-03-01T20:00:27.534Z"
   },
   {
    "duration": 16,
    "start_time": "2022-03-01T20:00:27.555Z"
   },
   {
    "duration": 12,
    "start_time": "2022-03-01T20:00:27.573Z"
   },
   {
    "duration": 24,
    "start_time": "2022-03-01T20:00:27.587Z"
   },
   {
    "duration": 18,
    "start_time": "2022-03-01T20:00:27.614Z"
   },
   {
    "duration": 23,
    "start_time": "2022-03-01T20:00:29.934Z"
   },
   {
    "duration": 22,
    "start_time": "2022-03-01T20:00:50.249Z"
   },
   {
    "duration": 21,
    "start_time": "2022-03-01T20:00:56.962Z"
   },
   {
    "duration": 21,
    "start_time": "2022-03-01T20:02:03.346Z"
   },
   {
    "duration": 22,
    "start_time": "2022-03-01T20:02:13.385Z"
   },
   {
    "duration": 22,
    "start_time": "2022-03-01T20:02:42.610Z"
   },
   {
    "duration": 27,
    "start_time": "2022-03-01T20:02:46.971Z"
   },
   {
    "duration": 21,
    "start_time": "2022-03-01T20:02:56.291Z"
   },
   {
    "duration": 22,
    "start_time": "2022-03-01T20:02:57.675Z"
   },
   {
    "duration": 1566,
    "start_time": "2022-03-01T20:03:31.698Z"
   },
   {
    "duration": 22,
    "start_time": "2022-03-01T20:03:33.267Z"
   },
   {
    "duration": 6,
    "start_time": "2022-03-01T20:03:33.292Z"
   },
   {
    "duration": 17,
    "start_time": "2022-03-01T20:03:33.301Z"
   },
   {
    "duration": 25,
    "start_time": "2022-03-01T20:03:33.320Z"
   },
   {
    "duration": 21,
    "start_time": "2022-03-01T20:03:33.347Z"
   },
   {
    "duration": 30,
    "start_time": "2022-03-01T20:03:33.370Z"
   },
   {
    "duration": 20,
    "start_time": "2022-03-01T20:03:33.403Z"
   },
   {
    "duration": 19,
    "start_time": "2022-03-01T20:03:33.426Z"
   },
   {
    "duration": 20,
    "start_time": "2022-03-01T20:03:33.447Z"
   },
   {
    "duration": 70,
    "start_time": "2022-03-01T20:03:33.469Z"
   },
   {
    "duration": 58,
    "start_time": "2022-03-01T20:03:33.542Z"
   },
   {
    "duration": 6,
    "start_time": "2022-03-01T20:03:33.602Z"
   },
   {
    "duration": 27,
    "start_time": "2022-03-01T20:03:33.610Z"
   },
   {
    "duration": 25,
    "start_time": "2022-03-01T20:03:33.639Z"
   },
   {
    "duration": 9,
    "start_time": "2022-03-01T20:03:33.666Z"
   },
   {
    "duration": 11,
    "start_time": "2022-03-01T20:03:33.677Z"
   },
   {
    "duration": 25,
    "start_time": "2022-03-01T20:03:33.690Z"
   },
   {
    "duration": 20,
    "start_time": "2022-03-01T20:03:33.717Z"
   },
   {
    "duration": 15,
    "start_time": "2022-03-01T20:03:33.740Z"
   },
   {
    "duration": 23,
    "start_time": "2022-03-01T20:03:33.757Z"
   },
   {
    "duration": 13,
    "start_time": "2022-03-01T20:03:33.783Z"
   },
   {
    "duration": 13,
    "start_time": "2022-03-01T20:03:33.803Z"
   },
   {
    "duration": 15,
    "start_time": "2022-03-01T20:03:33.821Z"
   },
   {
    "duration": 16,
    "start_time": "2022-03-01T20:03:33.838Z"
   },
   {
    "duration": 702,
    "start_time": "2022-03-01T20:03:33.857Z"
   },
   {
    "duration": 10,
    "start_time": "2022-03-01T20:03:34.562Z"
   },
   {
    "duration": 15,
    "start_time": "2022-03-01T20:03:34.574Z"
   },
   {
    "duration": 27,
    "start_time": "2022-03-01T20:03:34.591Z"
   },
   {
    "duration": 44,
    "start_time": "2022-03-01T20:03:34.620Z"
   },
   {
    "duration": 18,
    "start_time": "2022-03-01T20:03:34.667Z"
   },
   {
    "duration": 23,
    "start_time": "2022-03-01T20:03:34.688Z"
   },
   {
    "duration": 22,
    "start_time": "2022-03-01T20:03:34.714Z"
   },
   {
    "duration": 65,
    "start_time": "2022-03-01T20:03:34.739Z"
   },
   {
    "duration": 5,
    "start_time": "2022-03-01T20:03:34.807Z"
   },
   {
    "duration": 19,
    "start_time": "2022-03-01T20:03:34.815Z"
   },
   {
    "duration": 31,
    "start_time": "2022-03-01T20:03:34.836Z"
   },
   {
    "duration": 16,
    "start_time": "2022-03-01T20:03:34.869Z"
   },
   {
    "duration": 15,
    "start_time": "2022-03-01T20:03:34.887Z"
   },
   {
    "duration": 15,
    "start_time": "2022-03-01T20:03:34.904Z"
   },
   {
    "duration": 26,
    "start_time": "2022-03-01T20:03:34.921Z"
   },
   {
    "duration": 3,
    "start_time": "2022-03-01T20:03:34.949Z"
   },
   {
    "duration": 15,
    "start_time": "2022-03-01T20:03:34.954Z"
   },
   {
    "duration": 16,
    "start_time": "2022-03-01T20:03:34.971Z"
   },
   {
    "duration": 35,
    "start_time": "2022-03-01T20:03:34.989Z"
   },
   {
    "duration": 19,
    "start_time": "2022-03-01T20:03:35.026Z"
   },
   {
    "duration": 17,
    "start_time": "2022-03-01T20:03:35.048Z"
   },
   {
    "duration": 18,
    "start_time": "2022-03-01T20:03:35.068Z"
   },
   {
    "duration": 9,
    "start_time": "2022-03-01T20:03:35.088Z"
   },
   {
    "duration": 13,
    "start_time": "2022-03-01T20:03:35.099Z"
   },
   {
    "duration": 21,
    "start_time": "2022-03-01T20:03:35.114Z"
   },
   {
    "duration": 10,
    "start_time": "2022-03-01T20:03:35.138Z"
   },
   {
    "duration": 26,
    "start_time": "2022-03-01T20:03:35.150Z"
   },
   {
    "duration": 17,
    "start_time": "2022-03-01T20:03:35.178Z"
   },
   {
    "duration": 37,
    "start_time": "2022-03-01T20:03:35.197Z"
   },
   {
    "duration": 8,
    "start_time": "2022-03-01T20:03:35.236Z"
   },
   {
    "duration": 4,
    "start_time": "2022-03-01T20:03:35.246Z"
   },
   {
    "duration": 14,
    "start_time": "2022-03-01T20:03:35.252Z"
   },
   {
    "duration": 22,
    "start_time": "2022-03-01T20:03:35.268Z"
   },
   {
    "duration": 49,
    "start_time": "2022-03-01T20:03:35.292Z"
   },
   {
    "duration": 21,
    "start_time": "2022-03-01T20:03:35.344Z"
   },
   {
    "duration": 4,
    "start_time": "2022-03-01T20:03:35.367Z"
   },
   {
    "duration": 23,
    "start_time": "2022-03-01T20:03:35.373Z"
   },
   {
    "duration": 40,
    "start_time": "2022-03-01T20:03:35.398Z"
   },
   {
    "duration": 27,
    "start_time": "2022-03-01T20:03:35.440Z"
   },
   {
    "duration": 8,
    "start_time": "2022-03-01T20:03:35.470Z"
   },
   {
    "duration": 54,
    "start_time": "2022-03-01T20:03:35.480Z"
   },
   {
    "duration": 24,
    "start_time": "2022-03-01T20:03:35.541Z"
   },
   {
    "duration": 26,
    "start_time": "2022-03-01T20:03:35.567Z"
   },
   {
    "duration": 3,
    "start_time": "2022-03-01T20:03:35.596Z"
   },
   {
    "duration": 5,
    "start_time": "2022-03-01T20:03:35.632Z"
   },
   {
    "duration": 493,
    "start_time": "2022-03-01T20:03:35.640Z"
   },
   {
    "duration": 9,
    "start_time": "2022-03-01T20:03:36.136Z"
   },
   {
    "duration": 24,
    "start_time": "2022-03-01T20:03:36.147Z"
   },
   {
    "duration": 3,
    "start_time": "2022-03-01T20:03:36.173Z"
   },
   {
    "duration": 8,
    "start_time": "2022-03-01T20:03:36.179Z"
   },
   {
    "duration": 44,
    "start_time": "2022-03-01T20:03:36.189Z"
   },
   {
    "duration": 10,
    "start_time": "2022-03-01T20:03:36.236Z"
   },
   {
    "duration": 24,
    "start_time": "2022-03-01T20:03:36.249Z"
   },
   {
    "duration": 4,
    "start_time": "2022-03-01T20:03:36.276Z"
   },
   {
    "duration": 9,
    "start_time": "2022-03-01T20:03:36.283Z"
   },
   {
    "duration": 10,
    "start_time": "2022-03-01T20:03:36.333Z"
   },
   {
    "duration": 26,
    "start_time": "2022-03-01T20:03:36.346Z"
   },
   {
    "duration": 4,
    "start_time": "2022-03-01T20:03:36.375Z"
   },
   {
    "duration": 53,
    "start_time": "2022-03-01T20:03:36.382Z"
   },
   {
    "duration": 16,
    "start_time": "2022-03-01T20:03:36.437Z"
   },
   {
    "duration": 26,
    "start_time": "2022-03-01T20:03:57.081Z"
   },
   {
    "duration": 26,
    "start_time": "2022-03-01T20:04:39.153Z"
   },
   {
    "duration": 26,
    "start_time": "2022-03-01T20:06:20.215Z"
   },
   {
    "duration": 23,
    "start_time": "2022-03-01T20:06:53.546Z"
   },
   {
    "duration": 21,
    "start_time": "2022-03-01T20:07:15.374Z"
   },
   {
    "duration": 29,
    "start_time": "2022-03-01T20:08:50.780Z"
   },
   {
    "duration": 24,
    "start_time": "2022-03-01T20:09:05.388Z"
   },
   {
    "duration": 1610,
    "start_time": "2022-03-01T20:09:49.277Z"
   },
   {
    "duration": 41,
    "start_time": "2022-03-01T20:09:50.891Z"
   },
   {
    "duration": 6,
    "start_time": "2022-03-01T20:09:50.941Z"
   },
   {
    "duration": 12,
    "start_time": "2022-03-01T20:09:50.950Z"
   },
   {
    "duration": 6,
    "start_time": "2022-03-01T20:09:50.965Z"
   },
   {
    "duration": 10,
    "start_time": "2022-03-01T20:09:50.974Z"
   },
   {
    "duration": 4,
    "start_time": "2022-03-01T20:09:50.989Z"
   },
   {
    "duration": 40,
    "start_time": "2022-03-01T20:09:50.997Z"
   },
   {
    "duration": 9,
    "start_time": "2022-03-01T20:09:51.040Z"
   },
   {
    "duration": 10,
    "start_time": "2022-03-01T20:09:51.052Z"
   },
   {
    "duration": 117,
    "start_time": "2022-03-01T20:09:51.065Z"
   },
   {
    "duration": 101,
    "start_time": "2022-03-01T20:09:51.185Z"
   },
   {
    "duration": 8,
    "start_time": "2022-03-01T20:09:51.289Z"
   },
   {
    "duration": 9,
    "start_time": "2022-03-01T20:09:51.300Z"
   },
   {
    "duration": 22,
    "start_time": "2022-03-01T20:09:51.334Z"
   },
   {
    "duration": 10,
    "start_time": "2022-03-01T20:09:51.360Z"
   },
   {
    "duration": 7,
    "start_time": "2022-03-01T20:09:51.374Z"
   },
   {
    "duration": 6,
    "start_time": "2022-03-01T20:09:51.384Z"
   },
   {
    "duration": 54,
    "start_time": "2022-03-01T20:09:51.392Z"
   },
   {
    "duration": 9,
    "start_time": "2022-03-01T20:09:51.449Z"
   },
   {
    "duration": 9,
    "start_time": "2022-03-01T20:09:51.461Z"
   },
   {
    "duration": 5,
    "start_time": "2022-03-01T20:09:51.477Z"
   },
   {
    "duration": 48,
    "start_time": "2022-03-01T20:09:51.486Z"
   },
   {
    "duration": 9,
    "start_time": "2022-03-01T20:09:51.537Z"
   },
   {
    "duration": 10,
    "start_time": "2022-03-01T20:09:51.548Z"
   },
   {
    "duration": 1096,
    "start_time": "2022-03-01T20:09:51.561Z"
   },
   {
    "duration": 9,
    "start_time": "2022-03-01T20:09:52.660Z"
   },
   {
    "duration": 13,
    "start_time": "2022-03-01T20:09:52.671Z"
   },
   {
    "duration": 12,
    "start_time": "2022-03-01T20:09:52.687Z"
   },
   {
    "duration": 53,
    "start_time": "2022-03-01T20:09:52.702Z"
   },
   {
    "duration": 8,
    "start_time": "2022-03-01T20:09:52.759Z"
   },
   {
    "duration": 7,
    "start_time": "2022-03-01T20:09:52.770Z"
   },
   {
    "duration": 54,
    "start_time": "2022-03-01T20:09:52.780Z"
   },
   {
    "duration": 60,
    "start_time": "2022-03-01T20:09:52.837Z"
   },
   {
    "duration": 5,
    "start_time": "2022-03-01T20:09:52.900Z"
   },
   {
    "duration": 38,
    "start_time": "2022-03-01T20:09:52.907Z"
   },
   {
    "duration": 13,
    "start_time": "2022-03-01T20:09:52.948Z"
   },
   {
    "duration": 11,
    "start_time": "2022-03-01T20:09:52.963Z"
   },
   {
    "duration": 11,
    "start_time": "2022-03-01T20:09:52.977Z"
   },
   {
    "duration": 43,
    "start_time": "2022-03-01T20:09:52.991Z"
   },
   {
    "duration": 23,
    "start_time": "2022-03-01T20:09:53.037Z"
   },
   {
    "duration": 4,
    "start_time": "2022-03-01T20:09:53.062Z"
   },
   {
    "duration": 5,
    "start_time": "2022-03-01T20:09:53.068Z"
   },
   {
    "duration": 60,
    "start_time": "2022-03-01T20:09:53.076Z"
   },
   {
    "duration": 25,
    "start_time": "2022-03-01T20:09:53.140Z"
   },
   {
    "duration": 16,
    "start_time": "2022-03-01T20:09:53.168Z"
   },
   {
    "duration": 8,
    "start_time": "2022-03-01T20:09:53.187Z"
   },
   {
    "duration": 45,
    "start_time": "2022-03-01T20:09:53.198Z"
   },
   {
    "duration": 7,
    "start_time": "2022-03-01T20:09:53.246Z"
   },
   {
    "duration": 13,
    "start_time": "2022-03-01T20:09:53.256Z"
   },
   {
    "duration": 8,
    "start_time": "2022-03-01T20:09:53.271Z"
   },
   {
    "duration": 7,
    "start_time": "2022-03-01T20:09:53.282Z"
   },
   {
    "duration": 58,
    "start_time": "2022-03-01T20:09:53.291Z"
   },
   {
    "duration": 19,
    "start_time": "2022-03-01T20:09:53.352Z"
   },
   {
    "duration": 13,
    "start_time": "2022-03-01T20:09:53.374Z"
   },
   {
    "duration": 42,
    "start_time": "2022-03-01T20:09:53.390Z"
   },
   {
    "duration": 16,
    "start_time": "2022-03-01T20:09:53.435Z"
   },
   {
    "duration": 20,
    "start_time": "2022-03-01T20:09:53.454Z"
   },
   {
    "duration": 5,
    "start_time": "2022-03-01T20:09:53.476Z"
   },
   {
    "duration": 60,
    "start_time": "2022-03-01T20:09:53.483Z"
   },
   {
    "duration": 11,
    "start_time": "2022-03-01T20:09:53.545Z"
   },
   {
    "duration": 28,
    "start_time": "2022-03-01T20:09:53.559Z"
   },
   {
    "duration": 10,
    "start_time": "2022-03-01T20:09:53.589Z"
   },
   {
    "duration": 26,
    "start_time": "2022-03-01T20:09:53.632Z"
   },
   {
    "duration": 35,
    "start_time": "2022-03-01T20:09:53.660Z"
   },
   {
    "duration": 64,
    "start_time": "2022-03-01T20:09:53.697Z"
   },
   {
    "duration": 26,
    "start_time": "2022-03-01T20:09:53.773Z"
   },
   {
    "duration": 4,
    "start_time": "2022-03-01T20:09:53.802Z"
   },
   {
    "duration": 6,
    "start_time": "2022-03-01T20:09:53.833Z"
   },
   {
    "duration": 486,
    "start_time": "2022-03-01T20:09:53.841Z"
   },
   {
    "duration": 10,
    "start_time": "2022-03-01T20:09:54.330Z"
   },
   {
    "duration": 23,
    "start_time": "2022-03-01T20:09:54.343Z"
   },
   {
    "duration": 4,
    "start_time": "2022-03-01T20:09:54.368Z"
   },
   {
    "duration": 8,
    "start_time": "2022-03-01T20:09:54.374Z"
   },
   {
    "duration": 49,
    "start_time": "2022-03-01T20:09:54.384Z"
   },
   {
    "duration": 13,
    "start_time": "2022-03-01T20:09:54.436Z"
   },
   {
    "duration": 24,
    "start_time": "2022-03-01T20:09:54.451Z"
   },
   {
    "duration": 4,
    "start_time": "2022-03-01T20:09:54.477Z"
   },
   {
    "duration": 53,
    "start_time": "2022-03-01T20:09:54.484Z"
   },
   {
    "duration": 16,
    "start_time": "2022-03-01T20:09:54.540Z"
   },
   {
    "duration": 27,
    "start_time": "2022-03-01T20:09:54.559Z"
   },
   {
    "duration": 5,
    "start_time": "2022-03-01T20:09:54.589Z"
   },
   {
    "duration": 7,
    "start_time": "2022-03-01T20:09:54.597Z"
   },
   {
    "duration": 9,
    "start_time": "2022-03-01T20:09:54.633Z"
   },
   {
    "duration": 23,
    "start_time": "2022-03-01T20:12:01.212Z"
   },
   {
    "duration": 10,
    "start_time": "2022-03-01T20:12:29.378Z"
   },
   {
    "duration": 1570,
    "start_time": "2022-03-01T20:13:25.498Z"
   },
   {
    "duration": 22,
    "start_time": "2022-03-01T20:13:27.070Z"
   },
   {
    "duration": 5,
    "start_time": "2022-03-01T20:13:27.096Z"
   },
   {
    "duration": 31,
    "start_time": "2022-03-01T20:13:27.103Z"
   },
   {
    "duration": 5,
    "start_time": "2022-03-01T20:13:27.136Z"
   },
   {
    "duration": 7,
    "start_time": "2022-03-01T20:13:27.143Z"
   },
   {
    "duration": 3,
    "start_time": "2022-03-01T20:13:27.153Z"
   },
   {
    "duration": 5,
    "start_time": "2022-03-01T20:13:27.160Z"
   },
   {
    "duration": 4,
    "start_time": "2022-03-01T20:13:27.168Z"
   },
   {
    "duration": 8,
    "start_time": "2022-03-01T20:13:27.174Z"
   },
   {
    "duration": 56,
    "start_time": "2022-03-01T20:13:27.233Z"
   },
   {
    "duration": 70,
    "start_time": "2022-03-01T20:13:27.291Z"
   },
   {
    "duration": 6,
    "start_time": "2022-03-01T20:13:27.363Z"
   },
   {
    "duration": 6,
    "start_time": "2022-03-01T20:13:27.372Z"
   },
   {
    "duration": 14,
    "start_time": "2022-03-01T20:13:27.381Z"
   },
   {
    "duration": 36,
    "start_time": "2022-03-01T20:13:27.398Z"
   },
   {
    "duration": 6,
    "start_time": "2022-03-01T20:13:27.438Z"
   },
   {
    "duration": 5,
    "start_time": "2022-03-01T20:13:27.448Z"
   },
   {
    "duration": 8,
    "start_time": "2022-03-01T20:13:27.456Z"
   },
   {
    "duration": 9,
    "start_time": "2022-03-01T20:13:27.466Z"
   },
   {
    "duration": 57,
    "start_time": "2022-03-01T20:13:27.477Z"
   },
   {
    "duration": 6,
    "start_time": "2022-03-01T20:13:27.536Z"
   },
   {
    "duration": 6,
    "start_time": "2022-03-01T20:13:27.548Z"
   },
   {
    "duration": 4,
    "start_time": "2022-03-01T20:13:27.558Z"
   },
   {
    "duration": 6,
    "start_time": "2022-03-01T20:13:27.565Z"
   },
   {
    "duration": 775,
    "start_time": "2022-03-01T20:13:27.574Z"
   },
   {
    "duration": 8,
    "start_time": "2022-03-01T20:13:28.351Z"
   },
   {
    "duration": 6,
    "start_time": "2022-03-01T20:13:28.362Z"
   },
   {
    "duration": 8,
    "start_time": "2022-03-01T20:13:28.371Z"
   },
   {
    "duration": 60,
    "start_time": "2022-03-01T20:13:28.381Z"
   },
   {
    "duration": 6,
    "start_time": "2022-03-01T20:13:28.444Z"
   },
   {
    "duration": 6,
    "start_time": "2022-03-01T20:13:28.453Z"
   },
   {
    "duration": 9,
    "start_time": "2022-03-01T20:13:28.461Z"
   },
   {
    "duration": 100,
    "start_time": "2022-03-01T20:13:28.472Z"
   },
   {
    "duration": 4,
    "start_time": "2022-03-01T20:13:28.574Z"
   },
   {
    "duration": 12,
    "start_time": "2022-03-01T20:13:28.580Z"
   },
   {
    "duration": 16,
    "start_time": "2022-03-01T20:13:28.594Z"
   },
   {
    "duration": 25,
    "start_time": "2022-03-01T20:13:28.612Z"
   },
   {
    "duration": 5,
    "start_time": "2022-03-01T20:13:28.640Z"
   },
   {
    "duration": 5,
    "start_time": "2022-03-01T20:13:28.647Z"
   },
   {
    "duration": 21,
    "start_time": "2022-03-01T20:13:28.655Z"
   },
   {
    "duration": 3,
    "start_time": "2022-03-01T20:13:28.679Z"
   },
   {
    "duration": 50,
    "start_time": "2022-03-01T20:13:28.684Z"
   },
   {
    "duration": 13,
    "start_time": "2022-03-01T20:13:28.736Z"
   },
   {
    "duration": 16,
    "start_time": "2022-03-01T20:13:28.751Z"
   },
   {
    "duration": 11,
    "start_time": "2022-03-01T20:13:28.770Z"
   },
   {
    "duration": 7,
    "start_time": "2022-03-01T20:13:28.784Z"
   },
   {
    "duration": 10,
    "start_time": "2022-03-01T20:13:28.832Z"
   },
   {
    "duration": 5,
    "start_time": "2022-03-01T20:13:28.845Z"
   },
   {
    "duration": 9,
    "start_time": "2022-03-01T20:13:28.853Z"
   },
   {
    "duration": 6,
    "start_time": "2022-03-01T20:13:28.865Z"
   },
   {
    "duration": 5,
    "start_time": "2022-03-01T20:13:28.873Z"
   },
   {
    "duration": 61,
    "start_time": "2022-03-01T20:13:28.880Z"
   },
   {
    "duration": 16,
    "start_time": "2022-03-01T20:13:28.943Z"
   },
   {
    "duration": 9,
    "start_time": "2022-03-01T20:13:28.961Z"
   },
   {
    "duration": 9,
    "start_time": "2022-03-01T20:13:28.973Z"
   },
   {
    "duration": 4,
    "start_time": "2022-03-01T20:13:28.985Z"
   },
   {
    "duration": 45,
    "start_time": "2022-03-01T20:13:28.992Z"
   },
   {
    "duration": 18,
    "start_time": "2022-03-01T20:13:29.040Z"
   },
   {
    "duration": 4,
    "start_time": "2022-03-01T20:13:29.061Z"
   },
   {
    "duration": 14,
    "start_time": "2022-03-01T20:13:29.068Z"
   },
   {
    "duration": 12,
    "start_time": "2022-03-01T20:13:29.084Z"
   },
   {
    "duration": 26,
    "start_time": "2022-03-01T20:13:29.133Z"
   },
   {
    "duration": 32,
    "start_time": "2022-03-01T20:13:29.161Z"
   },
   {
    "duration": 51,
    "start_time": "2022-03-01T20:13:29.195Z"
   },
   {
    "duration": 21,
    "start_time": "2022-03-01T20:13:29.249Z"
   },
   {
    "duration": 4,
    "start_time": "2022-03-01T20:13:29.272Z"
   },
   {
    "duration": 5,
    "start_time": "2022-03-01T20:13:29.284Z"
   },
   {
    "duration": 518,
    "start_time": "2022-03-01T20:13:29.292Z"
   },
   {
    "duration": 22,
    "start_time": "2022-03-01T20:13:29.812Z"
   },
   {
    "duration": 25,
    "start_time": "2022-03-01T20:13:29.837Z"
   },
   {
    "duration": 5,
    "start_time": "2022-03-01T20:13:29.864Z"
   },
   {
    "duration": 7,
    "start_time": "2022-03-01T20:13:29.872Z"
   },
   {
    "duration": 10,
    "start_time": "2022-03-01T20:13:29.881Z"
   },
   {
    "duration": 48,
    "start_time": "2022-03-01T20:13:29.894Z"
   },
   {
    "duration": 24,
    "start_time": "2022-03-01T20:13:29.945Z"
   },
   {
    "duration": 3,
    "start_time": "2022-03-01T20:13:29.971Z"
   },
   {
    "duration": 6,
    "start_time": "2022-03-01T20:13:29.977Z"
   },
   {
    "duration": 52,
    "start_time": "2022-03-01T20:13:29.985Z"
   },
   {
    "duration": 23,
    "start_time": "2022-03-01T20:13:30.040Z"
   },
   {
    "duration": 5,
    "start_time": "2022-03-01T20:13:30.065Z"
   },
   {
    "duration": 12,
    "start_time": "2022-03-01T20:13:30.072Z"
   },
   {
    "duration": 17,
    "start_time": "2022-03-01T20:13:30.086Z"
   },
   {
    "duration": 24,
    "start_time": "2022-03-01T20:14:27.632Z"
   },
   {
    "duration": 82,
    "start_time": "2022-03-01T20:14:30.741Z"
   },
   {
    "duration": 21,
    "start_time": "2022-03-01T20:14:30.827Z"
   },
   {
    "duration": 5,
    "start_time": "2022-03-01T20:14:30.852Z"
   },
   {
    "duration": 9,
    "start_time": "2022-03-01T20:14:30.861Z"
   },
   {
    "duration": 8,
    "start_time": "2022-03-01T20:14:30.872Z"
   },
   {
    "duration": 54,
    "start_time": "2022-03-01T20:14:30.882Z"
   },
   {
    "duration": 21,
    "start_time": "2022-03-01T20:14:30.939Z"
   },
   {
    "duration": 13,
    "start_time": "2022-03-01T20:14:30.963Z"
   },
   {
    "duration": 11,
    "start_time": "2022-03-01T20:14:30.979Z"
   },
   {
    "duration": 9,
    "start_time": "2022-03-01T20:14:30.993Z"
   },
   {
    "duration": 86,
    "start_time": "2022-03-01T20:14:31.004Z"
   },
   {
    "duration": 76,
    "start_time": "2022-03-01T20:14:31.092Z"
   },
   {
    "duration": 7,
    "start_time": "2022-03-01T20:14:31.170Z"
   },
   {
    "duration": 9,
    "start_time": "2022-03-01T20:14:31.179Z"
   },
   {
    "duration": 18,
    "start_time": "2022-03-01T20:14:31.191Z"
   },
   {
    "duration": 8,
    "start_time": "2022-03-01T20:14:31.233Z"
   },
   {
    "duration": 5,
    "start_time": "2022-03-01T20:14:31.244Z"
   },
   {
    "duration": 11,
    "start_time": "2022-03-01T20:14:31.252Z"
   },
   {
    "duration": 17,
    "start_time": "2022-03-01T20:14:31.265Z"
   },
   {
    "duration": 7,
    "start_time": "2022-03-01T20:14:31.285Z"
   },
   {
    "duration": 39,
    "start_time": "2022-03-01T20:14:31.295Z"
   },
   {
    "duration": 5,
    "start_time": "2022-03-01T20:14:31.336Z"
   },
   {
    "duration": 13,
    "start_time": "2022-03-01T20:14:31.346Z"
   },
   {
    "duration": 6,
    "start_time": "2022-03-01T20:14:31.362Z"
   },
   {
    "duration": 7,
    "start_time": "2022-03-01T20:14:31.371Z"
   },
   {
    "duration": 886,
    "start_time": "2022-03-01T20:14:31.381Z"
   },
   {
    "duration": 7,
    "start_time": "2022-03-01T20:14:32.269Z"
   },
   {
    "duration": 4,
    "start_time": "2022-03-01T20:14:32.278Z"
   },
   {
    "duration": 8,
    "start_time": "2022-03-01T20:14:32.284Z"
   },
   {
    "duration": 59,
    "start_time": "2022-03-01T20:14:32.295Z"
   },
   {
    "duration": 7,
    "start_time": "2022-03-01T20:14:32.356Z"
   },
   {
    "duration": 7,
    "start_time": "2022-03-01T20:14:32.365Z"
   },
   {
    "duration": 8,
    "start_time": "2022-03-01T20:14:32.374Z"
   },
   {
    "duration": 94,
    "start_time": "2022-03-01T20:14:32.384Z"
   },
   {
    "duration": 5,
    "start_time": "2022-03-01T20:14:32.480Z"
   },
   {
    "duration": 12,
    "start_time": "2022-03-01T20:14:32.487Z"
   },
   {
    "duration": 35,
    "start_time": "2022-03-01T20:14:32.501Z"
   },
   {
    "duration": 11,
    "start_time": "2022-03-01T20:14:32.538Z"
   },
   {
    "duration": 7,
    "start_time": "2022-03-01T20:14:32.552Z"
   },
   {
    "duration": 7,
    "start_time": "2022-03-01T20:14:32.562Z"
   },
   {
    "duration": 68,
    "start_time": "2022-03-01T20:14:32.572Z"
   },
   {
    "duration": 4,
    "start_time": "2022-03-01T20:14:32.643Z"
   },
   {
    "duration": 5,
    "start_time": "2022-03-01T20:14:32.650Z"
   },
   {
    "duration": 10,
    "start_time": "2022-03-01T20:14:32.657Z"
   },
   {
    "duration": 16,
    "start_time": "2022-03-01T20:14:32.669Z"
   },
   {
    "duration": 48,
    "start_time": "2022-03-01T20:14:32.688Z"
   },
   {
    "duration": 24,
    "start_time": "2022-03-01T20:14:34.753Z"
   },
   {
    "duration": 103,
    "start_time": "2022-03-01T20:16:02.216Z"
   },
   {
    "duration": 3,
    "start_time": "2022-03-01T20:16:58.389Z"
   },
   {
    "duration": 4,
    "start_time": "2022-03-01T20:17:11.317Z"
   },
   {
    "duration": 3,
    "start_time": "2022-03-01T20:17:14.688Z"
   },
   {
    "duration": 4,
    "start_time": "2022-03-01T20:17:15.429Z"
   },
   {
    "duration": 61,
    "start_time": "2022-03-01T20:17:16.575Z"
   },
   {
    "duration": 447,
    "start_time": "2022-03-01T20:17:26.332Z"
   },
   {
    "duration": 17,
    "start_time": "2022-03-01T20:17:31.326Z"
   },
   {
    "duration": 801,
    "start_time": "2022-03-01T20:29:04.897Z"
   },
   {
    "duration": 688,
    "start_time": "2022-03-01T20:29:05.700Z"
   },
   {
    "duration": 72,
    "start_time": "2022-03-01T20:29:06.391Z"
   },
   {
    "duration": 16,
    "start_time": "2022-03-01T20:29:06.466Z"
   },
   {
    "duration": 22,
    "start_time": "2022-03-01T20:29:06.484Z"
   },
   {
    "duration": 25,
    "start_time": "2022-03-01T20:29:06.509Z"
   },
   {
    "duration": 6,
    "start_time": "2022-03-01T20:29:06.537Z"
   },
   {
    "duration": 8,
    "start_time": "2022-03-01T20:29:06.546Z"
   },
   {
    "duration": 5,
    "start_time": "2022-03-01T20:29:06.557Z"
   },
   {
    "duration": 5,
    "start_time": "2022-03-01T20:29:06.564Z"
   },
   {
    "duration": 6,
    "start_time": "2022-03-01T20:29:06.571Z"
   },
   {
    "duration": 4,
    "start_time": "2022-03-01T20:29:06.580Z"
   },
   {
    "duration": 6,
    "start_time": "2022-03-01T20:29:06.632Z"
   },
   {
    "duration": 59,
    "start_time": "2022-03-01T20:29:06.640Z"
   },
   {
    "duration": 84,
    "start_time": "2022-03-01T20:29:06.702Z"
   },
   {
    "duration": 7,
    "start_time": "2022-03-01T20:29:06.789Z"
   },
   {
    "duration": 35,
    "start_time": "2022-03-01T20:29:06.799Z"
   },
   {
    "duration": 17,
    "start_time": "2022-03-01T20:29:06.837Z"
   },
   {
    "duration": 9,
    "start_time": "2022-03-01T20:29:06.857Z"
   },
   {
    "duration": 7,
    "start_time": "2022-03-01T20:29:06.868Z"
   },
   {
    "duration": 8,
    "start_time": "2022-03-01T20:29:06.877Z"
   },
   {
    "duration": 50,
    "start_time": "2022-03-01T20:29:06.888Z"
   },
   {
    "duration": 6,
    "start_time": "2022-03-01T20:29:06.945Z"
   },
   {
    "duration": 7,
    "start_time": "2022-03-01T20:29:06.955Z"
   },
   {
    "duration": 4,
    "start_time": "2022-03-01T20:29:06.965Z"
   },
   {
    "duration": 8,
    "start_time": "2022-03-01T20:29:06.971Z"
   },
   {
    "duration": 52,
    "start_time": "2022-03-01T20:29:06.981Z"
   },
   {
    "duration": 6,
    "start_time": "2022-03-01T20:29:07.036Z"
   },
   {
    "duration": 724,
    "start_time": "2022-03-01T20:29:07.044Z"
   },
   {
    "duration": 8,
    "start_time": "2022-03-01T20:29:07.770Z"
   },
   {
    "duration": 7,
    "start_time": "2022-03-01T20:29:07.780Z"
   },
   {
    "duration": 8,
    "start_time": "2022-03-01T20:29:07.790Z"
   },
   {
    "duration": 61,
    "start_time": "2022-03-01T20:29:07.800Z"
   },
   {
    "duration": 6,
    "start_time": "2022-03-01T20:29:07.864Z"
   },
   {
    "duration": 8,
    "start_time": "2022-03-01T20:29:07.872Z"
   },
   {
    "duration": 9,
    "start_time": "2022-03-01T20:29:07.882Z"
   },
   {
    "duration": 63,
    "start_time": "2022-03-01T20:29:07.932Z"
   },
   {
    "duration": 5,
    "start_time": "2022-03-01T20:29:07.997Z"
   },
   {
    "duration": 31,
    "start_time": "2022-03-01T20:29:08.005Z"
   },
   {
    "duration": 14,
    "start_time": "2022-03-01T20:29:08.039Z"
   },
   {
    "duration": 11,
    "start_time": "2022-03-01T20:29:08.055Z"
   },
   {
    "duration": 5,
    "start_time": "2022-03-01T20:29:08.068Z"
   },
   {
    "duration": 6,
    "start_time": "2022-03-01T20:29:08.076Z"
   },
   {
    "duration": 69,
    "start_time": "2022-03-01T20:29:08.084Z"
   },
   {
    "duration": 3,
    "start_time": "2022-03-01T20:29:08.156Z"
   },
   {
    "duration": 6,
    "start_time": "2022-03-01T20:29:08.161Z"
   },
   {
    "duration": 12,
    "start_time": "2022-03-01T20:29:08.169Z"
   },
   {
    "duration": 63,
    "start_time": "2022-03-01T20:29:08.183Z"
   },
   {
    "duration": 13,
    "start_time": "2022-03-01T20:29:08.249Z"
   },
   {
    "duration": 10,
    "start_time": "2022-03-01T20:29:08.264Z"
   },
   {
    "duration": 10,
    "start_time": "2022-03-01T20:29:08.276Z"
   },
   {
    "duration": 46,
    "start_time": "2022-03-01T20:29:08.288Z"
   },
   {
    "duration": 10,
    "start_time": "2022-03-01T20:29:08.337Z"
   },
   {
    "duration": 8,
    "start_time": "2022-03-01T20:29:08.350Z"
   },
   {
    "duration": 9,
    "start_time": "2022-03-01T20:29:08.361Z"
   },
   {
    "duration": 20,
    "start_time": "2022-03-01T20:29:08.373Z"
   },
   {
    "duration": 52,
    "start_time": "2022-03-01T20:29:08.396Z"
   },
   {
    "duration": 15,
    "start_time": "2022-03-01T20:29:08.451Z"
   },
   {
    "duration": 15,
    "start_time": "2022-03-01T20:29:08.469Z"
   },
   {
    "duration": 6,
    "start_time": "2022-03-01T20:29:08.486Z"
   },
   {
    "duration": 46,
    "start_time": "2022-03-01T20:29:08.494Z"
   },
   {
    "duration": 19,
    "start_time": "2022-03-01T20:29:08.543Z"
   },
   {
    "duration": 5,
    "start_time": "2022-03-01T20:29:08.564Z"
   },
   {
    "duration": 17,
    "start_time": "2022-03-01T20:29:08.572Z"
   },
   {
    "duration": 42,
    "start_time": "2022-03-01T20:29:08.592Z"
   },
   {
    "duration": 25,
    "start_time": "2022-03-01T20:29:08.637Z"
   },
   {
    "duration": 34,
    "start_time": "2022-03-01T20:29:08.664Z"
   },
   {
    "duration": 25,
    "start_time": "2022-03-01T20:29:08.734Z"
   },
   {
    "duration": 24,
    "start_time": "2022-03-01T20:29:08.762Z"
   },
   {
    "duration": 5,
    "start_time": "2022-03-01T20:29:08.788Z"
   },
   {
    "duration": 36,
    "start_time": "2022-03-01T20:29:08.797Z"
   },
   {
    "duration": 518,
    "start_time": "2022-03-01T20:29:08.835Z"
   },
   {
    "duration": 10,
    "start_time": "2022-03-01T20:29:09.356Z"
   },
   {
    "duration": 25,
    "start_time": "2022-03-01T20:29:09.368Z"
   },
   {
    "duration": 3,
    "start_time": "2022-03-01T20:29:09.396Z"
   },
   {
    "duration": 6,
    "start_time": "2022-03-01T20:29:09.432Z"
   },
   {
    "duration": 10,
    "start_time": "2022-03-01T20:29:09.440Z"
   },
   {
    "duration": 10,
    "start_time": "2022-03-01T20:29:09.452Z"
   },
   {
    "duration": 68,
    "start_time": "2022-03-01T20:29:09.464Z"
   },
   {
    "duration": 4,
    "start_time": "2022-03-01T20:29:09.535Z"
   },
   {
    "duration": 8,
    "start_time": "2022-03-01T20:29:09.541Z"
   },
   {
    "duration": 13,
    "start_time": "2022-03-01T20:29:09.551Z"
   },
   {
    "duration": 23,
    "start_time": "2022-03-01T20:29:09.566Z"
   },
   {
    "duration": 4,
    "start_time": "2022-03-01T20:29:09.632Z"
   },
   {
    "duration": 11,
    "start_time": "2022-03-01T20:29:09.638Z"
   },
   {
    "duration": 12,
    "start_time": "2022-03-01T20:29:09.651Z"
   },
   {
    "duration": 105,
    "start_time": "2022-03-01T20:32:08.639Z"
   },
   {
    "duration": 12,
    "start_time": "2022-03-01T20:34:42.964Z"
   },
   {
    "duration": 10,
    "start_time": "2022-03-01T20:35:03.490Z"
   },
   {
    "duration": 786,
    "start_time": "2022-03-01T20:35:21.699Z"
   },
   {
    "duration": 709,
    "start_time": "2022-03-01T20:35:22.487Z"
   },
   {
    "duration": 62,
    "start_time": "2022-03-01T20:35:23.200Z"
   },
   {
    "duration": 14,
    "start_time": "2022-03-01T20:35:23.265Z"
   },
   {
    "duration": 21,
    "start_time": "2022-03-01T20:35:23.282Z"
   },
   {
    "duration": 26,
    "start_time": "2022-03-01T20:35:23.306Z"
   },
   {
    "duration": 4,
    "start_time": "2022-03-01T20:35:23.335Z"
   },
   {
    "duration": 3,
    "start_time": "2022-03-01T20:35:23.343Z"
   },
   {
    "duration": 9,
    "start_time": "2022-03-01T20:35:23.349Z"
   },
   {
    "duration": 6,
    "start_time": "2022-03-01T20:35:23.361Z"
   },
   {
    "duration": 8,
    "start_time": "2022-03-01T20:35:23.369Z"
   },
   {
    "duration": 5,
    "start_time": "2022-03-01T20:35:23.379Z"
   },
   {
    "duration": 50,
    "start_time": "2022-03-01T20:35:23.386Z"
   },
   {
    "duration": 64,
    "start_time": "2022-03-01T20:35:23.438Z"
   },
   {
    "duration": 73,
    "start_time": "2022-03-01T20:35:23.504Z"
   },
   {
    "duration": 6,
    "start_time": "2022-03-01T20:35:23.579Z"
   },
   {
    "duration": 8,
    "start_time": "2022-03-01T20:35:23.587Z"
   },
   {
    "duration": 40,
    "start_time": "2022-03-01T20:35:23.597Z"
   },
   {
    "duration": 9,
    "start_time": "2022-03-01T20:35:23.639Z"
   },
   {
    "duration": 5,
    "start_time": "2022-03-01T20:35:23.650Z"
   },
   {
    "duration": 5,
    "start_time": "2022-03-01T20:35:23.658Z"
   },
   {
    "duration": 8,
    "start_time": "2022-03-01T20:35:23.665Z"
   },
   {
    "duration": 55,
    "start_time": "2022-03-01T20:35:23.679Z"
   },
   {
    "duration": 6,
    "start_time": "2022-03-01T20:35:23.738Z"
   },
   {
    "duration": 4,
    "start_time": "2022-03-01T20:35:23.747Z"
   },
   {
    "duration": 9,
    "start_time": "2022-03-01T20:35:23.754Z"
   },
   {
    "duration": 5,
    "start_time": "2022-03-01T20:35:23.765Z"
   },
   {
    "duration": 6,
    "start_time": "2022-03-01T20:35:23.773Z"
   },
   {
    "duration": 764,
    "start_time": "2022-03-01T20:35:23.782Z"
   },
   {
    "duration": 10,
    "start_time": "2022-03-01T20:35:24.549Z"
   },
   {
    "duration": 8,
    "start_time": "2022-03-01T20:35:24.562Z"
   },
   {
    "duration": 9,
    "start_time": "2022-03-01T20:35:24.573Z"
   },
   {
    "duration": 68,
    "start_time": "2022-03-01T20:35:24.584Z"
   },
   {
    "duration": 7,
    "start_time": "2022-03-01T20:35:24.654Z"
   },
   {
    "duration": 6,
    "start_time": "2022-03-01T20:35:24.663Z"
   },
   {
    "duration": 10,
    "start_time": "2022-03-01T20:35:24.672Z"
   },
   {
    "duration": 102,
    "start_time": "2022-03-01T20:35:24.684Z"
   },
   {
    "duration": 5,
    "start_time": "2022-03-01T20:35:24.788Z"
   },
   {
    "duration": 10,
    "start_time": "2022-03-01T20:35:24.795Z"
   },
   {
    "duration": 12,
    "start_time": "2022-03-01T20:35:24.832Z"
   },
   {
    "duration": 9,
    "start_time": "2022-03-01T20:35:24.847Z"
   },
   {
    "duration": 8,
    "start_time": "2022-03-01T20:35:24.858Z"
   },
   {
    "duration": 7,
    "start_time": "2022-03-01T20:35:24.869Z"
   },
   {
    "duration": 62,
    "start_time": "2022-03-01T20:35:24.878Z"
   },
   {
    "duration": 3,
    "start_time": "2022-03-01T20:35:24.942Z"
   },
   {
    "duration": 6,
    "start_time": "2022-03-01T20:35:24.947Z"
   },
   {
    "duration": 11,
    "start_time": "2022-03-01T20:35:24.955Z"
   },
   {
    "duration": 15,
    "start_time": "2022-03-01T20:35:24.968Z"
   },
   {
    "duration": 47,
    "start_time": "2022-03-01T20:35:24.986Z"
   },
   {
    "duration": 7,
    "start_time": "2022-03-01T20:35:25.036Z"
   },
   {
    "duration": 11,
    "start_time": "2022-03-01T20:35:25.045Z"
   },
   {
    "duration": 6,
    "start_time": "2022-03-01T20:35:25.058Z"
   },
   {
    "duration": 12,
    "start_time": "2022-03-01T20:35:25.066Z"
   },
   {
    "duration": 6,
    "start_time": "2022-03-01T20:35:25.080Z"
   },
   {
    "duration": 5,
    "start_time": "2022-03-01T20:35:25.132Z"
   },
   {
    "duration": 17,
    "start_time": "2022-03-01T20:35:25.139Z"
   },
   {
    "duration": 17,
    "start_time": "2022-03-01T20:35:25.158Z"
   },
   {
    "duration": 9,
    "start_time": "2022-03-01T20:35:25.177Z"
   },
   {
    "duration": 48,
    "start_time": "2022-03-01T20:35:25.188Z"
   },
   {
    "duration": 4,
    "start_time": "2022-03-01T20:35:25.239Z"
   },
   {
    "duration": 14,
    "start_time": "2022-03-01T20:35:25.245Z"
   },
   {
    "duration": 16,
    "start_time": "2022-03-01T20:35:25.262Z"
   },
   {
    "duration": 4,
    "start_time": "2022-03-01T20:35:25.280Z"
   },
   {
    "duration": 48,
    "start_time": "2022-03-01T20:35:25.286Z"
   },
   {
    "duration": 10,
    "start_time": "2022-03-01T20:35:25.337Z"
   },
   {
    "duration": 27,
    "start_time": "2022-03-01T20:35:25.349Z"
   },
   {
    "duration": 56,
    "start_time": "2022-03-01T20:35:25.378Z"
   },
   {
    "duration": 24,
    "start_time": "2022-03-01T20:35:25.441Z"
   },
   {
    "duration": 23,
    "start_time": "2022-03-01T20:35:25.467Z"
   },
   {
    "duration": 3,
    "start_time": "2022-03-01T20:35:25.492Z"
   },
   {
    "duration": 35,
    "start_time": "2022-03-01T20:35:25.498Z"
   },
   {
    "duration": 547,
    "start_time": "2022-03-01T20:35:25.535Z"
   },
   {
    "duration": 10,
    "start_time": "2022-03-01T20:35:26.084Z"
   },
   {
    "duration": 42,
    "start_time": "2022-03-01T20:35:26.096Z"
   },
   {
    "duration": 3,
    "start_time": "2022-03-01T20:35:26.141Z"
   },
   {
    "duration": 9,
    "start_time": "2022-03-01T20:35:26.146Z"
   },
   {
    "duration": 8,
    "start_time": "2022-03-01T20:35:26.158Z"
   },
   {
    "duration": 10,
    "start_time": "2022-03-01T20:35:26.169Z"
   },
   {
    "duration": 54,
    "start_time": "2022-03-01T20:35:26.182Z"
   },
   {
    "duration": 3,
    "start_time": "2022-03-01T20:35:26.238Z"
   },
   {
    "duration": 7,
    "start_time": "2022-03-01T20:35:26.243Z"
   },
   {
    "duration": 9,
    "start_time": "2022-03-01T20:35:26.252Z"
   },
   {
    "duration": 22,
    "start_time": "2022-03-01T20:35:26.263Z"
   },
   {
    "duration": 3,
    "start_time": "2022-03-01T20:35:26.287Z"
   },
   {
    "duration": 6,
    "start_time": "2022-03-01T20:35:26.332Z"
   },
   {
    "duration": 9,
    "start_time": "2022-03-01T20:35:26.340Z"
   },
   {
    "duration": 7,
    "start_time": "2022-03-01T20:42:11.754Z"
   },
   {
    "duration": 5,
    "start_time": "2022-03-01T20:42:23.598Z"
   },
   {
    "duration": 101,
    "start_time": "2022-03-01T20:42:56.181Z"
   },
   {
    "duration": 6,
    "start_time": "2022-03-01T20:43:12.001Z"
   },
   {
    "duration": 7304,
    "start_time": "2022-03-01T20:46:44.631Z"
   },
   {
    "duration": 5,
    "start_time": "2022-03-01T20:46:51.979Z"
   },
   {
    "duration": 5,
    "start_time": "2022-03-01T20:49:33.301Z"
   },
   {
    "duration": 6,
    "start_time": "2022-03-01T20:49:34.757Z"
   },
   {
    "duration": 5,
    "start_time": "2022-03-01T20:49:36.292Z"
   },
   {
    "duration": 6,
    "start_time": "2022-03-01T20:49:37.146Z"
   },
   {
    "duration": 5,
    "start_time": "2022-03-01T20:50:11.812Z"
   },
   {
    "duration": 6,
    "start_time": "2022-03-01T20:50:12.664Z"
   },
   {
    "duration": 5,
    "start_time": "2022-03-01T20:50:14.433Z"
   },
   {
    "duration": 6,
    "start_time": "2022-03-01T20:50:15.227Z"
   },
   {
    "duration": 5,
    "start_time": "2022-03-01T20:50:18.853Z"
   },
   {
    "duration": 5,
    "start_time": "2022-03-01T20:50:19.552Z"
   },
   {
    "duration": 6,
    "start_time": "2022-03-01T20:50:25.507Z"
   },
   {
    "duration": 8,
    "start_time": "2022-03-01T20:50:31.123Z"
   },
   {
    "duration": 746,
    "start_time": "2022-03-01T20:50:40.873Z"
   },
   {
    "duration": 682,
    "start_time": "2022-03-01T20:50:41.622Z"
   },
   {
    "duration": 64,
    "start_time": "2022-03-01T20:50:42.307Z"
   },
   {
    "duration": 15,
    "start_time": "2022-03-01T20:50:42.374Z"
   },
   {
    "duration": 41,
    "start_time": "2022-03-01T20:50:42.391Z"
   },
   {
    "duration": 5,
    "start_time": "2022-03-01T20:50:42.434Z"
   },
   {
    "duration": 13,
    "start_time": "2022-03-01T20:50:42.441Z"
   },
   {
    "duration": 5,
    "start_time": "2022-03-01T20:50:42.457Z"
   },
   {
    "duration": 8,
    "start_time": "2022-03-01T20:50:42.465Z"
   },
   {
    "duration": 5,
    "start_time": "2022-03-01T20:50:42.476Z"
   },
   {
    "duration": 7,
    "start_time": "2022-03-01T20:50:42.483Z"
   },
   {
    "duration": 40,
    "start_time": "2022-03-01T20:50:42.492Z"
   },
   {
    "duration": 8,
    "start_time": "2022-03-01T20:50:42.535Z"
   },
   {
    "duration": 61,
    "start_time": "2022-03-01T20:50:42.546Z"
   },
   {
    "duration": 59,
    "start_time": "2022-03-01T20:50:42.632Z"
   },
   {
    "duration": 7,
    "start_time": "2022-03-01T20:50:42.693Z"
   },
   {
    "duration": 32,
    "start_time": "2022-03-01T20:50:42.702Z"
   },
   {
    "duration": 18,
    "start_time": "2022-03-01T20:50:42.737Z"
   },
   {
    "duration": 7,
    "start_time": "2022-03-01T20:50:42.757Z"
   },
   {
    "duration": 7,
    "start_time": "2022-03-01T20:50:42.766Z"
   },
   {
    "duration": 6,
    "start_time": "2022-03-01T20:50:42.774Z"
   },
   {
    "duration": 8,
    "start_time": "2022-03-01T20:50:42.782Z"
   },
   {
    "duration": 8,
    "start_time": "2022-03-01T20:50:42.836Z"
   },
   {
    "duration": 7,
    "start_time": "2022-03-01T20:50:42.848Z"
   },
   {
    "duration": 4,
    "start_time": "2022-03-01T20:50:42.858Z"
   },
   {
    "duration": 7,
    "start_time": "2022-03-01T20:50:42.864Z"
   },
   {
    "duration": 4,
    "start_time": "2022-03-01T20:50:42.874Z"
   },
   {
    "duration": 53,
    "start_time": "2022-03-01T20:50:42.881Z"
   },
   {
    "duration": 722,
    "start_time": "2022-03-01T20:50:42.937Z"
   },
   {
    "duration": 9,
    "start_time": "2022-03-01T20:50:43.662Z"
   },
   {
    "duration": 7,
    "start_time": "2022-03-01T20:50:43.673Z"
   },
   {
    "duration": 8,
    "start_time": "2022-03-01T20:50:43.682Z"
   },
   {
    "duration": 59,
    "start_time": "2022-03-01T20:50:43.692Z"
   },
   {
    "duration": 7,
    "start_time": "2022-03-01T20:50:43.753Z"
   },
   {
    "duration": 11,
    "start_time": "2022-03-01T20:50:43.762Z"
   },
   {
    "duration": 9,
    "start_time": "2022-03-01T20:50:43.775Z"
   },
   {
    "duration": 99,
    "start_time": "2022-03-01T20:50:43.786Z"
   },
   {
    "duration": 5,
    "start_time": "2022-03-01T20:50:43.887Z"
   },
   {
    "duration": 11,
    "start_time": "2022-03-01T20:50:43.895Z"
   },
   {
    "duration": 35,
    "start_time": "2022-03-01T20:50:43.908Z"
   },
   {
    "duration": 14,
    "start_time": "2022-03-01T20:50:43.945Z"
   },
   {
    "duration": 6,
    "start_time": "2022-03-01T20:50:43.962Z"
   },
   {
    "duration": 8,
    "start_time": "2022-03-01T20:50:43.970Z"
   },
   {
    "duration": 4,
    "start_time": "2022-03-01T20:50:43.980Z"
   },
   {
    "duration": 52,
    "start_time": "2022-03-01T20:50:43.986Z"
   },
   {
    "duration": 7,
    "start_time": "2022-03-01T20:50:44.041Z"
   },
   {
    "duration": 6,
    "start_time": "2022-03-01T20:50:44.051Z"
   },
   {
    "duration": 26,
    "start_time": "2022-03-01T20:50:44.060Z"
   },
   {
    "duration": 3,
    "start_time": "2022-03-01T20:50:44.088Z"
   },
   {
    "duration": 3,
    "start_time": "2022-03-01T20:50:44.133Z"
   },
   {
    "duration": 11,
    "start_time": "2022-03-01T20:50:44.139Z"
   },
   {
    "duration": 18,
    "start_time": "2022-03-01T20:50:44.153Z"
   },
   {
    "duration": 13,
    "start_time": "2022-03-01T20:50:44.173Z"
   },
   {
    "duration": 44,
    "start_time": "2022-03-01T20:50:44.188Z"
   },
   {
    "duration": 11,
    "start_time": "2022-03-01T20:50:44.235Z"
   },
   {
    "duration": 7,
    "start_time": "2022-03-01T20:50:44.249Z"
   },
   {
    "duration": 11,
    "start_time": "2022-03-01T20:50:44.259Z"
   },
   {
    "duration": 25,
    "start_time": "2022-03-01T20:50:44.272Z"
   },
   {
    "duration": 7,
    "start_time": "2022-03-01T20:50:44.333Z"
   },
   {
    "duration": 5,
    "start_time": "2022-03-01T20:50:44.342Z"
   },
   {
    "duration": 27,
    "start_time": "2022-03-01T20:50:44.350Z"
   },
   {
    "duration": 17,
    "start_time": "2022-03-01T20:50:44.380Z"
   },
   {
    "duration": 38,
    "start_time": "2022-03-01T20:50:44.400Z"
   },
   {
    "duration": 11,
    "start_time": "2022-03-01T20:50:44.440Z"
   },
   {
    "duration": 8,
    "start_time": "2022-03-01T20:50:44.454Z"
   },
   {
    "duration": 15,
    "start_time": "2022-03-01T20:50:44.464Z"
   },
   {
    "duration": 17,
    "start_time": "2022-03-01T20:50:44.481Z"
   },
   {
    "duration": 4,
    "start_time": "2022-03-01T20:50:44.536Z"
   },
   {
    "duration": 15,
    "start_time": "2022-03-01T20:50:44.544Z"
   },
   {
    "duration": 10,
    "start_time": "2022-03-01T20:50:44.561Z"
   },
   {
    "duration": 61,
    "start_time": "2022-03-01T20:50:44.573Z"
   },
   {
    "duration": 34,
    "start_time": "2022-03-01T20:50:44.636Z"
   },
   {
    "duration": 22,
    "start_time": "2022-03-01T20:50:44.673Z"
   },
   {
    "duration": 46,
    "start_time": "2022-03-01T20:50:44.698Z"
   },
   {
    "duration": 4,
    "start_time": "2022-03-01T20:50:44.746Z"
   },
   {
    "duration": 7,
    "start_time": "2022-03-01T20:50:44.752Z"
   },
   {
    "duration": 519,
    "start_time": "2022-03-01T20:50:44.761Z"
   },
   {
    "duration": 9,
    "start_time": "2022-03-01T20:50:45.283Z"
   },
   {
    "duration": 44,
    "start_time": "2022-03-01T20:50:45.295Z"
   },
   {
    "duration": 4,
    "start_time": "2022-03-01T20:50:45.341Z"
   },
   {
    "duration": 7,
    "start_time": "2022-03-01T20:50:45.347Z"
   },
   {
    "duration": 9,
    "start_time": "2022-03-01T20:50:45.357Z"
   },
   {
    "duration": 10,
    "start_time": "2022-03-01T20:50:45.368Z"
   },
   {
    "duration": 55,
    "start_time": "2022-03-01T20:50:45.380Z"
   },
   {
    "duration": 4,
    "start_time": "2022-03-01T20:50:45.437Z"
   },
   {
    "duration": 7,
    "start_time": "2022-03-01T20:50:45.443Z"
   },
   {
    "duration": 11,
    "start_time": "2022-03-01T20:50:45.452Z"
   },
   {
    "duration": 24,
    "start_time": "2022-03-01T20:50:45.466Z"
   },
   {
    "duration": 4,
    "start_time": "2022-03-01T20:50:45.493Z"
   },
   {
    "duration": 40,
    "start_time": "2022-03-01T20:50:45.499Z"
   },
   {
    "duration": 10,
    "start_time": "2022-03-01T20:50:45.542Z"
   },
   {
    "duration": 839,
    "start_time": "2022-03-01T20:55:04.536Z"
   },
   {
    "duration": 779,
    "start_time": "2022-03-01T20:55:05.378Z"
   },
   {
    "duration": 64,
    "start_time": "2022-03-01T20:55:06.160Z"
   },
   {
    "duration": 20,
    "start_time": "2022-03-01T20:55:06.226Z"
   },
   {
    "duration": 21,
    "start_time": "2022-03-01T20:55:06.248Z"
   },
   {
    "duration": 4,
    "start_time": "2022-03-01T20:55:06.272Z"
   },
   {
    "duration": 15,
    "start_time": "2022-03-01T20:55:06.278Z"
   },
   {
    "duration": 5,
    "start_time": "2022-03-01T20:55:06.334Z"
   },
   {
    "duration": 9,
    "start_time": "2022-03-01T20:55:06.342Z"
   },
   {
    "duration": 6,
    "start_time": "2022-03-01T20:55:06.354Z"
   },
   {
    "duration": 11,
    "start_time": "2022-03-01T20:55:06.363Z"
   },
   {
    "duration": 4,
    "start_time": "2022-03-01T20:55:06.377Z"
   },
   {
    "duration": 51,
    "start_time": "2022-03-01T20:55:06.383Z"
   },
   {
    "duration": 60,
    "start_time": "2022-03-01T20:55:06.437Z"
   },
   {
    "duration": 82,
    "start_time": "2022-03-01T20:55:06.500Z"
   },
   {
    "duration": 5,
    "start_time": "2022-03-01T20:55:06.585Z"
   },
   {
    "duration": 10,
    "start_time": "2022-03-01T20:55:06.592Z"
   },
   {
    "duration": 46,
    "start_time": "2022-03-01T20:55:06.604Z"
   },
   {
    "duration": 7,
    "start_time": "2022-03-01T20:55:06.653Z"
   },
   {
    "duration": 5,
    "start_time": "2022-03-01T20:55:06.663Z"
   },
   {
    "duration": 7,
    "start_time": "2022-03-01T20:55:06.670Z"
   },
   {
    "duration": 61,
    "start_time": "2022-03-01T20:55:06.679Z"
   },
   {
    "duration": 8,
    "start_time": "2022-03-01T20:55:06.751Z"
   },
   {
    "duration": 8,
    "start_time": "2022-03-01T20:55:06.765Z"
   },
   {
    "duration": 5,
    "start_time": "2022-03-01T20:55:06.777Z"
   },
   {
    "duration": 50,
    "start_time": "2022-03-01T20:55:06.785Z"
   },
   {
    "duration": 7,
    "start_time": "2022-03-01T20:55:06.838Z"
   },
   {
    "duration": 10,
    "start_time": "2022-03-01T20:55:06.848Z"
   },
   {
    "duration": 1021,
    "start_time": "2022-03-01T20:55:06.861Z"
   },
   {
    "duration": 9,
    "start_time": "2022-03-01T20:55:07.884Z"
   },
   {
    "duration": 7,
    "start_time": "2022-03-01T20:55:07.895Z"
   },
   {
    "duration": 30,
    "start_time": "2022-03-01T20:55:07.905Z"
   },
   {
    "duration": 31,
    "start_time": "2022-03-01T20:55:07.938Z"
   },
   {
    "duration": 8,
    "start_time": "2022-03-01T20:55:07.971Z"
   },
   {
    "duration": 6,
    "start_time": "2022-03-01T20:55:07.981Z"
   },
   {
    "duration": 46,
    "start_time": "2022-03-01T20:55:07.989Z"
   },
   {
    "duration": 115,
    "start_time": "2022-03-01T20:55:08.038Z"
   },
   {
    "duration": 6,
    "start_time": "2022-03-01T20:55:08.156Z"
   },
   {
    "duration": 17,
    "start_time": "2022-03-01T20:55:08.165Z"
   },
   {
    "duration": 18,
    "start_time": "2022-03-01T20:55:08.186Z"
   },
   {
    "duration": 32,
    "start_time": "2022-03-01T20:55:08.207Z"
   },
   {
    "duration": 26,
    "start_time": "2022-03-01T20:55:08.242Z"
   },
   {
    "duration": 15,
    "start_time": "2022-03-01T20:55:08.271Z"
   },
   {
    "duration": 5,
    "start_time": "2022-03-01T20:55:08.289Z"
   },
   {
    "duration": 10,
    "start_time": "2022-03-01T20:55:08.296Z"
   },
   {
    "duration": 24,
    "start_time": "2022-03-01T20:55:08.308Z"
   },
   {
    "duration": 6,
    "start_time": "2022-03-01T20:55:08.335Z"
   },
   {
    "duration": 30,
    "start_time": "2022-03-01T20:55:08.344Z"
   },
   {
    "duration": 3,
    "start_time": "2022-03-01T20:55:08.377Z"
   },
   {
    "duration": 5,
    "start_time": "2022-03-01T20:55:08.382Z"
   },
   {
    "duration": 49,
    "start_time": "2022-03-01T20:55:08.390Z"
   },
   {
    "duration": 17,
    "start_time": "2022-03-01T20:55:08.441Z"
   },
   {
    "duration": 12,
    "start_time": "2022-03-01T20:55:08.461Z"
   },
   {
    "duration": 8,
    "start_time": "2022-03-01T20:55:08.476Z"
   },
   {
    "duration": 46,
    "start_time": "2022-03-01T20:55:08.487Z"
   },
   {
    "duration": 5,
    "start_time": "2022-03-01T20:55:08.536Z"
   },
   {
    "duration": 13,
    "start_time": "2022-03-01T20:55:08.543Z"
   },
   {
    "duration": 37,
    "start_time": "2022-03-01T20:55:08.559Z"
   },
   {
    "duration": 37,
    "start_time": "2022-03-01T20:55:08.600Z"
   },
   {
    "duration": 7,
    "start_time": "2022-03-01T20:55:08.641Z"
   },
   {
    "duration": 18,
    "start_time": "2022-03-01T20:55:08.651Z"
   },
   {
    "duration": 17,
    "start_time": "2022-03-01T20:55:08.671Z"
   },
   {
    "duration": 50,
    "start_time": "2022-03-01T20:55:08.691Z"
   },
   {
    "duration": 13,
    "start_time": "2022-03-01T20:55:08.744Z"
   },
   {
    "duration": 12,
    "start_time": "2022-03-01T20:55:08.760Z"
   },
   {
    "duration": 22,
    "start_time": "2022-03-01T20:55:08.775Z"
   },
   {
    "duration": 18,
    "start_time": "2022-03-01T20:55:08.834Z"
   },
   {
    "duration": 5,
    "start_time": "2022-03-01T20:55:08.861Z"
   },
   {
    "duration": 17,
    "start_time": "2022-03-01T20:55:08.869Z"
   },
   {
    "duration": 9,
    "start_time": "2022-03-01T20:55:08.888Z"
   },
   {
    "duration": 25,
    "start_time": "2022-03-01T20:55:08.933Z"
   },
   {
    "duration": 32,
    "start_time": "2022-03-01T20:55:08.961Z"
   },
   {
    "duration": 49,
    "start_time": "2022-03-01T20:55:08.995Z"
   },
   {
    "duration": 24,
    "start_time": "2022-03-01T20:55:09.046Z"
   },
   {
    "duration": 3,
    "start_time": "2022-03-01T20:55:09.073Z"
   },
   {
    "duration": 10,
    "start_time": "2022-03-01T20:55:09.079Z"
   },
   {
    "duration": 541,
    "start_time": "2022-03-01T20:55:09.092Z"
   },
   {
    "duration": 11,
    "start_time": "2022-03-01T20:55:09.637Z"
   },
   {
    "duration": 38,
    "start_time": "2022-03-01T20:55:09.650Z"
   },
   {
    "duration": 4,
    "start_time": "2022-03-01T20:55:09.690Z"
   },
   {
    "duration": 11,
    "start_time": "2022-03-01T20:55:09.696Z"
   },
   {
    "duration": 22,
    "start_time": "2022-03-01T20:55:09.710Z"
   },
   {
    "duration": 12,
    "start_time": "2022-03-01T20:55:09.736Z"
   },
   {
    "duration": 38,
    "start_time": "2022-03-01T20:55:09.751Z"
   },
   {
    "duration": 5,
    "start_time": "2022-03-01T20:55:09.791Z"
   },
   {
    "duration": 35,
    "start_time": "2022-03-01T20:55:09.798Z"
   },
   {
    "duration": 10,
    "start_time": "2022-03-01T20:55:09.835Z"
   },
   {
    "duration": 29,
    "start_time": "2022-03-01T20:55:09.847Z"
   },
   {
    "duration": 3,
    "start_time": "2022-03-01T20:55:09.879Z"
   },
   {
    "duration": 12,
    "start_time": "2022-03-01T20:55:09.884Z"
   },
   {
    "duration": 13,
    "start_time": "2022-03-01T20:55:09.898Z"
   }
  ],
  "kernelspec": {
   "display_name": "Python 3 (ipykernel)",
   "language": "python",
   "name": "python3"
  },
  "language_info": {
   "codemirror_mode": {
    "name": "ipython",
    "version": 3
   },
   "file_extension": ".py",
   "mimetype": "text/x-python",
   "name": "python",
   "nbconvert_exporter": "python",
   "pygments_lexer": "ipython3",
   "version": "3.9.7"
  },
  "toc": {
   "base_numbering": 1,
   "nav_menu": {},
   "number_sections": true,
   "sideBar": true,
   "skip_h1_title": true,
   "title_cell": "Table of Contents",
   "title_sidebar": "Contents",
   "toc_cell": false,
   "toc_position": {},
   "toc_section_display": true,
   "toc_window_display": false
  }
 },
 "nbformat": 4,
 "nbformat_minor": 5
}
