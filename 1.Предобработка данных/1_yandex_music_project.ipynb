{
 "cells": [
  {
   "cell_type": "markdown",
   "metadata": {},
   "source": [
    "<div style=\"border:solid green 3px; padding: 20px\">\n",
    "\n",
    "<b>Привет, Вадим! :)</b>\n",
    "\n",
    "Меня зовут Сороколетов Илья и я буду проверять твой проект. \n",
    "\n",
    "Предлагаю общаться на «**ты**», но если тебе будет комфортнее общаться на «**вы**», то сообщи об этом в комментариях)\n",
    "\n",
    "\n",
    "Для твоего удобства, я буду выделять свои комментарии следующим образом:\n",
    "\n",
    "<div class=\"alert alert-danger\">\n",
    "<b>❌ Комментарий ревьюера:</b> Самые важные замечания. Они указывают на ключевые моменты, которые влияют на конечный результат проекта. </div>\n",
    "\n",
    "<div class=\"alert alert-warning\">\n",
    "<b>⚠️ Комментарий ревьюера:</b> Советы или замечания, которые помогут сделать твою работу лучше, но необязательны к выполнению.\n",
    "\n",
    "</div>\n",
    "\n",
    "<div class=\"alert alert-success\">\n",
    "<b>✔️ Комментарий ревьюера:</b> Так я выделяю все остальные комментарии.</div>\n",
    "\n",
    "Давай работать над проектом в диалоге: если ты что-то меняешь в проекте по моим рекомендациям — пиши об этом. Выбери для своих комментариев какой-то заметный цвет, так мне будет легче отследить изменения, например вот так:\n",
    "<div class=\"alert alert-info\">\n",
    "<b>Комментарий студента:</b>\n",
    "<br>\n",
    "</div>\n",
    "\n",
    "Пожалуйста, не перемещай, не изменяй и не удаляй мои комментарии. Если ты оставляешь свои комментарии, то делай это под моими, чтобы сообщения были расположены в хронологическом порядке. Всё это поможет выполнить повторную проверку твоего проекта оперативнее. \n",
    "\n",
    "Обязательно задавай вопросы если они возникнут, а я перехожу к проверке)\n",
    "\n",
    "P.S. На всякий случай, я оставлю пустой шаблон для твоих комментариев в ячейке ниже. Кликни на него два раза, скопируй код и вставляй его в пустую ячейку там, где ты хочешь оставить комментарий. Не забудь только перед этим сменить тип ячейки на Markdown. Как это сделать можно посмотреть на этом видео\n",
    "\n",
    "    https://youtu.be/s0q2GpcYxo4?t=685\n",
    "\n",
    "Также, перед отправкой работы я рекомендую нажимать Kernel -> Restart & Run All. Это перезапустит ядро и по очереди выполнит все ячейки. Так ты сможешь проверить, что всё работает корректно. Кнопка Kernel находится в панели сверху\n",
    "\n"
   ]
  },
  {
   "cell_type": "markdown",
   "metadata": {},
   "source": [
    "<div class=\"alert alert-info\">\n",
    "<b>Комментарий студента:</b>\n",
    "<br>Илья, привет! Я внес необходимые правки.\n",
    "</div>"
   ]
  },
  {
   "cell_type": "markdown",
   "metadata": {},
   "source": [
    "<div class=\"alert alert-success\">\n",
    "<b>✔️ Комментарий ревьюера v2:</b> \n",
    "<br>И снова привет! Иду смотреть)\n",
    "</div>"
   ]
  },
  {
   "cell_type": "markdown",
   "metadata": {
    "id": "E0vqbgi9ay0H"
   },
   "source": [
    "# Яндекс.Музыка"
   ]
  },
  {
   "cell_type": "markdown",
   "metadata": {
    "id": "VUC88oWjTJw2"
   },
   "source": [
    "Сравнение Москвы и Петербурга окружено мифами. Например:\n",
    " * Москва — мегаполис, подчинённый жёсткому ритму рабочей недели;\n",
    " * Петербург — культурная столица, со своими вкусами.\n",
    "\n",
    "На данных Яндекс.Музыки вы сравните поведение пользователей двух столиц.\n",
    "\n",
    "**Цель исследования** — проверьте три гипотезы:\n",
    "1. Активность пользователей зависит от дня недели. Причём в Москве и Петербурге это проявляется по-разному.\n",
    "2. В понедельник утром в Москве преобладают одни жанры, а в Петербурге — другие. Так же и вечером пятницы преобладают разные жанры — в зависимости от города. \n",
    "3. Москва и Петербург предпочитают разные жанры музыки. В Москве чаще слушают поп-музыку, в Петербурге — русский рэп.\n",
    "\n",
    "**Ход исследования**\n",
    "\n",
    "Данные о поведении пользователей вы получите из файла `yandex_music_project.csv`. О качестве данных ничего не известно. Поэтому перед проверкой гипотез понадобится обзор данных. \n",
    "\n",
    "Вы проверите данные на ошибки и оцените их влияние на исследование. Затем, на этапе предобработки вы поищете возможность исправить самые критичные ошибки данных.\n",
    " \n",
    "Таким образом, исследование пройдёт в три этапа:\n",
    " 1. Обзор данных.\n",
    " 2. Предобработка данных.\n",
    " 3. Проверка гипотез.\n",
    "\n"
   ]
  },
  {
   "cell_type": "markdown",
   "metadata": {
    "id": "Ml1hmfXC_Zcs"
   },
   "source": [
    "## Обзор данных\n",
    "\n",
    "Составьте первое представление о данных Яндекс.Музыки.\n",
    "\n",
    "\n"
   ]
  },
  {
   "cell_type": "markdown",
   "metadata": {
    "id": "57eAOGIz_Zcs"
   },
   "source": [
    "Основной инструмент аналитика — `pandas`. Импортируйте эту библиотеку."
   ]
  },
  {
   "cell_type": "code",
   "execution_count": 1,
   "metadata": {
    "id": "AXN7PHPN_Zcs"
   },
   "outputs": [],
   "source": [
    "# импорт библиотеки pandas\n",
    "import pandas as pd"
   ]
  },
  {
   "cell_type": "markdown",
   "metadata": {},
   "source": [
    "<div class=\"alert alert-success\">\n",
    "<b>✔️ Комментарий ревьюера:</b> \n",
    "<br>Очень здорово, что ты используешь сокращение pd для Pandas, это общепринятое сокращение для этой библиотеки для удобной дальнейшей работы.\n",
    "</div>\n",
    "\n"
   ]
  },
  {
   "cell_type": "markdown",
   "metadata": {
    "id": "SG23P8tt_Zcs"
   },
   "source": [
    "Прочитайте файл `yandex_music_project.csv` из папки `/datasets` и сохраните его в переменной `df`:"
   ]
  },
  {
   "cell_type": "code",
   "execution_count": 2,
   "metadata": {
    "id": "fFVu7vqh_Zct"
   },
   "outputs": [],
   "source": [
    "# чтение файла с данными и сохранение в df\n",
    "df = pd.read_csv('/datasets/yandex_music_project.csv')"
   ]
  },
  {
   "cell_type": "markdown",
   "metadata": {
    "id": "rDoOMd3uTqnZ"
   },
   "source": [
    "Выведите на экран первые десять строк таблицы:"
   ]
  },
  {
   "cell_type": "code",
   "execution_count": 3,
   "metadata": {
    "id": "oWTVX3gW_Zct",
    "scrolled": true
   },
   "outputs": [
    {
     "data": {
      "text/html": [
       "<div>\n",
       "<style scoped>\n",
       "    .dataframe tbody tr th:only-of-type {\n",
       "        vertical-align: middle;\n",
       "    }\n",
       "\n",
       "    .dataframe tbody tr th {\n",
       "        vertical-align: top;\n",
       "    }\n",
       "\n",
       "    .dataframe thead th {\n",
       "        text-align: right;\n",
       "    }\n",
       "</style>\n",
       "<table border=\"1\" class=\"dataframe\">\n",
       "  <thead>\n",
       "    <tr style=\"text-align: right;\">\n",
       "      <th></th>\n",
       "      <th>userID</th>\n",
       "      <th>Track</th>\n",
       "      <th>artist</th>\n",
       "      <th>genre</th>\n",
       "      <th>City</th>\n",
       "      <th>time</th>\n",
       "      <th>Day</th>\n",
       "    </tr>\n",
       "  </thead>\n",
       "  <tbody>\n",
       "    <tr>\n",
       "      <td>0</td>\n",
       "      <td>FFB692EC</td>\n",
       "      <td>Kamigata To Boots</td>\n",
       "      <td>The Mass Missile</td>\n",
       "      <td>rock</td>\n",
       "      <td>Saint-Petersburg</td>\n",
       "      <td>20:28:33</td>\n",
       "      <td>Wednesday</td>\n",
       "    </tr>\n",
       "    <tr>\n",
       "      <td>1</td>\n",
       "      <td>55204538</td>\n",
       "      <td>Delayed Because of Accident</td>\n",
       "      <td>Andreas Rönnberg</td>\n",
       "      <td>rock</td>\n",
       "      <td>Moscow</td>\n",
       "      <td>14:07:09</td>\n",
       "      <td>Friday</td>\n",
       "    </tr>\n",
       "    <tr>\n",
       "      <td>2</td>\n",
       "      <td>20EC38</td>\n",
       "      <td>Funiculì funiculà</td>\n",
       "      <td>Mario Lanza</td>\n",
       "      <td>pop</td>\n",
       "      <td>Saint-Petersburg</td>\n",
       "      <td>20:58:07</td>\n",
       "      <td>Wednesday</td>\n",
       "    </tr>\n",
       "    <tr>\n",
       "      <td>3</td>\n",
       "      <td>A3DD03C9</td>\n",
       "      <td>Dragons in the Sunset</td>\n",
       "      <td>Fire + Ice</td>\n",
       "      <td>folk</td>\n",
       "      <td>Saint-Petersburg</td>\n",
       "      <td>08:37:09</td>\n",
       "      <td>Monday</td>\n",
       "    </tr>\n",
       "    <tr>\n",
       "      <td>4</td>\n",
       "      <td>E2DC1FAE</td>\n",
       "      <td>Soul People</td>\n",
       "      <td>Space Echo</td>\n",
       "      <td>dance</td>\n",
       "      <td>Moscow</td>\n",
       "      <td>08:34:34</td>\n",
       "      <td>Monday</td>\n",
       "    </tr>\n",
       "    <tr>\n",
       "      <td>5</td>\n",
       "      <td>842029A1</td>\n",
       "      <td>Преданная</td>\n",
       "      <td>IMPERVTOR</td>\n",
       "      <td>rusrap</td>\n",
       "      <td>Saint-Petersburg</td>\n",
       "      <td>13:09:41</td>\n",
       "      <td>Friday</td>\n",
       "    </tr>\n",
       "    <tr>\n",
       "      <td>6</td>\n",
       "      <td>4CB90AA5</td>\n",
       "      <td>True</td>\n",
       "      <td>Roman Messer</td>\n",
       "      <td>dance</td>\n",
       "      <td>Moscow</td>\n",
       "      <td>13:00:07</td>\n",
       "      <td>Wednesday</td>\n",
       "    </tr>\n",
       "    <tr>\n",
       "      <td>7</td>\n",
       "      <td>F03E1C1F</td>\n",
       "      <td>Feeling This Way</td>\n",
       "      <td>Polina Griffith</td>\n",
       "      <td>dance</td>\n",
       "      <td>Moscow</td>\n",
       "      <td>20:47:49</td>\n",
       "      <td>Wednesday</td>\n",
       "    </tr>\n",
       "    <tr>\n",
       "      <td>8</td>\n",
       "      <td>8FA1D3BE</td>\n",
       "      <td>И вновь продолжается бой</td>\n",
       "      <td>NaN</td>\n",
       "      <td>ruspop</td>\n",
       "      <td>Moscow</td>\n",
       "      <td>09:17:40</td>\n",
       "      <td>Friday</td>\n",
       "    </tr>\n",
       "    <tr>\n",
       "      <td>9</td>\n",
       "      <td>E772D5C0</td>\n",
       "      <td>Pessimist</td>\n",
       "      <td>NaN</td>\n",
       "      <td>dance</td>\n",
       "      <td>Saint-Petersburg</td>\n",
       "      <td>21:20:49</td>\n",
       "      <td>Wednesday</td>\n",
       "    </tr>\n",
       "  </tbody>\n",
       "</table>\n",
       "</div>"
      ],
      "text/plain": [
       "     userID                        Track            artist   genre  \\\n",
       "0  FFB692EC            Kamigata To Boots  The Mass Missile    rock   \n",
       "1  55204538  Delayed Because of Accident  Andreas Rönnberg    rock   \n",
       "2    20EC38            Funiculì funiculà       Mario Lanza     pop   \n",
       "3  A3DD03C9        Dragons in the Sunset        Fire + Ice    folk   \n",
       "4  E2DC1FAE                  Soul People        Space Echo   dance   \n",
       "5  842029A1                    Преданная         IMPERVTOR  rusrap   \n",
       "6  4CB90AA5                         True      Roman Messer   dance   \n",
       "7  F03E1C1F             Feeling This Way   Polina Griffith   dance   \n",
       "8  8FA1D3BE     И вновь продолжается бой               NaN  ruspop   \n",
       "9  E772D5C0                    Pessimist               NaN   dance   \n",
       "\n",
       "             City        time        Day  \n",
       "0  Saint-Petersburg  20:28:33  Wednesday  \n",
       "1            Moscow  14:07:09     Friday  \n",
       "2  Saint-Petersburg  20:58:07  Wednesday  \n",
       "3  Saint-Petersburg  08:37:09     Monday  \n",
       "4            Moscow  08:34:34     Monday  \n",
       "5  Saint-Petersburg  13:09:41     Friday  \n",
       "6            Moscow  13:00:07  Wednesday  \n",
       "7            Moscow  20:47:49  Wednesday  \n",
       "8            Moscow  09:17:40     Friday  \n",
       "9  Saint-Petersburg  21:20:49  Wednesday  "
      ]
     },
     "execution_count": 3,
     "metadata": {},
     "output_type": "execute_result"
    }
   ],
   "source": [
    "# получение первых 10 строк таблицы df\n",
    "df.head(10)"
   ]
  },
  {
   "cell_type": "markdown",
   "metadata": {
    "id": "EO73Kwic_Zct"
   },
   "source": [
    "Одной командой получить общую информацию о таблице:"
   ]
  },
  {
   "cell_type": "code",
   "execution_count": 4,
   "metadata": {
    "id": "DSf2kIb-_Zct"
   },
   "outputs": [
    {
     "name": "stdout",
     "output_type": "stream",
     "text": [
      "<class 'pandas.core.frame.DataFrame'>\n",
      "RangeIndex: 65079 entries, 0 to 65078\n",
      "Data columns (total 7 columns):\n",
      "  userID    65079 non-null object\n",
      "Track       63848 non-null object\n",
      "artist      57876 non-null object\n",
      "genre       63881 non-null object\n",
      "  City      65079 non-null object\n",
      "time        65079 non-null object\n",
      "Day         65079 non-null object\n",
      "dtypes: object(7)\n",
      "memory usage: 3.5+ MB\n"
     ]
    }
   ],
   "source": [
    "# получение общей информации о данных в таблице df\n",
    "df.info()"
   ]
  },
  {
   "cell_type": "markdown",
   "metadata": {
    "id": "TaQ2Iwbr_Zct"
   },
   "source": [
    "Итак, в таблице семь столбцов. Тип данных во всех столбцах — `object`.\n",
    "\n",
    "Согласно документации к данным:\n",
    "* `userID` — идентификатор пользователя;\n",
    "* `Track` — название трека;  \n",
    "* `artist` — имя исполнителя;\n",
    "* `genre` — название жанра;\n",
    "* `City` — город пользователя;\n",
    "* `time` — время начала прослушивания;\n",
    "* `Day` — день недели.\n",
    "\n",
    "В названиях колонок видны три нарушения стиля:\n",
    "1. Строчные буквы сочетаются с прописными.\n",
    "2. Встречаются пробелы.\n",
    "3. Название столбца 'userID' не разделено подчеркиванием.\n",
    "\n",
    "\n",
    "\n",
    "Количество значений в столбцах различается. Значит, в данных есть пропущенные значения.\n"
   ]
  },
  {
   "cell_type": "markdown",
   "metadata": {},
   "source": [
    "<div class=\"alert alert-success\">\n",
    "<b>✔️ Комментарий ревьюера:</b> \n",
    "<br>И это правильный ответ! Отличная работа!\n",
    "</div>"
   ]
  },
  {
   "cell_type": "markdown",
   "metadata": {
    "id": "MCB6-dXG_Zct"
   },
   "source": [
    "**Выводы**\n",
    "\n",
    "В каждой строке таблицы — данные о прослушанном треке. Часть колонок описывает саму композицию: название, исполнителя и жанр. Остальные данные рассказывают о пользователе: из какого он города, когда он слушал музыку. \n",
    "\n",
    "Предварительно можно утверждать, что, данных достаточно для проверки гипотез. Но встречаются пропуски в данных, а в названиях колонок — расхождения с хорошим стилем.\n",
    "\n",
    "Чтобы двигаться дальше, нужно устранить проблемы в данных."
   ]
  },
  {
   "cell_type": "markdown",
   "metadata": {
    "id": "SjYF6Ub9_Zct"
   },
   "source": [
    "## Предобработка данных\n",
    "Исправьте стиль в заголовках столбцов, исключите пропуски. Затем проверьте данные на дубликаты."
   ]
  },
  {
   "cell_type": "markdown",
   "metadata": {
    "id": "dIaKXr29_Zct"
   },
   "source": [
    "### Стиль заголовков\n",
    "Выведите на экран названия столбцов:"
   ]
  },
  {
   "cell_type": "code",
   "execution_count": 5,
   "metadata": {
    "id": "oKOTdF_Q_Zct"
   },
   "outputs": [
    {
     "data": {
      "text/plain": [
       "Index(['  userID', 'Track', 'artist', 'genre', '  City  ', 'time', 'Day'], dtype='object')"
      ]
     },
     "execution_count": 5,
     "metadata": {},
     "output_type": "execute_result"
    }
   ],
   "source": [
    "# перечень названий столбцов таблицы df\n",
    "df.columns"
   ]
  },
  {
   "cell_type": "markdown",
   "metadata": {},
   "source": [
    "<div class=\"alert alert-success\">\n",
    "<b>✔️ Комментарий ревьюера:</b> \n",
    "<br>Отлично, что здесь не использована функцию print() для вывода: ведь это последняя строчка ячейки.\n",
    "</div>"
   ]
  },
  {
   "cell_type": "markdown",
   "metadata": {
    "id": "zj5534cv_Zct"
   },
   "source": [
    "Приведите названия в соответствие с хорошим стилем:\n",
    "* несколько слов в названии запишите в «змеином_регистре»,\n",
    "* все символы сделайте строчными,\n",
    "* устраните пробелы.\n",
    "\n",
    "Для этого переименуйте колонки так:\n",
    "* `'  userID'` → `'user_id'`;\n",
    "* `'Track'` → `'track'`;\n",
    "* `'  City  '` → `'city'`;\n",
    "* `'Day'` → `'day'`."
   ]
  },
  {
   "cell_type": "code",
   "execution_count": 6,
   "metadata": {
    "id": "ISlFqs5y_Zct"
   },
   "outputs": [],
   "source": [
    "# переименование столбцов\n",
    "df = df.rename(columns={'  userID': 'user_id',\n",
    "                    'Track': 'track',\n",
    "                    '  City  ': 'city',\n",
    "                     'Day': 'day'})"
   ]
  },
  {
   "cell_type": "markdown",
   "metadata": {
    "id": "1dqbh00J_Zct"
   },
   "source": [
    "Проверьте результат. Для этого ещё раз выведите на экран названия столбцов:"
   ]
  },
  {
   "cell_type": "code",
   "execution_count": 7,
   "metadata": {
    "id": "d4NOAmTW_Zct"
   },
   "outputs": [
    {
     "data": {
      "text/plain": [
       "Index(['user_id', 'track', 'artist', 'genre', 'city', 'time', 'day'], dtype='object')"
      ]
     },
     "execution_count": 7,
     "metadata": {},
     "output_type": "execute_result"
    }
   ],
   "source": [
    "# проверка результатов - перечень названий столбцов\n",
    "df.columns"
   ]
  },
  {
   "cell_type": "markdown",
   "metadata": {
    "id": "5ISfbcfY_Zct"
   },
   "source": [
    "### Пропуски значений\n",
    "Сначала посчитайте, сколько в таблице пропущенных значений. Для этого достаточно двух методов `pandas`:"
   ]
  },
  {
   "cell_type": "code",
   "execution_count": 8,
   "metadata": {
    "id": "RskX29qr_Zct",
    "scrolled": true
   },
   "outputs": [
    {
     "data": {
      "text/plain": [
       "user_id       0\n",
       "track      1231\n",
       "artist     7203\n",
       "genre      1198\n",
       "city          0\n",
       "time          0\n",
       "day           0\n",
       "dtype: int64"
      ]
     },
     "execution_count": 8,
     "metadata": {},
     "output_type": "execute_result"
    }
   ],
   "source": [
    "# подсчёт пропусков\n",
    "df.isna().sum()"
   ]
  },
  {
   "cell_type": "markdown",
   "metadata": {
    "id": "qubhgnlO_Zct"
   },
   "source": [
    "Не все пропущенные значения влияют на исследование. Так в `track` и `artist` пропуски не важны для вашей работы. Достаточно заменить их явными обозначениями.\n",
    "\n",
    "Но пропуски в `genre` могут помешать сравнению музыкальных вкусов в Москве и Санкт-Петербурге. На практике было бы правильно установить причину пропусков и восстановить данные. Такой возможности нет в учебном проекте. Придётся:\n",
    "* заполнить и эти пропуски явными обозначениями,\n",
    "* оценить, насколько они повредят расчётам. "
   ]
  },
  {
   "cell_type": "markdown",
   "metadata": {
    "id": "fSv2laPA_Zct"
   },
   "source": [
    "Замените пропущенные значения в столбцах `track`, `artist` и `genre` на строку `'unknown'`. Для этого создайте список `columns_to_replace`, переберите его элементы циклом `for` и для каждого столбца выполните замену пропущенных значений:"
   ]
  },
  {
   "cell_type": "code",
   "execution_count": 9,
   "metadata": {
    "id": "KplB5qWs_Zct"
   },
   "outputs": [],
   "source": [
    "# перебор названий столбцов в цикле и замена пропущенных значений на 'unknown'\n",
    "columns_to_replace = ['track', 'artist', 'genre']\n",
    "for column in columns_to_replace:\n",
    "    df[column] = df[column].fillna('unknown')\n"
   ]
  },
  {
   "cell_type": "markdown",
   "metadata": {
    "id": "Ilsm-MZo_Zct"
   },
   "source": [
    "Убедитесь, что в таблице не осталось пропусков. Для этого ещё раз посчитайте пропущенные значения."
   ]
  },
  {
   "cell_type": "code",
   "execution_count": 10,
   "metadata": {
    "id": "Tq4nYRX4_Zct"
   },
   "outputs": [
    {
     "data": {
      "text/plain": [
       "user_id    0\n",
       "track      0\n",
       "artist     0\n",
       "genre      0\n",
       "city       0\n",
       "time       0\n",
       "day        0\n",
       "dtype: int64"
      ]
     },
     "execution_count": 10,
     "metadata": {},
     "output_type": "execute_result"
    }
   ],
   "source": [
    "# подсчёт пропусков\n",
    "df.isna().sum()"
   ]
  },
  {
   "cell_type": "markdown",
   "metadata": {},
   "source": [
    "<div class=\"alert alert-success\">\n",
    "<b>✔️ Комментарий ревьюера:</b> \n",
    "<br>Пропуски заменены верно!\n",
    "</div>"
   ]
  },
  {
   "cell_type": "markdown",
   "metadata": {
    "id": "BWKRtBJ3_Zct"
   },
   "source": [
    "### Дубликаты\n",
    "Посчитайте явные дубликаты в таблице одной командой:"
   ]
  },
  {
   "cell_type": "code",
   "execution_count": 11,
   "metadata": {
    "id": "36eES_S0_Zct"
   },
   "outputs": [
    {
     "data": {
      "text/plain": [
       "3826"
      ]
     },
     "execution_count": 11,
     "metadata": {},
     "output_type": "execute_result"
    }
   ],
   "source": [
    "# подсчёт явных дубликатов\n",
    "df.duplicated().sum()"
   ]
  },
  {
   "cell_type": "markdown",
   "metadata": {
    "id": "Ot25h6XR_Zct"
   },
   "source": [
    "Вызовите специальный метод `pandas`, чтобы удалить явные дубликаты:"
   ]
  },
  {
   "cell_type": "code",
   "execution_count": 12,
   "metadata": {
    "id": "exFHq6tt_Zct"
   },
   "outputs": [],
   "source": [
    "# удаление явных дубликатов (с удалением старых индексов и формированием новых)\n",
    "df = df.drop_duplicates().reset_index(drop=True)"
   ]
  },
  {
   "cell_type": "markdown",
   "metadata": {
    "id": "Im2YwBEG_Zct"
   },
   "source": [
    "Ещё раз посчитайте явные дубликаты в таблице — убедитесь, что полностью от них избавились:"
   ]
  },
  {
   "cell_type": "code",
   "execution_count": 13,
   "metadata": {
    "id": "-8PuNWQ0_Zct"
   },
   "outputs": [
    {
     "data": {
      "text/plain": [
       "0"
      ]
     },
     "execution_count": 13,
     "metadata": {},
     "output_type": "execute_result"
    }
   ],
   "source": [
    "# проверка на отсутствие дубликатов\n",
    "df.duplicated().sum()"
   ]
  },
  {
   "cell_type": "markdown",
   "metadata": {
    "id": "QlFBsxAr_Zct"
   },
   "source": [
    "Теперь избавьтесь от неявных дубликатов в колонке `genre`. Например, название одного и того же жанра может быть записано немного по-разному. Такие ошибки тоже повлияют на результат исследования."
   ]
  },
  {
   "cell_type": "markdown",
   "metadata": {
    "id": "eSjWwsOh_Zct"
   },
   "source": [
    "Выведите на экран список уникальных названий жанров, отсортированный в алфавитном порядке. Для этого:\n",
    "* извлеките нужный столбец датафрейма, \n",
    "* примените к нему метод сортировки,\n",
    "* для отсортированного столбца вызовите метод, который вернёт уникальные значения из столбца."
   ]
  },
  {
   "cell_type": "code",
   "execution_count": 14,
   "metadata": {
    "id": "JIUcqzZN_Zct"
   },
   "outputs": [
    {
     "data": {
      "text/plain": [
       "array(['acid', 'acoustic', 'action', 'adult', 'africa', 'afrikaans',\n",
       "       'alternative', 'alternativepunk', 'ambient', 'americana',\n",
       "       'animated', 'anime', 'arabesk', 'arabic', 'arena',\n",
       "       'argentinetango', 'art', 'audiobook', 'author', 'avantgarde',\n",
       "       'axé', 'baile', 'balkan', 'beats', 'bigroom', 'black', 'bluegrass',\n",
       "       'blues', 'bollywood', 'bossa', 'brazilian', 'breakbeat', 'breaks',\n",
       "       'broadway', 'cantautori', 'cantopop', 'canzone', 'caribbean',\n",
       "       'caucasian', 'celtic', 'chamber', 'chanson', 'children', 'chill',\n",
       "       'chinese', 'choral', 'christian', 'christmas', 'classical',\n",
       "       'classicmetal', 'club', 'colombian', 'comedy', 'conjazz',\n",
       "       'contemporary', 'country', 'cuban', 'dance', 'dancehall',\n",
       "       'dancepop', 'dark', 'death', 'deep', 'deutschrock', 'deutschspr',\n",
       "       'dirty', 'disco', 'dnb', 'documentary', 'downbeat', 'downtempo',\n",
       "       'drum', 'dub', 'dubstep', 'eastern', 'easy', 'electronic',\n",
       "       'electropop', 'emo', 'entehno', 'epicmetal', 'estrada', 'ethnic',\n",
       "       'eurofolk', 'european', 'experimental', 'extrememetal', 'fado',\n",
       "       'fairytail', 'film', 'fitness', 'flamenco', 'folk', 'folklore',\n",
       "       'folkmetal', 'folkrock', 'folktronica', 'forró', 'frankreich',\n",
       "       'französisch', 'french', 'funk', 'future', 'gangsta', 'garage',\n",
       "       'german', 'ghazal', 'gitarre', 'glitch', 'gospel', 'gothic',\n",
       "       'grime', 'grunge', 'gypsy', 'handsup', \"hard'n'heavy\", 'hardcore',\n",
       "       'hardstyle', 'hardtechno', 'hip', 'hip-hop', 'hiphop',\n",
       "       'historisch', 'holiday', 'hop', 'horror', 'house', 'hymn', 'idm',\n",
       "       'independent', 'indian', 'indie', 'indipop', 'industrial',\n",
       "       'inspirational', 'instrumental', 'international', 'irish', 'jam',\n",
       "       'japanese', 'jazz', 'jewish', 'jpop', 'jungle', 'k-pop',\n",
       "       'karadeniz', 'karaoke', 'kayokyoku', 'korean', 'laiko', 'latin',\n",
       "       'latino', 'leftfield', 'local', 'lounge', 'loungeelectronic',\n",
       "       'lovers', 'malaysian', 'mandopop', 'marschmusik', 'meditative',\n",
       "       'mediterranean', 'melodic', 'metal', 'metalcore', 'mexican',\n",
       "       'middle', 'minimal', 'miscellaneous', 'modern', 'mood', 'mpb',\n",
       "       'muslim', 'native', 'neoklassik', 'neue', 'new', 'newage',\n",
       "       'newwave', 'nu', 'nujazz', 'numetal', 'oceania', 'old', 'opera',\n",
       "       'orchestral', 'other', 'piano', 'podcasts', 'pop', 'popdance',\n",
       "       'popelectronic', 'popeurodance', 'poprussian', 'post',\n",
       "       'posthardcore', 'postrock', 'power', 'progmetal', 'progressive',\n",
       "       'psychedelic', 'punjabi', 'punk', 'quebecois', 'ragga', 'ram',\n",
       "       'rancheras', 'rap', 'rave', 'reggae', 'reggaeton', 'regional',\n",
       "       'relax', 'religious', 'retro', 'rhythm', 'rnb', 'rnr', 'rock',\n",
       "       'rockabilly', 'rockalternative', 'rockindie', 'rockother',\n",
       "       'romance', 'roots', 'ruspop', 'rusrap', 'rusrock', 'russian',\n",
       "       'salsa', 'samba', 'scenic', 'schlager', 'self', 'sertanejo',\n",
       "       'shanson', 'shoegazing', 'showtunes', 'singer', 'ska', 'skarock',\n",
       "       'slow', 'smooth', 'soft', 'soul', 'soulful', 'sound', 'soundtrack',\n",
       "       'southern', 'specialty', 'speech', 'spiritual', 'sport',\n",
       "       'stonerrock', 'surf', 'swing', 'synthpop', 'synthrock',\n",
       "       'sängerportrait', 'tango', 'tanzorchester', 'taraftar', 'tatar',\n",
       "       'tech', 'techno', 'teen', 'thrash', 'top', 'traditional',\n",
       "       'tradjazz', 'trance', 'tribal', 'trip', 'triphop', 'tropical',\n",
       "       'türk', 'türkçe', 'ukrrock', 'unknown', 'urban', 'uzbek',\n",
       "       'variété', 'vi', 'videogame', 'vocal', 'western', 'world',\n",
       "       'worldbeat', 'ïîï', 'электроника'], dtype=object)"
      ]
     },
     "execution_count": 14,
     "metadata": {},
     "output_type": "execute_result"
    }
   ],
   "source": [
    "# Просмотр уникальных названий жанров\n",
    "df['genre'].sort_values().unique()\n"
   ]
  },
  {
   "cell_type": "markdown",
   "metadata": {},
   "source": [
    "<div class=\"alert alert-warning\">\n",
    "<b>⚠️ Комментарий ревьюера:</b> \n",
    "<br>Для сортировки датафрейма, лучше использьзовать метод .sort_values():\n",
    "    \n",
    "    df['genre'].sort_values().unique()\n",
    "</div>"
   ]
  },
  {
   "cell_type": "markdown",
   "metadata": {
    "id": "qej-Qmuo_Zct"
   },
   "source": [
    "Просмотрите список и найдите неявные дубликаты названия `hiphop`. Это могут быть названия с ошибками или альтернативные названия того же жанра.\n",
    "\n",
    "Вы увидите следующие неявные дубликаты:\n",
    "* *hip*,\n",
    "* *hop*,\n",
    "* *hip-hop*.\n",
    "\n",
    "Чтобы очистить от них таблицу, напишите функцию `replace_wrong_genres()` с двумя параметрами: \n",
    "* `wrong_genres` — список дубликатов,\n",
    "* `correct_genre` — строка с правильным значением.\n",
    "\n",
    "Функция должна исправить колонку `genre` в таблице `df`: заменить каждое значение из списка `wrong_genres` на значение из `correct_genre`."
   ]
  },
  {
   "cell_type": "code",
   "execution_count": 15,
   "metadata": {
    "id": "ErNDkmns_Zct"
   },
   "outputs": [],
   "source": [
    "# Функция для замены неявных дубликатов\n",
    "def replace_wrong_genres(wrong_genres, correct_genre):\n",
    "    for wrong_genre in wrong_genres:\n",
    "        df['genre'] = df['genre'].replace(wrong_genre, correct_genre)\n",
    "    return df"
   ]
  },
  {
   "cell_type": "markdown",
   "metadata": {
    "id": "aDoBJxbA_Zct"
   },
   "source": [
    "Вызовите `replace_wrong_genres()` и передайте ей такие аргументы, чтобы она устранила неявные дубликаты: вместо `hip`, `hop` и `hip-hop` в таблице должно быть значение `hiphop`:"
   ]
  },
  {
   "cell_type": "code",
   "execution_count": 16,
   "metadata": {
    "id": "YN5i2hpmSo09"
   },
   "outputs": [
    {
     "data": {
      "text/html": [
       "<div>\n",
       "<style scoped>\n",
       "    .dataframe tbody tr th:only-of-type {\n",
       "        vertical-align: middle;\n",
       "    }\n",
       "\n",
       "    .dataframe tbody tr th {\n",
       "        vertical-align: top;\n",
       "    }\n",
       "\n",
       "    .dataframe thead th {\n",
       "        text-align: right;\n",
       "    }\n",
       "</style>\n",
       "<table border=\"1\" class=\"dataframe\">\n",
       "  <thead>\n",
       "    <tr style=\"text-align: right;\">\n",
       "      <th></th>\n",
       "      <th>user_id</th>\n",
       "      <th>track</th>\n",
       "      <th>artist</th>\n",
       "      <th>genre</th>\n",
       "      <th>city</th>\n",
       "      <th>time</th>\n",
       "      <th>day</th>\n",
       "    </tr>\n",
       "  </thead>\n",
       "  <tbody>\n",
       "    <tr>\n",
       "      <td>0</td>\n",
       "      <td>FFB692EC</td>\n",
       "      <td>Kamigata To Boots</td>\n",
       "      <td>The Mass Missile</td>\n",
       "      <td>rock</td>\n",
       "      <td>Saint-Petersburg</td>\n",
       "      <td>20:28:33</td>\n",
       "      <td>Wednesday</td>\n",
       "    </tr>\n",
       "    <tr>\n",
       "      <td>1</td>\n",
       "      <td>55204538</td>\n",
       "      <td>Delayed Because of Accident</td>\n",
       "      <td>Andreas Rönnberg</td>\n",
       "      <td>rock</td>\n",
       "      <td>Moscow</td>\n",
       "      <td>14:07:09</td>\n",
       "      <td>Friday</td>\n",
       "    </tr>\n",
       "    <tr>\n",
       "      <td>2</td>\n",
       "      <td>20EC38</td>\n",
       "      <td>Funiculì funiculà</td>\n",
       "      <td>Mario Lanza</td>\n",
       "      <td>pop</td>\n",
       "      <td>Saint-Petersburg</td>\n",
       "      <td>20:58:07</td>\n",
       "      <td>Wednesday</td>\n",
       "    </tr>\n",
       "    <tr>\n",
       "      <td>3</td>\n",
       "      <td>A3DD03C9</td>\n",
       "      <td>Dragons in the Sunset</td>\n",
       "      <td>Fire + Ice</td>\n",
       "      <td>folk</td>\n",
       "      <td>Saint-Petersburg</td>\n",
       "      <td>08:37:09</td>\n",
       "      <td>Monday</td>\n",
       "    </tr>\n",
       "    <tr>\n",
       "      <td>4</td>\n",
       "      <td>E2DC1FAE</td>\n",
       "      <td>Soul People</td>\n",
       "      <td>Space Echo</td>\n",
       "      <td>dance</td>\n",
       "      <td>Moscow</td>\n",
       "      <td>08:34:34</td>\n",
       "      <td>Monday</td>\n",
       "    </tr>\n",
       "    <tr>\n",
       "      <td>...</td>\n",
       "      <td>...</td>\n",
       "      <td>...</td>\n",
       "      <td>...</td>\n",
       "      <td>...</td>\n",
       "      <td>...</td>\n",
       "      <td>...</td>\n",
       "      <td>...</td>\n",
       "    </tr>\n",
       "    <tr>\n",
       "      <td>61248</td>\n",
       "      <td>729CBB09</td>\n",
       "      <td>My Name</td>\n",
       "      <td>McLean</td>\n",
       "      <td>rnb</td>\n",
       "      <td>Moscow</td>\n",
       "      <td>13:32:28</td>\n",
       "      <td>Wednesday</td>\n",
       "    </tr>\n",
       "    <tr>\n",
       "      <td>61249</td>\n",
       "      <td>D08D4A55</td>\n",
       "      <td>Maybe One Day (feat. Black Spade)</td>\n",
       "      <td>Blu &amp; Exile</td>\n",
       "      <td>hiphop</td>\n",
       "      <td>Saint-Petersburg</td>\n",
       "      <td>10:00:00</td>\n",
       "      <td>Monday</td>\n",
       "    </tr>\n",
       "    <tr>\n",
       "      <td>61250</td>\n",
       "      <td>C5E3A0D5</td>\n",
       "      <td>Jalopiina</td>\n",
       "      <td>unknown</td>\n",
       "      <td>industrial</td>\n",
       "      <td>Moscow</td>\n",
       "      <td>20:09:26</td>\n",
       "      <td>Friday</td>\n",
       "    </tr>\n",
       "    <tr>\n",
       "      <td>61251</td>\n",
       "      <td>321D0506</td>\n",
       "      <td>Freight Train</td>\n",
       "      <td>Chas McDevitt</td>\n",
       "      <td>rock</td>\n",
       "      <td>Moscow</td>\n",
       "      <td>21:43:59</td>\n",
       "      <td>Friday</td>\n",
       "    </tr>\n",
       "    <tr>\n",
       "      <td>61252</td>\n",
       "      <td>3A64EF84</td>\n",
       "      <td>Tell Me Sweet Little Lies</td>\n",
       "      <td>Monica Lopez</td>\n",
       "      <td>country</td>\n",
       "      <td>Moscow</td>\n",
       "      <td>21:59:46</td>\n",
       "      <td>Friday</td>\n",
       "    </tr>\n",
       "  </tbody>\n",
       "</table>\n",
       "<p>61253 rows × 7 columns</p>\n",
       "</div>"
      ],
      "text/plain": [
       "        user_id                              track            artist  \\\n",
       "0      FFB692EC                  Kamigata To Boots  The Mass Missile   \n",
       "1      55204538        Delayed Because of Accident  Andreas Rönnberg   \n",
       "2        20EC38                  Funiculì funiculà       Mario Lanza   \n",
       "3      A3DD03C9              Dragons in the Sunset        Fire + Ice   \n",
       "4      E2DC1FAE                        Soul People        Space Echo   \n",
       "...         ...                                ...               ...   \n",
       "61248  729CBB09                            My Name            McLean   \n",
       "61249  D08D4A55  Maybe One Day (feat. Black Spade)       Blu & Exile   \n",
       "61250  C5E3A0D5                          Jalopiina           unknown   \n",
       "61251  321D0506                      Freight Train     Chas McDevitt   \n",
       "61252  3A64EF84          Tell Me Sweet Little Lies      Monica Lopez   \n",
       "\n",
       "            genre              city      time        day  \n",
       "0            rock  Saint-Petersburg  20:28:33  Wednesday  \n",
       "1            rock            Moscow  14:07:09     Friday  \n",
       "2             pop  Saint-Petersburg  20:58:07  Wednesday  \n",
       "3            folk  Saint-Petersburg  08:37:09     Monday  \n",
       "4           dance            Moscow  08:34:34     Monday  \n",
       "...           ...               ...       ...        ...  \n",
       "61248         rnb            Moscow  13:32:28  Wednesday  \n",
       "61249      hiphop  Saint-Petersburg  10:00:00     Monday  \n",
       "61250  industrial            Moscow  20:09:26     Friday  \n",
       "61251        rock            Moscow  21:43:59     Friday  \n",
       "61252     country            Moscow  21:59:46     Friday  \n",
       "\n",
       "[61253 rows x 7 columns]"
      ]
     },
     "execution_count": 16,
     "metadata": {},
     "output_type": "execute_result"
    }
   ],
   "source": [
    "# Устранение неявных дубликатов\n",
    "replace_wrong_genres(['hip', 'hop', 'hip-hop'], 'hiphop')"
   ]
  },
  {
   "cell_type": "markdown",
   "metadata": {
    "id": "zQKF16_RG15m"
   },
   "source": [
    "Проверьте, что заменили неправильные названия:\n",
    "\n",
    "*   hip\n",
    "*   hop\n",
    "*   hip-hop\n",
    "\n",
    "Выведите отсортированный список уникальных значений столбца `genre`:"
   ]
  },
  {
   "cell_type": "code",
   "execution_count": 17,
   "metadata": {
    "id": "wvixALnFG15m"
   },
   "outputs": [
    {
     "data": {
      "text/plain": [
       "['acid',\n",
       " 'acoustic',\n",
       " 'action',\n",
       " 'adult',\n",
       " 'africa',\n",
       " 'afrikaans',\n",
       " 'alternative',\n",
       " 'alternativepunk',\n",
       " 'ambient',\n",
       " 'americana',\n",
       " 'animated',\n",
       " 'anime',\n",
       " 'arabesk',\n",
       " 'arabic',\n",
       " 'arena',\n",
       " 'argentinetango',\n",
       " 'art',\n",
       " 'audiobook',\n",
       " 'author',\n",
       " 'avantgarde',\n",
       " 'axé',\n",
       " 'baile',\n",
       " 'balkan',\n",
       " 'beats',\n",
       " 'bigroom',\n",
       " 'black',\n",
       " 'bluegrass',\n",
       " 'blues',\n",
       " 'bollywood',\n",
       " 'bossa',\n",
       " 'brazilian',\n",
       " 'breakbeat',\n",
       " 'breaks',\n",
       " 'broadway',\n",
       " 'cantautori',\n",
       " 'cantopop',\n",
       " 'canzone',\n",
       " 'caribbean',\n",
       " 'caucasian',\n",
       " 'celtic',\n",
       " 'chamber',\n",
       " 'chanson',\n",
       " 'children',\n",
       " 'chill',\n",
       " 'chinese',\n",
       " 'choral',\n",
       " 'christian',\n",
       " 'christmas',\n",
       " 'classical',\n",
       " 'classicmetal',\n",
       " 'club',\n",
       " 'colombian',\n",
       " 'comedy',\n",
       " 'conjazz',\n",
       " 'contemporary',\n",
       " 'country',\n",
       " 'cuban',\n",
       " 'dance',\n",
       " 'dancehall',\n",
       " 'dancepop',\n",
       " 'dark',\n",
       " 'death',\n",
       " 'deep',\n",
       " 'deutschrock',\n",
       " 'deutschspr',\n",
       " 'dirty',\n",
       " 'disco',\n",
       " 'dnb',\n",
       " 'documentary',\n",
       " 'downbeat',\n",
       " 'downtempo',\n",
       " 'drum',\n",
       " 'dub',\n",
       " 'dubstep',\n",
       " 'eastern',\n",
       " 'easy',\n",
       " 'electronic',\n",
       " 'electropop',\n",
       " 'emo',\n",
       " 'entehno',\n",
       " 'epicmetal',\n",
       " 'estrada',\n",
       " 'ethnic',\n",
       " 'eurofolk',\n",
       " 'european',\n",
       " 'experimental',\n",
       " 'extrememetal',\n",
       " 'fado',\n",
       " 'fairytail',\n",
       " 'film',\n",
       " 'fitness',\n",
       " 'flamenco',\n",
       " 'folk',\n",
       " 'folklore',\n",
       " 'folkmetal',\n",
       " 'folkrock',\n",
       " 'folktronica',\n",
       " 'forró',\n",
       " 'frankreich',\n",
       " 'französisch',\n",
       " 'french',\n",
       " 'funk',\n",
       " 'future',\n",
       " 'gangsta',\n",
       " 'garage',\n",
       " 'german',\n",
       " 'ghazal',\n",
       " 'gitarre',\n",
       " 'glitch',\n",
       " 'gospel',\n",
       " 'gothic',\n",
       " 'grime',\n",
       " 'grunge',\n",
       " 'gypsy',\n",
       " 'handsup',\n",
       " \"hard'n'heavy\",\n",
       " 'hardcore',\n",
       " 'hardstyle',\n",
       " 'hardtechno',\n",
       " 'hiphop',\n",
       " 'historisch',\n",
       " 'holiday',\n",
       " 'horror',\n",
       " 'house',\n",
       " 'hymn',\n",
       " 'idm',\n",
       " 'independent',\n",
       " 'indian',\n",
       " 'indie',\n",
       " 'indipop',\n",
       " 'industrial',\n",
       " 'inspirational',\n",
       " 'instrumental',\n",
       " 'international',\n",
       " 'irish',\n",
       " 'jam',\n",
       " 'japanese',\n",
       " 'jazz',\n",
       " 'jewish',\n",
       " 'jpop',\n",
       " 'jungle',\n",
       " 'k-pop',\n",
       " 'karadeniz',\n",
       " 'karaoke',\n",
       " 'kayokyoku',\n",
       " 'korean',\n",
       " 'laiko',\n",
       " 'latin',\n",
       " 'latino',\n",
       " 'leftfield',\n",
       " 'local',\n",
       " 'lounge',\n",
       " 'loungeelectronic',\n",
       " 'lovers',\n",
       " 'malaysian',\n",
       " 'mandopop',\n",
       " 'marschmusik',\n",
       " 'meditative',\n",
       " 'mediterranean',\n",
       " 'melodic',\n",
       " 'metal',\n",
       " 'metalcore',\n",
       " 'mexican',\n",
       " 'middle',\n",
       " 'minimal',\n",
       " 'miscellaneous',\n",
       " 'modern',\n",
       " 'mood',\n",
       " 'mpb',\n",
       " 'muslim',\n",
       " 'native',\n",
       " 'neoklassik',\n",
       " 'neue',\n",
       " 'new',\n",
       " 'newage',\n",
       " 'newwave',\n",
       " 'nu',\n",
       " 'nujazz',\n",
       " 'numetal',\n",
       " 'oceania',\n",
       " 'old',\n",
       " 'opera',\n",
       " 'orchestral',\n",
       " 'other',\n",
       " 'piano',\n",
       " 'podcasts',\n",
       " 'pop',\n",
       " 'popdance',\n",
       " 'popelectronic',\n",
       " 'popeurodance',\n",
       " 'poprussian',\n",
       " 'post',\n",
       " 'posthardcore',\n",
       " 'postrock',\n",
       " 'power',\n",
       " 'progmetal',\n",
       " 'progressive',\n",
       " 'psychedelic',\n",
       " 'punjabi',\n",
       " 'punk',\n",
       " 'quebecois',\n",
       " 'ragga',\n",
       " 'ram',\n",
       " 'rancheras',\n",
       " 'rap',\n",
       " 'rave',\n",
       " 'reggae',\n",
       " 'reggaeton',\n",
       " 'regional',\n",
       " 'relax',\n",
       " 'religious',\n",
       " 'retro',\n",
       " 'rhythm',\n",
       " 'rnb',\n",
       " 'rnr',\n",
       " 'rock',\n",
       " 'rockabilly',\n",
       " 'rockalternative',\n",
       " 'rockindie',\n",
       " 'rockother',\n",
       " 'romance',\n",
       " 'roots',\n",
       " 'ruspop',\n",
       " 'rusrap',\n",
       " 'rusrock',\n",
       " 'russian',\n",
       " 'salsa',\n",
       " 'samba',\n",
       " 'scenic',\n",
       " 'schlager',\n",
       " 'self',\n",
       " 'sertanejo',\n",
       " 'shanson',\n",
       " 'shoegazing',\n",
       " 'showtunes',\n",
       " 'singer',\n",
       " 'ska',\n",
       " 'skarock',\n",
       " 'slow',\n",
       " 'smooth',\n",
       " 'soft',\n",
       " 'soul',\n",
       " 'soulful',\n",
       " 'sound',\n",
       " 'soundtrack',\n",
       " 'southern',\n",
       " 'specialty',\n",
       " 'speech',\n",
       " 'spiritual',\n",
       " 'sport',\n",
       " 'stonerrock',\n",
       " 'surf',\n",
       " 'swing',\n",
       " 'synthpop',\n",
       " 'synthrock',\n",
       " 'sängerportrait',\n",
       " 'tango',\n",
       " 'tanzorchester',\n",
       " 'taraftar',\n",
       " 'tatar',\n",
       " 'tech',\n",
       " 'techno',\n",
       " 'teen',\n",
       " 'thrash',\n",
       " 'top',\n",
       " 'traditional',\n",
       " 'tradjazz',\n",
       " 'trance',\n",
       " 'tribal',\n",
       " 'trip',\n",
       " 'triphop',\n",
       " 'tropical',\n",
       " 'türk',\n",
       " 'türkçe',\n",
       " 'ukrrock',\n",
       " 'unknown',\n",
       " 'urban',\n",
       " 'uzbek',\n",
       " 'variété',\n",
       " 'vi',\n",
       " 'videogame',\n",
       " 'vocal',\n",
       " 'western',\n",
       " 'world',\n",
       " 'worldbeat',\n",
       " 'ïîï',\n",
       " 'электроника']"
      ]
     },
     "execution_count": 17,
     "metadata": {},
     "output_type": "execute_result"
    }
   ],
   "source": [
    "# Проверка на неявные дубликаты\n",
    "sorted(df['genre'].unique())\n"
   ]
  },
  {
   "cell_type": "markdown",
   "metadata": {
    "id": "jz6a9-7HQUDd"
   },
   "source": [
    "**Выводы**\n",
    "\n",
    "Предобработка обнаружила три проблемы в данных:\n",
    "\n",
    "- нарушения в стиле заголовков,\n",
    "- пропущенные значения,\n",
    "- дубликаты — явные и неявные.\n",
    "\n",
    "Вы исправили заголовки, чтобы упростить работу с таблицей. Без дубликатов исследование станет более точным.\n",
    "\n",
    "Пропущенные значения вы заменили на `'unknown'`. Ещё предстоит увидеть, не повредят ли исследованию пропуски в колонке `genre`.\n",
    "\n",
    "Теперь можно перейти к проверке гипотез. "
   ]
  },
  {
   "cell_type": "markdown",
   "metadata": {},
   "source": [
    "<div class=\"alert alert-success\">\n",
    "<b>✔️ Комментарий ревьюера:</b> \n",
    "<br>Супер! От дубликатов избавились)\n",
    "</div>"
   ]
  },
  {
   "cell_type": "markdown",
   "metadata": {
    "id": "WttZHXH0SqKk"
   },
   "source": [
    "## Проверка гипотез"
   ]
  },
  {
   "cell_type": "markdown",
   "metadata": {
    "id": "Im936VVi_Zcu"
   },
   "source": [
    "### Сравнение поведения пользователей двух столиц"
   ]
  },
  {
   "cell_type": "markdown",
   "metadata": {
    "id": "nwt_MuaL_Zcu"
   },
   "source": [
    "Первая гипотеза утверждает, что пользователи по-разному слушают музыку в Москве и Санкт-Петербурге. Проверьте это предположение по данным о трёх днях недели — понедельнике, среде и пятнице. Для этого:\n",
    "\n",
    "* Разделите пользователей Москвы и Санкт-Петербурга\n",
    "* Сравните, сколько треков послушала каждая группа пользователей в понедельник, среду и пятницу.\n"
   ]
  },
  {
   "cell_type": "markdown",
   "metadata": {
    "id": "8Dw_YMmT_Zcu"
   },
   "source": [
    "Для тренировки сначала выполните каждый из расчётов по отдельности. \n",
    "\n",
    "Оцените активность пользователей в каждом городе. Сгруппируйте данные по городу и посчитайте прослушивания в каждой группе.\n",
    "\n"
   ]
  },
  {
   "cell_type": "code",
   "execution_count": 18,
   "metadata": {
    "id": "0_Qs96oh_Zcu"
   },
   "outputs": [
    {
     "data": {
      "text/plain": [
       "city\n",
       "Moscow              42741\n",
       "Saint-Petersburg    18512\n",
       "Name: track, dtype: int64"
      ]
     },
     "execution_count": 18,
     "metadata": {},
     "output_type": "execute_result"
    }
   ],
   "source": [
    "# Подсчёт прослушиваний в каждом городе\n",
    "df.groupby('city')['track'].count()\n"
   ]
  },
  {
   "cell_type": "markdown",
   "metadata": {
    "id": "dzli3w8o_Zcu"
   },
   "source": [
    "В Москве прослушиваний больше, чем в Петербурге. Из этого не следует, что московские пользователи чаще слушают музыку. Просто самих пользователей в Москве больше.\n",
    "\n",
    "Теперь сгруппируйте данные по дню недели и подсчитайте прослушивания в понедельник, среду и пятницу. Учтите, что в данных есть информация только о прослушиваниях только за эти дни.\n"
   ]
  },
  {
   "cell_type": "code",
   "execution_count": 19,
   "metadata": {
    "id": "uZMKjiJz_Zcu"
   },
   "outputs": [
    {
     "data": {
      "text/plain": [
       "day\n",
       "Friday       21840\n",
       "Monday       21354\n",
       "Wednesday    18059\n",
       "Name: track, dtype: int64"
      ]
     },
     "execution_count": 19,
     "metadata": {},
     "output_type": "execute_result"
    }
   ],
   "source": [
    "# Подсчёт прослушиваний в каждый из трёх дней\n",
    "df.groupby('day')['track'].count()"
   ]
  },
  {
   "cell_type": "markdown",
   "metadata": {
    "id": "cC2tNrlL_Zcu"
   },
   "source": [
    "В среднем пользователи из двух городов менее активны по средам. Но картина может измениться, если рассмотреть каждый город в отдельности."
   ]
  },
  {
   "cell_type": "markdown",
   "metadata": {
    "id": "POzs8bGa_Zcu"
   },
   "source": [
    "Вы видели, как работает группировка по городу и по дням недели. Теперь напишите функцию, которая объединит два эти расчёта.\n",
    "\n",
    "Создайте функцию `number_tracks()`, которая посчитает прослушивания для заданного дня и города. Ей понадобятся два параметра:\n",
    "* день недели,\n",
    "* название города.\n",
    "\n",
    "В функции сохраните в переменную строки исходной таблицы, у которых значение:\n",
    "  * в колонке `day` равно параметру `day`,\n",
    "  * в колонке `city` равно параметру `city`.\n",
    "\n",
    "Для этого примените последовательную фильтрацию с логической индексацией.\n",
    "\n",
    "Затем посчитайте значения в столбце `user_id` получившейся таблицы. Результат сохраните в новую переменную. Верните эту переменную из функции."
   ]
  },
  {
   "cell_type": "code",
   "execution_count": 20,
   "metadata": {
    "id": "Nz3GdQB1_Zcu"
   },
   "outputs": [],
   "source": [
    "def number_tracks(day, city):\n",
    "    track_list = df[df['day'] == day]\n",
    "    track_list = track_list[track_list['city'] == city]\n",
    "    track_list_count = track_list['user_id'].count()\n",
    "    return track_list_count\n",
    "# Функция для подсчёта прослушиваний для конкретного города и дня.\n",
    "# С помощью последовательной фильтрации с логической индексацией она \n",
    "# сначала получит из исходной таблицы строки с нужным днём,\n",
    "# затем из результата отфильтрует строки с нужным городом,\n",
    "# методом count() посчитает количество значений в колонке user_id. \n",
    "# Это количество функция вернёт в качестве результата"
   ]
  },
  {
   "cell_type": "markdown",
   "metadata": {
    "id": "ytf7xFrFJQ2r"
   },
   "source": [
    "Вызовите `number_tracks()` шесть раз, меняя значение параметров — так, чтобы получить данные для каждого города в каждый из трёх дней."
   ]
  },
  {
   "cell_type": "code",
   "execution_count": 21,
   "metadata": {
    "id": "rJcRATNQ_Zcu"
   },
   "outputs": [
    {
     "data": {
      "text/plain": [
       "15740"
      ]
     },
     "execution_count": 21,
     "metadata": {},
     "output_type": "execute_result"
    }
   ],
   "source": [
    "# количество прослушиваний в Москве по понедельникам\n",
    "number_tracks('Monday', 'Moscow')"
   ]
  },
  {
   "cell_type": "code",
   "execution_count": 22,
   "metadata": {
    "id": "hq_ncZ5T_Zcu"
   },
   "outputs": [
    {
     "data": {
      "text/plain": [
       "5614"
      ]
     },
     "execution_count": 22,
     "metadata": {},
     "output_type": "execute_result"
    }
   ],
   "source": [
    "# количество прослушиваний в Санкт-Петербурге по понедельникам\n",
    "number_tracks('Monday', 'Saint-Petersburg')"
   ]
  },
  {
   "cell_type": "code",
   "execution_count": 23,
   "metadata": {
    "id": "_NTy2VPU_Zcu"
   },
   "outputs": [
    {
     "data": {
      "text/plain": [
       "11056"
      ]
     },
     "execution_count": 23,
     "metadata": {},
     "output_type": "execute_result"
    }
   ],
   "source": [
    "# количество прослушиваний в Москве по средам\n",
    "number_tracks('Wednesday', 'Moscow')"
   ]
  },
  {
   "cell_type": "code",
   "execution_count": 24,
   "metadata": {
    "id": "j2y3TAwo_Zcu"
   },
   "outputs": [
    {
     "data": {
      "text/plain": [
       "7003"
      ]
     },
     "execution_count": 24,
     "metadata": {},
     "output_type": "execute_result"
    }
   ],
   "source": [
    "# количество прослушиваний в Санкт-Петербурге по средам\n",
    "number_tracks('Wednesday', 'Saint-Petersburg')"
   ]
  },
  {
   "cell_type": "code",
   "execution_count": 25,
   "metadata": {
    "id": "vYDw5u_K_Zcu"
   },
   "outputs": [
    {
     "data": {
      "text/plain": [
       "15945"
      ]
     },
     "execution_count": 25,
     "metadata": {},
     "output_type": "execute_result"
    }
   ],
   "source": [
    "# количество прослушиваний в Москве по пятницам\n",
    "number_tracks('Friday', 'Moscow')"
   ]
  },
  {
   "cell_type": "code",
   "execution_count": 26,
   "metadata": {
    "id": "8_yzFtW3_Zcu"
   },
   "outputs": [
    {
     "data": {
      "text/plain": [
       "5895"
      ]
     },
     "execution_count": 26,
     "metadata": {},
     "output_type": "execute_result"
    }
   ],
   "source": [
    "# количество прослушиваний в Санкт-Петербурге по пятницам\n",
    "number_tracks('Friday', 'Saint-Petersburg')"
   ]
  },
  {
   "cell_type": "markdown",
   "metadata": {
    "id": "7QXffbO-_Zcu"
   },
   "source": [
    "Создайте c помощью конструктора `pd.DataFrame` таблицу, где\n",
    "* названия колонок — `['city', 'monday', 'wednesday', 'friday']`;\n",
    "* данные — результаты, которые вы получили с помощью `number_tracks`."
   ]
  },
  {
   "cell_type": "code",
   "execution_count": 27,
   "metadata": {
    "id": "APAcLpOr_Zcu"
   },
   "outputs": [
    {
     "data": {
      "text/html": [
       "<div>\n",
       "<style scoped>\n",
       "    .dataframe tbody tr th:only-of-type {\n",
       "        vertical-align: middle;\n",
       "    }\n",
       "\n",
       "    .dataframe tbody tr th {\n",
       "        vertical-align: top;\n",
       "    }\n",
       "\n",
       "    .dataframe thead th {\n",
       "        text-align: right;\n",
       "    }\n",
       "</style>\n",
       "<table border=\"1\" class=\"dataframe\">\n",
       "  <thead>\n",
       "    <tr style=\"text-align: right;\">\n",
       "      <th></th>\n",
       "      <th>city</th>\n",
       "      <th>monday</th>\n",
       "      <th>wednesday</th>\n",
       "      <th>friday</th>\n",
       "    </tr>\n",
       "  </thead>\n",
       "  <tbody>\n",
       "    <tr>\n",
       "      <td>0</td>\n",
       "      <td>Moscow</td>\n",
       "      <td>15740</td>\n",
       "      <td>11056</td>\n",
       "      <td>15945</td>\n",
       "    </tr>\n",
       "    <tr>\n",
       "      <td>1</td>\n",
       "      <td>Saint-Petersburg</td>\n",
       "      <td>5614</td>\n",
       "      <td>7003</td>\n",
       "      <td>5895</td>\n",
       "    </tr>\n",
       "  </tbody>\n",
       "</table>\n",
       "</div>"
      ],
      "text/plain": [
       "               city  monday  wednesday  friday\n",
       "0            Moscow   15740      11056   15945\n",
       "1  Saint-Petersburg    5614       7003    5895"
      ]
     },
     "metadata": {},
     "output_type": "display_data"
    }
   ],
   "source": [
    "# Таблица с результатами\n",
    "columns = ['city', 'monday', 'wednesday', 'friday']\n",
    "data = [['Moscow', 15740, 11056, 15945],\n",
    "        ['Saint-Petersburg', 5614, 7003, 5895]\n",
    "    ]\n",
    "result = pd.DataFrame(data=data, columns=columns)\n",
    "display(result)"
   ]
  },
  {
   "cell_type": "markdown",
   "metadata": {},
   "source": [
    "<div class=\"alert alert-success\">\n",
    "<b>✔️ Комментарий ревьюера:</b> \n",
    "<br>Датафрейм построен верно. Молодец!\n",
    "</div>\n",
    "\n",
    "<div class=\"alert alert-warning\">\n",
    "<b>⚠️ Комментарий ревьюера:</b> \n",
    "<br>Альтернативное решение:\n",
    "    \n",
    "    info = pd.DataFrame(data=[['Москва', 15740, 11056, 15945], ['Санкт-Петербург', 5614, 7003, 5895]], columns=['city', 'monday', 'wednesday', 'friday'])\n",
    "</div>"
   ]
  },
  {
   "cell_type": "markdown",
   "metadata": {
    "id": "-EgPIHYu_Zcu"
   },
   "source": [
    "**Выводы**\n",
    "\n",
    "Данные показывают разницу поведения пользователей:\n",
    "\n",
    "- В Москве пик прослушиваний приходится на понедельник и пятницу, а в среду заметен спад.\n",
    "- В Петербурге, наоборот, больше слушают музыку по средам. Активность в понедельник и пятницу здесь почти в равной мере уступает среде.\n",
    "\n",
    "Значит, данные говорят в пользу первой гипотезы."
   ]
  },
  {
   "cell_type": "markdown",
   "metadata": {
    "id": "atZAxtq4_Zcu"
   },
   "source": [
    "### Музыка в начале и в конце недели"
   ]
  },
  {
   "cell_type": "markdown",
   "metadata": {
    "id": "eXrQqXFH_Zcu"
   },
   "source": [
    "Согласно второй гипотезе, утром в понедельник в Москве преобладают одни жанры, а в Петербурге — другие. Так же и вечером пятницы преобладают разные жанры — в зависимости от города."
   ]
  },
  {
   "cell_type": "markdown",
   "metadata": {
    "id": "S8UcW6Hw_Zcu"
   },
   "source": [
    "Сохраните таблицы с данными в две переменные:\n",
    "* по Москве — в `moscow_general`;\n",
    "* по Санкт-Петербургу — в `spb_general`."
   ]
  },
  {
   "cell_type": "code",
   "execution_count": 28,
   "metadata": {
    "id": "qeaFfM_P_Zcu"
   },
   "outputs": [],
   "source": [
    "# получение таблицы moscow_general из тех строк таблицы df, \n",
    "# для которых значение в столбце 'city' равно 'Moscow'\n",
    "moscow_general = df[df['city'] == 'Moscow']"
   ]
  },
  {
   "cell_type": "code",
   "execution_count": 29,
   "metadata": {
    "id": "ORaVRKto_Zcu"
   },
   "outputs": [],
   "source": [
    "# получение таблицы spb_general из тех строк таблицы df,\n",
    "# для которых значение в столбце 'city' равно 'Saint-Petersburg'\n",
    "spb_general = df[df['city'] =='Saint-Petersburg']"
   ]
  },
  {
   "cell_type": "markdown",
   "metadata": {
    "id": "MEJV-CX2_Zcu"
   },
   "source": [
    "Создайте функцию `genre_weekday()` с четырьмя параметрами:\n",
    "* таблица (датафрейм) с данными,\n",
    "* день недели,\n",
    "* начальная временная метка в формате 'hh:mm', \n",
    "* последняя временная метка в формате 'hh:mm'.\n",
    "\n",
    "Функция должна вернуть информацию о топ-10 жанров тех треков, которые прослушивали в указанный день, в промежутке между двумя отметками времени."
   ]
  },
  {
   "cell_type": "code",
   "execution_count": 30,
   "metadata": {
    "id": "laJT9BYl_Zcu"
   },
   "outputs": [],
   "source": [
    "def genre_weekday(table, day, time1, time2):\n",
    "    genre_df = table[table['day'] == day]\n",
    "    genre_df = genre_df[genre_df['time'] > time1]\n",
    "    genre_df = genre_df[genre_df['time'] < time2]\n",
    "    genre_df_count = genre_df.groupby('genre')['user_id'].count()\n",
    "    genre_df_sorted = genre_df_count.sort_values(ascending=False)\n",
    "    return  genre_df_sorted.head(10)\n",
    "# Объявление функции genre_weekday() с параметрами table, day, time1, time2,\n",
    "# которая возвращает информацию о самых популярных жанрах в указанный день в\n",
    "# заданное время:\n",
    "# 1) в переменную genre_df сохраняются те строки переданного датафрейма table, для\n",
    "#    которых одновременно:\n",
    "#    - значение в столбце day равно значению аргумента day\n",
    "#    - значение в столбце time больше значения аргумента time1\n",
    "#    - значение в столбце time меньше значения аргумента time2\n",
    "#    Используйте последовательную фильтрацию с помощью логической индексации.\n",
    "# 2) сгруппировать датафрейм genre_df по столбцу genre, взять один из его\n",
    "#    столбцов и посчитать методом count() количество записей для каждого из\n",
    "#    присутствующих жанров, получившийся Series записать в переменную\n",
    "#    genre_df_count\n",
    "# 3) отсортировать genre_df_count по убыванию встречаемости и сохранить\n",
    "#    в переменную genre_df_sorted\n",
    "# 4) вернуть Series из 10 первых значений genre_df_sorted, это будут топ-10\n",
    "#    популярных жанров (в указанный день, в заданное время)"
   ]
  },
  {
   "cell_type": "markdown",
   "metadata": {},
   "source": [
    "<div class=\"alert alert-success\">\n",
    "<b>✔️ Комментарий ревьюера: </b> \n",
    "<br>Замечательно! Здесь тоже все верно.\n",
    "</div>\n",
    "\n",
    "<div class=\"alert alert-warning\">\n",
    "<b>⚠️ Комментарий ревьюера:</b> \n",
    "<br>Как можно это сделать другим способом:\n",
    "<br>1. В одну строку: \n",
    "    \n",
    "    genre_df = table[(table['day'] == day) & (table['time'] > time1) & (table['time'] < time2)]\n",
    "<br>2. Через метод query(): \n",
    "\n",
    "    genre_df = table.query('@day==day and @time1 < time < @time2')\n",
    "<br>Метод query вы будете изучать в следующем спринте, а пока про него можно почитать в документации pandas:\n",
    "\n",
    "\thttps://pandas.pydata.org/docs/reference/api/pandas.DataFrame.query.html\n",
    "</div>"
   ]
  },
  {
   "cell_type": "markdown",
   "metadata": {
    "id": "la2s2_PF_Zcu"
   },
   "source": [
    "Cравните результаты функции `genre_weekday()` для Москвы и Санкт-Петербурга в понедельник утром (с 7:00 до 11:00) и в пятницу вечером (с 17:00 до 23:00):"
   ]
  },
  {
   "cell_type": "code",
   "execution_count": 31,
   "metadata": {
    "id": "yz7itPUQ_Zcu"
   },
   "outputs": [
    {
     "data": {
      "text/plain": [
       "genre\n",
       "pop            781\n",
       "dance          549\n",
       "electronic     480\n",
       "rock           474\n",
       "hiphop         286\n",
       "ruspop         186\n",
       "world          181\n",
       "rusrap         175\n",
       "alternative    164\n",
       "unknown        161\n",
       "Name: user_id, dtype: int64"
      ]
     },
     "execution_count": 31,
     "metadata": {},
     "output_type": "execute_result"
    }
   ],
   "source": [
    "# вызов функции для утра понедельника в Москве (вместо df — таблица moscow_general)\n",
    "# объекты, хранящие время, являются строками и сравниваются как строки\n",
    "# пример вызова: genre_weekday(moscow_general, 'Monday', '07:00', '11:00')\n",
    "genre_weekday(moscow_general, 'Monday', '07:00', '11:00')"
   ]
  },
  {
   "cell_type": "code",
   "execution_count": 32,
   "metadata": {
    "id": "kwUcHPdy_Zcu"
   },
   "outputs": [
    {
     "data": {
      "text/plain": [
       "genre\n",
       "pop            218\n",
       "dance          182\n",
       "rock           162\n",
       "electronic     147\n",
       "hiphop          80\n",
       "ruspop          64\n",
       "alternative     58\n",
       "rusrap          55\n",
       "jazz            44\n",
       "classical       40\n",
       "Name: user_id, dtype: int64"
      ]
     },
     "execution_count": 32,
     "metadata": {},
     "output_type": "execute_result"
    }
   ],
   "source": [
    "# вызов функции для утра понедельника в Петербурге (вместо df — таблица spb_general)\n",
    "genre_weekday(spb_general, 'Monday', '07:00', '11:00')"
   ]
  },
  {
   "cell_type": "code",
   "execution_count": 33,
   "metadata": {
    "id": "EzXVRE1o_Zcu"
   },
   "outputs": [
    {
     "data": {
      "text/plain": [
       "genre\n",
       "pop            713\n",
       "rock           517\n",
       "dance          495\n",
       "electronic     482\n",
       "hiphop         273\n",
       "world          208\n",
       "ruspop         170\n",
       "alternative    163\n",
       "classical      163\n",
       "rusrap         142\n",
       "Name: user_id, dtype: int64"
      ]
     },
     "execution_count": 33,
     "metadata": {},
     "output_type": "execute_result"
    }
   ],
   "source": [
    "# вызов функции для вечера пятницы в Москве\n",
    "genre_weekday(moscow_general, 'Friday', '17:00', '23:00')"
   ]
  },
  {
   "cell_type": "code",
   "execution_count": 34,
   "metadata": {
    "id": "JZaEKu5v_Zcu"
   },
   "outputs": [
    {
     "data": {
      "text/plain": [
       "genre\n",
       "pop            256\n",
       "rock           216\n",
       "electronic     216\n",
       "dance          210\n",
       "hiphop          97\n",
       "alternative     63\n",
       "jazz            61\n",
       "classical       60\n",
       "rusrap          59\n",
       "world           54\n",
       "Name: user_id, dtype: int64"
      ]
     },
     "execution_count": 34,
     "metadata": {},
     "output_type": "execute_result"
    }
   ],
   "source": [
    "# вызов функции для вечера пятницы в Петербурге\n",
    "genre_weekday(spb_general, 'Friday', '17:00', '23:00')"
   ]
  },
  {
   "cell_type": "markdown",
   "metadata": {},
   "source": [
    "<div class=\"alert alert-danger\">\n",
    "<b>❌ Комментарий ревьюера:</b> \n",
    "<br>В пятницу нас интересует промежуток времени с 17 до 23. Поправь, пожалуйста)\n",
    "</div>"
   ]
  },
  {
   "cell_type": "markdown",
   "metadata": {},
   "source": [
    "<div class=\"alert alert-success\">\n",
    "<b>✔️ Комментарий ревьюера v2:</b>\n",
    "<br>Отлично! Теперь всё верно)\n",
    "</div>"
   ]
  },
  {
   "cell_type": "markdown",
   "metadata": {
    "id": "wrCe4MNX_Zcu"
   },
   "source": [
    "**Выводы**\n",
    "\n",
    "Если сравнить топ-10 жанров в понедельник утром, можно сделать такие выводы:\n",
    "\n",
    "1. В Москве и Петербурге слушают похожую музыку. Единственное отличие — в московский рейтинг вошёл жанр “world”, а в петербургский — джаз и классика.\n",
    "\n",
    "2. В Москве пропущенных значений оказалось так много, что значение `'unknown'` заняло десятое место среди самых популярных жанров. Значит, пропущенные значения занимают существенную долю в данных и угрожают достоверности исследования.\n",
    "\n",
    "Вечер пятницы не меняет эту картину. Некоторые жанры поднимаются немного выше, другие спускаются, но в целом топ-10 остаётся тем же самым.\n",
    "\n",
    "Таким образом, вторая гипотеза подтвердилась лишь частично:\n",
    "* Пользователи слушают похожую музыку в начале недели и в конце.\n",
    "* Разница между Москвой и Петербургом не слишком выражена. В Москве чаще слушают русскую популярную музыку, в Петербурге — джаз.\n",
    "\n",
    "Однако пропуски в данных ставят под сомнение этот результат. В Москве их так много, что рейтинг топ-10 мог бы выглядеть иначе, если бы не утерянные  данные о жанрах."
   ]
  },
  {
   "cell_type": "markdown",
   "metadata": {
    "id": "JolODAqr_Zcu"
   },
   "source": [
    "### Жанровые предпочтения в Москве и Петербурге\n",
    "\n",
    "Гипотеза: Петербург — столица рэпа, музыку этого жанра там слушают чаще, чем в Москве.  А Москва — город контрастов, в котором, тем не менее, преобладает поп-музыка."
   ]
  },
  {
   "cell_type": "markdown",
   "metadata": {
    "id": "DlegSvaT_Zcu"
   },
   "source": [
    "Сгруппируйте таблицу `moscow_general` по жанру и посчитайте прослушивания треков каждого жанра методом `count()`. Затем отсортируйте результат в порядке убывания и сохраните его в таблице `moscow_genres`."
   ]
  },
  {
   "cell_type": "code",
   "execution_count": 35,
   "metadata": {
    "id": "r19lIPke_Zcu"
   },
   "outputs": [],
   "source": [
    "# одной строкой: группировка таблицы moscow_general по столбцу 'genre', \n",
    "# подсчёт числа значений 'genre' в этой группировке методом count(), \n",
    "# сортировка получившегося Series в порядке убывания и сохранение в moscow_genres\n",
    "moscow_genres = moscow_general.groupby('genre')['track'].count().sort_values(ascending=False)"
   ]
  },
  {
   "cell_type": "markdown",
   "metadata": {
    "id": "6kMuomxTiIr8"
   },
   "source": [
    "Выведите на экран первые десять строк `moscow_genres`:"
   ]
  },
  {
   "cell_type": "code",
   "execution_count": 36,
   "metadata": {
    "id": "WhCSooF8_Zcv"
   },
   "outputs": [
    {
     "data": {
      "text/plain": [
       "genre\n",
       "pop            5892\n",
       "dance          4435\n",
       "rock           3965\n",
       "electronic     3786\n",
       "hiphop         2096\n",
       "classical      1616\n",
       "world          1432\n",
       "alternative    1379\n",
       "ruspop         1372\n",
       "rusrap         1161\n",
       "Name: track, dtype: int64"
      ]
     },
     "execution_count": 36,
     "metadata": {},
     "output_type": "execute_result"
    }
   ],
   "source": [
    "# просмотр первых 10 строк moscow_genres\n",
    "moscow_genres.head(10)"
   ]
  },
  {
   "cell_type": "markdown",
   "metadata": {
    "id": "cnPG2vnN_Zcv"
   },
   "source": [
    "Теперь повторите то же и для Петербурга.\n",
    "\n",
    "Сгруппируйте таблицу `spb_general` по жанру. Посчитайте прослушивания треков каждого жанра. Результат отсортируйте в порядке убывания и сохраните в таблице `spb_genres`:\n"
   ]
  },
  {
   "cell_type": "code",
   "execution_count": 37,
   "metadata": {
    "id": "gluLIpE7_Zcv"
   },
   "outputs": [],
   "source": [
    "# одной строкой: группировка таблицы spb_general по столбцу 'genre', \n",
    "# подсчёт числа значений 'genre' в этой группировке методом count(), \n",
    "# сортировка получившегося Series в порядке убывания и сохранение в spb_genres\n",
    "spb_general = spb_general.groupby('genre')['track'].count().sort_values(ascending=False)"
   ]
  },
  {
   "cell_type": "markdown",
   "metadata": {
    "id": "5Doha_ODgyQ8"
   },
   "source": [
    "Выведите на экран первые десять строк `spb_genres`:"
   ]
  },
  {
   "cell_type": "code",
   "execution_count": 38,
   "metadata": {
    "id": "uaGJHjVU_Zcv"
   },
   "outputs": [
    {
     "data": {
      "text/plain": [
       "genre\n",
       "pop            2431\n",
       "dance          1932\n",
       "rock           1879\n",
       "electronic     1736\n",
       "hiphop          960\n",
       "alternative     649\n",
       "classical       646\n",
       "rusrap          564\n",
       "ruspop          538\n",
       "world           515\n",
       "Name: track, dtype: int64"
      ]
     },
     "execution_count": 38,
     "metadata": {},
     "output_type": "execute_result"
    }
   ],
   "source": [
    "# просмотр первых 10 строк spb_genres\n",
    "spb_general.head(10)"
   ]
  },
  {
   "cell_type": "markdown",
   "metadata": {
    "id": "RY51YJYu_Zcv"
   },
   "source": [
    "**Выводы**"
   ]
  },
  {
   "cell_type": "markdown",
   "metadata": {
    "id": "nVhnJEm__Zcv"
   },
   "source": [
    "Гипотеза частично подтвердилась:\n",
    "* Поп-музыка — самый популярный жанр в Москве, как и предполагала гипотеза. Более того, в топ-10 жанров встречается близкий жанр — русская популярная музыка.\n",
    "* Вопреки ожиданиям, рэп одинаково популярен в Москве и Петербурге. \n"
   ]
  },
  {
   "cell_type": "markdown",
   "metadata": {},
   "source": [
    "<div class=\"alert alert-success\">\n",
    "<b>✔️ Комментарий ревьюера:</b> \n",
    "<br>Отлично, с жанровыми предпочтениями тоже разобрались.\n",
    "</div>"
   ]
  },
  {
   "cell_type": "markdown",
   "metadata": {
    "id": "ykKQ0N65_Zcv"
   },
   "source": [
    "## Итоги исследования"
   ]
  },
  {
   "cell_type": "markdown",
   "metadata": {
    "id": "tjUwbHb3_Zcv"
   },
   "source": [
    "Вы проверили три гипотезы и установили:\n",
    "\n",
    "1. День недели по-разному влияет на активность пользователей в Москве и Петербурге. \n",
    "\n",
    "Первая гипотеза полностью подтвердилась.\n",
    "\n",
    "2. Музыкальные предпочтения не сильно меняются в течение недели — будь то Москва или Петербург. Небольшие различия заметны в начале недели, по понедельникам:\n",
    "* в Москве слушают музыку жанра “world”,\n",
    "* в Петербурге — джаз и классику.\n",
    "\n",
    "Таким образом, вторая гипотеза подтвердилась лишь отчасти. Этот результат мог оказаться иным, если бы не пропуски в данных.\n",
    "\n",
    "3. Во вкусах пользователей Москвы и Петербурга больше общего чем различий. Вопреки ожиданиям, предпочтения жанров в Петербурге напоминают московские.\n",
    "\n",
    "Третья гипотеза не подтвердилась. Если различия в предпочтениях и существуют, на основной массе пользователей они незаметны.\n",
    "\n",
    "**На практике исследования содержат проверки статистических гипотез.**\n",
    "Из данных одного сервиса не всегда можно сделать вывод о всех жителях города.\n",
    "Проверки статистических гипотез покажут, насколько они достоверны, исходя из имеющихся данных. \n",
    "С методами проверок гипотез вы ещё познакомитесь в следующих темах."
   ]
  },
  {
   "cell_type": "markdown",
   "metadata": {},
   "source": [
    "<div class=\"alert alert-danger\">\n",
    "<b>❌ Итоговый комментарий ревьюера:</b> \n",
    "<br>Ты хорошо потрудился, большая часть работы сделана, но остаётся внести следующие правки:\n",
    "<br>- Корректно выбрать время\n",
    "</div>"
   ]
  },
  {
   "cell_type": "markdown",
   "metadata": {},
   "source": [
    "<div class=\"alert alert-success\">\n",
    "<b>✔️ Итоговый комментарий ревьюера v2:</b>\n",
    "<br>У тебя отличная работа! Все правки выполнены ✅ \n",
    "<br>Ты продемонстрировал владение базовыми методами pandas, которые очень пригодятся тебе в будущих проектах. Желаю удачи в дальнейшем обучении! 😉\n",
    "</div>"
   ]
  }
 ],
 "metadata": {
  "ExecuteTimeLog": [
   {
    "duration": 586,
    "start_time": "2022-01-28T15:34:57.423Z"
   },
   {
    "duration": 3,
    "start_time": "2022-01-28T15:35:01.242Z"
   },
   {
    "duration": 2,
    "start_time": "2022-01-28T15:35:32.383Z"
   },
   {
    "duration": 118,
    "start_time": "2022-01-28T15:39:18.925Z"
   },
   {
    "duration": 15,
    "start_time": "2022-01-28T15:40:31.706Z"
   },
   {
    "duration": 23,
    "start_time": "2022-01-28T15:41:21.368Z"
   },
   {
    "duration": 431,
    "start_time": "2022-01-28T16:21:26.530Z"
   },
   {
    "duration": 4,
    "start_time": "2022-01-28T16:21:37.507Z"
   },
   {
    "duration": 4,
    "start_time": "2022-01-28T16:21:39.802Z"
   },
   {
    "duration": 4,
    "start_time": "2022-01-28T16:23:36.706Z"
   },
   {
    "duration": 27,
    "start_time": "2022-01-28T16:23:45.022Z"
   },
   {
    "duration": 25,
    "start_time": "2022-01-28T16:23:47.004Z"
   },
   {
    "duration": 30,
    "start_time": "2022-01-28T16:23:53.139Z"
   },
   {
    "duration": 3,
    "start_time": "2022-01-28T16:24:00.493Z"
   },
   {
    "duration": 410,
    "start_time": "2022-01-28T16:25:12.950Z"
   },
   {
    "duration": 17,
    "start_time": "2022-01-28T16:25:20.078Z"
   },
   {
    "duration": 4,
    "start_time": "2022-01-28T16:25:21.468Z"
   },
   {
    "duration": 15,
    "start_time": "2022-01-28T16:25:25.142Z"
   },
   {
    "duration": 4,
    "start_time": "2022-01-28T16:25:26.140Z"
   },
   {
    "duration": 21,
    "start_time": "2022-01-28T16:56:10.106Z"
   },
   {
    "duration": 21,
    "start_time": "2022-01-28T16:58:03.565Z"
   },
   {
    "duration": 644,
    "start_time": "2022-01-28T17:00:21.905Z"
   },
   {
    "duration": 119,
    "start_time": "2022-01-28T17:00:22.550Z"
   },
   {
    "duration": 15,
    "start_time": "2022-01-28T17:00:22.671Z"
   },
   {
    "duration": 26,
    "start_time": "2022-01-28T17:00:22.687Z"
   },
   {
    "duration": 13,
    "start_time": "2022-01-28T17:00:22.714Z"
   },
   {
    "duration": 16,
    "start_time": "2022-01-28T17:00:22.728Z"
   },
   {
    "duration": 6,
    "start_time": "2022-01-28T17:00:22.746Z"
   },
   {
    "duration": 21,
    "start_time": "2022-01-28T17:00:22.753Z"
   },
   {
    "duration": 2,
    "start_time": "2022-01-28T17:00:22.776Z"
   },
   {
    "duration": 5,
    "start_time": "2022-01-28T17:00:22.780Z"
   },
   {
    "duration": 5,
    "start_time": "2022-01-28T17:00:22.787Z"
   },
   {
    "duration": 4,
    "start_time": "2022-01-28T17:00:22.793Z"
   },
   {
    "duration": 4,
    "start_time": "2022-01-28T17:00:22.799Z"
   },
   {
    "duration": 26,
    "start_time": "2022-01-28T17:00:22.804Z"
   },
   {
    "duration": 4,
    "start_time": "2022-01-28T17:00:22.832Z"
   },
   {
    "duration": 5,
    "start_time": "2022-01-28T17:00:22.837Z"
   },
   {
    "duration": 4,
    "start_time": "2022-01-28T17:00:22.843Z"
   },
   {
    "duration": 5,
    "start_time": "2022-01-28T17:00:22.848Z"
   },
   {
    "duration": 4,
    "start_time": "2022-01-28T17:00:22.854Z"
   },
   {
    "duration": 3,
    "start_time": "2022-01-28T17:00:22.860Z"
   },
   {
    "duration": 5,
    "start_time": "2022-01-28T17:00:22.865Z"
   },
   {
    "duration": 4,
    "start_time": "2022-01-28T17:00:22.871Z"
   },
   {
    "duration": 3,
    "start_time": "2022-01-28T17:00:22.877Z"
   },
   {
    "duration": 4,
    "start_time": "2022-01-28T17:00:22.882Z"
   },
   {
    "duration": 4,
    "start_time": "2022-01-28T17:00:22.887Z"
   },
   {
    "duration": 7,
    "start_time": "2022-01-28T17:00:22.892Z"
   },
   {
    "duration": 3,
    "start_time": "2022-01-28T17:00:22.901Z"
   },
   {
    "duration": 21,
    "start_time": "2022-01-28T17:00:22.906Z"
   },
   {
    "duration": 2,
    "start_time": "2022-01-28T17:00:22.928Z"
   },
   {
    "duration": 5,
    "start_time": "2022-01-28T17:00:22.931Z"
   },
   {
    "duration": 5,
    "start_time": "2022-01-28T17:00:22.937Z"
   },
   {
    "duration": 5,
    "start_time": "2022-01-28T17:00:22.943Z"
   },
   {
    "duration": 6,
    "start_time": "2022-01-28T17:00:22.949Z"
   },
   {
    "duration": 4,
    "start_time": "2022-01-28T17:00:22.956Z"
   },
   {
    "duration": 4,
    "start_time": "2022-01-28T17:00:22.962Z"
   },
   {
    "duration": 5,
    "start_time": "2022-01-28T17:00:22.967Z"
   },
   {
    "duration": 4,
    "start_time": "2022-01-28T17:00:22.973Z"
   },
   {
    "duration": 4,
    "start_time": "2022-01-28T17:00:22.978Z"
   },
   {
    "duration": 15,
    "start_time": "2022-01-28T17:17:10.289Z"
   },
   {
    "duration": 20,
    "start_time": "2022-01-28T17:17:35.764Z"
   },
   {
    "duration": 30,
    "start_time": "2022-01-28T17:18:13.500Z"
   },
   {
    "duration": 21,
    "start_time": "2022-01-28T17:18:24.331Z"
   },
   {
    "duration": 51,
    "start_time": "2022-01-28T17:18:49.662Z"
   },
   {
    "duration": 49,
    "start_time": "2022-01-28T17:38:22.737Z"
   },
   {
    "duration": 431,
    "start_time": "2022-01-28T17:38:25.593Z"
   },
   {
    "duration": 59,
    "start_time": "2022-01-28T17:38:43.735Z"
   },
   {
    "duration": 49,
    "start_time": "2022-01-28T17:38:45.070Z"
   },
   {
    "duration": 341,
    "start_time": "2022-01-28T17:39:49.691Z"
   },
   {
    "duration": 1185,
    "start_time": "2022-01-28T17:40:03.777Z"
   },
   {
    "duration": 33,
    "start_time": "2022-01-28T17:40:34.415Z"
   },
   {
    "duration": 35,
    "start_time": "2022-01-28T18:55:23.963Z"
   },
   {
    "duration": 36,
    "start_time": "2022-01-28T18:55:38.316Z"
   },
   {
    "duration": 10,
    "start_time": "2022-01-28T19:01:25.026Z"
   },
   {
    "duration": 9,
    "start_time": "2022-01-28T19:01:55.530Z"
   },
   {
    "duration": 36,
    "start_time": "2022-01-28T19:02:38.562Z"
   },
   {
    "duration": 316,
    "start_time": "2022-01-28T19:19:07.221Z"
   },
   {
    "duration": 3,
    "start_time": "2022-01-28T19:19:22.874Z"
   },
   {
    "duration": 342,
    "start_time": "2022-01-28T19:19:23.756Z"
   },
   {
    "duration": 665,
    "start_time": "2022-01-28T19:19:33.087Z"
   },
   {
    "duration": 3,
    "start_time": "2022-01-28T19:23:58.714Z"
   },
   {
    "duration": 16,
    "start_time": "2022-01-28T19:24:00.389Z"
   },
   {
    "duration": 17,
    "start_time": "2022-01-28T19:24:26.273Z"
   },
   {
    "duration": 41,
    "start_time": "2022-01-28T19:24:42.844Z"
   },
   {
    "duration": 16,
    "start_time": "2022-01-28T19:25:15.169Z"
   },
   {
    "duration": 8,
    "start_time": "2022-01-28T19:25:41.781Z"
   },
   {
    "duration": 9,
    "start_time": "2022-01-28T19:26:04.925Z"
   },
   {
    "duration": 8,
    "start_time": "2022-01-28T19:26:06.673Z"
   },
   {
    "duration": 3,
    "start_time": "2022-01-28T19:26:13.517Z"
   },
   {
    "duration": 16,
    "start_time": "2022-01-28T19:26:17.244Z"
   },
   {
    "duration": 2,
    "start_time": "2022-01-28T19:26:24.702Z"
   },
   {
    "duration": 121,
    "start_time": "2022-01-28T19:26:24.706Z"
   },
   {
    "duration": 9,
    "start_time": "2022-01-28T19:26:24.830Z"
   },
   {
    "duration": 21,
    "start_time": "2022-01-28T19:26:24.840Z"
   },
   {
    "duration": 3,
    "start_time": "2022-01-28T19:26:24.863Z"
   },
   {
    "duration": 17,
    "start_time": "2022-01-28T19:26:24.867Z"
   },
   {
    "duration": 3,
    "start_time": "2022-01-28T19:26:24.886Z"
   },
   {
    "duration": 53,
    "start_time": "2022-01-28T19:26:24.891Z"
   },
   {
    "duration": 14,
    "start_time": "2022-01-28T19:26:24.946Z"
   },
   {
    "duration": 18,
    "start_time": "2022-01-28T19:26:24.962Z"
   },
   {
    "duration": 66,
    "start_time": "2022-01-28T19:26:24.981Z"
   },
   {
    "duration": 51,
    "start_time": "2022-01-28T19:26:25.048Z"
   },
   {
    "duration": 55,
    "start_time": "2022-01-28T19:26:25.100Z"
   },
   {
    "duration": 8,
    "start_time": "2022-01-28T19:26:25.156Z"
   },
   {
    "duration": 3,
    "start_time": "2022-01-28T19:26:25.165Z"
   },
   {
    "duration": 19,
    "start_time": "2022-01-28T19:26:25.169Z"
   },
   {
    "duration": 2,
    "start_time": "2022-01-28T19:26:25.189Z"
   },
   {
    "duration": 5,
    "start_time": "2022-01-28T19:26:25.192Z"
   },
   {
    "duration": 3,
    "start_time": "2022-01-28T19:26:25.199Z"
   },
   {
    "duration": 2,
    "start_time": "2022-01-28T19:26:25.227Z"
   },
   {
    "duration": 6,
    "start_time": "2022-01-28T19:26:25.231Z"
   },
   {
    "duration": 4,
    "start_time": "2022-01-28T19:26:25.239Z"
   },
   {
    "duration": 5,
    "start_time": "2022-01-28T19:26:25.244Z"
   },
   {
    "duration": 4,
    "start_time": "2022-01-28T19:26:25.250Z"
   },
   {
    "duration": 4,
    "start_time": "2022-01-28T19:26:25.256Z"
   },
   {
    "duration": 6,
    "start_time": "2022-01-28T19:26:25.261Z"
   },
   {
    "duration": 4,
    "start_time": "2022-01-28T19:26:25.269Z"
   },
   {
    "duration": 3,
    "start_time": "2022-01-28T19:26:25.275Z"
   },
   {
    "duration": 3,
    "start_time": "2022-01-28T19:26:25.280Z"
   },
   {
    "duration": 3,
    "start_time": "2022-01-28T19:26:25.285Z"
   },
   {
    "duration": 5,
    "start_time": "2022-01-28T19:26:25.290Z"
   },
   {
    "duration": 5,
    "start_time": "2022-01-28T19:26:25.296Z"
   },
   {
    "duration": 8,
    "start_time": "2022-01-28T19:26:25.302Z"
   },
   {
    "duration": 6,
    "start_time": "2022-01-28T19:26:25.312Z"
   },
   {
    "duration": 3,
    "start_time": "2022-01-28T19:26:25.327Z"
   },
   {
    "duration": 5,
    "start_time": "2022-01-28T19:26:25.331Z"
   },
   {
    "duration": 4,
    "start_time": "2022-01-28T19:26:25.337Z"
   },
   {
    "duration": 5,
    "start_time": "2022-01-28T19:26:25.342Z"
   },
   {
    "duration": 9,
    "start_time": "2022-01-28T19:26:36.571Z"
   },
   {
    "duration": 350,
    "start_time": "2022-01-28T19:27:28.460Z"
   },
   {
    "duration": 309,
    "start_time": "2022-01-28T19:27:39.424Z"
   },
   {
    "duration": 572,
    "start_time": "2022-01-28T19:29:50.369Z"
   },
   {
    "duration": 139,
    "start_time": "2022-01-28T19:29:50.944Z"
   },
   {
    "duration": 16,
    "start_time": "2022-01-28T19:29:51.085Z"
   },
   {
    "duration": 29,
    "start_time": "2022-01-28T19:29:51.103Z"
   },
   {
    "duration": 6,
    "start_time": "2022-01-28T19:29:51.133Z"
   },
   {
    "duration": 24,
    "start_time": "2022-01-28T19:29:51.140Z"
   },
   {
    "duration": 8,
    "start_time": "2022-01-28T19:29:51.166Z"
   },
   {
    "duration": 39,
    "start_time": "2022-01-28T19:29:51.177Z"
   },
   {
    "duration": 20,
    "start_time": "2022-01-28T19:29:51.218Z"
   },
   {
    "duration": 20,
    "start_time": "2022-01-28T19:29:51.239Z"
   },
   {
    "duration": 55,
    "start_time": "2022-01-28T19:29:51.260Z"
   },
   {
    "duration": 73,
    "start_time": "2022-01-28T19:29:51.316Z"
   },
   {
    "duration": 58,
    "start_time": "2022-01-28T19:29:51.390Z"
   },
   {
    "duration": 9,
    "start_time": "2022-01-28T19:29:54.421Z"
   },
   {
    "duration": 2,
    "start_time": "2022-01-28T19:30:09.467Z"
   },
   {
    "duration": 124,
    "start_time": "2022-01-28T19:30:09.472Z"
   },
   {
    "duration": 9,
    "start_time": "2022-01-28T19:30:09.598Z"
   },
   {
    "duration": 34,
    "start_time": "2022-01-28T19:30:09.609Z"
   },
   {
    "duration": 4,
    "start_time": "2022-01-28T19:30:09.645Z"
   },
   {
    "duration": 14,
    "start_time": "2022-01-28T19:30:09.650Z"
   },
   {
    "duration": 4,
    "start_time": "2022-01-28T19:30:09.666Z"
   },
   {
    "duration": 27,
    "start_time": "2022-01-28T19:30:09.671Z"
   },
   {
    "duration": 38,
    "start_time": "2022-01-28T19:30:09.699Z"
   },
   {
    "duration": 19,
    "start_time": "2022-01-28T19:30:09.739Z"
   },
   {
    "duration": 48,
    "start_time": "2022-01-28T19:30:09.760Z"
   },
   {
    "duration": 69,
    "start_time": "2022-01-28T19:30:09.810Z"
   },
   {
    "duration": 52,
    "start_time": "2022-01-28T19:30:09.881Z"
   },
   {
    "duration": 10,
    "start_time": "2022-01-28T19:30:09.935Z"
   },
   {
    "duration": 3,
    "start_time": "2022-01-28T19:30:09.946Z"
   },
   {
    "duration": 25,
    "start_time": "2022-01-28T19:30:09.951Z"
   },
   {
    "duration": 8,
    "start_time": "2022-01-28T19:30:23.771Z"
   },
   {
    "duration": 1133,
    "start_time": "2022-01-28T19:36:04.080Z"
   },
   {
    "duration": 808,
    "start_time": "2022-01-28T19:36:08.588Z"
   },
   {
    "duration": 844,
    "start_time": "2022-01-28T19:36:10.748Z"
   },
   {
    "duration": 11,
    "start_time": "2022-01-28T19:36:18.398Z"
   },
   {
    "duration": 1689,
    "start_time": "2022-01-28T19:37:46.253Z"
   },
   {
    "duration": 19,
    "start_time": "2022-01-28T19:38:04.558Z"
   },
   {
    "duration": 11,
    "start_time": "2022-01-28T19:39:07.568Z"
   },
   {
    "duration": 10,
    "start_time": "2022-01-28T19:40:09.563Z"
   },
   {
    "duration": 315,
    "start_time": "2022-01-28T19:48:29.088Z"
   },
   {
    "duration": 3,
    "start_time": "2022-01-28T19:48:59.643Z"
   },
   {
    "duration": 14,
    "start_time": "2022-01-28T19:49:06.438Z"
   },
   {
    "duration": 14,
    "start_time": "2022-01-28T19:50:51.113Z"
   },
   {
    "duration": 14,
    "start_time": "2022-01-28T19:50:52.625Z"
   },
   {
    "duration": 14,
    "start_time": "2022-01-28T19:50:53.773Z"
   },
   {
    "duration": 15,
    "start_time": "2022-01-28T19:50:54.650Z"
   },
   {
    "duration": 14,
    "start_time": "2022-01-28T19:50:55.639Z"
   },
   {
    "duration": 4,
    "start_time": "2022-01-28T19:57:26.869Z"
   },
   {
    "duration": 4,
    "start_time": "2022-01-28T19:57:31.367Z"
   },
   {
    "duration": 7,
    "start_time": "2022-01-28T19:57:41.769Z"
   },
   {
    "duration": 4,
    "start_time": "2022-01-28T19:58:57.766Z"
   },
   {
    "duration": 7,
    "start_time": "2022-01-28T19:59:18.079Z"
   },
   {
    "duration": 8,
    "start_time": "2022-01-28T19:59:25.667Z"
   },
   {
    "duration": 8,
    "start_time": "2022-01-28T19:59:26.901Z"
   },
   {
    "duration": 6,
    "start_time": "2022-01-28T19:59:33.704Z"
   },
   {
    "duration": 8,
    "start_time": "2022-01-28T19:59:38.285Z"
   },
   {
    "duration": 18,
    "start_time": "2022-01-28T20:03:05.889Z"
   },
   {
    "duration": 16,
    "start_time": "2022-01-28T20:03:44.995Z"
   },
   {
    "duration": 15,
    "start_time": "2022-01-28T20:04:17.075Z"
   },
   {
    "duration": 16,
    "start_time": "2022-01-28T20:04:19.504Z"
   },
   {
    "duration": 16,
    "start_time": "2022-01-28T20:04:20.936Z"
   },
   {
    "duration": 29,
    "start_time": "2022-01-28T20:04:26.721Z"
   },
   {
    "duration": 10,
    "start_time": "2022-01-28T20:04:46.442Z"
   },
   {
    "duration": 8,
    "start_time": "2022-01-28T20:04:49.205Z"
   },
   {
    "duration": 355,
    "start_time": "2022-01-28T20:33:35.620Z"
   },
   {
    "duration": 4,
    "start_time": "2022-01-28T20:33:50.676Z"
   },
   {
    "duration": 637,
    "start_time": "2022-01-28T20:33:52.498Z"
   },
   {
    "duration": 4,
    "start_time": "2022-01-28T20:34:14.191Z"
   },
   {
    "duration": 17,
    "start_time": "2022-01-28T20:34:18.072Z"
   },
   {
    "duration": 12,
    "start_time": "2022-01-28T20:34:39.406Z"
   },
   {
    "duration": 504,
    "start_time": "2022-01-28T20:35:42.931Z"
   },
   {
    "duration": 397,
    "start_time": "2022-01-28T20:35:48.191Z"
   },
   {
    "duration": 16,
    "start_time": "2022-01-28T20:35:55.934Z"
   },
   {
    "duration": 12,
    "start_time": "2022-01-28T20:35:58.904Z"
   },
   {
    "duration": 10,
    "start_time": "2022-01-28T21:01:16.532Z"
   },
   {
    "duration": 11,
    "start_time": "2022-01-28T21:03:28.221Z"
   },
   {
    "duration": 332,
    "start_time": "2022-01-28T21:04:51.641Z"
   },
   {
    "duration": 11,
    "start_time": "2022-01-28T21:04:58.798Z"
   },
   {
    "duration": 326,
    "start_time": "2022-01-28T21:05:27.622Z"
   },
   {
    "duration": 9,
    "start_time": "2022-01-28T21:05:33.103Z"
   },
   {
    "duration": 5,
    "start_time": "2022-01-28T21:05:35.636Z"
   },
   {
    "duration": 312,
    "start_time": "2022-01-28T21:06:08.631Z"
   },
   {
    "duration": 8,
    "start_time": "2022-01-28T21:06:13.585Z"
   },
   {
    "duration": 4,
    "start_time": "2022-01-28T21:06:26.806Z"
   },
   {
    "duration": 562,
    "start_time": "2022-01-28T21:07:42.845Z"
   },
   {
    "duration": 118,
    "start_time": "2022-01-28T21:07:43.409Z"
   },
   {
    "duration": 14,
    "start_time": "2022-01-28T21:07:43.529Z"
   },
   {
    "duration": 22,
    "start_time": "2022-01-28T21:07:43.545Z"
   },
   {
    "duration": 3,
    "start_time": "2022-01-28T21:07:43.568Z"
   },
   {
    "duration": 16,
    "start_time": "2022-01-28T21:07:43.573Z"
   },
   {
    "duration": 3,
    "start_time": "2022-01-28T21:07:43.591Z"
   },
   {
    "duration": 48,
    "start_time": "2022-01-28T21:07:43.596Z"
   },
   {
    "duration": 15,
    "start_time": "2022-01-28T21:07:43.646Z"
   },
   {
    "duration": 19,
    "start_time": "2022-01-28T21:07:43.662Z"
   },
   {
    "duration": 66,
    "start_time": "2022-01-28T21:07:43.682Z"
   },
   {
    "duration": 60,
    "start_time": "2022-01-28T21:07:43.749Z"
   },
   {
    "duration": 52,
    "start_time": "2022-01-28T21:07:43.810Z"
   },
   {
    "duration": 9,
    "start_time": "2022-01-28T21:07:43.864Z"
   },
   {
    "duration": 2,
    "start_time": "2022-01-28T21:07:43.875Z"
   },
   {
    "duration": 18,
    "start_time": "2022-01-28T21:07:43.879Z"
   },
   {
    "duration": 7,
    "start_time": "2022-01-28T21:07:43.899Z"
   },
   {
    "duration": 10,
    "start_time": "2022-01-28T21:07:43.927Z"
   },
   {
    "duration": 9,
    "start_time": "2022-01-28T21:07:43.938Z"
   },
   {
    "duration": 2,
    "start_time": "2022-01-28T21:07:43.949Z"
   },
   {
    "duration": 22,
    "start_time": "2022-01-28T21:07:43.952Z"
   },
   {
    "duration": 12,
    "start_time": "2022-01-28T21:07:43.976Z"
   },
   {
    "duration": 38,
    "start_time": "2022-01-28T21:07:43.990Z"
   },
   {
    "duration": 13,
    "start_time": "2022-01-28T21:07:44.030Z"
   },
   {
    "duration": 14,
    "start_time": "2022-01-28T21:07:44.044Z"
   },
   {
    "duration": 13,
    "start_time": "2022-01-28T21:07:44.059Z"
   },
   {
    "duration": 7,
    "start_time": "2022-01-28T21:07:44.074Z"
   },
   {
    "duration": 45,
    "start_time": "2022-01-28T21:07:44.082Z"
   },
   {
    "duration": 8,
    "start_time": "2022-01-28T21:07:44.129Z"
   },
   {
    "duration": 3,
    "start_time": "2022-01-28T21:07:44.139Z"
   },
   {
    "duration": 30,
    "start_time": "2022-01-28T21:07:44.144Z"
   },
   {
    "duration": 14,
    "start_time": "2022-01-28T21:07:44.175Z"
   },
   {
    "duration": 38,
    "start_time": "2022-01-28T21:07:44.190Z"
   },
   {
    "duration": 10,
    "start_time": "2022-01-28T21:07:44.229Z"
   },
   {
    "duration": 7,
    "start_time": "2022-01-28T21:07:44.241Z"
   },
   {
    "duration": 6,
    "start_time": "2022-01-28T21:07:44.250Z"
   },
   {
    "duration": 8,
    "start_time": "2022-01-28T21:07:44.258Z"
   },
   {
    "duration": 4,
    "start_time": "2022-01-28T21:07:44.268Z"
   },
   {
    "duration": 782,
    "start_time": "2022-02-07T04:33:08.013Z"
   },
   {
    "duration": 192,
    "start_time": "2022-02-07T04:33:08.798Z"
   },
   {
    "duration": 27,
    "start_time": "2022-02-07T04:33:08.993Z"
   },
   {
    "duration": 55,
    "start_time": "2022-02-07T04:33:09.023Z"
   },
   {
    "duration": 7,
    "start_time": "2022-02-07T04:33:09.081Z"
   },
   {
    "duration": 62,
    "start_time": "2022-02-07T04:33:09.091Z"
   },
   {
    "duration": 7,
    "start_time": "2022-02-07T04:33:09.156Z"
   },
   {
    "duration": 30,
    "start_time": "2022-02-07T04:33:09.170Z"
   },
   {
    "duration": 59,
    "start_time": "2022-02-07T04:33:09.204Z"
   },
   {
    "duration": 31,
    "start_time": "2022-02-07T04:33:09.266Z"
   },
   {
    "duration": 103,
    "start_time": "2022-02-07T04:33:09.300Z"
   },
   {
    "duration": 113,
    "start_time": "2022-02-07T04:33:09.406Z"
   },
   {
    "duration": 86,
    "start_time": "2022-02-07T04:33:09.521Z"
   },
   {
    "duration": 13,
    "start_time": "2022-02-07T04:33:09.609Z"
   },
   {
    "duration": 4,
    "start_time": "2022-02-07T04:33:09.625Z"
   },
   {
    "duration": 45,
    "start_time": "2022-02-07T04:33:09.631Z"
   },
   {
    "duration": 13,
    "start_time": "2022-02-07T04:33:09.678Z"
   },
   {
    "duration": 15,
    "start_time": "2022-02-07T04:33:09.694Z"
   },
   {
    "duration": 52,
    "start_time": "2022-02-07T04:33:09.711Z"
   },
   {
    "duration": 4,
    "start_time": "2022-02-07T04:33:09.766Z"
   },
   {
    "duration": 24,
    "start_time": "2022-02-07T04:33:09.772Z"
   },
   {
    "duration": 56,
    "start_time": "2022-02-07T04:33:09.798Z"
   },
   {
    "duration": 18,
    "start_time": "2022-02-07T04:33:09.859Z"
   },
   {
    "duration": 19,
    "start_time": "2022-02-07T04:33:09.880Z"
   },
   {
    "duration": 47,
    "start_time": "2022-02-07T04:33:09.901Z"
   },
   {
    "duration": 20,
    "start_time": "2022-02-07T04:33:09.951Z"
   },
   {
    "duration": 12,
    "start_time": "2022-02-07T04:33:09.974Z"
   },
   {
    "duration": 17,
    "start_time": "2022-02-07T04:33:09.988Z"
   },
   {
    "duration": 41,
    "start_time": "2022-02-07T04:33:10.007Z"
   },
   {
    "duration": 6,
    "start_time": "2022-02-07T04:33:10.051Z"
   },
   {
    "duration": 38,
    "start_time": "2022-02-07T04:33:10.059Z"
   },
   {
    "duration": 16,
    "start_time": "2022-02-07T04:33:10.099Z"
   },
   {
    "duration": 46,
    "start_time": "2022-02-07T04:33:10.117Z"
   },
   {
    "duration": 16,
    "start_time": "2022-02-07T04:33:10.166Z"
   },
   {
    "duration": 13,
    "start_time": "2022-02-07T04:33:10.184Z"
   },
   {
    "duration": 6,
    "start_time": "2022-02-07T04:33:10.199Z"
   },
   {
    "duration": 45,
    "start_time": "2022-02-07T04:33:10.207Z"
   },
   {
    "duration": 6,
    "start_time": "2022-02-07T04:33:10.255Z"
   },
   {
    "duration": 610,
    "start_time": "2022-02-07T06:27:33.037Z"
   },
   {
    "duration": 870,
    "start_time": "2022-02-07T06:27:59.416Z"
   },
   {
    "duration": 187,
    "start_time": "2022-02-07T06:28:00.288Z"
   },
   {
    "duration": 26,
    "start_time": "2022-02-07T06:28:00.478Z"
   },
   {
    "duration": 55,
    "start_time": "2022-02-07T06:28:00.507Z"
   },
   {
    "duration": 12,
    "start_time": "2022-02-07T06:28:00.564Z"
   },
   {
    "duration": 36,
    "start_time": "2022-02-07T06:28:00.579Z"
   },
   {
    "duration": 26,
    "start_time": "2022-02-07T06:28:00.618Z"
   },
   {
    "duration": 68,
    "start_time": "2022-02-07T06:28:00.646Z"
   },
   {
    "duration": 28,
    "start_time": "2022-02-07T06:28:00.720Z"
   },
   {
    "duration": 35,
    "start_time": "2022-02-07T06:28:00.751Z"
   },
   {
    "duration": 106,
    "start_time": "2022-02-07T06:28:00.790Z"
   },
   {
    "duration": 108,
    "start_time": "2022-02-07T06:28:00.899Z"
   },
   {
    "duration": 80,
    "start_time": "2022-02-07T06:28:01.010Z"
   },
   {
    "duration": 13,
    "start_time": "2022-02-07T06:28:01.092Z"
   },
   {
    "duration": 7,
    "start_time": "2022-02-07T06:28:01.107Z"
   },
   {
    "duration": 52,
    "start_time": "2022-02-07T06:28:01.116Z"
   },
   {
    "duration": 17,
    "start_time": "2022-02-07T06:28:01.170Z"
   },
   {
    "duration": 23,
    "start_time": "2022-02-07T06:28:01.189Z"
   },
   {
    "duration": 35,
    "start_time": "2022-02-07T06:28:01.215Z"
   },
   {
    "duration": 6,
    "start_time": "2022-02-07T06:28:01.252Z"
   },
   {
    "duration": 25,
    "start_time": "2022-02-07T06:32:40.509Z"
   },
   {
    "duration": 14584,
    "start_time": "2022-02-07T06:35:01.994Z"
   },
   {
    "duration": 15479,
    "start_time": "2022-02-07T06:35:25.785Z"
   },
   {
    "duration": 8647,
    "start_time": "2022-02-07T06:37:47.967Z"
   },
   {
    "duration": 23,
    "start_time": "2022-02-07T06:38:17.213Z"
   },
   {
    "duration": 311,
    "start_time": "2022-02-07T17:58:18.964Z"
   },
   {
    "duration": 635,
    "start_time": "2022-02-07T17:58:30.234Z"
   },
   {
    "duration": 151,
    "start_time": "2022-02-07T17:58:30.871Z"
   },
   {
    "duration": 18,
    "start_time": "2022-02-07T17:58:31.024Z"
   },
   {
    "duration": 33,
    "start_time": "2022-02-07T17:58:31.044Z"
   },
   {
    "duration": 7,
    "start_time": "2022-02-07T17:58:31.079Z"
   },
   {
    "duration": 34,
    "start_time": "2022-02-07T17:58:31.088Z"
   },
   {
    "duration": 8,
    "start_time": "2022-02-07T17:58:31.123Z"
   },
   {
    "duration": 33,
    "start_time": "2022-02-07T17:58:31.133Z"
   },
   {
    "duration": 31,
    "start_time": "2022-02-07T17:58:31.168Z"
   },
   {
    "duration": 24,
    "start_time": "2022-02-07T17:58:31.201Z"
   },
   {
    "duration": 73,
    "start_time": "2022-02-07T17:58:31.227Z"
   },
   {
    "duration": 76,
    "start_time": "2022-02-07T17:58:31.302Z"
   },
   {
    "duration": 63,
    "start_time": "2022-02-07T17:58:31.379Z"
   },
   {
    "duration": 10,
    "start_time": "2022-02-07T17:58:31.444Z"
   },
   {
    "duration": 3,
    "start_time": "2022-02-07T17:58:31.455Z"
   },
   {
    "duration": 47,
    "start_time": "2022-02-07T17:58:31.460Z"
   },
   {
    "duration": 9,
    "start_time": "2022-02-07T17:58:31.509Z"
   },
   {
    "duration": 13,
    "start_time": "2022-02-07T17:58:31.520Z"
   },
   {
    "duration": 11,
    "start_time": "2022-02-07T17:58:31.535Z"
   },
   {
    "duration": 3,
    "start_time": "2022-02-07T17:58:31.548Z"
   },
   {
    "duration": 52,
    "start_time": "2022-02-07T17:58:31.553Z"
   },
   {
    "duration": 14,
    "start_time": "2022-02-07T17:58:31.607Z"
   },
   {
    "duration": 14,
    "start_time": "2022-02-07T17:58:31.625Z"
   },
   {
    "duration": 16,
    "start_time": "2022-02-07T17:58:31.641Z"
   },
   {
    "duration": 48,
    "start_time": "2022-02-07T17:58:31.659Z"
   },
   {
    "duration": 15,
    "start_time": "2022-02-07T17:58:31.709Z"
   },
   {
    "duration": 9,
    "start_time": "2022-02-07T17:58:31.726Z"
   },
   {
    "duration": 14,
    "start_time": "2022-02-07T17:58:31.737Z"
   },
   {
    "duration": 10,
    "start_time": "2022-02-07T17:58:31.753Z"
   },
   {
    "duration": 35,
    "start_time": "2022-02-07T17:58:31.765Z"
   },
   {
    "duration": 38,
    "start_time": "2022-02-07T17:58:31.802Z"
   },
   {
    "duration": 15,
    "start_time": "2022-02-07T17:58:31.841Z"
   },
   {
    "duration": 21,
    "start_time": "2022-02-07T17:58:31.858Z"
   },
   {
    "duration": 27,
    "start_time": "2022-02-07T17:58:31.881Z"
   },
   {
    "duration": 9,
    "start_time": "2022-02-07T17:58:31.910Z"
   },
   {
    "duration": 4,
    "start_time": "2022-02-07T17:58:31.921Z"
   },
   {
    "duration": 20,
    "start_time": "2022-02-07T17:58:31.926Z"
   },
   {
    "duration": 7,
    "start_time": "2022-02-07T17:58:31.948Z"
   },
   {
    "duration": 45,
    "start_time": "2022-02-07T18:00:05.375Z"
   },
   {
    "duration": 11,
    "start_time": "2022-02-07T18:00:14.773Z"
   },
   {
    "duration": 45,
    "start_time": "2022-02-07T18:00:17.486Z"
   },
   {
    "duration": 92,
    "start_time": "2022-02-07T18:01:00.206Z"
   },
   {
    "duration": 82,
    "start_time": "2022-02-07T18:03:36.626Z"
   },
   {
    "duration": -328,
    "start_time": "2022-02-07T18:08:22.782Z"
   },
   {
    "duration": -317,
    "start_time": "2022-02-07T18:08:31.274Z"
   },
   {
    "duration": -315,
    "start_time": "2022-02-07T18:08:31.274Z"
   },
   {
    "duration": 598,
    "start_time": "2022-02-07T18:08:39.853Z"
   },
   {
    "duration": 148,
    "start_time": "2022-02-07T18:08:40.453Z"
   },
   {
    "duration": 16,
    "start_time": "2022-02-07T18:08:40.603Z"
   },
   {
    "duration": 28,
    "start_time": "2022-02-07T18:08:40.621Z"
   },
   {
    "duration": 4,
    "start_time": "2022-02-07T18:08:40.650Z"
   },
   {
    "duration": 44,
    "start_time": "2022-02-07T18:08:40.655Z"
   },
   {
    "duration": 4,
    "start_time": "2022-02-07T18:08:40.701Z"
   },
   {
    "duration": 27,
    "start_time": "2022-02-07T18:08:40.707Z"
   },
   {
    "duration": 18,
    "start_time": "2022-02-07T18:08:40.736Z"
   },
   {
    "duration": 43,
    "start_time": "2022-02-07T18:08:40.756Z"
   },
   {
    "duration": 61,
    "start_time": "2022-02-07T18:08:40.801Z"
   },
   {
    "duration": 83,
    "start_time": "2022-02-07T18:08:40.864Z"
   },
   {
    "duration": 58,
    "start_time": "2022-02-07T18:08:40.949Z"
   },
   {
    "duration": 45,
    "start_time": "2022-02-07T18:08:41.010Z"
   },
   {
    "duration": 4,
    "start_time": "2022-02-07T18:08:41.057Z"
   },
   {
    "duration": 45,
    "start_time": "2022-02-07T18:08:41.063Z"
   },
   {
    "duration": 11,
    "start_time": "2022-02-07T18:08:41.110Z"
   },
   {
    "duration": 13,
    "start_time": "2022-02-07T18:08:41.122Z"
   },
   {
    "duration": 12,
    "start_time": "2022-02-07T18:08:41.137Z"
   },
   {
    "duration": 4,
    "start_time": "2022-02-07T18:08:41.151Z"
   },
   {
    "duration": 57,
    "start_time": "2022-02-07T18:08:41.157Z"
   },
   {
    "duration": 16,
    "start_time": "2022-02-07T18:08:41.216Z"
   },
   {
    "duration": 16,
    "start_time": "2022-02-07T18:08:41.237Z"
   },
   {
    "duration": 46,
    "start_time": "2022-02-07T18:08:41.256Z"
   },
   {
    "duration": 19,
    "start_time": "2022-02-07T18:08:41.304Z"
   },
   {
    "duration": 16,
    "start_time": "2022-02-07T18:08:41.324Z"
   },
   {
    "duration": 8,
    "start_time": "2022-02-07T18:08:41.342Z"
   },
   {
    "duration": 14,
    "start_time": "2022-02-07T18:08:41.352Z"
   },
   {
    "duration": 38,
    "start_time": "2022-02-07T18:08:41.368Z"
   },
   {
    "duration": 4,
    "start_time": "2022-02-07T18:08:41.408Z"
   },
   {
    "duration": 30,
    "start_time": "2022-02-07T18:08:41.414Z"
   },
   {
    "duration": 12,
    "start_time": "2022-02-07T18:08:41.446Z"
   },
   {
    "duration": 22,
    "start_time": "2022-02-07T18:08:41.460Z"
   },
   {
    "duration": 14,
    "start_time": "2022-02-07T18:08:41.499Z"
   },
   {
    "duration": 9,
    "start_time": "2022-02-07T18:08:41.515Z"
   },
   {
    "duration": 5,
    "start_time": "2022-02-07T18:08:41.526Z"
   },
   {
    "duration": 13,
    "start_time": "2022-02-07T18:08:41.532Z"
   },
   {
    "duration": 4,
    "start_time": "2022-02-07T18:08:41.547Z"
   },
   {
    "duration": 613,
    "start_time": "2022-02-07T18:09:55.014Z"
   },
   {
    "duration": 150,
    "start_time": "2022-02-07T18:09:55.629Z"
   },
   {
    "duration": 18,
    "start_time": "2022-02-07T18:09:55.781Z"
   },
   {
    "duration": 28,
    "start_time": "2022-02-07T18:09:55.801Z"
   },
   {
    "duration": 3,
    "start_time": "2022-02-07T18:09:55.831Z"
   },
   {
    "duration": 23,
    "start_time": "2022-02-07T18:09:55.836Z"
   },
   {
    "duration": 9,
    "start_time": "2022-02-07T18:09:55.861Z"
   },
   {
    "duration": 42,
    "start_time": "2022-02-07T18:09:55.873Z"
   },
   {
    "duration": 17,
    "start_time": "2022-02-07T18:09:55.917Z"
   },
   {
    "duration": 23,
    "start_time": "2022-02-07T18:09:55.936Z"
   },
   {
    "duration": 93,
    "start_time": "2022-02-07T18:09:55.960Z"
   },
   {
    "duration": 85,
    "start_time": "2022-02-07T18:09:56.054Z"
   },
   {
    "duration": 59,
    "start_time": "2022-02-07T18:09:56.142Z"
   },
   {
    "duration": 42,
    "start_time": "2022-02-07T18:09:56.203Z"
   },
   {
    "duration": 3,
    "start_time": "2022-02-07T18:09:56.247Z"
   },
   {
    "duration": 24,
    "start_time": "2022-02-07T18:09:56.251Z"
   },
   {
    "duration": 29,
    "start_time": "2022-02-07T18:09:56.277Z"
   },
   {
    "duration": 14,
    "start_time": "2022-02-07T18:09:56.308Z"
   },
   {
    "duration": 13,
    "start_time": "2022-02-07T18:09:56.324Z"
   },
   {
    "duration": 4,
    "start_time": "2022-02-07T18:09:56.339Z"
   },
   {
    "duration": 60,
    "start_time": "2022-02-07T18:09:56.345Z"
   },
   {
    "duration": 18,
    "start_time": "2022-02-07T18:09:56.408Z"
   },
   {
    "duration": 17,
    "start_time": "2022-02-07T18:09:56.430Z"
   },
   {
    "duration": 50,
    "start_time": "2022-02-07T18:09:56.450Z"
   },
   {
    "duration": 20,
    "start_time": "2022-02-07T18:09:56.502Z"
   },
   {
    "duration": 17,
    "start_time": "2022-02-07T18:09:56.524Z"
   },
   {
    "duration": 9,
    "start_time": "2022-02-07T18:09:56.543Z"
   },
   {
    "duration": 44,
    "start_time": "2022-02-07T18:09:56.554Z"
   },
   {
    "duration": 9,
    "start_time": "2022-02-07T18:09:56.601Z"
   },
   {
    "duration": 4,
    "start_time": "2022-02-07T18:09:56.612Z"
   },
   {
    "duration": 25,
    "start_time": "2022-02-07T18:09:56.617Z"
   },
   {
    "duration": 13,
    "start_time": "2022-02-07T18:09:56.644Z"
   },
   {
    "duration": 44,
    "start_time": "2022-02-07T18:09:56.658Z"
   },
   {
    "duration": 13,
    "start_time": "2022-02-07T18:09:56.704Z"
   },
   {
    "duration": 9,
    "start_time": "2022-02-07T18:09:56.719Z"
   },
   {
    "duration": 4,
    "start_time": "2022-02-07T18:09:56.730Z"
   },
   {
    "duration": 11,
    "start_time": "2022-02-07T18:09:56.736Z"
   },
   {
    "duration": 5,
    "start_time": "2022-02-07T18:09:56.748Z"
   },
   {
    "duration": 616,
    "start_time": "2022-02-07T18:11:40.019Z"
   },
   {
    "duration": 152,
    "start_time": "2022-02-07T18:11:40.637Z"
   },
   {
    "duration": 23,
    "start_time": "2022-02-07T18:11:40.791Z"
   },
   {
    "duration": 25,
    "start_time": "2022-02-07T18:11:40.816Z"
   },
   {
    "duration": 4,
    "start_time": "2022-02-07T18:11:40.843Z"
   },
   {
    "duration": 24,
    "start_time": "2022-02-07T18:11:40.848Z"
   },
   {
    "duration": 4,
    "start_time": "2022-02-07T18:11:40.898Z"
   },
   {
    "duration": 29,
    "start_time": "2022-02-07T18:11:40.903Z"
   },
   {
    "duration": 21,
    "start_time": "2022-02-07T18:11:40.935Z"
   },
   {
    "duration": 42,
    "start_time": "2022-02-07T18:11:40.958Z"
   },
   {
    "duration": 61,
    "start_time": "2022-02-07T18:11:41.002Z"
   },
   {
    "duration": 86,
    "start_time": "2022-02-07T18:11:41.065Z"
   },
   {
    "duration": 61,
    "start_time": "2022-02-07T18:11:41.153Z"
   },
   {
    "duration": 42,
    "start_time": "2022-02-07T18:11:41.216Z"
   },
   {
    "duration": 3,
    "start_time": "2022-02-07T18:11:41.260Z"
   },
   {
    "duration": 35,
    "start_time": "2022-02-07T18:11:41.264Z"
   },
   {
    "duration": 9,
    "start_time": "2022-02-07T18:11:41.301Z"
   },
   {
    "duration": 11,
    "start_time": "2022-02-07T18:11:41.312Z"
   },
   {
    "duration": 12,
    "start_time": "2022-02-07T18:11:41.324Z"
   },
   {
    "duration": 3,
    "start_time": "2022-02-07T18:11:41.337Z"
   },
   {
    "duration": 22,
    "start_time": "2022-02-07T18:11:41.342Z"
   },
   {
    "duration": 46,
    "start_time": "2022-02-07T18:11:41.366Z"
   },
   {
    "duration": 14,
    "start_time": "2022-02-07T18:11:41.413Z"
   },
   {
    "duration": 13,
    "start_time": "2022-02-07T18:11:41.429Z"
   },
   {
    "duration": 21,
    "start_time": "2022-02-07T18:11:41.444Z"
   },
   {
    "duration": 43,
    "start_time": "2022-02-07T18:11:41.467Z"
   },
   {
    "duration": 8,
    "start_time": "2022-02-07T18:11:41.514Z"
   },
   {
    "duration": 30,
    "start_time": "2022-02-07T18:11:41.524Z"
   },
   {
    "duration": 28,
    "start_time": "2022-02-07T18:11:41.555Z"
   },
   {
    "duration": 9,
    "start_time": "2022-02-07T18:11:41.585Z"
   },
   {
    "duration": 46,
    "start_time": "2022-02-07T18:11:41.596Z"
   },
   {
    "duration": 17,
    "start_time": "2022-02-07T18:11:41.644Z"
   },
   {
    "duration": 20,
    "start_time": "2022-02-07T18:11:41.663Z"
   },
   {
    "duration": 20,
    "start_time": "2022-02-07T18:11:41.685Z"
   },
   {
    "duration": 14,
    "start_time": "2022-02-07T18:11:41.707Z"
   },
   {
    "duration": 24,
    "start_time": "2022-02-07T18:11:41.722Z"
   },
   {
    "duration": 29,
    "start_time": "2022-02-07T18:11:41.748Z"
   },
   {
    "duration": 17,
    "start_time": "2022-02-07T18:11:41.779Z"
   }
  ],
  "colab": {
   "collapsed_sections": [
    "E0vqbgi9ay0H",
    "VUC88oWjTJw2"
   ],
   "name": "yandex_music_project_2021.2.ipynb",
   "provenance": []
  },
  "kernelspec": {
   "display_name": "Python 3 (ipykernel)",
   "language": "python",
   "name": "python3"
  },
  "language_info": {
   "codemirror_mode": {
    "name": "ipython",
    "version": 3
   },
   "file_extension": ".py",
   "mimetype": "text/x-python",
   "name": "python",
   "nbconvert_exporter": "python",
   "pygments_lexer": "ipython3",
   "version": "3.9.5"
  },
  "toc": {
   "base_numbering": 1,
   "nav_menu": {},
   "number_sections": true,
   "sideBar": false,
   "skip_h1_title": true,
   "title_cell": "Table of Contents",
   "title_sidebar": "Contents",
   "toc_cell": false,
   "toc_position": {
    "height": "calc(100% - 180px)",
    "left": "10px",
    "top": "150px",
    "width": "425.764px"
   },
   "toc_section_display": false,
   "toc_window_display": false
  }
 },
 "nbformat": 4,
 "nbformat_minor": 1
}
