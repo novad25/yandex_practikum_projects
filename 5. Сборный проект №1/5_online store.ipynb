{
 "cells": [
  {
   "cell_type": "markdown",
   "metadata": {},
   "source": [
    "# Сборный проект"
   ]
  },
  {
   "cell_type": "markdown",
   "metadata": {},
   "source": [
    "## Описание проекта"
   ]
  },
  {
   "cell_type": "markdown",
   "metadata": {},
   "source": [
    "Интернет-магазин «Стримчик» продаёт по всему миру компьютерные игры. Из открытых источников доступны исторические данные о продажах игр, оценки пользователей и экспертов, жанры и платформы (например, Xbox или PlayStation). Вам нужно выявить определяющие успешность игры закономерности. Это позволит сделать ставку на потенциально популярный продукт и спланировать рекламные кампании.  \n",
    "\n",
    "Перед вами данные до 2016 года. Представим, что сейчас декабрь 2016 г., и вы планируете кампанию на 2017-й. Нужно отработать принцип работы с данными. Неважно, прогнозируете ли вы продажи на 2017 год по данным 2016-го или же 2027-й — по данным 2026 года.  \n",
    "\n",
    "В наборе данных попадается аббревиатура ESRB (Entertainment Software Rating Board) — это ассоциация, определяющая возрастной рейтинг компьютерных игр. ESRB оценивает игровой контент и присваивает ему подходящую возрастную категорию, например, «Для взрослых», «Для детей младшего возраста» или «Для подростков»."
   ]
  },
  {
   "cell_type": "markdown",
   "metadata": {},
   "source": [
    "## План работы "
   ]
  },
  {
   "cell_type": "markdown",
   "metadata": {},
   "source": [
    "### Шаг 1. Изучение общей информации файлов с данными.  \n",
    "\n",
    "### Шаг 2. Подготовьте данные\n",
    "Замените названия столбцов (приведите к нижнему регистру);  \n",
    "\n",
    "Преобразуйте данные в нужные типы. Опишите, в каких столбцах заменили тип данных и почему;  \n",
    "\n",
    "Обработайте пропуски при необходимости:   \n",
    "- Объясните, почему заполнили пропуски определённым образом или почему не стали это делать;  \n",
    "- Опишите причины, которые могли привести к пропускам; \n",
    "- Обратите внимание на аббревиатуру 'tbd' в столбце с оценкой пользователей. Отдельно разберите это значение и опишите, как его обработать;  \n",
    "\n",
    "Посчитайте суммарные продажи во всех регионах и запишите их в отдельный столбец.\n",
    "\n",
    "### Шаг 3. Проведите исследовательский анализ данных\n",
    "Посмотрите, сколько игр выпускалось в разные годы. Важны ли данные за все периоды?\n",
    "\n",
    "Посмотрите, как менялись продажи по платформам. Выберите платформы с наибольшими суммарными продажами и постройте распределение по годам. За какой характерный срок появляются новые и исчезают старые платформы?\n",
    "\n",
    "Возьмите данные за соответствующий актуальный период. Актуальный период определите самостоятельно в результате исследования предыдущих вопросов. Основной фактор — эти данные помогут построить прогноз на 2017 год.\n",
    "\n",
    "Не учитывайте в работе данные за предыдущие годы.\n",
    "\n",
    "Какие платформы лидируют по продажам, растут или падают? Выберите несколько потенциально прибыльных платформ.\n",
    "\n",
    "Постройте график «ящик с усами» по глобальным продажам игр в разбивке по платформам. Опишите результат.\n",
    "\n",
    "Посмотрите, как влияют на продажи внутри одной популярной платформы отзывы пользователей и критиков. Постройте диаграмму рассеяния и посчитайте корреляцию между отзывами и продажами. Сформулируйте выводы.\n",
    "\n",
    "Соотнесите выводы с продажами игр на других платформах.\n",
    "\n",
    "Посмотрите на общее распределение игр по жанрам. Что можно сказать о самых прибыльных жанрах? Выделяются ли жанры с высокими и низкими продажами?\n",
    "\n",
    "### Шаг 4. Составьте портрет пользователя каждого региона\n",
    "Определите для пользователя каждого региона (NA, EU, JP):\n",
    "\n",
    "Самые популярные платформы (топ-5). Опишите различия в долях продаж.\n",
    "\n",
    "Самые популярные жанры (топ-5). Поясните разницу.\n",
    "\n",
    "Влияет ли рейтинг ESRB на продажи в отдельном регионе?\n",
    "\n",
    "### Шаг 5. Проверьте гипотезы\n",
    "- Средние пользовательские рейтинги платформ Xbox One и PC одинаковые; \n",
    "- Средние пользовательские рейтинги жанров Action (англ. «действие», экшенигры) и Sports (англ. «спортивные соревнования») разные.  \n",
    "\n",
    "Поясните: Как вы сформулировали нулевую и альтернативную гипотезы; Какой критерий применили для проверки гипотез и почему.\n",
    "\n",
    "### Шаг 6. Общий вывод\n",
    "\n"
   ]
  },
  {
   "cell_type": "markdown",
   "metadata": {},
   "source": [
    "## Описание данных\n"
   ]
  },
  {
   "cell_type": "markdown",
   "metadata": {},
   "source": [
    "- Name — название игры\n",
    "- Platform — платформа\n",
    "- Year_of_Release — год выпуска\n",
    "- Genre — жанр игры\n",
    "- NA_sales — продажи в Северной Америке (миллионы проданных копий)\n",
    "- EU_sales — продажи в Европе (миллионы проданных копий)\n",
    "- JP_sales — продажи в Японии (миллионы проданных копий)\n",
    "- Other_sales — продажи в других странах (миллионы проданных копий)\n",
    "- Critic_Score — оценка критиков (максимум 100)\n",
    "- User_Score — оценка пользователей (максимум 10)\n",
    "- Rating — рейтинг от организации ESRB (англ. Entertainment Software Rating Board). Эта ассоциация определяет рейтинг компьютерных игр и присваивает им подходящую возрастную категорию.  "
   ]
  },
  {
   "cell_type": "markdown",
   "metadata": {},
   "source": [
    "## Шаг 1. Изучение общей информации файлов с данными."
   ]
  },
  {
   "cell_type": "markdown",
   "metadata": {},
   "source": [
    "Импортируем необходимые библиотеки."
   ]
  },
  {
   "cell_type": "code",
   "execution_count": 1,
   "metadata": {},
   "outputs": [],
   "source": [
    "import pandas as pd\n",
    "import matplotlib.pyplot as plt\n",
    "import seaborn as sns\n",
    "import numpy as np\n",
    "import math \n",
    "from statistics import mean\n",
    "from scipy import stats as st"
   ]
  },
  {
   "cell_type": "code",
   "execution_count": 2,
   "metadata": {},
   "outputs": [],
   "source": [
    "games_df = pd.read_csv('/datasets/games.csv')"
   ]
  },
  {
   "cell_type": "code",
   "execution_count": 3,
   "metadata": {},
   "outputs": [
    {
     "data": {
      "text/html": [
       "<div>\n",
       "<style scoped>\n",
       "    .dataframe tbody tr th:only-of-type {\n",
       "        vertical-align: middle;\n",
       "    }\n",
       "\n",
       "    .dataframe tbody tr th {\n",
       "        vertical-align: top;\n",
       "    }\n",
       "\n",
       "    .dataframe thead th {\n",
       "        text-align: right;\n",
       "    }\n",
       "</style>\n",
       "<table border=\"1\" class=\"dataframe\">\n",
       "  <thead>\n",
       "    <tr style=\"text-align: right;\">\n",
       "      <th></th>\n",
       "      <th>Name</th>\n",
       "      <th>Platform</th>\n",
       "      <th>Year_of_Release</th>\n",
       "      <th>Genre</th>\n",
       "      <th>NA_sales</th>\n",
       "      <th>EU_sales</th>\n",
       "      <th>JP_sales</th>\n",
       "      <th>Other_sales</th>\n",
       "      <th>Critic_Score</th>\n",
       "      <th>User_Score</th>\n",
       "      <th>Rating</th>\n",
       "    </tr>\n",
       "  </thead>\n",
       "  <tbody>\n",
       "    <tr>\n",
       "      <th>0</th>\n",
       "      <td>Wii Sports</td>\n",
       "      <td>Wii</td>\n",
       "      <td>2006.0</td>\n",
       "      <td>Sports</td>\n",
       "      <td>41.36</td>\n",
       "      <td>28.96</td>\n",
       "      <td>3.77</td>\n",
       "      <td>8.45</td>\n",
       "      <td>76.0</td>\n",
       "      <td>8</td>\n",
       "      <td>E</td>\n",
       "    </tr>\n",
       "    <tr>\n",
       "      <th>1</th>\n",
       "      <td>Super Mario Bros.</td>\n",
       "      <td>NES</td>\n",
       "      <td>1985.0</td>\n",
       "      <td>Platform</td>\n",
       "      <td>29.08</td>\n",
       "      <td>3.58</td>\n",
       "      <td>6.81</td>\n",
       "      <td>0.77</td>\n",
       "      <td>NaN</td>\n",
       "      <td>NaN</td>\n",
       "      <td>NaN</td>\n",
       "    </tr>\n",
       "    <tr>\n",
       "      <th>2</th>\n",
       "      <td>Mario Kart Wii</td>\n",
       "      <td>Wii</td>\n",
       "      <td>2008.0</td>\n",
       "      <td>Racing</td>\n",
       "      <td>15.68</td>\n",
       "      <td>12.76</td>\n",
       "      <td>3.79</td>\n",
       "      <td>3.29</td>\n",
       "      <td>82.0</td>\n",
       "      <td>8.3</td>\n",
       "      <td>E</td>\n",
       "    </tr>\n",
       "    <tr>\n",
       "      <th>3</th>\n",
       "      <td>Wii Sports Resort</td>\n",
       "      <td>Wii</td>\n",
       "      <td>2009.0</td>\n",
       "      <td>Sports</td>\n",
       "      <td>15.61</td>\n",
       "      <td>10.93</td>\n",
       "      <td>3.28</td>\n",
       "      <td>2.95</td>\n",
       "      <td>80.0</td>\n",
       "      <td>8</td>\n",
       "      <td>E</td>\n",
       "    </tr>\n",
       "    <tr>\n",
       "      <th>4</th>\n",
       "      <td>Pokemon Red/Pokemon Blue</td>\n",
       "      <td>GB</td>\n",
       "      <td>1996.0</td>\n",
       "      <td>Role-Playing</td>\n",
       "      <td>11.27</td>\n",
       "      <td>8.89</td>\n",
       "      <td>10.22</td>\n",
       "      <td>1.00</td>\n",
       "      <td>NaN</td>\n",
       "      <td>NaN</td>\n",
       "      <td>NaN</td>\n",
       "    </tr>\n",
       "  </tbody>\n",
       "</table>\n",
       "</div>"
      ],
      "text/plain": [
       "                       Name Platform  Year_of_Release         Genre  NA_sales  \\\n",
       "0                Wii Sports      Wii           2006.0        Sports     41.36   \n",
       "1         Super Mario Bros.      NES           1985.0      Platform     29.08   \n",
       "2            Mario Kart Wii      Wii           2008.0        Racing     15.68   \n",
       "3         Wii Sports Resort      Wii           2009.0        Sports     15.61   \n",
       "4  Pokemon Red/Pokemon Blue       GB           1996.0  Role-Playing     11.27   \n",
       "\n",
       "   EU_sales  JP_sales  Other_sales  Critic_Score User_Score Rating  \n",
       "0     28.96      3.77         8.45          76.0          8      E  \n",
       "1      3.58      6.81         0.77           NaN        NaN    NaN  \n",
       "2     12.76      3.79         3.29          82.0        8.3      E  \n",
       "3     10.93      3.28         2.95          80.0          8      E  \n",
       "4      8.89     10.22         1.00           NaN        NaN    NaN  "
      ]
     },
     "execution_count": 3,
     "metadata": {},
     "output_type": "execute_result"
    }
   ],
   "source": [
    "games_df.head()"
   ]
  },
  {
   "cell_type": "code",
   "execution_count": 4,
   "metadata": {},
   "outputs": [
    {
     "name": "stdout",
     "output_type": "stream",
     "text": [
      "<class 'pandas.core.frame.DataFrame'>\n",
      "RangeIndex: 16715 entries, 0 to 16714\n",
      "Data columns (total 11 columns):\n",
      " #   Column           Non-Null Count  Dtype  \n",
      "---  ------           --------------  -----  \n",
      " 0   Name             16713 non-null  object \n",
      " 1   Platform         16715 non-null  object \n",
      " 2   Year_of_Release  16446 non-null  float64\n",
      " 3   Genre            16713 non-null  object \n",
      " 4   NA_sales         16715 non-null  float64\n",
      " 5   EU_sales         16715 non-null  float64\n",
      " 6   JP_sales         16715 non-null  float64\n",
      " 7   Other_sales      16715 non-null  float64\n",
      " 8   Critic_Score     8137 non-null   float64\n",
      " 9   User_Score       10014 non-null  object \n",
      " 10  Rating           9949 non-null   object \n",
      "dtypes: float64(6), object(5)\n",
      "memory usage: 1.4+ MB\n"
     ]
    }
   ],
   "source": [
    "games_df.info()"
   ]
  },
  {
   "cell_type": "code",
   "execution_count": 5,
   "metadata": {},
   "outputs": [
    {
     "data": {
      "text/html": [
       "<div>\n",
       "<style scoped>\n",
       "    .dataframe tbody tr th:only-of-type {\n",
       "        vertical-align: middle;\n",
       "    }\n",
       "\n",
       "    .dataframe tbody tr th {\n",
       "        vertical-align: top;\n",
       "    }\n",
       "\n",
       "    .dataframe thead th {\n",
       "        text-align: right;\n",
       "    }\n",
       "</style>\n",
       "<table border=\"1\" class=\"dataframe\">\n",
       "  <thead>\n",
       "    <tr style=\"text-align: right;\">\n",
       "      <th></th>\n",
       "      <th>Year_of_Release</th>\n",
       "      <th>NA_sales</th>\n",
       "      <th>EU_sales</th>\n",
       "      <th>JP_sales</th>\n",
       "      <th>Other_sales</th>\n",
       "      <th>Critic_Score</th>\n",
       "    </tr>\n",
       "  </thead>\n",
       "  <tbody>\n",
       "    <tr>\n",
       "      <th>count</th>\n",
       "      <td>16446.000000</td>\n",
       "      <td>16715.000000</td>\n",
       "      <td>16715.000000</td>\n",
       "      <td>16715.000000</td>\n",
       "      <td>16715.000000</td>\n",
       "      <td>8137.000000</td>\n",
       "    </tr>\n",
       "    <tr>\n",
       "      <th>mean</th>\n",
       "      <td>2006.484616</td>\n",
       "      <td>0.263377</td>\n",
       "      <td>0.145060</td>\n",
       "      <td>0.077617</td>\n",
       "      <td>0.047342</td>\n",
       "      <td>68.967679</td>\n",
       "    </tr>\n",
       "    <tr>\n",
       "      <th>std</th>\n",
       "      <td>5.877050</td>\n",
       "      <td>0.813604</td>\n",
       "      <td>0.503339</td>\n",
       "      <td>0.308853</td>\n",
       "      <td>0.186731</td>\n",
       "      <td>13.938165</td>\n",
       "    </tr>\n",
       "    <tr>\n",
       "      <th>min</th>\n",
       "      <td>1980.000000</td>\n",
       "      <td>0.000000</td>\n",
       "      <td>0.000000</td>\n",
       "      <td>0.000000</td>\n",
       "      <td>0.000000</td>\n",
       "      <td>13.000000</td>\n",
       "    </tr>\n",
       "    <tr>\n",
       "      <th>25%</th>\n",
       "      <td>2003.000000</td>\n",
       "      <td>0.000000</td>\n",
       "      <td>0.000000</td>\n",
       "      <td>0.000000</td>\n",
       "      <td>0.000000</td>\n",
       "      <td>60.000000</td>\n",
       "    </tr>\n",
       "    <tr>\n",
       "      <th>50%</th>\n",
       "      <td>2007.000000</td>\n",
       "      <td>0.080000</td>\n",
       "      <td>0.020000</td>\n",
       "      <td>0.000000</td>\n",
       "      <td>0.010000</td>\n",
       "      <td>71.000000</td>\n",
       "    </tr>\n",
       "    <tr>\n",
       "      <th>75%</th>\n",
       "      <td>2010.000000</td>\n",
       "      <td>0.240000</td>\n",
       "      <td>0.110000</td>\n",
       "      <td>0.040000</td>\n",
       "      <td>0.030000</td>\n",
       "      <td>79.000000</td>\n",
       "    </tr>\n",
       "    <tr>\n",
       "      <th>max</th>\n",
       "      <td>2016.000000</td>\n",
       "      <td>41.360000</td>\n",
       "      <td>28.960000</td>\n",
       "      <td>10.220000</td>\n",
       "      <td>10.570000</td>\n",
       "      <td>98.000000</td>\n",
       "    </tr>\n",
       "  </tbody>\n",
       "</table>\n",
       "</div>"
      ],
      "text/plain": [
       "       Year_of_Release      NA_sales      EU_sales      JP_sales  \\\n",
       "count     16446.000000  16715.000000  16715.000000  16715.000000   \n",
       "mean       2006.484616      0.263377      0.145060      0.077617   \n",
       "std           5.877050      0.813604      0.503339      0.308853   \n",
       "min        1980.000000      0.000000      0.000000      0.000000   \n",
       "25%        2003.000000      0.000000      0.000000      0.000000   \n",
       "50%        2007.000000      0.080000      0.020000      0.000000   \n",
       "75%        2010.000000      0.240000      0.110000      0.040000   \n",
       "max        2016.000000     41.360000     28.960000     10.220000   \n",
       "\n",
       "        Other_sales  Critic_Score  \n",
       "count  16715.000000   8137.000000  \n",
       "mean       0.047342     68.967679  \n",
       "std        0.186731     13.938165  \n",
       "min        0.000000     13.000000  \n",
       "25%        0.000000     60.000000  \n",
       "50%        0.010000     71.000000  \n",
       "75%        0.030000     79.000000  \n",
       "max       10.570000     98.000000  "
      ]
     },
     "execution_count": 5,
     "metadata": {},
     "output_type": "execute_result"
    }
   ],
   "source": [
    "games_df.describe()"
   ]
  },
  {
   "cell_type": "markdown",
   "metadata": {},
   "source": [
    "### Вывод"
   ]
  },
  {
   "cell_type": "markdown",
   "metadata": {},
   "source": [
    "Исходный датафрейм состоит из 11 столбцов и 16715 строк. В шести столбцах (Name, Year_of_Release, Genre, Critic_Score, User_Score, Rating) присутствуют пропущенные значения. Присутствуют 2 типа данных: object - 5 шт и float64 - 6 шт."
   ]
  },
  {
   "cell_type": "markdown",
   "metadata": {},
   "source": [
    "## Шаг 2. Подготовка данных"
   ]
  },
  {
   "cell_type": "markdown",
   "metadata": {},
   "source": [
    "### Приведение к нижнему регистру названия столбцов."
   ]
  },
  {
   "cell_type": "markdown",
   "metadata": {},
   "source": [
    "Используем для преобразования list comprehension."
   ]
  },
  {
   "cell_type": "code",
   "execution_count": 7,
   "metadata": {},
   "outputs": [],
   "source": [
    "games_df.columns = games_df.columns.str.lower()"
   ]
  },
  {
   "cell_type": "code",
   "execution_count": 8,
   "metadata": {},
   "outputs": [
    {
     "data": {
      "text/plain": [
       "Index(['name', 'platform', 'year_of_release', 'genre', 'na_sales', 'eu_sales',\n",
       "       'jp_sales', 'other_sales', 'critic_score', 'user_score', 'rating'],\n",
       "      dtype='object')"
      ]
     },
     "execution_count": 8,
     "metadata": {},
     "output_type": "execute_result"
    }
   ],
   "source": [
    "games_df.columns"
   ]
  },
  {
   "cell_type": "markdown",
   "metadata": {},
   "source": [
    "### Обработка пропусков"
   ]
  },
  {
   "cell_type": "markdown",
   "metadata": {},
   "source": [
    "Проведем оценку доли пропущенных значений по столбцам."
   ]
  },
  {
   "cell_type": "code",
   "execution_count": 10,
   "metadata": {},
   "outputs": [
    {
     "name": "stdout",
     "output_type": "stream",
     "text": [
      "Процент пропущенных значений:\n",
      "в столбце name равен 0.01%\n",
      "в столбце year_of_release равен 1.61%\n",
      "в столбце genre равен 0.01%\n",
      "в столбце critic_score равен 51.32%\n",
      "в столбце user_score равен 40.09%\n",
      "в столбце rating равен 40.48%\n"
     ]
    }
   ],
   "source": [
    "print('Процент пропущенных значений:')\n",
    "for colunm in games_df:\n",
    "    ratio = games_df[colunm].isna().mean()\n",
    "    if ratio > 0:      \n",
    "        print(f'в столбце {colunm} равен {ratio:.2%}')"
   ]
  },
  {
   "cell_type": "markdown",
   "metadata": {},
   "source": [
    "В столбцах name, year_of_release, genre невысокий процент пропущенных значений. Поэтому удалим строки с пропусками в этих столбцах из датафрейма."
   ]
  },
  {
   "cell_type": "code",
   "execution_count": 11,
   "metadata": {},
   "outputs": [],
   "source": [
    "games_df = games_df.dropna(subset=['name', 'year_of_release', 'genre']).reset_index(drop=True)"
   ]
  },
  {
   "cell_type": "markdown",
   "metadata": {},
   "source": [
    "Пропуски в critic_score и user_score заменять не требуется, чтобы не исказить результаты корреляционного анализа и статистических тестов."
   ]
  },
  {
   "cell_type": "markdown",
   "metadata": {},
   "source": [
    "В столбце с оценкой пользователей user_score наибольшее количество значений с аббревиатуру 'tbd', что означает \"подлежит определению\". Отнесем данные значения к пропущенным."
   ]
  },
  {
   "cell_type": "code",
   "execution_count": 12,
   "metadata": {},
   "outputs": [
    {
     "data": {
      "text/plain": [
       "tbd    2376\n",
       "7.8     322\n",
       "8       285\n",
       "8.2     276\n",
       "8.3     252\n",
       "Name: user_score, dtype: int64"
      ]
     },
     "execution_count": 12,
     "metadata": {},
     "output_type": "execute_result"
    }
   ],
   "source": [
    "games_df['user_score'].value_counts().head()"
   ]
  },
  {
   "cell_type": "code",
   "execution_count": 13,
   "metadata": {},
   "outputs": [],
   "source": [
    "games_df.loc[games_df['user_score'] == 'tbd', 'user_score'] = float('nan')"
   ]
  },
  {
   "cell_type": "markdown",
   "metadata": {},
   "source": [
    "В столбце с категориальной переменной rating пропуски заменим на значение 'unknown'."
   ]
  },
  {
   "cell_type": "code",
   "execution_count": 14,
   "metadata": {},
   "outputs": [],
   "source": [
    "games_df.loc[games_df['rating'].isna(), 'rating'] = 'unknown'"
   ]
  },
  {
   "cell_type": "markdown",
   "metadata": {},
   "source": [
    "### Преобразование данных в нужные типы"
   ]
  },
  {
   "cell_type": "code",
   "execution_count": 15,
   "metadata": {},
   "outputs": [
    {
     "data": {
      "text/plain": [
       "name                object\n",
       "platform            object\n",
       "year_of_release    float64\n",
       "genre               object\n",
       "na_sales           float64\n",
       "eu_sales           float64\n",
       "jp_sales           float64\n",
       "other_sales        float64\n",
       "critic_score       float64\n",
       "user_score          object\n",
       "rating              object\n",
       "dtype: object"
      ]
     },
     "execution_count": 15,
     "metadata": {},
     "output_type": "execute_result"
    }
   ],
   "source": [
    "games_df.dtypes"
   ]
  },
  {
   "cell_type": "markdown",
   "metadata": {},
   "source": [
    "Преобразуем данные в столбце year_of_release в тип int и данных в столбце user_score в тип float."
   ]
  },
  {
   "cell_type": "code",
   "execution_count": 16,
   "metadata": {},
   "outputs": [],
   "source": [
    "games_df['year_of_release'] = games_df['year_of_release'].astype('int')"
   ]
  },
  {
   "cell_type": "code",
   "execution_count": 17,
   "metadata": {},
   "outputs": [],
   "source": [
    "games_df['user_score'] = games_df['user_score'].astype('float')"
   ]
  },
  {
   "cell_type": "code",
   "execution_count": 18,
   "metadata": {},
   "outputs": [
    {
     "data": {
      "text/plain": [
       "name                object\n",
       "platform            object\n",
       "year_of_release      int64\n",
       "genre               object\n",
       "na_sales           float64\n",
       "eu_sales           float64\n",
       "jp_sales           float64\n",
       "other_sales        float64\n",
       "critic_score       float64\n",
       "user_score         float64\n",
       "rating              object\n",
       "dtype: object"
      ]
     },
     "execution_count": 18,
     "metadata": {},
     "output_type": "execute_result"
    }
   ],
   "source": [
    "games_df.dtypes"
   ]
  },
  {
   "cell_type": "markdown",
   "metadata": {},
   "source": [
    "### Расчёт суммарных продаж во всех регионах и запись в отдельных столбец."
   ]
  },
  {
   "cell_type": "code",
   "execution_count": 19,
   "metadata": {},
   "outputs": [],
   "source": [
    "games_df['total_sales'] = games_df[['na_sales','eu_sales','jp_sales','other_sales']].sum(axis=1)"
   ]
  },
  {
   "cell_type": "code",
   "execution_count": 20,
   "metadata": {},
   "outputs": [
    {
     "data": {
      "text/html": [
       "<div>\n",
       "<style scoped>\n",
       "    .dataframe tbody tr th:only-of-type {\n",
       "        vertical-align: middle;\n",
       "    }\n",
       "\n",
       "    .dataframe tbody tr th {\n",
       "        vertical-align: top;\n",
       "    }\n",
       "\n",
       "    .dataframe thead th {\n",
       "        text-align: right;\n",
       "    }\n",
       "</style>\n",
       "<table border=\"1\" class=\"dataframe\">\n",
       "  <thead>\n",
       "    <tr style=\"text-align: right;\">\n",
       "      <th></th>\n",
       "      <th>name</th>\n",
       "      <th>platform</th>\n",
       "      <th>year_of_release</th>\n",
       "      <th>genre</th>\n",
       "      <th>na_sales</th>\n",
       "      <th>eu_sales</th>\n",
       "      <th>jp_sales</th>\n",
       "      <th>other_sales</th>\n",
       "      <th>critic_score</th>\n",
       "      <th>user_score</th>\n",
       "      <th>rating</th>\n",
       "      <th>total_sales</th>\n",
       "    </tr>\n",
       "  </thead>\n",
       "  <tbody>\n",
       "    <tr>\n",
       "      <th>0</th>\n",
       "      <td>Wii Sports</td>\n",
       "      <td>Wii</td>\n",
       "      <td>2006</td>\n",
       "      <td>Sports</td>\n",
       "      <td>41.36</td>\n",
       "      <td>28.96</td>\n",
       "      <td>3.77</td>\n",
       "      <td>8.45</td>\n",
       "      <td>76.0</td>\n",
       "      <td>8.0</td>\n",
       "      <td>E</td>\n",
       "      <td>82.54</td>\n",
       "    </tr>\n",
       "    <tr>\n",
       "      <th>1</th>\n",
       "      <td>Super Mario Bros.</td>\n",
       "      <td>NES</td>\n",
       "      <td>1985</td>\n",
       "      <td>Platform</td>\n",
       "      <td>29.08</td>\n",
       "      <td>3.58</td>\n",
       "      <td>6.81</td>\n",
       "      <td>0.77</td>\n",
       "      <td>NaN</td>\n",
       "      <td>NaN</td>\n",
       "      <td>unknown</td>\n",
       "      <td>40.24</td>\n",
       "    </tr>\n",
       "    <tr>\n",
       "      <th>2</th>\n",
       "      <td>Mario Kart Wii</td>\n",
       "      <td>Wii</td>\n",
       "      <td>2008</td>\n",
       "      <td>Racing</td>\n",
       "      <td>15.68</td>\n",
       "      <td>12.76</td>\n",
       "      <td>3.79</td>\n",
       "      <td>3.29</td>\n",
       "      <td>82.0</td>\n",
       "      <td>8.3</td>\n",
       "      <td>E</td>\n",
       "      <td>35.52</td>\n",
       "    </tr>\n",
       "    <tr>\n",
       "      <th>3</th>\n",
       "      <td>Wii Sports Resort</td>\n",
       "      <td>Wii</td>\n",
       "      <td>2009</td>\n",
       "      <td>Sports</td>\n",
       "      <td>15.61</td>\n",
       "      <td>10.93</td>\n",
       "      <td>3.28</td>\n",
       "      <td>2.95</td>\n",
       "      <td>80.0</td>\n",
       "      <td>8.0</td>\n",
       "      <td>E</td>\n",
       "      <td>32.77</td>\n",
       "    </tr>\n",
       "    <tr>\n",
       "      <th>4</th>\n",
       "      <td>Pokemon Red/Pokemon Blue</td>\n",
       "      <td>GB</td>\n",
       "      <td>1996</td>\n",
       "      <td>Role-Playing</td>\n",
       "      <td>11.27</td>\n",
       "      <td>8.89</td>\n",
       "      <td>10.22</td>\n",
       "      <td>1.00</td>\n",
       "      <td>NaN</td>\n",
       "      <td>NaN</td>\n",
       "      <td>unknown</td>\n",
       "      <td>31.38</td>\n",
       "    </tr>\n",
       "  </tbody>\n",
       "</table>\n",
       "</div>"
      ],
      "text/plain": [
       "                       name platform  year_of_release         genre  na_sales  \\\n",
       "0                Wii Sports      Wii             2006        Sports     41.36   \n",
       "1         Super Mario Bros.      NES             1985      Platform     29.08   \n",
       "2            Mario Kart Wii      Wii             2008        Racing     15.68   \n",
       "3         Wii Sports Resort      Wii             2009        Sports     15.61   \n",
       "4  Pokemon Red/Pokemon Blue       GB             1996  Role-Playing     11.27   \n",
       "\n",
       "   eu_sales  jp_sales  other_sales  critic_score  user_score   rating  \\\n",
       "0     28.96      3.77         8.45          76.0         8.0        E   \n",
       "1      3.58      6.81         0.77           NaN         NaN  unknown   \n",
       "2     12.76      3.79         3.29          82.0         8.3        E   \n",
       "3     10.93      3.28         2.95          80.0         8.0        E   \n",
       "4      8.89     10.22         1.00           NaN         NaN  unknown   \n",
       "\n",
       "   total_sales  \n",
       "0        82.54  \n",
       "1        40.24  \n",
       "2        35.52  \n",
       "3        32.77  \n",
       "4        31.38  "
      ]
     },
     "execution_count": 20,
     "metadata": {},
     "output_type": "execute_result"
    }
   ],
   "source": [
    "games_df.head()"
   ]
  },
  {
   "cell_type": "markdown",
   "metadata": {},
   "source": [
    "### Вывод "
   ]
  },
  {
   "cell_type": "markdown",
   "metadata": {},
   "source": [
    "На этапе подготовки данных были проведены следующие шаги:  \n",
    "\n",
    "- Приведены к нижнему регистру названия столбцов датафрейма;\n",
    "- Обработаны пропуски:  \n",
    "В столбцах name (название игры), year_of_release (год выпуска), genre (жанр игры) строки с пропусками были удалены.  \n",
    "В столбце user_score (оценка пользователей) значения с аббревиатуру 'tbd', заменены на значения Nan,  \n",
    "В столбце rating пропуски заменим на значение 'unknown'.\n",
    "- Преобразованы типы данных в столбцах:   \n",
    "year_of_release (год выпуска) в тип int,  \n",
    "user_score (оценка пользователей ) в тип float;\n",
    "- Был рассчитан и добавлен в исходный датафрейм столбец total_sales с суммарными продажами во всех регионах."
   ]
  },
  {
   "cell_type": "markdown",
   "metadata": {},
   "source": [
    "## Шаг 3. Исследовательский анализ данных"
   ]
  },
  {
   "cell_type": "markdown",
   "metadata": {},
   "source": [
    "### Сколько игр выпускалось в разные годы. Важны ли данные за все периоды?"
   ]
  },
  {
   "cell_type": "markdown",
   "metadata": {},
   "source": [
    "Построим график зависимости количества выпускаемых игр от года."
   ]
  },
  {
   "cell_type": "code",
   "execution_count": 21,
   "metadata": {},
   "outputs": [],
   "source": [
    "count_games = games_df.groupby('year_of_release')['name'].count()"
   ]
  },
  {
   "cell_type": "code",
   "execution_count": 22,
   "metadata": {},
   "outputs": [
    {
     "data": {
      "image/png": "[encoded data removed]",
      "text/plain": [
       "<Figure size 864x648 with 1 Axes>"
      ]
     },
     "metadata": {
      "needs_background": "light"
     },
     "output_type": "display_data"
    }
   ],
   "source": [
    "plt.figure(figsize=(12,9))\n",
    "count_games.plot(grid=True)\n",
    "plt.title('Количество выпущенных игр по годам')\n",
    "plt.xlabel('Год выхода')\n",
    "plt.ylabel('Количество игр')\n",
    "plt.xticks(np.arange(1980, 2017, 2))\n",
    "plt.show()"
   ]
  },
  {
   "cell_type": "markdown",
   "metadata": {},
   "source": [
    "По графику видно, что максимум выпускаемых игр приходится на 2008-2009 года, более 1400 шт. Далее количество игр идёт на спад, до 500 игр в 2016 году. Но с 2013 по 2015 отмечался небольшой прирост количества выпускаемых игр. Самыми важными и актуальными данными будем считать данные с 2011 года, когда начался период восьмого поколения игровых приставок."
   ]
  },
  {
   "cell_type": "markdown",
   "metadata": {},
   "source": [
    "### Как менялись продажи по платформам. Выберите платформы с наибольшими суммарными продажами и постройте распределение по годам. За какой характерный срок появляются новые и исчезают старые платформы?"
   ]
  },
  {
   "cell_type": "markdown",
   "metadata": {},
   "source": [
    "Определим суммарные продажи в зависимости от платформы и возьмём 10 платформ с наибольшими суммарными продажами."
   ]
  },
  {
   "cell_type": "code",
   "execution_count": 23,
   "metadata": {},
   "outputs": [],
   "source": [
    "top10_platforms = games_df.groupby(['platform'])['total_sales'].sum().sort_values(ascending=False).head(10)"
   ]
  },
  {
   "cell_type": "code",
   "execution_count": 24,
   "metadata": {},
   "outputs": [
    {
     "data": {
      "text/plain": [
       "platform\n",
       "PS2     1233.56\n",
       "X360     961.24\n",
       "PS3      931.34\n",
       "Wii      891.18\n",
       "DS       802.78\n",
       "PS       727.58\n",
       "PS4      314.14\n",
       "GBA      312.88\n",
       "PSP      289.53\n",
       "3DS      257.81\n",
       "Name: total_sales, dtype: float64"
      ]
     },
     "execution_count": 24,
     "metadata": {},
     "output_type": "execute_result"
    }
   ],
   "source": [
    "top10_platforms"
   ]
  },
  {
   "cell_type": "markdown",
   "metadata": {},
   "source": [
    "Сохраним отдельно названия 10 топ платформ."
   ]
  },
  {
   "cell_type": "code",
   "execution_count": 25,
   "metadata": {},
   "outputs": [],
   "source": [
    "top10_platform_name = top10_platforms.index"
   ]
  },
  {
   "cell_type": "code",
   "execution_count": 26,
   "metadata": {},
   "outputs": [
    {
     "data": {
      "text/plain": [
       "Index(['PS2', 'X360', 'PS3', 'Wii', 'DS', 'PS', 'PS4', 'GBA', 'PSP', '3DS'], dtype='object', name='platform')"
      ]
     },
     "execution_count": 26,
     "metadata": {},
     "output_type": "execute_result"
    }
   ],
   "source": [
    "top10_platform_name"
   ]
  },
  {
   "cell_type": "markdown",
   "metadata": {},
   "source": [
    "И построим график распределения суммарных продаж по годам, для 10 платформ с наибольшими суммарными продажами."
   ]
  },
  {
   "cell_type": "code",
   "execution_count": 27,
   "metadata": {},
   "outputs": [
    {
     "data": {
      "image/png": "[encoded data removed]",
      "text/plain": [
       "<Figure size 1080x648 with 1 Axes>"
      ]
     },
     "metadata": {
      "needs_background": "light"
     },
     "output_type": "display_data"
    }
   ],
   "source": [
    "plt.figure(figsize=(15,9))\n",
    "for platform in top10_platform_name:\n",
    "    games_df[games_df['platform'] == platform].groupby('year_of_release')['total_sales'].sum().plot(grid=True, label = platform)\n",
    "plt.xticks(np.arange(1985, 2017,5))\n",
    "plt.yticks(np.arange(0, 220, 10))    \n",
    "plt.legend()\n",
    "plt.show()\n",
    "None"
   ]
  },
  {
   "cell_type": "markdown",
   "metadata": {},
   "source": [
    "У платформы 'DS' обнаружен выброс: присутствует игра с годом выпуска в 1985 году, хотя сама платформа Nintendo DS существовала с 2004 по 2013 год. Сделаем запрос для этого значения."
   ]
  },
  {
   "cell_type": "code",
   "execution_count": 28,
   "metadata": {},
   "outputs": [
    {
     "data": {
      "text/html": [
       "<div>\n",
       "<style scoped>\n",
       "    .dataframe tbody tr th:only-of-type {\n",
       "        vertical-align: middle;\n",
       "    }\n",
       "\n",
       "    .dataframe tbody tr th {\n",
       "        vertical-align: top;\n",
       "    }\n",
       "\n",
       "    .dataframe thead th {\n",
       "        text-align: right;\n",
       "    }\n",
       "</style>\n",
       "<table border=\"1\" class=\"dataframe\">\n",
       "  <thead>\n",
       "    <tr style=\"text-align: right;\">\n",
       "      <th></th>\n",
       "      <th>name</th>\n",
       "      <th>platform</th>\n",
       "      <th>year_of_release</th>\n",
       "      <th>genre</th>\n",
       "      <th>na_sales</th>\n",
       "      <th>eu_sales</th>\n",
       "      <th>jp_sales</th>\n",
       "      <th>other_sales</th>\n",
       "      <th>critic_score</th>\n",
       "      <th>user_score</th>\n",
       "      <th>rating</th>\n",
       "      <th>total_sales</th>\n",
       "    </tr>\n",
       "  </thead>\n",
       "  <tbody>\n",
       "    <tr>\n",
       "      <th>15704</th>\n",
       "      <td>Strongest Tokyo University Shogi DS</td>\n",
       "      <td>DS</td>\n",
       "      <td>1985</td>\n",
       "      <td>Action</td>\n",
       "      <td>0.0</td>\n",
       "      <td>0.0</td>\n",
       "      <td>0.02</td>\n",
       "      <td>0.0</td>\n",
       "      <td>NaN</td>\n",
       "      <td>NaN</td>\n",
       "      <td>unknown</td>\n",
       "      <td>0.02</td>\n",
       "    </tr>\n",
       "  </tbody>\n",
       "</table>\n",
       "</div>"
      ],
      "text/plain": [
       "                                      name platform  year_of_release   genre  \\\n",
       "15704  Strongest Tokyo University Shogi DS       DS             1985  Action   \n",
       "\n",
       "       na_sales  eu_sales  jp_sales  other_sales  critic_score  user_score  \\\n",
       "15704       0.0       0.0      0.02          0.0           NaN         NaN   \n",
       "\n",
       "        rating  total_sales  \n",
       "15704  unknown         0.02  "
      ]
     },
     "execution_count": 28,
     "metadata": {},
     "output_type": "execute_result"
    }
   ],
   "source": [
    "games_df.query('platform == \"DS\" and  year_of_release == 1985')"
   ]
  },
  {
   "cell_type": "markdown",
   "metadata": {},
   "source": [
    "Игра с названием \"Strongest Tokyo University Shogi DS\" вышла в 2010 году. Исправим год выпуска игры в исходном датафрейме."
   ]
  },
  {
   "cell_type": "code",
   "execution_count": 29,
   "metadata": {},
   "outputs": [],
   "source": [
    "games_df.loc[15704, 'year_of_release'] = 2010"
   ]
  },
  {
   "cell_type": "markdown",
   "metadata": {},
   "source": [
    "Заново построим график."
   ]
  },
  {
   "cell_type": "code",
   "execution_count": 30,
   "metadata": {},
   "outputs": [
    {
     "data": {
      "image/png": "[encoded data removed]",
      "text/plain": [
       "<Figure size 1080x648 with 1 Axes>"
      ]
     },
     "metadata": {
      "needs_background": "light"
     },
     "output_type": "display_data"
    }
   ],
   "source": [
    "plt.figure(figsize=(15,9))\n",
    "for platform in top10_platform_name:\n",
    "    games_df[games_df['platform'] == platform].groupby('year_of_release')['total_sales'].sum().plot(grid=True, label = platform)\n",
    "plt.yticks(np.arange(0, 220, 10))    \n",
    "plt.xticks(np.arange(1993, 2017, 1))\n",
    "plt.legend()\n",
    "None"
   ]
  },
  {
   "cell_type": "markdown",
   "metadata": {},
   "source": [
    "Определим за какой характерный срок появляются новые и исчезают старые платформы (время жизни платформы).\n",
    "\n",
    "Примем время жизни платформы как количество лет, в которых на этой платформе суммарная продажа игр была не менее 1 млн. проданных копий. Характерный срок, за который появляются новые и исчезают старые платформы определим, как среднее от времени жизни каждой платформы."
   ]
  },
  {
   "cell_type": "code",
   "execution_count": 31,
   "metadata": {},
   "outputs": [
    {
     "name": "stdout",
     "output_type": "stream",
     "text": [
      "Характерный срок, за который появляются новые и исчезают старые платформы 6 лет.\n"
     ]
    }
   ],
   "source": [
    "life = []\n",
    "min_sales = 1\n",
    "for name in games_df['platform'].unique():\n",
    "    platform = games_df.query('platform == @name').groupby('year_of_release')['total_sales'].sum()\n",
    "    life_years = 0    \n",
    "    for value in platform.values:\n",
    "        if value >= min_sales:\n",
    "            life_years += 1\n",
    "    life.append(life_years)  \n",
    "mean_life = mean(life)\n",
    "print('Характерный срок, за который появляются новые и исчезают старые платформы', round(mean(life)), 'лет.')"
   ]
  },
  {
   "cell_type": "markdown",
   "metadata": {},
   "source": [
    "### Возьмите данные за соответствующий актуальный период. Актуальный период определите самостоятельно в результате исследования предыдущих вопросов."
   ]
  },
  {
   "cell_type": "markdown",
   "metadata": {},
   "source": [
    "Определим актуальный период как половину от характерного срока, за который появляются новые и исчезают старые платформы, потому, что половину жизненного цикла платформы растут, а вторую половину - падают. Актуальный период составляет 3 года."
   ]
  },
  {
   "cell_type": "markdown",
   "metadata": {},
   "source": [
    "Возьмём данные за актуальный период."
   ]
  },
  {
   "cell_type": "code",
   "execution_count": 32,
   "metadata": {},
   "outputs": [],
   "source": [
    "actual_df = games_df.query('year_of_release >= 2013')"
   ]
  },
  {
   "cell_type": "code",
   "execution_count": 33,
   "metadata": {},
   "outputs": [
    {
     "data": {
      "text/html": [
       "<div>\n",
       "<style scoped>\n",
       "    .dataframe tbody tr th:only-of-type {\n",
       "        vertical-align: middle;\n",
       "    }\n",
       "\n",
       "    .dataframe tbody tr th {\n",
       "        vertical-align: top;\n",
       "    }\n",
       "\n",
       "    .dataframe thead th {\n",
       "        text-align: right;\n",
       "    }\n",
       "</style>\n",
       "<table border=\"1\" class=\"dataframe\">\n",
       "  <thead>\n",
       "    <tr style=\"text-align: right;\">\n",
       "      <th></th>\n",
       "      <th>name</th>\n",
       "      <th>platform</th>\n",
       "      <th>year_of_release</th>\n",
       "      <th>genre</th>\n",
       "      <th>na_sales</th>\n",
       "      <th>eu_sales</th>\n",
       "      <th>jp_sales</th>\n",
       "      <th>other_sales</th>\n",
       "      <th>critic_score</th>\n",
       "      <th>user_score</th>\n",
       "      <th>rating</th>\n",
       "      <th>total_sales</th>\n",
       "    </tr>\n",
       "  </thead>\n",
       "  <tbody>\n",
       "    <tr>\n",
       "      <th>16</th>\n",
       "      <td>Grand Theft Auto V</td>\n",
       "      <td>PS3</td>\n",
       "      <td>2013</td>\n",
       "      <td>Action</td>\n",
       "      <td>7.02</td>\n",
       "      <td>9.09</td>\n",
       "      <td>0.98</td>\n",
       "      <td>3.96</td>\n",
       "      <td>97.0</td>\n",
       "      <td>8.2</td>\n",
       "      <td>M</td>\n",
       "      <td>21.05</td>\n",
       "    </tr>\n",
       "    <tr>\n",
       "      <th>23</th>\n",
       "      <td>Grand Theft Auto V</td>\n",
       "      <td>X360</td>\n",
       "      <td>2013</td>\n",
       "      <td>Action</td>\n",
       "      <td>9.66</td>\n",
       "      <td>5.14</td>\n",
       "      <td>0.06</td>\n",
       "      <td>1.41</td>\n",
       "      <td>97.0</td>\n",
       "      <td>8.1</td>\n",
       "      <td>M</td>\n",
       "      <td>16.27</td>\n",
       "    </tr>\n",
       "    <tr>\n",
       "      <th>31</th>\n",
       "      <td>Call of Duty: Black Ops 3</td>\n",
       "      <td>PS4</td>\n",
       "      <td>2015</td>\n",
       "      <td>Shooter</td>\n",
       "      <td>6.03</td>\n",
       "      <td>5.86</td>\n",
       "      <td>0.36</td>\n",
       "      <td>2.38</td>\n",
       "      <td>NaN</td>\n",
       "      <td>NaN</td>\n",
       "      <td>unknown</td>\n",
       "      <td>14.63</td>\n",
       "    </tr>\n",
       "    <tr>\n",
       "      <th>33</th>\n",
       "      <td>Pokemon X/Pokemon Y</td>\n",
       "      <td>3DS</td>\n",
       "      <td>2013</td>\n",
       "      <td>Role-Playing</td>\n",
       "      <td>5.28</td>\n",
       "      <td>4.19</td>\n",
       "      <td>4.35</td>\n",
       "      <td>0.78</td>\n",
       "      <td>NaN</td>\n",
       "      <td>NaN</td>\n",
       "      <td>unknown</td>\n",
       "      <td>14.60</td>\n",
       "    </tr>\n",
       "    <tr>\n",
       "      <th>42</th>\n",
       "      <td>Grand Theft Auto V</td>\n",
       "      <td>PS4</td>\n",
       "      <td>2014</td>\n",
       "      <td>Action</td>\n",
       "      <td>3.96</td>\n",
       "      <td>6.31</td>\n",
       "      <td>0.38</td>\n",
       "      <td>1.97</td>\n",
       "      <td>97.0</td>\n",
       "      <td>8.3</td>\n",
       "      <td>M</td>\n",
       "      <td>12.62</td>\n",
       "    </tr>\n",
       "  </tbody>\n",
       "</table>\n",
       "</div>"
      ],
      "text/plain": [
       "                         name platform  year_of_release         genre  \\\n",
       "16         Grand Theft Auto V      PS3             2013        Action   \n",
       "23         Grand Theft Auto V     X360             2013        Action   \n",
       "31  Call of Duty: Black Ops 3      PS4             2015       Shooter   \n",
       "33        Pokemon X/Pokemon Y      3DS             2013  Role-Playing   \n",
       "42         Grand Theft Auto V      PS4             2014        Action   \n",
       "\n",
       "    na_sales  eu_sales  jp_sales  other_sales  critic_score  user_score  \\\n",
       "16      7.02      9.09      0.98         3.96          97.0         8.2   \n",
       "23      9.66      5.14      0.06         1.41          97.0         8.1   \n",
       "31      6.03      5.86      0.36         2.38           NaN         NaN   \n",
       "33      5.28      4.19      4.35         0.78           NaN         NaN   \n",
       "42      3.96      6.31      0.38         1.97          97.0         8.3   \n",
       "\n",
       "     rating  total_sales  \n",
       "16        M        21.05  \n",
       "23        M        16.27  \n",
       "31  unknown        14.63  \n",
       "33  unknown        14.60  \n",
       "42        M        12.62  "
      ]
     },
     "execution_count": 33,
     "metadata": {},
     "output_type": "execute_result"
    }
   ],
   "source": [
    "actual_df.head()"
   ]
  },
  {
   "cell_type": "markdown",
   "metadata": {},
   "source": [
    "### Какие платформы лидируют по продажам, растут или падают? Выберите несколько потенциально прибыльных платформ.\n"
   ]
  },
  {
   "cell_type": "code",
   "execution_count": 34,
   "metadata": {},
   "outputs": [
    {
     "data": {
      "text/plain": [
       "platform\n",
       "PS4     314.14\n",
       "PS3     181.43\n",
       "XOne    159.32\n",
       "3DS     143.25\n",
       "X360    136.80\n",
       "WiiU     64.63\n",
       "PC       39.43\n",
       "PSV      32.99\n",
       "Wii      13.66\n",
       "PSP       3.50\n",
       "DS        1.54\n",
       "Name: total_sales, dtype: float64"
      ]
     },
     "execution_count": 34,
     "metadata": {},
     "output_type": "execute_result"
    }
   ],
   "source": [
    "actual_df.groupby('platform')['total_sales'].sum().sort_values(ascending=False)"
   ]
  },
  {
   "cell_type": "markdown",
   "metadata": {},
   "source": [
    "Лидируют по продажам следующие пять платформ: PS4, PS3, XOne, 3DS, X360."
   ]
  },
  {
   "cell_type": "markdown",
   "metadata": {},
   "source": [
    "Построим график изменения продаж по годам для каждой платформы."
   ]
  },
  {
   "cell_type": "code",
   "execution_count": 35,
   "metadata": {},
   "outputs": [
    {
     "data": {
      "image/png": "[encoded data removed]",
      "text/plain": [
       "<Figure size 1152x864 with 1 Axes>"
      ]
     },
     "metadata": {
      "needs_background": "light"
     },
     "output_type": "display_data"
    }
   ],
   "source": [
    "plt.figure(figsize=(16,12))\n",
    "for platform in actual_df['platform'].unique():\n",
    "    actual_df[actual_df['platform'] == platform].groupby('year_of_release')['total_sales'].sum().plot(grid=True, label = platform)\n",
    "plt.xticks(np.arange(2013, 2017,1))\n",
    "plt.yticks(np.arange(0, 130, 10))    \n",
    "plt.legend()\n",
    "plt.ylabel('Общее количество продаж, млн')\n",
    "plt.xlabel('Год выпуска')\n",
    "plt.show()\n",
    "None"
   ]
  },
  {
   "cell_type": "markdown",
   "metadata": {},
   "source": [
    "Исходя из графика, видно, что после 2015 года, количество продаж у всех платформ снижается. Но у платформы PS4 и XOne до 2015 наблюдался рост продаж. Учитывая это, и то что данные за 2016 год могут быть неполными, выберем именно эти две платформы, как потенциально прибыльные."
   ]
  },
  {
   "cell_type": "markdown",
   "metadata": {},
   "source": [
    "### Построение графика «ящик с усами» по глобальным продажам игр в разбивке по платформам. Опишите результат"
   ]
  },
  {
   "cell_type": "code",
   "execution_count": 36,
   "metadata": {},
   "outputs": [
    {
     "data": {
      "image/png": "[encoded data removed]",
      "text/plain": [
       "<Figure size 1152x864 with 1 Axes>"
      ]
     },
     "metadata": {
      "needs_background": "light"
     },
     "output_type": "display_data"
    }
   ],
   "source": [
    "plt.figure(figsize=(16,12))\n",
    "boxplot = sns.boxplot(x='platform', y='total_sales', data=actual_df)\n",
    "boxplot.set_xlabel(\"Платформа\", fontsize=14)\n",
    "boxplot.set_ylabel(\"Общее количество продаж, млн\", fontsize=14)\n",
    "plt.ylim(0, 2)\n",
    "plt.show()"
   ]
  },
  {
   "cell_type": "code",
   "execution_count": 37,
   "metadata": {},
   "outputs": [
    {
     "data": {
      "text/html": [
       "<div>\n",
       "<style scoped>\n",
       "    .dataframe tbody tr th:only-of-type {\n",
       "        vertical-align: middle;\n",
       "    }\n",
       "\n",
       "    .dataframe tbody tr th {\n",
       "        vertical-align: top;\n",
       "    }\n",
       "\n",
       "    .dataframe thead th {\n",
       "        text-align: right;\n",
       "    }\n",
       "</style>\n",
       "<table border=\"1\" class=\"dataframe\">\n",
       "  <thead>\n",
       "    <tr style=\"text-align: right;\">\n",
       "      <th></th>\n",
       "      <th>count</th>\n",
       "      <th>mean</th>\n",
       "      <th>std</th>\n",
       "      <th>min</th>\n",
       "      <th>25%</th>\n",
       "      <th>50%</th>\n",
       "      <th>75%</th>\n",
       "      <th>max</th>\n",
       "    </tr>\n",
       "    <tr>\n",
       "      <th>platform</th>\n",
       "      <th></th>\n",
       "      <th></th>\n",
       "      <th></th>\n",
       "      <th></th>\n",
       "      <th></th>\n",
       "      <th></th>\n",
       "      <th></th>\n",
       "      <th></th>\n",
       "    </tr>\n",
       "  </thead>\n",
       "  <tbody>\n",
       "    <tr>\n",
       "      <th>3DS</th>\n",
       "      <td>303.0</td>\n",
       "      <td>0.472772</td>\n",
       "      <td>1.381347</td>\n",
       "      <td>0.01</td>\n",
       "      <td>0.0400</td>\n",
       "      <td>0.090</td>\n",
       "      <td>0.2800</td>\n",
       "      <td>14.60</td>\n",
       "    </tr>\n",
       "    <tr>\n",
       "      <th>DS</th>\n",
       "      <td>8.0</td>\n",
       "      <td>0.192500</td>\n",
       "      <td>0.172026</td>\n",
       "      <td>0.03</td>\n",
       "      <td>0.0675</td>\n",
       "      <td>0.150</td>\n",
       "      <td>0.2525</td>\n",
       "      <td>0.51</td>\n",
       "    </tr>\n",
       "    <tr>\n",
       "      <th>PC</th>\n",
       "      <td>189.0</td>\n",
       "      <td>0.208624</td>\n",
       "      <td>0.352304</td>\n",
       "      <td>0.01</td>\n",
       "      <td>0.0300</td>\n",
       "      <td>0.080</td>\n",
       "      <td>0.2300</td>\n",
       "      <td>3.05</td>\n",
       "    </tr>\n",
       "    <tr>\n",
       "      <th>PS3</th>\n",
       "      <td>345.0</td>\n",
       "      <td>0.525884</td>\n",
       "      <td>1.451939</td>\n",
       "      <td>0.01</td>\n",
       "      <td>0.0400</td>\n",
       "      <td>0.150</td>\n",
       "      <td>0.5100</td>\n",
       "      <td>21.05</td>\n",
       "    </tr>\n",
       "    <tr>\n",
       "      <th>PS4</th>\n",
       "      <td>392.0</td>\n",
       "      <td>0.801378</td>\n",
       "      <td>1.609456</td>\n",
       "      <td>0.01</td>\n",
       "      <td>0.0600</td>\n",
       "      <td>0.200</td>\n",
       "      <td>0.7300</td>\n",
       "      <td>14.63</td>\n",
       "    </tr>\n",
       "    <tr>\n",
       "      <th>PSP</th>\n",
       "      <td>67.0</td>\n",
       "      <td>0.052239</td>\n",
       "      <td>0.059768</td>\n",
       "      <td>0.01</td>\n",
       "      <td>0.0150</td>\n",
       "      <td>0.020</td>\n",
       "      <td>0.0700</td>\n",
       "      <td>0.24</td>\n",
       "    </tr>\n",
       "    <tr>\n",
       "      <th>PSV</th>\n",
       "      <td>358.0</td>\n",
       "      <td>0.092151</td>\n",
       "      <td>0.153816</td>\n",
       "      <td>0.01</td>\n",
       "      <td>0.0200</td>\n",
       "      <td>0.040</td>\n",
       "      <td>0.1100</td>\n",
       "      <td>1.96</td>\n",
       "    </tr>\n",
       "    <tr>\n",
       "      <th>Wii</th>\n",
       "      <td>23.0</td>\n",
       "      <td>0.593913</td>\n",
       "      <td>0.915432</td>\n",
       "      <td>0.01</td>\n",
       "      <td>0.0450</td>\n",
       "      <td>0.180</td>\n",
       "      <td>0.7550</td>\n",
       "      <td>3.58</td>\n",
       "    </tr>\n",
       "    <tr>\n",
       "      <th>WiiU</th>\n",
       "      <td>115.0</td>\n",
       "      <td>0.562000</td>\n",
       "      <td>1.038778</td>\n",
       "      <td>0.01</td>\n",
       "      <td>0.0600</td>\n",
       "      <td>0.200</td>\n",
       "      <td>0.5950</td>\n",
       "      <td>7.09</td>\n",
       "    </tr>\n",
       "    <tr>\n",
       "      <th>X360</th>\n",
       "      <td>186.0</td>\n",
       "      <td>0.735484</td>\n",
       "      <td>1.663275</td>\n",
       "      <td>0.01</td>\n",
       "      <td>0.0800</td>\n",
       "      <td>0.265</td>\n",
       "      <td>0.7950</td>\n",
       "      <td>16.27</td>\n",
       "    </tr>\n",
       "    <tr>\n",
       "      <th>XOne</th>\n",
       "      <td>247.0</td>\n",
       "      <td>0.645020</td>\n",
       "      <td>1.036139</td>\n",
       "      <td>0.01</td>\n",
       "      <td>0.0600</td>\n",
       "      <td>0.220</td>\n",
       "      <td>0.6850</td>\n",
       "      <td>7.39</td>\n",
       "    </tr>\n",
       "  </tbody>\n",
       "</table>\n",
       "</div>"
      ],
      "text/plain": [
       "          count      mean       std   min     25%    50%     75%    max\n",
       "platform                                                               \n",
       "3DS       303.0  0.472772  1.381347  0.01  0.0400  0.090  0.2800  14.60\n",
       "DS          8.0  0.192500  0.172026  0.03  0.0675  0.150  0.2525   0.51\n",
       "PC        189.0  0.208624  0.352304  0.01  0.0300  0.080  0.2300   3.05\n",
       "PS3       345.0  0.525884  1.451939  0.01  0.0400  0.150  0.5100  21.05\n",
       "PS4       392.0  0.801378  1.609456  0.01  0.0600  0.200  0.7300  14.63\n",
       "PSP        67.0  0.052239  0.059768  0.01  0.0150  0.020  0.0700   0.24\n",
       "PSV       358.0  0.092151  0.153816  0.01  0.0200  0.040  0.1100   1.96\n",
       "Wii        23.0  0.593913  0.915432  0.01  0.0450  0.180  0.7550   3.58\n",
       "WiiU      115.0  0.562000  1.038778  0.01  0.0600  0.200  0.5950   7.09\n",
       "X360      186.0  0.735484  1.663275  0.01  0.0800  0.265  0.7950  16.27\n",
       "XOne      247.0  0.645020  1.036139  0.01  0.0600  0.220  0.6850   7.39"
      ]
     },
     "execution_count": 37,
     "metadata": {},
     "output_type": "execute_result"
    }
   ],
   "source": [
    "actual_df.groupby('platform')['total_sales'].describe()"
   ]
  },
  {
   "cell_type": "markdown",
   "metadata": {},
   "source": [
    "На графике видно, что максимальные медианное значение по продажам у платформы - X360. Немногим уступают платформы: XOne, PS4, WiiU, Wii.  \n",
    "Наибольший разброс значений у платформы PS4. Далее идут X360, Wii, WiiU.  "
   ]
  },
  {
   "cell_type": "markdown",
   "metadata": {},
   "source": [
    "### Как влияют на продажи внутри одной популярной платформы отзывы пользователей и критиков. Постройте диаграмму рассеяния и посчитайте корреляцию между отзывами и продажами. Сформулируйте выводы."
   ]
  },
  {
   "cell_type": "markdown",
   "metadata": {},
   "source": [
    "Рассмотрим как влияют на продажи отзывы пользователей и критиков, на платформе PS4."
   ]
  },
  {
   "cell_type": "code",
   "execution_count": 38,
   "metadata": {},
   "outputs": [],
   "source": [
    "ps4_df = actual_df[['total_sales', 'platform', 'critic_score', 'user_score']].query('platform == \"PS4\"')"
   ]
  },
  {
   "cell_type": "markdown",
   "metadata": {},
   "source": [
    "Построим матрицу рассеяния и матрицу корреляции."
   ]
  },
  {
   "cell_type": "code",
   "execution_count": 39,
   "metadata": {},
   "outputs": [
    {
     "data": {
      "image/png": "[encoded data removed]",
      "text/plain": [
       "<Figure size 648x648 with 9 Axes>"
      ]
     },
     "metadata": {
      "needs_background": "light"
     },
     "output_type": "display_data"
    }
   ],
   "source": [
    "pd.plotting.scatter_matrix(ps4_df, figsize=(9, 9)) \n",
    "None"
   ]
  },
  {
   "cell_type": "code",
   "execution_count": 40,
   "metadata": {},
   "outputs": [
    {
     "name": "stdout",
     "output_type": "stream",
     "text": [
      "              total_sales  critic_score  user_score\n",
      "total_sales      1.000000      0.406568   -0.031957\n",
      "critic_score     0.406568      1.000000    0.557654\n",
      "user_score      -0.031957      0.557654    1.000000\n"
     ]
    }
   ],
   "source": [
    "print(ps4_df.corr()) "
   ]
  },
  {
   "cell_type": "markdown",
   "metadata": {},
   "source": [
    "По матрице корреляции видно, что коэффициент корреляции между продажами и отзывами критиков равен 0.406568, а коэффициент корреляции между продажами и отзывами пользователей равен -0.031957. Это означает, что существует линейная положительная связь между продажами и отзывами критиков, однако не слишком сильная. А линейная связь между продажами и отзывами пользователей, очень слабая либо отсутствует вовсе."
   ]
  },
  {
   "cell_type": "markdown",
   "metadata": {},
   "source": [
    "### Соотнесите выводы с продажами игр на других платформах."
   ]
  },
  {
   "cell_type": "markdown",
   "metadata": {},
   "source": [
    "Рассмотрим как влияют на продажи отзывы пользователей и критиков, на платформах: XOne, PS3, X360, 3DS, WiiU."
   ]
  },
  {
   "cell_type": "code",
   "execution_count": 41,
   "metadata": {},
   "outputs": [],
   "source": [
    "other_platform = ['XOne', 'PS3', 'X360', '3DS', 'WiiU']"
   ]
  },
  {
   "cell_type": "markdown",
   "metadata": {},
   "source": [
    "Построим матрицу корреляции по выбранным платформам."
   ]
  },
  {
   "cell_type": "code",
   "execution_count": 42,
   "metadata": {
    "scrolled": false
   },
   "outputs": [
    {
     "name": "stdout",
     "output_type": "stream",
     "text": [
      "\n",
      "XOne\n",
      "              total_sales  critic_score  user_score\n",
      "total_sales      1.000000      0.416998   -0.068925\n",
      "critic_score     0.416998      1.000000    0.472462\n",
      "user_score      -0.068925      0.472462    1.000000\n",
      "\n",
      "PS3\n",
      "              total_sales  critic_score  user_score\n",
      "total_sales      1.000000      0.334285    0.002394\n",
      "critic_score     0.334285      1.000000    0.599920\n",
      "user_score       0.002394      0.599920    1.000000\n",
      "\n",
      "X360\n",
      "              total_sales  critic_score  user_score\n",
      "total_sales      1.000000      0.350345   -0.011742\n",
      "critic_score     0.350345      1.000000    0.520946\n",
      "user_score      -0.011742      0.520946    1.000000\n",
      "\n",
      "3DS\n",
      "              total_sales  critic_score  user_score\n",
      "total_sales      1.000000      0.357057    0.241504\n",
      "critic_score     0.357057      1.000000    0.769536\n",
      "user_score       0.241504      0.769536    1.000000\n",
      "\n",
      "WiiU\n",
      "              total_sales  critic_score  user_score\n",
      "total_sales      1.000000      0.376415    0.419330\n",
      "critic_score     0.376415      1.000000    0.721313\n",
      "user_score       0.419330      0.721313    1.000000\n"
     ]
    }
   ],
   "source": [
    "for platform in other_platform:\n",
    "    print()\n",
    "    print(platform)\n",
    "    platform_df = actual_df[['total_sales', 'platform', 'critic_score', 'user_score']].query('platform == @platform')\n",
    "    print(platform_df.corr())"
   ]
  },
  {
   "cell_type": "markdown",
   "metadata": {},
   "source": [
    "По другим платформам отзывы критиков влияют на продажи похожим образом, что на платформе PS4. Коэффициенты корреляции разнятся от 0.334285 у PS3 до 0.416998 у XOne.  \n",
    "У платформ 3DS и WiiU отмечается несильная линейная положительная связь между продажами и отзывами пользователей. Коэффициенты коррелиции 0.241504 и 0.419330 соответственно. Эти платформы объединяет производитель - Nintendo. Можно предположить, то что покупатели игр от Nintendo, обращают внимание не только на оценки от критиков, но и на оценки от пользователей.  \n",
    "У остальных платформ эта связь на том же нулевом уровне, что и у PS4.\n",
    "\n"
   ]
  },
  {
   "cell_type": "markdown",
   "metadata": {},
   "source": [
    "<div class=\"alert alert-sucess\">\n",
    "<font size=\"5\"><b>Комментарий ревьюера</b></font>\n",
    "\n",
    "Успех: \n",
    "    \n",
    "Все полученные результаты верны, отсутствие корреляцией между отзывами клиентов и продажами подчеркнута правильно, графики оформлены аккуратно, метод .corr() использован.\n",
    "\n",
    "\n",
    "    \n",
    "</div>"
   ]
  },
  {
   "cell_type": "markdown",
   "metadata": {},
   "source": [
    "### Посмотрите на общее распределение игр по жанрам. Что можно сказать о самых прибыльных жанрах? Выделяются ли жанры с высокими и низкими продажами?"
   ]
  },
  {
   "cell_type": "markdown",
   "metadata": {},
   "source": [
    "Построим гистограмму и диаграмму размаха распределения общего количества продаж игр от жанра."
   ]
  },
  {
   "cell_type": "code",
   "execution_count": 43,
   "metadata": {},
   "outputs": [
    {
     "data": {
      "image/png": "[encoded data removed]",
      "text/plain": [
       "<Figure size 864x648 with 1 Axes>"
      ]
     },
     "metadata": {
      "needs_background": "light"
     },
     "output_type": "display_data"
    }
   ],
   "source": [
    "actual_df.groupby('genre')['total_sales'].sum().sort_values(ascending=False).plot.bar(figsize=(12,9), grid=True)\n",
    "plt.xlabel('Жанр игры')\n",
    "plt.ylabel('Общее количество продаж, млн')\n",
    "plt.show()"
   ]
  },
  {
   "cell_type": "code",
   "execution_count": 44,
   "metadata": {},
   "outputs": [
    {
     "data": {
      "image/png": "[encoded data removed]",
      "text/plain": [
       "<Figure size 1152x864 with 1 Axes>"
      ]
     },
     "metadata": {
      "needs_background": "light"
     },
     "output_type": "display_data"
    }
   ],
   "source": [
    "plt.figure(figsize=(16,12))\n",
    "boxplot1 = sns.boxplot(x='genre', y='total_sales', data=actual_df)\n",
    "boxplot1.set_xlabel(\"Жанр игры\", fontsize=14)\n",
    "boxplot1.set_ylabel(\"Общее количество продаж\", fontsize=14)\n",
    "plt.ylim(0, 3.5)\n",
    "plt.show()"
   ]
  },
  {
   "cell_type": "code",
   "execution_count": 45,
   "metadata": {},
   "outputs": [
    {
     "data": {
      "text/html": [
       "<div>\n",
       "<style scoped>\n",
       "    .dataframe tbody tr th:only-of-type {\n",
       "        vertical-align: middle;\n",
       "    }\n",
       "\n",
       "    .dataframe tbody tr th {\n",
       "        vertical-align: top;\n",
       "    }\n",
       "\n",
       "    .dataframe thead th {\n",
       "        text-align: right;\n",
       "    }\n",
       "</style>\n",
       "<table border=\"1\" class=\"dataframe\">\n",
       "  <thead>\n",
       "    <tr style=\"text-align: right;\">\n",
       "      <th></th>\n",
       "      <th>count</th>\n",
       "      <th>mean</th>\n",
       "      <th>std</th>\n",
       "      <th>min</th>\n",
       "      <th>25%</th>\n",
       "      <th>50%</th>\n",
       "      <th>75%</th>\n",
       "      <th>max</th>\n",
       "    </tr>\n",
       "    <tr>\n",
       "      <th>genre</th>\n",
       "      <th></th>\n",
       "      <th></th>\n",
       "      <th></th>\n",
       "      <th></th>\n",
       "      <th></th>\n",
       "      <th></th>\n",
       "      <th></th>\n",
       "      <th></th>\n",
       "    </tr>\n",
       "  </thead>\n",
       "  <tbody>\n",
       "    <tr>\n",
       "      <th>Action</th>\n",
       "      <td>766.0</td>\n",
       "      <td>0.420196</td>\n",
       "      <td>1.253909</td>\n",
       "      <td>0.01</td>\n",
       "      <td>0.03</td>\n",
       "      <td>0.110</td>\n",
       "      <td>0.3375</td>\n",
       "      <td>21.05</td>\n",
       "    </tr>\n",
       "    <tr>\n",
       "      <th>Adventure</th>\n",
       "      <td>245.0</td>\n",
       "      <td>0.096490</td>\n",
       "      <td>0.216445</td>\n",
       "      <td>0.01</td>\n",
       "      <td>0.02</td>\n",
       "      <td>0.030</td>\n",
       "      <td>0.0700</td>\n",
       "      <td>1.66</td>\n",
       "    </tr>\n",
       "    <tr>\n",
       "      <th>Fighting</th>\n",
       "      <td>80.0</td>\n",
       "      <td>0.441375</td>\n",
       "      <td>1.048883</td>\n",
       "      <td>0.01</td>\n",
       "      <td>0.06</td>\n",
       "      <td>0.125</td>\n",
       "      <td>0.3225</td>\n",
       "      <td>7.55</td>\n",
       "    </tr>\n",
       "    <tr>\n",
       "      <th>Misc</th>\n",
       "      <td>155.0</td>\n",
       "      <td>0.405290</td>\n",
       "      <td>1.007985</td>\n",
       "      <td>0.01</td>\n",
       "      <td>0.03</td>\n",
       "      <td>0.100</td>\n",
       "      <td>0.3300</td>\n",
       "      <td>9.18</td>\n",
       "    </tr>\n",
       "    <tr>\n",
       "      <th>Platform</th>\n",
       "      <td>74.0</td>\n",
       "      <td>0.576081</td>\n",
       "      <td>0.806808</td>\n",
       "      <td>0.01</td>\n",
       "      <td>0.09</td>\n",
       "      <td>0.225</td>\n",
       "      <td>0.6275</td>\n",
       "      <td>4.32</td>\n",
       "    </tr>\n",
       "    <tr>\n",
       "      <th>Puzzle</th>\n",
       "      <td>17.0</td>\n",
       "      <td>0.186471</td>\n",
       "      <td>0.325172</td>\n",
       "      <td>0.01</td>\n",
       "      <td>0.02</td>\n",
       "      <td>0.060</td>\n",
       "      <td>0.1100</td>\n",
       "      <td>1.19</td>\n",
       "    </tr>\n",
       "    <tr>\n",
       "      <th>Racing</th>\n",
       "      <td>85.0</td>\n",
       "      <td>0.469294</td>\n",
       "      <td>0.964101</td>\n",
       "      <td>0.01</td>\n",
       "      <td>0.05</td>\n",
       "      <td>0.120</td>\n",
       "      <td>0.3800</td>\n",
       "      <td>7.09</td>\n",
       "    </tr>\n",
       "    <tr>\n",
       "      <th>Role-Playing</th>\n",
       "      <td>292.0</td>\n",
       "      <td>0.499623</td>\n",
       "      <td>1.353164</td>\n",
       "      <td>0.01</td>\n",
       "      <td>0.06</td>\n",
       "      <td>0.125</td>\n",
       "      <td>0.3825</td>\n",
       "      <td>14.60</td>\n",
       "    </tr>\n",
       "    <tr>\n",
       "      <th>Shooter</th>\n",
       "      <td>187.0</td>\n",
       "      <td>1.245882</td>\n",
       "      <td>2.014107</td>\n",
       "      <td>0.01</td>\n",
       "      <td>0.14</td>\n",
       "      <td>0.450</td>\n",
       "      <td>1.4250</td>\n",
       "      <td>14.63</td>\n",
       "    </tr>\n",
       "    <tr>\n",
       "      <th>Simulation</th>\n",
       "      <td>62.0</td>\n",
       "      <td>0.350968</td>\n",
       "      <td>0.849163</td>\n",
       "      <td>0.01</td>\n",
       "      <td>0.03</td>\n",
       "      <td>0.100</td>\n",
       "      <td>0.2950</td>\n",
       "      <td>5.22</td>\n",
       "    </tr>\n",
       "    <tr>\n",
       "      <th>Sports</th>\n",
       "      <td>214.0</td>\n",
       "      <td>0.703972</td>\n",
       "      <td>1.219237</td>\n",
       "      <td>0.01</td>\n",
       "      <td>0.07</td>\n",
       "      <td>0.240</td>\n",
       "      <td>0.7650</td>\n",
       "      <td>8.58</td>\n",
       "    </tr>\n",
       "    <tr>\n",
       "      <th>Strategy</th>\n",
       "      <td>56.0</td>\n",
       "      <td>0.180000</td>\n",
       "      <td>0.279441</td>\n",
       "      <td>0.01</td>\n",
       "      <td>0.04</td>\n",
       "      <td>0.080</td>\n",
       "      <td>0.2325</td>\n",
       "      <td>1.67</td>\n",
       "    </tr>\n",
       "  </tbody>\n",
       "</table>\n",
       "</div>"
      ],
      "text/plain": [
       "              count      mean       std   min   25%    50%     75%    max\n",
       "genre                                                                    \n",
       "Action        766.0  0.420196  1.253909  0.01  0.03  0.110  0.3375  21.05\n",
       "Adventure     245.0  0.096490  0.216445  0.01  0.02  0.030  0.0700   1.66\n",
       "Fighting       80.0  0.441375  1.048883  0.01  0.06  0.125  0.3225   7.55\n",
       "Misc          155.0  0.405290  1.007985  0.01  0.03  0.100  0.3300   9.18\n",
       "Platform       74.0  0.576081  0.806808  0.01  0.09  0.225  0.6275   4.32\n",
       "Puzzle         17.0  0.186471  0.325172  0.01  0.02  0.060  0.1100   1.19\n",
       "Racing         85.0  0.469294  0.964101  0.01  0.05  0.120  0.3800   7.09\n",
       "Role-Playing  292.0  0.499623  1.353164  0.01  0.06  0.125  0.3825  14.60\n",
       "Shooter       187.0  1.245882  2.014107  0.01  0.14  0.450  1.4250  14.63\n",
       "Simulation     62.0  0.350968  0.849163  0.01  0.03  0.100  0.2950   5.22\n",
       "Sports        214.0  0.703972  1.219237  0.01  0.07  0.240  0.7650   8.58\n",
       "Strategy       56.0  0.180000  0.279441  0.01  0.04  0.080  0.2325   1.67"
      ]
     },
     "execution_count": 45,
     "metadata": {},
     "output_type": "execute_result"
    }
   ],
   "source": [
    "actual_df.groupby('genre')['total_sales'].describe()"
   ]
  },
  {
   "cell_type": "markdown",
   "metadata": {},
   "source": [
    "У лидера по продажам - жанра Action самое большое количество наименований игр - 766 шт. и самое высокое максимальное значение проданных копий - 21,05 млн. Медианное значние - 0.110 млн. копий.  \n",
    "У второго по количеству продаж, жанру Shooter, меньшее количество наименований игр - 187 шт., но большее медианное значение, чем у жанра Action, 0.450 млн. копий.  \n",
    "У последнего места - жанра Puzzle, наименьшее количество наименований игр - 17 шт., и наименьшее максимальное значение проданных копий - 1.19 млн.   "
   ]
  },
  {
   "cell_type": "markdown",
   "metadata": {},
   "source": [
    "### Вывод"
   ]
  },
  {
   "cell_type": "markdown",
   "metadata": {},
   "source": [
    "На этапе исследовательского анализа данных было выполнено:\n",
    "- Построен график зависимости количества выпускаемых игр от года. Максимум выпускаемых игр приходится на 2008-2009 года;  \n",
    "- Определены топ-10 платформ с наибольшими суммарными продажами. Вычислен характерный срок, за который появляются новые и исчезают старые платформы, который составил 6 лет;\n",
    "- Был отфильтрован исходный датафрейм по актуальному периоду, который составил 3 года;\n",
    "- Были определены платформы, которые лидировали по продажам за актуальный период. Выбраны две потенциально прибыльных платформ - PS4 и XOne;\n",
    "- Построен график «ящик с усами» по глобальным продажам игр в разбивке по платформам;\n",
    "- Построены диаграммы рассеяния и посчитаны корреляции между отзывами и продажами. Была выявлена линейная несильная положительная связь между продажами и отзывами критиков. Линейная связь между продажами и отзывами пользователей, очень слабая либо отсутствует вовсе, кроме платформ производителя Nintendo, у которых также выявлена линейная несильная положительная связь между отзывами и продажами;\n",
    "- Изучено общее распределение игр по жанрам. Лидеры продаж - жанры Action и Shooter. Последние места занимают жанры Strategy и Puzzle."
   ]
  },
  {
   "cell_type": "markdown",
   "metadata": {},
   "source": [
    "## Шаг 4. Составьте портрет пользователя каждого региона"
   ]
  },
  {
   "cell_type": "markdown",
   "metadata": {},
   "source": [
    "Определим для пользователя каждого региона (NA, EU, JP):\n",
    "- Самые популярные платформы (топ-5). Опишите различия в долях продаж.\n",
    "- Самые популярные жанры (топ-5). Поясните разницу.\n",
    "- Влияет ли рейтинг ESRB на продажи в отдельном регионе?"
   ]
  },
  {
   "cell_type": "markdown",
   "metadata": {},
   "source": [
    "### Определение топ-5 самых популярных платформ по регионам."
   ]
  },
  {
   "cell_type": "markdown",
   "metadata": {},
   "source": [
    "Создадим список с продажами игр по регионам NA, EU, JP."
   ]
  },
  {
   "cell_type": "code",
   "execution_count": 46,
   "metadata": {},
   "outputs": [],
   "source": [
    "sales_regions = ['na_sales','eu_sales','jp_sales']"
   ]
  },
  {
   "cell_type": "markdown",
   "metadata": {},
   "source": [
    "Для каждого региона построим круговые диаграммы распределения продаж игр для топ-5 самых популярных платформ."
   ]
  },
  {
   "cell_type": "code",
   "execution_count": 47,
   "metadata": {},
   "outputs": [
    {
     "name": "stdout",
     "output_type": "stream",
     "text": [
      "Топ-5 cамыx популярныx платформ для NA региона:\n",
      "platform\n",
      "PS4     108.74\n",
      "XOne     93.12\n",
      "X360     81.66\n",
      "PS3      63.50\n",
      "3DS      38.20\n",
      "Name: na_sales, dtype: float64\n",
      "\n",
      "Топ-5 cамыx популярныx платформ для EU региона:\n",
      "platform\n",
      "PS4     141.09\n",
      "PS3      67.81\n",
      "XOne     51.59\n",
      "X360     42.52\n",
      "3DS      30.96\n",
      "Name: eu_sales, dtype: float64\n",
      "\n",
      "Топ-5 cамыx популярныx платформ для JP региона:\n",
      "platform\n",
      "3DS     67.81\n",
      "PS3     23.35\n",
      "PSV     18.59\n",
      "PS4     15.96\n",
      "WiiU    10.88\n",
      "Name: jp_sales, dtype: float64\n",
      "\n"
     ]
    },
    {
     "data": {
      "image/png": "[encoded data removed]",
      "text/plain": [
       "<Figure size 1224x576 with 3 Axes>"
      ]
     },
     "metadata": {},
     "output_type": "display_data"
    }
   ],
   "source": [
    "fig, axis = plt.subplots(1, 3, figsize=(17,8))\n",
    "\n",
    "for j in range(len(sales_regions)): \n",
    "    top_platform = actual_df.groupby(['platform'])[sales_regions[j]].sum().sort_values(ascending=False).head()\n",
    "    top_platform.plot.pie(ax=axis[j])\n",
    "    print('Топ-5 cамыx популярныx платформ для', sales_regions[j][:2].upper(), 'региона:')\n",
    "    print(top_platform) \n",
    "    print() \n",
    "    \n",
    "plt.show()"
   ]
  },
  {
   "cell_type": "markdown",
   "metadata": {},
   "source": [
    "В Северной Америке и Европе наиболее популярна платформа PS4. Также в Северной Америке сильны позиции приставок Xbox 360 и Xbox One, выпущенных американской компанией Microsoft.  \n",
    "В Японии все топ-5 платформ от японских производитедей Nintendo и Sony. Самая популярная из которых, портативная платформа Nintendo 3DS."
   ]
  },
  {
   "cell_type": "markdown",
   "metadata": {},
   "source": [
    "### Определение топ-5 самых популярных жанров по регионам."
   ]
  },
  {
   "cell_type": "markdown",
   "metadata": {},
   "source": [
    "Для каждого региона построим круговые диаграммы распределения продаж игр для топ-5 самых популярных жанров."
   ]
  },
  {
   "cell_type": "code",
   "execution_count": 48,
   "metadata": {},
   "outputs": [
    {
     "name": "stdout",
     "output_type": "stream",
     "text": [
      "Топ-5 cамыx популярныx жанров для NA региона:\n",
      "genre\n",
      "Action          126.05\n",
      "Shooter         109.74\n",
      "Sports           65.27\n",
      "Role-Playing     46.40\n",
      "Misc             27.49\n",
      "Name: na_sales, dtype: float64\n",
      "\n",
      "Топ-5 cамыx популярныx жанров для EU региона:\n",
      "genre\n",
      "Action          118.13\n",
      "Shooter          87.86\n",
      "Sports           60.52\n",
      "Role-Playing     36.97\n",
      "Racing           20.19\n",
      "Name: eu_sales, dtype: float64\n",
      "\n",
      "Топ-5 cамыx популярныx жанров для JP региона:\n",
      "genre\n",
      "Role-Playing    51.04\n",
      "Action          40.49\n",
      "Misc             9.20\n",
      "Fighting         7.65\n",
      "Shooter          6.61\n",
      "Name: jp_sales, dtype: float64\n",
      "\n"
     ]
    },
    {
     "data": {
      "image/png": "[encoded data removed]",
      "text/plain": [
       "<Figure size 1224x576 with 3 Axes>"
      ]
     },
     "metadata": {},
     "output_type": "display_data"
    }
   ],
   "source": [
    "fig, axis = plt.subplots(1, 3, figsize=(17,8))\n",
    "\n",
    "for j in range(len(sales_regions)): \n",
    "    top_platform = actual_df.groupby(['genre'])[sales_regions[j]].sum().sort_values(ascending=False).head()\n",
    "    top_platform.plot.pie(ax=axis[j])\n",
    "    print('Топ-5 cамыx популярныx жанров для', sales_regions[j][:2].upper(), 'региона:')\n",
    "    print(top_platform) \n",
    "    print() \n",
    "    \n",
    "plt.show()"
   ]
  },
  {
   "cell_type": "markdown",
   "metadata": {},
   "source": [
    "Схожи предпочтения в Северной Америке и Европе и по жанрам игр. Первые четыре позиции совпадают - Action, Shooter, Sports, Role-Playing.  \n",
    "В Японии лидируют два жанра Role-Playing и Action."
   ]
  },
  {
   "cell_type": "markdown",
   "metadata": {},
   "source": [
    "### Определение наличия влияния рейтинга ESRB на продажи в отдельном регионе."
   ]
  },
  {
   "cell_type": "markdown",
   "metadata": {},
   "source": [
    "Построим гистограмму продаж в зависимости от рейтинга ESRB по каждому из регионов."
   ]
  },
  {
   "cell_type": "code",
   "execution_count": 49,
   "metadata": {},
   "outputs": [
    {
     "data": {
      "text/plain": [
       "<AxesSubplot:xlabel='rating'>"
      ]
     },
     "execution_count": 49,
     "metadata": {},
     "output_type": "execute_result"
    },
    {
     "data": {
      "image/png": "[encoded data removed]",
      "text/plain": [
       "<Figure size 432x288 with 1 Axes>"
      ]
     },
     "metadata": {
      "needs_background": "light"
     },
     "output_type": "display_data"
    }
   ],
   "source": [
    "actual_df.groupby('rating')[['na_sales', 'eu_sales', 'jp_sales']].sum().plot.bar(grid=True)"
   ]
  },
  {
   "cell_type": "markdown",
   "metadata": {},
   "source": [
    "По гистограмме видно, что в североамериканском (na) и европейском (eu) регионах наибольшей популярностью пользуются игры категории «M» («Mature) — «Для взрослых». В японском регионе (jp) больше всего продаж игр категории «T» («Teen») — «Подросткам»."
   ]
  },
  {
   "cell_type": "markdown",
   "metadata": {},
   "source": [
    "### Вывод"
   ]
  },
  {
   "cell_type": "markdown",
   "metadata": {},
   "source": [
    "На данном этапе составлен портрет пользователя каждого региона.  \n",
    "Для японского региона это пользователь, который предпочитает игры в жанре Role-Playing и Action на платформа Nintendo 3DS с рейтингом ESRB «T» - «Подросткам».  \n",
    "Для Северной Америки и Европы портрет пользователя совпадает это человек, который предпочитает игры в жанре Action и Shooter на платформе PS4 с рейтингом «M» — «Для взрослых». Единственное отличие - в Северной Америке также популярна платформа Xbox."
   ]
  },
  {
   "cell_type": "markdown",
   "metadata": {},
   "source": [
    "## Шаг 5. Проверка гипотез"
   ]
  },
  {
   "cell_type": "markdown",
   "metadata": {},
   "source": [
    "### Средние пользовательские рейтинги платформ Xbox One и PC одинаковые."
   ]
  },
  {
   "cell_type": "markdown",
   "metadata": {},
   "source": [
    "Сформулируем нулевую H0 и альтернативную H1 гипотезы:  \n",
    "H0 — Средние пользовательские рейтинги платформ Xbox One и PC одинаковые.  \n",
    "H1 — Средние пользовательские рейтинги платформ Xbox One и PC разные.  \n",
    "Пороговое значение примем: α = 0.05"
   ]
  },
  {
   "cell_type": "markdown",
   "metadata": {},
   "source": [
    "Применим метод scipy.stats.ttest_ind (array1, array2, equal_var) для проверки гипотезы о равенстве среднего двух генеральных совокупностей по взятым из них выборкам."
   ]
  },
  {
   "cell_type": "code",
   "execution_count": 50,
   "metadata": {},
   "outputs": [],
   "source": [
    "platform_df = actual_df[['platform', 'user_score']]"
   ]
  },
  {
   "cell_type": "code",
   "execution_count": 51,
   "metadata": {},
   "outputs": [],
   "source": [
    "xone_df = platform_df.query('platform == \"XOne\"')['user_score'].dropna()"
   ]
  },
  {
   "cell_type": "code",
   "execution_count": 52,
   "metadata": {},
   "outputs": [],
   "source": [
    "pc_df = platform_df.query('platform == \"PC\"')['user_score'].dropna()"
   ]
  },
  {
   "cell_type": "code",
   "execution_count": 53,
   "metadata": {},
   "outputs": [
    {
     "name": "stdout",
     "output_type": "stream",
     "text": [
      "p-значение: 0.14012658403611647\n",
      "Не получилось отвергнуть нулевую гипотезу.\n"
     ]
    }
   ],
   "source": [
    "alpha = 0.05\n",
    "\n",
    "results = st.ttest_ind(\n",
    "    xone_df, \n",
    "    pc_df)\n",
    "\n",
    "print('p-значение:', results.pvalue)\n",
    "\n",
    "if results.pvalue < alpha:\n",
    "    print(\"Отвергаем нулевую гипотезу.\")\n",
    "else:\n",
    "    print(\"Не получилось отвергнуть нулевую гипотезу.\") "
   ]
  },
  {
   "cell_type": "markdown",
   "metadata": {},
   "source": [
    "Следовательно, средние пользовательские рейтинги платформ Xbox One и PC статистически значимо не различаются."
   ]
  },
  {
   "cell_type": "markdown",
   "metadata": {},
   "source": [
    "### Средние пользовательские рейтинги жанров Action и Sports разные."
   ]
  },
  {
   "cell_type": "markdown",
   "metadata": {},
   "source": [
    "Сформулируем нулевую H0 и альтернативную H1 гипотезы:  \n",
    "H0 — Средние пользовательские рейтинги жанров Action и Sports разные.  \n",
    "H1 — Средние пользовательские рейтинги жанров Action и Sports одинаковые.   \n",
    "Пороговое значение примем: α = 0.05"
   ]
  },
  {
   "cell_type": "markdown",
   "metadata": {},
   "source": [
    "Применим метод scipy.stats.ttest_ind (array1, array2, equal_var) для проверки гипотезы о равенстве среднего двух генеральных совокупностей по взятым из них выборкам."
   ]
  },
  {
   "cell_type": "code",
   "execution_count": 54,
   "metadata": {},
   "outputs": [],
   "source": [
    "genre_df = actual_df[['genre', 'user_score']]"
   ]
  },
  {
   "cell_type": "code",
   "execution_count": 55,
   "metadata": {},
   "outputs": [],
   "source": [
    "action_df = genre_df.query('genre == \"Action\"')['user_score'].dropna()"
   ]
  },
  {
   "cell_type": "code",
   "execution_count": 56,
   "metadata": {},
   "outputs": [],
   "source": [
    "sports_df = genre_df.query('genre == \"Sports\"')['user_score'].dropna()"
   ]
  },
  {
   "cell_type": "code",
   "execution_count": 57,
   "metadata": {},
   "outputs": [
    {
     "name": "stdout",
     "output_type": "stream",
     "text": [
      "p-значение: 1.0517832389140023e-27\n",
      "Отвергаем нулевую гипотезу.\n"
     ]
    }
   ],
   "source": [
    "alpha = 0.05\n",
    "\n",
    "results = st.ttest_ind(\n",
    "    action_df, \n",
    "    sports_df)\n",
    "\n",
    "print('p-значение:', results.pvalue)\n",
    "\n",
    "if results.pvalue < alpha:\n",
    "    print(\"Отвергаем нулевую гипотезу.\")\n",
    "else:\n",
    "    print(\"Не получилось отвергнуть нулевую гипотезу.\") "
   ]
  },
  {
   "cell_type": "markdown",
   "metadata": {},
   "source": [
    "Отвергаем нулевую гипотезу. Следовательно, средние пользовательские рейтинги жанров Action и Sports статистически значимо не различаются."
   ]
  },
  {
   "cell_type": "markdown",
   "metadata": {},
   "source": [
    "### Вывод"
   ]
  },
  {
   "cell_type": "markdown",
   "metadata": {},
   "source": [
    "Проверены 2 гипотезы:\n",
    "1. Средние пользовательские рейтинги платформ Xbox One и PC одинаковые. \n",
    "Гипотезу отвергнуть не удалось. \n",
    "2. Средние пользовательские рейтинги жанров Action и Sports разные.\n",
    "Гипотеза не подтвердилась. \n",
    "\n",
    "Для анализа был проведен t-тест с помощью метода для проверки гипотезы о равенстве среднего двух генеральных совокупностей по взятым из них выборкам scipy.stats.ttest_ind.\n"
   ]
  },
  {
   "cell_type": "markdown",
   "metadata": {},
   "source": [
    "## Oбщий вывод"
   ]
  },
  {
   "cell_type": "markdown",
   "metadata": {},
   "source": [
    "В ходе проекта были изучены исторические данные до 2016 года, о продажах игр, оценки пользователей и экспертов, жанры и платформы. Были выявлены определяющие успешность игры закономерности и определены потенциально популярные игровые платформы. Анализ данных состоял из следующих этапов:\n",
    "- Изучена общая информация файлов с данными.  \n",
    " - Исходный датафрейм состоит из 11 столбцов и 16715 строк. В шести столбцах (Name, Year_of_Release, Genre, Critic_Score, User_Score, Rating) присутствуют пропущенные значения. Присутствуют 2 типа данных: object - 5 шт и float64 - 6 шт.  \n",
    " \n",
    " \n",
    "- Проведена подготовка данных.  \n",
    " - Приведены к нижнему регистру названия столбцов датафрейма;\n",
    " - Обработаны пропуски:\n",
    "   - В столбцах name (название игры), year_of_release (год выпуска), genre (жанр игры) строки с пропусками были удалены.\n",
    "   - В столбце user_score (оценка пользователей) значения с аббревиатуру 'tbd', заменены на значения Nan,\n",
    "   - В столбце rating пропуски заменим на значение 'unknown'.\n",
    " - Преобразованы типы данных в столбцах:\n",
    "   - year_of_release (год выпуска) в тип int,\n",
    "   - user_score (оценка пользователей ) в тип float;\n",
    "  - Был рассчитан и добавлен в исходный датафрейм столбец total_sales с суммарными продажами во всех регионах.  \n",
    "  \n",
    "  \n",
    "- Проведен исследовательский анализ данных.  \n",
    " - Построен график зависимости количества выпускаемых игр от года. Максимум выпускаемых игр приходится на 2008-2009 года;\n",
    " - Определены топ-10 платформ с наибольшими суммарными продажами. Вычислен характерный срок, за который появляются новые и исчезают старые платформы, который составил 6 лет;\n",
    " - Был отфильтрован исходный датафрейм по актуальному периоду, который составил 3 года;\n",
    " - Были определены платформы, которые лидировали по продажам за актуальный период. Выбраны две потенциально прибыльных платформ - PS4 и XOne;\n",
    " - Построен график «ящик с усами» по глобальным продажам игр в разбивке по платформам;\n",
    " - Построены диаграммы рассеяния и посчитаны корреляции между отзывами и продажами. Была выявлена линейная несильная положительная связь между продажами и отзывами критиков. Линейная связь между продажами и отзывами пользователей, очень слабая либо отсутствует вовсе, кроме платформ производителя Nintendo, у которых также выявлена линейная несильная положительная связь между отзывами и продажами;\n",
    " - Изучено общее распределение игр по жанрам. Лидеры продаж - жанры Action и Shooter. Последние места занимают жанры Strategy и Puzzle.\n",
    " \n",
    " \n",
    "- Составлен портрет пользователя каждого региона.\n",
    " - Для Японии это пользователь, который предпочитает игры в жанре Role-Playing и Action на платформа Nintendo 3DS с рейтингом ESRB «T» - «Подросткам».\n",
    " - Для Северной Америки и Европы портрет пользователя совпадает это человек, который предпочитает игры в жанре Action и Shooter на платформе PS4 с рейтингом «M» — «Для взрослых». Единственное отличие - в Северной Америке также популярна платформа Xbox.  \n",
    " \n",
    " \n",
    "- Проверены 2 гипотезы.\n",
    " - Средние пользовательские рейтинги платформ Xbox One и PC одинаковые. Гипотезу отвергнуть не удалось.\n",
    " - Средние пользовательские рейтинги жанров Action и Sports разные. Гипотеза не подтвердилась.\n"
   ]
  }
 ],
 "metadata": {
  "ExecuteTimeLog": [
   {
    "duration": 5,
    "start_time": "2022-04-13T20:28:53.333Z"
   },
   {
    "duration": 13,
    "start_time": "2022-04-13T20:35:48.078Z"
   },
   {
    "duration": 1639,
    "start_time": "2022-04-13T20:38:41.915Z"
   },
   {
    "duration": 50,
    "start_time": "2022-04-13T20:40:26.761Z"
   },
   {
    "duration": 200,
    "start_time": "2022-04-13T20:40:34.695Z"
   },
   {
    "duration": 21,
    "start_time": "2022-04-13T20:40:40.245Z"
   },
   {
    "duration": 12,
    "start_time": "2022-04-13T20:43:57.298Z"
   },
   {
    "duration": 16,
    "start_time": "2022-04-13T20:44:19.177Z"
   },
   {
    "duration": 10,
    "start_time": "2022-04-13T20:44:57.890Z"
   },
   {
    "duration": 7,
    "start_time": "2022-04-13T20:46:02.742Z"
   },
   {
    "duration": 109,
    "start_time": "2022-04-13T20:55:19.875Z"
   },
   {
    "duration": 24,
    "start_time": "2022-04-13T20:56:03.428Z"
   },
   {
    "duration": 4,
    "start_time": "2022-04-13T20:57:03.606Z"
   },
   {
    "duration": 6,
    "start_time": "2022-04-13T20:57:21.246Z"
   },
   {
    "duration": 4,
    "start_time": "2022-04-13T20:58:40.312Z"
   },
   {
    "duration": 15,
    "start_time": "2022-04-13T21:04:13.571Z"
   },
   {
    "duration": 24,
    "start_time": "2022-04-13T21:04:16.186Z"
   },
   {
    "duration": 92,
    "start_time": "2022-04-13T21:07:01.333Z"
   },
   {
    "duration": 18,
    "start_time": "2022-04-13T21:08:06.016Z"
   },
   {
    "duration": 26,
    "start_time": "2022-04-13T21:08:23.772Z"
   },
   {
    "duration": 6,
    "start_time": "2022-04-13T21:14:00.429Z"
   },
   {
    "duration": 22,
    "start_time": "2022-04-13T21:14:03.551Z"
   },
   {
    "duration": 4,
    "start_time": "2022-04-13T21:14:36.870Z"
   },
   {
    "duration": 46,
    "start_time": "2022-04-13T21:14:36.877Z"
   },
   {
    "duration": 19,
    "start_time": "2022-04-13T21:14:36.925Z"
   },
   {
    "duration": 35,
    "start_time": "2022-04-13T21:14:36.947Z"
   },
   {
    "duration": 4,
    "start_time": "2022-04-13T21:14:36.985Z"
   },
   {
    "duration": 7,
    "start_time": "2022-04-13T21:14:36.991Z"
   },
   {
    "duration": 21,
    "start_time": "2022-04-13T21:14:49.223Z"
   },
   {
    "duration": 22,
    "start_time": "2022-04-13T21:15:34.141Z"
   },
   {
    "duration": 14,
    "start_time": "2022-04-13T21:15:41.368Z"
   },
   {
    "duration": 19,
    "start_time": "2022-04-13T21:15:42.863Z"
   },
   {
    "duration": 8,
    "start_time": "2022-04-13T21:23:46.425Z"
   },
   {
    "duration": 10,
    "start_time": "2022-04-13T21:24:09.024Z"
   },
   {
    "duration": 11,
    "start_time": "2022-04-13T21:28:55.522Z"
   },
   {
    "duration": 7,
    "start_time": "2022-04-13T21:29:02.856Z"
   },
   {
    "duration": 4,
    "start_time": "2022-04-13T21:29:34.498Z"
   },
   {
    "duration": 7,
    "start_time": "2022-04-13T21:29:36.284Z"
   },
   {
    "duration": 5,
    "start_time": "2022-04-13T21:29:56.818Z"
   },
   {
    "duration": 5,
    "start_time": "2022-04-13T21:30:06.411Z"
   },
   {
    "duration": 20,
    "start_time": "2022-04-13T21:30:25.427Z"
   },
   {
    "duration": 9,
    "start_time": "2022-04-13T21:31:08.444Z"
   },
   {
    "duration": 4,
    "start_time": "2022-04-13T21:31:17.817Z"
   },
   {
    "duration": 51,
    "start_time": "2022-04-13T21:31:17.824Z"
   },
   {
    "duration": 20,
    "start_time": "2022-04-13T21:31:17.877Z"
   },
   {
    "duration": 20,
    "start_time": "2022-04-13T21:31:17.898Z"
   },
   {
    "duration": 4,
    "start_time": "2022-04-13T21:31:17.921Z"
   },
   {
    "duration": 8,
    "start_time": "2022-04-13T21:31:17.927Z"
   },
   {
    "duration": 54,
    "start_time": "2022-04-13T21:31:17.937Z"
   },
   {
    "duration": 12,
    "start_time": "2022-04-13T21:31:17.994Z"
   },
   {
    "duration": 10,
    "start_time": "2022-04-13T21:31:27.175Z"
   },
   {
    "duration": 7,
    "start_time": "2022-04-13T21:31:29.164Z"
   },
   {
    "duration": 22,
    "start_time": "2022-04-13T21:31:41.173Z"
   },
   {
    "duration": 32,
    "start_time": "2022-04-13T21:39:53.064Z"
   },
   {
    "duration": 97,
    "start_time": "2022-04-13T21:45:01.564Z"
   },
   {
    "duration": 12,
    "start_time": "2022-04-13T21:45:06.082Z"
   },
   {
    "duration": 11,
    "start_time": "2022-04-13T21:45:13.110Z"
   },
   {
    "duration": 6,
    "start_time": "2022-04-13T21:45:19.125Z"
   },
   {
    "duration": 14,
    "start_time": "2022-04-13T21:45:20.109Z"
   },
   {
    "duration": 21,
    "start_time": "2022-04-13T21:45:31.533Z"
   },
   {
    "duration": 3,
    "start_time": "2022-04-13T21:46:15.336Z"
   },
   {
    "duration": 13,
    "start_time": "2022-04-13T21:52:07.430Z"
   },
   {
    "duration": 7,
    "start_time": "2022-04-13T21:52:11.528Z"
   },
   {
    "duration": 5,
    "start_time": "2022-04-13T21:54:41.027Z"
   },
   {
    "duration": 1683,
    "start_time": "2022-04-13T21:55:01.063Z"
   },
   {
    "duration": 7,
    "start_time": "2022-04-13T21:55:09.821Z"
   },
   {
    "duration": 8,
    "start_time": "2022-04-13T21:55:11.025Z"
   },
   {
    "duration": 12,
    "start_time": "2022-04-13T21:57:45.008Z"
   },
   {
    "duration": 8,
    "start_time": "2022-04-13T21:57:51.430Z"
   },
   {
    "duration": 22,
    "start_time": "2022-04-13T21:58:03.546Z"
   },
   {
    "duration": 1437,
    "start_time": "2022-04-13T21:59:04.250Z"
   },
   {
    "duration": 46,
    "start_time": "2022-04-13T21:59:05.690Z"
   },
   {
    "duration": 27,
    "start_time": "2022-04-13T21:59:05.739Z"
   },
   {
    "duration": 22,
    "start_time": "2022-04-13T21:59:05.784Z"
   },
   {
    "duration": 5,
    "start_time": "2022-04-13T21:59:05.809Z"
   },
   {
    "duration": 11,
    "start_time": "2022-04-13T21:59:05.816Z"
   },
   {
    "duration": 60,
    "start_time": "2022-04-13T21:59:05.830Z"
   },
   {
    "duration": 16,
    "start_time": "2022-04-13T21:59:05.893Z"
   },
   {
    "duration": 9,
    "start_time": "2022-04-13T21:59:05.912Z"
   },
   {
    "duration": 8,
    "start_time": "2022-04-13T21:59:05.924Z"
   },
   {
    "duration": 9,
    "start_time": "2022-04-13T21:59:05.934Z"
   },
   {
    "duration": 7,
    "start_time": "2022-04-13T21:59:05.982Z"
   },
   {
    "duration": 7,
    "start_time": "2022-04-13T21:59:05.991Z"
   },
   {
    "duration": 10,
    "start_time": "2022-04-13T21:59:06.000Z"
   },
   {
    "duration": 9,
    "start_time": "2022-04-13T21:59:06.012Z"
   },
   {
    "duration": 9,
    "start_time": "2022-04-13T21:59:06.023Z"
   },
   {
    "duration": 56,
    "start_time": "2022-04-13T21:59:06.034Z"
   },
   {
    "duration": 118,
    "start_time": "2022-04-14T20:27:26.486Z"
   },
   {
    "duration": 1332,
    "start_time": "2022-04-14T20:27:33.273Z"
   },
   {
    "duration": 41,
    "start_time": "2022-04-14T20:27:34.607Z"
   },
   {
    "duration": 17,
    "start_time": "2022-04-14T20:27:34.650Z"
   },
   {
    "duration": 14,
    "start_time": "2022-04-14T20:27:34.669Z"
   },
   {
    "duration": 3,
    "start_time": "2022-04-14T20:27:34.684Z"
   },
   {
    "duration": 30,
    "start_time": "2022-04-14T20:27:34.688Z"
   },
   {
    "duration": 17,
    "start_time": "2022-04-14T20:27:34.720Z"
   },
   {
    "duration": 12,
    "start_time": "2022-04-14T20:27:34.738Z"
   },
   {
    "duration": 7,
    "start_time": "2022-04-14T20:27:34.751Z"
   },
   {
    "duration": 5,
    "start_time": "2022-04-14T20:27:34.760Z"
   },
   {
    "duration": 7,
    "start_time": "2022-04-14T20:27:34.766Z"
   },
   {
    "duration": 38,
    "start_time": "2022-04-14T20:27:34.774Z"
   },
   {
    "duration": 5,
    "start_time": "2022-04-14T20:27:34.817Z"
   },
   {
    "duration": 9,
    "start_time": "2022-04-14T20:27:34.824Z"
   },
   {
    "duration": 6,
    "start_time": "2022-04-14T20:27:34.835Z"
   },
   {
    "duration": 6,
    "start_time": "2022-04-14T20:27:34.843Z"
   },
   {
    "duration": 19,
    "start_time": "2022-04-14T20:27:34.851Z"
   },
   {
    "duration": 65,
    "start_time": "2022-04-14T20:27:34.872Z"
   },
   {
    "duration": 666,
    "start_time": "2022-04-14T20:31:22.897Z"
   },
   {
    "duration": 99,
    "start_time": "2022-04-14T20:31:43.769Z"
   },
   {
    "duration": 621,
    "start_time": "2022-04-14T20:31:47.459Z"
   },
   {
    "duration": 712,
    "start_time": "2022-04-14T20:31:53.321Z"
   },
   {
    "duration": 680,
    "start_time": "2022-04-14T20:31:58.610Z"
   },
   {
    "duration": 10,
    "start_time": "2022-04-14T20:32:02.058Z"
   },
   {
    "duration": 812,
    "start_time": "2022-04-14T20:32:06.561Z"
   },
   {
    "duration": 917,
    "start_time": "2022-04-14T20:32:27.962Z"
   },
   {
    "duration": 828,
    "start_time": "2022-04-14T20:32:43.138Z"
   },
   {
    "duration": 1019,
    "start_time": "2022-04-14T20:33:28.687Z"
   },
   {
    "duration": 8,
    "start_time": "2022-04-14T20:40:33.696Z"
   },
   {
    "duration": 6,
    "start_time": "2022-04-14T20:40:40.951Z"
   },
   {
    "duration": 252,
    "start_time": "2022-04-14T20:40:52.844Z"
   },
   {
    "duration": 11,
    "start_time": "2022-04-14T20:41:06.883Z"
   },
   {
    "duration": 7,
    "start_time": "2022-04-14T20:41:10.728Z"
   },
   {
    "duration": 279,
    "start_time": "2022-04-14T20:41:11.374Z"
   },
   {
    "duration": 12,
    "start_time": "2022-04-14T21:06:07.415Z"
   },
   {
    "duration": 8,
    "start_time": "2022-04-14T21:06:25.112Z"
   },
   {
    "duration": 5,
    "start_time": "2022-04-14T21:06:39.894Z"
   },
   {
    "duration": 6,
    "start_time": "2022-04-14T21:06:42.872Z"
   },
   {
    "duration": 10,
    "start_time": "2022-04-14T21:06:48.658Z"
   },
   {
    "duration": 5,
    "start_time": "2022-04-14T21:06:52.222Z"
   },
   {
    "duration": 6,
    "start_time": "2022-04-14T21:08:28.327Z"
   },
   {
    "duration": 75,
    "start_time": "2022-04-14T21:08:30.215Z"
   },
   {
    "duration": 5,
    "start_time": "2022-04-14T21:09:22.231Z"
   },
   {
    "duration": 5,
    "start_time": "2022-04-14T21:09:23.671Z"
   },
   {
    "duration": 5,
    "start_time": "2022-04-14T21:09:57.136Z"
   },
   {
    "duration": 6,
    "start_time": "2022-04-14T21:09:57.823Z"
   },
   {
    "duration": 74,
    "start_time": "2022-04-14T21:13:14.007Z"
   },
   {
    "duration": 71,
    "start_time": "2022-04-14T21:13:23.422Z"
   },
   {
    "duration": 7,
    "start_time": "2022-04-14T21:15:33.089Z"
   },
   {
    "duration": 4,
    "start_time": "2022-04-14T21:15:34.305Z"
   },
   {
    "duration": 2,
    "start_time": "2022-04-14T21:17:58.344Z"
   },
   {
    "duration": 4,
    "start_time": "2022-04-14T21:18:03.550Z"
   },
   {
    "duration": 8,
    "start_time": "2022-04-14T21:18:14.381Z"
   },
   {
    "duration": 8,
    "start_time": "2022-04-14T21:18:21.805Z"
   },
   {
    "duration": 8,
    "start_time": "2022-04-14T21:18:23.717Z"
   },
   {
    "duration": 4,
    "start_time": "2022-04-14T21:18:26.497Z"
   },
   {
    "duration": 3,
    "start_time": "2022-04-14T21:19:30.230Z"
   },
   {
    "duration": 2,
    "start_time": "2022-04-14T21:19:43.516Z"
   },
   {
    "duration": 4,
    "start_time": "2022-04-14T21:19:44.073Z"
   },
   {
    "duration": 70,
    "start_time": "2022-04-14T21:20:24.223Z"
   },
   {
    "duration": 13,
    "start_time": "2022-04-14T21:20:39.149Z"
   },
   {
    "duration": 416,
    "start_time": "2022-04-14T21:21:19.607Z"
   },
   {
    "duration": 8,
    "start_time": "2022-04-14T21:22:07.412Z"
   },
   {
    "duration": 17,
    "start_time": "2022-04-14T21:22:14.055Z"
   },
   {
    "duration": 8,
    "start_time": "2022-04-14T21:22:49.944Z"
   },
   {
    "duration": 3,
    "start_time": "2022-04-14T21:22:55.416Z"
   },
   {
    "duration": 13,
    "start_time": "2022-04-14T21:23:12.288Z"
   },
   {
    "duration": 567,
    "start_time": "2022-04-14T21:23:19.441Z"
   },
   {
    "duration": 177,
    "start_time": "2022-04-14T21:24:47.704Z"
   },
   {
    "duration": 8,
    "start_time": "2022-04-14T21:27:47.881Z"
   },
   {
    "duration": 7,
    "start_time": "2022-04-14T21:27:58.683Z"
   },
   {
    "duration": 13,
    "start_time": "2022-04-14T21:29:11.453Z"
   },
   {
    "duration": 7,
    "start_time": "2022-04-14T21:31:48.309Z"
   },
   {
    "duration": 2397,
    "start_time": "2022-04-15T20:17:49.768Z"
   },
   {
    "duration": 56,
    "start_time": "2022-04-15T20:17:52.170Z"
   },
   {
    "duration": 27,
    "start_time": "2022-04-15T20:17:52.228Z"
   },
   {
    "duration": 45,
    "start_time": "2022-04-15T20:17:52.258Z"
   },
   {
    "duration": 6,
    "start_time": "2022-04-15T20:17:52.307Z"
   },
   {
    "duration": 15,
    "start_time": "2022-04-15T20:17:52.316Z"
   },
   {
    "duration": 63,
    "start_time": "2022-04-15T20:17:52.335Z"
   },
   {
    "duration": 23,
    "start_time": "2022-04-15T20:17:52.400Z"
   },
   {
    "duration": 10,
    "start_time": "2022-04-15T20:17:52.426Z"
   },
   {
    "duration": 10,
    "start_time": "2022-04-15T20:17:52.438Z"
   },
   {
    "duration": 48,
    "start_time": "2022-04-15T20:17:52.451Z"
   },
   {
    "duration": 14,
    "start_time": "2022-04-15T20:17:52.502Z"
   },
   {
    "duration": 9,
    "start_time": "2022-04-15T20:17:52.518Z"
   },
   {
    "duration": 7,
    "start_time": "2022-04-15T20:17:52.532Z"
   },
   {
    "duration": 50,
    "start_time": "2022-04-15T20:17:52.542Z"
   },
   {
    "duration": 10,
    "start_time": "2022-04-15T20:17:52.595Z"
   },
   {
    "duration": 34,
    "start_time": "2022-04-15T20:17:52.608Z"
   },
   {
    "duration": 48,
    "start_time": "2022-04-15T20:17:52.645Z"
   },
   {
    "duration": 453,
    "start_time": "2022-04-15T20:17:52.696Z"
   },
   {
    "duration": 8,
    "start_time": "2022-04-15T20:17:53.151Z"
   },
   {
    "duration": 31,
    "start_time": "2022-04-15T20:17:53.161Z"
   },
   {
    "duration": 4,
    "start_time": "2022-04-15T20:17:53.195Z"
   },
   {
    "duration": 6,
    "start_time": "2022-04-15T20:17:53.202Z"
   },
   {
    "duration": 1059,
    "start_time": "2022-04-15T20:17:53.211Z"
   },
   {
    "duration": 36,
    "start_time": "2022-04-15T20:17:54.273Z"
   },
   {
    "duration": 5,
    "start_time": "2022-04-15T20:17:54.312Z"
   },
   {
    "duration": 1397,
    "start_time": "2022-04-15T20:17:54.321Z"
   },
   {
    "duration": 219,
    "start_time": "2022-04-15T20:17:55.721Z"
   },
   {
    "duration": 10,
    "start_time": "2022-04-15T20:17:55.944Z"
   },
   {
    "duration": 54,
    "start_time": "2022-04-15T20:17:55.957Z"
   },
   {
    "duration": 11,
    "start_time": "2022-04-15T20:17:56.014Z"
   },
   {
    "duration": 7,
    "start_time": "2022-04-15T20:17:56.027Z"
   },
   {
    "duration": 180,
    "start_time": "2022-04-15T20:17:56.037Z"
   },
   {
    "duration": 730,
    "start_time": "2022-04-15T20:19:42.719Z"
   },
   {
    "duration": 713,
    "start_time": "2022-04-15T20:24:47.183Z"
   },
   {
    "duration": 618,
    "start_time": "2022-04-15T20:25:37.121Z"
   },
   {
    "duration": 744,
    "start_time": "2022-04-15T20:25:40.122Z"
   },
   {
    "duration": 771,
    "start_time": "2022-04-15T20:25:44.279Z"
   },
   {
    "duration": 541,
    "start_time": "2022-04-15T20:28:46.259Z"
   },
   {
    "duration": 47,
    "start_time": "2022-04-15T20:31:01.910Z"
   },
   {
    "duration": 10,
    "start_time": "2022-04-15T20:32:00.268Z"
   },
   {
    "duration": 522,
    "start_time": "2022-04-15T20:41:57.755Z"
   },
   {
    "duration": 520,
    "start_time": "2022-04-15T20:42:59.380Z"
   },
   {
    "duration": 656,
    "start_time": "2022-04-15T20:43:18.170Z"
   },
   {
    "duration": 14,
    "start_time": "2022-04-15T20:44:17.446Z"
   },
   {
    "duration": 9,
    "start_time": "2022-04-15T20:46:48.981Z"
   },
   {
    "duration": 986,
    "start_time": "2022-04-15T20:47:03.503Z"
   },
   {
    "duration": 885,
    "start_time": "2022-04-15T20:47:14.238Z"
   },
   {
    "duration": 907,
    "start_time": "2022-04-15T20:47:24.496Z"
   },
   {
    "duration": 1484,
    "start_time": "2022-04-15T20:47:30.776Z"
   },
   {
    "duration": 11,
    "start_time": "2022-04-15T20:47:43.177Z"
   },
   {
    "duration": 11,
    "start_time": "2022-04-15T20:49:41.592Z"
   },
   {
    "duration": 870,
    "start_time": "2022-04-15T20:49:48.810Z"
   },
   {
    "duration": 867,
    "start_time": "2022-04-15T20:49:53.142Z"
   },
   {
    "duration": 11,
    "start_time": "2022-04-15T20:50:11.200Z"
   },
   {
    "duration": 4,
    "start_time": "2022-04-15T20:53:36.596Z"
   },
   {
    "duration": 448,
    "start_time": "2022-04-15T20:54:16.667Z"
   },
   {
    "duration": 327,
    "start_time": "2022-04-15T20:54:46.749Z"
   },
   {
    "duration": 48,
    "start_time": "2022-04-16T10:49:52.238Z"
   },
   {
    "duration": 1168,
    "start_time": "2022-04-16T10:56:15.935Z"
   },
   {
    "duration": 37,
    "start_time": "2022-04-16T10:56:17.105Z"
   },
   {
    "duration": 17,
    "start_time": "2022-04-16T10:56:17.144Z"
   },
   {
    "duration": 24,
    "start_time": "2022-04-16T10:56:17.162Z"
   },
   {
    "duration": 3,
    "start_time": "2022-04-16T10:56:17.188Z"
   },
   {
    "duration": 19,
    "start_time": "2022-04-16T10:56:17.192Z"
   },
   {
    "duration": 31,
    "start_time": "2022-04-16T10:56:17.213Z"
   },
   {
    "duration": 13,
    "start_time": "2022-04-16T10:56:17.246Z"
   },
   {
    "duration": 18,
    "start_time": "2022-04-16T10:56:17.261Z"
   },
   {
    "duration": 24,
    "start_time": "2022-04-16T10:56:17.281Z"
   },
   {
    "duration": 22,
    "start_time": "2022-04-16T10:56:17.307Z"
   },
   {
    "duration": 18,
    "start_time": "2022-04-16T10:56:17.331Z"
   },
   {
    "duration": 10,
    "start_time": "2022-04-16T10:56:17.351Z"
   },
   {
    "duration": 11,
    "start_time": "2022-04-16T10:56:17.365Z"
   },
   {
    "duration": 18,
    "start_time": "2022-04-16T10:56:17.378Z"
   },
   {
    "duration": 16,
    "start_time": "2022-04-16T10:56:17.397Z"
   },
   {
    "duration": 32,
    "start_time": "2022-04-16T10:56:17.414Z"
   },
   {
    "duration": 12,
    "start_time": "2022-04-16T10:56:17.448Z"
   },
   {
    "duration": 233,
    "start_time": "2022-04-16T10:56:17.462Z"
   },
   {
    "duration": 7,
    "start_time": "2022-04-16T10:56:17.697Z"
   },
   {
    "duration": 13,
    "start_time": "2022-04-16T10:56:17.706Z"
   },
   {
    "duration": 11,
    "start_time": "2022-04-16T10:56:17.721Z"
   },
   {
    "duration": 13,
    "start_time": "2022-04-16T10:56:17.734Z"
   },
   {
    "duration": 413,
    "start_time": "2022-04-16T10:56:17.749Z"
   },
   {
    "duration": 17,
    "start_time": "2022-04-16T10:56:18.164Z"
   },
   {
    "duration": 20,
    "start_time": "2022-04-16T10:56:18.183Z"
   },
   {
    "duration": 552,
    "start_time": "2022-04-16T10:56:18.205Z"
   },
   {
    "duration": 91,
    "start_time": "2022-04-16T10:56:18.759Z"
   },
   {
    "duration": 5,
    "start_time": "2022-04-16T10:56:18.852Z"
   },
   {
    "duration": 29,
    "start_time": "2022-04-16T10:56:18.859Z"
   },
   {
    "duration": 12,
    "start_time": "2022-04-16T10:56:18.890Z"
   },
   {
    "duration": 395,
    "start_time": "2022-04-16T10:56:18.904Z"
   },
   {
    "duration": 300,
    "start_time": "2022-04-16T10:56:19.300Z"
   },
   {
    "duration": 6,
    "start_time": "2022-04-16T10:56:19.602Z"
   },
   {
    "duration": 644,
    "start_time": "2022-04-16T10:56:19.609Z"
   },
   {
    "duration": 7,
    "start_time": "2022-04-16T10:56:20.254Z"
   },
   {
    "duration": 6,
    "start_time": "2022-04-16T10:56:20.274Z"
   },
   {
    "duration": 556,
    "start_time": "2022-04-16T10:56:20.282Z"
   },
   {
    "duration": 7,
    "start_time": "2022-04-16T10:56:20.840Z"
   },
   {
    "duration": 220,
    "start_time": "2022-04-16T10:56:20.849Z"
   },
   {
    "duration": 41,
    "start_time": "2022-04-16T10:58:32.153Z"
   },
   {
    "duration": 307,
    "start_time": "2022-04-16T10:58:42.275Z"
   },
   {
    "duration": 2,
    "start_time": "2022-04-16T10:59:32.200Z"
   },
   {
    "duration": 2,
    "start_time": "2022-04-16T11:00:07.360Z"
   },
   {
    "duration": 4,
    "start_time": "2022-04-16T11:01:02.234Z"
   },
   {
    "duration": 356,
    "start_time": "2022-04-16T11:01:17.349Z"
   },
   {
    "duration": 256,
    "start_time": "2022-04-16T11:01:27.078Z"
   },
   {
    "duration": 276,
    "start_time": "2022-04-16T11:03:02.417Z"
   },
   {
    "duration": 173,
    "start_time": "2022-04-16T11:06:59.225Z"
   },
   {
    "duration": 267,
    "start_time": "2022-04-16T11:07:08.306Z"
   },
   {
    "duration": 250,
    "start_time": "2022-04-16T11:09:34.136Z"
   },
   {
    "duration": 122,
    "start_time": "2022-04-16T11:13:51.559Z"
   },
   {
    "duration": 404,
    "start_time": "2022-04-16T11:13:59.183Z"
   },
   {
    "duration": 283,
    "start_time": "2022-04-16T11:14:09.831Z"
   },
   {
    "duration": 263,
    "start_time": "2022-04-16T11:16:51.554Z"
   },
   {
    "duration": 275,
    "start_time": "2022-04-16T11:17:17.000Z"
   },
   {
    "duration": 297,
    "start_time": "2022-04-16T11:17:24.017Z"
   },
   {
    "duration": 502,
    "start_time": "2022-04-16T11:18:24.605Z"
   },
   {
    "duration": 96,
    "start_time": "2022-04-16T11:18:43.299Z"
   },
   {
    "duration": 371,
    "start_time": "2022-04-16T11:19:15.843Z"
   },
   {
    "duration": 366,
    "start_time": "2022-04-16T11:19:51.396Z"
   },
   {
    "duration": 332,
    "start_time": "2022-04-16T11:20:17.019Z"
   },
   {
    "duration": 554,
    "start_time": "2022-04-16T11:20:43.028Z"
   },
   {
    "duration": 89,
    "start_time": "2022-04-16T11:21:31.588Z"
   },
   {
    "duration": 351,
    "start_time": "2022-04-16T11:22:56.979Z"
   },
   {
    "duration": 330,
    "start_time": "2022-04-16T11:23:07.695Z"
   },
   {
    "duration": 333,
    "start_time": "2022-04-16T11:23:12.457Z"
   },
   {
    "duration": 339,
    "start_time": "2022-04-16T11:23:17.054Z"
   },
   {
    "duration": 435,
    "start_time": "2022-04-16T11:23:22.197Z"
   },
   {
    "duration": 343,
    "start_time": "2022-04-16T11:23:33.055Z"
   },
   {
    "duration": 342,
    "start_time": "2022-04-16T11:23:37.301Z"
   },
   {
    "duration": 360,
    "start_time": "2022-04-16T11:23:44.990Z"
   },
   {
    "duration": 460,
    "start_time": "2022-04-16T11:23:49.459Z"
   },
   {
    "duration": 116,
    "start_time": "2022-04-16T11:24:16.664Z"
   },
   {
    "duration": 320,
    "start_time": "2022-04-16T11:24:22.925Z"
   },
   {
    "duration": 176,
    "start_time": "2022-04-16T11:25:19.639Z"
   },
   {
    "duration": 2,
    "start_time": "2022-04-16T11:26:11.696Z"
   },
   {
    "duration": 2,
    "start_time": "2022-04-16T11:27:24.369Z"
   },
   {
    "duration": 107,
    "start_time": "2022-04-16T11:30:54.039Z"
   },
   {
    "duration": 10,
    "start_time": "2022-04-16T11:33:27.804Z"
   },
   {
    "duration": 4,
    "start_time": "2022-04-16T11:33:36.395Z"
   },
   {
    "duration": 7,
    "start_time": "2022-04-16T11:33:54.046Z"
   },
   {
    "duration": 8,
    "start_time": "2022-04-16T11:34:00.735Z"
   },
   {
    "duration": 6,
    "start_time": "2022-04-16T11:34:15.765Z"
   },
   {
    "duration": 12,
    "start_time": "2022-04-16T11:34:50.182Z"
   },
   {
    "duration": 11,
    "start_time": "2022-04-16T11:35:08.158Z"
   },
   {
    "duration": 5,
    "start_time": "2022-04-16T11:35:16.206Z"
   },
   {
    "duration": 7,
    "start_time": "2022-04-16T11:35:17.246Z"
   },
   {
    "duration": 7,
    "start_time": "2022-04-16T11:35:17.886Z"
   },
   {
    "duration": 5,
    "start_time": "2022-04-16T11:35:19.615Z"
   },
   {
    "duration": 2,
    "start_time": "2022-04-16T11:53:18.088Z"
   },
   {
    "duration": 6,
    "start_time": "2022-04-16T11:55:16.186Z"
   },
   {
    "duration": 5,
    "start_time": "2022-04-16T11:55:24.125Z"
   },
   {
    "duration": 2,
    "start_time": "2022-04-16T11:58:08.894Z"
   },
   {
    "duration": 2,
    "start_time": "2022-04-16T11:59:03.417Z"
   },
   {
    "duration": 346,
    "start_time": "2022-04-16T11:59:58.387Z"
   },
   {
    "duration": 143,
    "start_time": "2022-04-16T12:28:22.199Z"
   },
   {
    "duration": 116,
    "start_time": "2022-04-16T12:29:40.809Z"
   },
   {
    "duration": 1779,
    "start_time": "2022-04-16T18:13:03.938Z"
   },
   {
    "duration": 50,
    "start_time": "2022-04-16T18:13:05.719Z"
   },
   {
    "duration": 24,
    "start_time": "2022-04-16T18:13:05.770Z"
   },
   {
    "duration": 20,
    "start_time": "2022-04-16T18:13:05.796Z"
   },
   {
    "duration": 3,
    "start_time": "2022-04-16T18:13:05.818Z"
   },
   {
    "duration": 15,
    "start_time": "2022-04-16T18:13:05.823Z"
   },
   {
    "duration": 21,
    "start_time": "2022-04-16T18:13:05.854Z"
   },
   {
    "duration": 13,
    "start_time": "2022-04-16T18:13:05.877Z"
   },
   {
    "duration": 6,
    "start_time": "2022-04-16T18:13:05.891Z"
   },
   {
    "duration": 15,
    "start_time": "2022-04-16T18:13:05.900Z"
   },
   {
    "duration": 9,
    "start_time": "2022-04-16T18:13:05.916Z"
   },
   {
    "duration": 16,
    "start_time": "2022-04-16T18:13:05.926Z"
   },
   {
    "duration": 13,
    "start_time": "2022-04-16T18:13:05.943Z"
   },
   {
    "duration": 17,
    "start_time": "2022-04-16T18:13:05.957Z"
   },
   {
    "duration": 7,
    "start_time": "2022-04-16T18:13:05.976Z"
   },
   {
    "duration": 9,
    "start_time": "2022-04-16T18:13:05.985Z"
   },
   {
    "duration": 13,
    "start_time": "2022-04-16T18:13:05.995Z"
   },
   {
    "duration": 5,
    "start_time": "2022-04-16T18:13:06.010Z"
   },
   {
    "duration": 224,
    "start_time": "2022-04-16T18:13:06.017Z"
   },
   {
    "duration": 13,
    "start_time": "2022-04-16T18:13:06.243Z"
   },
   {
    "duration": 7,
    "start_time": "2022-04-16T18:13:06.258Z"
   },
   {
    "duration": 5,
    "start_time": "2022-04-16T18:13:06.266Z"
   },
   {
    "duration": 6,
    "start_time": "2022-04-16T18:13:06.273Z"
   },
   {
    "duration": 371,
    "start_time": "2022-04-16T18:13:06.280Z"
   },
   {
    "duration": 16,
    "start_time": "2022-04-16T18:13:06.652Z"
   },
   {
    "duration": 7,
    "start_time": "2022-04-16T18:13:06.670Z"
   },
   {
    "duration": 518,
    "start_time": "2022-04-16T18:13:06.678Z"
   },
   {
    "duration": 91,
    "start_time": "2022-04-16T18:13:07.200Z"
   },
   {
    "duration": 5,
    "start_time": "2022-04-16T18:13:07.293Z"
   },
   {
    "duration": 32,
    "start_time": "2022-04-16T18:13:07.300Z"
   },
   {
    "duration": 12,
    "start_time": "2022-04-16T18:13:07.334Z"
   },
   {
    "duration": 507,
    "start_time": "2022-04-16T18:13:07.355Z"
   },
   {
    "duration": 296,
    "start_time": "2022-04-16T18:13:07.864Z"
   },
   {
    "duration": 6,
    "start_time": "2022-04-16T18:13:08.162Z"
   },
   {
    "duration": 566,
    "start_time": "2022-04-16T18:13:08.169Z"
   },
   {
    "duration": 6,
    "start_time": "2022-04-16T18:13:08.736Z"
   },
   {
    "duration": 12,
    "start_time": "2022-04-16T18:13:08.744Z"
   },
   {
    "duration": 478,
    "start_time": "2022-04-16T18:13:08.757Z"
   },
   {
    "duration": 6,
    "start_time": "2022-04-16T18:13:09.237Z"
   },
   {
    "duration": 178,
    "start_time": "2022-04-16T18:13:09.244Z"
   },
   {
    "duration": 43,
    "start_time": "2022-04-16T18:13:09.423Z"
   },
   {
    "duration": 288,
    "start_time": "2022-04-16T18:13:09.468Z"
   },
   {
    "duration": 3,
    "start_time": "2022-04-16T18:13:09.758Z"
   },
   {
    "duration": 399,
    "start_time": "2022-04-16T18:13:09.762Z"
   },
   {
    "duration": 317,
    "start_time": "2022-04-16T18:13:10.163Z"
   },
   {
    "duration": 169,
    "start_time": "2022-04-16T18:13:10.482Z"
   },
   {
    "duration": 3,
    "start_time": "2022-04-16T18:13:10.654Z"
   },
   {
    "duration": 8,
    "start_time": "2022-04-16T18:13:10.659Z"
   },
   {
    "duration": 6,
    "start_time": "2022-04-16T18:13:10.668Z"
   },
   {
    "duration": 8,
    "start_time": "2022-04-16T18:13:10.675Z"
   },
   {
    "duration": 7,
    "start_time": "2022-04-16T18:13:10.684Z"
   },
   {
    "duration": 8,
    "start_time": "2022-04-16T18:13:10.692Z"
   },
   {
    "duration": 5,
    "start_time": "2022-04-16T18:13:10.702Z"
   },
   {
    "duration": 6,
    "start_time": "2022-04-16T18:13:10.709Z"
   },
   {
    "duration": 7,
    "start_time": "2022-04-16T19:03:43.861Z"
   },
   {
    "duration": 10,
    "start_time": "2022-04-16T19:04:01.455Z"
   },
   {
    "duration": 7,
    "start_time": "2022-04-16T19:04:40.473Z"
   },
   {
    "duration": 7,
    "start_time": "2022-04-16T19:05:07.458Z"
   },
   {
    "duration": 11,
    "start_time": "2022-04-16T19:05:14.726Z"
   },
   {
    "duration": 15,
    "start_time": "2022-04-16T19:05:24.763Z"
   },
   {
    "duration": 112,
    "start_time": "2022-04-16T19:07:30.377Z"
   },
   {
    "duration": 24,
    "start_time": "2022-04-16T19:07:38.450Z"
   },
   {
    "duration": 30,
    "start_time": "2022-04-16T19:07:46.386Z"
   },
   {
    "duration": 11,
    "start_time": "2022-04-16T19:08:06.898Z"
   },
   {
    "duration": 4,
    "start_time": "2022-04-16T19:09:06.892Z"
   },
   {
    "duration": 8,
    "start_time": "2022-04-16T19:09:13.187Z"
   },
   {
    "duration": 2497,
    "start_time": "2022-04-16T19:10:53.969Z"
   },
   {
    "duration": 151,
    "start_time": "2022-04-16T19:11:09.782Z"
   },
   {
    "duration": 2411,
    "start_time": "2022-04-16T19:11:11.720Z"
   },
   {
    "duration": 2268,
    "start_time": "2022-04-16T19:11:19.290Z"
   },
   {
    "duration": 2377,
    "start_time": "2022-04-16T19:11:41.557Z"
   },
   {
    "duration": 10,
    "start_time": "2022-04-16T19:11:47.380Z"
   },
   {
    "duration": 9,
    "start_time": "2022-04-16T19:11:51.664Z"
   },
   {
    "duration": 18,
    "start_time": "2022-04-16T19:11:58.179Z"
   },
   {
    "duration": 13,
    "start_time": "2022-04-16T19:14:34.555Z"
   },
   {
    "duration": 14,
    "start_time": "2022-04-16T19:15:01.001Z"
   },
   {
    "duration": 178,
    "start_time": "2022-04-16T19:15:23.720Z"
   },
   {
    "duration": 4,
    "start_time": "2022-04-16T19:15:29.630Z"
   },
   {
    "duration": 2458,
    "start_time": "2022-04-16T19:15:33.292Z"
   },
   {
    "duration": 2514,
    "start_time": "2022-04-16T19:15:49.867Z"
   },
   {
    "duration": 1159,
    "start_time": "2022-04-16T19:15:56.318Z"
   },
   {
    "duration": 30,
    "start_time": "2022-04-16T19:16:11.727Z"
   },
   {
    "duration": 11,
    "start_time": "2022-04-16T19:16:20.379Z"
   },
   {
    "duration": 1187,
    "start_time": "2022-04-16T19:16:24.542Z"
   },
   {
    "duration": 7,
    "start_time": "2022-04-16T19:16:41.712Z"
   },
   {
    "duration": 8,
    "start_time": "2022-04-16T19:16:48.084Z"
   },
   {
    "duration": 13,
    "start_time": "2022-04-16T19:16:56.582Z"
   },
   {
    "duration": 19,
    "start_time": "2022-04-16T19:16:59.727Z"
   },
   {
    "duration": 13,
    "start_time": "2022-04-16T19:17:50.791Z"
   },
   {
    "duration": 19,
    "start_time": "2022-04-16T19:17:58.825Z"
   },
   {
    "duration": 14,
    "start_time": "2022-04-16T19:18:02.183Z"
   },
   {
    "duration": 34,
    "start_time": "2022-04-16T19:19:06.993Z"
   },
   {
    "duration": 24,
    "start_time": "2022-04-16T19:19:29.309Z"
   },
   {
    "duration": 4,
    "start_time": "2022-04-16T19:20:03.383Z"
   },
   {
    "duration": 25,
    "start_time": "2022-04-16T19:20:19.799Z"
   },
   {
    "duration": 27,
    "start_time": "2022-04-16T19:20:32.703Z"
   },
   {
    "duration": 153,
    "start_time": "2022-04-16T19:20:53.056Z"
   },
   {
    "duration": 142,
    "start_time": "2022-04-16T19:20:59.449Z"
   },
   {
    "duration": 147,
    "start_time": "2022-04-16T19:21:48.914Z"
   },
   {
    "duration": 173,
    "start_time": "2022-04-16T19:21:52.817Z"
   },
   {
    "duration": 131,
    "start_time": "2022-04-16T19:21:57.094Z"
   },
   {
    "duration": 180,
    "start_time": "2022-04-16T19:22:06.658Z"
   },
   {
    "duration": 13,
    "start_time": "2022-04-16T19:22:15.746Z"
   },
   {
    "duration": 42,
    "start_time": "2022-04-16T19:22:19.721Z"
   },
   {
    "duration": 42,
    "start_time": "2022-04-16T19:22:41.250Z"
   },
   {
    "duration": 9,
    "start_time": "2022-04-16T19:24:13.460Z"
   },
   {
    "duration": 37,
    "start_time": "2022-04-16T19:24:21.698Z"
   },
   {
    "duration": 39,
    "start_time": "2022-04-16T19:24:53.407Z"
   },
   {
    "duration": 17,
    "start_time": "2022-04-16T19:31:13.642Z"
   },
   {
    "duration": 270,
    "start_time": "2022-04-16T19:42:35.946Z"
   },
   {
    "duration": 7,
    "start_time": "2022-04-16T19:46:33.406Z"
   },
   {
    "duration": 3,
    "start_time": "2022-04-16T19:53:55.214Z"
   },
   {
    "duration": 10,
    "start_time": "2022-04-16T20:16:41.130Z"
   },
   {
    "duration": 8,
    "start_time": "2022-04-16T20:17:03.411Z"
   },
   {
    "duration": 904,
    "start_time": "2022-04-16T20:17:04.403Z"
   },
   {
    "duration": 7,
    "start_time": "2022-04-16T20:17:09.715Z"
   },
   {
    "duration": 9,
    "start_time": "2022-04-16T20:17:43.473Z"
   },
   {
    "duration": 989,
    "start_time": "2022-04-16T20:18:00.356Z"
   },
   {
    "duration": 8,
    "start_time": "2022-04-16T20:18:13.588Z"
   },
   {
    "duration": 151,
    "start_time": "2022-04-16T20:19:01.187Z"
   },
   {
    "duration": 6,
    "start_time": "2022-04-16T20:19:08.387Z"
   },
   {
    "duration": 7,
    "start_time": "2022-04-16T20:19:39.579Z"
   },
   {
    "duration": 708,
    "start_time": "2022-04-16T20:19:54.037Z"
   },
   {
    "duration": 7,
    "start_time": "2022-04-16T20:20:05.915Z"
   },
   {
    "duration": 6,
    "start_time": "2022-04-16T20:21:01.019Z"
   },
   {
    "duration": 7,
    "start_time": "2022-04-16T20:21:09.709Z"
   },
   {
    "duration": 811,
    "start_time": "2022-04-16T20:21:27.980Z"
   },
   {
    "duration": 6,
    "start_time": "2022-04-16T20:25:08.413Z"
   },
   {
    "duration": 6,
    "start_time": "2022-04-16T20:25:21.542Z"
   },
   {
    "duration": 8,
    "start_time": "2022-04-16T20:26:26.465Z"
   },
   {
    "duration": 6,
    "start_time": "2022-04-16T20:26:29.133Z"
   },
   {
    "duration": 3,
    "start_time": "2022-04-16T20:30:42.080Z"
   },
   {
    "duration": 3,
    "start_time": "2022-04-16T20:30:47.446Z"
   },
   {
    "duration": 39,
    "start_time": "2022-04-16T20:32:22.500Z"
   },
   {
    "duration": 25,
    "start_time": "2022-04-16T20:32:39.338Z"
   },
   {
    "duration": 27,
    "start_time": "2022-04-16T20:32:47.994Z"
   },
   {
    "duration": 30,
    "start_time": "2022-04-16T20:32:58.861Z"
   },
   {
    "duration": 42,
    "start_time": "2022-04-16T20:35:02.773Z"
   },
   {
    "duration": 42,
    "start_time": "2022-04-16T20:35:18.196Z"
   },
   {
    "duration": 42,
    "start_time": "2022-04-16T20:35:26.392Z"
   },
   {
    "duration": 3,
    "start_time": "2022-04-16T20:37:00.655Z"
   },
   {
    "duration": 163,
    "start_time": "2022-04-16T20:37:19.867Z"
   },
   {
    "duration": 30,
    "start_time": "2022-04-16T20:37:27.430Z"
   },
   {
    "duration": 2778,
    "start_time": "2022-04-16T20:37:53.389Z"
   },
   {
    "duration": 28,
    "start_time": "2022-04-16T20:38:30.711Z"
   },
   {
    "duration": 3,
    "start_time": "2022-04-16T20:40:17.661Z"
   },
   {
    "duration": 31,
    "start_time": "2022-04-16T20:40:21.825Z"
   },
   {
    "duration": 3,
    "start_time": "2022-04-16T20:41:05.154Z"
   },
   {
    "duration": 39,
    "start_time": "2022-04-16T20:41:06.046Z"
   },
   {
    "duration": 37,
    "start_time": "2022-04-16T20:41:31.737Z"
   },
   {
    "duration": 128,
    "start_time": "2022-04-16T20:42:49.674Z"
   },
   {
    "duration": 18,
    "start_time": "2022-04-16T20:44:10.164Z"
   },
   {
    "duration": 9,
    "start_time": "2022-04-16T20:45:30.451Z"
   },
   {
    "duration": 20,
    "start_time": "2022-04-16T20:45:34.619Z"
   },
   {
    "duration": 25,
    "start_time": "2022-04-16T20:45:54.462Z"
   },
   {
    "duration": 6,
    "start_time": "2022-04-16T20:46:30.035Z"
   },
   {
    "duration": 12,
    "start_time": "2022-04-16T20:47:13.649Z"
   },
   {
    "duration": 9,
    "start_time": "2022-04-16T20:47:25.899Z"
   },
   {
    "duration": 12,
    "start_time": "2022-04-16T20:47:39.521Z"
   },
   {
    "duration": 5,
    "start_time": "2022-04-16T20:48:19.783Z"
   },
   {
    "duration": 12,
    "start_time": "2022-04-16T20:48:34.740Z"
   },
   {
    "duration": 20,
    "start_time": "2022-04-16T20:52:22.736Z"
   },
   {
    "duration": 18,
    "start_time": "2022-04-16T20:53:08.736Z"
   },
   {
    "duration": 154,
    "start_time": "2022-04-16T20:53:20.510Z"
   },
   {
    "duration": 136,
    "start_time": "2022-04-16T20:53:25.200Z"
   },
   {
    "duration": 7,
    "start_time": "2022-04-16T20:53:55.146Z"
   },
   {
    "duration": 18,
    "start_time": "2022-04-16T20:53:58.097Z"
   },
   {
    "duration": 4,
    "start_time": "2022-04-16T20:54:32.217Z"
   },
   {
    "duration": 5,
    "start_time": "2022-04-16T20:54:41.668Z"
   },
   {
    "duration": 5,
    "start_time": "2022-04-16T20:54:51.641Z"
   },
   {
    "duration": 4,
    "start_time": "2022-04-16T20:55:26.731Z"
   },
   {
    "duration": 9,
    "start_time": "2022-04-16T20:55:40.401Z"
   },
   {
    "duration": 5,
    "start_time": "2022-04-16T20:55:45.121Z"
   },
   {
    "duration": 4,
    "start_time": "2022-04-16T20:55:53.202Z"
   },
   {
    "duration": 5,
    "start_time": "2022-04-16T20:56:04.929Z"
   },
   {
    "duration": 151,
    "start_time": "2022-04-16T20:56:59.018Z"
   },
   {
    "duration": 138,
    "start_time": "2022-04-16T20:57:03.231Z"
   },
   {
    "duration": 4,
    "start_time": "2022-04-16T20:57:06.848Z"
   },
   {
    "duration": 12,
    "start_time": "2022-04-16T20:58:58.668Z"
   },
   {
    "duration": 15,
    "start_time": "2022-04-16T20:59:04.111Z"
   },
   {
    "duration": 5,
    "start_time": "2022-04-16T21:00:13.881Z"
   },
   {
    "duration": 3,
    "start_time": "2022-04-16T21:00:38.074Z"
   },
   {
    "duration": 23,
    "start_time": "2022-04-16T21:00:39.013Z"
   },
   {
    "duration": 31,
    "start_time": "2022-04-16T21:00:41.451Z"
   },
   {
    "duration": 4,
    "start_time": "2022-04-16T21:00:53.539Z"
   },
   {
    "duration": 30,
    "start_time": "2022-04-16T21:00:54.011Z"
   },
   {
    "duration": 3,
    "start_time": "2022-04-16T21:02:31.893Z"
   },
   {
    "duration": 52,
    "start_time": "2022-04-16T21:02:35.789Z"
   },
   {
    "duration": 4,
    "start_time": "2022-04-16T21:04:03.581Z"
   },
   {
    "duration": 57,
    "start_time": "2022-04-16T21:04:04.923Z"
   },
   {
    "duration": 3,
    "start_time": "2022-04-16T21:05:43.351Z"
   },
   {
    "duration": 36,
    "start_time": "2022-04-16T21:05:44.621Z"
   },
   {
    "duration": 4,
    "start_time": "2022-04-16T21:05:54.706Z"
   },
   {
    "duration": 46,
    "start_time": "2022-04-16T21:08:14.439Z"
   },
   {
    "duration": 3721,
    "start_time": "2022-04-16T21:09:12.071Z"
   },
   {
    "duration": 3931,
    "start_time": "2022-04-16T21:09:30.680Z"
   },
   {
    "duration": 4,
    "start_time": "2022-04-16T21:09:58.282Z"
   },
   {
    "duration": 2909,
    "start_time": "2022-04-16T21:09:58.945Z"
   },
   {
    "duration": 3081,
    "start_time": "2022-04-16T21:11:03.453Z"
   },
   {
    "duration": 37,
    "start_time": "2022-04-16T21:17:05.495Z"
   },
   {
    "duration": 4,
    "start_time": "2022-04-16T21:30:36.417Z"
   },
   {
    "duration": 3,
    "start_time": "2022-04-16T21:31:26.214Z"
   },
   {
    "duration": 31,
    "start_time": "2022-04-16T21:31:27.926Z"
   },
   {
    "duration": 3,
    "start_time": "2022-04-16T21:31:42.652Z"
   },
   {
    "duration": 3,
    "start_time": "2022-04-16T21:31:47.169Z"
   },
   {
    "duration": 38,
    "start_time": "2022-04-16T21:31:47.886Z"
   },
   {
    "duration": 3,
    "start_time": "2022-04-16T21:31:59.207Z"
   },
   {
    "duration": 45,
    "start_time": "2022-04-16T21:32:00.515Z"
   },
   {
    "duration": 7,
    "start_time": "2022-04-16T21:32:13.471Z"
   },
   {
    "duration": 6,
    "start_time": "2022-04-16T21:33:37.933Z"
   },
   {
    "duration": 9,
    "start_time": "2022-04-16T21:53:07.439Z"
   },
   {
    "duration": 33,
    "start_time": "2022-04-16T21:55:07.843Z"
   },
   {
    "duration": 289,
    "start_time": "2022-04-16T21:55:43.811Z"
   },
   {
    "duration": 279,
    "start_time": "2022-04-16T21:55:50.256Z"
   },
   {
    "duration": 483,
    "start_time": "2022-04-16T21:57:24.187Z"
   },
   {
    "duration": 281,
    "start_time": "2022-04-16T21:59:47.536Z"
   },
   {
    "duration": 54,
    "start_time": "2022-04-16T22:01:33.969Z"
   },
   {
    "duration": 448,
    "start_time": "2022-04-16T22:01:36.039Z"
   },
   {
    "duration": 57,
    "start_time": "2022-04-16T22:01:40.646Z"
   },
   {
    "duration": 139,
    "start_time": "2022-04-16T22:41:47.593Z"
   },
   {
    "duration": 1143,
    "start_time": "2022-04-16T22:43:43.584Z"
   },
   {
    "duration": 34,
    "start_time": "2022-04-16T22:43:44.729Z"
   },
   {
    "duration": 15,
    "start_time": "2022-04-16T22:43:44.765Z"
   },
   {
    "duration": 12,
    "start_time": "2022-04-16T22:43:44.782Z"
   },
   {
    "duration": 3,
    "start_time": "2022-04-16T22:43:44.796Z"
   },
   {
    "duration": 6,
    "start_time": "2022-04-16T22:43:44.800Z"
   },
   {
    "duration": 16,
    "start_time": "2022-04-16T22:43:44.807Z"
   },
   {
    "duration": 38,
    "start_time": "2022-04-16T22:43:44.824Z"
   },
   {
    "duration": 7,
    "start_time": "2022-04-16T22:43:44.863Z"
   },
   {
    "duration": 6,
    "start_time": "2022-04-16T22:43:44.871Z"
   },
   {
    "duration": 6,
    "start_time": "2022-04-16T22:43:44.878Z"
   },
   {
    "duration": 8,
    "start_time": "2022-04-16T22:43:44.885Z"
   },
   {
    "duration": 5,
    "start_time": "2022-04-16T22:43:44.894Z"
   },
   {
    "duration": 6,
    "start_time": "2022-04-16T22:43:44.902Z"
   },
   {
    "duration": 9,
    "start_time": "2022-04-16T22:43:44.909Z"
   },
   {
    "duration": 8,
    "start_time": "2022-04-16T22:43:44.919Z"
   },
   {
    "duration": 34,
    "start_time": "2022-04-16T22:43:44.928Z"
   },
   {
    "duration": 6,
    "start_time": "2022-04-16T22:43:44.963Z"
   },
   {
    "duration": 226,
    "start_time": "2022-04-16T22:43:44.971Z"
   },
   {
    "duration": 6,
    "start_time": "2022-04-16T22:43:45.198Z"
   },
   {
    "duration": 7,
    "start_time": "2022-04-16T22:43:45.206Z"
   },
   {
    "duration": 4,
    "start_time": "2022-04-16T22:43:45.215Z"
   },
   {
    "duration": 6,
    "start_time": "2022-04-16T22:43:45.220Z"
   },
   {
    "duration": 384,
    "start_time": "2022-04-16T22:43:45.227Z"
   },
   {
    "duration": 14,
    "start_time": "2022-04-16T22:43:45.613Z"
   },
   {
    "duration": 9,
    "start_time": "2022-04-16T22:43:45.629Z"
   },
   {
    "duration": 486,
    "start_time": "2022-04-16T22:43:45.639Z"
   },
   {
    "duration": 89,
    "start_time": "2022-04-16T22:43:46.127Z"
   },
   {
    "duration": 5,
    "start_time": "2022-04-16T22:43:46.217Z"
   },
   {
    "duration": 17,
    "start_time": "2022-04-16T22:43:46.224Z"
   },
   {
    "duration": 17,
    "start_time": "2022-04-16T22:43:46.242Z"
   },
   {
    "duration": 329,
    "start_time": "2022-04-16T22:43:46.260Z"
   },
   {
    "duration": 275,
    "start_time": "2022-04-16T22:43:46.591Z"
   },
   {
    "duration": 7,
    "start_time": "2022-04-16T22:43:46.867Z"
   },
   {
    "duration": 560,
    "start_time": "2022-04-16T22:43:46.876Z"
   },
   {
    "duration": 17,
    "start_time": "2022-04-16T22:43:47.438Z"
   },
   {
    "duration": 3,
    "start_time": "2022-04-16T22:43:47.457Z"
   },
   {
    "duration": 26,
    "start_time": "2022-04-16T22:43:47.462Z"
   },
   {
    "duration": 182,
    "start_time": "2022-04-16T22:43:47.490Z"
   },
   {
    "duration": 282,
    "start_time": "2022-04-16T22:43:47.674Z"
   },
   {
    "duration": 35,
    "start_time": "2022-04-16T22:43:47.961Z"
   },
   {
    "duration": 3,
    "start_time": "2022-04-16T22:43:47.998Z"
   },
   {
    "duration": 308,
    "start_time": "2022-04-16T22:43:48.003Z"
   },
   {
    "duration": 400,
    "start_time": "2022-04-16T22:43:48.313Z"
   },
   {
    "duration": 158,
    "start_time": "2022-04-16T22:43:48.714Z"
   },
   {
    "duration": 4,
    "start_time": "2022-04-16T22:43:48.873Z"
   },
   {
    "duration": 8,
    "start_time": "2022-04-16T22:43:48.878Z"
   },
   {
    "duration": 7,
    "start_time": "2022-04-16T22:43:48.887Z"
   },
   {
    "duration": 13,
    "start_time": "2022-04-16T22:43:48.895Z"
   },
   {
    "duration": 6,
    "start_time": "2022-04-16T22:43:48.909Z"
   },
   {
    "duration": 9,
    "start_time": "2022-04-16T22:43:48.917Z"
   },
   {
    "duration": 6,
    "start_time": "2022-04-16T22:43:48.927Z"
   },
   {
    "duration": 20,
    "start_time": "2022-04-16T22:43:48.934Z"
   },
   {
    "duration": 148,
    "start_time": "2022-04-17T11:18:30.547Z"
   },
   {
    "duration": 1906,
    "start_time": "2022-04-17T11:47:56.789Z"
   },
   {
    "duration": 52,
    "start_time": "2022-04-17T11:47:58.698Z"
   },
   {
    "duration": 35,
    "start_time": "2022-04-17T11:47:58.752Z"
   },
   {
    "duration": 24,
    "start_time": "2022-04-17T11:47:58.791Z"
   },
   {
    "duration": 4,
    "start_time": "2022-04-17T11:47:58.818Z"
   },
   {
    "duration": 8,
    "start_time": "2022-04-17T11:47:58.824Z"
   },
   {
    "duration": 63,
    "start_time": "2022-04-17T11:47:58.835Z"
   },
   {
    "duration": 20,
    "start_time": "2022-04-17T11:47:58.900Z"
   },
   {
    "duration": 10,
    "start_time": "2022-04-17T11:47:58.922Z"
   },
   {
    "duration": 8,
    "start_time": "2022-04-17T11:47:58.936Z"
   },
   {
    "duration": 36,
    "start_time": "2022-04-17T11:47:58.946Z"
   },
   {
    "duration": 10,
    "start_time": "2022-04-17T11:47:58.985Z"
   },
   {
    "duration": 6,
    "start_time": "2022-04-17T11:47:58.998Z"
   },
   {
    "duration": 7,
    "start_time": "2022-04-17T11:47:59.007Z"
   },
   {
    "duration": 7,
    "start_time": "2022-04-17T11:47:59.017Z"
   },
   {
    "duration": 10,
    "start_time": "2022-04-17T11:47:59.026Z"
   },
   {
    "duration": 22,
    "start_time": "2022-04-17T11:47:59.081Z"
   },
   {
    "duration": 8,
    "start_time": "2022-04-17T11:47:59.105Z"
   },
   {
    "duration": 523,
    "start_time": "2022-04-17T11:47:59.116Z"
   },
   {
    "duration": 8,
    "start_time": "2022-04-17T11:47:59.641Z"
   },
   {
    "duration": 9,
    "start_time": "2022-04-17T11:47:59.651Z"
   },
   {
    "duration": 4,
    "start_time": "2022-04-17T11:47:59.681Z"
   },
   {
    "duration": 10,
    "start_time": "2022-04-17T11:47:59.687Z"
   },
   {
    "duration": 904,
    "start_time": "2022-04-17T11:47:59.699Z"
   },
   {
    "duration": 31,
    "start_time": "2022-04-17T11:48:00.606Z"
   },
   {
    "duration": 9,
    "start_time": "2022-04-17T11:48:00.639Z"
   },
   {
    "duration": 907,
    "start_time": "2022-04-17T11:48:00.651Z"
   },
   {
    "duration": 192,
    "start_time": "2022-04-17T11:48:01.566Z"
   },
   {
    "duration": 21,
    "start_time": "2022-04-17T11:48:01.761Z"
   },
   {
    "duration": 28,
    "start_time": "2022-04-17T11:48:01.785Z"
   },
   {
    "duration": 20,
    "start_time": "2022-04-17T11:48:01.816Z"
   },
   {
    "duration": 864,
    "start_time": "2022-04-17T11:48:01.839Z"
   },
   {
    "duration": 532,
    "start_time": "2022-04-17T11:48:02.705Z"
   },
   {
    "duration": 9,
    "start_time": "2022-04-17T11:48:03.240Z"
   },
   {
    "duration": 972,
    "start_time": "2022-04-17T11:48:03.251Z"
   },
   {
    "duration": 9,
    "start_time": "2022-04-17T11:48:04.226Z"
   },
   {
    "duration": 9,
    "start_time": "2022-04-17T11:48:04.238Z"
   },
   {
    "duration": 67,
    "start_time": "2022-04-17T11:48:04.250Z"
   },
   {
    "duration": 342,
    "start_time": "2022-04-17T11:48:04.319Z"
   },
   {
    "duration": 553,
    "start_time": "2022-04-17T11:48:04.664Z"
   },
   {
    "duration": 86,
    "start_time": "2022-04-17T11:48:05.220Z"
   },
   {
    "duration": 4,
    "start_time": "2022-04-17T11:48:05.309Z"
   },
   {
    "duration": 712,
    "start_time": "2022-04-17T11:48:05.315Z"
   },
   {
    "duration": 668,
    "start_time": "2022-04-17T11:48:06.029Z"
   },
   {
    "duration": 285,
    "start_time": "2022-04-17T11:48:06.699Z"
   },
   {
    "duration": 6,
    "start_time": "2022-04-17T11:48:06.986Z"
   },
   {
    "duration": 15,
    "start_time": "2022-04-17T11:48:06.994Z"
   },
   {
    "duration": 9,
    "start_time": "2022-04-17T11:48:07.011Z"
   },
   {
    "duration": 9,
    "start_time": "2022-04-17T11:48:07.023Z"
   },
   {
    "duration": 11,
    "start_time": "2022-04-17T11:48:07.035Z"
   },
   {
    "duration": 8,
    "start_time": "2022-04-17T11:48:07.081Z"
   },
   {
    "duration": 9,
    "start_time": "2022-04-17T11:48:07.091Z"
   },
   {
    "duration": 11,
    "start_time": "2022-04-17T11:48:07.103Z"
   },
   {
    "duration": 1929,
    "start_time": "2022-04-26T06:36:11.572Z"
   },
   {
    "duration": 49,
    "start_time": "2022-04-26T06:36:13.504Z"
   },
   {
    "duration": 37,
    "start_time": "2022-04-26T06:36:13.556Z"
   },
   {
    "duration": 21,
    "start_time": "2022-04-26T06:36:13.597Z"
   },
   {
    "duration": 5,
    "start_time": "2022-04-26T06:36:13.620Z"
   },
   {
    "duration": 11,
    "start_time": "2022-04-26T06:36:13.628Z"
   },
   {
    "duration": 58,
    "start_time": "2022-04-26T06:36:13.641Z"
   },
   {
    "duration": 20,
    "start_time": "2022-04-26T06:36:13.702Z"
   },
   {
    "duration": 10,
    "start_time": "2022-04-26T06:36:13.724Z"
   },
   {
    "duration": 44,
    "start_time": "2022-04-26T06:36:13.740Z"
   },
   {
    "duration": 6,
    "start_time": "2022-04-26T06:36:13.787Z"
   },
   {
    "duration": 11,
    "start_time": "2022-04-26T06:36:13.795Z"
   },
   {
    "duration": 6,
    "start_time": "2022-04-26T06:36:13.808Z"
   },
   {
    "duration": 18,
    "start_time": "2022-04-26T06:36:13.816Z"
   },
   {
    "duration": 12,
    "start_time": "2022-04-26T06:36:13.836Z"
   },
   {
    "duration": 33,
    "start_time": "2022-04-26T06:36:13.850Z"
   },
   {
    "duration": 20,
    "start_time": "2022-04-26T06:36:13.886Z"
   },
   {
    "duration": 8,
    "start_time": "2022-04-26T06:36:13.908Z"
   },
   {
    "duration": 413,
    "start_time": "2022-04-26T06:36:13.918Z"
   },
   {
    "duration": 8,
    "start_time": "2022-04-26T06:36:14.333Z"
   },
   {
    "duration": 8,
    "start_time": "2022-04-26T06:36:14.343Z"
   },
   {
    "duration": 28,
    "start_time": "2022-04-26T06:36:14.353Z"
   },
   {
    "duration": 7,
    "start_time": "2022-04-26T06:36:14.384Z"
   },
   {
    "duration": 817,
    "start_time": "2022-04-26T06:36:14.393Z"
   },
   {
    "duration": 71,
    "start_time": "2022-04-26T06:36:15.213Z"
   },
   {
    "duration": 8,
    "start_time": "2022-04-26T06:36:15.287Z"
   },
   {
    "duration": 1789,
    "start_time": "2022-04-26T06:36:15.297Z"
   },
   {
    "duration": 294,
    "start_time": "2022-04-26T06:36:17.092Z"
   },
   {
    "duration": 8,
    "start_time": "2022-04-26T06:36:17.388Z"
   },
   {
    "duration": 21,
    "start_time": "2022-04-26T06:36:17.398Z"
   },
   {
    "duration": 65,
    "start_time": "2022-04-26T06:36:17.422Z"
   },
   {
    "duration": 720,
    "start_time": "2022-04-26T06:36:17.490Z"
   },
   {
    "duration": 552,
    "start_time": "2022-04-26T06:36:18.212Z"
   },
   {
    "duration": 17,
    "start_time": "2022-04-26T06:36:18.767Z"
   },
   {
    "duration": 998,
    "start_time": "2022-04-26T06:36:18.787Z"
   },
   {
    "duration": 10,
    "start_time": "2022-04-26T06:36:19.788Z"
   },
   {
    "duration": 6,
    "start_time": "2022-04-26T06:36:19.801Z"
   },
   {
    "duration": 78,
    "start_time": "2022-04-26T06:36:19.810Z"
   },
   {
    "duration": 355,
    "start_time": "2022-04-26T06:36:19.891Z"
   },
   {
    "duration": 547,
    "start_time": "2022-04-26T06:36:20.249Z"
   },
   {
    "duration": 60,
    "start_time": "2022-04-26T06:36:20.798Z"
   },
   {
    "duration": 24,
    "start_time": "2022-04-26T06:36:20.860Z"
   },
   {
    "duration": 551,
    "start_time": "2022-04-26T06:36:20.886Z"
   },
   {
    "duration": 637,
    "start_time": "2022-04-26T06:36:21.439Z"
   },
   {
    "duration": 285,
    "start_time": "2022-04-26T06:36:22.083Z"
   },
   {
    "duration": 13,
    "start_time": "2022-04-26T06:36:22.371Z"
   },
   {
    "duration": 10,
    "start_time": "2022-04-26T06:36:22.386Z"
   },
   {
    "duration": 9,
    "start_time": "2022-04-26T06:36:22.399Z"
   },
   {
    "duration": 9,
    "start_time": "2022-04-26T06:36:22.410Z"
   },
   {
    "duration": 9,
    "start_time": "2022-04-26T06:36:22.421Z"
   },
   {
    "duration": 10,
    "start_time": "2022-04-26T06:36:22.432Z"
   },
   {
    "duration": 41,
    "start_time": "2022-04-26T06:36:22.444Z"
   },
   {
    "duration": 7,
    "start_time": "2022-04-26T06:36:22.488Z"
   },
   {
    "duration": 19,
    "start_time": "2022-04-26T06:36:32.452Z"
   },
   {
    "duration": 151,
    "start_time": "2022-04-26T06:41:35.683Z"
   },
   {
    "duration": 6,
    "start_time": "2022-04-26T06:41:42.561Z"
   },
   {
    "duration": 92,
    "start_time": "2022-04-26T06:54:47.193Z"
   },
   {
    "duration": 1471,
    "start_time": "2022-04-26T07:27:50.269Z"
   },
   {
    "duration": 52,
    "start_time": "2022-04-26T07:27:51.742Z"
   },
   {
    "duration": 24,
    "start_time": "2022-04-26T07:27:51.796Z"
   },
   {
    "duration": 25,
    "start_time": "2022-04-26T07:27:51.823Z"
   },
   {
    "duration": 4,
    "start_time": "2022-04-26T07:27:51.851Z"
   },
   {
    "duration": 30,
    "start_time": "2022-04-26T07:27:51.857Z"
   },
   {
    "duration": 27,
    "start_time": "2022-04-26T07:27:51.889Z"
   },
   {
    "duration": 17,
    "start_time": "2022-04-26T07:27:51.919Z"
   },
   {
    "duration": 9,
    "start_time": "2022-04-26T07:27:51.938Z"
   },
   {
    "duration": 7,
    "start_time": "2022-04-26T07:27:51.981Z"
   },
   {
    "duration": 8,
    "start_time": "2022-04-26T07:27:51.991Z"
   },
   {
    "duration": 8,
    "start_time": "2022-04-26T07:27:52.002Z"
   },
   {
    "duration": 7,
    "start_time": "2022-04-26T07:27:52.013Z"
   },
   {
    "duration": 8,
    "start_time": "2022-04-26T07:27:52.022Z"
   },
   {
    "duration": 51,
    "start_time": "2022-04-26T07:27:52.033Z"
   },
   {
    "duration": 10,
    "start_time": "2022-04-26T07:27:52.086Z"
   },
   {
    "duration": 21,
    "start_time": "2022-04-26T07:27:52.098Z"
   },
   {
    "duration": 7,
    "start_time": "2022-04-26T07:27:52.122Z"
   },
   {
    "duration": 525,
    "start_time": "2022-04-26T07:27:52.132Z"
   },
   {
    "duration": 8,
    "start_time": "2022-04-26T07:27:52.659Z"
   },
   {
    "duration": 18,
    "start_time": "2022-04-26T07:27:52.669Z"
   },
   {
    "duration": 6,
    "start_time": "2022-04-26T07:27:52.689Z"
   },
   {
    "duration": 9,
    "start_time": "2022-04-26T07:27:52.697Z"
   },
   {
    "duration": 662,
    "start_time": "2022-04-26T07:27:52.708Z"
   },
   {
    "duration": 27,
    "start_time": "2022-04-26T07:27:53.372Z"
   },
   {
    "duration": 8,
    "start_time": "2022-04-26T07:27:53.401Z"
   },
   {
    "duration": 905,
    "start_time": "2022-04-26T07:27:53.411Z"
   },
   {
    "duration": 145,
    "start_time": "2022-04-26T07:27:54.322Z"
   },
   {
    "duration": 15,
    "start_time": "2022-04-26T07:27:54.469Z"
   },
   {
    "duration": 34,
    "start_time": "2022-04-26T07:27:54.487Z"
   },
   {
    "duration": 21,
    "start_time": "2022-04-26T07:27:54.523Z"
   },
   {
    "duration": 629,
    "start_time": "2022-04-26T07:27:54.546Z"
   },
   {
    "duration": 518,
    "start_time": "2022-04-26T07:27:55.181Z"
   },
   {
    "duration": 9,
    "start_time": "2022-04-26T07:27:55.701Z"
   },
   {
    "duration": 975,
    "start_time": "2022-04-26T07:27:55.712Z"
   },
   {
    "duration": 11,
    "start_time": "2022-04-26T07:27:56.689Z"
   },
   {
    "duration": 5,
    "start_time": "2022-04-26T07:27:56.702Z"
   },
   {
    "duration": 79,
    "start_time": "2022-04-26T07:27:56.709Z"
   },
   {
    "duration": 447,
    "start_time": "2022-04-26T07:27:56.791Z"
   },
   {
    "duration": 541,
    "start_time": "2022-04-26T07:27:57.241Z"
   },
   {
    "duration": 56,
    "start_time": "2022-04-26T07:27:57.784Z"
   },
   {
    "duration": 4,
    "start_time": "2022-04-26T07:27:57.842Z"
   },
   {
    "duration": 642,
    "start_time": "2022-04-26T07:27:57.848Z"
   },
   {
    "duration": 673,
    "start_time": "2022-04-26T07:27:58.492Z"
   },
   {
    "duration": 286,
    "start_time": "2022-04-26T07:27:59.168Z"
   },
   {
    "duration": 6,
    "start_time": "2022-04-26T07:27:59.457Z"
   },
   {
    "duration": 8,
    "start_time": "2022-04-26T07:27:59.481Z"
   },
   {
    "duration": 11,
    "start_time": "2022-04-26T07:27:59.491Z"
   },
   {
    "duration": 8,
    "start_time": "2022-04-26T07:27:59.504Z"
   },
   {
    "duration": 7,
    "start_time": "2022-04-26T07:27:59.514Z"
   },
   {
    "duration": 10,
    "start_time": "2022-04-26T07:27:59.523Z"
   },
   {
    "duration": 52,
    "start_time": "2022-04-26T07:27:59.535Z"
   },
   {
    "duration": 23,
    "start_time": "2022-04-26T07:27:59.590Z"
   },
   {
    "duration": 49,
    "start_time": "2022-04-26T19:16:10.412Z"
   },
   {
    "duration": 1512,
    "start_time": "2022-04-26T19:16:21.831Z"
   },
   {
    "duration": 41,
    "start_time": "2022-04-26T19:16:23.345Z"
   },
   {
    "duration": 23,
    "start_time": "2022-04-26T19:16:23.387Z"
   },
   {
    "duration": 38,
    "start_time": "2022-04-26T19:16:23.412Z"
   },
   {
    "duration": 35,
    "start_time": "2022-04-26T19:16:23.451Z"
   },
   {
    "duration": 2,
    "start_time": "2022-04-26T19:16:23.488Z"
   },
   {
    "duration": 18,
    "start_time": "2022-04-26T19:16:23.492Z"
   },
   {
    "duration": 16,
    "start_time": "2022-04-26T19:16:23.513Z"
   },
   {
    "duration": 11,
    "start_time": "2022-04-26T19:16:23.531Z"
   },
   {
    "duration": 5,
    "start_time": "2022-04-26T19:16:23.545Z"
   },
   {
    "duration": 7,
    "start_time": "2022-04-26T19:16:23.552Z"
   },
   {
    "duration": 5,
    "start_time": "2022-04-26T19:16:23.560Z"
   },
   {
    "duration": 26,
    "start_time": "2022-04-26T19:16:23.567Z"
   },
   {
    "duration": 5,
    "start_time": "2022-04-26T19:16:23.595Z"
   },
   {
    "duration": 15,
    "start_time": "2022-04-26T19:16:23.601Z"
   },
   {
    "duration": 7,
    "start_time": "2022-04-26T19:16:23.618Z"
   },
   {
    "duration": 9,
    "start_time": "2022-04-26T19:16:23.626Z"
   },
   {
    "duration": 14,
    "start_time": "2022-04-26T19:16:23.636Z"
   },
   {
    "duration": 8,
    "start_time": "2022-04-26T19:16:23.652Z"
   },
   {
    "duration": 284,
    "start_time": "2022-04-26T19:16:23.662Z"
   },
   {
    "duration": 6,
    "start_time": "2022-04-26T19:16:23.948Z"
   },
   {
    "duration": 6,
    "start_time": "2022-04-26T19:16:23.956Z"
   },
   {
    "duration": 4,
    "start_time": "2022-04-26T19:16:23.964Z"
   },
   {
    "duration": 27,
    "start_time": "2022-04-26T19:16:23.969Z"
   },
   {
    "duration": 479,
    "start_time": "2022-04-26T19:16:23.998Z"
   },
   {
    "duration": 17,
    "start_time": "2022-04-26T19:16:24.479Z"
   },
   {
    "duration": 11,
    "start_time": "2022-04-26T19:16:24.498Z"
   },
   {
    "duration": 557,
    "start_time": "2022-04-26T19:16:24.515Z"
   },
   {
    "duration": 96,
    "start_time": "2022-04-26T19:16:25.074Z"
   },
   {
    "duration": 5,
    "start_time": "2022-04-26T19:16:25.171Z"
   },
   {
    "duration": 32,
    "start_time": "2022-04-26T19:16:25.178Z"
   },
   {
    "duration": 9,
    "start_time": "2022-04-26T19:16:25.212Z"
   },
   {
    "duration": 397,
    "start_time": "2022-04-26T19:16:25.223Z"
   },
   {
    "duration": 315,
    "start_time": "2022-04-26T19:16:25.621Z"
   },
   {
    "duration": 7,
    "start_time": "2022-04-26T19:16:25.938Z"
   },
   {
    "duration": 621,
    "start_time": "2022-04-26T19:16:25.947Z"
   },
   {
    "duration": 5,
    "start_time": "2022-04-26T19:16:26.570Z"
   },
   {
    "duration": 5,
    "start_time": "2022-04-26T19:16:26.577Z"
   },
   {
    "duration": 28,
    "start_time": "2022-04-26T19:16:26.593Z"
   },
   {
    "duration": 214,
    "start_time": "2022-04-26T19:16:26.623Z"
   },
   {
    "duration": 310,
    "start_time": "2022-04-26T19:16:26.839Z"
   },
   {
    "duration": 53,
    "start_time": "2022-04-26T19:16:27.151Z"
   },
   {
    "duration": 4,
    "start_time": "2022-04-26T19:16:27.207Z"
   },
   {
    "duration": 330,
    "start_time": "2022-04-26T19:16:27.213Z"
   },
   {
    "duration": 436,
    "start_time": "2022-04-26T19:16:27.545Z"
   },
   {
    "duration": 185,
    "start_time": "2022-04-26T19:16:27.982Z"
   },
   {
    "duration": 4,
    "start_time": "2022-04-26T19:16:28.169Z"
   },
   {
    "duration": 9,
    "start_time": "2022-04-26T19:16:28.174Z"
   },
   {
    "duration": 13,
    "start_time": "2022-04-26T19:16:28.185Z"
   },
   {
    "duration": 15,
    "start_time": "2022-04-26T19:16:28.201Z"
   },
   {
    "duration": 5,
    "start_time": "2022-04-26T19:16:28.218Z"
   },
   {
    "duration": 7,
    "start_time": "2022-04-26T19:16:28.225Z"
   },
   {
    "duration": 8,
    "start_time": "2022-04-26T19:16:28.234Z"
   },
   {
    "duration": 8,
    "start_time": "2022-04-26T19:16:28.243Z"
   },
   {
    "duration": 4,
    "start_time": "2022-04-26T19:19:09.822Z"
   },
   {
    "duration": 5,
    "start_time": "2022-04-26T19:19:12.990Z"
   },
   {
    "duration": 1217,
    "start_time": "2022-04-26T19:19:34.126Z"
   },
   {
    "duration": 37,
    "start_time": "2022-04-26T19:19:35.345Z"
   },
   {
    "duration": 23,
    "start_time": "2022-04-26T19:19:35.384Z"
   },
   {
    "duration": 23,
    "start_time": "2022-04-26T19:19:35.410Z"
   },
   {
    "duration": 38,
    "start_time": "2022-04-26T19:19:35.435Z"
   },
   {
    "duration": 3,
    "start_time": "2022-04-26T19:19:35.492Z"
   },
   {
    "duration": 7,
    "start_time": "2022-04-26T19:19:35.497Z"
   },
   {
    "duration": 8,
    "start_time": "2022-04-26T19:19:35.506Z"
   },
   {
    "duration": 19,
    "start_time": "2022-04-26T19:19:35.516Z"
   },
   {
    "duration": 12,
    "start_time": "2022-04-26T19:19:35.538Z"
   },
   {
    "duration": 10,
    "start_time": "2022-04-26T19:19:35.551Z"
   },
   {
    "duration": 7,
    "start_time": "2022-04-26T19:19:35.592Z"
   },
   {
    "duration": 11,
    "start_time": "2022-04-26T19:19:35.601Z"
   },
   {
    "duration": 7,
    "start_time": "2022-04-26T19:19:35.614Z"
   },
   {
    "duration": 7,
    "start_time": "2022-04-26T19:19:35.622Z"
   },
   {
    "duration": 10,
    "start_time": "2022-04-26T19:19:35.631Z"
   },
   {
    "duration": 11,
    "start_time": "2022-04-26T19:19:35.643Z"
   },
   {
    "duration": 9,
    "start_time": "2022-04-26T19:19:35.656Z"
   },
   {
    "duration": 33,
    "start_time": "2022-04-26T19:19:35.667Z"
   },
   {
    "duration": 17,
    "start_time": "2022-04-26T19:19:35.702Z"
   },
   {
    "duration": 246,
    "start_time": "2022-04-26T19:19:35.721Z"
   },
   {
    "duration": 6,
    "start_time": "2022-04-26T19:19:35.969Z"
   },
   {
    "duration": 18,
    "start_time": "2022-04-26T19:19:35.976Z"
   },
   {
    "duration": 10,
    "start_time": "2022-04-26T19:19:35.995Z"
   },
   {
    "duration": 6,
    "start_time": "2022-04-26T19:19:36.007Z"
   },
   {
    "duration": 422,
    "start_time": "2022-04-26T19:19:36.015Z"
   },
   {
    "duration": 16,
    "start_time": "2022-04-26T19:19:36.439Z"
   },
   {
    "duration": 4,
    "start_time": "2022-04-26T19:19:36.460Z"
   },
   {
    "duration": 855,
    "start_time": "2022-04-26T19:19:36.466Z"
   },
   {
    "duration": 145,
    "start_time": "2022-04-26T19:19:37.324Z"
   },
   {
    "duration": 6,
    "start_time": "2022-04-26T19:19:37.471Z"
   },
   {
    "duration": 31,
    "start_time": "2022-04-26T19:19:37.479Z"
   },
   {
    "duration": 12,
    "start_time": "2022-04-26T19:19:37.512Z"
   },
   {
    "duration": 594,
    "start_time": "2022-04-26T19:19:37.526Z"
   },
   {
    "duration": 322,
    "start_time": "2022-04-26T19:19:38.122Z"
   },
   {
    "duration": 6,
    "start_time": "2022-04-26T19:19:38.446Z"
   },
   {
    "duration": 996,
    "start_time": "2022-04-26T19:19:38.454Z"
   },
   {
    "duration": 8,
    "start_time": "2022-04-26T19:19:39.452Z"
   },
   {
    "duration": 8,
    "start_time": "2022-04-26T19:19:39.462Z"
   },
   {
    "duration": 53,
    "start_time": "2022-04-26T19:19:39.473Z"
   },
   {
    "duration": 222,
    "start_time": "2022-04-26T19:19:39.528Z"
   },
   {
    "duration": 328,
    "start_time": "2022-04-26T19:19:39.752Z"
   },
   {
    "duration": 49,
    "start_time": "2022-04-26T19:19:40.082Z"
   },
   {
    "duration": 2,
    "start_time": "2022-04-26T19:19:40.134Z"
   },
   {
    "duration": 368,
    "start_time": "2022-04-26T19:19:40.138Z"
   },
   {
    "duration": 630,
    "start_time": "2022-04-26T19:19:40.508Z"
   },
   {
    "duration": 226,
    "start_time": "2022-04-26T19:19:41.141Z"
   },
   {
    "duration": 4,
    "start_time": "2022-04-26T19:19:41.369Z"
   },
   {
    "duration": 22,
    "start_time": "2022-04-26T19:19:41.376Z"
   },
   {
    "duration": 9,
    "start_time": "2022-04-26T19:19:41.401Z"
   },
   {
    "duration": 9,
    "start_time": "2022-04-26T19:19:41.413Z"
   },
   {
    "duration": 10,
    "start_time": "2022-04-26T19:19:41.424Z"
   },
   {
    "duration": 10,
    "start_time": "2022-04-26T19:19:41.436Z"
   },
   {
    "duration": 8,
    "start_time": "2022-04-26T19:19:41.448Z"
   },
   {
    "duration": 35,
    "start_time": "2022-04-26T19:19:41.458Z"
   },
   {
    "duration": 13,
    "start_time": "2022-04-26T19:21:26.527Z"
   },
   {
    "duration": 4,
    "start_time": "2022-04-26T19:21:38.283Z"
   },
   {
    "duration": 41,
    "start_time": "2022-04-26T19:21:38.298Z"
   },
   {
    "duration": 13,
    "start_time": "2022-04-26T19:21:38.341Z"
   },
   {
    "duration": 18,
    "start_time": "2022-04-26T19:21:38.356Z"
   },
   {
    "duration": 44,
    "start_time": "2022-04-26T19:21:38.376Z"
   },
   {
    "duration": 3,
    "start_time": "2022-04-26T19:21:38.422Z"
   },
   {
    "duration": 4,
    "start_time": "2022-04-26T19:21:38.427Z"
   },
   {
    "duration": 6,
    "start_time": "2022-04-26T19:21:38.433Z"
   },
   {
    "duration": 18,
    "start_time": "2022-04-26T19:21:38.440Z"
   },
   {
    "duration": 4,
    "start_time": "2022-04-26T19:21:46.491Z"
   },
   {
    "duration": 35,
    "start_time": "2022-04-26T19:21:46.511Z"
   },
   {
    "duration": 13,
    "start_time": "2022-04-26T19:21:46.549Z"
   },
   {
    "duration": 24,
    "start_time": "2022-04-26T19:21:46.564Z"
   },
   {
    "duration": 49,
    "start_time": "2022-04-26T19:21:46.593Z"
   },
   {
    "duration": 3,
    "start_time": "2022-04-26T19:21:46.644Z"
   },
   {
    "duration": 8,
    "start_time": "2022-04-26T19:21:46.649Z"
   },
   {
    "duration": 6,
    "start_time": "2022-04-26T19:21:46.659Z"
   },
   {
    "duration": 13,
    "start_time": "2022-04-26T19:21:54.319Z"
   },
   {
    "duration": 3,
    "start_time": "2022-04-26T19:23:47.445Z"
   },
   {
    "duration": 16,
    "start_time": "2022-04-26T19:23:48.581Z"
   },
   {
    "duration": 2395,
    "start_time": "2022-04-26T19:28:45.649Z"
   },
   {
    "duration": 1392,
    "start_time": "2022-04-26T19:29:03.626Z"
   },
   {
    "duration": 38,
    "start_time": "2022-04-26T19:29:05.021Z"
   },
   {
    "duration": 19,
    "start_time": "2022-04-26T19:29:05.060Z"
   },
   {
    "duration": 22,
    "start_time": "2022-04-26T19:29:05.081Z"
   },
   {
    "duration": 35,
    "start_time": "2022-04-26T19:29:05.105Z"
   },
   {
    "duration": 2,
    "start_time": "2022-04-26T19:29:05.142Z"
   },
   {
    "duration": 5,
    "start_time": "2022-04-26T19:29:05.146Z"
   },
   {
    "duration": 14,
    "start_time": "2022-04-26T19:29:05.153Z"
   },
   {
    "duration": 12,
    "start_time": "2022-04-26T19:29:05.169Z"
   },
   {
    "duration": 24,
    "start_time": "2022-04-26T19:29:05.193Z"
   },
   {
    "duration": 15,
    "start_time": "2022-04-26T19:29:05.219Z"
   },
   {
    "duration": 9,
    "start_time": "2022-04-26T19:29:05.237Z"
   },
   {
    "duration": 9,
    "start_time": "2022-04-26T19:29:05.247Z"
   },
   {
    "duration": 21,
    "start_time": "2022-04-26T19:29:05.258Z"
   },
   {
    "duration": 9,
    "start_time": "2022-04-26T19:29:05.281Z"
   },
   {
    "duration": 30,
    "start_time": "2022-04-26T19:29:05.292Z"
   },
   {
    "duration": 8,
    "start_time": "2022-04-26T19:29:05.323Z"
   },
   {
    "duration": 11,
    "start_time": "2022-04-26T19:29:05.332Z"
   },
   {
    "duration": 11,
    "start_time": "2022-04-26T19:29:05.345Z"
   },
   {
    "duration": 17,
    "start_time": "2022-04-26T19:29:05.358Z"
   },
   {
    "duration": 8,
    "start_time": "2022-04-26T19:29:05.377Z"
   },
   {
    "duration": 254,
    "start_time": "2022-04-26T19:29:05.386Z"
   },
   {
    "duration": 6,
    "start_time": "2022-04-26T19:29:05.642Z"
   },
   {
    "duration": 8,
    "start_time": "2022-04-26T19:29:05.649Z"
   },
   {
    "duration": 10,
    "start_time": "2022-04-26T19:29:05.658Z"
   },
   {
    "duration": 24,
    "start_time": "2022-04-26T19:29:05.669Z"
   },
   {
    "duration": 5,
    "start_time": "2022-04-26T19:29:05.695Z"
   },
   {
    "duration": 410,
    "start_time": "2022-04-26T19:29:05.705Z"
   },
   {
    "duration": 16,
    "start_time": "2022-04-26T19:29:06.117Z"
   },
   {
    "duration": 6,
    "start_time": "2022-04-26T19:29:06.135Z"
   },
   {
    "duration": 598,
    "start_time": "2022-04-26T19:29:06.142Z"
   },
   {
    "duration": 104,
    "start_time": "2022-04-26T19:29:06.742Z"
   },
   {
    "duration": 6,
    "start_time": "2022-04-26T19:29:06.849Z"
   },
   {
    "duration": 17,
    "start_time": "2022-04-26T19:29:06.856Z"
   },
   {
    "duration": 31,
    "start_time": "2022-04-26T19:29:06.875Z"
   },
   {
    "duration": 501,
    "start_time": "2022-04-26T19:29:06.908Z"
   },
   {
    "duration": 451,
    "start_time": "2022-04-26T19:29:07.412Z"
   },
   {
    "duration": 8,
    "start_time": "2022-04-26T19:29:07.865Z"
   },
   {
    "duration": 803,
    "start_time": "2022-04-26T19:29:07.876Z"
   },
   {
    "duration": 7,
    "start_time": "2022-04-26T19:29:08.693Z"
   },
   {
    "duration": 15,
    "start_time": "2022-04-26T19:29:08.702Z"
   },
   {
    "duration": 35,
    "start_time": "2022-04-26T19:29:08.719Z"
   },
   {
    "duration": 240,
    "start_time": "2022-04-26T19:29:08.756Z"
   },
   {
    "duration": 373,
    "start_time": "2022-04-26T19:29:08.999Z"
   },
   {
    "duration": 59,
    "start_time": "2022-04-26T19:29:09.373Z"
   },
   {
    "duration": 3,
    "start_time": "2022-04-26T19:29:09.433Z"
   },
   {
    "duration": 384,
    "start_time": "2022-04-26T19:29:09.438Z"
   },
   {
    "duration": 459,
    "start_time": "2022-04-26T19:29:09.824Z"
   },
   {
    "duration": 193,
    "start_time": "2022-04-26T19:29:10.285Z"
   },
   {
    "duration": 4,
    "start_time": "2022-04-26T19:29:10.480Z"
   },
   {
    "duration": 9,
    "start_time": "2022-04-26T19:29:10.493Z"
   },
   {
    "duration": 15,
    "start_time": "2022-04-26T19:29:10.504Z"
   },
   {
    "duration": 6,
    "start_time": "2022-04-26T19:29:10.521Z"
   },
   {
    "duration": 6,
    "start_time": "2022-04-26T19:29:10.529Z"
   },
   {
    "duration": 8,
    "start_time": "2022-04-26T19:29:10.537Z"
   },
   {
    "duration": 6,
    "start_time": "2022-04-26T19:29:10.547Z"
   },
   {
    "duration": 5,
    "start_time": "2022-04-26T19:29:10.555Z"
   },
   {
    "duration": 6,
    "start_time": "2022-04-26T19:29:19.767Z"
   },
   {
    "duration": 3,
    "start_time": "2022-04-26T19:29:33.881Z"
   },
   {
    "duration": 44,
    "start_time": "2022-04-26T19:29:33.886Z"
   },
   {
    "duration": 14,
    "start_time": "2022-04-26T19:29:33.932Z"
   },
   {
    "duration": 16,
    "start_time": "2022-04-26T19:29:33.947Z"
   },
   {
    "duration": 41,
    "start_time": "2022-04-26T19:29:33.965Z"
   },
   {
    "duration": 3,
    "start_time": "2022-04-26T19:29:34.008Z"
   },
   {
    "duration": 8,
    "start_time": "2022-04-26T19:29:34.013Z"
   },
   {
    "duration": 15,
    "start_time": "2022-04-26T19:29:34.023Z"
   },
   {
    "duration": 11,
    "start_time": "2022-04-26T19:29:34.039Z"
   },
   {
    "duration": 15,
    "start_time": "2022-04-26T19:29:34.052Z"
   },
   {
    "duration": 24,
    "start_time": "2022-04-26T19:29:34.069Z"
   },
   {
    "duration": 11,
    "start_time": "2022-04-26T19:29:34.096Z"
   },
   {
    "duration": 8,
    "start_time": "2022-04-26T19:29:34.109Z"
   },
   {
    "duration": 15,
    "start_time": "2022-04-26T19:29:34.119Z"
   },
   {
    "duration": 14,
    "start_time": "2022-04-26T19:29:34.136Z"
   },
   {
    "duration": 24,
    "start_time": "2022-04-26T19:29:34.152Z"
   },
   {
    "duration": 13,
    "start_time": "2022-04-26T19:29:34.178Z"
   },
   {
    "duration": 21,
    "start_time": "2022-04-26T19:29:34.193Z"
   },
   {
    "duration": 9,
    "start_time": "2022-04-26T19:29:34.216Z"
   },
   {
    "duration": 17,
    "start_time": "2022-04-26T19:29:34.227Z"
   },
   {
    "duration": 11,
    "start_time": "2022-04-26T19:29:34.246Z"
   },
   {
    "duration": 224,
    "start_time": "2022-04-26T19:29:34.259Z"
   },
   {
    "duration": 7,
    "start_time": "2022-04-26T19:29:40.506Z"
   },
   {
    "duration": 17,
    "start_time": "2022-04-26T19:29:43.926Z"
   },
   {
    "duration": 109,
    "start_time": "2022-04-26T19:30:42.275Z"
   },
   {
    "duration": 13,
    "start_time": "2022-04-26T19:32:04.289Z"
   },
   {
    "duration": 15,
    "start_time": "2022-04-26T19:32:13.457Z"
   },
   {
    "duration": 11,
    "start_time": "2022-04-26T19:32:55.941Z"
   },
   {
    "duration": 12,
    "start_time": "2022-04-26T19:33:35.243Z"
   },
   {
    "duration": 6,
    "start_time": "2022-04-26T19:33:47.147Z"
   },
   {
    "duration": 5,
    "start_time": "2022-04-26T19:33:47.874Z"
   },
   {
    "duration": 3,
    "start_time": "2022-04-26T19:33:51.250Z"
   },
   {
    "duration": 1179,
    "start_time": "2022-04-26T19:34:01.533Z"
   },
   {
    "duration": 43,
    "start_time": "2022-04-26T19:34:02.715Z"
   },
   {
    "duration": 17,
    "start_time": "2022-04-26T19:34:02.760Z"
   },
   {
    "duration": 23,
    "start_time": "2022-04-26T19:34:02.779Z"
   },
   {
    "duration": 28,
    "start_time": "2022-04-26T19:34:02.805Z"
   },
   {
    "duration": 3,
    "start_time": "2022-04-26T19:34:02.834Z"
   },
   {
    "duration": 7,
    "start_time": "2022-04-26T19:34:02.838Z"
   },
   {
    "duration": 7,
    "start_time": "2022-04-26T19:34:02.846Z"
   },
   {
    "duration": 10,
    "start_time": "2022-04-26T19:34:02.854Z"
   },
   {
    "duration": 38,
    "start_time": "2022-04-26T19:34:02.865Z"
   },
   {
    "duration": 15,
    "start_time": "2022-04-26T19:34:02.905Z"
   },
   {
    "duration": 6,
    "start_time": "2022-04-26T19:34:02.922Z"
   },
   {
    "duration": 8,
    "start_time": "2022-04-26T19:34:02.930Z"
   },
   {
    "duration": 18,
    "start_time": "2022-04-26T19:34:02.941Z"
   },
   {
    "duration": 13,
    "start_time": "2022-04-26T19:34:02.961Z"
   },
   {
    "duration": 11,
    "start_time": "2022-04-26T19:34:02.975Z"
   },
   {
    "duration": 17,
    "start_time": "2022-04-26T19:34:02.987Z"
   },
   {
    "duration": 11,
    "start_time": "2022-04-26T19:34:03.006Z"
   },
   {
    "duration": 10,
    "start_time": "2022-04-26T19:34:03.018Z"
   },
   {
    "duration": 16,
    "start_time": "2022-04-26T19:34:03.030Z"
   },
   {
    "duration": 8,
    "start_time": "2022-04-26T19:34:03.047Z"
   },
   {
    "duration": 235,
    "start_time": "2022-04-26T19:34:03.057Z"
   },
   {
    "duration": 6,
    "start_time": "2022-04-26T19:34:03.294Z"
   },
   {
    "duration": 8,
    "start_time": "2022-04-26T19:34:03.301Z"
   },
   {
    "duration": 5,
    "start_time": "2022-04-26T19:34:03.311Z"
   },
   {
    "duration": 7,
    "start_time": "2022-04-26T19:34:03.317Z"
   },
   {
    "duration": 428,
    "start_time": "2022-04-26T19:34:03.325Z"
   },
   {
    "duration": 18,
    "start_time": "2022-04-26T19:34:03.755Z"
   },
   {
    "duration": 6,
    "start_time": "2022-04-26T19:34:03.775Z"
   },
   {
    "duration": 549,
    "start_time": "2022-04-26T19:34:03.783Z"
   },
   {
    "duration": 100,
    "start_time": "2022-04-26T19:34:04.334Z"
   },
   {
    "duration": 5,
    "start_time": "2022-04-26T19:34:04.436Z"
   },
   {
    "duration": 21,
    "start_time": "2022-04-26T19:34:04.443Z"
   },
   {
    "duration": 14,
    "start_time": "2022-04-26T19:34:04.466Z"
   },
   {
    "duration": 388,
    "start_time": "2022-04-26T19:34:04.482Z"
   },
   {
    "duration": 391,
    "start_time": "2022-04-26T19:34:04.872Z"
   },
   {
    "duration": 7,
    "start_time": "2022-04-26T19:34:05.265Z"
   },
   {
    "duration": 548,
    "start_time": "2022-04-26T19:34:05.273Z"
   },
   {
    "duration": 7,
    "start_time": "2022-04-26T19:34:05.823Z"
   },
   {
    "duration": 6,
    "start_time": "2022-04-26T19:34:05.831Z"
   },
   {
    "duration": 30,
    "start_time": "2022-04-26T19:34:05.841Z"
   },
   {
    "duration": 206,
    "start_time": "2022-04-26T19:34:05.893Z"
   },
   {
    "duration": 309,
    "start_time": "2022-04-26T19:34:06.100Z"
   },
   {
    "duration": 37,
    "start_time": "2022-04-26T19:34:06.411Z"
   },
   {
    "duration": 3,
    "start_time": "2022-04-26T19:34:06.450Z"
   },
   {
    "duration": 339,
    "start_time": "2022-04-26T19:34:06.455Z"
   },
   {
    "duration": 434,
    "start_time": "2022-04-26T19:34:06.796Z"
   },
   {
    "duration": 173,
    "start_time": "2022-04-26T19:34:07.232Z"
   },
   {
    "duration": 5,
    "start_time": "2022-04-26T19:34:07.406Z"
   },
   {
    "duration": 8,
    "start_time": "2022-04-26T19:34:07.412Z"
   },
   {
    "duration": 6,
    "start_time": "2022-04-26T19:34:07.421Z"
   },
   {
    "duration": 10,
    "start_time": "2022-04-26T19:34:07.428Z"
   },
   {
    "duration": 6,
    "start_time": "2022-04-26T19:34:07.440Z"
   },
   {
    "duration": 10,
    "start_time": "2022-04-26T19:34:07.448Z"
   },
   {
    "duration": 6,
    "start_time": "2022-04-26T19:34:07.460Z"
   },
   {
    "duration": 6,
    "start_time": "2022-04-26T19:34:07.492Z"
   },
   {
    "duration": 5,
    "start_time": "2022-04-26T19:43:49.699Z"
   },
   {
    "duration": 256,
    "start_time": "2022-04-26T19:46:41.106Z"
   },
   {
    "duration": 167,
    "start_time": "2022-04-26T19:47:29.003Z"
   },
   {
    "duration": 165,
    "start_time": "2022-04-26T19:48:46.091Z"
   },
   {
    "duration": 313,
    "start_time": "2022-04-26T19:58:29.072Z"
   },
   {
    "duration": 253,
    "start_time": "2022-04-26T19:58:38.168Z"
   },
   {
    "duration": 324,
    "start_time": "2022-04-26T19:58:43.961Z"
   },
   {
    "duration": 104,
    "start_time": "2022-04-26T20:03:36.324Z"
   },
   {
    "duration": 198,
    "start_time": "2022-04-26T20:04:38.743Z"
   },
   {
    "duration": 201,
    "start_time": "2022-04-26T20:04:44.685Z"
   },
   {
    "duration": 188,
    "start_time": "2022-04-26T20:05:03.158Z"
   },
   {
    "duration": 196,
    "start_time": "2022-04-26T20:05:11.105Z"
   },
   {
    "duration": 554,
    "start_time": "2022-04-26T20:09:56.238Z"
   },
   {
    "duration": 553,
    "start_time": "2022-04-26T20:10:22.110Z"
   },
   {
    "duration": 509,
    "start_time": "2022-04-26T20:10:31.035Z"
   },
   {
    "duration": 522,
    "start_time": "2022-04-26T20:11:27.608Z"
   },
   {
    "duration": 530,
    "start_time": "2022-04-26T20:11:33.711Z"
   },
   {
    "duration": 619,
    "start_time": "2022-04-26T20:11:39.283Z"
   },
   {
    "duration": 491,
    "start_time": "2022-04-26T20:11:48.649Z"
   },
   {
    "duration": 367,
    "start_time": "2022-04-26T20:12:05.825Z"
   },
   {
    "duration": 732,
    "start_time": "2022-04-26T20:12:23.217Z"
   },
   {
    "duration": 398,
    "start_time": "2022-04-26T20:12:30.832Z"
   },
   {
    "duration": 359,
    "start_time": "2022-04-26T20:14:12.675Z"
   },
   {
    "duration": 144,
    "start_time": "2022-04-26T20:14:21.985Z"
   },
   {
    "duration": 128,
    "start_time": "2022-04-26T20:14:28.002Z"
   },
   {
    "duration": 226,
    "start_time": "2022-04-26T20:14:29.906Z"
   },
   {
    "duration": 229,
    "start_time": "2022-04-26T20:14:35.992Z"
   },
   {
    "duration": 221,
    "start_time": "2022-04-26T20:14:47.864Z"
   },
   {
    "duration": 358,
    "start_time": "2022-04-26T20:15:17.931Z"
   },
   {
    "duration": 1406,
    "start_time": "2022-04-27T17:21:15.263Z"
   },
   {
    "duration": 41,
    "start_time": "2022-04-27T17:21:16.672Z"
   },
   {
    "duration": 18,
    "start_time": "2022-04-27T17:21:16.714Z"
   },
   {
    "duration": 12,
    "start_time": "2022-04-27T17:21:16.734Z"
   },
   {
    "duration": 25,
    "start_time": "2022-04-27T17:21:16.754Z"
   },
   {
    "duration": 2,
    "start_time": "2022-04-27T17:21:16.781Z"
   },
   {
    "duration": 8,
    "start_time": "2022-04-27T17:21:16.784Z"
   },
   {
    "duration": 11,
    "start_time": "2022-04-27T17:21:16.793Z"
   },
   {
    "duration": 12,
    "start_time": "2022-04-27T17:21:16.805Z"
   },
   {
    "duration": 23,
    "start_time": "2022-04-27T17:21:16.820Z"
   },
   {
    "duration": 11,
    "start_time": "2022-04-27T17:21:16.845Z"
   },
   {
    "duration": 6,
    "start_time": "2022-04-27T17:21:16.858Z"
   },
   {
    "duration": 12,
    "start_time": "2022-04-27T17:21:16.866Z"
   },
   {
    "duration": 12,
    "start_time": "2022-04-27T17:21:16.880Z"
   },
   {
    "duration": 14,
    "start_time": "2022-04-27T17:21:16.893Z"
   },
   {
    "duration": 5,
    "start_time": "2022-04-27T17:21:16.909Z"
   },
   {
    "duration": 12,
    "start_time": "2022-04-27T17:21:16.916Z"
   },
   {
    "duration": 6,
    "start_time": "2022-04-27T17:21:16.929Z"
   },
   {
    "duration": 11,
    "start_time": "2022-04-27T17:21:16.936Z"
   },
   {
    "duration": 15,
    "start_time": "2022-04-27T17:21:16.948Z"
   },
   {
    "duration": 5,
    "start_time": "2022-04-27T17:21:16.964Z"
   },
   {
    "duration": 235,
    "start_time": "2022-04-27T17:21:16.970Z"
   },
   {
    "duration": 5,
    "start_time": "2022-04-27T17:21:17.207Z"
   },
   {
    "duration": 7,
    "start_time": "2022-04-27T17:21:17.213Z"
   },
   {
    "duration": 7,
    "start_time": "2022-04-27T17:21:17.221Z"
   },
   {
    "duration": 11,
    "start_time": "2022-04-27T17:21:17.229Z"
   },
   {
    "duration": 409,
    "start_time": "2022-04-27T17:21:17.242Z"
   },
   {
    "duration": 15,
    "start_time": "2022-04-27T17:21:17.655Z"
   },
   {
    "duration": 5,
    "start_time": "2022-04-27T17:21:17.672Z"
   },
   {
    "duration": 531,
    "start_time": "2022-04-27T17:21:17.679Z"
   },
   {
    "duration": 92,
    "start_time": "2022-04-27T17:21:18.211Z"
   },
   {
    "duration": 5,
    "start_time": "2022-04-27T17:21:18.305Z"
   },
   {
    "duration": 17,
    "start_time": "2022-04-27T17:21:18.311Z"
   },
   {
    "duration": 25,
    "start_time": "2022-04-27T17:21:18.330Z"
   },
   {
    "duration": 345,
    "start_time": "2022-04-27T17:21:18.357Z"
   },
   {
    "duration": 277,
    "start_time": "2022-04-27T17:21:18.704Z"
   },
   {
    "duration": 6,
    "start_time": "2022-04-27T17:21:18.982Z"
   },
   {
    "duration": 595,
    "start_time": "2022-04-27T17:21:18.990Z"
   },
   {
    "duration": 6,
    "start_time": "2022-04-27T17:21:19.587Z"
   },
   {
    "duration": 6,
    "start_time": "2022-04-27T17:21:19.595Z"
   },
   {
    "duration": 28,
    "start_time": "2022-04-27T17:21:19.603Z"
   },
   {
    "duration": 194,
    "start_time": "2022-04-27T17:21:19.633Z"
   },
   {
    "duration": 286,
    "start_time": "2022-04-27T17:21:19.829Z"
   },
   {
    "duration": 44,
    "start_time": "2022-04-27T17:21:20.117Z"
   },
   {
    "duration": 2,
    "start_time": "2022-04-27T17:21:20.163Z"
   },
   {
    "duration": 323,
    "start_time": "2022-04-27T17:21:20.167Z"
   },
   {
    "duration": 446,
    "start_time": "2022-04-27T17:21:20.492Z"
   },
   {
    "duration": 174,
    "start_time": "2022-04-27T17:21:20.939Z"
   },
   {
    "duration": 4,
    "start_time": "2022-04-27T17:21:21.115Z"
   },
   {
    "duration": 15,
    "start_time": "2022-04-27T17:21:21.120Z"
   },
   {
    "duration": 27,
    "start_time": "2022-04-27T17:21:21.137Z"
   },
   {
    "duration": 20,
    "start_time": "2022-04-27T17:21:21.166Z"
   },
   {
    "duration": 14,
    "start_time": "2022-04-27T17:21:21.188Z"
   },
   {
    "duration": 27,
    "start_time": "2022-04-27T17:21:21.204Z"
   },
   {
    "duration": 24,
    "start_time": "2022-04-27T17:21:21.233Z"
   },
   {
    "duration": 26,
    "start_time": "2022-04-27T17:21:21.259Z"
   },
   {
    "duration": 99,
    "start_time": "2022-04-27T17:22:25.667Z"
   },
   {
    "duration": 91,
    "start_time": "2022-04-27T17:22:30.540Z"
   },
   {
    "duration": 141,
    "start_time": "2022-04-27T17:23:19.752Z"
   },
   {
    "duration": 71,
    "start_time": "2022-04-27T17:23:45.581Z"
   },
   {
    "duration": 125,
    "start_time": "2022-04-27T17:24:15.407Z"
   },
   {
    "duration": 226,
    "start_time": "2022-04-27T17:26:07.585Z"
   },
   {
    "duration": 102,
    "start_time": "2022-04-27T17:28:01.781Z"
   },
   {
    "duration": 139,
    "start_time": "2022-04-27T17:28:26.984Z"
   },
   {
    "duration": 169,
    "start_time": "2022-04-27T17:31:36.004Z"
   },
   {
    "duration": 100,
    "start_time": "2022-04-27T17:32:50.300Z"
   },
   {
    "duration": 66,
    "start_time": "2022-04-27T17:32:57.965Z"
   },
   {
    "duration": 85,
    "start_time": "2022-04-27T17:33:35.842Z"
   },
   {
    "duration": 98,
    "start_time": "2022-04-27T17:33:59.118Z"
   },
   {
    "duration": 56,
    "start_time": "2022-04-27T17:34:05.818Z"
   },
   {
    "duration": 238,
    "start_time": "2022-04-27T17:34:52.427Z"
   },
   {
    "duration": 136,
    "start_time": "2022-04-27T17:35:11.383Z"
   },
   {
    "duration": 149,
    "start_time": "2022-04-27T17:35:38.926Z"
   },
   {
    "duration": 137,
    "start_time": "2022-04-27T17:35:48.922Z"
   },
   {
    "duration": 138,
    "start_time": "2022-04-27T17:35:55.305Z"
   },
   {
    "duration": 143,
    "start_time": "2022-04-27T17:35:59.945Z"
   },
   {
    "duration": 133,
    "start_time": "2022-04-27T17:36:02.882Z"
   },
   {
    "duration": 136,
    "start_time": "2022-04-27T17:36:07.007Z"
   },
   {
    "duration": 144,
    "start_time": "2022-04-27T17:36:10.005Z"
   },
   {
    "duration": 136,
    "start_time": "2022-04-27T17:36:12.087Z"
   },
   {
    "duration": 130,
    "start_time": "2022-04-27T17:36:36.232Z"
   },
   {
    "duration": 278,
    "start_time": "2022-04-27T17:36:43.600Z"
   },
   {
    "duration": 132,
    "start_time": "2022-04-27T17:37:19.934Z"
   },
   {
    "duration": 185,
    "start_time": "2022-04-27T17:37:48.479Z"
   },
   {
    "duration": 311,
    "start_time": "2022-04-27T17:39:45.318Z"
   },
   {
    "duration": 185,
    "start_time": "2022-04-27T17:40:10.681Z"
   },
   {
    "duration": 212,
    "start_time": "2022-04-27T17:40:49.689Z"
   },
   {
    "duration": 187,
    "start_time": "2022-04-27T17:40:55.544Z"
   },
   {
    "duration": 204,
    "start_time": "2022-04-27T17:41:13.582Z"
   },
   {
    "duration": 191,
    "start_time": "2022-04-27T17:41:18.312Z"
   },
   {
    "duration": 418,
    "start_time": "2022-04-27T17:41:22.954Z"
   },
   {
    "duration": 180,
    "start_time": "2022-04-27T17:41:42.514Z"
   },
   {
    "duration": 321,
    "start_time": "2022-04-27T17:41:52.226Z"
   },
   {
    "duration": 101,
    "start_time": "2022-04-27T17:43:27.377Z"
   },
   {
    "duration": 149,
    "start_time": "2022-04-27T17:44:39.529Z"
   },
   {
    "duration": 153,
    "start_time": "2022-04-27T17:44:44.699Z"
   },
   {
    "duration": 146,
    "start_time": "2022-04-27T17:44:46.340Z"
   },
   {
    "duration": 161,
    "start_time": "2022-04-27T17:44:50.188Z"
   },
   {
    "duration": 190,
    "start_time": "2022-04-27T17:45:02.890Z"
   },
   {
    "duration": 139,
    "start_time": "2022-04-27T17:51:27.680Z"
   },
   {
    "duration": 176,
    "start_time": "2022-04-27T17:51:33.531Z"
   },
   {
    "duration": 147,
    "start_time": "2022-04-27T17:51:38.174Z"
   },
   {
    "duration": 245,
    "start_time": "2022-04-27T17:51:43.530Z"
   },
   {
    "duration": 245,
    "start_time": "2022-04-27T17:51:52.984Z"
   },
   {
    "duration": 237,
    "start_time": "2022-04-27T17:52:17.776Z"
   },
   {
    "duration": 238,
    "start_time": "2022-04-27T17:52:29.489Z"
   },
   {
    "duration": 233,
    "start_time": "2022-04-27T17:52:42.091Z"
   },
   {
    "duration": 377,
    "start_time": "2022-04-27T17:53:05.092Z"
   },
   {
    "duration": 243,
    "start_time": "2022-04-27T17:53:17.256Z"
   },
   {
    "duration": 235,
    "start_time": "2022-04-27T17:53:26.712Z"
   },
   {
    "duration": 284,
    "start_time": "2022-04-27T17:53:39.344Z"
   },
   {
    "duration": 188,
    "start_time": "2022-04-27T17:53:49.881Z"
   },
   {
    "duration": 284,
    "start_time": "2022-04-27T17:53:56.228Z"
   },
   {
    "duration": 240,
    "start_time": "2022-04-27T17:55:19.108Z"
   },
   {
    "duration": 364,
    "start_time": "2022-04-27T17:55:26.618Z"
   },
   {
    "duration": 244,
    "start_time": "2022-04-27T17:55:34.835Z"
   },
   {
    "duration": 240,
    "start_time": "2022-04-27T17:55:39.290Z"
   },
   {
    "duration": 233,
    "start_time": "2022-04-27T17:55:48.538Z"
   },
   {
    "duration": 229,
    "start_time": "2022-04-27T17:55:52.344Z"
   },
   {
    "duration": 215,
    "start_time": "2022-04-27T17:56:00.874Z"
   },
   {
    "duration": 200,
    "start_time": "2022-04-27T17:56:09.132Z"
   },
   {
    "duration": 335,
    "start_time": "2022-04-27T17:56:15.769Z"
   },
   {
    "duration": 211,
    "start_time": "2022-04-27T17:57:38.809Z"
   },
   {
    "duration": 176,
    "start_time": "2022-04-27T17:57:51.755Z"
   },
   {
    "duration": 455,
    "start_time": "2022-04-27T17:57:59.273Z"
   },
   {
    "duration": 290,
    "start_time": "2022-04-27T17:58:09.572Z"
   },
   {
    "duration": 143,
    "start_time": "2022-04-27T17:59:00.512Z"
   },
   {
    "duration": 373,
    "start_time": "2022-04-27T17:59:03.972Z"
   },
   {
    "duration": 594,
    "start_time": "2022-04-27T18:01:16.809Z"
   },
   {
    "duration": 143,
    "start_time": "2022-04-27T18:01:26.013Z"
   },
   {
    "duration": 410,
    "start_time": "2022-04-27T18:01:49.717Z"
   },
   {
    "duration": 361,
    "start_time": "2022-04-27T18:02:01.444Z"
   },
   {
    "duration": 352,
    "start_time": "2022-04-27T18:02:06.632Z"
   },
   {
    "duration": 86,
    "start_time": "2022-04-27T18:02:33.670Z"
   },
   {
    "duration": 357,
    "start_time": "2022-04-27T18:02:37.193Z"
   },
   {
    "duration": 155,
    "start_time": "2022-04-27T18:02:39.367Z"
   },
   {
    "duration": 361,
    "start_time": "2022-04-27T18:02:43.559Z"
   },
   {
    "duration": 148,
    "start_time": "2022-04-27T18:03:11.833Z"
   },
   {
    "duration": 204,
    "start_time": "2022-04-27T18:03:21.663Z"
   },
   {
    "duration": 381,
    "start_time": "2022-04-27T18:03:46.485Z"
   },
   {
    "duration": 245,
    "start_time": "2022-04-27T18:03:50.901Z"
   },
   {
    "duration": 251,
    "start_time": "2022-04-27T18:04:47.583Z"
   },
   {
    "duration": 246,
    "start_time": "2022-04-27T18:06:03.962Z"
   },
   {
    "duration": 245,
    "start_time": "2022-04-27T18:06:07.104Z"
   },
   {
    "duration": 243,
    "start_time": "2022-04-27T18:06:18.616Z"
   },
   {
    "duration": 261,
    "start_time": "2022-04-27T18:07:37.075Z"
   },
   {
    "duration": 545,
    "start_time": "2022-04-27T18:07:50.368Z"
   },
   {
    "duration": 261,
    "start_time": "2022-04-27T18:08:01.058Z"
   },
   {
    "duration": 239,
    "start_time": "2022-04-27T18:08:25.870Z"
   },
   {
    "duration": 240,
    "start_time": "2022-04-27T18:08:40.632Z"
   },
   {
    "duration": 241,
    "start_time": "2022-04-27T18:09:21.181Z"
   },
   {
    "duration": 239,
    "start_time": "2022-04-27T18:09:30.120Z"
   },
   {
    "duration": 244,
    "start_time": "2022-04-27T18:09:34.408Z"
   },
   {
    "duration": 143,
    "start_time": "2022-04-27T18:10:26.663Z"
   },
   {
    "duration": 141,
    "start_time": "2022-04-27T18:10:32.483Z"
   },
   {
    "duration": 142,
    "start_time": "2022-04-27T18:10:42.699Z"
   },
   {
    "duration": 192,
    "start_time": "2022-04-27T18:10:53.026Z"
   },
   {
    "duration": 150,
    "start_time": "2022-04-27T18:10:55.532Z"
   },
   {
    "duration": 137,
    "start_time": "2022-04-27T18:11:08.878Z"
   },
   {
    "duration": 155,
    "start_time": "2022-04-27T18:11:15.232Z"
   },
   {
    "duration": 390,
    "start_time": "2022-04-27T18:26:57.295Z"
   },
   {
    "duration": 244,
    "start_time": "2022-04-27T18:27:12.765Z"
   },
   {
    "duration": 253,
    "start_time": "2022-04-27T18:27:22.838Z"
   },
   {
    "duration": 247,
    "start_time": "2022-04-27T18:27:28.412Z"
   },
   {
    "duration": 292,
    "start_time": "2022-04-27T18:32:16.817Z"
   },
   {
    "duration": 253,
    "start_time": "2022-04-27T18:32:36.784Z"
   },
   {
    "duration": 418,
    "start_time": "2022-04-27T18:32:41.552Z"
   },
   {
    "duration": 301,
    "start_time": "2022-04-27T18:32:48.996Z"
   },
   {
    "duration": 314,
    "start_time": "2022-04-27T18:33:02.359Z"
   },
   {
    "duration": 304,
    "start_time": "2022-04-27T18:33:16.151Z"
   },
   {
    "duration": 294,
    "start_time": "2022-04-27T18:33:23.593Z"
   },
   {
    "duration": 506,
    "start_time": "2022-04-27T18:33:30.530Z"
   },
   {
    "duration": 737,
    "start_time": "2022-04-27T18:33:44.241Z"
   },
   {
    "duration": 465,
    "start_time": "2022-04-27T18:34:28.584Z"
   },
   {
    "duration": 304,
    "start_time": "2022-04-27T18:34:34.397Z"
   },
   {
    "duration": 285,
    "start_time": "2022-04-27T18:34:58.619Z"
   },
   {
    "duration": 302,
    "start_time": "2022-04-27T18:35:16.125Z"
   },
   {
    "duration": 310,
    "start_time": "2022-04-27T18:35:44.183Z"
   },
   {
    "duration": 448,
    "start_time": "2022-04-27T18:35:46.574Z"
   },
   {
    "duration": 306,
    "start_time": "2022-04-27T18:36:00.483Z"
   },
   {
    "duration": 309,
    "start_time": "2022-04-27T18:36:40.066Z"
   },
   {
    "duration": 322,
    "start_time": "2022-04-27T18:42:08.420Z"
   },
   {
    "duration": 332,
    "start_time": "2022-04-27T18:42:52.366Z"
   },
   {
    "duration": 329,
    "start_time": "2022-04-27T18:43:23.192Z"
   },
   {
    "duration": 352,
    "start_time": "2022-04-27T18:43:38.880Z"
   },
   {
    "duration": 1216,
    "start_time": "2022-04-27T18:44:16.821Z"
   },
   {
    "duration": 41,
    "start_time": "2022-04-27T18:44:18.039Z"
   },
   {
    "duration": 17,
    "start_time": "2022-04-27T18:44:18.082Z"
   },
   {
    "duration": 28,
    "start_time": "2022-04-27T18:44:18.102Z"
   },
   {
    "duration": 40,
    "start_time": "2022-04-27T18:44:18.132Z"
   },
   {
    "duration": 3,
    "start_time": "2022-04-27T18:44:18.174Z"
   },
   {
    "duration": 19,
    "start_time": "2022-04-27T18:44:18.178Z"
   },
   {
    "duration": 25,
    "start_time": "2022-04-27T18:44:18.198Z"
   },
   {
    "duration": 16,
    "start_time": "2022-04-27T18:44:18.225Z"
   },
   {
    "duration": 38,
    "start_time": "2022-04-27T18:44:18.244Z"
   },
   {
    "duration": 28,
    "start_time": "2022-04-27T18:44:18.284Z"
   },
   {
    "duration": 11,
    "start_time": "2022-04-27T18:44:18.314Z"
   },
   {
    "duration": 25,
    "start_time": "2022-04-27T18:44:18.327Z"
   },
   {
    "duration": 27,
    "start_time": "2022-04-27T18:44:18.354Z"
   },
   {
    "duration": 27,
    "start_time": "2022-04-27T18:44:18.383Z"
   },
   {
    "duration": 30,
    "start_time": "2022-04-27T18:44:18.411Z"
   },
   {
    "duration": 27,
    "start_time": "2022-04-27T18:44:18.442Z"
   },
   {
    "duration": 20,
    "start_time": "2022-04-27T18:44:18.471Z"
   },
   {
    "duration": 24,
    "start_time": "2022-04-27T18:44:18.492Z"
   },
   {
    "duration": 25,
    "start_time": "2022-04-27T18:44:18.518Z"
   },
   {
    "duration": 23,
    "start_time": "2022-04-27T18:44:18.545Z"
   },
   {
    "duration": 342,
    "start_time": "2022-04-27T18:44:18.570Z"
   },
   {
    "duration": 5,
    "start_time": "2022-04-27T18:44:18.914Z"
   },
   {
    "duration": 19,
    "start_time": "2022-04-27T18:44:18.921Z"
   },
   {
    "duration": 8,
    "start_time": "2022-04-27T18:44:18.942Z"
   },
   {
    "duration": 30,
    "start_time": "2022-04-27T18:44:18.955Z"
   },
   {
    "duration": 596,
    "start_time": "2022-04-27T18:44:18.987Z"
   },
   {
    "duration": 23,
    "start_time": "2022-04-27T18:44:19.588Z"
   },
   {
    "duration": 5,
    "start_time": "2022-04-27T18:44:19.613Z"
   },
   {
    "duration": 793,
    "start_time": "2022-04-27T18:44:19.620Z"
   },
   {
    "duration": 94,
    "start_time": "2022-04-27T18:44:20.416Z"
   },
   {
    "duration": 5,
    "start_time": "2022-04-27T18:44:20.511Z"
   },
   {
    "duration": 22,
    "start_time": "2022-04-27T18:44:20.518Z"
   },
   {
    "duration": 18,
    "start_time": "2022-04-27T18:44:20.543Z"
   },
   {
    "duration": 541,
    "start_time": "2022-04-27T18:44:20.564Z"
   },
   {
    "duration": 297,
    "start_time": "2022-04-27T18:44:21.107Z"
   },
   {
    "duration": 5,
    "start_time": "2022-04-27T18:44:21.406Z"
   },
   {
    "duration": 637,
    "start_time": "2022-04-27T18:44:21.413Z"
   },
   {
    "duration": 6,
    "start_time": "2022-04-27T18:44:22.052Z"
   },
   {
    "duration": 20,
    "start_time": "2022-04-27T18:44:22.060Z"
   },
   {
    "duration": 51,
    "start_time": "2022-04-27T18:44:22.082Z"
   },
   {
    "duration": 185,
    "start_time": "2022-04-27T18:44:22.135Z"
   },
   {
    "duration": 290,
    "start_time": "2022-04-27T18:44:22.322Z"
   },
   {
    "duration": 43,
    "start_time": "2022-04-27T18:44:22.614Z"
   },
   {
    "duration": 3,
    "start_time": "2022-04-27T18:44:22.659Z"
   },
   {
    "duration": 300,
    "start_time": "2022-04-27T18:44:22.664Z"
   },
   {
    "duration": 238,
    "start_time": "2022-04-27T18:44:22.966Z"
   },
   {
    "duration": 167,
    "start_time": "2022-04-27T18:44:23.206Z"
   },
   {
    "duration": 4,
    "start_time": "2022-04-27T18:44:23.374Z"
   },
   {
    "duration": 17,
    "start_time": "2022-04-27T18:44:23.380Z"
   },
   {
    "duration": 28,
    "start_time": "2022-04-27T18:44:23.399Z"
   },
   {
    "duration": 33,
    "start_time": "2022-04-27T18:44:23.429Z"
   },
   {
    "duration": 28,
    "start_time": "2022-04-27T18:44:23.464Z"
   },
   {
    "duration": 30,
    "start_time": "2022-04-27T18:44:23.493Z"
   },
   {
    "duration": 36,
    "start_time": "2022-04-27T18:44:23.525Z"
   },
   {
    "duration": 23,
    "start_time": "2022-04-27T18:44:23.563Z"
   },
   {
    "duration": 146,
    "start_time": "2022-04-27T18:45:26.549Z"
   },
   {
    "duration": 146,
    "start_time": "2022-04-27T18:53:47.278Z"
   },
   {
    "duration": 194,
    "start_time": "2022-04-27T18:56:17.995Z"
   },
   {
    "duration": 5,
    "start_time": "2022-04-27T18:57:54.169Z"
   },
   {
    "duration": 4,
    "start_time": "2022-04-27T18:58:03.088Z"
   },
   {
    "duration": 61,
    "start_time": "2022-04-27T18:58:03.096Z"
   },
   {
    "duration": 21,
    "start_time": "2022-04-27T18:58:03.159Z"
   },
   {
    "duration": 22,
    "start_time": "2022-04-27T18:58:03.181Z"
   },
   {
    "duration": 28,
    "start_time": "2022-04-27T18:58:03.205Z"
   },
   {
    "duration": 3,
    "start_time": "2022-04-27T18:58:03.255Z"
   },
   {
    "duration": 14,
    "start_time": "2022-04-27T18:58:03.259Z"
   },
   {
    "duration": 13,
    "start_time": "2022-04-27T18:58:03.274Z"
   },
   {
    "duration": 12,
    "start_time": "2022-04-27T18:58:03.289Z"
   },
   {
    "duration": 28,
    "start_time": "2022-04-27T18:58:03.303Z"
   },
   {
    "duration": 10,
    "start_time": "2022-04-27T18:58:03.458Z"
   },
   {
    "duration": 12,
    "start_time": "2022-04-27T18:58:03.470Z"
   },
   {
    "duration": 7,
    "start_time": "2022-04-27T18:58:03.485Z"
   },
   {
    "duration": 10,
    "start_time": "2022-04-27T18:58:03.494Z"
   },
   {
    "duration": 6,
    "start_time": "2022-04-27T18:58:03.506Z"
   },
   {
    "duration": 20,
    "start_time": "2022-04-27T18:58:03.514Z"
   },
   {
    "duration": 21,
    "start_time": "2022-04-27T18:58:03.536Z"
   },
   {
    "duration": 19,
    "start_time": "2022-04-27T18:58:03.558Z"
   },
   {
    "duration": 20,
    "start_time": "2022-04-27T18:58:03.579Z"
   },
   {
    "duration": 22,
    "start_time": "2022-04-27T18:58:03.601Z"
   },
   {
    "duration": 7,
    "start_time": "2022-04-27T18:58:03.624Z"
   },
   {
    "duration": 224,
    "start_time": "2022-04-27T18:58:03.633Z"
   },
   {
    "duration": 7,
    "start_time": "2022-04-27T18:58:03.859Z"
   },
   {
    "duration": 21,
    "start_time": "2022-04-27T18:58:03.867Z"
   },
   {
    "duration": 18,
    "start_time": "2022-04-27T18:58:03.890Z"
   },
   {
    "duration": 18,
    "start_time": "2022-04-27T18:58:03.909Z"
   },
   {
    "duration": 382,
    "start_time": "2022-04-27T18:58:03.929Z"
   },
   {
    "duration": 16,
    "start_time": "2022-04-27T18:58:04.313Z"
   },
   {
    "duration": 23,
    "start_time": "2022-04-27T18:58:04.333Z"
   },
   {
    "duration": 544,
    "start_time": "2022-04-27T18:58:04.358Z"
   },
   {
    "duration": 110,
    "start_time": "2022-04-27T18:58:04.905Z"
   },
   {
    "duration": 7,
    "start_time": "2022-04-27T18:58:05.018Z"
   },
   {
    "duration": 29,
    "start_time": "2022-04-27T18:58:05.027Z"
   },
   {
    "duration": 9,
    "start_time": "2022-04-27T18:58:05.058Z"
   },
   {
    "duration": 373,
    "start_time": "2022-04-27T18:58:05.069Z"
   },
   {
    "duration": 297,
    "start_time": "2022-04-27T18:58:05.444Z"
   },
   {
    "duration": 12,
    "start_time": "2022-04-27T18:58:05.742Z"
   },
   {
    "duration": 784,
    "start_time": "2022-04-27T18:58:05.756Z"
   },
   {
    "duration": 20,
    "start_time": "2022-04-27T18:58:06.541Z"
   },
   {
    "duration": 10,
    "start_time": "2022-04-27T18:58:06.563Z"
   },
   {
    "duration": 39,
    "start_time": "2022-04-27T18:58:06.575Z"
   },
   {
    "duration": 209,
    "start_time": "2022-04-27T18:58:06.616Z"
   },
   {
    "duration": 347,
    "start_time": "2022-04-27T18:58:06.827Z"
   },
   {
    "duration": 37,
    "start_time": "2022-04-27T18:58:07.176Z"
   },
   {
    "duration": 3,
    "start_time": "2022-04-27T18:58:07.214Z"
   },
   {
    "duration": 245,
    "start_time": "2022-04-27T18:58:07.218Z"
   },
   {
    "duration": 347,
    "start_time": "2022-04-27T18:58:07.465Z"
   },
   {
    "duration": 281,
    "start_time": "2022-04-27T18:58:07.814Z"
   },
   {
    "duration": 4,
    "start_time": "2022-04-27T18:58:20.167Z"
   },
   {
    "duration": 5,
    "start_time": "2022-04-27T18:58:24.726Z"
   },
   {
    "duration": 6,
    "start_time": "2022-04-27T18:58:26.308Z"
   },
   {
    "duration": 5,
    "start_time": "2022-04-27T18:58:29.625Z"
   },
   {
    "duration": 4,
    "start_time": "2022-04-27T18:58:44.735Z"
   },
   {
    "duration": 7,
    "start_time": "2022-04-27T18:58:45.366Z"
   },
   {
    "duration": 5,
    "start_time": "2022-04-27T18:58:46.615Z"
   },
   {
    "duration": 5,
    "start_time": "2022-04-27T18:58:49.400Z"
   },
   {
    "duration": 144,
    "start_time": "2022-04-27T18:59:11.412Z"
   },
   {
    "duration": 1206,
    "start_time": "2022-04-27T19:21:05.882Z"
   },
   {
    "duration": 42,
    "start_time": "2022-04-27T19:21:07.090Z"
   },
   {
    "duration": 16,
    "start_time": "2022-04-27T19:21:07.134Z"
   },
   {
    "duration": 14,
    "start_time": "2022-04-27T19:21:07.153Z"
   },
   {
    "duration": 26,
    "start_time": "2022-04-27T19:21:07.168Z"
   },
   {
    "duration": 2,
    "start_time": "2022-04-27T19:21:07.196Z"
   },
   {
    "duration": 8,
    "start_time": "2022-04-27T19:21:07.200Z"
   },
   {
    "duration": 8,
    "start_time": "2022-04-27T19:21:07.209Z"
   },
   {
    "duration": 5,
    "start_time": "2022-04-27T19:21:07.218Z"
   },
   {
    "duration": 36,
    "start_time": "2022-04-27T19:21:07.226Z"
   },
   {
    "duration": 15,
    "start_time": "2022-04-27T19:21:07.265Z"
   },
   {
    "duration": 6,
    "start_time": "2022-04-27T19:21:07.282Z"
   },
   {
    "duration": 8,
    "start_time": "2022-04-27T19:21:07.290Z"
   },
   {
    "duration": 13,
    "start_time": "2022-04-27T19:21:07.299Z"
   },
   {
    "duration": 7,
    "start_time": "2022-04-27T19:21:07.314Z"
   },
   {
    "duration": 12,
    "start_time": "2022-04-27T19:21:07.323Z"
   },
   {
    "duration": 7,
    "start_time": "2022-04-27T19:21:07.356Z"
   },
   {
    "duration": 8,
    "start_time": "2022-04-27T19:21:07.365Z"
   },
   {
    "duration": 10,
    "start_time": "2022-04-27T19:21:07.375Z"
   },
   {
    "duration": 16,
    "start_time": "2022-04-27T19:21:07.386Z"
   },
   {
    "duration": 7,
    "start_time": "2022-04-27T19:21:07.404Z"
   },
   {
    "duration": 245,
    "start_time": "2022-04-27T19:21:07.413Z"
   },
   {
    "duration": 7,
    "start_time": "2022-04-27T19:21:07.659Z"
   },
   {
    "duration": 6,
    "start_time": "2022-04-27T19:21:07.668Z"
   },
   {
    "duration": 5,
    "start_time": "2022-04-27T19:21:07.676Z"
   },
   {
    "duration": 6,
    "start_time": "2022-04-27T19:21:07.683Z"
   },
   {
    "duration": 417,
    "start_time": "2022-04-27T19:21:07.690Z"
   },
   {
    "duration": 17,
    "start_time": "2022-04-27T19:21:08.113Z"
   },
   {
    "duration": 5,
    "start_time": "2022-04-27T19:21:08.132Z"
   },
   {
    "duration": 549,
    "start_time": "2022-04-27T19:21:08.139Z"
   },
   {
    "duration": 102,
    "start_time": "2022-04-27T19:21:08.690Z"
   },
   {
    "duration": 5,
    "start_time": "2022-04-27T19:21:08.794Z"
   },
   {
    "duration": 19,
    "start_time": "2022-04-27T19:21:08.801Z"
   },
   {
    "duration": 14,
    "start_time": "2022-04-27T19:21:08.821Z"
   },
   {
    "duration": 361,
    "start_time": "2022-04-27T19:21:08.837Z"
   },
   {
    "duration": 292,
    "start_time": "2022-04-27T19:21:09.199Z"
   },
   {
    "duration": 7,
    "start_time": "2022-04-27T19:21:09.493Z"
   },
   {
    "duration": 952,
    "start_time": "2022-04-27T19:21:09.502Z"
   },
   {
    "duration": 9,
    "start_time": "2022-04-27T19:21:10.456Z"
   },
   {
    "duration": 10,
    "start_time": "2022-04-27T19:21:10.467Z"
   },
   {
    "duration": 47,
    "start_time": "2022-04-27T19:21:10.480Z"
   },
   {
    "duration": 211,
    "start_time": "2022-04-27T19:21:10.529Z"
   },
   {
    "duration": 306,
    "start_time": "2022-04-27T19:21:10.742Z"
   },
   {
    "duration": 38,
    "start_time": "2022-04-27T19:21:11.050Z"
   },
   {
    "duration": 3,
    "start_time": "2022-04-27T19:21:11.090Z"
   },
   {
    "duration": 235,
    "start_time": "2022-04-27T19:21:11.095Z"
   },
   {
    "duration": 249,
    "start_time": "2022-04-27T19:21:11.332Z"
   },
   {
    "duration": 172,
    "start_time": "2022-04-27T19:21:11.584Z"
   },
   {
    "duration": 4,
    "start_time": "2022-04-27T19:21:11.759Z"
   },
   {
    "duration": 16,
    "start_time": "2022-04-27T19:21:11.764Z"
   },
   {
    "duration": 10,
    "start_time": "2022-04-27T19:21:11.781Z"
   },
   {
    "duration": 11,
    "start_time": "2022-04-27T19:21:11.792Z"
   },
   {
    "duration": 6,
    "start_time": "2022-04-27T19:21:11.805Z"
   },
   {
    "duration": 8,
    "start_time": "2022-04-27T19:21:11.813Z"
   },
   {
    "duration": 6,
    "start_time": "2022-04-27T19:21:11.822Z"
   },
   {
    "duration": 6,
    "start_time": "2022-04-27T19:21:11.830Z"
   },
   {
    "duration": 261,
    "start_time": "2022-04-27T20:13:39.620Z"
   },
   {
    "duration": 1304,
    "start_time": "2022-04-27T20:14:00.284Z"
   },
   {
    "duration": 42,
    "start_time": "2022-04-27T20:14:01.591Z"
   },
   {
    "duration": 63,
    "start_time": "2022-04-27T20:14:01.635Z"
   },
   {
    "duration": 34,
    "start_time": "2022-04-27T20:14:01.702Z"
   },
   {
    "duration": 68,
    "start_time": "2022-04-27T20:14:01.738Z"
   },
   {
    "duration": 17,
    "start_time": "2022-04-27T20:14:01.808Z"
   },
   {
    "duration": 82,
    "start_time": "2022-04-27T20:14:01.828Z"
   },
   {
    "duration": 30,
    "start_time": "2022-04-27T20:14:01.912Z"
   },
   {
    "duration": 8,
    "start_time": "2022-04-27T20:14:01.943Z"
   },
   {
    "duration": 86,
    "start_time": "2022-04-27T20:14:01.953Z"
   },
   {
    "duration": 43,
    "start_time": "2022-04-27T20:14:02.041Z"
   },
   {
    "duration": 15,
    "start_time": "2022-04-27T20:14:02.086Z"
   },
   {
    "duration": 13,
    "start_time": "2022-04-27T20:14:02.103Z"
   },
   {
    "duration": 11,
    "start_time": "2022-04-27T20:14:02.118Z"
   },
   {
    "duration": 15,
    "start_time": "2022-04-27T20:14:02.132Z"
   },
   {
    "duration": 14,
    "start_time": "2022-04-27T20:14:02.149Z"
   },
   {
    "duration": 23,
    "start_time": "2022-04-27T20:14:02.165Z"
   },
   {
    "duration": 18,
    "start_time": "2022-04-27T20:14:02.189Z"
   },
   {
    "duration": 26,
    "start_time": "2022-04-27T20:14:02.209Z"
   },
   {
    "duration": 71,
    "start_time": "2022-04-27T20:14:02.238Z"
   },
   {
    "duration": 38,
    "start_time": "2022-04-27T20:14:02.311Z"
   },
   {
    "duration": 265,
    "start_time": "2022-04-27T20:14:02.351Z"
   },
   {
    "duration": 6,
    "start_time": "2022-04-27T20:14:02.618Z"
   },
   {
    "duration": 22,
    "start_time": "2022-04-27T20:14:02.626Z"
   },
   {
    "duration": 28,
    "start_time": "2022-04-27T20:14:02.649Z"
   },
   {
    "duration": 16,
    "start_time": "2022-04-27T20:14:02.679Z"
   },
   {
    "duration": 442,
    "start_time": "2022-04-27T20:14:02.697Z"
   },
   {
    "duration": 18,
    "start_time": "2022-04-27T20:14:03.145Z"
   },
   {
    "duration": 14,
    "start_time": "2022-04-27T20:14:03.165Z"
   },
   {
    "duration": 590,
    "start_time": "2022-04-27T20:14:03.180Z"
   },
   {
    "duration": 144,
    "start_time": "2022-04-27T20:14:03.772Z"
   },
   {
    "duration": 8,
    "start_time": "2022-04-27T20:14:03.919Z"
   },
   {
    "duration": 41,
    "start_time": "2022-04-27T20:14:03.929Z"
   },
   {
    "duration": 13,
    "start_time": "2022-04-27T20:14:03.972Z"
   },
   {
    "duration": 598,
    "start_time": "2022-04-27T20:14:03.987Z"
   },
   {
    "duration": 490,
    "start_time": "2022-04-27T20:14:04.587Z"
   },
   {
    "duration": 7,
    "start_time": "2022-04-27T20:14:05.079Z"
   },
   {
    "duration": 651,
    "start_time": "2022-04-27T20:14:05.087Z"
   },
   {
    "duration": 6,
    "start_time": "2022-04-27T20:14:05.740Z"
   },
   {
    "duration": 6,
    "start_time": "2022-04-27T20:14:05.755Z"
   },
   {
    "duration": 40,
    "start_time": "2022-04-27T20:14:05.763Z"
   },
   {
    "duration": 232,
    "start_time": "2022-04-27T20:14:05.806Z"
   },
   {
    "duration": 346,
    "start_time": "2022-04-27T20:14:06.040Z"
   },
   {
    "duration": 38,
    "start_time": "2022-04-27T20:14:06.388Z"
   },
   {
    "duration": 3,
    "start_time": "2022-04-27T20:14:06.428Z"
   },
   {
    "duration": 393,
    "start_time": "2022-04-27T20:14:06.433Z"
   },
   {
    "duration": 319,
    "start_time": "2022-04-27T20:14:06.828Z"
   },
   {
    "duration": 263,
    "start_time": "2022-04-27T20:14:07.157Z"
   },
   {
    "duration": 5,
    "start_time": "2022-04-27T20:14:07.423Z"
   },
   {
    "duration": 12,
    "start_time": "2022-04-27T20:14:07.430Z"
   },
   {
    "duration": 18,
    "start_time": "2022-04-27T20:14:07.445Z"
   },
   {
    "duration": 17,
    "start_time": "2022-04-27T20:14:07.467Z"
   },
   {
    "duration": 10,
    "start_time": "2022-04-27T20:14:07.487Z"
   },
   {
    "duration": 9,
    "start_time": "2022-04-27T20:14:07.500Z"
   },
   {
    "duration": 8,
    "start_time": "2022-04-27T20:14:07.511Z"
   },
   {
    "duration": 8,
    "start_time": "2022-04-27T20:14:07.521Z"
   },
   {
    "duration": 4,
    "start_time": "2022-04-27T20:18:55.331Z"
   },
   {
    "duration": 415,
    "start_time": "2022-04-27T20:21:26.270Z"
   },
   {
    "duration": 11,
    "start_time": "2022-04-27T20:21:45.854Z"
   },
   {
    "duration": 281,
    "start_time": "2022-04-27T20:22:08.459Z"
   },
   {
    "duration": 270,
    "start_time": "2022-04-27T20:22:15.196Z"
   },
   {
    "duration": 281,
    "start_time": "2022-04-27T20:22:20.317Z"
   },
   {
    "duration": 278,
    "start_time": "2022-04-27T20:22:29.597Z"
   },
   {
    "duration": 393,
    "start_time": "2022-04-27T20:29:03.570Z"
   },
   {
    "duration": 138,
    "start_time": "2022-04-27T20:29:07.044Z"
   },
   {
    "duration": 48,
    "start_time": "2022-04-27T20:30:35.535Z"
   },
   {
    "duration": 7,
    "start_time": "2022-04-27T20:30:49.810Z"
   },
   {
    "duration": 10,
    "start_time": "2022-04-27T20:30:59.016Z"
   },
   {
    "duration": 7,
    "start_time": "2022-04-27T20:33:44.283Z"
   },
   {
    "duration": 46,
    "start_time": "2022-04-28T20:49:38.686Z"
   },
   {
    "duration": 1358,
    "start_time": "2022-04-28T20:49:43.939Z"
   },
   {
    "duration": 42,
    "start_time": "2022-04-28T20:49:45.299Z"
   },
   {
    "duration": 17,
    "start_time": "2022-04-28T20:49:45.342Z"
   },
   {
    "duration": 19,
    "start_time": "2022-04-28T20:49:45.361Z"
   },
   {
    "duration": 28,
    "start_time": "2022-04-28T20:49:45.382Z"
   },
   {
    "duration": 2,
    "start_time": "2022-04-28T20:49:45.411Z"
   },
   {
    "duration": 5,
    "start_time": "2022-04-28T20:49:45.415Z"
   },
   {
    "duration": 6,
    "start_time": "2022-04-28T20:49:45.422Z"
   },
   {
    "duration": 4,
    "start_time": "2022-04-28T20:49:45.429Z"
   },
   {
    "duration": 11,
    "start_time": "2022-04-28T20:49:45.437Z"
   },
   {
    "duration": 13,
    "start_time": "2022-04-28T20:49:45.473Z"
   },
   {
    "duration": 6,
    "start_time": "2022-04-28T20:49:45.488Z"
   },
   {
    "duration": 7,
    "start_time": "2022-04-28T20:49:45.495Z"
   },
   {
    "duration": 6,
    "start_time": "2022-04-28T20:49:45.503Z"
   },
   {
    "duration": 7,
    "start_time": "2022-04-28T20:49:45.511Z"
   },
   {
    "duration": 4,
    "start_time": "2022-04-28T20:49:45.520Z"
   },
   {
    "duration": 6,
    "start_time": "2022-04-28T20:49:45.526Z"
   },
   {
    "duration": 8,
    "start_time": "2022-04-28T20:49:45.533Z"
   },
   {
    "duration": 37,
    "start_time": "2022-04-28T20:49:45.542Z"
   },
   {
    "duration": 13,
    "start_time": "2022-04-28T20:49:45.581Z"
   },
   {
    "duration": 6,
    "start_time": "2022-04-28T20:49:45.596Z"
   },
   {
    "duration": 240,
    "start_time": "2022-04-28T20:49:45.603Z"
   },
   {
    "duration": 6,
    "start_time": "2022-04-28T20:49:45.845Z"
   },
   {
    "duration": 7,
    "start_time": "2022-04-28T20:49:45.852Z"
   },
   {
    "duration": 17,
    "start_time": "2022-04-28T20:49:45.860Z"
   },
   {
    "duration": 12,
    "start_time": "2022-04-28T20:49:45.878Z"
   },
   {
    "duration": 405,
    "start_time": "2022-04-28T20:49:45.892Z"
   },
   {
    "duration": 15,
    "start_time": "2022-04-28T20:49:46.302Z"
   },
   {
    "duration": 7,
    "start_time": "2022-04-28T20:49:46.319Z"
   },
   {
    "duration": 538,
    "start_time": "2022-04-28T20:49:46.327Z"
   },
   {
    "duration": 85,
    "start_time": "2022-04-28T20:49:46.866Z"
   },
   {
    "duration": 6,
    "start_time": "2022-04-28T20:49:46.952Z"
   },
   {
    "duration": 14,
    "start_time": "2022-04-28T20:49:46.973Z"
   },
   {
    "duration": 14,
    "start_time": "2022-04-28T20:49:46.989Z"
   },
   {
    "duration": 369,
    "start_time": "2022-04-28T20:49:47.005Z"
   },
   {
    "duration": 301,
    "start_time": "2022-04-28T20:49:47.375Z"
   },
   {
    "duration": 38,
    "start_time": "2022-04-28T20:49:47.678Z"
   },
   {
    "duration": 6,
    "start_time": "2022-04-28T20:49:47.717Z"
   },
   {
    "duration": 611,
    "start_time": "2022-04-28T20:49:47.724Z"
   },
   {
    "duration": 6,
    "start_time": "2022-04-28T20:49:48.337Z"
   },
   {
    "duration": 6,
    "start_time": "2022-04-28T20:49:48.344Z"
   },
   {
    "duration": 42,
    "start_time": "2022-04-28T20:49:48.351Z"
   },
   {
    "duration": 192,
    "start_time": "2022-04-28T20:49:48.394Z"
   },
   {
    "duration": 308,
    "start_time": "2022-04-28T20:49:48.587Z"
   },
   {
    "duration": 36,
    "start_time": "2022-04-28T20:49:48.897Z"
   },
   {
    "duration": 3,
    "start_time": "2022-04-28T20:49:48.934Z"
   },
   {
    "duration": 247,
    "start_time": "2022-04-28T20:49:48.938Z"
   },
   {
    "duration": 242,
    "start_time": "2022-04-28T20:49:49.187Z"
   },
   {
    "duration": 178,
    "start_time": "2022-04-28T20:49:49.431Z"
   },
   {
    "duration": 4,
    "start_time": "2022-04-28T20:49:49.610Z"
   },
   {
    "duration": 9,
    "start_time": "2022-04-28T20:49:49.615Z"
   },
   {
    "duration": 7,
    "start_time": "2022-04-28T20:49:49.626Z"
   },
   {
    "duration": 6,
    "start_time": "2022-04-28T20:49:49.634Z"
   },
   {
    "duration": 6,
    "start_time": "2022-04-28T20:49:49.641Z"
   },
   {
    "duration": 29,
    "start_time": "2022-04-28T20:49:49.648Z"
   },
   {
    "duration": 5,
    "start_time": "2022-04-28T20:49:49.679Z"
   },
   {
    "duration": 7,
    "start_time": "2022-04-28T20:49:49.686Z"
   },
   {
    "duration": 39,
    "start_time": "2022-04-28T20:51:24.105Z"
   },
   {
    "duration": 1180,
    "start_time": "2022-04-29T07:29:37.903Z"
   },
   {
    "duration": 37,
    "start_time": "2022-04-29T07:29:39.085Z"
   },
   {
    "duration": 17,
    "start_time": "2022-04-29T07:29:39.124Z"
   },
   {
    "duration": 14,
    "start_time": "2022-04-29T07:29:39.143Z"
   },
   {
    "duration": 36,
    "start_time": "2022-04-29T07:29:39.158Z"
   },
   {
    "duration": 2,
    "start_time": "2022-04-29T07:29:39.196Z"
   },
   {
    "duration": 7,
    "start_time": "2022-04-29T07:29:39.200Z"
   },
   {
    "duration": 6,
    "start_time": "2022-04-29T07:29:39.209Z"
   },
   {
    "duration": 4,
    "start_time": "2022-04-29T07:29:39.217Z"
   },
   {
    "duration": 14,
    "start_time": "2022-04-29T07:29:39.224Z"
   },
   {
    "duration": 38,
    "start_time": "2022-04-29T07:29:39.240Z"
   },
   {
    "duration": 8,
    "start_time": "2022-04-29T07:29:39.280Z"
   },
   {
    "duration": 6,
    "start_time": "2022-04-29T07:29:39.290Z"
   },
   {
    "duration": 6,
    "start_time": "2022-04-29T07:29:39.298Z"
   },
   {
    "duration": 9,
    "start_time": "2022-04-29T07:29:39.306Z"
   },
   {
    "duration": 11,
    "start_time": "2022-04-29T07:29:39.317Z"
   },
   {
    "duration": 6,
    "start_time": "2022-04-29T07:29:39.330Z"
   },
   {
    "duration": 7,
    "start_time": "2022-04-29T07:29:39.338Z"
   },
   {
    "duration": 33,
    "start_time": "2022-04-29T07:29:39.346Z"
   },
   {
    "duration": 14,
    "start_time": "2022-04-29T07:29:39.381Z"
   },
   {
    "duration": 11,
    "start_time": "2022-04-29T07:29:39.397Z"
   },
   {
    "duration": 250,
    "start_time": "2022-04-29T07:29:39.410Z"
   },
   {
    "duration": 11,
    "start_time": "2022-04-29T07:29:39.662Z"
   },
   {
    "duration": 6,
    "start_time": "2022-04-29T07:29:39.675Z"
   },
   {
    "duration": 5,
    "start_time": "2022-04-29T07:29:39.683Z"
   },
   {
    "duration": 15,
    "start_time": "2022-04-29T07:29:39.690Z"
   },
   {
    "duration": 409,
    "start_time": "2022-04-29T07:29:39.707Z"
   },
   {
    "duration": 17,
    "start_time": "2022-04-29T07:29:40.120Z"
   },
   {
    "duration": 5,
    "start_time": "2022-04-29T07:29:40.139Z"
   },
   {
    "duration": 576,
    "start_time": "2022-04-29T07:29:40.146Z"
   },
   {
    "duration": 92,
    "start_time": "2022-04-29T07:29:40.723Z"
   },
   {
    "duration": 6,
    "start_time": "2022-04-29T07:29:40.816Z"
   },
   {
    "duration": 18,
    "start_time": "2022-04-29T07:29:40.823Z"
   },
   {
    "duration": 11,
    "start_time": "2022-04-29T07:29:40.843Z"
   },
   {
    "duration": 399,
    "start_time": "2022-04-29T07:29:40.856Z"
   },
   {
    "duration": 299,
    "start_time": "2022-04-29T07:29:41.256Z"
   },
   {
    "duration": 42,
    "start_time": "2022-04-29T07:29:41.557Z"
   },
   {
    "duration": 6,
    "start_time": "2022-04-29T07:29:41.601Z"
   },
   {
    "duration": 647,
    "start_time": "2022-04-29T07:29:41.609Z"
   },
   {
    "duration": 15,
    "start_time": "2022-04-29T07:29:42.258Z"
   },
   {
    "duration": 3,
    "start_time": "2022-04-29T07:29:42.275Z"
   },
   {
    "duration": 29,
    "start_time": "2022-04-29T07:29:42.280Z"
   },
   {
    "duration": 218,
    "start_time": "2022-04-29T07:29:42.310Z"
   },
   {
    "duration": 310,
    "start_time": "2022-04-29T07:29:42.529Z"
   },
   {
    "duration": 41,
    "start_time": "2022-04-29T07:29:42.841Z"
   },
   {
    "duration": 3,
    "start_time": "2022-04-29T07:29:42.884Z"
   },
   {
    "duration": 242,
    "start_time": "2022-04-29T07:29:42.888Z"
   },
   {
    "duration": 250,
    "start_time": "2022-04-29T07:29:43.131Z"
   },
   {
    "duration": 171,
    "start_time": "2022-04-29T07:29:43.383Z"
   },
   {
    "duration": 4,
    "start_time": "2022-04-29T07:29:43.555Z"
   },
   {
    "duration": 18,
    "start_time": "2022-04-29T07:29:43.561Z"
   },
   {
    "duration": 10,
    "start_time": "2022-04-29T07:29:43.581Z"
   },
   {
    "duration": 6,
    "start_time": "2022-04-29T07:29:43.593Z"
   },
   {
    "duration": 9,
    "start_time": "2022-04-29T07:29:43.601Z"
   },
   {
    "duration": 6,
    "start_time": "2022-04-29T07:29:43.612Z"
   },
   {
    "duration": 6,
    "start_time": "2022-04-29T07:29:43.620Z"
   },
   {
    "duration": 7,
    "start_time": "2022-04-29T07:29:43.628Z"
   }
  ],
  "kernelspec": {
   "display_name": "Python 3",
   "language": "python",
   "name": "python3"
  },
  "language_info": {
   "codemirror_mode": {
    "name": "ipython",
    "version": 3
   },
   "file_extension": ".py",
   "mimetype": "text/x-python",
   "name": "python",
   "nbconvert_exporter": "python",
   "pygments_lexer": "ipython3",
   "version": "3.8.5"
  },
  "toc": {
   "base_numbering": 1,
   "nav_menu": {},
   "number_sections": true,
   "sideBar": true,
   "skip_h1_title": true,
   "title_cell": "Table of Contents",
   "title_sidebar": "Contents",
   "toc_cell": false,
   "toc_position": {
    "height": "calc(100% - 180px)",
    "left": "10px",
    "top": "150px",
    "width": "358.391px"
   },
   "toc_section_display": true,
   "toc_window_display": false
  }
 },
 "nbformat": 4,
 "nbformat_minor": 2
}
