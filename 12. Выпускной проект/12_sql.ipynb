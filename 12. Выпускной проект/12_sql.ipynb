{
 "cells": [
  {
   "cell_type": "markdown",
   "metadata": {},
   "source": [
    "# Проект на SQL"
   ]
  },
  {
   "cell_type": "markdown",
   "metadata": {},
   "source": [
    "Коронавирус застал мир врасплох, изменив привычный порядок вещей. В свободное время жители городов больше не выходят на улицу, не посещают кафе и торговые центры. Зато стало больше времени для книг. Это заметили стартаперы — и бросились создавать приложения для тех, кто любит читать.\n",
    "\n",
    "Ваша компания решила быть на волне и купила крупный сервис для чтения книг по подписке. Ваша первая задача как аналитика — проанализировать базу данных.\n",
    "В ней — информация о книгах, издательствах, авторах, а также пользовательские обзоры книг. Эти данные помогут сформулировать ценностное предложение для нового продукта."
   ]
  },
  {
   "cell_type": "markdown",
   "metadata": {},
   "source": [
    "### Описание данных\n",
    "\n",
    "**Таблица `books`**\n",
    "\n",
    "Содержит данные о книгах:\n",
    "\n",
    "- `book_id` — идентификатор книги;\n",
    "- `author_id` — идентификатор автора;\n",
    "- `title` — название книги;\n",
    "- `num_pages` — количество страниц;\n",
    "- `publication_date` — дата публикации книги;\n",
    "- `publisher_id` — идентификатор издателя.\n",
    "\n",
    "**Таблица `authors`**\n",
    "\n",
    "Содержит данные об авторах:\n",
    "\n",
    "- `author_id` — идентификатор автора;\n",
    "- `author` — имя автора.\n",
    "\n",
    "**Таблица `publishers`**\n",
    "\n",
    "Содержит данные об издательствах:\n",
    "\n",
    "- `publisher_id` — идентификатор издательства;\n",
    "- `publisher` — название издательства;\n",
    "\n",
    "**Таблица `ratings`**\n",
    "\n",
    "Содержит данные о пользовательских оценках книг:\n",
    "\n",
    "- `rating_id` — идентификатор оценки;\n",
    "- `book_id` — идентификатор книги;\n",
    "- `username` — имя пользователя, оставившего оценку;\n",
    "- `rating` — оценка книги.\n",
    "\n",
    "**Таблица `reviews`**\n",
    "\n",
    "Содержит данные о пользовательских обзорах на книги:\n",
    "\n",
    "- `review_id` — идентификатор обзора;\n",
    "- `book_id` — идентификатор книги;\n",
    "- `username` — имя пользователя, написавшего обзор;\n",
    "- `text` — текст обзора."
   ]
  },
  {
   "cell_type": "markdown",
   "metadata": {},
   "source": [
    "###  Цели исследования  \n",
    "    Проанализировать базу данных для сформулирования предложений для нового продукта."
   ]
  },
  {
   "cell_type": "markdown",
   "metadata": {},
   "source": [
    "### Задания\n",
    "\n",
    "- Посчитайте, сколько книг вышло после 1 января 2000 года;\n",
    "- Для каждой книги посчитайте количество обзоров и среднюю оценку;\n",
    "- Определите издательство, которое выпустило наибольшее число книг толще 50 страниц — так вы исключите из анализа брошюры;\n",
    "- Определите автора с самой высокой средней оценкой книг — учитывайте только книги с 50 и более оценками;\n",
    "- Посчитайте среднее количество обзоров от пользователей, которые поставили больше 50 оценок."
   ]
  },
  {
   "cell_type": "markdown",
   "metadata": {},
   "source": [
    "Загрузим требуемые библиотеки для работы и создадим подключение к базе данных"
   ]
  },
  {
   "cell_type": "code",
   "execution_count": 1,
   "metadata": {},
   "outputs": [],
   "source": [
    "import pandas as pd\n",
    "from sqlalchemy import create_engine "
   ]
  },
  {
   "cell_type": "code",
   "execution_count": 2,
   "metadata": {},
   "outputs": [],
   "source": [
    "# устанавливаем параметры\n",
    "db_config = {'user': 'praktikum_student', # имя пользователя\n",
    "'pwd': 'Sdf4$2;d-d30pp', # пароль\n",
    "'host': 'rc1b-wcoijxj3yxfsf3fs.mdb.yandexcloud.net',\n",
    "'port': 6432, # порт подключения\n",
    "'db': 'data-analyst-final-project-db'} # название базы данных\n",
    "connection_string = 'postgresql://{}:{}@{}:{}/{}'.format(db_config['user'],\n",
    " db_config['pwd'],\n",
    " db_config['host'],\n",
    " db_config['port'],\n",
    " db_config['db'])\n",
    "# сохраняем коннектор\n",
    "engine = create_engine(connection_string, connect_args={'sslmode':'require'}) "
   ]
  },
  {
   "cell_type": "markdown",
   "metadata": {},
   "source": [
    "### Выведем первые строки каждой таблицы базы данных"
   ]
  },
  {
   "cell_type": "markdown",
   "metadata": {},
   "source": [
    "Таблица books Содержит данные о книгах:"
   ]
  },
  {
   "cell_type": "code",
   "execution_count": 3,
   "metadata": {},
   "outputs": [],
   "source": [
    "query = ''' SELECT *\n",
    "            FROM books\n",
    "        '''"
   ]
  },
  {
   "cell_type": "code",
   "execution_count": 4,
   "metadata": {},
   "outputs": [
    {
     "data": {
      "text/html": [
       "<div>\n",
       "<style scoped>\n",
       "    .dataframe tbody tr th:only-of-type {\n",
       "        vertical-align: middle;\n",
       "    }\n",
       "\n",
       "    .dataframe tbody tr th {\n",
       "        vertical-align: top;\n",
       "    }\n",
       "\n",
       "    .dataframe thead th {\n",
       "        text-align: right;\n",
       "    }\n",
       "</style>\n",
       "<table border=\"1\" class=\"dataframe\">\n",
       "  <thead>\n",
       "    <tr style=\"text-align: right;\">\n",
       "      <th></th>\n",
       "      <th>book_id</th>\n",
       "      <th>author_id</th>\n",
       "      <th>title</th>\n",
       "      <th>num_pages</th>\n",
       "      <th>publication_date</th>\n",
       "      <th>publisher_id</th>\n",
       "    </tr>\n",
       "  </thead>\n",
       "  <tbody>\n",
       "    <tr>\n",
       "      <th>0</th>\n",
       "      <td>1</td>\n",
       "      <td>546</td>\n",
       "      <td>'Salem's Lot</td>\n",
       "      <td>594</td>\n",
       "      <td>2005-11-01</td>\n",
       "      <td>93</td>\n",
       "    </tr>\n",
       "    <tr>\n",
       "      <th>1</th>\n",
       "      <td>2</td>\n",
       "      <td>465</td>\n",
       "      <td>1 000 Places to See Before You Die</td>\n",
       "      <td>992</td>\n",
       "      <td>2003-05-22</td>\n",
       "      <td>336</td>\n",
       "    </tr>\n",
       "    <tr>\n",
       "      <th>2</th>\n",
       "      <td>3</td>\n",
       "      <td>407</td>\n",
       "      <td>13 Little Blue Envelopes (Little Blue Envelope...</td>\n",
       "      <td>322</td>\n",
       "      <td>2010-12-21</td>\n",
       "      <td>135</td>\n",
       "    </tr>\n",
       "    <tr>\n",
       "      <th>3</th>\n",
       "      <td>4</td>\n",
       "      <td>82</td>\n",
       "      <td>1491: New Revelations of the Americas Before C...</td>\n",
       "      <td>541</td>\n",
       "      <td>2006-10-10</td>\n",
       "      <td>309</td>\n",
       "    </tr>\n",
       "    <tr>\n",
       "      <th>4</th>\n",
       "      <td>5</td>\n",
       "      <td>125</td>\n",
       "      <td>1776</td>\n",
       "      <td>386</td>\n",
       "      <td>2006-07-04</td>\n",
       "      <td>268</td>\n",
       "    </tr>\n",
       "  </tbody>\n",
       "</table>\n",
       "</div>"
      ],
      "text/plain": [
       "   book_id  author_id                                              title  \\\n",
       "0        1        546                                       'Salem's Lot   \n",
       "1        2        465                 1 000 Places to See Before You Die   \n",
       "2        3        407  13 Little Blue Envelopes (Little Blue Envelope...   \n",
       "3        4         82  1491: New Revelations of the Americas Before C...   \n",
       "4        5        125                                               1776   \n",
       "\n",
       "   num_pages publication_date  publisher_id  \n",
       "0        594       2005-11-01            93  \n",
       "1        992       2003-05-22           336  \n",
       "2        322       2010-12-21           135  \n",
       "3        541       2006-10-10           309  \n",
       "4        386       2006-07-04           268  "
      ]
     },
     "execution_count": 4,
     "metadata": {},
     "output_type": "execute_result"
    }
   ],
   "source": [
    "pd.io.sql.read_sql(query, con = engine).head()"
   ]
  },
  {
   "cell_type": "code",
   "execution_count": 5,
   "metadata": {},
   "outputs": [
    {
     "name": "stdout",
     "output_type": "stream",
     "text": [
      "<class 'pandas.core.frame.DataFrame'>\n",
      "RangeIndex: 1000 entries, 0 to 999\n",
      "Data columns (total 6 columns):\n",
      " #   Column            Non-Null Count  Dtype \n",
      "---  ------            --------------  ----- \n",
      " 0   book_id           1000 non-null   int64 \n",
      " 1   author_id         1000 non-null   int64 \n",
      " 2   title             1000 non-null   object\n",
      " 3   num_pages         1000 non-null   int64 \n",
      " 4   publication_date  1000 non-null   object\n",
      " 5   publisher_id      1000 non-null   int64 \n",
      "dtypes: int64(4), object(2)\n",
      "memory usage: 47.0+ KB\n"
     ]
    }
   ],
   "source": [
    "pd.io.sql.read_sql(query, con = engine).info() "
   ]
  },
  {
   "cell_type": "code",
   "execution_count": null,
   "metadata": {},
   "outputs": [],
   "source": []
  },
  {
   "cell_type": "markdown",
   "metadata": {},
   "source": [
    "Таблица authors содержит данные об авторах:"
   ]
  },
  {
   "cell_type": "code",
   "execution_count": 6,
   "metadata": {},
   "outputs": [],
   "source": [
    "query = ''' SELECT *\n",
    "            FROM authors\n",
    "        '''"
   ]
  },
  {
   "cell_type": "code",
   "execution_count": 7,
   "metadata": {},
   "outputs": [
    {
     "data": {
      "text/html": [
       "<div>\n",
       "<style scoped>\n",
       "    .dataframe tbody tr th:only-of-type {\n",
       "        vertical-align: middle;\n",
       "    }\n",
       "\n",
       "    .dataframe tbody tr th {\n",
       "        vertical-align: top;\n",
       "    }\n",
       "\n",
       "    .dataframe thead th {\n",
       "        text-align: right;\n",
       "    }\n",
       "</style>\n",
       "<table border=\"1\" class=\"dataframe\">\n",
       "  <thead>\n",
       "    <tr style=\"text-align: right;\">\n",
       "      <th></th>\n",
       "      <th>author_id</th>\n",
       "      <th>author</th>\n",
       "    </tr>\n",
       "  </thead>\n",
       "  <tbody>\n",
       "    <tr>\n",
       "      <th>0</th>\n",
       "      <td>1</td>\n",
       "      <td>A.S. Byatt</td>\n",
       "    </tr>\n",
       "    <tr>\n",
       "      <th>1</th>\n",
       "      <td>2</td>\n",
       "      <td>Aesop/Laura Harris/Laura Gibbs</td>\n",
       "    </tr>\n",
       "    <tr>\n",
       "      <th>2</th>\n",
       "      <td>3</td>\n",
       "      <td>Agatha Christie</td>\n",
       "    </tr>\n",
       "    <tr>\n",
       "      <th>3</th>\n",
       "      <td>4</td>\n",
       "      <td>Alan Brennert</td>\n",
       "    </tr>\n",
       "    <tr>\n",
       "      <th>4</th>\n",
       "      <td>5</td>\n",
       "      <td>Alan Moore/David   Lloyd</td>\n",
       "    </tr>\n",
       "  </tbody>\n",
       "</table>\n",
       "</div>"
      ],
      "text/plain": [
       "   author_id                          author\n",
       "0          1                      A.S. Byatt\n",
       "1          2  Aesop/Laura Harris/Laura Gibbs\n",
       "2          3                 Agatha Christie\n",
       "3          4                   Alan Brennert\n",
       "4          5        Alan Moore/David   Lloyd"
      ]
     },
     "execution_count": 7,
     "metadata": {},
     "output_type": "execute_result"
    }
   ],
   "source": [
    "pd.io.sql.read_sql(query, con = engine).head() "
   ]
  },
  {
   "cell_type": "code",
   "execution_count": 8,
   "metadata": {},
   "outputs": [
    {
     "name": "stdout",
     "output_type": "stream",
     "text": [
      "<class 'pandas.core.frame.DataFrame'>\n",
      "RangeIndex: 636 entries, 0 to 635\n",
      "Data columns (total 2 columns):\n",
      " #   Column     Non-Null Count  Dtype \n",
      "---  ------     --------------  ----- \n",
      " 0   author_id  636 non-null    int64 \n",
      " 1   author     636 non-null    object\n",
      "dtypes: int64(1), object(1)\n",
      "memory usage: 10.1+ KB\n"
     ]
    }
   ],
   "source": [
    "pd.io.sql.read_sql(query, con = engine).info()"
   ]
  },
  {
   "cell_type": "markdown",
   "metadata": {},
   "source": [
    "Таблица publishers содержит данные об издательствах:"
   ]
  },
  {
   "cell_type": "code",
   "execution_count": 9,
   "metadata": {},
   "outputs": [],
   "source": [
    "query= ''' SELECT *\n",
    "            FROM publishers\n",
    "        '''"
   ]
  },
  {
   "cell_type": "code",
   "execution_count": 10,
   "metadata": {},
   "outputs": [
    {
     "data": {
      "text/html": [
       "<div>\n",
       "<style scoped>\n",
       "    .dataframe tbody tr th:only-of-type {\n",
       "        vertical-align: middle;\n",
       "    }\n",
       "\n",
       "    .dataframe tbody tr th {\n",
       "        vertical-align: top;\n",
       "    }\n",
       "\n",
       "    .dataframe thead th {\n",
       "        text-align: right;\n",
       "    }\n",
       "</style>\n",
       "<table border=\"1\" class=\"dataframe\">\n",
       "  <thead>\n",
       "    <tr style=\"text-align: right;\">\n",
       "      <th></th>\n",
       "      <th>publisher_id</th>\n",
       "      <th>publisher</th>\n",
       "    </tr>\n",
       "  </thead>\n",
       "  <tbody>\n",
       "    <tr>\n",
       "      <th>0</th>\n",
       "      <td>1</td>\n",
       "      <td>Ace</td>\n",
       "    </tr>\n",
       "    <tr>\n",
       "      <th>1</th>\n",
       "      <td>2</td>\n",
       "      <td>Ace Book</td>\n",
       "    </tr>\n",
       "    <tr>\n",
       "      <th>2</th>\n",
       "      <td>3</td>\n",
       "      <td>Ace Books</td>\n",
       "    </tr>\n",
       "    <tr>\n",
       "      <th>3</th>\n",
       "      <td>4</td>\n",
       "      <td>Ace Hardcover</td>\n",
       "    </tr>\n",
       "    <tr>\n",
       "      <th>4</th>\n",
       "      <td>5</td>\n",
       "      <td>Addison Wesley Publishing Company</td>\n",
       "    </tr>\n",
       "  </tbody>\n",
       "</table>\n",
       "</div>"
      ],
      "text/plain": [
       "   publisher_id                          publisher\n",
       "0             1                                Ace\n",
       "1             2                           Ace Book\n",
       "2             3                          Ace Books\n",
       "3             4                      Ace Hardcover\n",
       "4             5  Addison Wesley Publishing Company"
      ]
     },
     "execution_count": 10,
     "metadata": {},
     "output_type": "execute_result"
    }
   ],
   "source": [
    "pd.io.sql.read_sql(query, con = engine).head() "
   ]
  },
  {
   "cell_type": "code",
   "execution_count": 11,
   "metadata": {},
   "outputs": [
    {
     "name": "stdout",
     "output_type": "stream",
     "text": [
      "<class 'pandas.core.frame.DataFrame'>\n",
      "RangeIndex: 340 entries, 0 to 339\n",
      "Data columns (total 2 columns):\n",
      " #   Column        Non-Null Count  Dtype \n",
      "---  ------        --------------  ----- \n",
      " 0   publisher_id  340 non-null    int64 \n",
      " 1   publisher     340 non-null    object\n",
      "dtypes: int64(1), object(1)\n",
      "memory usage: 5.4+ KB\n"
     ]
    }
   ],
   "source": [
    "pd.io.sql.read_sql(query, con = engine).info()"
   ]
  },
  {
   "cell_type": "markdown",
   "metadata": {},
   "source": [
    "Таблица ratings содержит данные о пользовательских оценках книг:"
   ]
  },
  {
   "cell_type": "code",
   "execution_count": 12,
   "metadata": {},
   "outputs": [],
   "source": [
    "query = ''' SELECT *\n",
    "            FROM ratings\n",
    "        '''"
   ]
  },
  {
   "cell_type": "code",
   "execution_count": 13,
   "metadata": {},
   "outputs": [
    {
     "data": {
      "text/html": [
       "<div>\n",
       "<style scoped>\n",
       "    .dataframe tbody tr th:only-of-type {\n",
       "        vertical-align: middle;\n",
       "    }\n",
       "\n",
       "    .dataframe tbody tr th {\n",
       "        vertical-align: top;\n",
       "    }\n",
       "\n",
       "    .dataframe thead th {\n",
       "        text-align: right;\n",
       "    }\n",
       "</style>\n",
       "<table border=\"1\" class=\"dataframe\">\n",
       "  <thead>\n",
       "    <tr style=\"text-align: right;\">\n",
       "      <th></th>\n",
       "      <th>rating_id</th>\n",
       "      <th>book_id</th>\n",
       "      <th>username</th>\n",
       "      <th>rating</th>\n",
       "    </tr>\n",
       "  </thead>\n",
       "  <tbody>\n",
       "    <tr>\n",
       "      <th>0</th>\n",
       "      <td>1</td>\n",
       "      <td>1</td>\n",
       "      <td>ryanfranco</td>\n",
       "      <td>4</td>\n",
       "    </tr>\n",
       "    <tr>\n",
       "      <th>1</th>\n",
       "      <td>2</td>\n",
       "      <td>1</td>\n",
       "      <td>grantpatricia</td>\n",
       "      <td>2</td>\n",
       "    </tr>\n",
       "    <tr>\n",
       "      <th>2</th>\n",
       "      <td>3</td>\n",
       "      <td>1</td>\n",
       "      <td>brandtandrea</td>\n",
       "      <td>5</td>\n",
       "    </tr>\n",
       "    <tr>\n",
       "      <th>3</th>\n",
       "      <td>4</td>\n",
       "      <td>2</td>\n",
       "      <td>lorichen</td>\n",
       "      <td>3</td>\n",
       "    </tr>\n",
       "    <tr>\n",
       "      <th>4</th>\n",
       "      <td>5</td>\n",
       "      <td>2</td>\n",
       "      <td>mariokeller</td>\n",
       "      <td>2</td>\n",
       "    </tr>\n",
       "  </tbody>\n",
       "</table>\n",
       "</div>"
      ],
      "text/plain": [
       "   rating_id  book_id       username  rating\n",
       "0          1        1     ryanfranco       4\n",
       "1          2        1  grantpatricia       2\n",
       "2          3        1   brandtandrea       5\n",
       "3          4        2       lorichen       3\n",
       "4          5        2    mariokeller       2"
      ]
     },
     "execution_count": 13,
     "metadata": {},
     "output_type": "execute_result"
    }
   ],
   "source": [
    "pd.io.sql.read_sql(query, con = engine).head() "
   ]
  },
  {
   "cell_type": "code",
   "execution_count": 14,
   "metadata": {},
   "outputs": [
    {
     "name": "stdout",
     "output_type": "stream",
     "text": [
      "<class 'pandas.core.frame.DataFrame'>\n",
      "RangeIndex: 6456 entries, 0 to 6455\n",
      "Data columns (total 4 columns):\n",
      " #   Column     Non-Null Count  Dtype \n",
      "---  ------     --------------  ----- \n",
      " 0   rating_id  6456 non-null   int64 \n",
      " 1   book_id    6456 non-null   int64 \n",
      " 2   username   6456 non-null   object\n",
      " 3   rating     6456 non-null   int64 \n",
      "dtypes: int64(3), object(1)\n",
      "memory usage: 201.9+ KB\n"
     ]
    }
   ],
   "source": [
    "pd.io.sql.read_sql(query, con = engine).info()"
   ]
  },
  {
   "cell_type": "markdown",
   "metadata": {},
   "source": [
    "Таблица reviews cодержит данные о пользовательских обзорах на книги:"
   ]
  },
  {
   "cell_type": "code",
   "execution_count": 15,
   "metadata": {},
   "outputs": [],
   "source": [
    "query = ''' SELECT *\n",
    "            FROM reviews\n",
    "        '''"
   ]
  },
  {
   "cell_type": "code",
   "execution_count": 16,
   "metadata": {
    "scrolled": true
   },
   "outputs": [
    {
     "data": {
      "text/html": [
       "<div>\n",
       "<style scoped>\n",
       "    .dataframe tbody tr th:only-of-type {\n",
       "        vertical-align: middle;\n",
       "    }\n",
       "\n",
       "    .dataframe tbody tr th {\n",
       "        vertical-align: top;\n",
       "    }\n",
       "\n",
       "    .dataframe thead th {\n",
       "        text-align: right;\n",
       "    }\n",
       "</style>\n",
       "<table border=\"1\" class=\"dataframe\">\n",
       "  <thead>\n",
       "    <tr style=\"text-align: right;\">\n",
       "      <th></th>\n",
       "      <th>review_id</th>\n",
       "      <th>book_id</th>\n",
       "      <th>username</th>\n",
       "      <th>text</th>\n",
       "    </tr>\n",
       "  </thead>\n",
       "  <tbody>\n",
       "    <tr>\n",
       "      <th>0</th>\n",
       "      <td>1</td>\n",
       "      <td>1</td>\n",
       "      <td>brandtandrea</td>\n",
       "      <td>Mention society tell send professor analysis. ...</td>\n",
       "    </tr>\n",
       "    <tr>\n",
       "      <th>1</th>\n",
       "      <td>2</td>\n",
       "      <td>1</td>\n",
       "      <td>ryanfranco</td>\n",
       "      <td>Foot glass pretty audience hit themselves. Amo...</td>\n",
       "    </tr>\n",
       "    <tr>\n",
       "      <th>2</th>\n",
       "      <td>3</td>\n",
       "      <td>2</td>\n",
       "      <td>lorichen</td>\n",
       "      <td>Listen treat keep worry. Miss husband tax but ...</td>\n",
       "    </tr>\n",
       "    <tr>\n",
       "      <th>3</th>\n",
       "      <td>4</td>\n",
       "      <td>3</td>\n",
       "      <td>johnsonamanda</td>\n",
       "      <td>Finally month interesting blue could nature cu...</td>\n",
       "    </tr>\n",
       "    <tr>\n",
       "      <th>4</th>\n",
       "      <td>5</td>\n",
       "      <td>3</td>\n",
       "      <td>scotttamara</td>\n",
       "      <td>Nation purpose heavy give wait song will. List...</td>\n",
       "    </tr>\n",
       "  </tbody>\n",
       "</table>\n",
       "</div>"
      ],
      "text/plain": [
       "   review_id  book_id       username  \\\n",
       "0          1        1   brandtandrea   \n",
       "1          2        1     ryanfranco   \n",
       "2          3        2       lorichen   \n",
       "3          4        3  johnsonamanda   \n",
       "4          5        3    scotttamara   \n",
       "\n",
       "                                                text  \n",
       "0  Mention society tell send professor analysis. ...  \n",
       "1  Foot glass pretty audience hit themselves. Amo...  \n",
       "2  Listen treat keep worry. Miss husband tax but ...  \n",
       "3  Finally month interesting blue could nature cu...  \n",
       "4  Nation purpose heavy give wait song will. List...  "
      ]
     },
     "execution_count": 16,
     "metadata": {},
     "output_type": "execute_result"
    }
   ],
   "source": [
    "pd.io.sql.read_sql(query, con = engine).head()"
   ]
  },
  {
   "cell_type": "code",
   "execution_count": 17,
   "metadata": {},
   "outputs": [
    {
     "name": "stdout",
     "output_type": "stream",
     "text": [
      "<class 'pandas.core.frame.DataFrame'>\n",
      "RangeIndex: 2793 entries, 0 to 2792\n",
      "Data columns (total 4 columns):\n",
      " #   Column     Non-Null Count  Dtype \n",
      "---  ------     --------------  ----- \n",
      " 0   review_id  2793 non-null   int64 \n",
      " 1   book_id    2793 non-null   int64 \n",
      " 2   username   2793 non-null   object\n",
      " 3   text       2793 non-null   object\n",
      "dtypes: int64(2), object(2)\n",
      "memory usage: 87.4+ KB\n"
     ]
    }
   ],
   "source": [
    "pd.io.sql.read_sql(query, con = engine).info()"
   ]
  },
  {
   "cell_type": "markdown",
   "metadata": {},
   "source": [
    "## Задания"
   ]
  },
  {
   "cell_type": "markdown",
   "metadata": {},
   "source": [
    "### Посчитайте, сколько книг вышло после 1 января 2000 года;"
   ]
  },
  {
   "cell_type": "code",
   "execution_count": 18,
   "metadata": {},
   "outputs": [],
   "source": [
    "query1 = ''' SELECT COUNT(DISTINCT(book_id))\n",
    "             FROM books\n",
    "             WHERE CAST(publication_date AS date) > '2000-01-01'\n",
    "        '''"
   ]
  },
  {
   "cell_type": "code",
   "execution_count": 19,
   "metadata": {},
   "outputs": [
    {
     "data": {
      "text/plain": [
       "819"
      ]
     },
     "execution_count": 19,
     "metadata": {},
     "output_type": "execute_result"
    }
   ],
   "source": [
    "count_book = pd.io.sql.read_sql(query1, con = engine)\n",
    "count_book = count_book.loc[0, 'count']\n",
    "count_book"
   ]
  },
  {
   "cell_type": "code",
   "execution_count": 20,
   "metadata": {},
   "outputs": [
    {
     "name": "stdout",
     "output_type": "stream",
     "text": [
      "После 1 января 2000 года вышло 819 книг.\n"
     ]
    }
   ],
   "source": [
    "print(f'После 1 января 2000 года вышло {count_book} книг.')"
   ]
  },
  {
   "cell_type": "markdown",
   "metadata": {},
   "source": [
    "### Для каждой книги посчитайте количество обзоров и среднюю оценку;"
   ]
  },
  {
   "cell_type": "code",
   "execution_count": 39,
   "metadata": {},
   "outputs": [],
   "source": [
    "query2 = ''' SELECT b.title as title,\n",
    "                    b.book_id,\n",
    "                    COUNT(DISTINCT(rw.review_id)) AS count_reviews,\n",
    "                    TRUNC(AVG(rt.rating), 2) AS mean_rating\n",
    "             FROM books AS b\n",
    "             LEFT JOIN ratings AS rt ON b.book_id=rt.book_id\n",
    "             LEFT JOIN reviews AS rw ON b.book_id=rw.book_id\n",
    "             GROUP BY title, \n",
    "                      b.book_id\n",
    "             ORDER  BY count_reviews DESC\n",
    "        '''"
   ]
  },
  {
   "cell_type": "code",
   "execution_count": 40,
   "metadata": {},
   "outputs": [
    {
     "data": {
      "text/html": [
       "<div>\n",
       "<style scoped>\n",
       "    .dataframe tbody tr th:only-of-type {\n",
       "        vertical-align: middle;\n",
       "    }\n",
       "\n",
       "    .dataframe tbody tr th {\n",
       "        vertical-align: top;\n",
       "    }\n",
       "\n",
       "    .dataframe thead th {\n",
       "        text-align: right;\n",
       "    }\n",
       "</style>\n",
       "<table border=\"1\" class=\"dataframe\">\n",
       "  <thead>\n",
       "    <tr style=\"text-align: right;\">\n",
       "      <th></th>\n",
       "      <th>title</th>\n",
       "      <th>book_id</th>\n",
       "      <th>count_reviews</th>\n",
       "      <th>mean_rating</th>\n",
       "    </tr>\n",
       "  </thead>\n",
       "  <tbody>\n",
       "    <tr>\n",
       "      <th>0</th>\n",
       "      <td>Twilight (Twilight  #1)</td>\n",
       "      <td>948</td>\n",
       "      <td>7</td>\n",
       "      <td>3.66</td>\n",
       "    </tr>\n",
       "    <tr>\n",
       "      <th>1</th>\n",
       "      <td>Water for Elephants</td>\n",
       "      <td>963</td>\n",
       "      <td>6</td>\n",
       "      <td>3.97</td>\n",
       "    </tr>\n",
       "    <tr>\n",
       "      <th>2</th>\n",
       "      <td>The Glass Castle</td>\n",
       "      <td>734</td>\n",
       "      <td>6</td>\n",
       "      <td>4.20</td>\n",
       "    </tr>\n",
       "    <tr>\n",
       "      <th>3</th>\n",
       "      <td>Harry Potter and the Prisoner of Azkaban (Harr...</td>\n",
       "      <td>302</td>\n",
       "      <td>6</td>\n",
       "      <td>4.41</td>\n",
       "    </tr>\n",
       "    <tr>\n",
       "      <th>4</th>\n",
       "      <td>The Curious Incident of the Dog in the Night-Time</td>\n",
       "      <td>695</td>\n",
       "      <td>6</td>\n",
       "      <td>4.08</td>\n",
       "    </tr>\n",
       "    <tr>\n",
       "      <th>...</th>\n",
       "      <td>...</td>\n",
       "      <td>...</td>\n",
       "      <td>...</td>\n",
       "      <td>...</td>\n",
       "    </tr>\n",
       "    <tr>\n",
       "      <th>995</th>\n",
       "      <td>Anne Rice's The Vampire Lestat: A Graphic Novel</td>\n",
       "      <td>83</td>\n",
       "      <td>0</td>\n",
       "      <td>3.66</td>\n",
       "    </tr>\n",
       "    <tr>\n",
       "      <th>996</th>\n",
       "      <td>The Natural Way to Draw</td>\n",
       "      <td>808</td>\n",
       "      <td>0</td>\n",
       "      <td>3.00</td>\n",
       "    </tr>\n",
       "    <tr>\n",
       "      <th>997</th>\n",
       "      <td>The Cat in the Hat and Other Dr. Seuss Favorites</td>\n",
       "      <td>672</td>\n",
       "      <td>0</td>\n",
       "      <td>5.00</td>\n",
       "    </tr>\n",
       "    <tr>\n",
       "      <th>998</th>\n",
       "      <td>Essential Tales and Poems</td>\n",
       "      <td>221</td>\n",
       "      <td>0</td>\n",
       "      <td>4.00</td>\n",
       "    </tr>\n",
       "    <tr>\n",
       "      <th>999</th>\n",
       "      <td>Disney's Beauty and the Beast (A Little Golden...</td>\n",
       "      <td>191</td>\n",
       "      <td>0</td>\n",
       "      <td>4.00</td>\n",
       "    </tr>\n",
       "  </tbody>\n",
       "</table>\n",
       "<p>1000 rows × 4 columns</p>\n",
       "</div>"
      ],
      "text/plain": [
       "                                                 title  book_id  \\\n",
       "0                              Twilight (Twilight  #1)      948   \n",
       "1                                  Water for Elephants      963   \n",
       "2                                     The Glass Castle      734   \n",
       "3    Harry Potter and the Prisoner of Azkaban (Harr...      302   \n",
       "4    The Curious Incident of the Dog in the Night-Time      695   \n",
       "..                                                 ...      ...   \n",
       "995    Anne Rice's The Vampire Lestat: A Graphic Novel       83   \n",
       "996                            The Natural Way to Draw      808   \n",
       "997   The Cat in the Hat and Other Dr. Seuss Favorites      672   \n",
       "998                          Essential Tales and Poems      221   \n",
       "999  Disney's Beauty and the Beast (A Little Golden...      191   \n",
       "\n",
       "     count_reviews  mean_rating  \n",
       "0                7         3.66  \n",
       "1                6         3.97  \n",
       "2                6         4.20  \n",
       "3                6         4.41  \n",
       "4                6         4.08  \n",
       "..             ...          ...  \n",
       "995              0         3.66  \n",
       "996              0         3.00  \n",
       "997              0         5.00  \n",
       "998              0         4.00  \n",
       "999              0         4.00  \n",
       "\n",
       "[1000 rows x 4 columns]"
      ]
     },
     "execution_count": 40,
     "metadata": {},
     "output_type": "execute_result"
    }
   ],
   "source": [
    "book = pd.io.sql.read_sql(query2, con = engine)\n",
    "book"
   ]
  },
  {
   "cell_type": "code",
   "execution_count": 23,
   "metadata": {},
   "outputs": [],
   "source": [
    "query_mean_rating = ''' \n",
    "SELECT COUNT(f.mean_rating)\n",
    "FROM\n",
    "    (SELECT b.title as title,\n",
    "            COUNT(rw.review_id) AS count_reviews,\n",
    "            TRUNC(AVG(rt.rating), 2) AS mean_rating\n",
    "     FROM books AS b\n",
    "     LEFT JOIN ratings AS rt ON b.book_id=rt.book_id\n",
    "     LEFT JOIN reviews AS rw ON b.book_id=rw.book_id\n",
    "     GROUP BY title, \n",
    "              b.book_id     \n",
    "     ORDER  BY mean_rating DESC) as f\n",
    "GROUP BY f.mean_rating          \n",
    "HAVING f.mean_rating = 5\n",
    "        '''"
   ]
  },
  {
   "cell_type": "code",
   "execution_count": 24,
   "metadata": {},
   "outputs": [
    {
     "data": {
      "text/html": [
       "<div>\n",
       "<style scoped>\n",
       "    .dataframe tbody tr th:only-of-type {\n",
       "        vertical-align: middle;\n",
       "    }\n",
       "\n",
       "    .dataframe tbody tr th {\n",
       "        vertical-align: top;\n",
       "    }\n",
       "\n",
       "    .dataframe thead th {\n",
       "        text-align: right;\n",
       "    }\n",
       "</style>\n",
       "<table border=\"1\" class=\"dataframe\">\n",
       "  <thead>\n",
       "    <tr style=\"text-align: right;\">\n",
       "      <th></th>\n",
       "      <th>count</th>\n",
       "    </tr>\n",
       "  </thead>\n",
       "  <tbody>\n",
       "    <tr>\n",
       "      <th>0</th>\n",
       "      <td>44</td>\n",
       "    </tr>\n",
       "  </tbody>\n",
       "</table>\n",
       "</div>"
      ],
      "text/plain": [
       "   count\n",
       "0     44"
      ]
     },
     "execution_count": 24,
     "metadata": {},
     "output_type": "execute_result"
    }
   ],
   "source": [
    "pd.io.sql.read_sql(query_mean_rating, con = engine)"
   ]
  },
  {
   "cell_type": "markdown",
   "metadata": {},
   "source": [
    "Книга с самым большим количеством обзоров - Twilight (Twilight #1) - 7 обзоров.\n",
    "44 книги получили наивысшую среднюю оценку - 5 баллов."
   ]
  },
  {
   "cell_type": "code",
   "execution_count": 25,
   "metadata": {},
   "outputs": [],
   "source": [
    "query100 = ''' \n",
    "SELECT SUM(c.count_reviews)\n",
    "FROM \n",
    "    (SELECT b.title as title,\n",
    "            COUNT(DISTINCT(rw.review_id)) AS count_reviews,\n",
    "            TRUNC(AVG(rt.rating), 2) AS mean_rating\n",
    "            FROM books AS b\n",
    "            LEFT JOIN ratings AS rt ON b.book_id=rt.book_id\n",
    "            LEFT JOIN reviews AS rw ON b.book_id=rw.book_id\n",
    "            GROUP BY title, \n",
    "                    b.book_id\n",
    "            ORDER  BY count_reviews DESC) as c\n",
    "        '''"
   ]
  },
  {
   "cell_type": "code",
   "execution_count": 26,
   "metadata": {},
   "outputs": [
    {
     "data": {
      "text/html": [
       "<div>\n",
       "<style scoped>\n",
       "    .dataframe tbody tr th:only-of-type {\n",
       "        vertical-align: middle;\n",
       "    }\n",
       "\n",
       "    .dataframe tbody tr th {\n",
       "        vertical-align: top;\n",
       "    }\n",
       "\n",
       "    .dataframe thead th {\n",
       "        text-align: right;\n",
       "    }\n",
       "</style>\n",
       "<table border=\"1\" class=\"dataframe\">\n",
       "  <thead>\n",
       "    <tr style=\"text-align: right;\">\n",
       "      <th></th>\n",
       "      <th>sum</th>\n",
       "    </tr>\n",
       "  </thead>\n",
       "  <tbody>\n",
       "    <tr>\n",
       "      <th>0</th>\n",
       "      <td>2793.0</td>\n",
       "    </tr>\n",
       "  </tbody>\n",
       "</table>\n",
       "</div>"
      ],
      "text/plain": [
       "      sum\n",
       "0  2793.0"
      ]
     },
     "execution_count": 26,
     "metadata": {},
     "output_type": "execute_result"
    }
   ],
   "source": [
    "pd.io.sql.read_sql(query100, con = engine)"
   ]
  },
  {
   "cell_type": "markdown",
   "metadata": {},
   "source": [
    "### Определите издательство, которое выпустило наибольшее число книг толще 50 страниц — так вы исключите из анализа брошюры;"
   ]
  },
  {
   "cell_type": "code",
   "execution_count": 27,
   "metadata": {},
   "outputs": [],
   "source": [
    "query3 = ''' SELECT p.publisher AS publisher,\n",
    "                    COUNT(b.book_id) AS count_book\n",
    "             FROM publishers AS p    \n",
    "             INNER JOIN books AS b ON p.publisher_id=b.publisher_id\n",
    "             WHERE b.num_pages > 50\n",
    "             GROUP BY publisher\n",
    "             ORDER BY count_book DESC\n",
    "             LIMIT 1\n",
    "        '''"
   ]
  },
  {
   "cell_type": "code",
   "execution_count": 28,
   "metadata": {},
   "outputs": [
    {
     "data": {
      "text/html": [
       "<div>\n",
       "<style scoped>\n",
       "    .dataframe tbody tr th:only-of-type {\n",
       "        vertical-align: middle;\n",
       "    }\n",
       "\n",
       "    .dataframe tbody tr th {\n",
       "        vertical-align: top;\n",
       "    }\n",
       "\n",
       "    .dataframe thead th {\n",
       "        text-align: right;\n",
       "    }\n",
       "</style>\n",
       "<table border=\"1\" class=\"dataframe\">\n",
       "  <thead>\n",
       "    <tr style=\"text-align: right;\">\n",
       "      <th></th>\n",
       "      <th>publisher</th>\n",
       "      <th>count_book</th>\n",
       "    </tr>\n",
       "  </thead>\n",
       "  <tbody>\n",
       "    <tr>\n",
       "      <th>0</th>\n",
       "      <td>Penguin Books</td>\n",
       "      <td>42</td>\n",
       "    </tr>\n",
       "  </tbody>\n",
       "</table>\n",
       "</div>"
      ],
      "text/plain": [
       "       publisher  count_book\n",
       "0  Penguin Books          42"
      ]
     },
     "execution_count": 28,
     "metadata": {},
     "output_type": "execute_result"
    }
   ],
   "source": [
    "max_publisher = pd.io.sql.read_sql(query3, con = engine)\n",
    "max_publisher"
   ]
  },
  {
   "cell_type": "code",
   "execution_count": 29,
   "metadata": {},
   "outputs": [],
   "source": [
    "max_publisher_name = max_publisher.loc[0,'publisher'] "
   ]
  },
  {
   "cell_type": "code",
   "execution_count": 30,
   "metadata": {},
   "outputs": [
    {
     "name": "stdout",
     "output_type": "stream",
     "text": [
      "Издательство Penguin Books выпустило наибольшее количество книг толще 50 страниц.\n"
     ]
    }
   ],
   "source": [
    "print(f'Издательство {max_publisher_name} выпустило наибольшее количество книг толще 50 страниц.')"
   ]
  },
  {
   "cell_type": "markdown",
   "metadata": {},
   "source": [
    "### Определите автора с самой высокой средней оценкой книг — учитывайте только книги с 50 и более оценками;"
   ]
  },
  {
   "cell_type": "code",
   "execution_count": 31,
   "metadata": {},
   "outputs": [],
   "source": [
    "query4 = ''' SELECT a.author AS author,\n",
    "                    AVG(r.rating) AS rating\n",
    "             FROM authors AS a    \n",
    "             INNER JOIN books AS b ON a.author_id=b.author_id\n",
    "             INNER JOIN ratings AS r ON b.book_id=r.book_id\n",
    "             GROUP BY author\n",
    "             HAVING COUNT(rating) > 50\n",
    "             ORDER BY rating DESC\n",
    "             LIMIT 1          \n",
    "        '''"
   ]
  },
  {
   "cell_type": "code",
   "execution_count": 32,
   "metadata": {},
   "outputs": [
    {
     "data": {
      "text/html": [
       "<div>\n",
       "<style scoped>\n",
       "    .dataframe tbody tr th:only-of-type {\n",
       "        vertical-align: middle;\n",
       "    }\n",
       "\n",
       "    .dataframe tbody tr th {\n",
       "        vertical-align: top;\n",
       "    }\n",
       "\n",
       "    .dataframe thead th {\n",
       "        text-align: right;\n",
       "    }\n",
       "</style>\n",
       "<table border=\"1\" class=\"dataframe\">\n",
       "  <thead>\n",
       "    <tr style=\"text-align: right;\">\n",
       "      <th></th>\n",
       "      <th>author</th>\n",
       "      <th>rating</th>\n",
       "    </tr>\n",
       "  </thead>\n",
       "  <tbody>\n",
       "    <tr>\n",
       "      <th>0</th>\n",
       "      <td>J.K. Rowling/Mary GrandPré</td>\n",
       "      <td>4.288462</td>\n",
       "    </tr>\n",
       "  </tbody>\n",
       "</table>\n",
       "</div>"
      ],
      "text/plain": [
       "                       author    rating\n",
       "0  J.K. Rowling/Mary GrandPré  4.288462"
      ]
     },
     "execution_count": 32,
     "metadata": {},
     "output_type": "execute_result"
    }
   ],
   "source": [
    "top_author = pd.io.sql.read_sql(query4, con = engine)\n",
    "top_author"
   ]
  },
  {
   "cell_type": "code",
   "execution_count": 33,
   "metadata": {},
   "outputs": [],
   "source": [
    "name_top_author = top_author.loc[0, 'author']"
   ]
  },
  {
   "cell_type": "code",
   "execution_count": 34,
   "metadata": {},
   "outputs": [
    {
     "name": "stdout",
     "output_type": "stream",
     "text": [
      "J.K. Rowling/Mary GrandPré - автор с самой высокой оценкой книг.\n"
     ]
    }
   ],
   "source": [
    "print(f'{name_top_author} - автор с самой высокой оценкой книг.')"
   ]
  },
  {
   "cell_type": "markdown",
   "metadata": {},
   "source": [
    "### Посчитайте среднее количество обзоров от пользователей, которые поставили больше 50 оценок."
   ]
  },
  {
   "cell_type": "code",
   "execution_count": 35,
   "metadata": {},
   "outputs": [],
   "source": [
    "query5 = ''' SELECT TRUNC(AVG(list_user.count_reviews), 1) AS mean_count_reviews\n",
    "             FROM\n",
    "                (SELECT username,\n",
    "                        COUNT(review_id) AS count_reviews\n",
    "                FROM reviews\n",
    "                WHERE username IN (SELECT username\n",
    "                                   FROM ratings\n",
    "                                   GROUP BY username\n",
    "                                   HAVING COUNT(rating_id) > 50)\n",
    "                GROUP BY username) AS list_user\n",
    "          ''' "
   ]
  },
  {
   "cell_type": "code",
   "execution_count": 36,
   "metadata": {},
   "outputs": [
    {
     "data": {
      "text/html": [
       "<div>\n",
       "<style scoped>\n",
       "    .dataframe tbody tr th:only-of-type {\n",
       "        vertical-align: middle;\n",
       "    }\n",
       "\n",
       "    .dataframe tbody tr th {\n",
       "        vertical-align: top;\n",
       "    }\n",
       "\n",
       "    .dataframe thead th {\n",
       "        text-align: right;\n",
       "    }\n",
       "</style>\n",
       "<table border=\"1\" class=\"dataframe\">\n",
       "  <thead>\n",
       "    <tr style=\"text-align: right;\">\n",
       "      <th></th>\n",
       "      <th>mean_count_reviews</th>\n",
       "    </tr>\n",
       "  </thead>\n",
       "  <tbody>\n",
       "    <tr>\n",
       "      <th>0</th>\n",
       "      <td>24.3</td>\n",
       "    </tr>\n",
       "  </tbody>\n",
       "</table>\n",
       "</div>"
      ],
      "text/plain": [
       "   mean_count_reviews\n",
       "0                24.3"
      ]
     },
     "execution_count": 36,
     "metadata": {},
     "output_type": "execute_result"
    }
   ],
   "source": [
    "mean_count_reviews = pd.io.sql.read_sql(query5, con = engine)\n",
    "mean_count_reviews"
   ]
  },
  {
   "cell_type": "code",
   "execution_count": 37,
   "metadata": {},
   "outputs": [
    {
     "data": {
      "text/plain": [
       "24.3"
      ]
     },
     "execution_count": 37,
     "metadata": {},
     "output_type": "execute_result"
    }
   ],
   "source": [
    "count_reviews = mean_count_reviews.loc[0, 'mean_count_reviews']\n",
    "count_reviews"
   ]
  },
  {
   "cell_type": "code",
   "execution_count": 38,
   "metadata": {
    "scrolled": true
   },
   "outputs": [
    {
     "name": "stdout",
     "output_type": "stream",
     "text": [
      "Cреднее количество обзоров от пользователей, которые поставили больше 50 оценок равно 24.3.\n"
     ]
    }
   ],
   "source": [
    "print(f'Cреднее количество обзоров от пользователей, которые поставили больше 50 оценок равно {count_reviews}.')"
   ]
  },
  {
   "cell_type": "markdown",
   "metadata": {},
   "source": [
    "## Выводы:  \n",
    "- После 1 января 2000 года вышло ***819 книг***;\n",
    "- Для каждой книги было посчитано количество обзоров и средняя оценка;\n",
    " - Книга с самым большим количесвтом обзоров - Twilight (Twilight #1) - 7 обзоров.\n",
    " - 44 книги получили наивысшую среднюю оценку - 5 баллов.\n",
    "- Издательство ***Penguin Books*** выпустило наибольшее количество книг толще 50 страниц;\n",
    "- ***J.K. Rowling/Mary GrandPré*** - автор с самой высокой оценкой книг;\n",
    "- Cреднее количество обзоров от пользователей, которые поставили больше 50 оценок равно ***24.3***."
   ]
  }
 ],
 "metadata": {
  "ExecuteTimeLog": [
   {
    "duration": 56,
    "start_time": "2022-08-22T08:28:19.028Z"
   },
   {
    "duration": 45,
    "start_time": "2022-08-22T08:28:56.887Z"
   },
   {
    "duration": 98,
    "start_time": "2022-08-22T08:29:19.836Z"
   },
   {
    "duration": 63,
    "start_time": "2022-08-22T08:29:31.427Z"
   },
   {
    "duration": 561,
    "start_time": "2022-08-22T08:30:16.372Z"
   },
   {
    "duration": 3,
    "start_time": "2022-08-22T08:32:07.616Z"
   },
   {
    "duration": 2,
    "start_time": "2022-08-22T08:32:09.332Z"
   },
   {
    "duration": 69,
    "start_time": "2022-08-22T08:32:10.464Z"
   },
   {
    "duration": 5608,
    "start_time": "2022-08-22T08:32:38.112Z"
   },
   {
    "duration": 3,
    "start_time": "2022-08-22T08:32:45.431Z"
   },
   {
    "duration": 313,
    "start_time": "2022-08-22T08:32:46.968Z"
   },
   {
    "duration": 3,
    "start_time": "2022-08-22T08:33:08.841Z"
   },
   {
    "duration": 149,
    "start_time": "2022-08-22T08:33:10.428Z"
   },
   {
    "duration": 88,
    "start_time": "2022-08-22T08:36:58.867Z"
   },
   {
    "duration": 47,
    "start_time": "2022-08-22T08:37:29.612Z"
   },
   {
    "duration": 3,
    "start_time": "2022-08-22T08:37:35.156Z"
   },
   {
    "duration": 175,
    "start_time": "2022-08-22T08:37:37.501Z"
   },
   {
    "duration": 2,
    "start_time": "2022-08-22T08:38:34.394Z"
   },
   {
    "duration": 142,
    "start_time": "2022-08-22T08:38:36.208Z"
   },
   {
    "duration": 3,
    "start_time": "2022-08-22T08:38:45.778Z"
   },
   {
    "duration": 138,
    "start_time": "2022-08-22T08:38:47.108Z"
   },
   {
    "duration": 2,
    "start_time": "2022-08-22T08:39:02.987Z"
   },
   {
    "duration": 164,
    "start_time": "2022-08-22T08:39:04.339Z"
   },
   {
    "duration": 2,
    "start_time": "2022-08-22T08:40:17.719Z"
   },
   {
    "duration": 227,
    "start_time": "2022-08-22T08:40:18.868Z"
   },
   {
    "duration": 3,
    "start_time": "2022-08-22T08:41:16.144Z"
   },
   {
    "duration": 139,
    "start_time": "2022-08-22T08:41:17.248Z"
   },
   {
    "duration": 2,
    "start_time": "2022-08-22T08:41:55.270Z"
   },
   {
    "duration": 3,
    "start_time": "2022-08-22T08:41:56.176Z"
   },
   {
    "duration": 169,
    "start_time": "2022-08-22T08:41:57.018Z"
   },
   {
    "duration": 2,
    "start_time": "2022-08-22T08:42:21.347Z"
   },
   {
    "duration": 153,
    "start_time": "2022-08-22T08:42:22.706Z"
   },
   {
    "duration": 2,
    "start_time": "2022-08-22T08:42:37.217Z"
   },
   {
    "duration": 122,
    "start_time": "2022-08-22T08:42:38.625Z"
   },
   {
    "duration": 185,
    "start_time": "2022-08-22T09:00:28.945Z"
   },
   {
    "duration": 264,
    "start_time": "2022-08-22T09:01:34.213Z"
   },
   {
    "duration": 202,
    "start_time": "2022-08-22T09:01:43.162Z"
   },
   {
    "duration": 3,
    "start_time": "2022-08-22T09:02:38.333Z"
   },
   {
    "duration": 1097,
    "start_time": "2022-08-22T09:02:40.100Z"
   },
   {
    "duration": 2,
    "start_time": "2022-08-22T09:03:15.948Z"
   },
   {
    "duration": 248,
    "start_time": "2022-08-22T09:03:18.788Z"
   },
   {
    "duration": 3,
    "start_time": "2022-08-22T09:05:16.312Z"
   },
   {
    "duration": 54,
    "start_time": "2022-08-22T09:05:17.468Z"
   },
   {
    "duration": 135,
    "start_time": "2022-08-22T09:05:33.188Z"
   },
   {
    "duration": 2,
    "start_time": "2022-08-22T09:06:30.481Z"
   },
   {
    "duration": 137,
    "start_time": "2022-08-22T09:06:33.262Z"
   },
   {
    "duration": 92,
    "start_time": "2022-08-22T16:34:44.862Z"
   },
   {
    "duration": 582,
    "start_time": "2022-08-22T16:35:40.863Z"
   },
   {
    "duration": 29693,
    "start_time": "2022-08-22T16:35:45.439Z"
   },
   {
    "duration": 4,
    "start_time": "2022-08-22T16:36:15.134Z"
   },
   {
    "duration": 94,
    "start_time": "2022-08-22T16:36:18.280Z"
   },
   {
    "duration": 3,
    "start_time": "2022-08-22T16:37:03.764Z"
   },
   {
    "duration": 16,
    "start_time": "2022-08-22T16:37:10.888Z"
   },
   {
    "duration": 3,
    "start_time": "2022-08-22T16:37:30.862Z"
   },
   {
    "duration": 13,
    "start_time": "2022-08-22T16:37:35.626Z"
   },
   {
    "duration": 4,
    "start_time": "2022-08-22T16:37:58.512Z"
   },
   {
    "duration": 13,
    "start_time": "2022-08-22T16:38:06.026Z"
   },
   {
    "duration": 3,
    "start_time": "2022-08-22T16:38:20.490Z"
   },
   {
    "duration": 29,
    "start_time": "2022-08-22T16:38:26.260Z"
   },
   {
    "duration": 3,
    "start_time": "2022-08-22T16:38:48.133Z"
   },
   {
    "duration": 12,
    "start_time": "2022-08-22T16:38:53.796Z"
   },
   {
    "duration": 4,
    "start_time": "2022-08-22T16:38:59.137Z"
   },
   {
    "duration": 12,
    "start_time": "2022-08-22T16:45:34.203Z"
   },
   {
    "duration": 73,
    "start_time": "2022-08-22T16:45:37.353Z"
   },
   {
    "duration": 2,
    "start_time": "2022-08-22T16:45:39.637Z"
   },
   {
    "duration": 14,
    "start_time": "2022-08-22T16:45:40.653Z"
   },
   {
    "duration": 3,
    "start_time": "2022-08-22T16:45:59.293Z"
   },
   {
    "duration": 15,
    "start_time": "2022-08-22T16:45:59.645Z"
   },
   {
    "duration": 2,
    "start_time": "2022-08-22T16:46:18.032Z"
   },
   {
    "duration": 15,
    "start_time": "2022-08-22T16:46:18.542Z"
   },
   {
    "duration": 3,
    "start_time": "2022-08-22T16:47:11.223Z"
   },
   {
    "duration": 121,
    "start_time": "2022-08-22T16:47:11.747Z"
   },
   {
    "duration": 3,
    "start_time": "2022-08-22T16:47:17.880Z"
   },
   {
    "duration": 12,
    "start_time": "2022-08-22T16:47:18.151Z"
   },
   {
    "duration": 3,
    "start_time": "2022-08-22T16:47:27.016Z"
   },
   {
    "duration": 17,
    "start_time": "2022-08-22T16:47:27.289Z"
   },
   {
    "duration": 3,
    "start_time": "2022-08-22T16:47:42.249Z"
   },
   {
    "duration": 16,
    "start_time": "2022-08-22T16:47:42.638Z"
   },
   {
    "duration": 3,
    "start_time": "2022-08-22T16:51:05.879Z"
   },
   {
    "duration": 133,
    "start_time": "2022-08-22T16:51:06.210Z"
   },
   {
    "duration": 3,
    "start_time": "2022-08-22T16:51:23.181Z"
   },
   {
    "duration": 18,
    "start_time": "2022-08-22T16:51:24.161Z"
   },
   {
    "duration": 3,
    "start_time": "2022-08-22T16:51:31.658Z"
   },
   {
    "duration": 21,
    "start_time": "2022-08-22T16:51:32.012Z"
   },
   {
    "duration": 2,
    "start_time": "2022-08-22T16:52:57.539Z"
   },
   {
    "duration": 109,
    "start_time": "2022-08-22T16:52:57.985Z"
   },
   {
    "duration": 3,
    "start_time": "2022-08-22T16:53:08.985Z"
   },
   {
    "duration": 102,
    "start_time": "2022-08-22T16:53:09.395Z"
   },
   {
    "duration": 3,
    "start_time": "2022-08-22T16:53:19.491Z"
   },
   {
    "duration": 100,
    "start_time": "2022-08-22T16:53:19.950Z"
   },
   {
    "duration": 2,
    "start_time": "2022-08-22T16:53:51.737Z"
   },
   {
    "duration": 142,
    "start_time": "2022-08-22T16:53:52.450Z"
   },
   {
    "duration": 3,
    "start_time": "2022-08-22T16:54:25.015Z"
   },
   {
    "duration": 58,
    "start_time": "2022-08-22T16:54:25.269Z"
   },
   {
    "duration": 3,
    "start_time": "2022-08-22T16:54:32.483Z"
   },
   {
    "duration": 229,
    "start_time": "2022-08-22T16:54:33.373Z"
   },
   {
    "duration": 3,
    "start_time": "2022-08-22T16:54:41.524Z"
   },
   {
    "duration": 26,
    "start_time": "2022-08-22T16:54:42.282Z"
   },
   {
    "duration": 3,
    "start_time": "2022-08-22T16:54:54.012Z"
   },
   {
    "duration": 28,
    "start_time": "2022-08-22T16:54:54.525Z"
   },
   {
    "duration": 3,
    "start_time": "2022-08-22T16:54:56.742Z"
   },
   {
    "duration": 3,
    "start_time": "2022-08-22T16:55:10.525Z"
   },
   {
    "duration": 27,
    "start_time": "2022-08-22T16:55:10.987Z"
   },
   {
    "duration": 2,
    "start_time": "2022-08-22T16:57:34.621Z"
   },
   {
    "duration": 168,
    "start_time": "2022-08-22T16:57:35.229Z"
   },
   {
    "duration": 2,
    "start_time": "2022-08-22T16:57:38.717Z"
   },
   {
    "duration": 95,
    "start_time": "2022-08-22T16:57:39.055Z"
   },
   {
    "duration": 3,
    "start_time": "2022-08-22T16:57:44.693Z"
   },
   {
    "duration": 242,
    "start_time": "2022-08-22T16:57:45.062Z"
   },
   {
    "duration": 3,
    "start_time": "2022-08-22T16:57:48.823Z"
   },
   {
    "duration": 101,
    "start_time": "2022-08-22T16:57:49.119Z"
   },
   {
    "duration": 3,
    "start_time": "2022-08-22T16:58:06.084Z"
   },
   {
    "duration": 283,
    "start_time": "2022-08-22T16:58:06.436Z"
   },
   {
    "duration": 2,
    "start_time": "2022-08-22T17:01:14.951Z"
   },
   {
    "duration": 28,
    "start_time": "2022-08-22T17:01:15.312Z"
   },
   {
    "duration": 3,
    "start_time": "2022-08-22T17:01:46.585Z"
   },
   {
    "duration": 33,
    "start_time": "2022-08-22T17:01:47.437Z"
   },
   {
    "duration": 2,
    "start_time": "2022-08-22T17:02:38.803Z"
   },
   {
    "duration": 2,
    "start_time": "2022-08-22T17:02:40.994Z"
   },
   {
    "duration": 31,
    "start_time": "2022-08-22T17:02:41.335Z"
   },
   {
    "duration": 2,
    "start_time": "2022-08-22T17:03:14.929Z"
   },
   {
    "duration": 38,
    "start_time": "2022-08-22T17:03:15.264Z"
   },
   {
    "duration": 3,
    "start_time": "2022-08-22T17:03:46.931Z"
   },
   {
    "duration": 3,
    "start_time": "2022-08-22T17:03:56.738Z"
   },
   {
    "duration": 33,
    "start_time": "2022-08-22T17:03:57.258Z"
   },
   {
    "duration": 3,
    "start_time": "2022-08-22T17:05:06.363Z"
   },
   {
    "duration": 39,
    "start_time": "2022-08-22T17:05:06.690Z"
   },
   {
    "duration": 3,
    "start_time": "2022-08-22T17:06:10.570Z"
   },
   {
    "duration": 122,
    "start_time": "2022-08-22T17:06:11.028Z"
   },
   {
    "duration": 2,
    "start_time": "2022-08-22T17:06:20.395Z"
   },
   {
    "duration": 38,
    "start_time": "2022-08-22T17:06:21.114Z"
   },
   {
    "duration": 3,
    "start_time": "2022-08-22T17:06:28.226Z"
   },
   {
    "duration": 6063,
    "start_time": "2022-08-22T17:06:28.562Z"
   },
   {
    "duration": 3,
    "start_time": "2022-08-22T17:07:39.642Z"
   },
   {
    "duration": 43,
    "start_time": "2022-08-22T17:07:45.853Z"
   },
   {
    "duration": 4,
    "start_time": "2022-08-22T17:08:17.442Z"
   },
   {
    "duration": 38,
    "start_time": "2022-08-22T17:08:17.868Z"
   },
   {
    "duration": 3,
    "start_time": "2022-08-22T17:21:17.114Z"
   },
   {
    "duration": 14,
    "start_time": "2022-08-22T17:21:17.580Z"
   },
   {
    "duration": 2,
    "start_time": "2022-08-22T17:22:49.395Z"
   },
   {
    "duration": 18,
    "start_time": "2022-08-22T17:22:49.819Z"
   },
   {
    "duration": 3,
    "start_time": "2022-08-22T17:23:11.554Z"
   },
   {
    "duration": 219,
    "start_time": "2022-08-22T17:23:12.193Z"
   },
   {
    "duration": 3,
    "start_time": "2022-08-22T17:24:08.580Z"
   },
   {
    "duration": 95,
    "start_time": "2022-08-22T17:24:09.004Z"
   },
   {
    "duration": 3,
    "start_time": "2022-08-22T17:24:25.628Z"
   },
   {
    "duration": 18,
    "start_time": "2022-08-22T17:24:26.108Z"
   },
   {
    "duration": 2,
    "start_time": "2022-08-22T17:24:38.517Z"
   },
   {
    "duration": 17,
    "start_time": "2022-08-22T17:24:38.884Z"
   },
   {
    "duration": 2,
    "start_time": "2022-08-22T17:24:43.829Z"
   },
   {
    "duration": 16,
    "start_time": "2022-08-22T17:24:44.290Z"
   },
   {
    "duration": 3,
    "start_time": "2022-08-22T17:24:47.205Z"
   },
   {
    "duration": 102,
    "start_time": "2022-08-22T17:24:47.740Z"
   },
   {
    "duration": 2,
    "start_time": "2022-08-22T17:24:51.813Z"
   },
   {
    "duration": 16,
    "start_time": "2022-08-22T17:24:52.349Z"
   },
   {
    "duration": 3,
    "start_time": "2022-08-22T17:33:57.963Z"
   },
   {
    "duration": 102,
    "start_time": "2022-08-22T17:33:59.220Z"
   },
   {
    "duration": 2,
    "start_time": "2022-08-22T17:34:25.241Z"
   },
   {
    "duration": 100,
    "start_time": "2022-08-22T17:34:25.706Z"
   },
   {
    "duration": 3,
    "start_time": "2022-08-22T17:35:08.396Z"
   },
   {
    "duration": 3,
    "start_time": "2022-08-22T17:35:09.405Z"
   },
   {
    "duration": 2,
    "start_time": "2022-08-22T17:35:11.229Z"
   },
   {
    "duration": 2750,
    "start_time": "2022-08-22T17:35:11.701Z"
   },
   {
    "duration": 3,
    "start_time": "2022-08-22T17:35:18.420Z"
   },
   {
    "duration": 2499,
    "start_time": "2022-08-22T17:35:18.805Z"
   },
   {
    "duration": 2,
    "start_time": "2022-08-22T17:35:43.413Z"
   },
   {
    "duration": 221,
    "start_time": "2022-08-22T17:35:43.975Z"
   },
   {
    "duration": 3,
    "start_time": "2022-08-22T17:35:57.413Z"
   },
   {
    "duration": 278,
    "start_time": "2022-08-22T17:35:57.975Z"
   },
   {
    "duration": 3,
    "start_time": "2022-08-22T17:36:28.849Z"
   },
   {
    "duration": 227,
    "start_time": "2022-08-22T17:36:29.285Z"
   },
   {
    "duration": 2,
    "start_time": "2022-08-22T17:38:07.081Z"
   },
   {
    "duration": 20,
    "start_time": "2022-08-22T17:38:07.361Z"
   },
   {
    "duration": 3,
    "start_time": "2022-08-22T17:39:10.016Z"
   },
   {
    "duration": 97,
    "start_time": "2022-08-22T17:39:10.480Z"
   },
   {
    "duration": 2,
    "start_time": "2022-08-22T17:39:21.903Z"
   },
   {
    "duration": 15,
    "start_time": "2022-08-22T17:39:22.351Z"
   },
   {
    "duration": 3,
    "start_time": "2022-08-22T17:40:16.286Z"
   },
   {
    "duration": 20,
    "start_time": "2022-08-22T17:40:16.873Z"
   },
   {
    "duration": 3,
    "start_time": "2022-08-22T17:40:30.585Z"
   },
   {
    "duration": 301,
    "start_time": "2022-08-22T17:40:32.155Z"
   },
   {
    "duration": 2,
    "start_time": "2022-08-22T17:40:48.058Z"
   },
   {
    "duration": 16,
    "start_time": "2022-08-22T17:40:48.483Z"
   },
   {
    "duration": 3,
    "start_time": "2022-08-22T17:41:57.416Z"
   },
   {
    "duration": 96,
    "start_time": "2022-08-22T17:41:57.754Z"
   },
   {
    "duration": 2,
    "start_time": "2022-08-22T17:42:08.379Z"
   },
   {
    "duration": 122,
    "start_time": "2022-08-22T17:42:08.716Z"
   },
   {
    "duration": 2,
    "start_time": "2022-08-22T17:42:14.257Z"
   },
   {
    "duration": 103,
    "start_time": "2022-08-22T17:42:14.529Z"
   },
   {
    "duration": 3,
    "start_time": "2022-08-22T17:44:04.389Z"
   },
   {
    "duration": 19,
    "start_time": "2022-08-22T17:44:04.839Z"
   },
   {
    "duration": 3,
    "start_time": "2022-08-22T17:44:39.995Z"
   },
   {
    "duration": 99,
    "start_time": "2022-08-22T17:44:40.342Z"
   },
   {
    "duration": 3,
    "start_time": "2022-08-22T17:44:50.009Z"
   },
   {
    "duration": 17,
    "start_time": "2022-08-22T17:44:50.348Z"
   },
   {
    "duration": 2,
    "start_time": "2022-08-22T17:44:56.010Z"
   },
   {
    "duration": 62,
    "start_time": "2022-08-22T17:44:56.260Z"
   },
   {
    "duration": 12,
    "start_time": "2022-08-22T17:46:18.737Z"
   },
   {
    "duration": 6,
    "start_time": "2022-08-22T17:47:04.622Z"
   },
   {
    "duration": 11,
    "start_time": "2022-08-22T17:47:26.971Z"
   },
   {
    "duration": 5,
    "start_time": "2022-08-22T17:47:27.357Z"
   },
   {
    "duration": 10,
    "start_time": "2022-08-22T17:47:42.461Z"
   },
   {
    "duration": 6,
    "start_time": "2022-08-22T17:47:44.701Z"
   },
   {
    "duration": 9,
    "start_time": "2022-08-22T17:47:53.676Z"
   },
   {
    "duration": 3,
    "start_time": "2022-08-22T17:47:54.144Z"
   },
   {
    "duration": 3,
    "start_time": "2022-08-22T17:48:28.030Z"
   },
   {
    "duration": 9,
    "start_time": "2022-08-22T17:48:56.398Z"
   },
   {
    "duration": 14,
    "start_time": "2022-08-22T17:48:59.604Z"
   },
   {
    "duration": 3,
    "start_time": "2022-08-22T17:49:01.439Z"
   },
   {
    "duration": 5,
    "start_time": "2022-08-22T17:49:01.880Z"
   },
   {
    "duration": 4,
    "start_time": "2022-08-22T17:49:10.807Z"
   },
   {
    "duration": 3,
    "start_time": "2022-08-22T17:49:19.729Z"
   },
   {
    "duration": 2,
    "start_time": "2022-08-22T17:53:38.291Z"
   },
   {
    "duration": 100,
    "start_time": "2022-08-22T17:53:50.310Z"
   },
   {
    "duration": 2,
    "start_time": "2022-08-22T17:54:27.193Z"
   },
   {
    "duration": 3,
    "start_time": "2022-08-22T17:54:41.442Z"
   },
   {
    "duration": 95,
    "start_time": "2022-08-22T17:54:42.121Z"
   },
   {
    "duration": 2,
    "start_time": "2022-08-22T17:54:49.554Z"
   },
   {
    "duration": 133,
    "start_time": "2022-08-22T17:54:49.929Z"
   },
   {
    "duration": 2,
    "start_time": "2022-08-22T17:55:00.532Z"
   },
   {
    "duration": 98,
    "start_time": "2022-08-22T17:55:01.006Z"
   },
   {
    "duration": 2,
    "start_time": "2022-08-22T17:55:31.861Z"
   },
   {
    "duration": 96,
    "start_time": "2022-08-22T17:55:32.258Z"
   },
   {
    "duration": 2,
    "start_time": "2022-08-22T17:55:42.397Z"
   },
   {
    "duration": 17,
    "start_time": "2022-08-22T17:55:42.657Z"
   },
   {
    "duration": 3,
    "start_time": "2022-08-22T17:56:51.595Z"
   },
   {
    "duration": 102,
    "start_time": "2022-08-22T17:56:53.097Z"
   },
   {
    "duration": 3,
    "start_time": "2022-08-22T17:57:18.250Z"
   },
   {
    "duration": 14,
    "start_time": "2022-08-22T17:57:18.708Z"
   },
   {
    "duration": 3,
    "start_time": "2022-08-22T17:57:33.078Z"
   },
   {
    "duration": 105,
    "start_time": "2022-08-22T17:57:33.780Z"
   },
   {
    "duration": 3,
    "start_time": "2022-08-22T17:57:44.186Z"
   },
   {
    "duration": 237,
    "start_time": "2022-08-22T17:57:44.663Z"
   },
   {
    "duration": 3,
    "start_time": "2022-08-22T18:00:14.345Z"
   },
   {
    "duration": 97,
    "start_time": "2022-08-22T18:00:15.656Z"
   },
   {
    "duration": 4,
    "start_time": "2022-08-22T18:01:06.729Z"
   },
   {
    "duration": 15,
    "start_time": "2022-08-22T18:01:07.045Z"
   },
   {
    "duration": 3,
    "start_time": "2022-08-22T18:02:16.642Z"
   },
   {
    "duration": 98,
    "start_time": "2022-08-22T18:02:17.021Z"
   },
   {
    "duration": 3,
    "start_time": "2022-08-22T18:02:22.798Z"
   },
   {
    "duration": 17,
    "start_time": "2022-08-22T18:02:23.278Z"
   },
   {
    "duration": 3,
    "start_time": "2022-08-22T18:02:50.623Z"
   },
   {
    "duration": 94,
    "start_time": "2022-08-22T18:02:50.862Z"
   },
   {
    "duration": 3,
    "start_time": "2022-08-22T18:03:15.749Z"
   },
   {
    "duration": 18,
    "start_time": "2022-08-22T18:03:17.929Z"
   },
   {
    "duration": 3,
    "start_time": "2022-08-22T18:03:26.287Z"
   },
   {
    "duration": 16,
    "start_time": "2022-08-22T18:03:27.269Z"
   },
   {
    "duration": 3,
    "start_time": "2022-08-22T18:04:11.400Z"
   },
   {
    "duration": 17,
    "start_time": "2022-08-22T18:04:11.714Z"
   },
   {
    "duration": 16,
    "start_time": "2022-08-22T18:04:54.991Z"
   },
   {
    "duration": 3,
    "start_time": "2022-08-22T18:05:25.985Z"
   },
   {
    "duration": 4,
    "start_time": "2022-08-22T18:05:30.212Z"
   },
   {
    "duration": 75,
    "start_time": "2022-08-22T18:06:22.586Z"
   },
   {
    "duration": 3,
    "start_time": "2022-08-22T18:06:45.381Z"
   },
   {
    "duration": 3,
    "start_time": "2022-08-22T18:06:59.032Z"
   },
   {
    "duration": 17,
    "start_time": "2022-08-22T18:07:03.322Z"
   },
   {
    "duration": 2,
    "start_time": "2022-08-22T18:07:03.621Z"
   },
   {
    "duration": 4,
    "start_time": "2022-08-22T18:07:04.286Z"
   },
   {
    "duration": 3,
    "start_time": "2022-08-22T18:09:17.361Z"
   },
   {
    "duration": 19,
    "start_time": "2022-08-22T18:09:31.331Z"
   },
   {
    "duration": 2,
    "start_time": "2022-08-22T18:11:42.020Z"
   },
   {
    "duration": 98,
    "start_time": "2022-08-22T18:11:42.793Z"
   },
   {
    "duration": 3,
    "start_time": "2022-08-22T18:11:49.257Z"
   },
   {
    "duration": 114,
    "start_time": "2022-08-22T18:11:50.221Z"
   },
   {
    "duration": 3,
    "start_time": "2022-08-22T18:12:03.885Z"
   },
   {
    "duration": 147,
    "start_time": "2022-08-22T18:12:04.101Z"
   },
   {
    "duration": 3,
    "start_time": "2022-08-22T18:12:09.234Z"
   },
   {
    "duration": 137,
    "start_time": "2022-08-22T18:12:09.336Z"
   },
   {
    "duration": 3,
    "start_time": "2022-08-22T18:12:19.620Z"
   },
   {
    "duration": 36,
    "start_time": "2022-08-22T18:12:19.821Z"
   },
   {
    "duration": 3,
    "start_time": "2022-08-22T18:13:24.980Z"
   },
   {
    "duration": 92,
    "start_time": "2022-08-22T18:13:25.306Z"
   },
   {
    "duration": 2,
    "start_time": "2022-08-22T18:13:39.773Z"
   },
   {
    "duration": 103,
    "start_time": "2022-08-22T18:13:40.022Z"
   },
   {
    "duration": 2,
    "start_time": "2022-08-22T18:14:06.301Z"
   },
   {
    "duration": 98,
    "start_time": "2022-08-22T18:14:06.885Z"
   },
   {
    "duration": 2,
    "start_time": "2022-08-22T18:14:15.244Z"
   },
   {
    "duration": 119,
    "start_time": "2022-08-22T18:14:15.540Z"
   },
   {
    "duration": 2,
    "start_time": "2022-08-22T18:14:54.044Z"
   },
   {
    "duration": 116,
    "start_time": "2022-08-22T18:14:54.335Z"
   },
   {
    "duration": 3,
    "start_time": "2022-08-22T18:15:13.352Z"
   },
   {
    "duration": 181,
    "start_time": "2022-08-22T18:15:13.676Z"
   },
   {
    "duration": 3,
    "start_time": "2022-08-22T18:15:28.550Z"
   },
   {
    "duration": 93,
    "start_time": "2022-08-22T18:15:28.783Z"
   },
   {
    "duration": 3,
    "start_time": "2022-08-22T18:17:05.672Z"
   },
   {
    "duration": 15,
    "start_time": "2022-08-22T18:17:06.070Z"
   },
   {
    "duration": 4,
    "start_time": "2022-08-22T18:17:06.590Z"
   },
   {
    "duration": 3,
    "start_time": "2022-08-22T18:17:07.078Z"
   },
   {
    "duration": 3,
    "start_time": "2022-08-22T18:20:06.399Z"
   },
   {
    "duration": 215,
    "start_time": "2022-08-22T18:20:06.771Z"
   },
   {
    "duration": 3,
    "start_time": "2022-08-22T18:20:22.544Z"
   },
   {
    "duration": 19,
    "start_time": "2022-08-22T18:20:22.874Z"
   },
   {
    "duration": 3,
    "start_time": "2022-08-22T18:20:34.758Z"
   },
   {
    "duration": 20,
    "start_time": "2022-08-22T18:20:35.104Z"
   },
   {
    "duration": 3,
    "start_time": "2022-08-22T18:21:04.584Z"
   },
   {
    "duration": 174,
    "start_time": "2022-08-22T18:21:04.863Z"
   },
   {
    "duration": 3,
    "start_time": "2022-08-22T18:21:14.663Z"
   },
   {
    "duration": 23,
    "start_time": "2022-08-22T18:21:15.029Z"
   },
   {
    "duration": 73,
    "start_time": "2022-08-22T18:22:29.520Z"
   },
   {
    "duration": 100,
    "start_time": "2022-08-22T18:26:18.997Z"
   },
   {
    "duration": 4,
    "start_time": "2022-08-22T18:28:48.088Z"
   },
   {
    "duration": 96,
    "start_time": "2022-08-22T18:28:49.485Z"
   },
   {
    "duration": 2,
    "start_time": "2022-08-22T18:28:52.756Z"
   },
   {
    "duration": 22,
    "start_time": "2022-08-22T18:28:53.067Z"
   },
   {
    "duration": 2,
    "start_time": "2022-08-22T18:29:31.592Z"
   },
   {
    "duration": 21,
    "start_time": "2022-08-22T18:29:32.222Z"
   },
   {
    "duration": 2,
    "start_time": "2022-08-22T18:30:22.089Z"
   },
   {
    "duration": 21,
    "start_time": "2022-08-22T18:30:22.570Z"
   },
   {
    "duration": 2,
    "start_time": "2022-08-22T18:31:03.468Z"
   },
   {
    "duration": 70,
    "start_time": "2022-08-22T18:31:04.014Z"
   },
   {
    "duration": 102,
    "start_time": "2022-08-22T18:31:14.642Z"
   },
   {
    "duration": 3,
    "start_time": "2022-08-22T18:32:11.929Z"
   },
   {
    "duration": 130,
    "start_time": "2022-08-22T18:32:12.511Z"
   },
   {
    "duration": 119,
    "start_time": "2022-08-22T18:32:13.000Z"
   },
   {
    "duration": 4,
    "start_time": "2022-08-22T18:33:02.051Z"
   },
   {
    "duration": 25,
    "start_time": "2022-08-22T18:33:02.510Z"
   },
   {
    "duration": 3,
    "start_time": "2022-08-22T18:33:04.669Z"
   },
   {
    "duration": 88,
    "start_time": "2022-08-22T18:33:05.231Z"
   },
   {
    "duration": 118,
    "start_time": "2022-08-22T18:33:05.932Z"
   },
   {
    "duration": 3,
    "start_time": "2022-08-22T18:33:43.295Z"
   },
   {
    "duration": 108,
    "start_time": "2022-08-22T18:33:44.809Z"
   },
   {
    "duration": 3,
    "start_time": "2022-08-22T18:33:59.453Z"
   },
   {
    "duration": 77,
    "start_time": "2022-08-22T18:33:59.806Z"
   },
   {
    "duration": 22,
    "start_time": "2022-08-22T18:34:00.191Z"
   },
   {
    "duration": 4,
    "start_time": "2022-08-22T18:50:14.272Z"
   },
   {
    "duration": 3,
    "start_time": "2022-08-22T18:50:15.377Z"
   },
   {
    "duration": 136,
    "start_time": "2022-08-22T18:50:17.486Z"
   },
   {
    "duration": 3,
    "start_time": "2022-08-22T18:51:30.331Z"
   },
   {
    "duration": 102,
    "start_time": "2022-08-22T18:51:31.812Z"
   },
   {
    "duration": 3,
    "start_time": "2022-08-22T18:52:18.689Z"
   },
   {
    "duration": 20,
    "start_time": "2022-08-22T18:52:20.133Z"
   },
   {
    "duration": 3,
    "start_time": "2022-08-22T18:52:44.708Z"
   },
   {
    "duration": 20,
    "start_time": "2022-08-22T18:52:46.040Z"
   },
   {
    "duration": 3,
    "start_time": "2022-08-22T18:55:15.206Z"
   },
   {
    "duration": 100,
    "start_time": "2022-08-22T18:55:16.268Z"
   },
   {
    "duration": 3,
    "start_time": "2022-08-22T18:56:12.901Z"
   },
   {
    "duration": 29,
    "start_time": "2022-08-22T18:56:13.485Z"
   },
   {
    "duration": 4,
    "start_time": "2022-08-22T18:56:21.261Z"
   },
   {
    "duration": 18,
    "start_time": "2022-08-22T18:56:22.669Z"
   },
   {
    "duration": 22,
    "start_time": "2022-08-22T18:56:24.269Z"
   },
   {
    "duration": 3,
    "start_time": "2022-08-22T18:57:46.336Z"
   },
   {
    "duration": 110,
    "start_time": "2022-08-22T18:57:46.590Z"
   },
   {
    "duration": 2,
    "start_time": "2022-08-22T18:57:56.989Z"
   },
   {
    "duration": 96,
    "start_time": "2022-08-22T18:57:57.374Z"
   },
   {
    "duration": 3,
    "start_time": "2022-08-22T18:58:01.342Z"
   },
   {
    "duration": 112,
    "start_time": "2022-08-22T18:58:01.821Z"
   },
   {
    "duration": 3,
    "start_time": "2022-08-22T18:58:45.118Z"
   },
   {
    "duration": 111,
    "start_time": "2022-08-22T18:58:46.766Z"
   },
   {
    "duration": 2,
    "start_time": "2022-08-22T18:59:00.905Z"
   },
   {
    "duration": 101,
    "start_time": "2022-08-22T18:59:01.335Z"
   },
   {
    "duration": 4,
    "start_time": "2022-08-22T18:59:06.466Z"
   },
   {
    "duration": 98,
    "start_time": "2022-08-22T18:59:06.812Z"
   },
   {
    "duration": 2,
    "start_time": "2022-08-22T18:59:14.591Z"
   },
   {
    "duration": 101,
    "start_time": "2022-08-22T18:59:14.872Z"
   },
   {
    "duration": 3,
    "start_time": "2022-08-22T18:59:19.086Z"
   },
   {
    "duration": 95,
    "start_time": "2022-08-22T18:59:19.334Z"
   },
   {
    "duration": 120,
    "start_time": "2022-08-22T19:29:07.727Z"
   },
   {
    "duration": 129,
    "start_time": "2022-08-22T19:29:10.995Z"
   },
   {
    "duration": 3,
    "start_time": "2022-08-22T19:41:48.907Z"
   },
   {
    "duration": 15,
    "start_time": "2022-08-22T19:41:50.589Z"
   },
   {
    "duration": 2,
    "start_time": "2022-08-22T19:42:47.624Z"
   },
   {
    "duration": 14,
    "start_time": "2022-08-22T19:42:48.270Z"
   },
   {
    "duration": 3,
    "start_time": "2022-08-22T19:43:02.337Z"
   },
   {
    "duration": 14,
    "start_time": "2022-08-22T19:43:03.001Z"
   },
   {
    "duration": 3,
    "start_time": "2022-08-22T19:43:29.525Z"
   },
   {
    "duration": 15,
    "start_time": "2022-08-22T19:43:29.919Z"
   },
   {
    "duration": 8,
    "start_time": "2022-08-22T19:45:02.954Z"
   },
   {
    "duration": 3,
    "start_time": "2022-08-22T19:45:04.436Z"
   },
   {
    "duration": 119,
    "start_time": "2022-08-22T19:45:05.002Z"
   },
   {
    "duration": 3,
    "start_time": "2022-08-22T19:45:09.650Z"
   },
   {
    "duration": 14,
    "start_time": "2022-08-22T19:45:10.090Z"
   },
   {
    "duration": 3,
    "start_time": "2022-08-22T19:46:31.249Z"
   },
   {
    "duration": 149,
    "start_time": "2022-08-22T19:46:31.818Z"
   },
   {
    "duration": 3,
    "start_time": "2022-08-22T19:46:36.517Z"
   },
   {
    "duration": 114,
    "start_time": "2022-08-22T19:46:37.066Z"
   },
   {
    "duration": 3,
    "start_time": "2022-08-22T19:47:43.819Z"
   },
   {
    "duration": 99,
    "start_time": "2022-08-22T19:47:44.656Z"
   },
   {
    "duration": 3,
    "start_time": "2022-08-22T19:47:48.251Z"
   },
   {
    "duration": 14,
    "start_time": "2022-08-22T19:47:48.827Z"
   },
   {
    "duration": 3,
    "start_time": "2022-08-22T19:48:10.558Z"
   },
   {
    "duration": 136,
    "start_time": "2022-08-22T19:48:11.075Z"
   },
   {
    "duration": 149,
    "start_time": "2022-08-22T19:48:12.789Z"
   },
   {
    "duration": 3,
    "start_time": "2022-08-22T19:48:13.671Z"
   },
   {
    "duration": 3,
    "start_time": "2022-08-22T19:48:18.731Z"
   },
   {
    "duration": 14,
    "start_time": "2022-08-22T19:48:19.157Z"
   },
   {
    "duration": 13,
    "start_time": "2022-08-22T19:48:51.261Z"
   },
   {
    "duration": 3,
    "start_time": "2022-08-22T19:49:20.019Z"
   },
   {
    "duration": 4,
    "start_time": "2022-08-22T19:49:23.301Z"
   },
   {
    "duration": 3,
    "start_time": "2022-08-22T19:50:02.038Z"
   },
   {
    "duration": 2,
    "start_time": "2022-08-22T19:50:44.028Z"
   },
   {
    "duration": 3,
    "start_time": "2022-08-22T19:52:57.887Z"
   },
   {
    "duration": 28,
    "start_time": "2022-08-22T19:52:58.227Z"
   },
   {
    "duration": 3,
    "start_time": "2022-08-22T19:53:13.783Z"
   },
   {
    "duration": 36,
    "start_time": "2022-08-22T19:53:14.079Z"
   },
   {
    "duration": 535,
    "start_time": "2022-08-22T19:55:36.785Z"
   },
   {
    "duration": 8132,
    "start_time": "2022-08-22T19:55:37.322Z"
   },
   {
    "duration": 3,
    "start_time": "2022-08-22T19:55:45.456Z"
   },
   {
    "duration": 99,
    "start_time": "2022-08-22T19:55:45.461Z"
   },
   {
    "duration": 2,
    "start_time": "2022-08-22T19:55:45.562Z"
   },
   {
    "duration": 29,
    "start_time": "2022-08-22T19:55:45.566Z"
   },
   {
    "duration": 3,
    "start_time": "2022-08-22T19:55:45.597Z"
   },
   {
    "duration": 29,
    "start_time": "2022-08-22T19:55:45.602Z"
   },
   {
    "duration": 8,
    "start_time": "2022-08-22T19:55:45.633Z"
   },
   {
    "duration": 20,
    "start_time": "2022-08-22T19:55:45.643Z"
   },
   {
    "duration": 9,
    "start_time": "2022-08-22T19:55:45.665Z"
   },
   {
    "duration": 22,
    "start_time": "2022-08-22T19:55:45.675Z"
   },
   {
    "duration": 3,
    "start_time": "2022-08-22T19:55:45.699Z"
   },
   {
    "duration": 21,
    "start_time": "2022-08-22T19:55:45.704Z"
   },
   {
    "duration": 10,
    "start_time": "2022-08-22T19:55:45.727Z"
   },
   {
    "duration": 9,
    "start_time": "2022-08-22T19:55:45.739Z"
   },
   {
    "duration": 52,
    "start_time": "2022-08-22T19:55:45.750Z"
   },
   {
    "duration": 3,
    "start_time": "2022-08-22T19:55:45.803Z"
   },
   {
    "duration": 14,
    "start_time": "2022-08-22T19:55:45.808Z"
   },
   {
    "duration": 3,
    "start_time": "2022-08-22T19:55:45.824Z"
   },
   {
    "duration": 7,
    "start_time": "2022-08-22T19:55:45.829Z"
   },
   {
    "duration": 5,
    "start_time": "2022-08-22T19:55:45.838Z"
   },
   {
    "duration": 26,
    "start_time": "2022-08-22T19:55:45.845Z"
   },
   {
    "duration": 3,
    "start_time": "2022-08-22T19:55:45.872Z"
   },
   {
    "duration": 9,
    "start_time": "2022-08-22T19:55:45.877Z"
   },
   {
    "duration": 7,
    "start_time": "2022-08-22T19:55:45.887Z"
   },
   {
    "duration": 22,
    "start_time": "2022-08-22T19:55:45.896Z"
   },
   {
    "duration": 4,
    "start_time": "2022-08-22T19:55:45.922Z"
   },
   {
    "duration": 7,
    "start_time": "2022-08-22T19:55:45.928Z"
   },
   {
    "duration": 605,
    "start_time": "2022-08-22T21:10:29.268Z"
   },
   {
    "duration": 12468,
    "start_time": "2022-08-22T21:10:29.875Z"
   },
   {
    "duration": 3,
    "start_time": "2022-08-22T21:10:42.345Z"
   },
   {
    "duration": 98,
    "start_time": "2022-08-22T21:10:42.350Z"
   },
   {
    "duration": 3,
    "start_time": "2022-08-22T21:10:42.452Z"
   },
   {
    "duration": 26,
    "start_time": "2022-08-22T21:10:42.457Z"
   },
   {
    "duration": 21,
    "start_time": "2022-08-22T21:10:42.485Z"
   },
   {
    "duration": 53,
    "start_time": "2022-08-22T21:10:42.509Z"
   },
   {
    "duration": 14,
    "start_time": "2022-08-22T21:10:42.565Z"
   },
   {
    "duration": 37,
    "start_time": "2022-08-22T21:10:42.581Z"
   },
   {
    "duration": 18,
    "start_time": "2022-08-22T21:10:42.621Z"
   },
   {
    "duration": 49,
    "start_time": "2022-08-22T21:10:42.641Z"
   },
   {
    "duration": 4,
    "start_time": "2022-08-22T21:10:42.692Z"
   },
   {
    "duration": 38,
    "start_time": "2022-08-22T21:10:42.700Z"
   },
   {
    "duration": 9,
    "start_time": "2022-08-22T21:10:42.741Z"
   },
   {
    "duration": 19,
    "start_time": "2022-08-22T21:10:42.752Z"
   },
   {
    "duration": 56,
    "start_time": "2022-08-22T21:10:42.773Z"
   },
   {
    "duration": 4,
    "start_time": "2022-08-22T21:10:42.831Z"
   },
   {
    "duration": 24,
    "start_time": "2022-08-22T21:10:42.842Z"
   },
   {
    "duration": 3,
    "start_time": "2022-08-22T21:10:42.868Z"
   },
   {
    "duration": 17,
    "start_time": "2022-08-22T21:10:42.874Z"
   },
   {
    "duration": 15,
    "start_time": "2022-08-22T21:10:42.893Z"
   },
   {
    "duration": 40,
    "start_time": "2022-08-22T21:10:42.910Z"
   },
   {
    "duration": 4,
    "start_time": "2022-08-22T21:10:42.952Z"
   },
   {
    "duration": 32,
    "start_time": "2022-08-22T21:10:42.958Z"
   },
   {
    "duration": 36,
    "start_time": "2022-08-22T21:10:42.992Z"
   },
   {
    "duration": 25,
    "start_time": "2022-08-22T21:10:43.031Z"
   },
   {
    "duration": 5,
    "start_time": "2022-08-22T21:10:43.059Z"
   },
   {
    "duration": 12,
    "start_time": "2022-08-22T21:10:43.067Z"
   },
   {
    "duration": 116,
    "start_time": "2022-08-22T21:11:19.400Z"
   },
   {
    "duration": 31,
    "start_time": "2022-08-22T21:11:43.174Z"
   },
   {
    "duration": 41,
    "start_time": "2022-08-22T21:11:47.432Z"
   },
   {
    "duration": 16,
    "start_time": "2022-08-22T21:23:49.843Z"
   },
   {
    "duration": 3,
    "start_time": "2022-08-22T21:53:16.180Z"
   },
   {
    "duration": 2,
    "start_time": "2022-08-22T21:53:39.230Z"
   },
   {
    "duration": 23,
    "start_time": "2022-08-22T21:53:40.334Z"
   },
   {
    "duration": 31,
    "start_time": "2022-08-22T21:54:34.107Z"
   },
   {
    "duration": 20,
    "start_time": "2022-08-22T21:55:15.148Z"
   },
   {
    "duration": 3,
    "start_time": "2022-08-22T22:03:33.430Z"
   },
   {
    "duration": 33,
    "start_time": "2022-08-22T22:03:35.686Z"
   },
   {
    "duration": 440,
    "start_time": "2022-08-23T04:55:09.655Z"
   },
   {
    "duration": 8259,
    "start_time": "2022-08-23T04:55:10.097Z"
   },
   {
    "duration": 2,
    "start_time": "2022-08-23T04:55:18.358Z"
   },
   {
    "duration": 102,
    "start_time": "2022-08-23T04:55:18.361Z"
   },
   {
    "duration": 15,
    "start_time": "2022-08-23T04:55:18.464Z"
   },
   {
    "duration": 2,
    "start_time": "2022-08-23T04:55:18.481Z"
   },
   {
    "duration": 14,
    "start_time": "2022-08-23T04:55:18.484Z"
   },
   {
    "duration": 13,
    "start_time": "2022-08-23T04:55:18.499Z"
   },
   {
    "duration": 1,
    "start_time": "2022-08-23T04:55:18.514Z"
   },
   {
    "duration": 10,
    "start_time": "2022-08-23T04:55:18.518Z"
   },
   {
    "duration": 11,
    "start_time": "2022-08-23T04:55:18.529Z"
   },
   {
    "duration": 2,
    "start_time": "2022-08-23T04:55:18.541Z"
   },
   {
    "duration": 22,
    "start_time": "2022-08-23T04:55:18.544Z"
   },
   {
    "duration": 21,
    "start_time": "2022-08-23T04:55:18.568Z"
   },
   {
    "duration": 19,
    "start_time": "2022-08-23T04:55:18.590Z"
   },
   {
    "duration": 17,
    "start_time": "2022-08-23T04:55:18.615Z"
   },
   {
    "duration": 18,
    "start_time": "2022-08-23T04:55:18.633Z"
   },
   {
    "duration": 3,
    "start_time": "2022-08-23T04:55:18.652Z"
   },
   {
    "duration": 11,
    "start_time": "2022-08-23T04:55:18.656Z"
   },
   {
    "duration": 3,
    "start_time": "2022-08-23T04:55:18.668Z"
   },
   {
    "duration": 6,
    "start_time": "2022-08-23T04:55:18.672Z"
   },
   {
    "duration": 35,
    "start_time": "2022-08-23T04:55:18.679Z"
   },
   {
    "duration": 2,
    "start_time": "2022-08-23T04:55:18.716Z"
   },
   {
    "duration": 14,
    "start_time": "2022-08-23T04:55:18.719Z"
   },
   {
    "duration": 3,
    "start_time": "2022-08-23T04:55:18.734Z"
   },
   {
    "duration": 5,
    "start_time": "2022-08-23T04:55:18.738Z"
   },
   {
    "duration": 5,
    "start_time": "2022-08-23T04:55:18.744Z"
   },
   {
    "duration": 14,
    "start_time": "2022-08-23T04:55:18.751Z"
   },
   {
    "duration": 3,
    "start_time": "2022-08-23T04:55:18.766Z"
   },
   {
    "duration": 6,
    "start_time": "2022-08-23T04:55:18.770Z"
   },
   {
    "duration": 6,
    "start_time": "2022-08-23T04:55:18.777Z"
   },
   {
    "duration": 30,
    "start_time": "2022-08-23T04:55:18.784Z"
   },
   {
    "duration": 3,
    "start_time": "2022-08-23T04:55:18.815Z"
   },
   {
    "duration": 7,
    "start_time": "2022-08-23T04:55:18.819Z"
   },
   {
    "duration": 2,
    "start_time": "2022-08-23T04:59:49.182Z"
   },
   {
    "duration": 34,
    "start_time": "2022-08-23T04:59:49.733Z"
   },
   {
    "duration": 3,
    "start_time": "2022-08-23T04:59:57.485Z"
   },
   {
    "duration": 31,
    "start_time": "2022-08-23T04:59:57.843Z"
   },
   {
    "duration": 2,
    "start_time": "2022-08-23T05:00:07.614Z"
   },
   {
    "duration": 30,
    "start_time": "2022-08-23T05:00:08.103Z"
   },
   {
    "duration": 2,
    "start_time": "2022-08-23T05:01:05.067Z"
   },
   {
    "duration": 24,
    "start_time": "2022-08-23T05:01:05.446Z"
   },
   {
    "duration": 2,
    "start_time": "2022-08-23T05:01:13.639Z"
   },
   {
    "duration": 30,
    "start_time": "2022-08-23T05:01:14.005Z"
   },
   {
    "duration": 2,
    "start_time": "2022-08-23T05:01:22.855Z"
   },
   {
    "duration": 196,
    "start_time": "2022-08-23T05:01:23.221Z"
   },
   {
    "duration": 2,
    "start_time": "2022-08-23T05:01:38.117Z"
   },
   {
    "duration": 25,
    "start_time": "2022-08-23T05:01:38.437Z"
   },
   {
    "duration": 3,
    "start_time": "2022-08-23T05:01:52.925Z"
   },
   {
    "duration": 64,
    "start_time": "2022-08-23T05:01:53.237Z"
   },
   {
    "duration": 2,
    "start_time": "2022-08-23T05:02:53.695Z"
   },
   {
    "duration": 94,
    "start_time": "2022-08-23T05:02:54.000Z"
   },
   {
    "duration": 2,
    "start_time": "2022-08-23T05:03:15.622Z"
   },
   {
    "duration": 33,
    "start_time": "2022-08-23T05:03:15.950Z"
   },
   {
    "duration": 3,
    "start_time": "2022-08-23T05:03:22.137Z"
   },
   {
    "duration": 33,
    "start_time": "2022-08-23T05:03:22.459Z"
   },
   {
    "duration": 2,
    "start_time": "2022-08-23T05:03:25.111Z"
   },
   {
    "duration": 30,
    "start_time": "2022-08-23T05:03:25.431Z"
   },
   {
    "duration": 2,
    "start_time": "2022-08-23T05:03:30.716Z"
   },
   {
    "duration": 30,
    "start_time": "2022-08-23T05:03:31.064Z"
   },
   {
    "duration": 3,
    "start_time": "2022-08-23T05:03:38.460Z"
   },
   {
    "duration": 26,
    "start_time": "2022-08-23T05:03:38.771Z"
   },
   {
    "duration": 2,
    "start_time": "2022-08-23T05:05:06.856Z"
   },
   {
    "duration": 2,
    "start_time": "2022-08-23T05:05:25.476Z"
   },
   {
    "duration": 23,
    "start_time": "2022-08-23T05:05:25.793Z"
   },
   {
    "duration": 3,
    "start_time": "2022-08-23T05:05:38.978Z"
   },
   {
    "duration": 111,
    "start_time": "2022-08-23T05:05:39.497Z"
   },
   {
    "duration": 3,
    "start_time": "2022-08-23T05:05:42.464Z"
   },
   {
    "duration": 130,
    "start_time": "2022-08-23T05:05:42.776Z"
   },
   {
    "duration": 2,
    "start_time": "2022-08-23T05:06:03.794Z"
   },
   {
    "duration": 21,
    "start_time": "2022-08-23T05:06:04.168Z"
   },
   {
    "duration": 2,
    "start_time": "2022-08-23T05:06:07.835Z"
   },
   {
    "duration": 121,
    "start_time": "2022-08-23T05:06:08.169Z"
   },
   {
    "duration": 2,
    "start_time": "2022-08-23T05:06:10.066Z"
   },
   {
    "duration": 19,
    "start_time": "2022-08-23T05:06:10.336Z"
   },
   {
    "duration": 3,
    "start_time": "2022-08-23T05:10:09.153Z"
   },
   {
    "duration": 125,
    "start_time": "2022-08-23T05:10:09.530Z"
   },
   {
    "duration": 2,
    "start_time": "2022-08-23T05:10:20.636Z"
   },
   {
    "duration": 20,
    "start_time": "2022-08-23T05:10:20.902Z"
   },
   {
    "duration": 3,
    "start_time": "2022-08-23T05:10:31.701Z"
   },
   {
    "duration": 18,
    "start_time": "2022-08-23T05:10:31.997Z"
   },
   {
    "duration": 2,
    "start_time": "2022-08-23T05:12:48.255Z"
   },
   {
    "duration": 15,
    "start_time": "2022-08-23T05:12:49.326Z"
   },
   {
    "duration": 2,
    "start_time": "2022-08-23T05:12:54.326Z"
   },
   {
    "duration": 14,
    "start_time": "2022-08-23T05:12:54.733Z"
   },
   {
    "duration": 21,
    "start_time": "2022-08-23T05:13:32.430Z"
   },
   {
    "duration": 19,
    "start_time": "2022-08-23T05:13:41.004Z"
   },
   {
    "duration": 15,
    "start_time": "2022-08-23T05:13:46.696Z"
   },
   {
    "duration": 441,
    "start_time": "2022-08-23T05:13:58.753Z"
   },
   {
    "duration": 11644,
    "start_time": "2022-08-23T05:13:59.195Z"
   },
   {
    "duration": 3,
    "start_time": "2022-08-23T05:14:10.840Z"
   },
   {
    "duration": 71,
    "start_time": "2022-08-23T05:14:10.845Z"
   },
   {
    "duration": 15,
    "start_time": "2022-08-23T05:14:10.918Z"
   },
   {
    "duration": 13,
    "start_time": "2022-08-23T05:14:10.934Z"
   },
   {
    "duration": 6,
    "start_time": "2022-08-23T05:14:10.948Z"
   },
   {
    "duration": 37,
    "start_time": "2022-08-23T05:14:10.956Z"
   },
   {
    "duration": 14,
    "start_time": "2022-08-23T05:14:10.995Z"
   },
   {
    "duration": 5,
    "start_time": "2022-08-23T05:14:11.011Z"
   },
   {
    "duration": 24,
    "start_time": "2022-08-23T05:14:11.017Z"
   },
   {
    "duration": 14,
    "start_time": "2022-08-23T05:14:11.043Z"
   },
   {
    "duration": 8,
    "start_time": "2022-08-23T05:14:11.059Z"
   },
   {
    "duration": 41,
    "start_time": "2022-08-23T05:14:11.068Z"
   },
   {
    "duration": 26,
    "start_time": "2022-08-23T05:14:11.110Z"
   },
   {
    "duration": 2,
    "start_time": "2022-08-23T05:14:11.138Z"
   },
   {
    "duration": 25,
    "start_time": "2022-08-23T05:14:11.142Z"
   },
   {
    "duration": 19,
    "start_time": "2022-08-23T05:14:11.168Z"
   },
   {
    "duration": 2,
    "start_time": "2022-08-23T05:14:11.189Z"
   },
   {
    "duration": 17,
    "start_time": "2022-08-23T05:14:11.192Z"
   },
   {
    "duration": 3,
    "start_time": "2022-08-23T05:14:11.210Z"
   },
   {
    "duration": 17,
    "start_time": "2022-08-23T05:14:11.214Z"
   },
   {
    "duration": 14,
    "start_time": "2022-08-23T05:14:11.233Z"
   },
   {
    "duration": 6,
    "start_time": "2022-08-23T05:14:11.249Z"
   },
   {
    "duration": 24,
    "start_time": "2022-08-23T05:14:11.257Z"
   },
   {
    "duration": 9,
    "start_time": "2022-08-23T05:14:11.283Z"
   },
   {
    "duration": 12,
    "start_time": "2022-08-23T05:14:11.293Z"
   },
   {
    "duration": 13,
    "start_time": "2022-08-23T05:14:11.308Z"
   },
   {
    "duration": 28,
    "start_time": "2022-08-23T05:14:11.323Z"
   },
   {
    "duration": 3,
    "start_time": "2022-08-23T05:14:11.352Z"
   },
   {
    "duration": 9,
    "start_time": "2022-08-23T05:14:11.356Z"
   },
   {
    "duration": 21,
    "start_time": "2022-08-23T05:14:11.366Z"
   },
   {
    "duration": 24,
    "start_time": "2022-08-23T05:14:11.388Z"
   },
   {
    "duration": 27,
    "start_time": "2022-08-23T05:14:11.413Z"
   },
   {
    "duration": 9,
    "start_time": "2022-08-23T05:14:11.442Z"
   },
   {
    "duration": 50,
    "start_time": "2022-08-23T05:15:17.614Z"
   },
   {
    "duration": 518,
    "start_time": "2022-08-23T05:15:31.096Z"
   },
   {
    "duration": 9406,
    "start_time": "2022-08-23T05:15:31.616Z"
   },
   {
    "duration": 2,
    "start_time": "2022-08-23T05:15:41.024Z"
   },
   {
    "duration": 75,
    "start_time": "2022-08-23T05:15:41.027Z"
   },
   {
    "duration": 18,
    "start_time": "2022-08-23T05:15:41.104Z"
   },
   {
    "duration": 13,
    "start_time": "2022-08-23T05:15:41.123Z"
   },
   {
    "duration": 2,
    "start_time": "2022-08-23T05:15:41.137Z"
   },
   {
    "duration": 14,
    "start_time": "2022-08-23T05:15:41.141Z"
   },
   {
    "duration": 13,
    "start_time": "2022-08-23T05:15:41.156Z"
   },
   {
    "duration": 3,
    "start_time": "2022-08-23T05:15:41.171Z"
   },
   {
    "duration": 33,
    "start_time": "2022-08-23T05:15:41.175Z"
   },
   {
    "duration": 14,
    "start_time": "2022-08-23T05:15:41.210Z"
   },
   {
    "duration": 2,
    "start_time": "2022-08-23T05:15:41.225Z"
   },
   {
    "duration": 29,
    "start_time": "2022-08-23T05:15:41.229Z"
   },
   {
    "duration": 24,
    "start_time": "2022-08-23T05:15:41.259Z"
   },
   {
    "duration": 3,
    "start_time": "2022-08-23T05:15:41.284Z"
   },
   {
    "duration": 33,
    "start_time": "2022-08-23T05:15:41.288Z"
   },
   {
    "duration": 20,
    "start_time": "2022-08-23T05:15:41.323Z"
   },
   {
    "duration": 2,
    "start_time": "2022-08-23T05:15:41.345Z"
   },
   {
    "duration": 14,
    "start_time": "2022-08-23T05:15:41.348Z"
   },
   {
    "duration": 3,
    "start_time": "2022-08-23T05:15:41.363Z"
   },
   {
    "duration": 5,
    "start_time": "2022-08-23T05:15:41.367Z"
   },
   {
    "duration": 20,
    "start_time": "2022-08-23T05:15:41.373Z"
   },
   {
    "duration": 12,
    "start_time": "2022-08-23T05:15:41.394Z"
   },
   {
    "duration": 14,
    "start_time": "2022-08-23T05:15:41.408Z"
   },
   {
    "duration": 2,
    "start_time": "2022-08-23T05:15:41.424Z"
   },
   {
    "duration": 5,
    "start_time": "2022-08-23T05:15:41.428Z"
   },
   {
    "duration": 3,
    "start_time": "2022-08-23T05:15:41.437Z"
   },
   {
    "duration": 19,
    "start_time": "2022-08-23T05:15:41.441Z"
   },
   {
    "duration": 3,
    "start_time": "2022-08-23T05:15:41.462Z"
   },
   {
    "duration": 6,
    "start_time": "2022-08-23T05:15:41.467Z"
   },
   {
    "duration": 6,
    "start_time": "2022-08-23T05:15:41.474Z"
   },
   {
    "duration": 35,
    "start_time": "2022-08-23T05:15:41.482Z"
   },
   {
    "duration": 4,
    "start_time": "2022-08-23T05:15:41.519Z"
   },
   {
    "duration": 4,
    "start_time": "2022-08-23T05:15:41.525Z"
   },
   {
    "duration": 2,
    "start_time": "2022-08-23T05:16:09.387Z"
   },
   {
    "duration": 13,
    "start_time": "2022-08-23T05:16:09.732Z"
   },
   {
    "duration": 2,
    "start_time": "2022-08-23T05:16:20.228Z"
   },
   {
    "duration": 14,
    "start_time": "2022-08-23T05:16:20.740Z"
   },
   {
    "duration": 3,
    "start_time": "2022-08-23T05:16:55.187Z"
   },
   {
    "duration": 13,
    "start_time": "2022-08-23T05:16:55.644Z"
   },
   {
    "duration": 110,
    "start_time": "2022-08-23T05:17:17.172Z"
   },
   {
    "duration": 19,
    "start_time": "2022-08-23T05:17:32.132Z"
   },
   {
    "duration": 22,
    "start_time": "2022-08-23T05:20:33.668Z"
   },
   {
    "duration": 2,
    "start_time": "2022-08-23T05:24:30.696Z"
   },
   {
    "duration": 12,
    "start_time": "2022-08-23T05:24:31.103Z"
   },
   {
    "duration": 2,
    "start_time": "2022-08-23T05:24:35.627Z"
   },
   {
    "duration": 17,
    "start_time": "2022-08-23T05:24:36.264Z"
   },
   {
    "duration": 2,
    "start_time": "2022-08-23T05:24:52.329Z"
   },
   {
    "duration": 110,
    "start_time": "2022-08-23T05:24:52.743Z"
   },
   {
    "duration": 2,
    "start_time": "2022-08-23T05:24:59.343Z"
   },
   {
    "duration": 103,
    "start_time": "2022-08-23T05:24:59.775Z"
   },
   {
    "duration": 3,
    "start_time": "2022-08-23T05:25:07.441Z"
   },
   {
    "duration": 98,
    "start_time": "2022-08-23T05:25:07.898Z"
   },
   {
    "duration": 2,
    "start_time": "2022-08-23T05:25:11.345Z"
   },
   {
    "duration": 24,
    "start_time": "2022-08-23T05:25:11.847Z"
   },
   {
    "duration": 2,
    "start_time": "2022-08-23T05:25:18.456Z"
   },
   {
    "duration": 111,
    "start_time": "2022-08-23T05:25:19.026Z"
   },
   {
    "duration": 2,
    "start_time": "2022-08-23T05:25:34.618Z"
   },
   {
    "duration": 104,
    "start_time": "2022-08-23T05:25:35.128Z"
   },
   {
    "duration": 2,
    "start_time": "2022-08-23T05:25:38.193Z"
   },
   {
    "duration": 126,
    "start_time": "2022-08-23T05:25:38.538Z"
   },
   {
    "duration": 3,
    "start_time": "2022-08-23T05:25:45.551Z"
   },
   {
    "duration": 2,
    "start_time": "2022-08-23T05:35:43.583Z"
   },
   {
    "duration": 293,
    "start_time": "2022-08-23T05:35:45.177Z"
   },
   {
    "duration": 516,
    "start_time": "2022-08-23T05:36:22.009Z"
   },
   {
    "duration": 10173,
    "start_time": "2022-08-23T05:36:22.527Z"
   },
   {
    "duration": 3,
    "start_time": "2022-08-23T05:36:32.701Z"
   },
   {
    "duration": 85,
    "start_time": "2022-08-23T05:36:32.705Z"
   },
   {
    "duration": 17,
    "start_time": "2022-08-23T05:36:32.792Z"
   },
   {
    "duration": 21,
    "start_time": "2022-08-23T05:36:32.811Z"
   },
   {
    "duration": 3,
    "start_time": "2022-08-23T05:36:32.834Z"
   },
   {
    "duration": 21,
    "start_time": "2022-08-23T05:36:32.838Z"
   },
   {
    "duration": 14,
    "start_time": "2022-08-23T05:36:32.861Z"
   },
   {
    "duration": 3,
    "start_time": "2022-08-23T05:36:32.877Z"
   },
   {
    "duration": 25,
    "start_time": "2022-08-23T05:36:32.881Z"
   },
   {
    "duration": 14,
    "start_time": "2022-08-23T05:36:32.908Z"
   },
   {
    "duration": 3,
    "start_time": "2022-08-23T05:36:32.924Z"
   },
   {
    "duration": 28,
    "start_time": "2022-08-23T05:36:32.928Z"
   },
   {
    "duration": 26,
    "start_time": "2022-08-23T05:36:32.958Z"
   },
   {
    "duration": 2,
    "start_time": "2022-08-23T05:36:32.986Z"
   },
   {
    "duration": 35,
    "start_time": "2022-08-23T05:36:32.989Z"
   },
   {
    "duration": 20,
    "start_time": "2022-08-23T05:36:33.025Z"
   },
   {
    "duration": 2,
    "start_time": "2022-08-23T05:36:33.047Z"
   },
   {
    "duration": 15,
    "start_time": "2022-08-23T05:36:33.050Z"
   },
   {
    "duration": 2,
    "start_time": "2022-08-23T05:36:33.067Z"
   },
   {
    "duration": 7,
    "start_time": "2022-08-23T05:36:33.071Z"
   },
   {
    "duration": 171,
    "start_time": "2022-08-23T05:36:33.079Z"
   },
   {
    "duration": 0,
    "start_time": "2022-08-23T05:36:33.252Z"
   },
   {
    "duration": 0,
    "start_time": "2022-08-23T05:36:33.253Z"
   },
   {
    "duration": 0,
    "start_time": "2022-08-23T05:36:33.254Z"
   },
   {
    "duration": 0,
    "start_time": "2022-08-23T05:36:33.255Z"
   },
   {
    "duration": 0,
    "start_time": "2022-08-23T05:36:33.256Z"
   },
   {
    "duration": 0,
    "start_time": "2022-08-23T05:36:33.257Z"
   },
   {
    "duration": 1,
    "start_time": "2022-08-23T05:36:33.257Z"
   },
   {
    "duration": 0,
    "start_time": "2022-08-23T05:36:33.259Z"
   },
   {
    "duration": 0,
    "start_time": "2022-08-23T05:36:33.260Z"
   },
   {
    "duration": 0,
    "start_time": "2022-08-23T05:36:33.261Z"
   },
   {
    "duration": 0,
    "start_time": "2022-08-23T05:36:33.262Z"
   },
   {
    "duration": 0,
    "start_time": "2022-08-23T05:36:33.263Z"
   },
   {
    "duration": 2,
    "start_time": "2022-08-23T05:37:00.758Z"
   },
   {
    "duration": 25,
    "start_time": "2022-08-23T05:37:06.885Z"
   },
   {
    "duration": 2,
    "start_time": "2022-08-23T05:40:25.877Z"
   },
   {
    "duration": 26,
    "start_time": "2022-08-23T05:40:28.046Z"
   },
   {
    "duration": 3,
    "start_time": "2022-08-23T05:41:01.085Z"
   },
   {
    "duration": 24,
    "start_time": "2022-08-23T05:41:03.694Z"
   },
   {
    "duration": 3,
    "start_time": "2022-08-23T05:54:12.285Z"
   },
   {
    "duration": 95,
    "start_time": "2022-08-23T05:54:13.570Z"
   },
   {
    "duration": 497,
    "start_time": "2022-08-23T05:54:32.338Z"
   },
   {
    "duration": 9678,
    "start_time": "2022-08-23T05:54:32.837Z"
   },
   {
    "duration": 2,
    "start_time": "2022-08-23T05:54:42.517Z"
   },
   {
    "duration": 84,
    "start_time": "2022-08-23T05:54:42.521Z"
   },
   {
    "duration": 17,
    "start_time": "2022-08-23T05:54:42.607Z"
   },
   {
    "duration": 2,
    "start_time": "2022-08-23T05:54:42.626Z"
   },
   {
    "duration": 13,
    "start_time": "2022-08-23T05:54:42.630Z"
   },
   {
    "duration": 13,
    "start_time": "2022-08-23T05:54:42.645Z"
   },
   {
    "duration": 13,
    "start_time": "2022-08-23T05:54:42.659Z"
   },
   {
    "duration": 14,
    "start_time": "2022-08-23T05:54:42.675Z"
   },
   {
    "duration": 25,
    "start_time": "2022-08-23T05:54:42.690Z"
   },
   {
    "duration": 7,
    "start_time": "2022-08-23T05:54:42.716Z"
   },
   {
    "duration": 34,
    "start_time": "2022-08-23T05:54:42.724Z"
   },
   {
    "duration": 25,
    "start_time": "2022-08-23T05:54:42.759Z"
   },
   {
    "duration": 3,
    "start_time": "2022-08-23T05:54:42.785Z"
   },
   {
    "duration": 30,
    "start_time": "2022-08-23T05:54:42.789Z"
   },
   {
    "duration": 18,
    "start_time": "2022-08-23T05:54:42.821Z"
   },
   {
    "duration": 2,
    "start_time": "2022-08-23T05:54:42.840Z"
   },
   {
    "duration": 21,
    "start_time": "2022-08-23T05:54:42.844Z"
   },
   {
    "duration": 12,
    "start_time": "2022-08-23T05:54:42.867Z"
   },
   {
    "duration": 8,
    "start_time": "2022-08-23T05:54:42.880Z"
   },
   {
    "duration": 161,
    "start_time": "2022-08-23T05:54:42.890Z"
   },
   {
    "duration": 0,
    "start_time": "2022-08-23T05:54:43.053Z"
   },
   {
    "duration": 0,
    "start_time": "2022-08-23T05:54:43.054Z"
   },
   {
    "duration": 0,
    "start_time": "2022-08-23T05:54:43.055Z"
   },
   {
    "duration": 0,
    "start_time": "2022-08-23T05:54:43.056Z"
   },
   {
    "duration": 0,
    "start_time": "2022-08-23T05:54:43.057Z"
   },
   {
    "duration": 0,
    "start_time": "2022-08-23T05:54:43.058Z"
   },
   {
    "duration": 0,
    "start_time": "2022-08-23T05:54:43.058Z"
   },
   {
    "duration": 0,
    "start_time": "2022-08-23T05:54:43.060Z"
   },
   {
    "duration": 0,
    "start_time": "2022-08-23T05:54:43.061Z"
   },
   {
    "duration": 0,
    "start_time": "2022-08-23T05:54:43.062Z"
   },
   {
    "duration": 0,
    "start_time": "2022-08-23T05:54:43.062Z"
   },
   {
    "duration": 0,
    "start_time": "2022-08-23T05:54:43.064Z"
   },
   {
    "duration": 3,
    "start_time": "2022-08-23T05:55:49.045Z"
   },
   {
    "duration": 3,
    "start_time": "2022-08-23T05:56:33.183Z"
   },
   {
    "duration": 24,
    "start_time": "2022-08-23T05:56:36.925Z"
   },
   {
    "duration": 533,
    "start_time": "2022-08-23T14:56:54.697Z"
   },
   {
    "duration": 6201,
    "start_time": "2022-08-23T14:56:55.232Z"
   },
   {
    "duration": 2,
    "start_time": "2022-08-23T14:57:01.434Z"
   },
   {
    "duration": 282,
    "start_time": "2022-08-23T14:57:01.438Z"
   },
   {
    "duration": 91,
    "start_time": "2022-08-23T14:57:01.721Z"
   },
   {
    "duration": 2,
    "start_time": "2022-08-23T14:57:01.814Z"
   },
   {
    "duration": 88,
    "start_time": "2022-08-23T14:57:01.818Z"
   },
   {
    "duration": 79,
    "start_time": "2022-08-23T14:57:01.908Z"
   },
   {
    "duration": 3,
    "start_time": "2022-08-23T14:57:01.988Z"
   },
   {
    "duration": 89,
    "start_time": "2022-08-23T14:57:01.993Z"
   },
   {
    "duration": 75,
    "start_time": "2022-08-23T14:57:02.083Z"
   },
   {
    "duration": 2,
    "start_time": "2022-08-23T14:57:02.159Z"
   },
   {
    "duration": 117,
    "start_time": "2022-08-23T14:57:02.162Z"
   },
   {
    "duration": 95,
    "start_time": "2022-08-23T14:57:02.280Z"
   },
   {
    "duration": 3,
    "start_time": "2022-08-23T14:57:02.377Z"
   },
   {
    "duration": 85,
    "start_time": "2022-08-23T14:57:02.382Z"
   },
   {
    "duration": 81,
    "start_time": "2022-08-23T14:57:02.468Z"
   },
   {
    "duration": 3,
    "start_time": "2022-08-23T14:57:02.551Z"
   },
   {
    "duration": 76,
    "start_time": "2022-08-23T14:57:02.555Z"
   },
   {
    "duration": 4,
    "start_time": "2022-08-23T14:57:02.632Z"
   },
   {
    "duration": 7,
    "start_time": "2022-08-23T14:57:02.637Z"
   },
   {
    "duration": 105,
    "start_time": "2022-08-23T14:57:02.645Z"
   },
   {
    "duration": 3,
    "start_time": "2022-08-23T14:57:02.751Z"
   },
   {
    "duration": 92,
    "start_time": "2022-08-23T14:57:02.756Z"
   },
   {
    "duration": 4,
    "start_time": "2022-08-23T14:57:02.849Z"
   },
   {
    "duration": 14,
    "start_time": "2022-08-23T14:57:02.854Z"
   },
   {
    "duration": 11,
    "start_time": "2022-08-23T14:57:02.869Z"
   },
   {
    "duration": 88,
    "start_time": "2022-08-23T14:57:02.883Z"
   },
   {
    "duration": 3,
    "start_time": "2022-08-23T14:57:02.973Z"
   },
   {
    "duration": 6,
    "start_time": "2022-08-23T14:57:02.978Z"
   },
   {
    "duration": 14,
    "start_time": "2022-08-23T14:57:02.986Z"
   },
   {
    "duration": 80,
    "start_time": "2022-08-23T14:57:03.001Z"
   },
   {
    "duration": 4,
    "start_time": "2022-08-23T14:57:03.082Z"
   },
   {
    "duration": 6,
    "start_time": "2022-08-23T14:57:03.087Z"
   },
   {
    "duration": 58,
    "start_time": "2022-08-23T18:30:52.750Z"
   },
   {
    "duration": 44,
    "start_time": "2022-08-23T18:33:20.047Z"
   },
   {
    "duration": 519,
    "start_time": "2022-08-23T18:33:24.988Z"
   },
   {
    "duration": 4891,
    "start_time": "2022-08-23T18:33:25.508Z"
   },
   {
    "duration": 2,
    "start_time": "2022-08-23T18:33:30.400Z"
   },
   {
    "duration": 276,
    "start_time": "2022-08-23T18:33:30.404Z"
   },
   {
    "duration": 84,
    "start_time": "2022-08-23T18:33:30.681Z"
   },
   {
    "duration": 2,
    "start_time": "2022-08-23T18:33:30.766Z"
   },
   {
    "duration": 75,
    "start_time": "2022-08-23T18:33:30.769Z"
   },
   {
    "duration": 71,
    "start_time": "2022-08-23T18:33:30.846Z"
   },
   {
    "duration": 2,
    "start_time": "2022-08-23T18:33:30.919Z"
   },
   {
    "duration": 86,
    "start_time": "2022-08-23T18:33:30.923Z"
   },
   {
    "duration": 71,
    "start_time": "2022-08-23T18:33:31.010Z"
   },
   {
    "duration": 3,
    "start_time": "2022-08-23T18:33:31.082Z"
   },
   {
    "duration": 94,
    "start_time": "2022-08-23T18:33:31.086Z"
   },
   {
    "duration": 80,
    "start_time": "2022-08-23T18:33:31.182Z"
   },
   {
    "duration": 3,
    "start_time": "2022-08-23T18:33:31.263Z"
   },
   {
    "duration": 89,
    "start_time": "2022-08-23T18:33:31.267Z"
   },
   {
    "duration": 76,
    "start_time": "2022-08-23T18:33:31.357Z"
   },
   {
    "duration": 2,
    "start_time": "2022-08-23T18:33:31.435Z"
   },
   {
    "duration": 79,
    "start_time": "2022-08-23T18:33:31.438Z"
   },
   {
    "duration": 3,
    "start_time": "2022-08-23T18:33:31.518Z"
   },
   {
    "duration": 12,
    "start_time": "2022-08-23T18:33:31.522Z"
   },
   {
    "duration": 89,
    "start_time": "2022-08-23T18:33:31.536Z"
   },
   {
    "duration": 2,
    "start_time": "2022-08-23T18:33:31.627Z"
   },
   {
    "duration": 75,
    "start_time": "2022-08-23T18:33:31.631Z"
   },
   {
    "duration": 2,
    "start_time": "2022-08-23T18:33:31.708Z"
   },
   {
    "duration": 7,
    "start_time": "2022-08-23T18:33:31.711Z"
   },
   {
    "duration": 8,
    "start_time": "2022-08-23T18:33:31.720Z"
   },
   {
    "duration": 75,
    "start_time": "2022-08-23T18:33:31.730Z"
   },
   {
    "duration": 2,
    "start_time": "2022-08-23T18:33:31.807Z"
   },
   {
    "duration": 8,
    "start_time": "2022-08-23T18:33:31.810Z"
   },
   {
    "duration": 3,
    "start_time": "2022-08-23T18:33:31.820Z"
   },
   {
    "duration": 77,
    "start_time": "2022-08-23T18:33:31.824Z"
   },
   {
    "duration": 4,
    "start_time": "2022-08-23T18:33:31.902Z"
   },
   {
    "duration": 6,
    "start_time": "2022-08-23T18:33:31.908Z"
   },
   {
    "duration": 101,
    "start_time": "2022-08-23T18:37:06.282Z"
   },
   {
    "duration": 3,
    "start_time": "2022-08-23T18:38:24.217Z"
   },
   {
    "duration": 98,
    "start_time": "2022-08-23T18:38:24.643Z"
   },
   {
    "duration": 71,
    "start_time": "2022-08-23T18:40:03.226Z"
   },
   {
    "duration": 3,
    "start_time": "2022-08-23T18:40:20.425Z"
   },
   {
    "duration": 122,
    "start_time": "2022-08-23T18:40:20.855Z"
   },
   {
    "duration": 3,
    "start_time": "2022-08-23T18:41:34.580Z"
   },
   {
    "duration": 120,
    "start_time": "2022-08-23T18:41:34.811Z"
   },
   {
    "duration": 3,
    "start_time": "2022-08-23T18:43:01.388Z"
   },
   {
    "duration": 120,
    "start_time": "2022-08-23T18:43:01.772Z"
   },
   {
    "duration": 3,
    "start_time": "2022-08-23T18:43:15.108Z"
   },
   {
    "duration": 126,
    "start_time": "2022-08-23T18:43:15.405Z"
   },
   {
    "duration": 3,
    "start_time": "2022-08-23T18:44:18.868Z"
   },
   {
    "duration": 493,
    "start_time": "2022-08-23T18:44:19.364Z"
   },
   {
    "duration": 2,
    "start_time": "2022-08-23T18:44:34.756Z"
   },
   {
    "duration": 446,
    "start_time": "2022-08-23T18:44:35.140Z"
   },
   {
    "duration": 3,
    "start_time": "2022-08-23T18:45:19.756Z"
   },
   {
    "duration": 121,
    "start_time": "2022-08-23T18:45:20.141Z"
   },
   {
    "duration": 2,
    "start_time": "2022-08-23T18:45:26.885Z"
   },
   {
    "duration": 123,
    "start_time": "2022-08-23T18:45:27.320Z"
   },
   {
    "duration": 3,
    "start_time": "2022-08-23T18:45:42.789Z"
   },
   {
    "duration": 123,
    "start_time": "2022-08-23T18:45:43.119Z"
   },
   {
    "duration": 4,
    "start_time": "2022-08-23T18:46:02.742Z"
   },
   {
    "duration": 124,
    "start_time": "2022-08-23T18:46:03.072Z"
   },
   {
    "duration": 3,
    "start_time": "2022-08-23T18:46:15.836Z"
   },
   {
    "duration": 118,
    "start_time": "2022-08-23T18:46:16.214Z"
   },
   {
    "duration": 4,
    "start_time": "2022-08-23T18:46:22.766Z"
   },
   {
    "duration": 120,
    "start_time": "2022-08-23T18:46:23.135Z"
   },
   {
    "duration": 2,
    "start_time": "2022-08-23T18:46:31.599Z"
   },
   {
    "duration": 124,
    "start_time": "2022-08-23T18:46:31.904Z"
   },
   {
    "duration": 3,
    "start_time": "2022-08-23T18:46:46.573Z"
   },
   {
    "duration": 121,
    "start_time": "2022-08-23T18:46:46.956Z"
   },
   {
    "duration": 3,
    "start_time": "2022-08-23T18:46:52.437Z"
   },
   {
    "duration": 117,
    "start_time": "2022-08-23T18:46:52.855Z"
   },
   {
    "duration": 3,
    "start_time": "2022-08-23T18:47:07.608Z"
   },
   {
    "duration": 117,
    "start_time": "2022-08-23T18:47:07.874Z"
   },
   {
    "duration": 2,
    "start_time": "2022-08-23T18:47:14.490Z"
   },
   {
    "duration": 146,
    "start_time": "2022-08-23T18:47:14.840Z"
   },
   {
    "duration": 2,
    "start_time": "2022-08-23T18:47:33.888Z"
   },
   {
    "duration": 117,
    "start_time": "2022-08-23T18:47:34.481Z"
   },
   {
    "duration": 3,
    "start_time": "2022-08-23T18:48:09.736Z"
   },
   {
    "duration": 107,
    "start_time": "2022-08-23T18:48:10.540Z"
   },
   {
    "duration": 3,
    "start_time": "2022-08-23T18:48:18.832Z"
   },
   {
    "duration": 76,
    "start_time": "2022-08-23T18:48:19.298Z"
   },
   {
    "duration": 3,
    "start_time": "2022-08-23T18:48:41.103Z"
   },
   {
    "duration": 77,
    "start_time": "2022-08-23T18:48:41.457Z"
   },
   {
    "duration": 2,
    "start_time": "2022-08-23T18:48:47.671Z"
   },
   {
    "duration": 78,
    "start_time": "2022-08-23T18:48:48.008Z"
   },
   {
    "duration": 3,
    "start_time": "2022-08-23T18:49:03.361Z"
   },
   {
    "duration": 80,
    "start_time": "2022-08-23T18:49:03.619Z"
   },
   {
    "duration": 3,
    "start_time": "2022-08-23T18:49:21.631Z"
   },
   {
    "duration": 77,
    "start_time": "2022-08-23T18:49:21.936Z"
   },
   {
    "duration": 3,
    "start_time": "2022-08-23T18:49:28.917Z"
   },
   {
    "duration": 79,
    "start_time": "2022-08-23T18:49:29.272Z"
   },
   {
    "duration": 2,
    "start_time": "2022-08-23T18:50:24.833Z"
   },
   {
    "duration": 122,
    "start_time": "2022-08-23T18:50:25.185Z"
   },
   {
    "duration": 2,
    "start_time": "2022-08-23T18:50:37.937Z"
   },
   {
    "duration": 148,
    "start_time": "2022-08-23T18:50:38.505Z"
   },
   {
    "duration": 2,
    "start_time": "2022-08-23T18:50:43.137Z"
   },
   {
    "duration": 130,
    "start_time": "2022-08-23T18:50:43.461Z"
   },
   {
    "duration": 3,
    "start_time": "2022-08-23T18:50:50.951Z"
   },
   {
    "duration": 120,
    "start_time": "2022-08-23T18:50:51.207Z"
   },
   {
    "duration": 3,
    "start_time": "2022-08-23T18:50:55.967Z"
   },
   {
    "duration": 118,
    "start_time": "2022-08-23T18:50:56.375Z"
   },
   {
    "duration": 2,
    "start_time": "2022-08-23T18:51:23.130Z"
   },
   {
    "duration": 119,
    "start_time": "2022-08-23T18:51:23.450Z"
   },
   {
    "duration": 2,
    "start_time": "2022-08-23T18:51:53.957Z"
   },
   {
    "duration": 145,
    "start_time": "2022-08-23T18:51:54.311Z"
   },
   {
    "duration": 2,
    "start_time": "2022-08-23T18:52:00.561Z"
   },
   {
    "duration": 130,
    "start_time": "2022-08-23T18:52:00.929Z"
   },
   {
    "duration": 2,
    "start_time": "2022-08-23T18:53:28.668Z"
   },
   {
    "duration": 75,
    "start_time": "2022-08-23T18:53:28.991Z"
   },
   {
    "duration": 2,
    "start_time": "2022-08-23T18:53:55.257Z"
   },
   {
    "duration": 85,
    "start_time": "2022-08-23T18:53:55.624Z"
   },
   {
    "duration": 2,
    "start_time": "2022-08-23T18:54:07.761Z"
   },
   {
    "duration": 73,
    "start_time": "2022-08-23T18:54:08.033Z"
   },
   {
    "duration": 2,
    "start_time": "2022-08-23T18:54:25.138Z"
   },
   {
    "duration": 78,
    "start_time": "2022-08-23T18:54:25.457Z"
   },
   {
    "duration": 3,
    "start_time": "2022-08-23T18:54:58.611Z"
   },
   {
    "duration": 109,
    "start_time": "2022-08-23T18:54:59.157Z"
   },
   {
    "duration": 4,
    "start_time": "2022-08-23T18:55:52.564Z"
   },
   {
    "duration": 74,
    "start_time": "2022-08-23T18:55:53.114Z"
   },
   {
    "duration": 5,
    "start_time": "2022-08-23T18:56:26.738Z"
   },
   {
    "duration": 76,
    "start_time": "2022-08-23T18:56:28.307Z"
   },
   {
    "duration": 3,
    "start_time": "2022-08-23T18:56:30.507Z"
   },
   {
    "duration": 75,
    "start_time": "2022-08-23T18:56:31.026Z"
   },
   {
    "duration": 2,
    "start_time": "2022-08-23T18:57:06.534Z"
   },
   {
    "duration": 3,
    "start_time": "2022-08-23T18:57:10.298Z"
   },
   {
    "duration": 87,
    "start_time": "2022-08-23T18:57:10.618Z"
   },
   {
    "duration": 2,
    "start_time": "2022-08-23T18:57:32.973Z"
   },
   {
    "duration": 2,
    "start_time": "2022-08-23T18:57:35.859Z"
   },
   {
    "duration": 86,
    "start_time": "2022-08-23T18:57:36.211Z"
   },
   {
    "duration": 2,
    "start_time": "2022-08-23T18:57:43.962Z"
   },
   {
    "duration": 74,
    "start_time": "2022-08-23T18:57:44.259Z"
   },
   {
    "duration": 3,
    "start_time": "2022-08-23T18:58:36.763Z"
   },
   {
    "duration": 140,
    "start_time": "2022-08-23T18:58:37.107Z"
   },
   {
    "duration": 3,
    "start_time": "2022-08-23T18:58:42.365Z"
   },
   {
    "duration": 3,
    "start_time": "2022-08-23T18:58:44.611Z"
   },
   {
    "duration": 131,
    "start_time": "2022-08-23T18:58:44.947Z"
   },
   {
    "duration": 3,
    "start_time": "2022-08-23T18:59:24.212Z"
   },
   {
    "duration": 119,
    "start_time": "2022-08-23T18:59:24.486Z"
   },
   {
    "duration": 2,
    "start_time": "2022-08-23T19:02:42.058Z"
   },
   {
    "duration": 105,
    "start_time": "2022-08-23T19:02:42.416Z"
   },
   {
    "duration": 3,
    "start_time": "2022-08-23T19:02:49.759Z"
   },
   {
    "duration": 3,
    "start_time": "2022-08-23T19:03:14.776Z"
   },
   {
    "duration": 3,
    "start_time": "2022-08-23T19:03:15.269Z"
   },
   {
    "duration": 74,
    "start_time": "2022-08-23T19:03:15.562Z"
   },
   {
    "duration": 3,
    "start_time": "2022-08-23T19:03:42.126Z"
   },
   {
    "duration": 81,
    "start_time": "2022-08-23T19:03:42.480Z"
   },
   {
    "duration": 3,
    "start_time": "2022-08-23T19:03:59.519Z"
   },
   {
    "duration": 77,
    "start_time": "2022-08-23T19:03:59.751Z"
   },
   {
    "duration": 3,
    "start_time": "2022-08-23T19:04:51.566Z"
   },
   {
    "duration": 164,
    "start_time": "2022-08-23T19:04:52.539Z"
   },
   {
    "duration": 3,
    "start_time": "2022-08-23T19:05:32.608Z"
   },
   {
    "duration": 131,
    "start_time": "2022-08-23T19:05:32.872Z"
   },
   {
    "duration": 2,
    "start_time": "2022-08-23T19:05:39.146Z"
   },
   {
    "duration": 124,
    "start_time": "2022-08-23T19:05:39.446Z"
   },
   {
    "duration": 2,
    "start_time": "2022-08-23T19:05:53.169Z"
   },
   {
    "duration": 137,
    "start_time": "2022-08-23T19:05:53.416Z"
   },
   {
    "duration": 2,
    "start_time": "2022-08-23T19:06:02.851Z"
   },
   {
    "duration": 119,
    "start_time": "2022-08-23T19:06:03.088Z"
   },
   {
    "duration": 3,
    "start_time": "2022-08-23T19:06:23.920Z"
   },
   {
    "duration": 125,
    "start_time": "2022-08-23T19:06:24.207Z"
   },
   {
    "duration": 3,
    "start_time": "2022-08-23T19:06:29.712Z"
   },
   {
    "duration": 138,
    "start_time": "2022-08-23T19:06:29.968Z"
   },
   {
    "duration": 2,
    "start_time": "2022-08-23T19:06:57.656Z"
   },
   {
    "duration": 435,
    "start_time": "2022-08-23T19:06:57.968Z"
   },
   {
    "duration": 3,
    "start_time": "2022-08-23T19:07:06.464Z"
   },
   {
    "duration": 450,
    "start_time": "2022-08-23T19:07:06.780Z"
   },
   {
    "duration": 3,
    "start_time": "2022-08-23T19:07:31.425Z"
   },
   {
    "duration": 75,
    "start_time": "2022-08-23T19:07:31.645Z"
   },
   {
    "duration": 2,
    "start_time": "2022-08-23T19:07:50.331Z"
   },
   {
    "duration": 179,
    "start_time": "2022-08-23T19:07:51.278Z"
   },
   {
    "duration": 3,
    "start_time": "2022-08-23T19:07:56.521Z"
   },
   {
    "duration": 73,
    "start_time": "2022-08-23T19:07:56.818Z"
   },
   {
    "duration": 2,
    "start_time": "2022-08-23T19:08:05.937Z"
   },
   {
    "duration": 124,
    "start_time": "2022-08-23T19:08:06.267Z"
   },
   {
    "duration": 3,
    "start_time": "2022-08-23T19:08:11.735Z"
   },
   {
    "duration": 73,
    "start_time": "2022-08-23T19:08:12.017Z"
   },
   {
    "duration": 2,
    "start_time": "2022-08-23T19:08:14.936Z"
   },
   {
    "duration": 74,
    "start_time": "2022-08-23T19:08:15.233Z"
   },
   {
    "duration": 3,
    "start_time": "2022-08-23T19:08:30.322Z"
   },
   {
    "duration": 80,
    "start_time": "2022-08-23T19:08:30.578Z"
   },
   {
    "duration": 2,
    "start_time": "2022-08-23T19:08:40.216Z"
   },
   {
    "duration": 99,
    "start_time": "2022-08-23T19:08:42.088Z"
   },
   {
    "duration": 3,
    "start_time": "2022-08-23T19:09:24.937Z"
   },
   {
    "duration": 74,
    "start_time": "2022-08-23T19:09:25.249Z"
   },
   {
    "duration": 2,
    "start_time": "2022-08-23T19:09:48.522Z"
   },
   {
    "duration": 99,
    "start_time": "2022-08-23T19:09:49.209Z"
   },
   {
    "duration": 2,
    "start_time": "2022-08-23T19:10:23.115Z"
   },
   {
    "duration": 110,
    "start_time": "2022-08-23T19:10:23.396Z"
   },
   {
    "duration": 2,
    "start_time": "2022-08-23T19:13:46.700Z"
   },
   {
    "duration": 2,
    "start_time": "2022-08-23T19:14:00.212Z"
   },
   {
    "duration": 101,
    "start_time": "2022-08-23T19:14:00.524Z"
   },
   {
    "duration": 3,
    "start_time": "2022-08-23T19:14:11.906Z"
   },
   {
    "duration": 101,
    "start_time": "2022-08-23T19:14:12.336Z"
   },
   {
    "duration": 3,
    "start_time": "2022-08-23T19:15:32.614Z"
   },
   {
    "duration": 197,
    "start_time": "2022-08-23T19:15:32.854Z"
   },
   {
    "duration": 2,
    "start_time": "2022-08-23T19:16:00.238Z"
   },
   {
    "duration": 119,
    "start_time": "2022-08-23T19:16:00.515Z"
   },
   {
    "duration": 2,
    "start_time": "2022-08-23T19:16:03.548Z"
   },
   {
    "duration": 102,
    "start_time": "2022-08-23T19:16:03.900Z"
   },
   {
    "duration": 2,
    "start_time": "2022-08-23T19:16:21.141Z"
   },
   {
    "duration": 125,
    "start_time": "2022-08-23T19:16:21.365Z"
   },
   {
    "duration": 2,
    "start_time": "2022-08-23T19:16:33.037Z"
   },
   {
    "duration": 153,
    "start_time": "2022-08-23T19:16:33.247Z"
   },
   {
    "duration": 3,
    "start_time": "2022-08-23T19:16:46.479Z"
   },
   {
    "duration": 131,
    "start_time": "2022-08-23T19:16:46.797Z"
   },
   {
    "duration": 3,
    "start_time": "2022-08-23T19:16:52.467Z"
   },
   {
    "duration": 137,
    "start_time": "2022-08-23T19:16:52.695Z"
   },
   {
    "duration": 3,
    "start_time": "2022-08-23T19:17:02.445Z"
   },
   {
    "duration": 140,
    "start_time": "2022-08-23T19:17:02.658Z"
   },
   {
    "duration": 2,
    "start_time": "2022-08-23T19:17:13.510Z"
   },
   {
    "duration": 125,
    "start_time": "2022-08-23T19:17:13.790Z"
   },
   {
    "duration": 2,
    "start_time": "2022-08-23T19:17:44.575Z"
   },
   {
    "duration": 120,
    "start_time": "2022-08-23T19:17:44.841Z"
   },
   {
    "duration": 2,
    "start_time": "2022-08-23T19:17:56.623Z"
   },
   {
    "duration": 93,
    "start_time": "2022-08-23T19:17:56.839Z"
   },
   {
    "duration": 2,
    "start_time": "2022-08-23T19:18:13.831Z"
   },
   {
    "duration": 139,
    "start_time": "2022-08-23T19:18:14.116Z"
   },
   {
    "duration": 3,
    "start_time": "2022-08-23T19:18:37.791Z"
   },
   {
    "duration": 145,
    "start_time": "2022-08-23T19:18:38.001Z"
   },
   {
    "duration": 2,
    "start_time": "2022-08-23T19:18:41.877Z"
   },
   {
    "duration": 121,
    "start_time": "2022-08-23T19:18:42.169Z"
   },
   {
    "duration": 3,
    "start_time": "2022-08-23T19:18:43.655Z"
   },
   {
    "duration": 123,
    "start_time": "2022-08-23T19:18:43.925Z"
   },
   {
    "duration": 3,
    "start_time": "2022-08-23T19:18:58.303Z"
   },
   {
    "duration": 118,
    "start_time": "2022-08-23T19:18:58.538Z"
   },
   {
    "duration": 2,
    "start_time": "2022-08-23T19:19:50.783Z"
   },
   {
    "duration": 146,
    "start_time": "2022-08-23T19:19:51.010Z"
   },
   {
    "duration": 2,
    "start_time": "2022-08-23T19:20:00.399Z"
   },
   {
    "duration": 122,
    "start_time": "2022-08-23T19:20:00.667Z"
   },
   {
    "duration": 2,
    "start_time": "2022-08-23T19:20:05.096Z"
   },
   {
    "duration": 178,
    "start_time": "2022-08-23T19:20:05.345Z"
   },
   {
    "duration": 2,
    "start_time": "2022-08-23T19:20:09.960Z"
   },
   {
    "duration": 123,
    "start_time": "2022-08-23T19:20:10.177Z"
   },
   {
    "duration": 2,
    "start_time": "2022-08-23T19:20:17.840Z"
   },
   {
    "duration": 134,
    "start_time": "2022-08-23T19:20:18.056Z"
   },
   {
    "duration": 2,
    "start_time": "2022-08-23T19:21:22.424Z"
   },
   {
    "duration": 137,
    "start_time": "2022-08-23T19:21:22.640Z"
   },
   {
    "duration": 3,
    "start_time": "2022-08-23T19:21:31.656Z"
   },
   {
    "duration": 143,
    "start_time": "2022-08-23T19:21:31.889Z"
   },
   {
    "duration": 2,
    "start_time": "2022-08-23T19:21:54.553Z"
   },
   {
    "duration": 116,
    "start_time": "2022-08-23T19:21:54.761Z"
   },
   {
    "duration": 3,
    "start_time": "2022-08-23T19:22:43.572Z"
   },
   {
    "duration": 75,
    "start_time": "2022-08-23T19:22:43.798Z"
   },
   {
    "duration": 2,
    "start_time": "2022-08-23T19:22:49.363Z"
   },
   {
    "duration": 75,
    "start_time": "2022-08-23T19:22:49.607Z"
   },
   {
    "duration": 510,
    "start_time": "2022-08-23T19:23:49.510Z"
   },
   {
    "duration": 5764,
    "start_time": "2022-08-23T19:23:50.022Z"
   },
   {
    "duration": 3,
    "start_time": "2022-08-23T19:23:55.787Z"
   },
   {
    "duration": 305,
    "start_time": "2022-08-23T19:23:55.792Z"
   },
   {
    "duration": 92,
    "start_time": "2022-08-23T19:23:56.099Z"
   },
   {
    "duration": 2,
    "start_time": "2022-08-23T19:23:56.193Z"
   },
   {
    "duration": 80,
    "start_time": "2022-08-23T19:23:56.196Z"
   },
   {
    "duration": 77,
    "start_time": "2022-08-23T19:23:56.278Z"
   },
   {
    "duration": 3,
    "start_time": "2022-08-23T19:23:56.356Z"
   },
   {
    "duration": 80,
    "start_time": "2022-08-23T19:23:56.361Z"
   },
   {
    "duration": 76,
    "start_time": "2022-08-23T19:23:56.443Z"
   },
   {
    "duration": 2,
    "start_time": "2022-08-23T19:23:56.520Z"
   },
   {
    "duration": 101,
    "start_time": "2022-08-23T19:23:56.524Z"
   },
   {
    "duration": 87,
    "start_time": "2022-08-23T19:23:56.626Z"
   },
   {
    "duration": 3,
    "start_time": "2022-08-23T19:23:56.714Z"
   },
   {
    "duration": 84,
    "start_time": "2022-08-23T19:23:56.718Z"
   },
   {
    "duration": 82,
    "start_time": "2022-08-23T19:23:56.804Z"
   },
   {
    "duration": 3,
    "start_time": "2022-08-23T19:23:56.887Z"
   },
   {
    "duration": 77,
    "start_time": "2022-08-23T19:23:56.891Z"
   },
   {
    "duration": 2,
    "start_time": "2022-08-23T19:23:56.970Z"
   },
   {
    "duration": 4,
    "start_time": "2022-08-23T19:23:56.974Z"
   },
   {
    "duration": 91,
    "start_time": "2022-08-23T19:23:56.979Z"
   },
   {
    "duration": 3,
    "start_time": "2022-08-23T19:23:57.071Z"
   },
   {
    "duration": 89,
    "start_time": "2022-08-23T19:23:57.075Z"
   },
   {
    "duration": 3,
    "start_time": "2022-08-23T19:23:57.165Z"
   },
   {
    "duration": 79,
    "start_time": "2022-08-23T19:23:57.169Z"
   },
   {
    "duration": 2,
    "start_time": "2022-08-23T19:23:57.250Z"
   },
   {
    "duration": 3,
    "start_time": "2022-08-23T19:23:57.255Z"
   },
   {
    "duration": 4,
    "start_time": "2022-08-23T19:23:57.260Z"
   },
   {
    "duration": 80,
    "start_time": "2022-08-23T19:23:57.266Z"
   },
   {
    "duration": 2,
    "start_time": "2022-08-23T19:23:57.348Z"
   },
   {
    "duration": 7,
    "start_time": "2022-08-23T19:23:57.352Z"
   },
   {
    "duration": 4,
    "start_time": "2022-08-23T19:23:57.360Z"
   },
   {
    "duration": 79,
    "start_time": "2022-08-23T19:23:57.366Z"
   },
   {
    "duration": 5,
    "start_time": "2022-08-23T19:23:57.447Z"
   },
   {
    "duration": 6,
    "start_time": "2022-08-23T19:23:57.454Z"
   },
   {
    "duration": 153,
    "start_time": "2022-08-23T20:21:23.758Z"
   },
   {
    "duration": 71,
    "start_time": "2022-08-23T20:22:43.127Z"
   },
   {
    "duration": 6,
    "start_time": "2022-08-23T20:22:47.135Z"
   },
   {
    "duration": 6,
    "start_time": "2022-08-23T20:23:55.024Z"
   },
   {
    "duration": 5,
    "start_time": "2022-08-23T20:24:05.136Z"
   },
   {
    "duration": 6,
    "start_time": "2022-08-23T20:24:17.626Z"
   },
   {
    "duration": 128,
    "start_time": "2022-08-23T20:24:18.039Z"
   },
   {
    "duration": 7,
    "start_time": "2022-08-23T20:25:09.434Z"
   },
   {
    "duration": 124,
    "start_time": "2022-08-23T20:25:10.390Z"
   },
   {
    "duration": 6,
    "start_time": "2022-08-23T20:25:11.702Z"
   },
   {
    "duration": 2,
    "start_time": "2022-08-23T20:26:20.219Z"
   },
   {
    "duration": 107,
    "start_time": "2022-08-23T20:26:20.826Z"
   },
   {
    "duration": 2,
    "start_time": "2022-08-23T20:26:26.387Z"
   },
   {
    "duration": 108,
    "start_time": "2022-08-23T20:26:26.916Z"
   },
   {
    "duration": 2,
    "start_time": "2022-08-23T20:29:04.539Z"
   },
   {
    "duration": 109,
    "start_time": "2022-08-23T20:29:05.093Z"
   },
   {
    "duration": 3,
    "start_time": "2022-08-23T20:29:41.343Z"
   },
   {
    "duration": 105,
    "start_time": "2022-08-23T20:29:41.980Z"
   },
   {
    "duration": 2,
    "start_time": "2022-08-23T20:30:59.158Z"
   },
   {
    "duration": 108,
    "start_time": "2022-08-23T20:30:59.786Z"
   },
   {
    "duration": 3,
    "start_time": "2022-08-23T20:31:07.120Z"
   },
   {
    "duration": 2,
    "start_time": "2022-08-23T20:31:08.733Z"
   },
   {
    "duration": 203,
    "start_time": "2022-08-23T20:31:09.829Z"
   },
   {
    "duration": 2,
    "start_time": "2022-08-23T20:31:14.590Z"
   },
   {
    "duration": 86,
    "start_time": "2022-08-23T20:31:15.054Z"
   },
   {
    "duration": 2,
    "start_time": "2022-08-23T20:31:34.876Z"
   },
   {
    "duration": 3,
    "start_time": "2022-08-23T20:31:46.286Z"
   },
   {
    "duration": 88,
    "start_time": "2022-08-23T20:31:49.444Z"
   },
   {
    "duration": 2,
    "start_time": "2022-08-23T20:35:21.775Z"
   },
   {
    "duration": 114,
    "start_time": "2022-08-23T20:35:22.464Z"
   },
   {
    "duration": 126,
    "start_time": "2022-08-23T20:36:31.617Z"
   },
   {
    "duration": 92,
    "start_time": "2022-08-23T20:36:32.039Z"
   },
   {
    "duration": 522,
    "start_time": "2022-08-23T20:37:01.184Z"
   },
   {
    "duration": 5513,
    "start_time": "2022-08-23T20:37:01.708Z"
   },
   {
    "duration": 2,
    "start_time": "2022-08-23T20:37:07.223Z"
   },
   {
    "duration": 281,
    "start_time": "2022-08-23T20:37:07.227Z"
   },
   {
    "duration": 80,
    "start_time": "2022-08-23T20:37:07.510Z"
   },
   {
    "duration": 2,
    "start_time": "2022-08-23T20:37:07.592Z"
   },
   {
    "duration": 80,
    "start_time": "2022-08-23T20:37:07.595Z"
   },
   {
    "duration": 79,
    "start_time": "2022-08-23T20:37:07.676Z"
   },
   {
    "duration": 3,
    "start_time": "2022-08-23T20:37:07.757Z"
   },
   {
    "duration": 76,
    "start_time": "2022-08-23T20:37:07.762Z"
   },
   {
    "duration": 75,
    "start_time": "2022-08-23T20:37:07.840Z"
   },
   {
    "duration": 2,
    "start_time": "2022-08-23T20:37:07.917Z"
   },
   {
    "duration": 111,
    "start_time": "2022-08-23T20:37:07.920Z"
   },
   {
    "duration": 94,
    "start_time": "2022-08-23T20:37:08.032Z"
   },
   {
    "duration": 3,
    "start_time": "2022-08-23T20:37:08.127Z"
   },
   {
    "duration": 84,
    "start_time": "2022-08-23T20:37:08.131Z"
   },
   {
    "duration": 79,
    "start_time": "2022-08-23T20:37:08.217Z"
   },
   {
    "duration": 2,
    "start_time": "2022-08-23T20:37:08.298Z"
   },
   {
    "duration": 75,
    "start_time": "2022-08-23T20:37:08.301Z"
   },
   {
    "duration": 3,
    "start_time": "2022-08-23T20:37:08.378Z"
   },
   {
    "duration": 4,
    "start_time": "2022-08-23T20:37:08.383Z"
   },
   {
    "duration": 91,
    "start_time": "2022-08-23T20:37:08.388Z"
   },
   {
    "duration": 3,
    "start_time": "2022-08-23T20:37:08.480Z"
   },
   {
    "duration": 83,
    "start_time": "2022-08-23T20:37:08.484Z"
   },
   {
    "duration": 3,
    "start_time": "2022-08-23T20:37:08.568Z"
   },
   {
    "duration": 83,
    "start_time": "2022-08-23T20:37:08.572Z"
   },
   {
    "duration": 3,
    "start_time": "2022-08-23T20:37:08.656Z"
   },
   {
    "duration": 6,
    "start_time": "2022-08-23T20:37:08.661Z"
   },
   {
    "duration": 8,
    "start_time": "2022-08-23T20:37:08.668Z"
   },
   {
    "duration": 77,
    "start_time": "2022-08-23T20:37:08.677Z"
   },
   {
    "duration": 2,
    "start_time": "2022-08-23T20:37:08.756Z"
   },
   {
    "duration": 5,
    "start_time": "2022-08-23T20:37:08.759Z"
   },
   {
    "duration": 5,
    "start_time": "2022-08-23T20:37:08.766Z"
   },
   {
    "duration": 76,
    "start_time": "2022-08-23T20:37:08.773Z"
   },
   {
    "duration": 4,
    "start_time": "2022-08-23T20:37:08.850Z"
   },
   {
    "duration": 6,
    "start_time": "2022-08-23T20:37:08.855Z"
   },
   {
    "duration": 70,
    "start_time": "2022-08-23T20:38:34.514Z"
   },
   {
    "duration": 2,
    "start_time": "2022-08-23T20:38:38.458Z"
   },
   {
    "duration": 106,
    "start_time": "2022-08-23T20:38:39.217Z"
   },
   {
    "duration": 2,
    "start_time": "2022-08-23T20:39:34.961Z"
   },
   {
    "duration": 78,
    "start_time": "2022-08-23T20:39:35.715Z"
   },
   {
    "duration": 3,
    "start_time": "2022-08-23T20:42:14.499Z"
   },
   {
    "duration": 106,
    "start_time": "2022-08-23T20:42:15.522Z"
   },
   {
    "duration": 3,
    "start_time": "2022-08-23T20:43:52.324Z"
   },
   {
    "duration": 125,
    "start_time": "2022-08-23T20:43:52.901Z"
   },
   {
    "duration": 516,
    "start_time": "2022-08-23T20:44:00.685Z"
   },
   {
    "duration": 5245,
    "start_time": "2022-08-23T20:44:01.204Z"
   },
   {
    "duration": 2,
    "start_time": "2022-08-23T20:44:06.451Z"
   },
   {
    "duration": 287,
    "start_time": "2022-08-23T20:44:06.455Z"
   },
   {
    "duration": 92,
    "start_time": "2022-08-23T20:44:06.743Z"
   },
   {
    "duration": 3,
    "start_time": "2022-08-23T20:44:06.836Z"
   },
   {
    "duration": 78,
    "start_time": "2022-08-23T20:44:06.840Z"
   },
   {
    "duration": 77,
    "start_time": "2022-08-23T20:44:06.920Z"
   },
   {
    "duration": 2,
    "start_time": "2022-08-23T20:44:06.998Z"
   },
   {
    "duration": 76,
    "start_time": "2022-08-23T20:44:07.003Z"
   },
   {
    "duration": 77,
    "start_time": "2022-08-23T20:44:07.081Z"
   },
   {
    "duration": 3,
    "start_time": "2022-08-23T20:44:07.159Z"
   },
   {
    "duration": 99,
    "start_time": "2022-08-23T20:44:07.163Z"
   },
   {
    "duration": 86,
    "start_time": "2022-08-23T20:44:07.263Z"
   },
   {
    "duration": 2,
    "start_time": "2022-08-23T20:44:07.350Z"
   },
   {
    "duration": 102,
    "start_time": "2022-08-23T20:44:07.354Z"
   },
   {
    "duration": 84,
    "start_time": "2022-08-23T20:44:07.458Z"
   },
   {
    "duration": 2,
    "start_time": "2022-08-23T20:44:07.544Z"
   },
   {
    "duration": 87,
    "start_time": "2022-08-23T20:44:07.547Z"
   },
   {
    "duration": 3,
    "start_time": "2022-08-23T20:44:07.635Z"
   },
   {
    "duration": 12,
    "start_time": "2022-08-23T20:44:07.639Z"
   },
   {
    "duration": 104,
    "start_time": "2022-08-23T20:44:07.653Z"
   },
   {
    "duration": 2,
    "start_time": "2022-08-23T20:44:07.759Z"
   },
   {
    "duration": 87,
    "start_time": "2022-08-23T20:44:07.763Z"
   },
   {
    "duration": 2,
    "start_time": "2022-08-23T20:44:07.851Z"
   },
   {
    "duration": 201,
    "start_time": "2022-08-23T20:44:07.855Z"
   },
   {
    "duration": 0,
    "start_time": "2022-08-23T20:44:08.058Z"
   },
   {
    "duration": 0,
    "start_time": "2022-08-23T20:44:08.059Z"
   },
   {
    "duration": 0,
    "start_time": "2022-08-23T20:44:08.060Z"
   },
   {
    "duration": 0,
    "start_time": "2022-08-23T20:44:08.061Z"
   },
   {
    "duration": 0,
    "start_time": "2022-08-23T20:44:08.062Z"
   },
   {
    "duration": 0,
    "start_time": "2022-08-23T20:44:08.063Z"
   },
   {
    "duration": 0,
    "start_time": "2022-08-23T20:44:08.064Z"
   },
   {
    "duration": 0,
    "start_time": "2022-08-23T20:44:08.065Z"
   },
   {
    "duration": 0,
    "start_time": "2022-08-23T20:44:08.065Z"
   },
   {
    "duration": 0,
    "start_time": "2022-08-23T20:44:08.067Z"
   },
   {
    "duration": 0,
    "start_time": "2022-08-23T20:44:08.067Z"
   },
   {
    "duration": 0,
    "start_time": "2022-08-23T20:44:08.068Z"
   },
   {
    "duration": 2,
    "start_time": "2022-08-23T20:45:11.169Z"
   },
   {
    "duration": 140,
    "start_time": "2022-08-23T20:45:11.457Z"
   },
   {
    "duration": 2,
    "start_time": "2022-08-23T20:46:32.024Z"
   },
   {
    "duration": 81,
    "start_time": "2022-08-23T20:46:32.356Z"
   },
   {
    "duration": 3,
    "start_time": "2022-08-23T20:46:42.894Z"
   },
   {
    "duration": 80,
    "start_time": "2022-08-23T20:46:43.177Z"
   },
   {
    "duration": 3,
    "start_time": "2022-08-23T20:46:45.582Z"
   },
   {
    "duration": 82,
    "start_time": "2022-08-23T20:46:45.809Z"
   },
   {
    "duration": 3,
    "start_time": "2022-08-23T20:46:47.997Z"
   },
   {
    "duration": 81,
    "start_time": "2022-08-23T20:46:48.289Z"
   },
   {
    "duration": 2,
    "start_time": "2022-08-23T20:46:50.493Z"
   },
   {
    "duration": 81,
    "start_time": "2022-08-23T20:46:50.729Z"
   },
   {
    "duration": 2,
    "start_time": "2022-08-23T20:46:58.459Z"
   },
   {
    "duration": 84,
    "start_time": "2022-08-23T20:46:58.913Z"
   },
   {
    "duration": 2,
    "start_time": "2022-08-23T20:47:09.353Z"
   },
   {
    "duration": 80,
    "start_time": "2022-08-23T20:47:09.710Z"
   },
   {
    "duration": 471,
    "start_time": "2022-08-23T20:48:39.152Z"
   },
   {
    "duration": 5004,
    "start_time": "2022-08-23T20:48:39.624Z"
   },
   {
    "duration": 2,
    "start_time": "2022-08-23T20:48:44.629Z"
   },
   {
    "duration": 270,
    "start_time": "2022-08-23T20:48:44.633Z"
   },
   {
    "duration": 78,
    "start_time": "2022-08-23T20:48:44.904Z"
   },
   {
    "duration": 3,
    "start_time": "2022-08-23T20:48:44.983Z"
   },
   {
    "duration": 79,
    "start_time": "2022-08-23T20:48:44.987Z"
   },
   {
    "duration": 77,
    "start_time": "2022-08-23T20:48:45.067Z"
   },
   {
    "duration": 3,
    "start_time": "2022-08-23T20:48:45.145Z"
   },
   {
    "duration": 74,
    "start_time": "2022-08-23T20:48:45.151Z"
   },
   {
    "duration": 76,
    "start_time": "2022-08-23T20:48:45.227Z"
   },
   {
    "duration": 2,
    "start_time": "2022-08-23T20:48:45.305Z"
   },
   {
    "duration": 96,
    "start_time": "2022-08-23T20:48:45.308Z"
   },
   {
    "duration": 94,
    "start_time": "2022-08-23T20:48:45.405Z"
   },
   {
    "duration": 2,
    "start_time": "2022-08-23T20:48:45.500Z"
   },
   {
    "duration": 81,
    "start_time": "2022-08-23T20:48:45.503Z"
   },
   {
    "duration": 82,
    "start_time": "2022-08-23T20:48:45.585Z"
   },
   {
    "duration": 2,
    "start_time": "2022-08-23T20:48:45.669Z"
   },
   {
    "duration": 74,
    "start_time": "2022-08-23T20:48:45.672Z"
   },
   {
    "duration": 3,
    "start_time": "2022-08-23T20:48:45.747Z"
   },
   {
    "duration": 6,
    "start_time": "2022-08-23T20:48:45.751Z"
   },
   {
    "duration": 89,
    "start_time": "2022-08-23T20:48:45.759Z"
   },
   {
    "duration": 2,
    "start_time": "2022-08-23T20:48:45.849Z"
   },
   {
    "duration": 81,
    "start_time": "2022-08-23T20:48:45.852Z"
   },
   {
    "duration": 2,
    "start_time": "2022-08-23T20:48:45.934Z"
   },
   {
    "duration": 81,
    "start_time": "2022-08-23T20:48:45.938Z"
   },
   {
    "duration": 3,
    "start_time": "2022-08-23T20:48:46.020Z"
   },
   {
    "duration": 73,
    "start_time": "2022-08-23T20:48:46.025Z"
   },
   {
    "duration": 3,
    "start_time": "2022-08-23T20:48:46.099Z"
   },
   {
    "duration": 5,
    "start_time": "2022-08-23T20:48:46.103Z"
   },
   {
    "duration": 19,
    "start_time": "2022-08-23T20:48:46.110Z"
   },
   {
    "duration": 89,
    "start_time": "2022-08-23T20:48:46.130Z"
   },
   {
    "duration": 3,
    "start_time": "2022-08-23T20:48:46.220Z"
   },
   {
    "duration": 5,
    "start_time": "2022-08-23T20:48:46.224Z"
   },
   {
    "duration": 5,
    "start_time": "2022-08-23T20:48:46.230Z"
   },
   {
    "duration": 81,
    "start_time": "2022-08-23T20:48:46.236Z"
   },
   {
    "duration": 4,
    "start_time": "2022-08-23T20:48:46.318Z"
   },
   {
    "duration": 8,
    "start_time": "2022-08-23T20:48:46.323Z"
   },
   {
    "duration": 3,
    "start_time": "2022-08-23T20:59:41.913Z"
   },
   {
    "duration": 190,
    "start_time": "2022-08-23T20:59:42.152Z"
   },
   {
    "duration": 2,
    "start_time": "2022-08-23T20:59:47.573Z"
   },
   {
    "duration": 128,
    "start_time": "2022-08-23T20:59:47.887Z"
   },
   {
    "duration": 2,
    "start_time": "2022-08-23T20:59:55.812Z"
   },
   {
    "duration": 107,
    "start_time": "2022-08-23T20:59:56.106Z"
   },
   {
    "duration": 145,
    "start_time": "2022-08-23T21:00:20.750Z"
   },
   {
    "duration": 120,
    "start_time": "2022-08-23T21:00:24.959Z"
   },
   {
    "duration": 35,
    "start_time": "2022-08-23T21:00:45.223Z"
   },
   {
    "duration": 7,
    "start_time": "2022-08-23T21:00:49.627Z"
   },
   {
    "duration": 7,
    "start_time": "2022-08-23T21:00:51.990Z"
   },
   {
    "duration": 7,
    "start_time": "2022-08-23T21:01:01.005Z"
   },
   {
    "duration": 7,
    "start_time": "2022-08-23T21:01:07.679Z"
   },
   {
    "duration": 9,
    "start_time": "2022-08-23T21:01:51.887Z"
   },
   {
    "duration": 7,
    "start_time": "2022-08-23T21:02:05.161Z"
   },
   {
    "duration": 7,
    "start_time": "2022-08-23T21:02:12.192Z"
   },
   {
    "duration": 55,
    "start_time": "2022-08-23T21:02:38.136Z"
   },
   {
    "duration": 7,
    "start_time": "2022-08-23T21:02:45.682Z"
   },
   {
    "duration": 8,
    "start_time": "2022-08-23T21:02:50.366Z"
   },
   {
    "duration": 9,
    "start_time": "2022-08-23T21:03:06.105Z"
   },
   {
    "duration": 8,
    "start_time": "2022-08-23T21:03:20.737Z"
   },
   {
    "duration": 7,
    "start_time": "2022-08-23T21:03:23.833Z"
   },
   {
    "duration": 7,
    "start_time": "2022-08-23T21:03:27.985Z"
   },
   {
    "duration": 6,
    "start_time": "2022-08-23T21:04:16.363Z"
   },
   {
    "duration": 121,
    "start_time": "2022-08-23T21:04:56.557Z"
   },
   {
    "duration": 122,
    "start_time": "2022-08-23T21:04:57.602Z"
   },
   {
    "duration": 8,
    "start_time": "2022-08-23T21:04:59.345Z"
   },
   {
    "duration": 9,
    "start_time": "2022-08-23T21:05:05.798Z"
   },
   {
    "duration": 119,
    "start_time": "2022-08-23T21:05:20.948Z"
   },
   {
    "duration": 123,
    "start_time": "2022-08-23T21:05:22.945Z"
   },
   {
    "duration": 509,
    "start_time": "2022-08-23T21:05:36.609Z"
   },
   {
    "duration": 5639,
    "start_time": "2022-08-23T21:05:37.120Z"
   },
   {
    "duration": 3,
    "start_time": "2022-08-23T21:05:42.760Z"
   },
   {
    "duration": 278,
    "start_time": "2022-08-23T21:05:42.765Z"
   },
   {
    "duration": 89,
    "start_time": "2022-08-23T21:05:43.044Z"
   },
   {
    "duration": 2,
    "start_time": "2022-08-23T21:05:43.135Z"
   },
   {
    "duration": 77,
    "start_time": "2022-08-23T21:05:43.138Z"
   },
   {
    "duration": 76,
    "start_time": "2022-08-23T21:05:43.217Z"
   },
   {
    "duration": 2,
    "start_time": "2022-08-23T21:05:43.295Z"
   },
   {
    "duration": 79,
    "start_time": "2022-08-23T21:05:43.299Z"
   },
   {
    "duration": 85,
    "start_time": "2022-08-23T21:05:43.380Z"
   },
   {
    "duration": 2,
    "start_time": "2022-08-23T21:05:43.466Z"
   },
   {
    "duration": 100,
    "start_time": "2022-08-23T21:05:43.470Z"
   },
   {
    "duration": 88,
    "start_time": "2022-08-23T21:05:43.572Z"
   },
   {
    "duration": 2,
    "start_time": "2022-08-23T21:05:43.662Z"
   },
   {
    "duration": 86,
    "start_time": "2022-08-23T21:05:43.666Z"
   },
   {
    "duration": 86,
    "start_time": "2022-08-23T21:05:43.754Z"
   },
   {
    "duration": 3,
    "start_time": "2022-08-23T21:05:43.842Z"
   },
   {
    "duration": 79,
    "start_time": "2022-08-23T21:05:43.846Z"
   },
   {
    "duration": 3,
    "start_time": "2022-08-23T21:05:43.926Z"
   },
   {
    "duration": 5,
    "start_time": "2022-08-23T21:05:43.930Z"
   },
   {
    "duration": 90,
    "start_time": "2022-08-23T21:05:43.936Z"
   },
   {
    "duration": 2,
    "start_time": "2022-08-23T21:05:44.027Z"
   },
   {
    "duration": 82,
    "start_time": "2022-08-23T21:05:44.030Z"
   },
   {
    "duration": 2,
    "start_time": "2022-08-23T21:05:44.114Z"
   },
   {
    "duration": 83,
    "start_time": "2022-08-23T21:05:44.117Z"
   },
   {
    "duration": 2,
    "start_time": "2022-08-23T21:05:44.202Z"
   },
   {
    "duration": 79,
    "start_time": "2022-08-23T21:05:44.206Z"
   },
   {
    "duration": 2,
    "start_time": "2022-08-23T21:05:44.287Z"
   },
   {
    "duration": 7,
    "start_time": "2022-08-23T21:05:44.290Z"
   },
   {
    "duration": 4,
    "start_time": "2022-08-23T21:05:44.299Z"
   },
   {
    "duration": 81,
    "start_time": "2022-08-23T21:05:44.304Z"
   },
   {
    "duration": 2,
    "start_time": "2022-08-23T21:05:44.387Z"
   },
   {
    "duration": 6,
    "start_time": "2022-08-23T21:05:44.391Z"
   },
   {
    "duration": 6,
    "start_time": "2022-08-23T21:05:44.398Z"
   },
   {
    "duration": 80,
    "start_time": "2022-08-23T21:05:44.405Z"
   },
   {
    "duration": 4,
    "start_time": "2022-08-23T21:05:44.486Z"
   },
   {
    "duration": 5,
    "start_time": "2022-08-23T21:05:44.491Z"
   },
   {
    "duration": 492,
    "start_time": "2022-08-23T21:27:01.043Z"
   },
   {
    "duration": 7269,
    "start_time": "2022-08-23T21:27:01.536Z"
   },
   {
    "duration": 2,
    "start_time": "2022-08-23T21:27:08.806Z"
   },
   {
    "duration": 279,
    "start_time": "2022-08-23T21:27:08.810Z"
   },
   {
    "duration": 89,
    "start_time": "2022-08-23T21:27:09.090Z"
   },
   {
    "duration": 2,
    "start_time": "2022-08-23T21:27:09.181Z"
   },
   {
    "duration": 75,
    "start_time": "2022-08-23T21:27:09.185Z"
   },
   {
    "duration": 74,
    "start_time": "2022-08-23T21:27:09.261Z"
   },
   {
    "duration": 2,
    "start_time": "2022-08-23T21:27:09.337Z"
   },
   {
    "duration": 77,
    "start_time": "2022-08-23T21:27:09.342Z"
   },
   {
    "duration": 76,
    "start_time": "2022-08-23T21:27:09.420Z"
   },
   {
    "duration": 2,
    "start_time": "2022-08-23T21:27:09.498Z"
   },
   {
    "duration": 97,
    "start_time": "2022-08-23T21:27:09.502Z"
   },
   {
    "duration": 101,
    "start_time": "2022-08-23T21:27:09.601Z"
   },
   {
    "duration": 2,
    "start_time": "2022-08-23T21:27:09.704Z"
   },
   {
    "duration": 81,
    "start_time": "2022-08-23T21:27:09.707Z"
   },
   {
    "duration": 81,
    "start_time": "2022-08-23T21:27:09.790Z"
   },
   {
    "duration": 2,
    "start_time": "2022-08-23T21:27:09.872Z"
   },
   {
    "duration": 83,
    "start_time": "2022-08-23T21:27:09.875Z"
   },
   {
    "duration": 2,
    "start_time": "2022-08-23T21:27:09.960Z"
   },
   {
    "duration": 6,
    "start_time": "2022-08-23T21:27:09.964Z"
   },
   {
    "duration": 89,
    "start_time": "2022-08-23T21:27:09.971Z"
   },
   {
    "duration": 3,
    "start_time": "2022-08-23T21:27:10.061Z"
   },
   {
    "duration": 82,
    "start_time": "2022-08-23T21:27:10.065Z"
   },
   {
    "duration": 2,
    "start_time": "2022-08-23T21:27:10.148Z"
   },
   {
    "duration": 86,
    "start_time": "2022-08-23T21:27:10.152Z"
   },
   {
    "duration": 2,
    "start_time": "2022-08-23T21:27:10.240Z"
   },
   {
    "duration": 76,
    "start_time": "2022-08-23T21:27:10.246Z"
   },
   {
    "duration": 3,
    "start_time": "2022-08-23T21:27:10.323Z"
   },
   {
    "duration": 7,
    "start_time": "2022-08-23T21:27:10.328Z"
   },
   {
    "duration": 5,
    "start_time": "2022-08-23T21:27:10.336Z"
   },
   {
    "duration": 77,
    "start_time": "2022-08-23T21:27:10.343Z"
   },
   {
    "duration": 2,
    "start_time": "2022-08-23T21:27:10.422Z"
   },
   {
    "duration": 4,
    "start_time": "2022-08-23T21:27:10.426Z"
   },
   {
    "duration": 3,
    "start_time": "2022-08-23T21:27:10.432Z"
   },
   {
    "duration": 75,
    "start_time": "2022-08-23T21:27:10.437Z"
   },
   {
    "duration": 3,
    "start_time": "2022-08-23T21:27:10.514Z"
   },
   {
    "duration": 4,
    "start_time": "2022-08-23T21:27:10.519Z"
   },
   {
    "duration": 3,
    "start_time": "2022-08-23T21:50:42.524Z"
   },
   {
    "duration": 105,
    "start_time": "2022-08-23T21:50:43.116Z"
   }
  ],
  "kernelspec": {
   "display_name": "Python 3",
   "language": "python",
   "name": "python3"
  },
  "language_info": {
   "codemirror_mode": {
    "name": "ipython",
    "version": 3
   },
   "file_extension": ".py",
   "mimetype": "text/x-python",
   "name": "python",
   "nbconvert_exporter": "python",
   "pygments_lexer": "ipython3",
   "version": "3.8.5"
  },
  "toc": {
   "base_numbering": 1,
   "nav_menu": {},
   "number_sections": true,
   "sideBar": true,
   "skip_h1_title": true,
   "title_cell": "Table of Contents",
   "title_sidebar": "Contents",
   "toc_cell": false,
   "toc_position": {},
   "toc_section_display": true,
   "toc_window_display": false
  }
 },
 "nbformat": 4,
 "nbformat_minor": 2
}
