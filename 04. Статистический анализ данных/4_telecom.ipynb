{
 "cells": [
  {
   "cell_type": "markdown",
   "metadata": {},
   "source": [
    "# Определение перспективного тарифа для телеком-компании"
   ]
  },
  {
   "cell_type": "markdown",
   "metadata": {},
   "source": [
    "## Описание проекта\n",
    "Клиентам предлагают два тарифных плана: «Смарт» и «Ультра». Чтобы скорректировать рекламный бюджет, коммерческий департамент хочет понять, какой тариф приносит больше денег.\n",
    "Вам предстоит сделать предварительный анализ тарифов на небольшой выборке клиентов. В вашем распоряжении данные 500 пользователей «Мегалайна»: кто они, откуда, каким тарифом пользуются, сколько звонков и сообщений каждый отправил за 2018 год.  \n",
    "Нужно проанализировать поведение клиентов и сделать вывод — какой тариф лучше."
   ]
  },
  {
   "cell_type": "markdown",
   "metadata": {},
   "source": [
    "## Описание тарифов\n",
    "### Тариф «Смарт»\n",
    "1. Ежемесячная плата: 550 рублей\n",
    "2. Включено 500 минут разговора, 50 сообщений и 15 Гб интернет-трафика\n",
    "3. Стоимость услуг сверх тарифного пакета:\n",
    " - минута разговора: 3 рубля\n",
    " - сообщение: 3 рубля\n",
    " - 1 Гб интернет-трафика: 200 рублей\n",
    "\n",
    "### Тариф «Ультра»\n",
    "1. Ежемесячная плата: 1950 рублей\n",
    "2. Включено 3000 минут разговора, 1000 сообщений и 30 Гб интернет-трафика\n",
    "3. Стоимость услуг сверх тарифного пакета:\n",
    " - минута разговора: 1 рубль\n",
    " - сообщение: 1 рубль\n",
    " - 1 Гб интернет-трафика: 150 рублей"
   ]
  },
  {
   "cell_type": "markdown",
   "metadata": {},
   "source": [
    "## План работы\n",
    "Шаг 1. Изучение общую информацию файлов с данными.  \n",
    "\n",
    "Шаг 2. Подготовка данных\n",
    " - Приведите данные к нужным типам;\n",
    " - Найдите и исправьте ошибки в данных, если они есть. \n",
    " \n",
    " Посчитайте для каждого пользователя:  \n",
    " - количество сделанных звонков и израсходованных минут разговора по месяцам;\n",
    " - количество отправленных сообщений по месяцам;\n",
    " - объем израсходованного интернет-трафика по месяцам;\n",
    " - помесячную выручку с каждого пользователя\n",
    " \n",
    "Шаг 3. Анализ данных\n",
    "\n",
    "Шаг 4. Проверка гипотез\n",
    " - средняя выручка пользователей тарифов «Ультра» и «Смарт» различаются;\n",
    " - средняя выручка пользователей из Москвы отличается от выручки пользователей из других регионов.\n",
    "\n",
    "Шаг 5. Общий вывод"
   ]
  },
  {
   "cell_type": "markdown",
   "metadata": {},
   "source": [
    "## Описание данных\n",
    "Таблица users (информация о пользователях):  \n",
    "- user_id — уникальный идентификатор пользователя\n",
    "- first_name — имя пользователя\n",
    "- last_name — фамилия пользователя\n",
    "- age — возраст пользователя (годы)\n",
    "- reg_date — дата подключения тарифа (день, месяц, год)\n",
    "- churn_date — дата прекращения пользования тарифом (если значение пропущено, то тариф ещё действовал на момент выгрузки данных)\n",
    "- city — город проживания пользователя\n",
    "- tariff — название тарифного плана\n",
    "\n",
    "Таблица calls (информация о звонках):\n",
    "- id — уникальный номер звонка\n",
    "- call_date — дата звонка\n",
    "- duration — длительность звонка в минутах\n",
    "- user_id — идентификатор пользователя, сделавшего звонок\n",
    "\n",
    "Таблица messages (информация о сообщениях):\n",
    "- id — уникальный номер сообщения\n",
    "- message_date — дата сообщения\n",
    "- user_id — идентификатор пользователя, отправившего сообщение\n",
    "\n",
    "Таблица internet (информация об интернет-сессиях):\n",
    "- id — уникальный номер сессии\n",
    "- mb_used — объём потраченного за сессию интернет-трафика (в мегабайтах)\n",
    "- session_date — дата интернет-сессии\n",
    "- user_id — идентификатор пользователя\n",
    "\n",
    "Таблица tariffs (информация о тарифах):\n",
    "- tariff_name — название тарифа\n",
    "- rub_monthly_fee — ежемесячная абонентская плата в рублях\n",
    "- minutes_included — количество минут разговора в месяц, включённых в абонентскую плату\n",
    "- messages_included — количество сообщений в месяц, включённых в абонентскую плату\n",
    "- mb_per_month_included — объём интернет-трафика, включённого в абонентскую плату (в мегабайтах)\n",
    "- rub_per_minute — стоимость минуты разговора сверх тарифного пакета (например, если в тарифе 100 минут разговора в месяц, то со 101 минуты будет взиматься плата)\n",
    "- rub_per_message — стоимость отправки сообщения сверх тарифного пакета\n",
    "- rub_per_gb — стоимость дополнительного гигабайта интернет-трафика сверх тарифного пакета (1 гигабайт = 1024 мегабайта)"
   ]
  },
  {
   "cell_type": "markdown",
   "metadata": {},
   "source": [
    "## Шаг 1. Изучение общую информацию файлов с данными.  "
   ]
  },
  {
   "cell_type": "markdown",
   "metadata": {},
   "source": [
    "Импортируем необходимые библиотеки."
   ]
  },
  {
   "cell_type": "code",
   "execution_count": 1,
   "metadata": {},
   "outputs": [],
   "source": [
    "import pandas as pd\n",
    "import numpy as np\n",
    "import seaborn as sns\n",
    "import matplotlib.pyplot as plt\n",
    "import scipy.stats as st"
   ]
  },
  {
   "cell_type": "markdown",
   "metadata": {},
   "source": [
    "Даны 5 таблиц. Загрузим данные из них."
   ]
  },
  {
   "cell_type": "code",
   "execution_count": 2,
   "metadata": {},
   "outputs": [],
   "source": [
    "calls = pd.read_csv('/datasets/calls.csv')"
   ]
  },
  {
   "cell_type": "code",
   "execution_count": 3,
   "metadata": {},
   "outputs": [
    {
     "data": {
      "text/html": [
       "<div>\n",
       "<style scoped>\n",
       "    .dataframe tbody tr th:only-of-type {\n",
       "        vertical-align: middle;\n",
       "    }\n",
       "\n",
       "    .dataframe tbody tr th {\n",
       "        vertical-align: top;\n",
       "    }\n",
       "\n",
       "    .dataframe thead th {\n",
       "        text-align: right;\n",
       "    }\n",
       "</style>\n",
       "<table border=\"1\" class=\"dataframe\">\n",
       "  <thead>\n",
       "    <tr style=\"text-align: right;\">\n",
       "      <th></th>\n",
       "      <th>id</th>\n",
       "      <th>call_date</th>\n",
       "      <th>duration</th>\n",
       "      <th>user_id</th>\n",
       "    </tr>\n",
       "  </thead>\n",
       "  <tbody>\n",
       "    <tr>\n",
       "      <th>0</th>\n",
       "      <td>1000_0</td>\n",
       "      <td>2018-07-25</td>\n",
       "      <td>0.00</td>\n",
       "      <td>1000</td>\n",
       "    </tr>\n",
       "    <tr>\n",
       "      <th>1</th>\n",
       "      <td>1000_1</td>\n",
       "      <td>2018-08-17</td>\n",
       "      <td>0.00</td>\n",
       "      <td>1000</td>\n",
       "    </tr>\n",
       "    <tr>\n",
       "      <th>2</th>\n",
       "      <td>1000_2</td>\n",
       "      <td>2018-06-11</td>\n",
       "      <td>2.85</td>\n",
       "      <td>1000</td>\n",
       "    </tr>\n",
       "    <tr>\n",
       "      <th>3</th>\n",
       "      <td>1000_3</td>\n",
       "      <td>2018-09-21</td>\n",
       "      <td>13.80</td>\n",
       "      <td>1000</td>\n",
       "    </tr>\n",
       "    <tr>\n",
       "      <th>4</th>\n",
       "      <td>1000_4</td>\n",
       "      <td>2018-12-15</td>\n",
       "      <td>5.18</td>\n",
       "      <td>1000</td>\n",
       "    </tr>\n",
       "  </tbody>\n",
       "</table>\n",
       "</div>"
      ],
      "text/plain": [
       "       id   call_date  duration  user_id\n",
       "0  1000_0  2018-07-25      0.00     1000\n",
       "1  1000_1  2018-08-17      0.00     1000\n",
       "2  1000_2  2018-06-11      2.85     1000\n",
       "3  1000_3  2018-09-21     13.80     1000\n",
       "4  1000_4  2018-12-15      5.18     1000"
      ]
     },
     "execution_count": 3,
     "metadata": {},
     "output_type": "execute_result"
    }
   ],
   "source": [
    "calls.head()"
   ]
  },
  {
   "cell_type": "code",
   "execution_count": 4,
   "metadata": {},
   "outputs": [
    {
     "name": "stdout",
     "output_type": "stream",
     "text": [
      "<class 'pandas.core.frame.DataFrame'>\n",
      "RangeIndex: 202607 entries, 0 to 202606\n",
      "Data columns (total 4 columns):\n",
      " #   Column     Non-Null Count   Dtype  \n",
      "---  ------     --------------   -----  \n",
      " 0   id         202607 non-null  object \n",
      " 1   call_date  202607 non-null  object \n",
      " 2   duration   202607 non-null  float64\n",
      " 3   user_id    202607 non-null  int64  \n",
      "dtypes: float64(1), int64(1), object(2)\n",
      "memory usage: 6.2+ MB\n"
     ]
    }
   ],
   "source": [
    "calls.info()"
   ]
  },
  {
   "cell_type": "code",
   "execution_count": 5,
   "metadata": {},
   "outputs": [],
   "source": [
    "internet = pd.read_csv('/datasets/internet.csv')"
   ]
  },
  {
   "cell_type": "code",
   "execution_count": 6,
   "metadata": {},
   "outputs": [
    {
     "data": {
      "text/html": [
       "<div>\n",
       "<style scoped>\n",
       "    .dataframe tbody tr th:only-of-type {\n",
       "        vertical-align: middle;\n",
       "    }\n",
       "\n",
       "    .dataframe tbody tr th {\n",
       "        vertical-align: top;\n",
       "    }\n",
       "\n",
       "    .dataframe thead th {\n",
       "        text-align: right;\n",
       "    }\n",
       "</style>\n",
       "<table border=\"1\" class=\"dataframe\">\n",
       "  <thead>\n",
       "    <tr style=\"text-align: right;\">\n",
       "      <th></th>\n",
       "      <th>Unnamed: 0</th>\n",
       "      <th>id</th>\n",
       "      <th>mb_used</th>\n",
       "      <th>session_date</th>\n",
       "      <th>user_id</th>\n",
       "    </tr>\n",
       "  </thead>\n",
       "  <tbody>\n",
       "    <tr>\n",
       "      <th>0</th>\n",
       "      <td>0</td>\n",
       "      <td>1000_0</td>\n",
       "      <td>112.95</td>\n",
       "      <td>2018-11-25</td>\n",
       "      <td>1000</td>\n",
       "    </tr>\n",
       "    <tr>\n",
       "      <th>1</th>\n",
       "      <td>1</td>\n",
       "      <td>1000_1</td>\n",
       "      <td>1052.81</td>\n",
       "      <td>2018-09-07</td>\n",
       "      <td>1000</td>\n",
       "    </tr>\n",
       "    <tr>\n",
       "      <th>2</th>\n",
       "      <td>2</td>\n",
       "      <td>1000_2</td>\n",
       "      <td>1197.26</td>\n",
       "      <td>2018-06-25</td>\n",
       "      <td>1000</td>\n",
       "    </tr>\n",
       "    <tr>\n",
       "      <th>3</th>\n",
       "      <td>3</td>\n",
       "      <td>1000_3</td>\n",
       "      <td>550.27</td>\n",
       "      <td>2018-08-22</td>\n",
       "      <td>1000</td>\n",
       "    </tr>\n",
       "    <tr>\n",
       "      <th>4</th>\n",
       "      <td>4</td>\n",
       "      <td>1000_4</td>\n",
       "      <td>302.56</td>\n",
       "      <td>2018-09-24</td>\n",
       "      <td>1000</td>\n",
       "    </tr>\n",
       "  </tbody>\n",
       "</table>\n",
       "</div>"
      ],
      "text/plain": [
       "   Unnamed: 0      id  mb_used session_date  user_id\n",
       "0           0  1000_0   112.95   2018-11-25     1000\n",
       "1           1  1000_1  1052.81   2018-09-07     1000\n",
       "2           2  1000_2  1197.26   2018-06-25     1000\n",
       "3           3  1000_3   550.27   2018-08-22     1000\n",
       "4           4  1000_4   302.56   2018-09-24     1000"
      ]
     },
     "execution_count": 6,
     "metadata": {},
     "output_type": "execute_result"
    }
   ],
   "source": [
    "internet.head()"
   ]
  },
  {
   "cell_type": "code",
   "execution_count": 7,
   "metadata": {},
   "outputs": [
    {
     "name": "stdout",
     "output_type": "stream",
     "text": [
      "<class 'pandas.core.frame.DataFrame'>\n",
      "RangeIndex: 149396 entries, 0 to 149395\n",
      "Data columns (total 5 columns):\n",
      " #   Column        Non-Null Count   Dtype  \n",
      "---  ------        --------------   -----  \n",
      " 0   Unnamed: 0    149396 non-null  int64  \n",
      " 1   id            149396 non-null  object \n",
      " 2   mb_used       149396 non-null  float64\n",
      " 3   session_date  149396 non-null  object \n",
      " 4   user_id       149396 non-null  int64  \n",
      "dtypes: float64(1), int64(2), object(2)\n",
      "memory usage: 5.7+ MB\n"
     ]
    }
   ],
   "source": [
    "internet.info()"
   ]
  },
  {
   "cell_type": "code",
   "execution_count": 8,
   "metadata": {},
   "outputs": [],
   "source": [
    "messages = pd.read_csv('/datasets/messages.csv')"
   ]
  },
  {
   "cell_type": "code",
   "execution_count": 9,
   "metadata": {},
   "outputs": [
    {
     "data": {
      "text/html": [
       "<div>\n",
       "<style scoped>\n",
       "    .dataframe tbody tr th:only-of-type {\n",
       "        vertical-align: middle;\n",
       "    }\n",
       "\n",
       "    .dataframe tbody tr th {\n",
       "        vertical-align: top;\n",
       "    }\n",
       "\n",
       "    .dataframe thead th {\n",
       "        text-align: right;\n",
       "    }\n",
       "</style>\n",
       "<table border=\"1\" class=\"dataframe\">\n",
       "  <thead>\n",
       "    <tr style=\"text-align: right;\">\n",
       "      <th></th>\n",
       "      <th>id</th>\n",
       "      <th>message_date</th>\n",
       "      <th>user_id</th>\n",
       "    </tr>\n",
       "  </thead>\n",
       "  <tbody>\n",
       "    <tr>\n",
       "      <th>0</th>\n",
       "      <td>1000_0</td>\n",
       "      <td>2018-06-27</td>\n",
       "      <td>1000</td>\n",
       "    </tr>\n",
       "    <tr>\n",
       "      <th>1</th>\n",
       "      <td>1000_1</td>\n",
       "      <td>2018-10-08</td>\n",
       "      <td>1000</td>\n",
       "    </tr>\n",
       "    <tr>\n",
       "      <th>2</th>\n",
       "      <td>1000_2</td>\n",
       "      <td>2018-08-04</td>\n",
       "      <td>1000</td>\n",
       "    </tr>\n",
       "    <tr>\n",
       "      <th>3</th>\n",
       "      <td>1000_3</td>\n",
       "      <td>2018-06-16</td>\n",
       "      <td>1000</td>\n",
       "    </tr>\n",
       "    <tr>\n",
       "      <th>4</th>\n",
       "      <td>1000_4</td>\n",
       "      <td>2018-12-05</td>\n",
       "      <td>1000</td>\n",
       "    </tr>\n",
       "  </tbody>\n",
       "</table>\n",
       "</div>"
      ],
      "text/plain": [
       "       id message_date  user_id\n",
       "0  1000_0   2018-06-27     1000\n",
       "1  1000_1   2018-10-08     1000\n",
       "2  1000_2   2018-08-04     1000\n",
       "3  1000_3   2018-06-16     1000\n",
       "4  1000_4   2018-12-05     1000"
      ]
     },
     "execution_count": 9,
     "metadata": {},
     "output_type": "execute_result"
    }
   ],
   "source": [
    "messages.head()"
   ]
  },
  {
   "cell_type": "code",
   "execution_count": 10,
   "metadata": {},
   "outputs": [
    {
     "name": "stdout",
     "output_type": "stream",
     "text": [
      "<class 'pandas.core.frame.DataFrame'>\n",
      "RangeIndex: 123036 entries, 0 to 123035\n",
      "Data columns (total 3 columns):\n",
      " #   Column        Non-Null Count   Dtype \n",
      "---  ------        --------------   ----- \n",
      " 0   id            123036 non-null  object\n",
      " 1   message_date  123036 non-null  object\n",
      " 2   user_id       123036 non-null  int64 \n",
      "dtypes: int64(1), object(2)\n",
      "memory usage: 2.8+ MB\n"
     ]
    }
   ],
   "source": [
    "messages.info()"
   ]
  },
  {
   "cell_type": "code",
   "execution_count": 11,
   "metadata": {},
   "outputs": [],
   "source": [
    "tariffs = pd.read_csv('/datasets/tariffs.csv')"
   ]
  },
  {
   "cell_type": "code",
   "execution_count": 12,
   "metadata": {},
   "outputs": [
    {
     "data": {
      "text/html": [
       "<div>\n",
       "<style scoped>\n",
       "    .dataframe tbody tr th:only-of-type {\n",
       "        vertical-align: middle;\n",
       "    }\n",
       "\n",
       "    .dataframe tbody tr th {\n",
       "        vertical-align: top;\n",
       "    }\n",
       "\n",
       "    .dataframe thead th {\n",
       "        text-align: right;\n",
       "    }\n",
       "</style>\n",
       "<table border=\"1\" class=\"dataframe\">\n",
       "  <thead>\n",
       "    <tr style=\"text-align: right;\">\n",
       "      <th></th>\n",
       "      <th>messages_included</th>\n",
       "      <th>mb_per_month_included</th>\n",
       "      <th>minutes_included</th>\n",
       "      <th>rub_monthly_fee</th>\n",
       "      <th>rub_per_gb</th>\n",
       "      <th>rub_per_message</th>\n",
       "      <th>rub_per_minute</th>\n",
       "      <th>tariff_name</th>\n",
       "    </tr>\n",
       "  </thead>\n",
       "  <tbody>\n",
       "    <tr>\n",
       "      <th>0</th>\n",
       "      <td>50</td>\n",
       "      <td>15360</td>\n",
       "      <td>500</td>\n",
       "      <td>550</td>\n",
       "      <td>200</td>\n",
       "      <td>3</td>\n",
       "      <td>3</td>\n",
       "      <td>smart</td>\n",
       "    </tr>\n",
       "    <tr>\n",
       "      <th>1</th>\n",
       "      <td>1000</td>\n",
       "      <td>30720</td>\n",
       "      <td>3000</td>\n",
       "      <td>1950</td>\n",
       "      <td>150</td>\n",
       "      <td>1</td>\n",
       "      <td>1</td>\n",
       "      <td>ultra</td>\n",
       "    </tr>\n",
       "  </tbody>\n",
       "</table>\n",
       "</div>"
      ],
      "text/plain": [
       "   messages_included  mb_per_month_included  minutes_included  \\\n",
       "0                 50                  15360               500   \n",
       "1               1000                  30720              3000   \n",
       "\n",
       "   rub_monthly_fee  rub_per_gb  rub_per_message  rub_per_minute tariff_name  \n",
       "0              550         200                3               3       smart  \n",
       "1             1950         150                1               1       ultra  "
      ]
     },
     "execution_count": 12,
     "metadata": {},
     "output_type": "execute_result"
    }
   ],
   "source": [
    "tariffs.head()"
   ]
  },
  {
   "cell_type": "code",
   "execution_count": 13,
   "metadata": {},
   "outputs": [
    {
     "name": "stdout",
     "output_type": "stream",
     "text": [
      "<class 'pandas.core.frame.DataFrame'>\n",
      "RangeIndex: 2 entries, 0 to 1\n",
      "Data columns (total 8 columns):\n",
      " #   Column                 Non-Null Count  Dtype \n",
      "---  ------                 --------------  ----- \n",
      " 0   messages_included      2 non-null      int64 \n",
      " 1   mb_per_month_included  2 non-null      int64 \n",
      " 2   minutes_included       2 non-null      int64 \n",
      " 3   rub_monthly_fee        2 non-null      int64 \n",
      " 4   rub_per_gb             2 non-null      int64 \n",
      " 5   rub_per_message        2 non-null      int64 \n",
      " 6   rub_per_minute         2 non-null      int64 \n",
      " 7   tariff_name            2 non-null      object\n",
      "dtypes: int64(7), object(1)\n",
      "memory usage: 256.0+ bytes\n"
     ]
    }
   ],
   "source": [
    "tariffs.info()"
   ]
  },
  {
   "cell_type": "code",
   "execution_count": 14,
   "metadata": {},
   "outputs": [],
   "source": [
    "users = pd.read_csv('/datasets/users.csv')"
   ]
  },
  {
   "cell_type": "code",
   "execution_count": 15,
   "metadata": {},
   "outputs": [
    {
     "data": {
      "text/html": [
       "<div>\n",
       "<style scoped>\n",
       "    .dataframe tbody tr th:only-of-type {\n",
       "        vertical-align: middle;\n",
       "    }\n",
       "\n",
       "    .dataframe tbody tr th {\n",
       "        vertical-align: top;\n",
       "    }\n",
       "\n",
       "    .dataframe thead th {\n",
       "        text-align: right;\n",
       "    }\n",
       "</style>\n",
       "<table border=\"1\" class=\"dataframe\">\n",
       "  <thead>\n",
       "    <tr style=\"text-align: right;\">\n",
       "      <th></th>\n",
       "      <th>user_id</th>\n",
       "      <th>age</th>\n",
       "      <th>churn_date</th>\n",
       "      <th>city</th>\n",
       "      <th>first_name</th>\n",
       "      <th>last_name</th>\n",
       "      <th>reg_date</th>\n",
       "      <th>tariff</th>\n",
       "    </tr>\n",
       "  </thead>\n",
       "  <tbody>\n",
       "    <tr>\n",
       "      <th>0</th>\n",
       "      <td>1000</td>\n",
       "      <td>52</td>\n",
       "      <td>NaN</td>\n",
       "      <td>Краснодар</td>\n",
       "      <td>Рафаил</td>\n",
       "      <td>Верещагин</td>\n",
       "      <td>2018-05-25</td>\n",
       "      <td>ultra</td>\n",
       "    </tr>\n",
       "    <tr>\n",
       "      <th>1</th>\n",
       "      <td>1001</td>\n",
       "      <td>41</td>\n",
       "      <td>NaN</td>\n",
       "      <td>Москва</td>\n",
       "      <td>Иван</td>\n",
       "      <td>Ежов</td>\n",
       "      <td>2018-11-01</td>\n",
       "      <td>smart</td>\n",
       "    </tr>\n",
       "    <tr>\n",
       "      <th>2</th>\n",
       "      <td>1002</td>\n",
       "      <td>59</td>\n",
       "      <td>NaN</td>\n",
       "      <td>Стерлитамак</td>\n",
       "      <td>Евгений</td>\n",
       "      <td>Абрамович</td>\n",
       "      <td>2018-06-17</td>\n",
       "      <td>smart</td>\n",
       "    </tr>\n",
       "    <tr>\n",
       "      <th>3</th>\n",
       "      <td>1003</td>\n",
       "      <td>23</td>\n",
       "      <td>NaN</td>\n",
       "      <td>Москва</td>\n",
       "      <td>Белла</td>\n",
       "      <td>Белякова</td>\n",
       "      <td>2018-08-17</td>\n",
       "      <td>ultra</td>\n",
       "    </tr>\n",
       "    <tr>\n",
       "      <th>4</th>\n",
       "      <td>1004</td>\n",
       "      <td>68</td>\n",
       "      <td>NaN</td>\n",
       "      <td>Новокузнецк</td>\n",
       "      <td>Татьяна</td>\n",
       "      <td>Авдеенко</td>\n",
       "      <td>2018-05-14</td>\n",
       "      <td>ultra</td>\n",
       "    </tr>\n",
       "  </tbody>\n",
       "</table>\n",
       "</div>"
      ],
      "text/plain": [
       "   user_id  age churn_date         city first_name  last_name    reg_date  \\\n",
       "0     1000   52        NaN    Краснодар     Рафаил  Верещагин  2018-05-25   \n",
       "1     1001   41        NaN       Москва       Иван       Ежов  2018-11-01   \n",
       "2     1002   59        NaN  Стерлитамак    Евгений  Абрамович  2018-06-17   \n",
       "3     1003   23        NaN       Москва      Белла   Белякова  2018-08-17   \n",
       "4     1004   68        NaN  Новокузнецк    Татьяна   Авдеенко  2018-05-14   \n",
       "\n",
       "  tariff  \n",
       "0  ultra  \n",
       "1  smart  \n",
       "2  smart  \n",
       "3  ultra  \n",
       "4  ultra  "
      ]
     },
     "execution_count": 15,
     "metadata": {},
     "output_type": "execute_result"
    }
   ],
   "source": [
    "users.head()"
   ]
  },
  {
   "cell_type": "code",
   "execution_count": 16,
   "metadata": {},
   "outputs": [
    {
     "name": "stdout",
     "output_type": "stream",
     "text": [
      "<class 'pandas.core.frame.DataFrame'>\n",
      "RangeIndex: 500 entries, 0 to 499\n",
      "Data columns (total 8 columns):\n",
      " #   Column      Non-Null Count  Dtype \n",
      "---  ------      --------------  ----- \n",
      " 0   user_id     500 non-null    int64 \n",
      " 1   age         500 non-null    int64 \n",
      " 2   churn_date  38 non-null     object\n",
      " 3   city        500 non-null    object\n",
      " 4   first_name  500 non-null    object\n",
      " 5   last_name   500 non-null    object\n",
      " 6   reg_date    500 non-null    object\n",
      " 7   tariff      500 non-null    object\n",
      "dtypes: int64(2), object(6)\n",
      "memory usage: 31.4+ KB\n"
     ]
    }
   ],
   "source": [
    "users.info()"
   ]
  },
  {
   "cell_type": "markdown",
   "metadata": {},
   "source": [
    "Пропущенные значения имеются только в таблице users, столбец churn_date (дата прекращения пользования тарифом). Пропуски означают, что пользователь не прекратил пользоваться тарифом и дата прекращения пользования отсутствует. Заменять пропуски не требуется."
   ]
  },
  {
   "cell_type": "markdown",
   "metadata": {},
   "source": [
    "## Шаг 2. Подготовка данных. "
   ]
  },
  {
   "cell_type": "markdown",
   "metadata": {},
   "source": [
    "Переведем в формат datetime данные с датой в таблицах: calls, messages, internet, users"
   ]
  },
  {
   "cell_type": "code",
   "execution_count": 17,
   "metadata": {},
   "outputs": [],
   "source": [
    "calls['call_date'] = pd.to_datetime(calls['call_date'], format='%Y-%m-%d')"
   ]
  },
  {
   "cell_type": "code",
   "execution_count": 18,
   "metadata": {},
   "outputs": [],
   "source": [
    "internet['session_date'] = pd.to_datetime(internet['session_date'], format='%Y-%m-%d')"
   ]
  },
  {
   "cell_type": "code",
   "execution_count": 19,
   "metadata": {},
   "outputs": [],
   "source": [
    "messages['message_date'] = pd.to_datetime(messages['message_date'], format='%Y-%m-%d')"
   ]
  },
  {
   "cell_type": "code",
   "execution_count": 20,
   "metadata": {},
   "outputs": [],
   "source": [
    "users['reg_date'] = pd.to_datetime(users['reg_date'], format='%Y-%m-%d')"
   ]
  },
  {
   "cell_type": "markdown",
   "metadata": {},
   "source": [
    "Добавим в таблицы calls, messages, internet колонку с месяцем даты звонка, даты сообщения и даты интернет-сессии соответственно."
   ]
  },
  {
   "cell_type": "code",
   "execution_count": 21,
   "metadata": {},
   "outputs": [],
   "source": [
    "calls['month'] = pd.to_datetime(calls['call_date']).dt.month"
   ]
  },
  {
   "cell_type": "code",
   "execution_count": 22,
   "metadata": {},
   "outputs": [],
   "source": [
    "messages['month'] = pd.to_datetime(messages['message_date']).dt.month"
   ]
  },
  {
   "cell_type": "code",
   "execution_count": 23,
   "metadata": {},
   "outputs": [],
   "source": [
    "internet['month'] = pd.to_datetime(internet['session_date']).dt.month"
   ]
  },
  {
   "cell_type": "code",
   "execution_count": 83,
   "metadata": {},
   "outputs": [
    {
     "data": {
      "text/html": [
       "<div>\n",
       "<style scoped>\n",
       "    .dataframe tbody tr th:only-of-type {\n",
       "        vertical-align: middle;\n",
       "    }\n",
       "\n",
       "    .dataframe tbody tr th {\n",
       "        vertical-align: top;\n",
       "    }\n",
       "\n",
       "    .dataframe thead th {\n",
       "        text-align: right;\n",
       "    }\n",
       "</style>\n",
       "<table border=\"1\" class=\"dataframe\">\n",
       "  <thead>\n",
       "    <tr style=\"text-align: right;\">\n",
       "      <th></th>\n",
       "      <th>Unnamed: 0</th>\n",
       "      <th>id</th>\n",
       "      <th>mb_used</th>\n",
       "      <th>session_date</th>\n",
       "      <th>user_id</th>\n",
       "      <th>month</th>\n",
       "    </tr>\n",
       "  </thead>\n",
       "  <tbody>\n",
       "    <tr>\n",
       "      <th>0</th>\n",
       "      <td>0</td>\n",
       "      <td>1000_0</td>\n",
       "      <td>112.95</td>\n",
       "      <td>2018-11-25</td>\n",
       "      <td>1000</td>\n",
       "      <td>11</td>\n",
       "    </tr>\n",
       "    <tr>\n",
       "      <th>1</th>\n",
       "      <td>1</td>\n",
       "      <td>1000_1</td>\n",
       "      <td>1052.81</td>\n",
       "      <td>2018-09-07</td>\n",
       "      <td>1000</td>\n",
       "      <td>9</td>\n",
       "    </tr>\n",
       "    <tr>\n",
       "      <th>2</th>\n",
       "      <td>2</td>\n",
       "      <td>1000_2</td>\n",
       "      <td>1197.26</td>\n",
       "      <td>2018-06-25</td>\n",
       "      <td>1000</td>\n",
       "      <td>6</td>\n",
       "    </tr>\n",
       "    <tr>\n",
       "      <th>3</th>\n",
       "      <td>3</td>\n",
       "      <td>1000_3</td>\n",
       "      <td>550.27</td>\n",
       "      <td>2018-08-22</td>\n",
       "      <td>1000</td>\n",
       "      <td>8</td>\n",
       "    </tr>\n",
       "    <tr>\n",
       "      <th>4</th>\n",
       "      <td>4</td>\n",
       "      <td>1000_4</td>\n",
       "      <td>302.56</td>\n",
       "      <td>2018-09-24</td>\n",
       "      <td>1000</td>\n",
       "      <td>9</td>\n",
       "    </tr>\n",
       "    <tr>\n",
       "      <th>...</th>\n",
       "      <td>...</td>\n",
       "      <td>...</td>\n",
       "      <td>...</td>\n",
       "      <td>...</td>\n",
       "      <td>...</td>\n",
       "      <td>...</td>\n",
       "    </tr>\n",
       "    <tr>\n",
       "      <th>149391</th>\n",
       "      <td>149391</td>\n",
       "      <td>1499_152</td>\n",
       "      <td>318.90</td>\n",
       "      <td>2018-10-03</td>\n",
       "      <td>1499</td>\n",
       "      <td>10</td>\n",
       "    </tr>\n",
       "    <tr>\n",
       "      <th>149392</th>\n",
       "      <td>149392</td>\n",
       "      <td>1499_153</td>\n",
       "      <td>490.13</td>\n",
       "      <td>2018-12-14</td>\n",
       "      <td>1499</td>\n",
       "      <td>12</td>\n",
       "    </tr>\n",
       "    <tr>\n",
       "      <th>149393</th>\n",
       "      <td>149393</td>\n",
       "      <td>1499_154</td>\n",
       "      <td>0.00</td>\n",
       "      <td>2018-10-27</td>\n",
       "      <td>1499</td>\n",
       "      <td>10</td>\n",
       "    </tr>\n",
       "    <tr>\n",
       "      <th>149394</th>\n",
       "      <td>149394</td>\n",
       "      <td>1499_155</td>\n",
       "      <td>1246.32</td>\n",
       "      <td>2018-11-26</td>\n",
       "      <td>1499</td>\n",
       "      <td>11</td>\n",
       "    </tr>\n",
       "    <tr>\n",
       "      <th>149395</th>\n",
       "      <td>149395</td>\n",
       "      <td>1499_156</td>\n",
       "      <td>544.37</td>\n",
       "      <td>2018-10-26</td>\n",
       "      <td>1499</td>\n",
       "      <td>10</td>\n",
       "    </tr>\n",
       "  </tbody>\n",
       "</table>\n",
       "<p>149396 rows × 6 columns</p>\n",
       "</div>"
      ],
      "text/plain": [
       "        Unnamed: 0        id  mb_used session_date  user_id  month\n",
       "0                0    1000_0   112.95   2018-11-25     1000     11\n",
       "1                1    1000_1  1052.81   2018-09-07     1000      9\n",
       "2                2    1000_2  1197.26   2018-06-25     1000      6\n",
       "3                3    1000_3   550.27   2018-08-22     1000      8\n",
       "4                4    1000_4   302.56   2018-09-24     1000      9\n",
       "...            ...       ...      ...          ...      ...    ...\n",
       "149391      149391  1499_152   318.90   2018-10-03     1499     10\n",
       "149392      149392  1499_153   490.13   2018-12-14     1499     12\n",
       "149393      149393  1499_154     0.00   2018-10-27     1499     10\n",
       "149394      149394  1499_155  1246.32   2018-11-26     1499     11\n",
       "149395      149395  1499_156   544.37   2018-10-26     1499     10\n",
       "\n",
       "[149396 rows x 6 columns]"
      ]
     },
     "execution_count": 83,
     "metadata": {},
     "output_type": "execute_result"
    }
   ],
   "source": [
    "internet"
   ]
  },
  {
   "cell_type": "markdown",
   "metadata": {},
   "source": [
    "Округлим в большую сторону до минуты длительность звонка в таблице calls (информация о звонках)."
   ]
  },
  {
   "cell_type": "code",
   "execution_count": 24,
   "metadata": {},
   "outputs": [],
   "source": [
    "calls['duration'] = np.ceil(calls['duration'])"
   ]
  },
  {
   "cell_type": "markdown",
   "metadata": {},
   "source": [
    "Поиск ошибок в данных.  \n",
    "Для каждой полученной таблицы применим функцию describe и построим гистограммы по столбцам с количественными переменными."
   ]
  },
  {
   "cell_type": "markdown",
   "metadata": {},
   "source": [
    "Таблица calls"
   ]
  },
  {
   "cell_type": "code",
   "execution_count": 25,
   "metadata": {},
   "outputs": [
    {
     "data": {
      "text/html": [
       "<div>\n",
       "<style scoped>\n",
       "    .dataframe tbody tr th:only-of-type {\n",
       "        vertical-align: middle;\n",
       "    }\n",
       "\n",
       "    .dataframe tbody tr th {\n",
       "        vertical-align: top;\n",
       "    }\n",
       "\n",
       "    .dataframe thead th {\n",
       "        text-align: right;\n",
       "    }\n",
       "</style>\n",
       "<table border=\"1\" class=\"dataframe\">\n",
       "  <thead>\n",
       "    <tr style=\"text-align: right;\">\n",
       "      <th></th>\n",
       "      <th>duration</th>\n",
       "      <th>user_id</th>\n",
       "      <th>month</th>\n",
       "    </tr>\n",
       "  </thead>\n",
       "  <tbody>\n",
       "    <tr>\n",
       "      <th>count</th>\n",
       "      <td>202607.000000</td>\n",
       "      <td>202607.000000</td>\n",
       "      <td>202607.000000</td>\n",
       "    </tr>\n",
       "    <tr>\n",
       "      <th>mean</th>\n",
       "      <td>7.158198</td>\n",
       "      <td>1253.940619</td>\n",
       "      <td>8.574067</td>\n",
       "    </tr>\n",
       "    <tr>\n",
       "      <th>std</th>\n",
       "      <td>5.959173</td>\n",
       "      <td>144.722751</td>\n",
       "      <td>2.787093</td>\n",
       "    </tr>\n",
       "    <tr>\n",
       "      <th>min</th>\n",
       "      <td>0.000000</td>\n",
       "      <td>1000.000000</td>\n",
       "      <td>1.000000</td>\n",
       "    </tr>\n",
       "    <tr>\n",
       "      <th>25%</th>\n",
       "      <td>2.000000</td>\n",
       "      <td>1126.000000</td>\n",
       "      <td>7.000000</td>\n",
       "    </tr>\n",
       "    <tr>\n",
       "      <th>50%</th>\n",
       "      <td>6.000000</td>\n",
       "      <td>1260.000000</td>\n",
       "      <td>9.000000</td>\n",
       "    </tr>\n",
       "    <tr>\n",
       "      <th>75%</th>\n",
       "      <td>11.000000</td>\n",
       "      <td>1379.000000</td>\n",
       "      <td>11.000000</td>\n",
       "    </tr>\n",
       "    <tr>\n",
       "      <th>max</th>\n",
       "      <td>38.000000</td>\n",
       "      <td>1499.000000</td>\n",
       "      <td>12.000000</td>\n",
       "    </tr>\n",
       "  </tbody>\n",
       "</table>\n",
       "</div>"
      ],
      "text/plain": [
       "            duration        user_id          month\n",
       "count  202607.000000  202607.000000  202607.000000\n",
       "mean        7.158198    1253.940619       8.574067\n",
       "std         5.959173     144.722751       2.787093\n",
       "min         0.000000    1000.000000       1.000000\n",
       "25%         2.000000    1126.000000       7.000000\n",
       "50%         6.000000    1260.000000       9.000000\n",
       "75%        11.000000    1379.000000      11.000000\n",
       "max        38.000000    1499.000000      12.000000"
      ]
     },
     "execution_count": 25,
     "metadata": {},
     "output_type": "execute_result"
    }
   ],
   "source": [
    "calls.describe()"
   ]
  },
  {
   "cell_type": "code",
   "execution_count": 26,
   "metadata": {},
   "outputs": [
    {
     "data": {
      "image/png": "[encoded data removed]",
      "text/plain": [
       "<Figure size 864x720 with 4 Axes>"
      ]
     },
     "metadata": {
      "needs_background": "light"
     },
     "output_type": "display_data"
    }
   ],
   "source": [
    "calls.hist(figsize=(12,10))\n",
    "None"
   ]
  },
  {
   "cell_type": "markdown",
   "metadata": {},
   "source": [
    "Ошибки и аномалии в таблице отсутствуют, столбец duration — длительность звонка в минутах, в пределах от 0 до 38 минут."
   ]
  },
  {
   "cell_type": "markdown",
   "metadata": {},
   "source": [
    "Таблица internet"
   ]
  },
  {
   "cell_type": "code",
   "execution_count": 27,
   "metadata": {},
   "outputs": [
    {
     "data": {
      "text/html": [
       "<div>\n",
       "<style scoped>\n",
       "    .dataframe tbody tr th:only-of-type {\n",
       "        vertical-align: middle;\n",
       "    }\n",
       "\n",
       "    .dataframe tbody tr th {\n",
       "        vertical-align: top;\n",
       "    }\n",
       "\n",
       "    .dataframe thead th {\n",
       "        text-align: right;\n",
       "    }\n",
       "</style>\n",
       "<table border=\"1\" class=\"dataframe\">\n",
       "  <thead>\n",
       "    <tr style=\"text-align: right;\">\n",
       "      <th></th>\n",
       "      <th>Unnamed: 0</th>\n",
       "      <th>mb_used</th>\n",
       "      <th>user_id</th>\n",
       "      <th>month</th>\n",
       "    </tr>\n",
       "  </thead>\n",
       "  <tbody>\n",
       "    <tr>\n",
       "      <th>count</th>\n",
       "      <td>149396.000000</td>\n",
       "      <td>149396.000000</td>\n",
       "      <td>149396.000000</td>\n",
       "      <td>149396.000000</td>\n",
       "    </tr>\n",
       "    <tr>\n",
       "      <th>mean</th>\n",
       "      <td>74697.500000</td>\n",
       "      <td>370.192426</td>\n",
       "      <td>1252.099842</td>\n",
       "      <td>8.563315</td>\n",
       "    </tr>\n",
       "    <tr>\n",
       "      <th>std</th>\n",
       "      <td>43127.054745</td>\n",
       "      <td>278.300951</td>\n",
       "      <td>144.050823</td>\n",
       "      <td>2.788717</td>\n",
       "    </tr>\n",
       "    <tr>\n",
       "      <th>min</th>\n",
       "      <td>0.000000</td>\n",
       "      <td>0.000000</td>\n",
       "      <td>1000.000000</td>\n",
       "      <td>1.000000</td>\n",
       "    </tr>\n",
       "    <tr>\n",
       "      <th>25%</th>\n",
       "      <td>37348.750000</td>\n",
       "      <td>138.187500</td>\n",
       "      <td>1130.000000</td>\n",
       "      <td>7.000000</td>\n",
       "    </tr>\n",
       "    <tr>\n",
       "      <th>50%</th>\n",
       "      <td>74697.500000</td>\n",
       "      <td>348.015000</td>\n",
       "      <td>1251.000000</td>\n",
       "      <td>9.000000</td>\n",
       "    </tr>\n",
       "    <tr>\n",
       "      <th>75%</th>\n",
       "      <td>112046.250000</td>\n",
       "      <td>559.552500</td>\n",
       "      <td>1380.000000</td>\n",
       "      <td>11.000000</td>\n",
       "    </tr>\n",
       "    <tr>\n",
       "      <th>max</th>\n",
       "      <td>149395.000000</td>\n",
       "      <td>1724.830000</td>\n",
       "      <td>1499.000000</td>\n",
       "      <td>12.000000</td>\n",
       "    </tr>\n",
       "  </tbody>\n",
       "</table>\n",
       "</div>"
      ],
      "text/plain": [
       "          Unnamed: 0        mb_used        user_id          month\n",
       "count  149396.000000  149396.000000  149396.000000  149396.000000\n",
       "mean    74697.500000     370.192426    1252.099842       8.563315\n",
       "std     43127.054745     278.300951     144.050823       2.788717\n",
       "min         0.000000       0.000000    1000.000000       1.000000\n",
       "25%     37348.750000     138.187500    1130.000000       7.000000\n",
       "50%     74697.500000     348.015000    1251.000000       9.000000\n",
       "75%    112046.250000     559.552500    1380.000000      11.000000\n",
       "max    149395.000000    1724.830000    1499.000000      12.000000"
      ]
     },
     "execution_count": 27,
     "metadata": {},
     "output_type": "execute_result"
    }
   ],
   "source": [
    "internet.describe()"
   ]
  },
  {
   "cell_type": "code",
   "execution_count": 28,
   "metadata": {},
   "outputs": [
    {
     "data": {
      "image/png": "[encoded data removed]",
      "text/plain": [
       "<Figure size 864x720 with 6 Axes>"
      ]
     },
     "metadata": {
      "needs_background": "light"
     },
     "output_type": "display_data"
    }
   ],
   "source": [
    "internet.hist(figsize=(12,10))\n",
    "None"
   ]
  },
  {
   "cell_type": "markdown",
   "metadata": {},
   "source": [
    "Ошибки и аномалии в таблице отсутствуют, столбец mb_used — объём потраченного за сессию интернет-трафика, в пределах от 0 до 1725 Мб."
   ]
  },
  {
   "cell_type": "markdown",
   "metadata": {},
   "source": [
    "Таблица messages"
   ]
  },
  {
   "cell_type": "code",
   "execution_count": 29,
   "metadata": {},
   "outputs": [
    {
     "data": {
      "text/html": [
       "<div>\n",
       "<style scoped>\n",
       "    .dataframe tbody tr th:only-of-type {\n",
       "        vertical-align: middle;\n",
       "    }\n",
       "\n",
       "    .dataframe tbody tr th {\n",
       "        vertical-align: top;\n",
       "    }\n",
       "\n",
       "    .dataframe thead th {\n",
       "        text-align: right;\n",
       "    }\n",
       "</style>\n",
       "<table border=\"1\" class=\"dataframe\">\n",
       "  <thead>\n",
       "    <tr style=\"text-align: right;\">\n",
       "      <th></th>\n",
       "      <th>user_id</th>\n",
       "      <th>month</th>\n",
       "    </tr>\n",
       "  </thead>\n",
       "  <tbody>\n",
       "    <tr>\n",
       "      <th>count</th>\n",
       "      <td>123036.000000</td>\n",
       "      <td>123036.000000</td>\n",
       "    </tr>\n",
       "    <tr>\n",
       "      <th>mean</th>\n",
       "      <td>1256.989410</td>\n",
       "      <td>8.632262</td>\n",
       "    </tr>\n",
       "    <tr>\n",
       "      <th>std</th>\n",
       "      <td>143.523967</td>\n",
       "      <td>2.747328</td>\n",
       "    </tr>\n",
       "    <tr>\n",
       "      <th>min</th>\n",
       "      <td>1000.000000</td>\n",
       "      <td>1.000000</td>\n",
       "    </tr>\n",
       "    <tr>\n",
       "      <th>25%</th>\n",
       "      <td>1134.000000</td>\n",
       "      <td>7.000000</td>\n",
       "    </tr>\n",
       "    <tr>\n",
       "      <th>50%</th>\n",
       "      <td>1271.000000</td>\n",
       "      <td>9.000000</td>\n",
       "    </tr>\n",
       "    <tr>\n",
       "      <th>75%</th>\n",
       "      <td>1381.000000</td>\n",
       "      <td>11.000000</td>\n",
       "    </tr>\n",
       "    <tr>\n",
       "      <th>max</th>\n",
       "      <td>1499.000000</td>\n",
       "      <td>12.000000</td>\n",
       "    </tr>\n",
       "  </tbody>\n",
       "</table>\n",
       "</div>"
      ],
      "text/plain": [
       "             user_id          month\n",
       "count  123036.000000  123036.000000\n",
       "mean     1256.989410       8.632262\n",
       "std       143.523967       2.747328\n",
       "min      1000.000000       1.000000\n",
       "25%      1134.000000       7.000000\n",
       "50%      1271.000000       9.000000\n",
       "75%      1381.000000      11.000000\n",
       "max      1499.000000      12.000000"
      ]
     },
     "execution_count": 29,
     "metadata": {},
     "output_type": "execute_result"
    }
   ],
   "source": [
    "messages.describe()"
   ]
  },
  {
   "cell_type": "code",
   "execution_count": 30,
   "metadata": {},
   "outputs": [
    {
     "data": {
      "image/png": "[encoded data removed]",
      "text/plain": [
       "<Figure size 864x720 with 4 Axes>"
      ]
     },
     "metadata": {
      "needs_background": "light"
     },
     "output_type": "display_data"
    }
   ],
   "source": [
    "messages.hist(figsize=(12,10))\n",
    "None"
   ]
  },
  {
   "cell_type": "markdown",
   "metadata": {},
   "source": [
    "Ошибки и аномалии в таблице отсутствуют."
   ]
  },
  {
   "cell_type": "markdown",
   "metadata": {},
   "source": [
    "Таблица users"
   ]
  },
  {
   "cell_type": "code",
   "execution_count": 31,
   "metadata": {},
   "outputs": [
    {
     "data": {
      "text/html": [
       "<div>\n",
       "<style scoped>\n",
       "    .dataframe tbody tr th:only-of-type {\n",
       "        vertical-align: middle;\n",
       "    }\n",
       "\n",
       "    .dataframe tbody tr th {\n",
       "        vertical-align: top;\n",
       "    }\n",
       "\n",
       "    .dataframe thead th {\n",
       "        text-align: right;\n",
       "    }\n",
       "</style>\n",
       "<table border=\"1\" class=\"dataframe\">\n",
       "  <thead>\n",
       "    <tr style=\"text-align: right;\">\n",
       "      <th></th>\n",
       "      <th>user_id</th>\n",
       "      <th>age</th>\n",
       "    </tr>\n",
       "  </thead>\n",
       "  <tbody>\n",
       "    <tr>\n",
       "      <th>count</th>\n",
       "      <td>500.000000</td>\n",
       "      <td>500.00000</td>\n",
       "    </tr>\n",
       "    <tr>\n",
       "      <th>mean</th>\n",
       "      <td>1249.500000</td>\n",
       "      <td>46.58800</td>\n",
       "    </tr>\n",
       "    <tr>\n",
       "      <th>std</th>\n",
       "      <td>144.481833</td>\n",
       "      <td>16.66763</td>\n",
       "    </tr>\n",
       "    <tr>\n",
       "      <th>min</th>\n",
       "      <td>1000.000000</td>\n",
       "      <td>18.00000</td>\n",
       "    </tr>\n",
       "    <tr>\n",
       "      <th>25%</th>\n",
       "      <td>1124.750000</td>\n",
       "      <td>32.00000</td>\n",
       "    </tr>\n",
       "    <tr>\n",
       "      <th>50%</th>\n",
       "      <td>1249.500000</td>\n",
       "      <td>46.00000</td>\n",
       "    </tr>\n",
       "    <tr>\n",
       "      <th>75%</th>\n",
       "      <td>1374.250000</td>\n",
       "      <td>62.00000</td>\n",
       "    </tr>\n",
       "    <tr>\n",
       "      <th>max</th>\n",
       "      <td>1499.000000</td>\n",
       "      <td>75.00000</td>\n",
       "    </tr>\n",
       "  </tbody>\n",
       "</table>\n",
       "</div>"
      ],
      "text/plain": [
       "           user_id        age\n",
       "count   500.000000  500.00000\n",
       "mean   1249.500000   46.58800\n",
       "std     144.481833   16.66763\n",
       "min    1000.000000   18.00000\n",
       "25%    1124.750000   32.00000\n",
       "50%    1249.500000   46.00000\n",
       "75%    1374.250000   62.00000\n",
       "max    1499.000000   75.00000"
      ]
     },
     "execution_count": 31,
     "metadata": {},
     "output_type": "execute_result"
    }
   ],
   "source": [
    "users.describe()"
   ]
  },
  {
   "cell_type": "code",
   "execution_count": 32,
   "metadata": {},
   "outputs": [
    {
     "data": {
      "image/png": "[encoded data removed]",
      "text/plain": [
       "<Figure size 864x720 with 4 Axes>"
      ]
     },
     "metadata": {
      "needs_background": "light"
     },
     "output_type": "display_data"
    }
   ],
   "source": [
    "users.hist(figsize=(12,10))\n",
    "None"
   ]
  },
  {
   "cell_type": "markdown",
   "metadata": {},
   "source": [
    "Ошибки и аномалии в таблице отсутствуют, age — возраст пользователя в годах, в пределах от 18 до 75 лет."
   ]
  },
  {
   "cell_type": "markdown",
   "metadata": {},
   "source": [
    "Таблица tariffs"
   ]
  },
  {
   "cell_type": "code",
   "execution_count": 33,
   "metadata": {},
   "outputs": [
    {
     "data": {
      "text/html": [
       "<div>\n",
       "<style scoped>\n",
       "    .dataframe tbody tr th:only-of-type {\n",
       "        vertical-align: middle;\n",
       "    }\n",
       "\n",
       "    .dataframe tbody tr th {\n",
       "        vertical-align: top;\n",
       "    }\n",
       "\n",
       "    .dataframe thead th {\n",
       "        text-align: right;\n",
       "    }\n",
       "</style>\n",
       "<table border=\"1\" class=\"dataframe\">\n",
       "  <thead>\n",
       "    <tr style=\"text-align: right;\">\n",
       "      <th></th>\n",
       "      <th>messages_included</th>\n",
       "      <th>mb_per_month_included</th>\n",
       "      <th>minutes_included</th>\n",
       "      <th>rub_monthly_fee</th>\n",
       "      <th>rub_per_gb</th>\n",
       "      <th>rub_per_message</th>\n",
       "      <th>rub_per_minute</th>\n",
       "      <th>tariff_name</th>\n",
       "    </tr>\n",
       "  </thead>\n",
       "  <tbody>\n",
       "    <tr>\n",
       "      <th>0</th>\n",
       "      <td>50</td>\n",
       "      <td>15360</td>\n",
       "      <td>500</td>\n",
       "      <td>550</td>\n",
       "      <td>200</td>\n",
       "      <td>3</td>\n",
       "      <td>3</td>\n",
       "      <td>smart</td>\n",
       "    </tr>\n",
       "    <tr>\n",
       "      <th>1</th>\n",
       "      <td>1000</td>\n",
       "      <td>30720</td>\n",
       "      <td>3000</td>\n",
       "      <td>1950</td>\n",
       "      <td>150</td>\n",
       "      <td>1</td>\n",
       "      <td>1</td>\n",
       "      <td>ultra</td>\n",
       "    </tr>\n",
       "  </tbody>\n",
       "</table>\n",
       "</div>"
      ],
      "text/plain": [
       "   messages_included  mb_per_month_included  minutes_included  \\\n",
       "0                 50                  15360               500   \n",
       "1               1000                  30720              3000   \n",
       "\n",
       "   rub_monthly_fee  rub_per_gb  rub_per_message  rub_per_minute tariff_name  \n",
       "0              550         200                3               3       smart  \n",
       "1             1950         150                1               1       ultra  "
      ]
     },
     "execution_count": 33,
     "metadata": {},
     "output_type": "execute_result"
    }
   ],
   "source": [
    "tariffs"
   ]
  },
  {
   "cell_type": "markdown",
   "metadata": {},
   "source": [
    "В таблице всего две строки, ошибки отсутствуют."
   ]
  },
  {
   "cell_type": "markdown",
   "metadata": {},
   "source": [
    "Сгруппируем таблицы calls, internet, messages по идентификатору пользователя и месяцу"
   ]
  },
  {
   "cell_type": "code",
   "execution_count": 34,
   "metadata": {},
   "outputs": [],
   "source": [
    "calls_group = calls.groupby(['user_id', 'month']).agg({'duration': ['sum', 'count']}).reset_index()"
   ]
  },
  {
   "cell_type": "code",
   "execution_count": 35,
   "metadata": {},
   "outputs": [],
   "source": [
    "calls_group.columns = ['user_id', 'month', 'duration', 'count_calls']"
   ]
  },
  {
   "cell_type": "code",
   "execution_count": 36,
   "metadata": {},
   "outputs": [
    {
     "data": {
      "text/html": [
       "<div>\n",
       "<style scoped>\n",
       "    .dataframe tbody tr th:only-of-type {\n",
       "        vertical-align: middle;\n",
       "    }\n",
       "\n",
       "    .dataframe tbody tr th {\n",
       "        vertical-align: top;\n",
       "    }\n",
       "\n",
       "    .dataframe thead th {\n",
       "        text-align: right;\n",
       "    }\n",
       "</style>\n",
       "<table border=\"1\" class=\"dataframe\">\n",
       "  <thead>\n",
       "    <tr style=\"text-align: right;\">\n",
       "      <th></th>\n",
       "      <th>user_id</th>\n",
       "      <th>month</th>\n",
       "      <th>duration</th>\n",
       "      <th>count_calls</th>\n",
       "    </tr>\n",
       "  </thead>\n",
       "  <tbody>\n",
       "    <tr>\n",
       "      <th>0</th>\n",
       "      <td>1000</td>\n",
       "      <td>5</td>\n",
       "      <td>159.0</td>\n",
       "      <td>22</td>\n",
       "    </tr>\n",
       "    <tr>\n",
       "      <th>1</th>\n",
       "      <td>1000</td>\n",
       "      <td>6</td>\n",
       "      <td>172.0</td>\n",
       "      <td>43</td>\n",
       "    </tr>\n",
       "    <tr>\n",
       "      <th>2</th>\n",
       "      <td>1000</td>\n",
       "      <td>7</td>\n",
       "      <td>340.0</td>\n",
       "      <td>47</td>\n",
       "    </tr>\n",
       "    <tr>\n",
       "      <th>3</th>\n",
       "      <td>1000</td>\n",
       "      <td>8</td>\n",
       "      <td>408.0</td>\n",
       "      <td>52</td>\n",
       "    </tr>\n",
       "    <tr>\n",
       "      <th>4</th>\n",
       "      <td>1000</td>\n",
       "      <td>9</td>\n",
       "      <td>466.0</td>\n",
       "      <td>58</td>\n",
       "    </tr>\n",
       "    <tr>\n",
       "      <th>...</th>\n",
       "      <td>...</td>\n",
       "      <td>...</td>\n",
       "      <td>...</td>\n",
       "      <td>...</td>\n",
       "    </tr>\n",
       "    <tr>\n",
       "      <th>3169</th>\n",
       "      <td>1498</td>\n",
       "      <td>10</td>\n",
       "      <td>247.0</td>\n",
       "      <td>41</td>\n",
       "    </tr>\n",
       "    <tr>\n",
       "      <th>3170</th>\n",
       "      <td>1499</td>\n",
       "      <td>9</td>\n",
       "      <td>70.0</td>\n",
       "      <td>9</td>\n",
       "    </tr>\n",
       "    <tr>\n",
       "      <th>3171</th>\n",
       "      <td>1499</td>\n",
       "      <td>10</td>\n",
       "      <td>449.0</td>\n",
       "      <td>68</td>\n",
       "    </tr>\n",
       "    <tr>\n",
       "      <th>3172</th>\n",
       "      <td>1499</td>\n",
       "      <td>11</td>\n",
       "      <td>612.0</td>\n",
       "      <td>74</td>\n",
       "    </tr>\n",
       "    <tr>\n",
       "      <th>3173</th>\n",
       "      <td>1499</td>\n",
       "      <td>12</td>\n",
       "      <td>492.0</td>\n",
       "      <td>69</td>\n",
       "    </tr>\n",
       "  </tbody>\n",
       "</table>\n",
       "<p>3174 rows × 4 columns</p>\n",
       "</div>"
      ],
      "text/plain": [
       "      user_id  month  duration  count_calls\n",
       "0        1000      5     159.0           22\n",
       "1        1000      6     172.0           43\n",
       "2        1000      7     340.0           47\n",
       "3        1000      8     408.0           52\n",
       "4        1000      9     466.0           58\n",
       "...       ...    ...       ...          ...\n",
       "3169     1498     10     247.0           41\n",
       "3170     1499      9      70.0            9\n",
       "3171     1499     10     449.0           68\n",
       "3172     1499     11     612.0           74\n",
       "3173     1499     12     492.0           69\n",
       "\n",
       "[3174 rows x 4 columns]"
      ]
     },
     "execution_count": 36,
     "metadata": {},
     "output_type": "execute_result"
    }
   ],
   "source": [
    "calls_group"
   ]
  },
  {
   "cell_type": "code",
   "execution_count": 37,
   "metadata": {},
   "outputs": [],
   "source": [
    "internet_group = internet.groupby(['user_id', 'month'])['mb_used'].sum().reset_index()"
   ]
  },
  {
   "cell_type": "code",
   "execution_count": 38,
   "metadata": {},
   "outputs": [],
   "source": [
    "messages_group = messages.groupby(['user_id', 'month'])['id'].count().reset_index()"
   ]
  },
  {
   "cell_type": "code",
   "execution_count": 39,
   "metadata": {},
   "outputs": [],
   "source": [
    "messages_group = messages_group.rename(columns = {'id': 'messages'})"
   ]
  },
  {
   "cell_type": "markdown",
   "metadata": {},
   "source": [
    "Объединим получившиеся таблицы между собой, а потом и с таблицами users и tariffs."
   ]
  },
  {
   "cell_type": "code",
   "execution_count": 40,
   "metadata": {},
   "outputs": [],
   "source": [
    "merge_df = calls_group.merge(internet_group, on=['user_id', 'month'], how = 'outer').merge(messages_group, on = ['user_id', 'month'], \n",
    "                                                                               how = 'outer').fillna(0)"
   ]
  },
  {
   "cell_type": "code",
   "execution_count": 41,
   "metadata": {},
   "outputs": [
    {
     "data": {
      "text/html": [
       "<div>\n",
       "<style scoped>\n",
       "    .dataframe tbody tr th:only-of-type {\n",
       "        vertical-align: middle;\n",
       "    }\n",
       "\n",
       "    .dataframe tbody tr th {\n",
       "        vertical-align: top;\n",
       "    }\n",
       "\n",
       "    .dataframe thead th {\n",
       "        text-align: right;\n",
       "    }\n",
       "</style>\n",
       "<table border=\"1\" class=\"dataframe\">\n",
       "  <thead>\n",
       "    <tr style=\"text-align: right;\">\n",
       "      <th></th>\n",
       "      <th>user_id</th>\n",
       "      <th>month</th>\n",
       "      <th>duration</th>\n",
       "      <th>count_calls</th>\n",
       "      <th>mb_used</th>\n",
       "      <th>messages</th>\n",
       "    </tr>\n",
       "  </thead>\n",
       "  <tbody>\n",
       "    <tr>\n",
       "      <th>0</th>\n",
       "      <td>1000</td>\n",
       "      <td>5</td>\n",
       "      <td>159.0</td>\n",
       "      <td>22.0</td>\n",
       "      <td>2253.49</td>\n",
       "      <td>22.0</td>\n",
       "    </tr>\n",
       "    <tr>\n",
       "      <th>1</th>\n",
       "      <td>1000</td>\n",
       "      <td>6</td>\n",
       "      <td>172.0</td>\n",
       "      <td>43.0</td>\n",
       "      <td>23233.77</td>\n",
       "      <td>60.0</td>\n",
       "    </tr>\n",
       "    <tr>\n",
       "      <th>2</th>\n",
       "      <td>1000</td>\n",
       "      <td>7</td>\n",
       "      <td>340.0</td>\n",
       "      <td>47.0</td>\n",
       "      <td>14003.64</td>\n",
       "      <td>75.0</td>\n",
       "    </tr>\n",
       "    <tr>\n",
       "      <th>3</th>\n",
       "      <td>1000</td>\n",
       "      <td>8</td>\n",
       "      <td>408.0</td>\n",
       "      <td>52.0</td>\n",
       "      <td>14055.93</td>\n",
       "      <td>81.0</td>\n",
       "    </tr>\n",
       "    <tr>\n",
       "      <th>4</th>\n",
       "      <td>1000</td>\n",
       "      <td>9</td>\n",
       "      <td>466.0</td>\n",
       "      <td>58.0</td>\n",
       "      <td>14568.91</td>\n",
       "      <td>57.0</td>\n",
       "    </tr>\n",
       "    <tr>\n",
       "      <th>...</th>\n",
       "      <td>...</td>\n",
       "      <td>...</td>\n",
       "      <td>...</td>\n",
       "      <td>...</td>\n",
       "      <td>...</td>\n",
       "      <td>...</td>\n",
       "    </tr>\n",
       "    <tr>\n",
       "      <th>3209</th>\n",
       "      <td>1489</td>\n",
       "      <td>8</td>\n",
       "      <td>0.0</td>\n",
       "      <td>0.0</td>\n",
       "      <td>11050.56</td>\n",
       "      <td>17.0</td>\n",
       "    </tr>\n",
       "    <tr>\n",
       "      <th>3210</th>\n",
       "      <td>1489</td>\n",
       "      <td>9</td>\n",
       "      <td>0.0</td>\n",
       "      <td>0.0</td>\n",
       "      <td>17206.30</td>\n",
       "      <td>32.0</td>\n",
       "    </tr>\n",
       "    <tr>\n",
       "      <th>3211</th>\n",
       "      <td>1489</td>\n",
       "      <td>10</td>\n",
       "      <td>0.0</td>\n",
       "      <td>0.0</td>\n",
       "      <td>19559.44</td>\n",
       "      <td>21.0</td>\n",
       "    </tr>\n",
       "    <tr>\n",
       "      <th>3212</th>\n",
       "      <td>1489</td>\n",
       "      <td>11</td>\n",
       "      <td>0.0</td>\n",
       "      <td>0.0</td>\n",
       "      <td>17491.56</td>\n",
       "      <td>20.0</td>\n",
       "    </tr>\n",
       "    <tr>\n",
       "      <th>3213</th>\n",
       "      <td>1489</td>\n",
       "      <td>12</td>\n",
       "      <td>0.0</td>\n",
       "      <td>0.0</td>\n",
       "      <td>17322.51</td>\n",
       "      <td>35.0</td>\n",
       "    </tr>\n",
       "  </tbody>\n",
       "</table>\n",
       "<p>3214 rows × 6 columns</p>\n",
       "</div>"
      ],
      "text/plain": [
       "      user_id  month  duration  count_calls   mb_used  messages\n",
       "0        1000      5     159.0         22.0   2253.49      22.0\n",
       "1        1000      6     172.0         43.0  23233.77      60.0\n",
       "2        1000      7     340.0         47.0  14003.64      75.0\n",
       "3        1000      8     408.0         52.0  14055.93      81.0\n",
       "4        1000      9     466.0         58.0  14568.91      57.0\n",
       "...       ...    ...       ...          ...       ...       ...\n",
       "3209     1489      8       0.0          0.0  11050.56      17.0\n",
       "3210     1489      9       0.0          0.0  17206.30      32.0\n",
       "3211     1489     10       0.0          0.0  19559.44      21.0\n",
       "3212     1489     11       0.0          0.0  17491.56      20.0\n",
       "3213     1489     12       0.0          0.0  17322.51      35.0\n",
       "\n",
       "[3214 rows x 6 columns]"
      ]
     },
     "execution_count": 41,
     "metadata": {},
     "output_type": "execute_result"
    }
   ],
   "source": [
    "merge_df"
   ]
  },
  {
   "cell_type": "code",
   "execution_count": 42,
   "metadata": {},
   "outputs": [],
   "source": [
    "report = merge_df.merge(users, on = 'user_id', how = 'left').merge(tariffs, left_on = 'tariff', \n",
    "                                                                 right_on = 'tariff_name', how = 'left')"
   ]
  },
  {
   "cell_type": "code",
   "execution_count": 43,
   "metadata": {},
   "outputs": [
    {
     "data": {
      "text/html": [
       "<div>\n",
       "<style scoped>\n",
       "    .dataframe tbody tr th:only-of-type {\n",
       "        vertical-align: middle;\n",
       "    }\n",
       "\n",
       "    .dataframe tbody tr th {\n",
       "        vertical-align: top;\n",
       "    }\n",
       "\n",
       "    .dataframe thead th {\n",
       "        text-align: right;\n",
       "    }\n",
       "</style>\n",
       "<table border=\"1\" class=\"dataframe\">\n",
       "  <thead>\n",
       "    <tr style=\"text-align: right;\">\n",
       "      <th></th>\n",
       "      <th>user_id</th>\n",
       "      <th>month</th>\n",
       "      <th>duration</th>\n",
       "      <th>count_calls</th>\n",
       "      <th>mb_used</th>\n",
       "      <th>messages</th>\n",
       "      <th>age</th>\n",
       "      <th>churn_date</th>\n",
       "      <th>city</th>\n",
       "      <th>first_name</th>\n",
       "      <th>...</th>\n",
       "      <th>reg_date</th>\n",
       "      <th>tariff</th>\n",
       "      <th>messages_included</th>\n",
       "      <th>mb_per_month_included</th>\n",
       "      <th>minutes_included</th>\n",
       "      <th>rub_monthly_fee</th>\n",
       "      <th>rub_per_gb</th>\n",
       "      <th>rub_per_message</th>\n",
       "      <th>rub_per_minute</th>\n",
       "      <th>tariff_name</th>\n",
       "    </tr>\n",
       "  </thead>\n",
       "  <tbody>\n",
       "    <tr>\n",
       "      <th>0</th>\n",
       "      <td>1000</td>\n",
       "      <td>5</td>\n",
       "      <td>159.0</td>\n",
       "      <td>22.0</td>\n",
       "      <td>2253.49</td>\n",
       "      <td>22.0</td>\n",
       "      <td>52</td>\n",
       "      <td>NaN</td>\n",
       "      <td>Краснодар</td>\n",
       "      <td>Рафаил</td>\n",
       "      <td>...</td>\n",
       "      <td>2018-05-25</td>\n",
       "      <td>ultra</td>\n",
       "      <td>1000</td>\n",
       "      <td>30720</td>\n",
       "      <td>3000</td>\n",
       "      <td>1950</td>\n",
       "      <td>150</td>\n",
       "      <td>1</td>\n",
       "      <td>1</td>\n",
       "      <td>ultra</td>\n",
       "    </tr>\n",
       "    <tr>\n",
       "      <th>1</th>\n",
       "      <td>1000</td>\n",
       "      <td>6</td>\n",
       "      <td>172.0</td>\n",
       "      <td>43.0</td>\n",
       "      <td>23233.77</td>\n",
       "      <td>60.0</td>\n",
       "      <td>52</td>\n",
       "      <td>NaN</td>\n",
       "      <td>Краснодар</td>\n",
       "      <td>Рафаил</td>\n",
       "      <td>...</td>\n",
       "      <td>2018-05-25</td>\n",
       "      <td>ultra</td>\n",
       "      <td>1000</td>\n",
       "      <td>30720</td>\n",
       "      <td>3000</td>\n",
       "      <td>1950</td>\n",
       "      <td>150</td>\n",
       "      <td>1</td>\n",
       "      <td>1</td>\n",
       "      <td>ultra</td>\n",
       "    </tr>\n",
       "    <tr>\n",
       "      <th>2</th>\n",
       "      <td>1000</td>\n",
       "      <td>7</td>\n",
       "      <td>340.0</td>\n",
       "      <td>47.0</td>\n",
       "      <td>14003.64</td>\n",
       "      <td>75.0</td>\n",
       "      <td>52</td>\n",
       "      <td>NaN</td>\n",
       "      <td>Краснодар</td>\n",
       "      <td>Рафаил</td>\n",
       "      <td>...</td>\n",
       "      <td>2018-05-25</td>\n",
       "      <td>ultra</td>\n",
       "      <td>1000</td>\n",
       "      <td>30720</td>\n",
       "      <td>3000</td>\n",
       "      <td>1950</td>\n",
       "      <td>150</td>\n",
       "      <td>1</td>\n",
       "      <td>1</td>\n",
       "      <td>ultra</td>\n",
       "    </tr>\n",
       "    <tr>\n",
       "      <th>3</th>\n",
       "      <td>1000</td>\n",
       "      <td>8</td>\n",
       "      <td>408.0</td>\n",
       "      <td>52.0</td>\n",
       "      <td>14055.93</td>\n",
       "      <td>81.0</td>\n",
       "      <td>52</td>\n",
       "      <td>NaN</td>\n",
       "      <td>Краснодар</td>\n",
       "      <td>Рафаил</td>\n",
       "      <td>...</td>\n",
       "      <td>2018-05-25</td>\n",
       "      <td>ultra</td>\n",
       "      <td>1000</td>\n",
       "      <td>30720</td>\n",
       "      <td>3000</td>\n",
       "      <td>1950</td>\n",
       "      <td>150</td>\n",
       "      <td>1</td>\n",
       "      <td>1</td>\n",
       "      <td>ultra</td>\n",
       "    </tr>\n",
       "    <tr>\n",
       "      <th>4</th>\n",
       "      <td>1000</td>\n",
       "      <td>9</td>\n",
       "      <td>466.0</td>\n",
       "      <td>58.0</td>\n",
       "      <td>14568.91</td>\n",
       "      <td>57.0</td>\n",
       "      <td>52</td>\n",
       "      <td>NaN</td>\n",
       "      <td>Краснодар</td>\n",
       "      <td>Рафаил</td>\n",
       "      <td>...</td>\n",
       "      <td>2018-05-25</td>\n",
       "      <td>ultra</td>\n",
       "      <td>1000</td>\n",
       "      <td>30720</td>\n",
       "      <td>3000</td>\n",
       "      <td>1950</td>\n",
       "      <td>150</td>\n",
       "      <td>1</td>\n",
       "      <td>1</td>\n",
       "      <td>ultra</td>\n",
       "    </tr>\n",
       "    <tr>\n",
       "      <th>...</th>\n",
       "      <td>...</td>\n",
       "      <td>...</td>\n",
       "      <td>...</td>\n",
       "      <td>...</td>\n",
       "      <td>...</td>\n",
       "      <td>...</td>\n",
       "      <td>...</td>\n",
       "      <td>...</td>\n",
       "      <td>...</td>\n",
       "      <td>...</td>\n",
       "      <td>...</td>\n",
       "      <td>...</td>\n",
       "      <td>...</td>\n",
       "      <td>...</td>\n",
       "      <td>...</td>\n",
       "      <td>...</td>\n",
       "      <td>...</td>\n",
       "      <td>...</td>\n",
       "      <td>...</td>\n",
       "      <td>...</td>\n",
       "      <td>...</td>\n",
       "    </tr>\n",
       "    <tr>\n",
       "      <th>3209</th>\n",
       "      <td>1489</td>\n",
       "      <td>8</td>\n",
       "      <td>0.0</td>\n",
       "      <td>0.0</td>\n",
       "      <td>11050.56</td>\n",
       "      <td>17.0</td>\n",
       "      <td>35</td>\n",
       "      <td>NaN</td>\n",
       "      <td>Санкт-Петербург</td>\n",
       "      <td>Павел</td>\n",
       "      <td>...</td>\n",
       "      <td>2018-08-15</td>\n",
       "      <td>smart</td>\n",
       "      <td>50</td>\n",
       "      <td>15360</td>\n",
       "      <td>500</td>\n",
       "      <td>550</td>\n",
       "      <td>200</td>\n",
       "      <td>3</td>\n",
       "      <td>3</td>\n",
       "      <td>smart</td>\n",
       "    </tr>\n",
       "    <tr>\n",
       "      <th>3210</th>\n",
       "      <td>1489</td>\n",
       "      <td>9</td>\n",
       "      <td>0.0</td>\n",
       "      <td>0.0</td>\n",
       "      <td>17206.30</td>\n",
       "      <td>32.0</td>\n",
       "      <td>35</td>\n",
       "      <td>NaN</td>\n",
       "      <td>Санкт-Петербург</td>\n",
       "      <td>Павел</td>\n",
       "      <td>...</td>\n",
       "      <td>2018-08-15</td>\n",
       "      <td>smart</td>\n",
       "      <td>50</td>\n",
       "      <td>15360</td>\n",
       "      <td>500</td>\n",
       "      <td>550</td>\n",
       "      <td>200</td>\n",
       "      <td>3</td>\n",
       "      <td>3</td>\n",
       "      <td>smart</td>\n",
       "    </tr>\n",
       "    <tr>\n",
       "      <th>3211</th>\n",
       "      <td>1489</td>\n",
       "      <td>10</td>\n",
       "      <td>0.0</td>\n",
       "      <td>0.0</td>\n",
       "      <td>19559.44</td>\n",
       "      <td>21.0</td>\n",
       "      <td>35</td>\n",
       "      <td>NaN</td>\n",
       "      <td>Санкт-Петербург</td>\n",
       "      <td>Павел</td>\n",
       "      <td>...</td>\n",
       "      <td>2018-08-15</td>\n",
       "      <td>smart</td>\n",
       "      <td>50</td>\n",
       "      <td>15360</td>\n",
       "      <td>500</td>\n",
       "      <td>550</td>\n",
       "      <td>200</td>\n",
       "      <td>3</td>\n",
       "      <td>3</td>\n",
       "      <td>smart</td>\n",
       "    </tr>\n",
       "    <tr>\n",
       "      <th>3212</th>\n",
       "      <td>1489</td>\n",
       "      <td>11</td>\n",
       "      <td>0.0</td>\n",
       "      <td>0.0</td>\n",
       "      <td>17491.56</td>\n",
       "      <td>20.0</td>\n",
       "      <td>35</td>\n",
       "      <td>NaN</td>\n",
       "      <td>Санкт-Петербург</td>\n",
       "      <td>Павел</td>\n",
       "      <td>...</td>\n",
       "      <td>2018-08-15</td>\n",
       "      <td>smart</td>\n",
       "      <td>50</td>\n",
       "      <td>15360</td>\n",
       "      <td>500</td>\n",
       "      <td>550</td>\n",
       "      <td>200</td>\n",
       "      <td>3</td>\n",
       "      <td>3</td>\n",
       "      <td>smart</td>\n",
       "    </tr>\n",
       "    <tr>\n",
       "      <th>3213</th>\n",
       "      <td>1489</td>\n",
       "      <td>12</td>\n",
       "      <td>0.0</td>\n",
       "      <td>0.0</td>\n",
       "      <td>17322.51</td>\n",
       "      <td>35.0</td>\n",
       "      <td>35</td>\n",
       "      <td>NaN</td>\n",
       "      <td>Санкт-Петербург</td>\n",
       "      <td>Павел</td>\n",
       "      <td>...</td>\n",
       "      <td>2018-08-15</td>\n",
       "      <td>smart</td>\n",
       "      <td>50</td>\n",
       "      <td>15360</td>\n",
       "      <td>500</td>\n",
       "      <td>550</td>\n",
       "      <td>200</td>\n",
       "      <td>3</td>\n",
       "      <td>3</td>\n",
       "      <td>smart</td>\n",
       "    </tr>\n",
       "  </tbody>\n",
       "</table>\n",
       "<p>3214 rows × 21 columns</p>\n",
       "</div>"
      ],
      "text/plain": [
       "      user_id  month  duration  count_calls   mb_used  messages  age  \\\n",
       "0        1000      5     159.0         22.0   2253.49      22.0   52   \n",
       "1        1000      6     172.0         43.0  23233.77      60.0   52   \n",
       "2        1000      7     340.0         47.0  14003.64      75.0   52   \n",
       "3        1000      8     408.0         52.0  14055.93      81.0   52   \n",
       "4        1000      9     466.0         58.0  14568.91      57.0   52   \n",
       "...       ...    ...       ...          ...       ...       ...  ...   \n",
       "3209     1489      8       0.0          0.0  11050.56      17.0   35   \n",
       "3210     1489      9       0.0          0.0  17206.30      32.0   35   \n",
       "3211     1489     10       0.0          0.0  19559.44      21.0   35   \n",
       "3212     1489     11       0.0          0.0  17491.56      20.0   35   \n",
       "3213     1489     12       0.0          0.0  17322.51      35.0   35   \n",
       "\n",
       "     churn_date             city first_name  ...   reg_date tariff  \\\n",
       "0           NaN        Краснодар     Рафаил  ... 2018-05-25  ultra   \n",
       "1           NaN        Краснодар     Рафаил  ... 2018-05-25  ultra   \n",
       "2           NaN        Краснодар     Рафаил  ... 2018-05-25  ultra   \n",
       "3           NaN        Краснодар     Рафаил  ... 2018-05-25  ultra   \n",
       "4           NaN        Краснодар     Рафаил  ... 2018-05-25  ultra   \n",
       "...         ...              ...        ...  ...        ...    ...   \n",
       "3209        NaN  Санкт-Петербург      Павел  ... 2018-08-15  smart   \n",
       "3210        NaN  Санкт-Петербург      Павел  ... 2018-08-15  smart   \n",
       "3211        NaN  Санкт-Петербург      Павел  ... 2018-08-15  smart   \n",
       "3212        NaN  Санкт-Петербург      Павел  ... 2018-08-15  smart   \n",
       "3213        NaN  Санкт-Петербург      Павел  ... 2018-08-15  smart   \n",
       "\n",
       "     messages_included  mb_per_month_included  minutes_included  \\\n",
       "0                 1000                  30720              3000   \n",
       "1                 1000                  30720              3000   \n",
       "2                 1000                  30720              3000   \n",
       "3                 1000                  30720              3000   \n",
       "4                 1000                  30720              3000   \n",
       "...                ...                    ...               ...   \n",
       "3209                50                  15360               500   \n",
       "3210                50                  15360               500   \n",
       "3211                50                  15360               500   \n",
       "3212                50                  15360               500   \n",
       "3213                50                  15360               500   \n",
       "\n",
       "      rub_monthly_fee  rub_per_gb  rub_per_message  rub_per_minute  \\\n",
       "0                1950         150                1               1   \n",
       "1                1950         150                1               1   \n",
       "2                1950         150                1               1   \n",
       "3                1950         150                1               1   \n",
       "4                1950         150                1               1   \n",
       "...               ...         ...              ...             ...   \n",
       "3209              550         200                3               3   \n",
       "3210              550         200                3               3   \n",
       "3211              550         200                3               3   \n",
       "3212              550         200                3               3   \n",
       "3213              550         200                3               3   \n",
       "\n",
       "      tariff_name  \n",
       "0           ultra  \n",
       "1           ultra  \n",
       "2           ultra  \n",
       "3           ultra  \n",
       "4           ultra  \n",
       "...           ...  \n",
       "3209        smart  \n",
       "3210        smart  \n",
       "3211        smart  \n",
       "3212        smart  \n",
       "3213        smart  \n",
       "\n",
       "[3214 rows x 21 columns]"
      ]
     },
     "execution_count": 43,
     "metadata": {},
     "output_type": "execute_result"
    }
   ],
   "source": [
    "report"
   ]
  },
  {
   "cell_type": "markdown",
   "metadata": {},
   "source": [
    "Округлим в большую сторону до гигабайта общую сумму интернет-трафика за месяц и добавим новую колонку в датафрейм."
   ]
  },
  {
   "cell_type": "code",
   "execution_count": 44,
   "metadata": {},
   "outputs": [],
   "source": [
    "report.insert(4, 'gb_used', (report['mb_used'] / 1024).apply(np.ceil))"
   ]
  },
  {
   "cell_type": "code",
   "execution_count": 45,
   "metadata": {},
   "outputs": [
    {
     "data": {
      "text/html": [
       "<div>\n",
       "<style scoped>\n",
       "    .dataframe tbody tr th:only-of-type {\n",
       "        vertical-align: middle;\n",
       "    }\n",
       "\n",
       "    .dataframe tbody tr th {\n",
       "        vertical-align: top;\n",
       "    }\n",
       "\n",
       "    .dataframe thead th {\n",
       "        text-align: right;\n",
       "    }\n",
       "</style>\n",
       "<table border=\"1\" class=\"dataframe\">\n",
       "  <thead>\n",
       "    <tr style=\"text-align: right;\">\n",
       "      <th></th>\n",
       "      <th>user_id</th>\n",
       "      <th>month</th>\n",
       "      <th>duration</th>\n",
       "      <th>count_calls</th>\n",
       "      <th>gb_used</th>\n",
       "      <th>mb_used</th>\n",
       "      <th>messages</th>\n",
       "      <th>age</th>\n",
       "      <th>churn_date</th>\n",
       "      <th>city</th>\n",
       "      <th>...</th>\n",
       "      <th>reg_date</th>\n",
       "      <th>tariff</th>\n",
       "      <th>messages_included</th>\n",
       "      <th>mb_per_month_included</th>\n",
       "      <th>minutes_included</th>\n",
       "      <th>rub_monthly_fee</th>\n",
       "      <th>rub_per_gb</th>\n",
       "      <th>rub_per_message</th>\n",
       "      <th>rub_per_minute</th>\n",
       "      <th>tariff_name</th>\n",
       "    </tr>\n",
       "  </thead>\n",
       "  <tbody>\n",
       "    <tr>\n",
       "      <th>0</th>\n",
       "      <td>1000</td>\n",
       "      <td>5</td>\n",
       "      <td>159.0</td>\n",
       "      <td>22.0</td>\n",
       "      <td>3.0</td>\n",
       "      <td>2253.49</td>\n",
       "      <td>22.0</td>\n",
       "      <td>52</td>\n",
       "      <td>NaN</td>\n",
       "      <td>Краснодар</td>\n",
       "      <td>...</td>\n",
       "      <td>2018-05-25</td>\n",
       "      <td>ultra</td>\n",
       "      <td>1000</td>\n",
       "      <td>30720</td>\n",
       "      <td>3000</td>\n",
       "      <td>1950</td>\n",
       "      <td>150</td>\n",
       "      <td>1</td>\n",
       "      <td>1</td>\n",
       "      <td>ultra</td>\n",
       "    </tr>\n",
       "    <tr>\n",
       "      <th>1</th>\n",
       "      <td>1000</td>\n",
       "      <td>6</td>\n",
       "      <td>172.0</td>\n",
       "      <td>43.0</td>\n",
       "      <td>23.0</td>\n",
       "      <td>23233.77</td>\n",
       "      <td>60.0</td>\n",
       "      <td>52</td>\n",
       "      <td>NaN</td>\n",
       "      <td>Краснодар</td>\n",
       "      <td>...</td>\n",
       "      <td>2018-05-25</td>\n",
       "      <td>ultra</td>\n",
       "      <td>1000</td>\n",
       "      <td>30720</td>\n",
       "      <td>3000</td>\n",
       "      <td>1950</td>\n",
       "      <td>150</td>\n",
       "      <td>1</td>\n",
       "      <td>1</td>\n",
       "      <td>ultra</td>\n",
       "    </tr>\n",
       "    <tr>\n",
       "      <th>2</th>\n",
       "      <td>1000</td>\n",
       "      <td>7</td>\n",
       "      <td>340.0</td>\n",
       "      <td>47.0</td>\n",
       "      <td>14.0</td>\n",
       "      <td>14003.64</td>\n",
       "      <td>75.0</td>\n",
       "      <td>52</td>\n",
       "      <td>NaN</td>\n",
       "      <td>Краснодар</td>\n",
       "      <td>...</td>\n",
       "      <td>2018-05-25</td>\n",
       "      <td>ultra</td>\n",
       "      <td>1000</td>\n",
       "      <td>30720</td>\n",
       "      <td>3000</td>\n",
       "      <td>1950</td>\n",
       "      <td>150</td>\n",
       "      <td>1</td>\n",
       "      <td>1</td>\n",
       "      <td>ultra</td>\n",
       "    </tr>\n",
       "    <tr>\n",
       "      <th>3</th>\n",
       "      <td>1000</td>\n",
       "      <td>8</td>\n",
       "      <td>408.0</td>\n",
       "      <td>52.0</td>\n",
       "      <td>14.0</td>\n",
       "      <td>14055.93</td>\n",
       "      <td>81.0</td>\n",
       "      <td>52</td>\n",
       "      <td>NaN</td>\n",
       "      <td>Краснодар</td>\n",
       "      <td>...</td>\n",
       "      <td>2018-05-25</td>\n",
       "      <td>ultra</td>\n",
       "      <td>1000</td>\n",
       "      <td>30720</td>\n",
       "      <td>3000</td>\n",
       "      <td>1950</td>\n",
       "      <td>150</td>\n",
       "      <td>1</td>\n",
       "      <td>1</td>\n",
       "      <td>ultra</td>\n",
       "    </tr>\n",
       "    <tr>\n",
       "      <th>4</th>\n",
       "      <td>1000</td>\n",
       "      <td>9</td>\n",
       "      <td>466.0</td>\n",
       "      <td>58.0</td>\n",
       "      <td>15.0</td>\n",
       "      <td>14568.91</td>\n",
       "      <td>57.0</td>\n",
       "      <td>52</td>\n",
       "      <td>NaN</td>\n",
       "      <td>Краснодар</td>\n",
       "      <td>...</td>\n",
       "      <td>2018-05-25</td>\n",
       "      <td>ultra</td>\n",
       "      <td>1000</td>\n",
       "      <td>30720</td>\n",
       "      <td>3000</td>\n",
       "      <td>1950</td>\n",
       "      <td>150</td>\n",
       "      <td>1</td>\n",
       "      <td>1</td>\n",
       "      <td>ultra</td>\n",
       "    </tr>\n",
       "    <tr>\n",
       "      <th>...</th>\n",
       "      <td>...</td>\n",
       "      <td>...</td>\n",
       "      <td>...</td>\n",
       "      <td>...</td>\n",
       "      <td>...</td>\n",
       "      <td>...</td>\n",
       "      <td>...</td>\n",
       "      <td>...</td>\n",
       "      <td>...</td>\n",
       "      <td>...</td>\n",
       "      <td>...</td>\n",
       "      <td>...</td>\n",
       "      <td>...</td>\n",
       "      <td>...</td>\n",
       "      <td>...</td>\n",
       "      <td>...</td>\n",
       "      <td>...</td>\n",
       "      <td>...</td>\n",
       "      <td>...</td>\n",
       "      <td>...</td>\n",
       "      <td>...</td>\n",
       "    </tr>\n",
       "    <tr>\n",
       "      <th>3209</th>\n",
       "      <td>1489</td>\n",
       "      <td>8</td>\n",
       "      <td>0.0</td>\n",
       "      <td>0.0</td>\n",
       "      <td>11.0</td>\n",
       "      <td>11050.56</td>\n",
       "      <td>17.0</td>\n",
       "      <td>35</td>\n",
       "      <td>NaN</td>\n",
       "      <td>Санкт-Петербург</td>\n",
       "      <td>...</td>\n",
       "      <td>2018-08-15</td>\n",
       "      <td>smart</td>\n",
       "      <td>50</td>\n",
       "      <td>15360</td>\n",
       "      <td>500</td>\n",
       "      <td>550</td>\n",
       "      <td>200</td>\n",
       "      <td>3</td>\n",
       "      <td>3</td>\n",
       "      <td>smart</td>\n",
       "    </tr>\n",
       "    <tr>\n",
       "      <th>3210</th>\n",
       "      <td>1489</td>\n",
       "      <td>9</td>\n",
       "      <td>0.0</td>\n",
       "      <td>0.0</td>\n",
       "      <td>17.0</td>\n",
       "      <td>17206.30</td>\n",
       "      <td>32.0</td>\n",
       "      <td>35</td>\n",
       "      <td>NaN</td>\n",
       "      <td>Санкт-Петербург</td>\n",
       "      <td>...</td>\n",
       "      <td>2018-08-15</td>\n",
       "      <td>smart</td>\n",
       "      <td>50</td>\n",
       "      <td>15360</td>\n",
       "      <td>500</td>\n",
       "      <td>550</td>\n",
       "      <td>200</td>\n",
       "      <td>3</td>\n",
       "      <td>3</td>\n",
       "      <td>smart</td>\n",
       "    </tr>\n",
       "    <tr>\n",
       "      <th>3211</th>\n",
       "      <td>1489</td>\n",
       "      <td>10</td>\n",
       "      <td>0.0</td>\n",
       "      <td>0.0</td>\n",
       "      <td>20.0</td>\n",
       "      <td>19559.44</td>\n",
       "      <td>21.0</td>\n",
       "      <td>35</td>\n",
       "      <td>NaN</td>\n",
       "      <td>Санкт-Петербург</td>\n",
       "      <td>...</td>\n",
       "      <td>2018-08-15</td>\n",
       "      <td>smart</td>\n",
       "      <td>50</td>\n",
       "      <td>15360</td>\n",
       "      <td>500</td>\n",
       "      <td>550</td>\n",
       "      <td>200</td>\n",
       "      <td>3</td>\n",
       "      <td>3</td>\n",
       "      <td>smart</td>\n",
       "    </tr>\n",
       "    <tr>\n",
       "      <th>3212</th>\n",
       "      <td>1489</td>\n",
       "      <td>11</td>\n",
       "      <td>0.0</td>\n",
       "      <td>0.0</td>\n",
       "      <td>18.0</td>\n",
       "      <td>17491.56</td>\n",
       "      <td>20.0</td>\n",
       "      <td>35</td>\n",
       "      <td>NaN</td>\n",
       "      <td>Санкт-Петербург</td>\n",
       "      <td>...</td>\n",
       "      <td>2018-08-15</td>\n",
       "      <td>smart</td>\n",
       "      <td>50</td>\n",
       "      <td>15360</td>\n",
       "      <td>500</td>\n",
       "      <td>550</td>\n",
       "      <td>200</td>\n",
       "      <td>3</td>\n",
       "      <td>3</td>\n",
       "      <td>smart</td>\n",
       "    </tr>\n",
       "    <tr>\n",
       "      <th>3213</th>\n",
       "      <td>1489</td>\n",
       "      <td>12</td>\n",
       "      <td>0.0</td>\n",
       "      <td>0.0</td>\n",
       "      <td>17.0</td>\n",
       "      <td>17322.51</td>\n",
       "      <td>35.0</td>\n",
       "      <td>35</td>\n",
       "      <td>NaN</td>\n",
       "      <td>Санкт-Петербург</td>\n",
       "      <td>...</td>\n",
       "      <td>2018-08-15</td>\n",
       "      <td>smart</td>\n",
       "      <td>50</td>\n",
       "      <td>15360</td>\n",
       "      <td>500</td>\n",
       "      <td>550</td>\n",
       "      <td>200</td>\n",
       "      <td>3</td>\n",
       "      <td>3</td>\n",
       "      <td>smart</td>\n",
       "    </tr>\n",
       "  </tbody>\n",
       "</table>\n",
       "<p>3214 rows × 22 columns</p>\n",
       "</div>"
      ],
      "text/plain": [
       "      user_id  month  duration  count_calls  gb_used   mb_used  messages  age  \\\n",
       "0        1000      5     159.0         22.0      3.0   2253.49      22.0   52   \n",
       "1        1000      6     172.0         43.0     23.0  23233.77      60.0   52   \n",
       "2        1000      7     340.0         47.0     14.0  14003.64      75.0   52   \n",
       "3        1000      8     408.0         52.0     14.0  14055.93      81.0   52   \n",
       "4        1000      9     466.0         58.0     15.0  14568.91      57.0   52   \n",
       "...       ...    ...       ...          ...      ...       ...       ...  ...   \n",
       "3209     1489      8       0.0          0.0     11.0  11050.56      17.0   35   \n",
       "3210     1489      9       0.0          0.0     17.0  17206.30      32.0   35   \n",
       "3211     1489     10       0.0          0.0     20.0  19559.44      21.0   35   \n",
       "3212     1489     11       0.0          0.0     18.0  17491.56      20.0   35   \n",
       "3213     1489     12       0.0          0.0     17.0  17322.51      35.0   35   \n",
       "\n",
       "     churn_date             city  ...   reg_date tariff messages_included  \\\n",
       "0           NaN        Краснодар  ... 2018-05-25  ultra              1000   \n",
       "1           NaN        Краснодар  ... 2018-05-25  ultra              1000   \n",
       "2           NaN        Краснодар  ... 2018-05-25  ultra              1000   \n",
       "3           NaN        Краснодар  ... 2018-05-25  ultra              1000   \n",
       "4           NaN        Краснодар  ... 2018-05-25  ultra              1000   \n",
       "...         ...              ...  ...        ...    ...               ...   \n",
       "3209        NaN  Санкт-Петербург  ... 2018-08-15  smart                50   \n",
       "3210        NaN  Санкт-Петербург  ... 2018-08-15  smart                50   \n",
       "3211        NaN  Санкт-Петербург  ... 2018-08-15  smart                50   \n",
       "3212        NaN  Санкт-Петербург  ... 2018-08-15  smart                50   \n",
       "3213        NaN  Санкт-Петербург  ... 2018-08-15  smart                50   \n",
       "\n",
       "     mb_per_month_included  minutes_included  rub_monthly_fee  rub_per_gb  \\\n",
       "0                    30720              3000             1950         150   \n",
       "1                    30720              3000             1950         150   \n",
       "2                    30720              3000             1950         150   \n",
       "3                    30720              3000             1950         150   \n",
       "4                    30720              3000             1950         150   \n",
       "...                    ...               ...              ...         ...   \n",
       "3209                 15360               500              550         200   \n",
       "3210                 15360               500              550         200   \n",
       "3211                 15360               500              550         200   \n",
       "3212                 15360               500              550         200   \n",
       "3213                 15360               500              550         200   \n",
       "\n",
       "      rub_per_message  rub_per_minute  tariff_name  \n",
       "0                   1               1        ultra  \n",
       "1                   1               1        ultra  \n",
       "2                   1               1        ultra  \n",
       "3                   1               1        ultra  \n",
       "4                   1               1        ultra  \n",
       "...               ...             ...          ...  \n",
       "3209                3               3        smart  \n",
       "3210                3               3        smart  \n",
       "3211                3               3        smart  \n",
       "3212                3               3        smart  \n",
       "3213                3               3        smart  \n",
       "\n",
       "[3214 rows x 22 columns]"
      ]
     },
     "execution_count": 45,
     "metadata": {},
     "output_type": "execute_result"
    }
   ],
   "source": [
    "report"
   ]
  },
  {
   "cell_type": "markdown",
   "metadata": {},
   "source": [
    "Посчитаем помесячную выручку с каждого пользователя."
   ]
  },
  {
   "cell_type": "markdown",
   "metadata": {},
   "source": [
    "Составим функция для подсчёта выручки."
   ]
  },
  {
   "cell_type": "code",
   "execution_count": 46,
   "metadata": {},
   "outputs": [],
   "source": [
    "def calc_revenue(row):\n",
    "    if row['tariff'] == 'ultra':\n",
    "        sum = tariffs.loc[1, 'rub_monthly_fee'] # вот здесь будет браться значение из таблицы\n",
    "        if row['duration'] > tariffs.loc[1, 'minutes_included']:\n",
    "            calls = (row['duration'] - 3000 ) * 1\n",
    "        else:\n",
    "            calls = 0\n",
    "        if row['messages'] > 1000:\n",
    "            messages = (row['messages'] - 1000) * 1\n",
    "        else:\n",
    "            messages = 0\n",
    "        if row['gb_used'] > 30:\n",
    "            gb_used = (row['gb_used'] - 30) * 150\n",
    "        else:\n",
    "            gb_used = 0\n",
    "        sum += calls + messages + gb_used\n",
    "    elif row['tariff'] == 'smart':\n",
    "        sum = 550\n",
    "        if row['duration'] > 500:\n",
    "            calls = (row['duration'] - 500) * 3\n",
    "        else:\n",
    "            calls = 0\n",
    "        if row['messages'] > 50:\n",
    "            messages = (row['messages'] - 50) * 3\n",
    "        else:\n",
    "            messages = 0\n",
    "        if row['gb_used'] > 15:\n",
    "            gb_used = (row['gb_used'] - 15) * 200\n",
    "        else:\n",
    "            gb_used = 0\n",
    "        sum += calls + messages + gb_used\n",
    "    return sum"
   ]
  },
  {
   "cell_type": "markdown",
   "metadata": {},
   "source": [
    "Применим функцию calc_revenue для создания столбца с выручкой для каждого клиента."
   ]
  },
  {
   "cell_type": "code",
   "execution_count": 47,
   "metadata": {},
   "outputs": [],
   "source": [
    "report['revenue_client'] = report.apply(calc_revenue, axis=1)"
   ]
  },
  {
   "cell_type": "code",
   "execution_count": 50,
   "metadata": {},
   "outputs": [
    {
     "data": {
      "text/html": [
       "<div>\n",
       "<style scoped>\n",
       "    .dataframe tbody tr th:only-of-type {\n",
       "        vertical-align: middle;\n",
       "    }\n",
       "\n",
       "    .dataframe tbody tr th {\n",
       "        vertical-align: top;\n",
       "    }\n",
       "\n",
       "    .dataframe thead th {\n",
       "        text-align: right;\n",
       "    }\n",
       "</style>\n",
       "<table border=\"1\" class=\"dataframe\">\n",
       "  <thead>\n",
       "    <tr style=\"text-align: right;\">\n",
       "      <th></th>\n",
       "      <th>user_id</th>\n",
       "      <th>month</th>\n",
       "      <th>duration</th>\n",
       "      <th>count_calls</th>\n",
       "      <th>gb_used</th>\n",
       "      <th>mb_used</th>\n",
       "      <th>messages</th>\n",
       "      <th>age</th>\n",
       "      <th>churn_date</th>\n",
       "      <th>city</th>\n",
       "      <th>...</th>\n",
       "      <th>tariff</th>\n",
       "      <th>messages_included</th>\n",
       "      <th>mb_per_month_included</th>\n",
       "      <th>minutes_included</th>\n",
       "      <th>rub_monthly_fee</th>\n",
       "      <th>rub_per_gb</th>\n",
       "      <th>rub_per_message</th>\n",
       "      <th>rub_per_minute</th>\n",
       "      <th>tariff_name</th>\n",
       "      <th>revenue_client</th>\n",
       "    </tr>\n",
       "  </thead>\n",
       "  <tbody>\n",
       "    <tr>\n",
       "      <th>0</th>\n",
       "      <td>1000</td>\n",
       "      <td>5</td>\n",
       "      <td>159.0</td>\n",
       "      <td>22.0</td>\n",
       "      <td>3.0</td>\n",
       "      <td>2253.49</td>\n",
       "      <td>22.0</td>\n",
       "      <td>52</td>\n",
       "      <td>NaN</td>\n",
       "      <td>Краснодар</td>\n",
       "      <td>...</td>\n",
       "      <td>ultra</td>\n",
       "      <td>1000</td>\n",
       "      <td>30720</td>\n",
       "      <td>3000</td>\n",
       "      <td>1950</td>\n",
       "      <td>150</td>\n",
       "      <td>1</td>\n",
       "      <td>1</td>\n",
       "      <td>ultra</td>\n",
       "      <td>1950.0</td>\n",
       "    </tr>\n",
       "    <tr>\n",
       "      <th>1</th>\n",
       "      <td>1000</td>\n",
       "      <td>6</td>\n",
       "      <td>172.0</td>\n",
       "      <td>43.0</td>\n",
       "      <td>23.0</td>\n",
       "      <td>23233.77</td>\n",
       "      <td>60.0</td>\n",
       "      <td>52</td>\n",
       "      <td>NaN</td>\n",
       "      <td>Краснодар</td>\n",
       "      <td>...</td>\n",
       "      <td>ultra</td>\n",
       "      <td>1000</td>\n",
       "      <td>30720</td>\n",
       "      <td>3000</td>\n",
       "      <td>1950</td>\n",
       "      <td>150</td>\n",
       "      <td>1</td>\n",
       "      <td>1</td>\n",
       "      <td>ultra</td>\n",
       "      <td>1950.0</td>\n",
       "    </tr>\n",
       "    <tr>\n",
       "      <th>2</th>\n",
       "      <td>1000</td>\n",
       "      <td>7</td>\n",
       "      <td>340.0</td>\n",
       "      <td>47.0</td>\n",
       "      <td>14.0</td>\n",
       "      <td>14003.64</td>\n",
       "      <td>75.0</td>\n",
       "      <td>52</td>\n",
       "      <td>NaN</td>\n",
       "      <td>Краснодар</td>\n",
       "      <td>...</td>\n",
       "      <td>ultra</td>\n",
       "      <td>1000</td>\n",
       "      <td>30720</td>\n",
       "      <td>3000</td>\n",
       "      <td>1950</td>\n",
       "      <td>150</td>\n",
       "      <td>1</td>\n",
       "      <td>1</td>\n",
       "      <td>ultra</td>\n",
       "      <td>1950.0</td>\n",
       "    </tr>\n",
       "    <tr>\n",
       "      <th>3</th>\n",
       "      <td>1000</td>\n",
       "      <td>8</td>\n",
       "      <td>408.0</td>\n",
       "      <td>52.0</td>\n",
       "      <td>14.0</td>\n",
       "      <td>14055.93</td>\n",
       "      <td>81.0</td>\n",
       "      <td>52</td>\n",
       "      <td>NaN</td>\n",
       "      <td>Краснодар</td>\n",
       "      <td>...</td>\n",
       "      <td>ultra</td>\n",
       "      <td>1000</td>\n",
       "      <td>30720</td>\n",
       "      <td>3000</td>\n",
       "      <td>1950</td>\n",
       "      <td>150</td>\n",
       "      <td>1</td>\n",
       "      <td>1</td>\n",
       "      <td>ultra</td>\n",
       "      <td>1950.0</td>\n",
       "    </tr>\n",
       "    <tr>\n",
       "      <th>4</th>\n",
       "      <td>1000</td>\n",
       "      <td>9</td>\n",
       "      <td>466.0</td>\n",
       "      <td>58.0</td>\n",
       "      <td>15.0</td>\n",
       "      <td>14568.91</td>\n",
       "      <td>57.0</td>\n",
       "      <td>52</td>\n",
       "      <td>NaN</td>\n",
       "      <td>Краснодар</td>\n",
       "      <td>...</td>\n",
       "      <td>ultra</td>\n",
       "      <td>1000</td>\n",
       "      <td>30720</td>\n",
       "      <td>3000</td>\n",
       "      <td>1950</td>\n",
       "      <td>150</td>\n",
       "      <td>1</td>\n",
       "      <td>1</td>\n",
       "      <td>ultra</td>\n",
       "      <td>1950.0</td>\n",
       "    </tr>\n",
       "    <tr>\n",
       "      <th>...</th>\n",
       "      <td>...</td>\n",
       "      <td>...</td>\n",
       "      <td>...</td>\n",
       "      <td>...</td>\n",
       "      <td>...</td>\n",
       "      <td>...</td>\n",
       "      <td>...</td>\n",
       "      <td>...</td>\n",
       "      <td>...</td>\n",
       "      <td>...</td>\n",
       "      <td>...</td>\n",
       "      <td>...</td>\n",
       "      <td>...</td>\n",
       "      <td>...</td>\n",
       "      <td>...</td>\n",
       "      <td>...</td>\n",
       "      <td>...</td>\n",
       "      <td>...</td>\n",
       "      <td>...</td>\n",
       "      <td>...</td>\n",
       "      <td>...</td>\n",
       "    </tr>\n",
       "    <tr>\n",
       "      <th>3209</th>\n",
       "      <td>1489</td>\n",
       "      <td>8</td>\n",
       "      <td>0.0</td>\n",
       "      <td>0.0</td>\n",
       "      <td>11.0</td>\n",
       "      <td>11050.56</td>\n",
       "      <td>17.0</td>\n",
       "      <td>35</td>\n",
       "      <td>NaN</td>\n",
       "      <td>Санкт-Петербург</td>\n",
       "      <td>...</td>\n",
       "      <td>smart</td>\n",
       "      <td>50</td>\n",
       "      <td>15360</td>\n",
       "      <td>500</td>\n",
       "      <td>550</td>\n",
       "      <td>200</td>\n",
       "      <td>3</td>\n",
       "      <td>3</td>\n",
       "      <td>smart</td>\n",
       "      <td>550.0</td>\n",
       "    </tr>\n",
       "    <tr>\n",
       "      <th>3210</th>\n",
       "      <td>1489</td>\n",
       "      <td>9</td>\n",
       "      <td>0.0</td>\n",
       "      <td>0.0</td>\n",
       "      <td>17.0</td>\n",
       "      <td>17206.30</td>\n",
       "      <td>32.0</td>\n",
       "      <td>35</td>\n",
       "      <td>NaN</td>\n",
       "      <td>Санкт-Петербург</td>\n",
       "      <td>...</td>\n",
       "      <td>smart</td>\n",
       "      <td>50</td>\n",
       "      <td>15360</td>\n",
       "      <td>500</td>\n",
       "      <td>550</td>\n",
       "      <td>200</td>\n",
       "      <td>3</td>\n",
       "      <td>3</td>\n",
       "      <td>smart</td>\n",
       "      <td>950.0</td>\n",
       "    </tr>\n",
       "    <tr>\n",
       "      <th>3211</th>\n",
       "      <td>1489</td>\n",
       "      <td>10</td>\n",
       "      <td>0.0</td>\n",
       "      <td>0.0</td>\n",
       "      <td>20.0</td>\n",
       "      <td>19559.44</td>\n",
       "      <td>21.0</td>\n",
       "      <td>35</td>\n",
       "      <td>NaN</td>\n",
       "      <td>Санкт-Петербург</td>\n",
       "      <td>...</td>\n",
       "      <td>smart</td>\n",
       "      <td>50</td>\n",
       "      <td>15360</td>\n",
       "      <td>500</td>\n",
       "      <td>550</td>\n",
       "      <td>200</td>\n",
       "      <td>3</td>\n",
       "      <td>3</td>\n",
       "      <td>smart</td>\n",
       "      <td>1550.0</td>\n",
       "    </tr>\n",
       "    <tr>\n",
       "      <th>3212</th>\n",
       "      <td>1489</td>\n",
       "      <td>11</td>\n",
       "      <td>0.0</td>\n",
       "      <td>0.0</td>\n",
       "      <td>18.0</td>\n",
       "      <td>17491.56</td>\n",
       "      <td>20.0</td>\n",
       "      <td>35</td>\n",
       "      <td>NaN</td>\n",
       "      <td>Санкт-Петербург</td>\n",
       "      <td>...</td>\n",
       "      <td>smart</td>\n",
       "      <td>50</td>\n",
       "      <td>15360</td>\n",
       "      <td>500</td>\n",
       "      <td>550</td>\n",
       "      <td>200</td>\n",
       "      <td>3</td>\n",
       "      <td>3</td>\n",
       "      <td>smart</td>\n",
       "      <td>1150.0</td>\n",
       "    </tr>\n",
       "    <tr>\n",
       "      <th>3213</th>\n",
       "      <td>1489</td>\n",
       "      <td>12</td>\n",
       "      <td>0.0</td>\n",
       "      <td>0.0</td>\n",
       "      <td>17.0</td>\n",
       "      <td>17322.51</td>\n",
       "      <td>35.0</td>\n",
       "      <td>35</td>\n",
       "      <td>NaN</td>\n",
       "      <td>Санкт-Петербург</td>\n",
       "      <td>...</td>\n",
       "      <td>smart</td>\n",
       "      <td>50</td>\n",
       "      <td>15360</td>\n",
       "      <td>500</td>\n",
       "      <td>550</td>\n",
       "      <td>200</td>\n",
       "      <td>3</td>\n",
       "      <td>3</td>\n",
       "      <td>smart</td>\n",
       "      <td>950.0</td>\n",
       "    </tr>\n",
       "  </tbody>\n",
       "</table>\n",
       "<p>3214 rows × 23 columns</p>\n",
       "</div>"
      ],
      "text/plain": [
       "      user_id  month  duration  count_calls  gb_used   mb_used  messages  age  \\\n",
       "0        1000      5     159.0         22.0      3.0   2253.49      22.0   52   \n",
       "1        1000      6     172.0         43.0     23.0  23233.77      60.0   52   \n",
       "2        1000      7     340.0         47.0     14.0  14003.64      75.0   52   \n",
       "3        1000      8     408.0         52.0     14.0  14055.93      81.0   52   \n",
       "4        1000      9     466.0         58.0     15.0  14568.91      57.0   52   \n",
       "...       ...    ...       ...          ...      ...       ...       ...  ...   \n",
       "3209     1489      8       0.0          0.0     11.0  11050.56      17.0   35   \n",
       "3210     1489      9       0.0          0.0     17.0  17206.30      32.0   35   \n",
       "3211     1489     10       0.0          0.0     20.0  19559.44      21.0   35   \n",
       "3212     1489     11       0.0          0.0     18.0  17491.56      20.0   35   \n",
       "3213     1489     12       0.0          0.0     17.0  17322.51      35.0   35   \n",
       "\n",
       "     churn_date             city  ... tariff messages_included  \\\n",
       "0           NaN        Краснодар  ...  ultra              1000   \n",
       "1           NaN        Краснодар  ...  ultra              1000   \n",
       "2           NaN        Краснодар  ...  ultra              1000   \n",
       "3           NaN        Краснодар  ...  ultra              1000   \n",
       "4           NaN        Краснодар  ...  ultra              1000   \n",
       "...         ...              ...  ...    ...               ...   \n",
       "3209        NaN  Санкт-Петербург  ...  smart                50   \n",
       "3210        NaN  Санкт-Петербург  ...  smart                50   \n",
       "3211        NaN  Санкт-Петербург  ...  smart                50   \n",
       "3212        NaN  Санкт-Петербург  ...  smart                50   \n",
       "3213        NaN  Санкт-Петербург  ...  smart                50   \n",
       "\n",
       "     mb_per_month_included minutes_included  rub_monthly_fee  rub_per_gb  \\\n",
       "0                    30720             3000             1950         150   \n",
       "1                    30720             3000             1950         150   \n",
       "2                    30720             3000             1950         150   \n",
       "3                    30720             3000             1950         150   \n",
       "4                    30720             3000             1950         150   \n",
       "...                    ...              ...              ...         ...   \n",
       "3209                 15360              500              550         200   \n",
       "3210                 15360              500              550         200   \n",
       "3211                 15360              500              550         200   \n",
       "3212                 15360              500              550         200   \n",
       "3213                 15360              500              550         200   \n",
       "\n",
       "      rub_per_message  rub_per_minute  tariff_name  revenue_client  \n",
       "0                   1               1        ultra          1950.0  \n",
       "1                   1               1        ultra          1950.0  \n",
       "2                   1               1        ultra          1950.0  \n",
       "3                   1               1        ultra          1950.0  \n",
       "4                   1               1        ultra          1950.0  \n",
       "...               ...             ...          ...             ...  \n",
       "3209                3               3        smart           550.0  \n",
       "3210                3               3        smart           950.0  \n",
       "3211                3               3        smart          1550.0  \n",
       "3212                3               3        smart          1150.0  \n",
       "3213                3               3        smart           950.0  \n",
       "\n",
       "[3214 rows x 23 columns]"
      ]
     },
     "execution_count": 50,
     "metadata": {},
     "output_type": "execute_result"
    }
   ],
   "source": [
    "report"
   ]
  },
  {
   "cell_type": "markdown",
   "metadata": {},
   "source": [
    "### Вывод\n",
    "Была проведена подготовка данных:\n",
    "- Переведены в формат datetime данные с датой в таблицах: calls, messages, internet, users.  \n",
    "- Добавлены в таблицы calls, messages, internet столбцы с месяцем даты звонка, даты сообщения и даты интернет-сессии соответственно.  \n",
    "- Был проведен поиск ошибок в данных. Ошибки обнаружены не были.  \n",
    "- Проведено объединение всех исходных таблиц в сводную таблицу report. \n",
    "- Добавлен новый столбец в свобную таблицу с общей суммой интернет-трафика за месяц.  \n",
    "- Посчитана помесячная выручка с каждого пользователя, при помощи функции calc_revenue."
   ]
  },
  {
   "cell_type": "markdown",
   "metadata": {},
   "source": [
    "## Шаг 3. Анализ данных"
   ]
  },
  {
   "cell_type": "markdown",
   "metadata": {},
   "source": [
    "Опишите поведение клиентов оператора, исходя из выборки. Сколько минут разговора, сколько сообщений и какой объём интернет-трафика требуется пользователям каждого тарифа в месяц? Посчитайте среднее количество, дисперсию и стандартное отклонение. Постройте гистограммы. Опишите распределения."
   ]
  },
  {
   "cell_type": "markdown",
   "metadata": {},
   "source": [
    "Посчитаем среднее количество, дисперсию и стандартное отклонение."
   ]
  },
  {
   "cell_type": "code",
   "execution_count": 51,
   "metadata": {},
   "outputs": [],
   "source": [
    "pivot_stat = report.pivot_table(index=['tariff'], values=['duration', 'messages', 'gb_used'],\n",
    "                                 aggfunc={'duration': ['mean', 'var', 'std'],\n",
    "                                       'gb_used': ['mean', 'var', 'std'],\n",
    "                                       'messages': ['mean', 'var', 'std']}).round(1)"
   ]
  },
  {
   "cell_type": "code",
   "execution_count": 52,
   "metadata": {},
   "outputs": [
    {
     "data": {
      "text/html": [
       "<div>\n",
       "<style scoped>\n",
       "    .dataframe tbody tr th:only-of-type {\n",
       "        vertical-align: middle;\n",
       "    }\n",
       "\n",
       "    .dataframe tbody tr th {\n",
       "        vertical-align: top;\n",
       "    }\n",
       "\n",
       "    .dataframe thead tr th {\n",
       "        text-align: left;\n",
       "    }\n",
       "\n",
       "    .dataframe thead tr:last-of-type th {\n",
       "        text-align: right;\n",
       "    }\n",
       "</style>\n",
       "<table border=\"1\" class=\"dataframe\">\n",
       "  <thead>\n",
       "    <tr>\n",
       "      <th></th>\n",
       "      <th colspan=\"3\" halign=\"left\">duration</th>\n",
       "      <th colspan=\"3\" halign=\"left\">gb_used</th>\n",
       "      <th colspan=\"3\" halign=\"left\">messages</th>\n",
       "    </tr>\n",
       "    <tr>\n",
       "      <th></th>\n",
       "      <th>mean</th>\n",
       "      <th>std</th>\n",
       "      <th>var</th>\n",
       "      <th>mean</th>\n",
       "      <th>std</th>\n",
       "      <th>var</th>\n",
       "      <th>mean</th>\n",
       "      <th>std</th>\n",
       "      <th>var</th>\n",
       "    </tr>\n",
       "    <tr>\n",
       "      <th>tariff</th>\n",
       "      <th></th>\n",
       "      <th></th>\n",
       "      <th></th>\n",
       "      <th></th>\n",
       "      <th></th>\n",
       "      <th></th>\n",
       "      <th></th>\n",
       "      <th></th>\n",
       "      <th></th>\n",
       "    </tr>\n",
       "  </thead>\n",
       "  <tbody>\n",
       "    <tr>\n",
       "      <th>smart</th>\n",
       "      <td>417.9</td>\n",
       "      <td>190.3</td>\n",
       "      <td>36219.3</td>\n",
       "      <td>16.3</td>\n",
       "      <td>5.7</td>\n",
       "      <td>33.0</td>\n",
       "      <td>33.4</td>\n",
       "      <td>28.2</td>\n",
       "      <td>796.8</td>\n",
       "    </tr>\n",
       "    <tr>\n",
       "      <th>ultra</th>\n",
       "      <td>526.6</td>\n",
       "      <td>317.6</td>\n",
       "      <td>100873.6</td>\n",
       "      <td>19.5</td>\n",
       "      <td>9.9</td>\n",
       "      <td>97.1</td>\n",
       "      <td>49.4</td>\n",
       "      <td>47.8</td>\n",
       "      <td>2285.3</td>\n",
       "    </tr>\n",
       "  </tbody>\n",
       "</table>\n",
       "</div>"
      ],
      "text/plain": [
       "       duration                  gb_used            messages              \n",
       "           mean    std       var    mean  std   var     mean   std     var\n",
       "tariff                                                                    \n",
       "smart     417.9  190.3   36219.3    16.3  5.7  33.0     33.4  28.2   796.8\n",
       "ultra     526.6  317.6  100873.6    19.5  9.9  97.1     49.4  47.8  2285.3"
      ]
     },
     "execution_count": 52,
     "metadata": {},
     "output_type": "execute_result"
    }
   ],
   "source": [
    "pivot_stat"
   ]
  },
  {
   "cell_type": "markdown",
   "metadata": {},
   "source": [
    "Построим гистограммы."
   ]
  },
  {
   "cell_type": "code",
   "execution_count": 53,
   "metadata": {},
   "outputs": [
    {
     "data": {
      "image/png": "[encoded data removed]",
      "text/plain": [
       "<Figure size 432x288 with 1 Axes>"
      ]
     },
     "metadata": {
      "needs_background": "light"
     },
     "output_type": "display_data"
    }
   ],
   "source": [
    "plt.hist(report.loc[report['tariff'] == 'ultra', 'duration'], alpha=0.5, bins=30, label='ultra')\n",
    "plt.hist(report.loc[report['tariff'] == 'smart', 'duration'], alpha=0.5, bins=30, label='smart')\n",
    "plt.grid()\n",
    "plt.legend()\n",
    "plt.xlabel('Количество израсходованных минут') \n",
    "plt.show()"
   ]
  },
  {
   "cell_type": "code",
   "execution_count": 54,
   "metadata": {},
   "outputs": [
    {
     "data": {
      "text/plain": [
       "count     985.000000\n",
       "mean      526.623350\n",
       "std       317.606098\n",
       "min         0.000000\n",
       "25%       284.000000\n",
       "50%       518.000000\n",
       "75%       752.000000\n",
       "max      1673.000000\n",
       "Name: duration, dtype: float64"
      ]
     },
     "execution_count": 54,
     "metadata": {},
     "output_type": "execute_result"
    }
   ],
   "source": [
    "report.loc[report['tariff'] == 'ultra', 'duration'].describe()"
   ]
  },
  {
   "cell_type": "code",
   "execution_count": 55,
   "metadata": {},
   "outputs": [
    {
     "data": {
      "text/plain": [
       "count    2229.000000\n",
       "mean      417.934948\n",
       "std       190.313730\n",
       "min         0.000000\n",
       "25%       282.000000\n",
       "50%       422.000000\n",
       "75%       545.000000\n",
       "max      1435.000000\n",
       "Name: duration, dtype: float64"
      ]
     },
     "execution_count": 55,
     "metadata": {},
     "output_type": "execute_result"
    }
   ],
   "source": [
    "report.loc[report['tariff'] == 'smart', 'duration'].describe()"
   ]
  },
  {
   "cell_type": "code",
   "execution_count": 56,
   "metadata": {},
   "outputs": [
    {
     "data": {
      "image/png": "[encoded data removed]",
      "text/plain": [
       "<Figure size 432x288 with 1 Axes>"
      ]
     },
     "metadata": {
      "needs_background": "light"
     },
     "output_type": "display_data"
    }
   ],
   "source": [
    "plt.hist(report.loc[report['tariff'] == 'ultra', 'gb_used'], alpha=0.5, bins=30, label='ultra')\n",
    "plt.hist(report.loc[report['tariff'] == 'smart', 'gb_used'], alpha=0.5, bins=30, label='smart')\n",
    "plt.grid()\n",
    "plt.legend()\n",
    "plt.xlabel('Объем израсходованного интернет-трафика') \n",
    "plt.show()"
   ]
  },
  {
   "cell_type": "code",
   "execution_count": 57,
   "metadata": {},
   "outputs": [
    {
     "data": {
      "text/plain": [
       "count    985.000000\n",
       "mean      19.494416\n",
       "std        9.853511\n",
       "min        0.000000\n",
       "25%       12.000000\n",
       "50%       19.000000\n",
       "75%       27.000000\n",
       "max       49.000000\n",
       "Name: gb_used, dtype: float64"
      ]
     },
     "execution_count": 57,
     "metadata": {},
     "output_type": "execute_result"
    }
   ],
   "source": [
    "report.loc[report['tariff'] == 'ultra', 'gb_used'].describe()"
   ]
  },
  {
   "cell_type": "code",
   "execution_count": 58,
   "metadata": {},
   "outputs": [
    {
     "data": {
      "text/plain": [
       "count    2229.000000\n",
       "mean       16.328847\n",
       "std         5.747061\n",
       "min         0.000000\n",
       "25%        13.000000\n",
       "50%        17.000000\n",
       "75%        20.000000\n",
       "max        38.000000\n",
       "Name: gb_used, dtype: float64"
      ]
     },
     "execution_count": 58,
     "metadata": {},
     "output_type": "execute_result"
    }
   ],
   "source": [
    "report.loc[report['tariff'] == 'smart', 'gb_used'].describe()"
   ]
  },
  {
   "cell_type": "code",
   "execution_count": 59,
   "metadata": {},
   "outputs": [
    {
     "data": {
      "image/png": "[encoded data removed]",
      "text/plain": [
       "<Figure size 432x288 with 1 Axes>"
      ]
     },
     "metadata": {
      "needs_background": "light"
     },
     "output_type": "display_data"
    }
   ],
   "source": [
    "plt.hist(report.loc[report['tariff'] == 'ultra', 'messages'], alpha=0.5, bins=30, label='ultra')\n",
    "plt.hist(report.loc[report['tariff'] == 'smart', 'messages'], alpha=0.5, bins=30, label='smart')\n",
    "plt.grid()\n",
    "plt.legend()\n",
    "plt.xlabel('Количество сообщений') \n",
    "plt.show()"
   ]
  },
  {
   "cell_type": "code",
   "execution_count": 60,
   "metadata": {},
   "outputs": [
    {
     "data": {
      "text/plain": [
       "count    985.000000\n",
       "mean      49.363452\n",
       "std       47.804457\n",
       "min        0.000000\n",
       "25%        6.000000\n",
       "50%       38.000000\n",
       "75%       79.000000\n",
       "max      224.000000\n",
       "Name: messages, dtype: float64"
      ]
     },
     "execution_count": 60,
     "metadata": {},
     "output_type": "execute_result"
    }
   ],
   "source": [
    "report.loc[report['tariff'] == 'ultra', 'messages'].describe()"
   ]
  },
  {
   "cell_type": "code",
   "execution_count": 61,
   "metadata": {},
   "outputs": [
    {
     "data": {
      "text/plain": [
       "count    2229.000000\n",
       "mean       33.384029\n",
       "std        28.227876\n",
       "min         0.000000\n",
       "25%        10.000000\n",
       "50%        28.000000\n",
       "75%        51.000000\n",
       "max       143.000000\n",
       "Name: messages, dtype: float64"
      ]
     },
     "execution_count": 61,
     "metadata": {},
     "output_type": "execute_result"
    }
   ],
   "source": [
    "report.loc[report['tariff'] == 'smart', 'messages'].describe()"
   ]
  },
  {
   "cell_type": "markdown",
   "metadata": {},
   "source": [
    "Исходя из полученных данных, можно сделать следующие выводы.\n",
    "- По количеству израсходованных минут среднее значение у пользователей тарифа \"Ultra\" (526,6) превышает среднее значение у пользователей тарифа \"Smart\" (418). Среднее значение у пользователей тарифа \"Smart\" укладывается в лимитное в 500 минут. У пользователей тарифа \"Ultra\" до лимитного значения в 3000 минут не дошёл никто.\n",
    "- По объёму израсходанного интернет-трафика среднее значение у пользователей тарифа \"Ultra\" (19,5) превышает среднее значение у пользователей тарифа \"Smart\" (16,3). Среднее значение у пользователей тарифа \"Smart\" 16,3 превышает лимитное значение в 15 Гб, что значит в среднем, пользователям данного тарифа не хватает лимитного  интернет-траффика на месяц.\n",
    "- По количеству сообщений среднее значение у пользователей тарифа \"Ultra\" (49) бодьше, чем среднее значение у пользователей тарифа \"Smart\" (33). Лимит в 1000 сообщений из пользователей тарифа \"Ultra\" не израсходовал никто, максимальное - 224. У пользователей тарифа \"Smart\" среднее значение, в 33 сообщения, приближается к лимитному в 50 сообщений.  \n",
    "- Пользователи тарифа \"Smart\" в среднем не превышают лимитных значений своего тарифа, чтобы не нести дополнительные расходы. А у пользователей тарифа \"Ultra\" никто не использует свой тариф по максимуму.\n",
    "\n"
   ]
  },
  {
   "cell_type": "markdown",
   "metadata": {},
   "source": [
    "## Шаг 4. Проверка гипотез"
   ]
  },
  {
   "cell_type": "markdown",
   "metadata": {},
   "source": [
    "### Первая гипотеза"
   ]
  },
  {
   "cell_type": "markdown",
   "metadata": {},
   "source": [
    "- Cредняя выручка пользователей тарифов «Ультра» и «Смарт» различаются.  \n",
    "\n",
    "Сформулируем нулевую H0 и альтернативную H1 гипотезы:  \n",
    "\n",
    "H0 — средняя выручка пользователей тарифа «Ультра» равна средней выручке пользователей тарифа «Смарт».  \n",
    "H1 — средняя выручка пользователей тарифа «Ультра» не равна средней выручке пользователей тарифа «Смарт».  \n",
    "α = 0.05"
   ]
  },
  {
   "cell_type": "markdown",
   "metadata": {},
   "source": [
    "Применим метод scipy.stats.ttest_ind (array1, array2, equal_var) для проверки гипотезы о равенстве среднего двух генеральных совокупностей по взятым из них выборкам "
   ]
  },
  {
   "cell_type": "code",
   "execution_count": 62,
   "metadata": {},
   "outputs": [],
   "source": [
    "data_smart = report.loc[report['tariff'] == 'smart', 'revenue_client']"
   ]
  },
  {
   "cell_type": "code",
   "execution_count": 63,
   "metadata": {},
   "outputs": [],
   "source": [
    "data_ultra = report.loc[report['tariff'] == 'ultra', 'revenue_client']"
   ]
  },
  {
   "cell_type": "code",
   "execution_count": 64,
   "metadata": {},
   "outputs": [],
   "source": [
    "alpha = 0.05"
   ]
  },
  {
   "cell_type": "code",
   "execution_count": 65,
   "metadata": {},
   "outputs": [],
   "source": [
    "results = st.ttest_ind(\n",
    "    data_smart, \n",
    "    data_ultra)"
   ]
  },
  {
   "cell_type": "code",
   "execution_count": 66,
   "metadata": {},
   "outputs": [
    {
     "data": {
      "text/plain": [
       "Ttest_indResult(statistic=-28.611056741704818, pvalue=1.4229814360764067e-160)"
      ]
     },
     "execution_count": 66,
     "metadata": {},
     "output_type": "execute_result"
    }
   ],
   "source": [
    "results"
   ]
  },
  {
   "cell_type": "code",
   "execution_count": 67,
   "metadata": {},
   "outputs": [
    {
     "name": "stdout",
     "output_type": "stream",
     "text": [
      "p-значение:  1.4229814360764067e-160\n"
     ]
    }
   ],
   "source": [
    "print('p-значение: ', results.pvalue)"
   ]
  },
  {
   "cell_type": "code",
   "execution_count": 68,
   "metadata": {},
   "outputs": [
    {
     "name": "stdout",
     "output_type": "stream",
     "text": [
      "Отвергаем нулевую гипотезу\n"
     ]
    }
   ],
   "source": [
    "if results.pvalue < alpha:\n",
    "    print(\"Отвергаем нулевую гипотезу\")\n",
    "else:\n",
    "    print(\"Не получилось отвергнуть нулевую гипотезу\") "
   ]
  },
  {
   "cell_type": "markdown",
   "metadata": {},
   "source": [
    "Следовательно, принимаем альтернативную гипотезу, что средняя выручка пользователей тарифа «Ультра» не равна средней выручке пользователей тарифа «Смарт»."
   ]
  },
  {
   "cell_type": "code",
   "execution_count": 69,
   "metadata": {},
   "outputs": [],
   "source": [
    "mean_revenue_ultra = report.loc[report['tariff'] == 'ultra', 'revenue_client'].mean()"
   ]
  },
  {
   "cell_type": "code",
   "execution_count": 70,
   "metadata": {},
   "outputs": [],
   "source": [
    "mean_revenue_smart = report.loc[report['tariff'] == 'smart', 'revenue_client'].mean()"
   ]
  },
  {
   "cell_type": "code",
   "execution_count": 71,
   "metadata": {},
   "outputs": [
    {
     "data": {
      "text/plain": [
       "(2070.1522842639592, 1289.9735307312696)"
      ]
     },
     "execution_count": 71,
     "metadata": {},
     "output_type": "execute_result"
    }
   ],
   "source": [
    "mean_revenue_ultra , mean_revenue_smart"
   ]
  },
  {
   "cell_type": "code",
   "execution_count": 72,
   "metadata": {},
   "outputs": [
    {
     "name": "stdout",
     "output_type": "stream",
     "text": [
      "Средняя выручка пользователей тарифа «Ультра» 2070.2\n",
      "Средняя выручка пользователей тарифа «Смарт» 1290.0\n"
     ]
    }
   ],
   "source": [
    "print('Средняя выручка пользователей тарифа «Ультра»', mean_revenue_ultra.round(1))\n",
    "print('Средняя выручка пользователей тарифа «Смарт»', mean_revenue_smart.round(1))"
   ]
  },
  {
   "cell_type": "markdown",
   "metadata": {},
   "source": [
    "Среднее значение выручки пользователей тарифа «Ультра» больше среднего значения выручки пользователей тарифа «Смарт» примерно на 62%. "
   ]
  },
  {
   "cell_type": "markdown",
   "metadata": {},
   "source": [
    "### Вторая гипотеза"
   ]
  },
  {
   "cell_type": "markdown",
   "metadata": {},
   "source": [
    "- Средняя выручка пользователей из Москвы отличается от выручки пользователей из других регионов. \n",
    "\n",
    "Сформулируем нулевую H0 и альтернативную H1 гипотезы:  \n",
    "H0 — средняя выручка пользователей из Москвы равна средней выручке пользователей из других регионов.  \n",
    "H1 — средняя выручка пользователей из Москвы не равна средней выручке пользователей из других регионов.  \n",
    "α = 0.05"
   ]
  },
  {
   "cell_type": "markdown",
   "metadata": {},
   "source": [
    "Применим метод scipy.stats.ttest_ind (array1, array2, equal_var) для проверки гипотезы о равенстве среднего двух генеральных совокупностей по взятым из них выборкам."
   ]
  },
  {
   "cell_type": "code",
   "execution_count": 73,
   "metadata": {},
   "outputs": [],
   "source": [
    "data_moscow = report.loc[report['city'] == 'Москва', 'revenue_client']"
   ]
  },
  {
   "cell_type": "code",
   "execution_count": 74,
   "metadata": {},
   "outputs": [],
   "source": [
    "data_not_moscow = report.loc[report['city'] != 'Москва', 'revenue_client']"
   ]
  },
  {
   "cell_type": "code",
   "execution_count": 75,
   "metadata": {},
   "outputs": [],
   "source": [
    "alpha = 0.05"
   ]
  },
  {
   "cell_type": "code",
   "execution_count": 76,
   "metadata": {},
   "outputs": [],
   "source": [
    "results = st.ttest_ind(\n",
    "    data_moscow, \n",
    "    data_not_moscow)"
   ]
  },
  {
   "cell_type": "code",
   "execution_count": 77,
   "metadata": {},
   "outputs": [
    {
     "data": {
      "text/plain": [
       "Ttest_indResult(statistic=0.606816942705698, pvalue=0.5440152911670224)"
      ]
     },
     "execution_count": 77,
     "metadata": {},
     "output_type": "execute_result"
    }
   ],
   "source": [
    "results"
   ]
  },
  {
   "cell_type": "code",
   "execution_count": 78,
   "metadata": {},
   "outputs": [
    {
     "name": "stdout",
     "output_type": "stream",
     "text": [
      "p-значение:  0.5440152911670224\n"
     ]
    }
   ],
   "source": [
    "print('p-значение: ', results.pvalue)"
   ]
  },
  {
   "cell_type": "code",
   "execution_count": 79,
   "metadata": {},
   "outputs": [
    {
     "name": "stdout",
     "output_type": "stream",
     "text": [
      "Не получилось отвергнуть нулевую гипотезу\n"
     ]
    }
   ],
   "source": [
    "if results.pvalue < alpha:\n",
    "    print(\"Отвергаем нулевую гипотезу\")\n",
    "else:\n",
    "    print(\"Не получилось отвергнуть нулевую гипотезу\") "
   ]
  },
  {
   "cell_type": "code",
   "execution_count": 80,
   "metadata": {},
   "outputs": [],
   "source": [
    "mean_revenue_moscow = report.loc[report['city'] == 'Москва', 'revenue_client'].mean()"
   ]
  },
  {
   "cell_type": "code",
   "execution_count": 81,
   "metadata": {},
   "outputs": [],
   "source": [
    "mean_revenue_not_moscow = report.loc[report['city'] != 'Москва', 'revenue_client'].mean()"
   ]
  },
  {
   "cell_type": "code",
   "execution_count": 82,
   "metadata": {},
   "outputs": [
    {
     "name": "stdout",
     "output_type": "stream",
     "text": [
      "Средняя выручка с пользователей из Москвы 1546.7\n",
      "Средняя выручка с пользователей не из Москвы 1524.9\n"
     ]
    }
   ],
   "source": [
    "print('Средняя выручка с пользователей из Москвы', mean_revenue_moscow.round(1))\n",
    "print('Средняя выручка с пользователей не из Москвы', mean_revenue_not_moscow.round(1))"
   ]
  },
  {
   "cell_type": "markdown",
   "metadata": {},
   "source": [
    "Средние значения выручек пользователей из Москвы и пользователей не из Москвы, не сильно отличаются, что подтверджает нулевую гипотезу."
   ]
  },
  {
   "cell_type": "markdown",
   "metadata": {},
   "source": [
    "## Общий вывод"
   ]
  },
  {
   "cell_type": "markdown",
   "metadata": {},
   "source": [
    "Был проведен анализ двух тарифных планов: «Смарт» и «Ультра». \n",
    "Была проведена подготовка данных и было рассчитано для каждого пользователя:\n",
    "- количество сделанных звонков и израсходованных минут разговора по месяцам;\n",
    "- количество отправленных сообщений по месяцам;\n",
    "- объем израсходованного интернет-трафика по месяцам;\n",
    "- помесячную выручку с каждого пользователя.    \n",
    "\n",
    "В ходе дальнейшего анализа данных было изучено сколько минут разговора, сколько сообщений и какой объём интернет-трафика требуется пользователям каждого тарифа в месяц. По этим данным был сделан вывод, что пользователи тарифа \"Smart\" в среднем не превышают лимитных значений своего тарифа, чтобы не нести дополнительные расходы. А пакет услуг тарифа \"Ultra\" оказался избыточным. Отсутствуют пользователи, которые превышали лимитные значения по услугам тарифа. \n",
    "\n",
    "Далее с помощью T-теста были проверены две гитотезы:\n",
    "\n",
    "- Cредняя выручка пользователей тарифов «Ультра» и «Смарт» различаются.  \n",
    "Нулевая гипотеза была отвергнута и принята альтернативная гипотеза, что средняя выручка пользователей тарифа «Ультра» не равна средней выручке пользователей тарифа «Смарт».\n",
    "- Средняя выручка пользователей из Москвы отличается от выручки пользователей из других регионов.   \n",
    "Нулевую гипотезу, что средняя выручка пользователей из Москвы равна средней выручке пользователей из других регионов   отвергнуть не удалось.\n",
    "\n",
    "Также была рассчитана средняя выручка по пользователям тарифа «Ультра», равная 2070.2 руб. и средняя выручка по пользователям тарифа «Смарт», равная 1290.0 руб. Исходя из этого, делаем вывод, что тариф \"Ультра\" приносит компании приносит больше денег и более ей выгоден."
   ]
  }
 ],
 "metadata": {
  "ExecuteTimeLog": [
   {
    "duration": 5,
    "start_time": "2022-03-30T19:38:42.170Z"
   },
   {
    "duration": 2,
    "start_time": "2022-03-30T19:44:57.433Z"
   },
   {
    "duration": 142,
    "start_time": "2022-03-30T19:55:30.688Z"
   },
   {
    "duration": 1504,
    "start_time": "2022-03-30T19:57:02.727Z"
   },
   {
    "duration": 4,
    "start_time": "2022-03-30T19:57:09.433Z"
   },
   {
    "duration": 87,
    "start_time": "2022-03-30T19:57:21.946Z"
   },
   {
    "duration": 24,
    "start_time": "2022-03-30T19:57:53.994Z"
   },
   {
    "duration": 25,
    "start_time": "2022-03-30T19:57:55.306Z"
   },
   {
    "duration": 154,
    "start_time": "2022-03-30T19:58:13.514Z"
   },
   {
    "duration": 15,
    "start_time": "2022-03-30T19:58:32.512Z"
   },
   {
    "duration": 29,
    "start_time": "2022-03-30T19:59:47.418Z"
   },
   {
    "duration": 138,
    "start_time": "2022-03-30T20:01:27.877Z"
   },
   {
    "duration": 9,
    "start_time": "2022-03-30T20:01:44.381Z"
   },
   {
    "duration": 24,
    "start_time": "2022-03-30T20:01:52.067Z"
   },
   {
    "duration": 97,
    "start_time": "2022-03-30T20:02:28.661Z"
   },
   {
    "duration": 9,
    "start_time": "2022-03-30T20:02:29.412Z"
   },
   {
    "duration": 21,
    "start_time": "2022-03-30T20:02:30.588Z"
   },
   {
    "duration": 12,
    "start_time": "2022-03-30T20:03:10.479Z"
   },
   {
    "duration": 11,
    "start_time": "2022-03-30T20:03:11.134Z"
   },
   {
    "duration": 13,
    "start_time": "2022-03-30T20:03:12.309Z"
   },
   {
    "duration": 17,
    "start_time": "2022-03-30T20:03:50.110Z"
   },
   {
    "duration": 11,
    "start_time": "2022-03-30T20:03:50.869Z"
   },
   {
    "duration": 11,
    "start_time": "2022-03-30T20:03:52.535Z"
   },
   {
    "duration": 3,
    "start_time": "2022-03-30T20:47:10.574Z"
   },
   {
    "duration": 10,
    "start_time": "2022-03-30T20:49:57.713Z"
   },
   {
    "duration": 1451,
    "start_time": "2022-03-30T20:50:05.567Z"
   },
   {
    "duration": 135,
    "start_time": "2022-03-30T20:50:07.021Z"
   },
   {
    "duration": 0,
    "start_time": "2022-03-30T20:50:07.159Z"
   },
   {
    "duration": 0,
    "start_time": "2022-03-30T20:50:07.160Z"
   },
   {
    "duration": 0,
    "start_time": "2022-03-30T20:50:07.161Z"
   },
   {
    "duration": 0,
    "start_time": "2022-03-30T20:50:07.162Z"
   },
   {
    "duration": 0,
    "start_time": "2022-03-30T20:50:07.163Z"
   },
   {
    "duration": 0,
    "start_time": "2022-03-30T20:50:07.165Z"
   },
   {
    "duration": 0,
    "start_time": "2022-03-30T20:50:07.166Z"
   },
   {
    "duration": 0,
    "start_time": "2022-03-30T20:50:07.167Z"
   },
   {
    "duration": 0,
    "start_time": "2022-03-30T20:50:07.168Z"
   },
   {
    "duration": 0,
    "start_time": "2022-03-30T20:50:07.169Z"
   },
   {
    "duration": 0,
    "start_time": "2022-03-30T20:50:07.170Z"
   },
   {
    "duration": 0,
    "start_time": "2022-03-30T20:50:07.171Z"
   },
   {
    "duration": 0,
    "start_time": "2022-03-30T20:50:07.173Z"
   },
   {
    "duration": 0,
    "start_time": "2022-03-30T20:50:07.174Z"
   },
   {
    "duration": 0,
    "start_time": "2022-03-30T20:50:07.175Z"
   },
   {
    "duration": 0,
    "start_time": "2022-03-30T20:50:07.177Z"
   },
   {
    "duration": 0,
    "start_time": "2022-03-30T20:50:07.178Z"
   },
   {
    "duration": 0,
    "start_time": "2022-03-30T20:50:07.179Z"
   },
   {
    "duration": 0,
    "start_time": "2022-03-30T20:50:07.181Z"
   },
   {
    "duration": 0,
    "start_time": "2022-03-30T20:50:07.181Z"
   },
   {
    "duration": 0,
    "start_time": "2022-03-30T20:50:07.182Z"
   },
   {
    "duration": 0,
    "start_time": "2022-03-30T20:50:07.183Z"
   },
   {
    "duration": 0,
    "start_time": "2022-03-30T20:50:07.184Z"
   },
   {
    "duration": 0,
    "start_time": "2022-03-30T20:50:07.185Z"
   },
   {
    "duration": 0,
    "start_time": "2022-03-30T20:50:07.186Z"
   },
   {
    "duration": 0,
    "start_time": "2022-03-30T20:50:07.187Z"
   },
   {
    "duration": 1266,
    "start_time": "2022-03-30T20:50:22.392Z"
   },
   {
    "duration": 159,
    "start_time": "2022-03-30T20:50:23.661Z"
   },
   {
    "duration": 14,
    "start_time": "2022-03-30T20:50:23.822Z"
   },
   {
    "duration": 30,
    "start_time": "2022-03-30T20:50:23.838Z"
   },
   {
    "duration": 158,
    "start_time": "2022-03-30T20:50:23.870Z"
   },
   {
    "duration": 9,
    "start_time": "2022-03-30T20:50:24.031Z"
   },
   {
    "duration": 25,
    "start_time": "2022-03-30T20:50:24.042Z"
   },
   {
    "duration": 107,
    "start_time": "2022-03-30T20:50:24.069Z"
   },
   {
    "duration": 8,
    "start_time": "2022-03-30T20:50:24.178Z"
   },
   {
    "duration": 34,
    "start_time": "2022-03-30T20:50:24.188Z"
   },
   {
    "duration": 11,
    "start_time": "2022-03-30T20:50:24.224Z"
   },
   {
    "duration": 11,
    "start_time": "2022-03-30T20:50:24.237Z"
   },
   {
    "duration": 15,
    "start_time": "2022-03-30T20:50:24.250Z"
   },
   {
    "duration": 35,
    "start_time": "2022-03-30T20:50:24.269Z"
   },
   {
    "duration": 15,
    "start_time": "2022-03-30T20:50:24.306Z"
   },
   {
    "duration": 15,
    "start_time": "2022-03-30T20:50:24.323Z"
   },
   {
    "duration": 38,
    "start_time": "2022-03-30T20:50:24.339Z"
   },
   {
    "duration": 27,
    "start_time": "2022-03-30T20:50:24.402Z"
   },
   {
    "duration": 22,
    "start_time": "2022-03-30T20:50:24.431Z"
   },
   {
    "duration": 63,
    "start_time": "2022-03-30T20:50:24.455Z"
   },
   {
    "duration": 29,
    "start_time": "2022-03-30T20:50:24.520Z"
   },
   {
    "duration": 50,
    "start_time": "2022-03-30T20:50:24.551Z"
   },
   {
    "duration": 6,
    "start_time": "2022-03-30T20:50:24.603Z"
   },
   {
    "duration": 145,
    "start_time": "2022-03-30T20:50:24.611Z"
   },
   {
    "duration": 0,
    "start_time": "2022-03-30T20:50:24.758Z"
   },
   {
    "duration": 0,
    "start_time": "2022-03-30T20:50:24.760Z"
   },
   {
    "duration": 0,
    "start_time": "2022-03-30T20:50:24.761Z"
   },
   {
    "duration": 27,
    "start_time": "2022-03-30T20:50:43.532Z"
   },
   {
    "duration": 3,
    "start_time": "2022-03-30T20:50:44.125Z"
   },
   {
    "duration": 14,
    "start_time": "2022-03-30T20:50:44.796Z"
   },
   {
    "duration": 18,
    "start_time": "2022-03-30T20:50:57.725Z"
   },
   {
    "duration": 19,
    "start_time": "2022-03-30T20:50:58.356Z"
   },
   {
    "duration": 4,
    "start_time": "2022-03-30T20:50:58.932Z"
   },
   {
    "duration": 13,
    "start_time": "2022-03-30T20:51:27.039Z"
   },
   {
    "duration": 11,
    "start_time": "2022-03-30T20:51:27.797Z"
   },
   {
    "duration": 30,
    "start_time": "2022-03-30T20:51:28.453Z"
   },
   {
    "duration": 9,
    "start_time": "2022-03-30T20:51:59.472Z"
   },
   {
    "duration": 30,
    "start_time": "2022-03-30T20:52:04.918Z"
   },
   {
    "duration": 14,
    "start_time": "2022-03-30T20:52:18.473Z"
   },
   {
    "duration": 68,
    "start_time": "2022-03-30T20:52:19.415Z"
   },
   {
    "duration": 62,
    "start_time": "2022-03-30T20:55:29.994Z"
   },
   {
    "duration": 3,
    "start_time": "2022-03-30T20:55:30.659Z"
   },
   {
    "duration": 15,
    "start_time": "2022-03-30T20:55:31.336Z"
   },
   {
    "duration": 28,
    "start_time": "2022-03-30T20:56:00.938Z"
   },
   {
    "duration": 3,
    "start_time": "2022-03-30T20:56:01.563Z"
   },
   {
    "duration": 13,
    "start_time": "2022-03-30T20:56:02.122Z"
   },
   {
    "duration": 11,
    "start_time": "2022-03-30T20:56:34.945Z"
   },
   {
    "duration": 14,
    "start_time": "2022-03-30T20:56:35.591Z"
   },
   {
    "duration": 7,
    "start_time": "2022-03-30T20:57:06.770Z"
   },
   {
    "duration": 104,
    "start_time": "2022-03-30T20:57:24.050Z"
   },
   {
    "duration": 41,
    "start_time": "2022-03-30T20:57:24.834Z"
   },
   {
    "duration": 28,
    "start_time": "2022-03-30T20:58:23.860Z"
   },
   {
    "duration": 14,
    "start_time": "2022-03-30T20:58:24.611Z"
   },
   {
    "duration": 27,
    "start_time": "2022-03-30T20:58:26.455Z"
   },
   {
    "duration": 27,
    "start_time": "2022-03-30T20:58:29.899Z"
   },
   {
    "duration": 15,
    "start_time": "2022-03-30T20:58:31.390Z"
   },
   {
    "duration": 3,
    "start_time": "2022-03-30T20:58:38.364Z"
   },
   {
    "duration": 204,
    "start_time": "2022-03-30T20:58:43.915Z"
   },
   {
    "duration": 190,
    "start_time": "2022-03-30T20:58:49.003Z"
   },
   {
    "duration": 205,
    "start_time": "2022-03-30T20:58:54.012Z"
   },
   {
    "duration": 4,
    "start_time": "2022-03-30T20:59:35.291Z"
   },
   {
    "duration": 5,
    "start_time": "2022-03-30T20:59:35.908Z"
   },
   {
    "duration": 4,
    "start_time": "2022-03-30T20:59:53.136Z"
   },
   {
    "duration": 4,
    "start_time": "2022-03-30T20:59:53.837Z"
   },
   {
    "duration": 5,
    "start_time": "2022-03-30T20:59:54.890Z"
   },
   {
    "duration": 5,
    "start_time": "2022-03-30T20:59:55.708Z"
   },
   {
    "duration": 4,
    "start_time": "2022-03-30T20:59:56.597Z"
   },
   {
    "duration": 3,
    "start_time": "2022-03-30T21:00:06.223Z"
   },
   {
    "duration": 4,
    "start_time": "2022-03-30T21:00:06.812Z"
   },
   {
    "duration": 5,
    "start_time": "2022-03-30T21:00:12.968Z"
   },
   {
    "duration": 4,
    "start_time": "2022-03-30T21:00:18.653Z"
   },
   {
    "duration": 4,
    "start_time": "2022-03-30T21:00:26.765Z"
   },
   {
    "duration": 5,
    "start_time": "2022-03-30T21:00:45.228Z"
   },
   {
    "duration": 6,
    "start_time": "2022-03-30T21:00:52.466Z"
   },
   {
    "duration": 5,
    "start_time": "2022-03-30T21:01:00.288Z"
   },
   {
    "duration": 4,
    "start_time": "2022-03-30T21:01:05.101Z"
   },
   {
    "duration": 4,
    "start_time": "2022-03-30T21:01:13.374Z"
   },
   {
    "duration": 4,
    "start_time": "2022-03-30T21:01:18.950Z"
   },
   {
    "duration": 4,
    "start_time": "2022-03-30T21:01:44.470Z"
   },
   {
    "duration": 7,
    "start_time": "2022-03-30T21:01:45.737Z"
   },
   {
    "duration": 3,
    "start_time": "2022-03-30T21:01:46.863Z"
   },
   {
    "duration": 4,
    "start_time": "2022-03-30T21:01:47.953Z"
   },
   {
    "duration": 4,
    "start_time": "2022-03-30T21:01:48.662Z"
   },
   {
    "duration": 109,
    "start_time": "2022-03-30T21:02:05.093Z"
   },
   {
    "duration": 3,
    "start_time": "2022-03-30T21:02:07.840Z"
   },
   {
    "duration": 3,
    "start_time": "2022-03-30T21:02:08.784Z"
   },
   {
    "duration": 9,
    "start_time": "2022-03-30T21:02:09.688Z"
   },
   {
    "duration": 122,
    "start_time": "2022-03-30T21:02:54.231Z"
   },
   {
    "duration": 14,
    "start_time": "2022-03-30T21:02:59.961Z"
   },
   {
    "duration": 13,
    "start_time": "2022-03-30T21:03:13.451Z"
   },
   {
    "duration": 10,
    "start_time": "2022-03-30T21:03:14.388Z"
   },
   {
    "duration": 99,
    "start_time": "2022-03-30T21:03:16.273Z"
   },
   {
    "duration": 53,
    "start_time": "2022-03-31T19:35:14.585Z"
   },
   {
    "duration": 1306,
    "start_time": "2022-03-31T19:35:21.800Z"
   },
   {
    "duration": 132,
    "start_time": "2022-03-31T19:35:23.108Z"
   },
   {
    "duration": 12,
    "start_time": "2022-03-31T19:35:23.242Z"
   },
   {
    "duration": 25,
    "start_time": "2022-03-31T19:35:23.256Z"
   },
   {
    "duration": 138,
    "start_time": "2022-03-31T19:35:23.283Z"
   },
   {
    "duration": 7,
    "start_time": "2022-03-31T19:35:23.423Z"
   },
   {
    "duration": 23,
    "start_time": "2022-03-31T19:35:23.432Z"
   },
   {
    "duration": 86,
    "start_time": "2022-03-31T19:35:23.457Z"
   },
   {
    "duration": 8,
    "start_time": "2022-03-31T19:35:23.544Z"
   },
   {
    "duration": 20,
    "start_time": "2022-03-31T19:35:23.555Z"
   },
   {
    "duration": 10,
    "start_time": "2022-03-31T19:35:23.577Z"
   },
   {
    "duration": 8,
    "start_time": "2022-03-31T19:35:23.609Z"
   },
   {
    "duration": 11,
    "start_time": "2022-03-31T19:35:23.619Z"
   },
   {
    "duration": 21,
    "start_time": "2022-03-31T19:35:23.632Z"
   },
   {
    "duration": 10,
    "start_time": "2022-03-31T19:35:23.654Z"
   },
   {
    "duration": 12,
    "start_time": "2022-03-31T19:35:23.666Z"
   },
   {
    "duration": 120,
    "start_time": "2022-03-31T19:35:23.679Z"
   },
   {
    "duration": 0,
    "start_time": "2022-03-31T19:35:23.802Z"
   },
   {
    "duration": 0,
    "start_time": "2022-03-31T19:35:23.809Z"
   },
   {
    "duration": 0,
    "start_time": "2022-03-31T19:35:23.810Z"
   },
   {
    "duration": 0,
    "start_time": "2022-03-31T19:35:23.811Z"
   },
   {
    "duration": 0,
    "start_time": "2022-03-31T19:35:23.812Z"
   },
   {
    "duration": 0,
    "start_time": "2022-03-31T19:35:23.813Z"
   },
   {
    "duration": 0,
    "start_time": "2022-03-31T19:35:23.815Z"
   },
   {
    "duration": 0,
    "start_time": "2022-03-31T19:35:23.815Z"
   },
   {
    "duration": 0,
    "start_time": "2022-03-31T19:35:23.816Z"
   },
   {
    "duration": 0,
    "start_time": "2022-03-31T19:35:23.818Z"
   },
   {
    "duration": 0,
    "start_time": "2022-03-31T19:35:23.819Z"
   },
   {
    "duration": 0,
    "start_time": "2022-03-31T19:35:23.820Z"
   },
   {
    "duration": 0,
    "start_time": "2022-03-31T19:35:23.821Z"
   },
   {
    "duration": 0,
    "start_time": "2022-03-31T19:35:23.822Z"
   },
   {
    "duration": 0,
    "start_time": "2022-03-31T19:35:23.823Z"
   },
   {
    "duration": 0,
    "start_time": "2022-03-31T19:35:23.824Z"
   },
   {
    "duration": 0,
    "start_time": "2022-03-31T19:35:23.825Z"
   },
   {
    "duration": 0,
    "start_time": "2022-03-31T19:35:23.826Z"
   },
   {
    "duration": 0,
    "start_time": "2022-03-31T19:35:23.827Z"
   },
   {
    "duration": 0,
    "start_time": "2022-03-31T19:35:23.828Z"
   },
   {
    "duration": 0,
    "start_time": "2022-03-31T19:35:23.829Z"
   },
   {
    "duration": 0,
    "start_time": "2022-03-31T19:35:23.830Z"
   },
   {
    "duration": 0,
    "start_time": "2022-03-31T19:35:23.831Z"
   },
   {
    "duration": 0,
    "start_time": "2022-03-31T19:35:23.832Z"
   },
   {
    "duration": 0,
    "start_time": "2022-03-31T19:35:23.833Z"
   },
   {
    "duration": 0,
    "start_time": "2022-03-31T19:35:23.834Z"
   },
   {
    "duration": 0,
    "start_time": "2022-03-31T19:35:23.835Z"
   },
   {
    "duration": 0,
    "start_time": "2022-03-31T19:35:23.836Z"
   },
   {
    "duration": 0,
    "start_time": "2022-03-31T19:35:23.837Z"
   },
   {
    "duration": 0,
    "start_time": "2022-03-31T19:35:23.838Z"
   },
   {
    "duration": 0,
    "start_time": "2022-03-31T19:35:23.839Z"
   },
   {
    "duration": 0,
    "start_time": "2022-03-31T19:35:23.840Z"
   },
   {
    "duration": 0,
    "start_time": "2022-03-31T19:35:23.841Z"
   },
   {
    "duration": 0,
    "start_time": "2022-03-31T19:35:23.842Z"
   },
   {
    "duration": 0,
    "start_time": "2022-03-31T19:35:23.843Z"
   },
   {
    "duration": 0,
    "start_time": "2022-03-31T19:35:23.844Z"
   },
   {
    "duration": 0,
    "start_time": "2022-03-31T19:35:23.845Z"
   },
   {
    "duration": 0,
    "start_time": "2022-03-31T19:35:23.909Z"
   },
   {
    "duration": 0,
    "start_time": "2022-03-31T19:35:23.910Z"
   },
   {
    "duration": 0,
    "start_time": "2022-03-31T19:35:23.911Z"
   },
   {
    "duration": 0,
    "start_time": "2022-03-31T19:35:23.912Z"
   },
   {
    "duration": 0,
    "start_time": "2022-03-31T19:35:23.913Z"
   },
   {
    "duration": 0,
    "start_time": "2022-03-31T19:35:23.914Z"
   },
   {
    "duration": 0,
    "start_time": "2022-03-31T19:35:23.915Z"
   },
   {
    "duration": 0,
    "start_time": "2022-03-31T19:35:23.916Z"
   },
   {
    "duration": 0,
    "start_time": "2022-03-31T19:35:23.917Z"
   },
   {
    "duration": 0,
    "start_time": "2022-03-31T19:35:23.918Z"
   },
   {
    "duration": 0,
    "start_time": "2022-03-31T19:35:23.919Z"
   },
   {
    "duration": 0,
    "start_time": "2022-03-31T19:35:23.920Z"
   },
   {
    "duration": 0,
    "start_time": "2022-03-31T19:35:23.921Z"
   },
   {
    "duration": 0,
    "start_time": "2022-03-31T19:35:23.922Z"
   },
   {
    "duration": 0,
    "start_time": "2022-03-31T19:35:23.923Z"
   },
   {
    "duration": 0,
    "start_time": "2022-03-31T19:35:23.924Z"
   },
   {
    "duration": 0,
    "start_time": "2022-03-31T19:35:23.925Z"
   },
   {
    "duration": 0,
    "start_time": "2022-03-31T19:35:23.926Z"
   },
   {
    "duration": 0,
    "start_time": "2022-03-31T19:35:23.927Z"
   },
   {
    "duration": 0,
    "start_time": "2022-03-31T19:35:23.927Z"
   },
   {
    "duration": 0,
    "start_time": "2022-03-31T19:35:23.928Z"
   },
   {
    "duration": 0,
    "start_time": "2022-03-31T19:35:23.929Z"
   },
   {
    "duration": 0,
    "start_time": "2022-03-31T19:35:23.930Z"
   },
   {
    "duration": 0,
    "start_time": "2022-03-31T19:35:23.931Z"
   },
   {
    "duration": 0,
    "start_time": "2022-03-31T19:35:23.933Z"
   },
   {
    "duration": 21,
    "start_time": "2022-03-31T19:35:44.097Z"
   },
   {
    "duration": 21,
    "start_time": "2022-03-31T19:35:45.877Z"
   },
   {
    "duration": 18,
    "start_time": "2022-03-31T19:36:20.379Z"
   },
   {
    "duration": 7,
    "start_time": "2022-03-31T19:36:44.293Z"
   },
   {
    "duration": 19,
    "start_time": "2022-03-31T19:37:44.440Z"
   },
   {
    "duration": 5,
    "start_time": "2022-03-31T19:46:43.724Z"
   },
   {
    "duration": 8,
    "start_time": "2022-03-31T19:48:16.848Z"
   },
   {
    "duration": 3,
    "start_time": "2022-03-31T19:48:29.197Z"
   },
   {
    "duration": 166,
    "start_time": "2022-03-31T19:48:29.202Z"
   },
   {
    "duration": 9,
    "start_time": "2022-03-31T19:48:29.370Z"
   },
   {
    "duration": 43,
    "start_time": "2022-03-31T19:48:29.381Z"
   },
   {
    "duration": 134,
    "start_time": "2022-03-31T19:48:29.427Z"
   },
   {
    "duration": 14,
    "start_time": "2022-03-31T19:48:29.563Z"
   },
   {
    "duration": 44,
    "start_time": "2022-03-31T19:48:29.580Z"
   },
   {
    "duration": 90,
    "start_time": "2022-03-31T19:48:29.627Z"
   },
   {
    "duration": 8,
    "start_time": "2022-03-31T19:48:29.719Z"
   },
   {
    "duration": 21,
    "start_time": "2022-03-31T19:48:29.729Z"
   },
   {
    "duration": 9,
    "start_time": "2022-03-31T19:48:29.754Z"
   },
   {
    "duration": 8,
    "start_time": "2022-03-31T19:48:29.765Z"
   },
   {
    "duration": 43,
    "start_time": "2022-03-31T19:48:29.775Z"
   },
   {
    "duration": 21,
    "start_time": "2022-03-31T19:48:29.821Z"
   },
   {
    "duration": 10,
    "start_time": "2022-03-31T19:48:29.844Z"
   },
   {
    "duration": 10,
    "start_time": "2022-03-31T19:48:29.856Z"
   },
   {
    "duration": 54,
    "start_time": "2022-03-31T19:48:29.868Z"
   },
   {
    "duration": 27,
    "start_time": "2022-03-31T19:48:29.923Z"
   },
   {
    "duration": 22,
    "start_time": "2022-03-31T19:48:29.951Z"
   },
   {
    "duration": 4,
    "start_time": "2022-03-31T19:48:29.974Z"
   },
   {
    "duration": 63,
    "start_time": "2022-03-31T19:48:29.980Z"
   },
   {
    "duration": 26,
    "start_time": "2022-03-31T19:48:30.045Z"
   },
   {
    "duration": 48,
    "start_time": "2022-03-31T19:48:30.073Z"
   },
   {
    "duration": 6,
    "start_time": "2022-03-31T19:48:30.123Z"
   },
   {
    "duration": 37,
    "start_time": "2022-03-31T19:48:30.131Z"
   },
   {
    "duration": 3,
    "start_time": "2022-03-31T19:48:30.170Z"
   },
   {
    "duration": 12,
    "start_time": "2022-03-31T19:48:32.186Z"
   },
   {
    "duration": 17,
    "start_time": "2022-03-31T19:49:29.519Z"
   },
   {
    "duration": 18,
    "start_time": "2022-03-31T19:49:30.030Z"
   },
   {
    "duration": 4,
    "start_time": "2022-03-31T19:49:30.637Z"
   },
   {
    "duration": 12,
    "start_time": "2022-03-31T19:49:32.812Z"
   },
   {
    "duration": 10,
    "start_time": "2022-03-31T19:49:33.936Z"
   },
   {
    "duration": 27,
    "start_time": "2022-03-31T19:49:34.444Z"
   },
   {
    "duration": 3,
    "start_time": "2022-03-31T19:50:37.818Z"
   },
   {
    "duration": 161,
    "start_time": "2022-03-31T19:50:37.824Z"
   },
   {
    "duration": 22,
    "start_time": "2022-03-31T19:50:37.987Z"
   },
   {
    "duration": 26,
    "start_time": "2022-03-31T19:50:38.010Z"
   },
   {
    "duration": 143,
    "start_time": "2022-03-31T19:50:38.038Z"
   },
   {
    "duration": 9,
    "start_time": "2022-03-31T19:50:38.183Z"
   },
   {
    "duration": 34,
    "start_time": "2022-03-31T19:50:38.194Z"
   },
   {
    "duration": 95,
    "start_time": "2022-03-31T19:50:38.229Z"
   },
   {
    "duration": 7,
    "start_time": "2022-03-31T19:50:38.326Z"
   },
   {
    "duration": 20,
    "start_time": "2022-03-31T19:50:38.335Z"
   },
   {
    "duration": 10,
    "start_time": "2022-03-31T19:50:38.358Z"
   },
   {
    "duration": 8,
    "start_time": "2022-03-31T19:50:38.369Z"
   },
   {
    "duration": 34,
    "start_time": "2022-03-31T19:50:38.378Z"
   },
   {
    "duration": 24,
    "start_time": "2022-03-31T19:50:38.413Z"
   },
   {
    "duration": 10,
    "start_time": "2022-03-31T19:50:38.438Z"
   },
   {
    "duration": 12,
    "start_time": "2022-03-31T19:50:38.450Z"
   },
   {
    "duration": 40,
    "start_time": "2022-03-31T19:50:38.464Z"
   },
   {
    "duration": 24,
    "start_time": "2022-03-31T19:50:38.506Z"
   },
   {
    "duration": 19,
    "start_time": "2022-03-31T19:50:38.532Z"
   },
   {
    "duration": 3,
    "start_time": "2022-03-31T19:50:38.553Z"
   },
   {
    "duration": 57,
    "start_time": "2022-03-31T19:50:38.558Z"
   },
   {
    "duration": 24,
    "start_time": "2022-03-31T19:50:38.617Z"
   },
   {
    "duration": 30,
    "start_time": "2022-03-31T19:50:38.643Z"
   },
   {
    "duration": 4,
    "start_time": "2022-03-31T19:50:38.675Z"
   },
   {
    "duration": 46,
    "start_time": "2022-03-31T19:50:38.681Z"
   },
   {
    "duration": 3,
    "start_time": "2022-03-31T19:50:38.729Z"
   },
   {
    "duration": 14,
    "start_time": "2022-03-31T19:50:38.734Z"
   },
   {
    "duration": 18,
    "start_time": "2022-03-31T19:50:38.749Z"
   },
   {
    "duration": 39,
    "start_time": "2022-03-31T19:50:38.770Z"
   },
   {
    "duration": 4,
    "start_time": "2022-03-31T19:50:38.810Z"
   },
   {
    "duration": 12,
    "start_time": "2022-03-31T19:50:42.990Z"
   },
   {
    "duration": 14,
    "start_time": "2022-03-31T19:50:47.909Z"
   },
   {
    "duration": 24,
    "start_time": "2022-03-31T19:51:43.848Z"
   },
   {
    "duration": 3,
    "start_time": "2022-03-31T19:51:44.618Z"
   },
   {
    "duration": 12,
    "start_time": "2022-03-31T19:51:45.589Z"
   },
   {
    "duration": 17,
    "start_time": "2022-03-31T19:51:47.536Z"
   },
   {
    "duration": 17,
    "start_time": "2022-03-31T19:52:01.360Z"
   },
   {
    "duration": 17,
    "start_time": "2022-03-31T19:52:02.279Z"
   },
   {
    "duration": 4,
    "start_time": "2022-03-31T19:52:03.070Z"
   },
   {
    "duration": 4,
    "start_time": "2022-03-31T19:52:06.558Z"
   },
   {
    "duration": 13,
    "start_time": "2022-03-31T19:53:27.361Z"
   },
   {
    "duration": 20,
    "start_time": "2022-03-31T19:53:28.025Z"
   },
   {
    "duration": 12,
    "start_time": "2022-03-31T19:53:35.751Z"
   },
   {
    "duration": 31,
    "start_time": "2022-03-31T19:53:37.025Z"
   },
   {
    "duration": 16,
    "start_time": "2022-03-31T19:54:14.996Z"
   },
   {
    "duration": 14,
    "start_time": "2022-03-31T19:54:16.968Z"
   },
   {
    "duration": 39,
    "start_time": "2022-03-31T19:54:18.073Z"
   },
   {
    "duration": 6,
    "start_time": "2022-03-31T19:54:34.497Z"
   },
   {
    "duration": 27,
    "start_time": "2022-03-31T19:54:35.480Z"
   },
   {
    "duration": 56,
    "start_time": "2022-03-31T19:54:47.257Z"
   },
   {
    "duration": 3,
    "start_time": "2022-03-31T19:54:48.575Z"
   },
   {
    "duration": 12,
    "start_time": "2022-03-31T19:54:49.446Z"
   },
   {
    "duration": 27,
    "start_time": "2022-03-31T20:02:35.067Z"
   },
   {
    "duration": 2,
    "start_time": "2022-03-31T20:02:35.692Z"
   },
   {
    "duration": 10,
    "start_time": "2022-03-31T20:02:36.362Z"
   },
   {
    "duration": 11,
    "start_time": "2022-03-31T20:02:39.343Z"
   },
   {
    "duration": 13,
    "start_time": "2022-03-31T20:02:40.176Z"
   },
   {
    "duration": 10,
    "start_time": "2022-03-31T20:03:14.974Z"
   },
   {
    "duration": 30,
    "start_time": "2022-03-31T20:03:15.727Z"
   },
   {
    "duration": 6,
    "start_time": "2022-03-31T20:03:19.299Z"
   },
   {
    "duration": 101,
    "start_time": "2022-03-31T20:03:21.404Z"
   },
   {
    "duration": 30,
    "start_time": "2022-03-31T20:03:22.835Z"
   },
   {
    "duration": 3,
    "start_time": "2022-03-31T20:04:05.770Z"
   },
   {
    "duration": 151,
    "start_time": "2022-03-31T20:04:05.797Z"
   },
   {
    "duration": 8,
    "start_time": "2022-03-31T20:04:05.950Z"
   },
   {
    "duration": 28,
    "start_time": "2022-03-31T20:04:05.960Z"
   },
   {
    "duration": 127,
    "start_time": "2022-03-31T20:04:06.009Z"
   },
   {
    "duration": 9,
    "start_time": "2022-03-31T20:04:06.139Z"
   },
   {
    "duration": 25,
    "start_time": "2022-03-31T20:04:06.149Z"
   },
   {
    "duration": 99,
    "start_time": "2022-03-31T20:04:06.176Z"
   },
   {
    "duration": 8,
    "start_time": "2022-03-31T20:04:06.276Z"
   },
   {
    "duration": 33,
    "start_time": "2022-03-31T20:04:06.285Z"
   },
   {
    "duration": 9,
    "start_time": "2022-03-31T20:04:06.320Z"
   },
   {
    "duration": 8,
    "start_time": "2022-03-31T20:04:06.331Z"
   },
   {
    "duration": 12,
    "start_time": "2022-03-31T20:04:06.340Z"
   },
   {
    "duration": 23,
    "start_time": "2022-03-31T20:04:06.354Z"
   },
   {
    "duration": 10,
    "start_time": "2022-03-31T20:04:06.380Z"
   },
   {
    "duration": 26,
    "start_time": "2022-03-31T20:04:06.392Z"
   },
   {
    "duration": 34,
    "start_time": "2022-03-31T20:04:06.420Z"
   },
   {
    "duration": 26,
    "start_time": "2022-03-31T20:04:06.456Z"
   },
   {
    "duration": 40,
    "start_time": "2022-03-31T20:04:06.484Z"
   },
   {
    "duration": 6,
    "start_time": "2022-03-31T20:04:06.525Z"
   },
   {
    "duration": 104,
    "start_time": "2022-03-31T20:04:06.533Z"
   },
   {
    "duration": 24,
    "start_time": "2022-03-31T20:04:06.639Z"
   },
   {
    "duration": 44,
    "start_time": "2022-03-31T20:04:06.665Z"
   },
   {
    "duration": 4,
    "start_time": "2022-03-31T20:04:06.710Z"
   },
   {
    "duration": 22,
    "start_time": "2022-03-31T20:04:06.716Z"
   },
   {
    "duration": 3,
    "start_time": "2022-03-31T20:04:06.739Z"
   },
   {
    "duration": 14,
    "start_time": "2022-03-31T20:04:06.744Z"
   },
   {
    "duration": 14,
    "start_time": "2022-03-31T20:04:06.760Z"
   },
   {
    "duration": 36,
    "start_time": "2022-03-31T20:04:06.776Z"
   },
   {
    "duration": 4,
    "start_time": "2022-03-31T20:04:06.813Z"
   },
   {
    "duration": 14,
    "start_time": "2022-03-31T20:04:06.819Z"
   },
   {
    "duration": 13,
    "start_time": "2022-03-31T20:04:06.835Z"
   },
   {
    "duration": 11,
    "start_time": "2022-03-31T20:04:06.850Z"
   },
   {
    "duration": 57,
    "start_time": "2022-03-31T20:04:06.863Z"
   },
   {
    "duration": 4,
    "start_time": "2022-03-31T20:04:06.922Z"
   },
   {
    "duration": 31,
    "start_time": "2022-03-31T20:04:06.928Z"
   },
   {
    "duration": 70,
    "start_time": "2022-03-31T20:04:06.960Z"
   },
   {
    "duration": 3,
    "start_time": "2022-03-31T20:04:07.031Z"
   },
   {
    "duration": 17,
    "start_time": "2022-03-31T20:04:07.035Z"
   },
   {
    "duration": 25,
    "start_time": "2022-03-31T20:04:07.053Z"
   },
   {
    "duration": 3,
    "start_time": "2022-03-31T20:04:07.079Z"
   },
   {
    "duration": 11,
    "start_time": "2022-03-31T20:04:07.110Z"
   },
   {
    "duration": 11,
    "start_time": "2022-03-31T20:04:07.123Z"
   },
   {
    "duration": 11,
    "start_time": "2022-03-31T20:04:07.136Z"
   },
   {
    "duration": 7,
    "start_time": "2022-03-31T20:04:07.148Z"
   },
   {
    "duration": 95,
    "start_time": "2022-03-31T20:04:07.156Z"
   },
   {
    "duration": 30,
    "start_time": "2022-03-31T20:04:13.723Z"
   },
   {
    "duration": 21,
    "start_time": "2022-03-31T20:04:49.796Z"
   },
   {
    "duration": 9,
    "start_time": "2022-03-31T20:04:51.180Z"
   },
   {
    "duration": 2,
    "start_time": "2022-03-31T20:04:53.092Z"
   },
   {
    "duration": 193,
    "start_time": "2022-03-31T20:04:54.228Z"
   },
   {
    "duration": 176,
    "start_time": "2022-03-31T20:04:56.255Z"
   },
   {
    "duration": 189,
    "start_time": "2022-03-31T20:04:57.543Z"
   },
   {
    "duration": 13,
    "start_time": "2022-03-31T20:07:39.023Z"
   },
   {
    "duration": 13,
    "start_time": "2022-03-31T20:07:42.229Z"
   },
   {
    "duration": 8,
    "start_time": "2022-03-31T20:07:48.959Z"
   },
   {
    "duration": 4,
    "start_time": "2022-03-31T20:07:52.875Z"
   },
   {
    "duration": 253,
    "start_time": "2022-03-31T20:08:54.589Z"
   },
   {
    "duration": 3,
    "start_time": "2022-03-31T20:10:46.992Z"
   },
   {
    "duration": 8,
    "start_time": "2022-03-31T20:10:51.261Z"
   },
   {
    "duration": 3,
    "start_time": "2022-03-31T20:11:42.159Z"
   },
   {
    "duration": 149,
    "start_time": "2022-03-31T20:11:42.164Z"
   },
   {
    "duration": 9,
    "start_time": "2022-03-31T20:11:42.314Z"
   },
   {
    "duration": 26,
    "start_time": "2022-03-31T20:11:42.325Z"
   },
   {
    "duration": 140,
    "start_time": "2022-03-31T20:11:42.353Z"
   },
   {
    "duration": 15,
    "start_time": "2022-03-31T20:11:42.495Z"
   },
   {
    "duration": 21,
    "start_time": "2022-03-31T20:11:42.511Z"
   },
   {
    "duration": 94,
    "start_time": "2022-03-31T20:11:42.534Z"
   },
   {
    "duration": 8,
    "start_time": "2022-03-31T20:11:42.631Z"
   },
   {
    "duration": 20,
    "start_time": "2022-03-31T20:11:42.641Z"
   },
   {
    "duration": 9,
    "start_time": "2022-03-31T20:11:42.663Z"
   },
   {
    "duration": 36,
    "start_time": "2022-03-31T20:11:42.674Z"
   },
   {
    "duration": 11,
    "start_time": "2022-03-31T20:11:42.711Z"
   },
   {
    "duration": 22,
    "start_time": "2022-03-31T20:11:42.723Z"
   },
   {
    "duration": 10,
    "start_time": "2022-03-31T20:11:42.746Z"
   },
   {
    "duration": 12,
    "start_time": "2022-03-31T20:11:42.757Z"
   },
   {
    "duration": 47,
    "start_time": "2022-03-31T20:11:42.770Z"
   },
   {
    "duration": 23,
    "start_time": "2022-03-31T20:11:42.818Z"
   },
   {
    "duration": 20,
    "start_time": "2022-03-31T20:11:42.842Z"
   },
   {
    "duration": 4,
    "start_time": "2022-03-31T20:11:42.863Z"
   },
   {
    "duration": 55,
    "start_time": "2022-03-31T20:11:42.869Z"
   },
   {
    "duration": 94,
    "start_time": "2022-03-31T20:11:42.926Z"
   },
   {
    "duration": 28,
    "start_time": "2022-03-31T20:11:43.022Z"
   },
   {
    "duration": 5,
    "start_time": "2022-03-31T20:11:43.054Z"
   },
   {
    "duration": 22,
    "start_time": "2022-03-31T20:11:43.061Z"
   },
   {
    "duration": 24,
    "start_time": "2022-03-31T20:11:43.085Z"
   },
   {
    "duration": 14,
    "start_time": "2022-03-31T20:11:43.110Z"
   },
   {
    "duration": 18,
    "start_time": "2022-03-31T20:11:43.126Z"
   },
   {
    "duration": 18,
    "start_time": "2022-03-31T20:11:43.146Z"
   },
   {
    "duration": 3,
    "start_time": "2022-03-31T20:11:43.166Z"
   },
   {
    "duration": 13,
    "start_time": "2022-03-31T20:11:43.170Z"
   },
   {
    "duration": 13,
    "start_time": "2022-03-31T20:11:43.208Z"
   },
   {
    "duration": 10,
    "start_time": "2022-03-31T20:11:43.222Z"
   },
   {
    "duration": 26,
    "start_time": "2022-03-31T20:11:43.233Z"
   },
   {
    "duration": 4,
    "start_time": "2022-03-31T20:11:43.260Z"
   },
   {
    "duration": 54,
    "start_time": "2022-03-31T20:11:43.266Z"
   },
   {
    "duration": 52,
    "start_time": "2022-03-31T20:11:43.322Z"
   },
   {
    "duration": 3,
    "start_time": "2022-03-31T20:11:43.376Z"
   },
   {
    "duration": 35,
    "start_time": "2022-03-31T20:11:43.381Z"
   },
   {
    "duration": 25,
    "start_time": "2022-03-31T20:11:43.418Z"
   },
   {
    "duration": 3,
    "start_time": "2022-03-31T20:11:43.445Z"
   },
   {
    "duration": 15,
    "start_time": "2022-03-31T20:11:43.449Z"
   },
   {
    "duration": 11,
    "start_time": "2022-03-31T20:11:43.465Z"
   },
   {
    "duration": 36,
    "start_time": "2022-03-31T20:11:43.478Z"
   },
   {
    "duration": 5,
    "start_time": "2022-03-31T20:11:43.516Z"
   },
   {
    "duration": 89,
    "start_time": "2022-03-31T20:11:43.523Z"
   },
   {
    "duration": 28,
    "start_time": "2022-03-31T20:11:43.614Z"
   },
   {
    "duration": 20,
    "start_time": "2022-03-31T20:11:43.643Z"
   },
   {
    "duration": 10,
    "start_time": "2022-03-31T20:11:46.079Z"
   },
   {
    "duration": 61,
    "start_time": "2022-03-31T20:12:27.945Z"
   },
   {
    "duration": 175,
    "start_time": "2022-03-31T20:13:02.554Z"
   },
   {
    "duration": 175,
    "start_time": "2022-03-31T20:13:04.186Z"
   },
   {
    "duration": 189,
    "start_time": "2022-03-31T20:13:05.301Z"
   },
   {
    "duration": 19,
    "start_time": "2022-03-31T20:14:52.634Z"
   },
   {
    "duration": 10,
    "start_time": "2022-03-31T20:14:55.627Z"
   },
   {
    "duration": 17,
    "start_time": "2022-03-31T20:15:34.026Z"
   },
   {
    "duration": 18,
    "start_time": "2022-03-31T20:15:36.578Z"
   },
   {
    "duration": 16,
    "start_time": "2022-03-31T20:16:13.705Z"
   },
   {
    "duration": 18,
    "start_time": "2022-03-31T20:16:17.443Z"
   },
   {
    "duration": 18,
    "start_time": "2022-03-31T20:16:28.759Z"
   },
   {
    "duration": 16,
    "start_time": "2022-03-31T20:16:39.032Z"
   },
   {
    "duration": 14,
    "start_time": "2022-03-31T20:16:40.374Z"
   },
   {
    "duration": 15,
    "start_time": "2022-03-31T20:17:38.160Z"
   },
   {
    "duration": 13,
    "start_time": "2022-03-31T20:17:39.904Z"
   },
   {
    "duration": 15,
    "start_time": "2022-03-31T20:17:55.318Z"
   },
   {
    "duration": 14,
    "start_time": "2022-03-31T20:17:56.770Z"
   },
   {
    "duration": 23,
    "start_time": "2022-03-31T20:18:16.877Z"
   },
   {
    "duration": 22,
    "start_time": "2022-03-31T20:18:26.297Z"
   },
   {
    "duration": 15,
    "start_time": "2022-03-31T20:18:30.461Z"
   },
   {
    "duration": 13,
    "start_time": "2022-03-31T20:18:31.627Z"
   },
   {
    "duration": 17,
    "start_time": "2022-03-31T20:18:41.411Z"
   },
   {
    "duration": 10,
    "start_time": "2022-03-31T20:18:42.337Z"
   },
   {
    "duration": 20,
    "start_time": "2022-03-31T20:19:04.745Z"
   },
   {
    "duration": 14,
    "start_time": "2022-03-31T20:19:05.652Z"
   },
   {
    "duration": 49,
    "start_time": "2022-04-01T19:06:39.487Z"
   },
   {
    "duration": 1358,
    "start_time": "2022-04-01T19:06:45.861Z"
   },
   {
    "duration": 134,
    "start_time": "2022-04-01T19:06:47.222Z"
   },
   {
    "duration": 13,
    "start_time": "2022-04-01T19:06:47.359Z"
   },
   {
    "duration": 25,
    "start_time": "2022-04-01T19:06:47.374Z"
   },
   {
    "duration": 132,
    "start_time": "2022-04-01T19:06:47.401Z"
   },
   {
    "duration": 9,
    "start_time": "2022-04-01T19:06:47.535Z"
   },
   {
    "duration": 33,
    "start_time": "2022-04-01T19:06:47.546Z"
   },
   {
    "duration": 73,
    "start_time": "2022-04-01T19:06:47.581Z"
   },
   {
    "duration": 12,
    "start_time": "2022-04-01T19:06:47.656Z"
   },
   {
    "duration": 21,
    "start_time": "2022-04-01T19:06:47.671Z"
   },
   {
    "duration": 12,
    "start_time": "2022-04-01T19:06:47.694Z"
   },
   {
    "duration": 8,
    "start_time": "2022-04-01T19:06:47.707Z"
   },
   {
    "duration": 13,
    "start_time": "2022-04-01T19:06:47.716Z"
   },
   {
    "duration": 17,
    "start_time": "2022-04-01T19:06:47.731Z"
   },
   {
    "duration": 17,
    "start_time": "2022-04-01T19:06:47.750Z"
   },
   {
    "duration": 14,
    "start_time": "2022-04-01T19:06:47.768Z"
   },
   {
    "duration": 35,
    "start_time": "2022-04-01T19:06:47.784Z"
   },
   {
    "duration": 23,
    "start_time": "2022-04-01T19:06:47.820Z"
   },
   {
    "duration": 31,
    "start_time": "2022-04-01T19:06:47.845Z"
   },
   {
    "duration": 4,
    "start_time": "2022-04-01T19:06:47.877Z"
   },
   {
    "duration": 39,
    "start_time": "2022-04-01T19:06:47.883Z"
   },
   {
    "duration": 40,
    "start_time": "2022-04-01T19:06:47.924Z"
   },
   {
    "duration": 26,
    "start_time": "2022-04-01T19:06:47.966Z"
   },
   {
    "duration": 4,
    "start_time": "2022-04-01T19:06:47.994Z"
   },
   {
    "duration": 36,
    "start_time": "2022-04-01T19:06:48.000Z"
   },
   {
    "duration": 3,
    "start_time": "2022-04-01T19:06:48.038Z"
   },
   {
    "duration": 22,
    "start_time": "2022-04-01T19:06:48.042Z"
   },
   {
    "duration": 14,
    "start_time": "2022-04-01T19:06:48.067Z"
   },
   {
    "duration": 15,
    "start_time": "2022-04-01T19:06:48.083Z"
   },
   {
    "duration": 3,
    "start_time": "2022-04-01T19:06:48.099Z"
   },
   {
    "duration": 14,
    "start_time": "2022-04-01T19:06:48.104Z"
   },
   {
    "duration": 11,
    "start_time": "2022-04-01T19:06:48.119Z"
   },
   {
    "duration": 36,
    "start_time": "2022-04-01T19:06:48.132Z"
   },
   {
    "duration": 27,
    "start_time": "2022-04-01T19:06:48.170Z"
   },
   {
    "duration": 7,
    "start_time": "2022-04-01T19:06:48.199Z"
   },
   {
    "duration": 45,
    "start_time": "2022-04-01T19:06:48.208Z"
   },
   {
    "duration": 50,
    "start_time": "2022-04-01T19:06:48.255Z"
   },
   {
    "duration": 3,
    "start_time": "2022-04-01T19:06:48.307Z"
   },
   {
    "duration": 20,
    "start_time": "2022-04-01T19:06:48.312Z"
   },
   {
    "duration": 35,
    "start_time": "2022-04-01T19:06:48.334Z"
   },
   {
    "duration": 3,
    "start_time": "2022-04-01T19:06:48.371Z"
   },
   {
    "duration": 12,
    "start_time": "2022-04-01T19:06:48.376Z"
   },
   {
    "duration": 9,
    "start_time": "2022-04-01T19:06:48.390Z"
   },
   {
    "duration": 10,
    "start_time": "2022-04-01T19:06:48.401Z"
   },
   {
    "duration": 6,
    "start_time": "2022-04-01T19:06:48.412Z"
   },
   {
    "duration": 95,
    "start_time": "2022-04-01T19:06:48.419Z"
   },
   {
    "duration": 28,
    "start_time": "2022-04-01T19:06:48.515Z"
   },
   {
    "duration": 31,
    "start_time": "2022-04-01T19:06:48.545Z"
   },
   {
    "duration": 10,
    "start_time": "2022-04-01T19:06:48.578Z"
   },
   {
    "duration": 214,
    "start_time": "2022-04-01T19:06:48.590Z"
   },
   {
    "duration": 173,
    "start_time": "2022-04-01T19:06:48.805Z"
   },
   {
    "duration": 255,
    "start_time": "2022-04-01T19:06:48.980Z"
   },
   {
    "duration": 4,
    "start_time": "2022-04-01T19:06:49.236Z"
   },
   {
    "duration": 13,
    "start_time": "2022-04-01T19:06:49.242Z"
   },
   {
    "duration": 4,
    "start_time": "2022-04-01T19:06:49.263Z"
   },
   {
    "duration": 11,
    "start_time": "2022-04-01T19:06:49.268Z"
   },
   {
    "duration": 6,
    "start_time": "2022-04-01T19:06:49.281Z"
   },
   {
    "duration": 5,
    "start_time": "2022-04-01T19:06:49.288Z"
   },
   {
    "duration": 7,
    "start_time": "2022-04-01T19:06:49.295Z"
   },
   {
    "duration": 10,
    "start_time": "2022-04-01T19:06:49.304Z"
   },
   {
    "duration": 6,
    "start_time": "2022-04-01T19:06:49.316Z"
   },
   {
    "duration": 5,
    "start_time": "2022-04-01T19:06:49.324Z"
   },
   {
    "duration": 5,
    "start_time": "2022-04-01T19:06:49.331Z"
   },
   {
    "duration": 7,
    "start_time": "2022-04-01T19:06:49.338Z"
   },
   {
    "duration": 18,
    "start_time": "2022-04-01T19:06:49.346Z"
   },
   {
    "duration": 6,
    "start_time": "2022-04-01T19:06:49.366Z"
   },
   {
    "duration": 5,
    "start_time": "2022-04-01T19:06:49.374Z"
   },
   {
    "duration": 7,
    "start_time": "2022-04-01T19:06:49.381Z"
   },
   {
    "duration": 7,
    "start_time": "2022-04-01T19:06:49.389Z"
   },
   {
    "duration": 9,
    "start_time": "2022-04-01T19:06:49.397Z"
   },
   {
    "duration": 6,
    "start_time": "2022-04-01T19:06:49.408Z"
   },
   {
    "duration": 7,
    "start_time": "2022-04-01T19:06:49.415Z"
   },
   {
    "duration": 4,
    "start_time": "2022-04-01T19:06:49.424Z"
   },
   {
    "duration": 5,
    "start_time": "2022-04-01T19:06:49.430Z"
   },
   {
    "duration": 27,
    "start_time": "2022-04-01T19:06:49.437Z"
   },
   {
    "duration": 204,
    "start_time": "2022-04-01T19:07:38.021Z"
   },
   {
    "duration": 189,
    "start_time": "2022-04-01T19:08:47.015Z"
   },
   {
    "duration": 182,
    "start_time": "2022-04-01T19:08:48.269Z"
   },
   {
    "duration": 190,
    "start_time": "2022-04-01T19:08:49.685Z"
   },
   {
    "duration": 194,
    "start_time": "2022-04-01T19:11:25.862Z"
   },
   {
    "duration": 272,
    "start_time": "2022-04-01T19:11:29.516Z"
   },
   {
    "duration": 181,
    "start_time": "2022-04-01T19:12:13.593Z"
   },
   {
    "duration": 28,
    "start_time": "2022-04-01T19:12:44.973Z"
   },
   {
    "duration": 13,
    "start_time": "2022-04-01T19:12:45.679Z"
   },
   {
    "duration": 188,
    "start_time": "2022-04-01T19:12:47.581Z"
   },
   {
    "duration": 186,
    "start_time": "2022-04-01T19:12:49.030Z"
   },
   {
    "duration": 197,
    "start_time": "2022-04-01T19:12:50.413Z"
   },
   {
    "duration": 3,
    "start_time": "2022-04-01T19:32:37.420Z"
   },
   {
    "duration": 3,
    "start_time": "2022-04-01T19:32:47.442Z"
   },
   {
    "duration": 4,
    "start_time": "2022-04-01T19:32:48.578Z"
   },
   {
    "duration": 3,
    "start_time": "2022-04-01T19:32:50.077Z"
   },
   {
    "duration": 3,
    "start_time": "2022-04-01T19:32:52.162Z"
   },
   {
    "duration": 133,
    "start_time": "2022-04-01T19:34:17.081Z"
   },
   {
    "duration": 5,
    "start_time": "2022-04-01T19:37:56.808Z"
   },
   {
    "duration": 4,
    "start_time": "2022-04-01T19:37:57.622Z"
   },
   {
    "duration": 3,
    "start_time": "2022-04-01T19:37:58.180Z"
   },
   {
    "duration": 4,
    "start_time": "2022-04-01T19:37:58.612Z"
   },
   {
    "duration": 4,
    "start_time": "2022-04-01T19:37:58.917Z"
   },
   {
    "duration": 4,
    "start_time": "2022-04-01T19:37:59.278Z"
   },
   {
    "duration": 4,
    "start_time": "2022-04-01T19:37:59.748Z"
   },
   {
    "duration": 4,
    "start_time": "2022-04-01T19:40:42.029Z"
   },
   {
    "duration": 3,
    "start_time": "2022-04-01T19:40:42.752Z"
   },
   {
    "duration": 4,
    "start_time": "2022-04-01T19:41:03.058Z"
   },
   {
    "duration": 4,
    "start_time": "2022-04-01T19:42:13.924Z"
   },
   {
    "duration": 4,
    "start_time": "2022-04-01T19:42:14.642Z"
   },
   {
    "duration": 3,
    "start_time": "2022-04-01T19:42:15.608Z"
   },
   {
    "duration": 4,
    "start_time": "2022-04-01T19:42:23.471Z"
   },
   {
    "duration": 7,
    "start_time": "2022-04-01T19:42:51.760Z"
   },
   {
    "duration": 7,
    "start_time": "2022-04-01T19:43:02.568Z"
   },
   {
    "duration": 137,
    "start_time": "2022-04-01T19:43:49.244Z"
   },
   {
    "duration": 5,
    "start_time": "2022-04-01T19:43:53.979Z"
   },
   {
    "duration": 4,
    "start_time": "2022-04-01T19:43:56.385Z"
   },
   {
    "duration": 4,
    "start_time": "2022-04-01T19:44:08.778Z"
   },
   {
    "duration": 95,
    "start_time": "2022-04-01T19:45:19.433Z"
   },
   {
    "duration": 8,
    "start_time": "2022-04-01T19:45:26.483Z"
   },
   {
    "duration": 85,
    "start_time": "2022-04-01T19:47:09.764Z"
   },
   {
    "duration": 8,
    "start_time": "2022-04-01T19:47:19.117Z"
   },
   {
    "duration": 159,
    "start_time": "2022-04-01T19:48:01.652Z"
   },
   {
    "duration": 2,
    "start_time": "2022-04-01T19:48:43.151Z"
   },
   {
    "duration": 208,
    "start_time": "2022-04-01T19:48:52.271Z"
   },
   {
    "duration": 84,
    "start_time": "2022-04-01T19:49:08.368Z"
   },
   {
    "duration": 9,
    "start_time": "2022-04-01T19:50:26.926Z"
   },
   {
    "duration": 3,
    "start_time": "2022-04-01T19:50:35.697Z"
   },
   {
    "duration": 3,
    "start_time": "2022-04-01T19:50:43.757Z"
   },
   {
    "duration": 4,
    "start_time": "2022-04-01T19:51:28.286Z"
   },
   {
    "duration": 4,
    "start_time": "2022-04-01T19:52:16.267Z"
   },
   {
    "duration": 4,
    "start_time": "2022-04-01T19:52:46.469Z"
   },
   {
    "duration": 3,
    "start_time": "2022-04-01T19:53:00.768Z"
   },
   {
    "duration": 138,
    "start_time": "2022-04-01T19:58:10.066Z"
   },
   {
    "duration": 3,
    "start_time": "2022-04-01T20:02:42.685Z"
   },
   {
    "duration": 8,
    "start_time": "2022-04-01T20:13:24.093Z"
   },
   {
    "duration": 8,
    "start_time": "2022-04-01T20:13:40.556Z"
   },
   {
    "duration": 8,
    "start_time": "2022-04-01T20:16:23.215Z"
   },
   {
    "duration": 8,
    "start_time": "2022-04-01T20:16:24.651Z"
   },
   {
    "duration": 8,
    "start_time": "2022-04-01T20:16:36.471Z"
   },
   {
    "duration": 8,
    "start_time": "2022-04-01T20:16:37.605Z"
   },
   {
    "duration": 187,
    "start_time": "2022-04-01T20:16:41.735Z"
   },
   {
    "duration": 8,
    "start_time": "2022-04-01T20:16:44.055Z"
   },
   {
    "duration": 8,
    "start_time": "2022-04-01T20:16:45.205Z"
   },
   {
    "duration": 192,
    "start_time": "2022-04-01T20:16:46.663Z"
   },
   {
    "duration": 7,
    "start_time": "2022-04-01T20:16:48.894Z"
   },
   {
    "duration": 8,
    "start_time": "2022-04-01T20:16:50.597Z"
   },
   {
    "duration": 188,
    "start_time": "2022-04-01T20:16:53.534Z"
   },
   {
    "duration": 8,
    "start_time": "2022-04-01T20:16:55.503Z"
   },
   {
    "duration": 8,
    "start_time": "2022-04-01T20:16:56.725Z"
   },
   {
    "duration": 9,
    "start_time": "2022-04-01T20:28:08.787Z"
   },
   {
    "duration": 8,
    "start_time": "2022-04-01T20:28:20.724Z"
   },
   {
    "duration": 9,
    "start_time": "2022-04-01T20:28:25.006Z"
   },
   {
    "duration": 1088,
    "start_time": "2022-04-01T20:34:45.310Z"
   },
   {
    "duration": 137,
    "start_time": "2022-04-01T20:34:46.400Z"
   },
   {
    "duration": 11,
    "start_time": "2022-04-01T20:34:46.539Z"
   },
   {
    "duration": 28,
    "start_time": "2022-04-01T20:34:46.552Z"
   },
   {
    "duration": 122,
    "start_time": "2022-04-01T20:34:46.582Z"
   },
   {
    "duration": 9,
    "start_time": "2022-04-01T20:34:46.705Z"
   },
   {
    "duration": 20,
    "start_time": "2022-04-01T20:34:46.715Z"
   },
   {
    "duration": 85,
    "start_time": "2022-04-01T20:34:46.737Z"
   },
   {
    "duration": 7,
    "start_time": "2022-04-01T20:34:46.824Z"
   },
   {
    "duration": 20,
    "start_time": "2022-04-01T20:34:46.833Z"
   },
   {
    "duration": 9,
    "start_time": "2022-04-01T20:34:46.863Z"
   },
   {
    "duration": 8,
    "start_time": "2022-04-01T20:34:46.874Z"
   },
   {
    "duration": 11,
    "start_time": "2022-04-01T20:34:46.884Z"
   },
   {
    "duration": 20,
    "start_time": "2022-04-01T20:34:46.897Z"
   },
   {
    "duration": 9,
    "start_time": "2022-04-01T20:34:46.918Z"
   },
   {
    "duration": 14,
    "start_time": "2022-04-01T20:34:46.929Z"
   },
   {
    "duration": 46,
    "start_time": "2022-04-01T20:34:46.944Z"
   },
   {
    "duration": 24,
    "start_time": "2022-04-01T20:34:46.992Z"
   },
   {
    "duration": 22,
    "start_time": "2022-04-01T20:34:47.018Z"
   },
   {
    "duration": 22,
    "start_time": "2022-04-01T20:34:47.041Z"
   },
   {
    "duration": 38,
    "start_time": "2022-04-01T20:34:47.064Z"
   },
   {
    "duration": 25,
    "start_time": "2022-04-01T20:34:47.104Z"
   },
   {
    "duration": 46,
    "start_time": "2022-04-01T20:34:47.131Z"
   },
   {
    "duration": 6,
    "start_time": "2022-04-01T20:34:47.179Z"
   },
   {
    "duration": 24,
    "start_time": "2022-04-01T20:34:47.187Z"
   },
   {
    "duration": 3,
    "start_time": "2022-04-01T20:34:47.212Z"
   },
   {
    "duration": 16,
    "start_time": "2022-04-01T20:34:47.216Z"
   },
   {
    "duration": 42,
    "start_time": "2022-04-01T20:34:47.236Z"
   },
   {
    "duration": 14,
    "start_time": "2022-04-01T20:34:47.280Z"
   },
   {
    "duration": 4,
    "start_time": "2022-04-01T20:34:47.295Z"
   },
   {
    "duration": 16,
    "start_time": "2022-04-01T20:34:47.300Z"
   },
   {
    "duration": 13,
    "start_time": "2022-04-01T20:34:47.317Z"
   },
   {
    "duration": 11,
    "start_time": "2022-04-01T20:34:47.331Z"
   },
   {
    "duration": 44,
    "start_time": "2022-04-01T20:34:47.343Z"
   },
   {
    "duration": 7,
    "start_time": "2022-04-01T20:34:47.388Z"
   },
   {
    "duration": 25,
    "start_time": "2022-04-01T20:34:47.397Z"
   },
   {
    "duration": 67,
    "start_time": "2022-04-01T20:34:47.423Z"
   },
   {
    "duration": 2,
    "start_time": "2022-04-01T20:34:47.492Z"
   },
   {
    "duration": 14,
    "start_time": "2022-04-01T20:34:47.496Z"
   },
   {
    "duration": 25,
    "start_time": "2022-04-01T20:34:47.511Z"
   },
   {
    "duration": 3,
    "start_time": "2022-04-01T20:34:47.537Z"
   },
   {
    "duration": 25,
    "start_time": "2022-04-01T20:34:47.541Z"
   },
   {
    "duration": 12,
    "start_time": "2022-04-01T20:34:47.567Z"
   },
   {
    "duration": 12,
    "start_time": "2022-04-01T20:34:47.580Z"
   },
   {
    "duration": 6,
    "start_time": "2022-04-01T20:34:47.593Z"
   },
   {
    "duration": 85,
    "start_time": "2022-04-01T20:34:47.601Z"
   },
   {
    "duration": 23,
    "start_time": "2022-04-01T20:34:47.688Z"
   },
   {
    "duration": 17,
    "start_time": "2022-04-01T20:34:47.713Z"
   },
   {
    "duration": 11,
    "start_time": "2022-04-01T20:34:47.731Z"
   },
   {
    "duration": 220,
    "start_time": "2022-04-01T20:34:47.744Z"
   },
   {
    "duration": 8,
    "start_time": "2022-04-01T20:34:47.966Z"
   },
   {
    "duration": 10,
    "start_time": "2022-04-01T20:34:47.975Z"
   },
   {
    "duration": 218,
    "start_time": "2022-04-01T20:34:47.986Z"
   },
   {
    "duration": 10,
    "start_time": "2022-04-01T20:34:48.206Z"
   },
   {
    "duration": 8,
    "start_time": "2022-04-01T20:34:48.218Z"
   },
   {
    "duration": 288,
    "start_time": "2022-04-01T20:34:48.228Z"
   },
   {
    "duration": 8,
    "start_time": "2022-04-01T20:34:48.518Z"
   },
   {
    "duration": 15,
    "start_time": "2022-04-01T20:34:48.528Z"
   },
   {
    "duration": 6,
    "start_time": "2022-04-01T20:34:48.545Z"
   },
   {
    "duration": 4,
    "start_time": "2022-04-01T20:34:48.563Z"
   },
   {
    "duration": 5,
    "start_time": "2022-04-01T20:34:48.569Z"
   },
   {
    "duration": 6,
    "start_time": "2022-04-01T20:34:48.575Z"
   },
   {
    "duration": 7,
    "start_time": "2022-04-01T20:34:48.583Z"
   },
   {
    "duration": 7,
    "start_time": "2022-04-01T20:34:48.591Z"
   },
   {
    "duration": 7,
    "start_time": "2022-04-01T20:34:48.599Z"
   },
   {
    "duration": 5,
    "start_time": "2022-04-01T20:34:48.608Z"
   },
   {
    "duration": 5,
    "start_time": "2022-04-01T20:34:48.614Z"
   },
   {
    "duration": 5,
    "start_time": "2022-04-01T20:34:48.621Z"
   },
   {
    "duration": 5,
    "start_time": "2022-04-01T20:34:48.628Z"
   },
   {
    "duration": 29,
    "start_time": "2022-04-01T20:34:48.634Z"
   },
   {
    "duration": 3,
    "start_time": "2022-04-01T20:34:48.665Z"
   },
   {
    "duration": 5,
    "start_time": "2022-04-01T20:34:48.670Z"
   },
   {
    "duration": 8,
    "start_time": "2022-04-01T20:34:48.676Z"
   },
   {
    "duration": 8,
    "start_time": "2022-04-01T20:34:48.685Z"
   },
   {
    "duration": 6,
    "start_time": "2022-04-01T20:34:48.695Z"
   },
   {
    "duration": 5,
    "start_time": "2022-04-01T20:34:48.702Z"
   },
   {
    "duration": 6,
    "start_time": "2022-04-01T20:34:48.709Z"
   },
   {
    "duration": 7,
    "start_time": "2022-04-01T20:34:48.716Z"
   },
   {
    "duration": 6,
    "start_time": "2022-04-01T20:34:48.725Z"
   },
   {
    "duration": 18,
    "start_time": "2022-04-01T20:58:29.730Z"
   },
   {
    "duration": 13,
    "start_time": "2022-04-01T20:58:31.456Z"
   },
   {
    "duration": 145,
    "start_time": "2022-04-01T22:01:46.188Z"
   },
   {
    "duration": 132,
    "start_time": "2022-04-01T22:01:50.057Z"
   },
   {
    "duration": 3,
    "start_time": "2022-04-01T22:40:49.319Z"
   },
   {
    "duration": 1165,
    "start_time": "2022-04-01T22:47:23.122Z"
   },
   {
    "duration": 153,
    "start_time": "2022-04-01T22:47:24.289Z"
   },
   {
    "duration": 18,
    "start_time": "2022-04-01T22:47:24.444Z"
   },
   {
    "duration": 24,
    "start_time": "2022-04-01T22:47:24.465Z"
   },
   {
    "duration": 123,
    "start_time": "2022-04-01T22:47:24.491Z"
   },
   {
    "duration": 8,
    "start_time": "2022-04-01T22:47:24.616Z"
   },
   {
    "duration": 24,
    "start_time": "2022-04-01T22:47:24.625Z"
   },
   {
    "duration": 80,
    "start_time": "2022-04-01T22:47:24.651Z"
   },
   {
    "duration": 9,
    "start_time": "2022-04-01T22:47:24.733Z"
   },
   {
    "duration": 21,
    "start_time": "2022-04-01T22:47:24.745Z"
   },
   {
    "duration": 11,
    "start_time": "2022-04-01T22:47:24.768Z"
   },
   {
    "duration": 10,
    "start_time": "2022-04-01T22:47:24.780Z"
   },
   {
    "duration": 13,
    "start_time": "2022-04-01T22:47:24.791Z"
   },
   {
    "duration": 16,
    "start_time": "2022-04-01T22:47:24.806Z"
   },
   {
    "duration": 9,
    "start_time": "2022-04-01T22:47:24.823Z"
   },
   {
    "duration": 18,
    "start_time": "2022-04-01T22:47:24.833Z"
   },
   {
    "duration": 34,
    "start_time": "2022-04-01T22:47:24.852Z"
   },
   {
    "duration": 24,
    "start_time": "2022-04-01T22:47:24.887Z"
   },
   {
    "duration": 19,
    "start_time": "2022-04-01T22:47:24.912Z"
   },
   {
    "duration": 3,
    "start_time": "2022-04-01T22:47:24.932Z"
   },
   {
    "duration": 35,
    "start_time": "2022-04-01T22:47:24.937Z"
   },
   {
    "duration": 21,
    "start_time": "2022-04-01T22:47:24.974Z"
   },
   {
    "duration": 28,
    "start_time": "2022-04-01T22:47:24.997Z"
   },
   {
    "duration": 6,
    "start_time": "2022-04-01T22:47:25.026Z"
   },
   {
    "duration": 30,
    "start_time": "2022-04-01T22:47:25.033Z"
   },
   {
    "duration": 3,
    "start_time": "2022-04-01T22:47:25.065Z"
   },
   {
    "duration": 18,
    "start_time": "2022-04-01T22:47:25.069Z"
   },
   {
    "duration": 16,
    "start_time": "2022-04-01T22:47:25.091Z"
   },
   {
    "duration": 14,
    "start_time": "2022-04-01T22:47:25.108Z"
   },
   {
    "duration": 41,
    "start_time": "2022-04-01T22:47:25.123Z"
   },
   {
    "duration": 14,
    "start_time": "2022-04-01T22:47:25.166Z"
   },
   {
    "duration": 11,
    "start_time": "2022-04-01T22:47:25.182Z"
   },
   {
    "duration": 17,
    "start_time": "2022-04-01T22:47:25.194Z"
   },
   {
    "duration": 73,
    "start_time": "2022-04-01T22:47:25.212Z"
   },
   {
    "duration": 6,
    "start_time": "2022-04-01T22:47:25.287Z"
   },
   {
    "duration": 88,
    "start_time": "2022-04-01T22:47:25.294Z"
   },
   {
    "duration": 48,
    "start_time": "2022-04-01T22:47:25.384Z"
   },
   {
    "duration": 3,
    "start_time": "2022-04-01T22:47:25.434Z"
   },
   {
    "duration": 33,
    "start_time": "2022-04-01T22:47:25.438Z"
   },
   {
    "duration": 22,
    "start_time": "2022-04-01T22:47:25.472Z"
   },
   {
    "duration": 2,
    "start_time": "2022-04-01T22:47:25.496Z"
   },
   {
    "duration": 13,
    "start_time": "2022-04-01T22:47:25.500Z"
   },
   {
    "duration": 9,
    "start_time": "2022-04-01T22:47:25.514Z"
   },
   {
    "duration": 18,
    "start_time": "2022-04-01T22:47:25.524Z"
   },
   {
    "duration": 5,
    "start_time": "2022-04-01T22:47:25.543Z"
   },
   {
    "duration": 72,
    "start_time": "2022-04-01T22:47:25.549Z"
   },
   {
    "duration": 23,
    "start_time": "2022-04-01T22:47:25.623Z"
   },
   {
    "duration": 19,
    "start_time": "2022-04-01T22:47:25.648Z"
   },
   {
    "duration": 10,
    "start_time": "2022-04-01T22:47:25.668Z"
   },
   {
    "duration": 295,
    "start_time": "2022-04-01T22:47:25.680Z"
   },
   {
    "duration": 8,
    "start_time": "2022-04-01T22:47:25.977Z"
   },
   {
    "duration": 10,
    "start_time": "2022-04-01T22:47:25.986Z"
   },
   {
    "duration": 307,
    "start_time": "2022-04-01T22:47:25.997Z"
   },
   {
    "duration": 11,
    "start_time": "2022-04-01T22:47:26.306Z"
   },
   {
    "duration": 10,
    "start_time": "2022-04-01T22:47:26.319Z"
   },
   {
    "duration": 294,
    "start_time": "2022-04-01T22:47:26.330Z"
   },
   {
    "duration": 9,
    "start_time": "2022-04-01T22:47:26.626Z"
   },
   {
    "duration": 9,
    "start_time": "2022-04-01T22:47:26.637Z"
   },
   {
    "duration": 4,
    "start_time": "2022-04-01T22:47:26.663Z"
   },
   {
    "duration": 6,
    "start_time": "2022-04-01T22:47:26.668Z"
   },
   {
    "duration": 5,
    "start_time": "2022-04-01T22:47:26.675Z"
   },
   {
    "duration": 6,
    "start_time": "2022-04-01T22:47:26.681Z"
   },
   {
    "duration": 6,
    "start_time": "2022-04-01T22:47:26.688Z"
   },
   {
    "duration": 5,
    "start_time": "2022-04-01T22:47:26.696Z"
   },
   {
    "duration": 10,
    "start_time": "2022-04-01T22:47:26.703Z"
   },
   {
    "duration": 11,
    "start_time": "2022-04-01T22:47:26.714Z"
   },
   {
    "duration": 8,
    "start_time": "2022-04-01T22:47:26.726Z"
   },
   {
    "duration": 10,
    "start_time": "2022-04-01T22:47:26.735Z"
   },
   {
    "duration": 18,
    "start_time": "2022-04-01T22:47:26.747Z"
   },
   {
    "duration": 5,
    "start_time": "2022-04-01T22:47:26.767Z"
   },
   {
    "duration": 9,
    "start_time": "2022-04-01T22:47:26.774Z"
   },
   {
    "duration": 4,
    "start_time": "2022-04-01T22:47:26.785Z"
   },
   {
    "duration": 5,
    "start_time": "2022-04-01T22:47:26.791Z"
   },
   {
    "duration": 6,
    "start_time": "2022-04-01T22:47:26.798Z"
   },
   {
    "duration": 5,
    "start_time": "2022-04-01T22:47:26.806Z"
   },
   {
    "duration": 5,
    "start_time": "2022-04-01T22:47:26.813Z"
   },
   {
    "duration": 6,
    "start_time": "2022-04-01T22:47:26.820Z"
   },
   {
    "duration": 6,
    "start_time": "2022-04-01T22:47:26.828Z"
   },
   {
    "duration": 29,
    "start_time": "2022-04-01T22:47:26.836Z"
   },
   {
    "duration": 1877,
    "start_time": "2022-04-12T13:38:31.235Z"
   },
   {
    "duration": 205,
    "start_time": "2022-04-12T13:38:33.115Z"
   },
   {
    "duration": 17,
    "start_time": "2022-04-12T13:38:33.323Z"
   },
   {
    "duration": 35,
    "start_time": "2022-04-12T13:38:33.351Z"
   },
   {
    "duration": 203,
    "start_time": "2022-04-12T13:38:33.388Z"
   },
   {
    "duration": 12,
    "start_time": "2022-04-12T13:38:33.593Z"
   },
   {
    "duration": 46,
    "start_time": "2022-04-12T13:38:33.607Z"
   },
   {
    "duration": 121,
    "start_time": "2022-04-12T13:38:33.656Z"
   },
   {
    "duration": 10,
    "start_time": "2022-04-12T13:38:33.780Z"
   },
   {
    "duration": 27,
    "start_time": "2022-04-12T13:38:33.795Z"
   },
   {
    "duration": 12,
    "start_time": "2022-04-12T13:38:33.853Z"
   },
   {
    "duration": 11,
    "start_time": "2022-04-12T13:38:33.867Z"
   },
   {
    "duration": 15,
    "start_time": "2022-04-12T13:38:33.880Z"
   },
   {
    "duration": 20,
    "start_time": "2022-04-12T13:38:33.898Z"
   },
   {
    "duration": 33,
    "start_time": "2022-04-12T13:38:33.920Z"
   },
   {
    "duration": 17,
    "start_time": "2022-04-12T13:38:33.955Z"
   },
   {
    "duration": 51,
    "start_time": "2022-04-12T13:38:33.974Z"
   },
   {
    "duration": 58,
    "start_time": "2022-04-12T13:38:34.028Z"
   },
   {
    "duration": 31,
    "start_time": "2022-04-12T13:38:34.088Z"
   },
   {
    "duration": 35,
    "start_time": "2022-04-12T13:38:34.121Z"
   },
   {
    "duration": 53,
    "start_time": "2022-04-12T13:38:34.159Z"
   },
   {
    "duration": 53,
    "start_time": "2022-04-12T13:38:34.214Z"
   },
   {
    "duration": 41,
    "start_time": "2022-04-12T13:38:34.269Z"
   },
   {
    "duration": 6,
    "start_time": "2022-04-12T13:38:34.312Z"
   },
   {
    "duration": 59,
    "start_time": "2022-04-12T13:38:34.320Z"
   },
   {
    "duration": 4,
    "start_time": "2022-04-12T13:38:34.381Z"
   },
   {
    "duration": 21,
    "start_time": "2022-04-12T13:38:34.387Z"
   },
   {
    "duration": 46,
    "start_time": "2022-04-12T13:38:34.414Z"
   },
   {
    "duration": 20,
    "start_time": "2022-04-12T13:38:34.463Z"
   },
   {
    "duration": 5,
    "start_time": "2022-04-12T13:38:34.485Z"
   },
   {
    "duration": 26,
    "start_time": "2022-04-12T13:38:34.492Z"
   },
   {
    "duration": 40,
    "start_time": "2022-04-12T13:38:34.520Z"
   },
   {
    "duration": 22,
    "start_time": "2022-04-12T13:38:34.563Z"
   },
   {
    "duration": 46,
    "start_time": "2022-04-12T13:38:34.587Z"
   },
   {
    "duration": 23,
    "start_time": "2022-04-12T13:38:34.635Z"
   },
   {
    "duration": 47,
    "start_time": "2022-04-12T13:38:34.660Z"
   },
   {
    "duration": 94,
    "start_time": "2022-04-12T13:38:34.709Z"
   },
   {
    "duration": 4,
    "start_time": "2022-04-12T13:38:34.806Z"
   },
   {
    "duration": 39,
    "start_time": "2022-04-12T13:38:34.812Z"
   },
   {
    "duration": 44,
    "start_time": "2022-04-12T13:38:34.853Z"
   },
   {
    "duration": 4,
    "start_time": "2022-04-12T13:38:34.899Z"
   },
   {
    "duration": 31,
    "start_time": "2022-04-12T13:38:34.905Z"
   },
   {
    "duration": 29,
    "start_time": "2022-04-12T13:38:34.938Z"
   },
   {
    "duration": 23,
    "start_time": "2022-04-12T13:38:34.970Z"
   },
   {
    "duration": 13,
    "start_time": "2022-04-12T13:38:34.995Z"
   },
   {
    "duration": 140,
    "start_time": "2022-04-12T13:38:35.010Z"
   },
   {
    "duration": 43,
    "start_time": "2022-04-12T13:38:35.152Z"
   },
   {
    "duration": 27,
    "start_time": "2022-04-12T13:38:35.197Z"
   },
   {
    "duration": 37,
    "start_time": "2022-04-12T13:38:35.227Z"
   },
   {
    "duration": 460,
    "start_time": "2022-04-12T13:38:35.266Z"
   },
   {
    "duration": 13,
    "start_time": "2022-04-12T13:38:35.728Z"
   },
   {
    "duration": 11,
    "start_time": "2022-04-12T13:38:35.744Z"
   },
   {
    "duration": 382,
    "start_time": "2022-04-12T13:38:35.757Z"
   },
   {
    "duration": 19,
    "start_time": "2022-04-12T13:38:36.141Z"
   },
   {
    "duration": 11,
    "start_time": "2022-04-12T13:38:36.162Z"
   },
   {
    "duration": 452,
    "start_time": "2022-04-12T13:38:36.176Z"
   },
   {
    "duration": 25,
    "start_time": "2022-04-12T13:38:36.630Z"
   },
   {
    "duration": 12,
    "start_time": "2022-04-12T13:38:36.657Z"
   },
   {
    "duration": 4,
    "start_time": "2022-04-12T13:38:36.671Z"
   },
   {
    "duration": 7,
    "start_time": "2022-04-12T13:38:36.678Z"
   },
   {
    "duration": 6,
    "start_time": "2022-04-12T13:38:36.687Z"
   },
   {
    "duration": 6,
    "start_time": "2022-04-12T13:38:36.695Z"
   },
   {
    "duration": 50,
    "start_time": "2022-04-12T13:38:36.703Z"
   },
   {
    "duration": 5,
    "start_time": "2022-04-12T13:38:36.755Z"
   },
   {
    "duration": 7,
    "start_time": "2022-04-12T13:38:36.762Z"
   },
   {
    "duration": 7,
    "start_time": "2022-04-12T13:38:36.772Z"
   },
   {
    "duration": 6,
    "start_time": "2022-04-12T13:38:36.782Z"
   },
   {
    "duration": 6,
    "start_time": "2022-04-12T13:38:36.790Z"
   },
   {
    "duration": 11,
    "start_time": "2022-04-12T13:38:36.798Z"
   },
   {
    "duration": 42,
    "start_time": "2022-04-12T13:38:36.812Z"
   },
   {
    "duration": 8,
    "start_time": "2022-04-12T13:38:36.856Z"
   },
   {
    "duration": 6,
    "start_time": "2022-04-12T13:38:36.866Z"
   },
   {
    "duration": 9,
    "start_time": "2022-04-12T13:38:36.874Z"
   },
   {
    "duration": 8,
    "start_time": "2022-04-12T13:38:36.885Z"
   },
   {
    "duration": 8,
    "start_time": "2022-04-12T13:38:36.895Z"
   },
   {
    "duration": 6,
    "start_time": "2022-04-12T13:38:36.905Z"
   },
   {
    "duration": 6,
    "start_time": "2022-04-12T13:38:36.951Z"
   },
   {
    "duration": 9,
    "start_time": "2022-04-12T13:38:36.959Z"
   },
   {
    "duration": 6,
    "start_time": "2022-04-12T13:38:36.970Z"
   },
   {
    "duration": 43,
    "start_time": "2022-04-12T13:40:56.617Z"
   },
   {
    "duration": 154,
    "start_time": "2022-04-12T18:29:51.347Z"
   },
   {
    "duration": 314,
    "start_time": "2022-04-12T18:40:27.662Z"
   },
   {
    "duration": 72,
    "start_time": "2022-04-12T18:54:59.319Z"
   },
   {
    "duration": 7,
    "start_time": "2022-04-12T18:55:04.382Z"
   },
   {
    "duration": 1504,
    "start_time": "2022-04-12T18:55:12.218Z"
   },
   {
    "duration": 426,
    "start_time": "2022-04-12T18:55:13.725Z"
   },
   {
    "duration": 13,
    "start_time": "2022-04-12T18:55:14.153Z"
   },
   {
    "duration": 46,
    "start_time": "2022-04-12T18:55:14.168Z"
   },
   {
    "duration": 148,
    "start_time": "2022-04-12T18:55:14.216Z"
   },
   {
    "duration": 10,
    "start_time": "2022-04-12T18:55:14.366Z"
   },
   {
    "duration": 44,
    "start_time": "2022-04-12T18:55:14.377Z"
   },
   {
    "duration": 105,
    "start_time": "2022-04-12T18:55:14.423Z"
   },
   {
    "duration": 8,
    "start_time": "2022-04-12T18:55:14.530Z"
   },
   {
    "duration": 28,
    "start_time": "2022-04-12T18:55:14.541Z"
   },
   {
    "duration": 38,
    "start_time": "2022-04-12T18:55:14.571Z"
   },
   {
    "duration": 43,
    "start_time": "2022-04-12T18:55:14.611Z"
   },
   {
    "duration": 44,
    "start_time": "2022-04-12T18:55:14.656Z"
   },
   {
    "duration": 56,
    "start_time": "2022-04-12T18:55:14.702Z"
   },
   {
    "duration": 16,
    "start_time": "2022-04-12T18:55:14.759Z"
   },
   {
    "duration": 37,
    "start_time": "2022-04-12T18:55:14.777Z"
   },
   {
    "duration": 71,
    "start_time": "2022-04-12T18:55:14.816Z"
   },
   {
    "duration": 31,
    "start_time": "2022-04-12T18:55:14.890Z"
   },
   {
    "duration": 33,
    "start_time": "2022-04-12T18:55:14.923Z"
   },
   {
    "duration": 22,
    "start_time": "2022-04-12T18:55:14.958Z"
   },
   {
    "duration": 75,
    "start_time": "2022-04-12T18:55:14.982Z"
   },
   {
    "duration": 36,
    "start_time": "2022-04-12T18:55:15.059Z"
   },
   {
    "duration": 55,
    "start_time": "2022-04-12T18:55:15.097Z"
   },
   {
    "duration": 11,
    "start_time": "2022-04-12T18:55:15.154Z"
   },
   {
    "duration": 12,
    "start_time": "2022-04-12T18:55:17.925Z"
   },
   {
    "duration": 442,
    "start_time": "2022-04-12T18:55:26.837Z"
   },
   {
    "duration": 421,
    "start_time": "2022-04-12T18:55:45.213Z"
   },
   {
    "duration": 151,
    "start_time": "2022-04-12T18:55:53.849Z"
   },
   {
    "duration": 10,
    "start_time": "2022-04-12T18:56:01.335Z"
   },
   {
    "duration": 480,
    "start_time": "2022-04-12T18:56:53.501Z"
   },
   {
    "duration": 817,
    "start_time": "2022-04-12T18:57:26.500Z"
   },
   {
    "duration": 577,
    "start_time": "2022-04-12T18:57:44.521Z"
   },
   {
    "duration": 147,
    "start_time": "2022-04-12T18:57:59.667Z"
   },
   {
    "duration": 188,
    "start_time": "2022-04-12T18:58:05.075Z"
   },
   {
    "duration": 192,
    "start_time": "2022-04-12T18:58:09.520Z"
   },
   {
    "duration": 249,
    "start_time": "2022-04-12T18:58:12.248Z"
   },
   {
    "duration": 12,
    "start_time": "2022-04-12T18:58:54.693Z"
   },
   {
    "duration": 636,
    "start_time": "2022-04-12T18:59:09.105Z"
   },
   {
    "duration": 11,
    "start_time": "2022-04-12T18:59:20.328Z"
   },
   {
    "duration": 734,
    "start_time": "2022-04-12T19:00:06.485Z"
   },
   {
    "duration": 9,
    "start_time": "2022-04-12T19:00:51.754Z"
   },
   {
    "duration": 632,
    "start_time": "2022-04-12T19:01:02.336Z"
   },
   {
    "duration": 7,
    "start_time": "2022-04-12T19:01:38.667Z"
   },
   {
    "duration": 14,
    "start_time": "2022-04-12T19:01:43.673Z"
   },
   {
    "duration": 7,
    "start_time": "2022-04-12T19:01:46.872Z"
   },
   {
    "duration": 5,
    "start_time": "2022-04-12T19:01:54.827Z"
   },
   {
    "duration": 490,
    "start_time": "2022-04-12T19:02:30.667Z"
   },
   {
    "duration": 4,
    "start_time": "2022-04-12T19:09:11.256Z"
   },
   {
    "duration": 4,
    "start_time": "2022-04-12T19:09:15.576Z"
   },
   {
    "duration": 16,
    "start_time": "2022-04-12T19:10:05.285Z"
   },
   {
    "duration": 17,
    "start_time": "2022-04-12T19:11:03.302Z"
   },
   {
    "duration": 178,
    "start_time": "2022-04-12T19:12:21.409Z"
   },
   {
    "duration": 4,
    "start_time": "2022-04-12T19:12:42.528Z"
   },
   {
    "duration": 38,
    "start_time": "2022-04-12T19:13:01.744Z"
   },
   {
    "duration": 683,
    "start_time": "2022-04-12T19:14:17.164Z"
   },
   {
    "duration": 13,
    "start_time": "2022-04-12T19:15:43.693Z"
   },
   {
    "duration": 12,
    "start_time": "2022-04-12T19:15:46.799Z"
   },
   {
    "duration": 587,
    "start_time": "2022-04-12T19:17:18.998Z"
   },
   {
    "duration": 38,
    "start_time": "2022-04-12T19:17:35.723Z"
   },
   {
    "duration": 662,
    "start_time": "2022-04-12T19:18:22.981Z"
   },
   {
    "duration": 3,
    "start_time": "2022-04-12T19:18:33.785Z"
   },
   {
    "duration": 180,
    "start_time": "2022-04-12T19:18:33.796Z"
   },
   {
    "duration": 9,
    "start_time": "2022-04-12T19:18:33.978Z"
   },
   {
    "duration": 46,
    "start_time": "2022-04-12T19:18:33.989Z"
   },
   {
    "duration": 129,
    "start_time": "2022-04-12T19:18:34.036Z"
   },
   {
    "duration": 9,
    "start_time": "2022-04-12T19:18:34.168Z"
   },
   {
    "duration": 25,
    "start_time": "2022-04-12T19:18:34.179Z"
   },
   {
    "duration": 98,
    "start_time": "2022-04-12T19:18:34.206Z"
   },
   {
    "duration": 8,
    "start_time": "2022-04-12T19:18:34.306Z"
   },
   {
    "duration": 33,
    "start_time": "2022-04-12T19:18:34.316Z"
   },
   {
    "duration": 15,
    "start_time": "2022-04-12T19:18:34.351Z"
   },
   {
    "duration": 9,
    "start_time": "2022-04-12T19:18:34.367Z"
   },
   {
    "duration": 13,
    "start_time": "2022-04-12T19:18:34.377Z"
   },
   {
    "duration": 46,
    "start_time": "2022-04-12T19:18:34.392Z"
   },
   {
    "duration": 10,
    "start_time": "2022-04-12T19:18:34.441Z"
   },
   {
    "duration": 13,
    "start_time": "2022-04-12T19:18:34.452Z"
   },
   {
    "duration": 31,
    "start_time": "2022-04-12T19:18:34.467Z"
   },
   {
    "duration": 40,
    "start_time": "2022-04-12T19:18:34.500Z"
   },
   {
    "duration": 21,
    "start_time": "2022-04-12T19:18:34.542Z"
   },
   {
    "duration": 4,
    "start_time": "2022-04-12T19:18:34.565Z"
   },
   {
    "duration": 43,
    "start_time": "2022-04-12T19:18:34.570Z"
   },
   {
    "duration": 167,
    "start_time": "2022-04-12T19:18:34.614Z"
   },
   {
    "duration": 29,
    "start_time": "2022-04-12T19:18:34.783Z"
   },
   {
    "duration": 22,
    "start_time": "2022-04-12T19:18:34.814Z"
   },
   {
    "duration": 152,
    "start_time": "2022-04-12T19:18:34.838Z"
   },
   {
    "duration": 0,
    "start_time": "2022-04-12T19:18:34.991Z"
   },
   {
    "duration": 0,
    "start_time": "2022-04-12T19:18:34.993Z"
   },
   {
    "duration": 0,
    "start_time": "2022-04-12T19:18:34.994Z"
   },
   {
    "duration": 0,
    "start_time": "2022-04-12T19:18:34.995Z"
   },
   {
    "duration": 3,
    "start_time": "2022-04-12T19:19:25.538Z"
   },
   {
    "duration": 191,
    "start_time": "2022-04-12T19:19:25.543Z"
   },
   {
    "duration": 10,
    "start_time": "2022-04-12T19:19:25.735Z"
   },
   {
    "duration": 32,
    "start_time": "2022-04-12T19:19:25.747Z"
   },
   {
    "duration": 152,
    "start_time": "2022-04-12T19:19:25.781Z"
   },
   {
    "duration": 11,
    "start_time": "2022-04-12T19:19:25.935Z"
   },
   {
    "duration": 40,
    "start_time": "2022-04-12T19:19:25.949Z"
   },
   {
    "duration": 116,
    "start_time": "2022-04-12T19:19:25.992Z"
   },
   {
    "duration": 10,
    "start_time": "2022-04-12T19:19:26.111Z"
   },
   {
    "duration": 42,
    "start_time": "2022-04-12T19:19:26.123Z"
   },
   {
    "duration": 19,
    "start_time": "2022-04-12T19:19:26.168Z"
   },
   {
    "duration": 10,
    "start_time": "2022-04-12T19:19:26.189Z"
   },
   {
    "duration": 17,
    "start_time": "2022-04-12T19:19:26.201Z"
   },
   {
    "duration": 33,
    "start_time": "2022-04-12T19:19:26.234Z"
   },
   {
    "duration": 11,
    "start_time": "2022-04-12T19:19:26.269Z"
   },
   {
    "duration": 20,
    "start_time": "2022-04-12T19:19:26.282Z"
   },
   {
    "duration": 42,
    "start_time": "2022-04-12T19:19:26.305Z"
   },
   {
    "duration": 27,
    "start_time": "2022-04-12T19:19:26.349Z"
   },
   {
    "duration": 21,
    "start_time": "2022-04-12T19:19:26.378Z"
   },
   {
    "duration": 5,
    "start_time": "2022-04-12T19:19:26.401Z"
   },
   {
    "duration": 56,
    "start_time": "2022-04-12T19:19:26.407Z"
   },
   {
    "duration": 31,
    "start_time": "2022-04-12T19:19:26.465Z"
   },
   {
    "duration": 54,
    "start_time": "2022-04-12T19:19:26.498Z"
   },
   {
    "duration": 7,
    "start_time": "2022-04-12T19:19:26.555Z"
   },
   {
    "duration": 45,
    "start_time": "2022-04-12T19:19:26.563Z"
   },
   {
    "duration": 636,
    "start_time": "2022-04-12T19:19:26.610Z"
   },
   {
    "duration": 44,
    "start_time": "2022-04-12T19:19:27.248Z"
   },
   {
    "duration": 731,
    "start_time": "2022-04-12T19:19:27.293Z"
   },
   {
    "duration": 19,
    "start_time": "2022-04-12T19:19:28.025Z"
   },
   {
    "duration": 709,
    "start_time": "2022-04-12T19:19:28.046Z"
   },
   {
    "duration": 10,
    "start_time": "2022-04-12T19:19:28.757Z"
   },
   {
    "duration": 621,
    "start_time": "2022-04-12T19:19:28.769Z"
   },
   {
    "duration": 21,
    "start_time": "2022-04-12T19:21:13.854Z"
   },
   {
    "duration": 15,
    "start_time": "2022-04-12T19:21:30.513Z"
   },
   {
    "duration": 439,
    "start_time": "2022-04-12T19:21:46.447Z"
   },
   {
    "duration": 439,
    "start_time": "2022-04-12T19:22:01.292Z"
   },
   {
    "duration": 463,
    "start_time": "2022-04-12T19:22:31.722Z"
   },
   {
    "duration": 681,
    "start_time": "2022-04-12T19:22:42.879Z"
   },
   {
    "duration": 10,
    "start_time": "2022-04-12T19:24:40.681Z"
   },
   {
    "duration": 21,
    "start_time": "2022-04-12T19:24:42.899Z"
   },
   {
    "duration": 28,
    "start_time": "2022-04-12T19:25:52.969Z"
   },
   {
    "duration": 735,
    "start_time": "2022-04-12T19:26:10.604Z"
   },
   {
    "duration": 8,
    "start_time": "2022-04-12T19:26:36.961Z"
   },
   {
    "duration": 144,
    "start_time": "2022-04-12T19:34:01.677Z"
   },
   {
    "duration": 147,
    "start_time": "2022-04-12T19:34:06.076Z"
   },
   {
    "duration": 143,
    "start_time": "2022-04-12T19:44:29.036Z"
   },
   {
    "duration": 525,
    "start_time": "2022-04-12T19:44:32.927Z"
   },
   {
    "duration": 16,
    "start_time": "2022-04-12T19:47:46.765Z"
   },
   {
    "duration": 14,
    "start_time": "2022-04-12T19:47:52.250Z"
   },
   {
    "duration": 9,
    "start_time": "2022-04-12T19:47:56.181Z"
   },
   {
    "duration": 11,
    "start_time": "2022-04-12T19:48:24.628Z"
   },
   {
    "duration": 12,
    "start_time": "2022-04-12T19:48:43.171Z"
   },
   {
    "duration": 7,
    "start_time": "2022-04-12T19:49:00.933Z"
   },
   {
    "duration": 9,
    "start_time": "2022-04-12T19:49:33.989Z"
   },
   {
    "duration": 1374,
    "start_time": "2022-04-12T19:49:53.687Z"
   },
   {
    "duration": 184,
    "start_time": "2022-04-12T19:49:55.063Z"
   },
   {
    "duration": 14,
    "start_time": "2022-04-12T19:49:55.249Z"
   },
   {
    "duration": 35,
    "start_time": "2022-04-12T19:49:55.266Z"
   },
   {
    "duration": 175,
    "start_time": "2022-04-12T19:49:55.304Z"
   },
   {
    "duration": 11,
    "start_time": "2022-04-12T19:49:55.481Z"
   },
   {
    "duration": 42,
    "start_time": "2022-04-12T19:49:55.494Z"
   },
   {
    "duration": 160,
    "start_time": "2022-04-12T19:49:55.541Z"
   },
   {
    "duration": 31,
    "start_time": "2022-04-12T19:49:55.703Z"
   },
   {
    "duration": 21,
    "start_time": "2022-04-12T19:49:55.737Z"
   },
   {
    "duration": 14,
    "start_time": "2022-04-12T19:49:55.760Z"
   },
   {
    "duration": 9,
    "start_time": "2022-04-12T19:49:55.776Z"
   },
   {
    "duration": 46,
    "start_time": "2022-04-12T19:49:55.787Z"
   },
   {
    "duration": 34,
    "start_time": "2022-04-12T19:49:55.836Z"
   },
   {
    "duration": 11,
    "start_time": "2022-04-12T19:49:55.873Z"
   },
   {
    "duration": 48,
    "start_time": "2022-04-12T19:49:55.886Z"
   },
   {
    "duration": 39,
    "start_time": "2022-04-12T19:49:55.936Z"
   },
   {
    "duration": 26,
    "start_time": "2022-04-12T19:49:55.977Z"
   },
   {
    "duration": 45,
    "start_time": "2022-04-12T19:49:56.005Z"
   },
   {
    "duration": 6,
    "start_time": "2022-04-12T19:49:56.051Z"
   },
   {
    "duration": 54,
    "start_time": "2022-04-12T19:49:56.059Z"
   },
   {
    "duration": 50,
    "start_time": "2022-04-12T19:49:56.115Z"
   },
   {
    "duration": 37,
    "start_time": "2022-04-12T19:49:56.167Z"
   },
   {
    "duration": 30,
    "start_time": "2022-04-12T19:49:56.206Z"
   },
   {
    "duration": 47,
    "start_time": "2022-04-12T19:49:56.238Z"
   },
   {
    "duration": 700,
    "start_time": "2022-04-12T19:49:56.287Z"
   },
   {
    "duration": 50,
    "start_time": "2022-04-12T19:49:56.989Z"
   },
   {
    "duration": 823,
    "start_time": "2022-04-12T19:49:57.044Z"
   },
   {
    "duration": 22,
    "start_time": "2022-04-12T19:49:57.869Z"
   },
   {
    "duration": 509,
    "start_time": "2022-04-12T19:49:57.893Z"
   },
   {
    "duration": 15,
    "start_time": "2022-04-12T19:49:58.404Z"
   },
   {
    "duration": 450,
    "start_time": "2022-04-12T19:49:58.434Z"
   },
   {
    "duration": 9,
    "start_time": "2022-04-12T19:49:58.886Z"
   },
   {
    "duration": 38,
    "start_time": "2022-04-12T19:49:58.896Z"
   },
   {
    "duration": 3,
    "start_time": "2022-04-12T19:49:58.936Z"
   },
   {
    "duration": 22,
    "start_time": "2022-04-12T19:49:58.941Z"
   },
   {
    "duration": 23,
    "start_time": "2022-04-12T19:49:58.966Z"
   },
   {
    "duration": 42,
    "start_time": "2022-04-12T19:49:58.991Z"
   },
   {
    "duration": 4,
    "start_time": "2022-04-12T19:49:59.036Z"
   },
   {
    "duration": 16,
    "start_time": "2022-04-12T19:49:59.041Z"
   },
   {
    "duration": 15,
    "start_time": "2022-04-12T19:49:59.059Z"
   },
   {
    "duration": 15,
    "start_time": "2022-04-12T19:49:59.076Z"
   },
   {
    "duration": 71,
    "start_time": "2022-04-12T19:49:59.093Z"
   },
   {
    "duration": 7,
    "start_time": "2022-04-12T19:49:59.166Z"
   },
   {
    "duration": 47,
    "start_time": "2022-04-12T19:49:59.174Z"
   },
   {
    "duration": 7,
    "start_time": "2022-04-12T19:49:59.234Z"
   },
   {
    "duration": 91,
    "start_time": "2022-04-12T19:49:59.243Z"
   },
   {
    "duration": 32,
    "start_time": "2022-04-12T19:49:59.337Z"
   },
   {
    "duration": 21,
    "start_time": "2022-04-12T19:49:59.371Z"
   },
   {
    "duration": 14,
    "start_time": "2022-04-12T19:49:59.394Z"
   },
   {
    "duration": 270,
    "start_time": "2022-04-12T19:49:59.434Z"
   },
   {
    "duration": 27,
    "start_time": "2022-04-12T19:49:59.706Z"
   },
   {
    "duration": 11,
    "start_time": "2022-04-12T19:49:59.735Z"
   },
   {
    "duration": 271,
    "start_time": "2022-04-12T19:49:59.747Z"
   },
   {
    "duration": 16,
    "start_time": "2022-04-12T19:50:00.020Z"
   },
   {
    "duration": 12,
    "start_time": "2022-04-12T19:50:00.038Z"
   },
   {
    "duration": 284,
    "start_time": "2022-04-12T19:50:00.053Z"
   },
   {
    "duration": 15,
    "start_time": "2022-04-12T19:50:00.339Z"
   },
   {
    "duration": 18,
    "start_time": "2022-04-12T19:50:00.356Z"
   },
   {
    "duration": 5,
    "start_time": "2022-04-12T19:50:00.377Z"
   },
   {
    "duration": 10,
    "start_time": "2022-04-12T19:50:00.384Z"
   },
   {
    "duration": 8,
    "start_time": "2022-04-12T19:50:00.397Z"
   },
   {
    "duration": 29,
    "start_time": "2022-04-12T19:50:00.407Z"
   },
   {
    "duration": 10,
    "start_time": "2022-04-12T19:50:00.439Z"
   },
   {
    "duration": 8,
    "start_time": "2022-04-12T19:50:00.451Z"
   },
   {
    "duration": 7,
    "start_time": "2022-04-12T19:50:00.462Z"
   },
   {
    "duration": 19,
    "start_time": "2022-04-12T19:50:00.471Z"
   },
   {
    "duration": 13,
    "start_time": "2022-04-12T19:50:00.493Z"
   },
   {
    "duration": 13,
    "start_time": "2022-04-12T19:50:00.509Z"
   },
   {
    "duration": 24,
    "start_time": "2022-04-12T19:50:00.524Z"
   },
   {
    "duration": 13,
    "start_time": "2022-04-12T19:50:00.550Z"
   },
   {
    "duration": 13,
    "start_time": "2022-04-12T19:50:00.565Z"
   },
   {
    "duration": 8,
    "start_time": "2022-04-12T19:50:00.581Z"
   },
   {
    "duration": 7,
    "start_time": "2022-04-12T19:50:00.592Z"
   },
   {
    "duration": 12,
    "start_time": "2022-04-12T19:50:00.602Z"
   },
   {
    "duration": 131,
    "start_time": "2022-04-12T19:50:00.616Z"
   },
   {
    "duration": 7,
    "start_time": "2022-04-12T19:50:00.749Z"
   },
   {
    "duration": 7,
    "start_time": "2022-04-12T19:50:00.758Z"
   },
   {
    "duration": 8,
    "start_time": "2022-04-12T19:50:00.767Z"
   },
   {
    "duration": 7,
    "start_time": "2022-04-12T19:50:00.777Z"
   },
   {
    "duration": 116,
    "start_time": "2022-04-12T19:52:36.803Z"
   },
   {
    "duration": 149,
    "start_time": "2022-04-12T19:52:44.300Z"
   },
   {
    "duration": 4,
    "start_time": "2022-04-12T19:52:55.450Z"
   },
   {
    "duration": 5,
    "start_time": "2022-04-12T20:38:20.001Z"
   },
   {
    "duration": 3,
    "start_time": "2022-04-12T20:38:48.135Z"
   },
   {
    "duration": 163,
    "start_time": "2022-04-12T20:38:48.149Z"
   },
   {
    "duration": 10,
    "start_time": "2022-04-12T20:38:48.314Z"
   },
   {
    "duration": 37,
    "start_time": "2022-04-12T20:38:48.334Z"
   },
   {
    "duration": 148,
    "start_time": "2022-04-12T20:38:48.373Z"
   },
   {
    "duration": 9,
    "start_time": "2022-04-12T20:38:48.524Z"
   },
   {
    "duration": 38,
    "start_time": "2022-04-12T20:38:48.535Z"
   },
   {
    "duration": 97,
    "start_time": "2022-04-12T20:38:48.575Z"
   },
   {
    "duration": 7,
    "start_time": "2022-04-12T20:38:48.674Z"
   },
   {
    "duration": 26,
    "start_time": "2022-04-12T20:38:48.682Z"
   },
   {
    "duration": 14,
    "start_time": "2022-04-12T20:38:48.710Z"
   },
   {
    "duration": 22,
    "start_time": "2022-04-12T20:38:48.726Z"
   },
   {
    "duration": 14,
    "start_time": "2022-04-12T20:38:48.750Z"
   },
   {
    "duration": 37,
    "start_time": "2022-04-12T20:38:48.766Z"
   },
   {
    "duration": 10,
    "start_time": "2022-04-12T20:38:48.806Z"
   },
   {
    "duration": 19,
    "start_time": "2022-04-12T20:38:48.818Z"
   },
   {
    "duration": 46,
    "start_time": "2022-04-12T20:38:48.839Z"
   },
   {
    "duration": 24,
    "start_time": "2022-04-12T20:38:48.887Z"
   },
   {
    "duration": 20,
    "start_time": "2022-04-12T20:38:48.913Z"
   },
   {
    "duration": 8,
    "start_time": "2022-04-12T20:38:48.935Z"
   },
   {
    "duration": 41,
    "start_time": "2022-04-12T20:38:48.945Z"
   },
   {
    "duration": 27,
    "start_time": "2022-04-12T20:38:48.989Z"
   },
   {
    "duration": 51,
    "start_time": "2022-04-12T20:38:49.018Z"
   },
   {
    "duration": 8,
    "start_time": "2022-04-12T20:39:01.774Z"
   },
   {
    "duration": 6,
    "start_time": "2022-04-12T20:39:23.961Z"
   },
   {
    "duration": 7,
    "start_time": "2022-04-12T20:39:29.311Z"
   },
   {
    "duration": 2,
    "start_time": "2022-04-12T20:41:30.360Z"
   },
   {
    "duration": 180,
    "start_time": "2022-04-12T20:41:30.369Z"
   },
   {
    "duration": 9,
    "start_time": "2022-04-12T20:41:30.551Z"
   },
   {
    "duration": 32,
    "start_time": "2022-04-12T20:41:30.562Z"
   },
   {
    "duration": 144,
    "start_time": "2022-04-12T20:41:30.597Z"
   },
   {
    "duration": 10,
    "start_time": "2022-04-12T20:41:30.743Z"
   },
   {
    "duration": 39,
    "start_time": "2022-04-12T20:41:30.755Z"
   },
   {
    "duration": 96,
    "start_time": "2022-04-12T20:41:30.796Z"
   },
   {
    "duration": 8,
    "start_time": "2022-04-12T20:41:30.894Z"
   },
   {
    "duration": 31,
    "start_time": "2022-04-12T20:41:30.904Z"
   },
   {
    "duration": 16,
    "start_time": "2022-04-12T20:41:30.937Z"
   },
   {
    "duration": 9,
    "start_time": "2022-04-12T20:41:30.955Z"
   },
   {
    "duration": 30,
    "start_time": "2022-04-12T20:41:30.965Z"
   },
   {
    "duration": 39,
    "start_time": "2022-04-12T20:41:30.997Z"
   },
   {
    "duration": 16,
    "start_time": "2022-04-12T20:41:31.038Z"
   },
   {
    "duration": 20,
    "start_time": "2022-04-12T20:41:31.057Z"
   },
   {
    "duration": 42,
    "start_time": "2022-04-12T20:41:31.079Z"
   },
   {
    "duration": 51,
    "start_time": "2022-04-12T20:41:31.123Z"
   },
   {
    "duration": 20,
    "start_time": "2022-04-12T20:41:31.176Z"
   },
   {
    "duration": 5,
    "start_time": "2022-04-12T20:41:31.198Z"
   },
   {
    "duration": 62,
    "start_time": "2022-04-12T20:41:31.205Z"
   },
   {
    "duration": 28,
    "start_time": "2022-04-12T20:41:31.269Z"
   },
   {
    "duration": 53,
    "start_time": "2022-04-12T20:41:31.298Z"
   },
   {
    "duration": 8,
    "start_time": "2022-04-12T20:41:31.353Z"
   },
   {
    "duration": 6,
    "start_time": "2022-04-12T20:41:34.218Z"
   },
   {
    "duration": 5,
    "start_time": "2022-04-12T20:41:36.110Z"
   },
   {
    "duration": 7,
    "start_time": "2022-04-12T20:41:37.453Z"
   },
   {
    "duration": 3,
    "start_time": "2022-04-12T20:41:49.072Z"
   },
   {
    "duration": 190,
    "start_time": "2022-04-12T20:41:49.079Z"
   },
   {
    "duration": 11,
    "start_time": "2022-04-12T20:41:49.272Z"
   },
   {
    "duration": 49,
    "start_time": "2022-04-12T20:41:49.285Z"
   },
   {
    "duration": 163,
    "start_time": "2022-04-12T20:41:49.337Z"
   },
   {
    "duration": 10,
    "start_time": "2022-04-12T20:41:49.502Z"
   },
   {
    "duration": 35,
    "start_time": "2022-04-12T20:41:49.513Z"
   },
   {
    "duration": 103,
    "start_time": "2022-04-12T20:41:49.550Z"
   },
   {
    "duration": 10,
    "start_time": "2022-04-12T20:41:49.655Z"
   },
   {
    "duration": 40,
    "start_time": "2022-04-12T20:41:49.667Z"
   },
   {
    "duration": 26,
    "start_time": "2022-04-12T20:41:49.710Z"
   },
   {
    "duration": 10,
    "start_time": "2022-04-12T20:41:49.738Z"
   },
   {
    "duration": 14,
    "start_time": "2022-04-12T20:41:49.750Z"
   },
   {
    "duration": 37,
    "start_time": "2022-04-12T20:41:49.766Z"
   },
   {
    "duration": 13,
    "start_time": "2022-04-12T20:41:49.805Z"
   },
   {
    "duration": 22,
    "start_time": "2022-04-12T20:41:49.820Z"
   },
   {
    "duration": 33,
    "start_time": "2022-04-12T20:41:49.844Z"
   },
   {
    "duration": 27,
    "start_time": "2022-04-12T20:41:49.879Z"
   },
   {
    "duration": 24,
    "start_time": "2022-04-12T20:41:49.933Z"
   },
   {
    "duration": 5,
    "start_time": "2022-04-12T20:41:49.959Z"
   },
   {
    "duration": 68,
    "start_time": "2022-04-12T20:41:49.966Z"
   },
   {
    "duration": 42,
    "start_time": "2022-04-12T20:41:50.037Z"
   },
   {
    "duration": 54,
    "start_time": "2022-04-12T20:41:50.081Z"
   },
   {
    "duration": 8,
    "start_time": "2022-04-12T20:41:50.137Z"
   },
   {
    "duration": 4,
    "start_time": "2022-04-12T20:41:52.598Z"
   },
   {
    "duration": 6,
    "start_time": "2022-04-12T20:41:53.398Z"
   },
   {
    "duration": 1303,
    "start_time": "2022-04-12T20:43:13.780Z"
   },
   {
    "duration": 178,
    "start_time": "2022-04-12T20:43:15.085Z"
   },
   {
    "duration": 13,
    "start_time": "2022-04-12T20:43:15.265Z"
   },
   {
    "duration": 28,
    "start_time": "2022-04-12T20:43:15.280Z"
   },
   {
    "duration": 165,
    "start_time": "2022-04-12T20:43:15.309Z"
   },
   {
    "duration": 9,
    "start_time": "2022-04-12T20:43:15.476Z"
   },
   {
    "duration": 27,
    "start_time": "2022-04-12T20:43:15.487Z"
   },
   {
    "duration": 102,
    "start_time": "2022-04-12T20:43:15.516Z"
   },
   {
    "duration": 16,
    "start_time": "2022-04-12T20:43:15.619Z"
   },
   {
    "duration": 41,
    "start_time": "2022-04-12T20:43:15.638Z"
   },
   {
    "duration": 22,
    "start_time": "2022-04-12T20:43:15.681Z"
   },
   {
    "duration": 9,
    "start_time": "2022-04-12T20:43:15.705Z"
   },
   {
    "duration": 19,
    "start_time": "2022-04-12T20:43:15.715Z"
   },
   {
    "duration": 51,
    "start_time": "2022-04-12T20:43:15.736Z"
   },
   {
    "duration": 11,
    "start_time": "2022-04-12T20:43:15.789Z"
   },
   {
    "duration": 19,
    "start_time": "2022-04-12T20:43:15.802Z"
   },
   {
    "duration": 42,
    "start_time": "2022-04-12T20:43:15.823Z"
   },
   {
    "duration": 26,
    "start_time": "2022-04-12T20:43:15.867Z"
   },
   {
    "duration": 23,
    "start_time": "2022-04-12T20:43:15.894Z"
   },
   {
    "duration": 16,
    "start_time": "2022-04-12T20:43:15.919Z"
   },
   {
    "duration": 45,
    "start_time": "2022-04-12T20:43:15.937Z"
   },
   {
    "duration": 29,
    "start_time": "2022-04-12T20:43:15.984Z"
   },
   {
    "duration": 46,
    "start_time": "2022-04-12T20:43:16.015Z"
   },
   {
    "duration": 6,
    "start_time": "2022-04-12T20:43:16.063Z"
   },
   {
    "duration": 63,
    "start_time": "2022-04-12T20:43:16.071Z"
   },
   {
    "duration": 685,
    "start_time": "2022-04-12T20:43:16.136Z"
   },
   {
    "duration": 46,
    "start_time": "2022-04-12T20:43:16.823Z"
   },
   {
    "duration": 791,
    "start_time": "2022-04-12T20:43:16.874Z"
   },
   {
    "duration": 23,
    "start_time": "2022-04-12T20:43:17.667Z"
   },
   {
    "duration": 499,
    "start_time": "2022-04-12T20:43:17.691Z"
   },
   {
    "duration": 17,
    "start_time": "2022-04-12T20:43:18.192Z"
   },
   {
    "duration": 478,
    "start_time": "2022-04-12T20:43:18.212Z"
   },
   {
    "duration": 9,
    "start_time": "2022-04-12T20:43:18.692Z"
   },
   {
    "duration": 17,
    "start_time": "2022-04-12T20:43:18.703Z"
   },
   {
    "duration": 38,
    "start_time": "2022-04-12T20:43:18.722Z"
   },
   {
    "duration": 3,
    "start_time": "2022-04-12T20:43:18.762Z"
   },
   {
    "duration": 19,
    "start_time": "2022-04-12T20:43:18.767Z"
   },
   {
    "duration": 30,
    "start_time": "2022-04-12T20:43:18.788Z"
   },
   {
    "duration": 27,
    "start_time": "2022-04-12T20:43:18.820Z"
   },
   {
    "duration": 4,
    "start_time": "2022-04-12T20:43:18.849Z"
   },
   {
    "duration": 28,
    "start_time": "2022-04-12T20:43:18.854Z"
   },
   {
    "duration": 17,
    "start_time": "2022-04-12T20:43:18.886Z"
   },
   {
    "duration": 14,
    "start_time": "2022-04-12T20:43:18.905Z"
   },
   {
    "duration": 40,
    "start_time": "2022-04-12T20:43:18.921Z"
   },
   {
    "duration": 6,
    "start_time": "2022-04-12T20:43:18.963Z"
   },
   {
    "duration": 36,
    "start_time": "2022-04-12T20:43:18.971Z"
   },
   {
    "duration": 26,
    "start_time": "2022-04-12T20:43:19.008Z"
   },
   {
    "duration": 81,
    "start_time": "2022-04-12T20:43:19.037Z"
   },
   {
    "duration": 42,
    "start_time": "2022-04-12T20:43:19.120Z"
   },
   {
    "duration": 24,
    "start_time": "2022-04-12T20:43:19.165Z"
   },
   {
    "duration": 43,
    "start_time": "2022-04-12T20:43:19.190Z"
   },
   {
    "duration": 275,
    "start_time": "2022-04-12T20:43:19.235Z"
   },
   {
    "duration": 9,
    "start_time": "2022-04-12T20:43:19.512Z"
   },
   {
    "duration": 18,
    "start_time": "2022-04-12T20:43:19.523Z"
   },
   {
    "duration": 271,
    "start_time": "2022-04-12T20:43:19.543Z"
   },
   {
    "duration": 10,
    "start_time": "2022-04-12T20:43:19.816Z"
   },
   {
    "duration": 10,
    "start_time": "2022-04-12T20:43:19.834Z"
   },
   {
    "duration": 275,
    "start_time": "2022-04-12T20:43:19.846Z"
   },
   {
    "duration": 18,
    "start_time": "2022-04-12T20:43:20.123Z"
   },
   {
    "duration": 11,
    "start_time": "2022-04-12T20:43:20.142Z"
   },
   {
    "duration": 4,
    "start_time": "2022-04-12T20:43:20.155Z"
   },
   {
    "duration": 8,
    "start_time": "2022-04-12T20:43:20.161Z"
   },
   {
    "duration": 7,
    "start_time": "2022-04-12T20:43:20.170Z"
   },
   {
    "duration": 14,
    "start_time": "2022-04-12T20:43:20.179Z"
   },
   {
    "duration": 5,
    "start_time": "2022-04-12T20:43:20.195Z"
   },
   {
    "duration": 32,
    "start_time": "2022-04-12T20:43:20.202Z"
   },
   {
    "duration": 7,
    "start_time": "2022-04-12T20:43:20.236Z"
   },
   {
    "duration": 6,
    "start_time": "2022-04-12T20:43:20.245Z"
   },
   {
    "duration": 9,
    "start_time": "2022-04-12T20:43:20.253Z"
   },
   {
    "duration": 7,
    "start_time": "2022-04-12T20:43:20.263Z"
   },
   {
    "duration": 7,
    "start_time": "2022-04-12T20:43:20.272Z"
   },
   {
    "duration": 8,
    "start_time": "2022-04-12T20:43:20.281Z"
   },
   {
    "duration": 42,
    "start_time": "2022-04-12T20:43:20.291Z"
   },
   {
    "duration": 3,
    "start_time": "2022-04-12T20:43:20.335Z"
   },
   {
    "duration": 11,
    "start_time": "2022-04-12T20:43:20.340Z"
   },
   {
    "duration": 8,
    "start_time": "2022-04-12T20:43:20.353Z"
   },
   {
    "duration": 8,
    "start_time": "2022-04-12T20:43:20.362Z"
   },
   {
    "duration": 132,
    "start_time": "2022-04-12T20:43:20.371Z"
   },
   {
    "duration": 8,
    "start_time": "2022-04-12T20:43:20.505Z"
   },
   {
    "duration": 21,
    "start_time": "2022-04-12T20:43:20.515Z"
   },
   {
    "duration": 7,
    "start_time": "2022-04-12T20:43:20.538Z"
   },
   {
    "duration": 1364,
    "start_time": "2022-04-12T21:06:02.045Z"
   },
   {
    "duration": 169,
    "start_time": "2022-04-12T21:06:03.411Z"
   },
   {
    "duration": 13,
    "start_time": "2022-04-12T21:06:03.582Z"
   },
   {
    "duration": 39,
    "start_time": "2022-04-12T21:06:03.598Z"
   },
   {
    "duration": 152,
    "start_time": "2022-04-12T21:06:03.639Z"
   },
   {
    "duration": 10,
    "start_time": "2022-04-12T21:06:03.793Z"
   },
   {
    "duration": 35,
    "start_time": "2022-04-12T21:06:03.805Z"
   },
   {
    "duration": 98,
    "start_time": "2022-04-12T21:06:03.842Z"
   },
   {
    "duration": 9,
    "start_time": "2022-04-12T21:06:03.941Z"
   },
   {
    "duration": 23,
    "start_time": "2022-04-12T21:06:03.953Z"
   },
   {
    "duration": 15,
    "start_time": "2022-04-12T21:06:03.978Z"
   },
   {
    "duration": 10,
    "start_time": "2022-04-12T21:06:03.994Z"
   },
   {
    "duration": 35,
    "start_time": "2022-04-12T21:06:04.006Z"
   },
   {
    "duration": 42,
    "start_time": "2022-04-12T21:06:04.043Z"
   },
   {
    "duration": 16,
    "start_time": "2022-04-12T21:06:04.087Z"
   },
   {
    "duration": 19,
    "start_time": "2022-04-12T21:06:04.105Z"
   },
   {
    "duration": 39,
    "start_time": "2022-04-12T21:06:04.126Z"
   },
   {
    "duration": 26,
    "start_time": "2022-04-12T21:06:04.167Z"
   },
   {
    "duration": 40,
    "start_time": "2022-04-12T21:06:04.195Z"
   },
   {
    "duration": 5,
    "start_time": "2022-04-12T21:06:04.236Z"
   },
   {
    "duration": 49,
    "start_time": "2022-04-12T21:06:04.242Z"
   },
   {
    "duration": 28,
    "start_time": "2022-04-12T21:06:04.292Z"
   },
   {
    "duration": 32,
    "start_time": "2022-04-12T21:06:04.334Z"
   },
   {
    "duration": 6,
    "start_time": "2022-04-12T21:06:04.368Z"
   },
   {
    "duration": 63,
    "start_time": "2022-04-12T21:06:04.376Z"
   },
   {
    "duration": 699,
    "start_time": "2022-04-12T21:06:04.441Z"
   },
   {
    "duration": 42,
    "start_time": "2022-04-12T21:06:05.142Z"
   },
   {
    "duration": 802,
    "start_time": "2022-04-12T21:06:05.189Z"
   },
   {
    "duration": 23,
    "start_time": "2022-04-12T21:06:05.993Z"
   },
   {
    "duration": 493,
    "start_time": "2022-04-12T21:06:06.033Z"
   },
   {
    "duration": 20,
    "start_time": "2022-04-12T21:06:06.528Z"
   },
   {
    "duration": 456,
    "start_time": "2022-04-12T21:06:06.550Z"
   },
   {
    "duration": 10,
    "start_time": "2022-04-12T21:06:07.009Z"
   },
   {
    "duration": 38,
    "start_time": "2022-04-12T21:06:07.020Z"
   },
   {
    "duration": 4,
    "start_time": "2022-04-12T21:06:07.060Z"
   },
   {
    "duration": 16,
    "start_time": "2022-04-12T21:06:07.066Z"
   },
   {
    "duration": 20,
    "start_time": "2022-04-12T21:06:07.084Z"
   },
   {
    "duration": 44,
    "start_time": "2022-04-12T21:06:07.106Z"
   },
   {
    "duration": 4,
    "start_time": "2022-04-12T21:06:07.152Z"
   },
   {
    "duration": 15,
    "start_time": "2022-04-12T21:06:07.158Z"
   },
   {
    "duration": 17,
    "start_time": "2022-04-12T21:06:07.175Z"
   },
   {
    "duration": 50,
    "start_time": "2022-04-12T21:06:07.194Z"
   },
   {
    "duration": 33,
    "start_time": "2022-04-12T21:06:07.247Z"
   },
   {
    "duration": 7,
    "start_time": "2022-04-12T21:06:07.282Z"
   },
   {
    "duration": 61,
    "start_time": "2022-04-12T21:06:07.291Z"
   },
   {
    "duration": 6,
    "start_time": "2022-04-12T21:06:07.355Z"
   },
   {
    "duration": 95,
    "start_time": "2022-04-12T21:06:07.363Z"
   },
   {
    "duration": 32,
    "start_time": "2022-04-12T21:06:07.460Z"
   },
   {
    "duration": 44,
    "start_time": "2022-04-12T21:06:07.495Z"
   },
   {
    "duration": 17,
    "start_time": "2022-04-12T21:06:07.541Z"
   },
   {
    "duration": 270,
    "start_time": "2022-04-12T21:06:07.561Z"
   },
   {
    "duration": 10,
    "start_time": "2022-04-12T21:06:07.833Z"
   },
   {
    "duration": 10,
    "start_time": "2022-04-12T21:06:07.844Z"
   },
   {
    "duration": 270,
    "start_time": "2022-04-12T21:06:07.855Z"
   },
   {
    "duration": 13,
    "start_time": "2022-04-12T21:06:08.127Z"
   },
   {
    "duration": 10,
    "start_time": "2022-04-12T21:06:08.142Z"
   },
   {
    "duration": 279,
    "start_time": "2022-04-12T21:06:08.154Z"
   },
   {
    "duration": 11,
    "start_time": "2022-04-12T21:06:08.435Z"
   },
   {
    "duration": 15,
    "start_time": "2022-04-12T21:06:08.447Z"
   },
   {
    "duration": 6,
    "start_time": "2022-04-12T21:06:08.464Z"
   },
   {
    "duration": 8,
    "start_time": "2022-04-12T21:06:08.471Z"
   },
   {
    "duration": 25,
    "start_time": "2022-04-12T21:06:08.481Z"
   },
   {
    "duration": 28,
    "start_time": "2022-04-12T21:06:08.508Z"
   },
   {
    "duration": 12,
    "start_time": "2022-04-12T21:06:08.538Z"
   },
   {
    "duration": 9,
    "start_time": "2022-04-12T21:06:08.552Z"
   },
   {
    "duration": 7,
    "start_time": "2022-04-12T21:06:08.563Z"
   },
   {
    "duration": 7,
    "start_time": "2022-04-12T21:06:08.572Z"
   },
   {
    "duration": 8,
    "start_time": "2022-04-12T21:06:08.581Z"
   },
   {
    "duration": 8,
    "start_time": "2022-04-12T21:06:08.590Z"
   },
   {
    "duration": 7,
    "start_time": "2022-04-12T21:06:08.600Z"
   },
   {
    "duration": 37,
    "start_time": "2022-04-12T21:06:08.608Z"
   },
   {
    "duration": 13,
    "start_time": "2022-04-12T21:06:08.646Z"
   },
   {
    "duration": 7,
    "start_time": "2022-04-12T21:06:08.661Z"
   },
   {
    "duration": 10,
    "start_time": "2022-04-12T21:06:08.669Z"
   },
   {
    "duration": 9,
    "start_time": "2022-04-12T21:06:08.681Z"
   },
   {
    "duration": 120,
    "start_time": "2022-04-12T21:06:08.692Z"
   },
   {
    "duration": 9,
    "start_time": "2022-04-12T21:06:08.814Z"
   },
   {
    "duration": 10,
    "start_time": "2022-04-12T21:06:08.825Z"
   },
   {
    "duration": 7,
    "start_time": "2022-04-12T21:06:08.837Z"
   },
   {
    "duration": 6,
    "start_time": "2022-04-12T21:06:08.846Z"
   },
   {
    "duration": 4,
    "start_time": "2022-04-12T21:11:58.102Z"
   },
   {
    "duration": 147,
    "start_time": "2022-04-12T21:14:42.544Z"
   },
   {
    "duration": 3,
    "start_time": "2022-04-12T21:14:48.797Z"
   },
   {
    "duration": 3,
    "start_time": "2022-04-12T21:17:36.726Z"
   },
   {
    "duration": 156,
    "start_time": "2022-04-12T21:23:46.403Z"
   },
   {
    "duration": 6,
    "start_time": "2022-04-12T21:29:31.681Z"
   },
   {
    "duration": 6,
    "start_time": "2022-04-12T21:30:12.192Z"
   },
   {
    "duration": 4,
    "start_time": "2022-04-12T21:30:14.441Z"
   },
   {
    "duration": 6,
    "start_time": "2022-04-12T21:30:15.662Z"
   },
   {
    "duration": 3,
    "start_time": "2022-04-12T21:31:43.658Z"
   },
   {
    "duration": 2,
    "start_time": "2022-04-12T21:31:45.135Z"
   },
   {
    "duration": 3,
    "start_time": "2022-04-12T21:31:51.242Z"
   },
   {
    "duration": 167,
    "start_time": "2022-04-12T21:31:51.247Z"
   },
   {
    "duration": 19,
    "start_time": "2022-04-12T21:31:51.416Z"
   },
   {
    "duration": 32,
    "start_time": "2022-04-12T21:31:51.437Z"
   },
   {
    "duration": 153,
    "start_time": "2022-04-12T21:31:51.471Z"
   },
   {
    "duration": 14,
    "start_time": "2022-04-12T21:31:51.626Z"
   },
   {
    "duration": 27,
    "start_time": "2022-04-12T21:31:51.642Z"
   },
   {
    "duration": 100,
    "start_time": "2022-04-12T21:31:51.671Z"
   },
   {
    "duration": 8,
    "start_time": "2022-04-12T21:31:51.773Z"
   },
   {
    "duration": 27,
    "start_time": "2022-04-12T21:31:51.783Z"
   },
   {
    "duration": 21,
    "start_time": "2022-04-12T21:31:51.813Z"
   },
   {
    "duration": 9,
    "start_time": "2022-04-12T21:31:51.836Z"
   },
   {
    "duration": 17,
    "start_time": "2022-04-12T21:31:51.848Z"
   },
   {
    "duration": 37,
    "start_time": "2022-04-12T21:31:51.867Z"
   },
   {
    "duration": 11,
    "start_time": "2022-04-12T21:31:51.906Z"
   },
   {
    "duration": 19,
    "start_time": "2022-04-12T21:31:51.919Z"
   },
   {
    "duration": 54,
    "start_time": "2022-04-12T21:31:51.941Z"
   },
   {
    "duration": 26,
    "start_time": "2022-04-12T21:31:51.997Z"
   },
   {
    "duration": 23,
    "start_time": "2022-04-12T21:31:52.033Z"
   },
   {
    "duration": 5,
    "start_time": "2022-04-12T21:31:52.057Z"
   },
   {
    "duration": 42,
    "start_time": "2022-04-12T21:31:52.064Z"
   },
   {
    "duration": 44,
    "start_time": "2022-04-12T21:31:52.108Z"
   },
   {
    "duration": 30,
    "start_time": "2022-04-12T21:31:52.154Z"
   },
   {
    "duration": 6,
    "start_time": "2022-04-12T21:31:52.186Z"
   },
   {
    "duration": 65,
    "start_time": "2022-04-12T21:31:52.194Z"
   },
   {
    "duration": 615,
    "start_time": "2022-04-12T21:31:52.261Z"
   },
   {
    "duration": 45,
    "start_time": "2022-04-12T21:31:52.878Z"
   },
   {
    "duration": 753,
    "start_time": "2022-04-12T21:31:52.934Z"
   },
   {
    "duration": 22,
    "start_time": "2022-04-12T21:31:53.691Z"
   },
   {
    "duration": 472,
    "start_time": "2022-04-12T21:31:53.715Z"
   },
   {
    "duration": 16,
    "start_time": "2022-04-12T21:31:54.189Z"
   },
   {
    "duration": 425,
    "start_time": "2022-04-12T21:31:54.206Z"
   },
   {
    "duration": 8,
    "start_time": "2022-04-12T21:31:54.633Z"
   },
   {
    "duration": 21,
    "start_time": "2022-04-12T21:31:54.643Z"
   },
   {
    "duration": 3,
    "start_time": "2022-04-12T21:31:54.666Z"
   },
   {
    "duration": 16,
    "start_time": "2022-04-12T21:31:54.671Z"
   },
   {
    "duration": 17,
    "start_time": "2022-04-12T21:31:54.689Z"
   },
   {
    "duration": 17,
    "start_time": "2022-04-12T21:31:54.734Z"
   },
   {
    "duration": 3,
    "start_time": "2022-04-12T21:31:54.753Z"
   },
   {
    "duration": 15,
    "start_time": "2022-04-12T21:31:54.758Z"
   },
   {
    "duration": 15,
    "start_time": "2022-04-12T21:31:54.775Z"
   },
   {
    "duration": 18,
    "start_time": "2022-04-12T21:31:54.791Z"
   },
   {
    "duration": 31,
    "start_time": "2022-04-12T21:31:54.834Z"
   },
   {
    "duration": 4,
    "start_time": "2022-04-12T21:31:54.867Z"
   },
   {
    "duration": 35,
    "start_time": "2022-04-12T21:31:54.873Z"
   },
   {
    "duration": 2,
    "start_time": "2022-04-12T21:31:54.910Z"
   },
   {
    "duration": 8,
    "start_time": "2022-04-12T21:31:54.934Z"
   },
   {
    "duration": 45,
    "start_time": "2022-04-12T21:32:00.593Z"
   },
   {
    "duration": 4,
    "start_time": "2022-04-12T21:32:05.567Z"
   },
   {
    "duration": 7,
    "start_time": "2022-04-12T21:32:06.842Z"
   },
   {
    "duration": 76,
    "start_time": "2022-04-12T21:32:08.202Z"
   },
   {
    "duration": 33,
    "start_time": "2022-04-12T21:32:09.440Z"
   },
   {
    "duration": 3,
    "start_time": "2022-04-12T21:35:09.293Z"
   },
   {
    "duration": 439,
    "start_time": "2022-04-12T21:35:41.170Z"
   },
   {
    "duration": 193,
    "start_time": "2022-04-12T21:35:42.004Z"
   },
   {
    "duration": 6,
    "start_time": "2022-04-12T21:35:45.222Z"
   },
   {
    "duration": 1418,
    "start_time": "2022-04-12T21:35:56.609Z"
   },
   {
    "duration": 162,
    "start_time": "2022-04-12T21:35:58.029Z"
   },
   {
    "duration": 14,
    "start_time": "2022-04-12T21:35:58.819Z"
   },
   {
    "duration": 27,
    "start_time": "2022-04-12T21:35:58.835Z"
   },
   {
    "duration": 152,
    "start_time": "2022-04-12T21:35:58.864Z"
   },
   {
    "duration": 9,
    "start_time": "2022-04-12T21:35:59.019Z"
   },
   {
    "duration": 24,
    "start_time": "2022-04-12T21:35:59.034Z"
   },
   {
    "duration": 100,
    "start_time": "2022-04-12T21:35:59.060Z"
   },
   {
    "duration": 8,
    "start_time": "2022-04-12T21:35:59.162Z"
   },
   {
    "duration": 22,
    "start_time": "2022-04-12T21:35:59.171Z"
   },
   {
    "duration": 14,
    "start_time": "2022-04-12T21:35:59.195Z"
   },
   {
    "duration": 22,
    "start_time": "2022-04-12T21:35:59.212Z"
   },
   {
    "duration": 13,
    "start_time": "2022-04-12T21:35:59.236Z"
   },
   {
    "duration": 36,
    "start_time": "2022-04-12T21:35:59.251Z"
   },
   {
    "duration": 11,
    "start_time": "2022-04-12T21:35:59.289Z"
   },
   {
    "duration": 12,
    "start_time": "2022-04-12T21:35:59.301Z"
   },
   {
    "duration": 41,
    "start_time": "2022-04-12T21:35:59.315Z"
   },
   {
    "duration": 25,
    "start_time": "2022-04-12T21:35:59.358Z"
   },
   {
    "duration": 22,
    "start_time": "2022-04-12T21:35:59.385Z"
   },
   {
    "duration": 24,
    "start_time": "2022-04-12T21:35:59.409Z"
   },
   {
    "duration": 41,
    "start_time": "2022-04-12T21:35:59.435Z"
   },
   {
    "duration": 27,
    "start_time": "2022-04-12T21:35:59.478Z"
   },
   {
    "duration": 54,
    "start_time": "2022-04-12T21:35:59.507Z"
   },
   {
    "duration": 7,
    "start_time": "2022-04-12T21:35:59.563Z"
   },
   {
    "duration": 47,
    "start_time": "2022-04-12T21:35:59.571Z"
   },
   {
    "duration": 692,
    "start_time": "2022-04-12T21:35:59.619Z"
   },
   {
    "duration": 53,
    "start_time": "2022-04-12T21:36:00.313Z"
   },
   {
    "duration": 784,
    "start_time": "2022-04-12T21:36:00.368Z"
   },
   {
    "duration": 22,
    "start_time": "2022-04-12T21:36:01.154Z"
   },
   {
    "duration": 522,
    "start_time": "2022-04-12T21:36:01.181Z"
   },
   {
    "duration": 16,
    "start_time": "2022-04-12T21:36:01.705Z"
   },
   {
    "duration": 463,
    "start_time": "2022-04-12T21:36:01.734Z"
   },
   {
    "duration": 9,
    "start_time": "2022-04-12T21:36:02.200Z"
   },
   {
    "duration": 40,
    "start_time": "2022-04-12T21:36:02.212Z"
   },
   {
    "duration": 4,
    "start_time": "2022-04-12T21:36:02.254Z"
   },
   {
    "duration": 18,
    "start_time": "2022-04-12T21:36:02.261Z"
   },
   {
    "duration": 25,
    "start_time": "2022-04-12T21:36:02.282Z"
   },
   {
    "duration": 42,
    "start_time": "2022-04-12T21:36:02.309Z"
   },
   {
    "duration": 5,
    "start_time": "2022-04-12T21:36:02.353Z"
   },
   {
    "duration": 17,
    "start_time": "2022-04-12T21:36:02.359Z"
   },
   {
    "duration": 22,
    "start_time": "2022-04-12T21:36:02.378Z"
   },
   {
    "duration": 33,
    "start_time": "2022-04-12T21:36:02.402Z"
   },
   {
    "duration": 33,
    "start_time": "2022-04-12T21:36:02.437Z"
   },
   {
    "duration": 7,
    "start_time": "2022-04-12T21:36:02.473Z"
   },
   {
    "duration": 59,
    "start_time": "2022-04-12T21:36:02.481Z"
   },
   {
    "duration": 7,
    "start_time": "2022-04-12T21:36:02.542Z"
   },
   {
    "duration": 95,
    "start_time": "2022-04-12T21:36:02.551Z"
   },
   {
    "duration": 4,
    "start_time": "2022-04-12T21:36:02.648Z"
   },
   {
    "duration": 10,
    "start_time": "2022-04-12T21:36:02.654Z"
   },
   {
    "duration": 37,
    "start_time": "2022-04-12T21:36:02.666Z"
   },
   {
    "duration": 36,
    "start_time": "2022-04-12T21:36:02.705Z"
   },
   {
    "duration": 15,
    "start_time": "2022-04-12T21:36:02.743Z"
   },
   {
    "duration": 273,
    "start_time": "2022-04-12T21:36:02.760Z"
   },
   {
    "duration": 10,
    "start_time": "2022-04-12T21:36:03.035Z"
   },
   {
    "duration": 14,
    "start_time": "2022-04-12T21:36:03.046Z"
   },
   {
    "duration": 267,
    "start_time": "2022-04-12T21:36:03.062Z"
   },
   {
    "duration": 10,
    "start_time": "2022-04-12T21:36:03.333Z"
   },
   {
    "duration": 9,
    "start_time": "2022-04-12T21:36:03.345Z"
   },
   {
    "duration": 270,
    "start_time": "2022-04-12T21:36:03.356Z"
   },
   {
    "duration": 10,
    "start_time": "2022-04-12T21:36:03.633Z"
   },
   {
    "duration": 12,
    "start_time": "2022-04-12T21:36:03.644Z"
   },
   {
    "duration": 4,
    "start_time": "2022-04-12T21:36:03.658Z"
   },
   {
    "duration": 10,
    "start_time": "2022-04-12T21:36:03.664Z"
   },
   {
    "duration": 9,
    "start_time": "2022-04-12T21:36:03.676Z"
   },
   {
    "duration": 15,
    "start_time": "2022-04-12T21:36:03.687Z"
   },
   {
    "duration": 9,
    "start_time": "2022-04-12T21:36:03.704Z"
   },
   {
    "duration": 20,
    "start_time": "2022-04-12T21:36:03.714Z"
   },
   {
    "duration": 10,
    "start_time": "2022-04-12T21:36:03.737Z"
   },
   {
    "duration": 9,
    "start_time": "2022-04-12T21:36:03.749Z"
   },
   {
    "duration": 14,
    "start_time": "2022-04-12T21:36:03.760Z"
   },
   {
    "duration": 14,
    "start_time": "2022-04-12T21:36:03.776Z"
   },
   {
    "duration": 11,
    "start_time": "2022-04-12T21:36:03.792Z"
   },
   {
    "duration": 9,
    "start_time": "2022-04-12T21:36:03.805Z"
   },
   {
    "duration": 8,
    "start_time": "2022-04-12T21:36:03.816Z"
   },
   {
    "duration": 7,
    "start_time": "2022-04-12T21:36:03.826Z"
   },
   {
    "duration": 6,
    "start_time": "2022-04-12T21:36:03.835Z"
   },
   {
    "duration": 9,
    "start_time": "2022-04-12T21:36:03.843Z"
   },
   {
    "duration": 140,
    "start_time": "2022-04-12T21:36:03.854Z"
   },
   {
    "duration": 6,
    "start_time": "2022-04-12T21:36:03.997Z"
   },
   {
    "duration": 6,
    "start_time": "2022-04-12T21:36:04.005Z"
   },
   {
    "duration": 23,
    "start_time": "2022-04-12T21:36:04.013Z"
   },
   {
    "duration": 6,
    "start_time": "2022-04-12T21:36:04.038Z"
   },
   {
    "duration": 1249,
    "start_time": "2022-04-12T21:42:21.129Z"
   },
   {
    "duration": 173,
    "start_time": "2022-04-12T21:42:22.380Z"
   },
   {
    "duration": 14,
    "start_time": "2022-04-12T21:42:22.555Z"
   },
   {
    "duration": 27,
    "start_time": "2022-04-12T21:42:22.571Z"
   },
   {
    "duration": 152,
    "start_time": "2022-04-12T21:42:22.600Z"
   },
   {
    "duration": 10,
    "start_time": "2022-04-12T21:42:22.754Z"
   },
   {
    "duration": 27,
    "start_time": "2022-04-12T21:42:22.765Z"
   },
   {
    "duration": 98,
    "start_time": "2022-04-12T21:42:22.794Z"
   },
   {
    "duration": 7,
    "start_time": "2022-04-12T21:42:22.894Z"
   },
   {
    "duration": 29,
    "start_time": "2022-04-12T21:42:22.904Z"
   },
   {
    "duration": 16,
    "start_time": "2022-04-12T21:42:22.935Z"
   },
   {
    "duration": 8,
    "start_time": "2022-04-12T21:42:22.952Z"
   },
   {
    "duration": 12,
    "start_time": "2022-04-12T21:42:22.962Z"
   },
   {
    "duration": 28,
    "start_time": "2022-04-12T21:42:22.976Z"
   },
   {
    "duration": 10,
    "start_time": "2022-04-12T21:42:23.006Z"
   },
   {
    "duration": 18,
    "start_time": "2022-04-12T21:42:23.017Z"
   },
   {
    "duration": 36,
    "start_time": "2022-04-12T21:42:23.036Z"
   },
   {
    "duration": 25,
    "start_time": "2022-04-12T21:42:23.073Z"
   },
   {
    "duration": 43,
    "start_time": "2022-04-12T21:42:23.100Z"
   },
   {
    "duration": 4,
    "start_time": "2022-04-12T21:42:23.145Z"
   },
   {
    "duration": 44,
    "start_time": "2022-04-12T21:42:23.150Z"
   },
   {
    "duration": 39,
    "start_time": "2022-04-12T21:42:23.195Z"
   },
   {
    "duration": 31,
    "start_time": "2022-04-12T21:42:23.236Z"
   },
   {
    "duration": 6,
    "start_time": "2022-04-12T21:42:23.269Z"
   },
   {
    "duration": 58,
    "start_time": "2022-04-12T21:42:23.277Z"
   },
   {
    "duration": 644,
    "start_time": "2022-04-12T21:42:23.337Z"
   },
   {
    "duration": 38,
    "start_time": "2022-04-12T21:42:23.982Z"
   },
   {
    "duration": 737,
    "start_time": "2022-04-12T21:42:24.033Z"
   },
   {
    "duration": 21,
    "start_time": "2022-04-12T21:42:24.772Z"
   },
   {
    "duration": 472,
    "start_time": "2022-04-12T21:42:24.794Z"
   },
   {
    "duration": 15,
    "start_time": "2022-04-12T21:42:25.268Z"
   },
   {
    "duration": 410,
    "start_time": "2022-04-12T21:42:25.284Z"
   },
   {
    "duration": 8,
    "start_time": "2022-04-12T21:42:25.696Z"
   },
   {
    "duration": 36,
    "start_time": "2022-04-12T21:42:25.705Z"
   },
   {
    "duration": 3,
    "start_time": "2022-04-12T21:42:25.742Z"
   },
   {
    "duration": 16,
    "start_time": "2022-04-12T21:42:25.747Z"
   },
   {
    "duration": 20,
    "start_time": "2022-04-12T21:42:25.765Z"
   },
   {
    "duration": 18,
    "start_time": "2022-04-12T21:42:25.786Z"
   },
   {
    "duration": 29,
    "start_time": "2022-04-12T21:42:25.805Z"
   },
   {
    "duration": 16,
    "start_time": "2022-04-12T21:42:25.836Z"
   },
   {
    "duration": 15,
    "start_time": "2022-04-12T21:42:25.853Z"
   },
   {
    "duration": 14,
    "start_time": "2022-04-12T21:42:25.870Z"
   },
   {
    "duration": 51,
    "start_time": "2022-04-12T21:42:25.886Z"
   },
   {
    "duration": 6,
    "start_time": "2022-04-12T21:42:25.939Z"
   },
   {
    "duration": 31,
    "start_time": "2022-04-12T21:42:25.946Z"
   },
   {
    "duration": 6,
    "start_time": "2022-04-12T21:42:25.978Z"
   },
   {
    "duration": 99,
    "start_time": "2022-04-12T21:42:25.985Z"
   },
   {
    "duration": 3,
    "start_time": "2022-04-12T21:42:26.086Z"
   },
   {
    "duration": 12,
    "start_time": "2022-04-12T21:42:26.091Z"
   },
   {
    "duration": 53,
    "start_time": "2022-04-12T21:42:26.104Z"
   },
   {
    "duration": 20,
    "start_time": "2022-04-12T21:42:26.159Z"
   },
   {
    "duration": 19,
    "start_time": "2022-04-12T21:42:26.181Z"
   },
   {
    "duration": 242,
    "start_time": "2022-04-12T21:42:26.202Z"
   },
   {
    "duration": 9,
    "start_time": "2022-04-12T21:42:26.446Z"
   },
   {
    "duration": 24,
    "start_time": "2022-04-12T21:42:26.457Z"
   },
   {
    "duration": 242,
    "start_time": "2022-04-12T21:42:26.483Z"
   },
   {
    "duration": 15,
    "start_time": "2022-04-12T21:42:26.727Z"
   },
   {
    "duration": 26,
    "start_time": "2022-04-12T21:42:26.744Z"
   },
   {
    "duration": 244,
    "start_time": "2022-04-12T21:42:26.771Z"
   },
   {
    "duration": 9,
    "start_time": "2022-04-12T21:42:27.017Z"
   },
   {
    "duration": 17,
    "start_time": "2022-04-12T21:42:27.034Z"
   },
   {
    "duration": 17,
    "start_time": "2022-04-12T21:42:27.053Z"
   },
   {
    "duration": 30,
    "start_time": "2022-04-12T21:42:27.071Z"
   },
   {
    "duration": 29,
    "start_time": "2022-04-12T21:42:27.102Z"
   },
   {
    "duration": 28,
    "start_time": "2022-04-12T21:42:27.133Z"
   },
   {
    "duration": 30,
    "start_time": "2022-04-12T21:42:27.163Z"
   },
   {
    "duration": 27,
    "start_time": "2022-04-12T21:42:27.195Z"
   },
   {
    "duration": 22,
    "start_time": "2022-04-12T21:42:27.223Z"
   },
   {
    "duration": 23,
    "start_time": "2022-04-12T21:42:27.247Z"
   },
   {
    "duration": 23,
    "start_time": "2022-04-12T21:42:27.271Z"
   },
   {
    "duration": 31,
    "start_time": "2022-04-12T21:42:27.295Z"
   },
   {
    "duration": 29,
    "start_time": "2022-04-12T21:42:27.327Z"
   },
   {
    "duration": 20,
    "start_time": "2022-04-12T21:42:27.357Z"
   },
   {
    "duration": 20,
    "start_time": "2022-04-12T21:42:27.379Z"
   },
   {
    "duration": 24,
    "start_time": "2022-04-12T21:42:27.401Z"
   },
   {
    "duration": 110,
    "start_time": "2022-04-12T21:42:27.427Z"
   },
   {
    "duration": 9,
    "start_time": "2022-04-12T21:42:27.539Z"
   },
   {
    "duration": 14,
    "start_time": "2022-04-12T21:42:27.550Z"
   },
   {
    "duration": 15,
    "start_time": "2022-04-12T21:42:27.566Z"
   },
   {
    "duration": 18,
    "start_time": "2022-04-12T21:42:27.583Z"
   },
   {
    "duration": 16,
    "start_time": "2022-04-12T21:42:27.602Z"
   },
   {
    "duration": 16,
    "start_time": "2022-04-12T21:42:27.624Z"
   },
   {
    "duration": 72,
    "start_time": "2022-04-13T13:20:35.791Z"
   },
   {
    "duration": 1745,
    "start_time": "2022-04-13T13:20:42.789Z"
   },
   {
    "duration": 194,
    "start_time": "2022-04-13T13:20:44.536Z"
   },
   {
    "duration": 26,
    "start_time": "2022-04-13T13:20:44.733Z"
   },
   {
    "duration": 35,
    "start_time": "2022-04-13T13:20:44.762Z"
   },
   {
    "duration": 183,
    "start_time": "2022-04-13T13:20:44.799Z"
   },
   {
    "duration": 12,
    "start_time": "2022-04-13T13:20:44.984Z"
   },
   {
    "duration": 29,
    "start_time": "2022-04-13T13:20:44.998Z"
   },
   {
    "duration": 131,
    "start_time": "2022-04-13T13:20:45.030Z"
   },
   {
    "duration": 10,
    "start_time": "2022-04-13T13:20:45.163Z"
   },
   {
    "duration": 34,
    "start_time": "2022-04-13T13:20:45.177Z"
   },
   {
    "duration": 13,
    "start_time": "2022-04-13T13:20:45.214Z"
   },
   {
    "duration": 30,
    "start_time": "2022-04-13T13:20:45.230Z"
   },
   {
    "duration": 15,
    "start_time": "2022-04-13T13:20:45.262Z"
   },
   {
    "duration": 19,
    "start_time": "2022-04-13T13:20:45.280Z"
   },
   {
    "duration": 15,
    "start_time": "2022-04-13T13:20:45.301Z"
   },
   {
    "duration": 43,
    "start_time": "2022-04-13T13:20:45.319Z"
   },
   {
    "duration": 52,
    "start_time": "2022-04-13T13:20:45.364Z"
   },
   {
    "duration": 52,
    "start_time": "2022-04-13T13:20:45.418Z"
   },
   {
    "duration": 30,
    "start_time": "2022-04-13T13:20:45.473Z"
   },
   {
    "duration": 5,
    "start_time": "2022-04-13T13:20:45.506Z"
   },
   {
    "duration": 82,
    "start_time": "2022-04-13T13:20:45.514Z"
   },
   {
    "duration": 37,
    "start_time": "2022-04-13T13:20:45.598Z"
   },
   {
    "duration": 55,
    "start_time": "2022-04-13T13:20:45.637Z"
   },
   {
    "duration": 6,
    "start_time": "2022-04-13T13:20:45.695Z"
   },
   {
    "duration": 74,
    "start_time": "2022-04-13T13:20:45.703Z"
   },
   {
    "duration": 1022,
    "start_time": "2022-04-13T13:20:45.779Z"
   },
   {
    "duration": 63,
    "start_time": "2022-04-13T13:20:46.803Z"
   },
   {
    "duration": 1072,
    "start_time": "2022-04-13T13:20:46.872Z"
   },
   {
    "duration": 28,
    "start_time": "2022-04-13T13:20:47.946Z"
   },
   {
    "duration": 707,
    "start_time": "2022-04-13T13:20:47.977Z"
   },
   {
    "duration": 21,
    "start_time": "2022-04-13T13:20:48.686Z"
   },
   {
    "duration": 651,
    "start_time": "2022-04-13T13:20:48.710Z"
   },
   {
    "duration": 12,
    "start_time": "2022-04-13T13:20:49.363Z"
   },
   {
    "duration": 32,
    "start_time": "2022-04-13T13:20:49.377Z"
   },
   {
    "duration": 3,
    "start_time": "2022-04-13T13:20:49.412Z"
   },
   {
    "duration": 45,
    "start_time": "2022-04-13T13:20:49.417Z"
   },
   {
    "duration": 32,
    "start_time": "2022-04-13T13:20:49.464Z"
   },
   {
    "duration": 22,
    "start_time": "2022-04-13T13:20:49.498Z"
   },
   {
    "duration": 4,
    "start_time": "2022-04-13T13:20:49.522Z"
   },
   {
    "duration": 19,
    "start_time": "2022-04-13T13:20:49.552Z"
   },
   {
    "duration": 26,
    "start_time": "2022-04-13T13:20:49.574Z"
   },
   {
    "duration": 20,
    "start_time": "2022-04-13T13:20:49.602Z"
   },
   {
    "duration": 69,
    "start_time": "2022-04-13T13:20:49.625Z"
   },
   {
    "duration": 24,
    "start_time": "2022-04-13T13:20:49.696Z"
   },
   {
    "duration": 53,
    "start_time": "2022-04-13T13:20:49.722Z"
   },
   {
    "duration": 8,
    "start_time": "2022-04-13T13:20:49.777Z"
   },
   {
    "duration": 135,
    "start_time": "2022-04-13T13:20:49.787Z"
   },
   {
    "duration": 12,
    "start_time": "2022-04-13T13:20:49.924Z"
   },
   {
    "duration": 9,
    "start_time": "2022-04-13T13:20:49.952Z"
   },
   {
    "duration": 8,
    "start_time": "2022-04-13T13:20:49.963Z"
   },
   {
    "duration": 7,
    "start_time": "2022-04-13T13:20:49.973Z"
   },
   {
    "duration": 46,
    "start_time": "2022-04-13T13:20:49.982Z"
   },
   {
    "duration": 47,
    "start_time": "2022-04-13T13:20:50.030Z"
   },
   {
    "duration": 19,
    "start_time": "2022-04-13T13:20:50.079Z"
   },
   {
    "duration": 372,
    "start_time": "2022-04-13T13:20:50.100Z"
   },
   {
    "duration": 11,
    "start_time": "2022-04-13T13:20:50.474Z"
   },
   {
    "duration": 19,
    "start_time": "2022-04-13T13:20:50.487Z"
   },
   {
    "duration": 380,
    "start_time": "2022-04-13T13:20:50.508Z"
   },
   {
    "duration": 11,
    "start_time": "2022-04-13T13:20:50.890Z"
   },
   {
    "duration": 17,
    "start_time": "2022-04-13T13:20:50.903Z"
   },
   {
    "duration": 474,
    "start_time": "2022-04-13T13:20:50.923Z"
   },
   {
    "duration": 12,
    "start_time": "2022-04-13T13:20:51.399Z"
   },
   {
    "duration": 12,
    "start_time": "2022-04-13T13:20:51.413Z"
   },
   {
    "duration": 26,
    "start_time": "2022-04-13T13:20:51.427Z"
   },
   {
    "duration": 7,
    "start_time": "2022-04-13T13:20:51.455Z"
   },
   {
    "duration": 9,
    "start_time": "2022-04-13T13:20:51.464Z"
   },
   {
    "duration": 6,
    "start_time": "2022-04-13T13:20:51.475Z"
   },
   {
    "duration": 7,
    "start_time": "2022-04-13T13:20:51.483Z"
   },
   {
    "duration": 5,
    "start_time": "2022-04-13T13:20:51.492Z"
   },
   {
    "duration": 8,
    "start_time": "2022-04-13T13:20:51.499Z"
   },
   {
    "duration": 43,
    "start_time": "2022-04-13T13:20:51.509Z"
   },
   {
    "duration": 8,
    "start_time": "2022-04-13T13:20:51.554Z"
   },
   {
    "duration": 11,
    "start_time": "2022-04-13T13:20:51.564Z"
   },
   {
    "duration": 10,
    "start_time": "2022-04-13T13:20:51.578Z"
   },
   {
    "duration": 8,
    "start_time": "2022-04-13T13:20:51.590Z"
   },
   {
    "duration": 7,
    "start_time": "2022-04-13T13:20:51.601Z"
   },
   {
    "duration": 11,
    "start_time": "2022-04-13T13:20:51.611Z"
   },
   {
    "duration": 149,
    "start_time": "2022-04-13T13:20:51.624Z"
   },
   {
    "duration": 7,
    "start_time": "2022-04-13T13:20:51.775Z"
   },
   {
    "duration": 6,
    "start_time": "2022-04-13T13:20:51.785Z"
   },
   {
    "duration": 7,
    "start_time": "2022-04-13T13:20:51.794Z"
   },
   {
    "duration": 44,
    "start_time": "2022-04-13T13:20:51.809Z"
   },
   {
    "duration": 10,
    "start_time": "2022-04-13T13:20:51.855Z"
   },
   {
    "duration": 7,
    "start_time": "2022-04-13T13:20:51.868Z"
   },
   {
    "duration": 6,
    "start_time": "2022-04-13T13:21:53.427Z"
   },
   {
    "duration": 1091,
    "start_time": "2022-07-23T20:31:12.951Z"
   },
   {
    "duration": 246,
    "start_time": "2022-07-23T20:31:14.044Z"
   },
   {
    "duration": 12,
    "start_time": "2022-07-23T20:31:14.292Z"
   },
   {
    "duration": 27,
    "start_time": "2022-07-23T20:31:14.307Z"
   },
   {
    "duration": 312,
    "start_time": "2022-07-23T20:31:14.336Z"
   },
   {
    "duration": 10,
    "start_time": "2022-07-23T20:31:14.650Z"
   },
   {
    "duration": 24,
    "start_time": "2022-07-23T20:31:14.661Z"
   },
   {
    "duration": 315,
    "start_time": "2022-07-23T20:31:14.687Z"
   },
   {
    "duration": 8,
    "start_time": "2022-07-23T20:31:15.004Z"
   },
   {
    "duration": 39,
    "start_time": "2022-07-23T20:31:15.014Z"
   },
   {
    "duration": 77,
    "start_time": "2022-07-23T20:31:15.055Z"
   },
   {
    "duration": 8,
    "start_time": "2022-07-23T20:31:15.133Z"
   },
   {
    "duration": 33,
    "start_time": "2022-07-23T20:31:15.143Z"
   },
   {
    "duration": 65,
    "start_time": "2022-07-23T20:31:15.177Z"
   },
   {
    "duration": 10,
    "start_time": "2022-07-23T20:31:15.244Z"
   },
   {
    "duration": 34,
    "start_time": "2022-07-23T20:31:15.255Z"
   },
   {
    "duration": 34,
    "start_time": "2022-07-23T20:31:15.291Z"
   },
   {
    "duration": 24,
    "start_time": "2022-07-23T20:31:15.326Z"
   },
   {
    "duration": 22,
    "start_time": "2022-07-23T20:31:15.352Z"
   },
   {
    "duration": 10,
    "start_time": "2022-07-23T20:31:15.375Z"
   },
   {
    "duration": 56,
    "start_time": "2022-07-23T20:31:15.386Z"
   },
   {
    "duration": 23,
    "start_time": "2022-07-23T20:31:15.444Z"
   },
   {
    "duration": 48,
    "start_time": "2022-07-23T20:31:15.469Z"
   },
   {
    "duration": 7,
    "start_time": "2022-07-23T20:31:15.519Z"
   },
   {
    "duration": 46,
    "start_time": "2022-07-23T20:31:15.528Z"
   },
   {
    "duration": 694,
    "start_time": "2022-07-23T20:31:15.576Z"
   },
   {
    "duration": 49,
    "start_time": "2022-07-23T20:31:16.273Z"
   },
   {
    "duration": 771,
    "start_time": "2022-07-23T20:31:16.327Z"
   },
   {
    "duration": 28,
    "start_time": "2022-07-23T20:31:17.099Z"
   },
   {
    "duration": 456,
    "start_time": "2022-07-23T20:31:17.129Z"
   },
   {
    "duration": 26,
    "start_time": "2022-07-23T20:31:17.587Z"
   },
   {
    "duration": 425,
    "start_time": "2022-07-23T20:31:17.615Z"
   },
   {
    "duration": 8,
    "start_time": "2022-07-23T20:31:18.041Z"
   },
   {
    "duration": 41,
    "start_time": "2022-07-23T20:31:18.051Z"
   },
   {
    "duration": 9,
    "start_time": "2022-07-23T20:31:18.094Z"
   },
   {
    "duration": 18,
    "start_time": "2022-07-23T20:31:18.106Z"
   },
   {
    "duration": 21,
    "start_time": "2022-07-23T20:31:18.126Z"
   },
   {
    "duration": 14,
    "start_time": "2022-07-23T20:31:18.148Z"
   },
   {
    "duration": 4,
    "start_time": "2022-07-23T20:31:18.163Z"
   },
   {
    "duration": 35,
    "start_time": "2022-07-23T20:31:18.169Z"
   },
   {
    "duration": 15,
    "start_time": "2022-07-23T20:31:18.205Z"
   },
   {
    "duration": 12,
    "start_time": "2022-07-23T20:31:18.222Z"
   },
   {
    "duration": 35,
    "start_time": "2022-07-23T20:31:18.235Z"
   },
   {
    "duration": 7,
    "start_time": "2022-07-23T20:31:18.272Z"
   },
   {
    "duration": 49,
    "start_time": "2022-07-23T20:31:18.280Z"
   },
   {
    "duration": 5,
    "start_time": "2022-07-23T20:31:18.331Z"
   },
   {
    "duration": 84,
    "start_time": "2022-07-23T20:31:18.338Z"
   },
   {
    "duration": 3,
    "start_time": "2022-07-23T20:31:18.424Z"
   },
   {
    "duration": 10,
    "start_time": "2022-07-23T20:31:18.429Z"
   },
   {
    "duration": 30,
    "start_time": "2022-07-23T20:31:18.441Z"
   },
   {
    "duration": 21,
    "start_time": "2022-07-23T20:31:18.473Z"
   },
   {
    "duration": 14,
    "start_time": "2022-07-23T20:31:18.509Z"
   },
   {
    "duration": 248,
    "start_time": "2022-07-23T20:31:18.524Z"
   },
   {
    "duration": 10,
    "start_time": "2022-07-23T20:31:18.774Z"
   },
   {
    "duration": 28,
    "start_time": "2022-07-23T20:31:18.786Z"
   },
   {
    "duration": 260,
    "start_time": "2022-07-23T20:31:18.816Z"
   },
   {
    "duration": 9,
    "start_time": "2022-07-23T20:31:19.078Z"
   },
   {
    "duration": 40,
    "start_time": "2022-07-23T20:31:19.088Z"
   },
   {
    "duration": 253,
    "start_time": "2022-07-23T20:31:19.129Z"
   },
   {
    "duration": 8,
    "start_time": "2022-07-23T20:31:19.384Z"
   },
   {
    "duration": 31,
    "start_time": "2022-07-23T20:31:19.394Z"
   },
   {
    "duration": 23,
    "start_time": "2022-07-23T20:31:19.427Z"
   },
   {
    "duration": 29,
    "start_time": "2022-07-23T20:31:19.452Z"
   },
   {
    "duration": 27,
    "start_time": "2022-07-23T20:31:19.483Z"
   },
   {
    "duration": 26,
    "start_time": "2022-07-23T20:31:19.512Z"
   },
   {
    "duration": 21,
    "start_time": "2022-07-23T20:31:19.540Z"
   },
   {
    "duration": 22,
    "start_time": "2022-07-23T20:31:19.563Z"
   },
   {
    "duration": 21,
    "start_time": "2022-07-23T20:31:19.587Z"
   },
   {
    "duration": 26,
    "start_time": "2022-07-23T20:31:19.610Z"
   },
   {
    "duration": 21,
    "start_time": "2022-07-23T20:31:19.638Z"
   },
   {
    "duration": 28,
    "start_time": "2022-07-23T20:31:19.660Z"
   },
   {
    "duration": 32,
    "start_time": "2022-07-23T20:31:19.690Z"
   },
   {
    "duration": 18,
    "start_time": "2022-07-23T20:31:19.724Z"
   },
   {
    "duration": 22,
    "start_time": "2022-07-23T20:31:19.743Z"
   },
   {
    "duration": 26,
    "start_time": "2022-07-23T20:31:19.767Z"
   },
   {
    "duration": 11,
    "start_time": "2022-07-23T20:31:19.899Z"
   },
   {
    "duration": 30,
    "start_time": "2022-07-23T20:31:19.912Z"
   },
   {
    "duration": 8,
    "start_time": "2022-07-23T20:31:19.944Z"
   },
   {
    "duration": 20,
    "start_time": "2022-07-23T20:31:19.954Z"
   },
   {
    "duration": 20,
    "start_time": "2022-07-23T20:31:19.976Z"
   },
   {
    "duration": 34,
    "start_time": "2022-07-23T20:31:19.998Z"
   },
   {
    "duration": 20,
    "start_time": "2022-07-23T20:31:20.037Z"
   },
   {
    "duration": 14,
    "start_time": "2022-07-23T20:31:32.410Z"
   }
  ],
  "kernelspec": {
   "display_name": "Python 3",
   "language": "python",
   "name": "python3"
  },
  "language_info": {
   "codemirror_mode": {
    "name": "ipython",
    "version": 3
   },
   "file_extension": ".py",
   "mimetype": "text/x-python",
   "name": "python",
   "nbconvert_exporter": "python",
   "pygments_lexer": "ipython3",
   "version": "3.8.5"
  },
  "toc": {
   "base_numbering": 1,
   "nav_menu": {},
   "number_sections": false,
   "sideBar": true,
   "skip_h1_title": false,
   "title_cell": "Table of Contents",
   "title_sidebar": "Contents",
   "toc_cell": false,
   "toc_position": {
    "height": "calc(100% - 180px)",
    "left": "10px",
    "top": "150px",
    "width": "400.208px"
   },
   "toc_section_display": true,
   "toc_window_display": true
  }
 },
 "nbformat": 4,
 "nbformat_minor": 2
}
